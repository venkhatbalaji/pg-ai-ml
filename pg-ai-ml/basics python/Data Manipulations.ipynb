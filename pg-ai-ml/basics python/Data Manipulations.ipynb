{
 "cells": [
  {
   "cell_type": "markdown",
   "id": "80968682-3789-4af5-9f25-2e455b29cefc",
   "metadata": {},
   "source": [
    "# Data Manupilation"
   ]
  },
  {
   "cell_type": "markdown",
   "id": "1e2a7b7e-0d7b-4c23-98ec-f231a50d9799",
   "metadata": {},
   "source": [
    "## NumPy"
   ]
  },
  {
   "cell_type": "code",
   "execution_count": 2,
   "id": "5d47155c-3948-483e-99dd-449cf1b6bfca",
   "metadata": {},
   "outputs": [],
   "source": [
    "import numpy as np"
   ]
  },
  {
   "cell_type": "code",
   "execution_count": 6,
   "id": "c4ca17eb-2fee-4747-93ff-fed7397a3683",
   "metadata": {},
   "outputs": [
    {
     "name": "stdout",
     "output_type": "stream",
     "text": [
      "['Cricket' 'Football' 'Tennis' 'Golf' 'Baseball']\n"
     ]
    }
   ],
   "source": [
    "sports = ['Cricket', 'Football', 'Tennis', 'Golf', 'Baseball']\n",
    "sports_new = np.array(sports)\n",
    "print(sports_new)"
   ]
  },
  {
   "cell_type": "code",
   "execution_count": 7,
   "id": "944dc1be-5572-428a-84f4-59d0d020c2f3",
   "metadata": {},
   "outputs": [
    {
     "name": "stdout",
     "output_type": "stream",
     "text": [
      "[[1 2 1]\n",
      " [4 5 9]\n",
      " [1 8 9]]\n"
     ]
    }
   ],
   "source": [
    "mat = np.array([[1,2,1],[4,5,9],[1,8,9]])\n",
    "print(mat)"
   ]
  },
  {
   "cell_type": "code",
   "execution_count": 8,
   "id": "fa4123dd-b4b7-48eb-b6e0-b3a6f905529e",
   "metadata": {},
   "outputs": [
    {
     "name": "stdout",
     "output_type": "stream",
     "text": [
      "[[ 0  1  2]\n",
      " [ 3  4  5]\n",
      " [ 6  7  8]\n",
      " [ 9 10 11]]\n"
     ]
    }
   ],
   "source": [
    "vec1 = np.arange(0, 12)\n",
    "vec2 = vec1.reshape(4, 3)\n",
    "print(vec2)"
   ]
  },
  {
   "cell_type": "code",
   "execution_count": 18,
   "id": "c735038c-200f-465c-8546-bf7e4d199f3d",
   "metadata": {},
   "outputs": [
    {
     "ename": "ValueError",
     "evalue": "operands could not be broadcast together with shapes (4,) (3,) ",
     "output_type": "error",
     "traceback": [
      "\u001b[1;31m---------------------------------------------------------------------------\u001b[0m",
      "\u001b[1;31mValueError\u001b[0m                                Traceback (most recent call last)",
      "Cell \u001b[1;32mIn[18], line 3\u001b[0m\n\u001b[0;32m      1\u001b[0m vec1 \u001b[38;5;241m=\u001b[39m np\u001b[38;5;241m.\u001b[39mlinspace(\u001b[38;5;241m20\u001b[39m,\u001b[38;5;241m50\u001b[39m,\u001b[38;5;241m4\u001b[39m)\n\u001b[0;32m      2\u001b[0m vec2 \u001b[38;5;241m=\u001b[39m np\u001b[38;5;241m.\u001b[39mlinspace(\u001b[38;5;241m100\u001b[39m,\u001b[38;5;241m120\u001b[39m,\u001b[38;5;241m3\u001b[39m)\n\u001b[1;32m----> 3\u001b[0m \u001b[38;5;28mprint\u001b[39m(vec1 \u001b[38;5;241m+\u001b[39m vec2)\n",
      "\u001b[1;31mValueError\u001b[0m: operands could not be broadcast together with shapes (4,) (3,) "
     ]
    }
   ],
   "source": [
    "vec1 = np.linspace(20,50,4)\n",
    "vec2 = np.linspace(100,120,3)\n",
    "print(vec1 + vec2)"
   ]
  },
  {
   "cell_type": "code",
   "execution_count": 14,
   "id": "01a667c4-2217-4193-ad3e-67b1fa1729e8",
   "metadata": {},
   "outputs": [
    {
     "name": "stdout",
     "output_type": "stream",
     "text": [
      "[0.5        0.33333333 0.25      ]\n",
      "[ 4  9 16]\n"
     ]
    }
   ],
   "source": [
    "vec = np.arange(2,5,1)\n",
    "print(1/vec)\n",
    "print(vec**2)"
   ]
  },
  {
   "cell_type": "code",
   "execution_count": 16,
   "id": "87bbe9c2-2e95-4873-a415-c1b55b812207",
   "metadata": {},
   "outputs": [
    {
     "name": "stdout",
     "output_type": "stream",
     "text": [
      "[[1 2]\n",
      " [3 4]] [[1. 0.]\n",
      " [0. 1.]]\n"
     ]
    }
   ],
   "source": [
    "mat1 = np.arange(1,5).reshape(2,2)\n",
    "mat2 = np.eye(2)\n",
    "print(mat1, mat2)"
   ]
  },
  {
   "cell_type": "code",
   "execution_count": 19,
   "id": "44d5237a-96c9-4195-b0ae-754020134169",
   "metadata": {},
   "outputs": [
    {
     "name": "stdout",
     "output_type": "stream",
     "text": [
      "[[-9 -8 -7]\n",
      " [-6 -5 -4]\n",
      " [-3 -2 -1]]\n",
      "-9\n",
      "-1\n"
     ]
    }
   ],
   "source": [
    "mat1 = np.arange(-9,0,1).reshape(3,3)\n",
    "print(mat1)\n",
    "print(np.min(mat1))\n",
    "print(np.max(mat1))"
   ]
  },
  {
   "cell_type": "code",
   "execution_count": 31,
   "id": "120c4d4b-4b26-40a7-b9e7-b9be7dc5f706",
   "metadata": {},
   "outputs": [
    {
     "name": "stdout",
     "output_type": "stream",
     "text": [
      "[[1 2 3]\n",
      " [0 0 0]\n",
      " [0 0 0]]\n"
     ]
    }
   ],
   "source": [
    "matrix = np.arange(1,10).reshape(3,3)\n",
    "matrix[1:3,0:3] = 0\n",
    "print(matrix)"
   ]
  },
  {
   "cell_type": "code",
   "execution_count": 36,
   "id": "1f50856f-1d04-4cd6-aa3a-7fc580fc25cd",
   "metadata": {},
   "outputs": [
    {
     "name": "stdout",
     "output_type": "stream",
     "text": [
      "[[ 7  8]\n",
      " [11 12]]\n"
     ]
    }
   ],
   "source": [
    "matrix = np.arange(1,17).reshape(4,4)\n",
    "print(matrix[1:3,2:4])"
   ]
  },
  {
   "cell_type": "code",
   "execution_count": 38,
   "id": "69206878-b104-4157-872f-4c8ae995631d",
   "metadata": {},
   "outputs": [],
   "source": [
    "array = np.arange(1, 10).reshape(3, 3)\n",
    "np.save('my_array.npy', array)"
   ]
  },
  {
   "cell_type": "code",
   "execution_count": 40,
   "id": "6e905e04-51dc-4d12-9009-e4474d128c5f",
   "metadata": {},
   "outputs": [
    {
     "name": "stdout",
     "output_type": "stream",
     "text": [
      "[[1 2 3]\n",
      " [4 5 6]\n",
      " [7 8 9]]\n"
     ]
    }
   ],
   "source": [
    "loaded_array = np.load('my_array.npy')\n",
    "print(loaded_array)"
   ]
  },
  {
   "cell_type": "markdown",
   "id": "f8ab06b8-a337-4143-99c0-8bfc46d44bd5",
   "metadata": {},
   "source": [
    "## Panda"
   ]
  },
  {
   "cell_type": "code",
   "execution_count": 3,
   "id": "0e282d27-9e12-4c5e-8833-babbfa6552d0",
   "metadata": {},
   "outputs": [],
   "source": [
    "import pandas as pd"
   ]
  },
  {
   "cell_type": "code",
   "execution_count": 4,
   "id": "4c0c009e-c1c4-4d65-929d-2b8192824da2",
   "metadata": {},
   "outputs": [
    {
     "name": "stdout",
     "output_type": "stream",
     "text": [
      "Empty DataFrame\n",
      "Columns: []\n",
      "Index: []\n"
     ]
    }
   ],
   "source": [
    "print(pd.DataFrame())\n"
   ]
  },
  {
   "cell_type": "code",
   "execution_count": 12,
   "id": "40ae2875-33f0-4a9e-8da8-418136106861",
   "metadata": {},
   "outputs": [
    {
     "data": {
      "text/html": [
       "<div>\n",
       "<style scoped>\n",
       "    .dataframe tbody tr th:only-of-type {\n",
       "        vertical-align: middle;\n",
       "    }\n",
       "\n",
       "    .dataframe tbody tr th {\n",
       "        vertical-align: top;\n",
       "    }\n",
       "\n",
       "    .dataframe thead th {\n",
       "        text-align: right;\n",
       "    }\n",
       "</style>\n",
       "<table border=\"1\" class=\"dataframe\">\n",
       "  <thead>\n",
       "    <tr style=\"text-align: right;\">\n",
       "      <th></th>\n",
       "      <th>name</th>\n",
       "      <th>city</th>\n",
       "      <th>age</th>\n",
       "      <th>py-score</th>\n",
       "    </tr>\n",
       "  </thead>\n",
       "  <tbody>\n",
       "    <tr>\n",
       "      <th>101</th>\n",
       "      <td>Xavier</td>\n",
       "      <td>Mexico City</td>\n",
       "      <td>41</td>\n",
       "      <td>88.0</td>\n",
       "    </tr>\n",
       "    <tr>\n",
       "      <th>102</th>\n",
       "      <td>Ann</td>\n",
       "      <td>Toronto</td>\n",
       "      <td>28</td>\n",
       "      <td>79.0</td>\n",
       "    </tr>\n",
       "    <tr>\n",
       "      <th>103</th>\n",
       "      <td>Jana</td>\n",
       "      <td>Prague</td>\n",
       "      <td>33</td>\n",
       "      <td>81.0</td>\n",
       "    </tr>\n",
       "    <tr>\n",
       "      <th>104</th>\n",
       "      <td>Yi</td>\n",
       "      <td>Shanghai</td>\n",
       "      <td>34</td>\n",
       "      <td>80.0</td>\n",
       "    </tr>\n",
       "    <tr>\n",
       "      <th>105</th>\n",
       "      <td>Robin</td>\n",
       "      <td>Manchester</td>\n",
       "      <td>38</td>\n",
       "      <td>68.0</td>\n",
       "    </tr>\n",
       "    <tr>\n",
       "      <th>106</th>\n",
       "      <td>Amal</td>\n",
       "      <td>Cairo</td>\n",
       "      <td>31</td>\n",
       "      <td>61.0</td>\n",
       "    </tr>\n",
       "    <tr>\n",
       "      <th>107</th>\n",
       "      <td>Nori</td>\n",
       "      <td>Osaka</td>\n",
       "      <td>37</td>\n",
       "      <td>84.0</td>\n",
       "    </tr>\n",
       "  </tbody>\n",
       "</table>\n",
       "</div>"
      ],
      "text/plain": [
       "       name         city  age  py-score\n",
       "101  Xavier  Mexico City   41      88.0\n",
       "102     Ann      Toronto   28      79.0\n",
       "103    Jana       Prague   33      81.0\n",
       "104      Yi     Shanghai   34      80.0\n",
       "105   Robin   Manchester   38      68.0\n",
       "106    Amal        Cairo   31      61.0\n",
       "107    Nori        Osaka   37      84.0"
      ]
     },
     "execution_count": 12,
     "metadata": {},
     "output_type": "execute_result"
    }
   ],
   "source": [
    "data = {\n",
    "'name': ['Xavier', 'Ann', 'Jana', 'Yi', 'Robin', 'Amal', 'Nori'],\n",
    "'city': ['Mexico City', 'Toronto', 'Prague', 'Shanghai','Manchester', 'Cairo', 'Osaka'],\n",
    "'age': [41, 28, 33, 34, 38, 31, 37],\n",
    "'py-score': [88.0, 79.0, 81.0, 80.0, 68.0, 61.0, 84.0]\n",
    "}\n",
    "row_labels = [101, 102, 103, 104, 105, 106, 107]\n",
    "df = pd.DataFrame(data=data, index=row_labels)\n",
    "df"
   ]
  },
  {
   "cell_type": "code",
   "execution_count": 8,
   "id": "b7aecd69-9883-452f-b58b-78e05dfda80c",
   "metadata": {},
   "outputs": [
    {
     "data": {
      "text/plain": [
       "day1    31\n",
       "day2    28\n",
       "day3    30\n",
       "day4    32\n",
       "dtype: int64"
      ]
     },
     "execution_count": 8,
     "metadata": {},
     "output_type": "execute_result"
    }
   ],
   "source": [
    "day = ['day1', 'day2', 'day3', 'day4']\n",
    "temperature = [31, 28, 30, 32] #temperature in degree Celsius\n",
    "temp_data = pd.Series(temperature, index=day)\n",
    "temp_data"
   ]
  },
  {
   "cell_type": "code",
   "execution_count": 7,
   "id": "44504035-e273-4d91-b3d8-4b7043df7ba9",
   "metadata": {},
   "outputs": [
    {
     "data": {
      "text/plain": [
       "30"
      ]
     },
     "execution_count": 7,
     "metadata": {},
     "output_type": "execute_result"
    }
   ],
   "source": [
    "temp_data['day3']"
   ]
  },
  {
   "cell_type": "code",
   "execution_count": 11,
   "id": "50698052-5b5e-4c15-9bfc-9bf3fdaa1e3e",
   "metadata": {},
   "outputs": [
    {
     "data": {
      "text/plain": [
       "day3    30\n",
       "day4    32\n",
       "dtype: int64"
      ]
     },
     "execution_count": 11,
     "metadata": {},
     "output_type": "execute_result"
    }
   ],
   "source": [
    "temp_data[2:]"
   ]
  },
  {
   "cell_type": "code",
   "execution_count": 5,
   "id": "6378bb05-a01e-40cc-bf4a-ca2aac200497",
   "metadata": {},
   "outputs": [
    {
     "data": {
      "text/html": [
       "<div>\n",
       "<style scoped>\n",
       "    .dataframe tbody tr th:only-of-type {\n",
       "        vertical-align: middle;\n",
       "    }\n",
       "\n",
       "    .dataframe tbody tr th {\n",
       "        vertical-align: top;\n",
       "    }\n",
       "\n",
       "    .dataframe thead th {\n",
       "        text-align: right;\n",
       "    }\n",
       "</style>\n",
       "<table border=\"1\" class=\"dataframe\">\n",
       "  <thead>\n",
       "    <tr style=\"text-align: right;\">\n",
       "      <th></th>\n",
       "      <th>day</th>\n",
       "      <th>calories</th>\n",
       "      <th>duration_min</th>\n",
       "    </tr>\n",
       "  </thead>\n",
       "  <tbody>\n",
       "    <tr>\n",
       "      <th>0</th>\n",
       "      <td>day1</td>\n",
       "      <td>450</td>\n",
       "      <td>30</td>\n",
       "    </tr>\n",
       "    <tr>\n",
       "      <th>1</th>\n",
       "      <td>day2</td>\n",
       "      <td>300</td>\n",
       "      <td>25</td>\n",
       "    </tr>\n",
       "    <tr>\n",
       "      <th>2</th>\n",
       "      <td>day3</td>\n",
       "      <td>345</td>\n",
       "      <td>29</td>\n",
       "    </tr>\n",
       "    <tr>\n",
       "      <th>3</th>\n",
       "      <td>day4</td>\n",
       "      <td>520</td>\n",
       "      <td>39</td>\n",
       "    </tr>\n",
       "    <tr>\n",
       "      <th>4</th>\n",
       "      <td>day5</td>\n",
       "      <td>600</td>\n",
       "      <td>48</td>\n",
       "    </tr>\n",
       "  </tbody>\n",
       "</table>\n",
       "</div>"
      ],
      "text/plain": [
       "    day  calories  duration_min\n",
       "0  day1       450            30\n",
       "1  day2       300            25\n",
       "2  day3       345            29\n",
       "3  day4       520            39\n",
       "4  day5       600            48"
      ]
     },
     "execution_count": 5,
     "metadata": {},
     "output_type": "execute_result"
    }
   ],
   "source": [
    "calorie_data = pd.DataFrame({'day': ['day1','day2','day3','day4','day5']\n",
    "                           ,'calories': [450, 300, 345, 520, 600]\n",
    "                           ,'duration_min': [30, 25, 29, 39, 48]\n",
    "                           })\n",
    "calorie_data"
   ]
  },
  {
   "cell_type": "code",
   "execution_count": 14,
   "id": "154f3a15-a8d1-4283-beae-5bb534bf0179",
   "metadata": {},
   "outputs": [
    {
     "data": {
      "text/html": [
       "<div>\n",
       "<style scoped>\n",
       "    .dataframe tbody tr th:only-of-type {\n",
       "        vertical-align: middle;\n",
       "    }\n",
       "\n",
       "    .dataframe tbody tr th {\n",
       "        vertical-align: top;\n",
       "    }\n",
       "\n",
       "    .dataframe thead th {\n",
       "        text-align: right;\n",
       "    }\n",
       "</style>\n",
       "<table border=\"1\" class=\"dataframe\">\n",
       "  <thead>\n",
       "    <tr style=\"text-align: right;\">\n",
       "      <th></th>\n",
       "      <th>day</th>\n",
       "      <th>calories</th>\n",
       "      <th>duration_min</th>\n",
       "    </tr>\n",
       "  </thead>\n",
       "  <tbody>\n",
       "    <tr>\n",
       "      <th>0</th>\n",
       "      <td>day1</td>\n",
       "      <td>450</td>\n",
       "      <td>30</td>\n",
       "    </tr>\n",
       "    <tr>\n",
       "      <th>1</th>\n",
       "      <td>day2</td>\n",
       "      <td>300</td>\n",
       "      <td>25</td>\n",
       "    </tr>\n",
       "  </tbody>\n",
       "</table>\n",
       "</div>"
      ],
      "text/plain": [
       "    day  calories  duration_min\n",
       "0  day1       450            30\n",
       "1  day2       300            25"
      ]
     },
     "execution_count": 14,
     "metadata": {},
     "output_type": "execute_result"
    }
   ],
   "source": [
    "calorie_data[:2]"
   ]
  },
  {
   "cell_type": "code",
   "execution_count": 15,
   "id": "15d4bcfb-3a54-43ee-9155-bd1e902fe127",
   "metadata": {},
   "outputs": [
    {
     "data": {
      "text/plain": [
       "0    450\n",
       "1    300\n",
       "2    345\n",
       "3    520\n",
       "4    600\n",
       "Name: calories, dtype: int64"
      ]
     },
     "execution_count": 15,
     "metadata": {},
     "output_type": "execute_result"
    }
   ],
   "source": [
    "calorie_data['calories']"
   ]
  },
  {
   "cell_type": "code",
   "execution_count": 16,
   "id": "c17f9e02-dace-47c0-aa3d-df7af9ebec2a",
   "metadata": {},
   "outputs": [
    {
     "data": {
      "text/html": [
       "<div>\n",
       "<style scoped>\n",
       "    .dataframe tbody tr th:only-of-type {\n",
       "        vertical-align: middle;\n",
       "    }\n",
       "\n",
       "    .dataframe tbody tr th {\n",
       "        vertical-align: top;\n",
       "    }\n",
       "\n",
       "    .dataframe thead th {\n",
       "        text-align: right;\n",
       "    }\n",
       "</style>\n",
       "<table border=\"1\" class=\"dataframe\">\n",
       "  <thead>\n",
       "    <tr style=\"text-align: right;\">\n",
       "      <th></th>\n",
       "      <th>day</th>\n",
       "      <th>calories</th>\n",
       "      <th>duration_min</th>\n",
       "    </tr>\n",
       "  </thead>\n",
       "  <tbody>\n",
       "    <tr>\n",
       "      <th>0</th>\n",
       "      <td>day1</td>\n",
       "      <td>450</td>\n",
       "      <td>30</td>\n",
       "    </tr>\n",
       "    <tr>\n",
       "      <th>2</th>\n",
       "      <td>day3</td>\n",
       "      <td>345</td>\n",
       "      <td>29</td>\n",
       "    </tr>\n",
       "    <tr>\n",
       "      <th>4</th>\n",
       "      <td>day5</td>\n",
       "      <td>600</td>\n",
       "      <td>48</td>\n",
       "    </tr>\n",
       "  </tbody>\n",
       "</table>\n",
       "</div>"
      ],
      "text/plain": [
       "    day  calories  duration_min\n",
       "0  day1       450            30\n",
       "2  day3       345            29\n",
       "4  day5       600            48"
      ]
     },
     "execution_count": 16,
     "metadata": {},
     "output_type": "execute_result"
    }
   ],
   "source": [
    "calorie_data[::2]"
   ]
  },
  {
   "cell_type": "code",
   "execution_count": 20,
   "id": "789cfcc9-6086-4fc1-adad-62d0166bf9de",
   "metadata": {},
   "outputs": [
    {
     "data": {
      "text/plain": [
       "day             day1\n",
       "calories         450\n",
       "duration_min      30\n",
       "Name: 0, dtype: object"
      ]
     },
     "execution_count": 20,
     "metadata": {},
     "output_type": "execute_result"
    }
   ],
   "source": [
    "calorie_data.loc[0]"
   ]
  },
  {
   "cell_type": "code",
   "execution_count": 21,
   "id": "a8c18faf-d559-4792-bb02-adc001c44a76",
   "metadata": {},
   "outputs": [
    {
     "data": {
      "text/html": [
       "<div>\n",
       "<style scoped>\n",
       "    .dataframe tbody tr th:only-of-type {\n",
       "        vertical-align: middle;\n",
       "    }\n",
       "\n",
       "    .dataframe tbody tr th {\n",
       "        vertical-align: top;\n",
       "    }\n",
       "\n",
       "    .dataframe thead th {\n",
       "        text-align: right;\n",
       "    }\n",
       "</style>\n",
       "<table border=\"1\" class=\"dataframe\">\n",
       "  <thead>\n",
       "    <tr style=\"text-align: right;\">\n",
       "      <th></th>\n",
       "      <th>calories</th>\n",
       "    </tr>\n",
       "  </thead>\n",
       "  <tbody>\n",
       "    <tr>\n",
       "      <th>1</th>\n",
       "      <td>300</td>\n",
       "    </tr>\n",
       "    <tr>\n",
       "      <th>2</th>\n",
       "      <td>345</td>\n",
       "    </tr>\n",
       "  </tbody>\n",
       "</table>\n",
       "</div>"
      ],
      "text/plain": [
       "   calories\n",
       "1       300\n",
       "2       345"
      ]
     },
     "execution_count": 21,
     "metadata": {},
     "output_type": "execute_result"
    }
   ],
   "source": [
    "calorie_data.loc[[1,2],['calories']]"
   ]
  },
  {
   "cell_type": "code",
   "execution_count": 22,
   "id": "83d189d7-fd56-4215-ab16-43e64349769d",
   "metadata": {},
   "outputs": [
    {
     "data": {
      "text/html": [
       "<div>\n",
       "<style scoped>\n",
       "    .dataframe tbody tr th:only-of-type {\n",
       "        vertical-align: middle;\n",
       "    }\n",
       "\n",
       "    .dataframe tbody tr th {\n",
       "        vertical-align: top;\n",
       "    }\n",
       "\n",
       "    .dataframe thead th {\n",
       "        text-align: right;\n",
       "    }\n",
       "</style>\n",
       "<table border=\"1\" class=\"dataframe\">\n",
       "  <thead>\n",
       "    <tr style=\"text-align: right;\">\n",
       "      <th></th>\n",
       "      <th>calories</th>\n",
       "    </tr>\n",
       "  </thead>\n",
       "  <tbody>\n",
       "    <tr>\n",
       "      <th>1</th>\n",
       "      <td>300</td>\n",
       "    </tr>\n",
       "    <tr>\n",
       "      <th>2</th>\n",
       "      <td>345</td>\n",
       "    </tr>\n",
       "  </tbody>\n",
       "</table>\n",
       "</div>"
      ],
      "text/plain": [
       "   calories\n",
       "1       300\n",
       "2       345"
      ]
     },
     "execution_count": 22,
     "metadata": {},
     "output_type": "execute_result"
    }
   ],
   "source": [
    "calorie_data.iloc[[1,2],[1]]"
   ]
  },
  {
   "cell_type": "code",
   "execution_count": 23,
   "id": "b752803a-bdea-42ef-93f1-8d830909845e",
   "metadata": {},
   "outputs": [
    {
     "data": {
      "text/html": [
       "<div>\n",
       "<style scoped>\n",
       "    .dataframe tbody tr th:only-of-type {\n",
       "        vertical-align: middle;\n",
       "    }\n",
       "\n",
       "    .dataframe tbody tr th {\n",
       "        vertical-align: top;\n",
       "    }\n",
       "\n",
       "    .dataframe thead th {\n",
       "        text-align: right;\n",
       "    }\n",
       "</style>\n",
       "<table border=\"1\" class=\"dataframe\">\n",
       "  <thead>\n",
       "    <tr style=\"text-align: right;\">\n",
       "      <th></th>\n",
       "      <th>day</th>\n",
       "      <th>calories</th>\n",
       "      <th>duration_min</th>\n",
       "    </tr>\n",
       "  </thead>\n",
       "  <tbody>\n",
       "    <tr>\n",
       "      <th>3</th>\n",
       "      <td>day4</td>\n",
       "      <td>520</td>\n",
       "      <td>39</td>\n",
       "    </tr>\n",
       "    <tr>\n",
       "      <th>4</th>\n",
       "      <td>day5</td>\n",
       "      <td>600</td>\n",
       "      <td>48</td>\n",
       "    </tr>\n",
       "  </tbody>\n",
       "</table>\n",
       "</div>"
      ],
      "text/plain": [
       "    day  calories  duration_min\n",
       "3  day4       520            39\n",
       "4  day5       600            48"
      ]
     },
     "execution_count": 23,
     "metadata": {},
     "output_type": "execute_result"
    }
   ],
   "source": [
    "calorie_data.loc[calorie_data['calories']>500]"
   ]
  },
  {
   "cell_type": "code",
   "execution_count": 26,
   "id": "c804e618-38a1-4572-a6cc-b4a106c9ab7c",
   "metadata": {},
   "outputs": [
    {
     "name": "stdout",
     "output_type": "stream",
     "text": [
      "2022-01-29\n"
     ]
    }
   ],
   "source": [
    "import datetime\n",
    "date = datetime.date(2022, 1, 29)\n",
    "print(date)"
   ]
  },
  {
   "cell_type": "code",
   "execution_count": 28,
   "id": "d226dc64-3520-4894-9009-f08b29f98b21",
   "metadata": {},
   "outputs": [
    {
     "data": {
      "text/plain": [
       "0     3.14\n",
       "1       pi\n",
       "2    2.718\n",
       "dtype: object"
      ]
     },
     "execution_count": 28,
     "metadata": {},
     "output_type": "execute_result"
    }
   ],
   "source": [
    "bucket = [3.14, 'pi', 2.718]\n",
    "\n",
    "a = pd.Series(bucket)\n",
    "a"
   ]
  },
  {
   "cell_type": "code",
   "execution_count": 29,
   "id": "c49371ac-2601-4989-a7f9-f80ef8de59eb",
   "metadata": {},
   "outputs": [],
   "source": [
    "df = pd.DataFrame({\n",
    "    \"Age\": [25, 34, 45, 29, 52],\n",
    "    \"Sex\": [\"Male\", \"Female\", \"Male\", \"Female\", \"Male\"],\n",
    "    \"Job\": [\"Skilled\", \"Unskilled & Non-resident\", \"Highly Skilled\", \"Skilled\", \"Unskilled & Non-resident\"],\n",
    "    \"Housing\": [\"Own\", \"Rent\", \"Free\", \"Own\", \"Rent\"],\n",
    "    \"Saving accounts\": [\"Little\", \"Moderate\", \"Rich\", \"Quite Rich\", \"Moderate\"],\n",
    "    \"Checking account\": [\"Little\", \"Moderate\", \"Rich\", \"Moderate\", \"Little\"],\n",
    "    \"Credit amount\": [5000, 10000, 15000, 8000, 12000],\n",
    "    \"Purpose\": [\"Car\", \"Education\", \"Business\", \"Furniture/Equipment\", \"Vacation/Others\"]\n",
    "})\n",
    "\n",
    "df.to_csv('data.csv',index=False)"
   ]
  },
  {
   "cell_type": "code",
   "execution_count": 34,
   "id": "e9f2c3df-50fc-4453-8f25-7bba37dfaffc",
   "metadata": {},
   "outputs": [
    {
     "data": {
      "text/plain": [
       "'Quite Rich'"
      ]
     },
     "execution_count": 34,
     "metadata": {},
     "output_type": "execute_result"
    }
   ],
   "source": [
    "value = df.iloc[3, 4]\n",
    "value"
   ]
  },
  {
   "cell_type": "code",
   "execution_count": 35,
   "id": "8512589e-dcb1-4f37-a82a-2e11a3158f1e",
   "metadata": {},
   "outputs": [
    {
     "data": {
      "text/plain": [
       "0    True\n",
       "1    True\n",
       "2    True\n",
       "3    True\n",
       "4    True\n",
       "Name: Age, dtype: bool"
      ]
     },
     "execution_count": 35,
     "metadata": {},
     "output_type": "execute_result"
    }
   ],
   "source": [
    "age_filtered = df['Age'] > 23\n",
    "age_filtered"
   ]
  },
  {
   "cell_type": "code",
   "execution_count": 41,
   "id": "8fe1d574-e21d-4f56-a4f4-d9fdc05b3c41",
   "metadata": {},
   "outputs": [
    {
     "data": {
      "text/html": [
       "<div>\n",
       "<style scoped>\n",
       "    .dataframe tbody tr th:only-of-type {\n",
       "        vertical-align: middle;\n",
       "    }\n",
       "\n",
       "    .dataframe tbody tr th {\n",
       "        vertical-align: top;\n",
       "    }\n",
       "\n",
       "    .dataframe thead th {\n",
       "        text-align: right;\n",
       "    }\n",
       "</style>\n",
       "<table border=\"1\" class=\"dataframe\">\n",
       "  <thead>\n",
       "    <tr style=\"text-align: right;\">\n",
       "      <th></th>\n",
       "      <th>Age</th>\n",
       "      <th>Sex</th>\n",
       "      <th>Job</th>\n",
       "      <th>Housing</th>\n",
       "      <th>Saving accounts</th>\n",
       "      <th>Checking account</th>\n",
       "      <th>Credit amount</th>\n",
       "      <th>Purpose</th>\n",
       "      <th>result</th>\n",
       "    </tr>\n",
       "  </thead>\n",
       "  <tbody>\n",
       "    <tr>\n",
       "      <th>0</th>\n",
       "      <td>25</td>\n",
       "      <td>Male</td>\n",
       "      <td>Skilled</td>\n",
       "      <td>Own</td>\n",
       "      <td>Little</td>\n",
       "      <td>Little</td>\n",
       "      <td>5000</td>\n",
       "      <td>Car</td>\n",
       "      <td>True</td>\n",
       "    </tr>\n",
       "    <tr>\n",
       "      <th>1</th>\n",
       "      <td>34</td>\n",
       "      <td>Female</td>\n",
       "      <td>Unskilled &amp; Non-resident</td>\n",
       "      <td>Rent</td>\n",
       "      <td>Moderate</td>\n",
       "      <td>Moderate</td>\n",
       "      <td>10000</td>\n",
       "      <td>Education</td>\n",
       "      <td>True</td>\n",
       "    </tr>\n",
       "    <tr>\n",
       "      <th>2</th>\n",
       "      <td>45</td>\n",
       "      <td>Male</td>\n",
       "      <td>Highly Skilled</td>\n",
       "      <td>Free</td>\n",
       "      <td>Rich</td>\n",
       "      <td>Rich</td>\n",
       "      <td>15000</td>\n",
       "      <td>Business</td>\n",
       "      <td>True</td>\n",
       "    </tr>\n",
       "    <tr>\n",
       "      <th>3</th>\n",
       "      <td>29</td>\n",
       "      <td>Female</td>\n",
       "      <td>Skilled</td>\n",
       "      <td>Own</td>\n",
       "      <td>Quite Rich</td>\n",
       "      <td>Moderate</td>\n",
       "      <td>8000</td>\n",
       "      <td>Furniture/Equipment</td>\n",
       "      <td>True</td>\n",
       "    </tr>\n",
       "    <tr>\n",
       "      <th>4</th>\n",
       "      <td>52</td>\n",
       "      <td>Male</td>\n",
       "      <td>Unskilled &amp; Non-resident</td>\n",
       "      <td>Rent</td>\n",
       "      <td>Moderate</td>\n",
       "      <td>Little</td>\n",
       "      <td>12000</td>\n",
       "      <td>Vacation/Others</td>\n",
       "      <td>True</td>\n",
       "    </tr>\n",
       "  </tbody>\n",
       "</table>\n",
       "</div>"
      ],
      "text/plain": [
       "   Age     Sex                       Job Housing Saving accounts  \\\n",
       "0   25    Male                   Skilled     Own          Little   \n",
       "1   34  Female  Unskilled & Non-resident    Rent        Moderate   \n",
       "2   45    Male            Highly Skilled    Free            Rich   \n",
       "3   29  Female                   Skilled     Own      Quite Rich   \n",
       "4   52    Male  Unskilled & Non-resident    Rent        Moderate   \n",
       "\n",
       "  Checking account  Credit amount              Purpose  result  \n",
       "0           Little           5000                  Car    True  \n",
       "1         Moderate          10000            Education    True  \n",
       "2             Rich          15000             Business    True  \n",
       "3         Moderate           8000  Furniture/Equipment    True  \n",
       "4           Little          12000      Vacation/Others    True  "
      ]
     },
     "execution_count": 41,
     "metadata": {},
     "output_type": "execute_result"
    }
   ],
   "source": [
    "result = df[age_filtered]\n",
    "result"
   ]
  },
  {
   "cell_type": "code",
   "execution_count": 42,
   "id": "98d6c438-9e61-41ba-a18e-0f4c60026b19",
   "metadata": {},
   "outputs": [
    {
     "data": {
      "text/plain": [
       "37.0"
      ]
     },
     "execution_count": 42,
     "metadata": {},
     "output_type": "execute_result"
    }
   ],
   "source": [
    "mean = df['Age'].mean()\n",
    "mean"
   ]
  },
  {
   "cell_type": "code",
   "execution_count": 45,
   "id": "643318bc-3e53-49d0-84e8-ef3f517eec2a",
   "metadata": {},
   "outputs": [
    {
     "data": {
      "text/plain": [
       "5000"
      ]
     },
     "execution_count": 45,
     "metadata": {},
     "output_type": "execute_result"
    }
   ],
   "source": [
    "min_amount = df['Credit amount'].min()\n",
    "min_amount"
   ]
  },
  {
   "cell_type": "code",
   "execution_count": 49,
   "id": "d7919d8f-e34c-4a72-9a8a-e5bae6e6d51c",
   "metadata": {},
   "outputs": [
    {
     "name": "stdout",
     "output_type": "stream",
     "text": [
      "<pandas.core.groupby.generic.DataFrameGroupBy object at 0x0000015DDC2FC4A0>\n"
     ]
    }
   ],
   "source": [
    "group = df.groupby('Sex')\n",
    "min_age = group['Age'].min()\n",
    "min_age"
   ]
  },
  {
   "cell_type": "code",
   "execution_count": 50,
   "id": "b05ae43b-38ec-40db-9ce8-6c74286bb598",
   "metadata": {},
   "outputs": [
    {
     "data": {
      "text/html": [
       "<div>\n",
       "<style scoped>\n",
       "    .dataframe tbody tr th:only-of-type {\n",
       "        vertical-align: middle;\n",
       "    }\n",
       "\n",
       "    .dataframe tbody tr th {\n",
       "        vertical-align: top;\n",
       "    }\n",
       "\n",
       "    .dataframe thead th {\n",
       "        text-align: right;\n",
       "    }\n",
       "</style>\n",
       "<table border=\"1\" class=\"dataframe\">\n",
       "  <thead>\n",
       "    <tr style=\"text-align: right;\">\n",
       "      <th></th>\n",
       "      <th>Age_x</th>\n",
       "      <th>Sex</th>\n",
       "      <th>Job_x</th>\n",
       "      <th>Housing_x</th>\n",
       "      <th>Saving accounts_x</th>\n",
       "      <th>Checking account_x</th>\n",
       "      <th>Credit amount_x</th>\n",
       "      <th>Purpose_x</th>\n",
       "      <th>result_x</th>\n",
       "      <th>Age_y</th>\n",
       "      <th>Job_y</th>\n",
       "      <th>Housing_y</th>\n",
       "      <th>Saving accounts_y</th>\n",
       "      <th>Checking account_y</th>\n",
       "      <th>Credit amount_y</th>\n",
       "      <th>Purpose_y</th>\n",
       "      <th>result_y</th>\n",
       "    </tr>\n",
       "  </thead>\n",
       "  <tbody>\n",
       "    <tr>\n",
       "      <th>0</th>\n",
       "      <td>25</td>\n",
       "      <td>Male</td>\n",
       "      <td>Skilled</td>\n",
       "      <td>Own</td>\n",
       "      <td>Little</td>\n",
       "      <td>Little</td>\n",
       "      <td>5000</td>\n",
       "      <td>Car</td>\n",
       "      <td>True</td>\n",
       "      <td>25</td>\n",
       "      <td>Skilled</td>\n",
       "      <td>Own</td>\n",
       "      <td>Little</td>\n",
       "      <td>Little</td>\n",
       "      <td>5000</td>\n",
       "      <td>Car</td>\n",
       "      <td>True</td>\n",
       "    </tr>\n",
       "    <tr>\n",
       "      <th>1</th>\n",
       "      <td>25</td>\n",
       "      <td>Male</td>\n",
       "      <td>Skilled</td>\n",
       "      <td>Own</td>\n",
       "      <td>Little</td>\n",
       "      <td>Little</td>\n",
       "      <td>5000</td>\n",
       "      <td>Car</td>\n",
       "      <td>True</td>\n",
       "      <td>45</td>\n",
       "      <td>Highly Skilled</td>\n",
       "      <td>Free</td>\n",
       "      <td>Rich</td>\n",
       "      <td>Rich</td>\n",
       "      <td>15000</td>\n",
       "      <td>Business</td>\n",
       "      <td>True</td>\n",
       "    </tr>\n",
       "    <tr>\n",
       "      <th>2</th>\n",
       "      <td>25</td>\n",
       "      <td>Male</td>\n",
       "      <td>Skilled</td>\n",
       "      <td>Own</td>\n",
       "      <td>Little</td>\n",
       "      <td>Little</td>\n",
       "      <td>5000</td>\n",
       "      <td>Car</td>\n",
       "      <td>True</td>\n",
       "      <td>52</td>\n",
       "      <td>Unskilled &amp; Non-resident</td>\n",
       "      <td>Rent</td>\n",
       "      <td>Moderate</td>\n",
       "      <td>Little</td>\n",
       "      <td>12000</td>\n",
       "      <td>Vacation/Others</td>\n",
       "      <td>True</td>\n",
       "    </tr>\n",
       "    <tr>\n",
       "      <th>3</th>\n",
       "      <td>34</td>\n",
       "      <td>Female</td>\n",
       "      <td>Unskilled &amp; Non-resident</td>\n",
       "      <td>Rent</td>\n",
       "      <td>Moderate</td>\n",
       "      <td>Moderate</td>\n",
       "      <td>10000</td>\n",
       "      <td>Education</td>\n",
       "      <td>True</td>\n",
       "      <td>34</td>\n",
       "      <td>Unskilled &amp; Non-resident</td>\n",
       "      <td>Rent</td>\n",
       "      <td>Moderate</td>\n",
       "      <td>Moderate</td>\n",
       "      <td>10000</td>\n",
       "      <td>Education</td>\n",
       "      <td>True</td>\n",
       "    </tr>\n",
       "    <tr>\n",
       "      <th>4</th>\n",
       "      <td>34</td>\n",
       "      <td>Female</td>\n",
       "      <td>Unskilled &amp; Non-resident</td>\n",
       "      <td>Rent</td>\n",
       "      <td>Moderate</td>\n",
       "      <td>Moderate</td>\n",
       "      <td>10000</td>\n",
       "      <td>Education</td>\n",
       "      <td>True</td>\n",
       "      <td>29</td>\n",
       "      <td>Skilled</td>\n",
       "      <td>Own</td>\n",
       "      <td>Quite Rich</td>\n",
       "      <td>Moderate</td>\n",
       "      <td>8000</td>\n",
       "      <td>Furniture/Equipment</td>\n",
       "      <td>True</td>\n",
       "    </tr>\n",
       "    <tr>\n",
       "      <th>5</th>\n",
       "      <td>45</td>\n",
       "      <td>Male</td>\n",
       "      <td>Highly Skilled</td>\n",
       "      <td>Free</td>\n",
       "      <td>Rich</td>\n",
       "      <td>Rich</td>\n",
       "      <td>15000</td>\n",
       "      <td>Business</td>\n",
       "      <td>True</td>\n",
       "      <td>25</td>\n",
       "      <td>Skilled</td>\n",
       "      <td>Own</td>\n",
       "      <td>Little</td>\n",
       "      <td>Little</td>\n",
       "      <td>5000</td>\n",
       "      <td>Car</td>\n",
       "      <td>True</td>\n",
       "    </tr>\n",
       "    <tr>\n",
       "      <th>6</th>\n",
       "      <td>45</td>\n",
       "      <td>Male</td>\n",
       "      <td>Highly Skilled</td>\n",
       "      <td>Free</td>\n",
       "      <td>Rich</td>\n",
       "      <td>Rich</td>\n",
       "      <td>15000</td>\n",
       "      <td>Business</td>\n",
       "      <td>True</td>\n",
       "      <td>45</td>\n",
       "      <td>Highly Skilled</td>\n",
       "      <td>Free</td>\n",
       "      <td>Rich</td>\n",
       "      <td>Rich</td>\n",
       "      <td>15000</td>\n",
       "      <td>Business</td>\n",
       "      <td>True</td>\n",
       "    </tr>\n",
       "    <tr>\n",
       "      <th>7</th>\n",
       "      <td>45</td>\n",
       "      <td>Male</td>\n",
       "      <td>Highly Skilled</td>\n",
       "      <td>Free</td>\n",
       "      <td>Rich</td>\n",
       "      <td>Rich</td>\n",
       "      <td>15000</td>\n",
       "      <td>Business</td>\n",
       "      <td>True</td>\n",
       "      <td>52</td>\n",
       "      <td>Unskilled &amp; Non-resident</td>\n",
       "      <td>Rent</td>\n",
       "      <td>Moderate</td>\n",
       "      <td>Little</td>\n",
       "      <td>12000</td>\n",
       "      <td>Vacation/Others</td>\n",
       "      <td>True</td>\n",
       "    </tr>\n",
       "    <tr>\n",
       "      <th>8</th>\n",
       "      <td>29</td>\n",
       "      <td>Female</td>\n",
       "      <td>Skilled</td>\n",
       "      <td>Own</td>\n",
       "      <td>Quite Rich</td>\n",
       "      <td>Moderate</td>\n",
       "      <td>8000</td>\n",
       "      <td>Furniture/Equipment</td>\n",
       "      <td>True</td>\n",
       "      <td>34</td>\n",
       "      <td>Unskilled &amp; Non-resident</td>\n",
       "      <td>Rent</td>\n",
       "      <td>Moderate</td>\n",
       "      <td>Moderate</td>\n",
       "      <td>10000</td>\n",
       "      <td>Education</td>\n",
       "      <td>True</td>\n",
       "    </tr>\n",
       "    <tr>\n",
       "      <th>9</th>\n",
       "      <td>29</td>\n",
       "      <td>Female</td>\n",
       "      <td>Skilled</td>\n",
       "      <td>Own</td>\n",
       "      <td>Quite Rich</td>\n",
       "      <td>Moderate</td>\n",
       "      <td>8000</td>\n",
       "      <td>Furniture/Equipment</td>\n",
       "      <td>True</td>\n",
       "      <td>29</td>\n",
       "      <td>Skilled</td>\n",
       "      <td>Own</td>\n",
       "      <td>Quite Rich</td>\n",
       "      <td>Moderate</td>\n",
       "      <td>8000</td>\n",
       "      <td>Furniture/Equipment</td>\n",
       "      <td>True</td>\n",
       "    </tr>\n",
       "    <tr>\n",
       "      <th>10</th>\n",
       "      <td>52</td>\n",
       "      <td>Male</td>\n",
       "      <td>Unskilled &amp; Non-resident</td>\n",
       "      <td>Rent</td>\n",
       "      <td>Moderate</td>\n",
       "      <td>Little</td>\n",
       "      <td>12000</td>\n",
       "      <td>Vacation/Others</td>\n",
       "      <td>True</td>\n",
       "      <td>25</td>\n",
       "      <td>Skilled</td>\n",
       "      <td>Own</td>\n",
       "      <td>Little</td>\n",
       "      <td>Little</td>\n",
       "      <td>5000</td>\n",
       "      <td>Car</td>\n",
       "      <td>True</td>\n",
       "    </tr>\n",
       "    <tr>\n",
       "      <th>11</th>\n",
       "      <td>52</td>\n",
       "      <td>Male</td>\n",
       "      <td>Unskilled &amp; Non-resident</td>\n",
       "      <td>Rent</td>\n",
       "      <td>Moderate</td>\n",
       "      <td>Little</td>\n",
       "      <td>12000</td>\n",
       "      <td>Vacation/Others</td>\n",
       "      <td>True</td>\n",
       "      <td>45</td>\n",
       "      <td>Highly Skilled</td>\n",
       "      <td>Free</td>\n",
       "      <td>Rich</td>\n",
       "      <td>Rich</td>\n",
       "      <td>15000</td>\n",
       "      <td>Business</td>\n",
       "      <td>True</td>\n",
       "    </tr>\n",
       "    <tr>\n",
       "      <th>12</th>\n",
       "      <td>52</td>\n",
       "      <td>Male</td>\n",
       "      <td>Unskilled &amp; Non-resident</td>\n",
       "      <td>Rent</td>\n",
       "      <td>Moderate</td>\n",
       "      <td>Little</td>\n",
       "      <td>12000</td>\n",
       "      <td>Vacation/Others</td>\n",
       "      <td>True</td>\n",
       "      <td>52</td>\n",
       "      <td>Unskilled &amp; Non-resident</td>\n",
       "      <td>Rent</td>\n",
       "      <td>Moderate</td>\n",
       "      <td>Little</td>\n",
       "      <td>12000</td>\n",
       "      <td>Vacation/Others</td>\n",
       "      <td>True</td>\n",
       "    </tr>\n",
       "  </tbody>\n",
       "</table>\n",
       "</div>"
      ],
      "text/plain": [
       "    Age_x     Sex                     Job_x Housing_x Saving accounts_x  \\\n",
       "0      25    Male                   Skilled       Own            Little   \n",
       "1      25    Male                   Skilled       Own            Little   \n",
       "2      25    Male                   Skilled       Own            Little   \n",
       "3      34  Female  Unskilled & Non-resident      Rent          Moderate   \n",
       "4      34  Female  Unskilled & Non-resident      Rent          Moderate   \n",
       "5      45    Male            Highly Skilled      Free              Rich   \n",
       "6      45    Male            Highly Skilled      Free              Rich   \n",
       "7      45    Male            Highly Skilled      Free              Rich   \n",
       "8      29  Female                   Skilled       Own        Quite Rich   \n",
       "9      29  Female                   Skilled       Own        Quite Rich   \n",
       "10     52    Male  Unskilled & Non-resident      Rent          Moderate   \n",
       "11     52    Male  Unskilled & Non-resident      Rent          Moderate   \n",
       "12     52    Male  Unskilled & Non-resident      Rent          Moderate   \n",
       "\n",
       "   Checking account_x  Credit amount_x            Purpose_x  result_x  Age_y  \\\n",
       "0              Little             5000                  Car      True     25   \n",
       "1              Little             5000                  Car      True     45   \n",
       "2              Little             5000                  Car      True     52   \n",
       "3            Moderate            10000            Education      True     34   \n",
       "4            Moderate            10000            Education      True     29   \n",
       "5                Rich            15000             Business      True     25   \n",
       "6                Rich            15000             Business      True     45   \n",
       "7                Rich            15000             Business      True     52   \n",
       "8            Moderate             8000  Furniture/Equipment      True     34   \n",
       "9            Moderate             8000  Furniture/Equipment      True     29   \n",
       "10             Little            12000      Vacation/Others      True     25   \n",
       "11             Little            12000      Vacation/Others      True     45   \n",
       "12             Little            12000      Vacation/Others      True     52   \n",
       "\n",
       "                       Job_y Housing_y Saving accounts_y Checking account_y  \\\n",
       "0                    Skilled       Own            Little             Little   \n",
       "1             Highly Skilled      Free              Rich               Rich   \n",
       "2   Unskilled & Non-resident      Rent          Moderate             Little   \n",
       "3   Unskilled & Non-resident      Rent          Moderate           Moderate   \n",
       "4                    Skilled       Own        Quite Rich           Moderate   \n",
       "5                    Skilled       Own            Little             Little   \n",
       "6             Highly Skilled      Free              Rich               Rich   \n",
       "7   Unskilled & Non-resident      Rent          Moderate             Little   \n",
       "8   Unskilled & Non-resident      Rent          Moderate           Moderate   \n",
       "9                    Skilled       Own        Quite Rich           Moderate   \n",
       "10                   Skilled       Own            Little             Little   \n",
       "11            Highly Skilled      Free              Rich               Rich   \n",
       "12  Unskilled & Non-resident      Rent          Moderate             Little   \n",
       "\n",
       "    Credit amount_y            Purpose_y  result_y  \n",
       "0              5000                  Car      True  \n",
       "1             15000             Business      True  \n",
       "2             12000      Vacation/Others      True  \n",
       "3             10000            Education      True  \n",
       "4              8000  Furniture/Equipment      True  \n",
       "5              5000                  Car      True  \n",
       "6             15000             Business      True  \n",
       "7             12000      Vacation/Others      True  \n",
       "8             10000            Education      True  \n",
       "9              8000  Furniture/Equipment      True  \n",
       "10             5000                  Car      True  \n",
       "11            15000             Business      True  \n",
       "12            12000      Vacation/Others      True  "
      ]
     },
     "execution_count": 50,
     "metadata": {},
     "output_type": "execute_result"
    }
   ],
   "source": [
    "merged = pd.merge(df, df, on='Sex', how='inner')\n",
    "merged"
   ]
  },
  {
   "cell_type": "code",
   "execution_count": 59,
   "id": "b5ba604e-33ab-4763-b353-cecf47a002cf",
   "metadata": {},
   "outputs": [
    {
     "data": {
      "text/plain": [
       "(2, 5)"
      ]
     },
     "execution_count": 59,
     "metadata": {},
     "output_type": "execute_result"
    }
   ],
   "source": [
    "data = [200, 450, 150, 400, 500, 700]\n",
    "\n",
    "sales_array = np.array(data)\n",
    "min_index = np.argmin(sales_array)\n",
    "max_index = np.argmax(sales_array)\n",
    "min_index, max_index"
   ]
  },
  {
   "cell_type": "code",
   "execution_count": 60,
   "id": "d8995a68-1b1b-4433-af3b-552606eb2583",
   "metadata": {},
   "outputs": [
    {
     "data": {
      "text/plain": [
       "array([100, 150, 200, 250, 300, 350])"
      ]
     },
     "execution_count": 60,
     "metadata": {},
     "output_type": "execute_result"
    }
   ],
   "source": [
    "data = [100, 150, 200, 250, 300]\n",
    "sales_array = np.array(data)\n",
    "new_sale = 350\n",
    "updated_sales_data = np.append(sales_array, new_sale)\n",
    "updated_sales_data"
   ]
  },
  {
   "cell_type": "code",
   "execution_count": 63,
   "id": "5140597c-3326-4a6c-8c0d-3e22021f1845",
   "metadata": {},
   "outputs": [
    {
     "data": {
      "text/plain": [
       "array([ 80,  85,  90,  95, 100,  70,  75,  80,  85,  90])"
      ]
     },
     "execution_count": 63,
     "metadata": {},
     "output_type": "execute_result"
    }
   ],
   "source": [
    "team_a_scores = np.array([80, 85, 90, 95, 100])\n",
    "team_b_scores = np.array([70, 75, 80, 85, 90])\n",
    "all_team_scores = np.concatenate((team_a_scores, team_b_scores))\n",
    "all_team_scores"
   ]
  },
  {
   "cell_type": "code",
   "execution_count": 65,
   "id": "c26c25c7-89d8-42f3-a483-65f97ee2d992",
   "metadata": {},
   "outputs": [
    {
     "data": {
      "text/plain": [
       "363"
      ]
     },
     "execution_count": 65,
     "metadata": {},
     "output_type": "execute_result"
    }
   ],
   "source": [
    "daily_temperatures = [72, 75, 78, 70, 68]\n",
    "total_temperature = np.sum(daily_temperatures)\n",
    "total_temperature"
   ]
  },
  {
   "cell_type": "code",
   "execution_count": 67,
   "id": "5ede354c-bd31-42c7-bd85-7eb96054b9cc",
   "metadata": {},
   "outputs": [
    {
     "data": {
      "text/plain": [
       "88.4"
      ]
     },
     "execution_count": 67,
     "metadata": {},
     "output_type": "execute_result"
    }
   ],
   "source": [
    "exam_scores = [85, 90, 88, 92, 87]\n",
    "\n",
    "average_score = np.mean(exam_scores)\n",
    "\n",
    "average_score"
   ]
  },
  {
   "cell_type": "code",
   "execution_count": 69,
   "id": "4d32e916-dd8a-4bf4-9e46-f7a47533d18e",
   "metadata": {},
   "outputs": [
    {
     "data": {
      "text/plain": [
       "35.0"
      ]
     },
     "execution_count": 69,
     "metadata": {},
     "output_type": "execute_result"
    }
   ],
   "source": [
    "age_data = [25, 30, 35, 40, 45]\n",
    "median_age = np.median(age_data)\n",
    "median_age"
   ]
  },
  {
   "cell_type": "code",
   "execution_count": 73,
   "id": "ad5ad66e-e265-41a4-a45c-a936e24676a2",
   "metadata": {},
   "outputs": [
    {
     "data": {
      "text/plain": [
       "array([200, 250, 300, 350])"
      ]
     },
     "execution_count": 73,
     "metadata": {},
     "output_type": "execute_result"
    }
   ],
   "source": [
    "sales_data = [150, 200, 250, 300, 350]\n",
    "\n",
    "array = np.array(sales_data)\n",
    "\n",
    "sliced_array = array[1:5]\n",
    "sliced_array"
   ]
  },
  {
   "cell_type": "code",
   "execution_count": 75,
   "id": "0bf18b8d-bc3a-4cdf-8e27-51a7c2dee13f",
   "metadata": {},
   "outputs": [
    {
     "data": {
      "text/plain": [
       "array([[35, 74],\n",
       "       [37, 37],\n",
       "       [39, 93]])"
      ]
     },
     "execution_count": 75,
     "metadata": {},
     "output_type": "execute_result"
    }
   ],
   "source": [
    "demo_matrix = np.array(([13,35,74,48], [23,37,37,38],[73,39,93,39]))\n",
    "demo_matrix[0:3, 1:3]"
   ]
  },
  {
   "cell_type": "code",
   "execution_count": 76,
   "id": "08e57441-54b6-412a-9133-ad156899a0a8",
   "metadata": {},
   "outputs": [
    {
     "data": {
      "text/plain": [
       "array([[13, 35, 74, 48],\n",
       "       [23, 37, 37, 38],\n",
       "       [73, 39, 93, 39]])"
      ]
     },
     "execution_count": 76,
     "metadata": {},
     "output_type": "execute_result"
    }
   ],
   "source": [
    "demo_matrix"
   ]
  },
  {
   "cell_type": "code",
   "execution_count": 79,
   "id": "d771aecc-8a94-4989-a22a-d3ed5316fc0b",
   "metadata": {},
   "outputs": [
    {
     "data": {
      "text/plain": [
       "array([5.        , 5.        , 5.        , 5.        , 5.        ,\n",
       "       5.        , 5.        , 0.52146051, 0.13591934, 0.93194744])"
      ]
     },
     "execution_count": 79,
     "metadata": {},
     "output_type": "execute_result"
    }
   ],
   "source": [
    "demo_array = np.random.rand(10)\n",
    "demo_array[0:7] = 5\n",
    "demo_array"
   ]
  },
  {
   "cell_type": "code",
   "execution_count": 82,
   "id": "65397ed9-0bb4-4e98-8283-852af72ab122",
   "metadata": {},
   "outputs": [
    {
     "data": {
      "text/plain": [
       "array([0, 1, 2, 3, 4, 5, 6, 7, 8, 9])"
      ]
     },
     "execution_count": 82,
     "metadata": {},
     "output_type": "execute_result"
    }
   ],
   "source": [
    "demo_array = np.arange(0,10)\n",
    "demo_array"
   ]
  },
  {
   "cell_type": "code",
   "execution_count": 83,
   "id": "90807092-9fb6-4f1e-9b4b-88c262c4e4cd",
   "metadata": {},
   "outputs": [
    {
     "data": {
      "text/plain": [
       "5"
      ]
     },
     "execution_count": 83,
     "metadata": {},
     "output_type": "execute_result"
    }
   ],
   "source": [
    "flowers = pd.Series([2, 3, 5, 4], index=['lily', 'rose', 'daisy', 'lotus'])\n",
    "flowers['daisy']"
   ]
  },
  {
   "cell_type": "code",
   "execution_count": 102,
   "id": "0c4fb717-fe6d-45d7-93a0-4aa7c7563672",
   "metadata": {},
   "outputs": [
    {
     "data": {
      "text/html": [
       "<div>\n",
       "<style scoped>\n",
       "    .dataframe tbody tr th:only-of-type {\n",
       "        vertical-align: middle;\n",
       "    }\n",
       "\n",
       "    .dataframe tbody tr th {\n",
       "        vertical-align: top;\n",
       "    }\n",
       "\n",
       "    .dataframe thead th {\n",
       "        text-align: right;\n",
       "    }\n",
       "</style>\n",
       "<table border=\"1\" class=\"dataframe\">\n",
       "  <thead>\n",
       "    <tr style=\"text-align: right;\">\n",
       "      <th></th>\n",
       "      <th>customer</th>\n",
       "      <th>category</th>\n",
       "      <th>important</th>\n",
       "      <th>sales</th>\n",
       "    </tr>\n",
       "  </thead>\n",
       "  <tbody>\n",
       "    <tr>\n",
       "      <th>0</th>\n",
       "      <td>101</td>\n",
       "      <td>cat2</td>\n",
       "      <td>yes</td>\n",
       "      <td>123</td>\n",
       "    </tr>\n",
       "    <tr>\n",
       "      <th>1</th>\n",
       "      <td>102</td>\n",
       "      <td>cat2</td>\n",
       "      <td>no</td>\n",
       "      <td>52</td>\n",
       "    </tr>\n",
       "    <tr>\n",
       "      <th>2</th>\n",
       "      <td>103</td>\n",
       "      <td>cat1</td>\n",
       "      <td>yes</td>\n",
       "      <td>214</td>\n",
       "    </tr>\n",
       "    <tr>\n",
       "      <th>3</th>\n",
       "      <td>104</td>\n",
       "      <td>cat3</td>\n",
       "      <td>yes</td>\n",
       "      <td>663</td>\n",
       "    </tr>\n",
       "    <tr>\n",
       "      <th>4</th>\n",
       "      <td>101</td>\n",
       "      <td>cat2</td>\n",
       "      <td>yes</td>\n",
       "      <td>203</td>\n",
       "    </tr>\n",
       "    <tr>\n",
       "      <th>5</th>\n",
       "      <td>102</td>\n",
       "      <td>cat2</td>\n",
       "      <td>no</td>\n",
       "      <td>212</td>\n",
       "    </tr>\n",
       "  </tbody>\n",
       "</table>\n",
       "</div>"
      ],
      "text/plain": [
       "   customer category important  sales\n",
       "0       101     cat2       yes    123\n",
       "1       102     cat2        no     52\n",
       "2       103     cat1       yes    214\n",
       "3       104     cat3       yes    663\n",
       "4       101     cat2       yes    203\n",
       "5       102     cat2        no    212"
      ]
     },
     "execution_count": 102,
     "metadata": {},
     "output_type": "execute_result"
    }
   ],
   "source": [
    "data_customer = pd.DataFrame({\n",
    "    \"customer\": [101, 102, 103, 104, 101, 102],\n",
    "    \"category\": [\"cat2\", \"cat2\", \"cat1\", \"cat3\", \"cat2\", \"cat2\"],\n",
    "    \"important\": [\"yes\", \"no\", \"yes\", \"yes\", \"yes\", \"no\"],\n",
    "    \"sales\": [123, 52, 214, 663, 203, 212]\n",
    "})\n",
    "data_customer"
   ]
  },
  {
   "cell_type": "code",
   "execution_count": 87,
   "id": "e9052ac0-d3ad-42e9-b6f5-cc1d978cfaa7",
   "metadata": {},
   "outputs": [
    {
     "data": {
      "text/plain": [
       "category\n",
       "cat2    2\n",
       "cat1    1\n",
       "cat3    1\n",
       "Name: count, dtype: int64"
      ]
     },
     "execution_count": 87,
     "metadata": {},
     "output_type": "execute_result"
    }
   ],
   "source": [
    "data_customer['category'].value_counts()"
   ]
  },
  {
   "cell_type": "code",
   "execution_count": 89,
   "id": "7f984e12-d959-4e08-b45c-7e21aee1b4fd",
   "metadata": {},
   "outputs": [
    {
     "data": {
      "text/html": [
       "<div>\n",
       "<style scoped>\n",
       "    .dataframe tbody tr th:only-of-type {\n",
       "        vertical-align: middle;\n",
       "    }\n",
       "\n",
       "    .dataframe tbody tr th {\n",
       "        vertical-align: top;\n",
       "    }\n",
       "\n",
       "    .dataframe thead th {\n",
       "        text-align: right;\n",
       "    }\n",
       "</style>\n",
       "<table border=\"1\" class=\"dataframe\">\n",
       "  <thead>\n",
       "    <tr style=\"text-align: right;\">\n",
       "      <th></th>\n",
       "      <th>customer</th>\n",
       "      <th>category</th>\n",
       "      <th>important</th>\n",
       "      <th>sales</th>\n",
       "    </tr>\n",
       "  </thead>\n",
       "  <tbody>\n",
       "    <tr>\n",
       "      <th>3</th>\n",
       "      <td>104</td>\n",
       "      <td>cat3</td>\n",
       "      <td>yes</td>\n",
       "      <td>663</td>\n",
       "    </tr>\n",
       "    <tr>\n",
       "      <th>2</th>\n",
       "      <td>103</td>\n",
       "      <td>cat1</td>\n",
       "      <td>yes</td>\n",
       "      <td>214</td>\n",
       "    </tr>\n",
       "    <tr>\n",
       "      <th>0</th>\n",
       "      <td>101</td>\n",
       "      <td>cat2</td>\n",
       "      <td>yes</td>\n",
       "      <td>123</td>\n",
       "    </tr>\n",
       "    <tr>\n",
       "      <th>1</th>\n",
       "      <td>102</td>\n",
       "      <td>cat2</td>\n",
       "      <td>no</td>\n",
       "      <td>52</td>\n",
       "    </tr>\n",
       "  </tbody>\n",
       "</table>\n",
       "</div>"
      ],
      "text/plain": [
       "   customer category important  sales\n",
       "3       104     cat3       yes    663\n",
       "2       103     cat1       yes    214\n",
       "0       101     cat2       yes    123\n",
       "1       102     cat2        no     52"
      ]
     },
     "execution_count": 89,
     "metadata": {},
     "output_type": "execute_result"
    }
   ],
   "source": [
    "data_customer.sort_values(by='sales',ascending=False)"
   ]
  },
  {
   "cell_type": "code",
   "execution_count": 94,
   "id": "d03e8ba4-d635-417f-8a73-fd3801769cae",
   "metadata": {},
   "outputs": [
    {
     "data": {
      "text/html": [
       "<div>\n",
       "<style scoped>\n",
       "    .dataframe tbody tr th:only-of-type {\n",
       "        vertical-align: middle;\n",
       "    }\n",
       "\n",
       "    .dataframe tbody tr th {\n",
       "        vertical-align: top;\n",
       "    }\n",
       "\n",
       "    .dataframe thead th {\n",
       "        text-align: right;\n",
       "    }\n",
       "</style>\n",
       "<table border=\"1\" class=\"dataframe\">\n",
       "  <thead>\n",
       "    <tr style=\"text-align: right;\">\n",
       "      <th></th>\n",
       "      <th>customer</th>\n",
       "      <th>sales</th>\n",
       "    </tr>\n",
       "  </thead>\n",
       "  <tbody>\n",
       "    <tr>\n",
       "      <th>1</th>\n",
       "      <td>102</td>\n",
       "      <td>52</td>\n",
       "    </tr>\n",
       "    <tr>\n",
       "      <th>2</th>\n",
       "      <td>103</td>\n",
       "      <td>214</td>\n",
       "    </tr>\n",
       "  </tbody>\n",
       "</table>\n",
       "</div>"
      ],
      "text/plain": [
       "   customer  sales\n",
       "1       102     52\n",
       "2       103    214"
      ]
     },
     "execution_count": 94,
     "metadata": {},
     "output_type": "execute_result"
    }
   ],
   "source": [
    "data_customer.loc[[1,2], ['customer', 'sales']]"
   ]
  },
  {
   "cell_type": "code",
   "execution_count": 103,
   "id": "5cf5a214-05dc-4670-ae30-0c76cedb78cb",
   "metadata": {},
   "outputs": [
    {
     "data": {
      "text/plain": [
       "customer\n",
       "101    163.0\n",
       "102    132.0\n",
       "103    214.0\n",
       "104    663.0\n",
       "Name: sales, dtype: float64"
      ]
     },
     "execution_count": 103,
     "metadata": {},
     "output_type": "execute_result"
    }
   ],
   "source": [
    "data_customer.groupby(['customer'])['sales'].mean()"
   ]
  },
  {
   "cell_type": "code",
   "execution_count": 3,
   "id": "fd08340b-58bd-4758-be4b-2d7b28e574c8",
   "metadata": {},
   "outputs": [
    {
     "data": {
      "text/plain": [
       "array([[9, 8, 7],\n",
       "       [6, 5, 4],\n",
       "       [3, 2, 1]])"
      ]
     },
     "execution_count": 3,
     "metadata": {},
     "output_type": "execute_result"
    }
   ],
   "source": [
    "np.array([[9, 8, 7], [6, 5, 4], [3, 2, 1]])"
   ]
  },
  {
   "cell_type": "code",
   "execution_count": 4,
   "id": "2ee19630-5809-4a7d-856d-6f7c5546b3d6",
   "metadata": {},
   "outputs": [
    {
     "data": {
      "text/plain": [
       "array([[1, 2, 3],\n",
       "       [4, 5, 6],\n",
       "       [7, 8, 9]])"
      ]
     },
     "execution_count": 4,
     "metadata": {},
     "output_type": "execute_result"
    }
   ],
   "source": [
    "np.arange(start=1, stop=10, step=1).reshape(3,3)"
   ]
  },
  {
   "cell_type": "code",
   "execution_count": 6,
   "id": "5b67c53d-5e40-488e-b027-d6d7c493fc91",
   "metadata": {},
   "outputs": [
    {
     "data": {
      "text/plain": [
       "array([ 0.,  4.,  8., 12., 16., 20.])"
      ]
     },
     "execution_count": 6,
     "metadata": {},
     "output_type": "execute_result"
    }
   ],
   "source": [
    "array_1 = np.linspace(0,20,6)\n",
    "array_1"
   ]
  },
  {
   "cell_type": "code",
   "execution_count": 8,
   "id": "e0f0675b-4f53-4c6d-a243-eabe380e6af3",
   "metadata": {},
   "outputs": [
    {
     "data": {
      "text/plain": [
       "array([ 0,  6, 12, 18])"
      ]
     },
     "execution_count": 8,
     "metadata": {},
     "output_type": "execute_result"
    }
   ],
   "source": [
    "array_2 = np.arange(0,20,6)\n",
    "array_2"
   ]
  },
  {
   "cell_type": "code",
   "execution_count": 10,
   "id": "ca4038c8-bf67-4090-b4b1-8ed7d4930799",
   "metadata": {},
   "outputs": [
    {
     "data": {
      "text/plain": [
       "131.66666666666666"
      ]
     },
     "execution_count": 10,
     "metadata": {},
     "output_type": "execute_result"
    }
   ],
   "source": [
    "mat = np.matrix([[ 1, 4, 9, 121, 144, 169],\n",
    "                [ 16, 25, 36, 196, 225, 256], \n",
    "                [ 49, 64, 81, 289, 324, 361]])\n",
    "mean = np.mean(mat)\n",
    "mean"
   ]
  },
  {
   "cell_type": "code",
   "execution_count": 16,
   "id": "182a3bea-1078-48d9-bb15-b29127eb66c5",
   "metadata": {},
   "outputs": [
    {
     "name": "stdout",
     "output_type": "stream",
     "text": [
      "[11 12 13 14 15 16 17 18 19]\n",
      "[2 3 4 5 6]\n"
     ]
    }
   ],
   "source": [
    "a = np.arange(0,20)\n",
    "print(a[a>10])\n",
    "print(a[2:7])"
   ]
  },
  {
   "cell_type": "code",
   "execution_count": 17,
   "id": "801d87dd-e0db-4985-a4d3-72e99eb8d1cf",
   "metadata": {},
   "outputs": [
    {
     "data": {
      "text/plain": [
       "array([ 1.        ,  0.54030231, -0.41614684, -0.9899925 , -0.65364362])"
      ]
     },
     "execution_count": 17,
     "metadata": {},
     "output_type": "execute_result"
    }
   ],
   "source": [
    "np.cos([0, 1, 2, 3, 4]) "
   ]
  },
  {
   "cell_type": "code",
   "execution_count": 19,
   "id": "615f277f-5c9b-476c-a573-c4b998374885",
   "metadata": {},
   "outputs": [
    {
     "data": {
      "text/plain": [
       "[1, 2, 3, 4, 5, 6]"
      ]
     },
     "execution_count": 19,
     "metadata": {},
     "output_type": "execute_result"
    }
   ],
   "source": [
    "list_1 = [1,2,3] \n",
    "list_2 = [4,5,6]\n",
    "new_list = list_1 + list_2\n",
    "new_list"
   ]
  },
  {
   "cell_type": "code",
   "execution_count": 20,
   "id": "048e65dc-b48a-4530-9150-f2e4bd3eb074",
   "metadata": {},
   "outputs": [
    {
     "data": {
      "text/plain": [
       "array([5, 7, 9])"
      ]
     },
     "execution_count": 20,
     "metadata": {},
     "output_type": "execute_result"
    }
   ],
   "source": [
    "array_1 = np.array([1,2,3])\n",
    "array_2 = np.array([4,5,6])\n",
    "new_array = array_1 + array_2\n",
    "new_array"
   ]
  },
  {
   "cell_type": "code",
   "execution_count": 22,
   "id": "21aa0fe7-e6f0-4e5c-af2c-571436672142",
   "metadata": {},
   "outputs": [
    {
     "data": {
      "text/plain": [
       "array([[1, 2, 1],\n",
       "       [5, 5, 5],\n",
       "       [1, 8, 9]])"
      ]
     },
     "execution_count": 22,
     "metadata": {},
     "output_type": "execute_result"
    }
   ],
   "source": [
    "mat = np.array([[1, 2, 1], [4, 5, 9],[1, 8, 9]])\n",
    "mat\n",
    "mat[1] = 5\n",
    "mat"
   ]
  },
  {
   "cell_type": "code",
   "execution_count": 23,
   "id": "6cb12e88-ab2e-45ee-acae-7fdd8a204ad9",
   "metadata": {},
   "outputs": [
    {
     "name": "stdout",
     "output_type": "stream",
     "text": [
      "21\n"
     ]
    }
   ],
   "source": [
    "array_1 = np.array([1, 2, 3, 5, 8])\n",
    "array_2 = np.array([0, 3, 4, 2, 1])\n",
    "new_array = array_1+ array_2\n",
    "final_array = new_array*array_1\n",
    "print(final_array[2])"
   ]
  },
  {
   "cell_type": "code",
   "execution_count": 24,
   "id": "4f9919b5-99bf-47b4-b3ed-474924746f42",
   "metadata": {},
   "outputs": [
    {
     "data": {
      "text/plain": [
       "array([[1., 1.],\n",
       "       [1., 1.]])"
      ]
     },
     "execution_count": 24,
     "metadata": {},
     "output_type": "execute_result"
    }
   ],
   "source": [
    "np.ones([2, 2])"
   ]
  },
  {
   "cell_type": "code",
   "execution_count": 25,
   "id": "3ecce62b-a1cc-46fc-96af-6019307a1b8f",
   "metadata": {},
   "outputs": [
    {
     "data": {
      "text/plain": [
       "matrix([[1786, 1880, 3017],\n",
       "        [2725, 2933, 4712],\n",
       "        [3862, 4220, 6785]])"
      ]
     },
     "execution_count": 25,
     "metadata": {},
     "output_type": "execute_result"
    }
   ],
   "source": [
    "n1 = np.matrix([[121, 144, 169], [196, 225, 256], [ 289, 324, 361]])\n",
    "n2 = np.matrix([[ 1, 4, 9], [ 1, 5, 4], [ 9, 4, 8]])\n",
    "np.dot(n1, n2)"
   ]
  },
  {
   "cell_type": "code",
   "execution_count": 9,
   "id": "ce52dbb3-8135-4c46-903a-34ffb33048ed",
   "metadata": {},
   "outputs": [
    {
     "data": {
      "text/html": [
       "<div>\n",
       "<style scoped>\n",
       "    .dataframe tbody tr th:only-of-type {\n",
       "        vertical-align: middle;\n",
       "    }\n",
       "\n",
       "    .dataframe tbody tr th {\n",
       "        vertical-align: top;\n",
       "    }\n",
       "\n",
       "    .dataframe thead th {\n",
       "        text-align: right;\n",
       "    }\n",
       "</style>\n",
       "<table border=\"1\" class=\"dataframe\">\n",
       "  <thead>\n",
       "    <tr style=\"text-align: right;\">\n",
       "      <th></th>\n",
       "      <th>average_rating</th>\n",
       "      <th>isbn13</th>\n",
       "      <th>num_pages</th>\n",
       "      <th>ratings_count</th>\n",
       "      <th>text_reviews_count</th>\n",
       "      <th>year</th>\n",
       "    </tr>\n",
       "  </thead>\n",
       "  <tbody>\n",
       "    <tr>\n",
       "      <th>count</th>\n",
       "      <td>5000.000000</td>\n",
       "      <td>5.000000e+03</td>\n",
       "      <td>4967.000000</td>\n",
       "      <td>5.000000e+03</td>\n",
       "      <td>5000.000000</td>\n",
       "      <td>5000.000000</td>\n",
       "    </tr>\n",
       "    <tr>\n",
       "      <th>mean</th>\n",
       "      <td>3.931932</td>\n",
       "      <td>9.752758e+12</td>\n",
       "      <td>341.094021</td>\n",
       "      <td>2.017549e+04</td>\n",
       "      <td>592.688600</td>\n",
       "      <td>2000.131800</td>\n",
       "    </tr>\n",
       "    <tr>\n",
       "      <th>std</th>\n",
       "      <td>0.348741</td>\n",
       "      <td>5.129254e+11</td>\n",
       "      <td>230.986115</td>\n",
       "      <td>1.175026e+05</td>\n",
       "      <td>2539.539004</td>\n",
       "      <td>8.069043</td>\n",
       "    </tr>\n",
       "    <tr>\n",
       "      <th>min</th>\n",
       "      <td>0.000000</td>\n",
       "      <td>8.987060e+09</td>\n",
       "      <td>1.000000</td>\n",
       "      <td>0.000000e+00</td>\n",
       "      <td>0.000000</td>\n",
       "      <td>1913.000000</td>\n",
       "    </tr>\n",
       "    <tr>\n",
       "      <th>25%</th>\n",
       "      <td>3.770000</td>\n",
       "      <td>9.780345e+12</td>\n",
       "      <td>200.000000</td>\n",
       "      <td>1.050000e+02</td>\n",
       "      <td>9.000000</td>\n",
       "      <td>1998.000000</td>\n",
       "    </tr>\n",
       "    <tr>\n",
       "      <th>50%</th>\n",
       "      <td>3.960000</td>\n",
       "      <td>9.780571e+12</td>\n",
       "      <td>304.000000</td>\n",
       "      <td>7.915000e+02</td>\n",
       "      <td>49.000000</td>\n",
       "      <td>2003.000000</td>\n",
       "    </tr>\n",
       "    <tr>\n",
       "      <th>75%</th>\n",
       "      <td>4.140000</td>\n",
       "      <td>9.780871e+12</td>\n",
       "      <td>416.500000</td>\n",
       "      <td>5.348750e+03</td>\n",
       "      <td>249.000000</td>\n",
       "      <td>2005.000000</td>\n",
       "    </tr>\n",
       "    <tr>\n",
       "      <th>max</th>\n",
       "      <td>5.000000</td>\n",
       "      <td>9.789879e+12</td>\n",
       "      <td>3342.000000</td>\n",
       "      <td>2.457092e+06</td>\n",
       "      <td>55843.000000</td>\n",
       "      <td>2019.000000</td>\n",
       "    </tr>\n",
       "  </tbody>\n",
       "</table>\n",
       "</div>"
      ],
      "text/plain": [
       "       average_rating        isbn13    num_pages  ratings_count  \\\n",
       "count     5000.000000  5.000000e+03  4967.000000   5.000000e+03   \n",
       "mean         3.931932  9.752758e+12   341.094021   2.017549e+04   \n",
       "std          0.348741  5.129254e+11   230.986115   1.175026e+05   \n",
       "min          0.000000  8.987060e+09     1.000000   0.000000e+00   \n",
       "25%          3.770000  9.780345e+12   200.000000   1.050000e+02   \n",
       "50%          3.960000  9.780571e+12   304.000000   7.915000e+02   \n",
       "75%          4.140000  9.780871e+12   416.500000   5.348750e+03   \n",
       "max          5.000000  9.789879e+12  3342.000000   2.457092e+06   \n",
       "\n",
       "       text_reviews_count         year  \n",
       "count         5000.000000  5000.000000  \n",
       "mean           592.688600  2000.131800  \n",
       "std           2539.539004     8.069043  \n",
       "min              0.000000  1913.000000  \n",
       "25%              9.000000  1998.000000  \n",
       "50%             49.000000  2003.000000  \n",
       "75%            249.000000  2005.000000  \n",
       "max          55843.000000  2019.000000  "
      ]
     },
     "execution_count": 9,
     "metadata": {},
     "output_type": "execute_result"
    }
   ],
   "source": [
    "df = pd.DataFrame(pd.read_csv('books.csv'))\n",
    "df.shape\n",
    "df.describe()"
   ]
  },
  {
   "cell_type": "code",
   "execution_count": 10,
   "id": "1175e63b-796c-4984-a5ba-9c5817f5e7df",
   "metadata": {},
   "outputs": [
    {
     "data": {
      "text/plain": [
       "4"
      ]
     },
     "execution_count": 10,
     "metadata": {},
     "output_type": "execute_result"
    }
   ],
   "source": [
    "# Count the number of columns with object datatype\n",
    "num_object_columns = df.select_dtypes(include=['object']).shape[1]\n",
    "num_object_columns"
   ]
  },
  {
   "cell_type": "code",
   "execution_count": 11,
   "id": "835806e9-5af7-4f77-9485-05322e327d33",
   "metadata": {},
   "outputs": [
    {
     "data": {
      "text/plain": [
       "2115"
      ]
     },
     "execution_count": 11,
     "metadata": {},
     "output_type": "execute_result"
    }
   ],
   "source": [
    "# Count the number of books with an average rating greater than 4\n",
    "num_books_high_rating = df[df['average_rating'] > 4].shape[0]\n",
    "num_books_high_rating"
   ]
  },
  {
   "cell_type": "code",
   "execution_count": 13,
   "id": "9a2c1242-a4a5-472f-8845-a30619ba608b",
   "metadata": {},
   "outputs": [
    {
     "data": {
      "text/html": [
       "<div>\n",
       "<style scoped>\n",
       "    .dataframe tbody tr th:only-of-type {\n",
       "        vertical-align: middle;\n",
       "    }\n",
       "\n",
       "    .dataframe tbody tr th {\n",
       "        vertical-align: top;\n",
       "    }\n",
       "\n",
       "    .dataframe thead th {\n",
       "        text-align: right;\n",
       "    }\n",
       "</style>\n",
       "<table border=\"1\" class=\"dataframe\">\n",
       "  <thead>\n",
       "    <tr style=\"text-align: right;\">\n",
       "      <th></th>\n",
       "      <th>title</th>\n",
       "      <th>author</th>\n",
       "      <th>average_rating</th>\n",
       "      <th>isbn13</th>\n",
       "      <th>language_code</th>\n",
       "      <th>num_pages</th>\n",
       "      <th>ratings_count</th>\n",
       "      <th>text_reviews_count</th>\n",
       "      <th>publisher</th>\n",
       "      <th>year</th>\n",
       "    </tr>\n",
       "  </thead>\n",
       "  <tbody>\n",
       "    <tr>\n",
       "      <th>63</th>\n",
       "      <td>鋼之鍊金術師 9</td>\n",
       "      <td>Hiromu Arakawa</td>\n",
       "      <td>4.57</td>\n",
       "      <td>9789861156521</td>\n",
       "      <td>NaN</td>\n",
       "      <td>184.0</td>\n",
       "      <td>4</td>\n",
       "      <td>0</td>\n",
       "      <td>東立</td>\n",
       "      <td>2004</td>\n",
       "    </tr>\n",
       "    <tr>\n",
       "      <th>178</th>\n",
       "      <td>鋼之鍊金術師 6</td>\n",
       "      <td>Hiromu Arakawa</td>\n",
       "      <td>4.58</td>\n",
       "      <td>9789861146140</td>\n",
       "      <td>NaN</td>\n",
       "      <td>191.0</td>\n",
       "      <td>5</td>\n",
       "      <td>0</td>\n",
       "      <td>東立</td>\n",
       "      <td>2004</td>\n",
       "    </tr>\n",
       "    <tr>\n",
       "      <th>224</th>\n",
       "      <td>Stargirl LitPlans on CD</td>\n",
       "      <td>Mary B. Collins</td>\n",
       "      <td>4.86</td>\n",
       "      <td>9781583372920</td>\n",
       "      <td>eng</td>\n",
       "      <td>210.0</td>\n",
       "      <td>5</td>\n",
       "      <td>0</td>\n",
       "      <td>Teacher's Pet Publications</td>\n",
       "      <td>2005</td>\n",
       "    </tr>\n",
       "    <tr>\n",
       "      <th>454</th>\n",
       "      <td>Literature Circle Guide: Bridge to Terabithia:...</td>\n",
       "      <td>Tara MacCarthy</td>\n",
       "      <td>5.00</td>\n",
       "      <td>9780439271714</td>\n",
       "      <td>eng</td>\n",
       "      <td>32.0</td>\n",
       "      <td>4</td>\n",
       "      <td>1</td>\n",
       "      <td>Teaching Resources</td>\n",
       "      <td>2002</td>\n",
       "    </tr>\n",
       "    <tr>\n",
       "      <th>584</th>\n",
       "      <td>Falling Angels (Luc Actar #1)</td>\n",
       "      <td>Melissa M. Garcia</td>\n",
       "      <td>4.67</td>\n",
       "      <td>9780595377107</td>\n",
       "      <td>eng</td>\n",
       "      <td>216.0</td>\n",
       "      <td>1</td>\n",
       "      <td>0</td>\n",
       "      <td>iUniverse</td>\n",
       "      <td>2006</td>\n",
       "    </tr>\n",
       "    <tr>\n",
       "      <th>681</th>\n",
       "      <td>Fanning the Flame: Bible  Cross  and Mission</td>\n",
       "      <td>Chris    Green</td>\n",
       "      <td>5.00</td>\n",
       "      <td>9780310249870</td>\n",
       "      <td>eng</td>\n",
       "      <td>336.0</td>\n",
       "      <td>1</td>\n",
       "      <td>1</td>\n",
       "      <td>Zondervan</td>\n",
       "      <td>2003</td>\n",
       "    </tr>\n",
       "    <tr>\n",
       "      <th>696</th>\n",
       "      <td>Tyrannosaurus Wrecks (Stanley  #1)</td>\n",
       "      <td>Laura Driscoll</td>\n",
       "      <td>5.00</td>\n",
       "      <td>9780786845033</td>\n",
       "      <td>eng</td>\n",
       "      <td>24.0</td>\n",
       "      <td>2</td>\n",
       "      <td>1</td>\n",
       "      <td>Disney Press</td>\n",
       "      <td>2003</td>\n",
       "    </tr>\n",
       "    <tr>\n",
       "      <th>741</th>\n",
       "      <td>The John Deere Two-Cylinder Tractor Encycloped...</td>\n",
       "      <td>Don Macmillan</td>\n",
       "      <td>4.75</td>\n",
       "      <td>9780760329634</td>\n",
       "      <td>eng</td>\n",
       "      <td>256.0</td>\n",
       "      <td>4</td>\n",
       "      <td>0</td>\n",
       "      <td>Voyageur Press</td>\n",
       "      <td>2007</td>\n",
       "    </tr>\n",
       "    <tr>\n",
       "      <th>757</th>\n",
       "      <td>The American Campaign: U.S. Presidential Campa...</td>\n",
       "      <td>James E. Campbell</td>\n",
       "      <td>5.00</td>\n",
       "      <td>9780890969403</td>\n",
       "      <td>eng</td>\n",
       "      <td>314.0</td>\n",
       "      <td>0</td>\n",
       "      <td>0</td>\n",
       "      <td>Texas A&amp;M University Press</td>\n",
       "      <td>2000</td>\n",
       "    </tr>\n",
       "    <tr>\n",
       "      <th>1837</th>\n",
       "      <td>The Goon Show  Volume 4: My Knees Have Fallen ...</td>\n",
       "      <td>NOT A BOOK</td>\n",
       "      <td>5.00</td>\n",
       "      <td>9780563388692</td>\n",
       "      <td>eng</td>\n",
       "      <td>2.0</td>\n",
       "      <td>3</td>\n",
       "      <td>0</td>\n",
       "      <td>BBC Physical Audio</td>\n",
       "      <td>1996</td>\n",
       "    </tr>\n",
       "    <tr>\n",
       "      <th>1856</th>\n",
       "      <td>鋼之鍊金術師 10</td>\n",
       "      <td>Hiromu Arakawa</td>\n",
       "      <td>4.60</td>\n",
       "      <td>9789861156538</td>\n",
       "      <td>NaN</td>\n",
       "      <td>188.0</td>\n",
       "      <td>3</td>\n",
       "      <td>0</td>\n",
       "      <td>東立</td>\n",
       "      <td>2005</td>\n",
       "    </tr>\n",
       "    <tr>\n",
       "      <th>1960</th>\n",
       "      <td>Wissenschaft der Logik: Die Lehre Vom Begriff ...</td>\n",
       "      <td>Georg Wilhelm Friedrich Hegel</td>\n",
       "      <td>4.78</td>\n",
       "      <td>9783787307678</td>\n",
       "      <td>ger</td>\n",
       "      <td>337.0</td>\n",
       "      <td>0</td>\n",
       "      <td>0</td>\n",
       "      <td>F. Meiner</td>\n",
       "      <td>1994</td>\n",
       "    </tr>\n",
       "    <tr>\n",
       "      <th>2244</th>\n",
       "      <td>Getting a Grip on the Basics: Building a Firm ...</td>\n",
       "      <td>Beth A. Jones</td>\n",
       "      <td>4.67</td>\n",
       "      <td>9781577948261</td>\n",
       "      <td>eng</td>\n",
       "      <td>124.0</td>\n",
       "      <td>9</td>\n",
       "      <td>0</td>\n",
       "      <td>Harrison House</td>\n",
       "      <td>2006</td>\n",
       "    </tr>\n",
       "    <tr>\n",
       "      <th>2496</th>\n",
       "      <td>Come Away My Beloved</td>\n",
       "      <td>Frances J. Roberts</td>\n",
       "      <td>4.58</td>\n",
       "      <td>9781593109158</td>\n",
       "      <td>eng</td>\n",
       "      <td>192.0</td>\n",
       "      <td>8</td>\n",
       "      <td>0</td>\n",
       "      <td>Barbour Books</td>\n",
       "      <td>2005</td>\n",
       "    </tr>\n",
       "    <tr>\n",
       "      <th>3178</th>\n",
       "      <td>Organizational Architecture: Designs for Chang...</td>\n",
       "      <td>David A. Nadler</td>\n",
       "      <td>4.62</td>\n",
       "      <td>9781555424435</td>\n",
       "      <td>eng</td>\n",
       "      <td>304.0</td>\n",
       "      <td>2</td>\n",
       "      <td>0</td>\n",
       "      <td>Jossey-Bass</td>\n",
       "      <td>1992</td>\n",
       "    </tr>\n",
       "    <tr>\n",
       "      <th>3438</th>\n",
       "      <td>Bill Gates: Computer Legend (Famous Lives)</td>\n",
       "      <td>Sara Barton-Wood</td>\n",
       "      <td>5.00</td>\n",
       "      <td>9780739844328</td>\n",
       "      <td>eng</td>\n",
       "      <td>48.0</td>\n",
       "      <td>0</td>\n",
       "      <td>0</td>\n",
       "      <td>Raintree</td>\n",
       "      <td>2001</td>\n",
       "    </tr>\n",
       "    <tr>\n",
       "      <th>3706</th>\n",
       "      <td>A Wife After God's Own Heart Growth and Study ...</td>\n",
       "      <td>Elizabeth George</td>\n",
       "      <td>4.69</td>\n",
       "      <td>9780736911689</td>\n",
       "      <td>eng</td>\n",
       "      <td>160.0</td>\n",
       "      <td>9</td>\n",
       "      <td>1</td>\n",
       "      <td>Harvest House Publishers</td>\n",
       "      <td>2004</td>\n",
       "    </tr>\n",
       "    <tr>\n",
       "      <th>3833</th>\n",
       "      <td>His Princess Devotional: A Royal Encounter Wit...</td>\n",
       "      <td>Sheri Rose Shepherd</td>\n",
       "      <td>5.00</td>\n",
       "      <td>9781590529621</td>\n",
       "      <td>eng</td>\n",
       "      <td>240.0</td>\n",
       "      <td>2</td>\n",
       "      <td>0</td>\n",
       "      <td>Multnomah</td>\n",
       "      <td>2007</td>\n",
       "    </tr>\n",
       "    <tr>\n",
       "      <th>3909</th>\n",
       "      <td>Little Big Book for God's Children</td>\n",
       "      <td>Alice Wong</td>\n",
       "      <td>4.88</td>\n",
       "      <td>9780941807555</td>\n",
       "      <td>en-US</td>\n",
       "      <td>352.0</td>\n",
       "      <td>8</td>\n",
       "      <td>0</td>\n",
       "      <td>Welcome Books</td>\n",
       "      <td>2001</td>\n",
       "    </tr>\n",
       "    <tr>\n",
       "      <th>3927</th>\n",
       "      <td>Colossians and Philemon: A Critical and Exeget...</td>\n",
       "      <td>R. McL. Wilson</td>\n",
       "      <td>5.00</td>\n",
       "      <td>9780567044716</td>\n",
       "      <td>eng</td>\n",
       "      <td>512.0</td>\n",
       "      <td>1</td>\n",
       "      <td>0</td>\n",
       "      <td>T&amp;T Clark Int'l</td>\n",
       "      <td>2005</td>\n",
       "    </tr>\n",
       "    <tr>\n",
       "      <th>4108</th>\n",
       "      <td>Willem de Kooning: Late Paintings</td>\n",
       "      <td>Julie Sylvester</td>\n",
       "      <td>5.00</td>\n",
       "      <td>9783829602266</td>\n",
       "      <td>eng</td>\n",
       "      <td>83.0</td>\n",
       "      <td>1</td>\n",
       "      <td>0</td>\n",
       "      <td>Schirmer Mosel</td>\n",
       "      <td>2006</td>\n",
       "    </tr>\n",
       "    <tr>\n",
       "      <th>4415</th>\n",
       "      <td>Corvette</td>\n",
       "      <td>Jerry Burton</td>\n",
       "      <td>4.83</td>\n",
       "      <td>9780883631218</td>\n",
       "      <td>eng</td>\n",
       "      <td>320.0</td>\n",
       "      <td>6</td>\n",
       "      <td>1</td>\n",
       "      <td>Universe Publishing(NY)</td>\n",
       "      <td>2006</td>\n",
       "    </tr>\n",
       "    <tr>\n",
       "      <th>4455</th>\n",
       "      <td>The Complete Theory Fun Factory: Music Theory ...</td>\n",
       "      <td>Ian        Martin</td>\n",
       "      <td>5.00</td>\n",
       "      <td>9780851621814</td>\n",
       "      <td>eng</td>\n",
       "      <td>96.0</td>\n",
       "      <td>1</td>\n",
       "      <td>0</td>\n",
       "      <td>Boosey &amp; Hawkes Inc</td>\n",
       "      <td>2004</td>\n",
       "    </tr>\n",
       "    <tr>\n",
       "      <th>4917</th>\n",
       "      <td>Taxation of Mineral Rents</td>\n",
       "      <td>Ross Garnaut</td>\n",
       "      <td>5.00</td>\n",
       "      <td>9780198284543</td>\n",
       "      <td>eng</td>\n",
       "      <td>350.0</td>\n",
       "      <td>1</td>\n",
       "      <td>0</td>\n",
       "      <td>Oxford University Press  USA</td>\n",
       "      <td>1983</td>\n",
       "    </tr>\n",
       "    <tr>\n",
       "      <th>4933</th>\n",
       "      <td>Oliver Wendell Holmes in Paris: Medicine  Theo...</td>\n",
       "      <td>William C. Dowling</td>\n",
       "      <td>5.00</td>\n",
       "      <td>9781584655800</td>\n",
       "      <td>eng</td>\n",
       "      <td>179.0</td>\n",
       "      <td>1</td>\n",
       "      <td>1</td>\n",
       "      <td>University Press of New England</td>\n",
       "      <td>2007</td>\n",
       "    </tr>\n",
       "  </tbody>\n",
       "</table>\n",
       "</div>"
      ],
      "text/plain": [
       "                                                  title  \\\n",
       "63                                             鋼之鍊金術師 9   \n",
       "178                                            鋼之鍊金術師 6   \n",
       "224                             Stargirl LitPlans on CD   \n",
       "454   Literature Circle Guide: Bridge to Terabithia:...   \n",
       "584                       Falling Angels (Luc Actar #1)   \n",
       "681        Fanning the Flame: Bible  Cross  and Mission   \n",
       "696                  Tyrannosaurus Wrecks (Stanley  #1)   \n",
       "741   The John Deere Two-Cylinder Tractor Encycloped...   \n",
       "757   The American Campaign: U.S. Presidential Campa...   \n",
       "1837  The Goon Show  Volume 4: My Knees Have Fallen ...   \n",
       "1856                                          鋼之鍊金術師 10   \n",
       "1960  Wissenschaft der Logik: Die Lehre Vom Begriff ...   \n",
       "2244  Getting a Grip on the Basics: Building a Firm ...   \n",
       "2496                               Come Away My Beloved   \n",
       "3178  Organizational Architecture: Designs for Chang...   \n",
       "3438         Bill Gates: Computer Legend (Famous Lives)   \n",
       "3706  A Wife After God's Own Heart Growth and Study ...   \n",
       "3833  His Princess Devotional: A Royal Encounter Wit...   \n",
       "3909                 Little Big Book for God's Children   \n",
       "3927  Colossians and Philemon: A Critical and Exeget...   \n",
       "4108                  Willem de Kooning: Late Paintings   \n",
       "4415                                           Corvette   \n",
       "4455  The Complete Theory Fun Factory: Music Theory ...   \n",
       "4917                          Taxation of Mineral Rents   \n",
       "4933  Oliver Wendell Holmes in Paris: Medicine  Theo...   \n",
       "\n",
       "                             author  average_rating         isbn13  \\\n",
       "63                   Hiromu Arakawa            4.57  9789861156521   \n",
       "178                  Hiromu Arakawa            4.58  9789861146140   \n",
       "224                 Mary B. Collins            4.86  9781583372920   \n",
       "454                  Tara MacCarthy            5.00  9780439271714   \n",
       "584               Melissa M. Garcia            4.67  9780595377107   \n",
       "681                  Chris    Green            5.00  9780310249870   \n",
       "696                  Laura Driscoll            5.00  9780786845033   \n",
       "741                   Don Macmillan            4.75  9780760329634   \n",
       "757               James E. Campbell            5.00  9780890969403   \n",
       "1837                     NOT A BOOK            5.00  9780563388692   \n",
       "1856                 Hiromu Arakawa            4.60  9789861156538   \n",
       "1960  Georg Wilhelm Friedrich Hegel            4.78  9783787307678   \n",
       "2244                  Beth A. Jones            4.67  9781577948261   \n",
       "2496             Frances J. Roberts            4.58  9781593109158   \n",
       "3178                David A. Nadler            4.62  9781555424435   \n",
       "3438               Sara Barton-Wood            5.00  9780739844328   \n",
       "3706               Elizabeth George            4.69  9780736911689   \n",
       "3833            Sheri Rose Shepherd            5.00  9781590529621   \n",
       "3909                     Alice Wong            4.88  9780941807555   \n",
       "3927                 R. McL. Wilson            5.00  9780567044716   \n",
       "4108                Julie Sylvester            5.00  9783829602266   \n",
       "4415                   Jerry Burton            4.83  9780883631218   \n",
       "4455              Ian        Martin            5.00  9780851621814   \n",
       "4917                   Ross Garnaut            5.00  9780198284543   \n",
       "4933             William C. Dowling            5.00  9781584655800   \n",
       "\n",
       "     language_code  num_pages  ratings_count  text_reviews_count  \\\n",
       "63             NaN      184.0              4                   0   \n",
       "178            NaN      191.0              5                   0   \n",
       "224            eng      210.0              5                   0   \n",
       "454            eng       32.0              4                   1   \n",
       "584            eng      216.0              1                   0   \n",
       "681            eng      336.0              1                   1   \n",
       "696            eng       24.0              2                   1   \n",
       "741            eng      256.0              4                   0   \n",
       "757            eng      314.0              0                   0   \n",
       "1837           eng        2.0              3                   0   \n",
       "1856           NaN      188.0              3                   0   \n",
       "1960           ger      337.0              0                   0   \n",
       "2244           eng      124.0              9                   0   \n",
       "2496           eng      192.0              8                   0   \n",
       "3178           eng      304.0              2                   0   \n",
       "3438           eng       48.0              0                   0   \n",
       "3706           eng      160.0              9                   1   \n",
       "3833           eng      240.0              2                   0   \n",
       "3909         en-US      352.0              8                   0   \n",
       "3927           eng      512.0              1                   0   \n",
       "4108           eng       83.0              1                   0   \n",
       "4415           eng      320.0              6                   1   \n",
       "4455           eng       96.0              1                   0   \n",
       "4917           eng      350.0              1                   0   \n",
       "4933           eng      179.0              1                   1   \n",
       "\n",
       "                            publisher  year  \n",
       "63                                 東立  2004  \n",
       "178                                東立  2004  \n",
       "224        Teacher's Pet Publications  2005  \n",
       "454                Teaching Resources  2002  \n",
       "584                         iUniverse  2006  \n",
       "681                         Zondervan  2003  \n",
       "696                      Disney Press  2003  \n",
       "741                    Voyageur Press  2007  \n",
       "757        Texas A&M University Press  2000  \n",
       "1837               BBC Physical Audio  1996  \n",
       "1856                               東立  2005  \n",
       "1960                        F. Meiner  1994  \n",
       "2244                   Harrison House  2006  \n",
       "2496                    Barbour Books  2005  \n",
       "3178                      Jossey-Bass  1992  \n",
       "3438                         Raintree  2001  \n",
       "3706         Harvest House Publishers  2004  \n",
       "3833                        Multnomah  2007  \n",
       "3909                    Welcome Books  2001  \n",
       "3927                  T&T Clark Int'l  2005  \n",
       "4108                   Schirmer Mosel  2006  \n",
       "4415          Universe Publishing(NY)  2006  \n",
       "4455              Boosey & Hawkes Inc  2004  \n",
       "4917     Oxford University Press  USA  1983  \n",
       "4933  University Press of New England  2007  "
      ]
     },
     "execution_count": 13,
     "metadata": {},
     "output_type": "execute_result"
    }
   ],
   "source": [
    "df[(df['average_rating'] > 4.5) & (df['ratings_count'] < 10)]"
   ]
  },
  {
   "cell_type": "code",
   "execution_count": 14,
   "id": "ea314f14-4e34-45bb-b2b6-5383822823da",
   "metadata": {},
   "outputs": [
    {
     "data": {
      "text/plain": [
       "3.931142857142857"
      ]
     },
     "execution_count": 14,
     "metadata": {},
     "output_type": "execute_result"
    }
   ],
   "source": [
    "# Calculate the mean of 'average_rating' for books where 'language_code' is 'eng'\n",
    "mean_rating_eng = df[df['language_code'] == 'eng']['average_rating'].mean()\n",
    "mean_rating_eng"
   ]
  },
  {
   "cell_type": "code",
   "execution_count": 16,
   "id": "ac778d42-6a31-4d3f-aaad-90589c27420a",
   "metadata": {},
   "outputs": [
    {
     "data": {
      "text/html": [
       "<div>\n",
       "<style scoped>\n",
       "    .dataframe tbody tr th:only-of-type {\n",
       "        vertical-align: middle;\n",
       "    }\n",
       "\n",
       "    .dataframe tbody tr th {\n",
       "        vertical-align: top;\n",
       "    }\n",
       "\n",
       "    .dataframe thead th {\n",
       "        text-align: right;\n",
       "    }\n",
       "</style>\n",
       "<table border=\"1\" class=\"dataframe\">\n",
       "  <thead>\n",
       "    <tr style=\"text-align: right;\">\n",
       "      <th></th>\n",
       "      <th>title</th>\n",
       "      <th>author</th>\n",
       "      <th>average_rating</th>\n",
       "      <th>isbn13</th>\n",
       "    </tr>\n",
       "  </thead>\n",
       "  <tbody>\n",
       "    <tr>\n",
       "      <th>0</th>\n",
       "      <td>The Hunchback of Notre-Dame</td>\n",
       "      <td>Victor Hugo</td>\n",
       "      <td>4.00</td>\n",
       "      <td>9780345472427</td>\n",
       "    </tr>\n",
       "    <tr>\n",
       "      <th>1</th>\n",
       "      <td>La Cucina Di Lidia: Recipes and Memories from ...</td>\n",
       "      <td>Lidia Matticchio Bastianich</td>\n",
       "      <td>4.14</td>\n",
       "      <td>9780767914222</td>\n",
       "    </tr>\n",
       "    <tr>\n",
       "      <th>2</th>\n",
       "      <td>Breach of Promise</td>\n",
       "      <td>James Scott Bell</td>\n",
       "      <td>4.00</td>\n",
       "      <td>9780310243878</td>\n",
       "    </tr>\n",
       "    <tr>\n",
       "      <th>3</th>\n",
       "      <td>Brief Interviews with Hideous Men</td>\n",
       "      <td>David Foster Wallace</td>\n",
       "      <td>3.86</td>\n",
       "      <td>9780349111889</td>\n",
       "    </tr>\n",
       "    <tr>\n",
       "      <th>4</th>\n",
       "      <td>The Killing Dance (Anita Blake  Vampire Hunter...</td>\n",
       "      <td>Laurell K. Hamilton</td>\n",
       "      <td>4.13</td>\n",
       "      <td>9780425209066</td>\n",
       "    </tr>\n",
       "  </tbody>\n",
       "</table>\n",
       "</div>"
      ],
      "text/plain": [
       "                                               title  \\\n",
       "0                        The Hunchback of Notre-Dame   \n",
       "1  La Cucina Di Lidia: Recipes and Memories from ...   \n",
       "2                                  Breach of Promise   \n",
       "3                  Brief Interviews with Hideous Men   \n",
       "4  The Killing Dance (Anita Blake  Vampire Hunter...   \n",
       "\n",
       "                        author  average_rating         isbn13  \n",
       "0                  Victor Hugo            4.00  9780345472427  \n",
       "1  Lidia Matticchio Bastianich            4.14  9780767914222  \n",
       "2             James Scott Bell            4.00  9780310243878  \n",
       "3         David Foster Wallace            3.86  9780349111889  \n",
       "4          Laurell K. Hamilton            4.13  9780425209066  "
      ]
     },
     "execution_count": 16,
     "metadata": {},
     "output_type": "execute_result"
    }
   ],
   "source": [
    "df.iloc[0:5,0:4]"
   ]
  },
  {
   "cell_type": "code",
   "execution_count": 17,
   "id": "79f87514-3f03-4474-8b98-f87549763caf",
   "metadata": {},
   "outputs": [
    {
     "data": {
      "text/html": [
       "<div>\n",
       "<style scoped>\n",
       "    .dataframe tbody tr th:only-of-type {\n",
       "        vertical-align: middle;\n",
       "    }\n",
       "\n",
       "    .dataframe tbody tr th {\n",
       "        vertical-align: top;\n",
       "    }\n",
       "\n",
       "    .dataframe thead th {\n",
       "        text-align: right;\n",
       "    }\n",
       "</style>\n",
       "<table border=\"1\" class=\"dataframe\">\n",
       "  <thead>\n",
       "    <tr style=\"text-align: right;\">\n",
       "      <th></th>\n",
       "      <th>language_code</th>\n",
       "      <th>num_pages</th>\n",
       "      <th>ratings_count</th>\n",
       "    </tr>\n",
       "  </thead>\n",
       "  <tbody>\n",
       "    <tr>\n",
       "      <th>1</th>\n",
       "      <td>en-GB</td>\n",
       "      <td>288.0</td>\n",
       "      <td>48</td>\n",
       "    </tr>\n",
       "    <tr>\n",
       "      <th>4</th>\n",
       "      <td>en-US</td>\n",
       "      <td>368.0</td>\n",
       "      <td>59524</td>\n",
       "    </tr>\n",
       "  </tbody>\n",
       "</table>\n",
       "</div>"
      ],
      "text/plain": [
       "  language_code  num_pages  ratings_count\n",
       "1         en-GB      288.0             48\n",
       "4         en-US      368.0          59524"
      ]
     },
     "execution_count": 17,
     "metadata": {},
     "output_type": "execute_result"
    }
   ],
   "source": [
    "df.loc[[1,4], ['language_code', 'num_pages', 'ratings_count']]"
   ]
  },
  {
   "cell_type": "code",
   "execution_count": 18,
   "id": "a39101db-cdbe-47db-8c13-b5008881108c",
   "metadata": {},
   "outputs": [
    {
     "data": {
      "text/plain": [
       "(304.0, 3342.0, 288.0, 341.0940205355345)"
      ]
     },
     "execution_count": 18,
     "metadata": {},
     "output_type": "execute_result"
    }
   ],
   "source": [
    "# Calculate statistical values for 'num_pages'\n",
    "median_num_pages = df['num_pages'].median()\n",
    "max_num_pages = df['num_pages'].max()\n",
    "mode_num_pages = df['num_pages'].mode()[0]  # Mode returns a Series, take first value\n",
    "mean_num_pages = df['num_pages'].mean()\n",
    "\n",
    "# Display the calculated values\n",
    "median_num_pages, max_num_pages, mode_num_pages, mean_num_pages"
   ]
  },
  {
   "cell_type": "code",
   "execution_count": 20,
   "id": "ebc6d8ca-9985-47df-ad34-9bd3c479a4fd",
   "metadata": {},
   "outputs": [
    {
     "data": {
      "text/plain": [
       "0    288.0\n",
       "Name: num_pages, dtype: float64"
      ]
     },
     "execution_count": 20,
     "metadata": {},
     "output_type": "execute_result"
    }
   ],
   "source": [
    "df['num_pages'].mode()"
   ]
  },
  {
   "cell_type": "code",
   "execution_count": 26,
   "id": "5787b22c-589e-4bba-9e5e-48251945c041",
   "metadata": {},
   "outputs": [
    {
     "data": {
      "text/plain": [
       "15"
      ]
     },
     "execution_count": 26,
     "metadata": {},
     "output_type": "execute_result"
    }
   ],
   "source": [
    "df[(df['year'] == 2010)].shape[0]"
   ]
  },
  {
   "cell_type": "code",
   "execution_count": 28,
   "id": "ce099969-7702-41fa-89e9-4f218e2b1aad",
   "metadata": {},
   "outputs": [
    {
     "data": {
      "text/html": [
       "<div>\n",
       "<style scoped>\n",
       "    .dataframe tbody tr th:only-of-type {\n",
       "        vertical-align: middle;\n",
       "    }\n",
       "\n",
       "    .dataframe tbody tr th {\n",
       "        vertical-align: top;\n",
       "    }\n",
       "\n",
       "    .dataframe thead th {\n",
       "        text-align: right;\n",
       "    }\n",
       "</style>\n",
       "<table border=\"1\" class=\"dataframe\">\n",
       "  <thead>\n",
       "    <tr style=\"text-align: right;\">\n",
       "      <th></th>\n",
       "      <th>title</th>\n",
       "      <th>author</th>\n",
       "      <th>average_rating</th>\n",
       "      <th>isbn13</th>\n",
       "      <th>language_code</th>\n",
       "      <th>num_pages</th>\n",
       "      <th>ratings_count</th>\n",
       "      <th>text_reviews_count</th>\n",
       "      <th>publisher</th>\n",
       "      <th>year</th>\n",
       "    </tr>\n",
       "  </thead>\n",
       "  <tbody>\n",
       "    <tr>\n",
       "      <th>71</th>\n",
       "      <td>By the Sword (Valdemar)</td>\n",
       "      <td>Mercedes Lackey</td>\n",
       "      <td>4.25</td>\n",
       "      <td>9780886774639</td>\n",
       "      <td>eng</td>\n",
       "      <td>492.0</td>\n",
       "      <td>18531</td>\n",
       "      <td>249</td>\n",
       "      <td>DAW</td>\n",
       "      <td>1991</td>\n",
       "    </tr>\n",
       "    <tr>\n",
       "      <th>871</th>\n",
       "      <td>Storm Rising (Valdemar: Mage Storms  #2)</td>\n",
       "      <td>Mercedes Lackey</td>\n",
       "      <td>4.02</td>\n",
       "      <td>9780886777128</td>\n",
       "      <td>en-US</td>\n",
       "      <td>412.0</td>\n",
       "      <td>10781</td>\n",
       "      <td>86</td>\n",
       "      <td>DAW</td>\n",
       "      <td>1996</td>\n",
       "    </tr>\n",
       "    <tr>\n",
       "      <th>1523</th>\n",
       "      <td>Phoenix and Ashes (Elemental Masters  #3)</td>\n",
       "      <td>Mercedes Lackey</td>\n",
       "      <td>4.01</td>\n",
       "      <td>9780756402723</td>\n",
       "      <td>eng</td>\n",
       "      <td>480.0</td>\n",
       "      <td>6980</td>\n",
       "      <td>229</td>\n",
       "      <td>DAW</td>\n",
       "      <td>2005</td>\n",
       "    </tr>\n",
       "    <tr>\n",
       "      <th>1583</th>\n",
       "      <td>To Battle the Gods (Jalav  Amazon Warrior  #5)</td>\n",
       "      <td>Sharon Green</td>\n",
       "      <td>4.07</td>\n",
       "      <td>9780886771287</td>\n",
       "      <td>eng</td>\n",
       "      <td>446.0</td>\n",
       "      <td>87</td>\n",
       "      <td>1</td>\n",
       "      <td>DAW</td>\n",
       "      <td>1986</td>\n",
       "    </tr>\n",
       "    <tr>\n",
       "      <th>3726</th>\n",
       "      <td>Oathblood (Valdemar: Vows and Honor  #3)</td>\n",
       "      <td>Mercedes Lackey</td>\n",
       "      <td>4.06</td>\n",
       "      <td>9780886777739</td>\n",
       "      <td>en-GB</td>\n",
       "      <td>394.0</td>\n",
       "      <td>9786</td>\n",
       "      <td>103</td>\n",
       "      <td>DAW</td>\n",
       "      <td>1998</td>\n",
       "    </tr>\n",
       "    <tr>\n",
       "      <th>4367</th>\n",
       "      <td>Joust (Dragon Jousters  #1)</td>\n",
       "      <td>Mercedes Lackey</td>\n",
       "      <td>4.02</td>\n",
       "      <td>9780756401535</td>\n",
       "      <td>eng</td>\n",
       "      <td>448.0</td>\n",
       "      <td>10113</td>\n",
       "      <td>263</td>\n",
       "      <td>DAW</td>\n",
       "      <td>2004</td>\n",
       "    </tr>\n",
       "  </tbody>\n",
       "</table>\n",
       "</div>"
      ],
      "text/plain": [
       "                                               title           author  \\\n",
       "71                           By the Sword (Valdemar)  Mercedes Lackey   \n",
       "871         Storm Rising (Valdemar: Mage Storms  #2)  Mercedes Lackey   \n",
       "1523       Phoenix and Ashes (Elemental Masters  #3)  Mercedes Lackey   \n",
       "1583  To Battle the Gods (Jalav  Amazon Warrior  #5)     Sharon Green   \n",
       "3726        Oathblood (Valdemar: Vows and Honor  #3)  Mercedes Lackey   \n",
       "4367                     Joust (Dragon Jousters  #1)  Mercedes Lackey   \n",
       "\n",
       "      average_rating         isbn13 language_code  num_pages  ratings_count  \\\n",
       "71              4.25  9780886774639           eng      492.0          18531   \n",
       "871             4.02  9780886777128         en-US      412.0          10781   \n",
       "1523            4.01  9780756402723           eng      480.0           6980   \n",
       "1583            4.07  9780886771287           eng      446.0             87   \n",
       "3726            4.06  9780886777739         en-GB      394.0           9786   \n",
       "4367            4.02  9780756401535           eng      448.0          10113   \n",
       "\n",
       "      text_reviews_count publisher  year  \n",
       "71                   249       DAW  1991  \n",
       "871                   86       DAW  1996  \n",
       "1523                 229       DAW  2005  \n",
       "1583                   1       DAW  1986  \n",
       "3726                 103       DAW  1998  \n",
       "4367                 263       DAW  2004  "
      ]
     },
     "execution_count": 28,
     "metadata": {},
     "output_type": "execute_result"
    }
   ],
   "source": [
    "df[(df['publisher'] == 'DAW') & (df['average_rating'] > 4)] "
   ]
  },
  {
   "cell_type": "code",
   "execution_count": 31,
   "id": "48bbf8b5-b84f-492d-8883-3441b8797213",
   "metadata": {},
   "outputs": [
    {
     "data": {
      "text/plain": [
       "<pandas.core.groupby.generic.DataFrameGroupBy object at 0x000002194C9C4F50>"
      ]
     },
     "execution_count": 31,
     "metadata": {},
     "output_type": "execute_result"
    }
   ],
   "source": [
    "df[(df['publisher'] == 'DAW') & (df['average_rating'] > 4)].groupby('author')"
   ]
  },
  {
   "cell_type": "code",
   "execution_count": 35,
   "id": "824ae7d5-0421-4a95-9adb-dce1773f3bdb",
   "metadata": {},
   "outputs": [
    {
     "data": {
      "text/plain": [
       "5"
      ]
     },
     "execution_count": 35,
     "metadata": {},
     "output_type": "execute_result"
    }
   ],
   "source": [
    "df[(df['num_pages'] > 500) & (df['year'] > 2010)].shape[0]"
   ]
  },
  {
   "cell_type": "code",
   "execution_count": 36,
   "id": "b2112fa1-9da3-42ba-a420-3ca1e29b2600",
   "metadata": {},
   "outputs": [
    {
     "data": {
      "text/plain": [
       "21"
      ]
     },
     "execution_count": 36,
     "metadata": {},
     "output_type": "execute_result"
    }
   ],
   "source": [
    "df[(df['author'] == 'Agatha Christie')].shape[0]"
   ]
  },
  {
   "cell_type": "code",
   "execution_count": 38,
   "id": "9ca3b470-aba5-4f3b-b0d6-4ea8a63f362e",
   "metadata": {},
   "outputs": [
    {
     "data": {
      "text/plain": [
       "84"
      ]
     },
     "execution_count": 38,
     "metadata": {},
     "output_type": "execute_result"
    }
   ],
   "source": [
    "df[(df['language_code'] == 'spa') & (df['year'] > 2000)].shape[0]"
   ]
  },
  {
   "cell_type": "code",
   "execution_count": null,
   "id": "efe2832d-9ac0-49a6-8815-b14aa80954b1",
   "metadata": {},
   "outputs": [],
   "source": []
  }
 ],
 "metadata": {
  "kernelspec": {
   "display_name": "Python 3 (ipykernel)",
   "language": "python",
   "name": "python3"
  },
  "language_info": {
   "codemirror_mode": {
    "name": "ipython",
    "version": 3
   },
   "file_extension": ".py",
   "mimetype": "text/x-python",
   "name": "python",
   "nbconvert_exporter": "python",
   "pygments_lexer": "ipython3",
   "version": "3.12.7"
  }
 },
 "nbformat": 4,
 "nbformat_minor": 5
}
