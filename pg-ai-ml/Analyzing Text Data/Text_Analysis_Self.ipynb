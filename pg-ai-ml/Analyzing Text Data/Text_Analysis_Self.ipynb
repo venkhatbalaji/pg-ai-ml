{
 "cells": [
  {
   "cell_type": "code",
   "execution_count": 4,
   "id": "ada1a102-3295-42ae-8578-a4ac96482509",
   "metadata": {},
   "outputs": [
    {
     "name": "stdout",
     "output_type": "stream",
     "text": [
      "A          I                M       L       \n"
     ]
    }
   ],
   "source": [
    "import re\n",
    "\n",
    "string = 'Artificial Intelligence and Machine Learning'\n",
    "\n",
    "pattern = r'[a-z]'\n",
    "\n",
    "cleaned_string = re.sub(pattern, ' ', string)\n",
    "print(cleaned_string)"
   ]
  },
  {
   "cell_type": "code",
   "execution_count": 6,
   "id": "5051d1b3-7dbe-4902-b609-974dfe8f114e",
   "metadata": {},
   "outputs": [
    {
     "name": "stdout",
     "output_type": "stream",
     "text": [
      " mp 1230\n"
     ]
    }
   ],
   "source": [
    "import re\n",
    "\n",
    "string = 'Emp 1230'\n",
    "\n",
    "pattern = r'[A-Z]'\n",
    "\n",
    "cleaned_string = re.sub(pattern, ' ', string)\n",
    "print(cleaned_string)"
   ]
  },
  {
   "cell_type": "code",
   "execution_count": 8,
   "id": "d9053165-0e42-4496-9c20-94b4f09400ae",
   "metadata": {},
   "outputs": [
    {
     "name": "stdout",
     "output_type": "stream",
     "text": [
      "The number of letters in the word \"apple\" is  \n"
     ]
    }
   ],
   "source": [
    "\n",
    "import re\n",
    "\n",
    "string = 'The number of letters in the word \"apple\" is 5'\n",
    "\n",
    "pattern = r'[0-9]'\n",
    "\n",
    "cleaned_string = re.sub(pattern, ' ', string)\n",
    "\n",
    "print(cleaned_string)\n"
   ]
  },
  {
   "cell_type": "code",
   "execution_count": 12,
   "id": "bd15d67b-c90c-4996-b42c-9cba56380fb4",
   "metadata": {},
   "outputs": [
    {
     "name": "stdout",
     "output_type": "stream",
     "text": [
      "    1230           23092017\n"
     ]
    }
   ],
   "source": [
    "import re\n",
    "\n",
    "string = 'Emp 1230 Join_Date 23092017'\n",
    "\n",
    "pattern = r'[^0-9]'\n",
    "\n",
    "cleaned_string = re.sub(pattern, ' ', string)\n",
    "print(cleaned_string)"
   ]
  },
  {
   "cell_type": "code",
   "execution_count": 14,
   "id": "c4cf40f8-4455-4fbb-bbb4-372eafa2660d",
   "metadata": {},
   "outputs": [
    {
     "name": "stdout",
     "output_type": "stream",
     "text": [
      "ai claude com\n"
     ]
    }
   ],
   "source": [
    "import re\n",
    "\n",
    "string = 'ai@claude.com'\n",
    "\n",
    "pattern = r'[^a-zA-Z]'\n",
    "\n",
    "cleaned_string = re.sub(pattern, ' ', string)\n",
    "print(cleaned_string)"
   ]
  },
  {
   "cell_type": "code",
   "execution_count": 17,
   "id": "6717a54a-aab7-4971-ad70-8195d8c1a401",
   "metadata": {},
   "outputs": [
    {
     "name": "stdout",
     "output_type": "stream",
     "text": [
      " i@ l u . om\n"
     ]
    }
   ],
   "source": [
    "import re\n",
    "\n",
    "string = 'ai@claude.com'\n",
    "\n",
    "pattern = r'[a-fA-F0-9]+'\n",
    "\n",
    "cleaned_string = re.sub(pattern, ' ', string)\n",
    "print(cleaned_string)"
   ]
  },
  {
   "cell_type": "code",
   "execution_count": null,
   "id": "e0426e97-9229-4cfa-845b-ac640369823e",
   "metadata": {},
   "outputs": [],
   "source": []
  }
 ],
 "metadata": {
  "kernelspec": {
   "display_name": "Python 3 (ipykernel)",
   "language": "python",
   "name": "python3"
  },
  "language_info": {
   "codemirror_mode": {
    "name": "ipython",
    "version": 3
   },
   "file_extension": ".py",
   "mimetype": "text/x-python",
   "name": "python",
   "nbconvert_exporter": "python",
   "pygments_lexer": "ipython3",
   "version": "3.12.7"
  }
 },
 "nbformat": 4,
 "nbformat_minor": 5
}
