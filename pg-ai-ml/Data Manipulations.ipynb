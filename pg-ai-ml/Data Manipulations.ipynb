{
 "cells": [
  {
   "cell_type": "markdown",
   "id": "80968682-3789-4af5-9f25-2e455b29cefc",
   "metadata": {},
   "source": [
    "# Data Manupilation"
   ]
  },
  {
   "cell_type": "markdown",
   "id": "1e2a7b7e-0d7b-4c23-98ec-f231a50d9799",
   "metadata": {},
   "source": [
    "## NumPy"
   ]
  },
  {
   "cell_type": "code",
   "execution_count": 5,
   "id": "5d47155c-3948-483e-99dd-449cf1b6bfca",
   "metadata": {},
   "outputs": [],
   "source": [
    "import numpy as np"
   ]
  },
  {
   "cell_type": "code",
   "execution_count": 6,
   "id": "c4ca17eb-2fee-4747-93ff-fed7397a3683",
   "metadata": {},
   "outputs": [
    {
     "name": "stdout",
     "output_type": "stream",
     "text": [
      "['Cricket' 'Football' 'Tennis' 'Golf' 'Baseball']\n"
     ]
    }
   ],
   "source": [
    "sports = ['Cricket', 'Football', 'Tennis', 'Golf', 'Baseball']\n",
    "sports_new = np.array(sports)\n",
    "print(sports_new)"
   ]
  },
  {
   "cell_type": "code",
   "execution_count": 7,
   "id": "944dc1be-5572-428a-84f4-59d0d020c2f3",
   "metadata": {},
   "outputs": [
    {
     "name": "stdout",
     "output_type": "stream",
     "text": [
      "[[1 2 1]\n",
      " [4 5 9]\n",
      " [1 8 9]]\n"
     ]
    }
   ],
   "source": [
    "mat = np.array([[1,2,1],[4,5,9],[1,8,9]])\n",
    "print(mat)"
   ]
  },
  {
   "cell_type": "code",
   "execution_count": 8,
   "id": "fa4123dd-b4b7-48eb-b6e0-b3a6f905529e",
   "metadata": {},
   "outputs": [
    {
     "name": "stdout",
     "output_type": "stream",
     "text": [
      "[[ 0  1  2]\n",
      " [ 3  4  5]\n",
      " [ 6  7  8]\n",
      " [ 9 10 11]]\n"
     ]
    }
   ],
   "source": [
    "vec1 = np.arange(0, 12)\n",
    "vec2 = vec1.reshape(4, 3)\n",
    "print(vec2)"
   ]
  },
  {
   "cell_type": "code",
   "execution_count": 9,
   "id": "c735038c-200f-465c-8546-bf7e4d199f3d",
   "metadata": {},
   "outputs": [
    {
     "ename": "ValueError",
     "evalue": "cannot reshape array of size 5 into shape (2,3)",
     "output_type": "error",
     "traceback": [
      "\u001b[1;31m---------------------------------------------------------------------------\u001b[0m",
      "\u001b[1;31mValueError\u001b[0m                                Traceback (most recent call last)",
      "Cell \u001b[1;32mIn[9], line 2\u001b[0m\n\u001b[0;32m      1\u001b[0m vec \u001b[38;5;241m=\u001b[39m np\u001b[38;5;241m.\u001b[39marange(\u001b[38;5;241m0\u001b[39m,\u001b[38;5;241m5\u001b[39m) \n\u001b[1;32m----> 2\u001b[0m \u001b[38;5;28mprint\u001b[39m(vec\u001b[38;5;241m.\u001b[39mreshape((\u001b[38;5;241m2\u001b[39m,\u001b[38;5;241m3\u001b[39m)))\n",
      "\u001b[1;31mValueError\u001b[0m: cannot reshape array of size 5 into shape (2,3)"
     ]
    }
   ],
   "source": [
    "vec = np.arange(0,5) \n",
    "print(vec.reshape((2,3)))"
   ]
  },
  {
   "cell_type": "code",
   "execution_count": null,
   "id": "01a667c4-2217-4193-ad3e-67b1fa1729e8",
   "metadata": {},
   "outputs": [],
   "source": []
  }
 ],
 "metadata": {
  "kernelspec": {
   "display_name": "Python 3 (ipykernel)",
   "language": "python",
   "name": "python3"
  },
  "language_info": {
   "codemirror_mode": {
    "name": "ipython",
    "version": 3
   },
   "file_extension": ".py",
   "mimetype": "text/x-python",
   "name": "python",
   "nbconvert_exporter": "python",
   "pygments_lexer": "ipython3",
   "version": "3.12.7"
  }
 },
 "nbformat": 4,
 "nbformat_minor": 5
}
