{
 "cells": [
  {
   "cell_type": "markdown",
   "id": "80968682-3789-4af5-9f25-2e455b29cefc",
   "metadata": {},
   "source": [
    "# Data Manupilation"
   ]
  },
  {
   "cell_type": "markdown",
   "id": "1e2a7b7e-0d7b-4c23-98ec-f231a50d9799",
   "metadata": {},
   "source": [
    "## NumPy"
   ]
  },
  {
   "cell_type": "code",
   "execution_count": 1,
   "id": "5d47155c-3948-483e-99dd-449cf1b6bfca",
   "metadata": {},
   "outputs": [],
   "source": [
    "import numpy as np"
   ]
  },
  {
   "cell_type": "code",
   "execution_count": 6,
   "id": "c4ca17eb-2fee-4747-93ff-fed7397a3683",
   "metadata": {},
   "outputs": [
    {
     "name": "stdout",
     "output_type": "stream",
     "text": [
      "['Cricket' 'Football' 'Tennis' 'Golf' 'Baseball']\n"
     ]
    }
   ],
   "source": [
    "sports = ['Cricket', 'Football', 'Tennis', 'Golf', 'Baseball']\n",
    "sports_new = np.array(sports)\n",
    "print(sports_new)"
   ]
  },
  {
   "cell_type": "code",
   "execution_count": 7,
   "id": "944dc1be-5572-428a-84f4-59d0d020c2f3",
   "metadata": {},
   "outputs": [
    {
     "name": "stdout",
     "output_type": "stream",
     "text": [
      "[[1 2 1]\n",
      " [4 5 9]\n",
      " [1 8 9]]\n"
     ]
    }
   ],
   "source": [
    "mat = np.array([[1,2,1],[4,5,9],[1,8,9]])\n",
    "print(mat)"
   ]
  },
  {
   "cell_type": "code",
   "execution_count": 8,
   "id": "fa4123dd-b4b7-48eb-b6e0-b3a6f905529e",
   "metadata": {},
   "outputs": [
    {
     "name": "stdout",
     "output_type": "stream",
     "text": [
      "[[ 0  1  2]\n",
      " [ 3  4  5]\n",
      " [ 6  7  8]\n",
      " [ 9 10 11]]\n"
     ]
    }
   ],
   "source": [
    "vec1 = np.arange(0, 12)\n",
    "vec2 = vec1.reshape(4, 3)\n",
    "print(vec2)"
   ]
  },
  {
   "cell_type": "code",
   "execution_count": 18,
   "id": "c735038c-200f-465c-8546-bf7e4d199f3d",
   "metadata": {},
   "outputs": [
    {
     "ename": "ValueError",
     "evalue": "operands could not be broadcast together with shapes (4,) (3,) ",
     "output_type": "error",
     "traceback": [
      "\u001b[1;31m---------------------------------------------------------------------------\u001b[0m",
      "\u001b[1;31mValueError\u001b[0m                                Traceback (most recent call last)",
      "Cell \u001b[1;32mIn[18], line 3\u001b[0m\n\u001b[0;32m      1\u001b[0m vec1 \u001b[38;5;241m=\u001b[39m np\u001b[38;5;241m.\u001b[39mlinspace(\u001b[38;5;241m20\u001b[39m,\u001b[38;5;241m50\u001b[39m,\u001b[38;5;241m4\u001b[39m)\n\u001b[0;32m      2\u001b[0m vec2 \u001b[38;5;241m=\u001b[39m np\u001b[38;5;241m.\u001b[39mlinspace(\u001b[38;5;241m100\u001b[39m,\u001b[38;5;241m120\u001b[39m,\u001b[38;5;241m3\u001b[39m)\n\u001b[1;32m----> 3\u001b[0m \u001b[38;5;28mprint\u001b[39m(vec1 \u001b[38;5;241m+\u001b[39m vec2)\n",
      "\u001b[1;31mValueError\u001b[0m: operands could not be broadcast together with shapes (4,) (3,) "
     ]
    }
   ],
   "source": [
    "vec1 = np.linspace(20,50,4)\n",
    "vec2 = np.linspace(100,120,3)\n",
    "print(vec1 + vec2)"
   ]
  },
  {
   "cell_type": "code",
   "execution_count": 14,
   "id": "01a667c4-2217-4193-ad3e-67b1fa1729e8",
   "metadata": {},
   "outputs": [
    {
     "name": "stdout",
     "output_type": "stream",
     "text": [
      "[0.5        0.33333333 0.25      ]\n",
      "[ 4  9 16]\n"
     ]
    }
   ],
   "source": [
    "vec = np.arange(2,5,1)\n",
    "print(1/vec)\n",
    "print(vec**2)"
   ]
  },
  {
   "cell_type": "code",
   "execution_count": 16,
   "id": "87bbe9c2-2e95-4873-a415-c1b55b812207",
   "metadata": {},
   "outputs": [
    {
     "name": "stdout",
     "output_type": "stream",
     "text": [
      "[[1 2]\n",
      " [3 4]] [[1. 0.]\n",
      " [0. 1.]]\n"
     ]
    }
   ],
   "source": [
    "mat1 = np.arange(1,5).reshape(2,2)\n",
    "mat2 = np.eye(2)\n",
    "print(mat1, mat2)"
   ]
  },
  {
   "cell_type": "code",
   "execution_count": 19,
   "id": "44d5237a-96c9-4195-b0ae-754020134169",
   "metadata": {},
   "outputs": [
    {
     "name": "stdout",
     "output_type": "stream",
     "text": [
      "[[-9 -8 -7]\n",
      " [-6 -5 -4]\n",
      " [-3 -2 -1]]\n",
      "-9\n",
      "-1\n"
     ]
    }
   ],
   "source": [
    "mat1 = np.arange(-9,0,1).reshape(3,3)\n",
    "print(mat1)\n",
    "print(np.min(mat1))\n",
    "print(np.max(mat1))"
   ]
  },
  {
   "cell_type": "code",
   "execution_count": 31,
   "id": "120c4d4b-4b26-40a7-b9e7-b9be7dc5f706",
   "metadata": {},
   "outputs": [
    {
     "name": "stdout",
     "output_type": "stream",
     "text": [
      "[[1 2 3]\n",
      " [0 0 0]\n",
      " [0 0 0]]\n"
     ]
    }
   ],
   "source": [
    "matrix = np.arange(1,10).reshape(3,3)\n",
    "matrix[1:3,0:3] = 0\n",
    "print(matrix)"
   ]
  },
  {
   "cell_type": "code",
   "execution_count": 36,
   "id": "1f50856f-1d04-4cd6-aa3a-7fc580fc25cd",
   "metadata": {},
   "outputs": [
    {
     "name": "stdout",
     "output_type": "stream",
     "text": [
      "[[ 7  8]\n",
      " [11 12]]\n"
     ]
    }
   ],
   "source": [
    "matrix = np.arange(1,17).reshape(4,4)\n",
    "print(matrix[1:3,2:4])"
   ]
  },
  {
   "cell_type": "code",
   "execution_count": 38,
   "id": "69206878-b104-4157-872f-4c8ae995631d",
   "metadata": {},
   "outputs": [],
   "source": [
    "array = np.arange(1, 10).reshape(3, 3)\n",
    "np.save('my_array.npy', array)"
   ]
  },
  {
   "cell_type": "code",
   "execution_count": 40,
   "id": "6e905e04-51dc-4d12-9009-e4474d128c5f",
   "metadata": {},
   "outputs": [
    {
     "name": "stdout",
     "output_type": "stream",
     "text": [
      "[[1 2 3]\n",
      " [4 5 6]\n",
      " [7 8 9]]\n"
     ]
    }
   ],
   "source": [
    "loaded_array = np.load('my_array.npy')\n",
    "print(loaded_array)"
   ]
  },
  {
   "cell_type": "markdown",
   "id": "f8ab06b8-a337-4143-99c0-8bfc46d44bd5",
   "metadata": {},
   "source": [
    "## Panda"
   ]
  },
  {
   "cell_type": "code",
   "execution_count": 2,
   "id": "0e282d27-9e12-4c5e-8833-babbfa6552d0",
   "metadata": {},
   "outputs": [],
   "source": [
    "import pandas as pd"
   ]
  },
  {
   "cell_type": "code",
   "execution_count": 4,
   "id": "4c0c009e-c1c4-4d65-929d-2b8192824da2",
   "metadata": {},
   "outputs": [
    {
     "name": "stdout",
     "output_type": "stream",
     "text": [
      "Empty DataFrame\n",
      "Columns: []\n",
      "Index: []\n"
     ]
    }
   ],
   "source": [
    "print(pd.DataFrame())\n"
   ]
  },
  {
   "cell_type": "code",
   "execution_count": 12,
   "id": "40ae2875-33f0-4a9e-8da8-418136106861",
   "metadata": {},
   "outputs": [
    {
     "data": {
      "text/html": [
       "<div>\n",
       "<style scoped>\n",
       "    .dataframe tbody tr th:only-of-type {\n",
       "        vertical-align: middle;\n",
       "    }\n",
       "\n",
       "    .dataframe tbody tr th {\n",
       "        vertical-align: top;\n",
       "    }\n",
       "\n",
       "    .dataframe thead th {\n",
       "        text-align: right;\n",
       "    }\n",
       "</style>\n",
       "<table border=\"1\" class=\"dataframe\">\n",
       "  <thead>\n",
       "    <tr style=\"text-align: right;\">\n",
       "      <th></th>\n",
       "      <th>name</th>\n",
       "      <th>city</th>\n",
       "      <th>age</th>\n",
       "      <th>py-score</th>\n",
       "    </tr>\n",
       "  </thead>\n",
       "  <tbody>\n",
       "    <tr>\n",
       "      <th>101</th>\n",
       "      <td>Xavier</td>\n",
       "      <td>Mexico City</td>\n",
       "      <td>41</td>\n",
       "      <td>88.0</td>\n",
       "    </tr>\n",
       "    <tr>\n",
       "      <th>102</th>\n",
       "      <td>Ann</td>\n",
       "      <td>Toronto</td>\n",
       "      <td>28</td>\n",
       "      <td>79.0</td>\n",
       "    </tr>\n",
       "    <tr>\n",
       "      <th>103</th>\n",
       "      <td>Jana</td>\n",
       "      <td>Prague</td>\n",
       "      <td>33</td>\n",
       "      <td>81.0</td>\n",
       "    </tr>\n",
       "    <tr>\n",
       "      <th>104</th>\n",
       "      <td>Yi</td>\n",
       "      <td>Shanghai</td>\n",
       "      <td>34</td>\n",
       "      <td>80.0</td>\n",
       "    </tr>\n",
       "    <tr>\n",
       "      <th>105</th>\n",
       "      <td>Robin</td>\n",
       "      <td>Manchester</td>\n",
       "      <td>38</td>\n",
       "      <td>68.0</td>\n",
       "    </tr>\n",
       "    <tr>\n",
       "      <th>106</th>\n",
       "      <td>Amal</td>\n",
       "      <td>Cairo</td>\n",
       "      <td>31</td>\n",
       "      <td>61.0</td>\n",
       "    </tr>\n",
       "    <tr>\n",
       "      <th>107</th>\n",
       "      <td>Nori</td>\n",
       "      <td>Osaka</td>\n",
       "      <td>37</td>\n",
       "      <td>84.0</td>\n",
       "    </tr>\n",
       "  </tbody>\n",
       "</table>\n",
       "</div>"
      ],
      "text/plain": [
       "       name         city  age  py-score\n",
       "101  Xavier  Mexico City   41      88.0\n",
       "102     Ann      Toronto   28      79.0\n",
       "103    Jana       Prague   33      81.0\n",
       "104      Yi     Shanghai   34      80.0\n",
       "105   Robin   Manchester   38      68.0\n",
       "106    Amal        Cairo   31      61.0\n",
       "107    Nori        Osaka   37      84.0"
      ]
     },
     "execution_count": 12,
     "metadata": {},
     "output_type": "execute_result"
    }
   ],
   "source": [
    "data = {\n",
    "'name': ['Xavier', 'Ann', 'Jana', 'Yi', 'Robin', 'Amal', 'Nori'],\n",
    "'city': ['Mexico City', 'Toronto', 'Prague', 'Shanghai','Manchester', 'Cairo', 'Osaka'],\n",
    "'age': [41, 28, 33, 34, 38, 31, 37],\n",
    "'py-score': [88.0, 79.0, 81.0, 80.0, 68.0, 61.0, 84.0]\n",
    "}\n",
    "row_labels = [101, 102, 103, 104, 105, 106, 107]\n",
    "df = pd.DataFrame(data=data, index=row_labels)\n",
    "df"
   ]
  },
  {
   "cell_type": "code",
   "execution_count": 8,
   "id": "b7aecd69-9883-452f-b58b-78e05dfda80c",
   "metadata": {},
   "outputs": [
    {
     "data": {
      "text/plain": [
       "day1    31\n",
       "day2    28\n",
       "day3    30\n",
       "day4    32\n",
       "dtype: int64"
      ]
     },
     "execution_count": 8,
     "metadata": {},
     "output_type": "execute_result"
    }
   ],
   "source": [
    "day = ['day1', 'day2', 'day3', 'day4']\n",
    "temperature = [31, 28, 30, 32] #temperature in degree Celsius\n",
    "temp_data = pd.Series(temperature, index=day)\n",
    "temp_data"
   ]
  },
  {
   "cell_type": "code",
   "execution_count": 7,
   "id": "44504035-e273-4d91-b3d8-4b7043df7ba9",
   "metadata": {},
   "outputs": [
    {
     "data": {
      "text/plain": [
       "30"
      ]
     },
     "execution_count": 7,
     "metadata": {},
     "output_type": "execute_result"
    }
   ],
   "source": [
    "temp_data['day3']"
   ]
  },
  {
   "cell_type": "code",
   "execution_count": 11,
   "id": "50698052-5b5e-4c15-9bfc-9bf3fdaa1e3e",
   "metadata": {},
   "outputs": [
    {
     "data": {
      "text/plain": [
       "day3    30\n",
       "day4    32\n",
       "dtype: int64"
      ]
     },
     "execution_count": 11,
     "metadata": {},
     "output_type": "execute_result"
    }
   ],
   "source": [
    "temp_data[2:]"
   ]
  },
  {
   "cell_type": "code",
   "execution_count": 13,
   "id": "6378bb05-a01e-40cc-bf4a-ca2aac200497",
   "metadata": {},
   "outputs": [
    {
     "data": {
      "text/html": [
       "<div>\n",
       "<style scoped>\n",
       "    .dataframe tbody tr th:only-of-type {\n",
       "        vertical-align: middle;\n",
       "    }\n",
       "\n",
       "    .dataframe tbody tr th {\n",
       "        vertical-align: top;\n",
       "    }\n",
       "\n",
       "    .dataframe thead th {\n",
       "        text-align: right;\n",
       "    }\n",
       "</style>\n",
       "<table border=\"1\" class=\"dataframe\">\n",
       "  <thead>\n",
       "    <tr style=\"text-align: right;\">\n",
       "      <th></th>\n",
       "      <th>day</th>\n",
       "      <th>calories</th>\n",
       "      <th>duration_min</th>\n",
       "    </tr>\n",
       "  </thead>\n",
       "  <tbody>\n",
       "    <tr>\n",
       "      <th>0</th>\n",
       "      <td>day1</td>\n",
       "      <td>450</td>\n",
       "      <td>30</td>\n",
       "    </tr>\n",
       "    <tr>\n",
       "      <th>1</th>\n",
       "      <td>day2</td>\n",
       "      <td>300</td>\n",
       "      <td>25</td>\n",
       "    </tr>\n",
       "    <tr>\n",
       "      <th>2</th>\n",
       "      <td>day3</td>\n",
       "      <td>345</td>\n",
       "      <td>29</td>\n",
       "    </tr>\n",
       "    <tr>\n",
       "      <th>3</th>\n",
       "      <td>day4</td>\n",
       "      <td>520</td>\n",
       "      <td>39</td>\n",
       "    </tr>\n",
       "    <tr>\n",
       "      <th>4</th>\n",
       "      <td>day5</td>\n",
       "      <td>600</td>\n",
       "      <td>48</td>\n",
       "    </tr>\n",
       "  </tbody>\n",
       "</table>\n",
       "</div>"
      ],
      "text/plain": [
       "    day  calories  duration_min\n",
       "0  day1       450            30\n",
       "1  day2       300            25\n",
       "2  day3       345            29\n",
       "3  day4       520            39\n",
       "4  day5       600            48"
      ]
     },
     "execution_count": 13,
     "metadata": {},
     "output_type": "execute_result"
    }
   ],
   "source": [
    "calorie_data = pd.DataFrame({'day': ['day1','day2','day3','day4','day5']\n",
    "                           ,'calories': [450, 300, 345, 520, 600]\n",
    "                           ,'duration_min': [30, 25, 29, 39, 48]\n",
    "                           })\n",
    "calorie_data"
   ]
  },
  {
   "cell_type": "code",
   "execution_count": 14,
   "id": "154f3a15-a8d1-4283-beae-5bb534bf0179",
   "metadata": {},
   "outputs": [
    {
     "data": {
      "text/html": [
       "<div>\n",
       "<style scoped>\n",
       "    .dataframe tbody tr th:only-of-type {\n",
       "        vertical-align: middle;\n",
       "    }\n",
       "\n",
       "    .dataframe tbody tr th {\n",
       "        vertical-align: top;\n",
       "    }\n",
       "\n",
       "    .dataframe thead th {\n",
       "        text-align: right;\n",
       "    }\n",
       "</style>\n",
       "<table border=\"1\" class=\"dataframe\">\n",
       "  <thead>\n",
       "    <tr style=\"text-align: right;\">\n",
       "      <th></th>\n",
       "      <th>day</th>\n",
       "      <th>calories</th>\n",
       "      <th>duration_min</th>\n",
       "    </tr>\n",
       "  </thead>\n",
       "  <tbody>\n",
       "    <tr>\n",
       "      <th>0</th>\n",
       "      <td>day1</td>\n",
       "      <td>450</td>\n",
       "      <td>30</td>\n",
       "    </tr>\n",
       "    <tr>\n",
       "      <th>1</th>\n",
       "      <td>day2</td>\n",
       "      <td>300</td>\n",
       "      <td>25</td>\n",
       "    </tr>\n",
       "  </tbody>\n",
       "</table>\n",
       "</div>"
      ],
      "text/plain": [
       "    day  calories  duration_min\n",
       "0  day1       450            30\n",
       "1  day2       300            25"
      ]
     },
     "execution_count": 14,
     "metadata": {},
     "output_type": "execute_result"
    }
   ],
   "source": [
    "calorie_data[:2]"
   ]
  },
  {
   "cell_type": "code",
   "execution_count": 15,
   "id": "15d4bcfb-3a54-43ee-9155-bd1e902fe127",
   "metadata": {},
   "outputs": [
    {
     "data": {
      "text/plain": [
       "0    450\n",
       "1    300\n",
       "2    345\n",
       "3    520\n",
       "4    600\n",
       "Name: calories, dtype: int64"
      ]
     },
     "execution_count": 15,
     "metadata": {},
     "output_type": "execute_result"
    }
   ],
   "source": [
    "calorie_data['calories']"
   ]
  },
  {
   "cell_type": "code",
   "execution_count": 16,
   "id": "c17f9e02-dace-47c0-aa3d-df7af9ebec2a",
   "metadata": {},
   "outputs": [
    {
     "data": {
      "text/html": [
       "<div>\n",
       "<style scoped>\n",
       "    .dataframe tbody tr th:only-of-type {\n",
       "        vertical-align: middle;\n",
       "    }\n",
       "\n",
       "    .dataframe tbody tr th {\n",
       "        vertical-align: top;\n",
       "    }\n",
       "\n",
       "    .dataframe thead th {\n",
       "        text-align: right;\n",
       "    }\n",
       "</style>\n",
       "<table border=\"1\" class=\"dataframe\">\n",
       "  <thead>\n",
       "    <tr style=\"text-align: right;\">\n",
       "      <th></th>\n",
       "      <th>day</th>\n",
       "      <th>calories</th>\n",
       "      <th>duration_min</th>\n",
       "    </tr>\n",
       "  </thead>\n",
       "  <tbody>\n",
       "    <tr>\n",
       "      <th>0</th>\n",
       "      <td>day1</td>\n",
       "      <td>450</td>\n",
       "      <td>30</td>\n",
       "    </tr>\n",
       "    <tr>\n",
       "      <th>2</th>\n",
       "      <td>day3</td>\n",
       "      <td>345</td>\n",
       "      <td>29</td>\n",
       "    </tr>\n",
       "    <tr>\n",
       "      <th>4</th>\n",
       "      <td>day5</td>\n",
       "      <td>600</td>\n",
       "      <td>48</td>\n",
       "    </tr>\n",
       "  </tbody>\n",
       "</table>\n",
       "</div>"
      ],
      "text/plain": [
       "    day  calories  duration_min\n",
       "0  day1       450            30\n",
       "2  day3       345            29\n",
       "4  day5       600            48"
      ]
     },
     "execution_count": 16,
     "metadata": {},
     "output_type": "execute_result"
    }
   ],
   "source": [
    "calorie_data[::2]"
   ]
  },
  {
   "cell_type": "code",
   "execution_count": 20,
   "id": "789cfcc9-6086-4fc1-adad-62d0166bf9de",
   "metadata": {},
   "outputs": [
    {
     "data": {
      "text/plain": [
       "day             day1\n",
       "calories         450\n",
       "duration_min      30\n",
       "Name: 0, dtype: object"
      ]
     },
     "execution_count": 20,
     "metadata": {},
     "output_type": "execute_result"
    }
   ],
   "source": [
    "calorie_data.loc[0]"
   ]
  },
  {
   "cell_type": "code",
   "execution_count": 21,
   "id": "a8c18faf-d559-4792-bb02-adc001c44a76",
   "metadata": {},
   "outputs": [
    {
     "data": {
      "text/html": [
       "<div>\n",
       "<style scoped>\n",
       "    .dataframe tbody tr th:only-of-type {\n",
       "        vertical-align: middle;\n",
       "    }\n",
       "\n",
       "    .dataframe tbody tr th {\n",
       "        vertical-align: top;\n",
       "    }\n",
       "\n",
       "    .dataframe thead th {\n",
       "        text-align: right;\n",
       "    }\n",
       "</style>\n",
       "<table border=\"1\" class=\"dataframe\">\n",
       "  <thead>\n",
       "    <tr style=\"text-align: right;\">\n",
       "      <th></th>\n",
       "      <th>calories</th>\n",
       "    </tr>\n",
       "  </thead>\n",
       "  <tbody>\n",
       "    <tr>\n",
       "      <th>1</th>\n",
       "      <td>300</td>\n",
       "    </tr>\n",
       "    <tr>\n",
       "      <th>2</th>\n",
       "      <td>345</td>\n",
       "    </tr>\n",
       "  </tbody>\n",
       "</table>\n",
       "</div>"
      ],
      "text/plain": [
       "   calories\n",
       "1       300\n",
       "2       345"
      ]
     },
     "execution_count": 21,
     "metadata": {},
     "output_type": "execute_result"
    }
   ],
   "source": [
    "calorie_data.loc[[1,2],['calories']]"
   ]
  },
  {
   "cell_type": "code",
   "execution_count": 22,
   "id": "83d189d7-fd56-4215-ab16-43e64349769d",
   "metadata": {},
   "outputs": [
    {
     "data": {
      "text/html": [
       "<div>\n",
       "<style scoped>\n",
       "    .dataframe tbody tr th:only-of-type {\n",
       "        vertical-align: middle;\n",
       "    }\n",
       "\n",
       "    .dataframe tbody tr th {\n",
       "        vertical-align: top;\n",
       "    }\n",
       "\n",
       "    .dataframe thead th {\n",
       "        text-align: right;\n",
       "    }\n",
       "</style>\n",
       "<table border=\"1\" class=\"dataframe\">\n",
       "  <thead>\n",
       "    <tr style=\"text-align: right;\">\n",
       "      <th></th>\n",
       "      <th>calories</th>\n",
       "    </tr>\n",
       "  </thead>\n",
       "  <tbody>\n",
       "    <tr>\n",
       "      <th>1</th>\n",
       "      <td>300</td>\n",
       "    </tr>\n",
       "    <tr>\n",
       "      <th>2</th>\n",
       "      <td>345</td>\n",
       "    </tr>\n",
       "  </tbody>\n",
       "</table>\n",
       "</div>"
      ],
      "text/plain": [
       "   calories\n",
       "1       300\n",
       "2       345"
      ]
     },
     "execution_count": 22,
     "metadata": {},
     "output_type": "execute_result"
    }
   ],
   "source": [
    "calorie_data.iloc[[1,2],[1]]"
   ]
  },
  {
   "cell_type": "code",
   "execution_count": 23,
   "id": "b752803a-bdea-42ef-93f1-8d830909845e",
   "metadata": {},
   "outputs": [
    {
     "data": {
      "text/html": [
       "<div>\n",
       "<style scoped>\n",
       "    .dataframe tbody tr th:only-of-type {\n",
       "        vertical-align: middle;\n",
       "    }\n",
       "\n",
       "    .dataframe tbody tr th {\n",
       "        vertical-align: top;\n",
       "    }\n",
       "\n",
       "    .dataframe thead th {\n",
       "        text-align: right;\n",
       "    }\n",
       "</style>\n",
       "<table border=\"1\" class=\"dataframe\">\n",
       "  <thead>\n",
       "    <tr style=\"text-align: right;\">\n",
       "      <th></th>\n",
       "      <th>day</th>\n",
       "      <th>calories</th>\n",
       "      <th>duration_min</th>\n",
       "    </tr>\n",
       "  </thead>\n",
       "  <tbody>\n",
       "    <tr>\n",
       "      <th>3</th>\n",
       "      <td>day4</td>\n",
       "      <td>520</td>\n",
       "      <td>39</td>\n",
       "    </tr>\n",
       "    <tr>\n",
       "      <th>4</th>\n",
       "      <td>day5</td>\n",
       "      <td>600</td>\n",
       "      <td>48</td>\n",
       "    </tr>\n",
       "  </tbody>\n",
       "</table>\n",
       "</div>"
      ],
      "text/plain": [
       "    day  calories  duration_min\n",
       "3  day4       520            39\n",
       "4  day5       600            48"
      ]
     },
     "execution_count": 23,
     "metadata": {},
     "output_type": "execute_result"
    }
   ],
   "source": [
    "calorie_data.loc[calorie_data['calories']>500]"
   ]
  },
  {
   "cell_type": "code",
   "execution_count": 26,
   "id": "c804e618-38a1-4572-a6cc-b4a106c9ab7c",
   "metadata": {},
   "outputs": [
    {
     "name": "stdout",
     "output_type": "stream",
     "text": [
      "2022-01-29\n"
     ]
    }
   ],
   "source": [
    "import datetime\n",
    "date = datetime.date(2022, 1, 29)\n",
    "print(date)"
   ]
  },
  {
   "cell_type": "code",
   "execution_count": 28,
   "id": "d226dc64-3520-4894-9009-f08b29f98b21",
   "metadata": {},
   "outputs": [
    {
     "data": {
      "text/plain": [
       "0     3.14\n",
       "1       pi\n",
       "2    2.718\n",
       "dtype: object"
      ]
     },
     "execution_count": 28,
     "metadata": {},
     "output_type": "execute_result"
    }
   ],
   "source": [
    "bucket = [3.14, 'pi', 2.718]\n",
    "\n",
    "a = pd.Series(bucket)\n",
    "a"
   ]
  },
  {
   "cell_type": "code",
   "execution_count": 29,
   "id": "c49371ac-2601-4989-a7f9-f80ef8de59eb",
   "metadata": {},
   "outputs": [],
   "source": [
    "df = pd.DataFrame({\n",
    "    \"Age\": [25, 34, 45, 29, 52],\n",
    "    \"Sex\": [\"Male\", \"Female\", \"Male\", \"Female\", \"Male\"],\n",
    "    \"Job\": [\"Skilled\", \"Unskilled & Non-resident\", \"Highly Skilled\", \"Skilled\", \"Unskilled & Non-resident\"],\n",
    "    \"Housing\": [\"Own\", \"Rent\", \"Free\", \"Own\", \"Rent\"],\n",
    "    \"Saving accounts\": [\"Little\", \"Moderate\", \"Rich\", \"Quite Rich\", \"Moderate\"],\n",
    "    \"Checking account\": [\"Little\", \"Moderate\", \"Rich\", \"Moderate\", \"Little\"],\n",
    "    \"Credit amount\": [5000, 10000, 15000, 8000, 12000],\n",
    "    \"Purpose\": [\"Car\", \"Education\", \"Business\", \"Furniture/Equipment\", \"Vacation/Others\"]\n",
    "})\n",
    "\n",
    "df.to_csv('data.csv',index=False)"
   ]
  },
  {
   "cell_type": "code",
   "execution_count": 34,
   "id": "e9f2c3df-50fc-4453-8f25-7bba37dfaffc",
   "metadata": {},
   "outputs": [
    {
     "data": {
      "text/plain": [
       "'Quite Rich'"
      ]
     },
     "execution_count": 34,
     "metadata": {},
     "output_type": "execute_result"
    }
   ],
   "source": [
    "value = df.iloc[3, 4]\n",
    "value"
   ]
  },
  {
   "cell_type": "code",
   "execution_count": 35,
   "id": "8512589e-dcb1-4f37-a82a-2e11a3158f1e",
   "metadata": {},
   "outputs": [
    {
     "data": {
      "text/plain": [
       "0    True\n",
       "1    True\n",
       "2    True\n",
       "3    True\n",
       "4    True\n",
       "Name: Age, dtype: bool"
      ]
     },
     "execution_count": 35,
     "metadata": {},
     "output_type": "execute_result"
    }
   ],
   "source": [
    "age_filtered = df['Age'] > 23\n",
    "age_filtered"
   ]
  },
  {
   "cell_type": "code",
   "execution_count": 41,
   "id": "8fe1d574-e21d-4f56-a4f4-d9fdc05b3c41",
   "metadata": {},
   "outputs": [
    {
     "data": {
      "text/html": [
       "<div>\n",
       "<style scoped>\n",
       "    .dataframe tbody tr th:only-of-type {\n",
       "        vertical-align: middle;\n",
       "    }\n",
       "\n",
       "    .dataframe tbody tr th {\n",
       "        vertical-align: top;\n",
       "    }\n",
       "\n",
       "    .dataframe thead th {\n",
       "        text-align: right;\n",
       "    }\n",
       "</style>\n",
       "<table border=\"1\" class=\"dataframe\">\n",
       "  <thead>\n",
       "    <tr style=\"text-align: right;\">\n",
       "      <th></th>\n",
       "      <th>Age</th>\n",
       "      <th>Sex</th>\n",
       "      <th>Job</th>\n",
       "      <th>Housing</th>\n",
       "      <th>Saving accounts</th>\n",
       "      <th>Checking account</th>\n",
       "      <th>Credit amount</th>\n",
       "      <th>Purpose</th>\n",
       "      <th>result</th>\n",
       "    </tr>\n",
       "  </thead>\n",
       "  <tbody>\n",
       "    <tr>\n",
       "      <th>0</th>\n",
       "      <td>25</td>\n",
       "      <td>Male</td>\n",
       "      <td>Skilled</td>\n",
       "      <td>Own</td>\n",
       "      <td>Little</td>\n",
       "      <td>Little</td>\n",
       "      <td>5000</td>\n",
       "      <td>Car</td>\n",
       "      <td>True</td>\n",
       "    </tr>\n",
       "    <tr>\n",
       "      <th>1</th>\n",
       "      <td>34</td>\n",
       "      <td>Female</td>\n",
       "      <td>Unskilled &amp; Non-resident</td>\n",
       "      <td>Rent</td>\n",
       "      <td>Moderate</td>\n",
       "      <td>Moderate</td>\n",
       "      <td>10000</td>\n",
       "      <td>Education</td>\n",
       "      <td>True</td>\n",
       "    </tr>\n",
       "    <tr>\n",
       "      <th>2</th>\n",
       "      <td>45</td>\n",
       "      <td>Male</td>\n",
       "      <td>Highly Skilled</td>\n",
       "      <td>Free</td>\n",
       "      <td>Rich</td>\n",
       "      <td>Rich</td>\n",
       "      <td>15000</td>\n",
       "      <td>Business</td>\n",
       "      <td>True</td>\n",
       "    </tr>\n",
       "    <tr>\n",
       "      <th>3</th>\n",
       "      <td>29</td>\n",
       "      <td>Female</td>\n",
       "      <td>Skilled</td>\n",
       "      <td>Own</td>\n",
       "      <td>Quite Rich</td>\n",
       "      <td>Moderate</td>\n",
       "      <td>8000</td>\n",
       "      <td>Furniture/Equipment</td>\n",
       "      <td>True</td>\n",
       "    </tr>\n",
       "    <tr>\n",
       "      <th>4</th>\n",
       "      <td>52</td>\n",
       "      <td>Male</td>\n",
       "      <td>Unskilled &amp; Non-resident</td>\n",
       "      <td>Rent</td>\n",
       "      <td>Moderate</td>\n",
       "      <td>Little</td>\n",
       "      <td>12000</td>\n",
       "      <td>Vacation/Others</td>\n",
       "      <td>True</td>\n",
       "    </tr>\n",
       "  </tbody>\n",
       "</table>\n",
       "</div>"
      ],
      "text/plain": [
       "   Age     Sex                       Job Housing Saving accounts  \\\n",
       "0   25    Male                   Skilled     Own          Little   \n",
       "1   34  Female  Unskilled & Non-resident    Rent        Moderate   \n",
       "2   45    Male            Highly Skilled    Free            Rich   \n",
       "3   29  Female                   Skilled     Own      Quite Rich   \n",
       "4   52    Male  Unskilled & Non-resident    Rent        Moderate   \n",
       "\n",
       "  Checking account  Credit amount              Purpose  result  \n",
       "0           Little           5000                  Car    True  \n",
       "1         Moderate          10000            Education    True  \n",
       "2             Rich          15000             Business    True  \n",
       "3         Moderate           8000  Furniture/Equipment    True  \n",
       "4           Little          12000      Vacation/Others    True  "
      ]
     },
     "execution_count": 41,
     "metadata": {},
     "output_type": "execute_result"
    }
   ],
   "source": [
    "result = df[age_filtered]\n",
    "result"
   ]
  },
  {
   "cell_type": "code",
   "execution_count": 42,
   "id": "98d6c438-9e61-41ba-a18e-0f4c60026b19",
   "metadata": {},
   "outputs": [
    {
     "data": {
      "text/plain": [
       "37.0"
      ]
     },
     "execution_count": 42,
     "metadata": {},
     "output_type": "execute_result"
    }
   ],
   "source": [
    "mean = df['Age'].mean()\n",
    "mean"
   ]
  },
  {
   "cell_type": "code",
   "execution_count": 45,
   "id": "643318bc-3e53-49d0-84e8-ef3f517eec2a",
   "metadata": {},
   "outputs": [
    {
     "data": {
      "text/plain": [
       "5000"
      ]
     },
     "execution_count": 45,
     "metadata": {},
     "output_type": "execute_result"
    }
   ],
   "source": [
    "min_amount = df['Credit amount'].min()\n",
    "min_amount"
   ]
  },
  {
   "cell_type": "code",
   "execution_count": 49,
   "id": "d7919d8f-e34c-4a72-9a8a-e5bae6e6d51c",
   "metadata": {},
   "outputs": [
    {
     "name": "stdout",
     "output_type": "stream",
     "text": [
      "<pandas.core.groupby.generic.DataFrameGroupBy object at 0x0000015DDC2FC4A0>\n"
     ]
    }
   ],
   "source": [
    "group = df.groupby('Sex')\n",
    "min_age = group['Age'].min()\n",
    "min_age"
   ]
  },
  {
   "cell_type": "code",
   "execution_count": 50,
   "id": "b05ae43b-38ec-40db-9ce8-6c74286bb598",
   "metadata": {},
   "outputs": [
    {
     "data": {
      "text/html": [
       "<div>\n",
       "<style scoped>\n",
       "    .dataframe tbody tr th:only-of-type {\n",
       "        vertical-align: middle;\n",
       "    }\n",
       "\n",
       "    .dataframe tbody tr th {\n",
       "        vertical-align: top;\n",
       "    }\n",
       "\n",
       "    .dataframe thead th {\n",
       "        text-align: right;\n",
       "    }\n",
       "</style>\n",
       "<table border=\"1\" class=\"dataframe\">\n",
       "  <thead>\n",
       "    <tr style=\"text-align: right;\">\n",
       "      <th></th>\n",
       "      <th>Age_x</th>\n",
       "      <th>Sex</th>\n",
       "      <th>Job_x</th>\n",
       "      <th>Housing_x</th>\n",
       "      <th>Saving accounts_x</th>\n",
       "      <th>Checking account_x</th>\n",
       "      <th>Credit amount_x</th>\n",
       "      <th>Purpose_x</th>\n",
       "      <th>result_x</th>\n",
       "      <th>Age_y</th>\n",
       "      <th>Job_y</th>\n",
       "      <th>Housing_y</th>\n",
       "      <th>Saving accounts_y</th>\n",
       "      <th>Checking account_y</th>\n",
       "      <th>Credit amount_y</th>\n",
       "      <th>Purpose_y</th>\n",
       "      <th>result_y</th>\n",
       "    </tr>\n",
       "  </thead>\n",
       "  <tbody>\n",
       "    <tr>\n",
       "      <th>0</th>\n",
       "      <td>25</td>\n",
       "      <td>Male</td>\n",
       "      <td>Skilled</td>\n",
       "      <td>Own</td>\n",
       "      <td>Little</td>\n",
       "      <td>Little</td>\n",
       "      <td>5000</td>\n",
       "      <td>Car</td>\n",
       "      <td>True</td>\n",
       "      <td>25</td>\n",
       "      <td>Skilled</td>\n",
       "      <td>Own</td>\n",
       "      <td>Little</td>\n",
       "      <td>Little</td>\n",
       "      <td>5000</td>\n",
       "      <td>Car</td>\n",
       "      <td>True</td>\n",
       "    </tr>\n",
       "    <tr>\n",
       "      <th>1</th>\n",
       "      <td>25</td>\n",
       "      <td>Male</td>\n",
       "      <td>Skilled</td>\n",
       "      <td>Own</td>\n",
       "      <td>Little</td>\n",
       "      <td>Little</td>\n",
       "      <td>5000</td>\n",
       "      <td>Car</td>\n",
       "      <td>True</td>\n",
       "      <td>45</td>\n",
       "      <td>Highly Skilled</td>\n",
       "      <td>Free</td>\n",
       "      <td>Rich</td>\n",
       "      <td>Rich</td>\n",
       "      <td>15000</td>\n",
       "      <td>Business</td>\n",
       "      <td>True</td>\n",
       "    </tr>\n",
       "    <tr>\n",
       "      <th>2</th>\n",
       "      <td>25</td>\n",
       "      <td>Male</td>\n",
       "      <td>Skilled</td>\n",
       "      <td>Own</td>\n",
       "      <td>Little</td>\n",
       "      <td>Little</td>\n",
       "      <td>5000</td>\n",
       "      <td>Car</td>\n",
       "      <td>True</td>\n",
       "      <td>52</td>\n",
       "      <td>Unskilled &amp; Non-resident</td>\n",
       "      <td>Rent</td>\n",
       "      <td>Moderate</td>\n",
       "      <td>Little</td>\n",
       "      <td>12000</td>\n",
       "      <td>Vacation/Others</td>\n",
       "      <td>True</td>\n",
       "    </tr>\n",
       "    <tr>\n",
       "      <th>3</th>\n",
       "      <td>34</td>\n",
       "      <td>Female</td>\n",
       "      <td>Unskilled &amp; Non-resident</td>\n",
       "      <td>Rent</td>\n",
       "      <td>Moderate</td>\n",
       "      <td>Moderate</td>\n",
       "      <td>10000</td>\n",
       "      <td>Education</td>\n",
       "      <td>True</td>\n",
       "      <td>34</td>\n",
       "      <td>Unskilled &amp; Non-resident</td>\n",
       "      <td>Rent</td>\n",
       "      <td>Moderate</td>\n",
       "      <td>Moderate</td>\n",
       "      <td>10000</td>\n",
       "      <td>Education</td>\n",
       "      <td>True</td>\n",
       "    </tr>\n",
       "    <tr>\n",
       "      <th>4</th>\n",
       "      <td>34</td>\n",
       "      <td>Female</td>\n",
       "      <td>Unskilled &amp; Non-resident</td>\n",
       "      <td>Rent</td>\n",
       "      <td>Moderate</td>\n",
       "      <td>Moderate</td>\n",
       "      <td>10000</td>\n",
       "      <td>Education</td>\n",
       "      <td>True</td>\n",
       "      <td>29</td>\n",
       "      <td>Skilled</td>\n",
       "      <td>Own</td>\n",
       "      <td>Quite Rich</td>\n",
       "      <td>Moderate</td>\n",
       "      <td>8000</td>\n",
       "      <td>Furniture/Equipment</td>\n",
       "      <td>True</td>\n",
       "    </tr>\n",
       "    <tr>\n",
       "      <th>5</th>\n",
       "      <td>45</td>\n",
       "      <td>Male</td>\n",
       "      <td>Highly Skilled</td>\n",
       "      <td>Free</td>\n",
       "      <td>Rich</td>\n",
       "      <td>Rich</td>\n",
       "      <td>15000</td>\n",
       "      <td>Business</td>\n",
       "      <td>True</td>\n",
       "      <td>25</td>\n",
       "      <td>Skilled</td>\n",
       "      <td>Own</td>\n",
       "      <td>Little</td>\n",
       "      <td>Little</td>\n",
       "      <td>5000</td>\n",
       "      <td>Car</td>\n",
       "      <td>True</td>\n",
       "    </tr>\n",
       "    <tr>\n",
       "      <th>6</th>\n",
       "      <td>45</td>\n",
       "      <td>Male</td>\n",
       "      <td>Highly Skilled</td>\n",
       "      <td>Free</td>\n",
       "      <td>Rich</td>\n",
       "      <td>Rich</td>\n",
       "      <td>15000</td>\n",
       "      <td>Business</td>\n",
       "      <td>True</td>\n",
       "      <td>45</td>\n",
       "      <td>Highly Skilled</td>\n",
       "      <td>Free</td>\n",
       "      <td>Rich</td>\n",
       "      <td>Rich</td>\n",
       "      <td>15000</td>\n",
       "      <td>Business</td>\n",
       "      <td>True</td>\n",
       "    </tr>\n",
       "    <tr>\n",
       "      <th>7</th>\n",
       "      <td>45</td>\n",
       "      <td>Male</td>\n",
       "      <td>Highly Skilled</td>\n",
       "      <td>Free</td>\n",
       "      <td>Rich</td>\n",
       "      <td>Rich</td>\n",
       "      <td>15000</td>\n",
       "      <td>Business</td>\n",
       "      <td>True</td>\n",
       "      <td>52</td>\n",
       "      <td>Unskilled &amp; Non-resident</td>\n",
       "      <td>Rent</td>\n",
       "      <td>Moderate</td>\n",
       "      <td>Little</td>\n",
       "      <td>12000</td>\n",
       "      <td>Vacation/Others</td>\n",
       "      <td>True</td>\n",
       "    </tr>\n",
       "    <tr>\n",
       "      <th>8</th>\n",
       "      <td>29</td>\n",
       "      <td>Female</td>\n",
       "      <td>Skilled</td>\n",
       "      <td>Own</td>\n",
       "      <td>Quite Rich</td>\n",
       "      <td>Moderate</td>\n",
       "      <td>8000</td>\n",
       "      <td>Furniture/Equipment</td>\n",
       "      <td>True</td>\n",
       "      <td>34</td>\n",
       "      <td>Unskilled &amp; Non-resident</td>\n",
       "      <td>Rent</td>\n",
       "      <td>Moderate</td>\n",
       "      <td>Moderate</td>\n",
       "      <td>10000</td>\n",
       "      <td>Education</td>\n",
       "      <td>True</td>\n",
       "    </tr>\n",
       "    <tr>\n",
       "      <th>9</th>\n",
       "      <td>29</td>\n",
       "      <td>Female</td>\n",
       "      <td>Skilled</td>\n",
       "      <td>Own</td>\n",
       "      <td>Quite Rich</td>\n",
       "      <td>Moderate</td>\n",
       "      <td>8000</td>\n",
       "      <td>Furniture/Equipment</td>\n",
       "      <td>True</td>\n",
       "      <td>29</td>\n",
       "      <td>Skilled</td>\n",
       "      <td>Own</td>\n",
       "      <td>Quite Rich</td>\n",
       "      <td>Moderate</td>\n",
       "      <td>8000</td>\n",
       "      <td>Furniture/Equipment</td>\n",
       "      <td>True</td>\n",
       "    </tr>\n",
       "    <tr>\n",
       "      <th>10</th>\n",
       "      <td>52</td>\n",
       "      <td>Male</td>\n",
       "      <td>Unskilled &amp; Non-resident</td>\n",
       "      <td>Rent</td>\n",
       "      <td>Moderate</td>\n",
       "      <td>Little</td>\n",
       "      <td>12000</td>\n",
       "      <td>Vacation/Others</td>\n",
       "      <td>True</td>\n",
       "      <td>25</td>\n",
       "      <td>Skilled</td>\n",
       "      <td>Own</td>\n",
       "      <td>Little</td>\n",
       "      <td>Little</td>\n",
       "      <td>5000</td>\n",
       "      <td>Car</td>\n",
       "      <td>True</td>\n",
       "    </tr>\n",
       "    <tr>\n",
       "      <th>11</th>\n",
       "      <td>52</td>\n",
       "      <td>Male</td>\n",
       "      <td>Unskilled &amp; Non-resident</td>\n",
       "      <td>Rent</td>\n",
       "      <td>Moderate</td>\n",
       "      <td>Little</td>\n",
       "      <td>12000</td>\n",
       "      <td>Vacation/Others</td>\n",
       "      <td>True</td>\n",
       "      <td>45</td>\n",
       "      <td>Highly Skilled</td>\n",
       "      <td>Free</td>\n",
       "      <td>Rich</td>\n",
       "      <td>Rich</td>\n",
       "      <td>15000</td>\n",
       "      <td>Business</td>\n",
       "      <td>True</td>\n",
       "    </tr>\n",
       "    <tr>\n",
       "      <th>12</th>\n",
       "      <td>52</td>\n",
       "      <td>Male</td>\n",
       "      <td>Unskilled &amp; Non-resident</td>\n",
       "      <td>Rent</td>\n",
       "      <td>Moderate</td>\n",
       "      <td>Little</td>\n",
       "      <td>12000</td>\n",
       "      <td>Vacation/Others</td>\n",
       "      <td>True</td>\n",
       "      <td>52</td>\n",
       "      <td>Unskilled &amp; Non-resident</td>\n",
       "      <td>Rent</td>\n",
       "      <td>Moderate</td>\n",
       "      <td>Little</td>\n",
       "      <td>12000</td>\n",
       "      <td>Vacation/Others</td>\n",
       "      <td>True</td>\n",
       "    </tr>\n",
       "  </tbody>\n",
       "</table>\n",
       "</div>"
      ],
      "text/plain": [
       "    Age_x     Sex                     Job_x Housing_x Saving accounts_x  \\\n",
       "0      25    Male                   Skilled       Own            Little   \n",
       "1      25    Male                   Skilled       Own            Little   \n",
       "2      25    Male                   Skilled       Own            Little   \n",
       "3      34  Female  Unskilled & Non-resident      Rent          Moderate   \n",
       "4      34  Female  Unskilled & Non-resident      Rent          Moderate   \n",
       "5      45    Male            Highly Skilled      Free              Rich   \n",
       "6      45    Male            Highly Skilled      Free              Rich   \n",
       "7      45    Male            Highly Skilled      Free              Rich   \n",
       "8      29  Female                   Skilled       Own        Quite Rich   \n",
       "9      29  Female                   Skilled       Own        Quite Rich   \n",
       "10     52    Male  Unskilled & Non-resident      Rent          Moderate   \n",
       "11     52    Male  Unskilled & Non-resident      Rent          Moderate   \n",
       "12     52    Male  Unskilled & Non-resident      Rent          Moderate   \n",
       "\n",
       "   Checking account_x  Credit amount_x            Purpose_x  result_x  Age_y  \\\n",
       "0              Little             5000                  Car      True     25   \n",
       "1              Little             5000                  Car      True     45   \n",
       "2              Little             5000                  Car      True     52   \n",
       "3            Moderate            10000            Education      True     34   \n",
       "4            Moderate            10000            Education      True     29   \n",
       "5                Rich            15000             Business      True     25   \n",
       "6                Rich            15000             Business      True     45   \n",
       "7                Rich            15000             Business      True     52   \n",
       "8            Moderate             8000  Furniture/Equipment      True     34   \n",
       "9            Moderate             8000  Furniture/Equipment      True     29   \n",
       "10             Little            12000      Vacation/Others      True     25   \n",
       "11             Little            12000      Vacation/Others      True     45   \n",
       "12             Little            12000      Vacation/Others      True     52   \n",
       "\n",
       "                       Job_y Housing_y Saving accounts_y Checking account_y  \\\n",
       "0                    Skilled       Own            Little             Little   \n",
       "1             Highly Skilled      Free              Rich               Rich   \n",
       "2   Unskilled & Non-resident      Rent          Moderate             Little   \n",
       "3   Unskilled & Non-resident      Rent          Moderate           Moderate   \n",
       "4                    Skilled       Own        Quite Rich           Moderate   \n",
       "5                    Skilled       Own            Little             Little   \n",
       "6             Highly Skilled      Free              Rich               Rich   \n",
       "7   Unskilled & Non-resident      Rent          Moderate             Little   \n",
       "8   Unskilled & Non-resident      Rent          Moderate           Moderate   \n",
       "9                    Skilled       Own        Quite Rich           Moderate   \n",
       "10                   Skilled       Own            Little             Little   \n",
       "11            Highly Skilled      Free              Rich               Rich   \n",
       "12  Unskilled & Non-resident      Rent          Moderate             Little   \n",
       "\n",
       "    Credit amount_y            Purpose_y  result_y  \n",
       "0              5000                  Car      True  \n",
       "1             15000             Business      True  \n",
       "2             12000      Vacation/Others      True  \n",
       "3             10000            Education      True  \n",
       "4              8000  Furniture/Equipment      True  \n",
       "5              5000                  Car      True  \n",
       "6             15000             Business      True  \n",
       "7             12000      Vacation/Others      True  \n",
       "8             10000            Education      True  \n",
       "9              8000  Furniture/Equipment      True  \n",
       "10             5000                  Car      True  \n",
       "11            15000             Business      True  \n",
       "12            12000      Vacation/Others      True  "
      ]
     },
     "execution_count": 50,
     "metadata": {},
     "output_type": "execute_result"
    }
   ],
   "source": [
    "merged = pd.merge(df, df, on='Sex', how='inner')\n",
    "merged"
   ]
  },
  {
   "cell_type": "code",
   "execution_count": 59,
   "id": "b5ba604e-33ab-4763-b353-cecf47a002cf",
   "metadata": {},
   "outputs": [
    {
     "data": {
      "text/plain": [
       "(2, 5)"
      ]
     },
     "execution_count": 59,
     "metadata": {},
     "output_type": "execute_result"
    }
   ],
   "source": [
    "data = [200, 450, 150, 400, 500, 700]\n",
    "\n",
    "sales_array = np.array(data)\n",
    "min_index = np.argmin(sales_array)\n",
    "max_index = np.argmax(sales_array)\n",
    "min_index, max_index"
   ]
  },
  {
   "cell_type": "code",
   "execution_count": 60,
   "id": "d8995a68-1b1b-4433-af3b-552606eb2583",
   "metadata": {},
   "outputs": [
    {
     "data": {
      "text/plain": [
       "array([100, 150, 200, 250, 300, 350])"
      ]
     },
     "execution_count": 60,
     "metadata": {},
     "output_type": "execute_result"
    }
   ],
   "source": [
    "data = [100, 150, 200, 250, 300]\n",
    "sales_array = np.array(data)\n",
    "new_sale = 350\n",
    "updated_sales_data = np.append(sales_array, new_sale)\n",
    "updated_sales_data"
   ]
  },
  {
   "cell_type": "code",
   "execution_count": 63,
   "id": "5140597c-3326-4a6c-8c0d-3e22021f1845",
   "metadata": {},
   "outputs": [
    {
     "data": {
      "text/plain": [
       "array([ 80,  85,  90,  95, 100,  70,  75,  80,  85,  90])"
      ]
     },
     "execution_count": 63,
     "metadata": {},
     "output_type": "execute_result"
    }
   ],
   "source": [
    "team_a_scores = np.array([80, 85, 90, 95, 100])\n",
    "team_b_scores = np.array([70, 75, 80, 85, 90])\n",
    "all_team_scores = np.concatenate((team_a_scores, team_b_scores))\n",
    "all_team_scores"
   ]
  },
  {
   "cell_type": "code",
   "execution_count": 65,
   "id": "c26c25c7-89d8-42f3-a483-65f97ee2d992",
   "metadata": {},
   "outputs": [
    {
     "data": {
      "text/plain": [
       "363"
      ]
     },
     "execution_count": 65,
     "metadata": {},
     "output_type": "execute_result"
    }
   ],
   "source": [
    "daily_temperatures = [72, 75, 78, 70, 68]\n",
    "total_temperature = np.sum(daily_temperatures)\n",
    "total_temperature"
   ]
  },
  {
   "cell_type": "code",
   "execution_count": 67,
   "id": "5ede354c-bd31-42c7-bd85-7eb96054b9cc",
   "metadata": {},
   "outputs": [
    {
     "data": {
      "text/plain": [
       "88.4"
      ]
     },
     "execution_count": 67,
     "metadata": {},
     "output_type": "execute_result"
    }
   ],
   "source": [
    "exam_scores = [85, 90, 88, 92, 87]\n",
    "\n",
    "average_score = np.mean(exam_scores)\n",
    "\n",
    "average_score"
   ]
  },
  {
   "cell_type": "code",
   "execution_count": 69,
   "id": "4d32e916-dd8a-4bf4-9e46-f7a47533d18e",
   "metadata": {},
   "outputs": [
    {
     "data": {
      "text/plain": [
       "35.0"
      ]
     },
     "execution_count": 69,
     "metadata": {},
     "output_type": "execute_result"
    }
   ],
   "source": [
    "age_data = [25, 30, 35, 40, 45]\n",
    "median_age = np.median(age_data)\n",
    "median_age"
   ]
  },
  {
   "cell_type": "code",
   "execution_count": 73,
   "id": "ad5ad66e-e265-41a4-a45c-a936e24676a2",
   "metadata": {},
   "outputs": [
    {
     "data": {
      "text/plain": [
       "array([200, 250, 300, 350])"
      ]
     },
     "execution_count": 73,
     "metadata": {},
     "output_type": "execute_result"
    }
   ],
   "source": [
    "sales_data = [150, 200, 250, 300, 350]\n",
    "\n",
    "array = np.array(sales_data)\n",
    "\n",
    "sliced_array = array[1:5]\n",
    "sliced_array"
   ]
  },
  {
   "cell_type": "code",
   "execution_count": 75,
   "id": "0bf18b8d-bc3a-4cdf-8e27-51a7c2dee13f",
   "metadata": {},
   "outputs": [
    {
     "data": {
      "text/plain": [
       "array([[35, 74],\n",
       "       [37, 37],\n",
       "       [39, 93]])"
      ]
     },
     "execution_count": 75,
     "metadata": {},
     "output_type": "execute_result"
    }
   ],
   "source": [
    "demo_matrix = np.array(([13,35,74,48], [23,37,37,38],[73,39,93,39]))\n",
    "demo_matrix[0:3, 1:3]"
   ]
  },
  {
   "cell_type": "code",
   "execution_count": 76,
   "id": "08e57441-54b6-412a-9133-ad156899a0a8",
   "metadata": {},
   "outputs": [
    {
     "data": {
      "text/plain": [
       "array([[13, 35, 74, 48],\n",
       "       [23, 37, 37, 38],\n",
       "       [73, 39, 93, 39]])"
      ]
     },
     "execution_count": 76,
     "metadata": {},
     "output_type": "execute_result"
    }
   ],
   "source": [
    "demo_matrix"
   ]
  },
  {
   "cell_type": "code",
   "execution_count": 79,
   "id": "d771aecc-8a94-4989-a22a-d3ed5316fc0b",
   "metadata": {},
   "outputs": [
    {
     "data": {
      "text/plain": [
       "array([5.        , 5.        , 5.        , 5.        , 5.        ,\n",
       "       5.        , 5.        , 0.52146051, 0.13591934, 0.93194744])"
      ]
     },
     "execution_count": 79,
     "metadata": {},
     "output_type": "execute_result"
    }
   ],
   "source": [
    "demo_array = np.random.rand(10)\n",
    "demo_array[0:7] = 5\n",
    "demo_array"
   ]
  },
  {
   "cell_type": "code",
   "execution_count": 82,
   "id": "65397ed9-0bb4-4e98-8283-852af72ab122",
   "metadata": {},
   "outputs": [
    {
     "data": {
      "text/plain": [
       "array([0, 1, 2, 3, 4, 5, 6, 7, 8, 9])"
      ]
     },
     "execution_count": 82,
     "metadata": {},
     "output_type": "execute_result"
    }
   ],
   "source": [
    "demo_array = np.arange(0,10)\n",
    "demo_array"
   ]
  },
  {
   "cell_type": "code",
   "execution_count": 83,
   "id": "90807092-9fb6-4f1e-9b4b-88c262c4e4cd",
   "metadata": {},
   "outputs": [
    {
     "data": {
      "text/plain": [
       "5"
      ]
     },
     "execution_count": 83,
     "metadata": {},
     "output_type": "execute_result"
    }
   ],
   "source": [
    "flowers = pd.Series([2, 3, 5, 4], index=['lily', 'rose', 'daisy', 'lotus'])\n",
    "flowers['daisy']"
   ]
  },
  {
   "cell_type": "code",
   "execution_count": 102,
   "id": "0c4fb717-fe6d-45d7-93a0-4aa7c7563672",
   "metadata": {},
   "outputs": [
    {
     "data": {
      "text/html": [
       "<div>\n",
       "<style scoped>\n",
       "    .dataframe tbody tr th:only-of-type {\n",
       "        vertical-align: middle;\n",
       "    }\n",
       "\n",
       "    .dataframe tbody tr th {\n",
       "        vertical-align: top;\n",
       "    }\n",
       "\n",
       "    .dataframe thead th {\n",
       "        text-align: right;\n",
       "    }\n",
       "</style>\n",
       "<table border=\"1\" class=\"dataframe\">\n",
       "  <thead>\n",
       "    <tr style=\"text-align: right;\">\n",
       "      <th></th>\n",
       "      <th>customer</th>\n",
       "      <th>category</th>\n",
       "      <th>important</th>\n",
       "      <th>sales</th>\n",
       "    </tr>\n",
       "  </thead>\n",
       "  <tbody>\n",
       "    <tr>\n",
       "      <th>0</th>\n",
       "      <td>101</td>\n",
       "      <td>cat2</td>\n",
       "      <td>yes</td>\n",
       "      <td>123</td>\n",
       "    </tr>\n",
       "    <tr>\n",
       "      <th>1</th>\n",
       "      <td>102</td>\n",
       "      <td>cat2</td>\n",
       "      <td>no</td>\n",
       "      <td>52</td>\n",
       "    </tr>\n",
       "    <tr>\n",
       "      <th>2</th>\n",
       "      <td>103</td>\n",
       "      <td>cat1</td>\n",
       "      <td>yes</td>\n",
       "      <td>214</td>\n",
       "    </tr>\n",
       "    <tr>\n",
       "      <th>3</th>\n",
       "      <td>104</td>\n",
       "      <td>cat3</td>\n",
       "      <td>yes</td>\n",
       "      <td>663</td>\n",
       "    </tr>\n",
       "    <tr>\n",
       "      <th>4</th>\n",
       "      <td>101</td>\n",
       "      <td>cat2</td>\n",
       "      <td>yes</td>\n",
       "      <td>203</td>\n",
       "    </tr>\n",
       "    <tr>\n",
       "      <th>5</th>\n",
       "      <td>102</td>\n",
       "      <td>cat2</td>\n",
       "      <td>no</td>\n",
       "      <td>212</td>\n",
       "    </tr>\n",
       "  </tbody>\n",
       "</table>\n",
       "</div>"
      ],
      "text/plain": [
       "   customer category important  sales\n",
       "0       101     cat2       yes    123\n",
       "1       102     cat2        no     52\n",
       "2       103     cat1       yes    214\n",
       "3       104     cat3       yes    663\n",
       "4       101     cat2       yes    203\n",
       "5       102     cat2        no    212"
      ]
     },
     "execution_count": 102,
     "metadata": {},
     "output_type": "execute_result"
    }
   ],
   "source": [
    "data_customer = pd.DataFrame({\n",
    "    \"customer\": [101, 102, 103, 104, 101, 102],\n",
    "    \"category\": [\"cat2\", \"cat2\", \"cat1\", \"cat3\", \"cat2\", \"cat2\"],\n",
    "    \"important\": [\"yes\", \"no\", \"yes\", \"yes\", \"yes\", \"no\"],\n",
    "    \"sales\": [123, 52, 214, 663, 203, 212]\n",
    "})\n",
    "data_customer"
   ]
  },
  {
   "cell_type": "code",
   "execution_count": 87,
   "id": "e9052ac0-d3ad-42e9-b6f5-cc1d978cfaa7",
   "metadata": {},
   "outputs": [
    {
     "data": {
      "text/plain": [
       "category\n",
       "cat2    2\n",
       "cat1    1\n",
       "cat3    1\n",
       "Name: count, dtype: int64"
      ]
     },
     "execution_count": 87,
     "metadata": {},
     "output_type": "execute_result"
    }
   ],
   "source": [
    "data_customer['category'].value_counts()"
   ]
  },
  {
   "cell_type": "code",
   "execution_count": 89,
   "id": "7f984e12-d959-4e08-b45c-7e21aee1b4fd",
   "metadata": {},
   "outputs": [
    {
     "data": {
      "text/html": [
       "<div>\n",
       "<style scoped>\n",
       "    .dataframe tbody tr th:only-of-type {\n",
       "        vertical-align: middle;\n",
       "    }\n",
       "\n",
       "    .dataframe tbody tr th {\n",
       "        vertical-align: top;\n",
       "    }\n",
       "\n",
       "    .dataframe thead th {\n",
       "        text-align: right;\n",
       "    }\n",
       "</style>\n",
       "<table border=\"1\" class=\"dataframe\">\n",
       "  <thead>\n",
       "    <tr style=\"text-align: right;\">\n",
       "      <th></th>\n",
       "      <th>customer</th>\n",
       "      <th>category</th>\n",
       "      <th>important</th>\n",
       "      <th>sales</th>\n",
       "    </tr>\n",
       "  </thead>\n",
       "  <tbody>\n",
       "    <tr>\n",
       "      <th>3</th>\n",
       "      <td>104</td>\n",
       "      <td>cat3</td>\n",
       "      <td>yes</td>\n",
       "      <td>663</td>\n",
       "    </tr>\n",
       "    <tr>\n",
       "      <th>2</th>\n",
       "      <td>103</td>\n",
       "      <td>cat1</td>\n",
       "      <td>yes</td>\n",
       "      <td>214</td>\n",
       "    </tr>\n",
       "    <tr>\n",
       "      <th>0</th>\n",
       "      <td>101</td>\n",
       "      <td>cat2</td>\n",
       "      <td>yes</td>\n",
       "      <td>123</td>\n",
       "    </tr>\n",
       "    <tr>\n",
       "      <th>1</th>\n",
       "      <td>102</td>\n",
       "      <td>cat2</td>\n",
       "      <td>no</td>\n",
       "      <td>52</td>\n",
       "    </tr>\n",
       "  </tbody>\n",
       "</table>\n",
       "</div>"
      ],
      "text/plain": [
       "   customer category important  sales\n",
       "3       104     cat3       yes    663\n",
       "2       103     cat1       yes    214\n",
       "0       101     cat2       yes    123\n",
       "1       102     cat2        no     52"
      ]
     },
     "execution_count": 89,
     "metadata": {},
     "output_type": "execute_result"
    }
   ],
   "source": [
    "data_customer.sort_values(by='sales',ascending=False)"
   ]
  },
  {
   "cell_type": "code",
   "execution_count": 94,
   "id": "d03e8ba4-d635-417f-8a73-fd3801769cae",
   "metadata": {},
   "outputs": [
    {
     "data": {
      "text/html": [
       "<div>\n",
       "<style scoped>\n",
       "    .dataframe tbody tr th:only-of-type {\n",
       "        vertical-align: middle;\n",
       "    }\n",
       "\n",
       "    .dataframe tbody tr th {\n",
       "        vertical-align: top;\n",
       "    }\n",
       "\n",
       "    .dataframe thead th {\n",
       "        text-align: right;\n",
       "    }\n",
       "</style>\n",
       "<table border=\"1\" class=\"dataframe\">\n",
       "  <thead>\n",
       "    <tr style=\"text-align: right;\">\n",
       "      <th></th>\n",
       "      <th>customer</th>\n",
       "      <th>sales</th>\n",
       "    </tr>\n",
       "  </thead>\n",
       "  <tbody>\n",
       "    <tr>\n",
       "      <th>1</th>\n",
       "      <td>102</td>\n",
       "      <td>52</td>\n",
       "    </tr>\n",
       "    <tr>\n",
       "      <th>2</th>\n",
       "      <td>103</td>\n",
       "      <td>214</td>\n",
       "    </tr>\n",
       "  </tbody>\n",
       "</table>\n",
       "</div>"
      ],
      "text/plain": [
       "   customer  sales\n",
       "1       102     52\n",
       "2       103    214"
      ]
     },
     "execution_count": 94,
     "metadata": {},
     "output_type": "execute_result"
    }
   ],
   "source": [
    "data_customer.loc[[1,2], ['customer', 'sales']]"
   ]
  },
  {
   "cell_type": "code",
   "execution_count": 103,
   "id": "5cf5a214-05dc-4670-ae30-0c76cedb78cb",
   "metadata": {},
   "outputs": [
    {
     "data": {
      "text/plain": [
       "customer\n",
       "101    163.0\n",
       "102    132.0\n",
       "103    214.0\n",
       "104    663.0\n",
       "Name: sales, dtype: float64"
      ]
     },
     "execution_count": 103,
     "metadata": {},
     "output_type": "execute_result"
    }
   ],
   "source": [
    "data_customer.groupby(['customer'])['sales'].mean()"
   ]
  },
  {
   "cell_type": "code",
   "execution_count": 3,
   "id": "fd08340b-58bd-4758-be4b-2d7b28e574c8",
   "metadata": {},
   "outputs": [
    {
     "data": {
      "text/plain": [
       "array([[9, 8, 7],\n",
       "       [6, 5, 4],\n",
       "       [3, 2, 1]])"
      ]
     },
     "execution_count": 3,
     "metadata": {},
     "output_type": "execute_result"
    }
   ],
   "source": [
    "np.array([[9, 8, 7], [6, 5, 4], [3, 2, 1]])"
   ]
  },
  {
   "cell_type": "code",
   "execution_count": 4,
   "id": "2ee19630-5809-4a7d-856d-6f7c5546b3d6",
   "metadata": {},
   "outputs": [
    {
     "data": {
      "text/plain": [
       "array([[1, 2, 3],\n",
       "       [4, 5, 6],\n",
       "       [7, 8, 9]])"
      ]
     },
     "execution_count": 4,
     "metadata": {},
     "output_type": "execute_result"
    }
   ],
   "source": [
    "np.arange(start=1, stop=10, step=1).reshape(3,3)"
   ]
  },
  {
   "cell_type": "code",
   "execution_count": 6,
   "id": "5b67c53d-5e40-488e-b027-d6d7c493fc91",
   "metadata": {},
   "outputs": [
    {
     "data": {
      "text/plain": [
       "array([ 0.,  4.,  8., 12., 16., 20.])"
      ]
     },
     "execution_count": 6,
     "metadata": {},
     "output_type": "execute_result"
    }
   ],
   "source": [
    "array_1 = np.linspace(0,20,6)\n",
    "array_1"
   ]
  },
  {
   "cell_type": "code",
   "execution_count": 8,
   "id": "e0f0675b-4f53-4c6d-a243-eabe380e6af3",
   "metadata": {},
   "outputs": [
    {
     "data": {
      "text/plain": [
       "array([ 0,  6, 12, 18])"
      ]
     },
     "execution_count": 8,
     "metadata": {},
     "output_type": "execute_result"
    }
   ],
   "source": [
    "array_2 = np.arange(0,20,6)\n",
    "array_2"
   ]
  },
  {
   "cell_type": "code",
   "execution_count": 10,
   "id": "ca4038c8-bf67-4090-b4b1-8ed7d4930799",
   "metadata": {},
   "outputs": [
    {
     "data": {
      "text/plain": [
       "131.66666666666666"
      ]
     },
     "execution_count": 10,
     "metadata": {},
     "output_type": "execute_result"
    }
   ],
   "source": [
    "mat = np.matrix([[ 1, 4, 9, 121, 144, 169],\n",
    "                [ 16, 25, 36, 196, 225, 256], \n",
    "                [ 49, 64, 81, 289, 324, 361]])\n",
    "mean = np.mean(mat)\n",
    "mean"
   ]
  },
  {
   "cell_type": "code",
   "execution_count": 16,
   "id": "182a3bea-1078-48d9-bb15-b29127eb66c5",
   "metadata": {},
   "outputs": [
    {
     "name": "stdout",
     "output_type": "stream",
     "text": [
      "[11 12 13 14 15 16 17 18 19]\n",
      "[2 3 4 5 6]\n"
     ]
    }
   ],
   "source": [
    "a = np.arange(0,20)\n",
    "print(a[a>10])\n",
    "print(a[2:7])"
   ]
  },
  {
   "cell_type": "code",
   "execution_count": 17,
   "id": "801d87dd-e0db-4985-a4d3-72e99eb8d1cf",
   "metadata": {},
   "outputs": [
    {
     "data": {
      "text/plain": [
       "array([ 1.        ,  0.54030231, -0.41614684, -0.9899925 , -0.65364362])"
      ]
     },
     "execution_count": 17,
     "metadata": {},
     "output_type": "execute_result"
    }
   ],
   "source": [
    "np.cos([0, 1, 2, 3, 4]) "
   ]
  },
  {
   "cell_type": "code",
   "execution_count": 19,
   "id": "615f277f-5c9b-476c-a573-c4b998374885",
   "metadata": {},
   "outputs": [
    {
     "data": {
      "text/plain": [
       "[1, 2, 3, 4, 5, 6]"
      ]
     },
     "execution_count": 19,
     "metadata": {},
     "output_type": "execute_result"
    }
   ],
   "source": [
    "list_1 = [1,2,3] \n",
    "list_2 = [4,5,6]\n",
    "new_list = list_1 + list_2\n",
    "new_list"
   ]
  },
  {
   "cell_type": "code",
   "execution_count": 20,
   "id": "048e65dc-b48a-4530-9150-f2e4bd3eb074",
   "metadata": {},
   "outputs": [
    {
     "data": {
      "text/plain": [
       "array([5, 7, 9])"
      ]
     },
     "execution_count": 20,
     "metadata": {},
     "output_type": "execute_result"
    }
   ],
   "source": [
    "array_1 = np.array([1,2,3])\n",
    "array_2 = np.array([4,5,6])\n",
    "new_array = array_1 + array_2\n",
    "new_array"
   ]
  },
  {
   "cell_type": "code",
   "execution_count": 22,
   "id": "21aa0fe7-e6f0-4e5c-af2c-571436672142",
   "metadata": {},
   "outputs": [
    {
     "data": {
      "text/plain": [
       "array([[1, 2, 1],\n",
       "       [5, 5, 5],\n",
       "       [1, 8, 9]])"
      ]
     },
     "execution_count": 22,
     "metadata": {},
     "output_type": "execute_result"
    }
   ],
   "source": [
    "mat = np.array([[1, 2, 1], [4, 5, 9],[1, 8, 9]])\n",
    "mat\n",
    "mat[1] = 5\n",
    "mat"
   ]
  },
  {
   "cell_type": "code",
   "execution_count": 23,
   "id": "6cb12e88-ab2e-45ee-acae-7fdd8a204ad9",
   "metadata": {},
   "outputs": [
    {
     "name": "stdout",
     "output_type": "stream",
     "text": [
      "21\n"
     ]
    }
   ],
   "source": [
    "array_1 = np.array([1, 2, 3, 5, 8])\n",
    "array_2 = np.array([0, 3, 4, 2, 1])\n",
    "new_array = array_1+ array_2\n",
    "final_array = new_array*array_1\n",
    "print(final_array[2])"
   ]
  },
  {
   "cell_type": "code",
   "execution_count": 24,
   "id": "4f9919b5-99bf-47b4-b3ed-474924746f42",
   "metadata": {},
   "outputs": [
    {
     "data": {
      "text/plain": [
       "array([[1., 1.],\n",
       "       [1., 1.]])"
      ]
     },
     "execution_count": 24,
     "metadata": {},
     "output_type": "execute_result"
    }
   ],
   "source": [
    "np.ones([2, 2])"
   ]
  },
  {
   "cell_type": "code",
   "execution_count": 25,
   "id": "3ecce62b-a1cc-46fc-96af-6019307a1b8f",
   "metadata": {},
   "outputs": [
    {
     "data": {
      "text/plain": [
       "matrix([[1786, 1880, 3017],\n",
       "        [2725, 2933, 4712],\n",
       "        [3862, 4220, 6785]])"
      ]
     },
     "execution_count": 25,
     "metadata": {},
     "output_type": "execute_result"
    }
   ],
   "source": [
    "n1 = np.matrix([[121, 144, 169], [196, 225, 256], [ 289, 324, 361]])\n",
    "n2 = np.matrix([[ 1, 4, 9], [ 1, 5, 4], [ 9, 4, 8]])\n",
    "np.dot(n1, n2)"
   ]
  },
  {
   "cell_type": "code",
   "execution_count": null,
   "id": "a066a9eb-6b78-4a1d-a769-59ab40b88e7c",
   "metadata": {},
   "outputs": [],
   "source": []
  }
 ],
 "metadata": {
  "kernelspec": {
   "display_name": "Python 3 (ipykernel)",
   "language": "python",
   "name": "python3"
  },
  "language_info": {
   "codemirror_mode": {
    "name": "ipython",
    "version": 3
   },
   "file_extension": ".py",
   "mimetype": "text/x-python",
   "name": "python",
   "nbconvert_exporter": "python",
   "pygments_lexer": "ipython3",
   "version": "3.12.7"
  }
 },
 "nbformat": 4,
 "nbformat_minor": 5
}
