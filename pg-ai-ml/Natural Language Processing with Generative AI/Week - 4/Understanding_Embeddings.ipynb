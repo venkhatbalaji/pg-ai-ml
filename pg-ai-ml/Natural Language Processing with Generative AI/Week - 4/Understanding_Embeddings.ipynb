{
  "nbformat": 4,
  "nbformat_minor": 0,
  "metadata": {
    "colab": {
      "provenance": []
    },
    "kernelspec": {
      "name": "python3",
      "display_name": "Python 3"
    },
    "language_info": {
      "name": "python"
    },
    "widgets": {
      "application/vnd.jupyter.widget-state+json": {
        "2093aac0bd9642c3aae1bfa6dc8ef0a7": {
          "model_module": "@jupyter-widgets/controls",
          "model_name": "HBoxModel",
          "model_module_version": "1.5.0",
          "state": {
            "_dom_classes": [],
            "_model_module": "@jupyter-widgets/controls",
            "_model_module_version": "1.5.0",
            "_model_name": "HBoxModel",
            "_view_count": null,
            "_view_module": "@jupyter-widgets/controls",
            "_view_module_version": "1.5.0",
            "_view_name": "HBoxView",
            "box_style": "",
            "children": [
              "IPY_MODEL_78824ed888c949a8b88a88bb5aff0162",
              "IPY_MODEL_7939d324301c4da89dbd1edea427f925",
              "IPY_MODEL_1d1666599d354c7485093febdbccd708"
            ],
            "layout": "IPY_MODEL_b53c59adec764a498b07bf606f99d072"
          }
        },
        "78824ed888c949a8b88a88bb5aff0162": {
          "model_module": "@jupyter-widgets/controls",
          "model_name": "HTMLModel",
          "model_module_version": "1.5.0",
          "state": {
            "_dom_classes": [],
            "_model_module": "@jupyter-widgets/controls",
            "_model_module_version": "1.5.0",
            "_model_name": "HTMLModel",
            "_view_count": null,
            "_view_module": "@jupyter-widgets/controls",
            "_view_module_version": "1.5.0",
            "_view_name": "HTMLView",
            "description": "",
            "description_tooltip": null,
            "layout": "IPY_MODEL_2a7663d55b42480baa3d8544a9f9b257",
            "placeholder": "​",
            "style": "IPY_MODEL_f9a2b6130dc04f2389acfa9817df32a5",
            "value": "modules.json: 100%"
          }
        },
        "7939d324301c4da89dbd1edea427f925": {
          "model_module": "@jupyter-widgets/controls",
          "model_name": "FloatProgressModel",
          "model_module_version": "1.5.0",
          "state": {
            "_dom_classes": [],
            "_model_module": "@jupyter-widgets/controls",
            "_model_module_version": "1.5.0",
            "_model_name": "FloatProgressModel",
            "_view_count": null,
            "_view_module": "@jupyter-widgets/controls",
            "_view_module_version": "1.5.0",
            "_view_name": "ProgressView",
            "bar_style": "success",
            "description": "",
            "description_tooltip": null,
            "layout": "IPY_MODEL_6a48a6c2554645a29a36a7a6a55f9f6c",
            "max": 349,
            "min": 0,
            "orientation": "horizontal",
            "style": "IPY_MODEL_cc5cea581cf74df9b974348af46dd2be",
            "value": 349
          }
        },
        "1d1666599d354c7485093febdbccd708": {
          "model_module": "@jupyter-widgets/controls",
          "model_name": "HTMLModel",
          "model_module_version": "1.5.0",
          "state": {
            "_dom_classes": [],
            "_model_module": "@jupyter-widgets/controls",
            "_model_module_version": "1.5.0",
            "_model_name": "HTMLModel",
            "_view_count": null,
            "_view_module": "@jupyter-widgets/controls",
            "_view_module_version": "1.5.0",
            "_view_name": "HTMLView",
            "description": "",
            "description_tooltip": null,
            "layout": "IPY_MODEL_4a1157be39fa4ecc81d1f90b0efc014c",
            "placeholder": "​",
            "style": "IPY_MODEL_f9c62c2a4d1c465f85c6beebc0d064a9",
            "value": " 349/349 [00:00&lt;00:00, 5.74kB/s]"
          }
        },
        "b53c59adec764a498b07bf606f99d072": {
          "model_module": "@jupyter-widgets/base",
          "model_name": "LayoutModel",
          "model_module_version": "1.2.0",
          "state": {
            "_model_module": "@jupyter-widgets/base",
            "_model_module_version": "1.2.0",
            "_model_name": "LayoutModel",
            "_view_count": null,
            "_view_module": "@jupyter-widgets/base",
            "_view_module_version": "1.2.0",
            "_view_name": "LayoutView",
            "align_content": null,
            "align_items": null,
            "align_self": null,
            "border": null,
            "bottom": null,
            "display": null,
            "flex": null,
            "flex_flow": null,
            "grid_area": null,
            "grid_auto_columns": null,
            "grid_auto_flow": null,
            "grid_auto_rows": null,
            "grid_column": null,
            "grid_gap": null,
            "grid_row": null,
            "grid_template_areas": null,
            "grid_template_columns": null,
            "grid_template_rows": null,
            "height": null,
            "justify_content": null,
            "justify_items": null,
            "left": null,
            "margin": null,
            "max_height": null,
            "max_width": null,
            "min_height": null,
            "min_width": null,
            "object_fit": null,
            "object_position": null,
            "order": null,
            "overflow": null,
            "overflow_x": null,
            "overflow_y": null,
            "padding": null,
            "right": null,
            "top": null,
            "visibility": null,
            "width": null
          }
        },
        "2a7663d55b42480baa3d8544a9f9b257": {
          "model_module": "@jupyter-widgets/base",
          "model_name": "LayoutModel",
          "model_module_version": "1.2.0",
          "state": {
            "_model_module": "@jupyter-widgets/base",
            "_model_module_version": "1.2.0",
            "_model_name": "LayoutModel",
            "_view_count": null,
            "_view_module": "@jupyter-widgets/base",
            "_view_module_version": "1.2.0",
            "_view_name": "LayoutView",
            "align_content": null,
            "align_items": null,
            "align_self": null,
            "border": null,
            "bottom": null,
            "display": null,
            "flex": null,
            "flex_flow": null,
            "grid_area": null,
            "grid_auto_columns": null,
            "grid_auto_flow": null,
            "grid_auto_rows": null,
            "grid_column": null,
            "grid_gap": null,
            "grid_row": null,
            "grid_template_areas": null,
            "grid_template_columns": null,
            "grid_template_rows": null,
            "height": null,
            "justify_content": null,
            "justify_items": null,
            "left": null,
            "margin": null,
            "max_height": null,
            "max_width": null,
            "min_height": null,
            "min_width": null,
            "object_fit": null,
            "object_position": null,
            "order": null,
            "overflow": null,
            "overflow_x": null,
            "overflow_y": null,
            "padding": null,
            "right": null,
            "top": null,
            "visibility": null,
            "width": null
          }
        },
        "f9a2b6130dc04f2389acfa9817df32a5": {
          "model_module": "@jupyter-widgets/controls",
          "model_name": "DescriptionStyleModel",
          "model_module_version": "1.5.0",
          "state": {
            "_model_module": "@jupyter-widgets/controls",
            "_model_module_version": "1.5.0",
            "_model_name": "DescriptionStyleModel",
            "_view_count": null,
            "_view_module": "@jupyter-widgets/base",
            "_view_module_version": "1.2.0",
            "_view_name": "StyleView",
            "description_width": ""
          }
        },
        "6a48a6c2554645a29a36a7a6a55f9f6c": {
          "model_module": "@jupyter-widgets/base",
          "model_name": "LayoutModel",
          "model_module_version": "1.2.0",
          "state": {
            "_model_module": "@jupyter-widgets/base",
            "_model_module_version": "1.2.0",
            "_model_name": "LayoutModel",
            "_view_count": null,
            "_view_module": "@jupyter-widgets/base",
            "_view_module_version": "1.2.0",
            "_view_name": "LayoutView",
            "align_content": null,
            "align_items": null,
            "align_self": null,
            "border": null,
            "bottom": null,
            "display": null,
            "flex": null,
            "flex_flow": null,
            "grid_area": null,
            "grid_auto_columns": null,
            "grid_auto_flow": null,
            "grid_auto_rows": null,
            "grid_column": null,
            "grid_gap": null,
            "grid_row": null,
            "grid_template_areas": null,
            "grid_template_columns": null,
            "grid_template_rows": null,
            "height": null,
            "justify_content": null,
            "justify_items": null,
            "left": null,
            "margin": null,
            "max_height": null,
            "max_width": null,
            "min_height": null,
            "min_width": null,
            "object_fit": null,
            "object_position": null,
            "order": null,
            "overflow": null,
            "overflow_x": null,
            "overflow_y": null,
            "padding": null,
            "right": null,
            "top": null,
            "visibility": null,
            "width": null
          }
        },
        "cc5cea581cf74df9b974348af46dd2be": {
          "model_module": "@jupyter-widgets/controls",
          "model_name": "ProgressStyleModel",
          "model_module_version": "1.5.0",
          "state": {
            "_model_module": "@jupyter-widgets/controls",
            "_model_module_version": "1.5.0",
            "_model_name": "ProgressStyleModel",
            "_view_count": null,
            "_view_module": "@jupyter-widgets/base",
            "_view_module_version": "1.2.0",
            "_view_name": "StyleView",
            "bar_color": null,
            "description_width": ""
          }
        },
        "4a1157be39fa4ecc81d1f90b0efc014c": {
          "model_module": "@jupyter-widgets/base",
          "model_name": "LayoutModel",
          "model_module_version": "1.2.0",
          "state": {
            "_model_module": "@jupyter-widgets/base",
            "_model_module_version": "1.2.0",
            "_model_name": "LayoutModel",
            "_view_count": null,
            "_view_module": "@jupyter-widgets/base",
            "_view_module_version": "1.2.0",
            "_view_name": "LayoutView",
            "align_content": null,
            "align_items": null,
            "align_self": null,
            "border": null,
            "bottom": null,
            "display": null,
            "flex": null,
            "flex_flow": null,
            "grid_area": null,
            "grid_auto_columns": null,
            "grid_auto_flow": null,
            "grid_auto_rows": null,
            "grid_column": null,
            "grid_gap": null,
            "grid_row": null,
            "grid_template_areas": null,
            "grid_template_columns": null,
            "grid_template_rows": null,
            "height": null,
            "justify_content": null,
            "justify_items": null,
            "left": null,
            "margin": null,
            "max_height": null,
            "max_width": null,
            "min_height": null,
            "min_width": null,
            "object_fit": null,
            "object_position": null,
            "order": null,
            "overflow": null,
            "overflow_x": null,
            "overflow_y": null,
            "padding": null,
            "right": null,
            "top": null,
            "visibility": null,
            "width": null
          }
        },
        "f9c62c2a4d1c465f85c6beebc0d064a9": {
          "model_module": "@jupyter-widgets/controls",
          "model_name": "DescriptionStyleModel",
          "model_module_version": "1.5.0",
          "state": {
            "_model_module": "@jupyter-widgets/controls",
            "_model_module_version": "1.5.0",
            "_model_name": "DescriptionStyleModel",
            "_view_count": null,
            "_view_module": "@jupyter-widgets/base",
            "_view_module_version": "1.2.0",
            "_view_name": "StyleView",
            "description_width": ""
          }
        },
        "e727bf01a5014632aa62ed48a58ce869": {
          "model_module": "@jupyter-widgets/controls",
          "model_name": "HBoxModel",
          "model_module_version": "1.5.0",
          "state": {
            "_dom_classes": [],
            "_model_module": "@jupyter-widgets/controls",
            "_model_module_version": "1.5.0",
            "_model_name": "HBoxModel",
            "_view_count": null,
            "_view_module": "@jupyter-widgets/controls",
            "_view_module_version": "1.5.0",
            "_view_name": "HBoxView",
            "box_style": "",
            "children": [
              "IPY_MODEL_ea39fbbdf7f8495dbbb38432eb3782b3",
              "IPY_MODEL_b74af0dc3c4847ebb03ef95ab806184d",
              "IPY_MODEL_18cd4ed022d84c1cad64ec84e1924662"
            ],
            "layout": "IPY_MODEL_59fde5f303dd4dddbfde145180a49f0c"
          }
        },
        "ea39fbbdf7f8495dbbb38432eb3782b3": {
          "model_module": "@jupyter-widgets/controls",
          "model_name": "HTMLModel",
          "model_module_version": "1.5.0",
          "state": {
            "_dom_classes": [],
            "_model_module": "@jupyter-widgets/controls",
            "_model_module_version": "1.5.0",
            "_model_name": "HTMLModel",
            "_view_count": null,
            "_view_module": "@jupyter-widgets/controls",
            "_view_module_version": "1.5.0",
            "_view_name": "HTMLView",
            "description": "",
            "description_tooltip": null,
            "layout": "IPY_MODEL_f7019bcdfa344f7fb8f72725879dad5d",
            "placeholder": "​",
            "style": "IPY_MODEL_305c9ecfb6d5483fa096839ec0eab09d",
            "value": "config_sentence_transformers.json: 100%"
          }
        },
        "b74af0dc3c4847ebb03ef95ab806184d": {
          "model_module": "@jupyter-widgets/controls",
          "model_name": "FloatProgressModel",
          "model_module_version": "1.5.0",
          "state": {
            "_dom_classes": [],
            "_model_module": "@jupyter-widgets/controls",
            "_model_module_version": "1.5.0",
            "_model_name": "FloatProgressModel",
            "_view_count": null,
            "_view_module": "@jupyter-widgets/controls",
            "_view_module_version": "1.5.0",
            "_view_name": "ProgressView",
            "bar_style": "success",
            "description": "",
            "description_tooltip": null,
            "layout": "IPY_MODEL_c497cebdb259472da898309f5913be6c",
            "max": 116,
            "min": 0,
            "orientation": "horizontal",
            "style": "IPY_MODEL_7eee700231414a7597d14b281137c93e",
            "value": 116
          }
        },
        "18cd4ed022d84c1cad64ec84e1924662": {
          "model_module": "@jupyter-widgets/controls",
          "model_name": "HTMLModel",
          "model_module_version": "1.5.0",
          "state": {
            "_dom_classes": [],
            "_model_module": "@jupyter-widgets/controls",
            "_model_module_version": "1.5.0",
            "_model_name": "HTMLModel",
            "_view_count": null,
            "_view_module": "@jupyter-widgets/controls",
            "_view_module_version": "1.5.0",
            "_view_name": "HTMLView",
            "description": "",
            "description_tooltip": null,
            "layout": "IPY_MODEL_449400b9d2da4e66aea4cdb66b1f215f",
            "placeholder": "​",
            "style": "IPY_MODEL_bf7e8ade6d5e4403ad6ce3ba659dc6aa",
            "value": " 116/116 [00:00&lt;00:00, 1.17kB/s]"
          }
        },
        "59fde5f303dd4dddbfde145180a49f0c": {
          "model_module": "@jupyter-widgets/base",
          "model_name": "LayoutModel",
          "model_module_version": "1.2.0",
          "state": {
            "_model_module": "@jupyter-widgets/base",
            "_model_module_version": "1.2.0",
            "_model_name": "LayoutModel",
            "_view_count": null,
            "_view_module": "@jupyter-widgets/base",
            "_view_module_version": "1.2.0",
            "_view_name": "LayoutView",
            "align_content": null,
            "align_items": null,
            "align_self": null,
            "border": null,
            "bottom": null,
            "display": null,
            "flex": null,
            "flex_flow": null,
            "grid_area": null,
            "grid_auto_columns": null,
            "grid_auto_flow": null,
            "grid_auto_rows": null,
            "grid_column": null,
            "grid_gap": null,
            "grid_row": null,
            "grid_template_areas": null,
            "grid_template_columns": null,
            "grid_template_rows": null,
            "height": null,
            "justify_content": null,
            "justify_items": null,
            "left": null,
            "margin": null,
            "max_height": null,
            "max_width": null,
            "min_height": null,
            "min_width": null,
            "object_fit": null,
            "object_position": null,
            "order": null,
            "overflow": null,
            "overflow_x": null,
            "overflow_y": null,
            "padding": null,
            "right": null,
            "top": null,
            "visibility": null,
            "width": null
          }
        },
        "f7019bcdfa344f7fb8f72725879dad5d": {
          "model_module": "@jupyter-widgets/base",
          "model_name": "LayoutModel",
          "model_module_version": "1.2.0",
          "state": {
            "_model_module": "@jupyter-widgets/base",
            "_model_module_version": "1.2.0",
            "_model_name": "LayoutModel",
            "_view_count": null,
            "_view_module": "@jupyter-widgets/base",
            "_view_module_version": "1.2.0",
            "_view_name": "LayoutView",
            "align_content": null,
            "align_items": null,
            "align_self": null,
            "border": null,
            "bottom": null,
            "display": null,
            "flex": null,
            "flex_flow": null,
            "grid_area": null,
            "grid_auto_columns": null,
            "grid_auto_flow": null,
            "grid_auto_rows": null,
            "grid_column": null,
            "grid_gap": null,
            "grid_row": null,
            "grid_template_areas": null,
            "grid_template_columns": null,
            "grid_template_rows": null,
            "height": null,
            "justify_content": null,
            "justify_items": null,
            "left": null,
            "margin": null,
            "max_height": null,
            "max_width": null,
            "min_height": null,
            "min_width": null,
            "object_fit": null,
            "object_position": null,
            "order": null,
            "overflow": null,
            "overflow_x": null,
            "overflow_y": null,
            "padding": null,
            "right": null,
            "top": null,
            "visibility": null,
            "width": null
          }
        },
        "305c9ecfb6d5483fa096839ec0eab09d": {
          "model_module": "@jupyter-widgets/controls",
          "model_name": "DescriptionStyleModel",
          "model_module_version": "1.5.0",
          "state": {
            "_model_module": "@jupyter-widgets/controls",
            "_model_module_version": "1.5.0",
            "_model_name": "DescriptionStyleModel",
            "_view_count": null,
            "_view_module": "@jupyter-widgets/base",
            "_view_module_version": "1.2.0",
            "_view_name": "StyleView",
            "description_width": ""
          }
        },
        "c497cebdb259472da898309f5913be6c": {
          "model_module": "@jupyter-widgets/base",
          "model_name": "LayoutModel",
          "model_module_version": "1.2.0",
          "state": {
            "_model_module": "@jupyter-widgets/base",
            "_model_module_version": "1.2.0",
            "_model_name": "LayoutModel",
            "_view_count": null,
            "_view_module": "@jupyter-widgets/base",
            "_view_module_version": "1.2.0",
            "_view_name": "LayoutView",
            "align_content": null,
            "align_items": null,
            "align_self": null,
            "border": null,
            "bottom": null,
            "display": null,
            "flex": null,
            "flex_flow": null,
            "grid_area": null,
            "grid_auto_columns": null,
            "grid_auto_flow": null,
            "grid_auto_rows": null,
            "grid_column": null,
            "grid_gap": null,
            "grid_row": null,
            "grid_template_areas": null,
            "grid_template_columns": null,
            "grid_template_rows": null,
            "height": null,
            "justify_content": null,
            "justify_items": null,
            "left": null,
            "margin": null,
            "max_height": null,
            "max_width": null,
            "min_height": null,
            "min_width": null,
            "object_fit": null,
            "object_position": null,
            "order": null,
            "overflow": null,
            "overflow_x": null,
            "overflow_y": null,
            "padding": null,
            "right": null,
            "top": null,
            "visibility": null,
            "width": null
          }
        },
        "7eee700231414a7597d14b281137c93e": {
          "model_module": "@jupyter-widgets/controls",
          "model_name": "ProgressStyleModel",
          "model_module_version": "1.5.0",
          "state": {
            "_model_module": "@jupyter-widgets/controls",
            "_model_module_version": "1.5.0",
            "_model_name": "ProgressStyleModel",
            "_view_count": null,
            "_view_module": "@jupyter-widgets/base",
            "_view_module_version": "1.2.0",
            "_view_name": "StyleView",
            "bar_color": null,
            "description_width": ""
          }
        },
        "449400b9d2da4e66aea4cdb66b1f215f": {
          "model_module": "@jupyter-widgets/base",
          "model_name": "LayoutModel",
          "model_module_version": "1.2.0",
          "state": {
            "_model_module": "@jupyter-widgets/base",
            "_model_module_version": "1.2.0",
            "_model_name": "LayoutModel",
            "_view_count": null,
            "_view_module": "@jupyter-widgets/base",
            "_view_module_version": "1.2.0",
            "_view_name": "LayoutView",
            "align_content": null,
            "align_items": null,
            "align_self": null,
            "border": null,
            "bottom": null,
            "display": null,
            "flex": null,
            "flex_flow": null,
            "grid_area": null,
            "grid_auto_columns": null,
            "grid_auto_flow": null,
            "grid_auto_rows": null,
            "grid_column": null,
            "grid_gap": null,
            "grid_row": null,
            "grid_template_areas": null,
            "grid_template_columns": null,
            "grid_template_rows": null,
            "height": null,
            "justify_content": null,
            "justify_items": null,
            "left": null,
            "margin": null,
            "max_height": null,
            "max_width": null,
            "min_height": null,
            "min_width": null,
            "object_fit": null,
            "object_position": null,
            "order": null,
            "overflow": null,
            "overflow_x": null,
            "overflow_y": null,
            "padding": null,
            "right": null,
            "top": null,
            "visibility": null,
            "width": null
          }
        },
        "bf7e8ade6d5e4403ad6ce3ba659dc6aa": {
          "model_module": "@jupyter-widgets/controls",
          "model_name": "DescriptionStyleModel",
          "model_module_version": "1.5.0",
          "state": {
            "_model_module": "@jupyter-widgets/controls",
            "_model_module_version": "1.5.0",
            "_model_name": "DescriptionStyleModel",
            "_view_count": null,
            "_view_module": "@jupyter-widgets/base",
            "_view_module_version": "1.2.0",
            "_view_name": "StyleView",
            "description_width": ""
          }
        },
        "5ea9354e05b74d99ae1ba886ff7bc5b9": {
          "model_module": "@jupyter-widgets/controls",
          "model_name": "HBoxModel",
          "model_module_version": "1.5.0",
          "state": {
            "_dom_classes": [],
            "_model_module": "@jupyter-widgets/controls",
            "_model_module_version": "1.5.0",
            "_model_name": "HBoxModel",
            "_view_count": null,
            "_view_module": "@jupyter-widgets/controls",
            "_view_module_version": "1.5.0",
            "_view_name": "HBoxView",
            "box_style": "",
            "children": [
              "IPY_MODEL_8ea806131fe0497cbd287eb1e6402895",
              "IPY_MODEL_49e5c4478c1f43bfae75e70b2f4dceb2",
              "IPY_MODEL_0874211346cf402cb78664fbbca7571e"
            ],
            "layout": "IPY_MODEL_18647b393d2d4a75be192fc6a6ef6562"
          }
        },
        "8ea806131fe0497cbd287eb1e6402895": {
          "model_module": "@jupyter-widgets/controls",
          "model_name": "HTMLModel",
          "model_module_version": "1.5.0",
          "state": {
            "_dom_classes": [],
            "_model_module": "@jupyter-widgets/controls",
            "_model_module_version": "1.5.0",
            "_model_name": "HTMLModel",
            "_view_count": null,
            "_view_module": "@jupyter-widgets/controls",
            "_view_module_version": "1.5.0",
            "_view_name": "HTMLView",
            "description": "",
            "description_tooltip": null,
            "layout": "IPY_MODEL_93433b6d624d4f45bebaac06e0630152",
            "placeholder": "​",
            "style": "IPY_MODEL_b89f45f0d08b4b49b2313a972c36afca",
            "value": "README.md: 100%"
          }
        },
        "49e5c4478c1f43bfae75e70b2f4dceb2": {
          "model_module": "@jupyter-widgets/controls",
          "model_name": "FloatProgressModel",
          "model_module_version": "1.5.0",
          "state": {
            "_dom_classes": [],
            "_model_module": "@jupyter-widgets/controls",
            "_model_module_version": "1.5.0",
            "_model_name": "FloatProgressModel",
            "_view_count": null,
            "_view_module": "@jupyter-widgets/controls",
            "_view_module_version": "1.5.0",
            "_view_name": "ProgressView",
            "bar_style": "success",
            "description": "",
            "description_tooltip": null,
            "layout": "IPY_MODEL_845f0903d1574a428f4be2b576619a2f",
            "max": 10659,
            "min": 0,
            "orientation": "horizontal",
            "style": "IPY_MODEL_91f24435007e4b8ba08641d57f06bcb0",
            "value": 10659
          }
        },
        "0874211346cf402cb78664fbbca7571e": {
          "model_module": "@jupyter-widgets/controls",
          "model_name": "HTMLModel",
          "model_module_version": "1.5.0",
          "state": {
            "_dom_classes": [],
            "_model_module": "@jupyter-widgets/controls",
            "_model_module_version": "1.5.0",
            "_model_name": "HTMLModel",
            "_view_count": null,
            "_view_module": "@jupyter-widgets/controls",
            "_view_module_version": "1.5.0",
            "_view_name": "HTMLView",
            "description": "",
            "description_tooltip": null,
            "layout": "IPY_MODEL_d0434df8cb5949458f392db4e73b31bb",
            "placeholder": "​",
            "style": "IPY_MODEL_bae9c0f5021e4cbcbda737b53c34ebb3",
            "value": " 10.7k/10.7k [00:00&lt;00:00, 114kB/s]"
          }
        },
        "18647b393d2d4a75be192fc6a6ef6562": {
          "model_module": "@jupyter-widgets/base",
          "model_name": "LayoutModel",
          "model_module_version": "1.2.0",
          "state": {
            "_model_module": "@jupyter-widgets/base",
            "_model_module_version": "1.2.0",
            "_model_name": "LayoutModel",
            "_view_count": null,
            "_view_module": "@jupyter-widgets/base",
            "_view_module_version": "1.2.0",
            "_view_name": "LayoutView",
            "align_content": null,
            "align_items": null,
            "align_self": null,
            "border": null,
            "bottom": null,
            "display": null,
            "flex": null,
            "flex_flow": null,
            "grid_area": null,
            "grid_auto_columns": null,
            "grid_auto_flow": null,
            "grid_auto_rows": null,
            "grid_column": null,
            "grid_gap": null,
            "grid_row": null,
            "grid_template_areas": null,
            "grid_template_columns": null,
            "grid_template_rows": null,
            "height": null,
            "justify_content": null,
            "justify_items": null,
            "left": null,
            "margin": null,
            "max_height": null,
            "max_width": null,
            "min_height": null,
            "min_width": null,
            "object_fit": null,
            "object_position": null,
            "order": null,
            "overflow": null,
            "overflow_x": null,
            "overflow_y": null,
            "padding": null,
            "right": null,
            "top": null,
            "visibility": null,
            "width": null
          }
        },
        "93433b6d624d4f45bebaac06e0630152": {
          "model_module": "@jupyter-widgets/base",
          "model_name": "LayoutModel",
          "model_module_version": "1.2.0",
          "state": {
            "_model_module": "@jupyter-widgets/base",
            "_model_module_version": "1.2.0",
            "_model_name": "LayoutModel",
            "_view_count": null,
            "_view_module": "@jupyter-widgets/base",
            "_view_module_version": "1.2.0",
            "_view_name": "LayoutView",
            "align_content": null,
            "align_items": null,
            "align_self": null,
            "border": null,
            "bottom": null,
            "display": null,
            "flex": null,
            "flex_flow": null,
            "grid_area": null,
            "grid_auto_columns": null,
            "grid_auto_flow": null,
            "grid_auto_rows": null,
            "grid_column": null,
            "grid_gap": null,
            "grid_row": null,
            "grid_template_areas": null,
            "grid_template_columns": null,
            "grid_template_rows": null,
            "height": null,
            "justify_content": null,
            "justify_items": null,
            "left": null,
            "margin": null,
            "max_height": null,
            "max_width": null,
            "min_height": null,
            "min_width": null,
            "object_fit": null,
            "object_position": null,
            "order": null,
            "overflow": null,
            "overflow_x": null,
            "overflow_y": null,
            "padding": null,
            "right": null,
            "top": null,
            "visibility": null,
            "width": null
          }
        },
        "b89f45f0d08b4b49b2313a972c36afca": {
          "model_module": "@jupyter-widgets/controls",
          "model_name": "DescriptionStyleModel",
          "model_module_version": "1.5.0",
          "state": {
            "_model_module": "@jupyter-widgets/controls",
            "_model_module_version": "1.5.0",
            "_model_name": "DescriptionStyleModel",
            "_view_count": null,
            "_view_module": "@jupyter-widgets/base",
            "_view_module_version": "1.2.0",
            "_view_name": "StyleView",
            "description_width": ""
          }
        },
        "845f0903d1574a428f4be2b576619a2f": {
          "model_module": "@jupyter-widgets/base",
          "model_name": "LayoutModel",
          "model_module_version": "1.2.0",
          "state": {
            "_model_module": "@jupyter-widgets/base",
            "_model_module_version": "1.2.0",
            "_model_name": "LayoutModel",
            "_view_count": null,
            "_view_module": "@jupyter-widgets/base",
            "_view_module_version": "1.2.0",
            "_view_name": "LayoutView",
            "align_content": null,
            "align_items": null,
            "align_self": null,
            "border": null,
            "bottom": null,
            "display": null,
            "flex": null,
            "flex_flow": null,
            "grid_area": null,
            "grid_auto_columns": null,
            "grid_auto_flow": null,
            "grid_auto_rows": null,
            "grid_column": null,
            "grid_gap": null,
            "grid_row": null,
            "grid_template_areas": null,
            "grid_template_columns": null,
            "grid_template_rows": null,
            "height": null,
            "justify_content": null,
            "justify_items": null,
            "left": null,
            "margin": null,
            "max_height": null,
            "max_width": null,
            "min_height": null,
            "min_width": null,
            "object_fit": null,
            "object_position": null,
            "order": null,
            "overflow": null,
            "overflow_x": null,
            "overflow_y": null,
            "padding": null,
            "right": null,
            "top": null,
            "visibility": null,
            "width": null
          }
        },
        "91f24435007e4b8ba08641d57f06bcb0": {
          "model_module": "@jupyter-widgets/controls",
          "model_name": "ProgressStyleModel",
          "model_module_version": "1.5.0",
          "state": {
            "_model_module": "@jupyter-widgets/controls",
            "_model_module_version": "1.5.0",
            "_model_name": "ProgressStyleModel",
            "_view_count": null,
            "_view_module": "@jupyter-widgets/base",
            "_view_module_version": "1.2.0",
            "_view_name": "StyleView",
            "bar_color": null,
            "description_width": ""
          }
        },
        "d0434df8cb5949458f392db4e73b31bb": {
          "model_module": "@jupyter-widgets/base",
          "model_name": "LayoutModel",
          "model_module_version": "1.2.0",
          "state": {
            "_model_module": "@jupyter-widgets/base",
            "_model_module_version": "1.2.0",
            "_model_name": "LayoutModel",
            "_view_count": null,
            "_view_module": "@jupyter-widgets/base",
            "_view_module_version": "1.2.0",
            "_view_name": "LayoutView",
            "align_content": null,
            "align_items": null,
            "align_self": null,
            "border": null,
            "bottom": null,
            "display": null,
            "flex": null,
            "flex_flow": null,
            "grid_area": null,
            "grid_auto_columns": null,
            "grid_auto_flow": null,
            "grid_auto_rows": null,
            "grid_column": null,
            "grid_gap": null,
            "grid_row": null,
            "grid_template_areas": null,
            "grid_template_columns": null,
            "grid_template_rows": null,
            "height": null,
            "justify_content": null,
            "justify_items": null,
            "left": null,
            "margin": null,
            "max_height": null,
            "max_width": null,
            "min_height": null,
            "min_width": null,
            "object_fit": null,
            "object_position": null,
            "order": null,
            "overflow": null,
            "overflow_x": null,
            "overflow_y": null,
            "padding": null,
            "right": null,
            "top": null,
            "visibility": null,
            "width": null
          }
        },
        "bae9c0f5021e4cbcbda737b53c34ebb3": {
          "model_module": "@jupyter-widgets/controls",
          "model_name": "DescriptionStyleModel",
          "model_module_version": "1.5.0",
          "state": {
            "_model_module": "@jupyter-widgets/controls",
            "_model_module_version": "1.5.0",
            "_model_name": "DescriptionStyleModel",
            "_view_count": null,
            "_view_module": "@jupyter-widgets/base",
            "_view_module_version": "1.2.0",
            "_view_name": "StyleView",
            "description_width": ""
          }
        },
        "a98ab3e3a5404aea928ef62c4be7087a": {
          "model_module": "@jupyter-widgets/controls",
          "model_name": "HBoxModel",
          "model_module_version": "1.5.0",
          "state": {
            "_dom_classes": [],
            "_model_module": "@jupyter-widgets/controls",
            "_model_module_version": "1.5.0",
            "_model_name": "HBoxModel",
            "_view_count": null,
            "_view_module": "@jupyter-widgets/controls",
            "_view_module_version": "1.5.0",
            "_view_name": "HBoxView",
            "box_style": "",
            "children": [
              "IPY_MODEL_7ead7cc9105040309f394044121a7df9",
              "IPY_MODEL_59fb216dce4d41d6986045b8eec85a9b",
              "IPY_MODEL_adaacd9a735c4b8fae6098fc1d568e93"
            ],
            "layout": "IPY_MODEL_4dfab02173564532950e6f0e1ac54068"
          }
        },
        "7ead7cc9105040309f394044121a7df9": {
          "model_module": "@jupyter-widgets/controls",
          "model_name": "HTMLModel",
          "model_module_version": "1.5.0",
          "state": {
            "_dom_classes": [],
            "_model_module": "@jupyter-widgets/controls",
            "_model_module_version": "1.5.0",
            "_model_name": "HTMLModel",
            "_view_count": null,
            "_view_module": "@jupyter-widgets/controls",
            "_view_module_version": "1.5.0",
            "_view_name": "HTMLView",
            "description": "",
            "description_tooltip": null,
            "layout": "IPY_MODEL_99718b0c33e546d6ba31ba9d7adc59e9",
            "placeholder": "​",
            "style": "IPY_MODEL_b02ad451e3884fd19b3c6e00893fbe46",
            "value": "sentence_bert_config.json: 100%"
          }
        },
        "59fb216dce4d41d6986045b8eec85a9b": {
          "model_module": "@jupyter-widgets/controls",
          "model_name": "FloatProgressModel",
          "model_module_version": "1.5.0",
          "state": {
            "_dom_classes": [],
            "_model_module": "@jupyter-widgets/controls",
            "_model_module_version": "1.5.0",
            "_model_name": "FloatProgressModel",
            "_view_count": null,
            "_view_module": "@jupyter-widgets/controls",
            "_view_module_version": "1.5.0",
            "_view_name": "ProgressView",
            "bar_style": "success",
            "description": "",
            "description_tooltip": null,
            "layout": "IPY_MODEL_4a7206fb84e9407393d54091be51a4a7",
            "max": 53,
            "min": 0,
            "orientation": "horizontal",
            "style": "IPY_MODEL_50a61389ee6d4403a0a6aa40ea1442b2",
            "value": 53
          }
        },
        "adaacd9a735c4b8fae6098fc1d568e93": {
          "model_module": "@jupyter-widgets/controls",
          "model_name": "HTMLModel",
          "model_module_version": "1.5.0",
          "state": {
            "_dom_classes": [],
            "_model_module": "@jupyter-widgets/controls",
            "_model_module_version": "1.5.0",
            "_model_name": "HTMLModel",
            "_view_count": null,
            "_view_module": "@jupyter-widgets/controls",
            "_view_module_version": "1.5.0",
            "_view_name": "HTMLView",
            "description": "",
            "description_tooltip": null,
            "layout": "IPY_MODEL_78b0d573655c476caa41b1ca6d3cd969",
            "placeholder": "​",
            "style": "IPY_MODEL_ee2208cb0d7a440783cdb97260db0b43",
            "value": " 53.0/53.0 [00:00&lt;00:00, 758B/s]"
          }
        },
        "4dfab02173564532950e6f0e1ac54068": {
          "model_module": "@jupyter-widgets/base",
          "model_name": "LayoutModel",
          "model_module_version": "1.2.0",
          "state": {
            "_model_module": "@jupyter-widgets/base",
            "_model_module_version": "1.2.0",
            "_model_name": "LayoutModel",
            "_view_count": null,
            "_view_module": "@jupyter-widgets/base",
            "_view_module_version": "1.2.0",
            "_view_name": "LayoutView",
            "align_content": null,
            "align_items": null,
            "align_self": null,
            "border": null,
            "bottom": null,
            "display": null,
            "flex": null,
            "flex_flow": null,
            "grid_area": null,
            "grid_auto_columns": null,
            "grid_auto_flow": null,
            "grid_auto_rows": null,
            "grid_column": null,
            "grid_gap": null,
            "grid_row": null,
            "grid_template_areas": null,
            "grid_template_columns": null,
            "grid_template_rows": null,
            "height": null,
            "justify_content": null,
            "justify_items": null,
            "left": null,
            "margin": null,
            "max_height": null,
            "max_width": null,
            "min_height": null,
            "min_width": null,
            "object_fit": null,
            "object_position": null,
            "order": null,
            "overflow": null,
            "overflow_x": null,
            "overflow_y": null,
            "padding": null,
            "right": null,
            "top": null,
            "visibility": null,
            "width": null
          }
        },
        "99718b0c33e546d6ba31ba9d7adc59e9": {
          "model_module": "@jupyter-widgets/base",
          "model_name": "LayoutModel",
          "model_module_version": "1.2.0",
          "state": {
            "_model_module": "@jupyter-widgets/base",
            "_model_module_version": "1.2.0",
            "_model_name": "LayoutModel",
            "_view_count": null,
            "_view_module": "@jupyter-widgets/base",
            "_view_module_version": "1.2.0",
            "_view_name": "LayoutView",
            "align_content": null,
            "align_items": null,
            "align_self": null,
            "border": null,
            "bottom": null,
            "display": null,
            "flex": null,
            "flex_flow": null,
            "grid_area": null,
            "grid_auto_columns": null,
            "grid_auto_flow": null,
            "grid_auto_rows": null,
            "grid_column": null,
            "grid_gap": null,
            "grid_row": null,
            "grid_template_areas": null,
            "grid_template_columns": null,
            "grid_template_rows": null,
            "height": null,
            "justify_content": null,
            "justify_items": null,
            "left": null,
            "margin": null,
            "max_height": null,
            "max_width": null,
            "min_height": null,
            "min_width": null,
            "object_fit": null,
            "object_position": null,
            "order": null,
            "overflow": null,
            "overflow_x": null,
            "overflow_y": null,
            "padding": null,
            "right": null,
            "top": null,
            "visibility": null,
            "width": null
          }
        },
        "b02ad451e3884fd19b3c6e00893fbe46": {
          "model_module": "@jupyter-widgets/controls",
          "model_name": "DescriptionStyleModel",
          "model_module_version": "1.5.0",
          "state": {
            "_model_module": "@jupyter-widgets/controls",
            "_model_module_version": "1.5.0",
            "_model_name": "DescriptionStyleModel",
            "_view_count": null,
            "_view_module": "@jupyter-widgets/base",
            "_view_module_version": "1.2.0",
            "_view_name": "StyleView",
            "description_width": ""
          }
        },
        "4a7206fb84e9407393d54091be51a4a7": {
          "model_module": "@jupyter-widgets/base",
          "model_name": "LayoutModel",
          "model_module_version": "1.2.0",
          "state": {
            "_model_module": "@jupyter-widgets/base",
            "_model_module_version": "1.2.0",
            "_model_name": "LayoutModel",
            "_view_count": null,
            "_view_module": "@jupyter-widgets/base",
            "_view_module_version": "1.2.0",
            "_view_name": "LayoutView",
            "align_content": null,
            "align_items": null,
            "align_self": null,
            "border": null,
            "bottom": null,
            "display": null,
            "flex": null,
            "flex_flow": null,
            "grid_area": null,
            "grid_auto_columns": null,
            "grid_auto_flow": null,
            "grid_auto_rows": null,
            "grid_column": null,
            "grid_gap": null,
            "grid_row": null,
            "grid_template_areas": null,
            "grid_template_columns": null,
            "grid_template_rows": null,
            "height": null,
            "justify_content": null,
            "justify_items": null,
            "left": null,
            "margin": null,
            "max_height": null,
            "max_width": null,
            "min_height": null,
            "min_width": null,
            "object_fit": null,
            "object_position": null,
            "order": null,
            "overflow": null,
            "overflow_x": null,
            "overflow_y": null,
            "padding": null,
            "right": null,
            "top": null,
            "visibility": null,
            "width": null
          }
        },
        "50a61389ee6d4403a0a6aa40ea1442b2": {
          "model_module": "@jupyter-widgets/controls",
          "model_name": "ProgressStyleModel",
          "model_module_version": "1.5.0",
          "state": {
            "_model_module": "@jupyter-widgets/controls",
            "_model_module_version": "1.5.0",
            "_model_name": "ProgressStyleModel",
            "_view_count": null,
            "_view_module": "@jupyter-widgets/base",
            "_view_module_version": "1.2.0",
            "_view_name": "StyleView",
            "bar_color": null,
            "description_width": ""
          }
        },
        "78b0d573655c476caa41b1ca6d3cd969": {
          "model_module": "@jupyter-widgets/base",
          "model_name": "LayoutModel",
          "model_module_version": "1.2.0",
          "state": {
            "_model_module": "@jupyter-widgets/base",
            "_model_module_version": "1.2.0",
            "_model_name": "LayoutModel",
            "_view_count": null,
            "_view_module": "@jupyter-widgets/base",
            "_view_module_version": "1.2.0",
            "_view_name": "LayoutView",
            "align_content": null,
            "align_items": null,
            "align_self": null,
            "border": null,
            "bottom": null,
            "display": null,
            "flex": null,
            "flex_flow": null,
            "grid_area": null,
            "grid_auto_columns": null,
            "grid_auto_flow": null,
            "grid_auto_rows": null,
            "grid_column": null,
            "grid_gap": null,
            "grid_row": null,
            "grid_template_areas": null,
            "grid_template_columns": null,
            "grid_template_rows": null,
            "height": null,
            "justify_content": null,
            "justify_items": null,
            "left": null,
            "margin": null,
            "max_height": null,
            "max_width": null,
            "min_height": null,
            "min_width": null,
            "object_fit": null,
            "object_position": null,
            "order": null,
            "overflow": null,
            "overflow_x": null,
            "overflow_y": null,
            "padding": null,
            "right": null,
            "top": null,
            "visibility": null,
            "width": null
          }
        },
        "ee2208cb0d7a440783cdb97260db0b43": {
          "model_module": "@jupyter-widgets/controls",
          "model_name": "DescriptionStyleModel",
          "model_module_version": "1.5.0",
          "state": {
            "_model_module": "@jupyter-widgets/controls",
            "_model_module_version": "1.5.0",
            "_model_name": "DescriptionStyleModel",
            "_view_count": null,
            "_view_module": "@jupyter-widgets/base",
            "_view_module_version": "1.2.0",
            "_view_name": "StyleView",
            "description_width": ""
          }
        },
        "f0d750f3432a40518079884b81a2544e": {
          "model_module": "@jupyter-widgets/controls",
          "model_name": "HBoxModel",
          "model_module_version": "1.5.0",
          "state": {
            "_dom_classes": [],
            "_model_module": "@jupyter-widgets/controls",
            "_model_module_version": "1.5.0",
            "_model_name": "HBoxModel",
            "_view_count": null,
            "_view_module": "@jupyter-widgets/controls",
            "_view_module_version": "1.5.0",
            "_view_name": "HBoxView",
            "box_style": "",
            "children": [
              "IPY_MODEL_af3511a524744dcbb57fc378e4082c1c",
              "IPY_MODEL_7140bd582a43470da312ed408b1ee5cd",
              "IPY_MODEL_7418bbaadf41458a99bc866430e2ae40"
            ],
            "layout": "IPY_MODEL_a24814def1504ea0bd0f66f77f434601"
          }
        },
        "af3511a524744dcbb57fc378e4082c1c": {
          "model_module": "@jupyter-widgets/controls",
          "model_name": "HTMLModel",
          "model_module_version": "1.5.0",
          "state": {
            "_dom_classes": [],
            "_model_module": "@jupyter-widgets/controls",
            "_model_module_version": "1.5.0",
            "_model_name": "HTMLModel",
            "_view_count": null,
            "_view_module": "@jupyter-widgets/controls",
            "_view_module_version": "1.5.0",
            "_view_name": "HTMLView",
            "description": "",
            "description_tooltip": null,
            "layout": "IPY_MODEL_72c1afa208e849be9283fcf43edf924f",
            "placeholder": "​",
            "style": "IPY_MODEL_eae4202aecb04babae49b1d67a35a977",
            "value": "config.json: 100%"
          }
        },
        "7140bd582a43470da312ed408b1ee5cd": {
          "model_module": "@jupyter-widgets/controls",
          "model_name": "FloatProgressModel",
          "model_module_version": "1.5.0",
          "state": {
            "_dom_classes": [],
            "_model_module": "@jupyter-widgets/controls",
            "_model_module_version": "1.5.0",
            "_model_name": "FloatProgressModel",
            "_view_count": null,
            "_view_module": "@jupyter-widgets/controls",
            "_view_module_version": "1.5.0",
            "_view_name": "ProgressView",
            "bar_style": "success",
            "description": "",
            "description_tooltip": null,
            "layout": "IPY_MODEL_3d7359ca82aa4f1a94259c732dd3b21a",
            "max": 612,
            "min": 0,
            "orientation": "horizontal",
            "style": "IPY_MODEL_1cd9547c26a34e5182ad6db7b0ebcc76",
            "value": 612
          }
        },
        "7418bbaadf41458a99bc866430e2ae40": {
          "model_module": "@jupyter-widgets/controls",
          "model_name": "HTMLModel",
          "model_module_version": "1.5.0",
          "state": {
            "_dom_classes": [],
            "_model_module": "@jupyter-widgets/controls",
            "_model_module_version": "1.5.0",
            "_model_name": "HTMLModel",
            "_view_count": null,
            "_view_module": "@jupyter-widgets/controls",
            "_view_module_version": "1.5.0",
            "_view_name": "HTMLView",
            "description": "",
            "description_tooltip": null,
            "layout": "IPY_MODEL_dc53e1ff3d3b4df79074f674ff142090",
            "placeholder": "​",
            "style": "IPY_MODEL_30098922ac1347a7a50dd61b3531b1fb",
            "value": " 612/612 [00:00&lt;00:00, 6.99kB/s]"
          }
        },
        "a24814def1504ea0bd0f66f77f434601": {
          "model_module": "@jupyter-widgets/base",
          "model_name": "LayoutModel",
          "model_module_version": "1.2.0",
          "state": {
            "_model_module": "@jupyter-widgets/base",
            "_model_module_version": "1.2.0",
            "_model_name": "LayoutModel",
            "_view_count": null,
            "_view_module": "@jupyter-widgets/base",
            "_view_module_version": "1.2.0",
            "_view_name": "LayoutView",
            "align_content": null,
            "align_items": null,
            "align_self": null,
            "border": null,
            "bottom": null,
            "display": null,
            "flex": null,
            "flex_flow": null,
            "grid_area": null,
            "grid_auto_columns": null,
            "grid_auto_flow": null,
            "grid_auto_rows": null,
            "grid_column": null,
            "grid_gap": null,
            "grid_row": null,
            "grid_template_areas": null,
            "grid_template_columns": null,
            "grid_template_rows": null,
            "height": null,
            "justify_content": null,
            "justify_items": null,
            "left": null,
            "margin": null,
            "max_height": null,
            "max_width": null,
            "min_height": null,
            "min_width": null,
            "object_fit": null,
            "object_position": null,
            "order": null,
            "overflow": null,
            "overflow_x": null,
            "overflow_y": null,
            "padding": null,
            "right": null,
            "top": null,
            "visibility": null,
            "width": null
          }
        },
        "72c1afa208e849be9283fcf43edf924f": {
          "model_module": "@jupyter-widgets/base",
          "model_name": "LayoutModel",
          "model_module_version": "1.2.0",
          "state": {
            "_model_module": "@jupyter-widgets/base",
            "_model_module_version": "1.2.0",
            "_model_name": "LayoutModel",
            "_view_count": null,
            "_view_module": "@jupyter-widgets/base",
            "_view_module_version": "1.2.0",
            "_view_name": "LayoutView",
            "align_content": null,
            "align_items": null,
            "align_self": null,
            "border": null,
            "bottom": null,
            "display": null,
            "flex": null,
            "flex_flow": null,
            "grid_area": null,
            "grid_auto_columns": null,
            "grid_auto_flow": null,
            "grid_auto_rows": null,
            "grid_column": null,
            "grid_gap": null,
            "grid_row": null,
            "grid_template_areas": null,
            "grid_template_columns": null,
            "grid_template_rows": null,
            "height": null,
            "justify_content": null,
            "justify_items": null,
            "left": null,
            "margin": null,
            "max_height": null,
            "max_width": null,
            "min_height": null,
            "min_width": null,
            "object_fit": null,
            "object_position": null,
            "order": null,
            "overflow": null,
            "overflow_x": null,
            "overflow_y": null,
            "padding": null,
            "right": null,
            "top": null,
            "visibility": null,
            "width": null
          }
        },
        "eae4202aecb04babae49b1d67a35a977": {
          "model_module": "@jupyter-widgets/controls",
          "model_name": "DescriptionStyleModel",
          "model_module_version": "1.5.0",
          "state": {
            "_model_module": "@jupyter-widgets/controls",
            "_model_module_version": "1.5.0",
            "_model_name": "DescriptionStyleModel",
            "_view_count": null,
            "_view_module": "@jupyter-widgets/base",
            "_view_module_version": "1.2.0",
            "_view_name": "StyleView",
            "description_width": ""
          }
        },
        "3d7359ca82aa4f1a94259c732dd3b21a": {
          "model_module": "@jupyter-widgets/base",
          "model_name": "LayoutModel",
          "model_module_version": "1.2.0",
          "state": {
            "_model_module": "@jupyter-widgets/base",
            "_model_module_version": "1.2.0",
            "_model_name": "LayoutModel",
            "_view_count": null,
            "_view_module": "@jupyter-widgets/base",
            "_view_module_version": "1.2.0",
            "_view_name": "LayoutView",
            "align_content": null,
            "align_items": null,
            "align_self": null,
            "border": null,
            "bottom": null,
            "display": null,
            "flex": null,
            "flex_flow": null,
            "grid_area": null,
            "grid_auto_columns": null,
            "grid_auto_flow": null,
            "grid_auto_rows": null,
            "grid_column": null,
            "grid_gap": null,
            "grid_row": null,
            "grid_template_areas": null,
            "grid_template_columns": null,
            "grid_template_rows": null,
            "height": null,
            "justify_content": null,
            "justify_items": null,
            "left": null,
            "margin": null,
            "max_height": null,
            "max_width": null,
            "min_height": null,
            "min_width": null,
            "object_fit": null,
            "object_position": null,
            "order": null,
            "overflow": null,
            "overflow_x": null,
            "overflow_y": null,
            "padding": null,
            "right": null,
            "top": null,
            "visibility": null,
            "width": null
          }
        },
        "1cd9547c26a34e5182ad6db7b0ebcc76": {
          "model_module": "@jupyter-widgets/controls",
          "model_name": "ProgressStyleModel",
          "model_module_version": "1.5.0",
          "state": {
            "_model_module": "@jupyter-widgets/controls",
            "_model_module_version": "1.5.0",
            "_model_name": "ProgressStyleModel",
            "_view_count": null,
            "_view_module": "@jupyter-widgets/base",
            "_view_module_version": "1.2.0",
            "_view_name": "StyleView",
            "bar_color": null,
            "description_width": ""
          }
        },
        "dc53e1ff3d3b4df79074f674ff142090": {
          "model_module": "@jupyter-widgets/base",
          "model_name": "LayoutModel",
          "model_module_version": "1.2.0",
          "state": {
            "_model_module": "@jupyter-widgets/base",
            "_model_module_version": "1.2.0",
            "_model_name": "LayoutModel",
            "_view_count": null,
            "_view_module": "@jupyter-widgets/base",
            "_view_module_version": "1.2.0",
            "_view_name": "LayoutView",
            "align_content": null,
            "align_items": null,
            "align_self": null,
            "border": null,
            "bottom": null,
            "display": null,
            "flex": null,
            "flex_flow": null,
            "grid_area": null,
            "grid_auto_columns": null,
            "grid_auto_flow": null,
            "grid_auto_rows": null,
            "grid_column": null,
            "grid_gap": null,
            "grid_row": null,
            "grid_template_areas": null,
            "grid_template_columns": null,
            "grid_template_rows": null,
            "height": null,
            "justify_content": null,
            "justify_items": null,
            "left": null,
            "margin": null,
            "max_height": null,
            "max_width": null,
            "min_height": null,
            "min_width": null,
            "object_fit": null,
            "object_position": null,
            "order": null,
            "overflow": null,
            "overflow_x": null,
            "overflow_y": null,
            "padding": null,
            "right": null,
            "top": null,
            "visibility": null,
            "width": null
          }
        },
        "30098922ac1347a7a50dd61b3531b1fb": {
          "model_module": "@jupyter-widgets/controls",
          "model_name": "DescriptionStyleModel",
          "model_module_version": "1.5.0",
          "state": {
            "_model_module": "@jupyter-widgets/controls",
            "_model_module_version": "1.5.0",
            "_model_name": "DescriptionStyleModel",
            "_view_count": null,
            "_view_module": "@jupyter-widgets/base",
            "_view_module_version": "1.2.0",
            "_view_name": "StyleView",
            "description_width": ""
          }
        },
        "ea88b7d1c2104599bf160d577dda0935": {
          "model_module": "@jupyter-widgets/controls",
          "model_name": "HBoxModel",
          "model_module_version": "1.5.0",
          "state": {
            "_dom_classes": [],
            "_model_module": "@jupyter-widgets/controls",
            "_model_module_version": "1.5.0",
            "_model_name": "HBoxModel",
            "_view_count": null,
            "_view_module": "@jupyter-widgets/controls",
            "_view_module_version": "1.5.0",
            "_view_name": "HBoxView",
            "box_style": "",
            "children": [
              "IPY_MODEL_df0a4d4a84b448aeb41df16663e4c97f",
              "IPY_MODEL_0d66884223674d5284747d5d5df9d069",
              "IPY_MODEL_6ae5585ef23d4f658331f41582557c3e"
            ],
            "layout": "IPY_MODEL_7ca1e2077c9346599b31dbba50cfa4f9"
          }
        },
        "df0a4d4a84b448aeb41df16663e4c97f": {
          "model_module": "@jupyter-widgets/controls",
          "model_name": "HTMLModel",
          "model_module_version": "1.5.0",
          "state": {
            "_dom_classes": [],
            "_model_module": "@jupyter-widgets/controls",
            "_model_module_version": "1.5.0",
            "_model_name": "HTMLModel",
            "_view_count": null,
            "_view_module": "@jupyter-widgets/controls",
            "_view_module_version": "1.5.0",
            "_view_name": "HTMLView",
            "description": "",
            "description_tooltip": null,
            "layout": "IPY_MODEL_181d0d95705c400889cac7a58409f354",
            "placeholder": "​",
            "style": "IPY_MODEL_a77fe704c4444c849762ef9629ae8afb",
            "value": "model.safetensors: 100%"
          }
        },
        "0d66884223674d5284747d5d5df9d069": {
          "model_module": "@jupyter-widgets/controls",
          "model_name": "FloatProgressModel",
          "model_module_version": "1.5.0",
          "state": {
            "_dom_classes": [],
            "_model_module": "@jupyter-widgets/controls",
            "_model_module_version": "1.5.0",
            "_model_name": "FloatProgressModel",
            "_view_count": null,
            "_view_module": "@jupyter-widgets/controls",
            "_view_module_version": "1.5.0",
            "_view_name": "ProgressView",
            "bar_style": "success",
            "description": "",
            "description_tooltip": null,
            "layout": "IPY_MODEL_c31ad93302eb4e12abe72262f54afdfb",
            "max": 90868376,
            "min": 0,
            "orientation": "horizontal",
            "style": "IPY_MODEL_a63451c8931f4b5296e1e854d874d3ef",
            "value": 90868376
          }
        },
        "6ae5585ef23d4f658331f41582557c3e": {
          "model_module": "@jupyter-widgets/controls",
          "model_name": "HTMLModel",
          "model_module_version": "1.5.0",
          "state": {
            "_dom_classes": [],
            "_model_module": "@jupyter-widgets/controls",
            "_model_module_version": "1.5.0",
            "_model_name": "HTMLModel",
            "_view_count": null,
            "_view_module": "@jupyter-widgets/controls",
            "_view_module_version": "1.5.0",
            "_view_name": "HTMLView",
            "description": "",
            "description_tooltip": null,
            "layout": "IPY_MODEL_899dd5d049744ac2be5b67dd59cb5ce7",
            "placeholder": "​",
            "style": "IPY_MODEL_e91a1f251d5440a7baf911be13edfc56",
            "value": " 90.9M/90.9M [00:01&lt;00:00, 90.4MB/s]"
          }
        },
        "7ca1e2077c9346599b31dbba50cfa4f9": {
          "model_module": "@jupyter-widgets/base",
          "model_name": "LayoutModel",
          "model_module_version": "1.2.0",
          "state": {
            "_model_module": "@jupyter-widgets/base",
            "_model_module_version": "1.2.0",
            "_model_name": "LayoutModel",
            "_view_count": null,
            "_view_module": "@jupyter-widgets/base",
            "_view_module_version": "1.2.0",
            "_view_name": "LayoutView",
            "align_content": null,
            "align_items": null,
            "align_self": null,
            "border": null,
            "bottom": null,
            "display": null,
            "flex": null,
            "flex_flow": null,
            "grid_area": null,
            "grid_auto_columns": null,
            "grid_auto_flow": null,
            "grid_auto_rows": null,
            "grid_column": null,
            "grid_gap": null,
            "grid_row": null,
            "grid_template_areas": null,
            "grid_template_columns": null,
            "grid_template_rows": null,
            "height": null,
            "justify_content": null,
            "justify_items": null,
            "left": null,
            "margin": null,
            "max_height": null,
            "max_width": null,
            "min_height": null,
            "min_width": null,
            "object_fit": null,
            "object_position": null,
            "order": null,
            "overflow": null,
            "overflow_x": null,
            "overflow_y": null,
            "padding": null,
            "right": null,
            "top": null,
            "visibility": null,
            "width": null
          }
        },
        "181d0d95705c400889cac7a58409f354": {
          "model_module": "@jupyter-widgets/base",
          "model_name": "LayoutModel",
          "model_module_version": "1.2.0",
          "state": {
            "_model_module": "@jupyter-widgets/base",
            "_model_module_version": "1.2.0",
            "_model_name": "LayoutModel",
            "_view_count": null,
            "_view_module": "@jupyter-widgets/base",
            "_view_module_version": "1.2.0",
            "_view_name": "LayoutView",
            "align_content": null,
            "align_items": null,
            "align_self": null,
            "border": null,
            "bottom": null,
            "display": null,
            "flex": null,
            "flex_flow": null,
            "grid_area": null,
            "grid_auto_columns": null,
            "grid_auto_flow": null,
            "grid_auto_rows": null,
            "grid_column": null,
            "grid_gap": null,
            "grid_row": null,
            "grid_template_areas": null,
            "grid_template_columns": null,
            "grid_template_rows": null,
            "height": null,
            "justify_content": null,
            "justify_items": null,
            "left": null,
            "margin": null,
            "max_height": null,
            "max_width": null,
            "min_height": null,
            "min_width": null,
            "object_fit": null,
            "object_position": null,
            "order": null,
            "overflow": null,
            "overflow_x": null,
            "overflow_y": null,
            "padding": null,
            "right": null,
            "top": null,
            "visibility": null,
            "width": null
          }
        },
        "a77fe704c4444c849762ef9629ae8afb": {
          "model_module": "@jupyter-widgets/controls",
          "model_name": "DescriptionStyleModel",
          "model_module_version": "1.5.0",
          "state": {
            "_model_module": "@jupyter-widgets/controls",
            "_model_module_version": "1.5.0",
            "_model_name": "DescriptionStyleModel",
            "_view_count": null,
            "_view_module": "@jupyter-widgets/base",
            "_view_module_version": "1.2.0",
            "_view_name": "StyleView",
            "description_width": ""
          }
        },
        "c31ad93302eb4e12abe72262f54afdfb": {
          "model_module": "@jupyter-widgets/base",
          "model_name": "LayoutModel",
          "model_module_version": "1.2.0",
          "state": {
            "_model_module": "@jupyter-widgets/base",
            "_model_module_version": "1.2.0",
            "_model_name": "LayoutModel",
            "_view_count": null,
            "_view_module": "@jupyter-widgets/base",
            "_view_module_version": "1.2.0",
            "_view_name": "LayoutView",
            "align_content": null,
            "align_items": null,
            "align_self": null,
            "border": null,
            "bottom": null,
            "display": null,
            "flex": null,
            "flex_flow": null,
            "grid_area": null,
            "grid_auto_columns": null,
            "grid_auto_flow": null,
            "grid_auto_rows": null,
            "grid_column": null,
            "grid_gap": null,
            "grid_row": null,
            "grid_template_areas": null,
            "grid_template_columns": null,
            "grid_template_rows": null,
            "height": null,
            "justify_content": null,
            "justify_items": null,
            "left": null,
            "margin": null,
            "max_height": null,
            "max_width": null,
            "min_height": null,
            "min_width": null,
            "object_fit": null,
            "object_position": null,
            "order": null,
            "overflow": null,
            "overflow_x": null,
            "overflow_y": null,
            "padding": null,
            "right": null,
            "top": null,
            "visibility": null,
            "width": null
          }
        },
        "a63451c8931f4b5296e1e854d874d3ef": {
          "model_module": "@jupyter-widgets/controls",
          "model_name": "ProgressStyleModel",
          "model_module_version": "1.5.0",
          "state": {
            "_model_module": "@jupyter-widgets/controls",
            "_model_module_version": "1.5.0",
            "_model_name": "ProgressStyleModel",
            "_view_count": null,
            "_view_module": "@jupyter-widgets/base",
            "_view_module_version": "1.2.0",
            "_view_name": "StyleView",
            "bar_color": null,
            "description_width": ""
          }
        },
        "899dd5d049744ac2be5b67dd59cb5ce7": {
          "model_module": "@jupyter-widgets/base",
          "model_name": "LayoutModel",
          "model_module_version": "1.2.0",
          "state": {
            "_model_module": "@jupyter-widgets/base",
            "_model_module_version": "1.2.0",
            "_model_name": "LayoutModel",
            "_view_count": null,
            "_view_module": "@jupyter-widgets/base",
            "_view_module_version": "1.2.0",
            "_view_name": "LayoutView",
            "align_content": null,
            "align_items": null,
            "align_self": null,
            "border": null,
            "bottom": null,
            "display": null,
            "flex": null,
            "flex_flow": null,
            "grid_area": null,
            "grid_auto_columns": null,
            "grid_auto_flow": null,
            "grid_auto_rows": null,
            "grid_column": null,
            "grid_gap": null,
            "grid_row": null,
            "grid_template_areas": null,
            "grid_template_columns": null,
            "grid_template_rows": null,
            "height": null,
            "justify_content": null,
            "justify_items": null,
            "left": null,
            "margin": null,
            "max_height": null,
            "max_width": null,
            "min_height": null,
            "min_width": null,
            "object_fit": null,
            "object_position": null,
            "order": null,
            "overflow": null,
            "overflow_x": null,
            "overflow_y": null,
            "padding": null,
            "right": null,
            "top": null,
            "visibility": null,
            "width": null
          }
        },
        "e91a1f251d5440a7baf911be13edfc56": {
          "model_module": "@jupyter-widgets/controls",
          "model_name": "DescriptionStyleModel",
          "model_module_version": "1.5.0",
          "state": {
            "_model_module": "@jupyter-widgets/controls",
            "_model_module_version": "1.5.0",
            "_model_name": "DescriptionStyleModel",
            "_view_count": null,
            "_view_module": "@jupyter-widgets/base",
            "_view_module_version": "1.2.0",
            "_view_name": "StyleView",
            "description_width": ""
          }
        },
        "f3b33a4ffb2f4a91b2c0030ef97469c2": {
          "model_module": "@jupyter-widgets/controls",
          "model_name": "HBoxModel",
          "model_module_version": "1.5.0",
          "state": {
            "_dom_classes": [],
            "_model_module": "@jupyter-widgets/controls",
            "_model_module_version": "1.5.0",
            "_model_name": "HBoxModel",
            "_view_count": null,
            "_view_module": "@jupyter-widgets/controls",
            "_view_module_version": "1.5.0",
            "_view_name": "HBoxView",
            "box_style": "",
            "children": [
              "IPY_MODEL_b51764b58232487da94133c1290d2f6c",
              "IPY_MODEL_9ab4e9fe931b44e9b0936ab54a24b041",
              "IPY_MODEL_5a40d82d818943e196fb3367dc1c800d"
            ],
            "layout": "IPY_MODEL_a627d083bc3c4c72aaa340e2d4795633"
          }
        },
        "b51764b58232487da94133c1290d2f6c": {
          "model_module": "@jupyter-widgets/controls",
          "model_name": "HTMLModel",
          "model_module_version": "1.5.0",
          "state": {
            "_dom_classes": [],
            "_model_module": "@jupyter-widgets/controls",
            "_model_module_version": "1.5.0",
            "_model_name": "HTMLModel",
            "_view_count": null,
            "_view_module": "@jupyter-widgets/controls",
            "_view_module_version": "1.5.0",
            "_view_name": "HTMLView",
            "description": "",
            "description_tooltip": null,
            "layout": "IPY_MODEL_f3e83cddfefa4d3bab76bf57e56b6f33",
            "placeholder": "​",
            "style": "IPY_MODEL_308b2c5ea15447b9ab8bb3124019ab98",
            "value": "tokenizer_config.json: 100%"
          }
        },
        "9ab4e9fe931b44e9b0936ab54a24b041": {
          "model_module": "@jupyter-widgets/controls",
          "model_name": "FloatProgressModel",
          "model_module_version": "1.5.0",
          "state": {
            "_dom_classes": [],
            "_model_module": "@jupyter-widgets/controls",
            "_model_module_version": "1.5.0",
            "_model_name": "FloatProgressModel",
            "_view_count": null,
            "_view_module": "@jupyter-widgets/controls",
            "_view_module_version": "1.5.0",
            "_view_name": "ProgressView",
            "bar_style": "success",
            "description": "",
            "description_tooltip": null,
            "layout": "IPY_MODEL_350b2a6b6ef64dada7f44489a71bdd09",
            "max": 350,
            "min": 0,
            "orientation": "horizontal",
            "style": "IPY_MODEL_21ed116e9f754667a81848303cb03cdf",
            "value": 350
          }
        },
        "5a40d82d818943e196fb3367dc1c800d": {
          "model_module": "@jupyter-widgets/controls",
          "model_name": "HTMLModel",
          "model_module_version": "1.5.0",
          "state": {
            "_dom_classes": [],
            "_model_module": "@jupyter-widgets/controls",
            "_model_module_version": "1.5.0",
            "_model_name": "HTMLModel",
            "_view_count": null,
            "_view_module": "@jupyter-widgets/controls",
            "_view_module_version": "1.5.0",
            "_view_name": "HTMLView",
            "description": "",
            "description_tooltip": null,
            "layout": "IPY_MODEL_fc3d82050ae84b14a09d94258045e5e7",
            "placeholder": "​",
            "style": "IPY_MODEL_6ea5642d0ca44a4e98a73ff081f5b69f",
            "value": " 350/350 [00:00&lt;00:00, 6.20kB/s]"
          }
        },
        "a627d083bc3c4c72aaa340e2d4795633": {
          "model_module": "@jupyter-widgets/base",
          "model_name": "LayoutModel",
          "model_module_version": "1.2.0",
          "state": {
            "_model_module": "@jupyter-widgets/base",
            "_model_module_version": "1.2.0",
            "_model_name": "LayoutModel",
            "_view_count": null,
            "_view_module": "@jupyter-widgets/base",
            "_view_module_version": "1.2.0",
            "_view_name": "LayoutView",
            "align_content": null,
            "align_items": null,
            "align_self": null,
            "border": null,
            "bottom": null,
            "display": null,
            "flex": null,
            "flex_flow": null,
            "grid_area": null,
            "grid_auto_columns": null,
            "grid_auto_flow": null,
            "grid_auto_rows": null,
            "grid_column": null,
            "grid_gap": null,
            "grid_row": null,
            "grid_template_areas": null,
            "grid_template_columns": null,
            "grid_template_rows": null,
            "height": null,
            "justify_content": null,
            "justify_items": null,
            "left": null,
            "margin": null,
            "max_height": null,
            "max_width": null,
            "min_height": null,
            "min_width": null,
            "object_fit": null,
            "object_position": null,
            "order": null,
            "overflow": null,
            "overflow_x": null,
            "overflow_y": null,
            "padding": null,
            "right": null,
            "top": null,
            "visibility": null,
            "width": null
          }
        },
        "f3e83cddfefa4d3bab76bf57e56b6f33": {
          "model_module": "@jupyter-widgets/base",
          "model_name": "LayoutModel",
          "model_module_version": "1.2.0",
          "state": {
            "_model_module": "@jupyter-widgets/base",
            "_model_module_version": "1.2.0",
            "_model_name": "LayoutModel",
            "_view_count": null,
            "_view_module": "@jupyter-widgets/base",
            "_view_module_version": "1.2.0",
            "_view_name": "LayoutView",
            "align_content": null,
            "align_items": null,
            "align_self": null,
            "border": null,
            "bottom": null,
            "display": null,
            "flex": null,
            "flex_flow": null,
            "grid_area": null,
            "grid_auto_columns": null,
            "grid_auto_flow": null,
            "grid_auto_rows": null,
            "grid_column": null,
            "grid_gap": null,
            "grid_row": null,
            "grid_template_areas": null,
            "grid_template_columns": null,
            "grid_template_rows": null,
            "height": null,
            "justify_content": null,
            "justify_items": null,
            "left": null,
            "margin": null,
            "max_height": null,
            "max_width": null,
            "min_height": null,
            "min_width": null,
            "object_fit": null,
            "object_position": null,
            "order": null,
            "overflow": null,
            "overflow_x": null,
            "overflow_y": null,
            "padding": null,
            "right": null,
            "top": null,
            "visibility": null,
            "width": null
          }
        },
        "308b2c5ea15447b9ab8bb3124019ab98": {
          "model_module": "@jupyter-widgets/controls",
          "model_name": "DescriptionStyleModel",
          "model_module_version": "1.5.0",
          "state": {
            "_model_module": "@jupyter-widgets/controls",
            "_model_module_version": "1.5.0",
            "_model_name": "DescriptionStyleModel",
            "_view_count": null,
            "_view_module": "@jupyter-widgets/base",
            "_view_module_version": "1.2.0",
            "_view_name": "StyleView",
            "description_width": ""
          }
        },
        "350b2a6b6ef64dada7f44489a71bdd09": {
          "model_module": "@jupyter-widgets/base",
          "model_name": "LayoutModel",
          "model_module_version": "1.2.0",
          "state": {
            "_model_module": "@jupyter-widgets/base",
            "_model_module_version": "1.2.0",
            "_model_name": "LayoutModel",
            "_view_count": null,
            "_view_module": "@jupyter-widgets/base",
            "_view_module_version": "1.2.0",
            "_view_name": "LayoutView",
            "align_content": null,
            "align_items": null,
            "align_self": null,
            "border": null,
            "bottom": null,
            "display": null,
            "flex": null,
            "flex_flow": null,
            "grid_area": null,
            "grid_auto_columns": null,
            "grid_auto_flow": null,
            "grid_auto_rows": null,
            "grid_column": null,
            "grid_gap": null,
            "grid_row": null,
            "grid_template_areas": null,
            "grid_template_columns": null,
            "grid_template_rows": null,
            "height": null,
            "justify_content": null,
            "justify_items": null,
            "left": null,
            "margin": null,
            "max_height": null,
            "max_width": null,
            "min_height": null,
            "min_width": null,
            "object_fit": null,
            "object_position": null,
            "order": null,
            "overflow": null,
            "overflow_x": null,
            "overflow_y": null,
            "padding": null,
            "right": null,
            "top": null,
            "visibility": null,
            "width": null
          }
        },
        "21ed116e9f754667a81848303cb03cdf": {
          "model_module": "@jupyter-widgets/controls",
          "model_name": "ProgressStyleModel",
          "model_module_version": "1.5.0",
          "state": {
            "_model_module": "@jupyter-widgets/controls",
            "_model_module_version": "1.5.0",
            "_model_name": "ProgressStyleModel",
            "_view_count": null,
            "_view_module": "@jupyter-widgets/base",
            "_view_module_version": "1.2.0",
            "_view_name": "StyleView",
            "bar_color": null,
            "description_width": ""
          }
        },
        "fc3d82050ae84b14a09d94258045e5e7": {
          "model_module": "@jupyter-widgets/base",
          "model_name": "LayoutModel",
          "model_module_version": "1.2.0",
          "state": {
            "_model_module": "@jupyter-widgets/base",
            "_model_module_version": "1.2.0",
            "_model_name": "LayoutModel",
            "_view_count": null,
            "_view_module": "@jupyter-widgets/base",
            "_view_module_version": "1.2.0",
            "_view_name": "LayoutView",
            "align_content": null,
            "align_items": null,
            "align_self": null,
            "border": null,
            "bottom": null,
            "display": null,
            "flex": null,
            "flex_flow": null,
            "grid_area": null,
            "grid_auto_columns": null,
            "grid_auto_flow": null,
            "grid_auto_rows": null,
            "grid_column": null,
            "grid_gap": null,
            "grid_row": null,
            "grid_template_areas": null,
            "grid_template_columns": null,
            "grid_template_rows": null,
            "height": null,
            "justify_content": null,
            "justify_items": null,
            "left": null,
            "margin": null,
            "max_height": null,
            "max_width": null,
            "min_height": null,
            "min_width": null,
            "object_fit": null,
            "object_position": null,
            "order": null,
            "overflow": null,
            "overflow_x": null,
            "overflow_y": null,
            "padding": null,
            "right": null,
            "top": null,
            "visibility": null,
            "width": null
          }
        },
        "6ea5642d0ca44a4e98a73ff081f5b69f": {
          "model_module": "@jupyter-widgets/controls",
          "model_name": "DescriptionStyleModel",
          "model_module_version": "1.5.0",
          "state": {
            "_model_module": "@jupyter-widgets/controls",
            "_model_module_version": "1.5.0",
            "_model_name": "DescriptionStyleModel",
            "_view_count": null,
            "_view_module": "@jupyter-widgets/base",
            "_view_module_version": "1.2.0",
            "_view_name": "StyleView",
            "description_width": ""
          }
        },
        "402734c759a94e70bf30f039f2b0fa8e": {
          "model_module": "@jupyter-widgets/controls",
          "model_name": "HBoxModel",
          "model_module_version": "1.5.0",
          "state": {
            "_dom_classes": [],
            "_model_module": "@jupyter-widgets/controls",
            "_model_module_version": "1.5.0",
            "_model_name": "HBoxModel",
            "_view_count": null,
            "_view_module": "@jupyter-widgets/controls",
            "_view_module_version": "1.5.0",
            "_view_name": "HBoxView",
            "box_style": "",
            "children": [
              "IPY_MODEL_5c16cbe890c948349d099dcdb630519c",
              "IPY_MODEL_1dd185168ad84034bae4742d4bdb7016",
              "IPY_MODEL_bde21f50f46f4af682f55bd3bac018f1"
            ],
            "layout": "IPY_MODEL_3997a530c06e4b9ba256fb4569340349"
          }
        },
        "5c16cbe890c948349d099dcdb630519c": {
          "model_module": "@jupyter-widgets/controls",
          "model_name": "HTMLModel",
          "model_module_version": "1.5.0",
          "state": {
            "_dom_classes": [],
            "_model_module": "@jupyter-widgets/controls",
            "_model_module_version": "1.5.0",
            "_model_name": "HTMLModel",
            "_view_count": null,
            "_view_module": "@jupyter-widgets/controls",
            "_view_module_version": "1.5.0",
            "_view_name": "HTMLView",
            "description": "",
            "description_tooltip": null,
            "layout": "IPY_MODEL_1170bb41bd334671b3f73c3515d030f9",
            "placeholder": "​",
            "style": "IPY_MODEL_af33731fae684ed2badbb7f47402bcbd",
            "value": "vocab.txt: 100%"
          }
        },
        "1dd185168ad84034bae4742d4bdb7016": {
          "model_module": "@jupyter-widgets/controls",
          "model_name": "FloatProgressModel",
          "model_module_version": "1.5.0",
          "state": {
            "_dom_classes": [],
            "_model_module": "@jupyter-widgets/controls",
            "_model_module_version": "1.5.0",
            "_model_name": "FloatProgressModel",
            "_view_count": null,
            "_view_module": "@jupyter-widgets/controls",
            "_view_module_version": "1.5.0",
            "_view_name": "ProgressView",
            "bar_style": "success",
            "description": "",
            "description_tooltip": null,
            "layout": "IPY_MODEL_212c3fc35b4b474ab6dc92c9f2d4f6cd",
            "max": 231508,
            "min": 0,
            "orientation": "horizontal",
            "style": "IPY_MODEL_c5a95837782643c9b8efdcfc2ea77d66",
            "value": 231508
          }
        },
        "bde21f50f46f4af682f55bd3bac018f1": {
          "model_module": "@jupyter-widgets/controls",
          "model_name": "HTMLModel",
          "model_module_version": "1.5.0",
          "state": {
            "_dom_classes": [],
            "_model_module": "@jupyter-widgets/controls",
            "_model_module_version": "1.5.0",
            "_model_name": "HTMLModel",
            "_view_count": null,
            "_view_module": "@jupyter-widgets/controls",
            "_view_module_version": "1.5.0",
            "_view_name": "HTMLView",
            "description": "",
            "description_tooltip": null,
            "layout": "IPY_MODEL_952759f021994738af88aecaaca7929a",
            "placeholder": "​",
            "style": "IPY_MODEL_8ddd59b1800d45f282241b65aceb18de",
            "value": " 232k/232k [00:00&lt;00:00, 8.74MB/s]"
          }
        },
        "3997a530c06e4b9ba256fb4569340349": {
          "model_module": "@jupyter-widgets/base",
          "model_name": "LayoutModel",
          "model_module_version": "1.2.0",
          "state": {
            "_model_module": "@jupyter-widgets/base",
            "_model_module_version": "1.2.0",
            "_model_name": "LayoutModel",
            "_view_count": null,
            "_view_module": "@jupyter-widgets/base",
            "_view_module_version": "1.2.0",
            "_view_name": "LayoutView",
            "align_content": null,
            "align_items": null,
            "align_self": null,
            "border": null,
            "bottom": null,
            "display": null,
            "flex": null,
            "flex_flow": null,
            "grid_area": null,
            "grid_auto_columns": null,
            "grid_auto_flow": null,
            "grid_auto_rows": null,
            "grid_column": null,
            "grid_gap": null,
            "grid_row": null,
            "grid_template_areas": null,
            "grid_template_columns": null,
            "grid_template_rows": null,
            "height": null,
            "justify_content": null,
            "justify_items": null,
            "left": null,
            "margin": null,
            "max_height": null,
            "max_width": null,
            "min_height": null,
            "min_width": null,
            "object_fit": null,
            "object_position": null,
            "order": null,
            "overflow": null,
            "overflow_x": null,
            "overflow_y": null,
            "padding": null,
            "right": null,
            "top": null,
            "visibility": null,
            "width": null
          }
        },
        "1170bb41bd334671b3f73c3515d030f9": {
          "model_module": "@jupyter-widgets/base",
          "model_name": "LayoutModel",
          "model_module_version": "1.2.0",
          "state": {
            "_model_module": "@jupyter-widgets/base",
            "_model_module_version": "1.2.0",
            "_model_name": "LayoutModel",
            "_view_count": null,
            "_view_module": "@jupyter-widgets/base",
            "_view_module_version": "1.2.0",
            "_view_name": "LayoutView",
            "align_content": null,
            "align_items": null,
            "align_self": null,
            "border": null,
            "bottom": null,
            "display": null,
            "flex": null,
            "flex_flow": null,
            "grid_area": null,
            "grid_auto_columns": null,
            "grid_auto_flow": null,
            "grid_auto_rows": null,
            "grid_column": null,
            "grid_gap": null,
            "grid_row": null,
            "grid_template_areas": null,
            "grid_template_columns": null,
            "grid_template_rows": null,
            "height": null,
            "justify_content": null,
            "justify_items": null,
            "left": null,
            "margin": null,
            "max_height": null,
            "max_width": null,
            "min_height": null,
            "min_width": null,
            "object_fit": null,
            "object_position": null,
            "order": null,
            "overflow": null,
            "overflow_x": null,
            "overflow_y": null,
            "padding": null,
            "right": null,
            "top": null,
            "visibility": null,
            "width": null
          }
        },
        "af33731fae684ed2badbb7f47402bcbd": {
          "model_module": "@jupyter-widgets/controls",
          "model_name": "DescriptionStyleModel",
          "model_module_version": "1.5.0",
          "state": {
            "_model_module": "@jupyter-widgets/controls",
            "_model_module_version": "1.5.0",
            "_model_name": "DescriptionStyleModel",
            "_view_count": null,
            "_view_module": "@jupyter-widgets/base",
            "_view_module_version": "1.2.0",
            "_view_name": "StyleView",
            "description_width": ""
          }
        },
        "212c3fc35b4b474ab6dc92c9f2d4f6cd": {
          "model_module": "@jupyter-widgets/base",
          "model_name": "LayoutModel",
          "model_module_version": "1.2.0",
          "state": {
            "_model_module": "@jupyter-widgets/base",
            "_model_module_version": "1.2.0",
            "_model_name": "LayoutModel",
            "_view_count": null,
            "_view_module": "@jupyter-widgets/base",
            "_view_module_version": "1.2.0",
            "_view_name": "LayoutView",
            "align_content": null,
            "align_items": null,
            "align_self": null,
            "border": null,
            "bottom": null,
            "display": null,
            "flex": null,
            "flex_flow": null,
            "grid_area": null,
            "grid_auto_columns": null,
            "grid_auto_flow": null,
            "grid_auto_rows": null,
            "grid_column": null,
            "grid_gap": null,
            "grid_row": null,
            "grid_template_areas": null,
            "grid_template_columns": null,
            "grid_template_rows": null,
            "height": null,
            "justify_content": null,
            "justify_items": null,
            "left": null,
            "margin": null,
            "max_height": null,
            "max_width": null,
            "min_height": null,
            "min_width": null,
            "object_fit": null,
            "object_position": null,
            "order": null,
            "overflow": null,
            "overflow_x": null,
            "overflow_y": null,
            "padding": null,
            "right": null,
            "top": null,
            "visibility": null,
            "width": null
          }
        },
        "c5a95837782643c9b8efdcfc2ea77d66": {
          "model_module": "@jupyter-widgets/controls",
          "model_name": "ProgressStyleModel",
          "model_module_version": "1.5.0",
          "state": {
            "_model_module": "@jupyter-widgets/controls",
            "_model_module_version": "1.5.0",
            "_model_name": "ProgressStyleModel",
            "_view_count": null,
            "_view_module": "@jupyter-widgets/base",
            "_view_module_version": "1.2.0",
            "_view_name": "StyleView",
            "bar_color": null,
            "description_width": ""
          }
        },
        "952759f021994738af88aecaaca7929a": {
          "model_module": "@jupyter-widgets/base",
          "model_name": "LayoutModel",
          "model_module_version": "1.2.0",
          "state": {
            "_model_module": "@jupyter-widgets/base",
            "_model_module_version": "1.2.0",
            "_model_name": "LayoutModel",
            "_view_count": null,
            "_view_module": "@jupyter-widgets/base",
            "_view_module_version": "1.2.0",
            "_view_name": "LayoutView",
            "align_content": null,
            "align_items": null,
            "align_self": null,
            "border": null,
            "bottom": null,
            "display": null,
            "flex": null,
            "flex_flow": null,
            "grid_area": null,
            "grid_auto_columns": null,
            "grid_auto_flow": null,
            "grid_auto_rows": null,
            "grid_column": null,
            "grid_gap": null,
            "grid_row": null,
            "grid_template_areas": null,
            "grid_template_columns": null,
            "grid_template_rows": null,
            "height": null,
            "justify_content": null,
            "justify_items": null,
            "left": null,
            "margin": null,
            "max_height": null,
            "max_width": null,
            "min_height": null,
            "min_width": null,
            "object_fit": null,
            "object_position": null,
            "order": null,
            "overflow": null,
            "overflow_x": null,
            "overflow_y": null,
            "padding": null,
            "right": null,
            "top": null,
            "visibility": null,
            "width": null
          }
        },
        "8ddd59b1800d45f282241b65aceb18de": {
          "model_module": "@jupyter-widgets/controls",
          "model_name": "DescriptionStyleModel",
          "model_module_version": "1.5.0",
          "state": {
            "_model_module": "@jupyter-widgets/controls",
            "_model_module_version": "1.5.0",
            "_model_name": "DescriptionStyleModel",
            "_view_count": null,
            "_view_module": "@jupyter-widgets/base",
            "_view_module_version": "1.2.0",
            "_view_name": "StyleView",
            "description_width": ""
          }
        },
        "9fcd468f1337476794add7b8b81a61c0": {
          "model_module": "@jupyter-widgets/controls",
          "model_name": "HBoxModel",
          "model_module_version": "1.5.0",
          "state": {
            "_dom_classes": [],
            "_model_module": "@jupyter-widgets/controls",
            "_model_module_version": "1.5.0",
            "_model_name": "HBoxModel",
            "_view_count": null,
            "_view_module": "@jupyter-widgets/controls",
            "_view_module_version": "1.5.0",
            "_view_name": "HBoxView",
            "box_style": "",
            "children": [
              "IPY_MODEL_d43b511250ce49aa898473a1638bbe25",
              "IPY_MODEL_9c94c56613af4c479fd5965d92ce7076",
              "IPY_MODEL_9d9f5b0ce70e455090a7c48b7c7b4635"
            ],
            "layout": "IPY_MODEL_79b26b2859204d5bb0f791a82970f2e9"
          }
        },
        "d43b511250ce49aa898473a1638bbe25": {
          "model_module": "@jupyter-widgets/controls",
          "model_name": "HTMLModel",
          "model_module_version": "1.5.0",
          "state": {
            "_dom_classes": [],
            "_model_module": "@jupyter-widgets/controls",
            "_model_module_version": "1.5.0",
            "_model_name": "HTMLModel",
            "_view_count": null,
            "_view_module": "@jupyter-widgets/controls",
            "_view_module_version": "1.5.0",
            "_view_name": "HTMLView",
            "description": "",
            "description_tooltip": null,
            "layout": "IPY_MODEL_8d558b22b7af4ee9931f16fc936b8010",
            "placeholder": "​",
            "style": "IPY_MODEL_05d7a153347f494cacdeef2d4130aeda",
            "value": "tokenizer.json: 100%"
          }
        },
        "9c94c56613af4c479fd5965d92ce7076": {
          "model_module": "@jupyter-widgets/controls",
          "model_name": "FloatProgressModel",
          "model_module_version": "1.5.0",
          "state": {
            "_dom_classes": [],
            "_model_module": "@jupyter-widgets/controls",
            "_model_module_version": "1.5.0",
            "_model_name": "FloatProgressModel",
            "_view_count": null,
            "_view_module": "@jupyter-widgets/controls",
            "_view_module_version": "1.5.0",
            "_view_name": "ProgressView",
            "bar_style": "success",
            "description": "",
            "description_tooltip": null,
            "layout": "IPY_MODEL_2ca5beea1a09453c918972bc09d53f08",
            "max": 466247,
            "min": 0,
            "orientation": "horizontal",
            "style": "IPY_MODEL_134a07eb388e46008f06dbf56f3e2789",
            "value": 466247
          }
        },
        "9d9f5b0ce70e455090a7c48b7c7b4635": {
          "model_module": "@jupyter-widgets/controls",
          "model_name": "HTMLModel",
          "model_module_version": "1.5.0",
          "state": {
            "_dom_classes": [],
            "_model_module": "@jupyter-widgets/controls",
            "_model_module_version": "1.5.0",
            "_model_name": "HTMLModel",
            "_view_count": null,
            "_view_module": "@jupyter-widgets/controls",
            "_view_module_version": "1.5.0",
            "_view_name": "HTMLView",
            "description": "",
            "description_tooltip": null,
            "layout": "IPY_MODEL_bcf7224d7a4b4788bb507b67f450b27c",
            "placeholder": "​",
            "style": "IPY_MODEL_704e7e4f023049a5b929db609ce40d19",
            "value": " 466k/466k [00:00&lt;00:00, 3.59MB/s]"
          }
        },
        "79b26b2859204d5bb0f791a82970f2e9": {
          "model_module": "@jupyter-widgets/base",
          "model_name": "LayoutModel",
          "model_module_version": "1.2.0",
          "state": {
            "_model_module": "@jupyter-widgets/base",
            "_model_module_version": "1.2.0",
            "_model_name": "LayoutModel",
            "_view_count": null,
            "_view_module": "@jupyter-widgets/base",
            "_view_module_version": "1.2.0",
            "_view_name": "LayoutView",
            "align_content": null,
            "align_items": null,
            "align_self": null,
            "border": null,
            "bottom": null,
            "display": null,
            "flex": null,
            "flex_flow": null,
            "grid_area": null,
            "grid_auto_columns": null,
            "grid_auto_flow": null,
            "grid_auto_rows": null,
            "grid_column": null,
            "grid_gap": null,
            "grid_row": null,
            "grid_template_areas": null,
            "grid_template_columns": null,
            "grid_template_rows": null,
            "height": null,
            "justify_content": null,
            "justify_items": null,
            "left": null,
            "margin": null,
            "max_height": null,
            "max_width": null,
            "min_height": null,
            "min_width": null,
            "object_fit": null,
            "object_position": null,
            "order": null,
            "overflow": null,
            "overflow_x": null,
            "overflow_y": null,
            "padding": null,
            "right": null,
            "top": null,
            "visibility": null,
            "width": null
          }
        },
        "8d558b22b7af4ee9931f16fc936b8010": {
          "model_module": "@jupyter-widgets/base",
          "model_name": "LayoutModel",
          "model_module_version": "1.2.0",
          "state": {
            "_model_module": "@jupyter-widgets/base",
            "_model_module_version": "1.2.0",
            "_model_name": "LayoutModel",
            "_view_count": null,
            "_view_module": "@jupyter-widgets/base",
            "_view_module_version": "1.2.0",
            "_view_name": "LayoutView",
            "align_content": null,
            "align_items": null,
            "align_self": null,
            "border": null,
            "bottom": null,
            "display": null,
            "flex": null,
            "flex_flow": null,
            "grid_area": null,
            "grid_auto_columns": null,
            "grid_auto_flow": null,
            "grid_auto_rows": null,
            "grid_column": null,
            "grid_gap": null,
            "grid_row": null,
            "grid_template_areas": null,
            "grid_template_columns": null,
            "grid_template_rows": null,
            "height": null,
            "justify_content": null,
            "justify_items": null,
            "left": null,
            "margin": null,
            "max_height": null,
            "max_width": null,
            "min_height": null,
            "min_width": null,
            "object_fit": null,
            "object_position": null,
            "order": null,
            "overflow": null,
            "overflow_x": null,
            "overflow_y": null,
            "padding": null,
            "right": null,
            "top": null,
            "visibility": null,
            "width": null
          }
        },
        "05d7a153347f494cacdeef2d4130aeda": {
          "model_module": "@jupyter-widgets/controls",
          "model_name": "DescriptionStyleModel",
          "model_module_version": "1.5.0",
          "state": {
            "_model_module": "@jupyter-widgets/controls",
            "_model_module_version": "1.5.0",
            "_model_name": "DescriptionStyleModel",
            "_view_count": null,
            "_view_module": "@jupyter-widgets/base",
            "_view_module_version": "1.2.0",
            "_view_name": "StyleView",
            "description_width": ""
          }
        },
        "2ca5beea1a09453c918972bc09d53f08": {
          "model_module": "@jupyter-widgets/base",
          "model_name": "LayoutModel",
          "model_module_version": "1.2.0",
          "state": {
            "_model_module": "@jupyter-widgets/base",
            "_model_module_version": "1.2.0",
            "_model_name": "LayoutModel",
            "_view_count": null,
            "_view_module": "@jupyter-widgets/base",
            "_view_module_version": "1.2.0",
            "_view_name": "LayoutView",
            "align_content": null,
            "align_items": null,
            "align_self": null,
            "border": null,
            "bottom": null,
            "display": null,
            "flex": null,
            "flex_flow": null,
            "grid_area": null,
            "grid_auto_columns": null,
            "grid_auto_flow": null,
            "grid_auto_rows": null,
            "grid_column": null,
            "grid_gap": null,
            "grid_row": null,
            "grid_template_areas": null,
            "grid_template_columns": null,
            "grid_template_rows": null,
            "height": null,
            "justify_content": null,
            "justify_items": null,
            "left": null,
            "margin": null,
            "max_height": null,
            "max_width": null,
            "min_height": null,
            "min_width": null,
            "object_fit": null,
            "object_position": null,
            "order": null,
            "overflow": null,
            "overflow_x": null,
            "overflow_y": null,
            "padding": null,
            "right": null,
            "top": null,
            "visibility": null,
            "width": null
          }
        },
        "134a07eb388e46008f06dbf56f3e2789": {
          "model_module": "@jupyter-widgets/controls",
          "model_name": "ProgressStyleModel",
          "model_module_version": "1.5.0",
          "state": {
            "_model_module": "@jupyter-widgets/controls",
            "_model_module_version": "1.5.0",
            "_model_name": "ProgressStyleModel",
            "_view_count": null,
            "_view_module": "@jupyter-widgets/base",
            "_view_module_version": "1.2.0",
            "_view_name": "StyleView",
            "bar_color": null,
            "description_width": ""
          }
        },
        "bcf7224d7a4b4788bb507b67f450b27c": {
          "model_module": "@jupyter-widgets/base",
          "model_name": "LayoutModel",
          "model_module_version": "1.2.0",
          "state": {
            "_model_module": "@jupyter-widgets/base",
            "_model_module_version": "1.2.0",
            "_model_name": "LayoutModel",
            "_view_count": null,
            "_view_module": "@jupyter-widgets/base",
            "_view_module_version": "1.2.0",
            "_view_name": "LayoutView",
            "align_content": null,
            "align_items": null,
            "align_self": null,
            "border": null,
            "bottom": null,
            "display": null,
            "flex": null,
            "flex_flow": null,
            "grid_area": null,
            "grid_auto_columns": null,
            "grid_auto_flow": null,
            "grid_auto_rows": null,
            "grid_column": null,
            "grid_gap": null,
            "grid_row": null,
            "grid_template_areas": null,
            "grid_template_columns": null,
            "grid_template_rows": null,
            "height": null,
            "justify_content": null,
            "justify_items": null,
            "left": null,
            "margin": null,
            "max_height": null,
            "max_width": null,
            "min_height": null,
            "min_width": null,
            "object_fit": null,
            "object_position": null,
            "order": null,
            "overflow": null,
            "overflow_x": null,
            "overflow_y": null,
            "padding": null,
            "right": null,
            "top": null,
            "visibility": null,
            "width": null
          }
        },
        "704e7e4f023049a5b929db609ce40d19": {
          "model_module": "@jupyter-widgets/controls",
          "model_name": "DescriptionStyleModel",
          "model_module_version": "1.5.0",
          "state": {
            "_model_module": "@jupyter-widgets/controls",
            "_model_module_version": "1.5.0",
            "_model_name": "DescriptionStyleModel",
            "_view_count": null,
            "_view_module": "@jupyter-widgets/base",
            "_view_module_version": "1.2.0",
            "_view_name": "StyleView",
            "description_width": ""
          }
        },
        "14961d8f98b442d5970a53f586c3d6f0": {
          "model_module": "@jupyter-widgets/controls",
          "model_name": "HBoxModel",
          "model_module_version": "1.5.0",
          "state": {
            "_dom_classes": [],
            "_model_module": "@jupyter-widgets/controls",
            "_model_module_version": "1.5.0",
            "_model_name": "HBoxModel",
            "_view_count": null,
            "_view_module": "@jupyter-widgets/controls",
            "_view_module_version": "1.5.0",
            "_view_name": "HBoxView",
            "box_style": "",
            "children": [
              "IPY_MODEL_d4ce0c4433ea463eaf39c73072a0332a",
              "IPY_MODEL_2a559481a21746749f672f3b22a7b53a",
              "IPY_MODEL_80c8550b799347b0b756d195b3a30eda"
            ],
            "layout": "IPY_MODEL_d286b5a6ee7c4d4199a850605a159bee"
          }
        },
        "d4ce0c4433ea463eaf39c73072a0332a": {
          "model_module": "@jupyter-widgets/controls",
          "model_name": "HTMLModel",
          "model_module_version": "1.5.0",
          "state": {
            "_dom_classes": [],
            "_model_module": "@jupyter-widgets/controls",
            "_model_module_version": "1.5.0",
            "_model_name": "HTMLModel",
            "_view_count": null,
            "_view_module": "@jupyter-widgets/controls",
            "_view_module_version": "1.5.0",
            "_view_name": "HTMLView",
            "description": "",
            "description_tooltip": null,
            "layout": "IPY_MODEL_ddd93deb357b44d8bdca81b3be2a3d6c",
            "placeholder": "​",
            "style": "IPY_MODEL_c96a71fe4c064c199e157e3f0730637b",
            "value": "special_tokens_map.json: 100%"
          }
        },
        "2a559481a21746749f672f3b22a7b53a": {
          "model_module": "@jupyter-widgets/controls",
          "model_name": "FloatProgressModel",
          "model_module_version": "1.5.0",
          "state": {
            "_dom_classes": [],
            "_model_module": "@jupyter-widgets/controls",
            "_model_module_version": "1.5.0",
            "_model_name": "FloatProgressModel",
            "_view_count": null,
            "_view_module": "@jupyter-widgets/controls",
            "_view_module_version": "1.5.0",
            "_view_name": "ProgressView",
            "bar_style": "success",
            "description": "",
            "description_tooltip": null,
            "layout": "IPY_MODEL_757050a1b54c4ae4bc3f38bc6abce551",
            "max": 112,
            "min": 0,
            "orientation": "horizontal",
            "style": "IPY_MODEL_d7d1ce21e51e414e88bbe8bc52f37578",
            "value": 112
          }
        },
        "80c8550b799347b0b756d195b3a30eda": {
          "model_module": "@jupyter-widgets/controls",
          "model_name": "HTMLModel",
          "model_module_version": "1.5.0",
          "state": {
            "_dom_classes": [],
            "_model_module": "@jupyter-widgets/controls",
            "_model_module_version": "1.5.0",
            "_model_name": "HTMLModel",
            "_view_count": null,
            "_view_module": "@jupyter-widgets/controls",
            "_view_module_version": "1.5.0",
            "_view_name": "HTMLView",
            "description": "",
            "description_tooltip": null,
            "layout": "IPY_MODEL_12220eea483e43d2b931f08b33ac8c06",
            "placeholder": "​",
            "style": "IPY_MODEL_e55325ffd3934e73b6fbb2ba3b0a9e18",
            "value": " 112/112 [00:00&lt;00:00, 5.23kB/s]"
          }
        },
        "d286b5a6ee7c4d4199a850605a159bee": {
          "model_module": "@jupyter-widgets/base",
          "model_name": "LayoutModel",
          "model_module_version": "1.2.0",
          "state": {
            "_model_module": "@jupyter-widgets/base",
            "_model_module_version": "1.2.0",
            "_model_name": "LayoutModel",
            "_view_count": null,
            "_view_module": "@jupyter-widgets/base",
            "_view_module_version": "1.2.0",
            "_view_name": "LayoutView",
            "align_content": null,
            "align_items": null,
            "align_self": null,
            "border": null,
            "bottom": null,
            "display": null,
            "flex": null,
            "flex_flow": null,
            "grid_area": null,
            "grid_auto_columns": null,
            "grid_auto_flow": null,
            "grid_auto_rows": null,
            "grid_column": null,
            "grid_gap": null,
            "grid_row": null,
            "grid_template_areas": null,
            "grid_template_columns": null,
            "grid_template_rows": null,
            "height": null,
            "justify_content": null,
            "justify_items": null,
            "left": null,
            "margin": null,
            "max_height": null,
            "max_width": null,
            "min_height": null,
            "min_width": null,
            "object_fit": null,
            "object_position": null,
            "order": null,
            "overflow": null,
            "overflow_x": null,
            "overflow_y": null,
            "padding": null,
            "right": null,
            "top": null,
            "visibility": null,
            "width": null
          }
        },
        "ddd93deb357b44d8bdca81b3be2a3d6c": {
          "model_module": "@jupyter-widgets/base",
          "model_name": "LayoutModel",
          "model_module_version": "1.2.0",
          "state": {
            "_model_module": "@jupyter-widgets/base",
            "_model_module_version": "1.2.0",
            "_model_name": "LayoutModel",
            "_view_count": null,
            "_view_module": "@jupyter-widgets/base",
            "_view_module_version": "1.2.0",
            "_view_name": "LayoutView",
            "align_content": null,
            "align_items": null,
            "align_self": null,
            "border": null,
            "bottom": null,
            "display": null,
            "flex": null,
            "flex_flow": null,
            "grid_area": null,
            "grid_auto_columns": null,
            "grid_auto_flow": null,
            "grid_auto_rows": null,
            "grid_column": null,
            "grid_gap": null,
            "grid_row": null,
            "grid_template_areas": null,
            "grid_template_columns": null,
            "grid_template_rows": null,
            "height": null,
            "justify_content": null,
            "justify_items": null,
            "left": null,
            "margin": null,
            "max_height": null,
            "max_width": null,
            "min_height": null,
            "min_width": null,
            "object_fit": null,
            "object_position": null,
            "order": null,
            "overflow": null,
            "overflow_x": null,
            "overflow_y": null,
            "padding": null,
            "right": null,
            "top": null,
            "visibility": null,
            "width": null
          }
        },
        "c96a71fe4c064c199e157e3f0730637b": {
          "model_module": "@jupyter-widgets/controls",
          "model_name": "DescriptionStyleModel",
          "model_module_version": "1.5.0",
          "state": {
            "_model_module": "@jupyter-widgets/controls",
            "_model_module_version": "1.5.0",
            "_model_name": "DescriptionStyleModel",
            "_view_count": null,
            "_view_module": "@jupyter-widgets/base",
            "_view_module_version": "1.2.0",
            "_view_name": "StyleView",
            "description_width": ""
          }
        },
        "757050a1b54c4ae4bc3f38bc6abce551": {
          "model_module": "@jupyter-widgets/base",
          "model_name": "LayoutModel",
          "model_module_version": "1.2.0",
          "state": {
            "_model_module": "@jupyter-widgets/base",
            "_model_module_version": "1.2.0",
            "_model_name": "LayoutModel",
            "_view_count": null,
            "_view_module": "@jupyter-widgets/base",
            "_view_module_version": "1.2.0",
            "_view_name": "LayoutView",
            "align_content": null,
            "align_items": null,
            "align_self": null,
            "border": null,
            "bottom": null,
            "display": null,
            "flex": null,
            "flex_flow": null,
            "grid_area": null,
            "grid_auto_columns": null,
            "grid_auto_flow": null,
            "grid_auto_rows": null,
            "grid_column": null,
            "grid_gap": null,
            "grid_row": null,
            "grid_template_areas": null,
            "grid_template_columns": null,
            "grid_template_rows": null,
            "height": null,
            "justify_content": null,
            "justify_items": null,
            "left": null,
            "margin": null,
            "max_height": null,
            "max_width": null,
            "min_height": null,
            "min_width": null,
            "object_fit": null,
            "object_position": null,
            "order": null,
            "overflow": null,
            "overflow_x": null,
            "overflow_y": null,
            "padding": null,
            "right": null,
            "top": null,
            "visibility": null,
            "width": null
          }
        },
        "d7d1ce21e51e414e88bbe8bc52f37578": {
          "model_module": "@jupyter-widgets/controls",
          "model_name": "ProgressStyleModel",
          "model_module_version": "1.5.0",
          "state": {
            "_model_module": "@jupyter-widgets/controls",
            "_model_module_version": "1.5.0",
            "_model_name": "ProgressStyleModel",
            "_view_count": null,
            "_view_module": "@jupyter-widgets/base",
            "_view_module_version": "1.2.0",
            "_view_name": "StyleView",
            "bar_color": null,
            "description_width": ""
          }
        },
        "12220eea483e43d2b931f08b33ac8c06": {
          "model_module": "@jupyter-widgets/base",
          "model_name": "LayoutModel",
          "model_module_version": "1.2.0",
          "state": {
            "_model_module": "@jupyter-widgets/base",
            "_model_module_version": "1.2.0",
            "_model_name": "LayoutModel",
            "_view_count": null,
            "_view_module": "@jupyter-widgets/base",
            "_view_module_version": "1.2.0",
            "_view_name": "LayoutView",
            "align_content": null,
            "align_items": null,
            "align_self": null,
            "border": null,
            "bottom": null,
            "display": null,
            "flex": null,
            "flex_flow": null,
            "grid_area": null,
            "grid_auto_columns": null,
            "grid_auto_flow": null,
            "grid_auto_rows": null,
            "grid_column": null,
            "grid_gap": null,
            "grid_row": null,
            "grid_template_areas": null,
            "grid_template_columns": null,
            "grid_template_rows": null,
            "height": null,
            "justify_content": null,
            "justify_items": null,
            "left": null,
            "margin": null,
            "max_height": null,
            "max_width": null,
            "min_height": null,
            "min_width": null,
            "object_fit": null,
            "object_position": null,
            "order": null,
            "overflow": null,
            "overflow_x": null,
            "overflow_y": null,
            "padding": null,
            "right": null,
            "top": null,
            "visibility": null,
            "width": null
          }
        },
        "e55325ffd3934e73b6fbb2ba3b0a9e18": {
          "model_module": "@jupyter-widgets/controls",
          "model_name": "DescriptionStyleModel",
          "model_module_version": "1.5.0",
          "state": {
            "_model_module": "@jupyter-widgets/controls",
            "_model_module_version": "1.5.0",
            "_model_name": "DescriptionStyleModel",
            "_view_count": null,
            "_view_module": "@jupyter-widgets/base",
            "_view_module_version": "1.2.0",
            "_view_name": "StyleView",
            "description_width": ""
          }
        },
        "56f0b5dd73624ab4a91e8c585a4d1beb": {
          "model_module": "@jupyter-widgets/controls",
          "model_name": "HBoxModel",
          "model_module_version": "1.5.0",
          "state": {
            "_dom_classes": [],
            "_model_module": "@jupyter-widgets/controls",
            "_model_module_version": "1.5.0",
            "_model_name": "HBoxModel",
            "_view_count": null,
            "_view_module": "@jupyter-widgets/controls",
            "_view_module_version": "1.5.0",
            "_view_name": "HBoxView",
            "box_style": "",
            "children": [
              "IPY_MODEL_4ae96c4803324c1785bfe78d9dce2b53",
              "IPY_MODEL_a403aceda8e84e649f689d8a4b63de5a",
              "IPY_MODEL_2c7e5270e2424468814a81be29199080"
            ],
            "layout": "IPY_MODEL_30e3352fc01c456b847b35773d9e6eb3"
          }
        },
        "4ae96c4803324c1785bfe78d9dce2b53": {
          "model_module": "@jupyter-widgets/controls",
          "model_name": "HTMLModel",
          "model_module_version": "1.5.0",
          "state": {
            "_dom_classes": [],
            "_model_module": "@jupyter-widgets/controls",
            "_model_module_version": "1.5.0",
            "_model_name": "HTMLModel",
            "_view_count": null,
            "_view_module": "@jupyter-widgets/controls",
            "_view_module_version": "1.5.0",
            "_view_name": "HTMLView",
            "description": "",
            "description_tooltip": null,
            "layout": "IPY_MODEL_1c360956014441b0b4e470dcaaca784d",
            "placeholder": "​",
            "style": "IPY_MODEL_6f2fe47129924b21930973fb87d182b1",
            "value": "1_Pooling/config.json: 100%"
          }
        },
        "a403aceda8e84e649f689d8a4b63de5a": {
          "model_module": "@jupyter-widgets/controls",
          "model_name": "FloatProgressModel",
          "model_module_version": "1.5.0",
          "state": {
            "_dom_classes": [],
            "_model_module": "@jupyter-widgets/controls",
            "_model_module_version": "1.5.0",
            "_model_name": "FloatProgressModel",
            "_view_count": null,
            "_view_module": "@jupyter-widgets/controls",
            "_view_module_version": "1.5.0",
            "_view_name": "ProgressView",
            "bar_style": "success",
            "description": "",
            "description_tooltip": null,
            "layout": "IPY_MODEL_76fd68acdde04f34ba6f4a8d2444d025",
            "max": 190,
            "min": 0,
            "orientation": "horizontal",
            "style": "IPY_MODEL_7a26e80ac9f847669abd7bb99055d6cc",
            "value": 190
          }
        },
        "2c7e5270e2424468814a81be29199080": {
          "model_module": "@jupyter-widgets/controls",
          "model_name": "HTMLModel",
          "model_module_version": "1.5.0",
          "state": {
            "_dom_classes": [],
            "_model_module": "@jupyter-widgets/controls",
            "_model_module_version": "1.5.0",
            "_model_name": "HTMLModel",
            "_view_count": null,
            "_view_module": "@jupyter-widgets/controls",
            "_view_module_version": "1.5.0",
            "_view_name": "HTMLView",
            "description": "",
            "description_tooltip": null,
            "layout": "IPY_MODEL_1a3320ccf49e4f55b260702c30523f3f",
            "placeholder": "​",
            "style": "IPY_MODEL_80ef7a8845034221b0fe7e29904396bc",
            "value": " 190/190 [00:00&lt;00:00, 5.74kB/s]"
          }
        },
        "30e3352fc01c456b847b35773d9e6eb3": {
          "model_module": "@jupyter-widgets/base",
          "model_name": "LayoutModel",
          "model_module_version": "1.2.0",
          "state": {
            "_model_module": "@jupyter-widgets/base",
            "_model_module_version": "1.2.0",
            "_model_name": "LayoutModel",
            "_view_count": null,
            "_view_module": "@jupyter-widgets/base",
            "_view_module_version": "1.2.0",
            "_view_name": "LayoutView",
            "align_content": null,
            "align_items": null,
            "align_self": null,
            "border": null,
            "bottom": null,
            "display": null,
            "flex": null,
            "flex_flow": null,
            "grid_area": null,
            "grid_auto_columns": null,
            "grid_auto_flow": null,
            "grid_auto_rows": null,
            "grid_column": null,
            "grid_gap": null,
            "grid_row": null,
            "grid_template_areas": null,
            "grid_template_columns": null,
            "grid_template_rows": null,
            "height": null,
            "justify_content": null,
            "justify_items": null,
            "left": null,
            "margin": null,
            "max_height": null,
            "max_width": null,
            "min_height": null,
            "min_width": null,
            "object_fit": null,
            "object_position": null,
            "order": null,
            "overflow": null,
            "overflow_x": null,
            "overflow_y": null,
            "padding": null,
            "right": null,
            "top": null,
            "visibility": null,
            "width": null
          }
        },
        "1c360956014441b0b4e470dcaaca784d": {
          "model_module": "@jupyter-widgets/base",
          "model_name": "LayoutModel",
          "model_module_version": "1.2.0",
          "state": {
            "_model_module": "@jupyter-widgets/base",
            "_model_module_version": "1.2.0",
            "_model_name": "LayoutModel",
            "_view_count": null,
            "_view_module": "@jupyter-widgets/base",
            "_view_module_version": "1.2.0",
            "_view_name": "LayoutView",
            "align_content": null,
            "align_items": null,
            "align_self": null,
            "border": null,
            "bottom": null,
            "display": null,
            "flex": null,
            "flex_flow": null,
            "grid_area": null,
            "grid_auto_columns": null,
            "grid_auto_flow": null,
            "grid_auto_rows": null,
            "grid_column": null,
            "grid_gap": null,
            "grid_row": null,
            "grid_template_areas": null,
            "grid_template_columns": null,
            "grid_template_rows": null,
            "height": null,
            "justify_content": null,
            "justify_items": null,
            "left": null,
            "margin": null,
            "max_height": null,
            "max_width": null,
            "min_height": null,
            "min_width": null,
            "object_fit": null,
            "object_position": null,
            "order": null,
            "overflow": null,
            "overflow_x": null,
            "overflow_y": null,
            "padding": null,
            "right": null,
            "top": null,
            "visibility": null,
            "width": null
          }
        },
        "6f2fe47129924b21930973fb87d182b1": {
          "model_module": "@jupyter-widgets/controls",
          "model_name": "DescriptionStyleModel",
          "model_module_version": "1.5.0",
          "state": {
            "_model_module": "@jupyter-widgets/controls",
            "_model_module_version": "1.5.0",
            "_model_name": "DescriptionStyleModel",
            "_view_count": null,
            "_view_module": "@jupyter-widgets/base",
            "_view_module_version": "1.2.0",
            "_view_name": "StyleView",
            "description_width": ""
          }
        },
        "76fd68acdde04f34ba6f4a8d2444d025": {
          "model_module": "@jupyter-widgets/base",
          "model_name": "LayoutModel",
          "model_module_version": "1.2.0",
          "state": {
            "_model_module": "@jupyter-widgets/base",
            "_model_module_version": "1.2.0",
            "_model_name": "LayoutModel",
            "_view_count": null,
            "_view_module": "@jupyter-widgets/base",
            "_view_module_version": "1.2.0",
            "_view_name": "LayoutView",
            "align_content": null,
            "align_items": null,
            "align_self": null,
            "border": null,
            "bottom": null,
            "display": null,
            "flex": null,
            "flex_flow": null,
            "grid_area": null,
            "grid_auto_columns": null,
            "grid_auto_flow": null,
            "grid_auto_rows": null,
            "grid_column": null,
            "grid_gap": null,
            "grid_row": null,
            "grid_template_areas": null,
            "grid_template_columns": null,
            "grid_template_rows": null,
            "height": null,
            "justify_content": null,
            "justify_items": null,
            "left": null,
            "margin": null,
            "max_height": null,
            "max_width": null,
            "min_height": null,
            "min_width": null,
            "object_fit": null,
            "object_position": null,
            "order": null,
            "overflow": null,
            "overflow_x": null,
            "overflow_y": null,
            "padding": null,
            "right": null,
            "top": null,
            "visibility": null,
            "width": null
          }
        },
        "7a26e80ac9f847669abd7bb99055d6cc": {
          "model_module": "@jupyter-widgets/controls",
          "model_name": "ProgressStyleModel",
          "model_module_version": "1.5.0",
          "state": {
            "_model_module": "@jupyter-widgets/controls",
            "_model_module_version": "1.5.0",
            "_model_name": "ProgressStyleModel",
            "_view_count": null,
            "_view_module": "@jupyter-widgets/base",
            "_view_module_version": "1.2.0",
            "_view_name": "StyleView",
            "bar_color": null,
            "description_width": ""
          }
        },
        "1a3320ccf49e4f55b260702c30523f3f": {
          "model_module": "@jupyter-widgets/base",
          "model_name": "LayoutModel",
          "model_module_version": "1.2.0",
          "state": {
            "_model_module": "@jupyter-widgets/base",
            "_model_module_version": "1.2.0",
            "_model_name": "LayoutModel",
            "_view_count": null,
            "_view_module": "@jupyter-widgets/base",
            "_view_module_version": "1.2.0",
            "_view_name": "LayoutView",
            "align_content": null,
            "align_items": null,
            "align_self": null,
            "border": null,
            "bottom": null,
            "display": null,
            "flex": null,
            "flex_flow": null,
            "grid_area": null,
            "grid_auto_columns": null,
            "grid_auto_flow": null,
            "grid_auto_rows": null,
            "grid_column": null,
            "grid_gap": null,
            "grid_row": null,
            "grid_template_areas": null,
            "grid_template_columns": null,
            "grid_template_rows": null,
            "height": null,
            "justify_content": null,
            "justify_items": null,
            "left": null,
            "margin": null,
            "max_height": null,
            "max_width": null,
            "min_height": null,
            "min_width": null,
            "object_fit": null,
            "object_position": null,
            "order": null,
            "overflow": null,
            "overflow_x": null,
            "overflow_y": null,
            "padding": null,
            "right": null,
            "top": null,
            "visibility": null,
            "width": null
          }
        },
        "80ef7a8845034221b0fe7e29904396bc": {
          "model_module": "@jupyter-widgets/controls",
          "model_name": "DescriptionStyleModel",
          "model_module_version": "1.5.0",
          "state": {
            "_model_module": "@jupyter-widgets/controls",
            "_model_module_version": "1.5.0",
            "_model_name": "DescriptionStyleModel",
            "_view_count": null,
            "_view_module": "@jupyter-widgets/base",
            "_view_module_version": "1.2.0",
            "_view_name": "StyleView",
            "description_width": ""
          }
        }
      }
    }
  },
  "cells": [
    {
      "cell_type": "markdown",
      "metadata": {
        "id": "view-in-github"
      },
      "source": [
        "<a href=\"https://colab.research.google.com/github/pgurazada/understanding-embeddings/blob/main/understanding_embeddings.ipynb\" target=\"_parent\"><img src=\"https://colab.research.google.com/assets/colab-badge.svg\" alt=\"Open In Colab\"/></a>"
      ]
    },
    {
      "cell_type": "markdown",
      "source": [
        "# Learning Objectives\n",
        "\n",
        "- Introduce the role of embeddings in LLM applications\n",
        "- Understand Byte-Pair Encoding (BPE) tokenization used by LLMs\n",
        "- Understand the computation of Sentence Embeddings using encoder-only models\n",
        "- Explore the application of embeddings in legal contexts, specifically:\n",
        "  - Finding Similar Legal Cases: Learn how to leverage embeddings for identifying relevant legal precedents based on case summaries, enhancing research efficiency and case preparation.\n",
        "  - Document Similarity and Clustering: Understand how to organize and manage large volumes of legal documents through clustering techniques, improving document retrieval and knowledge management in legal practice.\n",
        "- Gain practical experience in implementing embedding techniques using popular libraries such as Sentence Transformers and visualizing results using tools like t-SNE and K-Means clustering."
      ],
      "metadata": {
        "id": "alqOjL4CgkCF"
      }
    },
    {
      "cell_type": "markdown",
      "source": [
        "# Setup"
      ],
      "metadata": {
        "id": "viwSiFEHgxh1"
      }
    },
    {
      "cell_type": "code",
      "source": [
        "!pip install -q tiktoken==0.5.2 \\\n",
        "                sentence-transformers==2.3.1 2>/dev/null"
      ],
      "metadata": {
        "colab": {
          "base_uri": "https://localhost:8080/"
        },
        "id": "6JnqfUY6KiGS",
        "outputId": "c748b35d-4a57-4fc3-bd74-22d6fa539241"
      },
      "execution_count": null,
      "outputs": [
        {
          "output_type": "stream",
          "name": "stdout",
          "text": [
            "\u001b[2K   \u001b[90m━━━━━━━━━━━━━━━━━━━━━━━━━━━━━━━━━━━━━━━━\u001b[0m \u001b[32m2.0/2.0 MB\u001b[0m \u001b[31m26.6 MB/s\u001b[0m eta \u001b[36m0:00:00\u001b[0m\n",
            "\u001b[2K   \u001b[90m━━━━━━━━━━━━━━━━━━━━━━━━━━━━━━━━━━━━━━━━\u001b[0m \u001b[32m132.8/132.8 kB\u001b[0m \u001b[31m9.5 MB/s\u001b[0m eta \u001b[36m0:00:00\u001b[0m\n",
            "\u001b[?25h"
          ]
        }
      ]
    },
    {
      "cell_type": "code",
      "source": [
        "import tiktoken\n",
        "from sentence_transformers import SentenceTransformer, util"
      ],
      "metadata": {
        "id": "JU5gJEqjdxVc"
      },
      "execution_count": null,
      "outputs": []
    },
    {
      "cell_type": "markdown",
      "source": [
        "# Introduction"
      ],
      "metadata": {
        "id": "q-yP6UQlB8-Y"
      }
    },
    {
      "cell_type": "markdown",
      "source": [
        "Before text is passed on to an LLM for a prediction, two crucial steps are involved:\n",
        "- Tokenization, that is splitting of input text into constituent tokens\n",
        "- Embedding, that is mapping each token to a $n-$dimensional vector\n"
      ],
      "metadata": {
        "id": "xCJioXeSaFjW"
      }
    },
    {
      "cell_type": "markdown",
      "source": [
        "In the realm of Large Language Models (LLMs), a *token* refers to a unit of text representing a word, phrase, or any other textual element. Tokens can range from complete words to partial symbols (for e.g., :), ', ., !), serving as fundamental components for LLMs to grasp text semantics. This notebook delves into Byte-Pair Encoding, a widely-used technique for tokenizing input text.\n",
        "\n",
        "When crafting an *embedding* for a token, our aim is to generate a numerical representation linked to the token that encapsulates its meaning and context. Typically, these representations manifest as high-dimensional vectors (for e.g., 1024, 768), with each feature encoding a learned language attribute.\n",
        "\n",
        "Beyond serving as the foundational layer of LLMs, embeddings serve as essential elements for executing various natural language tasks, such as summarization, translation, and classification. They play a pivotal role in Retrieval-Augmented Generation (RAG), where an input query retrieves relevant documents from a vector database, and the query is addressed using these documents as context."
      ],
      "metadata": {
        "id": "4DLrAfYvacdH"
      }
    },
    {
      "cell_type": "markdown",
      "source": [
        "# Byte-Pair Encoding for Tokenization"
      ],
      "metadata": {
        "id": "nYcTEDqLaeT4"
      }
    },
    {
      "cell_type": "markdown",
      "source": [
        "## Exploring LLM tokens"
      ],
      "metadata": {
        "id": "E1cOJkM0S7qI"
      }
    },
    {
      "cell_type": "markdown",
      "source": [
        "Let us begin with a closer look at tokenization, that is, splitting input text into constituent tokens. Before we get to the actual algorithm that executes tokenization for modern LLMs, let us see this tokenizer in action.\n",
        "\n",
        "Open AI has packaged its tokenizers into the open source package `tiktoken` that we will use to explore the tokenizer for GPT4."
      ],
      "metadata": {
        "id": "5x-78fBzQgwr"
      }
    },
    {
      "cell_type": "code",
      "source": [
        "tokenizer_gpt4 = tiktoken.encoding_for_model(\"gpt-4\")"
      ],
      "metadata": {
        "id": "XTo9mKZMU4EW"
      },
      "execution_count": null,
      "outputs": []
    },
    {
      "cell_type": "code",
      "source": [
        "tokenizer_gpt4.n_vocab"
      ],
      "metadata": {
        "colab": {
          "base_uri": "https://localhost:8080/"
        },
        "id": "_pzwyaduU6ds",
        "outputId": "15f0ab02-e46c-4dbf-85b6-70ab65850a7d"
      },
      "execution_count": null,
      "outputs": [
        {
          "output_type": "execute_result",
          "data": {
            "text/plain": [
              "100277"
            ]
          },
          "metadata": {},
          "execution_count": 4
        }
      ]
    },
    {
      "cell_type": "markdown",
      "source": [
        "Notice how the vocabulary of GPT 4 is 100,277. This means that individual words in the input text are mapped to one of these 100,277 token ids. Let us see this in action."
      ],
      "metadata": {
        "id": "vqvv5MW1Q1jk"
      }
    },
    {
      "cell_type": "markdown",
      "source": [
        "![image.png](data:image/png;base64,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)"
      ],
      "metadata": {
        "id": "aXXE84DjSCrg"
      }
    },
    {
      "cell_type": "code",
      "source": [
        "tokenizer_gpt4.encode(\"formal algorithms for transformers\")"
      ],
      "metadata": {
        "colab": {
          "base_uri": "https://localhost:8080/"
        },
        "id": "ZeuIe0VdU8t-",
        "outputId": "cd2a5b3a-0215-4306-a200-9d3deb7e69cb"
      },
      "execution_count": null,
      "outputs": [
        {
          "output_type": "execute_result",
          "data": {
            "text/plain": [
              "[630, 278, 26249, 369, 87970]"
            ]
          },
          "metadata": {},
          "execution_count": 5
        }
      ]
    },
    {
      "cell_type": "markdown",
      "source": [
        "The above output indicates that the 4 words in the input text are mapped to 5 tokens with each token identified by a unique id. How did 4 words translate to 5 tokens?"
      ],
      "metadata": {
        "id": "CcGyqW4gSGKL"
      }
    },
    {
      "cell_type": "markdown",
      "source": [
        "To observe how sentences are mapped to tokens, let us look at how the above reference sentence is split using a function defined below."
      ],
      "metadata": {
        "id": "c3nVHVbLSSWe"
      }
    },
    {
      "cell_type": "code",
      "source": [
        "def print_tokens_from_input(sentence: str, tokenizer):\n",
        "    \"\"\"\n",
        "    Loop over each token of an encoded sentence.\n",
        "    Use the .decode method of the tokenizer to print\n",
        "    the token that is encoded in the first step.\n",
        "    \"\"\"\n",
        "    for token_id in tokenizer.encode(sentence):\n",
        "        print(tokenizer.decode([token_id]))"
      ],
      "metadata": {
        "id": "vxTCizI9cD5j"
      },
      "execution_count": null,
      "outputs": []
    },
    {
      "cell_type": "code",
      "source": [
        "text = \"formal algorithms for transformers\"\n",
        "print_tokens_from_input(text, tokenizer_gpt4)"
      ],
      "metadata": {
        "colab": {
          "base_uri": "https://localhost:8080/"
        },
        "id": "rTb8jL8nb_I4",
        "outputId": "961ffbdb-6724-4b34-f176-8033e349b152"
      },
      "execution_count": null,
      "outputs": [
        {
          "output_type": "stream",
          "name": "stdout",
          "text": [
            "form\n",
            "al\n",
            " algorithms\n",
            " for\n",
            " transformers\n"
          ]
        }
      ]
    },
    {
      "cell_type": "markdown",
      "source": [
        "Notice from the output how the word - `formal` - is split into `form` and `al`. This is how the 4 words get mapped into 5 tokens. Let us look at a longer sentence."
      ],
      "metadata": {
        "id": "ijLSesfjSehM"
      }
    },
    {
      "cell_type": "code",
      "source": [
        "text = \"Tokenizers map individual tokens to a vocabulary using a set of rules specified by byte-pair encoding\"\n",
        "print_tokens_from_input(text, tokenizer_gpt4)"
      ],
      "metadata": {
        "colab": {
          "base_uri": "https://localhost:8080/"
        },
        "id": "qECXEAyXbojJ",
        "outputId": "1576deb7-d32b-4f15-89da-03b9d930847e"
      },
      "execution_count": null,
      "outputs": [
        {
          "output_type": "stream",
          "name": "stdout",
          "text": [
            "Token\n",
            "izers\n",
            " map\n",
            " individual\n",
            " tokens\n",
            " to\n",
            " a\n",
            " vocabulary\n",
            " using\n",
            " a\n",
            " set\n",
            " of\n",
            " rules\n",
            " specified\n",
            " by\n",
            " byte\n",
            "-p\n",
            "air\n",
            " encoding\n"
          ]
        }
      ]
    },
    {
      "cell_type": "markdown",
      "source": [
        "As the above output indicates, sub-words are often used to form tokens. Under the hood, modern LLMs use an algorithm called Byte-Pair Encoding to create these tokens and optimize the vocabulary of LLMs. Let's dive into this algorithm."
      ],
      "metadata": {
        "id": "w5b54wQLSvMu"
      }
    },
    {
      "cell_type": "markdown",
      "source": [
        "## Byte-Pair Encoding"
      ],
      "metadata": {
        "id": "DmXI6dolTUQc"
      }
    },
    {
      "cell_type": "markdown",
      "source": [
        "Consider the sentence - `formal algorithms for transformers`. As a part of tokenization, we want to split this sentence into its constituent meaningful units of information.\n",
        "\n",
        "As an algorithm to do so, if we consider 26 alphabets as the atomic units of our vocabulary, we can represent any sentence using this vocabulary. For example, we can represent this sentence as a list of ids corresponding to the alphabets used in the sentence using the following process:"
      ],
      "metadata": {
        "id": "jRAPYATaTVsb"
      }
    },
    {
      "cell_type": "code",
      "source": [
        "sentence = 'formal algorithms for transformers'"
      ],
      "metadata": {
        "id": "xaRWKJqeTx_R"
      },
      "execution_count": null,
      "outputs": []
    },
    {
      "cell_type": "markdown",
      "source": [
        "To create tokens for this sentence, we can create a lookup index for the individual alphabets as a dictionary."
      ],
      "metadata": {
        "id": "T5y5QIVSVjcA"
      }
    },
    {
      "cell_type": "code",
      "source": [
        "alphabets = 'abcdefghijklmnopqrstuvwxyz'\n",
        "alphabet_ids = {alphabet: index for index, alphabet in enumerate(alphabets)}"
      ],
      "metadata": {
        "id": "WwP0uazdT1Su"
      },
      "execution_count": null,
      "outputs": []
    },
    {
      "cell_type": "code",
      "source": [
        "alphabet_ids"
      ],
      "metadata": {
        "colab": {
          "base_uri": "https://localhost:8080/"
        },
        "id": "YXqFMLaGUtBt",
        "outputId": "165685a6-35e3-4b9c-feb2-e97d1cc45807"
      },
      "execution_count": null,
      "outputs": [
        {
          "output_type": "execute_result",
          "data": {
            "text/plain": [
              "{'a': 0,\n",
              " 'b': 1,\n",
              " 'c': 2,\n",
              " 'd': 3,\n",
              " 'e': 4,\n",
              " 'f': 5,\n",
              " 'g': 6,\n",
              " 'h': 7,\n",
              " 'i': 8,\n",
              " 'j': 9,\n",
              " 'k': 10,\n",
              " 'l': 11,\n",
              " 'm': 12,\n",
              " 'n': 13,\n",
              " 'o': 14,\n",
              " 'p': 15,\n",
              " 'q': 16,\n",
              " 'r': 17,\n",
              " 's': 18,\n",
              " 't': 19,\n",
              " 'u': 20,\n",
              " 'v': 21,\n",
              " 'w': 22,\n",
              " 'x': 23,\n",
              " 'y': 24,\n",
              " 'z': 25}"
            ]
          },
          "metadata": {},
          "execution_count": 11
        }
      ]
    },
    {
      "cell_type": "markdown",
      "source": [
        "We add an extra character for a white space."
      ],
      "metadata": {
        "id": "FRMzPLYvVqsY"
      }
    },
    {
      "cell_type": "code",
      "source": [
        "alphabet_ids[' '] = 26"
      ],
      "metadata": {
        "id": "8vb4ltK8VaZ2"
      },
      "execution_count": null,
      "outputs": []
    },
    {
      "cell_type": "markdown",
      "source": [
        "We can now loop through each character in the sentence and look up its index from the dictionary created above like so:"
      ],
      "metadata": {
        "id": "9VpO1gcQVtyy"
      }
    },
    {
      "cell_type": "code",
      "source": [
        "[alphabet_ids[char] for char in list(sentence)]"
      ],
      "metadata": {
        "colab": {
          "base_uri": "https://localhost:8080/"
        },
        "id": "auE9UHmIVB97",
        "outputId": "fca26e4a-f650-4828-b658-6305fcab7139"
      },
      "execution_count": null,
      "outputs": [
        {
          "output_type": "execute_result",
          "data": {
            "text/plain": [
              "[5,\n",
              " 14,\n",
              " 17,\n",
              " 12,\n",
              " 0,\n",
              " 11,\n",
              " 26,\n",
              " 0,\n",
              " 11,\n",
              " 6,\n",
              " 14,\n",
              " 17,\n",
              " 8,\n",
              " 19,\n",
              " 7,\n",
              " 12,\n",
              " 18,\n",
              " 26,\n",
              " 5,\n",
              " 14,\n",
              " 17,\n",
              " 26,\n",
              " 19,\n",
              " 17,\n",
              " 0,\n",
              " 13,\n",
              " 18,\n",
              " 5,\n",
              " 14,\n",
              " 17,\n",
              " 12,\n",
              " 4,\n",
              " 17,\n",
              " 18]"
            ]
          },
          "metadata": {},
          "execution_count": 13
        }
      ]
    },
    {
      "cell_type": "markdown",
      "source": [
        "While this character-level encoding achieves the purpose of translating a sentence of input text to a list of unique ids, it uses up a lot of indices (i.e., we create long lists). On the other hand if we use full words as a part of our vocabulary, it creates a large vocabulary and small lists of ids. This is also wasteful since minor variations in words (e.g., algorithm, algorithms) will add an additional word to the vocabulary.\n",
        "\n",
        "Byte-Pair Encoding optimizes the tokenization process by creating a vocabulary of desired length by representing common words as a single token. Rare words are split into two or more subword tokens. This balances the vocabulary size and the length of the list of ids created during tokenization.\n",
        "\n",
        "To illustrate this algorithm, consider the following corpus of two sentences."
      ],
      "metadata": {
        "id": "p3VqwTspV30h"
      }
    },
    {
      "cell_type": "code",
      "source": [
        "sentences_in_corpus = [\n",
        "    'formal algorithms for transformers',\n",
        "    'normal algorithms for transformers'\n",
        "]"
      ],
      "metadata": {
        "id": "6FNPuAE9WeAu"
      },
      "execution_count": null,
      "outputs": []
    },
    {
      "cell_type": "markdown",
      "source": [
        "The word frequencies in this corpus are:"
      ],
      "metadata": {
        "id": "BUy9Jy-uWkC9"
      }
    },
    {
      "cell_type": "code",
      "source": [
        "word_frequencies_in_corpus = {\n",
        "    'algorithms': 2,\n",
        "    'for': 2,\n",
        "    'transformers': 2,\n",
        "    'formal': 1,\n",
        "    'normal': 1\n",
        "}"
      ],
      "metadata": {
        "id": "A_twHna0WsQA"
      },
      "execution_count": null,
      "outputs": []
    },
    {
      "cell_type": "markdown",
      "source": [
        "Our character-level vocabulary for this corpus is:"
      ],
      "metadata": {
        "id": "X6pH-NttW8wn"
      }
    },
    {
      "cell_type": "code",
      "source": [
        "set(character for word in word_frequencies_in_corpus.keys() for character in word)"
      ],
      "metadata": {
        "colab": {
          "base_uri": "https://localhost:8080/"
        },
        "id": "2zm-dcd2XIlm",
        "outputId": "a36552dd-8822-4074-89af-d594c6a4389b"
      },
      "execution_count": null,
      "outputs": [
        {
          "output_type": "execute_result",
          "data": {
            "text/plain": [
              "{'a', 'e', 'f', 'g', 'h', 'i', 'l', 'm', 'n', 'o', 'r', 's', 't'}"
            ]
          },
          "metadata": {},
          "execution_count": 16
        }
      ]
    },
    {
      "cell_type": "markdown",
      "source": [
        "In byte-pair encoding, we use these individual words to start pairing individual characters in the word frequencies. For example, the pair (`f`, `o`) is present in the words `formal`, `for` and `transformers`. This is the most frequent pair of characters in the corpus since it occurs $1 + 2 + 2 = 5$ times in the corpus. Notice how we have used the word frequencies to arrive at this number.\n",
        "\n",
        "Since this is the most frequent pair, we create a rule `(f, o) -> fo` and store the word `fo` as a word in our vocabulary. That is, we assign `fo` a dedicated index. At this point our vocabulary looks like so:"
      ],
      "metadata": {
        "id": "_iiKOPQoYHyC"
      }
    },
    {
      "cell_type": "code",
      "source": [
        "word_frequencies_in_corpus = {\n",
        "    'algorithms': 2,\n",
        "    'fo r': 2,\n",
        "    'trans fo rmers': 2,\n",
        "    'fo rmal': 1,\n",
        "    'normal': 1\n",
        "}"
      ],
      "metadata": {
        "id": "mzbkhn3qZefM"
      },
      "execution_count": null,
      "outputs": []
    },
    {
      "cell_type": "code",
      "source": [
        "set(subword for word in word_frequencies_in_corpus.keys() for subword in word.split(' '))"
      ],
      "metadata": {
        "colab": {
          "base_uri": "https://localhost:8080/"
        },
        "id": "CXfKwTzzaXPg",
        "outputId": "b9fd94d8-6eab-4e86-9412-9ec21662d6a9"
      },
      "execution_count": null,
      "outputs": [
        {
          "output_type": "execute_result",
          "data": {
            "text/plain": [
              "{'algorithms', 'fo', 'normal', 'r', 'rmal', 'rmers', 'trans'}"
            ]
          },
          "metadata": {},
          "execution_count": 18
        }
      ]
    },
    {
      "cell_type": "markdown",
      "source": [
        "Notice how the subword `fo` is a part of the vocabulary now.\n",
        "\n",
        "We now start pairing again. In this case, the pair `(fo, r)` occurs $2 + 2 + 1 = 5$ times. Again this is the most frequent pair so we add the rule `(fo, r) -> for` to our vocabulary. The vocabulary now looks like so:"
      ],
      "metadata": {
        "id": "CTZqZjWnZkIO"
      }
    },
    {
      "cell_type": "code",
      "source": [
        "word_frequencies_in_corpus = {\n",
        "    'algorithms': 2,\n",
        "    'for': 2,\n",
        "    'trans for mers': 2,\n",
        "    'for mal': 1,\n",
        "    'normal': 1\n",
        "}"
      ],
      "metadata": {
        "id": "tQE_zDoQaKxS"
      },
      "execution_count": null,
      "outputs": []
    },
    {
      "cell_type": "code",
      "source": [
        "set(subword for word in word_frequencies_in_corpus.keys() for subword in word.split(' '))"
      ],
      "metadata": {
        "colab": {
          "base_uri": "https://localhost:8080/"
        },
        "id": "OrfrxuRsbRlm",
        "outputId": "96ca7455-6f8c-4ed1-d6d6-dd600c6a2f4e"
      },
      "execution_count": null,
      "outputs": [
        {
          "output_type": "execute_result",
          "data": {
            "text/plain": [
              "{'algorithms', 'for', 'mal', 'mers', 'normal', 'trans'}"
            ]
          },
          "metadata": {},
          "execution_count": 20
        }
      ]
    },
    {
      "cell_type": "markdown",
      "source": [
        "We repeat this process till we reach the vocabulary size that is desired (e.g., 100,277 for GPT-4). Once the vocabulary size is reached we assign an integer index to each token in the vocabulary (just like we did before for a character-level encoding). As a part of this process, subwords appear naturally and allow us to optimize the vocabulary size while retaining the expressiveness of language."
      ],
      "metadata": {
        "id": "u6wgbRP6aN8r"
      }
    },
    {
      "cell_type": "markdown",
      "source": [
        "To recap, at the end of tokenization using byte-pair encoding we obtain a mapping from an input text to a list of token ids."
      ],
      "metadata": {
        "id": "5IcYK3pRbtWE"
      }
    },
    {
      "cell_type": "markdown",
      "source": [
        "![image.png](data:image/png;base64,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)"
      ],
      "metadata": {
        "id": "lVemcnMcb09n"
      }
    },
    {
      "cell_type": "markdown",
      "source": [
        "# Sentence Embeddings"
      ],
      "metadata": {
        "id": "EsQ1EBwzakDo"
      }
    },
    {
      "cell_type": "markdown",
      "source": [
        "## What do embeddings accomplish?"
      ],
      "metadata": {
        "id": "LAhgVhW5lDlR"
      }
    },
    {
      "cell_type": "markdown",
      "source": [
        "Now that we have a list of token ids, the next step is to imbibe meaning and context to these tokens. This is usually executed using encoder-only models such as BERT. The overall process of embedding is summarized in the following figure."
      ],
      "metadata": {
        "id": "FgsRFMnXcBT3"
      }
    },
    {
      "cell_type": "markdown",
      "source": [
        "![image.png](data:image/png;base64,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)"
      ],
      "metadata": {
        "id": "yfvNyLhWgoF_"
      }
    },
    {
      "cell_type": "markdown",
      "source": [
        "Let us see embeddings in action. We will use the MiniLM-L6-model from HuggingFace that was trained to retrieve pairs of sentences that are similar to each other. This model provides a good balance of size and embedding accuracy."
      ],
      "metadata": {
        "id": "SapPF7EchDRO"
      }
    },
    {
      "cell_type": "code",
      "source": [
        "embedding_model_name = \"all-MiniLM-L6-v2\""
      ],
      "metadata": {
        "id": "N8hmPlOaHZRC"
      },
      "execution_count": null,
      "outputs": []
    },
    {
      "cell_type": "code",
      "source": [
        "embedding_model = SentenceTransformer(embedding_model_name)"
      ],
      "metadata": {
        "colab": {
          "base_uri": "https://localhost:8080/",
          "height": 528,
          "referenced_widgets": [
            "2093aac0bd9642c3aae1bfa6dc8ef0a7",
            "78824ed888c949a8b88a88bb5aff0162",
            "7939d324301c4da89dbd1edea427f925",
            "1d1666599d354c7485093febdbccd708",
            "b53c59adec764a498b07bf606f99d072",
            "2a7663d55b42480baa3d8544a9f9b257",
            "f9a2b6130dc04f2389acfa9817df32a5",
            "6a48a6c2554645a29a36a7a6a55f9f6c",
            "cc5cea581cf74df9b974348af46dd2be",
            "4a1157be39fa4ecc81d1f90b0efc014c",
            "f9c62c2a4d1c465f85c6beebc0d064a9",
            "e727bf01a5014632aa62ed48a58ce869",
            "ea39fbbdf7f8495dbbb38432eb3782b3",
            "b74af0dc3c4847ebb03ef95ab806184d",
            "18cd4ed022d84c1cad64ec84e1924662",
            "59fde5f303dd4dddbfde145180a49f0c",
            "f7019bcdfa344f7fb8f72725879dad5d",
            "305c9ecfb6d5483fa096839ec0eab09d",
            "c497cebdb259472da898309f5913be6c",
            "7eee700231414a7597d14b281137c93e",
            "449400b9d2da4e66aea4cdb66b1f215f",
            "bf7e8ade6d5e4403ad6ce3ba659dc6aa",
            "5ea9354e05b74d99ae1ba886ff7bc5b9",
            "8ea806131fe0497cbd287eb1e6402895",
            "49e5c4478c1f43bfae75e70b2f4dceb2",
            "0874211346cf402cb78664fbbca7571e",
            "18647b393d2d4a75be192fc6a6ef6562",
            "93433b6d624d4f45bebaac06e0630152",
            "b89f45f0d08b4b49b2313a972c36afca",
            "845f0903d1574a428f4be2b576619a2f",
            "91f24435007e4b8ba08641d57f06bcb0",
            "d0434df8cb5949458f392db4e73b31bb",
            "bae9c0f5021e4cbcbda737b53c34ebb3",
            "a98ab3e3a5404aea928ef62c4be7087a",
            "7ead7cc9105040309f394044121a7df9",
            "59fb216dce4d41d6986045b8eec85a9b",
            "adaacd9a735c4b8fae6098fc1d568e93",
            "4dfab02173564532950e6f0e1ac54068",
            "99718b0c33e546d6ba31ba9d7adc59e9",
            "b02ad451e3884fd19b3c6e00893fbe46",
            "4a7206fb84e9407393d54091be51a4a7",
            "50a61389ee6d4403a0a6aa40ea1442b2",
            "78b0d573655c476caa41b1ca6d3cd969",
            "ee2208cb0d7a440783cdb97260db0b43",
            "f0d750f3432a40518079884b81a2544e",
            "af3511a524744dcbb57fc378e4082c1c",
            "7140bd582a43470da312ed408b1ee5cd",
            "7418bbaadf41458a99bc866430e2ae40",
            "a24814def1504ea0bd0f66f77f434601",
            "72c1afa208e849be9283fcf43edf924f",
            "eae4202aecb04babae49b1d67a35a977",
            "3d7359ca82aa4f1a94259c732dd3b21a",
            "1cd9547c26a34e5182ad6db7b0ebcc76",
            "dc53e1ff3d3b4df79074f674ff142090",
            "30098922ac1347a7a50dd61b3531b1fb",
            "ea88b7d1c2104599bf160d577dda0935",
            "df0a4d4a84b448aeb41df16663e4c97f",
            "0d66884223674d5284747d5d5df9d069",
            "6ae5585ef23d4f658331f41582557c3e",
            "7ca1e2077c9346599b31dbba50cfa4f9",
            "181d0d95705c400889cac7a58409f354",
            "a77fe704c4444c849762ef9629ae8afb",
            "c31ad93302eb4e12abe72262f54afdfb",
            "a63451c8931f4b5296e1e854d874d3ef",
            "899dd5d049744ac2be5b67dd59cb5ce7",
            "e91a1f251d5440a7baf911be13edfc56",
            "f3b33a4ffb2f4a91b2c0030ef97469c2",
            "b51764b58232487da94133c1290d2f6c",
            "9ab4e9fe931b44e9b0936ab54a24b041",
            "5a40d82d818943e196fb3367dc1c800d",
            "a627d083bc3c4c72aaa340e2d4795633",
            "f3e83cddfefa4d3bab76bf57e56b6f33",
            "308b2c5ea15447b9ab8bb3124019ab98",
            "350b2a6b6ef64dada7f44489a71bdd09",
            "21ed116e9f754667a81848303cb03cdf",
            "fc3d82050ae84b14a09d94258045e5e7",
            "6ea5642d0ca44a4e98a73ff081f5b69f",
            "402734c759a94e70bf30f039f2b0fa8e",
            "5c16cbe890c948349d099dcdb630519c",
            "1dd185168ad84034bae4742d4bdb7016",
            "bde21f50f46f4af682f55bd3bac018f1",
            "3997a530c06e4b9ba256fb4569340349",
            "1170bb41bd334671b3f73c3515d030f9",
            "af33731fae684ed2badbb7f47402bcbd",
            "212c3fc35b4b474ab6dc92c9f2d4f6cd",
            "c5a95837782643c9b8efdcfc2ea77d66",
            "952759f021994738af88aecaaca7929a",
            "8ddd59b1800d45f282241b65aceb18de",
            "9fcd468f1337476794add7b8b81a61c0",
            "d43b511250ce49aa898473a1638bbe25",
            "9c94c56613af4c479fd5965d92ce7076",
            "9d9f5b0ce70e455090a7c48b7c7b4635",
            "79b26b2859204d5bb0f791a82970f2e9",
            "8d558b22b7af4ee9931f16fc936b8010",
            "05d7a153347f494cacdeef2d4130aeda",
            "2ca5beea1a09453c918972bc09d53f08",
            "134a07eb388e46008f06dbf56f3e2789",
            "bcf7224d7a4b4788bb507b67f450b27c",
            "704e7e4f023049a5b929db609ce40d19",
            "14961d8f98b442d5970a53f586c3d6f0",
            "d4ce0c4433ea463eaf39c73072a0332a",
            "2a559481a21746749f672f3b22a7b53a",
            "80c8550b799347b0b756d195b3a30eda",
            "d286b5a6ee7c4d4199a850605a159bee",
            "ddd93deb357b44d8bdca81b3be2a3d6c",
            "c96a71fe4c064c199e157e3f0730637b",
            "757050a1b54c4ae4bc3f38bc6abce551",
            "d7d1ce21e51e414e88bbe8bc52f37578",
            "12220eea483e43d2b931f08b33ac8c06",
            "e55325ffd3934e73b6fbb2ba3b0a9e18",
            "56f0b5dd73624ab4a91e8c585a4d1beb",
            "4ae96c4803324c1785bfe78d9dce2b53",
            "a403aceda8e84e649f689d8a4b63de5a",
            "2c7e5270e2424468814a81be29199080",
            "30e3352fc01c456b847b35773d9e6eb3",
            "1c360956014441b0b4e470dcaaca784d",
            "6f2fe47129924b21930973fb87d182b1",
            "76fd68acdde04f34ba6f4a8d2444d025",
            "7a26e80ac9f847669abd7bb99055d6cc",
            "1a3320ccf49e4f55b260702c30523f3f",
            "80ef7a8845034221b0fe7e29904396bc"
          ]
        },
        "id": "IK4aakoAazeg",
        "outputId": "a4bd1e46-64c3-49c4-ebfa-ddacdf0c821d"
      },
      "execution_count": null,
      "outputs": [
        {
          "output_type": "stream",
          "name": "stderr",
          "text": [
            "/usr/local/lib/python3.10/dist-packages/huggingface_hub/utils/_token.py:89: UserWarning: \n",
            "The secret `HF_TOKEN` does not exist in your Colab secrets.\n",
            "To authenticate with the Hugging Face Hub, create a token in your settings tab (https://huggingface.co/settings/tokens), set it as secret in your Google Colab and restart your session.\n",
            "You will be able to reuse this secret in all of your notebooks.\n",
            "Please note that authentication is recommended but still optional to access public models or datasets.\n",
            "  warnings.warn(\n"
          ]
        },
        {
          "output_type": "display_data",
          "data": {
            "text/plain": [
              "modules.json:   0%|          | 0.00/349 [00:00<?, ?B/s]"
            ],
            "application/vnd.jupyter.widget-view+json": {
              "version_major": 2,
              "version_minor": 0,
              "model_id": "2093aac0bd9642c3aae1bfa6dc8ef0a7"
            }
          },
          "metadata": {}
        },
        {
          "output_type": "display_data",
          "data": {
            "text/plain": [
              "config_sentence_transformers.json:   0%|          | 0.00/116 [00:00<?, ?B/s]"
            ],
            "application/vnd.jupyter.widget-view+json": {
              "version_major": 2,
              "version_minor": 0,
              "model_id": "e727bf01a5014632aa62ed48a58ce869"
            }
          },
          "metadata": {}
        },
        {
          "output_type": "display_data",
          "data": {
            "text/plain": [
              "README.md:   0%|          | 0.00/10.7k [00:00<?, ?B/s]"
            ],
            "application/vnd.jupyter.widget-view+json": {
              "version_major": 2,
              "version_minor": 0,
              "model_id": "5ea9354e05b74d99ae1ba886ff7bc5b9"
            }
          },
          "metadata": {}
        },
        {
          "output_type": "display_data",
          "data": {
            "text/plain": [
              "sentence_bert_config.json:   0%|          | 0.00/53.0 [00:00<?, ?B/s]"
            ],
            "application/vnd.jupyter.widget-view+json": {
              "version_major": 2,
              "version_minor": 0,
              "model_id": "a98ab3e3a5404aea928ef62c4be7087a"
            }
          },
          "metadata": {}
        },
        {
          "output_type": "display_data",
          "data": {
            "text/plain": [
              "config.json:   0%|          | 0.00/612 [00:00<?, ?B/s]"
            ],
            "application/vnd.jupyter.widget-view+json": {
              "version_major": 2,
              "version_minor": 0,
              "model_id": "f0d750f3432a40518079884b81a2544e"
            }
          },
          "metadata": {}
        },
        {
          "output_type": "display_data",
          "data": {
            "text/plain": [
              "model.safetensors:   0%|          | 0.00/90.9M [00:00<?, ?B/s]"
            ],
            "application/vnd.jupyter.widget-view+json": {
              "version_major": 2,
              "version_minor": 0,
              "model_id": "ea88b7d1c2104599bf160d577dda0935"
            }
          },
          "metadata": {}
        },
        {
          "output_type": "display_data",
          "data": {
            "text/plain": [
              "tokenizer_config.json:   0%|          | 0.00/350 [00:00<?, ?B/s]"
            ],
            "application/vnd.jupyter.widget-view+json": {
              "version_major": 2,
              "version_minor": 0,
              "model_id": "f3b33a4ffb2f4a91b2c0030ef97469c2"
            }
          },
          "metadata": {}
        },
        {
          "output_type": "display_data",
          "data": {
            "text/plain": [
              "vocab.txt:   0%|          | 0.00/232k [00:00<?, ?B/s]"
            ],
            "application/vnd.jupyter.widget-view+json": {
              "version_major": 2,
              "version_minor": 0,
              "model_id": "402734c759a94e70bf30f039f2b0fa8e"
            }
          },
          "metadata": {}
        },
        {
          "output_type": "display_data",
          "data": {
            "text/plain": [
              "tokenizer.json:   0%|          | 0.00/466k [00:00<?, ?B/s]"
            ],
            "application/vnd.jupyter.widget-view+json": {
              "version_major": 2,
              "version_minor": 0,
              "model_id": "9fcd468f1337476794add7b8b81a61c0"
            }
          },
          "metadata": {}
        },
        {
          "output_type": "display_data",
          "data": {
            "text/plain": [
              "special_tokens_map.json:   0%|          | 0.00/112 [00:00<?, ?B/s]"
            ],
            "application/vnd.jupyter.widget-view+json": {
              "version_major": 2,
              "version_minor": 0,
              "model_id": "14961d8f98b442d5970a53f586c3d6f0"
            }
          },
          "metadata": {}
        },
        {
          "output_type": "stream",
          "name": "stderr",
          "text": [
            "/usr/local/lib/python3.10/dist-packages/transformers/tokenization_utils_base.py:1601: FutureWarning: `clean_up_tokenization_spaces` was not set. It will be set to `True` by default. This behavior will be depracted in transformers v4.45, and will be then set to `False` by default. For more details check this issue: https://github.com/huggingface/transformers/issues/31884\n",
            "  warnings.warn(\n"
          ]
        },
        {
          "output_type": "display_data",
          "data": {
            "text/plain": [
              "1_Pooling/config.json:   0%|          | 0.00/190 [00:00<?, ?B/s]"
            ],
            "application/vnd.jupyter.widget-view+json": {
              "version_major": 2,
              "version_minor": 0,
              "model_id": "56f0b5dd73624ab4a91e8c585a4d1beb"
            }
          },
          "metadata": {}
        }
      ]
    },
    {
      "cell_type": "code",
      "source": [
        "embedding_model.max_seq_length"
      ],
      "metadata": {
        "colab": {
          "base_uri": "https://localhost:8080/"
        },
        "id": "BtQeiUXEc14y",
        "outputId": "3c08d990-899d-4b18-827c-3382eeafe526"
      },
      "execution_count": null,
      "outputs": [
        {
          "output_type": "execute_result",
          "data": {
            "text/plain": [
              "256"
            ]
          },
          "metadata": {},
          "execution_count": 23
        }
      ]
    },
    {
      "cell_type": "markdown",
      "source": [
        "The above output indicates that the model accepts sentences/paragraphs with a maximum length of 256 tokens. Any text more than this length is truncated to include only the first 256 tokens.\n",
        "\n",
        "Let us now present an example sentence to the embedding model and collect its vector representation."
      ],
      "metadata": {
        "id": "cQQv8Z3Nin-l"
      }
    },
    {
      "cell_type": "code",
      "source": [
        "sentence = \"formal algorithms for transformers\""
      ],
      "metadata": {
        "id": "lQPwKwmPi10E"
      },
      "execution_count": null,
      "outputs": []
    },
    {
      "cell_type": "code",
      "source": [
        "embeddings = embedding_model.encode(sentence)"
      ],
      "metadata": {
        "id": "dXRQgrFOc8i-"
      },
      "execution_count": null,
      "outputs": []
    },
    {
      "cell_type": "code",
      "source": [
        "embeddings.shape"
      ],
      "metadata": {
        "colab": {
          "base_uri": "https://localhost:8080/"
        },
        "id": "AY4Nphagc_M0",
        "outputId": "cee92419-afeb-4e98-c275-857d270540c5"
      },
      "execution_count": null,
      "outputs": [
        {
          "output_type": "execute_result",
          "data": {
            "text/plain": [
              "(384,)"
            ]
          },
          "metadata": {},
          "execution_count": 26
        }
      ]
    },
    {
      "cell_type": "markdown",
      "source": [
        "The above output indicates that the input sentence is now represented as a vector of dimension 384. We can inspect the values of the embedding vector like so:"
      ],
      "metadata": {
        "id": "KGHPqvG6jA2Z"
      }
    },
    {
      "cell_type": "code",
      "source": [
        "embeddings[0:4]"
      ],
      "metadata": {
        "colab": {
          "base_uri": "https://localhost:8080/"
        },
        "id": "OVAFoV2pgJMu",
        "outputId": "61d03cc6-c528-469c-f352-226c7e33154a"
      },
      "execution_count": null,
      "outputs": [
        {
          "output_type": "execute_result",
          "data": {
            "text/plain": [
              "array([-0.14508992,  0.0875918 , -0.00733512, -0.0560404 ], dtype=float32)"
            ]
          },
          "metadata": {},
          "execution_count": 27
        }
      ]
    },
    {
      "cell_type": "markdown",
      "source": [
        "Such general embedding models that can generate embeddings for any text unlock several applications (e.g., Retrieval-Augmented Generation) since we can measure the closeness of any two pairs of sentences in the high-dimensional space represented by the embedding.\n",
        "\n",
        "Let us look at a specific example. Imagine we have a text database of financial information about Tesla. Given any user query, we want to retrieve the relevant context sentence that is closely related to the user query.  "
      ],
      "metadata": {
        "id": "4LYnVJVmjNxk"
      }
    },
    {
      "cell_type": "code",
      "source": [
        "context_sentence1 = \"The annual revenue for Tesla in 2022 was $ 81.46 billion\"\n",
        "context_sentence2 = \"The annual revenue for Tesla in 2021 was $ 53.82 billion\"\n",
        "\n",
        "user_query = \"What was the annual revenue for Tesla in 2022?\""
      ],
      "metadata": {
        "id": "oooNsIsojoPg"
      },
      "execution_count": null,
      "outputs": []
    },
    {
      "cell_type": "markdown",
      "source": [
        "Let us combine these context sentences and create embeddings for them."
      ],
      "metadata": {
        "id": "Mr3IWh3AWSZT"
      }
    },
    {
      "cell_type": "code",
      "source": [
        "context_sentences = [context_sentence1, context_sentence2]"
      ],
      "metadata": {
        "id": "bu9PdCRvkDY-"
      },
      "execution_count": null,
      "outputs": []
    },
    {
      "cell_type": "code",
      "source": [
        "context_embeddings = embedding_model.encode(context_sentences)"
      ],
      "metadata": {
        "id": "IJqn0UYbkZjU"
      },
      "execution_count": null,
      "outputs": []
    },
    {
      "cell_type": "code",
      "source": [
        "context_embeddings.shape"
      ],
      "metadata": {
        "colab": {
          "base_uri": "https://localhost:8080/"
        },
        "id": "-ynpA_JCkcyl",
        "outputId": "f68db2e4-8692-4624-840d-ee8db861a532"
      },
      "execution_count": null,
      "outputs": [
        {
          "output_type": "execute_result",
          "data": {
            "text/plain": [
              "(2, 384)"
            ]
          },
          "metadata": {},
          "execution_count": 31
        }
      ]
    },
    {
      "cell_type": "code",
      "source": [
        "user_query_embedding = embedding_model.encode(user_query)"
      ],
      "metadata": {
        "id": "CBhAHj3MkmCo"
      },
      "execution_count": null,
      "outputs": []
    },
    {
      "cell_type": "markdown",
      "source": [
        "We can now measure the cosine similarity of the user quert to each of the context sentences to determine which of the context sentences is similar to the query."
      ],
      "metadata": {
        "id": "ggFHlsBtlQo_"
      }
    },
    {
      "cell_type": "code",
      "source": [
        "for embedding, sentence in zip(context_embeddings, context_sentences):\n",
        "    similarity = util.pytorch_cos_sim(user_query_embedding, embedding)\n",
        "    print(similarity, sentence)"
      ],
      "metadata": {
        "colab": {
          "base_uri": "https://localhost:8080/"
        },
        "id": "7g1ir-FPkv17",
        "outputId": "5081143f-585f-457c-fc7b-89dc64e6249f"
      },
      "execution_count": null,
      "outputs": [
        {
          "output_type": "stream",
          "name": "stdout",
          "text": [
            "tensor([[0.8941]]) The annual revenue for Tesla in 2022 was $ 81.46 billion\n",
            "tensor([[0.8476]]) The annual revenue for Tesla in 2021 was $ 53.82 billion\n"
          ]
        }
      ]
    },
    {
      "cell_type": "markdown",
      "source": [
        "As we can see from the output above, the user query is measured to be closer to context sentence 1 than context sentence 2 (as is expected).\n",
        "\n",
        "Now that we have seen the practical utility of generating embeddings, let us dig deeper into how these embeddings are computed.\n",
        "\n",
        "The steps involved in creating embeddings for an input sentence are presented in the figure below."
      ],
      "metadata": {
        "id": "Q2xtpEPXk4Hm"
      }
    },
    {
      "cell_type": "markdown",
      "source": [
        "![image.png](data:image/png;base64,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)"
      ],
      "metadata": {
        "id": "NPLPs3XprrAO"
      }
    },
    {
      "cell_type": "markdown",
      "source": [
        "We illustrate this two step process of generating embeddings for an input sentence using the following example sentence."
      ],
      "metadata": {
        "id": "fcMIYuk5sZjV"
      }
    },
    {
      "cell_type": "code",
      "source": [
        "context_sentence = \"The annual revenue for Tesla in 2022 was $ 81.46 billion\""
      ],
      "metadata": {
        "id": "zYq4RFPlq8iU"
      },
      "execution_count": null,
      "outputs": []
    },
    {
      "cell_type": "markdown",
      "source": [
        "## Step 1: Tokenize"
      ],
      "metadata": {
        "id": "9VDI3x75eLyn"
      }
    },
    {
      "cell_type": "markdown",
      "source": [
        "The first step in generating embeddings for the above sentence is to extract tokens from the input text. This process is no different from what we have seen with byte-pair encoding where pairs of characters are fused using word frequencies.\n",
        "\n",
        "Let us look at the tokenizer used by our Mini-LM-L6 model."
      ],
      "metadata": {
        "id": "IgN1_bPJr-EB"
      }
    },
    {
      "cell_type": "code",
      "source": [
        "embedding_model.tokenizer"
      ],
      "metadata": {
        "colab": {
          "base_uri": "https://localhost:8080/"
        },
        "id": "1-udAhsueC0q",
        "outputId": "e276b4b0-9d7b-4873-89ca-fd9bc09e1130"
      },
      "execution_count": null,
      "outputs": [
        {
          "output_type": "execute_result",
          "data": {
            "text/plain": [
              "BertTokenizerFast(name_or_path='sentence-transformers/all-MiniLM-L6-v2', vocab_size=30522, model_max_length=512, is_fast=True, padding_side='right', truncation_side='right', special_tokens={'unk_token': '[UNK]', 'sep_token': '[SEP]', 'pad_token': '[PAD]', 'cls_token': '[CLS]', 'mask_token': '[MASK]'}, clean_up_tokenization_spaces=True),  added_tokens_decoder={\n",
              "\t0: AddedToken(\"[PAD]\", rstrip=False, lstrip=False, single_word=False, normalized=False, special=True),\n",
              "\t100: AddedToken(\"[UNK]\", rstrip=False, lstrip=False, single_word=False, normalized=False, special=True),\n",
              "\t101: AddedToken(\"[CLS]\", rstrip=False, lstrip=False, single_word=False, normalized=False, special=True),\n",
              "\t102: AddedToken(\"[SEP]\", rstrip=False, lstrip=False, single_word=False, normalized=False, special=True),\n",
              "\t103: AddedToken(\"[MASK]\", rstrip=False, lstrip=False, single_word=False, normalized=False, special=True),\n",
              "}"
            ]
          },
          "metadata": {},
          "execution_count": 35
        }
      ]
    },
    {
      "cell_type": "markdown",
      "source": [
        "We can see that this model has a vocabulary of 30,522 tokens, with a few special tokens sprinkled in. Specifically:\n",
        "- `[UNK]` used to represent tokens that were not seen during training\n",
        "-  `[PAD]` used to pad sentences smaller than the context length (512) on the right\n",
        "- `[MASK]` used to mask a random token in the input that will be predicted during training (more on this shortly)\n",
        "- `[CLS]` appended at the beginning of every sentence to represent its overall meaning\n",
        "- `[SEP]` used to separate sentences"
      ],
      "metadata": {
        "id": "3Cxn9zbQsmvm"
      }
    },
    {
      "cell_type": "markdown",
      "source": [
        "Let us now see how this tokenizer splits the user query presented above."
      ],
      "metadata": {
        "id": "O_pePA6yuYj-"
      }
    },
    {
      "cell_type": "code",
      "source": [
        "embedding_model.tokenizer(context_sentence)"
      ],
      "metadata": {
        "colab": {
          "base_uri": "https://localhost:8080/"
        },
        "id": "KtCUYckSeJF2",
        "outputId": "0600f293-4b4a-4cb1-db80-c662ede12067"
      },
      "execution_count": null,
      "outputs": [
        {
          "output_type": "execute_result",
          "data": {
            "text/plain": [
              "{'input_ids': [101, 1996, 3296, 6599, 2005, 26060, 1999, 16798, 2475, 2001, 1002, 6282, 1012, 4805, 4551, 102], 'token_type_ids': [0, 0, 0, 0, 0, 0, 0, 0, 0, 0, 0, 0, 0, 0, 0, 0], 'attention_mask': [1, 1, 1, 1, 1, 1, 1, 1, 1, 1, 1, 1, 1, 1, 1, 1]}"
            ]
          },
          "metadata": {},
          "execution_count": 36
        }
      ]
    },
    {
      "cell_type": "code",
      "source": [
        "embedding_model.tokenizer(context_sentence).tokens()"
      ],
      "metadata": {
        "colab": {
          "base_uri": "https://localhost:8080/"
        },
        "id": "KfcA-xEaeT78",
        "outputId": "1e6e38db-f016-4219-821f-664845d73470"
      },
      "execution_count": null,
      "outputs": [
        {
          "output_type": "execute_result",
          "data": {
            "text/plain": [
              "['[CLS]',\n",
              " 'the',\n",
              " 'annual',\n",
              " 'revenue',\n",
              " 'for',\n",
              " 'tesla',\n",
              " 'in',\n",
              " '202',\n",
              " '##2',\n",
              " 'was',\n",
              " '$',\n",
              " '81',\n",
              " '.',\n",
              " '46',\n",
              " 'billion',\n",
              " '[SEP]']"
            ]
          },
          "metadata": {},
          "execution_count": 37
        }
      ]
    },
    {
      "cell_type": "code",
      "source": [
        "len(embedding_model.tokenizer(context_sentence).tokens())"
      ],
      "metadata": {
        "colab": {
          "base_uri": "https://localhost:8080/"
        },
        "id": "q7-DCO1nxx27",
        "outputId": "c61a2663-5f4e-4ef4-9e8b-7c50074499ea"
      },
      "execution_count": null,
      "outputs": [
        {
          "output_type": "execute_result",
          "data": {
            "text/plain": [
              "16"
            ]
          },
          "metadata": {},
          "execution_count": 38
        }
      ]
    },
    {
      "cell_type": "markdown",
      "source": [
        "As the above output indicates, the input sequence of 11 words is split into 16 tokens including 2 special tokens."
      ],
      "metadata": {
        "id": "MBxi14ATxQuo"
      }
    },
    {
      "cell_type": "markdown",
      "source": [
        "## Step 2: Pool token embeddings"
      ],
      "metadata": {
        "id": "gtiUlhH5n4a9"
      }
    },
    {
      "cell_type": "markdown",
      "source": [
        "In order to generate an overall embedding for an input sentence, we first generate a high-dimensional representation for each token in the sentence using a masked language modeling objective. We use an encoder-only transformer model (usually) belonging to the BERT family for this objective. The training procedure is depicted in the figures below."
      ],
      "metadata": {
        "id": "UyBeAsO1zudd"
      }
    },
    {
      "cell_type": "markdown",
      "source": [
        "![image.png](data:image/png;base64,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)"
      ],
      "metadata": {
        "id": "wNIxd2h2QxiA"
      }
    },
    {
      "cell_type": "markdown",
      "source": [
        "![image.png](data:image/png;base64,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)"
      ],
      "metadata": {
        "id": "7x_3BII8Q0S_"
      }
    },
    {
      "cell_type": "markdown",
      "source": [
        "In the training procedure presented above, the `[MASK]` token forces the model to contextualize the other words in the sentence with original word access disabled. This was the clever invention from the BERT-paper in 2018 that contrasted with the decoder-only approach of Open AI GPT.\n",
        "\n",
        "The final output from the transformer model is a $n-$dimensional vector associated with each token in the input sentence. However, we need one vector associated with the entire sentence. How would we achieve this?\n",
        "\n",
        "Let us look at the embedding model to see how this is done."
      ],
      "metadata": {
        "id": "WgFH1HiZRGEO"
      }
    },
    {
      "cell_type": "code",
      "source": [
        "embedding_model"
      ],
      "metadata": {
        "colab": {
          "base_uri": "https://localhost:8080/"
        },
        "id": "VbicpITpDS8h",
        "outputId": "1ea910ab-bcf4-4746-ef28-0ca9e9a7fcdc"
      },
      "execution_count": null,
      "outputs": [
        {
          "output_type": "execute_result",
          "data": {
            "text/plain": [
              "SentenceTransformer(\n",
              "  (0): Transformer({'max_seq_length': 256, 'do_lower_case': False}) with Transformer model: BertModel \n",
              "  (1): Pooling({'word_embedding_dimension': 384, 'pooling_mode_cls_token': False, 'pooling_mode_mean_tokens': True, 'pooling_mode_max_tokens': False, 'pooling_mode_mean_sqrt_len_tokens': False, 'pooling_mode_weightedmean_tokens': False, 'pooling_mode_lasttoken': False})\n",
              "  (2): Normalize()\n",
              ")"
            ]
          },
          "metadata": {},
          "execution_count": 39
        }
      ]
    },
    {
      "cell_type": "markdown",
      "source": [
        "As the above output indicates, the embedding model pools all the $n-$dimensional vectors of the tokens in the sentence by averaging them to get one $n-$dimensional vector.\n",
        "\n",
        "Let us dig into this pooling process further."
      ],
      "metadata": {
        "id": "EmIIYqFESurc"
      }
    },
    {
      "cell_type": "code",
      "source": [
        "context_sentence = \"The annual revenue for Tesla in 2022 was $ 81.46 billion\""
      ],
      "metadata": {
        "id": "okSUJu2feYXD"
      },
      "execution_count": null,
      "outputs": []
    },
    {
      "cell_type": "code",
      "source": [
        "input_sentence_embedding = embedding_model.encode(context_sentence)"
      ],
      "metadata": {
        "id": "Rhxlx54MpPU8"
      },
      "execution_count": null,
      "outputs": []
    },
    {
      "cell_type": "code",
      "source": [
        "input_sentence_embedding.shape"
      ],
      "metadata": {
        "colab": {
          "base_uri": "https://localhost:8080/"
        },
        "id": "_whDVQRRonR7",
        "outputId": "85ccd931-4a08-42d2-db52-840b7e7a92cb"
      },
      "execution_count": null,
      "outputs": [
        {
          "output_type": "execute_result",
          "data": {
            "text/plain": [
              "(384,)"
            ]
          },
          "metadata": {},
          "execution_count": 42
        }
      ]
    },
    {
      "cell_type": "markdown",
      "source": [
        "As the output indicates, we get one $384-$dimensional vector as a representation of the input text. However, the individual token vectors are also available for inspection like so:"
      ],
      "metadata": {
        "id": "hE7DfWJZTIxn"
      }
    },
    {
      "cell_type": "code",
      "source": [
        "input_token_embedding = embedding_model.encode(context_sentence, output_value=\"token_embeddings\")"
      ],
      "metadata": {
        "id": "WaUKRYbpptfi"
      },
      "execution_count": null,
      "outputs": []
    },
    {
      "cell_type": "code",
      "source": [
        "input_token_embedding.shape"
      ],
      "metadata": {
        "colab": {
          "base_uri": "https://localhost:8080/"
        },
        "id": "2qv56RIqqsjw",
        "outputId": "d1170406-8ace-40f0-8963-0efaf504b0b6"
      },
      "execution_count": null,
      "outputs": [
        {
          "output_type": "execute_result",
          "data": {
            "text/plain": [
              "torch.Size([16, 384])"
            ]
          },
          "metadata": {},
          "execution_count": 44
        }
      ]
    },
    {
      "cell_type": "markdown",
      "source": [
        "From the output above we can see that each of the tokens is conferred a $384-$dimensional representation. These representations are then averaged to obtain a single vector representation for the sentence."
      ],
      "metadata": {
        "id": "sjtSpvf2TVDI"
      }
    },
    {
      "cell_type": "markdown",
      "source": [
        "# Exploring power of Embeddings using Legal domain"
      ],
      "metadata": {
        "id": "j7LUfgDm6kh1"
      }
    },
    {
      "cell_type": "markdown",
      "source": [
        "## Business Context\n",
        "\n",
        "In the legal profession, the ability to efficiently locate and analyze relevant case law is crucial for effective representation and decision-making. With the exponential growth of legal cases and documents, traditional search methods often fall short, leading to wasted time and resources. This necessitates a more intelligent approach to legal research that leverages technology to enhance efficiency and accuracy.\n",
        "\n",
        "The first section of the notebook focuses on using embeddings to find similar legal cases based on their summaries. This capability is instrumental for legal practitioners who need quick access to relevant precedents to strengthen their arguments and enhance their case preparations. By implementing a similarity search, legal professionals can gain insights into past rulings, identify patterns, and build stronger cases backed by relevant legal precedents.\n",
        "\n",
        "\n"
      ],
      "metadata": {
        "id": "r_xc3fGxC4en"
      }
    },
    {
      "cell_type": "code",
      "source": [
        "import pandas as pd\n",
        "import matplotlib.pyplot as plt\n",
        "import numpy as np\n",
        "import seaborn as sns\n",
        "from sklearn.metrics.pairwise import cosine_similarity\n",
        "from sklearn.cluster import KMeans\n",
        "from sklearn.manifold import TSNE\n",
        "from sentence_transformers import SentenceTransformer, util"
      ],
      "metadata": {
        "id": "kKdyYv6CDzwU"
      },
      "execution_count": null,
      "outputs": []
    },
    {
      "cell_type": "markdown",
      "source": [
        "## Use Case 1: Finding Similar Legal Cases\n",
        "\n",
        "**Overview:** This use case enables legal professionals to identify cases with similar summaries, helping them discover relevant precedents that might aid in their current legal matters. The approach utilizes embeddings generated from case summaries, allowing for an efficient similarity search.\n",
        "\n",
        "### Implementation:\n",
        "\n",
        "- **Embedding Generation:** Each case summary is converted into a numerical representation (embedding) using a Sentence Transformer model. This model captures the semantic meaning of the text, allowing for effective comparison between different case summaries.\n",
        "\n",
        "- **Cosine Similarity Calculation:** The cosine similarity metric is employed to measure the similarity between the embedding of the case in question and those of all other cases in the dataset. This measure ranges from 0 (no similarity) to 1 (identical), facilitating an intuitive understanding of case relevance.\n",
        "\n",
        "- **Retrieving Similar Cases:** The top N most similar cases are retrieved, providing lawyers with a curated list of cases that may offer insights or parallels to their current legal situation. The original case's details, including title, summary, court name, and outcome, are also displayed to give context.\n",
        "\n",
        "### Business Value:\n",
        "\n",
        "- **Time Savings:** Reduces the time spent on manual searches for similar cases, allowing lawyers to focus on strategy and argumentation.\n",
        "\n",
        "- **Improved Outcomes:** By leveraging relevant case law, lawyers can build stronger cases, potentially leading to better outcomes for clients.\n",
        "\n",
        "- **Enhanced Knowledge Management:** Provides a systematic way to access case law, promoting knowledge sharing and collaboration among legal professionals."
      ],
      "metadata": {
        "id": "A7qjC9XWMHni"
      }
    },
    {
      "cell_type": "code",
      "source": [
        "# Load the fake legal cases dataset\n",
        "cases_df = pd.read_csv('legal_cases.csv')\n",
        "\n",
        "# Initialize the Sentence Transformer model\n",
        "model = SentenceTransformer('all-MiniLM-L6-v2')"
      ],
      "metadata": {
        "colab": {
          "base_uri": "https://localhost:8080/"
        },
        "id": "ewT3XZuMFySY",
        "outputId": "d1e7dc37-af3b-4a71-b11d-82be1cf8c769"
      },
      "execution_count": null,
      "outputs": [
        {
          "output_type": "stream",
          "name": "stderr",
          "text": [
            "/usr/local/lib/python3.10/dist-packages/transformers/tokenization_utils_base.py:1601: FutureWarning: `clean_up_tokenization_spaces` was not set. It will be set to `True` by default. This behavior will be depracted in transformers v4.45, and will be then set to `False` by default. For more details check this issue: https://github.com/huggingface/transformers/issues/31884\n",
            "  warnings.warn(\n"
          ]
        }
      ]
    },
    {
      "cell_type": "code",
      "source": [
        "# Generate embeddings for the case summaries\n",
        "case_summaries = cases_df['case_summary'].tolist()\n",
        "case_embeddings = model.encode(case_summaries, convert_to_tensor=True)"
      ],
      "metadata": {
        "id": "cAVeaFGvI2k4"
      },
      "execution_count": null,
      "outputs": []
    },
    {
      "cell_type": "code",
      "source": [
        "# Find similar cases based on the embeddings\n",
        "def find_similar_cases(case_id, top_n=5):\n",
        "    case_embedding = case_embeddings[case_id]\n",
        "\n",
        "    # Compute cosine similarity between the specified case and all other cases\n",
        "    similarities = util.pytorch_cos_sim(case_embedding, case_embeddings)[0]\n",
        "\n",
        "    # Get the top N similar cases (excluding the case itself)\n",
        "    similar_indices = similarities.argsort(descending=True)[1:top_n + 1]\n",
        "    similar_scores = similarities[similar_indices].tolist()\n",
        "\n",
        "    # Return the dataframe of similar cases and their similarity scores\n",
        "    similar_cases_df = cases_df.iloc[similar_indices].copy()  # Take a copy of the similar cases\n",
        "    similar_cases_df['similarity_score'] = similar_scores  # Add similarity scores to the dataframe\n",
        "    return similar_cases_df"
      ],
      "metadata": {
        "id": "4lxaTFwEHl8g"
      },
      "execution_count": null,
      "outputs": []
    },
    {
      "cell_type": "code",
      "source": [
        "# Example: Find similar cases for case ID 0\n",
        "case_id_to_examine = 0\n",
        "similar_cases = find_similar_cases(case_id_to_examine, top_n=5)\n",
        "\n",
        "# Print the original case ID and its details\n",
        "original_case = cases_df.iloc[case_id_to_examine]\n",
        "print(f\"Original Case ID: {case_id_to_examine}\")\n",
        "print(f\"Title: {original_case['case_title']}\")\n",
        "print(f\"Summary: {original_case['case_summary']}\")\n",
        "print(f\"Court Name: {original_case['court_name']}\")\n",
        "print(f\"Outcome: {original_case['outcome']}\\n\")"
      ],
      "metadata": {
        "colab": {
          "base_uri": "https://localhost:8080/"
        },
        "id": "Aa6s4c78Hp8i",
        "outputId": "234b3b1e-dadf-4c5e-fc02-f173fcfaee19"
      },
      "execution_count": null,
      "outputs": [
        {
          "output_type": "stream",
          "name": "stdout",
          "text": [
            "Original Case ID: 0\n",
            "Title: Deep free public.\n",
            "Summary: Such this city. Play game glass bed list style wall. However culture water turn one lawyer heavy. International usually seat government able be candidate. Us beat data very will writer.\n",
            "Court Name: U.S. Supreme Court\n",
            "Outcome: Dismissed\n",
            "\n"
          ]
        }
      ]
    },
    {
      "cell_type": "code",
      "source": [
        "# Print similar case details\n",
        "print(\"Similar Cases:\")\n",
        "print(similar_cases[['case_id', 'case_title', 'court_name', 'outcome', 'similarity_score']])"
      ],
      "metadata": {
        "colab": {
          "base_uri": "https://localhost:8080/"
        },
        "id": "Aou8HI84JQMJ",
        "outputId": "523584fd-14d4-4328-ce2e-d08871449935"
      },
      "execution_count": null,
      "outputs": [
        {
          "output_type": "stream",
          "name": "stdout",
          "text": [
            "Similar Cases:\n",
            "     case_id                                         case_title  \\\n",
            "11        12  Anyone call executive hope story lead a rock b...   \n",
            "734      735                            Drug happy drug recent.   \n",
            "299      300  Receive education defense sure spring our trip...   \n",
            "560      561                Idea bar federal like his Democrat.   \n",
            "829      830               Need season order any law executive.   \n",
            "\n",
            "                 court_name             outcome  similarity_score  \n",
            "11   New York Supreme Court            Affirmed          0.484185  \n",
            "734  Illinois Circuit Court            Remanded          0.469186  \n",
            "299  Florida District Court            Affirmed          0.468361  \n",
            "560  Texas Court of Appeals            Remanded          0.461358  \n",
            "829  Florida District Court  Injunction Granted          0.450582  \n"
          ]
        }
      ]
    },
    {
      "cell_type": "code",
      "source": [
        "# Plotting similarity scores\n",
        "plt.figure(figsize=(10, 5))\n",
        "plt.bar(range(len(similar_cases)), similar_cases['similarity_score'], color='skyblue')\n",
        "plt.xticks(range(len(similar_cases)), similar_cases['case_id'].values, rotation=45)\n",
        "plt.xlabel('Similar Case IDs')\n",
        "plt.ylabel('Cosine Similarity Score')\n",
        "plt.title('Similarity Scores for Similar Cases')\n",
        "plt.ylim(0, 1)  # Similarity scores range from 0 to 1\n",
        "plt.grid(axis='y')\n",
        "\n",
        "# Show the plot\n",
        "plt.tight_layout()\n",
        "plt.show()"
      ],
      "metadata": {
        "colab": {
          "base_uri": "https://localhost:8080/",
          "height": 483
        },
        "id": "kV1UbuAZHvLJ",
        "outputId": "18b61455-3e04-46a2-c7a7-425f8a8ba89e"
      },
      "execution_count": null,
      "outputs": [
        {
          "output_type": "display_data",
          "data": {
            "text/plain": [
              "<Figure size 1000x500 with 1 Axes>"
            ],
            "image/png": "[encoded data removed]"
          },
          "metadata": {}
        }
      ]
    },
    {
      "cell_type": "code",
      "source": [],
      "metadata": {
        "id": "FUJbXia8K2JX"
      },
      "execution_count": null,
      "outputs": []
    },
    {
      "cell_type": "markdown",
      "source": [
        "## Use Case 2: Document Similarity and Clustering\n",
        "Overview: This use case focuses on organizing legal documents based on their content through embedding and clustering techniques. By clustering similar documents, legal professionals can streamline document retrieval and enhance their document management processes.\n",
        "\n",
        "### Implementation:\n",
        "\n",
        "- **Embedding Legal Documents:** The text from legal documents is embedded using the same Sentence Transformer model. This allows the documents to be represented in a high-dimensional space, capturing their semantic relationships.\n",
        "\n",
        "- **Cosine Similarity Calculation:** Similar to case summaries, cosine similarity is calculated for all legal documents, establishing a basis for clustering.\n",
        "\n",
        "- **K-Means Clustering:** The K-Means algorithm is applied to group the document embeddings into clusters based on their similarities. Each cluster represents a distinct group of documents that share similar content.\n",
        "\n",
        "- **Visualization:** A t-SNE plot visualizes the document clusters in a two-dimensional space, making it easy to observe the distribution of documents across different clusters.\n",
        "\n",
        "- **Inspection of Clusters:** A function is provided to inspect documents within each cluster, enabling legal professionals to quickly identify key documents relevant to their cases or areas of interest.\n",
        "\n",
        "### Business Value:\n",
        "\n",
        "- **Enhanced Document Management:** Clustering facilitates easier organization and retrieval of legal documents, making it simpler for lawyers to find relevant materials.\n",
        "\n",
        "- **Improved Research Efficiency:** By categorizing documents into clusters, legal teams can more quickly access documents that pertain to specific legal issues or cases.\n",
        "\n",
        "- **Facilitated Knowledge Discovery:** The clustering approach may reveal connections between documents that were not immediately apparent, allowing for deeper insights and understanding of legal trends."
      ],
      "metadata": {
        "id": "4QPXwmJ0MDzs"
      }
    },
    {
      "cell_type": "code",
      "source": [
        "# Load the legal documents dataset\n",
        "df_legal_docs = pd.read_csv('legal_documents.csv')\n",
        "\n",
        "# Display the first few rows\n",
        "print(df_legal_docs.head())"
      ],
      "metadata": {
        "colab": {
          "base_uri": "https://localhost:8080/"
        },
        "id": "lq2H1HnKLIZh",
        "outputId": "0365bee4-e902-4de8-8800-f3c6a858b8b1"
      },
      "execution_count": null,
      "outputs": [
        {
          "output_type": "stream",
          "name": "stdout",
          "text": [
            "   doc_id                                               text\n",
            "0       1  In the case of Document 1, regarding Family La...\n",
            "1       2  In the case of Document 2, regarding Intellect...\n",
            "2       3  In the case of Document 3, regarding Intellect...\n",
            "3       4  In the case of Document 4, regarding Contract ...\n",
            "4       5  In the case of Document 5, regarding Tax Law, ...\n"
          ]
        }
      ]
    },
    {
      "cell_type": "code",
      "source": [
        "# Generate embeddings for all legal document texts\n",
        "legal_doc_embeddings = model.encode(df_legal_docs['text'].tolist(), convert_to_tensor=True)\n",
        "\n",
        "# Calculate cosine similarities between document embeddings\n",
        "cosine_similarities = cosine_similarity(legal_doc_embeddings.cpu().numpy())"
      ],
      "metadata": {
        "id": "ttk1TrRXLISX"
      },
      "execution_count": null,
      "outputs": []
    },
    {
      "cell_type": "code",
      "source": [
        "# Function to find similar documents given a document ID\n",
        "def find_similar_documents(doc_id, top_n=5):\n",
        "    similarities = cosine_similarities[doc_id]\n",
        "    similar_indices = similarities.argsort()[::-1][1:top_n+1]  # Skip the document itself\n",
        "    similar_docs = df_legal_docs.iloc[similar_indices]\n",
        "    similarity_scores = similarities[similar_indices]\n",
        "\n",
        "    return similar_docs, similarity_scores"
      ],
      "metadata": {
        "id": "nvmMpGqTLQGj"
      },
      "execution_count": null,
      "outputs": []
    },
    {
      "cell_type": "code",
      "source": [
        "# Example: Find similar documents for doc_id 24 (first document)\n",
        "doc_id_to_examine = 24\n",
        "similar_docs, similarity_scores = find_similar_documents(doc_id_to_examine)\n",
        "\n",
        "# Print details of the original document\n",
        "print(f\"Original Document ID: {df_legal_docs.iloc[doc_id_to_examine]['doc_id']}\")\n",
        "print(f\"Text: {df_legal_docs.iloc[doc_id_to_examine]['text']}\")"
      ],
      "metadata": {
        "colab": {
          "base_uri": "https://localhost:8080/"
        },
        "id": "CFQOHN_6LaGJ",
        "outputId": "6f0632d5-50ca-47e3-a025-db5ab6d96054"
      },
      "execution_count": null,
      "outputs": [
        {
          "output_type": "stream",
          "name": "stdout",
          "text": [
            "Original Document ID: 25\n",
            "Text: In the case of Document 25, regarding Contract Law, The defendant was found not guilty. This case highlights that Negligence must be proven.\n"
          ]
        }
      ]
    },
    {
      "cell_type": "code",
      "source": [
        "# Print the top 5 most similar documents\n",
        "print(\"\\nMost similar documents:\")\n",
        "\n",
        "for i, (index, row) in enumerate(similar_docs.iterrows()):\n",
        "    print(f\"\\nRank {i+1}:\")\n",
        "    print(f\"Document ID: {row['doc_id']}\")\n",
        "    print(f\"Text: {row['text'][:500]}...\")  # Printing only first 500 chars\n",
        "    print(f\"Similarity Score: {similarity_scores[i]}\")"
      ],
      "metadata": {
        "colab": {
          "base_uri": "https://localhost:8080/"
        },
        "id": "V6bdP_SrLW5J",
        "outputId": "278003a4-046e-4590-85d1-c06153f94f87"
      },
      "execution_count": null,
      "outputs": [
        {
          "output_type": "stream",
          "name": "stdout",
          "text": [
            "\n",
            "Most similar documents:\n",
            "\n",
            "Rank 1:\n",
            "Document ID: 2464\n",
            "Text: In the case of Document 2464, regarding Contract Law, The defendant was found not guilty. This case highlights that Negligence must be proven....\n",
            "Similarity Score: 0.903069257736206\n",
            "\n",
            "Rank 2:\n",
            "Document ID: 2787\n",
            "Text: In the case of Document 2787, regarding Contract Law, The defendant was found not guilty. This case highlights that Negligence must be proven....\n",
            "Similarity Score: 0.8994434475898743\n",
            "\n",
            "Rank 3:\n",
            "Document ID: 2390\n",
            "Text: In the case of Document 2390, regarding Contract Law, The defendant was found not guilty. This case highlights that Negligence must be proven....\n",
            "Similarity Score: 0.892030656337738\n",
            "\n",
            "Rank 4:\n",
            "Document ID: 495\n",
            "Text: In the case of Document 495, regarding Contract Law, The defendant was found not guilty. This case highlights that Negligence must be proven....\n",
            "Similarity Score: 0.8876841068267822\n",
            "\n",
            "Rank 5:\n",
            "Document ID: 4698\n",
            "Text: In the case of Document 4698, regarding Contract Law, The defendant was found not guilty. This case highlights that Negligence must be proven....\n",
            "Similarity Score: 0.8847129344940186\n"
          ]
        }
      ]
    },
    {
      "cell_type": "code",
      "source": [],
      "metadata": {
        "id": "XmVk89PpTvgZ"
      },
      "execution_count": null,
      "outputs": []
    },
    {
      "cell_type": "markdown",
      "source": [
        "### K-Means Clustering\n",
        "\n",
        "K-Means is an unsupervised machine learning algorithm used for partitioning data into distinct clusters based on their features. The algorithm aims to group data points into 𝐾 clusters by assigning each point to the cluster with the nearest mean (centroid).\n",
        "\n",
        "Key Points:\n",
        "\n",
        "- The algorithm begins with random centroids and iteratively updates them based on the mean of the assigned data points until convergence.\n",
        "- K-Means is efficient and works well with spherical clusters, but it requires the number of clusters\n",
        "- 𝐾 to be specified in advance, which can sometimes be challenging.\n",
        "It can help organize large datasets, making it easier to analyze and interpret data by grouping similar items together."
      ],
      "metadata": {
        "id": "mXxjn7ybT_-T"
      }
    },
    {
      "cell_type": "code",
      "source": [
        "# Perform K-Means clustering on the document embeddings\n",
        "\n",
        "num_clusters = 5  # Example: We want to create 5 clusters\n",
        "kmeans = KMeans(n_clusters=num_clusters, random_state=42)\n",
        "\n",
        "df_legal_docs['cluster'] = kmeans.fit_predict(legal_doc_embeddings.cpu().numpy())"
      ],
      "metadata": {
        "id": "i0_nFt7VNWCQ"
      },
      "execution_count": null,
      "outputs": []
    },
    {
      "cell_type": "markdown",
      "source": [
        "### t-SNE (t-Distributed Stochastic Neighbor Embedding)\n",
        "\n",
        "t-SNE is a dimensionality reduction technique that is particularly effective for visualizing high-dimensional data in two or three dimensions. It works by converting the similarities between data points into joint probabilities and then aims to minimize the divergence between these probabilities in the high-dimensional space and the low-dimensional space.\n",
        "\n",
        "Key Points:\n",
        "\n",
        "- t-SNE preserves the local structure of the data, making similar points in high-dimensional space appear closer together in the lower-dimensional representation.\n",
        "- It is especially useful for visualizing clusters and patterns in datasets, helping to identify relationships and structures that may not be apparent in the original high-dimensional data."
      ],
      "metadata": {
        "id": "vgidN6w7USVP"
      }
    },
    {
      "cell_type": "code",
      "source": [
        "# Visualize document clusters using t-SNE\n",
        "tsne = TSNE(n_components=2, random_state=42)\n",
        "doc_embeddings_2d = tsne.fit_transform(legal_doc_embeddings.cpu().numpy())"
      ],
      "metadata": {
        "id": "ZprWVUWdNV8j"
      },
      "execution_count": null,
      "outputs": []
    },
    {
      "cell_type": "code",
      "source": [
        "# Define a color palette for the clusters\n",
        "palette = sns.color_palette(\"Set2\", num_clusters)\n",
        "\n",
        "plt.figure(figsize=(10, 8))\n",
        "\n",
        "# Plot each cluster with its corresponding color\n",
        "for cluster in range(num_clusters):\n",
        "    cluster_points = doc_embeddings_2d[df_legal_docs['cluster'] == cluster]\n",
        "    plt.scatter(cluster_points[:, 0], cluster_points[:, 1], label=f'Cluster {cluster}', color=palette[cluster], s=50)\n",
        "\n",
        "# Add labels and title to the plot\n",
        "plt.title(\"Document Clustering using t-SNE\", fontsize=14)\n",
        "plt.xlabel(\"t-SNE Dimension 1\")\n",
        "plt.ylabel(\"t-SNE Dimension 2\")\n",
        "\n",
        "# Add a legend to map colors to clusters\n",
        "plt.legend(title=\"Clusters\")\n",
        "\n",
        "# Show the plot\n",
        "plt.show()"
      ],
      "metadata": {
        "colab": {
          "base_uri": "https://localhost:8080/"
        },
        "id": "F1XwamTwOW1t",
        "outputId": "2ad49f6f-3fc1-41a2-cc7d-01be160d421b"
      },
      "execution_count": null,
      "outputs": [
        {
          "output_type": "display_data",
          "data": {
            "text/plain": [
              "<Figure size 1000x800 with 1 Axes>"
            ],
            "image/png": "[encoded data removed]"
          },
          "metadata": {}
        }
      ]
    },
    {
      "cell_type": "code",
      "source": [
        "# Function to inspect documents within each cluster\n",
        "def inspect_clusters(df, num_clusters, num_examples=3):\n",
        "    for cluster in range(num_clusters):\n",
        "        print(f\"\\n--- Cluster {cluster} ---\")\n",
        "        cluster_docs = df[df['cluster'] == cluster][['doc_id', 'text']].head(num_examples)\n",
        "        for idx, row in cluster_docs.iterrows():\n",
        "            print(f\"Document ID: {row['doc_id']}\")\n",
        "            print(f\"Text: {row['text'][:500]}...\")  # Print first 500 characters for brevity\n",
        "            print(\"\\n\")\n",
        "\n",
        "# Inspect 3 documents from each cluster\n",
        "inspect_clusters(df_legal_docs, num_clusters, num_examples=3)"
      ],
      "metadata": {
        "colab": {
          "base_uri": "https://localhost:8080/"
        },
        "id": "9DtXQVEFNjTc",
        "outputId": "0a1445cb-de48-4f43-c8d2-6fc871dd5392"
      },
      "execution_count": null,
      "outputs": [
        {
          "output_type": "stream",
          "name": "stdout",
          "text": [
            "\n",
            "--- Cluster 0 ---\n",
            "Document ID: 2\n",
            "Text: In the case of Document 2, regarding Intellectual Property, The case was dismissed due to lack of evidence. This case highlights that Duty of care must be established....\n",
            "\n",
            "\n",
            "Document ID: 3\n",
            "Text: In the case of Document 3, regarding Intellectual Property, The ruling established a new precedent. This case highlights that Duty of care must be established....\n",
            "\n",
            "\n",
            "Document ID: 6\n",
            "Text: In the case of Document 6, regarding Corporate Law, The defendant was found not guilty. This case highlights that Duty of care must be established....\n",
            "\n",
            "\n",
            "\n",
            "--- Cluster 1 ---\n",
            "Document ID: 5\n",
            "Text: In the case of Document 5, regarding Tax Law, The defendant was found not guilty. This case highlights that The 'reasonable person' standard in tort cases....\n",
            "\n",
            "\n",
            "Document ID: 12\n",
            "Text: In the case of Document 12, regarding Tax Law, The parties reached a settlement before trial. This case highlights that The 'reasonable person' standard in tort cases....\n",
            "\n",
            "\n",
            "Document ID: 14\n",
            "Text: In the case of Document 14, regarding Labor Law, The ruling established a new precedent. This case highlights that The 'reasonable person' standard in tort cases....\n",
            "\n",
            "\n",
            "\n",
            "--- Cluster 2 ---\n",
            "Document ID: 11\n",
            "Text: In the case of Document 11, regarding Intellectual Property, The court ruled in favor of the plaintiff. This case highlights that Fair use of copyrighted material....\n",
            "\n",
            "\n",
            "Document ID: 17\n",
            "Text: In the case of Document 17, regarding Criminal Law, The parties reached a settlement before trial. This case highlights that Fair use of copyrighted material....\n",
            "\n",
            "\n",
            "Document ID: 18\n",
            "Text: In the case of Document 18, regarding Tax Law, The defendant was found not guilty. This case highlights that Fair use of copyrighted material....\n",
            "\n",
            "\n",
            "\n",
            "--- Cluster 3 ---\n",
            "Document ID: 4\n",
            "Text: In the case of Document 4, regarding Contract Law, The parties reached a settlement before trial. This case highlights that The principle of good faith and fair dealing....\n",
            "\n",
            "\n",
            "Document ID: 9\n",
            "Text: In the case of Document 9, regarding Contract Law, The defendant was found not guilty. This case highlights that The principle of good faith and fair dealing....\n",
            "\n",
            "\n",
            "Document ID: 15\n",
            "Text: In the case of Document 15, regarding Environmental Law, The case was dismissed due to lack of evidence. This case highlights that Negligence must be proven....\n",
            "\n",
            "\n",
            "\n",
            "--- Cluster 4 ---\n",
            "Document ID: 1\n",
            "Text: In the case of Document 1, regarding Family Law, The defendant was found not guilty. This case highlights that Intentional infliction of emotional distress....\n",
            "\n",
            "\n",
            "Document ID: 7\n",
            "Text: In the case of Document 7, regarding Tax Law, The parties reached a settlement before trial. This case highlights that Intentional infliction of emotional distress....\n",
            "\n",
            "\n",
            "Document ID: 8\n",
            "Text: In the case of Document 8, regarding Contract Law, The defendant was found not guilty. This case highlights that Intentional infliction of emotional distress....\n",
            "\n",
            "\n"
          ]
        }
      ]
    },
    {
      "cell_type": "code",
      "source": [],
      "metadata": {
        "id": "u1UpUqfoOCuk"
      },
      "execution_count": null,
      "outputs": []
    }
  ]
}