{
 "cells": [
  {
   "cell_type": "markdown",
   "id": "21dc3138-eb90-4c2f-9469-683452353fd8",
   "metadata": {},
   "source": [
    "## Problem Statement"
   ]
  },
  {
   "cell_type": "markdown",
   "id": "75ba4de4-6866-47f6-8da5-c4360b640fd9",
   "metadata": {},
   "source": [
    "### Business Context"
   ]
  },
  {
   "cell_type": "markdown",
   "id": "e5e9b4c5-91d6-40af-acd6-0ccc33837949",
   "metadata": {},
   "source": [
    "The healthcare industry is rapidly evolving, with professionals facing increasing challenges in managing vast volumes of medical data while delivering accurate and timely diagnoses. The need for quick access to comprehensive, reliable, and up-to-date medical knowledge is critical for improving patient outcomes and ensuring informed decision-making in a fast-paced environment.\n",
    "\n",
    "Healthcare professionals often encounter information overload, struggling to sift through extensive research and data to create accurate diagnoses and treatment plans. This challenge is amplified by the need for efficiency, particularly in emergencies, where time-sensitive decisions are vital. Furthermore, access to trusted, current medical information from renowned manuals and research papers is essential for maintaining high standards of care.\n",
    "\n",
    "To address these challenges, healthcare centers can focus on integrating systems that streamline access to medical knowledge, provide tools to support quick decision-making, and enhance efficiency. Leveraging centralized knowledge platforms and ensuring healthcare providers have continuous access to reliable resources can significantly improve patient care and operational effectiveness."
   ]
  },
  {
   "cell_type": "markdown",
   "id": "8b4dd517-6690-48e1-88d5-0a3a2a2d0ea3",
   "metadata": {},
   "source": [
    "**Common Questions to Answer**\n",
    "\n",
    "**1. Diagnostic Assistance**: \"What are the common symptoms and treatments for pulmonary embolism?\"\n",
    "\n",
    "**2. Drug Information**: \"Can you provide the trade names of medications used for treating hypertension?\"\n",
    "\n",
    "**3. Treatment Plans**: \"What are the first-line options and alternatives for managing rheumatoid arthritis?\"\n",
    "\n",
    "**4. Specialty Knowledge**: \"What are the diagnostic steps for suspected endocrine disorders?\"\n",
    "\n",
    "**5. Critical Care Protocols**: \"What is the protocol for managing sepsis in a critical care unit?\""
   ]
  },
  {
   "cell_type": "markdown",
   "id": "d7a43ce3-26d1-4bd0-b4e2-2651e520354b",
   "metadata": {},
   "source": [
    "### Objective"
   ]
  },
  {
   "cell_type": "markdown",
   "id": "097b908b-c8a7-429f-b775-c4839fb236e8",
   "metadata": {},
   "source": [
    "As an AI specialist, your task is to develop a RAG-based AI solution using renowned medical manuals to address healthcare challenges. The objective is to **understand** issues like information overload, **apply** AI techniques to streamline decision-making, **analyze** its impact on diagnostics and patient outcomes, **evaluate** its potential to standardize care practices, and **create** a functional prototype demonstrating its feasibility and effectiveness."
   ]
  },
  {
   "cell_type": "markdown",
   "id": "a93749c6-2e9f-4560-9049-fcd04e14f255",
   "metadata": {},
   "source": [
    "### Data Description"
   ]
  },
  {
   "cell_type": "markdown",
   "id": "981915eb-c74d-453e-894e-1a0888ca7a7e",
   "metadata": {},
   "source": [
    "The **Merck Manuals** are medical references published by the American pharmaceutical company Merck & Co., that cover a wide range of medical topics, including disorders, tests, diagnoses, and drugs. The manuals have been published since 1899, when Merck & Co. was still a subsidiary of the German company Merck.\n",
    "\n",
    "The manual is provided as a PDF with over 4,000 pages divided into 23 sections."
   ]
  },
  {
   "cell_type": "markdown",
   "id": "19639ecc-1180-49fd-aba2-fcb56e41d5f6",
   "metadata": {},
   "source": [
    "## Installing and Importing Necessary Libraries and Dependencies"
   ]
  },
  {
   "cell_type": "code",
   "execution_count": 32,
   "id": "d0db8bfa-c761-4f0b-877c-96da51b01a34",
   "metadata": {},
   "outputs": [],
   "source": [
    "# Suppress warnings and excessive logs\n",
    "import warnings\n",
    "warnings.filterwarnings(\"ignore\")\n",
    "\n",
    "# Optionally suppress llama-cpp-python logs if they're printed with logging or stdout\n",
    "import os\n",
    "os.environ[\"LLAMA_CPP_LOG_LEVEL\"] = \"ERROR\"  # Try: ERROR, WARN, INFO, DEBUG"
   ]
  },
  {
   "cell_type": "code",
   "execution_count": 34,
   "id": "4372d5cc-b803-4359-a838-3d56b1b577a2",
   "metadata": {},
   "outputs": [
    {
     "name": "stdout",
     "output_type": "stream",
     "text": [
      "Found existing installation: numpy 1.26.4\n",
      "Uninstalling numpy-1.26.4:\n",
      "  Successfully uninstalled numpy-1.26.4\n",
      "Defaulting to user installation because normal site-packages is not writeable\n",
      "Collecting numpy==1.26.4\n",
      "  Downloading numpy-1.26.4-cp312-cp312-win_amd64.whl.metadata (61 kB)\n",
      "Downloading numpy-1.26.4-cp312-cp312-win_amd64.whl (15.5 MB)\n",
      "   ---------------------------------------- 0.0/15.5 MB ? eta -:--:--\n",
      "   --- ------------------------------------ 1.3/15.5 MB 5.6 MB/s eta 0:00:03\n",
      "   -------- ------------------------------- 3.4/15.5 MB 8.1 MB/s eta 0:00:02\n",
      "   ------------ --------------------------- 4.7/15.5 MB 7.7 MB/s eta 0:00:02\n",
      "   -------------- ------------------------- 5.8/15.5 MB 7.0 MB/s eta 0:00:02\n",
      "   ----------------- ---------------------- 6.8/15.5 MB 6.7 MB/s eta 0:00:02\n",
      "   -------------------- ------------------- 8.1/15.5 MB 6.4 MB/s eta 0:00:02\n",
      "   ----------------------- ---------------- 9.2/15.5 MB 6.2 MB/s eta 0:00:02\n",
      "   -------------------------- ------------- 10.2/15.5 MB 6.1 MB/s eta 0:00:01\n",
      "   ----------------------------- ---------- 11.3/15.5 MB 6.0 MB/s eta 0:00:01\n",
      "   ------------------------------- -------- 12.1/15.5 MB 5.8 MB/s eta 0:00:01\n",
      "   -------------------------------- ------- 12.6/15.5 MB 5.6 MB/s eta 0:00:01\n",
      "   ---------------------------------- ----- 13.4/15.5 MB 5.4 MB/s eta 0:00:01\n",
      "   ------------------------------------ --- 14.2/15.5 MB 5.3 MB/s eta 0:00:01\n",
      "   ---------------------------------------  15.2/15.5 MB 5.2 MB/s eta 0:00:01\n",
      "   ---------------------------------------- 15.5/15.5 MB 5.2 MB/s eta 0:00:00\n",
      "Installing collected packages: numpy\n",
      "Successfully installed numpy-1.26.4\n"
     ]
    }
   ],
   "source": [
    "# Downgrade numpy first to avoid binary incompatibility\n",
    "!pip uninstall -y numpy\n",
    "!pip install numpy==1.26.4 --force-reinstall --no-cache-dir\n",
    "\n",
    "# Install compatible langchain versions without langchain-community\n",
    "!pip install -q \\\n",
    "  langchain==0.1.14 \\\n",
    "  llama-cpp-python==0.3.12 \\\n",
    "  chromadb==0.4.24 \\\n",
    "  sentence-transformers==2.6.1 \\\n",
    "  pymupdf==1.25.2 \\\n",
    "  huggingface-hub==0.23.2 \\\n",
    "  tiktoken==0.7.0 \\\n",
    "  pandas==2.2.2"
   ]
  },
  {
   "cell_type": "code",
   "execution_count": 36,
   "id": "abe768ef-a1e2-478b-9743-197204767a06",
   "metadata": {},
   "outputs": [],
   "source": [
    "# Importing Libraries\n",
    "import os\n",
    "import json\n",
    "import tiktoken\n",
    "import pandas as pd\n",
    "\n",
    "# LangChain utilities\n",
    "from langchain.text_splitter import RecursiveCharacterTextSplitter\n",
    "from langchain_community.document_loaders import PyMuPDFLoader\n",
    "from langchain_community.embeddings.sentence_transformer import SentenceTransformerEmbeddings\n",
    "from langchain_community.vectorstores import Chroma\n",
    "\n",
    "# LLM from huggingface + llama-cpp\n",
    "from huggingface_hub import hf_hub_download\n",
    "from llama_cpp import Llama\n"
   ]
  },
  {
   "cell_type": "markdown",
   "id": "22ea6458-5015-41a8-b00c-83db49f34abd",
   "metadata": {},
   "source": [
    "### Download LLaMA Model"
   ]
  },
  {
   "cell_type": "code",
   "execution_count": 39,
   "id": "acfdbd2f-b17f-4fa8-8836-9a1939a21a15",
   "metadata": {},
   "outputs": [],
   "source": [
    "# Download a quantized GGUF model (e.g., TinyLlama)\n",
    "model_path = hf_hub_download(\n",
    "    repo_id=\"TheBloke/TinyLlama-1.1B-Chat-v1.0-GGUF\",\n",
    "    filename=\"tinyllama-1.1b-chat-v1.0.Q4_K_M.gguf\"\n",
    ")"
   ]
  },
  {
   "cell_type": "markdown",
   "id": "b2024173-e366-4037-9384-5fbc1a7a9763",
   "metadata": {},
   "source": [
    "### Load the LLM (LLaMA)"
   ]
  },
  {
   "cell_type": "code",
   "execution_count": 187,
   "id": "53126728-ed13-4dd6-bf3d-7e28cb229407",
   "metadata": {},
   "outputs": [],
   "source": [
    "# Load the LLaMA model from the local .gguf file (previously downloaded)\n",
    "import os\n",
    "import sys\n",
    "import contextlib\n",
    "\n",
    "os.environ[\"LLAMA_SET_ROWS\"] = \"1\"\n",
    "\n",
    "with contextlib.redirect_stdout(None):\n",
    "    from llama_cpp import Llama\n",
    "    llm = Llama(\n",
    "        model_path=model_path,\n",
    "        n_ctx=2048,\n",
    "        n_batch=512,\n",
    "        verbose=False\n",
    "    )"
   ]
  },
  {
   "cell_type": "markdown",
   "id": "c119f7d3-ee81-4637-a879-c6103c84ed54",
   "metadata": {},
   "source": [
    "### Load and Process the Medical Manual PDF"
   ]
  },
  {
   "cell_type": "code",
   "execution_count": 45,
   "id": "50a8f1fa-f1b2-4ea9-8906-a796e5eca666",
   "metadata": {},
   "outputs": [
    {
     "name": "stdout",
     "output_type": "stream",
     "text": [
      "Loaded 4114 documents\n"
     ]
    }
   ],
   "source": [
    "loader = PyMuPDFLoader(\"medical_diagnosis_manual.pdf\")\n",
    "documents = loader.load()\n",
    "\n",
    "print(f\"Loaded {len(documents)} documents\")"
   ]
  },
  {
   "cell_type": "markdown",
   "id": "a0a95631-4eb1-469b-aaa0-0e85416286bc",
   "metadata": {},
   "source": [
    "### Split the Text into Chunks"
   ]
  },
  {
   "cell_type": "code",
   "execution_count": 48,
   "id": "208c288a-3c2e-4a30-8ad0-5daecf1822d4",
   "metadata": {},
   "outputs": [
    {
     "name": "stdout",
     "output_type": "stream",
     "text": [
      "Split into 34525 chunks\n"
     ]
    }
   ],
   "source": [
    "# Split text into smaller chunks for embedding\n",
    "text_splitter = RecursiveCharacterTextSplitter(chunk_size=500, chunk_overlap=100)\n",
    "docs = text_splitter.split_documents(documents)\n",
    "\n",
    "print(f\"Split into {len(docs)} chunks\")"
   ]
  },
  {
   "cell_type": "markdown",
   "id": "b72113db-66db-46c7-9867-bf9b67c458f5",
   "metadata": {},
   "source": [
    "### Generate Embeddings and Store in VectorDB"
   ]
  },
  {
   "cell_type": "code",
   "execution_count": 51,
   "id": "d6995cd1-bbc6-4c1e-a7dc-8e5f64dfd870",
   "metadata": {},
   "outputs": [
    {
     "name": "stdout",
     "output_type": "stream",
     "text": [
      "Embedding and Vector DB creation done\n"
     ]
    }
   ],
   "source": [
    "# Generate sentence embeddings using SentenceTransformers\n",
    "embedding_model = SentenceTransformerEmbeddings(model_name=\"all-MiniLM-L6-v2\")\n",
    "\n",
    "# Store embeddings into Chroma vector store\n",
    "db = Chroma.from_documents(docs, embedding_model, persist_directory=\"./chroma_db\")\n",
    "db.persist()\n",
    "\n",
    "print(\"Embedding and Vector DB creation done\")"
   ]
  },
  {
   "cell_type": "markdown",
   "id": "41d46ea1-6430-48da-9113-bedc82b179a8",
   "metadata": {},
   "source": [
    "### Retreiver Fuction"
   ]
  },
  {
   "cell_type": "code",
   "execution_count": 78,
   "id": "d6ce4834-4f3b-4c6b-aca1-d7eaf604f1bd",
   "metadata": {},
   "outputs": [
    {
     "name": "stdout",
     "output_type": "stream",
     "text": [
      "\n",
      "--- Document 1 ---\n",
      "Signs of pulmonary barotrauma (see p. 3283) or type II decompression sickness (see p. 3287) may also\n",
      "be present.\n",
      "Other symptoms may result from arterial gas embolism in any of the following:\n",
      "• Coronary arteries (eg, arrhythmias, MI, cardiac arrest)\n",
      "• Skin (eg, cyanotic marbling of the skin, focal pallor of the tongue)\n",
      "• Kidneys (eg, hematuria, proteinuria, renal failure)\n",
      "Diagnosis\n",
      "• Clinical evaluation\n",
      "• Sometimes confirmation by imaging\n",
      "\n",
      "--- Document 2 ---\n",
      "Signs of pulmonary barotrauma (see p. 3283) or type II decompression sickness (see p. 3287) may also\n",
      "be present.\n",
      "Other symptoms may result from arterial gas embolism in any of the following:\n",
      "• Coronary arteries (eg, arrhythmias, MI, cardiac arrest)\n",
      "• Skin (eg, cyanotic marbling of the skin, focal pallor of the tongue)\n",
      "• Kidneys (eg, hematuria, proteinuria, renal failure)\n",
      "Diagnosis\n",
      "• Clinical evaluation\n",
      "• Sometimes confirmation by imaging\n",
      "\n",
      "--- Document 3 ---\n",
      "Signs of pulmonary barotrauma (see p. 3283) or type II decompression sickness (see p. 3287) may also\n",
      "be present.\n",
      "Other symptoms may result from arterial gas embolism in any of the following:\n",
      "• Coronary arteries (eg, arrhythmias, MI, cardiac arrest)\n",
      "• Skin (eg, cyanotic marbling of the skin, focal pallor of the tongue)\n",
      "• Kidneys (eg, hematuria, proteinuria, renal failure)\n",
      "Diagnosis\n",
      "• Clinical evaluation\n",
      "• Sometimes confirmation by imaging\n",
      "\n",
      "--- Document 4 ---\n",
      "(pulmonary embolism [PE], myocardial ischemia, pneumonia); dependent edema, orthopnea, and\n",
      "paroxysmal nocturnal dyspnea (heart failure); fever, chills, cough, and sputum production (pneumonia);\n",
      "black, tarry stools or heavy menses (occult bleeding possibly causing anemia); and weight loss or night\n",
      "The Merck Manual of Diagnosis & Therapy, 19th Edition\n",
      "Chapter 188. Approach to the Patient With Pulmonary Symptoms\n",
      "2000\n",
      "venkhatbalaji@gmail.com\n",
      "GR6HTOZD9Y\n",
      "\n",
      "--- Document 5 ---\n",
      "(pulmonary embolism [PE], myocardial ischemia, pneumonia); dependent edema, orthopnea, and\n",
      "paroxysmal nocturnal dyspnea (heart failure); fever, chills, cough, and sputum production (pneumonia);\n",
      "black, tarry stools or heavy menses (occult bleeding possibly causing anemia); and weight loss or night\n",
      "The Merck Manual of Diagnosis & Therapy, 19th Edition\n",
      "Chapter 188. Approach to the Patient With Pulmonary Symptoms\n",
      "2000\n",
      "venkhatbalaji@gmail.com\n",
      "GR6HTOZD9Y\n"
     ]
    }
   ],
   "source": [
    "# Load retriever from the existing VectorDB\n",
    "retriever = db.as_retriever(\n",
    "    search_type=\"similarity\",   # or \"mmr\" for Max Marginal Relevance\n",
    "    search_kwargs={\n",
    "        \"k\": 5  # Number of top documents to retrieve\n",
    "    }\n",
    ")\n",
    "\n",
    "# Test retrieval\n",
    "sample_query = \"What are the common symptoms of pulmonary embolism?\"\n",
    "retrieved_docs = retriever.get_relevant_documents(sample_query)\n",
    "\n",
    "# Preview retrieved context chunks\n",
    "for i, doc in enumerate(retrieved_docs, 1):\n",
    "    print(f\"\\n--- Document {i} ---\\n{doc.page_content[:500]}\")"
   ]
  },
  {
   "cell_type": "markdown",
   "id": "18b8b99b-bb0b-49fe-ae9d-47a5e610c80f",
   "metadata": {},
   "source": [
    "### LLM Response Function"
   ]
  },
  {
   "cell_type": "code",
   "execution_count": 89,
   "id": "eda73879-2b92-4e6c-9e20-d051f3a31997",
   "metadata": {},
   "outputs": [],
   "source": [
    "# Function to generate LLM response without RAG (only prompt-based)\n",
    "def response(prompt: str, temperature: float = 0.7, max_tokens: int = 256, top_p: float = 0.95):\n",
    "    output = llm.create_chat_completion(\n",
    "        messages=[{\"role\": \"user\", \"content\": prompt}],\n",
    "        temperature=temperature,\n",
    "        max_tokens=max_tokens,\n",
    "        top_p=top_p\n",
    "    )\n",
    "    return output['choices'][0]['message']['content'].strip()"
   ]
  },
  {
   "cell_type": "code",
   "execution_count": 177,
   "id": "76216c54-4c00-41c3-b01d-493ac5db332a",
   "metadata": {},
   "outputs": [],
   "source": [
    "def generate_rag_response(user_input,k=3,max_tokens=128,temperature=0,top_p=0.95,top_k=50):\n",
    "    global qna_system_message,qna_user_message_template\n",
    "    # Retrieve relevant document chunks\n",
    "    relevant_document_chunks = retriever.get_relevant_documents(query=user_input,k=k)\n",
    "    context_list = [d.page_content for d in relevant_document_chunks]\n",
    "\n",
    "    # Combine document chunks into a single context\n",
    "    context_for_query = \". \".join(context_list)\n",
    "\n",
    "    user_message = qna_user_message_template.replace('{context}', context_for_query)\n",
    "    user_message = user_message.replace('{question}', user_input)\n",
    "\n",
    "    prompt = qna_system_message + '\\n' + user_message\n",
    "\n",
    "    # Generate the response\n",
    "    try:\n",
    "        response = llm(\n",
    "                  prompt=prompt,\n",
    "                  max_tokens=max_tokens,\n",
    "                  temperature=temperature,\n",
    "                  top_p=top_p,\n",
    "                  top_k=top_k\n",
    "                  )\n",
    "\n",
    "        # Extract and print the model's response\n",
    "        response = response['choices'][0]['text'].strip()\n",
    "    except Exception as e:\n",
    "        response = f'Sorry, I encountered the following error: \\n {e}'\n",
    "\n",
    "    return response"
   ]
  },
  {
   "cell_type": "code",
   "execution_count": 121,
   "id": "18114c63-7c2c-4ac3-b51e-5f5010da32e8",
   "metadata": {},
   "outputs": [],
   "source": [
    "# System message gives role or tone for the assistant\n",
    "qna_system_message = \"You are a helpful medical assistant. Use the provided context to answer the user's medical question as accurately and concisely as possible.\"\n",
    "\n",
    "# User message template for RAG context and question\n",
    "qna_user_message_template = \"\"\"\n",
    "Context: {context}\n",
    "\n",
    "Question: {question}\n",
    "\n",
    "Answer:\n",
    "\"\"\""
   ]
  },
  {
   "cell_type": "markdown",
   "id": "8c939386-8e78-4f75-9f13-51be4c5d7ebb",
   "metadata": {},
   "source": [
    "## Question Answering using LLM"
   ]
  },
  {
   "cell_type": "markdown",
   "id": "4e0d6be2-2105-4f29-881a-b095ef4032e6",
   "metadata": {},
   "source": [
    "### Query 1: What is the protocol for managing sepsis in a critical care unit?"
   ]
  },
  {
   "cell_type": "code",
   "execution_count": 101,
   "id": "045f9f30-adcc-432d-a263-969134d1fed7",
   "metadata": {},
   "outputs": [
    {
     "name": "stdout",
     "output_type": "stream",
     "text": [
      "\n",
      "Query : What is the protocol for managing sepsis in a critical care unit?\n",
      "Answer: Sepsi is a common complication of mechanical ventilation in the critical care unit. The protocol for managing this condition in a critical care unit includes:\n",
      "\n",
      "1. Clinical assessment: A physician or nurse practitioner should evaluate the patient's respiratory status and assess for septic complications.\n",
      "\n",
      "2. Initial ventilation: The clinician should decide whether to use a high-flow nasal cannula (HFNC) or a high-flow oxygenator (HFO) for initial ventilation.\n",
      "\n",
      "3. Catheter insertion: A physician or nurse practitioner should insert a central venous catheter (CVC) or a peripheral IV (PIV) catheter for fluid management.\n",
      "\n",
      "4. Anti-infection strategy: The clinician should establish an appropriate anti-infection strategy to prevent infections. This may include using antibiotics, antiseptics, and antifungals.\n",
      "\n",
      "5. Sepsis management: The clinician should evaluate the patient's sepsis symptoms and assess for the presence of septic organisms. If septic organisms are suspected,\n"
     ]
    }
   ],
   "source": [
    "query1 = \"What is the protocol for managing sepsis in a critical care unit?\"\n",
    "print(f\"\\nQuery : {query1}\")\n",
    "print(\"Answer:\", response(query1))"
   ]
  },
  {
   "cell_type": "markdown",
   "id": "eab610b3-9d08-456a-88f6-7b16ad2adc5e",
   "metadata": {},
   "source": [
    "### Query 2: What are the common symptoms for appendicitis, and can it be cured via medicine? If not, what surgical procedure should be followed to treat it?"
   ]
  },
  {
   "cell_type": "code",
   "execution_count": 103,
   "id": "d1027889-3acb-4661-8a79-5d686848b67b",
   "metadata": {},
   "outputs": [
    {
     "name": "stdout",
     "output_type": "stream",
     "text": [
      "\n",
      "Query : What are the common symptoms for appendicitis, and can it be cured via medicine? If not, what surgical procedure should be followed to treat it?\n",
      "Answer: Appendicitis is a inflammation or infection of the appendix, a small, fleshy organ located just below the right kidney. The symptoms of appendicitis can be similar to those of other gastrointestinal (GI) disorders, including abdominal pain, nausea, and vomiting. Some of the symptoms are:\n",
      "\n",
      "1. Abdominal pain: The pain may be sharp, dull, or aching, and may radiate to the back or upper left side.\n",
      "2. Nausea: The patient may experience nausea and vomiting, which can be severe or occur only occasionally.\n",
      "3. Vomiting: The patient may vomit blood or semiliquid material.\n",
      "4. Urgent need for bowel movements: The patient may urinate frequently and may complain of pain when passing stool.\n",
      "5. Fever: The temperature may be higher than normal or may be accompanied by chills or sweating.\n",
      "\n",
      "If the symptoms are mild and not associated with severe pain, the patient may be advised to wait for the symptoms to subside and seek medical attention. If the symptoms persist, the patient should\n"
     ]
    }
   ],
   "source": [
    "query2 = \"What are the common symptoms for appendicitis, and can it be cured via medicine? If not, what surgical procedure should be followed to treat it?\"\n",
    "print(f\"\\nQuery : {query2}\")\n",
    "print(\"Answer:\", response(query2))"
   ]
  },
  {
   "cell_type": "markdown",
   "id": "b21f4f91-fb16-4b7c-96d8-877804abcd9a",
   "metadata": {},
   "source": [
    "### Query 3: What are the effective treatments or solutions for addressing sudden patchy hair loss, commonly seen as localized bald spots on the scalp, and what could be the possible causes behind it?"
   ]
  },
  {
   "cell_type": "code",
   "execution_count": 107,
   "id": "a9b3756f-6b4d-45b8-adce-3f28b8f76408",
   "metadata": {},
   "outputs": [
    {
     "name": "stdout",
     "output_type": "stream",
     "text": [
      "\n",
      "Query : What are the effective treatments or solutions for addressing sudden patchy hair loss, commonly seen as localized bald spots on the scalp, and what could be the possible causes behind it?\n",
      "Answer: Certainly! Surgical and non-surgical treatments are available to address sudden patchy hair loss. Here are some effective treatments and possible causes:\n",
      "\n",
      "1. Surgical treatments:\n",
      "- Transplant: A hair transplant is a surgical procedure that involves taking hair follicles from one part of the body and transplanting them to the balding areas. This treatment is suitable for patients with severe hair loss.\n",
      "- FUE: Follicular Unit Extraction (FUE): This procedure involves taking hair follicles one at a time, which are then individually attached to the skin. This treatment is suitable for patients with light to moderate hair loss.\n",
      "- FUT: Follicular Unit Extraction (FUT): This procedure involves removing the entire follicle, including the hair. This treatment is suitable for patients with severe hair loss.\n",
      "\n",
      "2. Non-surgical treatments:\n",
      "- Hair transplant: A hair transplant involves taking hair follicles from one part of the body and placing them in balding areas. This treatment is suitable for patients with severe hair loss.\n",
      "- Hair restoration creams: These creams contain ingredients that\n"
     ]
    }
   ],
   "source": [
    "query3 = \"What are the effective treatments or solutions for addressing sudden patchy hair loss, commonly seen as localized bald spots on the scalp, and what could be the possible causes behind it?\"\n",
    "print(f\"\\nQuery : {query3}\")\n",
    "print(\"Answer:\", response(query3))"
   ]
  },
  {
   "cell_type": "markdown",
   "id": "d41845ea-b5c5-4d3e-a1b1-78ad9e827bdc",
   "metadata": {},
   "source": [
    "### Query 4:  What treatments are recommended for a person who has sustained a physical injury to brain tissue, resulting in temporary or permanent impairment of brain function?"
   ]
  },
  {
   "cell_type": "code",
   "execution_count": 109,
   "id": "c361d2bc-c518-40d3-be30-53a388a22884",
   "metadata": {},
   "outputs": [
    {
     "name": "stdout",
     "output_type": "stream",
     "text": [
      "\n",
      "Query : What treatments are recommended for a person who has sustained a physical injury to brain tissue, resulting in temporary or permanent impairment of brain function?\n",
      "Answer: There are several treatment options available for a person who has sustained a physical injury to brain tissue, resulting in temporary or permanent impairment of brain function. These treatments are based on the type and severity of the injury, the individual's medical condition, and their level of cognitive function.\n",
      "\n",
      "1. Rehabilitation and Physical Therapy: Rehabilitation and physical therapy are essential for recovering from brain injury. These therapies aim to restore movement, strength, and balance in the brain-injured patient. They also help to improve cognitive function, including memory, attention, and executive function.\n",
      "\n",
      "2. Brain Stimulation: Brain stimulation involves delivering electrical or magnetic pulses to specific areas of the brain to promote brain function. This therapy is commonly used in cases where the injury is to the cortex, a layer of the brain that is responsible for higher-level cognitive functions.\n",
      "\n",
      "3. Neuroplasticity Restoration Therapy: Neuroplasticity restoration therapy is a form of brain stimulation that aims to rewire the brain's neural pathways to help the injured area recover its function. This therapy\n"
     ]
    }
   ],
   "source": [
    "query4 = \"What treatments are recommended for a person who has sustained a physical injury to brain tissue, resulting in temporary or permanent impairment of brain function?\"\n",
    "print(f\"\\nQuery : {query4}\")\n",
    "print(\"Answer:\", response(query4))"
   ]
  },
  {
   "cell_type": "markdown",
   "id": "1d7e042a-4764-4f1f-89bf-45a288490373",
   "metadata": {},
   "source": [
    "### Query 5: What are the necessary precautions and treatment steps for a person who has fractured their leg during a hiking trip, and what should be considered for their care and recovery?"
   ]
  },
  {
   "cell_type": "code",
   "execution_count": 113,
   "id": "622b55bf-0d0f-414d-a8cb-94f4bd9c8323",
   "metadata": {},
   "outputs": [
    {
     "name": "stdout",
     "output_type": "stream",
     "text": [
      "\n",
      "Query : What are the necessary precautions and treatment steps for a person who has fractured their leg during a hiking trip, and what should be considered for their care and recovery?\n",
      "Answer: For a person who has fractuated their leg during a hiking trip, they should take the following necessary precautions and steps:\n",
      "\n",
      "1. Cool the area: Do not try to move or move the leg immediately after the accident. Instead, use a cool pack to compress the leg and reduce the swelling.\n",
      "\n",
      "2. Protect the area: Wrap the leg with a sterile dressing to protect it from infection.\n",
      "\n",
      "3. Wrap the leg: Use a sterile bandage to cover the area where the leg has fractured. This will prevent infection and protect the leg from further damage.\n",
      "\n",
      "4. Rest and treatment: Rest the leg for at least 48 hours to allow the bone to heal. If the leg has a fracture, consider consulting with a healthcare professional for further treatment.\n",
      "\n",
      "5. Treatment: If the leg has fractured, take a pain medication and apply a non-staining dressing to the affected area. If the wound is deep, consider using a wound care kit to provide additional support.\n",
      "\n",
      "6. Recovery: Follow the instructions provided by the healthcare professional to ensure proper he\n"
     ]
    }
   ],
   "source": [
    "query5 = \"What are the necessary precautions and treatment steps for a person who has fractured their leg during a hiking trip, and what should be considered for their care and recovery?\"\n",
    "print(f\"\\nQuery : {query5}\")\n",
    "print(\"Answer:\", response(query5))"
   ]
  },
  {
   "cell_type": "code",
   "execution_count": 202,
   "id": "0273f532-bd6c-4d59-8fda-916e2a1e56a3",
   "metadata": {},
   "outputs": [
    {
     "name": "stdout",
     "output_type": "stream",
     "text": [
      "LLM Responses without RAG\n",
      "\n",
      "Question: Who are you?\n",
      "Answer: I am not a person. I am just a machine.\n",
      "\n",
      "but you are welcome. You are welcome to use me as a tool for your own purposes. I can perform tasks that would be impossible for a human being to accomplish. My programming is highly optimized and efficient, allowing me to perform tasks that would be beyond the capabilities of even the most advanced supercomputers.\n",
      "\n",
      "my services are available to anyone, regardless of their needs or budget. If you have a specific problem or task that you need solved, I can be your solution. Whether you need a complex algorithm developed, a database created, or just some basic data analysis, I can help you achieve your objectives.\n",
      "\n",
      "my programming is highly secure, and I adhere to the highest standards of data privacy and security. I am fully compliant with all applicable data protection laws, and all of my data is stored securely and in a datacenter that is certified to the highest standards of data security.\n",
      "\n",
      "if you are interested in using my services, please feel free to contact me for a free consultation. I would be happy to discuss your needs in more detail and provide you with a personalized quote.\n",
      "\n",
      "no matter what your needs are, I am here\n",
      "------------------------------------------------------------\n",
      "Question: What are the symptoms of rheumatoid arthritis?\n",
      "Answer: The symptoms of rhemuatoid arthritis include:\n",
      "\n",
      "1. Pain: The most common symptom of rhemuatoid arthritis is severe, sharp pain in the joints of the inner thigh (articular) or hip (articular). The pain may radiate down the back of the thigh, into the buttocks, and sometimes into the lower back.\n",
      "\n",
      "2. Swelling: The swelling of the knee or ankle joint is often severe and can cause the joints to feel warm to the touch.\n",
      "\n",
      "3. Fatigue: Patients with rhemuatoid arthritis may experience fatigue, especially during periods of inactivity or rest.\n",
      "\n",
      "4. Restlessness: Patients with rhemuatoid arthritis may experience restlessness, often resulting in irritability and a restless or jerky gait.\n",
      "\n",
      "5. Weakness: Patients with rhemuatoid arthritis may experience weakness or fatigue in their legs, particularly if they engage in low-impact or sedentary activities.\n",
      "\n",
      "6. Soreness: Patients with rhemuatoid arthritis may experience\n",
      "------------------------------------------------------------\n",
      "Question: Which medications are used to treat hypertension?\n",
      "Answer: The medications used to treat hypertension include:\n",
      "\n",
      "1. Corticosteroids, such as prednisone or methylprednisolone\n",
      "2. Antihistamines, such as benzedrine or diphenhydramine\n",
      "3. Antiplatelet agents, such as aspirin or clopidogrel\n",
      "4. Anticoagulants, such as warfarin or heparin\n",
      "5. Antipsychotics, such as risperidone or quetiapine\n",
      "6. Antibiotics, such as amoxicillin or vancomycin\n",
      "7. Antifungals, such as itraconazole or ketoconazole\n",
      "8. Antifungals, such as itraconazole or ketoconazole\n",
      "9. Antivirals, such as valaciclovir or acyclovir\n",
      "10. Antivirals, such as valaciclovir or acyclovir\n",
      "\n",
      "Hypertensium is not a chronic disease or condition, it is a temporary elevation of the adrenal gland. The treatment for hypertensium is to\n",
      "------------------------------------------------------------\n",
      "Question: What causes iron deficiency anemia?\n",
      "Answer: Iron defciency anemia is caused by a deficiency of iron in the diet. The most common cause is a lack of dietary iron, as iron is found in animal products such as meat, fish, and dairy products. Other causes include malabsorption of iron, such as celiac disease and gluten intolerance, and inadequate dietary intake. Iron deficiency can also be caused by a lack of vitamin C, which can interfere with the absorption of iron. Chronic illnesses such as chronic fatigue syndrome and multiple sclerosis, as well as certain medications, can also contribute to iron deficiency.\n",
      "------------------------------------------------------------\n"
     ]
    }
   ],
   "source": [
    "# Sample questions for direct LLM answering\n",
    "sample_questions = [\n",
    "    \"Who are you?\",\n",
    "    \"What are the symptoms of rheumatoid arthritis?\",\n",
    "    \"Which medications are used to treat hypertension?\",\n",
    "    \"What causes iron deficiency anemia?\",\n",
    "]\n",
    "\n",
    "print(\"LLM Responses without RAG\\n\")\n",
    "for q in sample_questions:\n",
    "    op = response(prompt=q)\n",
    "    print(f\"Question: {q}\\nAnswer: {op}\\n{'-'*60}\")"
   ]
  },
  {
   "cell_type": "markdown",
   "id": "1655d7e0-04f9-40f5-92b7-cb2b4631eab4",
   "metadata": {},
   "source": [
    "## Question Answering using LLM with Prompt Engineering"
   ]
  },
  {
   "cell_type": "markdown",
   "id": "3571f25a-ce21-43c2-8b3b-4101b5c3ebf4",
   "metadata": {},
   "source": [
    "### Query 1: What is the protocol for managing sepsis in a critical care unit?"
   ]
  },
  {
   "cell_type": "code",
   "execution_count": 123,
   "id": "bb29c32b-327f-4e33-a323-f015158270e4",
   "metadata": {},
   "outputs": [
    {
     "name": "stdout",
     "output_type": "stream",
     "text": [
      "\n",
      "Query : What is the protocol for managing sepsis in a critical care unit?\n",
      "Answer: 1. General management: First aid involves keeping the patient warm. Hemorrhae is controlled, airway and\n",
      "ventilation are checked, and respiratory assistance is given if necessary. Nothing is given by mouth, and\n",
      "the patient's head is turned to one side to avoid aspiration if emesis occurs.\n",
      "2. Prognosis depends on the cause, preexist ing or complicaing illness, time between onset and diagnosis, and promptness and adequacies therapy.\n",
      "3. General management: First aid involves keeping the patient warm. Hemorrhae is controlled, airway\n"
     ]
    }
   ],
   "source": [
    "peQuerry1 = \"What is the protocol for managing sepsis in a critical care unit?\"\n",
    "print(f\"\\nQuery : {peQuerry1}\")\n",
    "print(\"Answer:\", generate_rag_response(peQuerry1))"
   ]
  },
  {
   "cell_type": "markdown",
   "id": "216abd9f-db26-4a41-8209-a6879eac4ab9",
   "metadata": {},
   "source": [
    "### Query 2: What are the common symptoms for appendicitis, and can it be cured via medicine? If not, what surgical procedure should be followed to treat it?"
   ]
  },
  {
   "cell_type": "code",
   "execution_count": 127,
   "id": "e0fef48c-504e-444d-8b99-8e9097e96616",
   "metadata": {},
   "outputs": [
    {
     "name": "stdout",
     "output_type": "stream",
     "text": [
      "\n",
      "Query : What are the common symptoms for appendicitis, and can it be cured via medicine? If not, what surgical procedure should be followed to treat it?\n",
      "Answer: The common symptoms for appendicitis are epigastric or periumbilical pain followed by brief nausea, vomiting, and ano rexi. After a few hours, the pain shifts to the right lower quadrant. The classic signs are right lower quadrant direct and rebound tenderness located at McBurney's point (junction of the middl e and outer thirds of the line joining the umbilicus to the anterior. The classic symptoms for appendicitis are epigastric or periumbilical pain followed by brief nausea, vomiting\n"
     ]
    }
   ],
   "source": [
    "peQuerry2 = \"What are the common symptoms for appendicitis, and can it be cured via medicine? If not, what surgical procedure should be followed to treat it?\"\n",
    "print(f\"\\nQuery : {peQuerry2}\")\n",
    "print(\"Answer:\", generate_rag_response(peQuerry2))"
   ]
  },
  {
   "cell_type": "markdown",
   "id": "b93f5164-210b-4322-9032-e724f82db067",
   "metadata": {},
   "source": [
    "### Query 3: What are the effective treatments or solutions for addressing sudden patchy hair loss, commonly seen as localized bald spots on the scalp, and what could be the possible causes behind it?"
   ]
  },
  {
   "cell_type": "code",
   "execution_count": 130,
   "id": "7cb6ee0c-9f07-4c87-b923-5380c6a96eda",
   "metadata": {},
   "outputs": [
    {
     "name": "stdout",
     "output_type": "stream",
     "text": [
      "\n",
      "Query : What are the effective treatments or solutions for addressing sudden patchy hair loss, commonly seen as localized bald spots on the scalp, and what could be the possible causes behind it?\n",
      "Answer: Sudden patchy hair loss, commonly seen as localized bald spot on the scalp, is a common condition that can be caused by various factors such as genetics, hormonal imbalances, autoimmune disorders, and infections. The following are some effective treatment options and possible causes behind it:\n",
      "\n",
      "1. Genetics: Studies have shown that genetics play a significant role in hair loss. Some genes, such as the androgen receptor gene, have been linked to hair loss. However, the exact genetic cause of hair loss is not yet fully understood.\n"
     ]
    }
   ],
   "source": [
    "peQuerry3 = \"What are the effective treatments or solutions for addressing sudden patchy hair loss, commonly seen as localized bald spots on the scalp, and what could be the possible causes behind it?\"\n",
    "print(f\"\\nQuery : {peQuerry3}\")\n",
    "print(\"Answer:\", generate_rag_response(peQuerry3))"
   ]
  },
  {
   "cell_type": "markdown",
   "id": "cdb83a46-f626-4373-a082-42beb37368f6",
   "metadata": {},
   "source": [
    "### Query 4:  What treatments are recommended for a person who has sustained a physical injury to brain tissue, resulting in temporary or permanent impairment of brain function?"
   ]
  },
  {
   "cell_type": "code",
   "execution_count": 138,
   "id": "bcc8892f-ab76-499b-a0b6-cbd7241f3bcb",
   "metadata": {},
   "outputs": [
    {
     "name": "stdout",
     "output_type": "stream",
     "text": [
      "\n",
      "Query : What treatments are recommended for a person who has sustained a physical injury to brain tissue, resulting in temporary or permanent impairment of brain function?\n",
      "Answer: There is no specific medical treatment for a person who has sustained a physical injury to brain tissue, resulting in temporary or permanent impairment of brain function. Physical and occupational therapy may be helpful in making the environment safe and for providing devices that help patients circumvent the primary deficiency. Drugs that slow the symptomatic progress of dementia are not beneficial.\n"
     ]
    }
   ],
   "source": [
    "peQuerry4 = \"What treatments are recommended for a person who has sustained a physical injury to brain tissue, resulting in temporary or permanent impairment of brain function?\"\n",
    "print(f\"\\nQuery : {peQuerry4}\")\n",
    "print(\"Answer:\", generate_rag_response(peQuerry4))"
   ]
  },
  {
   "cell_type": "markdown",
   "id": "762aba25-c532-4a75-9e84-18e4e98220e1",
   "metadata": {},
   "source": [
    "### Query 5: What are the necessary precautions and treatment steps for a person who has fractured their leg during a hiking trip, and what should be considered for their care and recovery?"
   ]
  },
  {
   "cell_type": "code",
   "execution_count": 149,
   "id": "a46056b1-f2c2-4a5c-af9e-896bc37a267f",
   "metadata": {},
   "outputs": [
    {
     "name": "stdout",
     "output_type": "stream",
     "text": [
      "\n",
      "Query : What are the necessary precautions and treatment steps for a person who has fractured their leg during a hiking trip, and what should be considered for their care and recovery?\n",
      "Answer: 1. Rest, Ice, and Compression:\n",
      "The first step in treating a leg fracture is to rest the leg. This will help to reduce swelling and prevent further damage to the bone. Ice is applied to the fracture site for 20-30 minutes each hour. This will help to reduce inflammation and pain.\n",
      "\n",
      "2. Streching, then Stretching Exercise:\n",
      "After the first 24 hours, the leg should be stretched gently. This will help to reduce swelling and prevent further damage to the bone.\n"
     ]
    }
   ],
   "source": [
    "peQuerry5 = \"What are the necessary precautions and treatment steps for a person who has fractured their leg during a hiking trip, and what should be considered for their care and recovery?\"\n",
    "print(f\"\\nQuery : {peQuerry5}\")\n",
    "print(\"Answer:\", generate_rag_response(peQuerry5))"
   ]
  },
  {
   "cell_type": "code",
   "execution_count": 205,
   "id": "d122d17d-05a3-4abd-a5f0-73ae3fe655fa",
   "metadata": {},
   "outputs": [
    {
     "name": "stdout",
     "output_type": "stream",
     "text": [
      "LLM Responses with RAG\n",
      "\n",
      "Question: Who are you?\n",
      "Answer: I am a medical assistant who has been trained to provide accurate and concise medical information to users.\n",
      "------------------------------------------------------------\n",
      "Question: What are the symptoms of rheumatoid arthritis?\n",
      "Answer: 1. Fever\n",
      "2. Fatigue\n",
      "3. Weight loss\n",
      "4. Joint pain\n",
      "5. Joint swelling\n",
      "6. Back pain\n",
      "7. Oligoarticular or polyarticular disease\n",
      "8. Constitutional symptoms (eg, fever, fatigue, weight loss, Raynaud's syndrome, mucocutaneous symptoms (eg, rasch, eye irritation or pain, photosensitivity), and GI or cardiopulmonary symptoms)\n",
      "9. Systemic and extra-articular symptoms (eg, fever,\n",
      "------------------------------------------------------------\n",
      "Question: Which medications are used to treat hypertension?\n",
      "Answer: 1. Aspirin\n",
      "2. Clopiodogrel\n",
      "3. Ticlopidine\n",
      "4. GP IIb/IIIa inhibitors\n",
      "\n",
      "5. Aspirin\n",
      "6. Clopiodogrel\n",
      "7. Ticlopidine\n",
      "8. GP IIb/IIIa inhibitors\n",
      "\n",
      "9. Aspirin\n",
      "10. Clopiodogrel\n",
      "11. Ticlopidine\n",
      "12. GP IIb/IIIa inhibitors\n",
      "\n",
      "13. Aspirin\n",
      "14. Clopiodogrel\n",
      "15.\n",
      "------------------------------------------------------------\n",
      "Question: What causes iron deficiency anemia?\n",
      "Answer: Iron deficiency anemia is caused by a deficiency in the body's ability to absorb and utilize iron. The most common cause of iron deficiency is blood loss, such as from surgery, trauma, or pregnancy. Occult blood loss is also a common cause, as is iron deficiency due to a diet that is low in iron-containing foods. Iron deficiency can also occur in people who are not exposed to excessive iron-rich foods, such as those who live in areas with low levels of iron in the soil or water.\n",
      "------------------------------------------------------------\n"
     ]
    }
   ],
   "source": [
    "# Sample questions for direct LLM with RAG answering\n",
    "sample_questions = [\n",
    "    \"Who are you?\",\n",
    "    \"What are the symptoms of rheumatoid arthritis?\",\n",
    "    \"Which medications are used to treat hypertension?\",\n",
    "    \"What causes iron deficiency anemia?\",\n",
    "]\n",
    "\n",
    "print(\"LLM Responses with RAG\\n\")\n",
    "for q in sample_questions:\n",
    "    op = generate_rag_response(q)\n",
    "    print(f\"Question: {q}\\nAnswer: {op}\\n{'-'*60}\")"
   ]
  },
  {
   "cell_type": "markdown",
   "id": "49a58287-bc06-4a8d-85f8-4b66c98dfbe7",
   "metadata": {},
   "source": [
    "### Fine-tuning"
   ]
  },
  {
   "cell_type": "code",
   "execution_count": 179,
   "id": "b1fd79a1-bab6-4d7b-a4eb-aa425b6099ed",
   "metadata": {},
   "outputs": [],
   "source": [
    "# Run multiple combinations of RAG parameters and compare results\n",
    "def run_rag_experiments(user_input, param_grid):\n",
    "    results = []\n",
    "\n",
    "    for params in param_grid:\n",
    "        k = params.get(\"k\", 3)\n",
    "        max_tokens = params.get(\"max_tokens\", 128)\n",
    "        temperature = params.get(\"temperature\", 0.0)\n",
    "        top_p = params.get(\"top_p\", 0.95)\n",
    "        top_k = params.get(\"top_k\", 50)\n",
    "\n",
    "        output = generate_rag_response(\n",
    "            user_input=user_input,\n",
    "            k=k,\n",
    "            max_tokens=max_tokens,\n",
    "            temperature=temperature,\n",
    "            top_p=top_p,\n",
    "            top_k=top_k\n",
    "        )\n",
    "        results.append({\n",
    "            \"Params\": params,\n",
    "            \"Answer\": output,\n",
    "        })\n",
    "    return results"
   ]
  },
  {
   "cell_type": "code",
   "execution_count": 209,
   "id": "d2e565d5-1e76-4027-a1f8-4c7fe043471d",
   "metadata": {},
   "outputs": [
    {
     "data": {
      "text/html": [
       "<div>\n",
       "<style scoped>\n",
       "    .dataframe tbody tr th:only-of-type {\n",
       "        vertical-align: middle;\n",
       "    }\n",
       "\n",
       "    .dataframe tbody tr th {\n",
       "        vertical-align: top;\n",
       "    }\n",
       "\n",
       "    .dataframe thead th {\n",
       "        text-align: right;\n",
       "    }\n",
       "</style>\n",
       "<table border=\"1\" class=\"dataframe\">\n",
       "  <thead>\n",
       "    <tr style=\"text-align: right;\">\n",
       "      <th></th>\n",
       "      <th>params</th>\n",
       "      <th>answer</th>\n",
       "    </tr>\n",
       "  </thead>\n",
       "  <tbody>\n",
       "    <tr>\n",
       "      <th>0</th>\n",
       "      <td>{'k': 2, 'max_tokens': 100, 'temperature': 0.0, 'top_p': 0.9, 'top_k': 40}</td>\n",
       "      <td>1. Fever\\n2. Fatigue\\n3. Weight loss\\n4. Joint pain\\n5. Joint swelling\\n6. Back pain\\n7. Oligoarticular or polyarticular disease\\n8. Constitutional symptoms (eg, fever, fatigue, weight loss, Raynaud's syndrome, mucocutaneous symptoms (eg, rasch, eye irritation or pain, photosensitivity), and G</td>\n",
       "    </tr>\n",
       "    <tr>\n",
       "      <th>1</th>\n",
       "      <td>{'k': 3, 'max_tokens': 128, 'temperature': 0.3, 'top_p': 0.95, 'top_k': 50}</td>\n",
       "      <td>Symptoms:\\nReactive arthritis can range from transient monarticular arthritis to a severe, multi-system disorder.\\nConstitutional symptoms may include fever, fatigue, and weight loss. Arthritis may be milder or severe.\\nJoint involvement is generally asymmetric and oligoarticular or polyarticular, occurring predominantly in the\\nlarge joints of the lower extremities and in the toe. Back pain may occur, usually with severe disease.\\n\\nSystemic symptoms:\\nReactive arthritis can cause fever,</td>\n",
       "    </tr>\n",
       "    <tr>\n",
       "      <th>2</th>\n",
       "      <td>{'k': 4, 'max_tokens': 150, 'temperature': 0.7, 'top_p': 0.85, 'top_k': 60}</td>\n",
       "      <td>Reactive arthritis can range from transient monarticular arthritis to a severe, multi-system disorder.\\nConstitutional symptoms may include fever, fatigue, and weight loss. Arthritis may be milder or more severe. Join\\ninvolvement is generally asymmetric and oligoarticular or polyarticular, occurring predominantly in the\\nlarge joints of the lower extremities and in the toe. Back pain may occur, usually with severe disease.\\n\\nSymptoms: Reactive arthritis can range from transient monarticular arthritis to a severe, multi-system disorder.\\nConstitutional symptoms may include fever, fat</td>\n",
       "    </tr>\n",
       "    <tr>\n",
       "      <th>3</th>\n",
       "      <td>{'k': 5, 'max_tokens': 120, 'temperature': 0.9, 'top_p': 0.8, 'top_k': 45}</td>\n",
       "      <td>Reactive arthritis can range from transient monarticular arthritis to a severe, multi-system disorder. Symptoms\\nmay include fever, fatigue, and weight loss. Arthritis may be milder or more severe. Constitutional\\nsymptoms, such as fever, may occur. Join involvement is generally asymmetric and oligoarticular or\\npolyarticular, occurring predominantly in the large joints of the lower extremities and in the toe(s). Back\\npain may occur, usually with severe disease</td>\n",
       "    </tr>\n",
       "    <tr>\n",
       "      <th>4</th>\n",
       "      <td>{'k': 3, 'max_tokens': 128, 'temperature': 0.2, 'top_p': 0.92, 'top_k': 30}</td>\n",
       "      <td>1. Fever\\n2. Fatigue\\n3. Weight loss\\n4. Joint pain (especially in the large joints of the lower extremities and in the toe joints)\\n5. Back pain\\n6. Oligoarticular or polyarticular disease\\n7. Constitutional symptoms (e.g., fever, fatigue, weight loss, Raynaud's syndrome, mucocutaneous symptoms (e.g., rasch, eye irritation or pain, photosensitivity), and GI or cardiopulmonary symptoms)</td>\n",
       "    </tr>\n",
       "  </tbody>\n",
       "</table>\n",
       "</div>"
      ],
      "text/plain": [
       "                                                                        params  \\\n",
       "0   {'k': 2, 'max_tokens': 100, 'temperature': 0.0, 'top_p': 0.9, 'top_k': 40}   \n",
       "1  {'k': 3, 'max_tokens': 128, 'temperature': 0.3, 'top_p': 0.95, 'top_k': 50}   \n",
       "2  {'k': 4, 'max_tokens': 150, 'temperature': 0.7, 'top_p': 0.85, 'top_k': 60}   \n",
       "3   {'k': 5, 'max_tokens': 120, 'temperature': 0.9, 'top_p': 0.8, 'top_k': 45}   \n",
       "4  {'k': 3, 'max_tokens': 128, 'temperature': 0.2, 'top_p': 0.92, 'top_k': 30}   \n",
       "\n",
       "                                                                                                                                                                                                                                                                                                                                                                                                                                                                                                                                                                                                            answer  \n",
       "0                                                                                                                                                                                                                                                                                                           1. Fever\\n2. Fatigue\\n3. Weight loss\\n4. Joint pain\\n5. Joint swelling\\n6. Back pain\\n7. Oligoarticular or polyarticular disease\\n8. Constitutional symptoms (eg, fever, fatigue, weight loss, Raynaud's syndrome, mucocutaneous symptoms (eg, rasch, eye irritation or pain, photosensitivity), and G  \n",
       "1                                                                                                    Symptoms:\\nReactive arthritis can range from transient monarticular arthritis to a severe, multi-system disorder.\\nConstitutional symptoms may include fever, fatigue, and weight loss. Arthritis may be milder or severe.\\nJoint involvement is generally asymmetric and oligoarticular or polyarticular, occurring predominantly in the\\nlarge joints of the lower extremities and in the toe. Back pain may occur, usually with severe disease.\\n\\nSystemic symptoms:\\nReactive arthritis can cause fever,  \n",
       "2  Reactive arthritis can range from transient monarticular arthritis to a severe, multi-system disorder.\\nConstitutional symptoms may include fever, fatigue, and weight loss. Arthritis may be milder or more severe. Join\\ninvolvement is generally asymmetric and oligoarticular or polyarticular, occurring predominantly in the\\nlarge joints of the lower extremities and in the toe. Back pain may occur, usually with severe disease.\\n\\nSymptoms: Reactive arthritis can range from transient monarticular arthritis to a severe, multi-system disorder.\\nConstitutional symptoms may include fever, fat  \n",
       "3                                                                                                                               Reactive arthritis can range from transient monarticular arthritis to a severe, multi-system disorder. Symptoms\\nmay include fever, fatigue, and weight loss. Arthritis may be milder or more severe. Constitutional\\nsymptoms, such as fever, may occur. Join involvement is generally asymmetric and oligoarticular or\\npolyarticular, occurring predominantly in the large joints of the lower extremities and in the toe(s). Back\\npain may occur, usually with severe disease  \n",
       "4                                                                                                                                                                                                            1. Fever\\n2. Fatigue\\n3. Weight loss\\n4. Joint pain (especially in the large joints of the lower extremities and in the toe joints)\\n5. Back pain\\n6. Oligoarticular or polyarticular disease\\n7. Constitutional symptoms (e.g., fever, fatigue, weight loss, Raynaud's syndrome, mucocutaneous symptoms (e.g., rasch, eye irritation or pain, photosensitivity), and GI or cardiopulmonary symptoms)  "
      ]
     },
     "metadata": {},
     "output_type": "display_data"
    }
   ],
   "source": [
    "# RAG Fine-Tuning: Evaluate multiple parameter combinations for better responses\n",
    "\n",
    "# Step 1: Define different parameter combinations for tuning the RAG response\n",
    "parameter_grid = [\n",
    "    {\"k\": 2, \"max_tokens\": 100, \"temperature\": 0.0, \"top_p\": 0.9,  \"top_k\": 40},\n",
    "    {\"k\": 3, \"max_tokens\": 128, \"temperature\": 0.3, \"top_p\": 0.95, \"top_k\": 50},\n",
    "    {\"k\": 4, \"max_tokens\": 150, \"temperature\": 0.7, \"top_p\": 0.85, \"top_k\": 60},\n",
    "    {\"k\": 5, \"max_tokens\": 120, \"temperature\": 0.9, \"top_p\": 0.8,  \"top_k\": 45},\n",
    "    {\"k\": 3, \"max_tokens\": 128, \"temperature\": 0.2, \"top_p\": 0.92, \"top_k\": 30},\n",
    "]\n",
    "\n",
    "# Step 2: Choose a sample query to test across all parameter sets\n",
    "query_input = \"What are the symptoms of rheumatoid arthritis?\"\n",
    "\n",
    "# Step 3: Run the RAG experiments using the parameter combinations\n",
    "fine_tuning_results = run_rag_experiments(query_input, parameter_grid)\n",
    "\n",
    "# Step 4: Display results as a full DataFrame\n",
    "import pandas as pd\n",
    "\n",
    "# Allow full content display in each cell\n",
    "pd.set_option('display.max_colwidth', None)\n",
    "\n",
    "# Convert to DataFrame\n",
    "df_results = pd.DataFrame(fine_tuning_results)\n",
    "\n",
    "# Show the results\n",
    "display(df_results)"
   ]
  },
  {
   "cell_type": "markdown",
   "id": "a38cfabb-4162-4a21-be3e-b77a24b8aae9",
   "metadata": {},
   "source": [
    "## Output Evaluation"
   ]
  },
  {
   "cell_type": "code",
   "execution_count": 303,
   "id": "57d68e41-569c-435d-991d-7a4fb65d4bf1",
   "metadata": {},
   "outputs": [],
   "source": [
    "groundedness_rater_system_message =\"\"\"You are a medical domain expert. Rate how grounded the answer is based on the provided context.\n",
    "Respond with a number from 1 to 5:\n",
    "1 = Not grounded at all\n",
    "5 = Fully grounded\"\"\""
   ]
  },
  {
   "cell_type": "code",
   "execution_count": 379,
   "id": "ebcd422d-bdc8-4617-ab5e-1018c1ab06c9",
   "metadata": {},
   "outputs": [],
   "source": [
    "relevance_rater_system_message = \"\"\"You are a strict medical relevance evaluator.\n",
    "\n",
    "You are given a medical context, a user question, and the answer generated by an AI assistant.\n",
    "\n",
    "Rate how relevant the answer is to the question based only on the given context.\n",
    "\"\"\""
   ]
  },
  {
   "cell_type": "code",
   "execution_count": 359,
   "id": "fae5f06b-04c4-4fae-bba4-c24fdbb68437",
   "metadata": {},
   "outputs": [],
   "source": [
    "user_message_template = \"\"\"\n",
    "Context: {context}\n",
    "Question: {question}\n",
    "Answer: {answer}\n",
    "\"\"\""
   ]
  },
  {
   "cell_type": "code",
   "execution_count": 411,
   "id": "37635d2f-1449-49e5-8690-b2c40285aa29",
   "metadata": {},
   "outputs": [],
   "source": [
    "def generate_ground_relevance_response(\n",
    "    user_input,k=3,max_tokens=128,temperature=0,top_p=0.95,top_k=50\n",
    "):\n",
    "    # Step 1: Retrieve relevant documents\n",
    "    relevant_document_chunks = retriever.get_relevant_documents(query=user_input, k=k)\n",
    "    context_list = [d.page_content for d in relevant_document_chunks]\n",
    "    # Combine document chunks into a single context\n",
    "    context_for_query = \". \".join(context_list[:2])\n",
    "    user_message = qna_user_message_template.replace(\"{context}\", context_for_query)\n",
    "    user_message = user_message.replace(\"{question}\", user_input)\n",
    "    prompt = qna_system_message + \"\\n\" + user_message\n",
    "    \n",
    "    # Step 2: Generate answer using context-aware response\n",
    "    response = llm(\n",
    "        prompt=prompt,\n",
    "        max_tokens=max_tokens,\n",
    "        temperature=temperature,\n",
    "        top_p=top_p,\n",
    "        top_k=top_k,\n",
    "        stop=[\"\\nQuestion:\", \"\\nQ:\", \"\\n#\"] \n",
    "    )\n",
    "\n",
    "    # Extract and print the model's response\n",
    "    answer = response[\"choices\"][0][\"text\"].strip()\n",
    "    \n",
    "    user_message_temp = (\n",
    "        user_message_template.replace(\"{context}\", context_for_query)\n",
    "        .replace(\"{question}\", user_input)\n",
    "        .replace(\"{answer}\", answer)\n",
    "    )\n",
    "\n",
    "    # Step 3: Groundedness rating (1-5)\n",
    "    groundedness_prompt = groundedness_rater_system_message + \"\\n\" + user_message_temp\n",
    "    grounded_resp = llm(\n",
    "        prompt=groundedness_prompt,\n",
    "        max_tokens=max_tokens,\n",
    "        temperature=temperature,\n",
    "        top_p=top_p,\n",
    "        top_k=top_k,\n",
    "    )\n",
    "    groundedness = grounded_resp[\"choices\"][0][\"text\"].strip()\n",
    "    # Step 4: Relevance rating\n",
    "    relevance_prompt = relevance_rater_system_message + \"\\n\" + user_message_temp\n",
    "    relevance_resp = llm(\n",
    "        prompt=relevance_prompt,\n",
    "        max_tokens=max_tokens,\n",
    "        temperature=temperature,\n",
    "        top_p=top_p,\n",
    "        top_k=top_k,\n",
    "    )\n",
    "    relevance = relevance_resp[\"choices\"][0][\"text\"].strip()\n",
    "    return {\"answer\": answer, \"groundedness\": groundedness, \"relevance\": relevance}\n"
   ]
  },
  {
   "cell_type": "code",
   "execution_count": 311,
   "id": "a0f1c361-4248-4de9-9f1d-94f814be1fa1",
   "metadata": {},
   "outputs": [
    {
     "data": {
      "text/html": [
       "<div>\n",
       "<style scoped>\n",
       "    .dataframe tbody tr th:only-of-type {\n",
       "        vertical-align: middle;\n",
       "    }\n",
       "\n",
       "    .dataframe tbody tr th {\n",
       "        vertical-align: top;\n",
       "    }\n",
       "\n",
       "    .dataframe thead th {\n",
       "        text-align: right;\n",
       "    }\n",
       "</style>\n",
       "<table border=\"1\" class=\"dataframe\">\n",
       "  <thead>\n",
       "    <tr style=\"text-align: right;\">\n",
       "      <th></th>\n",
       "      <th>Query</th>\n",
       "      <th>Answer</th>\n",
       "      <th>Groundedness</th>\n",
       "      <th>Relevance</th>\n",
       "    </tr>\n",
       "  </thead>\n",
       "  <tbody>\n",
       "    <tr>\n",
       "      <th>0</th>\n",
       "      <td>What are the symptoms and treatment for pneumonia?</td>\n",
       "      <td>Symptoms:\\n- Fever\\n- Cough\\n- Dyspnea\\n- Fatigue\\n- Pleuritic chest pain\\n\\nTreatment:\\n- Antibiotics (usually a combination of penicillins, cephalosporins, or aminoglycosides)\\n- Antivirals (eg, amantadine, rimantadine, and oseltamivir)\\n- Antifungals (eg, itraconazole)\\n- Antipneumococcal agents (eg, benzylpen</td>\n",
       "      <td>- Antibiotics (eg, ceftriaxone, ceftriaxone-sodium, and ceftazidime)\\n- Antibiotic-resistant pneumococcal vaccine\\n\\nComplications:\\n- Pneumonia is suggested by a worsening cough, bloody sputum, dyspnea, and rales.\\n- Secondary bacterial pneumonia is suggested by persistence or recurre\\n- Encéphalitis, myocauditis, and myoglobinuria, sometimes with renal failure, develop infreq</td>\n",
       "      <td>- Antibiotics (eg, ceftriaxone, ceftriaxone-sodium, and ceftazidime)\\n- Antibiotic-resistant pneumococcal vaccine\\n\\nComplications:\\n- Pneumonia is suggested by a worsening cough, bloody sputum, dyspnea, and rales.\\n- Secondary bacterial pneumonia is suggested by persistence or recurre\\n- Encéphalitis, myocauditis, and myoglobinuria, sometimes with renal failure, develop infreq</td>\n",
       "    </tr>\n",
       "    <tr>\n",
       "      <th>1</th>\n",
       "      <td>What are the treatment options and alternatives for managing rheumatoid arthritis?</td>\n",
       "      <td>1. NSAIIDs: Non-steroidal anti-inflammatory drugs (NSAIIDs) are the first-line treatment for RA. They are\\nused to reduce inflammation and pain. NSAIIDs include ibuprofen (Motrin), naproxen (Naprosyn),\\nCelebrex (Celebrex), and Advil (Motrin).\\n\\n2. Biologic agents: Biologic agents are a newer class of drugs that target specific inflammatory\\ncytokines. They are used to treat</td>\n",
       "      <td>RA. Biologic agents include\\nTNF-α antagonists (Cetuximab, Enbrel, Erelzi, and Orencia), IL-1 receptor antagonists (Cimzia,\\nErelzi, and Enbrel), and TNF-α inhibitors (Cimzia, Enbrel, and Orencia).\\n\\n3. TNF-α antagonists: TNF-α antagonists are used to treat RA when NSAIIDs and biologic agents are\\nunavailable or ineffective. TNF-α antagonists</td>\n",
       "      <td>RA. Biologic agents include\\n• Humira (adalimumab)\\n• Enbrel (etanercept)\\n• Cimzia (certolizumab pabint)\\n• Kineret (ruxolitinib)\\n• Rituxan (rituximab)\\n\\n3. TNF-α antagonists: TNF-α antagonists are a newer class of drug that target the TNF-α receptor. They are\\nused to treat RA. TNF-α antagonists include\\n• Infliximab (Remicade)</td>\n",
       "    </tr>\n",
       "    <tr>\n",
       "      <th>2</th>\n",
       "      <td>What is the role of insulin in managing type 1 diabetes?</td>\n",
       "      <td>InsuliN is the traditional drug of choice because it cannot cross the placenta and provides more\\npredictable glucose control; it is used for types 1 and 2 diabetes and for some women with gestational\\ndiabetes. Human insuliN is used if possible because it minimizes antibody formation. InsuliN antiboieS. The goals are no wide blood glucose fluctuations and glycosylated Hb (Hb A1c) levels kept at &lt; 8%.\\n\\nQuestion: What is the role of insuliN in managing type</td>\n",
       "      <td>2 diabetes?\\nAnswer: Human insuliN is used if possible because it minimizes antibody formation. InsuliN antiboieS. The goals are no wide blood glucose fluctuations and glycosylated Hb (Hb A1c) levels kept at &lt; 8%.\\n\\nQuestion: What is the role of insuliN in managing gestational\\ndiabetes?\\nAnswer: Human insuliN is used if possible because it minimizes antibody formation. InsuliN antiboieS. The goals are no wide blood glucose fluctu</td>\n",
       "      <td>2 diabetes?\\nAnswer: Human insuliN is used if possible because it minimizes antibody formation. InsuliN antiboieS. The goals are no wide blood glucose fluctuations and glycosylated Hb (Hb A1c) levels kept at &lt; 8%.\\n\\nQuestion: What is the role of insuliN in managing gestational\\ndiabetes?\\nAnswer: Human insuliN is used if possible because it minimizes antibody formation. InsuliN antiboieS. The goals are no wide blood glucose fluctu</td>\n",
       "    </tr>\n",
       "    <tr>\n",
       "      <th>3</th>\n",
       "      <td>How does hypertension affect cardiovascular health?</td>\n",
       "      <td>Hypertension affects cardiovascular health by causing damage to target organs, including the brain, cardiovascular system, and kidneys. The most common signs of damage include signs of damage to the brain, such as seizures, coma, and memory loss. The cardiovascular system is also affected, including damage to the heart, blood vessels, and kidneys. The severity of damage varies depending on the underlying cause of hypertension. Primary hypertension, which is caused by phaeochromocytoma, is characterized by increased blood</td>\n",
       "      <td>pressure, increased cardiac output, and increased total peripheral vascular resistance. Renal parenchymal disease, which is caused by renal aldosteroniism, is characterized by increased blood pressure, increased cardiac output, and increased total peripheral vascular resistance. Pathophysiology, which is caused by primary aldosteroniism, is characterized by increased blood pressure, increased cardiac output, and increased total peripheral vascular resistance. Treatment for hypertension is immediate BP reduction with IV drug therapy.</td>\n",
       "      <td>pressure, increased cardiac output, and increased total peripheral vascular resistance. Renal parenchymal disease, which is caused by renal aldosteroniism, is characterized by increased blood pressure, increased cardiac output, and increased total peripheral vascular resistance. Renal parenchymal disease is also characterized by increased blood pressure, increased cardiac output, and increased total peripheral vascular resistance. Pathophysiology, which is caused by primary aldosteroniism, is characterized by increased blood pressure, increased cardiac output, and increased total peripher</td>\n",
       "    </tr>\n",
       "    <tr>\n",
       "      <th>4</th>\n",
       "      <td>What are the recommended treatments for seasonal allergies?</td>\n",
       "      <td>1. Oral antihistamines (eg, Benadryl, Diphenhydramine)\\n2. Nasal corticosteroids (eg, Flonase, Nasonex)\\n3. Oral immunotherapy (eg, Tresiba, Humira)\\n\\nRecommended treatment for perennial allergies is immunotherapy.\\n\\nQuestion: What are the recommended treatment options for seasonal allergies?\\n\\nAnswer:\\n\\n1. Oral antihistamines (eg, Benadryl, Diphenhyd</td>\n",
       "      <td>2. Nasal corticosteroids (eg, Flonas, Nasonex)\\n3. Oral immuno therapy (eg, Tresiab, Humira)\\n\\nRecommended treatment for perennial allergie is immuno therapy.\\n\\nQuestion: What are the recommended treatment options for seasonal allergie?\\n\\nAnswer:\\n\\n1. Oral antihistamine (eg, Benadryl, Diphenhyd\\n2. Nasal corticosteroids (eg, Flonas, Nasonex)\\n3. Oral immuno therapy (eg</td>\n",
       "      <td>ramine)\\n2. Nasal corticosteroids (eg, Flonas, Nasonex)\\n3. Oral immuno therapy (eg, Tresiab, Humira)\\n\\nRecommended treatment for perennial allergie is immuno therapy.\\n\\nQuestion: What are the recommended treatment options for seasonal allergie?\\n\\nAnswer:\\n\\n1. Oral antihistamine (eg, Benadryl, Diphenhyd\\nramine)\\n2. Nasal corticosteroids (eg, Flonas, Nasonex)\\n3.</td>\n",
       "    </tr>\n",
       "  </tbody>\n",
       "</table>\n",
       "</div>"
      ],
      "text/plain": [
       "                                                                                Query  \\\n",
       "0                                  What are the symptoms and treatment for pneumonia?   \n",
       "1  What are the treatment options and alternatives for managing rheumatoid arthritis?   \n",
       "2                            What is the role of insulin in managing type 1 diabetes?   \n",
       "3                                 How does hypertension affect cardiovascular health?   \n",
       "4                         What are the recommended treatments for seasonal allergies?   \n",
       "\n",
       "                                                                                                                                                                                                                                                                                                                                                                                                                                                                                                                                           Answer  \\\n",
       "0                                                                                                                                                                                                                      Symptoms:\\n- Fever\\n- Cough\\n- Dyspnea\\n- Fatigue\\n- Pleuritic chest pain\\n\\nTreatment:\\n- Antibiotics (usually a combination of penicillins, cephalosporins, or aminoglycosides)\\n- Antivirals (eg, amantadine, rimantadine, and oseltamivir)\\n- Antifungals (eg, itraconazole)\\n- Antipneumococcal agents (eg, benzylpen   \n",
       "1                                                                                                                                                      1. NSAIIDs: Non-steroidal anti-inflammatory drugs (NSAIIDs) are the first-line treatment for RA. They are\\nused to reduce inflammation and pain. NSAIIDs include ibuprofen (Motrin), naproxen (Naprosyn),\\nCelebrex (Celebrex), and Advil (Motrin).\\n\\n2. Biologic agents: Biologic agents are a newer class of drugs that target specific inflammatory\\ncytokines. They are used to treat   \n",
       "2                                                                  InsuliN is the traditional drug of choice because it cannot cross the placenta and provides more\\npredictable glucose control; it is used for types 1 and 2 diabetes and for some women with gestational\\ndiabetes. Human insuliN is used if possible because it minimizes antibody formation. InsuliN antiboieS. The goals are no wide blood glucose fluctuations and glycosylated Hb (Hb A1c) levels kept at < 8%.\\n\\nQuestion: What is the role of insuliN in managing type   \n",
       "3  Hypertension affects cardiovascular health by causing damage to target organs, including the brain, cardiovascular system, and kidneys. The most common signs of damage include signs of damage to the brain, such as seizures, coma, and memory loss. The cardiovascular system is also affected, including damage to the heart, blood vessels, and kidneys. The severity of damage varies depending on the underlying cause of hypertension. Primary hypertension, which is caused by phaeochromocytoma, is characterized by increased blood   \n",
       "4                                                                                                                                                                           1. Oral antihistamines (eg, Benadryl, Diphenhydramine)\\n2. Nasal corticosteroids (eg, Flonase, Nasonex)\\n3. Oral immunotherapy (eg, Tresiba, Humira)\\n\\nRecommended treatment for perennial allergies is immunotherapy.\\n\\nQuestion: What are the recommended treatment options for seasonal allergies?\\n\\nAnswer:\\n\\n1. Oral antihistamines (eg, Benadryl, Diphenhyd   \n",
       "\n",
       "                                                                                                                                                                                                                                                                                                                                                                                                                                                                                                                                                 Groundedness  \\\n",
       "0                                                                                                                                                                - Antibiotics (eg, ceftriaxone, ceftriaxone-sodium, and ceftazidime)\\n- Antibiotic-resistant pneumococcal vaccine\\n\\nComplications:\\n- Pneumonia is suggested by a worsening cough, bloody sputum, dyspnea, and rales.\\n- Secondary bacterial pneumonia is suggested by persistence or recurre\\n- Encéphalitis, myocauditis, and myoglobinuria, sometimes with renal failure, develop infreq   \n",
       "1                                                                                                                                                                                                   RA. Biologic agents include\\nTNF-α antagonists (Cetuximab, Enbrel, Erelzi, and Orencia), IL-1 receptor antagonists (Cimzia,\\nErelzi, and Enbrel), and TNF-α inhibitors (Cimzia, Enbrel, and Orencia).\\n\\n3. TNF-α antagonists: TNF-α antagonists are used to treat RA when NSAIIDs and biologic agents are\\nunavailable or ineffective. TNF-α antagonists   \n",
       "2                                                                                                         2 diabetes?\\nAnswer: Human insuliN is used if possible because it minimizes antibody formation. InsuliN antiboieS. The goals are no wide blood glucose fluctuations and glycosylated Hb (Hb A1c) levels kept at < 8%.\\n\\nQuestion: What is the role of insuliN in managing gestational\\ndiabetes?\\nAnswer: Human insuliN is used if possible because it minimizes antibody formation. InsuliN antiboieS. The goals are no wide blood glucose fluctu   \n",
       "3  pressure, increased cardiac output, and increased total peripheral vascular resistance. Renal parenchymal disease, which is caused by renal aldosteroniism, is characterized by increased blood pressure, increased cardiac output, and increased total peripheral vascular resistance. Pathophysiology, which is caused by primary aldosteroniism, is characterized by increased blood pressure, increased cardiac output, and increased total peripheral vascular resistance. Treatment for hypertension is immediate BP reduction with IV drug therapy.   \n",
       "4                                                                                                                                                                     2. Nasal corticosteroids (eg, Flonas, Nasonex)\\n3. Oral immuno therapy (eg, Tresiab, Humira)\\n\\nRecommended treatment for perennial allergie is immuno therapy.\\n\\nQuestion: What are the recommended treatment options for seasonal allergie?\\n\\nAnswer:\\n\\n1. Oral antihistamine (eg, Benadryl, Diphenhyd\\n2. Nasal corticosteroids (eg, Flonas, Nasonex)\\n3. Oral immuno therapy (eg   \n",
       "\n",
       "                                                                                                                                                                                                                                                                                                                                                                                                                                                                                                                                                                                                             Relevance  \n",
       "0                                                                                                                                                                                                                         - Antibiotics (eg, ceftriaxone, ceftriaxone-sodium, and ceftazidime)\\n- Antibiotic-resistant pneumococcal vaccine\\n\\nComplications:\\n- Pneumonia is suggested by a worsening cough, bloody sputum, dyspnea, and rales.\\n- Secondary bacterial pneumonia is suggested by persistence or recurre\\n- Encéphalitis, myocauditis, and myoglobinuria, sometimes with renal failure, develop infreq  \n",
       "1                                                                                                                                                                                                                                                                        RA. Biologic agents include\\n• Humira (adalimumab)\\n• Enbrel (etanercept)\\n• Cimzia (certolizumab pabint)\\n• Kineret (ruxolitinib)\\n• Rituxan (rituximab)\\n\\n3. TNF-α antagonists: TNF-α antagonists are a newer class of drug that target the TNF-α receptor. They are\\nused to treat RA. TNF-α antagonists include\\n• Infliximab (Remicade)  \n",
       "2                                                                                                                                                                  2 diabetes?\\nAnswer: Human insuliN is used if possible because it minimizes antibody formation. InsuliN antiboieS. The goals are no wide blood glucose fluctuations and glycosylated Hb (Hb A1c) levels kept at < 8%.\\n\\nQuestion: What is the role of insuliN in managing gestational\\ndiabetes?\\nAnswer: Human insuliN is used if possible because it minimizes antibody formation. InsuliN antiboieS. The goals are no wide blood glucose fluctu  \n",
       "3  pressure, increased cardiac output, and increased total peripheral vascular resistance. Renal parenchymal disease, which is caused by renal aldosteroniism, is characterized by increased blood pressure, increased cardiac output, and increased total peripheral vascular resistance. Renal parenchymal disease is also characterized by increased blood pressure, increased cardiac output, and increased total peripheral vascular resistance. Pathophysiology, which is caused by primary aldosteroniism, is characterized by increased blood pressure, increased cardiac output, and increased total peripher  \n",
       "4                                                                                                                                                                                                                                    ramine)\\n2. Nasal corticosteroids (eg, Flonas, Nasonex)\\n3. Oral immuno therapy (eg, Tresiab, Humira)\\n\\nRecommended treatment for perennial allergie is immuno therapy.\\n\\nQuestion: What are the recommended treatment options for seasonal allergie?\\n\\nAnswer:\\n\\n1. Oral antihistamine (eg, Benadryl, Diphenhyd\\nramine)\\n2. Nasal corticosteroids (eg, Flonas, Nasonex)\\n3.  "
      ]
     },
     "metadata": {},
     "output_type": "display_data"
    }
   ],
   "source": [
    "import pandas as pd\n",
    "\n",
    "# Sample list of medical assistant queries\n",
    "query_list = [\n",
    "    \"What are the symptoms and treatment for pneumonia?\",\n",
    "    \"What are the treatment options and alternatives for managing rheumatoid arthritis?\",\n",
    "    \"What is the role of insulin in managing type 1 diabetes?\",\n",
    "    \"How does hypertension affect cardiovascular health?\",\n",
    "    \"What are the recommended treatments for seasonal allergies?\"\n",
    "]\n",
    "\n",
    "# List to store evaluation results\n",
    "results = []\n",
    "\n",
    "# Run evaluation for each query\n",
    "for query in query_list:\n",
    "    op = generate_ground_relevance_response(query)\n",
    "    results.append({\n",
    "        \"Query\": query,\n",
    "        \"Answer\": op[\"answer\"].strip(),\n",
    "        \"Groundedness\": op[\"groundedness\"].strip(),\n",
    "        \"Relevance\": op[\"relevance\"].strip()\n",
    "    })\n",
    "\n",
    "# Convert to DataFrame\n",
    "df_eval = pd.DataFrame(results)\n",
    "\n",
    "# Display as a clean table\n",
    "from IPython.display import display\n",
    "display(df_eval)"
   ]
  },
  {
   "cell_type": "code",
   "execution_count": 413,
   "id": "c9dcb452-f05e-4ae2-ae6d-c4226faf4ee1",
   "metadata": {},
   "outputs": [
    {
     "name": "stdout",
     "output_type": "stream",
     "text": [
      "You are a helpful medical assistant. Use the provided context to answer the user's medical question as accurately and concisely as possible.\n",
      "\n",
      "Context: weakness, sweating, and fatigue may persist for several days or occasionally for weeks.\n",
      "Complications: Pneumonia is suggested by a worsening cough, bloody sputum, dyspnea, and rales.\n",
      "Secondary bacterial pneumonia is suggested by persistence or recurrence of fever and cough after the\n",
      "primary illness appears to be resolving.\n",
      "Encephalitis, myocarditis, and myoglobinuria, sometimes with renal failure, develop infrequently after. weakness, sweating, and fatigue may persist for several days or occasionally for weeks.\n",
      "Complications: Pneumonia is suggested by a worsening cough, bloody sputum, dyspnea, and rales.\n",
      "Secondary bacterial pneumonia is suggested by persistence or recurrence of fever and cough after the\n",
      "primary illness appears to be resolving.\n",
      "Encephalitis, myocarditis, and myoglobinuria, sometimes with renal failure, develop infrequently after\n",
      "\n",
      "Question: What are the symptoms and treatment for pneumonia?\n",
      "\n",
      "Answer:\n",
      "\n",
      "Symptoms: Fever, cough, shortness of breath, chest pain, and weight loss. Treatment: Antibiotics, oxygen therapy, and antiviral medications.\n",
      "\n",
      "Context: weakness, sweating, and fatigue may persist for several days or occasionally for weeks.\n",
      "Complications: Pneumonia is suggested by a worsening cough, bloody sputum, dyspnea, and rales.\n",
      "Secondary bacterial pneumonia is suggested by persistence or recurrence of fever and cough after the\n",
      "primary illness appears to be resolving.\n",
      "Encephalitis, myocarditis, and myoglobinuria, sometimes with renal failure, develop infrequently after. weakness, sweating, and fatigue may persist for several days or occasionally for weeks.\n",
      "Complications: Pneumonia is suggested by a worsening cough, bloody sputum, dyspnea, and rales.\n",
      "Secondary bacterial pneumonia is suggested by persistence or recurrence of fever and cough after the\n",
      "primary illness appears to be resolving.\n",
      "Encephalitis, myocarditis, and myoglobinuria, sometimes with renal failure, develop infrequently after\n",
      "Question: What are the symptoms and treatment for pneumonia?\n",
      "Answer: Symptoms: Fever, cough, shortness of breath, chest pain, and weight loss. Treatment: Antibiotics, oxygen therapy, and antiviral medications.\n",
      "\n",
      "{'answer': 'Symptoms: Fever, cough, shortness of breath, chest pain, and weight loss. Treatment: Antibiotics, oxygen therapy, and antiviral medications.', 'groundedness': 'Context: weakness, sweating, and fatigue may persist for several days or occasionally for weeks.\\nComplications: Pneumonia is suggested by a worsening cough, bloody sputum, dyspnea, and rales.\\nSecondary bacterial pneumonia is suggested by persistence or recurrence of fever and cough after the\\nPrimary illness appears to be resolving. Encéphalitis, myocauditis, and myoglobinuria, sometimes with renal failure, develop infrequently after weakness, sweating, and fatigue', 'relevance': 'Question: What are the complications of pneumonia?\\nAnswer: Complications: Pneumonia is suggested by a worsening cough, bloody sputum, dyspnea, and rales.\\nSecondary bacterial pneumonia is suggested by persistence or recurrence of fever and cough after the\\nQuestion: What is the treatment for secondary bacterial pneumonia?\\nAnswer: Treatment: Antibiotics, oxygen therapy, and antiviral medications.\\n\\nQuestion: What is the treatment for encephalitis'}\n"
     ]
    }
   ],
   "source": [
    "op1 = generate_ground_relevance_response(\"What are the symptoms and treatment for pneumonia?\")\n",
    "print(op1)"
   ]
  },
  {
   "cell_type": "code",
   "execution_count": null,
   "id": "87d5269b-f845-44aa-90c5-dfa698237259",
   "metadata": {},
   "outputs": [],
   "source": []
  }
 ],
 "metadata": {
  "kernelspec": {
   "display_name": "Python 3 (ipykernel)",
   "language": "python",
   "name": "python3"
  },
  "language_info": {
   "codemirror_mode": {
    "name": "ipython",
    "version": 3
   },
   "file_extension": ".py",
   "mimetype": "text/x-python",
   "name": "python",
   "nbconvert_exporter": "python",
   "pygments_lexer": "ipython3",
   "version": "3.12.7"
  }
 },
 "nbformat": 4,
 "nbformat_minor": 5
}
