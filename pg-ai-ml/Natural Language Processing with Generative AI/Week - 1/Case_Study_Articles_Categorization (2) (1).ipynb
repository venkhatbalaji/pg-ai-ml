{
  "cells": [
    {
      "cell_type": "markdown",
      "metadata": {
        "id": "bU1SCVj6dyi1"
      },
      "source": [
        "<center><p float=\"center\">\n",
        "  <img src=\"https://upload.wikimedia.org/wikipedia/commons/e/e9/4_RGB_McCombs_School_Brand_Branded.png\" width=\"300\" height=\"100\"/>\n",
        "  <img src=\"https://mma.prnewswire.com/media/1458111/Great_Learning_Logo.jpg?p=facebook\" width=\"200\" height=\"100\"/>\n",
        "</p></center>\n",
        "\n",
        "<h1><center><font size=10>Artificial Intelligence and Machine Learning</center></font></h1>\n",
        "<h1><center>Word Embedding</center></h1>"
      ]
    },
    {
      "cell_type": "markdown",
      "metadata": {
        "id": "VjfaRLPg7sAe"
      },
      "source": [
        "<center><p float=\"center\">\n",
        "  <img src=\"https://images.pexels.com/photos/242492/pexels-photo-242492.jpeg?auto=compress&cs=tinysrgb&w=1260&h=750&dpr=1\" width=\"720\"/>\n",
        "</p></center>\n",
        "\n",
        "<center><font size=6>Articles Categorization</center></font>"
      ]
    },
    {
      "cell_type": "markdown",
      "metadata": {
        "id": "MjncuDf2qugI"
      },
      "source": [
        "## Problem Statement"
      ]
    },
    {
      "cell_type": "markdown",
      "metadata": {
        "id": "x9VSf2D_F5iU"
      },
      "source": [
        "### Business Context"
      ]
    },
    {
      "cell_type": "markdown",
      "metadata": {
        "id": "RLApwDNbFDEK"
      },
      "source": [
        "In the dynamic landscape of the media and news industry, the ability to swiftly categorize and curate content has become a strategic imperative. The vast volume of information demands efficient systems to organize and present content to the audience.\n",
        "\n",
        "The media industry, being the pulse of information dissemination, grapples with the continuous influx of articles spanning diverse topics. Ensuring that the right articles reaches the right audience promptly is not just a logistical necessity but a critical component in retaining and engaging audiences in an age of information overload.\n",
        "\n",
        "Common Industry Challenges:\n",
        "Amidst the ceaseless flow of news, media organizations encounter challenges such as:\n",
        "- Information Overload: The sheer volume of articles makes manual categorization impractical.\n",
        "- Timeliness: Delays in categorizing articles can result in outdated or misplaced content.\n",
        "- User Engagement: Providing personalized and relevant content is vital for sustaining user interest."
      ]
    },
    {
      "cell_type": "markdown",
      "metadata": {
        "id": "MzSKXh2LsOvd"
      },
      "source": [
        "### Problem Definition"
      ]
    },
    {
      "cell_type": "markdown",
      "metadata": {
        "id": "PdEWl1qZFNWM"
      },
      "source": [
        "InfoWorld, a prominent player in the media landscape, faces these challenges on a monumental scale. With a vast repository of articles covering global affairs, entertainment, politics, and more, the need for an advanced and automated system to categorize articles has become increasingly evident. The manual efforts required for categorizing such a diverse range of articles are substantial, often leading to delays and potential inaccuracies. To streamline and optimize this process, the organization recognizes the imperative of adopting cutting-edge technologies, particularly machine learning, to automate and enhance the categorization of content.\n",
        "\n",
        "As a data scientist on InfoWorld's data team, the task is to analyze articles and construct a predictive model for categorizing them. The goal is to optimize the categorization process, ensuring timely and personalized delivery. Leveraging advanced machine learning techniques, the initiative aims to address technical challenges and pave the way for a seamless intersection of technology and media."
      ]
    },
    {
      "cell_type": "markdown",
      "metadata": {
        "id": "saFx1pbT_zTP"
      },
      "source": [
        "### Data Dictionary"
      ]
    },
    {
      "cell_type": "markdown",
      "metadata": {
        "id": "5rJpifbLGVDe"
      },
      "source": [
        "- Date published: The date when the article or content was officially released or made public.\n",
        "- Category: Categorization indicating the broad topic or subject of the content.\n",
        "- Section: Subdivision within the publication that helps classify the content further.\n",
        "- Headline: Brief and catchy title summarizing the main idea or topic of the content.\n",
        "- Description: A short summary or overview of the content, providing additional context.\n",
        "- Keywords: Relevant keywords or tags associated with the content for search engine optimization.\n",
        "- Article text: The main body of the article or content containing detailed information and context."
      ]
    },
    {
      "cell_type": "markdown",
      "metadata": {
        "id": "tqfNqaJCQeEE"
      },
      "source": [
        "## Importing the necessary libraries"
      ]
    },
    {
      "cell_type": "code",
      "execution_count": null,
      "metadata": {
        "colab": {
          "base_uri": "https://localhost:8080/"
        },
        "id": "GD4Au7fKWy18",
        "outputId": "521fc733-c9bf-4795-be37-f4cea648ef52"
      },
      "outputs": [
        {
          "name": "stdout",
          "output_type": "stream",
          "text": [
            "\u001b[?25l     \u001b[90m━━━━━━━━━━━━━━━━━━━━━━━━━━━━━━━━━━━━━━━━\u001b[0m \u001b[32m0.0/235.5 kB\u001b[0m \u001b[31m?\u001b[0m eta \u001b[36m-:--:--\u001b[0m\r\u001b[2K     \u001b[91m━━━━━━━━━━━━━━━━━━━━━━━━━━━━━━━━━\u001b[0m\u001b[90m╺\u001b[0m\u001b[90m━━━━━━\u001b[0m \u001b[32m194.6/235.5 kB\u001b[0m \u001b[31m5.7 MB/s\u001b[0m eta \u001b[36m0:00:01\u001b[0m\r\u001b[2K     \u001b[90m━━━━━━━━━━━━━━━━━━━━━━━━━━━━━━━━━━━━━━━━\u001b[0m \u001b[32m235.5/235.5 kB\u001b[0m \u001b[31m5.3 MB/s\u001b[0m eta \u001b[36m0:00:00\u001b[0m\n",
            "\u001b[?25h"
          ]
        }
      ],
      "source": [
        "# installing libraries to use word embeddings\n",
        "!pip install gensim -q"
      ]
    },
    {
      "cell_type": "code",
      "execution_count": null,
      "metadata": {
        "colab": {
          "base_uri": "https://localhost:8080/"
        },
        "id": "V8W8_H30XNWh",
        "outputId": "f398fc99-26f2-4814-b404-6999681d7972"
      },
      "outputs": [
        {
          "name": "stderr",
          "output_type": "stream",
          "text": [
            "[nltk_data] Downloading package stopwords to /root/nltk_data...\n",
            "[nltk_data]   Unzipping corpora/stopwords.zip.\n",
            "[nltk_data] Downloading package wordnet to /root/nltk_data...\n"
          ]
        }
      ],
      "source": [
        "# to read and manipulate the data\n",
        "import pandas as pd\n",
        "import numpy as np\n",
        "pd.set_option('max_colwidth', None)    # setting column to the maximum column width as per the data\n",
        "\n",
        "# to visualise data\n",
        "import matplotlib.pyplot as plt\n",
        "import seaborn as sns\n",
        "\n",
        "# to use regular expressions for manipulating text data\n",
        "import re\n",
        "\n",
        "# to load the natural language toolkit\n",
        "import nltk\n",
        "nltk.download('stopwords')    # loading the stopwords\n",
        "nltk.download('wordnet')    # loading the wordnet module that is used in stemming\n",
        "\n",
        "# to remove common stop words\n",
        "from nltk.corpus import stopwords\n",
        "\n",
        "# to perform stemming\n",
        "from nltk.stem.porter import PorterStemmer\n",
        "\n",
        "# To encode the target variable\n",
        "from sklearn.preprocessing import LabelEncoder\n",
        "\n",
        "# To import Word2Vec\n",
        "from gensim.models import Word2Vec\n",
        "\n",
        "# To tune the model\n",
        "from sklearn.model_selection import GridSearchCV\n",
        "\n",
        "# Converting the Stanford GloVe model vector format to word2vec\n",
        "from gensim.scripts.glove2word2vec import glove2word2vec\n",
        "from gensim.models import KeyedVectors\n",
        "\n",
        "# To split data into train and test sets\n",
        "from sklearn.model_selection import train_test_split\n",
        "\n",
        "# To build a Random Forest model\n",
        "from sklearn.ensemble import RandomForestClassifier\n",
        "\n",
        "# To compute metrics to evaluate the model\n",
        "from sklearn.metrics import confusion_matrix, accuracy_score, f1_score, precision_score, recall_score, classification_report"
      ]
    },
    {
      "cell_type": "markdown",
      "metadata": {
        "id": "fantastic-rebel"
      },
      "source": [
        "## Loading the dataset"
      ]
    },
    {
      "cell_type": "code",
      "execution_count": null,
      "metadata": {
        "colab": {
          "base_uri": "https://localhost:8080/"
        },
        "id": "hUtM4aB4PLTp",
        "outputId": "7ec6e136-50ae-4255-e2ad-0b3743e48a17"
      },
      "outputs": [
        {
          "name": "stdout",
          "output_type": "stream",
          "text": [
            "Mounted at /content/drive\n"
          ]
        }
      ],
      "source": [
        "# mounting Google Drive\n",
        "from google.colab import drive\n",
        "drive.mount('/content/drive')"
      ]
    },
    {
      "cell_type": "code",
      "execution_count": null,
      "metadata": {
        "id": "Dtml5eZYPGK9"
      },
      "outputs": [],
      "source": [
        "# loading the dataset\n",
        "df = pd.read_csv('/content/Articles.csv')"
      ]
    },
    {
      "cell_type": "code",
      "execution_count": null,
      "metadata": {
        "id": "JydHzsM391iy"
      },
      "outputs": [],
      "source": [
        "# creating a copy of the dataset\n",
        "data = df.copy()"
      ]
    },
    {
      "cell_type": "markdown",
      "metadata": {
        "id": "vvlzvKeqAH-i"
      },
      "source": [
        "## Data Overview"
      ]
    },
    {
      "cell_type": "markdown",
      "metadata": {
        "id": "cIH4md8nAL4v"
      },
      "source": [
        "### Checking the first five rows of the data"
      ]
    },
    {
      "cell_type": "code",
      "execution_count": null,
      "metadata": {
        "colab": {
          "base_uri": "https://localhost:8080/",
          "height": 1000
        },
        "id": "MKS-Z7GiCmWX",
        "outputId": "7f9ab2de-0f76-40bb-d4a6-3b1f36eb59b5"
      },
      "outputs": [
        {
          "data": {
            "text/html": [
              "\n",
              "  <div id=\"df-3ffdc3d8-df1c-454a-b4a4-e313d947ce73\" class=\"colab-df-container\">\n",
              "    <div>\n",
              "<style scoped>\n",
              "    .dataframe tbody tr th:only-of-type {\n",
              "        vertical-align: middle;\n",
              "    }\n",
              "\n",
              "    .dataframe tbody tr th {\n",
              "        vertical-align: top;\n",
              "    }\n",
              "\n",
              "    .dataframe thead th {\n",
              "        text-align: right;\n",
              "    }\n",
              "</style>\n",
              "<table border=\"1\" class=\"dataframe\">\n",
              "  <thead>\n",
              "    <tr style=\"text-align: right;\">\n",
              "      <th></th>\n",
              "      <th>Date published</th>\n",
              "      <th>Category</th>\n",
              "      <th>Section</th>\n",
              "      <th>Headline</th>\n",
              "      <th>Description</th>\n",
              "      <th>Keywords</th>\n",
              "      <th>Article text</th>\n",
              "    </tr>\n",
              "  </thead>\n",
              "  <tbody>\n",
              "    <tr>\n",
              "      <th>0</th>\n",
              "      <td>2021-07-15 02:46:59</td>\n",
              "      <td>news</td>\n",
              "      <td>world</td>\n",
              "      <td>There's a shortage of truckers, but TuSimple thinks it has a solution: no driver needed - CNN</td>\n",
              "      <td>The e-commerce boom has exacerbated a global truck driver shortage, but could autonomous trucks help fix the problem?</td>\n",
              "      <td>world, There's a shortage of truckers, but TuSimple thinks it has a solution: no driver needed - CNN</td>\n",
              "      <td>(CNN)Right now, there's a shortage of truck drivers in the US and worldwide, exacerbated by the e-commerce boom brought on by the pandemic. One solution to the problem is autonomous trucks, and several companies are in a race to be the first to launch one. Among them is San Diego-based TuSimple.Founded in 2015, TuSimple has completed about 2 million miles of road tests with its 70 prototype trucks across the US, China and Europe. Although these are simply commercially available trucks retrofitted with its technology, TuSimple has deals in place with two of the world's largest truck manufacturers -- Navistar in the US and Traton, Volkswagen's trucking business, in Europe -- to design and build fully autonomous models, which it hopes to launch by 2024. Photos: The Yara Birkeland is what its builders call the world's first zero-emission, autonomous cargo ship. The ship is scheduled to make its first journey between two Norwegian towns before the end of the year. Click through to see more forms of transport set to transform the future.Hide Caption 1 of 13 Photos: Pictured here as a rendering, Oceanbird is a wind-powered transatlantic car carrier that cuts carbon emissions by 90%, compared to a standard car carrier.Hide Caption 2 of 13 Photos: It's not just maritime ships that are going green. Cities around the world are adopting electric ferries. Norwegian startup Zeabuz hopes its self-driving electric ferry (pictured here as a rendering) will help revive urban waterways.Hide Caption 3 of 13 Photos: In China, a new Maglev high-speed train rolls off the production line in Qingdao, east China's Shandong Province, on July 20. It has a top speed of 600 km per hour -- currently the fastest ground vehicle available globally. Hide Caption 4 of 13 Photos: Reaching speeds of up to 1,000 kilometers (620 miles) per hour, Hyperloop could be a sustainable replacement to short-haul flights. Dutch company Hardt (shown here as a rendering) started work on its Hyperloop test facility in Europe, anticipated to open in 2022.Hide Caption 5 of 13 Photos: Hyperloop is like a bullet train, without tracks and rails. Floating pods are propelled through a low-pressure steel tube using magnetic levitation. Virgin has been running tests with passengers on its XP-2 vehicle, pictured here.Hide Caption 6 of 13 Photos: Low carbon travel isn't just about switching to sustainable fuel sources -- it's also about redesigning the transport itself. A \"Flying-V\" plane designed by Delft's University of Technology in the Netherlands and Dutch airline KLM can cut fuel consumption by 20%. Ultimately, researchers hope to switch out the kerosene with a sustainable fuel source, like liquid hydrogen.Hide Caption 7 of 13 Photos: Hydrogen aviation could provide a sustainable solution for short and medium-haul flights. In September, Airbus unveiled plans for three hydrogen-powered, zero-emission aircraft which can carry 100 to 200 passengers. It hopes to launch the first ZEROe aircraft in 2035.Hide Caption 8 of 13 Photos: In December 2019, Canadian airline Harbour Air flew the world's first all-electric, zero-emission commercial aircraft. The six-seater seaplane was retrofitted with magniX's magni500 all-electric motor. Harbour Air -- which carries half a million passengers annually -- hopes to become the world's first all-electric airline. Hide Caption 9 of 13 Photos: In the case of electric bikes, the future is now: one retailer reported the sale of e-bikes and e-scooters had increased 230% this year. E-bikes give the user a boost to their pedaling, allowing them to go further with less effort. E-bikes are now even available on ride-share apps, like Uber.Hide Caption 10 of 13 Photos: While sleeper trains or buses might be the way most of us get some shut-eye on overnight travel, this rendering of a self-driving hotel suite from Toronto-based designer Steve Lee of Aprilli Design Studio might offer a plush alternative in the future.Hide Caption 11 of 13 Photos: In the UAE, these futuristic-looking pods are undergoing testing on a 400-meter line in Sharjah, which borders Dubai. Belarus-based uSky Transport says its pods can help cities solve traffic problems.Hide Caption 12 of 13 Photos: The Coradia iLint by French rail transport company Alstom is the world's first hydrogen-powered passenger train. It began testing in Germany in 2018, and in September 2020 entered regular service in Austria.Hide Caption 13 of 13No sleepTuSimple's latest road test involved hauling fresh produce 951 miles, from Nogales, Arizona to Oklahoma City. The pickup and the dropoff were handled by a human driver, but for the bulk of the route -- from Tucson to Dallas -- the truck drove itself. Read More\"Today, because the system is not fully ready, we have a safety driver and a safety engineer on board at all times when we're testing, but we drove in full autonomy: the driver wasn't touching the wheel,\" said Cheng Lu, TuSimple's president and CEO. The journey was completed in 14 hours versus the usual 24 with a human driver, mostly because a truck doesn't need to sleep. \"In the US, a driver can only work 11 hours a day. We simply had a handoff when our first pair of drivers had to stop because they reached their 11 hours of operation,\" said Lu. That, of course, negates the advantage of an autonomous system, so the idea is that once TuSimple's trucks hit the market, there will be no need to have anyone onboard. Picking up the watermelons still required the human touch.Unlike self-driving cars, which are a still a way from being commercially available, TuSimple trucks won't be required to operate in bustling city traffic, but only on stretches of highway that have been thoroughly mapped via the company's own software. \"We collect data from the roads, and we create this very detailed, high definition map of each route. That adds another layer of safety for the vehicles,\" said Lu. As a result, TuSimple's trucks will only be able to self-drive along these pre-mapped trade corridors, which Lu calls \"virtual railroads,\" and nowhere else. This swarm of robots gets smarter the more it worksAccording to the company, in the US 80% of goods travel through just 10% of the nation's trade corridors, so even selective mapping allows for capturing a large portion of the business. TuSimple is currently mapping routes between Arizona and Texas, and plans to have mapped routes across the nation by 2024. Its plans are dependent on state legislation, however, because currently some states do not allow for testing of autonomous trucks on public roads. Happier drivers?The technology will add about $50,000 to the cost of a truck, making the final price roughly $200,000. According to Lu, that's still cheaper than paying for a human driver. \"If you take $50,000 and divide it by 1 million miles, the average lifespan of a truck, that means you're adding five cents per mile. But you're saving the cost of a human driver, which based on average US wages is about $80,000 to $120,000 per year -- or 80 cents to $1.20 per mile. Today, the direct labor cost is about 50% of the cost of operating a truck,\" he said. Read: A robotic 'Ironhand' could protect factory workers from injuriesThat doesn't mean driverless trucks will take away jobs, according to Lu. By focusing on the \"middle mile,\" rather than on the pickup and delivery of the goods, TuSimple believes it can create new freight capacity without creating new demand for drivers, while at the same time protecting existing jobs. \"A UPS driver is dropping off 200 packages a day -- that's not what autonomy is meant for. We believe that every driver will be able to retire as a driver, even if they enter the workforce today,\" said Lu. TuSimple's autonomous fleet.Instead, TuSimple aims to take over the routes between terminals and distribution centers, which involve long stretches of monotonous driving. \"Take Phoenix to El Paso: that's a six-hour drive. A person cannot make the round trip, because it's more than 11 hours. But the truck can go back and forth all day, the most mundane job that drivers don't want to do. That means you free up that human driver to do the first and the last mile (pickup and delivery).They get to work a full day, which is a more efficient use of their time, and they get to go home at night to their family,\" said Lu.No distractions Although Lu says that the reliability of both the software and the hardware still needs to be increased, TuSimple is planning its first fully autonomous tests, without a human safety driver in the cabin at all, before the end of the year. The results of such tests will indicate whether the company can meet its goal to launch its own trucks by 2024. Lu says that 7,000 have been reserved in the US alone. Photos: The robots running our warehouses Photos: The robots running our warehousesRobots are an increasingly familiar presence in warehouses. At the south-east London warehouse run by British online supermarket Ocado, 3,000 robots fulfill shopping orders. When an order is sent to the warehouse, the bots spring to life and head towards the container they require. Scroll through to see more robots that are revolutionizing warehouses.Hide Caption 1 of 8 Photos: The robots running our warehousesIn response to the coronavirus pandemic, MIT collaborated with Ava Robotics and the Greater Boston Food Bank to design a robot that can use UV light to sanitize the floor of a 4,000-square foot warehouse in just 30 minutes. Hide Caption 2 of 8 Photos: The robots running our warehousesSeven-foot \"Model-T\" robots produced by Japanese startup Telexistence have been stacking shelves in two of Tokyo's largest convenience store franchises. Featuring cameras, microphones and sensors, the Model-T uses three \"fingers\" to stock items such as bottled drinks, cans and rice bowls. The robot is controlled by shop staff remotely.Hide Caption 3 of 8 Photos: The robots running our warehousesUS company Boston Dynamics has become known for its advanced work robots. \"Handle\" is made for the warehouse and equipped with an on-board vision system. It can lift boxes weighing over 30 pounds. Hide Caption 4 of 8 Photos: The robots running our warehousesStretch is the latest robot from Boston Dynamics and can work in warehouses and distribution centers. Designed to keep human workers out of harm's way, Stretch's tentacle-like grippers mean it can manipulate boxes. Hide Caption 5 of 8 Photos: The robots running our warehousesAlthough not specifically designed for warehouses, Boston Dynamics' dog-like robot \"Spot\" can lift objects, pick itself up after a fall, open and walk through doors, and even remind people to practice social distancing. Hide Caption 6 of 8 Photos: The robots running our warehousesThis robot is used to plant seeds and check plants at the \"Nordic Harvest\" vertical farm  based in Taastrup, Denmark. The indoor farm is one of the biggest in Europe.Hide Caption 7 of 8 Photos: The robots running our warehousesRobots sort packages at a warehouse run by JD.com -- one of China's largest e-commerce firms, in Wuhan, China, ahead of the annual Singles Day online shopping bonanza, in 2019.Hide Caption 8 of 8 TuSimple has prominent competitors, such as Google spinoff Waymo and Uber-backed Aurora, but those are working on a wider range of self-driving vehicles, including passenger cars. TuSimple is working exclusively on driverless trucks, like US companies Plus and Embark. Grayson Brulte, an autonomy expert at consulting firm Brulte &amp; Co., believes TuSimple is on the right track. \"The biggest competitive advantage that TuSimple has over its competitors is that their technology was purpose-built for trucking. They're not trying to port an autonomy system built for passenger vehicles in dense urban environments to trucking or to build a virtual driver which can both drive passenger vehicles and class-8 trucks. These are different skills and different systems altogether,\" he said. Removing the human element on long trucking routes has other benefits. The company says its trucks react 15 times faster than human drivers, and can see farther down the road, even at night. \"In the US every year there are about 5,000 fatalities involving trucks, and most are due to human error,\" said Lu. \"The truck doesn't get tired, doesn't watch a movie or look at a phone. It doesn't get distracted.\"</td>\n",
              "    </tr>\n",
              "    <tr>\n",
              "      <th>1</th>\n",
              "      <td>2021-05-12 07:52:09</td>\n",
              "      <td>news</td>\n",
              "      <td>world</td>\n",
              "      <td>Bioservo's robotic 'Ironhand' could protect factory workers from injuries - CNN</td>\n",
              "      <td>Working in a factory can mean doing the same task over and over, which could lead to chronic injury.  A battery-powered glove from Swedish company Bioservo could help workers by taking some of the strain.</td>\n",
              "      <td>world, Bioservo's robotic 'Ironhand' could protect factory workers from injuries - CNN</td>\n",
              "      <td>(CNN)Working in a factory or warehouse can mean doing the same task over and over, and that repetition can lead to chronic injury. Now, a battery-powered glove could help workers by taking some of the strain.The \"Ironhand\" glove strengthens the wearer's grip, meaning they don't have to use as much force to perform repetitive manual tasks. Its developer, Bioservo, says it can increase the wearer's hand strength by 20%. The Swedish company describes the system as a \"soft exoskeleton.\" Exoskeletons are an external device that supports and protects the body, typically increasing strength and endurance. Most have a rigid structure, but the Ironhand is soft, like a regular glove.  Photos: The robots running our warehousesRobots are an increasingly familiar presence in warehouses. At the south-east London warehouse run by British online supermarket Ocado, 3,000 robots fulfill shopping orders. When an order is sent to the warehouse, the bots spring to life and head towards the container they require. Scroll through to see more robots that are revolutionizing warehouses.Hide Caption 1 of 8 Photos: The robots running our warehousesIn response to the coronavirus pandemic, MIT collaborated with Ava Robotics and the Greater Boston Food Bank to design a robot that can use UV light to sanitize the floor of a 4,000-square foot warehouse in just 30 minutes. Hide Caption 2 of 8 Photos: The robots running our warehousesSeven-foot \"Model-T\" robots produced by Japanese startup Telexistence have been stacking shelves in two of Tokyo's largest convenience store franchises. Featuring cameras, microphones and sensors, the Model-T uses three \"fingers\" to stock items such as bottled drinks, cans and rice bowls. The robot is controlled by shop staff remotely.Hide Caption 3 of 8 Photos: The robots running our warehousesUS company Boston Dynamics has become known for its advanced work robots. \"Handle\" is made for the warehouse and equipped with an on-board vision system. It can lift boxes weighing over 30 pounds. Hide Caption 4 of 8 Photos: The robots running our warehousesStretch is the latest robot from Boston Dynamics and can work in warehouses and distribution centers. Designed to keep human workers out of harm's way, Stretch's tentacle-like grippers mean it can manipulate boxes. Hide Caption 5 of 8 Photos: The robots running our warehousesAlthough not specifically designed for warehouses, Boston Dynamics' dog-like robot \"Spot\" can lift objects, pick itself up after a fall, open and walk through doors, and even remind people to practice social distancing. Hide Caption 6 of 8 Photos: The robots running our warehousesThis robot is used to plant seeds and check plants at the \"Nordic Harvest\" vertical farm  based in Taastrup, Denmark. The indoor farm is one of the biggest in Europe.Hide Caption 7 of 8 Photos: The robots running our warehousesRobots sort packages at a warehouse run by JD.com -- one of China's largest e-commerce firms, in Wuhan, China, ahead of the annual Singles Day online shopping bonanza, in 2019.Hide Caption 8 of 8Reducing fatigue\"When you have the glove on, it provides strength and reduces the effort needed when lifting objects,\" says Mikael Wester, Bioservo's marketing director. \"It's all in order to reduce fatigue and prevent strain injuries in the long run.\"The Ironhand system was developed with General Motors as a partner.Read MoreThe system consists of a backpack, which houses the power pack, and artificial tendons that connect to the glove. There are sensors on each fingertip which switch on the motor when a user grabs an object. A remote control or app can be used to adjust the strength and sensitivity of the grip.Wester says applications include assembly on the production line in the automotive industry, using tools in construction and lifting heavy objects in warehouses.Each Ironhand system costs around €6,000 ($7,275). The device also collects data that allows the company to assess the wearer's risk of developing strain injuries.  According to the European Agency for Safety and Health at Work, work-related neck and upper limb disorders are the most common occupational disease in Europe, costing national economies up to 2% of their gross national product.From NASA to General Motors The glove was originally intended for workers in a very different setting to the factory floor. NASA developed an early version of the technology, called \"Robo-Glove,\" to help astronauts grasp objects and carry out work in space. The Ironhand system being used for assembling parts in the automobile industry. Bioservo licensed the design in 2016 and then partnered with auto manufacturer General Motors (GM) to develop the glove for its workers. Why online supermarket Ocado wants to take the human touch out of groceries\"Ergonomics is really the field of trying to fit the jobs to the workers, instead of the workers having to conform and adapt to the job,\" says Stephen Krajcarski, a senior manager with GM's ergonomics team.\"By using tools such as the Ironhand we are really trying to mitigate any potential concerns or physical demands that may eventually cause a medical concern for that individual operator.\"  Krajcarski says GM has helped Bioservo to test and improve the Ironhand by piloting it in a variety of jobs at its manufacturing plants. He says some workers have found it easy to use but adds that it's not suitable for all situations.The Ironhand is just one of the exoskeletons GM is looking into. According to market research firm ABI Research, the exoskeleton market will grow from $392 million in 2020 to $6.8 billion in 2030.\"If you look at exoskeletons, this is just one of the tools that are out there,\" says Krajcarski. \"But this is an exciting technology.\"This story has been updated to correct the cost of the Ironhand system.</td>\n",
              "    </tr>\n",
              "    <tr>\n",
              "      <th>2</th>\n",
              "      <td>2021-06-16 02:51:30</td>\n",
              "      <td>news</td>\n",
              "      <td>asia</td>\n",
              "      <td>This swarm of robots gets smarter the more it works - CNN</td>\n",
              "      <td>In a Hong Kong warehouse, a swarm of autonomous robots works 24/7. They're not just working hard, they're working smart; as they operate, they get better at their job.</td>\n",
              "      <td>asia, This swarm of robots gets smarter the more it works - CNN</td>\n",
              "      <td>(CNN)In a Hong Kong warehouse, a swarm of autonomous robots works 24/7. They're not just working hard, they're working smart; as they operate, they get better at their job.The Autonomous Mobile Robots were developed by Chinese startup Geek+. As they move around the warehouse they're guided by QR codes on the floor, and using AI they are able to make their own decisions, including what direction to travel and what route to take to their destination.  Photos: The robots running our warehousesRobots are an increasingly familiar presence in warehouses. At the south-east London warehouse run by British online supermarket Ocado, 3,000 robots fulfill shopping orders. When an order is sent to the warehouse, the bots spring to life and head towards the container they require. Scroll through to see more robots that are revolutionizing warehouses.Hide Caption 1 of 8 Photos: The robots running our warehousesIn response to the coronavirus pandemic, MIT collaborated with Ava Robotics and the Greater Boston Food Bank to design a robot that can use UV light to sanitize the floor of a 4,000-square foot warehouse in just 30 minutes. Hide Caption 2 of 8 Photos: The robots running our warehousesSeven-foot \"Model-T\" robots produced by Japanese startup Telexistence have been stacking shelves in two of Tokyo's largest convenience store franchises. Featuring cameras, microphones and sensors, the Model-T uses three \"fingers\" to stock items such as bottled drinks, cans and rice bowls. The robot is controlled by shop staff remotely.Hide Caption 3 of 8 Photos: The robots running our warehousesUS company Boston Dynamics has become known for its advanced work robots. \"Handle\" is made for the warehouse and equipped with an on-board vision system. It can lift boxes weighing over 30 pounds. Hide Caption 4 of 8 Photos: The robots running our warehousesStretch is the latest robot from Boston Dynamics and can work in warehouses and distribution centers. Designed to keep human workers out of harm's way, Stretch's tentacle-like grippers mean it can manipulate boxes. Hide Caption 5 of 8 Photos: The robots running our warehousesAlthough not specifically designed for warehouses, Boston Dynamics' dog-like robot \"Spot\" can lift objects, pick itself up after a fall, open and walk through doors, and even remind people to practice social distancing. Hide Caption 6 of 8 Photos: The robots running our warehousesThis robot is used to plant seeds and check plants at the \"Nordic Harvest\" vertical farm  based in Taastrup, Denmark. The indoor farm is one of the biggest in Europe.Hide Caption 7 of 8 Photos: The robots running our warehousesRobots sort packages at a warehouse run by JD.com -- one of China's largest e-commerce firms, in Wuhan, China, ahead of the annual Singles Day online shopping bonanza, in 2019.Hide Caption 8 of 8A team tracks these movements and uses the data to improve their algorithms, making the robots more efficient.Robots have become commonplace in warehouses worldwide and Geek+ says it has more than 15,000 robots in over 30 countries, including in Nike and Decathlon warehouses. Managing director Lit Fung says having robots that become more efficient over time helps companies meet demands for fast delivery, as well as reducing labor costs and human error. Read More\"Everyone is looking for an automation solution to apply to their warehouse,\" he says.  Watch the video for the full story.</td>\n",
              "    </tr>\n",
              "    <tr>\n",
              "      <th>3</th>\n",
              "      <td>2022-03-15 09:57:36</td>\n",
              "      <td>business</td>\n",
              "      <td>investing</td>\n",
              "      <td>Russia is no longer an option for investors. These emerging markets are - CNN</td>\n",
              "      <td>For many years, the world's most popular emerging markets have been the so-called BRICS: Brazil, Russia, India, China and South Africa.</td>\n",
              "      <td>investing, Russia is no longer an option for investors. These emerging markets are - CNN</td>\n",
              "      <td>New York (CNN Business)For many years, the world's most popular emerging markets have been the so-called BRICS: Brazil, Russia, India, China and South Africa.But given that Russia is no longer a market that Westerners can access following the invasion of Ukraine, it might be time for investors to stop lumping all of the emerging markets together.\"The BRICS had their day in the sun and that has faded,\" said Eric Winograd, senior economist at AllianceBernstein.Several major US index providers have removed Russian stocks from indexes at a price of \"zero\" or \"effectively zero.\" Trading shares of several leading US-listed Russian companies, such as search engine Yandex and telecom MTS, have been halted. And the Moscow Stock Exchange has been closed since February 25, the day after the invasion.Russia could default on its debt within days\"The idea that a country as large as Russia can be removed from indexes is a big deal,\" Winograd said.Read MoreIt seems likely that Russia will not be included in top emerging markets funds anytime soon. Even for those Westerners still willing to invest in Russian assets, it's not clear what comes next.\"Some investors are asking about exposure to Russia in emerging markets funds. With indexes starting to exclude Russia, it's still a wait-and-see game,\" said Mychal Campos, head of investing at Betterment.For investors looking to get exposure to emerging markets, Winograd said, each country should be looked at individually.\"The name of the game will be differentiation. Don't invest in emerging markets based on an acronym,\" Winograd said. \"It's always strange to say that Argentina and South Korea are the same thing, for example. They're not.\" Forget the BRICS and look at TICKS or MIST?To stick with the acronyms, the shutdown of the Russian stock market has essentially turned the BRICS into the BICS — and that could be a permanent change, said Rahul Sen Sharma, managing partner with Indxx, a global index provider. \"Will investors ever embrace Russia again? If there is no liquidity, it's a moot point. But it's also hard to believe that people will rush into Russia anytime soon,\" Sen Sharma told CNN Business.Sen Sharma said some investors may start to look at other emerging markets to replace Russia, such as Taiwan and South Korea. The BRICS could become the TICKS. He added that Poland, Turkey and Mexico are intriguing, as are the Philippines and Indonesia. You could dub Mexico, Indonesia, South Korea and Turkey the MIST markets. \"People love their acronyms,\" Sen Sharma joked.Of course, any emerging market in Europe — think Poland —  is inherently risky because of how close it is geographically to Russia and Ukraine. So other Central and Eastern European nations may be a hard sell for Western investors.War in Ukraine has sparked a scramble for dollarsOther experts argue that investors are looking more at individual companies in emerging markets and less at the countries themselves.\"A typical investor sees emerging markets as a class of stocks. It's a piece of a portfolio,\" said Callie Cox, US investment analyst at eToro.\"The emerging markets landscape has been changing for awhile,\" Cox added, noting that many investors have been skeptical of Russia since its annexation of Crimea in 2014. \"There has been more anxiety.\"</td>\n",
              "    </tr>\n",
              "    <tr>\n",
              "      <th>4</th>\n",
              "      <td>2022-03-15 11:27:02</td>\n",
              "      <td>business</td>\n",
              "      <td>business</td>\n",
              "      <td>Russian energy investment ban part of new EU sanctions wave  - CNN</td>\n",
              "      <td>The European Union formally approved on Tuesday a new barrage of sanctions against Russia for its invasion of Ukraine, which include bans on investments in the Russian energy sector, luxury goods exports and imports of steel products from Russia.</td>\n",
              "      <td>business, Russian energy investment ban part of new EU sanctions wave  - CNN</td>\n",
              "      <td>The European Union formally approved on Tuesday a new barrage of sanctions against Russia for its invasion of Ukraine, which include bans on investments in the Russian energy sector, luxury goods exports and imports of steel products from Russia.The sanctions, which come into effect after publication in the EU official journal later on Tuesday, also freeze the assets of more business leaders who support the Russian state, including Chelsea football club owner Roman Abramovich. The European Commission said in a statement on Tuesday that the sanctions included \"a far-reaching ban on new investment across the Russian energy sector with limited exceptions for civil nuclear energy and the transport of certain energy products back to the EU.\"The measure will hit Russia's oil majors Rosneft, Transneft and Gazprom Neft (GZPFY), but EU members will be still able to buy oil and gas from them, an EU source told Reuters.There will also be a total ban on transactions with some Russian state-owned enterprises linked to the Kremlin's military-industrial complex, the EU executive said.Read MoreThe bloc reached a preliminary agreement on the new sanctions on Monday, and no objections were raised before an agreed deadline.The ban on Russian steel imports is estimated to affect 3.3 billion euros ($3.6 billion) worth of products, the Commission said.EU companies will also be no longer allowed to export any luxury goods worth more than 300 euros, including jewelry. Exports of cars costing more than 50,000 euros will also be banned, EU sources said.The package also prohibits EU credit rating agencies from issuing ratings for Russia and Russian companies, which the Commission says will further restrict their access to European financial markets.The latest sanctions follow three rounds of punitive measures which included freezing of assets of the Russian central bank and the exclusion from the SWIFT banking system of some Russian and Belarusian banks.The EU also agreed on Tuesday to strip Russia of its \"most-favored nation\" trade status, opening the door to punitive tariffs on Russian goods or outright import bans.UK slaps 35% tariff on Russian vodkaThe UK government also announced a fresh round of sanctions on Russia on Tuesday. It will ban the export of luxury goods to Russia and will introduce tariffs on Russian goods worth more than $1 billion. The additional 35% tariff will be applied to imports including vodka, steel, works of art and fur. The United Kingdom will also deny Russia and Belarus access to its most favoured nation trading tariff for hundreds of their exports, effectively depriving both countries of key benefits of their WTO membership.\"Our new tariffs will further isolate the Russian economy from global trade, ensuring it does not benefit from the rules-based international system it does not respect. These tariffs build on the UK's existing work to starve Russia's access to international finance, sanction Putin's cronies and exert maximum economic pressure on his regime,\" finance minister Rishi Sunak said in a statement.— CNN's Rob North contributed to this article.</td>\n",
              "    </tr>\n",
              "  </tbody>\n",
              "</table>\n",
              "</div>\n",
              "    <div class=\"colab-df-buttons\">\n",
              "\n",
              "  <div class=\"colab-df-container\">\n",
              "    <button class=\"colab-df-convert\" onclick=\"convertToInteractive('df-3ffdc3d8-df1c-454a-b4a4-e313d947ce73')\"\n",
              "            title=\"Convert this dataframe to an interactive table.\"\n",
              "            style=\"display:none;\">\n",
              "\n",
              "  <svg xmlns=\"http://www.w3.org/2000/svg\" height=\"24px\" viewBox=\"0 -960 960 960\">\n",
              "    <path d=\"M120-120v-720h720v720H120Zm60-500h600v-160H180v160Zm220 220h160v-160H400v160Zm0 220h160v-160H400v160ZM180-400h160v-160H180v160Zm440 0h160v-160H620v160ZM180-180h160v-160H180v160Zm440 0h160v-160H620v160Z\"/>\n",
              "  </svg>\n",
              "    </button>\n",
              "\n",
              "  <style>\n",
              "    .colab-df-container {\n",
              "      display:flex;\n",
              "      gap: 12px;\n",
              "    }\n",
              "\n",
              "    .colab-df-convert {\n",
              "      background-color: #E8F0FE;\n",
              "      border: none;\n",
              "      border-radius: 50%;\n",
              "      cursor: pointer;\n",
              "      display: none;\n",
              "      fill: #1967D2;\n",
              "      height: 32px;\n",
              "      padding: 0 0 0 0;\n",
              "      width: 32px;\n",
              "    }\n",
              "\n",
              "    .colab-df-convert:hover {\n",
              "      background-color: #E2EBFA;\n",
              "      box-shadow: 0px 1px 2px rgba(60, 64, 67, 0.3), 0px 1px 3px 1px rgba(60, 64, 67, 0.15);\n",
              "      fill: #174EA6;\n",
              "    }\n",
              "\n",
              "    .colab-df-buttons div {\n",
              "      margin-bottom: 4px;\n",
              "    }\n",
              "\n",
              "    [theme=dark] .colab-df-convert {\n",
              "      background-color: #3B4455;\n",
              "      fill: #D2E3FC;\n",
              "    }\n",
              "\n",
              "    [theme=dark] .colab-df-convert:hover {\n",
              "      background-color: #434B5C;\n",
              "      box-shadow: 0px 1px 3px 1px rgba(0, 0, 0, 0.15);\n",
              "      filter: drop-shadow(0px 1px 2px rgba(0, 0, 0, 0.3));\n",
              "      fill: #FFFFFF;\n",
              "    }\n",
              "  </style>\n",
              "\n",
              "    <script>\n",
              "      const buttonEl =\n",
              "        document.querySelector('#df-3ffdc3d8-df1c-454a-b4a4-e313d947ce73 button.colab-df-convert');\n",
              "      buttonEl.style.display =\n",
              "        google.colab.kernel.accessAllowed ? 'block' : 'none';\n",
              "\n",
              "      async function convertToInteractive(key) {\n",
              "        const element = document.querySelector('#df-3ffdc3d8-df1c-454a-b4a4-e313d947ce73');\n",
              "        const dataTable =\n",
              "          await google.colab.kernel.invokeFunction('convertToInteractive',\n",
              "                                                    [key], {});\n",
              "        if (!dataTable) return;\n",
              "\n",
              "        const docLinkHtml = 'Like what you see? Visit the ' +\n",
              "          '<a target=\"_blank\" href=https://colab.research.google.com/notebooks/data_table.ipynb>data table notebook</a>'\n",
              "          + ' to learn more about interactive tables.';\n",
              "        element.innerHTML = '';\n",
              "        dataTable['output_type'] = 'display_data';\n",
              "        await google.colab.output.renderOutput(dataTable, element);\n",
              "        const docLink = document.createElement('div');\n",
              "        docLink.innerHTML = docLinkHtml;\n",
              "        element.appendChild(docLink);\n",
              "      }\n",
              "    </script>\n",
              "  </div>\n",
              "\n",
              "\n",
              "<div id=\"df-5179329b-a439-4245-bcc5-a9385ca008d0\">\n",
              "  <button class=\"colab-df-quickchart\" onclick=\"quickchart('df-5179329b-a439-4245-bcc5-a9385ca008d0')\"\n",
              "            title=\"Suggest charts\"\n",
              "            style=\"display:none;\">\n",
              "\n",
              "<svg xmlns=\"http://www.w3.org/2000/svg\" height=\"24px\"viewBox=\"0 0 24 24\"\n",
              "     width=\"24px\">\n",
              "    <g>\n",
              "        <path d=\"M19 3H5c-1.1 0-2 .9-2 2v14c0 1.1.9 2 2 2h14c1.1 0 2-.9 2-2V5c0-1.1-.9-2-2-2zM9 17H7v-7h2v7zm4 0h-2V7h2v10zm4 0h-2v-4h2v4z\"/>\n",
              "    </g>\n",
              "</svg>\n",
              "  </button>\n",
              "\n",
              "<style>\n",
              "  .colab-df-quickchart {\n",
              "      --bg-color: #E8F0FE;\n",
              "      --fill-color: #1967D2;\n",
              "      --hover-bg-color: #E2EBFA;\n",
              "      --hover-fill-color: #174EA6;\n",
              "      --disabled-fill-color: #AAA;\n",
              "      --disabled-bg-color: #DDD;\n",
              "  }\n",
              "\n",
              "  [theme=dark] .colab-df-quickchart {\n",
              "      --bg-color: #3B4455;\n",
              "      --fill-color: #D2E3FC;\n",
              "      --hover-bg-color: #434B5C;\n",
              "      --hover-fill-color: #FFFFFF;\n",
              "      --disabled-bg-color: #3B4455;\n",
              "      --disabled-fill-color: #666;\n",
              "  }\n",
              "\n",
              "  .colab-df-quickchart {\n",
              "    background-color: var(--bg-color);\n",
              "    border: none;\n",
              "    border-radius: 50%;\n",
              "    cursor: pointer;\n",
              "    display: none;\n",
              "    fill: var(--fill-color);\n",
              "    height: 32px;\n",
              "    padding: 0;\n",
              "    width: 32px;\n",
              "  }\n",
              "\n",
              "  .colab-df-quickchart:hover {\n",
              "    background-color: var(--hover-bg-color);\n",
              "    box-shadow: 0 1px 2px rgba(60, 64, 67, 0.3), 0 1px 3px 1px rgba(60, 64, 67, 0.15);\n",
              "    fill: var(--button-hover-fill-color);\n",
              "  }\n",
              "\n",
              "  .colab-df-quickchart-complete:disabled,\n",
              "  .colab-df-quickchart-complete:disabled:hover {\n",
              "    background-color: var(--disabled-bg-color);\n",
              "    fill: var(--disabled-fill-color);\n",
              "    box-shadow: none;\n",
              "  }\n",
              "\n",
              "  .colab-df-spinner {\n",
              "    border: 2px solid var(--fill-color);\n",
              "    border-color: transparent;\n",
              "    border-bottom-color: var(--fill-color);\n",
              "    animation:\n",
              "      spin 1s steps(1) infinite;\n",
              "  }\n",
              "\n",
              "  @keyframes spin {\n",
              "    0% {\n",
              "      border-color: transparent;\n",
              "      border-bottom-color: var(--fill-color);\n",
              "      border-left-color: var(--fill-color);\n",
              "    }\n",
              "    20% {\n",
              "      border-color: transparent;\n",
              "      border-left-color: var(--fill-color);\n",
              "      border-top-color: var(--fill-color);\n",
              "    }\n",
              "    30% {\n",
              "      border-color: transparent;\n",
              "      border-left-color: var(--fill-color);\n",
              "      border-top-color: var(--fill-color);\n",
              "      border-right-color: var(--fill-color);\n",
              "    }\n",
              "    40% {\n",
              "      border-color: transparent;\n",
              "      border-right-color: var(--fill-color);\n",
              "      border-top-color: var(--fill-color);\n",
              "    }\n",
              "    60% {\n",
              "      border-color: transparent;\n",
              "      border-right-color: var(--fill-color);\n",
              "    }\n",
              "    80% {\n",
              "      border-color: transparent;\n",
              "      border-right-color: var(--fill-color);\n",
              "      border-bottom-color: var(--fill-color);\n",
              "    }\n",
              "    90% {\n",
              "      border-color: transparent;\n",
              "      border-bottom-color: var(--fill-color);\n",
              "    }\n",
              "  }\n",
              "</style>\n",
              "\n",
              "  <script>\n",
              "    async function quickchart(key) {\n",
              "      const quickchartButtonEl =\n",
              "        document.querySelector('#' + key + ' button');\n",
              "      quickchartButtonEl.disabled = true;  // To prevent multiple clicks.\n",
              "      quickchartButtonEl.classList.add('colab-df-spinner');\n",
              "      try {\n",
              "        const charts = await google.colab.kernel.invokeFunction(\n",
              "            'suggestCharts', [key], {});\n",
              "      } catch (error) {\n",
              "        console.error('Error during call to suggestCharts:', error);\n",
              "      }\n",
              "      quickchartButtonEl.classList.remove('colab-df-spinner');\n",
              "      quickchartButtonEl.classList.add('colab-df-quickchart-complete');\n",
              "    }\n",
              "    (() => {\n",
              "      let quickchartButtonEl =\n",
              "        document.querySelector('#df-5179329b-a439-4245-bcc5-a9385ca008d0 button');\n",
              "      quickchartButtonEl.style.display =\n",
              "        google.colab.kernel.accessAllowed ? 'block' : 'none';\n",
              "    })();\n",
              "  </script>\n",
              "</div>\n",
              "    </div>\n",
              "  </div>\n"
            ],
            "text/plain": [
              "        Date published  Category    Section  \\\n",
              "0  2021-07-15 02:46:59      news      world   \n",
              "1  2021-05-12 07:52:09      news      world   \n",
              "2  2021-06-16 02:51:30      news       asia   \n",
              "3  2022-03-15 09:57:36  business  investing   \n",
              "4  2022-03-15 11:27:02  business   business   \n",
              "\n",
              "                                                                                        Headline  \\\n",
              "0  There's a shortage of truckers, but TuSimple thinks it has a solution: no driver needed - CNN   \n",
              "1                Bioservo's robotic 'Ironhand' could protect factory workers from injuries - CNN   \n",
              "2                                      This swarm of robots gets smarter the more it works - CNN   \n",
              "3                  Russia is no longer an option for investors. These emerging markets are - CNN   \n",
              "4                             Russian energy investment ban part of new EU sanctions wave  - CNN   \n",
              "\n",
              "                                                                                                                                                                                                                                              Description  \\\n",
              "0                                                                                                                                   The e-commerce boom has exacerbated a global truck driver shortage, but could autonomous trucks help fix the problem?   \n",
              "1                                            Working in a factory can mean doing the same task over and over, which could lead to chronic injury.  A battery-powered glove from Swedish company Bioservo could help workers by taking some of the strain.   \n",
              "2                                                                                 In a Hong Kong warehouse, a swarm of autonomous robots works 24/7. They're not just working hard, they're working smart; as they operate, they get better at their job.   \n",
              "3                                                                                                                 For many years, the world's most popular emerging markets have been the so-called BRICS: Brazil, Russia, India, China and South Africa.   \n",
              "4  The European Union formally approved on Tuesday a new barrage of sanctions against Russia for its invasion of Ukraine, which include bans on investments in the Russian energy sector, luxury goods exports and imports of steel products from Russia.   \n",
              "\n",
              "                                                                                               Keywords  \\\n",
              "0  world, There's a shortage of truckers, but TuSimple thinks it has a solution: no driver needed - CNN   \n",
              "1                world, Bioservo's robotic 'Ironhand' could protect factory workers from injuries - CNN   \n",
              "2                                       asia, This swarm of robots gets smarter the more it works - CNN   \n",
              "3              investing, Russia is no longer an option for investors. These emerging markets are - CNN   \n",
              "4                          business, Russian energy investment ban part of new EU sanctions wave  - CNN   \n",
              "\n",
              "                                                                                                                                                                                                                                                                                                                                                                                                                                                                                                                                                                                                                                                                                                                                                                                                                                                                                                                                                                                                                                                                                                                                                                                                                                                                                                                                                                                                                                                                                                                                                                                                                                                                                                                                                                                                                                                                                                                                                                                                                                                                                                                                                                                                                                                                                                                                                                                                                                                                                                                                                                                                                                                                                                                                                                                                                                                                                                                                                                                                                                                                                                                                                                                                                                                                                                                                                                                                                                                                                                                                                                                                                                                                                                                                                                                                                                                                                                                                                                                                                                                                                                                                                                                                                                                                                                                                                                                                                                                                                                                                                                                                                                                                                                                                                                                                                                                                                                                                                                                                                                                                                                                                                                                                                                                                                                                                                                                                                                                                                                                                                                                                                                                                                                                                                                                                                                                                                                                                                                                                                                                                                                                                                                                                                                                                                                                                                                                                                                                                                                                                                                                                                                                                                                                                                                                                                                                                                                                                                                                                                                                                                                                                                                                                                                                                                                                                                                                                                                                                                                                                                                                                                                                                                                                                                                                                                                                                                                                                                                                                                                                                                                                                                                                                                                                                                                                                                                                                                                                                                                                                                                                                                                                                                                                                                                                                                                                                                                                                                                                                                                                                                                                                                                                                                                                                                                                                                                                                                                                                                                                                                                                                                                                                                                                                                                                                                                                                                                                                                                                                                                                                                                                                                                                                                                                                                                                                                                                                                                                                                                                                                                                                                                                                                                                                                                                                                                                                                                                                                                                                                                                                                                                                                                                                                                                                                                                                                                                                                                                                                                                                                                                                                                                                                                                                                                                                                                                                                                                                                                                                                                                                                                                                                                                                                                                                                                                                                                                                                                                                                                                                                                                                                                                                                                                                                                                                                                                                Article text  \n",
              "0   (CNN)Right now, there's a shortage of truck drivers in the US and worldwide, exacerbated by the e-commerce boom brought on by the pandemic. One solution to the problem is autonomous trucks, and several companies are in a race to be the first to launch one. Among them is San Diego-based TuSimple.Founded in 2015, TuSimple has completed about 2 million miles of road tests with its 70 prototype trucks across the US, China and Europe. Although these are simply commercially available trucks retrofitted with its technology, TuSimple has deals in place with two of the world's largest truck manufacturers -- Navistar in the US and Traton, Volkswagen's trucking business, in Europe -- to design and build fully autonomous models, which it hopes to launch by 2024. Photos: The Yara Birkeland is what its builders call the world's first zero-emission, autonomous cargo ship. The ship is scheduled to make its first journey between two Norwegian towns before the end of the year. Click through to see more forms of transport set to transform the future.Hide Caption 1 of 13 Photos: Pictured here as a rendering, Oceanbird is a wind-powered transatlantic car carrier that cuts carbon emissions by 90%, compared to a standard car carrier.Hide Caption 2 of 13 Photos: It's not just maritime ships that are going green. Cities around the world are adopting electric ferries. Norwegian startup Zeabuz hopes its self-driving electric ferry (pictured here as a rendering) will help revive urban waterways.Hide Caption 3 of 13 Photos: In China, a new Maglev high-speed train rolls off the production line in Qingdao, east China's Shandong Province, on July 20. It has a top speed of 600 km per hour -- currently the fastest ground vehicle available globally. Hide Caption 4 of 13 Photos: Reaching speeds of up to 1,000 kilometers (620 miles) per hour, Hyperloop could be a sustainable replacement to short-haul flights. Dutch company Hardt (shown here as a rendering) started work on its Hyperloop test facility in Europe, anticipated to open in 2022.Hide Caption 5 of 13 Photos: Hyperloop is like a bullet train, without tracks and rails. Floating pods are propelled through a low-pressure steel tube using magnetic levitation. Virgin has been running tests with passengers on its XP-2 vehicle, pictured here.Hide Caption 6 of 13 Photos: Low carbon travel isn't just about switching to sustainable fuel sources -- it's also about redesigning the transport itself. A \"Flying-V\" plane designed by Delft's University of Technology in the Netherlands and Dutch airline KLM can cut fuel consumption by 20%. Ultimately, researchers hope to switch out the kerosene with a sustainable fuel source, like liquid hydrogen.Hide Caption 7 of 13 Photos: Hydrogen aviation could provide a sustainable solution for short and medium-haul flights. In September, Airbus unveiled plans for three hydrogen-powered, zero-emission aircraft which can carry 100 to 200 passengers. It hopes to launch the first ZEROe aircraft in 2035.Hide Caption 8 of 13 Photos: In December 2019, Canadian airline Harbour Air flew the world's first all-electric, zero-emission commercial aircraft. The six-seater seaplane was retrofitted with magniX's magni500 all-electric motor. Harbour Air -- which carries half a million passengers annually -- hopes to become the world's first all-electric airline. Hide Caption 9 of 13 Photos: In the case of electric bikes, the future is now: one retailer reported the sale of e-bikes and e-scooters had increased 230% this year. E-bikes give the user a boost to their pedaling, allowing them to go further with less effort. E-bikes are now even available on ride-share apps, like Uber.Hide Caption 10 of 13 Photos: While sleeper trains or buses might be the way most of us get some shut-eye on overnight travel, this rendering of a self-driving hotel suite from Toronto-based designer Steve Lee of Aprilli Design Studio might offer a plush alternative in the future.Hide Caption 11 of 13 Photos: In the UAE, these futuristic-looking pods are undergoing testing on a 400-meter line in Sharjah, which borders Dubai. Belarus-based uSky Transport says its pods can help cities solve traffic problems.Hide Caption 12 of 13 Photos: The Coradia iLint by French rail transport company Alstom is the world's first hydrogen-powered passenger train. It began testing in Germany in 2018, and in September 2020 entered regular service in Austria.Hide Caption 13 of 13No sleepTuSimple's latest road test involved hauling fresh produce 951 miles, from Nogales, Arizona to Oklahoma City. The pickup and the dropoff were handled by a human driver, but for the bulk of the route -- from Tucson to Dallas -- the truck drove itself. Read More\"Today, because the system is not fully ready, we have a safety driver and a safety engineer on board at all times when we're testing, but we drove in full autonomy: the driver wasn't touching the wheel,\" said Cheng Lu, TuSimple's president and CEO. The journey was completed in 14 hours versus the usual 24 with a human driver, mostly because a truck doesn't need to sleep. \"In the US, a driver can only work 11 hours a day. We simply had a handoff when our first pair of drivers had to stop because they reached their 11 hours of operation,\" said Lu. That, of course, negates the advantage of an autonomous system, so the idea is that once TuSimple's trucks hit the market, there will be no need to have anyone onboard. Picking up the watermelons still required the human touch.Unlike self-driving cars, which are a still a way from being commercially available, TuSimple trucks won't be required to operate in bustling city traffic, but only on stretches of highway that have been thoroughly mapped via the company's own software. \"We collect data from the roads, and we create this very detailed, high definition map of each route. That adds another layer of safety for the vehicles,\" said Lu. As a result, TuSimple's trucks will only be able to self-drive along these pre-mapped trade corridors, which Lu calls \"virtual railroads,\" and nowhere else. This swarm of robots gets smarter the more it worksAccording to the company, in the US 80% of goods travel through just 10% of the nation's trade corridors, so even selective mapping allows for capturing a large portion of the business. TuSimple is currently mapping routes between Arizona and Texas, and plans to have mapped routes across the nation by 2024. Its plans are dependent on state legislation, however, because currently some states do not allow for testing of autonomous trucks on public roads. Happier drivers?The technology will add about $50,000 to the cost of a truck, making the final price roughly $200,000. According to Lu, that's still cheaper than paying for a human driver. \"If you take $50,000 and divide it by 1 million miles, the average lifespan of a truck, that means you're adding five cents per mile. But you're saving the cost of a human driver, which based on average US wages is about $80,000 to $120,000 per year -- or 80 cents to $1.20 per mile. Today, the direct labor cost is about 50% of the cost of operating a truck,\" he said. Read: A robotic 'Ironhand' could protect factory workers from injuriesThat doesn't mean driverless trucks will take away jobs, according to Lu. By focusing on the \"middle mile,\" rather than on the pickup and delivery of the goods, TuSimple believes it can create new freight capacity without creating new demand for drivers, while at the same time protecting existing jobs. \"A UPS driver is dropping off 200 packages a day -- that's not what autonomy is meant for. We believe that every driver will be able to retire as a driver, even if they enter the workforce today,\" said Lu. TuSimple's autonomous fleet.Instead, TuSimple aims to take over the routes between terminals and distribution centers, which involve long stretches of monotonous driving. \"Take Phoenix to El Paso: that's a six-hour drive. A person cannot make the round trip, because it's more than 11 hours. But the truck can go back and forth all day, the most mundane job that drivers don't want to do. That means you free up that human driver to do the first and the last mile (pickup and delivery).They get to work a full day, which is a more efficient use of their time, and they get to go home at night to their family,\" said Lu.No distractions Although Lu says that the reliability of both the software and the hardware still needs to be increased, TuSimple is planning its first fully autonomous tests, without a human safety driver in the cabin at all, before the end of the year. The results of such tests will indicate whether the company can meet its goal to launch its own trucks by 2024. Lu says that 7,000 have been reserved in the US alone. Photos: The robots running our warehouses Photos: The robots running our warehousesRobots are an increasingly familiar presence in warehouses. At the south-east London warehouse run by British online supermarket Ocado, 3,000 robots fulfill shopping orders. When an order is sent to the warehouse, the bots spring to life and head towards the container they require. Scroll through to see more robots that are revolutionizing warehouses.Hide Caption 1 of 8 Photos: The robots running our warehousesIn response to the coronavirus pandemic, MIT collaborated with Ava Robotics and the Greater Boston Food Bank to design a robot that can use UV light to sanitize the floor of a 4,000-square foot warehouse in just 30 minutes. Hide Caption 2 of 8 Photos: The robots running our warehousesSeven-foot \"Model-T\" robots produced by Japanese startup Telexistence have been stacking shelves in two of Tokyo's largest convenience store franchises. Featuring cameras, microphones and sensors, the Model-T uses three \"fingers\" to stock items such as bottled drinks, cans and rice bowls. The robot is controlled by shop staff remotely.Hide Caption 3 of 8 Photos: The robots running our warehousesUS company Boston Dynamics has become known for its advanced work robots. \"Handle\" is made for the warehouse and equipped with an on-board vision system. It can lift boxes weighing over 30 pounds. Hide Caption 4 of 8 Photos: The robots running our warehousesStretch is the latest robot from Boston Dynamics and can work in warehouses and distribution centers. Designed to keep human workers out of harm's way, Stretch's tentacle-like grippers mean it can manipulate boxes. Hide Caption 5 of 8 Photos: The robots running our warehousesAlthough not specifically designed for warehouses, Boston Dynamics' dog-like robot \"Spot\" can lift objects, pick itself up after a fall, open and walk through doors, and even remind people to practice social distancing. Hide Caption 6 of 8 Photos: The robots running our warehousesThis robot is used to plant seeds and check plants at the \"Nordic Harvest\" vertical farm  based in Taastrup, Denmark. The indoor farm is one of the biggest in Europe.Hide Caption 7 of 8 Photos: The robots running our warehousesRobots sort packages at a warehouse run by JD.com -- one of China's largest e-commerce firms, in Wuhan, China, ahead of the annual Singles Day online shopping bonanza, in 2019.Hide Caption 8 of 8 TuSimple has prominent competitors, such as Google spinoff Waymo and Uber-backed Aurora, but those are working on a wider range of self-driving vehicles, including passenger cars. TuSimple is working exclusively on driverless trucks, like US companies Plus and Embark. Grayson Brulte, an autonomy expert at consulting firm Brulte & Co., believes TuSimple is on the right track. \"The biggest competitive advantage that TuSimple has over its competitors is that their technology was purpose-built for trucking. They're not trying to port an autonomy system built for passenger vehicles in dense urban environments to trucking or to build a virtual driver which can both drive passenger vehicles and class-8 trucks. These are different skills and different systems altogether,\" he said. Removing the human element on long trucking routes has other benefits. The company says its trucks react 15 times faster than human drivers, and can see farther down the road, even at night. \"In the US every year there are about 5,000 fatalities involving trucks, and most are due to human error,\" said Lu. \"The truck doesn't get tired, doesn't watch a movie or look at a phone. It doesn't get distracted.\"   \n",
              "1                                                                                                                                                                                                                                                                                                                                                                                                                                                                                                                                                                                                                                                                                                                                                                                                                                                                                                                                                                                                                                                                                                                                                                                                                                                                                                                                                                                                                                                                                                                                                                                                                                                                                                                                                                                                                                                                                                                                                                                                                                                                                                                                                                                                                                                                                                                                                                                                                                                                                                                                                                                                                                                                                                                                                                                                                                                                                                                                                                                                                                                                                                                                                                                                                                                                                                                                                                                                                                                                                                                                                                                                                                                                                                                                                                                                                                                                                                                                                                                                                                                                                                                                                                                                                                                                                                                                                                                                                                                                                                                                                                                                                                                                                                                                                                                                                                                                                                                                                                                                                                                                                                                                                                                                                                                                                                                                                                                                                                                                                                                                                                                                                                                                                                                                                                                                                                                                                                                                                                                                                                                                                                                                                                                                                                                                                                                                                                                                                                                                                                                                                                                                                                                                                                                                                                                                                     (CNN)Working in a factory or warehouse can mean doing the same task over and over, and that repetition can lead to chronic injury. Now, a battery-powered glove could help workers by taking some of the strain.The \"Ironhand\" glove strengthens the wearer's grip, meaning they don't have to use as much force to perform repetitive manual tasks. Its developer, Bioservo, says it can increase the wearer's hand strength by 20%. The Swedish company describes the system as a \"soft exoskeleton.\" Exoskeletons are an external device that supports and protects the body, typically increasing strength and endurance. Most have a rigid structure, but the Ironhand is soft, like a regular glove.  Photos: The robots running our warehousesRobots are an increasingly familiar presence in warehouses. At the south-east London warehouse run by British online supermarket Ocado, 3,000 robots fulfill shopping orders. When an order is sent to the warehouse, the bots spring to life and head towards the container they require. Scroll through to see more robots that are revolutionizing warehouses.Hide Caption 1 of 8 Photos: The robots running our warehousesIn response to the coronavirus pandemic, MIT collaborated with Ava Robotics and the Greater Boston Food Bank to design a robot that can use UV light to sanitize the floor of a 4,000-square foot warehouse in just 30 minutes. Hide Caption 2 of 8 Photos: The robots running our warehousesSeven-foot \"Model-T\" robots produced by Japanese startup Telexistence have been stacking shelves in two of Tokyo's largest convenience store franchises. Featuring cameras, microphones and sensors, the Model-T uses three \"fingers\" to stock items such as bottled drinks, cans and rice bowls. The robot is controlled by shop staff remotely.Hide Caption 3 of 8 Photos: The robots running our warehousesUS company Boston Dynamics has become known for its advanced work robots. \"Handle\" is made for the warehouse and equipped with an on-board vision system. It can lift boxes weighing over 30 pounds. Hide Caption 4 of 8 Photos: The robots running our warehousesStretch is the latest robot from Boston Dynamics and can work in warehouses and distribution centers. Designed to keep human workers out of harm's way, Stretch's tentacle-like grippers mean it can manipulate boxes. Hide Caption 5 of 8 Photos: The robots running our warehousesAlthough not specifically designed for warehouses, Boston Dynamics' dog-like robot \"Spot\" can lift objects, pick itself up after a fall, open and walk through doors, and even remind people to practice social distancing. Hide Caption 6 of 8 Photos: The robots running our warehousesThis robot is used to plant seeds and check plants at the \"Nordic Harvest\" vertical farm  based in Taastrup, Denmark. The indoor farm is one of the biggest in Europe.Hide Caption 7 of 8 Photos: The robots running our warehousesRobots sort packages at a warehouse run by JD.com -- one of China's largest e-commerce firms, in Wuhan, China, ahead of the annual Singles Day online shopping bonanza, in 2019.Hide Caption 8 of 8Reducing fatigue\"When you have the glove on, it provides strength and reduces the effort needed when lifting objects,\" says Mikael Wester, Bioservo's marketing director. \"It's all in order to reduce fatigue and prevent strain injuries in the long run.\"The Ironhand system was developed with General Motors as a partner.Read MoreThe system consists of a backpack, which houses the power pack, and artificial tendons that connect to the glove. There are sensors on each fingertip which switch on the motor when a user grabs an object. A remote control or app can be used to adjust the strength and sensitivity of the grip.Wester says applications include assembly on the production line in the automotive industry, using tools in construction and lifting heavy objects in warehouses.Each Ironhand system costs around €6,000 ($7,275). The device also collects data that allows the company to assess the wearer's risk of developing strain injuries.  According to the European Agency for Safety and Health at Work, work-related neck and upper limb disorders are the most common occupational disease in Europe, costing national economies up to 2% of their gross national product.From NASA to General Motors The glove was originally intended for workers in a very different setting to the factory floor. NASA developed an early version of the technology, called \"Robo-Glove,\" to help astronauts grasp objects and carry out work in space. The Ironhand system being used for assembling parts in the automobile industry. Bioservo licensed the design in 2016 and then partnered with auto manufacturer General Motors (GM) to develop the glove for its workers. Why online supermarket Ocado wants to take the human touch out of groceries\"Ergonomics is really the field of trying to fit the jobs to the workers, instead of the workers having to conform and adapt to the job,\" says Stephen Krajcarski, a senior manager with GM's ergonomics team.\"By using tools such as the Ironhand we are really trying to mitigate any potential concerns or physical demands that may eventually cause a medical concern for that individual operator.\"  Krajcarski says GM has helped Bioservo to test and improve the Ironhand by piloting it in a variety of jobs at its manufacturing plants. He says some workers have found it easy to use but adds that it's not suitable for all situations.The Ironhand is just one of the exoskeletons GM is looking into. According to market research firm ABI Research, the exoskeleton market will grow from $392 million in 2020 to $6.8 billion in 2030.\"If you look at exoskeletons, this is just one of the tools that are out there,\" says Krajcarski. \"But this is an exciting technology.\"This story has been updated to correct the cost of the Ironhand system.  \n",
              "2                                                                                                                                                                                                                                                                                                                                                                                                                                                                                                                                                                                                                                                                                                                                                                                                                                                                                                                                                                                                                                                                                                                                                                                                                                                                                                                                                                                                                                                                                                                                                                                                                                                                                                                                                                                                                                                                                                                                                                                                                                                                                                                                                                                                                                                                                                                                                                                                                                                                                                                                                                                                                                                                                                                                                                                                                                                                                                                                                                                                                                                                                                                                                                                                                                                                                                                                                                                                                                                                                                                                                                                                                                                                                                                                                                                                                                                                                                                                                                                                                                                                                                                                                                                                                                                                                                                                                                                                                                                                                                                                                                                                                                                                                                                                                                                                                                                                                                                                                                                                                                                                                                                                                                                                                                                                                                                                                                                                                                                                                                                                                                                                                                                                                                                                                                                                                                                                                                                                                                                                                                                                                                                                                                                                                                                                                                                                                                                                                                                                                                                                                                                                                                                                                                                                                                                                                                                                                                                                                                                                                                                                                                                                                                                                                                                                                                                                                                                                                                                                                                                                                                                                                                                                                                                                                                                                                                                                                                                                                                                                                                                                                                                                                                                                                                                                                                                                                                                                                                                                                                                                                                                                                                                                                                                                                                                                                                                                                                                                                                                                                                                                                                                                                                                                                                                                                                                 (CNN)In a Hong Kong warehouse, a swarm of autonomous robots works 24/7. They're not just working hard, they're working smart; as they operate, they get better at their job.The Autonomous Mobile Robots were developed by Chinese startup Geek+. As they move around the warehouse they're guided by QR codes on the floor, and using AI they are able to make their own decisions, including what direction to travel and what route to take to their destination.  Photos: The robots running our warehousesRobots are an increasingly familiar presence in warehouses. At the south-east London warehouse run by British online supermarket Ocado, 3,000 robots fulfill shopping orders. When an order is sent to the warehouse, the bots spring to life and head towards the container they require. Scroll through to see more robots that are revolutionizing warehouses.Hide Caption 1 of 8 Photos: The robots running our warehousesIn response to the coronavirus pandemic, MIT collaborated with Ava Robotics and the Greater Boston Food Bank to design a robot that can use UV light to sanitize the floor of a 4,000-square foot warehouse in just 30 minutes. Hide Caption 2 of 8 Photos: The robots running our warehousesSeven-foot \"Model-T\" robots produced by Japanese startup Telexistence have been stacking shelves in two of Tokyo's largest convenience store franchises. Featuring cameras, microphones and sensors, the Model-T uses three \"fingers\" to stock items such as bottled drinks, cans and rice bowls. The robot is controlled by shop staff remotely.Hide Caption 3 of 8 Photos: The robots running our warehousesUS company Boston Dynamics has become known for its advanced work robots. \"Handle\" is made for the warehouse and equipped with an on-board vision system. It can lift boxes weighing over 30 pounds. Hide Caption 4 of 8 Photos: The robots running our warehousesStretch is the latest robot from Boston Dynamics and can work in warehouses and distribution centers. Designed to keep human workers out of harm's way, Stretch's tentacle-like grippers mean it can manipulate boxes. Hide Caption 5 of 8 Photos: The robots running our warehousesAlthough not specifically designed for warehouses, Boston Dynamics' dog-like robot \"Spot\" can lift objects, pick itself up after a fall, open and walk through doors, and even remind people to practice social distancing. Hide Caption 6 of 8 Photos: The robots running our warehousesThis robot is used to plant seeds and check plants at the \"Nordic Harvest\" vertical farm  based in Taastrup, Denmark. The indoor farm is one of the biggest in Europe.Hide Caption 7 of 8 Photos: The robots running our warehousesRobots sort packages at a warehouse run by JD.com -- one of China's largest e-commerce firms, in Wuhan, China, ahead of the annual Singles Day online shopping bonanza, in 2019.Hide Caption 8 of 8A team tracks these movements and uses the data to improve their algorithms, making the robots more efficient.Robots have become commonplace in warehouses worldwide and Geek+ says it has more than 15,000 robots in over 30 countries, including in Nike and Decathlon warehouses. Managing director Lit Fung says having robots that become more efficient over time helps companies meet demands for fast delivery, as well as reducing labor costs and human error. Read More\"Everyone is looking for an automation solution to apply to their warehouse,\" he says.  Watch the video for the full story.  \n",
              "3                                                                                                                                                                                                                                                                                                                                                                                                                                                                                                                                                                                                                                                                                                                                                                                                                                                                                                                                                                                                                                                                                                                                                                                                                                                                                                                                                                                                                                                                                                                                                                                                                                                                                                                                                                                                                                                                                                                                                                                                                                                                                                                                                                                                                                                                                                                                                                                                                                                                                                                                                                                                                                                                                                                                                                                                                                                                                                                                                                                                                                                                                                                                                                                                                                                                                                                                                                                                                                                                                                                                                                                                                                                                                                                                                                                                                                                                                                                                                                                                                                                                                                                                                                                                                                                                                                                                                                                                                                                                                                                                                                                                                                                                                                                                                                                                                                                                                                                                                                                                                                                                                                                                                                                                                                                                                                                                                                                                                                                                                                                                                                                                                                                                                                                                                                                                                                                                                                                                                                                                                                                                                                                                                                                                                                                                                                                                                                                                                                                                                                                                                                                                                                                                                                                                                                                                                                                                                                                                                                                                                                                                                                                                                                                                                                                                                                                                                                                                                                                                                                                                                                                                                                                                                                                                                                                                                                                                                                                                                                                                                                                                                                                                                                                                                                                                                                                                                                                                                                                                                                                                                                                                                                                                                                                                                                                                                                                                                                                                                                                                                                                                                                                                                                                                                                                                                                                                                                                                                                        New York (CNN Business)For many years, the world's most popular emerging markets have been the so-called BRICS: Brazil, Russia, India, China and South Africa.But given that Russia is no longer a market that Westerners can access following the invasion of Ukraine, it might be time for investors to stop lumping all of the emerging markets together.\"The BRICS had their day in the sun and that has faded,\" said Eric Winograd, senior economist at AllianceBernstein.Several major US index providers have removed Russian stocks from indexes at a price of \"zero\" or \"effectively zero.\" Trading shares of several leading US-listed Russian companies, such as search engine Yandex and telecom MTS, have been halted. And the Moscow Stock Exchange has been closed since February 25, the day after the invasion.Russia could default on its debt within days\"The idea that a country as large as Russia can be removed from indexes is a big deal,\" Winograd said.Read MoreIt seems likely that Russia will not be included in top emerging markets funds anytime soon. Even for those Westerners still willing to invest in Russian assets, it's not clear what comes next.\"Some investors are asking about exposure to Russia in emerging markets funds. With indexes starting to exclude Russia, it's still a wait-and-see game,\" said Mychal Campos, head of investing at Betterment.For investors looking to get exposure to emerging markets, Winograd said, each country should be looked at individually.\"The name of the game will be differentiation. Don't invest in emerging markets based on an acronym,\" Winograd said. \"It's always strange to say that Argentina and South Korea are the same thing, for example. They're not.\" Forget the BRICS and look at TICKS or MIST?To stick with the acronyms, the shutdown of the Russian stock market has essentially turned the BRICS into the BICS — and that could be a permanent change, said Rahul Sen Sharma, managing partner with Indxx, a global index provider. \"Will investors ever embrace Russia again? If there is no liquidity, it's a moot point. But it's also hard to believe that people will rush into Russia anytime soon,\" Sen Sharma told CNN Business.Sen Sharma said some investors may start to look at other emerging markets to replace Russia, such as Taiwan and South Korea. The BRICS could become the TICKS. He added that Poland, Turkey and Mexico are intriguing, as are the Philippines and Indonesia. You could dub Mexico, Indonesia, South Korea and Turkey the MIST markets. \"People love their acronyms,\" Sen Sharma joked.Of course, any emerging market in Europe — think Poland —  is inherently risky because of how close it is geographically to Russia and Ukraine. So other Central and Eastern European nations may be a hard sell for Western investors.War in Ukraine has sparked a scramble for dollarsOther experts argue that investors are looking more at individual companies in emerging markets and less at the countries themselves.\"A typical investor sees emerging markets as a class of stocks. It's a piece of a portfolio,\" said Callie Cox, US investment analyst at eToro.\"The emerging markets landscape has been changing for awhile,\" Cox added, noting that many investors have been skeptical of Russia since its annexation of Crimea in 2014. \"There has been more anxiety.\"  \n",
              "4                                                                                                                                                                                                                                                                                                                                                                                                                                                                                                                                                                                                                                                                                                                                                                                                                                                                                                                                                                                                                                                                                                                                                                                                                                                                                                                                                                                                                                                                                                                                                                                                                                                                                                                                                                                                                                                                                                                                                                                                                                                                                                                                                                                                                                                                                                                                                                                                                                                                                                                                                                                                                                                                                                                                                                                                                                                                                                                                                                                                                                                                                                                                                                                                                                                                                                                                                                                                                                                                                                                                                                                                                                                                                                                                                                                                                                                                                                                                                                                                                                                                                                                                                                                                                                                                                                                                                                                                                                                                                                                                                                                                                                                                                                                                                                                                                                                                                                                                                                                                                                                                                                                                                                                                                                                                                                                                                                                                                                                                                                                                                                                                                                                                                                                                                                                                                                                                                                                                                                                                                                                                                                                                                                                                                                                                                                                                                                                                                                                                                                                                                                                                                                                                                                                                                                                                                                                                                                                                                                                                                                                                                                                                                                                                                                                                                                                                                                                                                                                                                                                                                                                                                                                                                                                                                                                                                                                                                                                                                                                                                                                                                                                                                                                                                                                                                                                                                                                                                                                                                                                                                                                                                                                                                                                                                                                                                                                                                                                                                                                                                                                                                                                                                                                                                                                                                                                                                                                                                                                                                                                                                                                                                              The European Union formally approved on Tuesday a new barrage of sanctions against Russia for its invasion of Ukraine, which include bans on investments in the Russian energy sector, luxury goods exports and imports of steel products from Russia.The sanctions, which come into effect after publication in the EU official journal later on Tuesday, also freeze the assets of more business leaders who support the Russian state, including Chelsea football club owner Roman Abramovich. The European Commission said in a statement on Tuesday that the sanctions included \"a far-reaching ban on new investment across the Russian energy sector with limited exceptions for civil nuclear energy and the transport of certain energy products back to the EU.\"The measure will hit Russia's oil majors Rosneft, Transneft and Gazprom Neft (GZPFY), but EU members will be still able to buy oil and gas from them, an EU source told Reuters.There will also be a total ban on transactions with some Russian state-owned enterprises linked to the Kremlin's military-industrial complex, the EU executive said.Read MoreThe bloc reached a preliminary agreement on the new sanctions on Monday, and no objections were raised before an agreed deadline.The ban on Russian steel imports is estimated to affect 3.3 billion euros ($3.6 billion) worth of products, the Commission said.EU companies will also be no longer allowed to export any luxury goods worth more than 300 euros, including jewelry. Exports of cars costing more than 50,000 euros will also be banned, EU sources said.The package also prohibits EU credit rating agencies from issuing ratings for Russia and Russian companies, which the Commission says will further restrict their access to European financial markets.The latest sanctions follow three rounds of punitive measures which included freezing of assets of the Russian central bank and the exclusion from the SWIFT banking system of some Russian and Belarusian banks.The EU also agreed on Tuesday to strip Russia of its \"most-favored nation\" trade status, opening the door to punitive tariffs on Russian goods or outright import bans.UK slaps 35% tariff on Russian vodkaThe UK government also announced a fresh round of sanctions on Russia on Tuesday. It will ban the export of luxury goods to Russia and will introduce tariffs on Russian goods worth more than $1 billion. The additional 35% tariff will be applied to imports including vodka, steel, works of art and fur. The United Kingdom will also deny Russia and Belarus access to its most favoured nation trading tariff for hundreds of their exports, effectively depriving both countries of key benefits of their WTO membership.\"Our new tariffs will further isolate the Russian economy from global trade, ensuring it does not benefit from the rules-based international system it does not respect. These tariffs build on the UK's existing work to starve Russia's access to international finance, sanction Putin's cronies and exert maximum economic pressure on his regime,\" finance minister Rishi Sunak said in a statement.— CNN's Rob North contributed to this article.   "
            ]
          },
          "execution_count": 6,
          "metadata": {},
          "output_type": "execute_result"
        }
      ],
      "source": [
        "# Print first 5 rows of data\n",
        "data.head()"
      ]
    },
    {
      "cell_type": "code",
      "execution_count": null,
      "metadata": {
        "colab": {
          "base_uri": "https://localhost:8080/",
          "height": 126
        },
        "id": "tTh2uQdWwY9-",
        "outputId": "708d700c-03f2-4063-8c59-b3ddbd39f7c7"
      },
      "outputs": [
        {
          "data": {
            "application/vnd.google.colaboratory.intrinsic+json": {
              "type": "string"
            },
            "text/plain": [
              "'New York (CNN Business)For many years, the world\\'s most popular emerging markets have been the so-called BRICS: Brazil, Russia, India, China and South Africa.But given that Russia is no longer a market that Westerners can access following the invasion of Ukraine, it might be time for investors to stop lumping all of the emerging markets together.\"The BRICS had their day in the sun and that has faded,\" said Eric Winograd, senior economist at AllianceBernstein.Several major US index providers have removed Russian stocks from indexes at a price of \"zero\" or \"effectively zero.\" Trading shares of several leading US-listed Russian companies, such as search engine Yandex and telecom MTS, have been halted. And the Moscow Stock Exchange has been closed since February 25, the day after the invasion.Russia could default on its debt within days\"The idea that a country as large as Russia can be removed from indexes is a big deal,\" Winograd said.Read MoreIt seems likely that Russia will not be included in top emerging markets funds anytime soon. Even for those Westerners still willing to invest in Russian assets, it\\'s not clear what comes next.\"Some investors are asking about exposure to Russia in emerging markets funds. With indexes starting to exclude Russia, it\\'s still a wait-and-see game,\" said Mychal Campos, head of investing at Betterment.For investors looking to get exposure to emerging markets, Winograd said, each country should be looked at individually.\"The name of the game will be differentiation. Don\\'t invest in emerging markets based on an acronym,\" Winograd said. \"It\\'s always strange to say that Argentina and South Korea are the same thing, for example. They\\'re not.\" Forget the BRICS and look at TICKS or MIST?To stick with the acronyms, the shutdown of the Russian stock market has essentially turned the BRICS into the BICS — and that could be a permanent change, said Rahul Sen Sharma, managing partner with Indxx, a global index provider. \"Will investors ever embrace Russia again? If there is no liquidity, it\\'s a moot point. But it\\'s also hard to believe that people will rush into Russia anytime soon,\" Sen Sharma told CNN Business.Sen Sharma said some investors may start to look at other emerging markets to replace Russia, such as Taiwan and South Korea. The BRICS could become the TICKS. He added that Poland, Turkey and Mexico are intriguing, as are the Philippines and Indonesia. You could dub Mexico, Indonesia, South Korea and Turkey the MIST markets. \"People love their acronyms,\" Sen Sharma joked.Of course, any emerging market in Europe — think Poland —  is inherently risky because of how close it is geographically to Russia and Ukraine. So other Central and Eastern European nations may be a hard sell for Western investors.War in Ukraine has sparked a scramble for dollarsOther experts argue that investors are looking more at individual companies in emerging markets and less at the countries themselves.\"A typical investor sees emerging markets as a class of stocks. It\\'s a piece of a portfolio,\" said Callie Cox, US investment analyst at eToro.\"The emerging markets landscape has been changing for awhile,\" Cox added, noting that many investors have been skeptical of Russia since its annexation of Crimea in 2014. \"There has been more anxiety.\"'"
            ]
          },
          "execution_count": 7,
          "metadata": {},
          "output_type": "execute_result"
        }
      ],
      "source": [
        "# checking an article\n",
        "data.loc[3, 'Article text']"
      ]
    },
    {
      "cell_type": "markdown",
      "metadata": {
        "id": "NuWYF7W_AQx_"
      },
      "source": [
        "### Checking the shape of the dataset"
      ]
    },
    {
      "cell_type": "code",
      "execution_count": null,
      "metadata": {
        "colab": {
          "base_uri": "https://localhost:8080/"
        },
        "id": "7DysT_j1Cky-",
        "outputId": "357f90e2-20f3-46f9-92de-5539cb67d15e"
      },
      "outputs": [
        {
          "data": {
            "text/plain": [
              "(4076, 7)"
            ]
          },
          "execution_count": 8,
          "metadata": {},
          "output_type": "execute_result"
        }
      ],
      "source": [
        "# print shape of data\n",
        "data.shape"
      ]
    },
    {
      "cell_type": "markdown",
      "metadata": {
        "id": "1m9Eku_JUDaS"
      },
      "source": [
        "* The data comprises of ~4k articles"
      ]
    },
    {
      "cell_type": "markdown",
      "metadata": {
        "id": "EBuO6NvsAT1k"
      },
      "source": [
        "### Checking for missing values"
      ]
    },
    {
      "cell_type": "code",
      "execution_count": null,
      "metadata": {
        "colab": {
          "base_uri": "https://localhost:8080/"
        },
        "id": "RjFc0JaDCn1u",
        "outputId": "042644c2-c71f-4f12-98e5-3651b34ab59f"
      },
      "outputs": [
        {
          "data": {
            "text/plain": [
              "Date published    0\n",
              "Category          0\n",
              "Section           0\n",
              "Headline          0\n",
              "Description       0\n",
              "Keywords          0\n",
              "Article text      0\n",
              "dtype: int64"
            ]
          },
          "execution_count": 9,
          "metadata": {},
          "output_type": "execute_result"
        }
      ],
      "source": [
        "# Check for missing values\n",
        "data.isnull().sum()"
      ]
    },
    {
      "cell_type": "markdown",
      "metadata": {
        "id": "a9JV6etiY0g9"
      },
      "source": [
        "- There are no mising values in the data"
      ]
    },
    {
      "cell_type": "markdown",
      "metadata": {
        "id": "lIICk5hF_xW7"
      },
      "source": [
        "### Checking the statistical summary"
      ]
    },
    {
      "cell_type": "code",
      "execution_count": null,
      "metadata": {
        "colab": {
          "base_uri": "https://localhost:8080/",
          "height": 938
        },
        "id": "axfenFhn_0y1",
        "outputId": "ad8e34ed-c8d5-4647-86f9-40a1d6501935"
      },
      "outputs": [
        {
          "data": {
            "text/html": [
              "\n",
              "  <div id=\"df-07383119-4305-49fe-858b-285bc7587dbd\" class=\"colab-df-container\">\n",
              "    <div>\n",
              "<style scoped>\n",
              "    .dataframe tbody tr th:only-of-type {\n",
              "        vertical-align: middle;\n",
              "    }\n",
              "\n",
              "    .dataframe tbody tr th {\n",
              "        vertical-align: top;\n",
              "    }\n",
              "\n",
              "    .dataframe thead th {\n",
              "        text-align: right;\n",
              "    }\n",
              "</style>\n",
              "<table border=\"1\" class=\"dataframe\">\n",
              "  <thead>\n",
              "    <tr style=\"text-align: right;\">\n",
              "      <th></th>\n",
              "      <th>Date published</th>\n",
              "      <th>Category</th>\n",
              "      <th>Section</th>\n",
              "      <th>Headline</th>\n",
              "      <th>Description</th>\n",
              "      <th>Keywords</th>\n",
              "      <th>Article text</th>\n",
              "    </tr>\n",
              "  </thead>\n",
              "  <tbody>\n",
              "    <tr>\n",
              "      <th>count</th>\n",
              "      <td>4076</td>\n",
              "      <td>4076</td>\n",
              "      <td>4076</td>\n",
              "      <td>4076</td>\n",
              "      <td>4076</td>\n",
              "      <td>4076</td>\n",
              "      <td>4076</td>\n",
              "    </tr>\n",
              "    <tr>\n",
              "      <th>unique</th>\n",
              "      <td>4076</td>\n",
              "      <td>6</td>\n",
              "      <td>37</td>\n",
              "      <td>4071</td>\n",
              "      <td>4069</td>\n",
              "      <td>4071</td>\n",
              "      <td>4075</td>\n",
              "    </tr>\n",
              "    <tr>\n",
              "      <th>top</th>\n",
              "      <td>2021-07-15 02:46:59</td>\n",
              "      <td>sport</td>\n",
              "      <td>sport</td>\n",
              "      <td>Ukrainian opposition demand investigation into failed sting operation detailed by CNN   - CNN</td>\n",
              "      <td>Austria's Chancellor Sebastian Kurz said in a televised speech he was stepping down from his office Saturday evening following corruption allegations.</td>\n",
              "      <td>europe, Ukrainian opposition demand investigation into failed sting operation detailed by CNN   - CNN</td>\n",
              "      <td>(CNN)It has been delayed by a year, but that seems to have only ramped up the excitement levels for the 2020 European football championships, and the final game is Sunday.The Union of European Football Associations (UEFA) Euro 2020 final will be held at London's Wembley Stadium.Still called Euro 2020 despite now being held in 2021, the all-European tournament was postponed from last summer because of the coronavirus pandemic. England reached its first men's major tournament final in 55 years after after beating Denmark 2-1 in a gripping encounter Wednesday at Wembley.READ: Goldman Sachs bets England will beat Italy this weekend, but...Read MoreHarry Kane of England is congratulated by Phil Foden after scoring the second goal against Denmark.The national team will face Italy on Sunday after the Azzurri beat Spain on penalties. The Italians have looked strong throughout the tournament, but England hopes a home-field advantage will inspire it to a historic victory. About 65,000 fans are expected.The UEFA Referees Committee announced that Dutchman Björn Kuipers would referee Sunday's final. This will be Kuipers' seventh UEFA competition final, according to European football's governing body.The final -- which will begin at 8 p.m. in London (3 p.m. ET) -- will be available to watch worldwide.Here's where you can watch the action: Austria: ORF/OE24Belgium: VRT/RTBFCroatia: HRT/SportklubCzech: Republic Česká televizeDenmark: DKDR/NENT Group DenmarkFinland: YLEFrance: M6/TF1/beIN SportsGermany: ARD/ZDF/MagentaTVHungary: MTVAItaly: RAI/Sky ItaliaNetherlands: NOSNorth Macedonia: MKRTV/SportklubPoland: TVPPortugal: RTP/SIC/Sport TV Portugal/TVIRussia: Channel One/Match TV/RTRSlovakia: RTV SlovakiaSpain: Mediaset SpainSweden: SVT/TV4Switzerland: SRGTurkey: TRTUkraine: Media Group UkraineUnited Kingdom: BBC/ITVOthers: Australia: Optus SportBrazil: Globosat/SporTVIndia &amp; Indian Sub-Continent: SonyIndonesia: MNC/Mola TV/RCTIKenya: Star Times/SuperSport/Canal+ Afrique/KTNNigeria: Top Sports/NTA/Star Times/SuperSport/Canal+ Afrique/Silverbird TV/ONTVSouth Africa: SuperSportUnited Arab Emirates: beIN SportsUS: ESPN/UnivisionClick here to view the full listA tournament for the history booksThe championships kicked off Friday, June 11, when Italy and Turkey met in the tournament's opening match in Rome's Stadio Olimpico.For the first time, the competition was hosted across the continent in some of Europe's biggest and most famous stadiums, rather than hosted by one or two nations. Alongside London and Rome, the other host cities included Baku, St. Petersburg, Copenhagen, Budapest, Amsterdam, Bucharest, Glasgow, Seville and Munich. Visit CNN.com/sport for more news, features, and videosPlayers of Italy celebrate following their team's victory in the penalty shootout of the semi-final match against Spain.Bilbao in Spain and Dublin in Ireland had been scheduled to host matches, but after local authorities didn't permit fans to attend games because of Covid-19 restrictions, UEFA chose to relocate Bilbao's matches to Seville and Dublin's fixtures to St. Petersburg. There were 24 teams playing across 51 matches in the 11 host cities over the past month, with some familiar nations among the favorites. England reached its first men's major tournament final since winning the World Cup in 1966 after beating Denmark.For Denmark, which won Euro 1992, this has been an extraordinary tournament. The team, and nation, was shaken when its talisman Christian Eriksen collapsed on the field during its opening group game against Finland.The power, strength and resilience shown by the Danish players as Eriksen recovered will inevitably go on to define this tournament and both teams paid tribute to the playmaker before the semifinal.Italy awaits and is likely to present England with it sternest test yet at Euro 2020.\"We know it's going to be a very tough game against Italy,\" England's Harry Kane told the UEFA website. \"We've had a great tournament so far. One more game to go at home, and we can't wait.\"Goldman Sachs predicts England has a 58% chance of defeating Italy in the Euro 2020 final.CNN's John Sinnott and Paul R. La Monica contributed to this report.</td>\n",
              "    </tr>\n",
              "    <tr>\n",
              "      <th>freq</th>\n",
              "      <td>1</td>\n",
              "      <td>2176</td>\n",
              "      <td>1088</td>\n",
              "      <td>2</td>\n",
              "      <td>2</td>\n",
              "      <td>2</td>\n",
              "      <td>2</td>\n",
              "    </tr>\n",
              "  </tbody>\n",
              "</table>\n",
              "</div>\n",
              "    <div class=\"colab-df-buttons\">\n",
              "\n",
              "  <div class=\"colab-df-container\">\n",
              "    <button class=\"colab-df-convert\" onclick=\"convertToInteractive('df-07383119-4305-49fe-858b-285bc7587dbd')\"\n",
              "            title=\"Convert this dataframe to an interactive table.\"\n",
              "            style=\"display:none;\">\n",
              "\n",
              "  <svg xmlns=\"http://www.w3.org/2000/svg\" height=\"24px\" viewBox=\"0 -960 960 960\">\n",
              "    <path d=\"M120-120v-720h720v720H120Zm60-500h600v-160H180v160Zm220 220h160v-160H400v160Zm0 220h160v-160H400v160ZM180-400h160v-160H180v160Zm440 0h160v-160H620v160ZM180-180h160v-160H180v160Zm440 0h160v-160H620v160Z\"/>\n",
              "  </svg>\n",
              "    </button>\n",
              "\n",
              "  <style>\n",
              "    .colab-df-container {\n",
              "      display:flex;\n",
              "      gap: 12px;\n",
              "    }\n",
              "\n",
              "    .colab-df-convert {\n",
              "      background-color: #E8F0FE;\n",
              "      border: none;\n",
              "      border-radius: 50%;\n",
              "      cursor: pointer;\n",
              "      display: none;\n",
              "      fill: #1967D2;\n",
              "      height: 32px;\n",
              "      padding: 0 0 0 0;\n",
              "      width: 32px;\n",
              "    }\n",
              "\n",
              "    .colab-df-convert:hover {\n",
              "      background-color: #E2EBFA;\n",
              "      box-shadow: 0px 1px 2px rgba(60, 64, 67, 0.3), 0px 1px 3px 1px rgba(60, 64, 67, 0.15);\n",
              "      fill: #174EA6;\n",
              "    }\n",
              "\n",
              "    .colab-df-buttons div {\n",
              "      margin-bottom: 4px;\n",
              "    }\n",
              "\n",
              "    [theme=dark] .colab-df-convert {\n",
              "      background-color: #3B4455;\n",
              "      fill: #D2E3FC;\n",
              "    }\n",
              "\n",
              "    [theme=dark] .colab-df-convert:hover {\n",
              "      background-color: #434B5C;\n",
              "      box-shadow: 0px 1px 3px 1px rgba(0, 0, 0, 0.15);\n",
              "      filter: drop-shadow(0px 1px 2px rgba(0, 0, 0, 0.3));\n",
              "      fill: #FFFFFF;\n",
              "    }\n",
              "  </style>\n",
              "\n",
              "    <script>\n",
              "      const buttonEl =\n",
              "        document.querySelector('#df-07383119-4305-49fe-858b-285bc7587dbd button.colab-df-convert');\n",
              "      buttonEl.style.display =\n",
              "        google.colab.kernel.accessAllowed ? 'block' : 'none';\n",
              "\n",
              "      async function convertToInteractive(key) {\n",
              "        const element = document.querySelector('#df-07383119-4305-49fe-858b-285bc7587dbd');\n",
              "        const dataTable =\n",
              "          await google.colab.kernel.invokeFunction('convertToInteractive',\n",
              "                                                    [key], {});\n",
              "        if (!dataTable) return;\n",
              "\n",
              "        const docLinkHtml = 'Like what you see? Visit the ' +\n",
              "          '<a target=\"_blank\" href=https://colab.research.google.com/notebooks/data_table.ipynb>data table notebook</a>'\n",
              "          + ' to learn more about interactive tables.';\n",
              "        element.innerHTML = '';\n",
              "        dataTable['output_type'] = 'display_data';\n",
              "        await google.colab.output.renderOutput(dataTable, element);\n",
              "        const docLink = document.createElement('div');\n",
              "        docLink.innerHTML = docLinkHtml;\n",
              "        element.appendChild(docLink);\n",
              "      }\n",
              "    </script>\n",
              "  </div>\n",
              "\n",
              "\n",
              "<div id=\"df-d01881d8-3a21-4a52-b7b7-729deb525557\">\n",
              "  <button class=\"colab-df-quickchart\" onclick=\"quickchart('df-d01881d8-3a21-4a52-b7b7-729deb525557')\"\n",
              "            title=\"Suggest charts\"\n",
              "            style=\"display:none;\">\n",
              "\n",
              "<svg xmlns=\"http://www.w3.org/2000/svg\" height=\"24px\"viewBox=\"0 0 24 24\"\n",
              "     width=\"24px\">\n",
              "    <g>\n",
              "        <path d=\"M19 3H5c-1.1 0-2 .9-2 2v14c0 1.1.9 2 2 2h14c1.1 0 2-.9 2-2V5c0-1.1-.9-2-2-2zM9 17H7v-7h2v7zm4 0h-2V7h2v10zm4 0h-2v-4h2v4z\"/>\n",
              "    </g>\n",
              "</svg>\n",
              "  </button>\n",
              "\n",
              "<style>\n",
              "  .colab-df-quickchart {\n",
              "      --bg-color: #E8F0FE;\n",
              "      --fill-color: #1967D2;\n",
              "      --hover-bg-color: #E2EBFA;\n",
              "      --hover-fill-color: #174EA6;\n",
              "      --disabled-fill-color: #AAA;\n",
              "      --disabled-bg-color: #DDD;\n",
              "  }\n",
              "\n",
              "  [theme=dark] .colab-df-quickchart {\n",
              "      --bg-color: #3B4455;\n",
              "      --fill-color: #D2E3FC;\n",
              "      --hover-bg-color: #434B5C;\n",
              "      --hover-fill-color: #FFFFFF;\n",
              "      --disabled-bg-color: #3B4455;\n",
              "      --disabled-fill-color: #666;\n",
              "  }\n",
              "\n",
              "  .colab-df-quickchart {\n",
              "    background-color: var(--bg-color);\n",
              "    border: none;\n",
              "    border-radius: 50%;\n",
              "    cursor: pointer;\n",
              "    display: none;\n",
              "    fill: var(--fill-color);\n",
              "    height: 32px;\n",
              "    padding: 0;\n",
              "    width: 32px;\n",
              "  }\n",
              "\n",
              "  .colab-df-quickchart:hover {\n",
              "    background-color: var(--hover-bg-color);\n",
              "    box-shadow: 0 1px 2px rgba(60, 64, 67, 0.3), 0 1px 3px 1px rgba(60, 64, 67, 0.15);\n",
              "    fill: var(--button-hover-fill-color);\n",
              "  }\n",
              "\n",
              "  .colab-df-quickchart-complete:disabled,\n",
              "  .colab-df-quickchart-complete:disabled:hover {\n",
              "    background-color: var(--disabled-bg-color);\n",
              "    fill: var(--disabled-fill-color);\n",
              "    box-shadow: none;\n",
              "  }\n",
              "\n",
              "  .colab-df-spinner {\n",
              "    border: 2px solid var(--fill-color);\n",
              "    border-color: transparent;\n",
              "    border-bottom-color: var(--fill-color);\n",
              "    animation:\n",
              "      spin 1s steps(1) infinite;\n",
              "  }\n",
              "\n",
              "  @keyframes spin {\n",
              "    0% {\n",
              "      border-color: transparent;\n",
              "      border-bottom-color: var(--fill-color);\n",
              "      border-left-color: var(--fill-color);\n",
              "    }\n",
              "    20% {\n",
              "      border-color: transparent;\n",
              "      border-left-color: var(--fill-color);\n",
              "      border-top-color: var(--fill-color);\n",
              "    }\n",
              "    30% {\n",
              "      border-color: transparent;\n",
              "      border-left-color: var(--fill-color);\n",
              "      border-top-color: var(--fill-color);\n",
              "      border-right-color: var(--fill-color);\n",
              "    }\n",
              "    40% {\n",
              "      border-color: transparent;\n",
              "      border-right-color: var(--fill-color);\n",
              "      border-top-color: var(--fill-color);\n",
              "    }\n",
              "    60% {\n",
              "      border-color: transparent;\n",
              "      border-right-color: var(--fill-color);\n",
              "    }\n",
              "    80% {\n",
              "      border-color: transparent;\n",
              "      border-right-color: var(--fill-color);\n",
              "      border-bottom-color: var(--fill-color);\n",
              "    }\n",
              "    90% {\n",
              "      border-color: transparent;\n",
              "      border-bottom-color: var(--fill-color);\n",
              "    }\n",
              "  }\n",
              "</style>\n",
              "\n",
              "  <script>\n",
              "    async function quickchart(key) {\n",
              "      const quickchartButtonEl =\n",
              "        document.querySelector('#' + key + ' button');\n",
              "      quickchartButtonEl.disabled = true;  // To prevent multiple clicks.\n",
              "      quickchartButtonEl.classList.add('colab-df-spinner');\n",
              "      try {\n",
              "        const charts = await google.colab.kernel.invokeFunction(\n",
              "            'suggestCharts', [key], {});\n",
              "      } catch (error) {\n",
              "        console.error('Error during call to suggestCharts:', error);\n",
              "      }\n",
              "      quickchartButtonEl.classList.remove('colab-df-spinner');\n",
              "      quickchartButtonEl.classList.add('colab-df-quickchart-complete');\n",
              "    }\n",
              "    (() => {\n",
              "      let quickchartButtonEl =\n",
              "        document.querySelector('#df-d01881d8-3a21-4a52-b7b7-729deb525557 button');\n",
              "      quickchartButtonEl.style.display =\n",
              "        google.colab.kernel.accessAllowed ? 'block' : 'none';\n",
              "    })();\n",
              "  </script>\n",
              "</div>\n",
              "    </div>\n",
              "  </div>\n"
            ],
            "text/plain": [
              "             Date published Category Section  \\\n",
              "count                  4076     4076    4076   \n",
              "unique                 4076        6      37   \n",
              "top     2021-07-15 02:46:59    sport   sport   \n",
              "freq                      1     2176    1088   \n",
              "\n",
              "                                                                                             Headline  \\\n",
              "count                                                                                            4076   \n",
              "unique                                                                                           4071   \n",
              "top     Ukrainian opposition demand investigation into failed sting operation detailed by CNN   - CNN   \n",
              "freq                                                                                                2   \n",
              "\n",
              "                                                                                                                                                   Description  \\\n",
              "count                                                                                                                                                     4076   \n",
              "unique                                                                                                                                                    4069   \n",
              "top     Austria's Chancellor Sebastian Kurz said in a televised speech he was stepping down from his office Saturday evening following corruption allegations.   \n",
              "freq                                                                                                                                                         2   \n",
              "\n",
              "                                                                                                     Keywords  \\\n",
              "count                                                                                                    4076   \n",
              "unique                                                                                                   4071   \n",
              "top     europe, Ukrainian opposition demand investigation into failed sting operation detailed by CNN   - CNN   \n",
              "freq                                                                                                        2   \n",
              "\n",
              "                                                                                                                                                                                                                                                                                                                                                                                                                                                                                                                                                                                                                                                                                                                                                                                                                                                                                                                                                                                                                                                                                                                                                                                                                                                                                                                                                                                                                                                                                                                                                                                                                                                                                                                                                                                                                                                                                                                                                                                                                                                                                                                                                                                                                                                                                                                                                                                                                                                                                                                                                                                                                                                                                                                                                                                                                                                                                                                                                                                                                                                                                                                                                                                                                                                                                                                                                                                                                                                                                                                                                                                                                                                                                                                                                                                                                                                                                                                                                                                                                                                                                                                                                                                                                                                                                                                                                              Article text  \n",
              "count                                                                                                                                                                                                                                                                                                                                                                                                                                                                                                                                                                                                                                                                                                                                                                                                                                                                                                                                                                                                                                                                                                                                                                                                                                                                                                                                                                                                                                                                                                                                                                                                                                                                                                                                                                                                                                                                                                                                                                                                                                                                                                                                                                                                                                                                                                                                                                                                                                                                                                                                                                                                                                                                                                                                                                                                                                                                                                                                                                                                                                                                                                                                                                                                                                                                                                                                                                                                                                                                                                                                                                                                                                                                                                                                                                                                                                                                                                                                                                                                                                                                                                                                                                                                                                                                                                                                                                 4076  \n",
              "unique                                                                                                                                                                                                                                                                                                                                                                                                                                                                                                                                                                                                                                                                                                                                                                                                                                                                                                                                                                                                                                                                                                                                                                                                                                                                                                                                                                                                                                                                                                                                                                                                                                                                                                                                                                                                                                                                                                                                                                                                                                                                                                                                                                                                                                                                                                                                                                                                                                                                                                                                                                                                                                                                                                                                                                                                                                                                                                                                                                                                                                                                                                                                                                                                                                                                                                                                                                                                                                                                                                                                                                                                                                                                                                                                                                                                                                                                                                                                                                                                                                                                                                                                                                                                                                                                                                                                                                4075  \n",
              "top      (CNN)It has been delayed by a year, but that seems to have only ramped up the excitement levels for the 2020 European football championships, and the final game is Sunday.The Union of European Football Associations (UEFA) Euro 2020 final will be held at London's Wembley Stadium.Still called Euro 2020 despite now being held in 2021, the all-European tournament was postponed from last summer because of the coronavirus pandemic. England reached its first men's major tournament final in 55 years after after beating Denmark 2-1 in a gripping encounter Wednesday at Wembley.READ: Goldman Sachs bets England will beat Italy this weekend, but...Read MoreHarry Kane of England is congratulated by Phil Foden after scoring the second goal against Denmark.The national team will face Italy on Sunday after the Azzurri beat Spain on penalties. The Italians have looked strong throughout the tournament, but England hopes a home-field advantage will inspire it to a historic victory. About 65,000 fans are expected.The UEFA Referees Committee announced that Dutchman Björn Kuipers would referee Sunday's final. This will be Kuipers' seventh UEFA competition final, according to European football's governing body.The final -- which will begin at 8 p.m. in London (3 p.m. ET) -- will be available to watch worldwide.Here's where you can watch the action: Austria: ORF/OE24Belgium: VRT/RTBFCroatia: HRT/SportklubCzech: Republic Česká televizeDenmark: DKDR/NENT Group DenmarkFinland: YLEFrance: M6/TF1/beIN SportsGermany: ARD/ZDF/MagentaTVHungary: MTVAItaly: RAI/Sky ItaliaNetherlands: NOSNorth Macedonia: MKRTV/SportklubPoland: TVPPortugal: RTP/SIC/Sport TV Portugal/TVIRussia: Channel One/Match TV/RTRSlovakia: RTV SlovakiaSpain: Mediaset SpainSweden: SVT/TV4Switzerland: SRGTurkey: TRTUkraine: Media Group UkraineUnited Kingdom: BBC/ITVOthers: Australia: Optus SportBrazil: Globosat/SporTVIndia & Indian Sub-Continent: SonyIndonesia: MNC/Mola TV/RCTIKenya: Star Times/SuperSport/Canal+ Afrique/KTNNigeria: Top Sports/NTA/Star Times/SuperSport/Canal+ Afrique/Silverbird TV/ONTVSouth Africa: SuperSportUnited Arab Emirates: beIN SportsUS: ESPN/UnivisionClick here to view the full listA tournament for the history booksThe championships kicked off Friday, June 11, when Italy and Turkey met in the tournament's opening match in Rome's Stadio Olimpico.For the first time, the competition was hosted across the continent in some of Europe's biggest and most famous stadiums, rather than hosted by one or two nations. Alongside London and Rome, the other host cities included Baku, St. Petersburg, Copenhagen, Budapest, Amsterdam, Bucharest, Glasgow, Seville and Munich. Visit CNN.com/sport for more news, features, and videosPlayers of Italy celebrate following their team's victory in the penalty shootout of the semi-final match against Spain.Bilbao in Spain and Dublin in Ireland had been scheduled to host matches, but after local authorities didn't permit fans to attend games because of Covid-19 restrictions, UEFA chose to relocate Bilbao's matches to Seville and Dublin's fixtures to St. Petersburg. There were 24 teams playing across 51 matches in the 11 host cities over the past month, with some familiar nations among the favorites. England reached its first men's major tournament final since winning the World Cup in 1966 after beating Denmark.For Denmark, which won Euro 1992, this has been an extraordinary tournament. The team, and nation, was shaken when its talisman Christian Eriksen collapsed on the field during its opening group game against Finland.The power, strength and resilience shown by the Danish players as Eriksen recovered will inevitably go on to define this tournament and both teams paid tribute to the playmaker before the semifinal.Italy awaits and is likely to present England with it sternest test yet at Euro 2020.\"We know it's going to be a very tough game against Italy,\" England's Harry Kane told the UEFA website. \"We've had a great tournament so far. One more game to go at home, and we can't wait.\"Goldman Sachs predicts England has a 58% chance of defeating Italy in the Euro 2020 final.CNN's John Sinnott and Paul R. La Monica contributed to this report.  \n",
              "freq                                                                                                                                                                                                                                                                                                                                                                                                                                                                                                                                                                                                                                                                                                                                                                                                                                                                                                                                                                                                                                                                                                                                                                                                                                                                                                                                                                                                                                                                                                                                                                                                                                                                                                                                                                                                                                                                                                                                                                                                                                                                                                                                                                                                                                                                                                                                                                                                                                                                                                                                                                                                                                                                                                                                                                                                                                                                                                                                                                                                                                                                                                                                                                                                                                                                                                                                                                                                                                                                                                                                                                                                                                                                                                                                                                                                                                                                                                                                                                                                                                                                                                                                                                                                                                                                                                                                                                     2  "
            ]
          },
          "execution_count": 10,
          "metadata": {},
          "output_type": "execute_result"
        }
      ],
      "source": [
        "data.describe()"
      ]
    },
    {
      "cell_type": "markdown",
      "metadata": {
        "id": "DqnzZBOs_6Xb"
      },
      "source": [
        "- There seem to a large number of articles from the sports category"
      ]
    },
    {
      "cell_type": "markdown",
      "metadata": {
        "id": "kUJ_B5KxhU3D"
      },
      "source": [
        "## Exploratory Data Analysis (EDA)\n"
      ]
    },
    {
      "cell_type": "code",
      "execution_count": null,
      "metadata": {
        "id": "lYClY_MmbvG1"
      },
      "outputs": [],
      "source": [
        " # function to create labeled barplots\n",
        "\n",
        "def labeled_barplot(data, feature, perc=False, n=None):\n",
        "    \"\"\"\n",
        "    Barplot with percentage at the top\n",
        "\n",
        "    data: dataframe\n",
        "    feature: dataframe column\n",
        "    perc: whether to display percentages instead of count (default is False)\n",
        "    n: displays the top n category levels (default is None, i.e., display all levels)\n",
        "    \"\"\"\n",
        "\n",
        "    total = len(data[feature])  # length of the column\n",
        "    count = data[feature].nunique()\n",
        "    if n is None:\n",
        "        plt.figure(figsize=(count + 1, 5))\n",
        "    else:\n",
        "        plt.figure(figsize=(n + 1, 5))\n",
        "\n",
        "    plt.xticks(rotation=90, fontsize=15)\n",
        "    ax = sns.countplot(\n",
        "        data=data,\n",
        "        x=feature,\n",
        "        palette=\"Paired\",\n",
        "        order=data[feature].value_counts().index[:n].sort_values(),\n",
        "    )\n",
        "\n",
        "    for p in ax.patches:\n",
        "        if perc == True:\n",
        "            label = \"{:.1f}%\".format(\n",
        "                100 * p.get_height() / total\n",
        "            )  # percentage of each class of the category\n",
        "        else:\n",
        "            label = p.get_height()  # count of each level of the category\n",
        "\n",
        "        x = p.get_x() + p.get_width() / 2  # width of the plot\n",
        "        y = p.get_height()  # height of the plot\n",
        "\n",
        "        ax.annotate(\n",
        "            label,\n",
        "            (x, y),\n",
        "            ha=\"center\",\n",
        "            va=\"center\",\n",
        "            size=12,\n",
        "            xytext=(0, 5),\n",
        "            textcoords=\"offset points\",\n",
        "        )  # annotate the percentage\n",
        "\n",
        "    plt.show()  # show the plot"
      ]
    },
    {
      "cell_type": "markdown",
      "metadata": {
        "id": "Yzi68_PYAlof"
      },
      "source": [
        "### Univariate Analysis"
      ]
    },
    {
      "cell_type": "markdown",
      "metadata": {
        "id": "akIOIRhfbvG8"
      },
      "source": [
        "#### Distribution of article categories"
      ]
    },
    {
      "cell_type": "code",
      "execution_count": null,
      "metadata": {
        "colab": {
          "base_uri": "https://localhost:8080/",
          "height": 601
        },
        "id": "ByuRA3I2bvG_",
        "outputId": "1f670770-7b16-422a-ed19-8ae5b8b57c30"
      },
      "outputs": [
        {
          "data": {
            "image/png": "[encoded data removed]",
            "text/plain": [
              "<Figure size 700x500 with 1 Axes>"
            ]
          },
          "metadata": {},
          "output_type": "display_data"
        }
      ],
      "source": [
        "labeled_barplot(data, \"Category\", perc=True)"
      ]
    },
    {
      "cell_type": "markdown",
      "metadata": {
        "id": "fqnuCtG7bvHB"
      },
      "source": [
        "- Majority of the articles in the data are sports articles (53%), followed by news articles (~40%)"
      ]
    },
    {
      "cell_type": "markdown",
      "metadata": {
        "id": "gnPICJ-WbvHD"
      },
      "source": [
        "#### Distribution of section"
      ]
    },
    {
      "cell_type": "code",
      "execution_count": null,
      "metadata": {
        "colab": {
          "base_uri": "https://localhost:8080/"
        },
        "id": "StFvx8mCbvHF",
        "outputId": "88738f8f-41e8-45b7-fd4f-e734c2c5fa5d"
      },
      "outputs": [
        {
          "data": {
            "image/png": "[encoded data removed]",
            "text/plain": [
              "<Figure size 1600x500 with 1 Axes>"
            ]
          },
          "metadata": {},
          "output_type": "display_data"
        }
      ],
      "source": [
        "labeled_barplot(data, \"Section\", perc=True, n = 15)"
      ]
    },
    {
      "cell_type": "markdown",
      "metadata": {
        "id": "kYqGBWxs-yIy"
      },
      "source": [
        "* The most common section articles in the data belong to are sports, europe, and football"
      ]
    },
    {
      "cell_type": "markdown",
      "metadata": {
        "id": "gwLKrCYpAyyh"
      },
      "source": [
        "#### Distribution of the year of publishing"
      ]
    },
    {
      "cell_type": "code",
      "execution_count": null,
      "metadata": {
        "id": "8n5Nd1pi2E9f"
      },
      "outputs": [],
      "source": [
        "data['year'] = pd.to_datetime(data['Date published']).dt.year"
      ]
    },
    {
      "cell_type": "code",
      "execution_count": null,
      "metadata": {
        "colab": {
          "base_uri": "https://localhost:8080/"
        },
        "id": "u74Y7_Fn2Xy2",
        "outputId": "44a75d30-9115-4486-947a-85d0e61c0ae7"
      },
      "outputs": [
        {
          "data": {
            "image/png": "[encoded data removed]",
            "text/plain": [
              "<Figure size 1200x500 with 1 Axes>"
            ]
          },
          "metadata": {},
          "output_type": "display_data"
        }
      ],
      "source": [
        "labeled_barplot(data, \"year\", perc=True)"
      ]
    },
    {
      "cell_type": "markdown",
      "metadata": {
        "id": "H8fGS-US2ng8"
      },
      "source": [
        "- Most of the articles are from the year 2021"
      ]
    },
    {
      "cell_type": "markdown",
      "metadata": {
        "id": "ZCM6avoA39FB"
      },
      "source": [
        "## Data Preprocessing"
      ]
    },
    {
      "cell_type": "code",
      "execution_count": null,
      "metadata": {
        "id": "42CTojahioE5"
      },
      "outputs": [],
      "source": [
        "dataset = data.copy()"
      ]
    },
    {
      "cell_type": "markdown",
      "metadata": {
        "id": "If-ARLxSFAHM"
      },
      "source": [
        "#### **Preprocessing the textual column**"
      ]
    },
    {
      "cell_type": "code",
      "execution_count": null,
      "metadata": {
        "id": "gd_Gnv1RjwrH"
      },
      "outputs": [],
      "source": [
        "# Loading the Porter Stemmer\n",
        "ps = PorterStemmer()"
      ]
    },
    {
      "cell_type": "code",
      "execution_count": null,
      "metadata": {
        "id": "BRXoGtLrQMza"
      },
      "outputs": [],
      "source": [
        "def preprocess_text(text):\n",
        "    # Convert to lowercase\n",
        "    text = text.lower()\n",
        "\n",
        "    # Remove special characters and numbers\n",
        "    text = re.sub(r'[^A-Za-z\\s]', '', text)\n",
        "\n",
        "    # Remove extra whitespaces\n",
        "    text = re.sub(r'\\s+', ' ', text).strip()\n",
        "\n",
        "    # Split text into separate words\n",
        "    words = text.split()\n",
        "\n",
        "    # Removing English language stopwords\n",
        "    text = ' '.join([word for word in words if word not in stopwords.words('english')])\n",
        "\n",
        "    # Applying the Porter Stemmer on every word of a message and joining the stemmed words back into a single string\n",
        "    text = ' '.join([ps.stem(word) for word in words])\n",
        "\n",
        "    return text"
      ]
    },
    {
      "cell_type": "code",
      "execution_count": null,
      "metadata": {
        "id": "1gP35O7svOS3"
      },
      "outputs": [],
      "source": [
        "# preprocessing the textual column\n",
        "dataset['Article_text_clean'] = dataset['Article text'].apply(preprocess_text)"
      ]
    },
    {
      "cell_type": "markdown",
      "metadata": {
        "id": "01_KoswobW9D"
      },
      "source": [
        "## Word Embeddings"
      ]
    },
    {
      "cell_type": "markdown",
      "metadata": {
        "id": "4IUBFAOTbjju"
      },
      "source": [
        "### **Word2Vec**"
      ]
    },
    {
      "cell_type": "code",
      "execution_count": null,
      "metadata": {
        "id": "ZD188ZNsboS4"
      },
      "outputs": [],
      "source": [
        "# Creating a list of all words in our data\n",
        "words_list = [item.split(\" \") for item in dataset['Article_text_clean'].values]"
      ]
    },
    {
      "cell_type": "code",
      "execution_count": null,
      "metadata": {
        "id": "eGVgM5iTbwHy"
      },
      "outputs": [],
      "source": [
        "# Creating an instance of Word2Vec\n",
        "vec_size = 300\n",
        "model_W2V = Word2Vec(words_list, vector_size = vec_size, min_count = 1, window=5, workers = 6)"
      ]
    },
    {
      "cell_type": "code",
      "execution_count": null,
      "metadata": {
        "colab": {
          "base_uri": "https://localhost:8080/"
        },
        "id": "lhy6DjNxbzOd",
        "outputId": "1bfa21c8-824e-42db-d2e1-a6659d8cadc5"
      },
      "outputs": [
        {
          "name": "stdout",
          "output_type": "stream",
          "text": [
            "Length of the vocabulary is 103381\n"
          ]
        }
      ],
      "source": [
        "# Checking the size of the vocabulary\n",
        "print(\"Length of the vocabulary is\", len(list(model_W2V.wv.key_to_index)))"
      ]
    },
    {
      "cell_type": "markdown",
      "metadata": {
        "id": "uqDgyw_Fb1Y4"
      },
      "source": [
        "Let's check out a few word embeddings obtained using the model."
      ]
    },
    {
      "cell_type": "code",
      "execution_count": null,
      "metadata": {
        "colab": {
          "base_uri": "https://localhost:8080/"
        },
        "id": "bXEk0kRSb2hr",
        "outputId": "7ab42bc4-83a8-4a1c-fc3b-c0201f3ff549"
      },
      "outputs": [
        {
          "data": {
            "text/plain": [
              "array([ 0.06819421,  0.16709527,  0.18665601,  0.30220142,  0.22130108,\n",
              "       -0.33145308,  0.25449118,  0.07627253,  0.19831005,  0.49340725,\n",
              "        0.05164901, -0.05006538, -0.2720904 ,  0.23614144, -0.38326833,\n",
              "       -0.29614326,  0.14938143, -0.17671326, -0.3336802 ,  0.22783853,\n",
              "        0.09978992, -0.05828869, -0.01779342, -0.22080396,  0.07910647,\n",
              "       -0.00181799,  0.04093606, -0.3895558 , -0.06332862, -0.16835299,\n",
              "        0.01432477, -0.38247246,  0.09847268, -0.05727176,  0.04286811,\n",
              "       -0.05314973,  0.03027312, -0.05226275, -0.01261571,  0.20849578,\n",
              "       -0.17521152,  0.09638897, -0.06975548, -0.24718979, -0.01325908,\n",
              "        0.02428494, -0.23904385, -0.10995439, -0.06850821,  0.12475561,\n",
              "        0.12412166, -0.27724436, -0.17818515, -0.01247428, -0.31846368,\n",
              "       -0.2439521 ,  0.5042256 , -0.11234781,  0.10721218, -0.46248513,\n",
              "        0.00269252, -0.181075  , -0.17177217, -0.09732226,  0.09110177,\n",
              "       -0.08046523, -0.1482629 ,  0.0051021 , -0.28256777,  0.0460262 ,\n",
              "       -0.32150152, -0.07151417,  0.22809818, -0.07646439,  0.2935794 ,\n",
              "        0.15178242, -0.40343964,  0.01754494, -0.05928284,  0.04027621,\n",
              "       -0.14507101, -0.31180513,  0.28592616,  0.15137865, -0.3023863 ,\n",
              "       -0.22200628, -0.01449706,  0.0527196 ,  0.24565135,  0.13938852,\n",
              "        0.19130275, -0.24661997,  0.14880073, -0.12661056,  0.15571178,\n",
              "        0.16849127,  0.13610342,  0.01301633, -0.162689  ,  0.25655246,\n",
              "       -0.20202443,  0.03705702,  0.00289821, -0.1012127 , -0.07594277,\n",
              "        0.3281457 , -0.14963695,  0.62620634, -0.37909243, -0.24064052,\n",
              "       -0.36535963,  0.11949096, -0.30130574, -0.11022947, -0.0259053 ,\n",
              "       -0.09997685, -0.35209036,  0.05727371, -0.10117929, -0.0690565 ,\n",
              "        0.01834396,  0.12735684,  0.21785979,  0.07610275,  0.06149442,\n",
              "       -0.2307142 , -0.14414832, -0.22868566, -0.1754548 ,  0.16477954,\n",
              "       -0.04781476,  0.19319443, -0.04423271, -0.5819239 ,  0.15736218,\n",
              "       -0.4571799 ,  0.0038244 , -0.07052283, -0.2540082 , -0.16906598,\n",
              "       -0.07121747, -0.24051075,  0.00862075, -0.16629535,  0.13640471,\n",
              "       -0.0108903 , -0.61784834,  0.0531553 , -0.13922773,  0.25724018,\n",
              "       -0.13794494, -0.5781105 , -0.41187888, -0.1564426 ,  0.46309766,\n",
              "       -0.13683288, -0.31914416,  0.1528482 ,  0.2762325 ,  0.69609696,\n",
              "       -0.05825712,  0.10589949, -0.0087598 ,  0.06652569,  0.2980415 ,\n",
              "        0.16039829,  0.28800064,  0.05627269,  0.25971994,  0.38540974,\n",
              "       -0.08348574,  0.04099649,  0.42188463, -0.04882848, -0.33892465,\n",
              "        0.24884391,  0.3622411 , -0.05235057,  0.13811828, -0.06822459,\n",
              "        0.13565204, -0.06712636,  0.10943137, -0.22146194, -0.24090016,\n",
              "        0.03081029, -0.07068346,  0.02395838, -0.00233084, -0.16503243,\n",
              "        0.25478578, -0.44427487,  0.0013199 , -0.03893875,  0.17529328,\n",
              "       -0.17312454, -0.23638536, -0.57986325,  0.12610133,  0.0122175 ,\n",
              "       -0.19356558, -0.00770383, -0.09580017, -0.05196065, -0.00531082,\n",
              "       -0.31895313, -0.04921089,  0.0375808 , -0.2535381 , -0.1308984 ,\n",
              "       -0.14081989, -0.39097556, -0.21494947,  0.00405378,  0.21719211,\n",
              "        0.10641819,  0.16144462, -0.68740416,  0.12136671, -0.59322906,\n",
              "       -0.07647716,  0.41801205, -0.09664672,  0.00548304,  0.1977115 ,\n",
              "       -0.38501674, -0.33398747, -0.0968793 , -0.41695148,  0.11090163,\n",
              "        0.07497361, -0.25774208, -0.505454  ,  0.36020097, -0.05013797,\n",
              "        0.32108182, -0.20308276, -0.07202695, -0.216009  , -0.30040243,\n",
              "       -0.00580468, -0.5700465 ,  0.10740896, -0.12521489, -0.05972379,\n",
              "       -0.5185574 , -0.15727656,  0.31105077, -0.2812232 ,  0.17307879,\n",
              "        0.30776504,  0.30263868,  0.23160383,  0.13399814, -0.32529315,\n",
              "       -0.24812151,  0.7229977 ,  0.47792435,  0.25817057, -0.213623  ,\n",
              "        0.03102896, -0.17124473, -0.4060403 ,  0.26723778, -0.03600012,\n",
              "        0.34253225,  0.26390767, -0.23716488,  0.19389728, -0.38461298,\n",
              "       -0.34430736,  0.23992947, -0.23403895, -0.00677855,  0.15462425,\n",
              "        0.41403976, -0.23963936,  0.09598823,  0.20685361, -0.23256552,\n",
              "        0.33267933,  0.42232147, -0.40242434,  0.38894406,  0.18725272,\n",
              "       -0.0640834 , -0.14051042,  0.09381005, -0.1188141 ,  0.5730656 ,\n",
              "       -0.02825746,  0.36903122, -0.17465116, -0.07103051, -0.1117974 ,\n",
              "        0.6710819 , -0.18858367, -0.07742659, -0.02855949, -0.63327706],\n",
              "      dtype=float32)"
            ]
          },
          "execution_count": 22,
          "metadata": {},
          "output_type": "execute_result"
        }
      ],
      "source": [
        "# Checking the word embedding of a random word\n",
        "word = \"truck\"\n",
        "model_W2V.wv[word]"
      ]
    },
    {
      "cell_type": "code",
      "execution_count": null,
      "metadata": {
        "colab": {
          "base_uri": "https://localhost:8080/"
        },
        "id": "QtR6qUBbkDMT",
        "outputId": "51448be3-8b70-478a-9b20-afed8bcfc23e"
      },
      "outputs": [
        {
          "data": {
            "text/plain": [
              "array([-0.04886977,  0.30631498,  0.14985822, -0.03797175,  0.23936282,\n",
              "       -0.19802487,  0.36983445,  0.59524965,  0.40272567, -0.19154331,\n",
              "       -0.0561035 , -0.02774264,  0.10653304,  0.06828514,  0.13516822,\n",
              "       -0.2624122 ,  0.10025736,  0.20652376, -0.16517189,  0.40106964,\n",
              "       -0.22695868, -0.23397051,  0.39793667,  0.09695083, -0.19256675,\n",
              "        0.23593429,  0.07398281, -0.32512587, -0.0100012 , -0.04879604,\n",
              "        0.0022178 ,  0.07680922, -0.09182481,  0.20162533, -0.14927272,\n",
              "        0.3670031 , -0.000843  , -0.09250966, -0.35216177,  0.12220562,\n",
              "        0.17752323, -0.10913673,  0.4677985 , -0.11539483,  0.45962906,\n",
              "        0.29023212, -0.28674105, -0.14027613, -0.24219552, -0.01672644,\n",
              "        0.24735728, -0.17299478, -0.24258617, -0.19631377, -0.20927572,\n",
              "       -0.3527538 ,  0.26499063,  0.10410006,  0.20433551, -0.30602977,\n",
              "       -0.09538928, -0.15192778,  0.01661816, -0.16264005,  0.29106012,\n",
              "       -0.17133698, -0.13273431,  0.1367217 , -0.604342  , -0.11919063,\n",
              "       -0.2058205 , -0.25075933,  0.32069772,  0.02712595,  0.57049257,\n",
              "        0.13780817, -0.07714471,  0.3029005 , -0.47127753,  0.09307554,\n",
              "       -0.22779545, -0.09154183,  0.05284674,  0.23514728, -0.34251416,\n",
              "       -0.09264571,  0.10685256, -0.22131826,  0.04875563, -0.30578938,\n",
              "        0.2283372 ,  0.02264554, -0.09534703, -0.14018884,  0.05192149,\n",
              "        0.16619135,  0.22192071, -0.00643737, -0.05267281, -0.07005607,\n",
              "       -0.36289406,  0.02537342,  0.1385404 , -0.04956333, -0.01668773,\n",
              "        0.21681003, -0.40704927,  0.20199372, -0.2027933 , -0.24047409,\n",
              "       -0.31891438,  0.30913413, -0.4724064 , -0.11361968, -0.09861136,\n",
              "       -0.0190408 ,  0.1889195 , -0.1086287 ,  0.09188161, -0.4655071 ,\n",
              "        0.00890723,  0.01169864,  0.09974905,  0.2675346 , -0.2392596 ,\n",
              "       -0.06313723, -0.30456343, -0.3937602 , -0.42129672,  0.16125903,\n",
              "       -0.10481069,  0.37263802,  0.13835597, -0.72797614,  0.5025461 ,\n",
              "       -0.24340782,  0.17516302,  0.05822763, -0.36429936, -0.4360895 ,\n",
              "       -0.26692393, -0.1588476 , -0.0071115 ,  0.20526955,  0.39648712,\n",
              "       -0.3159114 , -0.31646353, -0.11530261,  0.20843974, -0.03032104,\n",
              "       -0.2699939 , -0.09436803,  0.44099447, -0.2968062 ,  0.15325949,\n",
              "       -0.14742972, -0.5488858 , -0.1589919 , -0.08596707, -0.02133037,\n",
              "        0.318514  , -0.13467328, -0.08452032,  0.14557157,  0.26020572,\n",
              "       -0.06223961, -0.18898869,  0.26598737, -0.06080254,  0.03550478,\n",
              "       -0.09285322,  0.11449319,  0.13775523,  0.14653568, -0.03397834,\n",
              "        0.24132374,  0.4381488 ,  0.08064554,  0.33244702, -0.1671752 ,\n",
              "       -0.09770532, -0.15652591, -0.5559239 , -0.01892444,  0.06116083,\n",
              "       -0.28348398, -0.15036806,  0.50223964,  0.08170132, -0.15587096,\n",
              "        0.24352364, -0.41800952,  0.04096533, -0.01149765,  0.28749633,\n",
              "       -0.4087839 ,  0.02803107,  0.10222702,  0.01639782, -0.03196915,\n",
              "       -0.5340854 ,  0.12075927, -0.0032786 , -0.40022406,  0.2441176 ,\n",
              "       -0.16920565,  0.16902854, -0.15311058,  0.0405702 , -0.05058916,\n",
              "       -0.16201666,  0.02433857, -0.4345823 , -0.26143968, -0.06282978,\n",
              "        0.07761066, -0.25182843, -0.66786724, -0.36102346, -0.4093848 ,\n",
              "       -0.14483568,  0.38322815,  0.07051212,  0.14186195,  0.12912554,\n",
              "       -0.25798464,  0.3898738 , -0.23070699, -0.3688825 ,  0.35401383,\n",
              "        0.21126306, -0.2944972 , -0.20527372,  0.63622487, -0.18683842,\n",
              "       -0.26367953,  0.00519819, -0.00974893, -0.244187  , -0.7296911 ,\n",
              "        0.29973924, -0.37467584, -0.0888646 , -0.27725178, -0.26242974,\n",
              "       -0.30560383,  0.03487092,  0.09546261,  0.20689549,  0.16538206,\n",
              "        0.03503836, -0.01868598,  0.30006444, -0.00987512,  0.11567648,\n",
              "       -0.16099289,  0.45832163,  0.4030673 , -0.07717522,  0.09426146,\n",
              "        0.03715733, -0.27824682,  0.19935119, -0.08795942, -0.115514  ,\n",
              "        0.12046946,  0.33455268,  0.03282183,  0.44644034, -0.2537706 ,\n",
              "       -0.42764136,  0.18161955,  0.39606476,  0.27816102, -0.0288528 ,\n",
              "       -0.32033777, -0.10323772,  0.07398566, -0.31636027, -0.16066223,\n",
              "        0.22102733, -0.05701799,  0.0387545 ,  0.3810778 , -0.04098195,\n",
              "        0.01422677,  0.130298  ,  0.27584565, -0.23258904,  0.32508686,\n",
              "        0.26519686,  0.09848146,  0.02730816, -0.33217558,  0.22930978,\n",
              "        0.35484913, -0.23511247,  0.17991343,  0.17854124, -0.33819664],\n",
              "      dtype=float32)"
            ]
          },
          "execution_count": 113,
          "metadata": {},
          "output_type": "execute_result"
        }
      ],
      "source": [
        "# Checking the word embedding of a random word\n",
        "word = \"robot\"\n",
        "model_W2V.wv[word]"
      ]
    },
    {
      "cell_type": "code",
      "execution_count": null,
      "metadata": {
        "colab": {
          "base_uri": "https://localhost:8080/"
        },
        "id": "ALs0_Syekdhz",
        "outputId": "630ccd6d-ca3c-4410-9965-b1c59ea49a03"
      },
      "outputs": [
        {
          "data": {
            "text/plain": [
              "array([-0.31473264, -0.4948494 ,  0.438747  ,  0.5722002 , -0.05602052,\n",
              "        0.19190699,  0.42768472, -0.03823858,  0.5212723 ,  0.10788385,\n",
              "       -0.59929746,  0.2910451 ,  0.00529936, -0.2078784 ,  0.00779187,\n",
              "       -0.3081786 ,  0.42753887,  0.3043627 , -0.50793135,  0.7236817 ,\n",
              "        0.03412197,  0.33141416,  0.79781145,  0.2883991 , -0.13768831,\n",
              "       -0.4827706 ,  0.05298771,  0.5227639 , -0.13276027, -0.6011752 ,\n",
              "        0.3370725 ,  0.30511793,  0.15800464,  0.3506971 , -0.09406114,\n",
              "        0.00418789,  0.18826972, -0.998909  , -1.140143  ,  0.47916368,\n",
              "       -0.20300496, -0.4058175 ,  0.34926686,  0.08427973, -0.72204715,\n",
              "       -0.18149261, -0.52320266,  0.12186141,  0.04851672, -0.38873097,\n",
              "        0.26978102, -0.19575362,  0.06390801, -0.5078601 , -0.6602938 ,\n",
              "       -0.2943042 ,  0.40916774,  0.21479444,  0.04272943,  0.3371882 ,\n",
              "       -0.16293438,  0.02474739, -0.05989403, -0.54541636,  0.07345774,\n",
              "       -0.10672683, -0.6011429 , -0.0405538 ,  0.10921417, -0.7818322 ,\n",
              "       -0.24852288, -0.03650183,  0.6160282 , -0.22931719,  0.16499381,\n",
              "        0.60084236,  0.6437569 ,  0.54024667, -0.51382244,  0.20182417,\n",
              "       -0.3806319 ,  0.2638801 , -0.06631903, -0.25897148, -0.38204247,\n",
              "       -0.23002677, -0.10987853, -0.8294672 , -0.09315483,  0.21478659,\n",
              "        0.34502274,  0.07679111, -0.19772795, -0.18233933, -0.2242992 ,\n",
              "        0.21625929,  0.5927487 ,  0.08290934,  0.17776266,  0.49463004,\n",
              "       -0.18112966, -0.17169158,  0.644474  ,  0.5094829 ,  0.4633561 ,\n",
              "       -0.24840826, -0.6481519 , -0.19603579, -0.37231517, -0.5738798 ,\n",
              "        0.23674048,  0.33366057, -0.71951824, -0.18258867, -0.7240409 ,\n",
              "        0.85392845,  0.42792207,  0.00157306, -0.0264426 , -0.79249173,\n",
              "        0.1508629 , -0.03126933,  0.52379864, -0.5623756 , -0.38918912,\n",
              "        0.02546048, -0.46715456, -0.4575917 , -0.7246631 , -0.34945667,\n",
              "       -0.1664975 ,  0.05506669,  0.24066173, -1.205506  ,  0.4745155 ,\n",
              "       -0.6496917 ,  0.64252347,  0.37550548, -0.04483794, -0.524234  ,\n",
              "       -0.33391115, -0.4762747 ,  0.48177803,  0.36649466,  0.6431011 ,\n",
              "       -0.39206684, -0.30726397, -0.12237879, -0.02536768,  0.68597734,\n",
              "       -0.08278764, -0.21492654,  0.4808043 , -0.06870646,  0.15051651,\n",
              "       -0.44259548, -0.5834093 ,  0.10119237, -0.75283957,  0.12538919,\n",
              "        0.43007848, -0.02168473,  0.18999575,  0.30135283,  0.16604304,\n",
              "        0.0609934 , -0.44764534,  0.06477027,  0.2913188 ,  0.16892403,\n",
              "       -0.28637466,  0.27947673,  0.3307073 , -0.3318689 , -0.18943274,\n",
              "       -0.00789254,  0.92848307,  0.14612642,  0.3846377 , -0.11084764,\n",
              "        0.3585071 , -0.18046816, -0.32885763, -0.44605634, -0.11438428,\n",
              "       -0.22878043, -0.7514452 ,  0.45348778, -0.19529474,  0.05545184,\n",
              "       -0.02083159, -0.53480345,  0.06153882,  0.0887799 ,  0.46039194,\n",
              "       -0.62361443,  0.139299  , -0.22019787, -0.13390346, -0.48108777,\n",
              "       -0.3268145 ,  0.22351037, -0.7159208 , -0.60250014,  0.11098021,\n",
              "       -0.24728449, -0.11489438, -0.33307388, -0.04078565,  0.12999472,\n",
              "       -0.23484959,  0.94805646,  0.1539448 , -0.35911852,  0.6625288 ,\n",
              "        0.05255458,  0.34445015, -0.17359407, -0.02271774, -0.7710815 ,\n",
              "       -0.21413158, -0.09055743,  0.06775919,  0.8647216 ,  0.03422704,\n",
              "       -0.8088621 ,  0.21662821, -0.06333429, -0.1503802 ,  0.25022542,\n",
              "       -0.10755718, -0.02650079,  0.01603136, -0.05107776, -0.2955267 ,\n",
              "        0.20793928, -0.4310544 , -0.1003222 , -0.0970351 , -0.06173164,\n",
              "       -0.04717499, -0.05785248,  0.31757614,  0.01385426, -0.08674139,\n",
              "       -0.37104338, -0.23789436,  0.4341481 , -0.2677024 , -0.75220895,\n",
              "       -0.3118004 ,  0.20509161,  0.6807097 ,  0.21771237, -0.17981537,\n",
              "        0.01051641, -0.05078193,  0.10314035,  0.1952872 ,  0.12000784,\n",
              "       -0.09882691, -0.6463091 , -0.19404136,  0.82671005,  0.5217597 ,\n",
              "        1.0087236 , -0.03431408,  0.38577992, -0.10927211, -0.5158669 ,\n",
              "       -0.68809146,  0.4802    ,  0.413993  ,  0.5226462 , -0.42954245,\n",
              "       -0.3060871 ,  0.6997244 ,  0.23190454, -0.00232541,  0.13751154,\n",
              "        0.46468866, -0.15129317,  0.37978762,  0.31236938,  0.36998886,\n",
              "        0.5003442 ,  0.16242836, -0.30324492,  0.5473517 ,  0.15431519,\n",
              "       -0.02894377, -0.28170478, -0.30482617, -0.83649635,  0.22991961,\n",
              "        0.36878923,  0.22480893,  0.2040921 ,  1.0311654 , -0.19551602],\n",
              "      dtype=float32)"
            ]
          },
          "execution_count": 117,
          "metadata": {},
          "output_type": "execute_result"
        }
      ],
      "source": [
        "# Checking the word embedding of a random word\n",
        "word = \"market\"\n",
        "model_W2V.wv[word]"
      ]
    },
    {
      "cell_type": "code",
      "execution_count": null,
      "metadata": {
        "id": "F_4ldXPzcF7y"
      },
      "outputs": [],
      "source": [
        "# Retrieving the words present in the Word2Vec model's vocabulary\n",
        "words = list(model_W2V.wv.key_to_index.keys())\n",
        "\n",
        "# Retrieving word vectors for all the words present in the model's vocabulary\n",
        "wvs = model_W2V.wv[words].tolist()\n",
        "\n",
        "# Creating a dictionary of words and their corresponding vectors\n",
        "word_vector_dict = dict(zip(words, wvs))"
      ]
    },
    {
      "cell_type": "code",
      "execution_count": null,
      "metadata": {
        "id": "vsQ0vF42cH_r"
      },
      "outputs": [],
      "source": [
        "def average_vectorizer_Word2Vec(doc):\n",
        "    # Initializing a feature vector for the sentence\n",
        "    feature_vector = np.zeros((vec_size,), dtype=\"float64\")\n",
        "\n",
        "    # Creating a list of words in the sentence that are present in the model vocabulary\n",
        "    words_in_vocab = [word for word in doc.split() if word in words]\n",
        "\n",
        "    # adding the vector representations of the words\n",
        "    for word in words_in_vocab:\n",
        "        feature_vector += np.array(word_vector_dict[word])\n",
        "\n",
        "    # Dividing by the number of words to get the average vector\n",
        "    if len(words_in_vocab) != 0:\n",
        "        feature_vector /= len(words_in_vocab)\n",
        "\n",
        "    return feature_vector"
      ]
    },
    {
      "cell_type": "code",
      "execution_count": null,
      "metadata": {
        "colab": {
          "base_uri": "https://localhost:8080/",
          "height": 461
        },
        "id": "Jtxc1yVHcJjV",
        "outputId": "e3645d5d-e888-4d04-f7e0-50f83132b80d"
      },
      "outputs": [
        {
          "data": {
            "text/html": [
              "\n",
              "  <div id=\"df-2e236818-b476-4481-aa5f-f900b57bd4b9\" class=\"colab-df-container\">\n",
              "    <div>\n",
              "<style scoped>\n",
              "    .dataframe tbody tr th:only-of-type {\n",
              "        vertical-align: middle;\n",
              "    }\n",
              "\n",
              "    .dataframe tbody tr th {\n",
              "        vertical-align: top;\n",
              "    }\n",
              "\n",
              "    .dataframe thead th {\n",
              "        text-align: right;\n",
              "    }\n",
              "</style>\n",
              "<table border=\"1\" class=\"dataframe\">\n",
              "  <thead>\n",
              "    <tr style=\"text-align: right;\">\n",
              "      <th></th>\n",
              "      <th>Feature 0</th>\n",
              "      <th>Feature 1</th>\n",
              "      <th>Feature 2</th>\n",
              "      <th>Feature 3</th>\n",
              "      <th>Feature 4</th>\n",
              "      <th>Feature 5</th>\n",
              "      <th>Feature 6</th>\n",
              "      <th>Feature 7</th>\n",
              "      <th>Feature 8</th>\n",
              "      <th>Feature 9</th>\n",
              "      <th>...</th>\n",
              "      <th>Feature 290</th>\n",
              "      <th>Feature 291</th>\n",
              "      <th>Feature 292</th>\n",
              "      <th>Feature 293</th>\n",
              "      <th>Feature 294</th>\n",
              "      <th>Feature 295</th>\n",
              "      <th>Feature 296</th>\n",
              "      <th>Feature 297</th>\n",
              "      <th>Feature 298</th>\n",
              "      <th>Feature 299</th>\n",
              "    </tr>\n",
              "  </thead>\n",
              "  <tbody>\n",
              "    <tr>\n",
              "      <th>0</th>\n",
              "      <td>0.329479</td>\n",
              "      <td>-0.155662</td>\n",
              "      <td>0.236709</td>\n",
              "      <td>0.198247</td>\n",
              "      <td>0.033807</td>\n",
              "      <td>-0.058347</td>\n",
              "      <td>0.531064</td>\n",
              "      <td>-0.222779</td>\n",
              "      <td>-0.017694</td>\n",
              "      <td>0.568654</td>\n",
              "      <td>...</td>\n",
              "      <td>-0.058552</td>\n",
              "      <td>-0.237396</td>\n",
              "      <td>-0.121912</td>\n",
              "      <td>-0.019360</td>\n",
              "      <td>-0.171785</td>\n",
              "      <td>0.257645</td>\n",
              "      <td>0.080140</td>\n",
              "      <td>0.177879</td>\n",
              "      <td>0.336841</td>\n",
              "      <td>0.162884</td>\n",
              "    </tr>\n",
              "    <tr>\n",
              "      <th>1</th>\n",
              "      <td>0.291895</td>\n",
              "      <td>-0.122913</td>\n",
              "      <td>0.204776</td>\n",
              "      <td>0.198119</td>\n",
              "      <td>0.063684</td>\n",
              "      <td>-0.029370</td>\n",
              "      <td>0.537749</td>\n",
              "      <td>-0.239402</td>\n",
              "      <td>0.036303</td>\n",
              "      <td>0.497542</td>\n",
              "      <td>...</td>\n",
              "      <td>-0.029344</td>\n",
              "      <td>-0.259271</td>\n",
              "      <td>-0.105825</td>\n",
              "      <td>-0.033337</td>\n",
              "      <td>-0.108472</td>\n",
              "      <td>0.278689</td>\n",
              "      <td>0.078936</td>\n",
              "      <td>0.220085</td>\n",
              "      <td>0.380291</td>\n",
              "      <td>0.157566</td>\n",
              "    </tr>\n",
              "    <tr>\n",
              "      <th>2</th>\n",
              "      <td>0.293127</td>\n",
              "      <td>-0.082017</td>\n",
              "      <td>0.267277</td>\n",
              "      <td>0.181723</td>\n",
              "      <td>0.067075</td>\n",
              "      <td>-0.088536</td>\n",
              "      <td>0.590133</td>\n",
              "      <td>-0.136083</td>\n",
              "      <td>0.076961</td>\n",
              "      <td>0.484950</td>\n",
              "      <td>...</td>\n",
              "      <td>-0.046203</td>\n",
              "      <td>-0.195222</td>\n",
              "      <td>-0.094132</td>\n",
              "      <td>0.008653</td>\n",
              "      <td>-0.032018</td>\n",
              "      <td>0.297799</td>\n",
              "      <td>-0.005564</td>\n",
              "      <td>0.241998</td>\n",
              "      <td>0.283651</td>\n",
              "      <td>0.162307</td>\n",
              "    </tr>\n",
              "    <tr>\n",
              "      <th>3</th>\n",
              "      <td>0.329743</td>\n",
              "      <td>-0.235424</td>\n",
              "      <td>0.130944</td>\n",
              "      <td>0.148089</td>\n",
              "      <td>0.004565</td>\n",
              "      <td>0.123768</td>\n",
              "      <td>0.406557</td>\n",
              "      <td>-0.288334</td>\n",
              "      <td>-0.042404</td>\n",
              "      <td>0.547752</td>\n",
              "      <td>...</td>\n",
              "      <td>-0.108098</td>\n",
              "      <td>-0.353941</td>\n",
              "      <td>-0.057737</td>\n",
              "      <td>-0.056293</td>\n",
              "      <td>-0.217140</td>\n",
              "      <td>0.158318</td>\n",
              "      <td>0.137999</td>\n",
              "      <td>0.142249</td>\n",
              "      <td>0.445650</td>\n",
              "      <td>0.176136</td>\n",
              "    </tr>\n",
              "    <tr>\n",
              "      <th>4</th>\n",
              "      <td>0.206591</td>\n",
              "      <td>-0.151815</td>\n",
              "      <td>0.204400</td>\n",
              "      <td>0.067897</td>\n",
              "      <td>-0.007823</td>\n",
              "      <td>0.206218</td>\n",
              "      <td>0.504949</td>\n",
              "      <td>-0.270395</td>\n",
              "      <td>0.071779</td>\n",
              "      <td>0.364399</td>\n",
              "      <td>...</td>\n",
              "      <td>-0.144839</td>\n",
              "      <td>-0.183502</td>\n",
              "      <td>-0.016665</td>\n",
              "      <td>-0.055060</td>\n",
              "      <td>-0.241195</td>\n",
              "      <td>0.100523</td>\n",
              "      <td>0.322812</td>\n",
              "      <td>0.140022</td>\n",
              "      <td>0.561863</td>\n",
              "      <td>0.361314</td>\n",
              "    </tr>\n",
              "    <tr>\n",
              "      <th>...</th>\n",
              "      <td>...</td>\n",
              "      <td>...</td>\n",
              "      <td>...</td>\n",
              "      <td>...</td>\n",
              "      <td>...</td>\n",
              "      <td>...</td>\n",
              "      <td>...</td>\n",
              "      <td>...</td>\n",
              "      <td>...</td>\n",
              "      <td>...</td>\n",
              "      <td>...</td>\n",
              "      <td>...</td>\n",
              "      <td>...</td>\n",
              "      <td>...</td>\n",
              "      <td>...</td>\n",
              "      <td>...</td>\n",
              "      <td>...</td>\n",
              "      <td>...</td>\n",
              "      <td>...</td>\n",
              "      <td>...</td>\n",
              "      <td>...</td>\n",
              "    </tr>\n",
              "    <tr>\n",
              "      <th>4071</th>\n",
              "      <td>0.435332</td>\n",
              "      <td>-0.156835</td>\n",
              "      <td>0.168549</td>\n",
              "      <td>0.225045</td>\n",
              "      <td>-0.078732</td>\n",
              "      <td>-0.118746</td>\n",
              "      <td>0.347663</td>\n",
              "      <td>-0.286368</td>\n",
              "      <td>-0.376340</td>\n",
              "      <td>0.582931</td>\n",
              "      <td>...</td>\n",
              "      <td>-0.186580</td>\n",
              "      <td>-0.200938</td>\n",
              "      <td>0.078361</td>\n",
              "      <td>-0.017476</td>\n",
              "      <td>-0.302896</td>\n",
              "      <td>0.041572</td>\n",
              "      <td>0.149773</td>\n",
              "      <td>0.122779</td>\n",
              "      <td>0.554927</td>\n",
              "      <td>0.314663</td>\n",
              "    </tr>\n",
              "    <tr>\n",
              "      <th>4072</th>\n",
              "      <td>0.391022</td>\n",
              "      <td>-0.303973</td>\n",
              "      <td>0.165280</td>\n",
              "      <td>0.255639</td>\n",
              "      <td>-0.098380</td>\n",
              "      <td>-0.185505</td>\n",
              "      <td>0.371136</td>\n",
              "      <td>-0.236407</td>\n",
              "      <td>-0.252430</td>\n",
              "      <td>0.625415</td>\n",
              "      <td>...</td>\n",
              "      <td>-0.214679</td>\n",
              "      <td>-0.124123</td>\n",
              "      <td>0.012633</td>\n",
              "      <td>0.032408</td>\n",
              "      <td>-0.214657</td>\n",
              "      <td>0.077555</td>\n",
              "      <td>0.134928</td>\n",
              "      <td>0.272149</td>\n",
              "      <td>0.352320</td>\n",
              "      <td>0.417051</td>\n",
              "    </tr>\n",
              "    <tr>\n",
              "      <th>4073</th>\n",
              "      <td>0.298450</td>\n",
              "      <td>-0.027859</td>\n",
              "      <td>0.124928</td>\n",
              "      <td>0.162061</td>\n",
              "      <td>-0.011797</td>\n",
              "      <td>-0.023958</td>\n",
              "      <td>0.428426</td>\n",
              "      <td>-0.255282</td>\n",
              "      <td>-0.219930</td>\n",
              "      <td>0.559661</td>\n",
              "      <td>...</td>\n",
              "      <td>-0.181218</td>\n",
              "      <td>-0.133406</td>\n",
              "      <td>0.112147</td>\n",
              "      <td>0.062528</td>\n",
              "      <td>-0.244632</td>\n",
              "      <td>0.146312</td>\n",
              "      <td>0.145439</td>\n",
              "      <td>0.047358</td>\n",
              "      <td>0.322632</td>\n",
              "      <td>0.275251</td>\n",
              "    </tr>\n",
              "    <tr>\n",
              "      <th>4074</th>\n",
              "      <td>0.168576</td>\n",
              "      <td>-0.203065</td>\n",
              "      <td>0.117909</td>\n",
              "      <td>0.192263</td>\n",
              "      <td>0.016953</td>\n",
              "      <td>0.063778</td>\n",
              "      <td>0.436094</td>\n",
              "      <td>-0.250055</td>\n",
              "      <td>0.040905</td>\n",
              "      <td>0.499748</td>\n",
              "      <td>...</td>\n",
              "      <td>-0.008963</td>\n",
              "      <td>-0.258537</td>\n",
              "      <td>-0.152788</td>\n",
              "      <td>-0.101824</td>\n",
              "      <td>-0.219249</td>\n",
              "      <td>0.219464</td>\n",
              "      <td>0.198712</td>\n",
              "      <td>0.214258</td>\n",
              "      <td>0.444228</td>\n",
              "      <td>0.159844</td>\n",
              "    </tr>\n",
              "    <tr>\n",
              "      <th>4075</th>\n",
              "      <td>0.357739</td>\n",
              "      <td>-0.081489</td>\n",
              "      <td>0.088469</td>\n",
              "      <td>0.307534</td>\n",
              "      <td>-0.023866</td>\n",
              "      <td>-0.316590</td>\n",
              "      <td>0.307179</td>\n",
              "      <td>-0.248451</td>\n",
              "      <td>-0.281251</td>\n",
              "      <td>0.605983</td>\n",
              "      <td>...</td>\n",
              "      <td>-0.094286</td>\n",
              "      <td>-0.183682</td>\n",
              "      <td>-0.045787</td>\n",
              "      <td>-0.007363</td>\n",
              "      <td>-0.253171</td>\n",
              "      <td>0.302274</td>\n",
              "      <td>0.013220</td>\n",
              "      <td>0.217693</td>\n",
              "      <td>0.188745</td>\n",
              "      <td>0.204882</td>\n",
              "    </tr>\n",
              "  </tbody>\n",
              "</table>\n",
              "<p>4076 rows × 300 columns</p>\n",
              "</div>\n",
              "    <div class=\"colab-df-buttons\">\n",
              "\n",
              "  <div class=\"colab-df-container\">\n",
              "    <button class=\"colab-df-convert\" onclick=\"convertToInteractive('df-2e236818-b476-4481-aa5f-f900b57bd4b9')\"\n",
              "            title=\"Convert this dataframe to an interactive table.\"\n",
              "            style=\"display:none;\">\n",
              "\n",
              "  <svg xmlns=\"http://www.w3.org/2000/svg\" height=\"24px\" viewBox=\"0 -960 960 960\">\n",
              "    <path d=\"M120-120v-720h720v720H120Zm60-500h600v-160H180v160Zm220 220h160v-160H400v160Zm0 220h160v-160H400v160ZM180-400h160v-160H180v160Zm440 0h160v-160H620v160ZM180-180h160v-160H180v160Zm440 0h160v-160H620v160Z\"/>\n",
              "  </svg>\n",
              "    </button>\n",
              "\n",
              "  <style>\n",
              "    .colab-df-container {\n",
              "      display:flex;\n",
              "      gap: 12px;\n",
              "    }\n",
              "\n",
              "    .colab-df-convert {\n",
              "      background-color: #E8F0FE;\n",
              "      border: none;\n",
              "      border-radius: 50%;\n",
              "      cursor: pointer;\n",
              "      display: none;\n",
              "      fill: #1967D2;\n",
              "      height: 32px;\n",
              "      padding: 0 0 0 0;\n",
              "      width: 32px;\n",
              "    }\n",
              "\n",
              "    .colab-df-convert:hover {\n",
              "      background-color: #E2EBFA;\n",
              "      box-shadow: 0px 1px 2px rgba(60, 64, 67, 0.3), 0px 1px 3px 1px rgba(60, 64, 67, 0.15);\n",
              "      fill: #174EA6;\n",
              "    }\n",
              "\n",
              "    .colab-df-buttons div {\n",
              "      margin-bottom: 4px;\n",
              "    }\n",
              "\n",
              "    [theme=dark] .colab-df-convert {\n",
              "      background-color: #3B4455;\n",
              "      fill: #D2E3FC;\n",
              "    }\n",
              "\n",
              "    [theme=dark] .colab-df-convert:hover {\n",
              "      background-color: #434B5C;\n",
              "      box-shadow: 0px 1px 3px 1px rgba(0, 0, 0, 0.15);\n",
              "      filter: drop-shadow(0px 1px 2px rgba(0, 0, 0, 0.3));\n",
              "      fill: #FFFFFF;\n",
              "    }\n",
              "  </style>\n",
              "\n",
              "    <script>\n",
              "      const buttonEl =\n",
              "        document.querySelector('#df-2e236818-b476-4481-aa5f-f900b57bd4b9 button.colab-df-convert');\n",
              "      buttonEl.style.display =\n",
              "        google.colab.kernel.accessAllowed ? 'block' : 'none';\n",
              "\n",
              "      async function convertToInteractive(key) {\n",
              "        const element = document.querySelector('#df-2e236818-b476-4481-aa5f-f900b57bd4b9');\n",
              "        const dataTable =\n",
              "          await google.colab.kernel.invokeFunction('convertToInteractive',\n",
              "                                                    [key], {});\n",
              "        if (!dataTable) return;\n",
              "\n",
              "        const docLinkHtml = 'Like what you see? Visit the ' +\n",
              "          '<a target=\"_blank\" href=https://colab.research.google.com/notebooks/data_table.ipynb>data table notebook</a>'\n",
              "          + ' to learn more about interactive tables.';\n",
              "        element.innerHTML = '';\n",
              "        dataTable['output_type'] = 'display_data';\n",
              "        await google.colab.output.renderOutput(dataTable, element);\n",
              "        const docLink = document.createElement('div');\n",
              "        docLink.innerHTML = docLinkHtml;\n",
              "        element.appendChild(docLink);\n",
              "      }\n",
              "    </script>\n",
              "  </div>\n",
              "\n",
              "\n",
              "<div id=\"df-1317b3ff-85a4-4790-82b5-acd92c97963d\">\n",
              "  <button class=\"colab-df-quickchart\" onclick=\"quickchart('df-1317b3ff-85a4-4790-82b5-acd92c97963d')\"\n",
              "            title=\"Suggest charts\"\n",
              "            style=\"display:none;\">\n",
              "\n",
              "<svg xmlns=\"http://www.w3.org/2000/svg\" height=\"24px\"viewBox=\"0 0 24 24\"\n",
              "     width=\"24px\">\n",
              "    <g>\n",
              "        <path d=\"M19 3H5c-1.1 0-2 .9-2 2v14c0 1.1.9 2 2 2h14c1.1 0 2-.9 2-2V5c0-1.1-.9-2-2-2zM9 17H7v-7h2v7zm4 0h-2V7h2v10zm4 0h-2v-4h2v4z\"/>\n",
              "    </g>\n",
              "</svg>\n",
              "  </button>\n",
              "\n",
              "<style>\n",
              "  .colab-df-quickchart {\n",
              "      --bg-color: #E8F0FE;\n",
              "      --fill-color: #1967D2;\n",
              "      --hover-bg-color: #E2EBFA;\n",
              "      --hover-fill-color: #174EA6;\n",
              "      --disabled-fill-color: #AAA;\n",
              "      --disabled-bg-color: #DDD;\n",
              "  }\n",
              "\n",
              "  [theme=dark] .colab-df-quickchart {\n",
              "      --bg-color: #3B4455;\n",
              "      --fill-color: #D2E3FC;\n",
              "      --hover-bg-color: #434B5C;\n",
              "      --hover-fill-color: #FFFFFF;\n",
              "      --disabled-bg-color: #3B4455;\n",
              "      --disabled-fill-color: #666;\n",
              "  }\n",
              "\n",
              "  .colab-df-quickchart {\n",
              "    background-color: var(--bg-color);\n",
              "    border: none;\n",
              "    border-radius: 50%;\n",
              "    cursor: pointer;\n",
              "    display: none;\n",
              "    fill: var(--fill-color);\n",
              "    height: 32px;\n",
              "    padding: 0;\n",
              "    width: 32px;\n",
              "  }\n",
              "\n",
              "  .colab-df-quickchart:hover {\n",
              "    background-color: var(--hover-bg-color);\n",
              "    box-shadow: 0 1px 2px rgba(60, 64, 67, 0.3), 0 1px 3px 1px rgba(60, 64, 67, 0.15);\n",
              "    fill: var(--button-hover-fill-color);\n",
              "  }\n",
              "\n",
              "  .colab-df-quickchart-complete:disabled,\n",
              "  .colab-df-quickchart-complete:disabled:hover {\n",
              "    background-color: var(--disabled-bg-color);\n",
              "    fill: var(--disabled-fill-color);\n",
              "    box-shadow: none;\n",
              "  }\n",
              "\n",
              "  .colab-df-spinner {\n",
              "    border: 2px solid var(--fill-color);\n",
              "    border-color: transparent;\n",
              "    border-bottom-color: var(--fill-color);\n",
              "    animation:\n",
              "      spin 1s steps(1) infinite;\n",
              "  }\n",
              "\n",
              "  @keyframes spin {\n",
              "    0% {\n",
              "      border-color: transparent;\n",
              "      border-bottom-color: var(--fill-color);\n",
              "      border-left-color: var(--fill-color);\n",
              "    }\n",
              "    20% {\n",
              "      border-color: transparent;\n",
              "      border-left-color: var(--fill-color);\n",
              "      border-top-color: var(--fill-color);\n",
              "    }\n",
              "    30% {\n",
              "      border-color: transparent;\n",
              "      border-left-color: var(--fill-color);\n",
              "      border-top-color: var(--fill-color);\n",
              "      border-right-color: var(--fill-color);\n",
              "    }\n",
              "    40% {\n",
              "      border-color: transparent;\n",
              "      border-right-color: var(--fill-color);\n",
              "      border-top-color: var(--fill-color);\n",
              "    }\n",
              "    60% {\n",
              "      border-color: transparent;\n",
              "      border-right-color: var(--fill-color);\n",
              "    }\n",
              "    80% {\n",
              "      border-color: transparent;\n",
              "      border-right-color: var(--fill-color);\n",
              "      border-bottom-color: var(--fill-color);\n",
              "    }\n",
              "    90% {\n",
              "      border-color: transparent;\n",
              "      border-bottom-color: var(--fill-color);\n",
              "    }\n",
              "  }\n",
              "</style>\n",
              "\n",
              "  <script>\n",
              "    async function quickchart(key) {\n",
              "      const quickchartButtonEl =\n",
              "        document.querySelector('#' + key + ' button');\n",
              "      quickchartButtonEl.disabled = true;  // To prevent multiple clicks.\n",
              "      quickchartButtonEl.classList.add('colab-df-spinner');\n",
              "      try {\n",
              "        const charts = await google.colab.kernel.invokeFunction(\n",
              "            'suggestCharts', [key], {});\n",
              "      } catch (error) {\n",
              "        console.error('Error during call to suggestCharts:', error);\n",
              "      }\n",
              "      quickchartButtonEl.classList.remove('colab-df-spinner');\n",
              "      quickchartButtonEl.classList.add('colab-df-quickchart-complete');\n",
              "    }\n",
              "    (() => {\n",
              "      let quickchartButtonEl =\n",
              "        document.querySelector('#df-1317b3ff-85a4-4790-82b5-acd92c97963d button');\n",
              "      quickchartButtonEl.style.display =\n",
              "        google.colab.kernel.accessAllowed ? 'block' : 'none';\n",
              "    })();\n",
              "  </script>\n",
              "</div>\n",
              "    </div>\n",
              "  </div>\n"
            ],
            "text/plain": [
              "      Feature 0  Feature 1  Feature 2  Feature 3  Feature 4  Feature 5  \\\n",
              "0      0.329479  -0.155662   0.236709   0.198247   0.033807  -0.058347   \n",
              "1      0.291895  -0.122913   0.204776   0.198119   0.063684  -0.029370   \n",
              "2      0.293127  -0.082017   0.267277   0.181723   0.067075  -0.088536   \n",
              "3      0.329743  -0.235424   0.130944   0.148089   0.004565   0.123768   \n",
              "4      0.206591  -0.151815   0.204400   0.067897  -0.007823   0.206218   \n",
              "...         ...        ...        ...        ...        ...        ...   \n",
              "4071   0.435332  -0.156835   0.168549   0.225045  -0.078732  -0.118746   \n",
              "4072   0.391022  -0.303973   0.165280   0.255639  -0.098380  -0.185505   \n",
              "4073   0.298450  -0.027859   0.124928   0.162061  -0.011797  -0.023958   \n",
              "4074   0.168576  -0.203065   0.117909   0.192263   0.016953   0.063778   \n",
              "4075   0.357739  -0.081489   0.088469   0.307534  -0.023866  -0.316590   \n",
              "\n",
              "      Feature 6  Feature 7  Feature 8  Feature 9  ...  Feature 290  \\\n",
              "0      0.531064  -0.222779  -0.017694   0.568654  ...    -0.058552   \n",
              "1      0.537749  -0.239402   0.036303   0.497542  ...    -0.029344   \n",
              "2      0.590133  -0.136083   0.076961   0.484950  ...    -0.046203   \n",
              "3      0.406557  -0.288334  -0.042404   0.547752  ...    -0.108098   \n",
              "4      0.504949  -0.270395   0.071779   0.364399  ...    -0.144839   \n",
              "...         ...        ...        ...        ...  ...          ...   \n",
              "4071   0.347663  -0.286368  -0.376340   0.582931  ...    -0.186580   \n",
              "4072   0.371136  -0.236407  -0.252430   0.625415  ...    -0.214679   \n",
              "4073   0.428426  -0.255282  -0.219930   0.559661  ...    -0.181218   \n",
              "4074   0.436094  -0.250055   0.040905   0.499748  ...    -0.008963   \n",
              "4075   0.307179  -0.248451  -0.281251   0.605983  ...    -0.094286   \n",
              "\n",
              "      Feature 291  Feature 292  Feature 293  Feature 294  Feature 295  \\\n",
              "0       -0.237396    -0.121912    -0.019360    -0.171785     0.257645   \n",
              "1       -0.259271    -0.105825    -0.033337    -0.108472     0.278689   \n",
              "2       -0.195222    -0.094132     0.008653    -0.032018     0.297799   \n",
              "3       -0.353941    -0.057737    -0.056293    -0.217140     0.158318   \n",
              "4       -0.183502    -0.016665    -0.055060    -0.241195     0.100523   \n",
              "...           ...          ...          ...          ...          ...   \n",
              "4071    -0.200938     0.078361    -0.017476    -0.302896     0.041572   \n",
              "4072    -0.124123     0.012633     0.032408    -0.214657     0.077555   \n",
              "4073    -0.133406     0.112147     0.062528    -0.244632     0.146312   \n",
              "4074    -0.258537    -0.152788    -0.101824    -0.219249     0.219464   \n",
              "4075    -0.183682    -0.045787    -0.007363    -0.253171     0.302274   \n",
              "\n",
              "      Feature 296  Feature 297  Feature 298  Feature 299  \n",
              "0        0.080140     0.177879     0.336841     0.162884  \n",
              "1        0.078936     0.220085     0.380291     0.157566  \n",
              "2       -0.005564     0.241998     0.283651     0.162307  \n",
              "3        0.137999     0.142249     0.445650     0.176136  \n",
              "4        0.322812     0.140022     0.561863     0.361314  \n",
              "...           ...          ...          ...          ...  \n",
              "4071     0.149773     0.122779     0.554927     0.314663  \n",
              "4072     0.134928     0.272149     0.352320     0.417051  \n",
              "4073     0.145439     0.047358     0.322632     0.275251  \n",
              "4074     0.198712     0.214258     0.444228     0.159844  \n",
              "4075     0.013220     0.217693     0.188745     0.204882  \n",
              "\n",
              "[4076 rows x 300 columns]"
            ]
          },
          "execution_count": 25,
          "metadata": {},
          "output_type": "execute_result"
        }
      ],
      "source": [
        "# creating a dataframe of the vectorized documents\n",
        "df_Word2Vec = pd.DataFrame(dataset['Article_text_clean'].apply(average_vectorizer_Word2Vec).tolist(), columns=['Feature '+str(i) for i in range(vec_size)])\n",
        "df_Word2Vec"
      ]
    },
    {
      "cell_type": "markdown",
      "metadata": {
        "id": "ldBJrHYXcSJD"
      },
      "source": [
        "### **GloVe**"
      ]
    },
    {
      "cell_type": "code",
      "execution_count": null,
      "metadata": {
        "colab": {
          "base_uri": "https://localhost:8080/"
        },
        "id": "96CDMF40g3dB",
        "outputId": "e1162ffd-d7b5-41af-8448-b6b635e99aae"
      },
      "outputs": [
        {
          "name": "stderr",
          "output_type": "stream",
          "text": [
            "<ipython-input-26-3ae164409339>:5: DeprecationWarning: Call to deprecated `glove2word2vec` (KeyedVectors.load_word2vec_format(.., binary=False, no_header=True) loads GLoVE text vectors.).\n",
            "  glove2word2vec(glove_input_file, word2vec_output_file)\n"
          ]
        },
        {
          "data": {
            "text/plain": [
              "(400000, 100)"
            ]
          },
          "execution_count": 26,
          "metadata": {},
          "output_type": "execute_result"
        }
      ],
      "source": [
        "glove_input_file = '/content/drive/MyDrive/New_NLP/glove.6B.100d.txt'\n",
        "word2vec_output_file = 'glove.6B.100d.txt.word2vec'\n",
        "glove2word2vec(glove_input_file, word2vec_output_file)"
      ]
    },
    {
      "cell_type": "code",
      "execution_count": null,
      "metadata": {
        "id": "hVywaMV2hN09"
      },
      "outputs": [],
      "source": [
        "# load the Stanford GloVe model\n",
        "filename = 'glove.6B.100d.txt.word2vec'\n",
        "glove_model = KeyedVectors.load_word2vec_format(filename, binary=False)"
      ]
    },
    {
      "cell_type": "code",
      "execution_count": null,
      "metadata": {
        "colab": {
          "base_uri": "https://localhost:8080/"
        },
        "id": "7eER3cUXhNxZ",
        "outputId": "48d134bb-4713-4041-fd6b-9884b2f956bf"
      },
      "outputs": [
        {
          "name": "stdout",
          "output_type": "stream",
          "text": [
            "Length of the vocabulary is 400000\n"
          ]
        }
      ],
      "source": [
        "# Checking the size of the vocabulary\n",
        "print(\"Length of the vocabulary is\", len(glove_model.index_to_key))"
      ]
    },
    {
      "cell_type": "code",
      "execution_count": null,
      "metadata": {
        "colab": {
          "base_uri": "https://localhost:8080/"
        },
        "id": "bEa-WlLJhNvG",
        "outputId": "ade0b81d-f8b0-4822-9ff7-573cb4c2f409"
      },
      "outputs": [
        {
          "data": {
            "text/plain": [
              "array([-0.13959  ,  0.053049 ,  0.098775 , -0.75656  ,  0.18649  ,\n",
              "       -0.5453   ,  0.51948  ,  1.031    ,  0.53502  ,  0.48639  ,\n",
              "        0.27249  ,  0.15508  ,  0.40621  ,  0.18081  , -0.025307 ,\n",
              "        0.26865  ,  0.38571  , -0.21049  , -0.28851  ,  0.48076  ,\n",
              "        1.0103   ,  0.11727  ,  0.4438   , -0.044604 ,  0.31954  ,\n",
              "        0.105    , -1.046    , -0.045288 ,  0.26557  ,  0.2942   ,\n",
              "        0.044758 ,  0.21819  , -0.31754  , -0.24927  ,  0.0386   ,\n",
              "       -0.018294 ,  0.48484  ,  0.2406   ,  1.4252   ,  0.60919  ,\n",
              "        0.62857  , -0.9181   ,  0.67407  , -0.049386 ,  0.32595  ,\n",
              "        0.5808   , -0.064496 ,  0.097091 , -0.29634  , -0.49801  ,\n",
              "       -0.5079   ,  0.15151  , -0.28035  ,  1.4427   ,  0.18603  ,\n",
              "       -0.93646  , -1.2371   ,  0.76921  ,  2.1535   ,  0.24301  ,\n",
              "        0.43864  ,  0.16485  ,  0.61097  ,  0.34103  ,  0.31127  ,\n",
              "       -0.021241 ,  0.18143  , -0.24922  , -0.50407  ,  0.36803  ,\n",
              "       -0.40437  , -0.78135  ,  0.3406   , -0.33441  ,  0.39221  ,\n",
              "        1.2164   ,  1.4956   , -0.067117 , -0.47906  , -0.11335  ,\n",
              "        0.38635  ,  0.46424  , -0.66364  ,  0.017471 , -0.072569 ,\n",
              "       -0.87245  ,  0.11094  , -1.2457   , -1.1849   , -0.020146 ,\n",
              "        0.42812  ,  0.27275  , -0.11434  , -0.14035  , -0.26379  ,\n",
              "       -0.21542  , -0.0064448,  0.77447  ,  1.5429   , -0.20753  ],\n",
              "      dtype=float32)"
            ]
          },
          "execution_count": 118,
          "metadata": {},
          "output_type": "execute_result"
        }
      ],
      "source": [
        "# Checking the word embedding of a random word\n",
        "word = \"truck\"\n",
        "glove_model[word]"
      ]
    },
    {
      "cell_type": "code",
      "execution_count": null,
      "metadata": {
        "colab": {
          "base_uri": "https://localhost:8080/"
        },
        "id": "qp3U4fayk8fx",
        "outputId": "ccb48e74-4f0b-4002-badd-2d5ca5a40b28"
      },
      "outputs": [
        {
          "data": {
            "text/plain": [
              "array([ 0.011902 ,  0.26278  ,  0.45126  ,  0.12094  , -0.41535  ,\n",
              "       -0.35435  ,  0.0092189, -0.034586 ,  0.32158  ,  0.18078  ,\n",
              "        0.11859  , -0.71212  ,  0.81706  , -0.33606  , -0.08437  ,\n",
              "        0.62526  ,  0.46727  ,  1.4349   ,  0.5169   ,  0.26811  ,\n",
              "        0.59619  , -0.61252  , -0.36577  , -0.53652  ,  0.66653  ,\n",
              "        0.5401   , -1.0361   ,  0.42182  , -0.061063 ,  0.72207  ,\n",
              "       -0.6181   ,  0.27911  , -0.41123  , -0.030808 ,  1.0171   ,\n",
              "        0.02397  , -0.77087  , -0.31841  ,  0.81663  , -0.31675  ,\n",
              "        0.15844  , -0.036592 , -0.42598  , -0.33789  , -0.41276  ,\n",
              "        0.59072  , -0.8522   ,  0.5816   ,  0.29178  ,  0.65402  ,\n",
              "       -0.54697  ,  0.29809  ,  0.29886  ,  0.85476  ,  0.38412  ,\n",
              "       -0.98124  , -0.060437 ,  0.50573  ,  0.3828   ,  0.68482  ,\n",
              "        0.85488  ,  0.98631  ,  0.31926  ,  0.60156  ,  0.26016  ,\n",
              "        0.43938  , -0.59457  ,  0.15845  , -0.0029536,  0.51893  ,\n",
              "        0.80057  , -0.11206  , -0.11446  ,  0.25445  , -0.28187  ,\n",
              "        0.41786  ,  0.038844 ,  0.38574  , -0.46319  ,  0.15459  ,\n",
              "        0.34618  ,  0.018863 ,  0.049293 ,  0.51613  , -0.98421  ,\n",
              "        0.361    ,  0.47514  ,  0.1769   ,  0.49307  , -0.41554  ,\n",
              "        0.39029  ,  0.36822  ,  0.55709  ,  0.18986  ,  0.65721  ,\n",
              "       -0.55688  , -0.46418  , -0.63267  ,  0.75817  , -1.051    ],\n",
              "      dtype=float32)"
            ]
          },
          "execution_count": 119,
          "metadata": {},
          "output_type": "execute_result"
        }
      ],
      "source": [
        "# Checking the word embedding of a random word\n",
        "word = \"robot\"\n",
        "glove_model[word]"
      ]
    },
    {
      "cell_type": "code",
      "execution_count": null,
      "metadata": {
        "colab": {
          "base_uri": "https://localhost:8080/"
        },
        "id": "qbVTftrWk8WL",
        "outputId": "8ca98b92-abdc-4ce2-a4cb-91d3beee7d23"
      },
      "outputs": [
        {
          "data": {
            "text/plain": [
              "array([ 0.39093  ,  0.23755  ,  0.44855  ,  0.11237  , -0.25996  ,\n",
              "       -1.2248   , -0.44237  , -0.53491  ,  0.37142  , -0.61981  ,\n",
              "       -0.27387  , -0.032213 ,  0.082629 , -0.52986  ,  0.13012  ,\n",
              "        0.21703  , -0.45026  , -0.0048895,  0.34887  , -0.26069  ,\n",
              "        0.56598  , -0.36219  ,  0.41926  ,  0.23441  , -0.29407  ,\n",
              "       -0.27044  ,  0.29339  , -0.73905  , -0.75965  ,  0.64661  ,\n",
              "       -0.038757 ,  0.38495  , -0.32314  ,  0.040322 ,  0.24036  ,\n",
              "        0.35167  ,  0.47404  ,  0.014959 ,  0.12105  , -1.0398   ,\n",
              "        0.27639  , -1.3785   , -0.22851  , -0.098074 ,  0.1495   ,\n",
              "       -0.2815   ,  0.31682  , -0.10208  , -0.08586  , -1.5114   ,\n",
              "       -0.48255  ,  0.15131  ,  0.0080133,  0.74594  , -0.20163  ,\n",
              "       -2.5268   , -0.82083  ,  0.1143   ,  2.4665   ,  0.19841  ,\n",
              "        0.1146   ,  0.10083  , -0.60936  ,  0.76722  ,  0.025978 ,\n",
              "       -0.036936 ,  0.46744  , -0.77073  ,  0.83992  , -0.032931 ,\n",
              "       -0.13127  , -0.097367 , -0.42634  , -0.49478  , -0.40796  ,\n",
              "       -0.67504  , -0.28535  ,  0.12474  , -1.145    , -0.43059  ,\n",
              "        1.172    ,  0.40749  , -0.83089  ,  0.41675  , -0.83018  ,\n",
              "       -0.88716  , -0.59827  , -0.56652  , -0.2275   , -0.42398  ,\n",
              "        0.63385  ,  0.62035  , -0.13429  , -0.49012  , -0.78362  ,\n",
              "        0.85838  ,  0.60102  , -0.40596  ,  0.77826  ,  1.105    ],\n",
              "      dtype=float32)"
            ]
          },
          "execution_count": 120,
          "metadata": {},
          "output_type": "execute_result"
        }
      ],
      "source": [
        "# Checking the word embedding of a random word\n",
        "word = \"market\"\n",
        "glove_model[word]"
      ]
    },
    {
      "cell_type": "code",
      "execution_count": null,
      "metadata": {
        "id": "dn3js0OilGPN"
      },
      "outputs": [],
      "source": [
        "# Retrieving the words present in the GloVe model's vocabulary\n",
        "glove_words = glove_model.index_to_key\n",
        "\n",
        "# Creating a dictionary of words and their corresponding vectors\n",
        "glove_word_vector_dict = dict(zip(glove_model.index_to_key,list(glove_model.vectors)))"
      ]
    },
    {
      "cell_type": "code",
      "execution_count": null,
      "metadata": {
        "id": "8HPmnljthSlk"
      },
      "outputs": [],
      "source": [
        "vec_size=100"
      ]
    },
    {
      "cell_type": "code",
      "execution_count": null,
      "metadata": {
        "id": "5V1uwCQ_hWgk"
      },
      "outputs": [],
      "source": [
        "def average_vectorizer_GloVe(doc):\n",
        "    # Initializing a feature vector for the sentence\n",
        "    feature_vector = np.zeros((vec_size,), dtype=\"float64\")\n",
        "\n",
        "    # Creating a list of words in the sentence that are present in the model vocabulary\n",
        "    words_in_vocab = [word for word in doc.split() if word in glove_words]\n",
        "\n",
        "    # adding the vector representations of the words\n",
        "    for word in words_in_vocab:\n",
        "        feature_vector += np.array(glove_word_vector_dict[word])\n",
        "\n",
        "    # Dividing by the number of words to get the average vector\n",
        "    if len(words_in_vocab) != 0:\n",
        "        feature_vector /= len(words_in_vocab)\n",
        "\n",
        "    return feature_vector"
      ]
    },
    {
      "cell_type": "code",
      "execution_count": null,
      "metadata": {
        "colab": {
          "base_uri": "https://localhost:8080/",
          "height": 461
        },
        "id": "atKfq6oahWda",
        "outputId": "1a0f98fa-9a3f-48d9-b789-9ed822a5d6d1"
      },
      "outputs": [
        {
          "data": {
            "text/html": [
              "\n",
              "  <div id=\"df-a8dd7200-ebd5-4b43-b98f-0dfb5c2111c7\" class=\"colab-df-container\">\n",
              "    <div>\n",
              "<style scoped>\n",
              "    .dataframe tbody tr th:only-of-type {\n",
              "        vertical-align: middle;\n",
              "    }\n",
              "\n",
              "    .dataframe tbody tr th {\n",
              "        vertical-align: top;\n",
              "    }\n",
              "\n",
              "    .dataframe thead th {\n",
              "        text-align: right;\n",
              "    }\n",
              "</style>\n",
              "<table border=\"1\" class=\"dataframe\">\n",
              "  <thead>\n",
              "    <tr style=\"text-align: right;\">\n",
              "      <th></th>\n",
              "      <th>Feature 0</th>\n",
              "      <th>Feature 1</th>\n",
              "      <th>Feature 2</th>\n",
              "      <th>Feature 3</th>\n",
              "      <th>Feature 4</th>\n",
              "      <th>Feature 5</th>\n",
              "      <th>Feature 6</th>\n",
              "      <th>Feature 7</th>\n",
              "      <th>Feature 8</th>\n",
              "      <th>Feature 9</th>\n",
              "      <th>...</th>\n",
              "      <th>Feature 90</th>\n",
              "      <th>Feature 91</th>\n",
              "      <th>Feature 92</th>\n",
              "      <th>Feature 93</th>\n",
              "      <th>Feature 94</th>\n",
              "      <th>Feature 95</th>\n",
              "      <th>Feature 96</th>\n",
              "      <th>Feature 97</th>\n",
              "      <th>Feature 98</th>\n",
              "      <th>Feature 99</th>\n",
              "    </tr>\n",
              "  </thead>\n",
              "  <tbody>\n",
              "    <tr>\n",
              "      <th>0</th>\n",
              "      <td>-0.134282</td>\n",
              "      <td>0.126626</td>\n",
              "      <td>0.328840</td>\n",
              "      <td>-0.182711</td>\n",
              "      <td>0.064765</td>\n",
              "      <td>0.048171</td>\n",
              "      <td>-0.118100</td>\n",
              "      <td>0.241884</td>\n",
              "      <td>-0.139207</td>\n",
              "      <td>0.094579</td>\n",
              "      <td>...</td>\n",
              "      <td>0.017975</td>\n",
              "      <td>-0.012465</td>\n",
              "      <td>-0.118299</td>\n",
              "      <td>0.054740</td>\n",
              "      <td>-0.405409</td>\n",
              "      <td>-0.064222</td>\n",
              "      <td>-0.132083</td>\n",
              "      <td>-0.243681</td>\n",
              "      <td>0.589222</td>\n",
              "      <td>0.089712</td>\n",
              "    </tr>\n",
              "    <tr>\n",
              "      <th>1</th>\n",
              "      <td>-0.137861</td>\n",
              "      <td>0.157233</td>\n",
              "      <td>0.295593</td>\n",
              "      <td>-0.172400</td>\n",
              "      <td>0.031347</td>\n",
              "      <td>0.051973</td>\n",
              "      <td>-0.177653</td>\n",
              "      <td>0.160689</td>\n",
              "      <td>-0.152347</td>\n",
              "      <td>0.116711</td>\n",
              "      <td>...</td>\n",
              "      <td>0.039546</td>\n",
              "      <td>-0.046727</td>\n",
              "      <td>-0.081407</td>\n",
              "      <td>0.077400</td>\n",
              "      <td>-0.352500</td>\n",
              "      <td>-0.071420</td>\n",
              "      <td>-0.155315</td>\n",
              "      <td>-0.332381</td>\n",
              "      <td>0.608697</td>\n",
              "      <td>0.075756</td>\n",
              "    </tr>\n",
              "    <tr>\n",
              "      <th>2</th>\n",
              "      <td>-0.113663</td>\n",
              "      <td>0.147499</td>\n",
              "      <td>0.273285</td>\n",
              "      <td>-0.199483</td>\n",
              "      <td>0.049112</td>\n",
              "      <td>0.099584</td>\n",
              "      <td>-0.189813</td>\n",
              "      <td>0.158141</td>\n",
              "      <td>-0.170542</td>\n",
              "      <td>0.100109</td>\n",
              "      <td>...</td>\n",
              "      <td>0.054376</td>\n",
              "      <td>-0.011329</td>\n",
              "      <td>-0.022291</td>\n",
              "      <td>0.066582</td>\n",
              "      <td>-0.385628</td>\n",
              "      <td>-0.124480</td>\n",
              "      <td>-0.174854</td>\n",
              "      <td>-0.299834</td>\n",
              "      <td>0.603494</td>\n",
              "      <td>0.078923</td>\n",
              "    </tr>\n",
              "    <tr>\n",
              "      <th>3</th>\n",
              "      <td>-0.079320</td>\n",
              "      <td>0.196253</td>\n",
              "      <td>0.412574</td>\n",
              "      <td>-0.129250</td>\n",
              "      <td>0.012841</td>\n",
              "      <td>-0.090713</td>\n",
              "      <td>-0.196752</td>\n",
              "      <td>0.144534</td>\n",
              "      <td>-0.084066</td>\n",
              "      <td>0.007836</td>\n",
              "      <td>...</td>\n",
              "      <td>0.058114</td>\n",
              "      <td>-0.042263</td>\n",
              "      <td>-0.144740</td>\n",
              "      <td>0.043269</td>\n",
              "      <td>-0.488093</td>\n",
              "      <td>0.114024</td>\n",
              "      <td>-0.125790</td>\n",
              "      <td>-0.340208</td>\n",
              "      <td>0.417470</td>\n",
              "      <td>0.216322</td>\n",
              "    </tr>\n",
              "    <tr>\n",
              "      <th>4</th>\n",
              "      <td>-0.017485</td>\n",
              "      <td>0.109310</td>\n",
              "      <td>0.397655</td>\n",
              "      <td>-0.047749</td>\n",
              "      <td>0.155263</td>\n",
              "      <td>-0.163776</td>\n",
              "      <td>-0.259916</td>\n",
              "      <td>0.187104</td>\n",
              "      <td>-0.120879</td>\n",
              "      <td>0.094435</td>\n",
              "      <td>...</td>\n",
              "      <td>0.005423</td>\n",
              "      <td>-0.078433</td>\n",
              "      <td>-0.242599</td>\n",
              "      <td>0.015010</td>\n",
              "      <td>-0.468458</td>\n",
              "      <td>0.037716</td>\n",
              "      <td>-0.182219</td>\n",
              "      <td>-0.224426</td>\n",
              "      <td>0.597006</td>\n",
              "      <td>0.087071</td>\n",
              "    </tr>\n",
              "    <tr>\n",
              "      <th>...</th>\n",
              "      <td>...</td>\n",
              "      <td>...</td>\n",
              "      <td>...</td>\n",
              "      <td>...</td>\n",
              "      <td>...</td>\n",
              "      <td>...</td>\n",
              "      <td>...</td>\n",
              "      <td>...</td>\n",
              "      <td>...</td>\n",
              "      <td>...</td>\n",
              "      <td>...</td>\n",
              "      <td>...</td>\n",
              "      <td>...</td>\n",
              "      <td>...</td>\n",
              "      <td>...</td>\n",
              "      <td>...</td>\n",
              "      <td>...</td>\n",
              "      <td>...</td>\n",
              "      <td>...</td>\n",
              "      <td>...</td>\n",
              "      <td>...</td>\n",
              "    </tr>\n",
              "    <tr>\n",
              "      <th>4071</th>\n",
              "      <td>-0.102622</td>\n",
              "      <td>0.125402</td>\n",
              "      <td>0.413610</td>\n",
              "      <td>-0.184391</td>\n",
              "      <td>-0.025150</td>\n",
              "      <td>0.164575</td>\n",
              "      <td>-0.127813</td>\n",
              "      <td>0.232864</td>\n",
              "      <td>-0.114882</td>\n",
              "      <td>0.039512</td>\n",
              "      <td>...</td>\n",
              "      <td>-0.012538</td>\n",
              "      <td>-0.077933</td>\n",
              "      <td>-0.116055</td>\n",
              "      <td>0.112129</td>\n",
              "      <td>-0.369219</td>\n",
              "      <td>0.039320</td>\n",
              "      <td>-0.213769</td>\n",
              "      <td>-0.243133</td>\n",
              "      <td>0.379018</td>\n",
              "      <td>0.147418</td>\n",
              "    </tr>\n",
              "    <tr>\n",
              "      <th>4072</th>\n",
              "      <td>-0.144216</td>\n",
              "      <td>0.027723</td>\n",
              "      <td>0.450701</td>\n",
              "      <td>-0.088768</td>\n",
              "      <td>-0.004147</td>\n",
              "      <td>0.034700</td>\n",
              "      <td>-0.017636</td>\n",
              "      <td>0.318803</td>\n",
              "      <td>-0.329615</td>\n",
              "      <td>-0.013553</td>\n",
              "      <td>...</td>\n",
              "      <td>-0.132778</td>\n",
              "      <td>0.040091</td>\n",
              "      <td>-0.117483</td>\n",
              "      <td>0.167835</td>\n",
              "      <td>-0.456551</td>\n",
              "      <td>0.017504</td>\n",
              "      <td>-0.157229</td>\n",
              "      <td>-0.070128</td>\n",
              "      <td>0.570110</td>\n",
              "      <td>0.082543</td>\n",
              "    </tr>\n",
              "    <tr>\n",
              "      <th>4073</th>\n",
              "      <td>-0.093575</td>\n",
              "      <td>0.058708</td>\n",
              "      <td>0.336170</td>\n",
              "      <td>-0.158225</td>\n",
              "      <td>0.041559</td>\n",
              "      <td>0.112622</td>\n",
              "      <td>-0.162536</td>\n",
              "      <td>0.191789</td>\n",
              "      <td>-0.104376</td>\n",
              "      <td>0.004575</td>\n",
              "      <td>...</td>\n",
              "      <td>0.078519</td>\n",
              "      <td>-0.078950</td>\n",
              "      <td>-0.102499</td>\n",
              "      <td>0.200796</td>\n",
              "      <td>-0.351327</td>\n",
              "      <td>0.013289</td>\n",
              "      <td>-0.280719</td>\n",
              "      <td>-0.329874</td>\n",
              "      <td>0.413723</td>\n",
              "      <td>0.122037</td>\n",
              "    </tr>\n",
              "    <tr>\n",
              "      <th>4074</th>\n",
              "      <td>-0.147251</td>\n",
              "      <td>0.133321</td>\n",
              "      <td>0.303674</td>\n",
              "      <td>-0.150822</td>\n",
              "      <td>0.044235</td>\n",
              "      <td>0.004631</td>\n",
              "      <td>-0.098632</td>\n",
              "      <td>0.211769</td>\n",
              "      <td>-0.162194</td>\n",
              "      <td>0.130229</td>\n",
              "      <td>...</td>\n",
              "      <td>-0.010947</td>\n",
              "      <td>-0.063550</td>\n",
              "      <td>-0.171090</td>\n",
              "      <td>0.147423</td>\n",
              "      <td>-0.406042</td>\n",
              "      <td>-0.066063</td>\n",
              "      <td>-0.144066</td>\n",
              "      <td>-0.259059</td>\n",
              "      <td>0.544269</td>\n",
              "      <td>0.014257</td>\n",
              "    </tr>\n",
              "    <tr>\n",
              "      <th>4075</th>\n",
              "      <td>-0.068775</td>\n",
              "      <td>0.163197</td>\n",
              "      <td>0.367068</td>\n",
              "      <td>-0.222744</td>\n",
              "      <td>0.030127</td>\n",
              "      <td>0.131971</td>\n",
              "      <td>-0.036638</td>\n",
              "      <td>0.145106</td>\n",
              "      <td>-0.202246</td>\n",
              "      <td>0.043241</td>\n",
              "      <td>...</td>\n",
              "      <td>-0.019085</td>\n",
              "      <td>-0.066078</td>\n",
              "      <td>-0.115374</td>\n",
              "      <td>0.186916</td>\n",
              "      <td>-0.413072</td>\n",
              "      <td>-0.036926</td>\n",
              "      <td>-0.222598</td>\n",
              "      <td>-0.221102</td>\n",
              "      <td>0.500667</td>\n",
              "      <td>0.112653</td>\n",
              "    </tr>\n",
              "  </tbody>\n",
              "</table>\n",
              "<p>4076 rows × 100 columns</p>\n",
              "</div>\n",
              "    <div class=\"colab-df-buttons\">\n",
              "\n",
              "  <div class=\"colab-df-container\">\n",
              "    <button class=\"colab-df-convert\" onclick=\"convertToInteractive('df-a8dd7200-ebd5-4b43-b98f-0dfb5c2111c7')\"\n",
              "            title=\"Convert this dataframe to an interactive table.\"\n",
              "            style=\"display:none;\">\n",
              "\n",
              "  <svg xmlns=\"http://www.w3.org/2000/svg\" height=\"24px\" viewBox=\"0 -960 960 960\">\n",
              "    <path d=\"M120-120v-720h720v720H120Zm60-500h600v-160H180v160Zm220 220h160v-160H400v160Zm0 220h160v-160H400v160ZM180-400h160v-160H180v160Zm440 0h160v-160H620v160ZM180-180h160v-160H180v160Zm440 0h160v-160H620v160Z\"/>\n",
              "  </svg>\n",
              "    </button>\n",
              "\n",
              "  <style>\n",
              "    .colab-df-container {\n",
              "      display:flex;\n",
              "      gap: 12px;\n",
              "    }\n",
              "\n",
              "    .colab-df-convert {\n",
              "      background-color: #E8F0FE;\n",
              "      border: none;\n",
              "      border-radius: 50%;\n",
              "      cursor: pointer;\n",
              "      display: none;\n",
              "      fill: #1967D2;\n",
              "      height: 32px;\n",
              "      padding: 0 0 0 0;\n",
              "      width: 32px;\n",
              "    }\n",
              "\n",
              "    .colab-df-convert:hover {\n",
              "      background-color: #E2EBFA;\n",
              "      box-shadow: 0px 1px 2px rgba(60, 64, 67, 0.3), 0px 1px 3px 1px rgba(60, 64, 67, 0.15);\n",
              "      fill: #174EA6;\n",
              "    }\n",
              "\n",
              "    .colab-df-buttons div {\n",
              "      margin-bottom: 4px;\n",
              "    }\n",
              "\n",
              "    [theme=dark] .colab-df-convert {\n",
              "      background-color: #3B4455;\n",
              "      fill: #D2E3FC;\n",
              "    }\n",
              "\n",
              "    [theme=dark] .colab-df-convert:hover {\n",
              "      background-color: #434B5C;\n",
              "      box-shadow: 0px 1px 3px 1px rgba(0, 0, 0, 0.15);\n",
              "      filter: drop-shadow(0px 1px 2px rgba(0, 0, 0, 0.3));\n",
              "      fill: #FFFFFF;\n",
              "    }\n",
              "  </style>\n",
              "\n",
              "    <script>\n",
              "      const buttonEl =\n",
              "        document.querySelector('#df-a8dd7200-ebd5-4b43-b98f-0dfb5c2111c7 button.colab-df-convert');\n",
              "      buttonEl.style.display =\n",
              "        google.colab.kernel.accessAllowed ? 'block' : 'none';\n",
              "\n",
              "      async function convertToInteractive(key) {\n",
              "        const element = document.querySelector('#df-a8dd7200-ebd5-4b43-b98f-0dfb5c2111c7');\n",
              "        const dataTable =\n",
              "          await google.colab.kernel.invokeFunction('convertToInteractive',\n",
              "                                                    [key], {});\n",
              "        if (!dataTable) return;\n",
              "\n",
              "        const docLinkHtml = 'Like what you see? Visit the ' +\n",
              "          '<a target=\"_blank\" href=https://colab.research.google.com/notebooks/data_table.ipynb>data table notebook</a>'\n",
              "          + ' to learn more about interactive tables.';\n",
              "        element.innerHTML = '';\n",
              "        dataTable['output_type'] = 'display_data';\n",
              "        await google.colab.output.renderOutput(dataTable, element);\n",
              "        const docLink = document.createElement('div');\n",
              "        docLink.innerHTML = docLinkHtml;\n",
              "        element.appendChild(docLink);\n",
              "      }\n",
              "    </script>\n",
              "  </div>\n",
              "\n",
              "\n",
              "<div id=\"df-c828c2fc-5db4-4a9f-a18a-3833796914bd\">\n",
              "  <button class=\"colab-df-quickchart\" onclick=\"quickchart('df-c828c2fc-5db4-4a9f-a18a-3833796914bd')\"\n",
              "            title=\"Suggest charts\"\n",
              "            style=\"display:none;\">\n",
              "\n",
              "<svg xmlns=\"http://www.w3.org/2000/svg\" height=\"24px\"viewBox=\"0 0 24 24\"\n",
              "     width=\"24px\">\n",
              "    <g>\n",
              "        <path d=\"M19 3H5c-1.1 0-2 .9-2 2v14c0 1.1.9 2 2 2h14c1.1 0 2-.9 2-2V5c0-1.1-.9-2-2-2zM9 17H7v-7h2v7zm4 0h-2V7h2v10zm4 0h-2v-4h2v4z\"/>\n",
              "    </g>\n",
              "</svg>\n",
              "  </button>\n",
              "\n",
              "<style>\n",
              "  .colab-df-quickchart {\n",
              "      --bg-color: #E8F0FE;\n",
              "      --fill-color: #1967D2;\n",
              "      --hover-bg-color: #E2EBFA;\n",
              "      --hover-fill-color: #174EA6;\n",
              "      --disabled-fill-color: #AAA;\n",
              "      --disabled-bg-color: #DDD;\n",
              "  }\n",
              "\n",
              "  [theme=dark] .colab-df-quickchart {\n",
              "      --bg-color: #3B4455;\n",
              "      --fill-color: #D2E3FC;\n",
              "      --hover-bg-color: #434B5C;\n",
              "      --hover-fill-color: #FFFFFF;\n",
              "      --disabled-bg-color: #3B4455;\n",
              "      --disabled-fill-color: #666;\n",
              "  }\n",
              "\n",
              "  .colab-df-quickchart {\n",
              "    background-color: var(--bg-color);\n",
              "    border: none;\n",
              "    border-radius: 50%;\n",
              "    cursor: pointer;\n",
              "    display: none;\n",
              "    fill: var(--fill-color);\n",
              "    height: 32px;\n",
              "    padding: 0;\n",
              "    width: 32px;\n",
              "  }\n",
              "\n",
              "  .colab-df-quickchart:hover {\n",
              "    background-color: var(--hover-bg-color);\n",
              "    box-shadow: 0 1px 2px rgba(60, 64, 67, 0.3), 0 1px 3px 1px rgba(60, 64, 67, 0.15);\n",
              "    fill: var(--button-hover-fill-color);\n",
              "  }\n",
              "\n",
              "  .colab-df-quickchart-complete:disabled,\n",
              "  .colab-df-quickchart-complete:disabled:hover {\n",
              "    background-color: var(--disabled-bg-color);\n",
              "    fill: var(--disabled-fill-color);\n",
              "    box-shadow: none;\n",
              "  }\n",
              "\n",
              "  .colab-df-spinner {\n",
              "    border: 2px solid var(--fill-color);\n",
              "    border-color: transparent;\n",
              "    border-bottom-color: var(--fill-color);\n",
              "    animation:\n",
              "      spin 1s steps(1) infinite;\n",
              "  }\n",
              "\n",
              "  @keyframes spin {\n",
              "    0% {\n",
              "      border-color: transparent;\n",
              "      border-bottom-color: var(--fill-color);\n",
              "      border-left-color: var(--fill-color);\n",
              "    }\n",
              "    20% {\n",
              "      border-color: transparent;\n",
              "      border-left-color: var(--fill-color);\n",
              "      border-top-color: var(--fill-color);\n",
              "    }\n",
              "    30% {\n",
              "      border-color: transparent;\n",
              "      border-left-color: var(--fill-color);\n",
              "      border-top-color: var(--fill-color);\n",
              "      border-right-color: var(--fill-color);\n",
              "    }\n",
              "    40% {\n",
              "      border-color: transparent;\n",
              "      border-right-color: var(--fill-color);\n",
              "      border-top-color: var(--fill-color);\n",
              "    }\n",
              "    60% {\n",
              "      border-color: transparent;\n",
              "      border-right-color: var(--fill-color);\n",
              "    }\n",
              "    80% {\n",
              "      border-color: transparent;\n",
              "      border-right-color: var(--fill-color);\n",
              "      border-bottom-color: var(--fill-color);\n",
              "    }\n",
              "    90% {\n",
              "      border-color: transparent;\n",
              "      border-bottom-color: var(--fill-color);\n",
              "    }\n",
              "  }\n",
              "</style>\n",
              "\n",
              "  <script>\n",
              "    async function quickchart(key) {\n",
              "      const quickchartButtonEl =\n",
              "        document.querySelector('#' + key + ' button');\n",
              "      quickchartButtonEl.disabled = true;  // To prevent multiple clicks.\n",
              "      quickchartButtonEl.classList.add('colab-df-spinner');\n",
              "      try {\n",
              "        const charts = await google.colab.kernel.invokeFunction(\n",
              "            'suggestCharts', [key], {});\n",
              "      } catch (error) {\n",
              "        console.error('Error during call to suggestCharts:', error);\n",
              "      }\n",
              "      quickchartButtonEl.classList.remove('colab-df-spinner');\n",
              "      quickchartButtonEl.classList.add('colab-df-quickchart-complete');\n",
              "    }\n",
              "    (() => {\n",
              "      let quickchartButtonEl =\n",
              "        document.querySelector('#df-c828c2fc-5db4-4a9f-a18a-3833796914bd button');\n",
              "      quickchartButtonEl.style.display =\n",
              "        google.colab.kernel.accessAllowed ? 'block' : 'none';\n",
              "    })();\n",
              "  </script>\n",
              "</div>\n",
              "    </div>\n",
              "  </div>\n"
            ],
            "text/plain": [
              "      Feature 0  Feature 1  Feature 2  Feature 3  Feature 4  Feature 5  \\\n",
              "0     -0.134282   0.126626   0.328840  -0.182711   0.064765   0.048171   \n",
              "1     -0.137861   0.157233   0.295593  -0.172400   0.031347   0.051973   \n",
              "2     -0.113663   0.147499   0.273285  -0.199483   0.049112   0.099584   \n",
              "3     -0.079320   0.196253   0.412574  -0.129250   0.012841  -0.090713   \n",
              "4     -0.017485   0.109310   0.397655  -0.047749   0.155263  -0.163776   \n",
              "...         ...        ...        ...        ...        ...        ...   \n",
              "4071  -0.102622   0.125402   0.413610  -0.184391  -0.025150   0.164575   \n",
              "4072  -0.144216   0.027723   0.450701  -0.088768  -0.004147   0.034700   \n",
              "4073  -0.093575   0.058708   0.336170  -0.158225   0.041559   0.112622   \n",
              "4074  -0.147251   0.133321   0.303674  -0.150822   0.044235   0.004631   \n",
              "4075  -0.068775   0.163197   0.367068  -0.222744   0.030127   0.131971   \n",
              "\n",
              "      Feature 6  Feature 7  Feature 8  Feature 9  ...  Feature 90  Feature 91  \\\n",
              "0     -0.118100   0.241884  -0.139207   0.094579  ...    0.017975   -0.012465   \n",
              "1     -0.177653   0.160689  -0.152347   0.116711  ...    0.039546   -0.046727   \n",
              "2     -0.189813   0.158141  -0.170542   0.100109  ...    0.054376   -0.011329   \n",
              "3     -0.196752   0.144534  -0.084066   0.007836  ...    0.058114   -0.042263   \n",
              "4     -0.259916   0.187104  -0.120879   0.094435  ...    0.005423   -0.078433   \n",
              "...         ...        ...        ...        ...  ...         ...         ...   \n",
              "4071  -0.127813   0.232864  -0.114882   0.039512  ...   -0.012538   -0.077933   \n",
              "4072  -0.017636   0.318803  -0.329615  -0.013553  ...   -0.132778    0.040091   \n",
              "4073  -0.162536   0.191789  -0.104376   0.004575  ...    0.078519   -0.078950   \n",
              "4074  -0.098632   0.211769  -0.162194   0.130229  ...   -0.010947   -0.063550   \n",
              "4075  -0.036638   0.145106  -0.202246   0.043241  ...   -0.019085   -0.066078   \n",
              "\n",
              "      Feature 92  Feature 93  Feature 94  Feature 95  Feature 96  Feature 97  \\\n",
              "0      -0.118299    0.054740   -0.405409   -0.064222   -0.132083   -0.243681   \n",
              "1      -0.081407    0.077400   -0.352500   -0.071420   -0.155315   -0.332381   \n",
              "2      -0.022291    0.066582   -0.385628   -0.124480   -0.174854   -0.299834   \n",
              "3      -0.144740    0.043269   -0.488093    0.114024   -0.125790   -0.340208   \n",
              "4      -0.242599    0.015010   -0.468458    0.037716   -0.182219   -0.224426   \n",
              "...          ...         ...         ...         ...         ...         ...   \n",
              "4071   -0.116055    0.112129   -0.369219    0.039320   -0.213769   -0.243133   \n",
              "4072   -0.117483    0.167835   -0.456551    0.017504   -0.157229   -0.070128   \n",
              "4073   -0.102499    0.200796   -0.351327    0.013289   -0.280719   -0.329874   \n",
              "4074   -0.171090    0.147423   -0.406042   -0.066063   -0.144066   -0.259059   \n",
              "4075   -0.115374    0.186916   -0.413072   -0.036926   -0.222598   -0.221102   \n",
              "\n",
              "      Feature 98  Feature 99  \n",
              "0       0.589222    0.089712  \n",
              "1       0.608697    0.075756  \n",
              "2       0.603494    0.078923  \n",
              "3       0.417470    0.216322  \n",
              "4       0.597006    0.087071  \n",
              "...          ...         ...  \n",
              "4071    0.379018    0.147418  \n",
              "4072    0.570110    0.082543  \n",
              "4073    0.413723    0.122037  \n",
              "4074    0.544269    0.014257  \n",
              "4075    0.500667    0.112653  \n",
              "\n",
              "[4076 rows x 100 columns]"
            ]
          },
          "execution_count": 35,
          "metadata": {},
          "output_type": "execute_result"
        }
      ],
      "source": [
        "# creating a dataframe of the vectorized documents\n",
        "df_Glove = pd.DataFrame(dataset['Article_text_clean'].apply(average_vectorizer_GloVe).tolist(), columns=['Feature '+str(i) for i in range(vec_size)])\n",
        "df_Glove"
      ]
    },
    {
      "cell_type": "markdown",
      "metadata": {
        "id": "f4lwYN5bYmHp"
      },
      "source": [
        "## Model Building"
      ]
    },
    {
      "cell_type": "code",
      "execution_count": null,
      "metadata": {
        "id": "TmpiQb6ohfFv"
      },
      "outputs": [],
      "source": [
        "# creating a function to plot the confusion matrix\n",
        "def plot_confusion_matrix(actual, predicted):\n",
        "    cm = confusion_matrix(actual, predicted)\n",
        "\n",
        "    plt.figure(figsize = (5, 4))\n",
        "    label_list = encoder.classes_.tolist()\n",
        "    sns.heatmap(cm, annot = True,  fmt = '.0f',cmap='Blues', xticklabels = label_list, yticklabels = label_list)\n",
        "    plt.ylabel('Actual')\n",
        "    plt.xlabel('Predicted')\n",
        "    plt.title('Confusion Matrix')\n",
        "    plt.show()"
      ]
    },
    {
      "cell_type": "code",
      "execution_count": null,
      "metadata": {
        "id": "kGJsSn_SKQpP"
      },
      "outputs": [],
      "source": [
        "# defining a function to compute different metrics to check performance of a classification model built using sklearn\n",
        "def model_performance_classification_sklearn(model, predictors, target):\n",
        "    \"\"\"\n",
        "    Function to compute different metrics to check classification model performance\n",
        "\n",
        "    model: classifier\n",
        "    predictors: independent variables\n",
        "    target: dependent variable\n",
        "    \"\"\"\n",
        "\n",
        "    # predicting using the independent variables\n",
        "    pred = model.predict(predictors)\n",
        "\n",
        "    acc = accuracy_score(target, pred)  # to compute Accuracy\n",
        "    recall = recall_score(target, pred, average='weighted')  # to compute Recall\n",
        "    precision = precision_score(target, pred, average='weighted')  # to compute Precision\n",
        "    f1 = f1_score(target, pred, average='weighted')  # to compute F1-score\n",
        "\n",
        "    # creating a dataframe of metrics\n",
        "    df_perf = pd.DataFrame(\n",
        "        {\n",
        "            \"Accuracy\": acc,\n",
        "            \"Recall\": recall,\n",
        "            \"Precision\": precision,\n",
        "            \"F1\": f1,\n",
        "        },\n",
        "        index=[0],\n",
        "    )\n",
        "\n",
        "    return df_perf"
      ]
    },
    {
      "cell_type": "markdown",
      "metadata": {
        "id": "_TYy1g3ShksM"
      },
      "source": [
        "### Random Forest with Word2Vec"
      ]
    },
    {
      "cell_type": "code",
      "execution_count": null,
      "metadata": {
        "id": "vvEZR2IWhpmt"
      },
      "outputs": [],
      "source": [
        "# Storing independent variable\n",
        "X = df_Word2Vec.copy()\n",
        "\n",
        "# Storing target variable\n",
        "y = dataset['Category']"
      ]
    },
    {
      "cell_type": "code",
      "execution_count": null,
      "metadata": {
        "id": "ejfrW4ZRh54y"
      },
      "outputs": [],
      "source": [
        "# Split data into training and testing set.\n",
        "X_train, X_test, y_train, y_test = train_test_split(X ,y, test_size = 0.25, random_state = 42)"
      ]
    },
    {
      "cell_type": "code",
      "execution_count": null,
      "metadata": {
        "id": "5tHKQsnPiZKp"
      },
      "outputs": [],
      "source": [
        "# Label Encoding\n",
        "encoder = LabelEncoder()\n",
        "\n",
        "# fitting the encoder to the training labels\n",
        "y_train_enc = encoder.fit_transform(y_train)\n",
        "\n",
        "# applying the encoder mapping from training labels to test labels\n",
        "y_test_enc = encoder.transform(y_test)"
      ]
    },
    {
      "cell_type": "markdown",
      "metadata": {
        "id": "R0bCBGK5Tcxa"
      },
      "source": [
        "#### RF Base model"
      ]
    },
    {
      "cell_type": "code",
      "execution_count": null,
      "metadata": {
        "colab": {
          "base_uri": "https://localhost:8080/",
          "height": 74
        },
        "id": "JvPEOex9Th3u",
        "outputId": "47afce2d-67cb-4e7b-9744-3ea695d83983"
      },
      "outputs": [
        {
          "data": {
            "text/html": [
              "<style>#sk-container-id-12 {color: black;background-color: white;}#sk-container-id-12 pre{padding: 0;}#sk-container-id-12 div.sk-toggleable {background-color: white;}#sk-container-id-12 label.sk-toggleable__label {cursor: pointer;display: block;width: 100%;margin-bottom: 0;padding: 0.3em;box-sizing: border-box;text-align: center;}#sk-container-id-12 label.sk-toggleable__label-arrow:before {content: \"▸\";float: left;margin-right: 0.25em;color: #696969;}#sk-container-id-12 label.sk-toggleable__label-arrow:hover:before {color: black;}#sk-container-id-12 div.sk-estimator:hover label.sk-toggleable__label-arrow:before {color: black;}#sk-container-id-12 div.sk-toggleable__content {max-height: 0;max-width: 0;overflow: hidden;text-align: left;background-color: #f0f8ff;}#sk-container-id-12 div.sk-toggleable__content pre {margin: 0.2em;color: black;border-radius: 0.25em;background-color: #f0f8ff;}#sk-container-id-12 input.sk-toggleable__control:checked~div.sk-toggleable__content {max-height: 200px;max-width: 100%;overflow: auto;}#sk-container-id-12 input.sk-toggleable__control:checked~label.sk-toggleable__label-arrow:before {content: \"▾\";}#sk-container-id-12 div.sk-estimator input.sk-toggleable__control:checked~label.sk-toggleable__label {background-color: #d4ebff;}#sk-container-id-12 div.sk-label input.sk-toggleable__control:checked~label.sk-toggleable__label {background-color: #d4ebff;}#sk-container-id-12 input.sk-hidden--visually {border: 0;clip: rect(1px 1px 1px 1px);clip: rect(1px, 1px, 1px, 1px);height: 1px;margin: -1px;overflow: hidden;padding: 0;position: absolute;width: 1px;}#sk-container-id-12 div.sk-estimator {font-family: monospace;background-color: #f0f8ff;border: 1px dotted black;border-radius: 0.25em;box-sizing: border-box;margin-bottom: 0.5em;}#sk-container-id-12 div.sk-estimator:hover {background-color: #d4ebff;}#sk-container-id-12 div.sk-parallel-item::after {content: \"\";width: 100%;border-bottom: 1px solid gray;flex-grow: 1;}#sk-container-id-12 div.sk-label:hover label.sk-toggleable__label {background-color: #d4ebff;}#sk-container-id-12 div.sk-serial::before {content: \"\";position: absolute;border-left: 1px solid gray;box-sizing: border-box;top: 0;bottom: 0;left: 50%;z-index: 0;}#sk-container-id-12 div.sk-serial {display: flex;flex-direction: column;align-items: center;background-color: white;padding-right: 0.2em;padding-left: 0.2em;position: relative;}#sk-container-id-12 div.sk-item {position: relative;z-index: 1;}#sk-container-id-12 div.sk-parallel {display: flex;align-items: stretch;justify-content: center;background-color: white;position: relative;}#sk-container-id-12 div.sk-item::before, #sk-container-id-12 div.sk-parallel-item::before {content: \"\";position: absolute;border-left: 1px solid gray;box-sizing: border-box;top: 0;bottom: 0;left: 50%;z-index: -1;}#sk-container-id-12 div.sk-parallel-item {display: flex;flex-direction: column;z-index: 1;position: relative;background-color: white;}#sk-container-id-12 div.sk-parallel-item:first-child::after {align-self: flex-end;width: 50%;}#sk-container-id-12 div.sk-parallel-item:last-child::after {align-self: flex-start;width: 50%;}#sk-container-id-12 div.sk-parallel-item:only-child::after {width: 0;}#sk-container-id-12 div.sk-dashed-wrapped {border: 1px dashed gray;margin: 0 0.4em 0.5em 0.4em;box-sizing: border-box;padding-bottom: 0.4em;background-color: white;}#sk-container-id-12 div.sk-label label {font-family: monospace;font-weight: bold;display: inline-block;line-height: 1.2em;}#sk-container-id-12 div.sk-label-container {text-align: center;}#sk-container-id-12 div.sk-container {/* jupyter's `normalize.less` sets `[hidden] { display: none; }` but bootstrap.min.css set `[hidden] { display: none !important; }` so we also need the `!important` here to be able to override the default hidden behavior on the sphinx rendered scikit-learn.org. See: https://github.com/scikit-learn/scikit-learn/issues/21755 */display: inline-block !important;position: relative;}#sk-container-id-12 div.sk-text-repr-fallback {display: none;}</style><div id=\"sk-container-id-12\" class=\"sk-top-container\"><div class=\"sk-text-repr-fallback\"><pre>RandomForestClassifier(class_weight=&#x27;balanced&#x27;, random_state=42)</pre><b>In a Jupyter environment, please rerun this cell to show the HTML representation or trust the notebook. <br />On GitHub, the HTML representation is unable to render, please try loading this page with nbviewer.org.</b></div><div class=\"sk-container\" hidden><div class=\"sk-item\"><div class=\"sk-estimator sk-toggleable\"><input class=\"sk-toggleable__control sk-hidden--visually\" id=\"sk-estimator-id-12\" type=\"checkbox\" checked><label for=\"sk-estimator-id-12\" class=\"sk-toggleable__label sk-toggleable__label-arrow\">RandomForestClassifier</label><div class=\"sk-toggleable__content\"><pre>RandomForestClassifier(class_weight=&#x27;balanced&#x27;, random_state=42)</pre></div></div></div></div></div>"
            ],
            "text/plain": [
              "RandomForestClassifier(class_weight='balanced', random_state=42)"
            ]
          },
          "execution_count": 145,
          "metadata": {},
          "output_type": "execute_result"
        }
      ],
      "source": [
        "# Building the model\n",
        "rf_word2vec_base = RandomForestClassifier(class_weight= \"balanced\",random_state = 42)\n",
        "\n",
        "# Fitting on train data\n",
        "rf_word2vec_base.fit(X_train, y_train_enc)"
      ]
    },
    {
      "cell_type": "code",
      "execution_count": null,
      "metadata": {
        "id": "QjQHbJE2Thzx"
      },
      "outputs": [],
      "source": [
        "# Predicting on train data\n",
        "y_pred_train_base = rf_word2vec_base.predict(X_train)\n",
        "\n",
        "# Predicting on test data\n",
        "y_pred_test_base = rf_word2vec_base.predict(X_test)"
      ]
    },
    {
      "cell_type": "code",
      "execution_count": null,
      "metadata": {
        "colab": {
          "base_uri": "https://localhost:8080/",
          "height": 496
        },
        "id": "WueQkNTkThx5",
        "outputId": "6391063e-2581-4cae-9bbb-0943f1846133"
      },
      "outputs": [
        {
          "data": {
            "image/png": "[encoded data removed]",
            "text/plain": [
              "<Figure size 500x400 with 2 Axes>"
            ]
          },
          "metadata": {},
          "output_type": "display_data"
        }
      ],
      "source": [
        "plot_confusion_matrix(y_train_enc, y_pred_train_base)"
      ]
    },
    {
      "cell_type": "code",
      "execution_count": null,
      "metadata": {
        "colab": {
          "base_uri": "https://localhost:8080/",
          "height": 496
        },
        "id": "40czuX1ZThvg",
        "outputId": "758277e5-6ba7-4161-fa37-945f18c08cde"
      },
      "outputs": [
        {
          "data": {
            "image/png": "[encoded data removed]",
            "text/plain": [
              "<Figure size 500x400 with 2 Axes>"
            ]
          },
          "metadata": {},
          "output_type": "display_data"
        }
      ],
      "source": [
        "plot_confusion_matrix(y_test_enc, y_pred_test_base)"
      ]
    },
    {
      "cell_type": "code",
      "execution_count": null,
      "metadata": {
        "colab": {
          "base_uri": "https://localhost:8080/"
        },
        "id": "2WUQn6X5Tht-",
        "outputId": "5d190017-b0f2-40cb-d83a-847adf8ace8b"
      },
      "outputs": [
        {
          "name": "stdout",
          "output_type": "stream",
          "text": [
            "Training performance:\n",
            "    Accuracy  Recall  Precision   F1\n",
            "0       1.0     1.0        1.0  1.0\n"
          ]
        }
      ],
      "source": [
        "#Calculating different metrics on training data\n",
        "word2vec_base_train=model_performance_classification_sklearn(rf_word2vec_base, X_train,y_train_enc)\n",
        "print(\"Training performance:\\n\", word2vec_base_train)"
      ]
    },
    {
      "cell_type": "code",
      "execution_count": null,
      "metadata": {
        "colab": {
          "base_uri": "https://localhost:8080/"
        },
        "id": "s0g30XvRThsc",
        "outputId": "61cf63c5-e74e-42f1-adcd-c523b25074c0"
      },
      "outputs": [
        {
          "name": "stdout",
          "output_type": "stream",
          "text": [
            "Testing performance:\n",
            "    Accuracy    Recall  Precision        F1\n",
            "0  0.907753  0.907753   0.906588  0.884729\n"
          ]
        },
        {
          "name": "stderr",
          "output_type": "stream",
          "text": [
            "/usr/local/lib/python3.10/dist-packages/sklearn/metrics/_classification.py:1344: UndefinedMetricWarning: Precision is ill-defined and being set to 0.0 in labels with no predicted samples. Use `zero_division` parameter to control this behavior.\n",
            "  _warn_prf(average, modifier, msg_start, len(result))\n"
          ]
        }
      ],
      "source": [
        "#Calculating different metrics on training data\n",
        "word2vec_base_test=model_performance_classification_sklearn(rf_word2vec_base, X_test,y_test_enc)\n",
        "print(\"Testing performance:\\n\", word2vec_base_test)"
      ]
    },
    {
      "cell_type": "markdown",
      "metadata": {
        "id": "iLS7b3bWNkKs"
      },
      "source": [
        "#### RF model with Grid Search"
      ]
    },
    {
      "cell_type": "code",
      "execution_count": null,
      "metadata": {
        "colab": {
          "base_uri": "https://localhost:8080/",
          "height": 148
        },
        "id": "5QEsVugVNjvE",
        "outputId": "f64e55a7-b866-4879-a560-8b27697336e5"
      },
      "outputs": [
        {
          "name": "stderr",
          "output_type": "stream",
          "text": [
            "/usr/local/lib/python3.10/dist-packages/sklearn/model_selection/_search.py:952: UserWarning: One or more of the test scores are non-finite: [nan nan nan nan nan nan nan nan nan nan nan nan nan nan nan nan nan nan]\n",
            "  warnings.warn(\n"
          ]
        },
        {
          "data": {
            "text/html": [
              "<style>#sk-container-id-13 {color: black;background-color: white;}#sk-container-id-13 pre{padding: 0;}#sk-container-id-13 div.sk-toggleable {background-color: white;}#sk-container-id-13 label.sk-toggleable__label {cursor: pointer;display: block;width: 100%;margin-bottom: 0;padding: 0.3em;box-sizing: border-box;text-align: center;}#sk-container-id-13 label.sk-toggleable__label-arrow:before {content: \"▸\";float: left;margin-right: 0.25em;color: #696969;}#sk-container-id-13 label.sk-toggleable__label-arrow:hover:before {color: black;}#sk-container-id-13 div.sk-estimator:hover label.sk-toggleable__label-arrow:before {color: black;}#sk-container-id-13 div.sk-toggleable__content {max-height: 0;max-width: 0;overflow: hidden;text-align: left;background-color: #f0f8ff;}#sk-container-id-13 div.sk-toggleable__content pre {margin: 0.2em;color: black;border-radius: 0.25em;background-color: #f0f8ff;}#sk-container-id-13 input.sk-toggleable__control:checked~div.sk-toggleable__content {max-height: 200px;max-width: 100%;overflow: auto;}#sk-container-id-13 input.sk-toggleable__control:checked~label.sk-toggleable__label-arrow:before {content: \"▾\";}#sk-container-id-13 div.sk-estimator input.sk-toggleable__control:checked~label.sk-toggleable__label {background-color: #d4ebff;}#sk-container-id-13 div.sk-label input.sk-toggleable__control:checked~label.sk-toggleable__label {background-color: #d4ebff;}#sk-container-id-13 input.sk-hidden--visually {border: 0;clip: rect(1px 1px 1px 1px);clip: rect(1px, 1px, 1px, 1px);height: 1px;margin: -1px;overflow: hidden;padding: 0;position: absolute;width: 1px;}#sk-container-id-13 div.sk-estimator {font-family: monospace;background-color: #f0f8ff;border: 1px dotted black;border-radius: 0.25em;box-sizing: border-box;margin-bottom: 0.5em;}#sk-container-id-13 div.sk-estimator:hover {background-color: #d4ebff;}#sk-container-id-13 div.sk-parallel-item::after {content: \"\";width: 100%;border-bottom: 1px solid gray;flex-grow: 1;}#sk-container-id-13 div.sk-label:hover label.sk-toggleable__label {background-color: #d4ebff;}#sk-container-id-13 div.sk-serial::before {content: \"\";position: absolute;border-left: 1px solid gray;box-sizing: border-box;top: 0;bottom: 0;left: 50%;z-index: 0;}#sk-container-id-13 div.sk-serial {display: flex;flex-direction: column;align-items: center;background-color: white;padding-right: 0.2em;padding-left: 0.2em;position: relative;}#sk-container-id-13 div.sk-item {position: relative;z-index: 1;}#sk-container-id-13 div.sk-parallel {display: flex;align-items: stretch;justify-content: center;background-color: white;position: relative;}#sk-container-id-13 div.sk-item::before, #sk-container-id-13 div.sk-parallel-item::before {content: \"\";position: absolute;border-left: 1px solid gray;box-sizing: border-box;top: 0;bottom: 0;left: 50%;z-index: -1;}#sk-container-id-13 div.sk-parallel-item {display: flex;flex-direction: column;z-index: 1;position: relative;background-color: white;}#sk-container-id-13 div.sk-parallel-item:first-child::after {align-self: flex-end;width: 50%;}#sk-container-id-13 div.sk-parallel-item:last-child::after {align-self: flex-start;width: 50%;}#sk-container-id-13 div.sk-parallel-item:only-child::after {width: 0;}#sk-container-id-13 div.sk-dashed-wrapped {border: 1px dashed gray;margin: 0 0.4em 0.5em 0.4em;box-sizing: border-box;padding-bottom: 0.4em;background-color: white;}#sk-container-id-13 div.sk-label label {font-family: monospace;font-weight: bold;display: inline-block;line-height: 1.2em;}#sk-container-id-13 div.sk-label-container {text-align: center;}#sk-container-id-13 div.sk-container {/* jupyter's `normalize.less` sets `[hidden] { display: none; }` but bootstrap.min.css set `[hidden] { display: none !important; }` so we also need the `!important` here to be able to override the default hidden behavior on the sphinx rendered scikit-learn.org. See: https://github.com/scikit-learn/scikit-learn/issues/21755 */display: inline-block !important;position: relative;}#sk-container-id-13 div.sk-text-repr-fallback {display: none;}</style><div id=\"sk-container-id-13\" class=\"sk-top-container\"><div class=\"sk-text-repr-fallback\"><pre>RandomForestClassifier(class_weight=&#x27;balanced&#x27;, max_depth=5, max_features=0.3,\n",
              "                       n_estimators=50, random_state=1)</pre><b>In a Jupyter environment, please rerun this cell to show the HTML representation or trust the notebook. <br />On GitHub, the HTML representation is unable to render, please try loading this page with nbviewer.org.</b></div><div class=\"sk-container\" hidden><div class=\"sk-item\"><div class=\"sk-estimator sk-toggleable\"><input class=\"sk-toggleable__control sk-hidden--visually\" id=\"sk-estimator-id-13\" type=\"checkbox\" checked><label for=\"sk-estimator-id-13\" class=\"sk-toggleable__label sk-toggleable__label-arrow\">RandomForestClassifier</label><div class=\"sk-toggleable__content\"><pre>RandomForestClassifier(class_weight=&#x27;balanced&#x27;, max_depth=5, max_features=0.3,\n",
              "                       n_estimators=50, random_state=1)</pre></div></div></div></div></div>"
            ],
            "text/plain": [
              "RandomForestClassifier(class_weight='balanced', max_depth=5, max_features=0.3,\n",
              "                       n_estimators=50, random_state=1)"
            ]
          },
          "execution_count": 154,
          "metadata": {},
          "output_type": "execute_result"
        }
      ],
      "source": [
        "# Choose the type of classifier.\n",
        "word2vec_rf_tuned = RandomForestClassifier(class_weight= \"balanced\",random_state=1,bootstrap=True)\n",
        "\n",
        "parameters = {\n",
        "    'max_depth': list(np.arange(5,10,2)),\n",
        "    'n_estimators': np.arange(50,110,25),\n",
        "    'max_features': [0.3,0.4]\n",
        "}\n",
        "\n",
        "# Run the grid search\n",
        "grid_obj = GridSearchCV(word2vec_rf_tuned, parameters, scoring='recall',cv=5,n_jobs=-1)\n",
        "grid_obj = grid_obj.fit(X_train, y_train_enc)\n",
        "\n",
        "# Set the clf to the best combination of parameters\n",
        "word2vec_rf_tuned = grid_obj.best_estimator_\n",
        "\n",
        "# Fit the best algorithm to the data.\n",
        "word2vec_rf_tuned.fit(X_train, y_train_enc)"
      ]
    },
    {
      "cell_type": "code",
      "execution_count": null,
      "metadata": {
        "id": "aTzVYGkRNjro"
      },
      "outputs": [],
      "source": [
        "# Predicting on train data\n",
        "y_pred_train_tuned = word2vec_rf_tuned.predict(X_train)\n",
        "\n",
        "# Predicting on test data\n",
        "y_pred_test_tuned = word2vec_rf_tuned.predict(X_test)"
      ]
    },
    {
      "cell_type": "code",
      "execution_count": null,
      "metadata": {
        "colab": {
          "base_uri": "https://localhost:8080/",
          "height": 496
        },
        "id": "PPiQe8IVNjoK",
        "outputId": "29aeddd6-46ac-4a56-9663-c2d0fc656494"
      },
      "outputs": [
        {
          "data": {
            "image/png": "[encoded data removed]",
            "text/plain": [
              "<Figure size 500x400 with 2 Axes>"
            ]
          },
          "metadata": {},
          "output_type": "display_data"
        }
      ],
      "source": [
        "plot_confusion_matrix(y_train_enc, y_pred_train_tuned)"
      ]
    },
    {
      "cell_type": "code",
      "execution_count": null,
      "metadata": {
        "colab": {
          "base_uri": "https://localhost:8080/",
          "height": 496
        },
        "id": "JUPSHX9iNjl6",
        "outputId": "6afcab9b-50e1-45bd-933a-eb562f98238f"
      },
      "outputs": [
        {
          "data": {
            "image/png": "[encoded data removed]",
            "text/plain": [
              "<Figure size 500x400 with 2 Axes>"
            ]
          },
          "metadata": {},
          "output_type": "display_data"
        }
      ],
      "source": [
        "plot_confusion_matrix(y_test_enc, y_pred_test_tuned)"
      ]
    },
    {
      "cell_type": "code",
      "execution_count": null,
      "metadata": {
        "colab": {
          "base_uri": "https://localhost:8080/"
        },
        "id": "4z57heUsQwV7",
        "outputId": "e5c35a2a-07d7-4c0b-dc7f-bb1e1882fdda"
      },
      "outputs": [
        {
          "name": "stdout",
          "output_type": "stream",
          "text": [
            "Training performance:\n",
            "    Accuracy    Recall  Precision        F1\n",
            "0  0.899902  0.899902   0.930303  0.909139\n"
          ]
        }
      ],
      "source": [
        "#Calculating different metrics on training data\n",
        "word2vec_tuned_train=model_performance_classification_sklearn(word2vec_rf_tuned, X_train,y_train_enc)\n",
        "print(\"Training performance:\\n\", word2vec_tuned_train)"
      ]
    },
    {
      "cell_type": "code",
      "execution_count": null,
      "metadata": {
        "colab": {
          "base_uri": "https://localhost:8080/"
        },
        "id": "_xQTblStQwSn",
        "outputId": "9220034b-152c-48fa-d890-891f4062a115"
      },
      "outputs": [
        {
          "name": "stdout",
          "output_type": "stream",
          "text": [
            "Testing performance:\n",
            "    Accuracy    Recall  Precision        F1\n",
            "0  0.861629  0.861629    0.88764  0.870849\n"
          ]
        }
      ],
      "source": [
        "#Calculating different metrics on training data\n",
        "word2vec_tuned_test=model_performance_classification_sklearn(word2vec_rf_tuned, X_test,y_test_enc)\n",
        "print(\"Testing performance:\\n\", word2vec_tuned_test)"
      ]
    },
    {
      "cell_type": "markdown",
      "metadata": {
        "id": "0vgMuXQwklFw"
      },
      "source": [
        "### Random Forest with GloVe"
      ]
    },
    {
      "cell_type": "code",
      "execution_count": null,
      "metadata": {
        "id": "aJjnMH_klEYy"
      },
      "outputs": [],
      "source": [
        "# Storing independent variable\n",
        "X = df_Glove.copy()\n",
        "\n",
        "# Storing target variable\n",
        "y = dataset['Category']"
      ]
    },
    {
      "cell_type": "code",
      "execution_count": null,
      "metadata": {
        "id": "hM7PMudWlK2q"
      },
      "outputs": [],
      "source": [
        "# Split data into training and testing set.\n",
        "X_train_glove, X_test_glove, y_train_glove, y_test_glove = train_test_split(X ,y, test_size = 0.25, random_state = 42)"
      ]
    },
    {
      "cell_type": "code",
      "execution_count": null,
      "metadata": {
        "id": "EjVqTYutlLgS"
      },
      "outputs": [],
      "source": [
        "# Label Encoding\n",
        "encoder = LabelEncoder()\n",
        "\n",
        "# fitting the encoder to the training labels\n",
        "y_train_enc_glove = encoder.fit_transform(y_train_glove)\n",
        "\n",
        "# applying the encoder mapping from training labels to test labels\n",
        "y_test_enc_glove = encoder.transform(y_test_glove)"
      ]
    },
    {
      "cell_type": "markdown",
      "metadata": {
        "id": "aeNmBOKAU8Py"
      },
      "source": [
        "#### RF Base model"
      ]
    },
    {
      "cell_type": "code",
      "execution_count": null,
      "metadata": {
        "colab": {
          "base_uri": "https://localhost:8080/",
          "height": 74
        },
        "id": "qVPxKFIHVABc",
        "outputId": "44582562-4e2c-464d-b7de-4f74c47ec4bc"
      },
      "outputs": [
        {
          "data": {
            "text/html": [
              "<style>#sk-container-id-14 {color: black;background-color: white;}#sk-container-id-14 pre{padding: 0;}#sk-container-id-14 div.sk-toggleable {background-color: white;}#sk-container-id-14 label.sk-toggleable__label {cursor: pointer;display: block;width: 100%;margin-bottom: 0;padding: 0.3em;box-sizing: border-box;text-align: center;}#sk-container-id-14 label.sk-toggleable__label-arrow:before {content: \"▸\";float: left;margin-right: 0.25em;color: #696969;}#sk-container-id-14 label.sk-toggleable__label-arrow:hover:before {color: black;}#sk-container-id-14 div.sk-estimator:hover label.sk-toggleable__label-arrow:before {color: black;}#sk-container-id-14 div.sk-toggleable__content {max-height: 0;max-width: 0;overflow: hidden;text-align: left;background-color: #f0f8ff;}#sk-container-id-14 div.sk-toggleable__content pre {margin: 0.2em;color: black;border-radius: 0.25em;background-color: #f0f8ff;}#sk-container-id-14 input.sk-toggleable__control:checked~div.sk-toggleable__content {max-height: 200px;max-width: 100%;overflow: auto;}#sk-container-id-14 input.sk-toggleable__control:checked~label.sk-toggleable__label-arrow:before {content: \"▾\";}#sk-container-id-14 div.sk-estimator input.sk-toggleable__control:checked~label.sk-toggleable__label {background-color: #d4ebff;}#sk-container-id-14 div.sk-label input.sk-toggleable__control:checked~label.sk-toggleable__label {background-color: #d4ebff;}#sk-container-id-14 input.sk-hidden--visually {border: 0;clip: rect(1px 1px 1px 1px);clip: rect(1px, 1px, 1px, 1px);height: 1px;margin: -1px;overflow: hidden;padding: 0;position: absolute;width: 1px;}#sk-container-id-14 div.sk-estimator {font-family: monospace;background-color: #f0f8ff;border: 1px dotted black;border-radius: 0.25em;box-sizing: border-box;margin-bottom: 0.5em;}#sk-container-id-14 div.sk-estimator:hover {background-color: #d4ebff;}#sk-container-id-14 div.sk-parallel-item::after {content: \"\";width: 100%;border-bottom: 1px solid gray;flex-grow: 1;}#sk-container-id-14 div.sk-label:hover label.sk-toggleable__label {background-color: #d4ebff;}#sk-container-id-14 div.sk-serial::before {content: \"\";position: absolute;border-left: 1px solid gray;box-sizing: border-box;top: 0;bottom: 0;left: 50%;z-index: 0;}#sk-container-id-14 div.sk-serial {display: flex;flex-direction: column;align-items: center;background-color: white;padding-right: 0.2em;padding-left: 0.2em;position: relative;}#sk-container-id-14 div.sk-item {position: relative;z-index: 1;}#sk-container-id-14 div.sk-parallel {display: flex;align-items: stretch;justify-content: center;background-color: white;position: relative;}#sk-container-id-14 div.sk-item::before, #sk-container-id-14 div.sk-parallel-item::before {content: \"\";position: absolute;border-left: 1px solid gray;box-sizing: border-box;top: 0;bottom: 0;left: 50%;z-index: -1;}#sk-container-id-14 div.sk-parallel-item {display: flex;flex-direction: column;z-index: 1;position: relative;background-color: white;}#sk-container-id-14 div.sk-parallel-item:first-child::after {align-self: flex-end;width: 50%;}#sk-container-id-14 div.sk-parallel-item:last-child::after {align-self: flex-start;width: 50%;}#sk-container-id-14 div.sk-parallel-item:only-child::after {width: 0;}#sk-container-id-14 div.sk-dashed-wrapped {border: 1px dashed gray;margin: 0 0.4em 0.5em 0.4em;box-sizing: border-box;padding-bottom: 0.4em;background-color: white;}#sk-container-id-14 div.sk-label label {font-family: monospace;font-weight: bold;display: inline-block;line-height: 1.2em;}#sk-container-id-14 div.sk-label-container {text-align: center;}#sk-container-id-14 div.sk-container {/* jupyter's `normalize.less` sets `[hidden] { display: none; }` but bootstrap.min.css set `[hidden] { display: none !important; }` so we also need the `!important` here to be able to override the default hidden behavior on the sphinx rendered scikit-learn.org. See: https://github.com/scikit-learn/scikit-learn/issues/21755 */display: inline-block !important;position: relative;}#sk-container-id-14 div.sk-text-repr-fallback {display: none;}</style><div id=\"sk-container-id-14\" class=\"sk-top-container\"><div class=\"sk-text-repr-fallback\"><pre>RandomForestClassifier(class_weight=&#x27;balanced&#x27;, random_state=42)</pre><b>In a Jupyter environment, please rerun this cell to show the HTML representation or trust the notebook. <br />On GitHub, the HTML representation is unable to render, please try loading this page with nbviewer.org.</b></div><div class=\"sk-container\" hidden><div class=\"sk-item\"><div class=\"sk-estimator sk-toggleable\"><input class=\"sk-toggleable__control sk-hidden--visually\" id=\"sk-estimator-id-14\" type=\"checkbox\" checked><label for=\"sk-estimator-id-14\" class=\"sk-toggleable__label sk-toggleable__label-arrow\">RandomForestClassifier</label><div class=\"sk-toggleable__content\"><pre>RandomForestClassifier(class_weight=&#x27;balanced&#x27;, random_state=42)</pre></div></div></div></div></div>"
            ],
            "text/plain": [
              "RandomForestClassifier(class_weight='balanced', random_state=42)"
            ]
          },
          "execution_count": 163,
          "metadata": {},
          "output_type": "execute_result"
        }
      ],
      "source": [
        "# Building the model\n",
        "rf_glovec_base = RandomForestClassifier(class_weight= \"balanced\",random_state = 42)\n",
        "\n",
        "# Fitting on train data\n",
        "rf_glovec_base.fit(X_train_glove, y_train_enc_glove)"
      ]
    },
    {
      "cell_type": "code",
      "execution_count": null,
      "metadata": {
        "id": "TYEs1EooU_96"
      },
      "outputs": [],
      "source": [
        "# Predicting on train data\n",
        "y_pred_train_base_gl = rf_glovec_base.predict(X_train_glove)\n",
        "\n",
        "# Predicting on test data\n",
        "y_pred_test_base_gl = rf_glovec_base.predict(X_test_glove)"
      ]
    },
    {
      "cell_type": "code",
      "execution_count": null,
      "metadata": {
        "colab": {
          "base_uri": "https://localhost:8080/",
          "height": 496
        },
        "id": "F1tlZCgJU_7X",
        "outputId": "0b6cbb21-17f9-4d32-ca7d-81d5f69b9c79"
      },
      "outputs": [
        {
          "data": {
            "image/png": "[encoded data removed]",
            "text/plain": [
              "<Figure size 500x400 with 2 Axes>"
            ]
          },
          "metadata": {},
          "output_type": "display_data"
        }
      ],
      "source": [
        "plot_confusion_matrix(y_train_enc_glove, y_pred_train_base_gl)"
      ]
    },
    {
      "cell_type": "code",
      "execution_count": null,
      "metadata": {
        "colab": {
          "base_uri": "https://localhost:8080/",
          "height": 496
        },
        "id": "HOAzfuoKU_5D",
        "outputId": "1984f427-a0f4-44fc-e2fb-f5d19251dad5"
      },
      "outputs": [
        {
          "data": {
            "image/png": "[encoded data removed]",
            "text/plain": [
              "<Figure size 500x400 with 2 Axes>"
            ]
          },
          "metadata": {},
          "output_type": "display_data"
        }
      ],
      "source": [
        "plot_confusion_matrix(y_test_enc_glove, y_pred_test_base_gl)"
      ]
    },
    {
      "cell_type": "code",
      "execution_count": null,
      "metadata": {
        "colab": {
          "base_uri": "https://localhost:8080/"
        },
        "id": "FhqrDUC8WCec",
        "outputId": "0ebd4f54-0fe6-4f4b-bf11-b34b808fd32e"
      },
      "outputs": [
        {
          "name": "stdout",
          "output_type": "stream",
          "text": [
            "Training performance:\n",
            "    Accuracy  Recall  Precision   F1\n",
            "0       1.0     1.0        1.0  1.0\n"
          ]
        }
      ],
      "source": [
        "#Calculating different metrics on training data\n",
        "glove_base_train=model_performance_classification_sklearn(rf_glovec_base, X_train_glove,y_train_enc_glove)\n",
        "print(\"Training performance:\\n\", glove_base_train)"
      ]
    },
    {
      "cell_type": "code",
      "execution_count": null,
      "metadata": {
        "colab": {
          "base_uri": "https://localhost:8080/"
        },
        "id": "-qqF7_NOWCWR",
        "outputId": "5f16c180-706d-46c3-90fc-b964ccf4e6c0"
      },
      "outputs": [
        {
          "name": "stdout",
          "output_type": "stream",
          "text": [
            "Testing performance:\n",
            "    Accuracy    Recall  Precision        F1\n",
            "0  0.914622  0.914622   0.910578  0.899329\n"
          ]
        }
      ],
      "source": [
        "#Calculating different metrics on training data\n",
        "glove_base_test=model_performance_classification_sklearn(rf_glovec_base, X_test_glove,y_test_enc_glove)\n",
        "print(\"Testing performance:\\n\", glove_base_test)"
      ]
    },
    {
      "cell_type": "markdown",
      "metadata": {
        "id": "4rUKo0qOWkzw"
      },
      "source": [
        "#### RF model with Grid Search"
      ]
    },
    {
      "cell_type": "code",
      "execution_count": null,
      "metadata": {
        "colab": {
          "base_uri": "https://localhost:8080/",
          "height": 148
        },
        "id": "OSGGIYLJWSy1",
        "outputId": "2980cdc8-18e1-4af7-bbb0-a39e44c30e52"
      },
      "outputs": [
        {
          "name": "stderr",
          "output_type": "stream",
          "text": [
            "/usr/local/lib/python3.10/dist-packages/sklearn/model_selection/_search.py:952: UserWarning: One or more of the test scores are non-finite: [nan nan nan nan nan nan nan nan nan nan nan nan nan nan nan nan nan nan]\n",
            "  warnings.warn(\n"
          ]
        },
        {
          "data": {
            "text/html": [
              "<style>#sk-container-id-15 {color: black;background-color: white;}#sk-container-id-15 pre{padding: 0;}#sk-container-id-15 div.sk-toggleable {background-color: white;}#sk-container-id-15 label.sk-toggleable__label {cursor: pointer;display: block;width: 100%;margin-bottom: 0;padding: 0.3em;box-sizing: border-box;text-align: center;}#sk-container-id-15 label.sk-toggleable__label-arrow:before {content: \"▸\";float: left;margin-right: 0.25em;color: #696969;}#sk-container-id-15 label.sk-toggleable__label-arrow:hover:before {color: black;}#sk-container-id-15 div.sk-estimator:hover label.sk-toggleable__label-arrow:before {color: black;}#sk-container-id-15 div.sk-toggleable__content {max-height: 0;max-width: 0;overflow: hidden;text-align: left;background-color: #f0f8ff;}#sk-container-id-15 div.sk-toggleable__content pre {margin: 0.2em;color: black;border-radius: 0.25em;background-color: #f0f8ff;}#sk-container-id-15 input.sk-toggleable__control:checked~div.sk-toggleable__content {max-height: 200px;max-width: 100%;overflow: auto;}#sk-container-id-15 input.sk-toggleable__control:checked~label.sk-toggleable__label-arrow:before {content: \"▾\";}#sk-container-id-15 div.sk-estimator input.sk-toggleable__control:checked~label.sk-toggleable__label {background-color: #d4ebff;}#sk-container-id-15 div.sk-label input.sk-toggleable__control:checked~label.sk-toggleable__label {background-color: #d4ebff;}#sk-container-id-15 input.sk-hidden--visually {border: 0;clip: rect(1px 1px 1px 1px);clip: rect(1px, 1px, 1px, 1px);height: 1px;margin: -1px;overflow: hidden;padding: 0;position: absolute;width: 1px;}#sk-container-id-15 div.sk-estimator {font-family: monospace;background-color: #f0f8ff;border: 1px dotted black;border-radius: 0.25em;box-sizing: border-box;margin-bottom: 0.5em;}#sk-container-id-15 div.sk-estimator:hover {background-color: #d4ebff;}#sk-container-id-15 div.sk-parallel-item::after {content: \"\";width: 100%;border-bottom: 1px solid gray;flex-grow: 1;}#sk-container-id-15 div.sk-label:hover label.sk-toggleable__label {background-color: #d4ebff;}#sk-container-id-15 div.sk-serial::before {content: \"\";position: absolute;border-left: 1px solid gray;box-sizing: border-box;top: 0;bottom: 0;left: 50%;z-index: 0;}#sk-container-id-15 div.sk-serial {display: flex;flex-direction: column;align-items: center;background-color: white;padding-right: 0.2em;padding-left: 0.2em;position: relative;}#sk-container-id-15 div.sk-item {position: relative;z-index: 1;}#sk-container-id-15 div.sk-parallel {display: flex;align-items: stretch;justify-content: center;background-color: white;position: relative;}#sk-container-id-15 div.sk-item::before, #sk-container-id-15 div.sk-parallel-item::before {content: \"\";position: absolute;border-left: 1px solid gray;box-sizing: border-box;top: 0;bottom: 0;left: 50%;z-index: -1;}#sk-container-id-15 div.sk-parallel-item {display: flex;flex-direction: column;z-index: 1;position: relative;background-color: white;}#sk-container-id-15 div.sk-parallel-item:first-child::after {align-self: flex-end;width: 50%;}#sk-container-id-15 div.sk-parallel-item:last-child::after {align-self: flex-start;width: 50%;}#sk-container-id-15 div.sk-parallel-item:only-child::after {width: 0;}#sk-container-id-15 div.sk-dashed-wrapped {border: 1px dashed gray;margin: 0 0.4em 0.5em 0.4em;box-sizing: border-box;padding-bottom: 0.4em;background-color: white;}#sk-container-id-15 div.sk-label label {font-family: monospace;font-weight: bold;display: inline-block;line-height: 1.2em;}#sk-container-id-15 div.sk-label-container {text-align: center;}#sk-container-id-15 div.sk-container {/* jupyter's `normalize.less` sets `[hidden] { display: none; }` but bootstrap.min.css set `[hidden] { display: none !important; }` so we also need the `!important` here to be able to override the default hidden behavior on the sphinx rendered scikit-learn.org. See: https://github.com/scikit-learn/scikit-learn/issues/21755 */display: inline-block !important;position: relative;}#sk-container-id-15 div.sk-text-repr-fallback {display: none;}</style><div id=\"sk-container-id-15\" class=\"sk-top-container\"><div class=\"sk-text-repr-fallback\"><pre>RandomForestClassifier(class_weight=&#x27;balanced&#x27;, max_depth=5, max_features=0.3,\n",
              "                       n_estimators=50, random_state=1)</pre><b>In a Jupyter environment, please rerun this cell to show the HTML representation or trust the notebook. <br />On GitHub, the HTML representation is unable to render, please try loading this page with nbviewer.org.</b></div><div class=\"sk-container\" hidden><div class=\"sk-item\"><div class=\"sk-estimator sk-toggleable\"><input class=\"sk-toggleable__control sk-hidden--visually\" id=\"sk-estimator-id-15\" type=\"checkbox\" checked><label for=\"sk-estimator-id-15\" class=\"sk-toggleable__label sk-toggleable__label-arrow\">RandomForestClassifier</label><div class=\"sk-toggleable__content\"><pre>RandomForestClassifier(class_weight=&#x27;balanced&#x27;, max_depth=5, max_features=0.3,\n",
              "                       n_estimators=50, random_state=1)</pre></div></div></div></div></div>"
            ],
            "text/plain": [
              "RandomForestClassifier(class_weight='balanced', max_depth=5, max_features=0.3,\n",
              "                       n_estimators=50, random_state=1)"
            ]
          },
          "execution_count": 169,
          "metadata": {},
          "output_type": "execute_result"
        }
      ],
      "source": [
        "# Choose the type of classifier.\n",
        "glove_rf_tuned = RandomForestClassifier(class_weight= \"balanced\",random_state=1,bootstrap=True)\n",
        "\n",
        "parameters = {\n",
        "    'max_depth': list(np.arange(5,10,2)),\n",
        "    'n_estimators': np.arange(50,110,25),\n",
        "    'max_features': [0.3,0.4]\n",
        "}\n",
        "\n",
        "# Run the grid search\n",
        "grid_obj = GridSearchCV(glove_rf_tuned, parameters, scoring='recall',cv=5,n_jobs=-1)\n",
        "grid_obj = grid_obj.fit(X_train_glove, y_train_enc_glove)\n",
        "\n",
        "# Set the clf to the best combination of parameters\n",
        "glove_rf_tuned = grid_obj.best_estimator_\n",
        "\n",
        "# Fit the best algorithm to the data.\n",
        "glove_rf_tuned.fit(X_train_glove, y_train_enc_glove)"
      ]
    },
    {
      "cell_type": "code",
      "execution_count": null,
      "metadata": {
        "id": "QkEuVpGeWSwg"
      },
      "outputs": [],
      "source": [
        "# Predicting on train data\n",
        "y_pred_train_tuned_gl = glove_rf_tuned.predict(X_train_glove)\n",
        "\n",
        "# Predicting on test data\n",
        "y_pred_test_tuned_gl = glove_rf_tuned.predict(X_test_glove)"
      ]
    },
    {
      "cell_type": "code",
      "execution_count": null,
      "metadata": {
        "colab": {
          "base_uri": "https://localhost:8080/",
          "height": 496
        },
        "id": "T6sIN7rsWSuI",
        "outputId": "933d1895-260e-4a9f-d777-e80720d45f0a"
      },
      "outputs": [
        {
          "data": {
            "image/png": "[encoded data removed]",
            "text/plain": [
              "<Figure size 500x400 with 2 Axes>"
            ]
          },
          "metadata": {},
          "output_type": "display_data"
        }
      ],
      "source": [
        "plot_confusion_matrix(y_train_enc_glove, y_pred_train_tuned_gl)"
      ]
    },
    {
      "cell_type": "code",
      "execution_count": null,
      "metadata": {
        "colab": {
          "base_uri": "https://localhost:8080/",
          "height": 496
        },
        "id": "4rxJPcwzXLat",
        "outputId": "1110defd-ab4d-4147-a0a8-b68baa01a5bd"
      },
      "outputs": [
        {
          "data": {
            "image/png": "[encoded data removed]",
            "text/plain": [
              "<Figure size 500x400 with 2 Axes>"
            ]
          },
          "metadata": {},
          "output_type": "display_data"
        }
      ],
      "source": [
        "plot_confusion_matrix(y_test_enc_glove, y_pred_test_tuned_gl)"
      ]
    },
    {
      "cell_type": "code",
      "execution_count": null,
      "metadata": {
        "colab": {
          "base_uri": "https://localhost:8080/"
        },
        "id": "KYu9fqm9XLXY",
        "outputId": "5bcf6a8d-572f-471d-faf9-d89452ecf27a"
      },
      "outputs": [
        {
          "name": "stdout",
          "output_type": "stream",
          "text": [
            "Training performance:\n",
            "    Accuracy    Recall  Precision        F1\n",
            "0  0.878966  0.878966   0.900951  0.885326\n"
          ]
        }
      ],
      "source": [
        "#Calculating different metrics on training data\n",
        "glove_tuned_train=model_performance_classification_sklearn(glove_rf_tuned, X_train_glove,y_train_enc_glove)\n",
        "print(\"Training performance:\\n\", glove_tuned_train)"
      ]
    },
    {
      "cell_type": "code",
      "execution_count": null,
      "metadata": {
        "colab": {
          "base_uri": "https://localhost:8080/"
        },
        "id": "yVlXybBPXLU9",
        "outputId": "1d6bfbaa-6ef0-4b16-e3d1-2905446f386c"
      },
      "outputs": [
        {
          "name": "stdout",
          "output_type": "stream",
          "text": [
            "Testing performance:\n",
            "    Accuracy    Recall  Precision        F1\n",
            "0  0.860648  0.860648   0.880303  0.867467\n"
          ]
        }
      ],
      "source": [
        "#Calculating different metrics on training data\n",
        "glove_tuned_test=model_performance_classification_sklearn(glove_rf_tuned, X_test_glove,y_test_enc_glove)\n",
        "print(\"Testing performance:\\n\", glove_tuned_test)"
      ]
    },
    {
      "cell_type": "markdown",
      "metadata": {
        "id": "DrphT98WvIRu"
      },
      "source": [
        "## Model Comparison and Final Model Selection"
      ]
    },
    {
      "cell_type": "code",
      "execution_count": null,
      "metadata": {
        "colab": {
          "base_uri": "https://localhost:8080/",
          "height": 193
        },
        "id": "fMM4R8A0XiSk",
        "outputId": "77e6784f-a114-4ac1-90a1-bf1f701ee83d"
      },
      "outputs": [
        {
          "name": "stdout",
          "output_type": "stream",
          "text": [
            "Training performance comparison:\n"
          ]
        },
        {
          "data": {
            "text/html": [
              "\n",
              "  <div id=\"df-539f22cf-7fc8-4b6b-b655-d316635e030d\" class=\"colab-df-container\">\n",
              "    <div>\n",
              "<style scoped>\n",
              "    .dataframe tbody tr th:only-of-type {\n",
              "        vertical-align: middle;\n",
              "    }\n",
              "\n",
              "    .dataframe tbody tr th {\n",
              "        vertical-align: top;\n",
              "    }\n",
              "\n",
              "    .dataframe thead th {\n",
              "        text-align: right;\n",
              "    }\n",
              "</style>\n",
              "<table border=\"1\" class=\"dataframe\">\n",
              "  <thead>\n",
              "    <tr style=\"text-align: right;\">\n",
              "      <th></th>\n",
              "      <th>Word2vec - Base RF Model</th>\n",
              "      <th>Word2vec - RF with Grid Search</th>\n",
              "      <th>GloVe - Base RF Model</th>\n",
              "      <th>GloVe - RF with Grid Search</th>\n",
              "    </tr>\n",
              "  </thead>\n",
              "  <tbody>\n",
              "    <tr>\n",
              "      <th>Accuracy</th>\n",
              "      <td>1.0</td>\n",
              "      <td>0.899902</td>\n",
              "      <td>1.0</td>\n",
              "      <td>0.878966</td>\n",
              "    </tr>\n",
              "    <tr>\n",
              "      <th>Recall</th>\n",
              "      <td>1.0</td>\n",
              "      <td>0.899902</td>\n",
              "      <td>1.0</td>\n",
              "      <td>0.878966</td>\n",
              "    </tr>\n",
              "    <tr>\n",
              "      <th>Precision</th>\n",
              "      <td>1.0</td>\n",
              "      <td>0.930303</td>\n",
              "      <td>1.0</td>\n",
              "      <td>0.900951</td>\n",
              "    </tr>\n",
              "    <tr>\n",
              "      <th>F1</th>\n",
              "      <td>1.0</td>\n",
              "      <td>0.909139</td>\n",
              "      <td>1.0</td>\n",
              "      <td>0.885326</td>\n",
              "    </tr>\n",
              "  </tbody>\n",
              "</table>\n",
              "</div>\n",
              "    <div class=\"colab-df-buttons\">\n",
              "\n",
              "  <div class=\"colab-df-container\">\n",
              "    <button class=\"colab-df-convert\" onclick=\"convertToInteractive('df-539f22cf-7fc8-4b6b-b655-d316635e030d')\"\n",
              "            title=\"Convert this dataframe to an interactive table.\"\n",
              "            style=\"display:none;\">\n",
              "\n",
              "  <svg xmlns=\"http://www.w3.org/2000/svg\" height=\"24px\" viewBox=\"0 -960 960 960\">\n",
              "    <path d=\"M120-120v-720h720v720H120Zm60-500h600v-160H180v160Zm220 220h160v-160H400v160Zm0 220h160v-160H400v160ZM180-400h160v-160H180v160Zm440 0h160v-160H620v160ZM180-180h160v-160H180v160Zm440 0h160v-160H620v160Z\"/>\n",
              "  </svg>\n",
              "    </button>\n",
              "\n",
              "  <style>\n",
              "    .colab-df-container {\n",
              "      display:flex;\n",
              "      gap: 12px;\n",
              "    }\n",
              "\n",
              "    .colab-df-convert {\n",
              "      background-color: #E8F0FE;\n",
              "      border: none;\n",
              "      border-radius: 50%;\n",
              "      cursor: pointer;\n",
              "      display: none;\n",
              "      fill: #1967D2;\n",
              "      height: 32px;\n",
              "      padding: 0 0 0 0;\n",
              "      width: 32px;\n",
              "    }\n",
              "\n",
              "    .colab-df-convert:hover {\n",
              "      background-color: #E2EBFA;\n",
              "      box-shadow: 0px 1px 2px rgba(60, 64, 67, 0.3), 0px 1px 3px 1px rgba(60, 64, 67, 0.15);\n",
              "      fill: #174EA6;\n",
              "    }\n",
              "\n",
              "    .colab-df-buttons div {\n",
              "      margin-bottom: 4px;\n",
              "    }\n",
              "\n",
              "    [theme=dark] .colab-df-convert {\n",
              "      background-color: #3B4455;\n",
              "      fill: #D2E3FC;\n",
              "    }\n",
              "\n",
              "    [theme=dark] .colab-df-convert:hover {\n",
              "      background-color: #434B5C;\n",
              "      box-shadow: 0px 1px 3px 1px rgba(0, 0, 0, 0.15);\n",
              "      filter: drop-shadow(0px 1px 2px rgba(0, 0, 0, 0.3));\n",
              "      fill: #FFFFFF;\n",
              "    }\n",
              "  </style>\n",
              "\n",
              "    <script>\n",
              "      const buttonEl =\n",
              "        document.querySelector('#df-539f22cf-7fc8-4b6b-b655-d316635e030d button.colab-df-convert');\n",
              "      buttonEl.style.display =\n",
              "        google.colab.kernel.accessAllowed ? 'block' : 'none';\n",
              "\n",
              "      async function convertToInteractive(key) {\n",
              "        const element = document.querySelector('#df-539f22cf-7fc8-4b6b-b655-d316635e030d');\n",
              "        const dataTable =\n",
              "          await google.colab.kernel.invokeFunction('convertToInteractive',\n",
              "                                                    [key], {});\n",
              "        if (!dataTable) return;\n",
              "\n",
              "        const docLinkHtml = 'Like what you see? Visit the ' +\n",
              "          '<a target=\"_blank\" href=https://colab.research.google.com/notebooks/data_table.ipynb>data table notebook</a>'\n",
              "          + ' to learn more about interactive tables.';\n",
              "        element.innerHTML = '';\n",
              "        dataTable['output_type'] = 'display_data';\n",
              "        await google.colab.output.renderOutput(dataTable, element);\n",
              "        const docLink = document.createElement('div');\n",
              "        docLink.innerHTML = docLinkHtml;\n",
              "        element.appendChild(docLink);\n",
              "      }\n",
              "    </script>\n",
              "  </div>\n",
              "\n",
              "\n",
              "<div id=\"df-6d85c334-bbcd-49c4-adcb-50e89fdd30de\">\n",
              "  <button class=\"colab-df-quickchart\" onclick=\"quickchart('df-6d85c334-bbcd-49c4-adcb-50e89fdd30de')\"\n",
              "            title=\"Suggest charts\"\n",
              "            style=\"display:none;\">\n",
              "\n",
              "<svg xmlns=\"http://www.w3.org/2000/svg\" height=\"24px\"viewBox=\"0 0 24 24\"\n",
              "     width=\"24px\">\n",
              "    <g>\n",
              "        <path d=\"M19 3H5c-1.1 0-2 .9-2 2v14c0 1.1.9 2 2 2h14c1.1 0 2-.9 2-2V5c0-1.1-.9-2-2-2zM9 17H7v-7h2v7zm4 0h-2V7h2v10zm4 0h-2v-4h2v4z\"/>\n",
              "    </g>\n",
              "</svg>\n",
              "  </button>\n",
              "\n",
              "<style>\n",
              "  .colab-df-quickchart {\n",
              "      --bg-color: #E8F0FE;\n",
              "      --fill-color: #1967D2;\n",
              "      --hover-bg-color: #E2EBFA;\n",
              "      --hover-fill-color: #174EA6;\n",
              "      --disabled-fill-color: #AAA;\n",
              "      --disabled-bg-color: #DDD;\n",
              "  }\n",
              "\n",
              "  [theme=dark] .colab-df-quickchart {\n",
              "      --bg-color: #3B4455;\n",
              "      --fill-color: #D2E3FC;\n",
              "      --hover-bg-color: #434B5C;\n",
              "      --hover-fill-color: #FFFFFF;\n",
              "      --disabled-bg-color: #3B4455;\n",
              "      --disabled-fill-color: #666;\n",
              "  }\n",
              "\n",
              "  .colab-df-quickchart {\n",
              "    background-color: var(--bg-color);\n",
              "    border: none;\n",
              "    border-radius: 50%;\n",
              "    cursor: pointer;\n",
              "    display: none;\n",
              "    fill: var(--fill-color);\n",
              "    height: 32px;\n",
              "    padding: 0;\n",
              "    width: 32px;\n",
              "  }\n",
              "\n",
              "  .colab-df-quickchart:hover {\n",
              "    background-color: var(--hover-bg-color);\n",
              "    box-shadow: 0 1px 2px rgba(60, 64, 67, 0.3), 0 1px 3px 1px rgba(60, 64, 67, 0.15);\n",
              "    fill: var(--button-hover-fill-color);\n",
              "  }\n",
              "\n",
              "  .colab-df-quickchart-complete:disabled,\n",
              "  .colab-df-quickchart-complete:disabled:hover {\n",
              "    background-color: var(--disabled-bg-color);\n",
              "    fill: var(--disabled-fill-color);\n",
              "    box-shadow: none;\n",
              "  }\n",
              "\n",
              "  .colab-df-spinner {\n",
              "    border: 2px solid var(--fill-color);\n",
              "    border-color: transparent;\n",
              "    border-bottom-color: var(--fill-color);\n",
              "    animation:\n",
              "      spin 1s steps(1) infinite;\n",
              "  }\n",
              "\n",
              "  @keyframes spin {\n",
              "    0% {\n",
              "      border-color: transparent;\n",
              "      border-bottom-color: var(--fill-color);\n",
              "      border-left-color: var(--fill-color);\n",
              "    }\n",
              "    20% {\n",
              "      border-color: transparent;\n",
              "      border-left-color: var(--fill-color);\n",
              "      border-top-color: var(--fill-color);\n",
              "    }\n",
              "    30% {\n",
              "      border-color: transparent;\n",
              "      border-left-color: var(--fill-color);\n",
              "      border-top-color: var(--fill-color);\n",
              "      border-right-color: var(--fill-color);\n",
              "    }\n",
              "    40% {\n",
              "      border-color: transparent;\n",
              "      border-right-color: var(--fill-color);\n",
              "      border-top-color: var(--fill-color);\n",
              "    }\n",
              "    60% {\n",
              "      border-color: transparent;\n",
              "      border-right-color: var(--fill-color);\n",
              "    }\n",
              "    80% {\n",
              "      border-color: transparent;\n",
              "      border-right-color: var(--fill-color);\n",
              "      border-bottom-color: var(--fill-color);\n",
              "    }\n",
              "    90% {\n",
              "      border-color: transparent;\n",
              "      border-bottom-color: var(--fill-color);\n",
              "    }\n",
              "  }\n",
              "</style>\n",
              "\n",
              "  <script>\n",
              "    async function quickchart(key) {\n",
              "      const quickchartButtonEl =\n",
              "        document.querySelector('#' + key + ' button');\n",
              "      quickchartButtonEl.disabled = true;  // To prevent multiple clicks.\n",
              "      quickchartButtonEl.classList.add('colab-df-spinner');\n",
              "      try {\n",
              "        const charts = await google.colab.kernel.invokeFunction(\n",
              "            'suggestCharts', [key], {});\n",
              "      } catch (error) {\n",
              "        console.error('Error during call to suggestCharts:', error);\n",
              "      }\n",
              "      quickchartButtonEl.classList.remove('colab-df-spinner');\n",
              "      quickchartButtonEl.classList.add('colab-df-quickchart-complete');\n",
              "    }\n",
              "    (() => {\n",
              "      let quickchartButtonEl =\n",
              "        document.querySelector('#df-6d85c334-bbcd-49c4-adcb-50e89fdd30de button');\n",
              "      quickchartButtonEl.style.display =\n",
              "        google.colab.kernel.accessAllowed ? 'block' : 'none';\n",
              "    })();\n",
              "  </script>\n",
              "</div>\n",
              "    </div>\n",
              "  </div>\n"
            ],
            "text/plain": [
              "           Word2vec - Base RF Model  Word2vec - RF with Grid Search  \\\n",
              "Accuracy                        1.0                        0.899902   \n",
              "Recall                          1.0                        0.899902   \n",
              "Precision                       1.0                        0.930303   \n",
              "F1                              1.0                        0.909139   \n",
              "\n",
              "           GloVe - Base RF Model  GloVe - RF with Grid Search  \n",
              "Accuracy                     1.0                     0.878966  \n",
              "Recall                       1.0                     0.878966  \n",
              "Precision                    1.0                     0.900951  \n",
              "F1                           1.0                     0.885326  "
            ]
          },
          "execution_count": 175,
          "metadata": {},
          "output_type": "execute_result"
        }
      ],
      "source": [
        "# training performance comparison\n",
        "\n",
        "models_train_comp_df = pd.concat(\n",
        "    [word2vec_base_train.T,word2vec_tuned_train.T,glove_base_train.T,glove_tuned_train.T],\n",
        "    axis=1,\n",
        ")\n",
        "models_train_comp_df.columns = [\n",
        "    \"Word2vec - Base RF Model\",\n",
        "    \"Word2vec - RF with Grid Search\",\n",
        "    \"GloVe - Base RF Model\",\n",
        "    \"GloVe - RF with Grid Search\"]\n",
        "print(\"Training performance comparison:\")\n",
        "\n",
        "models_train_comp_df"
      ]
    },
    {
      "cell_type": "code",
      "execution_count": null,
      "metadata": {
        "colab": {
          "base_uri": "https://localhost:8080/",
          "height": 193
        },
        "id": "S-Dm3kiDY3wB",
        "outputId": "08e388b1-b990-44aa-93dd-98dd83e83e4b"
      },
      "outputs": [
        {
          "name": "stdout",
          "output_type": "stream",
          "text": [
            "Testing performance comparison:\n"
          ]
        },
        {
          "data": {
            "text/html": [
              "\n",
              "  <div id=\"df-c0e544e6-5aa7-407c-8fbf-4201d3aa2319\" class=\"colab-df-container\">\n",
              "    <div>\n",
              "<style scoped>\n",
              "    .dataframe tbody tr th:only-of-type {\n",
              "        vertical-align: middle;\n",
              "    }\n",
              "\n",
              "    .dataframe tbody tr th {\n",
              "        vertical-align: top;\n",
              "    }\n",
              "\n",
              "    .dataframe thead th {\n",
              "        text-align: right;\n",
              "    }\n",
              "</style>\n",
              "<table border=\"1\" class=\"dataframe\">\n",
              "  <thead>\n",
              "    <tr style=\"text-align: right;\">\n",
              "      <th></th>\n",
              "      <th>Word2vec - Base RF Model</th>\n",
              "      <th>Word2vec - RF with Grid Search</th>\n",
              "      <th>GloVe - Base RF Model</th>\n",
              "      <th>GloVe - RF with Grid Search</th>\n",
              "    </tr>\n",
              "  </thead>\n",
              "  <tbody>\n",
              "    <tr>\n",
              "      <th>Accuracy</th>\n",
              "      <td>0.907753</td>\n",
              "      <td>0.861629</td>\n",
              "      <td>0.914622</td>\n",
              "      <td>0.860648</td>\n",
              "    </tr>\n",
              "    <tr>\n",
              "      <th>Recall</th>\n",
              "      <td>0.907753</td>\n",
              "      <td>0.861629</td>\n",
              "      <td>0.914622</td>\n",
              "      <td>0.860648</td>\n",
              "    </tr>\n",
              "    <tr>\n",
              "      <th>Precision</th>\n",
              "      <td>0.906588</td>\n",
              "      <td>0.887640</td>\n",
              "      <td>0.910578</td>\n",
              "      <td>0.880303</td>\n",
              "    </tr>\n",
              "    <tr>\n",
              "      <th>F1</th>\n",
              "      <td>0.884729</td>\n",
              "      <td>0.870849</td>\n",
              "      <td>0.899329</td>\n",
              "      <td>0.867467</td>\n",
              "    </tr>\n",
              "  </tbody>\n",
              "</table>\n",
              "</div>\n",
              "    <div class=\"colab-df-buttons\">\n",
              "\n",
              "  <div class=\"colab-df-container\">\n",
              "    <button class=\"colab-df-convert\" onclick=\"convertToInteractive('df-c0e544e6-5aa7-407c-8fbf-4201d3aa2319')\"\n",
              "            title=\"Convert this dataframe to an interactive table.\"\n",
              "            style=\"display:none;\">\n",
              "\n",
              "  <svg xmlns=\"http://www.w3.org/2000/svg\" height=\"24px\" viewBox=\"0 -960 960 960\">\n",
              "    <path d=\"M120-120v-720h720v720H120Zm60-500h600v-160H180v160Zm220 220h160v-160H400v160Zm0 220h160v-160H400v160ZM180-400h160v-160H180v160Zm440 0h160v-160H620v160ZM180-180h160v-160H180v160Zm440 0h160v-160H620v160Z\"/>\n",
              "  </svg>\n",
              "    </button>\n",
              "\n",
              "  <style>\n",
              "    .colab-df-container {\n",
              "      display:flex;\n",
              "      gap: 12px;\n",
              "    }\n",
              "\n",
              "    .colab-df-convert {\n",
              "      background-color: #E8F0FE;\n",
              "      border: none;\n",
              "      border-radius: 50%;\n",
              "      cursor: pointer;\n",
              "      display: none;\n",
              "      fill: #1967D2;\n",
              "      height: 32px;\n",
              "      padding: 0 0 0 0;\n",
              "      width: 32px;\n",
              "    }\n",
              "\n",
              "    .colab-df-convert:hover {\n",
              "      background-color: #E2EBFA;\n",
              "      box-shadow: 0px 1px 2px rgba(60, 64, 67, 0.3), 0px 1px 3px 1px rgba(60, 64, 67, 0.15);\n",
              "      fill: #174EA6;\n",
              "    }\n",
              "\n",
              "    .colab-df-buttons div {\n",
              "      margin-bottom: 4px;\n",
              "    }\n",
              "\n",
              "    [theme=dark] .colab-df-convert {\n",
              "      background-color: #3B4455;\n",
              "      fill: #D2E3FC;\n",
              "    }\n",
              "\n",
              "    [theme=dark] .colab-df-convert:hover {\n",
              "      background-color: #434B5C;\n",
              "      box-shadow: 0px 1px 3px 1px rgba(0, 0, 0, 0.15);\n",
              "      filter: drop-shadow(0px 1px 2px rgba(0, 0, 0, 0.3));\n",
              "      fill: #FFFFFF;\n",
              "    }\n",
              "  </style>\n",
              "\n",
              "    <script>\n",
              "      const buttonEl =\n",
              "        document.querySelector('#df-c0e544e6-5aa7-407c-8fbf-4201d3aa2319 button.colab-df-convert');\n",
              "      buttonEl.style.display =\n",
              "        google.colab.kernel.accessAllowed ? 'block' : 'none';\n",
              "\n",
              "      async function convertToInteractive(key) {\n",
              "        const element = document.querySelector('#df-c0e544e6-5aa7-407c-8fbf-4201d3aa2319');\n",
              "        const dataTable =\n",
              "          await google.colab.kernel.invokeFunction('convertToInteractive',\n",
              "                                                    [key], {});\n",
              "        if (!dataTable) return;\n",
              "\n",
              "        const docLinkHtml = 'Like what you see? Visit the ' +\n",
              "          '<a target=\"_blank\" href=https://colab.research.google.com/notebooks/data_table.ipynb>data table notebook</a>'\n",
              "          + ' to learn more about interactive tables.';\n",
              "        element.innerHTML = '';\n",
              "        dataTable['output_type'] = 'display_data';\n",
              "        await google.colab.output.renderOutput(dataTable, element);\n",
              "        const docLink = document.createElement('div');\n",
              "        docLink.innerHTML = docLinkHtml;\n",
              "        element.appendChild(docLink);\n",
              "      }\n",
              "    </script>\n",
              "  </div>\n",
              "\n",
              "\n",
              "<div id=\"df-e4347b95-af96-4ec8-b862-e152a397f229\">\n",
              "  <button class=\"colab-df-quickchart\" onclick=\"quickchart('df-e4347b95-af96-4ec8-b862-e152a397f229')\"\n",
              "            title=\"Suggest charts\"\n",
              "            style=\"display:none;\">\n",
              "\n",
              "<svg xmlns=\"http://www.w3.org/2000/svg\" height=\"24px\"viewBox=\"0 0 24 24\"\n",
              "     width=\"24px\">\n",
              "    <g>\n",
              "        <path d=\"M19 3H5c-1.1 0-2 .9-2 2v14c0 1.1.9 2 2 2h14c1.1 0 2-.9 2-2V5c0-1.1-.9-2-2-2zM9 17H7v-7h2v7zm4 0h-2V7h2v10zm4 0h-2v-4h2v4z\"/>\n",
              "    </g>\n",
              "</svg>\n",
              "  </button>\n",
              "\n",
              "<style>\n",
              "  .colab-df-quickchart {\n",
              "      --bg-color: #E8F0FE;\n",
              "      --fill-color: #1967D2;\n",
              "      --hover-bg-color: #E2EBFA;\n",
              "      --hover-fill-color: #174EA6;\n",
              "      --disabled-fill-color: #AAA;\n",
              "      --disabled-bg-color: #DDD;\n",
              "  }\n",
              "\n",
              "  [theme=dark] .colab-df-quickchart {\n",
              "      --bg-color: #3B4455;\n",
              "      --fill-color: #D2E3FC;\n",
              "      --hover-bg-color: #434B5C;\n",
              "      --hover-fill-color: #FFFFFF;\n",
              "      --disabled-bg-color: #3B4455;\n",
              "      --disabled-fill-color: #666;\n",
              "  }\n",
              "\n",
              "  .colab-df-quickchart {\n",
              "    background-color: var(--bg-color);\n",
              "    border: none;\n",
              "    border-radius: 50%;\n",
              "    cursor: pointer;\n",
              "    display: none;\n",
              "    fill: var(--fill-color);\n",
              "    height: 32px;\n",
              "    padding: 0;\n",
              "    width: 32px;\n",
              "  }\n",
              "\n",
              "  .colab-df-quickchart:hover {\n",
              "    background-color: var(--hover-bg-color);\n",
              "    box-shadow: 0 1px 2px rgba(60, 64, 67, 0.3), 0 1px 3px 1px rgba(60, 64, 67, 0.15);\n",
              "    fill: var(--button-hover-fill-color);\n",
              "  }\n",
              "\n",
              "  .colab-df-quickchart-complete:disabled,\n",
              "  .colab-df-quickchart-complete:disabled:hover {\n",
              "    background-color: var(--disabled-bg-color);\n",
              "    fill: var(--disabled-fill-color);\n",
              "    box-shadow: none;\n",
              "  }\n",
              "\n",
              "  .colab-df-spinner {\n",
              "    border: 2px solid var(--fill-color);\n",
              "    border-color: transparent;\n",
              "    border-bottom-color: var(--fill-color);\n",
              "    animation:\n",
              "      spin 1s steps(1) infinite;\n",
              "  }\n",
              "\n",
              "  @keyframes spin {\n",
              "    0% {\n",
              "      border-color: transparent;\n",
              "      border-bottom-color: var(--fill-color);\n",
              "      border-left-color: var(--fill-color);\n",
              "    }\n",
              "    20% {\n",
              "      border-color: transparent;\n",
              "      border-left-color: var(--fill-color);\n",
              "      border-top-color: var(--fill-color);\n",
              "    }\n",
              "    30% {\n",
              "      border-color: transparent;\n",
              "      border-left-color: var(--fill-color);\n",
              "      border-top-color: var(--fill-color);\n",
              "      border-right-color: var(--fill-color);\n",
              "    }\n",
              "    40% {\n",
              "      border-color: transparent;\n",
              "      border-right-color: var(--fill-color);\n",
              "      border-top-color: var(--fill-color);\n",
              "    }\n",
              "    60% {\n",
              "      border-color: transparent;\n",
              "      border-right-color: var(--fill-color);\n",
              "    }\n",
              "    80% {\n",
              "      border-color: transparent;\n",
              "      border-right-color: var(--fill-color);\n",
              "      border-bottom-color: var(--fill-color);\n",
              "    }\n",
              "    90% {\n",
              "      border-color: transparent;\n",
              "      border-bottom-color: var(--fill-color);\n",
              "    }\n",
              "  }\n",
              "</style>\n",
              "\n",
              "  <script>\n",
              "    async function quickchart(key) {\n",
              "      const quickchartButtonEl =\n",
              "        document.querySelector('#' + key + ' button');\n",
              "      quickchartButtonEl.disabled = true;  // To prevent multiple clicks.\n",
              "      quickchartButtonEl.classList.add('colab-df-spinner');\n",
              "      try {\n",
              "        const charts = await google.colab.kernel.invokeFunction(\n",
              "            'suggestCharts', [key], {});\n",
              "      } catch (error) {\n",
              "        console.error('Error during call to suggestCharts:', error);\n",
              "      }\n",
              "      quickchartButtonEl.classList.remove('colab-df-spinner');\n",
              "      quickchartButtonEl.classList.add('colab-df-quickchart-complete');\n",
              "    }\n",
              "    (() => {\n",
              "      let quickchartButtonEl =\n",
              "        document.querySelector('#df-e4347b95-af96-4ec8-b862-e152a397f229 button');\n",
              "      quickchartButtonEl.style.display =\n",
              "        google.colab.kernel.accessAllowed ? 'block' : 'none';\n",
              "    })();\n",
              "  </script>\n",
              "</div>\n",
              "    </div>\n",
              "  </div>\n"
            ],
            "text/plain": [
              "           Word2vec - Base RF Model  Word2vec - RF with Grid Search  \\\n",
              "Accuracy                   0.907753                        0.861629   \n",
              "Recall                     0.907753                        0.861629   \n",
              "Precision                  0.906588                        0.887640   \n",
              "F1                         0.884729                        0.870849   \n",
              "\n",
              "           GloVe - Base RF Model  GloVe - RF with Grid Search  \n",
              "Accuracy                0.914622                     0.860648  \n",
              "Recall                  0.914622                     0.860648  \n",
              "Precision               0.910578                     0.880303  \n",
              "F1                      0.899329                     0.867467  "
            ]
          },
          "execution_count": 176,
          "metadata": {},
          "output_type": "execute_result"
        }
      ],
      "source": [
        "# training performance comparison\n",
        "\n",
        "models_test_comp_df = pd.concat(\n",
        "    [word2vec_base_test.T,word2vec_tuned_test.T,glove_base_test.T,glove_tuned_test.T],\n",
        "    axis=1,\n",
        ")\n",
        "models_test_comp_df.columns = [\n",
        "    \"Word2vec - Base RF Model\",\n",
        "    \"Word2vec - RF with Grid Search\",\n",
        "    \"GloVe - Base RF Model\",\n",
        "    \"GloVe - RF with Grid Search\"]\n",
        "print(\"Testing performance comparison:\")\n",
        "\n",
        "models_test_comp_df"
      ]
    },
    {
      "cell_type": "markdown",
      "metadata": {
        "id": "jXwwKO9zuu3G"
      },
      "source": [
        "* From the above two metric tables, we can observe that **Word2vec - RF with Grid Search** model is giving generalized results."
      ]
    },
    {
      "cell_type": "code",
      "execution_count": null,
      "metadata": {
        "colab": {
          "base_uri": "https://localhost:8080/"
        },
        "id": "ZcdNcep43-rI",
        "outputId": "864ced44-ea0b-4f92-ee23-cd0116b41dc7"
      },
      "outputs": [
        {
          "name": "stdout",
          "output_type": "stream",
          "text": [
            "               precision    recall  f1-score   support\n",
            "\n",
            "     business       0.41      0.74      0.53        35\n",
            "entertainment       0.56      0.53      0.54        19\n",
            "       health       0.21      0.38      0.27        13\n",
            "         news       0.88      0.79      0.83       405\n",
            "     politics       0.54      0.85      0.66        26\n",
            "        sport       0.97      0.95      0.96       521\n",
            "\n",
            "     accuracy                           0.86      1019\n",
            "    macro avg       0.59      0.71      0.63      1019\n",
            " weighted avg       0.89      0.86      0.87      1019\n",
            "\n"
          ]
        }
      ],
      "source": [
        "label_list = encoder.classes_.tolist()\n",
        "print(classification_report(y_test_enc, y_pred_test_tuned, target_names=label_list))"
      ]
    },
    {
      "cell_type": "markdown",
      "metadata": {
        "id": "POiZVSfrpmRf"
      },
      "source": [
        "## Conclusion"
      ]
    },
    {
      "cell_type": "markdown",
      "metadata": {
        "id": "-aetabA3poIq"
      },
      "source": [
        "- We analyzed the distribution of categories of the article.\n",
        "\n",
        "- We used different text processing techniques to clean the raw text data.\n",
        "\n",
        "- We then built ML models (Random Forest) with the word embeddings created using Word2vec and GloVe.\n",
        "\n",
        "- We then tuned the ML models built using GridSearch to improve the performance"
      ]
    },
    {
      "cell_type": "markdown",
      "metadata": {
        "id": "kEXtBjG_oYwj"
      },
      "source": [
        "- The tuned Random Forest model using Word2vec embeddings is taken as our final model as it has a good performance overall (86\\% accuracy and 86\\% recall).\n",
        "    - The model can be tuned further or a different model can be trained to model the data better.\n",
        "\n",
        "- The company can deploy this model to categorize future articles based on the article text.\n",
        "\n",
        "- The model does well in the sports, politics, news, and business categories. This coincides with the categories where the number of training and testing samples were higher in number.\n",
        "\n",
        "- The model does not do very well in the entertainment and health categories as there aren't many training samples available here.\n",
        "    - The company can collect more samples of these categories and retrain the model to get a better prediction."
      ]
    },
    {
      "cell_type": "markdown",
      "metadata": {
        "id": "G2Lw8akCLT9c"
      },
      "source": [
        "<font size=6 color='blue'>Power Ahead</font>\n",
        "___"
      ]
    }
  ],
  "metadata": {
    "accelerator": "GPU",
    "colab": {
      "collapsed_sections": [
        "MjncuDf2qugI",
        "x9VSf2D_F5iU",
        "MzSKXh2LsOvd",
        "saFx1pbT_zTP",
        "tqfNqaJCQeEE",
        "fantastic-rebel",
        "vvlzvKeqAH-i",
        "cIH4md8nAL4v",
        "NuWYF7W_AQx_",
        "EBuO6NvsAT1k",
        "lIICk5hF_xW7",
        "kUJ_B5KxhU3D",
        "Yzi68_PYAlof",
        "akIOIRhfbvG8",
        "gnPICJ-WbvHD",
        "gwLKrCYpAyyh",
        "ZCM6avoA39FB",
        "If-ARLxSFAHM",
        "01_KoswobW9D",
        "4IUBFAOTbjju",
        "ldBJrHYXcSJD",
        "f4lwYN5bYmHp",
        "_TYy1g3ShksM",
        "R0bCBGK5Tcxa",
        "iLS7b3bWNkKs",
        "0vgMuXQwklFw",
        "aeNmBOKAU8Py",
        "4rUKo0qOWkzw",
        "DrphT98WvIRu",
        "POiZVSfrpmRf"
      ],
      "provenance": []
    },
    "kernelspec": {
      "display_name": "Python 3",
      "name": "python3"
    },
    "language_info": {
      "name": "python"
    }
  },
  "nbformat": 4,
  "nbformat_minor": 0
}
