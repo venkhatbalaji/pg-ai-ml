{
  "cells": [
    {
      "cell_type": "markdown",
      "source": [
        "<center><font size=10>Transformers - Hands-on</font></center>"
      ],
      "metadata": {
        "id": "WcyZl15-XLCn"
      }
    },
    {
      "cell_type": "markdown",
      "metadata": {
        "id": "K2LDhwQ6yiH-"
      },
      "source": [
        "## **Problem Statement**"
      ]
    },
    {
      "cell_type": "markdown",
      "source": [
        "In the fast-evolving landscape of the entertainment industry, it is important to gauge audience sentiments towards movie releases. Understanding the sentiments expressed in movie reviews is crucial for shaping marketing strategies, refining content creation, and ultimately enhancing the overall viewer experience. However, manually analyzing an extensive volume of reviews is time-consuming and may not capture nuanced sentiments at scale. To address this, we aim to develop an ML-based sentiment analyzer that automatically evaluates movie reviews, providing actionable insights into audience perceptions."
      ],
      "metadata": {
        "id": "x8moNwP1Jcux"
      }
    },
    {
      "cell_type": "markdown",
      "source": [
        "### **Data Dictionary**"
      ],
      "metadata": {
        "id": "3g6KybbxJkoE"
      }
    },
    {
      "cell_type": "markdown",
      "source": [
        "- **review:** review of a movie\n",
        "- **sentiment:** indicates the sentiment of the review ( 0 is for negative review and 1 for positive review)"
      ],
      "metadata": {
        "id": "M2nMV1OIJp53"
      }
    },
    {
      "cell_type": "markdown",
      "metadata": {
        "id": "svwbW6qDUB_B"
      },
      "source": [
        "## **Installing Necessary libraries**"
      ]
    },
    {
      "cell_type": "code",
      "execution_count": null,
      "metadata": {
        "colab": {
          "base_uri": "https://localhost:8080/"
        },
        "id": "EvO3P-BZT-ZV",
        "outputId": "95f20830-0b20-43b2-f781-8f630d1ab9a2"
      },
      "outputs": [
        {
          "output_type": "stream",
          "name": "stdout",
          "text": [
            "\u001b[?25l     \u001b[90m━━━━━━━━━━━━━━━━━━━━━━━━━━━━━━━━━━━━━━━━\u001b[0m \u001b[32m0.0/86.0 kB\u001b[0m \u001b[31m?\u001b[0m eta \u001b[36m-:--:--\u001b[0m\r\u001b[2K     \u001b[91m━━━━━━━━━━━━━━━━━━━━━━━━━━━━━━━━━━━━━━\u001b[0m\u001b[90m╺\u001b[0m\u001b[90m━\u001b[0m \u001b[32m81.9/86.0 kB\u001b[0m \u001b[31m3.0 MB/s\u001b[0m eta \u001b[36m0:00:01\u001b[0m\r\u001b[2K     \u001b[90m━━━━━━━━━━━━━━━━━━━━━━━━━━━━━━━━━━━━━━━━\u001b[0m \u001b[32m86.0/86.0 kB\u001b[0m \u001b[31m2.1 MB/s\u001b[0m eta \u001b[36m0:00:00\u001b[0m\n",
            "\u001b[?25h  Preparing metadata (setup.py) ... \u001b[?25l\u001b[?25hdone\n",
            "\u001b[2K     \u001b[90m━━━━━━━━━━━━━━━━━━━━━━━━━━━━━━━━━━━━━━━━\u001b[0m \u001b[32m8.2/8.2 MB\u001b[0m \u001b[31m24.6 MB/s\u001b[0m eta \u001b[36m0:00:00\u001b[0m\n",
            "\u001b[2K     \u001b[90m━━━━━━━━━━━━━━━━━━━━━━━━━━━━━━━━━━━━━━━━\u001b[0m \u001b[32m105.0/105.0 MB\u001b[0m \u001b[31m5.7 MB/s\u001b[0m eta \u001b[36m0:00:00\u001b[0m\n",
            "\u001b[2K     \u001b[90m━━━━━━━━━━━━━━━━━━━━━━━━━━━━━━━━━━━━━━━━\u001b[0m \u001b[32m270.9/270.9 kB\u001b[0m \u001b[31m11.9 MB/s\u001b[0m eta \u001b[36m0:00:00\u001b[0m\n",
            "\u001b[2K     \u001b[90m━━━━━━━━━━━━━━━━━━━━━━━━━━━━━━━━━━━━━━━━\u001b[0m \u001b[32m1.3/1.3 MB\u001b[0m \u001b[31m31.4 MB/s\u001b[0m eta \u001b[36m0:00:00\u001b[0m\n",
            "\u001b[?25h  Building wheel for sentence-transformers (setup.py) ... \u001b[?25l\u001b[?25hdone\n"
          ]
        }
      ],
      "source": [
        "# installing the libraries for transformers\n",
        "!pip install -U -q sentence-transformers transformers bitsandbytes accelerate sentencepiece"
      ]
    },
    {
      "cell_type": "markdown",
      "metadata": {
        "id": "AvgpBQQKUJEY"
      },
      "source": [
        "## **Importing Necessary Libraries**"
      ]
    },
    {
      "cell_type": "code",
      "execution_count": null,
      "metadata": {
        "id": "_wQcECiEUNy0"
      },
      "outputs": [],
      "source": [
        "# to read and manipulate the data\n",
        "import pandas as pd\n",
        "import numpy as np\n",
        "pd.set_option('max_colwidth', None)    # setting column to the maximum column width as per the data\n",
        "\n",
        "# to visualise data\n",
        "import matplotlib.pyplot as plt\n",
        "import seaborn as sns\n",
        "\n",
        "# Deep Learning library\n",
        "import torch\n",
        "\n",
        "# to load transformer models\n",
        "from sentence_transformers import SentenceTransformer\n",
        "from transformers import T5Tokenizer, T5ForConditionalGeneration, pipeline\n",
        "\n",
        "# to split the data\n",
        "from sklearn.model_selection import train_test_split\n",
        "\n",
        "# to compute performance metrics\n",
        "from sklearn.metrics import confusion_matrix, classification_report, accuracy_score\n",
        "\n",
        "# To build a Random Forest model\n",
        "from sklearn.ensemble import RandomForestClassifier\n",
        "\n",
        "\n",
        "# to ignore unnecessary warnings\n",
        "import warnings\n",
        "warnings.filterwarnings(\"ignore\")"
      ]
    },
    {
      "cell_type": "markdown",
      "metadata": {
        "id": "0GsZAWm0BiCQ"
      },
      "source": [
        "## **Importing the dataset**"
      ]
    },
    {
      "cell_type": "code",
      "source": [
        "# to mount Google Drive\n",
        "from google.colab import drive\n",
        "drive.mount('/content/drive')"
      ],
      "metadata": {
        "colab": {
          "base_uri": "https://localhost:8080/"
        },
        "id": "XchIs4t-DphC",
        "outputId": "ca5fbc05-aabe-413b-bb8f-5fce8076cec5"
      },
      "execution_count": null,
      "outputs": [
        {
          "output_type": "stream",
          "name": "stdout",
          "text": [
            "Mounted at /content/drive\n"
          ]
        }
      ]
    },
    {
      "cell_type": "code",
      "execution_count": null,
      "metadata": {
        "id": "CThCS4NJzw8S"
      },
      "outputs": [],
      "source": [
        "# loading data into a pandas dataframe\n",
        "reviews = pd.read_csv(\"/content/drive/MyDrive/GL/NLP/movie_reviews.csv\")"
      ]
    },
    {
      "cell_type": "code",
      "execution_count": null,
      "metadata": {
        "id": "qEvz0b9gzw8U"
      },
      "outputs": [],
      "source": [
        "# creating a copy of the data\n",
        "data = reviews.copy()"
      ]
    },
    {
      "cell_type": "markdown",
      "metadata": {
        "id": "ckwD7uwlsZwm"
      },
      "source": [
        "## **Data Overview**"
      ]
    },
    {
      "cell_type": "markdown",
      "source": [
        "### **Checking the first 5 rows**"
      ],
      "metadata": {
        "id": "mhzSVF82YYri"
      }
    },
    {
      "cell_type": "code",
      "execution_count": null,
      "metadata": {
        "id": "bj4-QHJ6BiCS",
        "outputId": "e901b69c-fabc-461f-b077-8b539437f87d",
        "colab": {
          "base_uri": "https://localhost:8080/",
          "height": 762
        }
      },
      "outputs": [
        {
          "output_type": "execute_result",
          "data": {
            "text/plain": [
              "                                                                                                                                                                                                                                                                                                                                                                                                                                                                                                                                                                                                                                                                                                                                                                                                                                                                                                                                                                                                                                                                                                                                                                                                                                                                                                                                                                                                                                                                                                                                                                                                                                                                                                                                                                                                                                                                                         review  \\\n",
              "0                                                                                                                                                                                                                                                                                                                                                                                                                                                                                                                                                                                                                                                                                                                                                                                                                                                                                                                                                                                                                                                                          Okay, I know this does'nt project India in a good light. But the overall theme of the movie is not India, it's Shakti. The power of a warlord, and the power of a mother. The relationship between Nandini and her husband and son swallow you up in their warmth. Then things go terribly wrong. The interaction between Nandini and her father in law - the power of their dysfunctional relationship - and the lives changed by it are the strengths of this movie. Shah Rukh Khan's performance seems to be a mere cameo compared to the believable desperation of Karisma Kapoor. It is easy to get caught up in the love, violence and redemption of lives in this film, and find yourself heaving a sigh of relief and sadness at the climax. The musical interludes are strengths, believable and well done.   \n",
              "1  Despite John Travolta's statements in interviews that this was his favorite role of his career, \"Be Cool\" proves to be a disappointing sequel to 1995's witty and clever \"Get Shorty.\"<br /><br />Travolta delivers a pleasant enough performance in this mildly entertaining film, but ultimately the movie falls flat due to an underdeveloped plot, unlikeable characters, and a surprising lack of chemistry between leads Travolta and Uma Thurman. Although there are some laughs, this unfunny dialog example (which appeared frequently in the trailers) kind of says it all: Thurman: Do you dance? Travolta: Hey, I'm from Brooklyn.<br /><br />The film suggests that everyone in the entertainment business is a gangster or aspires to be one, likening it to organized crime. In \"Get Shorty,\" the premise of a gangster \"going legitimate\" by getting into movies was a clever fish-out-of water idea, but in \"Be Cool,\" it seems the biz has entirely gone crooked since then.<br /><br />The film is interestingly casted and the absolute highlight is a \"monolgue\" delivered by The Rock, whose character is an aspiring actor as well as a goon, where he reenacts a scene between Gabrielle Union and Kirsten Dunst from \"Bring It On.\" Vince Vaughan's character thinks he's black and he's often seen dressed as a pimp-- this was quite funny in the first scene that introduces him and gets tired and embarrassing almost immediately afterward.<br /><br />Overall, \"Be Cool\" may be worth a rental for John Travolta die-hards (of which I am one), but you may want to keep your finger close to the fast forward button to get through it without feeling that you wasted too much time. Fans of \"Get Shorty\" may actually wish to avoid this, as the sequel is devoid of most things that made that one a winner. I rate this movie an admittedly harsh 4/10.   \n",
              "2                                                                                                                                                                                                                                                                                                                                                                                                                                                                                                                                                                                                                                                                                 I am a kung fu fan, but not a Woo fan. I have no interest in gangster movies filled with over-the-top gun-play. Now, martial arts; *that's* beautiful! And John Woo surprised me here by producing a highly entertaining kung fu movie, which almost has *too much* fighting, if such a thing is possible! This is good stuff.<br /><br />Many of the fight scenes are very good (and some of them are less good), and the main characters are amusing and likable. The bad guys are a bit too unbelievably evil, but entertaining none the less. You gotta see the Sleeping Wizard!! He can only fight when he's asleep - it's hysterical!<br /><br />Upon repeated viewings, however, Last Hurrah For Chivalry can tend to get a little boring and long-winded, also especially because many of the fight scenes are actually not that good. Hence, I rate it \"only\" a 7 out of 10. But it really is almost an \"8\".<br /><br />All in all one of the better kung fu movies, made smack-dab in the heart of kung fu cinema's prime. All the really good kung fu movies are from the mid- to late 1970ies, with some notable exceptions from the late '60ies and early '70ies (and early '80ies, to be fair).   \n",
              "3                                                                                                                                                                                                                                                                                                                                                                                                                                                                                                                                                                                                                                                                                                                                                                                                                                                                                                                                                                                                                                                                                                                                             He seems to be a control freak. I have heard him comment on \"losing control of the show\" and tell another guest who brought live animals that he had one rule-\"no snakes.\" He needs to hire a comedy writer because his jokes are lame. The only reason I watch him is because he some some great guests and bands. <br /><br />I watched the Craig Ferguson show for a while but his show is even worse. He likes to bull sh** to burn time.I don't think either man has much of a future in late night talk shows.<br /><br />Daily also has the annoying habit of sticking his tongue out to lick his lips. He must do this at least 10 times a show. I do like the Joe Firstman band. Carson Daily needs to lighten up before it is too late.   \n",
              "4                                                                                                                                                                                                                                                                                                                                                                                                                                                                           Admittedly, there are some scenes in this movie that seem a little unrealistic. The ravishing woman first panics and then, only a few minutes later, she starts kissing the young lad while the old guy is right next to her. But as the film goes along we learn that she is a little volatile girl (or slut) and that partly explains her behavior. The cinematography of this movie is well done. We get to see the elevator from almost every angle and perspective, and some of those images and scenes really raise the tension. Götz George plays his character well, a wannabe hot-shot getting old and being overpowered by young men like the Jaennicke character. Wolfgang Kieling who I admired in Hitchcock's THE TORN CURTAIN delivers a great performance that, although he doesn't say much, he is by far the best actor in this play. One critic complained about how unrealistic the film was and that in a real case of emergency nothing would really happen. But then again, how realistic are films such as Mission impossible or Phone Booth. Given the fact that we are talking about a movie here, and that in a movie you always have to deal with some scenes that aren't very likely to occur in real life, you can still enjoy this movie. It's a lot better than many things that I see on German TV these days and I think that the vintage 80's style added something to this film.   \n",
              "\n",
              "   sentiment  \n",
              "0          1  \n",
              "1          0  \n",
              "2          1  \n",
              "3          0  \n",
              "4          1  "
            ],
            "text/html": [
              "\n",
              "  <div id=\"df-981e4f28-18a2-4908-ab06-45a6313a6442\" class=\"colab-df-container\">\n",
              "    <div>\n",
              "<style scoped>\n",
              "    .dataframe tbody tr th:only-of-type {\n",
              "        vertical-align: middle;\n",
              "    }\n",
              "\n",
              "    .dataframe tbody tr th {\n",
              "        vertical-align: top;\n",
              "    }\n",
              "\n",
              "    .dataframe thead th {\n",
              "        text-align: right;\n",
              "    }\n",
              "</style>\n",
              "<table border=\"1\" class=\"dataframe\">\n",
              "  <thead>\n",
              "    <tr style=\"text-align: right;\">\n",
              "      <th></th>\n",
              "      <th>review</th>\n",
              "      <th>sentiment</th>\n",
              "    </tr>\n",
              "  </thead>\n",
              "  <tbody>\n",
              "    <tr>\n",
              "      <th>0</th>\n",
              "      <td>Okay, I know this does'nt project India in a good light. But the overall theme of the movie is not India, it's Shakti. The power of a warlord, and the power of a mother. The relationship between Nandini and her husband and son swallow you up in their warmth. Then things go terribly wrong. The interaction between Nandini and her father in law - the power of their dysfunctional relationship - and the lives changed by it are the strengths of this movie. Shah Rukh Khan's performance seems to be a mere cameo compared to the believable desperation of Karisma Kapoor. It is easy to get caught up in the love, violence and redemption of lives in this film, and find yourself heaving a sigh of relief and sadness at the climax. The musical interludes are strengths, believable and well done.</td>\n",
              "      <td>1</td>\n",
              "    </tr>\n",
              "    <tr>\n",
              "      <th>1</th>\n",
              "      <td>Despite John Travolta's statements in interviews that this was his favorite role of his career, \"Be Cool\" proves to be a disappointing sequel to 1995's witty and clever \"Get Shorty.\"&lt;br /&gt;&lt;br /&gt;Travolta delivers a pleasant enough performance in this mildly entertaining film, but ultimately the movie falls flat due to an underdeveloped plot, unlikeable characters, and a surprising lack of chemistry between leads Travolta and Uma Thurman. Although there are some laughs, this unfunny dialog example (which appeared frequently in the trailers) kind of says it all: Thurman: Do you dance? Travolta: Hey, I'm from Brooklyn.&lt;br /&gt;&lt;br /&gt;The film suggests that everyone in the entertainment business is a gangster or aspires to be one, likening it to organized crime. In \"Get Shorty,\" the premise of a gangster \"going legitimate\" by getting into movies was a clever fish-out-of water idea, but in \"Be Cool,\" it seems the biz has entirely gone crooked since then.&lt;br /&gt;&lt;br /&gt;The film is interestingly casted and the absolute highlight is a \"monolgue\" delivered by The Rock, whose character is an aspiring actor as well as a goon, where he reenacts a scene between Gabrielle Union and Kirsten Dunst from \"Bring It On.\" Vince Vaughan's character thinks he's black and he's often seen dressed as a pimp-- this was quite funny in the first scene that introduces him and gets tired and embarrassing almost immediately afterward.&lt;br /&gt;&lt;br /&gt;Overall, \"Be Cool\" may be worth a rental for John Travolta die-hards (of which I am one), but you may want to keep your finger close to the fast forward button to get through it without feeling that you wasted too much time. Fans of \"Get Shorty\" may actually wish to avoid this, as the sequel is devoid of most things that made that one a winner. I rate this movie an admittedly harsh 4/10.</td>\n",
              "      <td>0</td>\n",
              "    </tr>\n",
              "    <tr>\n",
              "      <th>2</th>\n",
              "      <td>I am a kung fu fan, but not a Woo fan. I have no interest in gangster movies filled with over-the-top gun-play. Now, martial arts; *that's* beautiful! And John Woo surprised me here by producing a highly entertaining kung fu movie, which almost has *too much* fighting, if such a thing is possible! This is good stuff.&lt;br /&gt;&lt;br /&gt;Many of the fight scenes are very good (and some of them are less good), and the main characters are amusing and likable. The bad guys are a bit too unbelievably evil, but entertaining none the less. You gotta see the Sleeping Wizard!! He can only fight when he's asleep - it's hysterical!&lt;br /&gt;&lt;br /&gt;Upon repeated viewings, however, Last Hurrah For Chivalry can tend to get a little boring and long-winded, also especially because many of the fight scenes are actually not that good. Hence, I rate it \"only\" a 7 out of 10. But it really is almost an \"8\".&lt;br /&gt;&lt;br /&gt;All in all one of the better kung fu movies, made smack-dab in the heart of kung fu cinema's prime. All the really good kung fu movies are from the mid- to late 1970ies, with some notable exceptions from the late '60ies and early '70ies (and early '80ies, to be fair).</td>\n",
              "      <td>1</td>\n",
              "    </tr>\n",
              "    <tr>\n",
              "      <th>3</th>\n",
              "      <td>He seems to be a control freak. I have heard him comment on \"losing control of the show\" and tell another guest who brought live animals that he had one rule-\"no snakes.\" He needs to hire a comedy writer because his jokes are lame. The only reason I watch him is because he some some great guests and bands. &lt;br /&gt;&lt;br /&gt;I watched the Craig Ferguson show for a while but his show is even worse. He likes to bull sh** to burn time.I don't think either man has much of a future in late night talk shows.&lt;br /&gt;&lt;br /&gt;Daily also has the annoying habit of sticking his tongue out to lick his lips. He must do this at least 10 times a show. I do like the Joe Firstman band. Carson Daily needs to lighten up before it is too late.</td>\n",
              "      <td>0</td>\n",
              "    </tr>\n",
              "    <tr>\n",
              "      <th>4</th>\n",
              "      <td>Admittedly, there are some scenes in this movie that seem a little unrealistic. The ravishing woman first panics and then, only a few minutes later, she starts kissing the young lad while the old guy is right next to her. But as the film goes along we learn that she is a little volatile girl (or slut) and that partly explains her behavior. The cinematography of this movie is well done. We get to see the elevator from almost every angle and perspective, and some of those images and scenes really raise the tension. Götz George plays his character well, a wannabe hot-shot getting old and being overpowered by young men like the Jaennicke character. Wolfgang Kieling who I admired in Hitchcock's THE TORN CURTAIN delivers a great performance that, although he doesn't say much, he is by far the best actor in this play. One critic complained about how unrealistic the film was and that in a real case of emergency nothing would really happen. But then again, how realistic are films such as Mission impossible or Phone Booth. Given the fact that we are talking about a movie here, and that in a movie you always have to deal with some scenes that aren't very likely to occur in real life, you can still enjoy this movie. It's a lot better than many things that I see on German TV these days and I think that the vintage 80's style added something to this film.</td>\n",
              "      <td>1</td>\n",
              "    </tr>\n",
              "  </tbody>\n",
              "</table>\n",
              "</div>\n",
              "    <div class=\"colab-df-buttons\">\n",
              "\n",
              "  <div class=\"colab-df-container\">\n",
              "    <button class=\"colab-df-convert\" onclick=\"convertToInteractive('df-981e4f28-18a2-4908-ab06-45a6313a6442')\"\n",
              "            title=\"Convert this dataframe to an interactive table.\"\n",
              "            style=\"display:none;\">\n",
              "\n",
              "  <svg xmlns=\"http://www.w3.org/2000/svg\" height=\"24px\" viewBox=\"0 -960 960 960\">\n",
              "    <path d=\"M120-120v-720h720v720H120Zm60-500h600v-160H180v160Zm220 220h160v-160H400v160Zm0 220h160v-160H400v160ZM180-400h160v-160H180v160Zm440 0h160v-160H620v160ZM180-180h160v-160H180v160Zm440 0h160v-160H620v160Z\"/>\n",
              "  </svg>\n",
              "    </button>\n",
              "\n",
              "  <style>\n",
              "    .colab-df-container {\n",
              "      display:flex;\n",
              "      gap: 12px;\n",
              "    }\n",
              "\n",
              "    .colab-df-convert {\n",
              "      background-color: #E8F0FE;\n",
              "      border: none;\n",
              "      border-radius: 50%;\n",
              "      cursor: pointer;\n",
              "      display: none;\n",
              "      fill: #1967D2;\n",
              "      height: 32px;\n",
              "      padding: 0 0 0 0;\n",
              "      width: 32px;\n",
              "    }\n",
              "\n",
              "    .colab-df-convert:hover {\n",
              "      background-color: #E2EBFA;\n",
              "      box-shadow: 0px 1px 2px rgba(60, 64, 67, 0.3), 0px 1px 3px 1px rgba(60, 64, 67, 0.15);\n",
              "      fill: #174EA6;\n",
              "    }\n",
              "\n",
              "    .colab-df-buttons div {\n",
              "      margin-bottom: 4px;\n",
              "    }\n",
              "\n",
              "    [theme=dark] .colab-df-convert {\n",
              "      background-color: #3B4455;\n",
              "      fill: #D2E3FC;\n",
              "    }\n",
              "\n",
              "    [theme=dark] .colab-df-convert:hover {\n",
              "      background-color: #434B5C;\n",
              "      box-shadow: 0px 1px 3px 1px rgba(0, 0, 0, 0.15);\n",
              "      filter: drop-shadow(0px 1px 2px rgba(0, 0, 0, 0.3));\n",
              "      fill: #FFFFFF;\n",
              "    }\n",
              "  </style>\n",
              "\n",
              "    <script>\n",
              "      const buttonEl =\n",
              "        document.querySelector('#df-981e4f28-18a2-4908-ab06-45a6313a6442 button.colab-df-convert');\n",
              "      buttonEl.style.display =\n",
              "        google.colab.kernel.accessAllowed ? 'block' : 'none';\n",
              "\n",
              "      async function convertToInteractive(key) {\n",
              "        const element = document.querySelector('#df-981e4f28-18a2-4908-ab06-45a6313a6442');\n",
              "        const dataTable =\n",
              "          await google.colab.kernel.invokeFunction('convertToInteractive',\n",
              "                                                    [key], {});\n",
              "        if (!dataTable) return;\n",
              "\n",
              "        const docLinkHtml = 'Like what you see? Visit the ' +\n",
              "          '<a target=\"_blank\" href=https://colab.research.google.com/notebooks/data_table.ipynb>data table notebook</a>'\n",
              "          + ' to learn more about interactive tables.';\n",
              "        element.innerHTML = '';\n",
              "        dataTable['output_type'] = 'display_data';\n",
              "        await google.colab.output.renderOutput(dataTable, element);\n",
              "        const docLink = document.createElement('div');\n",
              "        docLink.innerHTML = docLinkHtml;\n",
              "        element.appendChild(docLink);\n",
              "      }\n",
              "    </script>\n",
              "  </div>\n",
              "\n",
              "\n",
              "<div id=\"df-785a78ac-9a6d-4285-b127-801a27a28957\">\n",
              "  <button class=\"colab-df-quickchart\" onclick=\"quickchart('df-785a78ac-9a6d-4285-b127-801a27a28957')\"\n",
              "            title=\"Suggest charts\"\n",
              "            style=\"display:none;\">\n",
              "\n",
              "<svg xmlns=\"http://www.w3.org/2000/svg\" height=\"24px\"viewBox=\"0 0 24 24\"\n",
              "     width=\"24px\">\n",
              "    <g>\n",
              "        <path d=\"M19 3H5c-1.1 0-2 .9-2 2v14c0 1.1.9 2 2 2h14c1.1 0 2-.9 2-2V5c0-1.1-.9-2-2-2zM9 17H7v-7h2v7zm4 0h-2V7h2v10zm4 0h-2v-4h2v4z\"/>\n",
              "    </g>\n",
              "</svg>\n",
              "  </button>\n",
              "\n",
              "<style>\n",
              "  .colab-df-quickchart {\n",
              "      --bg-color: #E8F0FE;\n",
              "      --fill-color: #1967D2;\n",
              "      --hover-bg-color: #E2EBFA;\n",
              "      --hover-fill-color: #174EA6;\n",
              "      --disabled-fill-color: #AAA;\n",
              "      --disabled-bg-color: #DDD;\n",
              "  }\n",
              "\n",
              "  [theme=dark] .colab-df-quickchart {\n",
              "      --bg-color: #3B4455;\n",
              "      --fill-color: #D2E3FC;\n",
              "      --hover-bg-color: #434B5C;\n",
              "      --hover-fill-color: #FFFFFF;\n",
              "      --disabled-bg-color: #3B4455;\n",
              "      --disabled-fill-color: #666;\n",
              "  }\n",
              "\n",
              "  .colab-df-quickchart {\n",
              "    background-color: var(--bg-color);\n",
              "    border: none;\n",
              "    border-radius: 50%;\n",
              "    cursor: pointer;\n",
              "    display: none;\n",
              "    fill: var(--fill-color);\n",
              "    height: 32px;\n",
              "    padding: 0;\n",
              "    width: 32px;\n",
              "  }\n",
              "\n",
              "  .colab-df-quickchart:hover {\n",
              "    background-color: var(--hover-bg-color);\n",
              "    box-shadow: 0 1px 2px rgba(60, 64, 67, 0.3), 0 1px 3px 1px rgba(60, 64, 67, 0.15);\n",
              "    fill: var(--button-hover-fill-color);\n",
              "  }\n",
              "\n",
              "  .colab-df-quickchart-complete:disabled,\n",
              "  .colab-df-quickchart-complete:disabled:hover {\n",
              "    background-color: var(--disabled-bg-color);\n",
              "    fill: var(--disabled-fill-color);\n",
              "    box-shadow: none;\n",
              "  }\n",
              "\n",
              "  .colab-df-spinner {\n",
              "    border: 2px solid var(--fill-color);\n",
              "    border-color: transparent;\n",
              "    border-bottom-color: var(--fill-color);\n",
              "    animation:\n",
              "      spin 1s steps(1) infinite;\n",
              "  }\n",
              "\n",
              "  @keyframes spin {\n",
              "    0% {\n",
              "      border-color: transparent;\n",
              "      border-bottom-color: var(--fill-color);\n",
              "      border-left-color: var(--fill-color);\n",
              "    }\n",
              "    20% {\n",
              "      border-color: transparent;\n",
              "      border-left-color: var(--fill-color);\n",
              "      border-top-color: var(--fill-color);\n",
              "    }\n",
              "    30% {\n",
              "      border-color: transparent;\n",
              "      border-left-color: var(--fill-color);\n",
              "      border-top-color: var(--fill-color);\n",
              "      border-right-color: var(--fill-color);\n",
              "    }\n",
              "    40% {\n",
              "      border-color: transparent;\n",
              "      border-right-color: var(--fill-color);\n",
              "      border-top-color: var(--fill-color);\n",
              "    }\n",
              "    60% {\n",
              "      border-color: transparent;\n",
              "      border-right-color: var(--fill-color);\n",
              "    }\n",
              "    80% {\n",
              "      border-color: transparent;\n",
              "      border-right-color: var(--fill-color);\n",
              "      border-bottom-color: var(--fill-color);\n",
              "    }\n",
              "    90% {\n",
              "      border-color: transparent;\n",
              "      border-bottom-color: var(--fill-color);\n",
              "    }\n",
              "  }\n",
              "</style>\n",
              "\n",
              "  <script>\n",
              "    async function quickchart(key) {\n",
              "      const quickchartButtonEl =\n",
              "        document.querySelector('#' + key + ' button');\n",
              "      quickchartButtonEl.disabled = true;  // To prevent multiple clicks.\n",
              "      quickchartButtonEl.classList.add('colab-df-spinner');\n",
              "      try {\n",
              "        const charts = await google.colab.kernel.invokeFunction(\n",
              "            'suggestCharts', [key], {});\n",
              "      } catch (error) {\n",
              "        console.error('Error during call to suggestCharts:', error);\n",
              "      }\n",
              "      quickchartButtonEl.classList.remove('colab-df-spinner');\n",
              "      quickchartButtonEl.classList.add('colab-df-quickchart-complete');\n",
              "    }\n",
              "    (() => {\n",
              "      let quickchartButtonEl =\n",
              "        document.querySelector('#df-785a78ac-9a6d-4285-b127-801a27a28957 button');\n",
              "      quickchartButtonEl.style.display =\n",
              "        google.colab.kernel.accessAllowed ? 'block' : 'none';\n",
              "    })();\n",
              "  </script>\n",
              "</div>\n",
              "\n",
              "    </div>\n",
              "  </div>\n"
            ]
          },
          "metadata": {},
          "execution_count": 7
        }
      ],
      "source": [
        "data.head(5)"
      ]
    },
    {
      "cell_type": "markdown",
      "metadata": {
        "id": "Ae1F8t91zw8U"
      },
      "source": [
        "* Here, a sentiment value of **0 is negative** and **1 is positive**."
      ]
    },
    {
      "cell_type": "markdown",
      "source": [
        "### **Checking the shape of the data**"
      ],
      "metadata": {
        "id": "62xkzNTFYmyq"
      }
    },
    {
      "cell_type": "code",
      "execution_count": null,
      "metadata": {
        "id": "Mcb3m-xKzw8V",
        "outputId": "f6114ed3-21e7-4155-9382-066a75c1090a",
        "colab": {
          "base_uri": "https://localhost:8080/"
        }
      },
      "outputs": [
        {
          "output_type": "execute_result",
          "data": {
            "text/plain": [
              "(10000, 2)"
            ]
          },
          "metadata": {},
          "execution_count": 56
        }
      ],
      "source": [
        "data.shape"
      ]
    },
    {
      "cell_type": "markdown",
      "source": [
        "* The dataset has 10000 rows and 2 columns."
      ],
      "metadata": {
        "id": "IPbc-9HLs2WI"
      }
    },
    {
      "cell_type": "markdown",
      "source": [
        "### **Checking for missing values**"
      ],
      "metadata": {
        "id": "MUGy2CBnZa6g"
      }
    },
    {
      "cell_type": "code",
      "execution_count": null,
      "metadata": {
        "id": "k0XZhWGRBiCV",
        "outputId": "db4824e5-7b5a-4dc9-e859-a0d73c6332ea",
        "colab": {
          "base_uri": "https://localhost:8080/",
          "height": 181
        }
      },
      "outputs": [
        {
          "output_type": "error",
          "ename": "NameError",
          "evalue": "name 'data' is not defined",
          "traceback": [
            "\u001b[0;31m---------------------------------------------------------------------------\u001b[0m",
            "\u001b[0;31mNameError\u001b[0m                                 Traceback (most recent call last)",
            "\u001b[0;32m<ipython-input-1-2962204f287d>\u001b[0m in \u001b[0;36m<cell line: 1>\u001b[0;34m()\u001b[0m\n\u001b[0;32m----> 1\u001b[0;31m \u001b[0mdata\u001b[0m\u001b[0;34m.\u001b[0m\u001b[0misnull\u001b[0m\u001b[0;34m(\u001b[0m\u001b[0;34m)\u001b[0m\u001b[0;34m.\u001b[0m\u001b[0msum\u001b[0m\u001b[0;34m(\u001b[0m\u001b[0;34m)\u001b[0m\u001b[0;34m\u001b[0m\u001b[0;34m\u001b[0m\u001b[0m\n\u001b[0m",
            "\u001b[0;31mNameError\u001b[0m: name 'data' is not defined"
          ]
        }
      ],
      "source": [
        "data.isnull().sum()"
      ]
    },
    {
      "cell_type": "markdown",
      "metadata": {
        "id": "1i5McJGWBiCV"
      },
      "source": [
        "* There are no missing values in the data"
      ]
    },
    {
      "cell_type": "markdown",
      "source": [
        "### **Checking for duplicate values**"
      ],
      "metadata": {
        "id": "nZdNFg-5Zmiz"
      }
    },
    {
      "cell_type": "code",
      "execution_count": null,
      "metadata": {
        "id": "gn5VDFNoBiCW",
        "outputId": "c6c79e2e-4fb1-4549-c718-a68e19341ae0",
        "colab": {
          "base_uri": "https://localhost:8080/"
        }
      },
      "outputs": [
        {
          "output_type": "execute_result",
          "data": {
            "text/plain": [
              "18"
            ]
          },
          "metadata": {},
          "execution_count": 58
        }
      ],
      "source": [
        "# checking for duplicate values\n",
        "data.duplicated().sum()"
      ]
    },
    {
      "cell_type": "code",
      "execution_count": null,
      "metadata": {
        "id": "lyuQEKBaBiCW"
      },
      "outputs": [],
      "source": [
        "# keeping only the first occurence of duplicate values and dropping the rest\n",
        "data = data.drop_duplicates(keep = 'first')"
      ]
    },
    {
      "cell_type": "code",
      "execution_count": null,
      "metadata": {
        "id": "bTqafJd_BiCW"
      },
      "outputs": [],
      "source": [
        "# reseting the index of the dataframe\n",
        "data = data.reset_index(drop = True)"
      ]
    },
    {
      "cell_type": "markdown",
      "metadata": {
        "id": "xigiXKyEBiCW"
      },
      "source": [
        "### **Checking the distribution of sentiments**"
      ]
    },
    {
      "cell_type": "code",
      "execution_count": null,
      "metadata": {
        "id": "FRT4AGVfzw8l",
        "outputId": "a795a71f-b1d6-4403-9bd8-add050b9efef",
        "colab": {
          "base_uri": "https://localhost:8080/",
          "height": 449
        }
      },
      "outputs": [
        {
          "output_type": "display_data",
          "data": {
            "text/plain": [
              "<Figure size 640x480 with 1 Axes>"
            ],
            "image/png": "[encoded data removed]"
          },
          "metadata": {}
        }
      ],
      "source": [
        "sns.countplot(data=data, x='sentiment');"
      ]
    },
    {
      "cell_type": "markdown",
      "metadata": {
        "id": "b45YTYQKBiCZ"
      },
      "source": [
        "- There are almost an equal number of positive and negative reviews."
      ]
    },
    {
      "cell_type": "markdown",
      "metadata": {
        "id": "KgtDk97sGMHY"
      },
      "source": [
        "## **Semantic Search**"
      ]
    },
    {
      "cell_type": "markdown",
      "metadata": {
        "id": "fYtRRwpJKTxz"
      },
      "source": [
        "### **Defining the model**"
      ]
    },
    {
      "cell_type": "markdown",
      "metadata": {
        "id": "yNDAvKn0Klwa"
      },
      "source": [
        "We'll be using the **all-MiniLM-L6-v2** model here.\n",
        "\n",
        "💡 The **all-MiniLM-L6-v2** model is an all-round (**all**) model trained on a large and diverse dataset of over 1 billion training samples and generates state-of-the-art sentence embeddings of 384 dimensions.\n",
        "\n",
        "📊  It is a language model (**LM**) that has 6 transformer encoder layers (**L6**) and is a smaller model (**Mini**) trained to mimic the performance of a larger model (BERT).\n",
        "\n",
        "🛠️ Potential use-cases include text classification, sentiment analysis, and semantic search."
      ]
    },
    {
      "cell_type": "code",
      "execution_count": null,
      "metadata": {
        "id": "3EQ7eQIpYSyz",
        "colab": {
          "base_uri": "https://localhost:8080/",
          "height": 465,
          "referenced_widgets": [
            "781ace3ab1884826b592aca0fba84c79",
            "485359ea6f0e4d5583e0e67cd88a62ae",
            "2c2b351f6b1c4751a5d5549008f67292",
            "6aa1ce3010b64c909ab8d93aa8bf7845",
            "9ccc416770b84d6581fd13383f79e53d",
            "81c01f2b20f346bd8cd33dd89f697c36",
            "c13d8d55e52c45688f53d37e1fe4f92c",
            "63d471b9da05476a828ec812d412e906",
            "a795cbc05a7048d2a07904d3f4c2d6a0",
            "65296f4be0094a7bac8e1b99b49278ef",
            "d54b4d11b2824453a9058a294e339de7",
            "6bd4abba8e3649d59e23045a5e7bd814",
            "3df3977eb98849bca8fcfe419382c112",
            "e992091bc89c48dbbd12abdda4807d9a",
            "31f8e0385a1c4e22867d1f433cb1af8a",
            "aa37521a5d694c51a3cea9051fada09e",
            "14fc5c607c4342958fcc883ae805ff09",
            "fab62fd578544757a9cc577dcb415981",
            "00b6d217c1434230a8d18767092eb89a",
            "46f67b2122ce4aba93e50e64ccbf859a",
            "71eae72c3b2649a09b2a5f5ce0c91c2b",
            "e2405ccfdb3e4e40b9aec4a3f434827b",
            "fcea799689ac4b34b85e42421665d2a4",
            "93e9fac9960c4bea8b3ffd2d9a22dfc9",
            "9feac57c83db4668ba786cec314e06fa",
            "ee29c8558b304881b958d75e74706ce2",
            "10f933691a9e48769ee79b47bdc22436",
            "cbae17a7df2d4dd3a201341cb89f94a6",
            "868a5043c5554b50835e60923e7e73b9",
            "db15180ebdd94423b05a1acabca6446d",
            "d105d96f039e48d4b39140f561a5f3f6",
            "d33231e7a3064168a5ab23078b90daf0",
            "f3900f6545b648b995bb8b3c8f77ddb7",
            "e28878eb6b42441e9c0bb5f6d947ea5b",
            "364b825af02f4c9d91b4ec0c4f999346",
            "85f41408e3b749b88f2e42a4334fa5ff",
            "ff1b8ecef337471da1b7c5a3fb20d1dc",
            "c8a89553e844453d8bc46854a832af57",
            "f03d4bec6e5f40b5af2ddccf7369c7d4",
            "653d3226b88545ebb5067b8e88de3555",
            "f85565aa384a4c3a84eb8f87b76e0177",
            "69212711a15a4ff09cc36f13a0c252b4",
            "9b8cc87682224965bb1be6cad645edfe",
            "1b6925ca3673467e9ef08e585af87e8c",
            "954004740c6147bea043a5c592754098",
            "a1b444dcc8444a3791a61fb405500ad7",
            "074a245ec9494b318d8660ae24982bb2",
            "7350e3f89c7647a18ec57b14631cd125",
            "793bcc61c4104a6cbb3a09b3489a0dfb",
            "bf68050ad73b43eea5433d3bc2eebb77",
            "ac0f4fc342cd455cafcdb64091dad294",
            "1932139b24884d39836fa1abe23c03c0",
            "aee8eb43cd48408fbc2b6f86333954ad",
            "24d698a21e454887a6701286c17160c7",
            "455e535f901147779f5b11c15387633f",
            "e466a20e8d204bfe88e2018eddb4c784",
            "ec8278b229c94189b97748186935b637",
            "de62b81dbec845a3abf69b7fe09cfa70",
            "e78a3aedb9194c4f83f0813ffae1e5ca",
            "5bb8138eff284918bf738313299e894f",
            "c48a9b4c129f4cc69f72fa84715f1489",
            "acc80d7df5bb4902a7d6d7ace731817c",
            "0ec5adef63b04d9d819a45b00302e19b",
            "72883b3c1f3c4799b1d8da5cb5bcab0c",
            "089188fae03146d59b36943d84020cc6",
            "0362669398184e8db3fe29ee8e46008b",
            "4b1da40b412a4df4abaf9cda18818b38",
            "72dc68f92dd449f1b8f6ccf197e81779",
            "14a7a3be61e64dfbaab7757eabeb5cec",
            "4a5b8b7362b846d2a9477e10576779e7",
            "7b44fb89474d4cbcb3238e4920455d80",
            "3c9d72cebcf64072a62c39da05c6069d",
            "a11ae19c753e4c09a4f05854f9c6ee4f",
            "72b3d3a346b94067b19d5e97f3e7b59a",
            "c1326b2415ed4774852a60e67d63079e",
            "6b0c39fc906044d2883af022ac22f0ad",
            "d1731786ef354b05a206dc60535bd39c",
            "69e9ef8de2f8449bbfcea37618ad3a9b",
            "53852eb3cdb340f59bf81288cd8f76d8",
            "6d4397cd8fdc4fd1a9e02c7230ce6dc4",
            "71299ce3b1ce40abb5c3432e3721133f",
            "8f28056421564515956b5365303250ab",
            "4c9001b5c3d1499b9f04becdb046c31b",
            "a98d7bd478b1480aa8a9083bb3cea547",
            "9cfb654b6ed3477eb5f0d6112cd70a47",
            "9ab6f15c20804cf7be1f65b56b8da6ee",
            "73c7c7ce023043d887387c0fd7931edf",
            "a58a9643a7d94e6b940976fc82eba59d",
            "3320ab9565074527a2c9a00b4be72064",
            "91045ca428f049718383a067ed33f07e",
            "a4ef33c90cb84a71843440c170b01b00",
            "494399e9eaec440aaf1a535dd90ede7c",
            "35213502d3a94c6a81ecbdfd3ffc4422",
            "abbef4a9d7f34e7fa21ff441adc95bdb",
            "b3f5367b62dc477fa57bf00dd4841304",
            "a70e2e6f1d1e4b42bf6e6a4167c17281",
            "7d5ce6571a374002991ba3e0672d79e7",
            "87da7f9ece124478a585bf1f012eb976",
            "03b9f4e8dd4a433c800d8f5ba4002432",
            "f40307969844451f9d039ab80e40e512",
            "67e2935b4dc5425ebfdac8995590adcc",
            "c13879ea52e04465867df457e00452f8",
            "4c8d961a06734a0e954bab41332df47c",
            "5812a077bb954a079e24ef4bfba194b6",
            "7e1afe99c58a42e38edc27fe062a9f0b",
            "792f0f310be94792a2cbe103508d2fa1",
            "4e7c2ad10a96404da0e4aa7337d8e3d7",
            "d44b1cef0ff2457fb3f3c71d073eeba3",
            "f56f3e07251644d8bfe15db31ac250bb",
            "8849c5780ad944b48c4fcd1529c1a6f4",
            "9243648eb8bb49a586633199a4b47a67",
            "bdc22d1185bb46dea8005ff968d67bab",
            "1c1495d54e63439ab5c06daf53d9c781",
            "d993b20badb04fde9b05b03b670ea3e6",
            "1ba3ea116f5c4eb69979780171768322",
            "0e733188a4834d2fabb9a9324e149500",
            "ec18c559495e4f0fb1421e76544a24bc",
            "dddc33386f974be38004904b9b980147",
            "c88520f2163c40b297e2db7cfd08abaf",
            "c9a8e34f823d4a1cac752244f878efa7",
            "5593d8bea9b146e0987c8b7ad1ebb2cc",
            "9a9709f4d3a54cebaa73dd16d47850cc",
            "e2b08b9b73ed423cb218abe11a1e06cc",
            "e54b9fdc158a481f98aba27fae4bfb0f",
            "e981fba051394756aca7cf83f7373f66",
            "81fa7d23f8a24429af3bb70497810e42",
            "488a82316e1c461b85f6c34cf23490f4",
            "7595678ee3ca479f863bf44e0b955c41",
            "f46d238b907e411cb9b9d41cf8456086",
            "3132fb93d1114c04aa39901eaee845b7",
            "60ec99962c8642d5949a09c2e4f7bf54",
            "36244ff9a55f41aa90a7e318d4cfaa0c",
            "ae86dd3be68e4a938534021b08ab57ac",
            "a18d66d67c26413bb944f3ac060a1a95",
            "ae645fe8ac9d4a4fa08e23ac35996418",
            "d0d1b8c0b3af4611851429c6c0c94dac",
            "3b603992862d47af92e9ab817dc07d60",
            "9b7fe8a8bd4448dfbdcf807863e542ae",
            "0d530520db2d4ab596e47574edc8e6a9",
            "ad61af235fbb40bba156e695863f4b85",
            "06c030354aaf4a139189e3429e4c989d",
            "2744a926c42e4db7aca356dc7e150b9a",
            "1f2482e8e8764b65a50bdc756ea9d150",
            "eef4f5238b4745b3906f549d063408df",
            "17345f0ef7f2450ebbcef47ba8184809",
            "d94b9162365b4d73a4dab07aa6b60b29",
            "63f71578bdff4fc8b3b14c0797326299",
            "81ce72c863e845f9b9ad9a9c67483ab7",
            "cddf039aeb714ef9beb391bfed8fbc06",
            "341a867fae47405cbe0097280156bcee",
            "10a702aa41e249d4825de41eb5459125",
            "094f6ebb67da496daa27423bea3bbda5",
            "719bf869a95d4589a8bc6ceb910d75e2",
            "1dcbb4b031b74c2eae68889b654575d0"
          ]
        },
        "outputId": "1231a1fb-2192-45ef-9f27-df9964060ec2"
      },
      "outputs": [
        {
          "output_type": "display_data",
          "data": {
            "text/plain": [
              ".gitattributes:   0%|          | 0.00/1.18k [00:00<?, ?B/s]"
            ],
            "application/vnd.jupyter.widget-view+json": {
              "version_major": 2,
              "version_minor": 0,
              "model_id": "781ace3ab1884826b592aca0fba84c79"
            }
          },
          "metadata": {}
        },
        {
          "output_type": "display_data",
          "data": {
            "text/plain": [
              "1_Pooling/config.json:   0%|          | 0.00/190 [00:00<?, ?B/s]"
            ],
            "application/vnd.jupyter.widget-view+json": {
              "version_major": 2,
              "version_minor": 0,
              "model_id": "6bd4abba8e3649d59e23045a5e7bd814"
            }
          },
          "metadata": {}
        },
        {
          "output_type": "display_data",
          "data": {
            "text/plain": [
              "README.md:   0%|          | 0.00/10.6k [00:00<?, ?B/s]"
            ],
            "application/vnd.jupyter.widget-view+json": {
              "version_major": 2,
              "version_minor": 0,
              "model_id": "fcea799689ac4b34b85e42421665d2a4"
            }
          },
          "metadata": {}
        },
        {
          "output_type": "display_data",
          "data": {
            "text/plain": [
              "config.json:   0%|          | 0.00/612 [00:00<?, ?B/s]"
            ],
            "application/vnd.jupyter.widget-view+json": {
              "version_major": 2,
              "version_minor": 0,
              "model_id": "e28878eb6b42441e9c0bb5f6d947ea5b"
            }
          },
          "metadata": {}
        },
        {
          "output_type": "display_data",
          "data": {
            "text/plain": [
              "config_sentence_transformers.json:   0%|          | 0.00/116 [00:00<?, ?B/s]"
            ],
            "application/vnd.jupyter.widget-view+json": {
              "version_major": 2,
              "version_minor": 0,
              "model_id": "954004740c6147bea043a5c592754098"
            }
          },
          "metadata": {}
        },
        {
          "output_type": "display_data",
          "data": {
            "text/plain": [
              "data_config.json:   0%|          | 0.00/39.3k [00:00<?, ?B/s]"
            ],
            "application/vnd.jupyter.widget-view+json": {
              "version_major": 2,
              "version_minor": 0,
              "model_id": "e466a20e8d204bfe88e2018eddb4c784"
            }
          },
          "metadata": {}
        },
        {
          "output_type": "display_data",
          "data": {
            "text/plain": [
              "pytorch_model.bin:   0%|          | 0.00/90.9M [00:00<?, ?B/s]"
            ],
            "application/vnd.jupyter.widget-view+json": {
              "version_major": 2,
              "version_minor": 0,
              "model_id": "4b1da40b412a4df4abaf9cda18818b38"
            }
          },
          "metadata": {}
        },
        {
          "output_type": "display_data",
          "data": {
            "text/plain": [
              "sentence_bert_config.json:   0%|          | 0.00/53.0 [00:00<?, ?B/s]"
            ],
            "application/vnd.jupyter.widget-view+json": {
              "version_major": 2,
              "version_minor": 0,
              "model_id": "69e9ef8de2f8449bbfcea37618ad3a9b"
            }
          },
          "metadata": {}
        },
        {
          "output_type": "display_data",
          "data": {
            "text/plain": [
              "special_tokens_map.json:   0%|          | 0.00/112 [00:00<?, ?B/s]"
            ],
            "application/vnd.jupyter.widget-view+json": {
              "version_major": 2,
              "version_minor": 0,
              "model_id": "3320ab9565074527a2c9a00b4be72064"
            }
          },
          "metadata": {}
        },
        {
          "output_type": "display_data",
          "data": {
            "text/plain": [
              "tokenizer.json:   0%|          | 0.00/466k [00:00<?, ?B/s]"
            ],
            "application/vnd.jupyter.widget-view+json": {
              "version_major": 2,
              "version_minor": 0,
              "model_id": "f40307969844451f9d039ab80e40e512"
            }
          },
          "metadata": {}
        },
        {
          "output_type": "display_data",
          "data": {
            "text/plain": [
              "tokenizer_config.json:   0%|          | 0.00/350 [00:00<?, ?B/s]"
            ],
            "application/vnd.jupyter.widget-view+json": {
              "version_major": 2,
              "version_minor": 0,
              "model_id": "9243648eb8bb49a586633199a4b47a67"
            }
          },
          "metadata": {}
        },
        {
          "output_type": "display_data",
          "data": {
            "text/plain": [
              "train_script.py:   0%|          | 0.00/13.2k [00:00<?, ?B/s]"
            ],
            "application/vnd.jupyter.widget-view+json": {
              "version_major": 2,
              "version_minor": 0,
              "model_id": "9a9709f4d3a54cebaa73dd16d47850cc"
            }
          },
          "metadata": {}
        },
        {
          "output_type": "display_data",
          "data": {
            "text/plain": [
              "vocab.txt:   0%|          | 0.00/232k [00:00<?, ?B/s]"
            ],
            "application/vnd.jupyter.widget-view+json": {
              "version_major": 2,
              "version_minor": 0,
              "model_id": "ae86dd3be68e4a938534021b08ab57ac"
            }
          },
          "metadata": {}
        },
        {
          "output_type": "display_data",
          "data": {
            "text/plain": [
              "modules.json:   0%|          | 0.00/349 [00:00<?, ?B/s]"
            ],
            "application/vnd.jupyter.widget-view+json": {
              "version_major": 2,
              "version_minor": 0,
              "model_id": "eef4f5238b4745b3906f549d063408df"
            }
          },
          "metadata": {}
        }
      ],
      "source": [
        "# defining the model\n",
        "model = SentenceTransformer('sentence-transformers/all-MiniLM-L6-v2')\n",
        "# there are many other models to choose from too!\n",
        "# https://www.sbert.net/docs/pretrained_models.html\n",
        "# https://huggingface.co/spaces/mteb/leaderboard\n",
        "# model = SentenceTransformer('BAAI/bge-base-en-v1.5')"
      ]
    },
    {
      "cell_type": "markdown",
      "source": [
        "### **Basic Examples**"
      ],
      "metadata": {
        "id": "5apZMhYpV9MU"
      }
    },
    {
      "cell_type": "code",
      "source": [
        "model.encode(['hello, my name is Dan!'])"
      ],
      "metadata": {
        "colab": {
          "base_uri": "https://localhost:8080/"
        },
        "id": "zPHLde9UWsNf",
        "outputId": "bf137374-2215-4982-fbd9-a40d098ca095"
      },
      "execution_count": null,
      "outputs": [
        {
          "output_type": "execute_result",
          "data": {
            "text/plain": [
              "array([[-1.20215982e-01,  2.33266745e-02,  7.85414726e-02,\n",
              "         1.16624637e-02, -1.03290036e-01, -7.39679113e-02,\n",
              "         1.02147274e-01, -6.54307287e-03,  3.59935910e-02,\n",
              "        -3.56885642e-02, -1.05193347e-01, -3.54266614e-02,\n",
              "         5.80283925e-02, -3.58375460e-02, -1.06713548e-02,\n",
              "        -7.68467411e-02, -1.83965103e-03,  7.92892277e-02,\n",
              "        -1.11362427e-01,  1.66799705e-02,  1.89157855e-02,\n",
              "         5.40749952e-02, -1.14753973e-02, -7.31310770e-02,\n",
              "        -2.53050551e-02,  2.23015132e-03,  1.27340723e-02,\n",
              "         7.92560056e-02, -5.07033244e-02, -9.75874662e-02,\n",
              "         5.82299791e-02,  8.89130905e-02, -9.72990703e-04,\n",
              "         7.41752312e-02, -4.20287922e-02, -7.49425963e-03,\n",
              "        -8.95282850e-02, -1.63527438e-03,  2.08540056e-02,\n",
              "         4.06790152e-02, -8.82210769e-03, -5.00588194e-02,\n",
              "         2.89774388e-02, -2.87493039e-02,  1.48246186e-02,\n",
              "         8.40839446e-02, -1.15908720e-02,  5.21295741e-02,\n",
              "         1.06916994e-01, -2.68502184e-03, -7.66271874e-02,\n",
              "        -7.78609738e-02,  1.01624131e-02,  5.39126992e-02,\n",
              "         1.01692632e-01,  2.24467404e-02,  4.97782528e-02,\n",
              "        -4.74289544e-02, -2.68881470e-02,  5.98852821e-02,\n",
              "        -2.14337036e-02,  5.57403825e-02, -4.75054272e-02,\n",
              "         1.47027466e-02, -4.45397384e-03,  2.42376374e-03,\n",
              "        -8.34339485e-02, -4.36686277e-02,  7.03612808e-03,\n",
              "        -5.53360395e-02, -8.41126889e-02,  3.00272591e-02,\n",
              "         6.15294762e-02,  2.58111656e-02,  2.15919819e-02,\n",
              "        -7.53767742e-03,  2.37634638e-03, -2.04155091e-02,\n",
              "         3.27926734e-03,  7.92892929e-03,  2.39681057e-03,\n",
              "        -7.79048130e-02, -7.80012906e-02, -4.03752923e-02,\n",
              "        -1.59058720e-02,  5.87188676e-02,  4.24188450e-02,\n",
              "        -1.23112183e-02, -4.38525304e-02, -3.51367816e-02,\n",
              "        -9.36021060e-02, -9.63232946e-03, -1.38372127e-02,\n",
              "         1.04810921e-02, -5.52561693e-02, -6.20296262e-02,\n",
              "         2.23824545e-03,  4.79031801e-02, -1.69006795e-01,\n",
              "         1.02220751e-01,  6.36787526e-03,  9.27616283e-02,\n",
              "         7.84162432e-03, -8.18423741e-03,  1.62962507e-02,\n",
              "         2.85075884e-02, -2.72389688e-02,  4.99377772e-02,\n",
              "        -3.02139279e-02, -5.29135689e-02,  2.51863096e-02,\n",
              "        -5.48182353e-02,  8.33891332e-04,  1.76289547e-02,\n",
              "         4.04018573e-02, -2.63648648e-02,  1.94283447e-03,\n",
              "         8.57274700e-03, -1.02208648e-02, -4.85725254e-02,\n",
              "         4.33893576e-02,  3.39463167e-02, -5.21677360e-02,\n",
              "         4.29476053e-03,  1.34467632e-02,  3.86647917e-02,\n",
              "         6.05270937e-02, -5.01007851e-33, -1.03532220e-03,\n",
              "         4.06070538e-02,  4.97592799e-02,  1.53306618e-01,\n",
              "        -7.04117045e-02, -3.46850529e-02, -1.15075745e-01,\n",
              "        -1.20903701e-02, -3.77088800e-05, -1.25852525e-01,\n",
              "         7.94766098e-03,  1.80519186e-02, -6.52724802e-02,\n",
              "         1.06536355e-02, -8.11257735e-02,  8.61179307e-02,\n",
              "         3.10518174e-03, -6.21905029e-02,  3.53780016e-03,\n",
              "         3.94324064e-02, -2.96894312e-02, -4.62159775e-02,\n",
              "        -1.01588271e-03,  5.29732555e-02,  4.57246378e-02,\n",
              "        -7.58716464e-02,  2.30486412e-02, -4.55064997e-02,\n",
              "         9.58633050e-02,  1.24483472e-02, -5.21055311e-02,\n",
              "        -5.32751903e-02,  1.14826061e-01,  8.76156166e-02,\n",
              "         3.33113410e-02,  3.92846530e-03, -1.53041082e-02,\n",
              "         1.35856513e-02, -4.22952287e-02,  1.10911936e-01,\n",
              "         5.60693406e-02,  3.76772545e-02, -3.74241173e-02,\n",
              "         5.64628765e-02, -8.57217312e-02, -2.39594430e-02,\n",
              "         6.36976436e-02,  1.21135386e-02,  2.93973908e-02,\n",
              "        -1.85657125e-02, -8.69813412e-02, -4.25680215e-03,\n",
              "        -2.64477450e-03,  5.07878996e-02, -5.27614616e-02,\n",
              "        -4.16242629e-02, -3.47480131e-03, -4.45242748e-02,\n",
              "        -3.00195608e-02, -1.50576569e-02, -8.02066475e-02,\n",
              "         3.59532088e-02, -1.04096392e-02,  7.46646002e-02,\n",
              "        -2.39753425e-02, -4.95289676e-02,  2.69386172e-02,\n",
              "         1.61270406e-02,  7.03563616e-02,  8.93538631e-03,\n",
              "        -5.28440671e-03, -2.30881330e-02,  3.99361774e-02,\n",
              "         3.08655910e-02,  2.74938773e-02,  5.30150011e-02,\n",
              "        -3.34729161e-03, -3.09251565e-02, -1.17239505e-02,\n",
              "        -4.72183302e-02,  3.29765081e-02, -1.44202691e-02,\n",
              "        -9.99638140e-02,  6.51513087e-03,  2.62283441e-02,\n",
              "         1.63372476e-02, -4.47609723e-02, -7.34273791e-02,\n",
              "        -6.03276640e-02, -5.84074482e-02, -2.86077559e-02,\n",
              "        -2.86758095e-02,  4.93047461e-02, -4.37199809e-02,\n",
              "         5.82983671e-03,  2.47654987e-33,  9.53177884e-02,\n",
              "         7.96293318e-02, -2.24798303e-02, -8.27685520e-02,\n",
              "         3.61990072e-02,  3.20476503e-03,  1.62889324e-02,\n",
              "         1.06759198e-01, -4.57177870e-02, -3.70150618e-02,\n",
              "        -1.42062223e-02, -3.26997750e-02,  2.17448901e-02,\n",
              "        -7.50503677e-04,  4.22929786e-02,  1.19398311e-02,\n",
              "         4.06146906e-02,  4.01315205e-02,  3.76616977e-02,\n",
              "         3.33106145e-02, -6.48072362e-02,  2.76048128e-02,\n",
              "        -1.14807688e-01,  1.61659792e-02,  4.01842371e-02,\n",
              "        -4.34519211e-03,  4.13557962e-02,  4.15762961e-02,\n",
              "        -3.14932950e-02, -1.52275758e-02, -1.59659181e-02,\n",
              "        -1.86642688e-02, -6.53082728e-02,  2.62312982e-02,\n",
              "        -3.15511832e-03,  5.68396337e-02,  1.97418556e-02,\n",
              "        -1.05859153e-01, -3.63100246e-02, -4.41021062e-02,\n",
              "        -4.67136465e-02,  2.23040469e-02,  5.04459627e-02,\n",
              "         3.54476348e-02, -3.58752236e-02, -4.96959910e-02,\n",
              "        -3.64851989e-02,  2.65859794e-02, -2.81394888e-02,\n",
              "         3.09233181e-02, -2.71727014e-02, -3.90662029e-02,\n",
              "        -2.60600424e-03, -8.10286850e-02,  1.49969822e-02,\n",
              "         4.29914668e-02,  1.25710353e-01,  3.71078290e-02,\n",
              "        -1.10612344e-02,  4.79688682e-02, -4.52587456e-02,\n",
              "         4.41794731e-02,  5.92973270e-02,  9.43740457e-02,\n",
              "         5.29177450e-02, -7.47596053e-03, -1.10997576e-02,\n",
              "         8.28259587e-02,  5.83214033e-03, -3.82295139e-02,\n",
              "         3.12248468e-02, -6.17587427e-03, -3.33579108e-02,\n",
              "        -3.43649127e-02, -3.00112087e-02,  1.74999342e-03,\n",
              "         3.43950540e-02,  8.06351006e-02, -2.26658676e-02,\n",
              "         1.35618240e-01, -1.90816652e-02,  3.19488090e-03,\n",
              "        -5.30182011e-03,  2.26318184e-02, -2.09902693e-02,\n",
              "         5.03367297e-02,  4.04296145e-02,  1.75987761e-02,\n",
              "        -2.07130481e-02, -2.54222676e-02,  1.02411825e-02,\n",
              "         6.01368286e-02,  1.66133512e-02, -4.44782758e-03,\n",
              "        -6.26827627e-02, -1.92194811e-08,  5.08366413e-02,\n",
              "        -9.94748808e-03, -3.01914141e-02,  3.58381607e-02,\n",
              "         4.17086743e-02,  2.13873088e-02, -1.99172646e-02,\n",
              "        -1.61193516e-02, -7.43935183e-02, -1.17151230e-03,\n",
              "         4.32248190e-02,  6.60708919e-02, -5.22037223e-02,\n",
              "        -5.95912989e-03,  1.11675501e-01, -1.21913962e-02,\n",
              "        -8.92152265e-02,  5.90649396e-02, -3.37901376e-02,\n",
              "        -3.62623185e-02,  2.35238969e-02, -2.58774981e-02,\n",
              "        -4.17497791e-02, -3.52412313e-02,  5.70116192e-02,\n",
              "        -3.00162565e-03,  1.02730885e-01,  2.27832608e-02,\n",
              "        -4.50684801e-02,  9.23571140e-02, -2.93568391e-02,\n",
              "         1.12835079e-01, -5.57498783e-02,  5.61626144e-02,\n",
              "        -3.60198282e-02, -8.70746151e-02,  1.96592938e-02,\n",
              "         3.90578434e-02,  1.66553762e-02, -3.77098508e-02,\n",
              "        -2.50889640e-02,  3.02582216e-02,  6.19919859e-02,\n",
              "        -3.03031467e-02, -6.20961823e-02,  8.82828832e-02,\n",
              "         9.32232589e-02, -4.25073020e-02,  3.41061763e-02,\n",
              "        -5.05519398e-02, -1.37768900e-02,  1.82766449e-02,\n",
              "         9.90194455e-02,  7.74757424e-03,  3.15985493e-02,\n",
              "         6.11861013e-02,  3.82361934e-02,  2.40835082e-02,\n",
              "        -2.72806007e-02, -3.59268226e-02,  3.89242731e-02,\n",
              "         1.45405615e-02, -2.11059377e-02,  5.33296764e-02]], dtype=float32)"
            ]
          },
          "metadata": {},
          "execution_count": 24
        }
      ]
    },
    {
      "cell_type": "code",
      "source": [
        "model.encode(['hello, my name is Dan?'])"
      ],
      "metadata": {
        "colab": {
          "base_uri": "https://localhost:8080/"
        },
        "id": "Q_tnSttoWy22",
        "outputId": "74a7449a-f357-424b-8c9a-ebaa94cd064b"
      },
      "execution_count": null,
      "outputs": [
        {
          "output_type": "execute_result",
          "data": {
            "text/plain": [
              "array([[-1.25161678e-01,  1.75925437e-02,  8.88532102e-02,\n",
              "         1.19403154e-02, -1.01614460e-01, -8.46365541e-02,\n",
              "         1.51050657e-01,  1.13875242e-02,  3.35772000e-02,\n",
              "        -6.02389090e-02, -9.43934768e-02, -6.10976480e-02,\n",
              "         3.05960365e-02, -3.64653617e-02,  2.23343093e-02,\n",
              "        -6.00001700e-02, -1.09070325e-02,  4.52446491e-02,\n",
              "        -1.35518461e-01,  8.65479838e-03, -3.05692572e-02,\n",
              "         4.97333892e-02, -2.62118876e-03, -8.41946676e-02,\n",
              "        -1.79406833e-02,  7.51870126e-03,  4.12367806e-02,\n",
              "         8.72903913e-02, -4.14225981e-02, -9.46632698e-02,\n",
              "         5.46788983e-02,  7.33749717e-02,  9.49008204e-03,\n",
              "         5.40020876e-02, -3.70322540e-02, -2.95581878e-03,\n",
              "        -7.40623772e-02, -2.60347174e-03,  2.09947117e-02,\n",
              "         4.12505344e-02, -1.53503371e-02, -5.49956895e-02,\n",
              "         3.44849862e-02, -3.37540507e-02,  2.53537446e-02,\n",
              "         5.75930364e-02, -1.41589409e-02,  3.40199806e-02,\n",
              "         9.93730873e-02, -2.64637806e-02, -9.78996754e-02,\n",
              "        -7.45874569e-02,  1.59066692e-02,  5.49427308e-02,\n",
              "         1.14561193e-01,  2.03046538e-02,  2.97361221e-02,\n",
              "        -1.28712421e-02, -2.53497437e-02,  6.10223673e-02,\n",
              "         1.65444743e-02,  4.27793562e-02, -7.18859360e-02,\n",
              "         3.79307307e-02,  3.98776121e-03,  2.06372514e-03,\n",
              "        -9.41602588e-02, -8.89435187e-02,  3.02317683e-02,\n",
              "        -3.55420187e-02, -7.35813379e-02,  1.23142647e-02,\n",
              "         5.44165149e-02,  1.49021810e-02, -1.19461841e-03,\n",
              "        -1.15714902e-02,  5.74458018e-03, -8.75804108e-03,\n",
              "         1.30126346e-02, -1.51721425e-02, -8.91274493e-03,\n",
              "        -5.39877675e-02, -9.82374176e-02, -4.98859622e-02,\n",
              "        -2.84102950e-02,  9.39184874e-02,  8.26959535e-02,\n",
              "        -1.03687216e-02, -6.94762692e-02, -9.08263586e-03,\n",
              "        -9.12745744e-02, -6.67879265e-03,  8.48348811e-03,\n",
              "         2.61444040e-03, -3.36386301e-02, -6.47344142e-02,\n",
              "         1.35251246e-02,  3.86528671e-02, -1.45947725e-01,\n",
              "         1.15922071e-01,  4.03752849e-02,  8.64320099e-02,\n",
              "         2.01314106e-03,  4.37990855e-03,  2.32656803e-02,\n",
              "         2.75536682e-02, -2.87862569e-02,  5.35032451e-02,\n",
              "        -3.80863883e-02, -5.51849268e-02,  2.72961184e-02,\n",
              "        -4.97022234e-02, -2.57410500e-02, -4.04687189e-02,\n",
              "         5.65046109e-02, -2.16352865e-02, -9.98779014e-03,\n",
              "        -1.61074824e-03,  9.24258120e-03, -3.39444429e-02,\n",
              "         1.29528968e-02,  4.92940731e-02, -9.80617180e-02,\n",
              "         4.27928902e-02, -2.84233391e-02,  3.18593197e-02,\n",
              "         6.40631989e-02, -5.18044364e-33,  2.09372379e-02,\n",
              "         3.51634435e-02,  3.37100513e-02,  1.23245902e-01,\n",
              "        -5.84753901e-02, -2.39512585e-02, -1.14280462e-01,\n",
              "        -1.11459177e-02, -8.84539355e-03, -1.32449612e-01,\n",
              "        -5.64581808e-03,  8.69672094e-03, -5.60215153e-02,\n",
              "        -2.50608418e-02, -7.12491721e-02,  3.46313231e-02,\n",
              "         5.28088547e-02, -6.00513443e-02, -1.47775505e-02,\n",
              "         3.25684734e-02, -3.02731600e-02, -6.38917163e-02,\n",
              "        -7.39887170e-03,  3.71035188e-02,  7.08093420e-02,\n",
              "        -6.69019520e-02,  1.00697661e-02, -6.83494061e-02,\n",
              "         1.06776059e-01,  1.27142891e-02, -5.74103594e-02,\n",
              "        -3.99893373e-02,  7.46179670e-02,  7.25025535e-02,\n",
              "         5.23431636e-02, -2.28892415e-04,  3.10667837e-03,\n",
              "         1.09825898e-02, -5.31783886e-02,  1.04599550e-01,\n",
              "         2.57287361e-02,  4.58786748e-02, -2.68258136e-02,\n",
              "         6.08975887e-02, -6.50373772e-02, -1.28714414e-02,\n",
              "         4.83512878e-02, -9.14873742e-03,  2.64991634e-02,\n",
              "        -1.32753756e-02, -6.81596249e-02, -2.64063384e-02,\n",
              "        -3.64322867e-03,  1.86949782e-02, -7.51268044e-02,\n",
              "        -4.98400107e-02, -2.99548991e-02, -3.78695764e-02,\n",
              "        -8.47590063e-03,  2.03066207e-02, -6.80212826e-02,\n",
              "         2.78802644e-02, -1.99691840e-02,  9.00816396e-02,\n",
              "        -1.59106832e-02, -8.17108899e-02,  1.94085203e-02,\n",
              "         3.80632211e-03,  1.04625829e-01, -2.29578279e-03,\n",
              "         4.28265193e-03, -1.47508522e-02,  1.75951552e-02,\n",
              "         7.45454133e-02,  3.21389586e-02,  6.10081851e-02,\n",
              "         3.55930440e-02, -1.97785366e-02, -2.35087499e-02,\n",
              "        -4.13493253e-02,  3.70187461e-02, -2.43265089e-03,\n",
              "        -1.09545648e-01,  1.86630450e-02,  1.59501936e-02,\n",
              "        -1.03240702e-02, -4.10264768e-02, -7.46922418e-02,\n",
              "        -4.37344946e-02, -5.69681190e-02, -4.77249846e-02,\n",
              "        -2.57979590e-03,  7.66745284e-02, -4.73921672e-02,\n",
              "        -1.20706009e-02,  3.08723277e-33,  8.24488029e-02,\n",
              "         5.99258505e-02, -5.10151424e-02, -3.81888710e-02,\n",
              "         2.85774413e-02, -1.78626850e-02,  2.70974711e-02,\n",
              "         1.20244145e-01, -3.42158005e-02, -2.79680304e-02,\n",
              "         3.74689959e-02, -3.73000279e-02,  4.34435159e-02,\n",
              "         1.41316617e-03,  8.60775635e-02, -1.36056384e-02,\n",
              "         4.50086445e-02,  3.69587876e-02,  1.43537475e-02,\n",
              "         7.12682726e-03, -7.16835037e-02,  4.39009741e-02,\n",
              "        -9.83171090e-02, -1.99763011e-03,  4.71712649e-02,\n",
              "        -7.22680846e-03,  4.33150530e-02,  6.97284639e-02,\n",
              "        -4.20613773e-02,  7.48410122e-04,  6.19426090e-03,\n",
              "        -4.01230082e-02, -3.13482545e-02,  5.22800088e-02,\n",
              "        -1.47440694e-02,  5.16928174e-02,  5.03317490e-02,\n",
              "        -7.86102340e-02, -3.90098020e-02, -5.80963679e-02,\n",
              "        -6.02147132e-02, -3.47136543e-03,  9.00720805e-03,\n",
              "         5.27680889e-02, -1.24765104e-02, -6.37237430e-02,\n",
              "         3.25342728e-04,  4.35577706e-02,  3.32986191e-02,\n",
              "         3.20931636e-02,  1.72645953e-02, -2.33903877e-03,\n",
              "        -1.59830693e-02, -5.34945801e-02,  2.83428077e-02,\n",
              "         3.70945297e-02,  8.48488361e-02,  4.43038940e-02,\n",
              "        -3.51204649e-02,  4.99248579e-02, -2.72286870e-02,\n",
              "         1.86823960e-02,  8.05683509e-02,  6.36465028e-02,\n",
              "         5.75541258e-02, -5.36285341e-03, -6.42908225e-03,\n",
              "         5.68434186e-02,  4.00251802e-03, -6.31080046e-02,\n",
              "         4.59509827e-02, -4.07521427e-02, -7.02472590e-03,\n",
              "        -3.88107672e-02, -2.02178676e-02,  3.49808042e-03,\n",
              "         3.43504138e-02,  7.31449574e-02, -2.06285920e-02,\n",
              "         1.12685181e-01, -2.71800850e-02, -4.04068679e-02,\n",
              "        -4.72140126e-03, -2.21049227e-02,  1.22554891e-03,\n",
              "        -1.26656378e-03,  3.61671597e-02,  2.41824333e-02,\n",
              "        -7.69651355e-03, -3.78963314e-02,  1.31834764e-02,\n",
              "         6.11004345e-02,  2.33693179e-02, -2.84812506e-02,\n",
              "        -6.49595261e-02, -1.69514696e-08,  6.23603165e-02,\n",
              "        -3.57533991e-02, -4.75237891e-02,  1.00553837e-02,\n",
              "         3.42920795e-02,  4.21504118e-02, -2.66636219e-02,\n",
              "        -1.25457495e-02, -5.21709174e-02,  1.71634126e-02,\n",
              "         3.08823176e-02,  5.54953404e-02, -4.58258763e-02,\n",
              "        -2.67431661e-02,  7.64723718e-02, -3.92599963e-02,\n",
              "        -4.43277508e-02,  5.64439930e-02, -3.01967878e-02,\n",
              "        -3.90163250e-02,  4.83686849e-02, -3.45389335e-03,\n",
              "        -3.55450585e-02,  1.94841269e-02,  4.52858619e-02,\n",
              "         4.49346873e-04,  1.34278923e-01,  1.70289315e-02,\n",
              "        -5.27323447e-02,  9.85334516e-02, -2.30999868e-02,\n",
              "         1.30301058e-01, -4.71562333e-02,  3.11996937e-02,\n",
              "        -2.75335107e-02, -1.00273006e-01,  1.79095138e-02,\n",
              "         3.71676013e-02, -5.88190323e-03, -4.92497999e-03,\n",
              "         2.44979467e-02,  2.86269430e-02,  8.87776390e-02,\n",
              "        -1.06717553e-02, -3.77841964e-02,  6.60663992e-02,\n",
              "         1.09238662e-01, -6.86910823e-02,  3.41136046e-02,\n",
              "        -4.51035798e-02, -4.90851067e-02,  3.14725898e-02,\n",
              "         7.77228475e-02,  8.51066969e-03,  1.83211025e-02,\n",
              "         6.05079569e-02,  1.55161163e-02,  3.00817844e-02,\n",
              "        -4.01928127e-02, -3.95224318e-02,  3.83079760e-02,\n",
              "         2.97513348e-03, -3.12802419e-02,  2.99540553e-02]], dtype=float32)"
            ]
          },
          "metadata": {},
          "execution_count": 25
        }
      ]
    },
    {
      "cell_type": "code",
      "source": [
        "# defining a function to compute the cosine similarity between two embedding vectors\n",
        "def cosine_score(text):\n",
        "    # encoding the text\n",
        "    embeddings = model.encode(text)\n",
        "\n",
        "    # calculating the L2 norm of the embedding vector\n",
        "    norm1 = np.linalg.norm(embeddings[0])\n",
        "    norm2 = np.linalg.norm(embeddings[1])\n",
        "\n",
        "    # computing the cosine similarity\n",
        "    cosine_similarity_score = ((np.dot(embeddings[0],embeddings[1]))/(norm1*norm2))\n",
        "\n",
        "    return cosine_similarity_score"
      ],
      "metadata": {
        "id": "HrFTOstfV-dG"
      },
      "execution_count": null,
      "outputs": []
    },
    {
      "cell_type": "code",
      "source": [
        "sentence_1 = \"The cat is on the mat.\"\n",
        "sentence_2 = \"The mat has a cat on it.\"\n",
        "\n",
        "cosine_score([sentence_1, sentence_2])"
      ],
      "metadata": {
        "colab": {
          "base_uri": "https://localhost:8080/"
        },
        "id": "jA6zJcwtWFZi",
        "outputId": "836b78db-ae5c-4611-ceef-e398fabbfa2e"
      },
      "execution_count": null,
      "outputs": [
        {
          "output_type": "execute_result",
          "data": {
            "text/plain": [
              "0.96244425"
            ]
          },
          "metadata": {},
          "execution_count": 21
        }
      ]
    },
    {
      "cell_type": "markdown",
      "source": [
        "- The **high cosine similarity score** indicates that the sentences are **semantically similar**.\n"
      ],
      "metadata": {
        "id": "18WzJgySWRPT"
      }
    },
    {
      "cell_type": "code",
      "source": [
        "sentence_1 = \"Roses are red, violets are blue.\"\n",
        "sentence_2 = \"The Earth orbits the Sun in our solar system.\"\n",
        "\n",
        "cosine_score([sentence_1, sentence_2])"
      ],
      "metadata": {
        "colab": {
          "base_uri": "https://localhost:8080/"
        },
        "id": "JGHV2afMWSEb",
        "outputId": "e4945d83-961f-468a-ca1f-ab34257b488c"
      },
      "execution_count": null,
      "outputs": [
        {
          "output_type": "execute_result",
          "data": {
            "text/plain": [
              "0.1266436"
            ]
          },
          "metadata": {},
          "execution_count": 22
        }
      ]
    },
    {
      "cell_type": "markdown",
      "source": [
        "- The **low cosine similarity score** indicates that the sentences are **semantically dissimilar**."
      ],
      "metadata": {
        "id": "LEwC43LUWere"
      }
    },
    {
      "cell_type": "code",
      "source": [
        "sentence_1 = \"My name is Mark and I love football.\"\n",
        "sentence_2 = \"A strange object was found in the Mariana Trench.\"\n",
        "\n",
        "cosine_score([sentence_1, sentence_2])"
      ],
      "metadata": {
        "colab": {
          "base_uri": "https://localhost:8080/"
        },
        "id": "G7UcCCBNWgH8",
        "outputId": "d293b9c6-ae9e-4dc9-e951-1ff8c7bccdf3"
      },
      "execution_count": null,
      "outputs": [
        {
          "output_type": "execute_result",
          "data": {
            "text/plain": [
              "-0.061561085"
            ]
          },
          "metadata": {},
          "execution_count": 23
        }
      ]
    },
    {
      "cell_type": "markdown",
      "source": [
        "- The **lower cosine similarity score** indicates that the sentences are even more **semantically dissimilar**.\n"
      ],
      "metadata": {
        "id": "sCaKOST4Wmaw"
      }
    },
    {
      "cell_type": "markdown",
      "metadata": {
        "id": "Lll4MLfzKfBa"
      },
      "source": [
        "### **Encoding the dataset**"
      ]
    },
    {
      "cell_type": "code",
      "source": [
        "# setting the device to GPU if available, else CPU\n",
        "device = torch.device(\"cuda\" if torch.cuda.is_available() else \"cpu\")"
      ],
      "metadata": {
        "id": "094HGo86Ys3S"
      },
      "execution_count": null,
      "outputs": []
    },
    {
      "cell_type": "code",
      "execution_count": null,
      "metadata": {
        "colab": {
          "base_uri": "https://localhost:8080/",
          "height": 49,
          "referenced_widgets": [
            "8f966cdd38c0402ab8b8d28d07e0788f",
            "ae6f5dafce7b47008d77f00a918f411c",
            "9385f67a7c854eac96188647fae7ab9d",
            "3a612f866e9c4ec8a6e22aa8d7d214cb",
            "ec59e9b5fd05403bad77a971e9889716",
            "30ef24552c5741c293a8d8bb8182d4ce",
            "a6635acecc5b41fcba65728536b8eddb",
            "4a7b0a6513b745fb855f52d8fc0c8a2e",
            "f9c446803fca4a3bb55820f5cb482dce",
            "b13b8ffab5d144479011bd8dbb8b06cb",
            "1df5f7a2e15c4b3f81bda3b8d5691e08"
          ]
        },
        "id": "q1BaGKThKcX3",
        "outputId": "e82d0e5c-9a53-4268-9ffa-f1bda88b8d31"
      },
      "outputs": [
        {
          "output_type": "display_data",
          "data": {
            "text/plain": [
              "Batches:   0%|          | 0/312 [00:00<?, ?it/s]"
            ],
            "application/vnd.jupyter.widget-view+json": {
              "version_major": 2,
              "version_minor": 0,
              "model_id": "8f966cdd38c0402ab8b8d28d07e0788f"
            }
          },
          "metadata": {}
        }
      ],
      "source": [
        "# encoding the dataset\n",
        "embedding_matrix = model.encode(data['review'], device=device, show_progress_bar=True)"
      ]
    },
    {
      "cell_type": "code",
      "execution_count": null,
      "metadata": {
        "colab": {
          "base_uri": "https://localhost:8080/"
        },
        "id": "Oqi4c8sBC9pH",
        "outputId": "c20fec27-8ae9-4ae6-9c49-84bf4979ef13"
      },
      "outputs": [
        {
          "output_type": "execute_result",
          "data": {
            "text/plain": [
              "(9982, 384)"
            ]
          },
          "metadata": {},
          "execution_count": 17
        }
      ],
      "source": [
        "# printing the shape of the embedding matrix\n",
        "embedding_matrix.shape"
      ]
    },
    {
      "cell_type": "code",
      "execution_count": null,
      "metadata": {
        "colab": {
          "base_uri": "https://localhost:8080/"
        },
        "id": "pi3-HSa7GghW",
        "outputId": "2e4d61c3-90bc-441f-d044-21812b7f1433"
      },
      "outputs": [
        {
          "output_type": "execute_result",
          "data": {
            "text/plain": [
              "array([-7.45214298e-02,  2.59446609e-03, -3.34988758e-02, -4.84162681e-02,\n",
              "       -3.84775884e-02,  6.37952760e-02,  5.54267736e-03,  4.06936817e-02,\n",
              "        6.29823431e-02, -3.84879708e-02, -1.27105266e-02, -2.12659724e-02,\n",
              "        6.79038689e-02,  2.27344735e-03,  1.14874984e-03,  2.30603609e-02,\n",
              "        8.18004981e-02,  4.14929204e-02, -2.12946627e-02, -2.29654480e-02,\n",
              "        2.09020562e-02, -2.93924734e-02,  9.37751383e-02, -2.93005425e-02,\n",
              "       -6.34454563e-02, -1.70642566e-02,  1.12413347e-01, -2.24412009e-02,\n",
              "       -6.00713901e-02,  1.55951865e-02,  2.08700635e-02,  7.55285919e-02,\n",
              "       -6.04214780e-02,  2.33686925e-03, -1.79052539e-02,  7.56649002e-02,\n",
              "        9.78594553e-03,  2.67771762e-02, -1.30182598e-02, -1.76513679e-02,\n",
              "        3.84344943e-02,  3.93548273e-02,  5.56519888e-02, -1.35074668e-02,\n",
              "        5.03628105e-02, -7.22084343e-02, -2.37328783e-02, -1.08479768e-01,\n",
              "        2.67261118e-02, -5.05364686e-02, -8.09638277e-02,  5.58140464e-02,\n",
              "       -1.44369155e-03, -7.50080794e-02, -1.86012276e-02, -5.47644012e-02,\n",
              "        2.40128860e-03, -6.56609908e-02, -1.57779770e-03, -5.13054058e-02,\n",
              "        4.24675643e-02,  1.24977287e-02,  3.03735137e-02, -4.31725904e-02,\n",
              "        1.69863462e-01, -5.91772906e-02,  1.09682400e-02, -4.13612975e-03,\n",
              "        1.90327261e-02,  3.27673629e-02, -1.74824763e-02, -4.24248492e-03,\n",
              "       -1.18965702e-02, -1.12545490e-02, -1.35535032e-01, -5.91632463e-02,\n",
              "       -4.86993603e-02, -2.06445456e-02, -4.66583036e-02, -2.93372478e-02,\n",
              "        5.35680726e-02, -4.49753590e-02,  4.02754992e-02,  7.52901733e-02,\n",
              "       -2.83816922e-02,  5.67037438e-04,  9.82694849e-02, -3.98135036e-02,\n",
              "        2.84448285e-02,  3.35594937e-02,  3.70947208e-04,  6.21097609e-02,\n",
              "       -1.75979137e-02,  2.96226852e-02,  1.21948787e-03, -5.14746234e-02,\n",
              "       -1.20611340e-02,  2.31993664e-02,  8.41187872e-03,  4.62805666e-02,\n",
              "       -9.47918568e-04,  2.83236243e-02, -9.87824276e-02, -1.84193552e-02,\n",
              "       -7.69352913e-02, -5.76768443e-02,  2.56718625e-03, -2.24995799e-02,\n",
              "       -1.18198596e-01, -3.87377862e-04, -4.28821519e-02,  3.99927087e-02,\n",
              "       -1.52597763e-02,  5.46164159e-03,  6.50655106e-03,  4.59715910e-02,\n",
              "        2.82266717e-02, -3.77429537e-02, -2.79252585e-02,  4.89265211e-02,\n",
              "        4.79415152e-03,  1.72762759e-02, -2.72311680e-02,  3.94721627e-02,\n",
              "       -2.99998559e-02, -6.42661899e-02, -4.65388969e-02, -3.44394383e-34,\n",
              "       -4.68499362e-02,  2.30200272e-02,  5.13119809e-02,  2.44534928e-02,\n",
              "       -4.66843024e-02, -3.18002002e-03, -1.84493978e-02, -3.93818095e-02,\n",
              "       -1.11614212e-01, -3.57934870e-02, -7.52369920e-03, -2.65549216e-02,\n",
              "        2.66344789e-02, -7.35913515e-02,  2.80248304e-03, -2.70048771e-02,\n",
              "       -6.03325367e-02, -2.63035274e-03,  5.46147637e-02,  4.81367074e-02,\n",
              "       -2.85404231e-02,  9.82047617e-02,  4.84466031e-02, -6.76932409e-02,\n",
              "       -3.89882550e-02, -1.23544745e-02,  9.79316905e-02,  6.18987978e-02,\n",
              "       -6.45640492e-02,  6.75176084e-03,  2.29470637e-02,  8.16872902e-03,\n",
              "       -6.34369720e-03, -8.11847523e-02, -1.31553477e-02,  3.39898001e-03,\n",
              "       -3.97094078e-02,  6.60678651e-03, -1.23985112e-03, -1.11219315e-02,\n",
              "       -1.19866244e-01,  6.33650944e-02, -7.87729621e-02, -2.82132067e-02,\n",
              "       -8.56174305e-02,  7.29379579e-02,  3.46341096e-02,  5.46152927e-02,\n",
              "        1.12103671e-02,  3.70727316e-03,  3.11104245e-02, -9.95511096e-03,\n",
              "       -2.25873897e-03, -8.32355302e-03, -1.75077803e-02,  7.26103038e-02,\n",
              "        4.69530374e-02, -1.10137321e-01,  8.48324411e-03,  4.70012799e-03,\n",
              "        6.81316927e-02, -1.17789589e-01, -1.10001728e-01, -3.86777297e-02,\n",
              "        3.27793919e-02,  5.55588789e-02,  4.72016633e-02, -2.56572454e-03,\n",
              "        4.34626788e-02, -2.83930916e-02, -8.29304159e-02, -4.58010323e-02,\n",
              "        2.53864024e-02,  1.89096574e-02,  4.66615334e-03,  3.16306502e-02,\n",
              "       -1.91792399e-02, -4.77072820e-02, -3.18026803e-02,  3.48259397e-02,\n",
              "       -1.23739699e-02,  5.15530035e-02,  7.23270550e-02, -7.51696602e-02,\n",
              "        4.16437387e-02, -1.77795272e-02, -1.73195861e-02, -7.54681975e-02,\n",
              "       -3.55638862e-02,  1.03576094e-01,  7.12380186e-02, -4.80756499e-02,\n",
              "        2.55937371e-02,  2.28044330e-04,  6.84714392e-02, -8.33087448e-34,\n",
              "        1.00445412e-01, -3.31203900e-02, -1.23413771e-01, -4.13729716e-03,\n",
              "        6.68170676e-02, -6.05845340e-02, -4.71385308e-02,  7.16499910e-02,\n",
              "        7.20914602e-02,  1.08054981e-01,  6.67360872e-02, -3.14741954e-02,\n",
              "        5.40413111e-02, -4.63004736e-03, -1.45038562e-02, -3.12064029e-02,\n",
              "        7.37284049e-02,  5.42307235e-02, -1.56188840e-02,  8.14919733e-03,\n",
              "       -9.31254681e-03,  6.53177826e-03,  2.11309437e-02, -9.05622244e-02,\n",
              "       -4.28670123e-02,  9.42888483e-02, -6.64273426e-02,  6.56627119e-02,\n",
              "       -6.59789741e-02,  1.74302631e-03,  4.85082157e-02, -7.01492876e-02,\n",
              "       -7.34671280e-02, -4.75255447e-03, -1.62463896e-02,  6.09611869e-02,\n",
              "        1.57027729e-02, -6.65899813e-02,  5.08277938e-02, -2.57423371e-02,\n",
              "       -9.67878401e-02,  6.10750951e-02,  8.01141359e-05, -1.81789435e-02,\n",
              "        1.07716788e-02, -6.27533952e-03,  5.28145209e-02,  1.18322439e-01,\n",
              "       -7.33214915e-02, -9.70001593e-02,  2.07604524e-02,  2.93949135e-02,\n",
              "        3.29126716e-02, -5.20762429e-03,  4.35489491e-02, -1.39833037e-02,\n",
              "        1.19714802e-02, -8.00055116e-02,  3.13914455e-02, -4.23000893e-03,\n",
              "       -2.09672609e-03, -2.67933644e-02, -2.61177626e-02, -3.01241167e-02,\n",
              "       -7.16447681e-02,  9.28212889e-03, -1.52165932e-03, -2.85997577e-02,\n",
              "        9.04290527e-02, -1.14346826e-02, -1.15975223e-01, -4.29887287e-02,\n",
              "       -9.47360918e-02,  3.97100151e-02,  5.90663985e-05,  1.30617584e-03,\n",
              "       -9.70323458e-02,  2.37558540e-02,  6.93547130e-02, -1.86283775e-02,\n",
              "        1.25473524e-02, -2.40811356e-03, -1.72560215e-02, -5.92553839e-02,\n",
              "        5.83291724e-02,  5.86894676e-02, -9.85089573e-04,  1.57320946e-02,\n",
              "        8.48785043e-02,  2.48305257e-02,  2.71231532e-02,  2.78787920e-03,\n",
              "        9.52483341e-03, -1.01950690e-02,  2.67678387e-02, -5.04007041e-08,\n",
              "       -3.58130895e-02, -5.40039986e-02, -3.56034711e-02, -2.88604293e-02,\n",
              "       -5.03851771e-02, -4.94079404e-02, -4.45835590e-02,  7.36922473e-02,\n",
              "        5.00194281e-02,  7.53235817e-02, -1.23590203e-02,  1.34426868e-02,\n",
              "       -1.19670073e-03, -6.37441687e-03, -9.79816914e-02,  4.28100713e-02,\n",
              "        1.16737254e-01,  1.97322685e-02,  2.85813282e-03, -5.45213521e-02,\n",
              "        1.49359722e-02, -3.45903332e-03,  7.50039443e-02, -2.88809314e-02,\n",
              "        3.17720673e-03,  8.29552934e-02, -6.77421391e-02, -3.58595550e-02,\n",
              "        1.95417535e-02,  3.51765007e-02,  2.64125504e-02, -5.93773741e-03,\n",
              "        8.71575065e-03, -5.49239777e-02, -1.53860450e-02,  8.21522102e-02,\n",
              "        8.80081207e-02, -1.10115735e-02,  1.11550897e-01,  2.46679550e-03,\n",
              "        4.16809767e-02,  4.36829738e-02,  5.61199663e-03,  7.99997821e-02,\n",
              "        5.38657829e-02,  1.54945478e-02,  3.64430957e-02, -2.98968889e-02,\n",
              "       -6.80099428e-02,  7.50317518e-03,  2.37547327e-02,  1.60431713e-02,\n",
              "       -4.36825911e-03,  3.40582663e-03,  2.26814914e-02,  2.87564453e-02,\n",
              "       -1.33200034e-01,  5.05161472e-02, -7.51479790e-02,  8.26663747e-02,\n",
              "        1.13284335e-01,  6.66868640e-03,  4.49148286e-03, -1.74330864e-02],\n",
              "      dtype=float32)"
            ]
          },
          "metadata": {},
          "execution_count": 18
        }
      ],
      "source": [
        "# printing the embedding vector of the first review in the dataset\n",
        "embedding_matrix[0,:]"
      ]
    },
    {
      "cell_type": "markdown",
      "source": [
        "### **Querying from the dataset**"
      ],
      "metadata": {
        "id": "Ael0QkRBcmEe"
      }
    },
    {
      "cell_type": "markdown",
      "metadata": {
        "id": "lxiB0ewYNVS8"
      },
      "source": [
        "**Now, let's search for similar reviews in our dataset.**"
      ]
    },
    {
      "cell_type": "code",
      "execution_count": null,
      "metadata": {
        "id": "bSjjKSc-OFvj"
      },
      "outputs": [],
      "source": [
        "# defining a function to find the top k similar sentences for a given query\n",
        "def top_k_similar_sentences(embedding_matrix,query_text,k):\n",
        "    # encoding the query text\n",
        "    query_embedding = model.encode(query_text)\n",
        "\n",
        "    # calculating the cosine similarity between the query vector and all other encoded vectors of our dataset\n",
        "    score_vector = np.dot(embedding_matrix,query_embedding)\n",
        "\n",
        "    # sorting the scores in descending order and choosing the first k\n",
        "    top_k_indices = np.argsort(score_vector)[::-1][:k]\n",
        "\n",
        "    # returning the corresponding reviews\n",
        "    return data.loc[list(top_k_indices), 'review']"
      ]
    },
    {
      "cell_type": "code",
      "execution_count": null,
      "metadata": {
        "id": "wNMbpva0MuE-",
        "colab": {
          "base_uri": "https://localhost:8080/"
        },
        "outputId": "b7f81198-1659-4d29-8003-4d80cd0116cf"
      },
      "outputs": [
        {
          "output_type": "stream",
          "name": "stdout",
          "text": [
            "I have just recently been through a stage where I wanted to see why it is that horror films of the 90's can't hold a candle to 70's and 80's horror films. I have been very public in this forum about the vileness of films like The Haunting and Urban Legend and such. I feel that they (and others like them) don't know what true horror is. And it bothered me to the point where it made me go to my local video store and rent some of the classic horror films. I already own all the Friday's so I rented The Texas Chainsaw Massacre, the original Nightmare On Elm Street, Jaws, The Exorcist, Angel Heart, The Exorcist and Halloween. Now the other films are classics in their own right but it is here that I want to tell you about Halloween. Because what Halloween does is perhaps something no other film in the history of horror film can do, and that is it uses subtle techniques, techniques that don't rely on blood and gore, and it uses these to scare the living daylights out of you. I was in a room by myself with the lights off and as silly as I knew it was, I wanted to look behind me to see if Michael Myers was there. No movie that I have seen in the last ten years has done that to me. No movie.<br /><br />John Carpenter took a low budget film and he scared a generation of movie goers. He showed that you don't need budgets in the 8 or 9 figures to evoke fear on an audience. Because sometimes the best element of fear is not what actually happens, but what is about to happen. What was that shadow? What was that noise upstairs? He knows that these are the ways to scare someone and he uses every element of textbook horror that I think you can use. I even think he made up some of his own ideas and these should be ideas that people use today. But they don't. No one uses lighting and detail to provoke scares, they use special effects and rivers of blood. And it is just not the same. You can't be scared by a giant special effect that makes loud noises and jumps out of a wall. It's the moments when the killer is lurking, somewhere, you just don't know where, that scare you. And Halloween succeeds like no other film in this endeavor.<br /><br />In 1963 a young Micael Myers kills his sister with a large butcher knife and then spends the next 15 years of his life, silently locked up in an institute. As Loomis ( his doctor) says to Sheriff Brackett, \" I spent eight years trying to reach him and then another seven making sure that he never gets out, because what I saw behind those eyes was pure e-vil. \" That sets up the manic and relentless idea of a killer that will stop at nothing to get what he wants. And all he wants here is to kill Laurie. No one know why he wants to kill her, but he does.( Halloween II continues the story quite well )<br /><br />What Carpenter has done here is taken a haunting score, mendacious lighting techniques and wrote and directed a tightly paced masterpiece of horror. There is one scene that has to be described. And that is the scene where Annie is on her way to pick up Paul. She goes to the car and tries to open it. Only then does she realize that she has left her keys in the house. She gets them, comes back out and inadvertently opens the car door without using the keys. The audience picks up on this but she doesn't. She is too busy thinking about Paul. When she sits down, she notices that the windows are fogged up. She is puzzled and starts to wipe away the mist, and then Myers strikes, from the back seat. This is such a great scene because it pays attention to detail. We know what is happening and Annie doesn't. But it's astute observations that Carpenter made that scared the hell out of movie goers in 1978 and beyond. <br /><br />Halloween uses blurry images of a killer standing in the background, it has shadows ominously gliding across a wall, dark rooms, creepy and haunting music, a sinister story told hauntingly by Donald Pleasance and a menacing, relentless killer. My advice to film makers in our day and age is to study Halloween. It should be the blue print for what scary movies are all about. After all, Carpenter followed in Hitchcock's steps, maybe director's should follow in his.<br /><br />Halloween personifies everything that scares us. If you are tired of all the mindless horror films that don't know the difference between evil and cuteness, then Halloween is a film that should be seen. It won't let you down. I enjoy being scared, I don't know why, but I do. But nothing has scared me in the 90's, except maybe one film ( Wes Craven's final Nightmare ). If you enjoy beings scared, then Halloween is one that you should see. And if you have already seen it a hundred times, go and watch it again, back to back with a film like Urban Legend. Urban Legend will have you enticed at all the pretty faces in the movie. Halloween will have you frozen with fear, stuck in your seat, not wanting to move. Now tell me, what horror film would you rather watch?<br /><br />And just to follow up after seeing Zombie's version, it makes you appreciate this that much more. This is a classic by definition. Zombie bastardized his version, but it doesn't take away from the brilliance of this one.\n",
            "\n",
            "This completely forgotten slasher flick is one of the best horror movies ever made.Very dark at times it reminds me a little famous thriller \"Deliverance\".Director Jeff Lieberman creates terrific atmosphere of dread and despair.All actors are decent and the climax is really exciting and memorable.So if you are searching for something creepy,try to find this little treasure.My personal rating:10 out of 10.P.S This one is even more chilling than \"Halloween\".\n",
            "\n",
            "I rented this movie roughly 4-5 years ago and was instantly disappointed.<br /><br />I wanted to see a b-movie slasher flick, but ended up with a fecal matter for my eyes. The acting was similar to watching grass dry. I've seen better acting in a softcore film...<br /><br />The idea that a crazy killer comes out of nowhere baffled me. How was this a horror movie?<br /><br />this movie's production value, was laughable at best. There were no scares. It seemed like a high school student got a new video camera for Christmas. The plot was all over the place, if existent. If you are bored looking for a bad horror movie to rent, skip this one. There are much better b-movies out there.\n",
            "\n",
            "Stephen King was raised on flicks like this. -Flicks NOT films.<br /><br />Movies like this and 'Jeepers Creepers' are \"throwbacks\" to the good 'ol day drive-in horror flicks. They are meant to be fun, cheaply made and hopefully: a few good scares.<br /><br />Anyone looking for a theory on the human condition should pass on this creature feature because that's all this is... all it ever will be.<br /><br />Stop trashing what has already deemed itself as trash. -Good, fun, trash!<br /><br />If you enjoyed this I recommend: 'Jeepers Creepers' 'Jeepers Creepers 2' '30 Days of Night' 'Scarecrows'('88) 'They Live' 'Planet Terror' 'Death Proof' and 'Halloween III: Season of the Witch'\n",
            "\n",
            "My personal favorite horror film. From the lengthy first tracking shot to the final story twist, this is Carpenter's masterpiece.<br /><br />Halloween night 1963, little Michael Meyers murders his older sister. All-hallows-eve 1978, Michael escapes from Smith's Grove sanitarium. Halloween night, Michael has come home to murder again.<br /><br />The story is perfectly simple, Michael stalks and kills babysitters. No bells or whistles, just the basics. It's Carpenter's almost over-powering atmosphere of dread that generates the tension. Like any great horror film, events are telegraphed long in advance, yet they still seem to occur at random, never allowing the audience to the chance to second guess the film.<br /><br />The dark lighting, the long steady-cam shots, and (most importantly) that damn eerie music create the most claustrophobic and uncomfortable scenes I have yet to see in film. There is a body count, but compared to the slew of slashers after this it's fairly small. That and most of the murders are nearly bloodless. The fear is not in death, but in not knowing.<br /><br />The acting is roundelay good. PJ Soles provides much of the films limited humor (and one of the best deaths), Nancy Loomis turns in a decent performance and then there is the young (at the time) Jamie Leigh-Curtis. Her performance at first seems shy and un-assured, yet you quickly realize that it is perfect for the character, who is herself shy and un-assured and not at all prepared for what she is to face. And of course there is the perfectly cast Donald Pleasence as the determined (perhaps a little unstable) Dr. Sam Loomis. Rest in peace Mr. Pleasence.<br /><br />If the film has a detrimental flaw, it would be the passage of time. Since the release of this film so many years ago nearly countless clones, copies, rip-offs, and imitators have come along and stolen (usually badly) the films best bits until nearly everything about it has become familiar. Combined with the changes for audience expectations and appetites, one finds much of the films raw power diluted. To truly appreciate it in this day and age, it must be viewed as it once was, as something unique.<br /><br />Never the less, I have no reservation with highly recommending this film to anyone looking for a good, scary time. Highest Reguards.<br /><br />10/10\n",
            "\n"
          ]
        }
      ],
      "source": [
        "# defining the query text\n",
        "query_text = \"Horror movies\"\n",
        "\n",
        "# displaying the top 5 similar sentences\n",
        "top_k_reviews = top_k_similar_sentences(embedding_matrix,query_text,5)\n",
        "\n",
        "for i in top_k_reviews:\n",
        "    print(i, end=\"\\n\\n\")"
      ]
    },
    {
      "cell_type": "code",
      "source": [
        "# defining the query text\n",
        "query_text = \"Action movie with lots of car chases\"\n",
        "\n",
        "# displaying the top 5 similar sentences\n",
        "top_k_reviews = top_k_similar_sentences(embedding_matrix,query_text,5)\n",
        "\n",
        "for i in top_k_reviews:\n",
        "    print(i, end=\"\\n\\n\")"
      ],
      "metadata": {
        "colab": {
          "base_uri": "https://localhost:8080/"
        },
        "id": "e1PanFbX2MbG",
        "outputId": "fa08d7fc-3f99-4ce0-f525-22082232c830"
      },
      "execution_count": null,
      "outputs": [
        {
          "output_type": "stream",
          "name": "stdout",
          "text": [
            "I think the filmographic lineage may run like this. Pay attention, please, because I had to look this up. In 1967 Peter Yates, an ex auto racer, directs the English caper movie \"Robbery,\" the most thrilling part of which is a car chase through the streets of London, down alleys where there are crowds of children playing and all that. It's a success.<br /><br />A year later, Yates directs \"Bullet\", starring Steve McCool, I mean McQueen, featuring another even more spectacular car chase up and down the San Francisco Hills, with dumbfoundingly authentic engine sounds that seem to include double clutching, full race cams, no mufflers, twelve-cylinder engines under forty-foot hoods, supercharged, superdupercharged, and all five-thousand horsepower running at full tilt. Lots of shots of McQueen's gum-chewing visage scowling with concentration as he tries to bump another car off the highway, though a passenger in the other vehicle totes a shotgun. The chase is staged by Philip D'Antoni. Bill Hopkins drives the criminal vehicle.<br /><br />A year or two later, sensing a good thing, Bill Friedkin directs \"The French Connection,\" featuring a chase between a commandeered cop car(Gene Hackman) and an elevated train in New York City. Lots of shots of Hackman's cursing face as he wrestles the battered car through the streets. The chase is staged by Philip D'Antoni. Academy Awards follow.<br /><br />Sensing a good thing, a year or two more brings us \"The Seven Ups,\" featuring a chase between a car driven by Roy Scheider, with lots of shots of Scheider's cursing face as he tries to bump the other car, which is driven by Bill Hopkins, off the road, although the criminal car, to be sure, carries a shotgun-toting passenger. No hills in New York City, just bumps, but they are still sharp enough to elevate the cars a few feet. The pursued car screeches around a corner and dashes down a street on which a dozen children are playing. Shots of the screaming kids as they scatter off the pavement and allows the car to zoom through. But once is not enough. The children immediately run back into the street and must repeat the retreat for the pursuing cop car carrying Scheider.<br /><br />I once witnessed a pursuit at high speed on the streets of Philadelphia. Both the criminal and the cops drove through the streets at about 25 miles an hour, coming to rolling stops at each Stop sign and red light -- very dull stuff compared to this movie.<br /><br />Speaking of this movie, it's pretty good. \"Robbery\" and \"Bullet\" were cool. Everyone dressed neatly. But the New York movies are filthy. There's garbage all over the place and the subway cars are covered with graffiti. Shoot outs and beat ups take place in vacant lots surrounded by crumbling brick buildings, or in disposal dumps for industrial-sized freezers.<br /><br />The acting is pretty good too. Roy Scheider seems whippet sleek. The other actors have faces made for the camera, especially Richard Welsh. And the story is engaging, if not entirely unfamiliar. What's best about the film is the way it captures New York City in its almost total indifference to human depravity and nobility. At a funeral, the limo drivers stand around with their collars up, butts hanging out of their mouths, kicking their cold feet together, utterly bored at the ritual goings on. The film wants us to believe that The Seven Ups are an elite group of untouchable cops who stop at nothing to get the job done, and here it's a bit of a sell out. They always seems to be threatening to do something unethical and illegal -- beat hell out of a suspect or physically damage a hospitalized and helpless hood -- but they always manage to avoid doing it. (If they actually did it, their characters would become lifelike and ambiguous and we'd rather have our heroes and villains of a more Biblical nature.) Very enjoyable, even if you've seen it before, and you very well may have in one or another of its previous incarnations.\n",
            "\n",
            "Set in South Africa, a young black guy tries to land a part in a 'gangsta' movie. But with no knowledge of street life, he's told to find out what that life is really like or he won't get the part. He manages to work his way into a gang led by an old friend of his from school and his chances of appearing in the film decline as he commits crimes to be accepted. But for the gang's leader, the burgeoning disaster of his new friend's life suggests a golden opportunity to do something better with his own.<br /><br />While that may sound relatively interesting, it's anything but. The first half of it is incredibly meandering and tedious, while the \"hijacking\" only takes place towards the end with some very poorly executed low speed car chases. In those \"chases\", only two police cars are used, both of which are early 90's Nissan Sunny's. Not only would these be rather cheap to pick up (and I find it rather hard to believe they'd be using such mundane old cars in South Africa in the year 2000), but as far as I can remember, there's only 2 involved and none of them get a scratch once. The car chases are very badly shot, with distant and badly timed camera angles and minimal traffic on the roads, and they're all over in around 2 minutes at maximum as you're supposed to believe that a very small kid is actually a highly skilled driver who can easily evade the police despite the driving being pedestrian and utterly unexciting. This now leads me onto the characters and the acting, which are equally bad. The aforementioned kid who drives the car, looks about 13 years old and supposedly is extremely skilled at losing the incredibly inept police. Everybody else is equally unconvincing, so much that they even look bored at times themselves.<br /><br />At the closing scene of the movie, our main character (\"Sox Moraka\") is asked by the gang leader to steal a car from a car park. While having trouble opening it, the Police arrive and ask him what he's doing and he replies by telling him it's their car. After a brief argument they try to arrest him and he then holds the Police at gunpoint and jumps back in their car. After he's in, the Police return fire and in turn he gets wounded. After another pathetic chase sequence, they decide to abandon the car and set it alight to destroy any evidence. What follows here is one of the most downright laughable and hideously awful special effects I've ever seen. When the car \"explodes\", superimposed flames suddenly appear from every window with awful sound effects that aren't even in time. It's so badly done and so phony looking that it's hard to even put it into words, and really needs to be seen to be believed. If you watch it in slow motion it looks even funnier. I've seen better effects than this in murder reconstruction documentaries. The car is a Volkswagen Golf MK2 GTi. Something that wouldn't be worth a huge amount at all, and they seriously couldn't afford to destroy it with a real explosion? I'd love to know how large the budget for this movie was. It feels so cheap that I'm surprised it made it outside of South Africa, and even more surprised it made it to a DVD release.<br /><br />I know it's not a big budget Hollywood production. I know it's meant to depict gangs in impoverished townships of South Africa who steal cars from the middle class in and sell the parts on the black market, but with the laughable effects, poorly executed car chases, awful acting and ludicrous characters, any sense of reality is completely lost.<br /><br />Overall, I most certainly do NOT advise you to watch this. If you want to have a laugh and see one of the most poorly done, low budget messes of amovie ever created, then I'd recommend it for that, and only that.<br /><br />It is a wretched, poorly made, poorly edited, poorly paced and tedious piece of low budget drivel that fails on all counts. I've seen many South African movies, including lots of cheap NuImage/Nu-World action pictures, and despite their cheesiness, they're far better than this on all counts.\n",
            "\n",
            "I liked this movie. It was pretty cool. It has it all: cars, gun shooting, fighting, and even a token girl. It does not excel in any of this things, with the exception of the cars. A bit of shooting, a bit of fighting, a bit of smooching around, and LOT´s of car, with a great chase near the end. The jump, you may say, is impractical, but according to our good friends here at the IMDB it is possible, so the movie ain´t as bad as people are painting it. It has some quality, and I liked to watch it. In fact, I loved the film. And I didn´t need to turn off my brains to watch it. I wasn´t always thinking \"Is this possible?\" or tramp like that. 9 in 10.\n",
            "\n",
            "This movie was way too slow and predictable.I wish i could say more but i can't.If you enjoy action/adventure films,this is not one to see.I'd suggest you go see movies like;Behind Enemy Lines with Owen Wilson and Iron Eagle with Louis Gossett Jr.\n",
            "\n",
            "Finally a thriller which omits the car chases, explosions and other eye catching effects. The movie combines a simple plot (assasination of a french president) with an excellent background. It takes a look behind mans behavior with authorities, and explains why we would obey almost every order (even murder) which would be given to us.<br /><br />Furthermore it shows us how secret services can manipulate the run of history and how hardly they can be controlled. The best thing on this movie is, that there is no classic \"Hollywood end\" which can easily be predicted.\n",
            "\n"
          ]
        }
      ]
    },
    {
      "cell_type": "code",
      "source": [
        "# defining the query text\n",
        "query_text = \"The movie wasn't great but it delivered as per the expectations.\"\n",
        "\n",
        "# displaying the top 5 similar sentences\n",
        "top_k_reviews = top_k_similar_sentences(embedding_matrix,query_text,5)\n",
        "\n",
        "for i in top_k_reviews:\n",
        "    print(i, end=\"\\n\\n\")"
      ],
      "metadata": {
        "colab": {
          "base_uri": "https://localhost:8080/"
        },
        "id": "FBhATaK-d3sx",
        "outputId": "f9af5b0c-8edb-4c6d-a306-0b58a511b1d3"
      },
      "execution_count": null,
      "outputs": [
        {
          "output_type": "stream",
          "name": "stdout",
          "text": [
            "This movie turned out to be better than I had expected it to be. Some parts were pretty funny. It was nice to have a movie with a new plot.\n",
            "\n",
            "I didnt know what to expect . I only watched it on a rainy sunday afternoon on pay tv . Right from the start it drew me in . The music and settings and characters were excellent . I hadnt heard of any of the actors but they all were outstanding . A wonderful thriller .<br /><br />Now that ive read other comments on this movie referring to past versions and the book , i will be endeavouring to find out more on this great movie\n",
            "\n",
            "Considering the big name cast and lavish production I expected a lot more of this film. The acting for the most part is great, although the story they have to work with is mediocre at best. However the film still warrants watching because of the acting and the stars and some and up and coming young talent.\n",
            "\n",
            "I really didn't have high expectations and I must admit that I wasn't disappointed. This movie is so terrible that I felt obligated to register an account here at IMDb just to warn others not to waste their time. The storyline is terrible and you keep asking yourself throughout the movie \"can it get any worse?\" YES, it can! somehow they manage to make it worst by every minute and you end up thinking \"I want my 1 hour 35 minutes back!\". Somebody got to pay for this! <br /><br />I dare you to find a movie which is worst that this...<br /><br />I really didn't have high expectations and I must admit that I wasn't disappointed. This movie is so terrible that I felt obligated to register an account here at IMDb just to warn others not to waste their time. The storyline is terrible and you keep asking yourself throughout the movie \"can it get any worse?\" YES, it can! somehow they manage to make it worst by every minute and you end up thinking \"I want my 1 hour 35 minutes back!\". Somebody got to pay for this! <br /><br />I dare you to find a movie which is worst that this...\n",
            "\n",
            "I read all of the other comments which made this movie out to be an excellent movie. I saw nothing of the excellence that was stated. I thought it was long and boring. I tried twice to watch it. The first time I fell asleep and the second time I made it to within six minutes of the end and gave up. I suppose that it was mainly my fault going in with great expectation, but I don't think that this would have completely ruined the movie for me. The movie was just bland. It had nothing that was spectacular or unique to it. The plot was not half bad, the action sequences were non-existent, the dialogue forced and the movie just went on forever. I would not recommend seeing this movie.\n",
            "\n"
          ]
        }
      ]
    },
    {
      "cell_type": "markdown",
      "metadata": {
        "id": "OXE2IZ15fpxc"
      },
      "source": [
        "### **Categorization of Reviews**"
      ]
    },
    {
      "cell_type": "markdown",
      "source": [
        "- Let's try categorizing some of the reviews based on queries that can act as category identifiers.\n",
        "\n",
        "- We'll choose\n",
        "    - one highly positive query\n",
        "    - one moderately positive query\n",
        "    - one highly negative query\n",
        "    - one moderately negative query"
      ],
      "metadata": {
        "id": "h8-1GGy_eK_0"
      }
    },
    {
      "cell_type": "code",
      "source": [
        "# queries acting as catergory identifiers\n",
        "queries_for_categorization = [\n",
        "    \"Overall a great movie that ticks all the right boxes.\",\n",
        "    \"The movie wasn't that great but it delivered as per the expectations.\",\n",
        "    \"The movie was a bad experience with bad direction and poor story.\",\n",
        "    \"The plot was confusing but the acting performances were okay. The movie was mediocre at best.\"\n",
        "]"
      ],
      "metadata": {
        "id": "Zwq66PvYzt_U"
      },
      "execution_count": null,
      "outputs": []
    },
    {
      "cell_type": "markdown",
      "source": [
        "**Now, we'll use the model to identify movie reviews that are most similar to the above queries.**"
      ],
      "metadata": {
        "id": "fNJYyqUUfHPE"
      }
    },
    {
      "cell_type": "code",
      "source": [
        "# dictionary to store the reviews for each of the categories\n",
        "categorized_reviews = {}\n",
        "\n",
        "# number of reviews to consider for similarity\n",
        "k = 500\n",
        "\n",
        "# looping over the queries and updating the values to the top review sentences similar to the queries\n",
        "for query in queries_for_categorization:\n",
        "    categorized_reviews[query] = top_k_similar_sentences(embedding_matrix, query, k)"
      ],
      "metadata": {
        "id": "RKaMQkGCfH93"
      },
      "execution_count": null,
      "outputs": []
    },
    {
      "cell_type": "markdown",
      "source": [
        "**Let's check the results.**"
      ],
      "metadata": {
        "id": "GGe77ysgf-5C"
      }
    },
    {
      "cell_type": "code",
      "source": [
        "i = 0\n",
        "print('Query Text:', queries_for_categorization[i], end='\\n')\n",
        "print('Similar Reviews:', end='\\n\\n')\n",
        "categorized_reviews[queries_for_categorization[i]].head(10)"
      ],
      "metadata": {
        "colab": {
          "base_uri": "https://localhost:8080/"
        },
        "id": "xaCQ5odpgBkT",
        "outputId": "3fcccf6d-eaad-415d-953f-856408a19622"
      },
      "execution_count": null,
      "outputs": [
        {
          "output_type": "stream",
          "name": "stdout",
          "text": [
            "Query Text: Overall a great movie that ticks all the right boxes.\n",
            "Similar Reviews:\n",
            "\n"
          ]
        },
        {
          "output_type": "execute_result",
          "data": {
            "text/plain": [
              "6502                                                                                                                                                                                                                                                                                                                                                                                                                                                                                                         wonderful movie with good story great humour (some great one-liners) and a soundtrack to die for.<br /><br />i've seen it 3 times so far.<br /><br />the american audiences are going to love it.\n",
              "8376                                                                                  <br /><br />When I first heard about this back in 1997, over coffee with friends, I decided to check it out. The only problem was that it was on a small screen at one of my local cinema's.<br /><br />That didn't stop the enjoyment of seeing a simply great movie, with a top notch cast in Aidan Quinn, Donald Sutherland, and Ben Kingsley. The whole movie, kept me glued to my seat. <br /><br />I simply found no flaws in this great movie, I give it my highest recommendation to those who love thrillers. I am very proud to have this in my collection.<br /><br />10/10 ( I don't hand this out lightly).\n",
              "790                                                                                                                                                                                                                                                                                                                                                                                                                                                                                                                                                                         A great film in its genre, the direction, acting, most especially the casting of the film makes it even more powerful. A must see.\n",
              "1493                                                                                                                                                                                                                                                          This movie was worth five punches on my \"hurter card\". I saw this while stationed in Virginia in the mid '70's. I saw it alone so I was not distracted while I watched it. It sucked. It was the most ridiculous, total waste of celluloid I've ever seen.<br /><br />I know that others who have reviewed this movie have thought that it was awesome. I offer you this: if it was so awesome what was it's box office take? End of discussion.\n",
              "3151                                                                                                                                                                                                                                                                                                                                                                                                                                                                                                          This movie was very good. I really enjoyed it. Tom McCamus' performance was excellent and very believable as the consumptive son Edmund. I also enjoyed the set design (house) and the costumes.\n",
              "8768                                                                                                                                                                                                                                                                                                                              Well when watching this film late one night I was simple amazed by it's greatness. Fantastic script, great acting, costumes and special effects, and the plot twists, wow!! In fact if you can see the ending coming you should become a writer yourself.<br /><br />Great, I would recommend this film to anyone, especially if I don;t like them much.<br /><br />Terrific\n",
              "1739                                                                                                                                                                                                                                                                                                                                                                                                                                                                                                                                                               This movie turned out to be better than I had expected it to be. Some parts were pretty funny. It was nice to have a movie with a new plot.\n",
              "2198                                                                                                                                                                                                                                                                                                                                                                                       Considering the big name cast and lavish production I expected a lot more of this film. The acting for the most part is great, although the story they have to work with is mediocre at best. However the film still warrants watching because of the acting and the stars and some and up and coming young talent.\n",
              "2320    Overall this movie was excellent for its time and will be interesting for many more generations to come. Although the plot is not 100% accurate to the book most everything is correct. The movie does skip far ahead and does miss some important parts. I found the book and ready and immediately wished that they had made a movie (because I hadn't found out about the movie yet) but later I found the movie in a bargain bin at Wal-Mart and decided to buy it and see if it was what I had expected. Overall I give this movies a 7 out of 10 for its good parts (relative accuracy and overall making sense) and for its bad parts (large time skips and small but noticeable inaccuracies).\n",
              "1833                                                                                                                                                                                                                                                                                                                                                                                                                           The plot is tight. The acting is flawless. The directing, script, scenery, casting are all well done. I watch this movie frequently, though I don't know what it is about the whole thing that grabs me. See it and drop me a line if you can figure out why I like it so much.\n",
              "Name: review, dtype: object"
            ]
          },
          "metadata": {},
          "execution_count": 32
        }
      ]
    },
    {
      "cell_type": "code",
      "source": [
        "i = 1\n",
        "print('Query Text:', queries_for_categorization[i], end='\\n')\n",
        "print('Similar Reviews:', end='\\n\\n')\n",
        "categorized_reviews[queries_for_categorization[i]].head(10)"
      ],
      "metadata": {
        "colab": {
          "base_uri": "https://localhost:8080/"
        },
        "id": "nehD-HXcgzvL",
        "outputId": "94119a2c-2d3a-41dd-d92d-37fabac667a3"
      },
      "execution_count": null,
      "outputs": [
        {
          "output_type": "stream",
          "name": "stdout",
          "text": [
            "Query Text: The movie wasn't that great but it delivered as per the expectations.\n",
            "Similar Reviews:\n",
            "\n"
          ]
        },
        {
          "output_type": "execute_result",
          "data": {
            "text/plain": [
              "1739                                                                                                                                                                                                                                                                                                                                                                                                                                                                                                                                                                                                                                                                                                                                                                                                                                                                                                                                                                                                                                                                                                                                                                                                                                                         This movie turned out to be better than I had expected it to be. Some parts were pretty funny. It was nice to have a movie with a new plot.\n",
              "2198                                                                                                                                                                                                                                                                                                                                                                                                                                                                                                                                                                                                                                                                                                                                                                                                                                                                                                                                                                                                                                                                                 Considering the big name cast and lavish production I expected a lot more of this film. The acting for the most part is great, although the story they have to work with is mediocre at best. However the film still warrants watching because of the acting and the stars and some and up and coming young talent.\n",
              "8758                                                                                                                                                                                                                                                                                                                                                                                                                                                                                                                                                                                                                                                                                                                                                                                                                                                                                                                                                       I didnt know what to expect . I only watched it on a rainy sunday afternoon on pay tv . Right from the start it drew me in . The music and settings and characters were excellent . I hadnt heard of any of the actors but they all were outstanding . A wonderful thriller .<br /><br />Now that ive read other comments on this movie referring to past versions and the book , i will be endeavouring to find out more on this great movie\n",
              "4874                                                                                                                                                                                                                                                                        I really didn't have high expectations and I must admit that I wasn't disappointed. This movie is so terrible that I felt obligated to register an account here at IMDb just to warn others not to waste their time. The storyline is terrible and you keep asking yourself throughout the movie \"can it get any worse?\" YES, it can! somehow they manage to make it worst by every minute and you end up thinking \"I want my 1 hour 35 minutes back!\". Somebody got to pay for this! <br /><br />I dare you to find a movie which is worst that this...<br /><br />I really didn't have high expectations and I must admit that I wasn't disappointed. This movie is so terrible that I felt obligated to register an account here at IMDb just to warn others not to waste their time. The storyline is terrible and you keep asking yourself throughout the movie \"can it get any worse?\" YES, it can! somehow they manage to make it worst by every minute and you end up thinking \"I want my 1 hour 35 minutes back!\". Somebody got to pay for this! <br /><br />I dare you to find a movie which is worst that this...\n",
              "3837                                                                                                                                                                                                                                                                                                                                                                                                                                                                                                                                                                                                                                                                                    I read all of the other comments which made this movie out to be an excellent movie. I saw nothing of the excellence that was stated. I thought it was long and boring. I tried twice to watch it. The first time I fell asleep and the second time I made it to within six minutes of the end and gave up. I suppose that it was mainly my fault going in with great expectation, but I don't think that this would have completely ruined the movie for me. The movie was just bland. It had nothing that was spectacular or unique to it. The plot was not half bad, the action sequences were non-existent, the dialogue forced and the movie just went on forever. I would not recommend seeing this movie.\n",
              "7202    This movie was way over-hyped. A lot of the viewers, who thought this was \"amazing\" must have been into the old school movies, cause the whole movie is set in the past. At first I thought the movie was just showing something from the past, so I was expecting that faded dreamy like lighting on the characters to pass, but it just going. Basically this was a movie trying to mix the future with the past, and the 2 don't mix very well in this movie, even with special effects. You could actually see the blue screen the actors were working with. There are too many movies out there that do exactly what this movie did, so there is no reason for critics to hype this movie up saying \"it's the greatest movie ever done\". It's just crap on a stick. It also didn't help that the story line was sooo crappy. I don't understand why Hollywood agreed to have this movie produced, and I also don't understand how actors/actresses in this movie are willing to be in a movie like this. It's almost as though everybody read the script and forgot to read the fine print...\"It will all be done on a computer\". This was a movie that should have been on a movie network, because nothing about this movie was revolutionary. I'm very upset with myself for paying money to see this. Whatever you do, don't waste your time and money on this movie today or tomorrow.\n",
              "1955                                                                                                                                                                                                                                                                                                                                                                                                                                                                                                                                                                                                                                                                                                                     This movie was horrid and at the end made me wonder why someone went to the trouble to make it. Now it was not all bad, I have studied film and this film was put together very nicely and had very good cinematic everything with interesting angles to very nice lighting and excellent camera work. I wish I could have seen it back in school because it would have made a good film to write a paper on. BUT........ Since I have graduated and lost most of my film pretentiousness I have realized that a film should be entertaining above all, this movie was long and boring and I'm not sure when it finally got to the point that it was worth my time.<br /><br />\n",
              "9742                                                                                                                                                                                                                                                                                                                                                                                                                                                                                                                                                                                                                I have to admit that I am disappointed after seeing this movie. I had expected so much more from the trailers. The movie was absolutely horrible. It lacked a real story line and the acting was not exactly the best. Don't waste your time. The movie is not what the trailers lead you to think it is. I would have to say that I don't usually write anything about movies on IMDb (in fact this is my first one) but this movie was such a disappointment that I registered just to let people know not to waste their time or money. The story line is that of a heist that is to happen and it looks like it had potential to be good but the things that happen in the movie are a little far fetched to be believable. Watch another movie instead, maybe the inside man???\n",
              "3114                                                                                                                                                                                                                                                                                                                                                                                                                                                                                                                                                                                                                                                                                                                                                                                                                                                                                                                                                                                                  I went to see Antone Fisher not knowing what to expect and was most pleasantly surprised. The acting job by Derek Luke was outstanding and the story line was excellent. Of course Denzel Washington did his usual fine job of acting as well as directing. It makes you realized that people with mental problems CAN be helped and this movie is a perfect example of this. Don't miss this one.\n",
              "414                                                                                                                                                                                                                                                                                                                                                                                                                                                                                                                                                                                                                                                                                                                                                                                                                                                                                                                                                                                                                                                   it was a very well written movie, and the actors had a very exquisite way of portraying all the character. but as the movie came to an end i felt as if there was more but they forgot to put it on the dvd. maybe they are planning on making a sequel...well even if they don't it's a good movie and a good rental, but even a better purchase.\n",
              "Name: review, dtype: object"
            ]
          },
          "metadata": {},
          "execution_count": 33
        }
      ]
    },
    {
      "cell_type": "code",
      "source": [
        "i = 2\n",
        "print('Query Text:', queries_for_categorization[i], end='\\n')\n",
        "print('Similar Reviews:', end='\\n\\n')\n",
        "categorized_reviews[queries_for_categorization[i]].head(10)"
      ],
      "metadata": {
        "colab": {
          "base_uri": "https://localhost:8080/"
        },
        "id": "HWPhobq1gzru",
        "outputId": "02c373d3-4ab6-4472-e684-5f0db0601148"
      },
      "execution_count": null,
      "outputs": [
        {
          "output_type": "stream",
          "name": "stdout",
          "text": [
            "Query Text: The movie was a bad experience with bad direction and poor story.\n",
            "Similar Reviews:\n",
            "\n"
          ]
        },
        {
          "output_type": "execute_result",
          "data": {
            "text/plain": [
              "1327                                                                                                                                                                                                                                                                                                                                                                                                                                                                                                                                                                                                                                                                                                                                                                                                                                                                                                                                                                                                                                                                                                                                                                                                                                                                                                                                                                                                                                                                                                                                                                                                                                                                                                                                                                                                                                                                                                                                  So that´s what I called a bad, bad film... Poor acting, poor directing, terrible writing!!!! I just can´t stop laughing at some scenes, because the story is meaningless!!! Don´t waste your time watching this film... Well, I must recognize it has one or two good ideas but it´s sooooo badly writen...\n",
              "3215                                                                                                                                                                                                                                                                                                                                                                                                                                                                                                                                                                                                                                                                                                                                                                                                                                                                                                                                                                                                                                                                                                                                                                                                                                                                                                                                                                                                                                                                                                                                                                                    I still find it difficult to comprehend that a movie as bad as this could be made in Hollywood. The acting and story is simply pathetic & the direction is awful. I don't see any logic behind this trash except may be that the director had nothing good to do. I took me ten minutes to realize that i had wasted my precious thirty rupees. It filled me with dismay that i was going to waste some more time of my life on this crap. I bet the movie was made in less than a day. I don't know what category it falls into. Please, avoid this movie at all costs, just do anything, even bang your head against walls but don't go for this movie.\n",
              "4030                                                                                                                                                                                                                                                                                                                                                                                                                                                                                                                                                                                                                                                                                                                                                                                                                                                                                                                                                                                                                                                                                                                                                                                                                                                                                                                                  I am at a loss to find the words to express how bad I thought this film was. The initial precept was promising, but in all respects afterwards it was totally awful. Let's run through the main points. Plot - good initial idea but truly terrible development. There were many points when I thought \"no, nobody would do something that stupid\". The ending was amazingly anticlimactic. Characterisation - all of the characters were either completely bland or grotesque caricatures. I keep trying to think of one that wasn't - possibly the mother, but that's it. Music - intrusive, inappropriate and generally terrible. Direction - totally amateurish. Cinematography - doubt they've heard of it. Camera angles / stability / zoom levels often really bad. I am totally bemused at how this film has scored so highly. It's the worst movie I've seen at the cinema for years, if not ever.\n",
              "1419    There are good-bad movies and bad-bad-movies and enjoyably bad movies...this isn't one of them. This is a movie that doesn't realize just how bad it is.<br /><br />I saw this at a screening on November 14, 2006 at the New Beverly Theater in Los Angeles as part of the \"Grindhouse Cinema\" this theater puts on every month. Hopefully presenters Eric Caiden & co. will think twice before letting writer/director Lawrenece Foldes anywhere near them again. What a con man. The guy got up to speak before the film -- you would think he was Orson Welles talking about \"Touch of Evil\" or some other lost classic. Hardly. Nice of him to take up 20 minutes of the audiences' time with his incoherent rambling. <br /><br />\"Young Warriors\" has been described as a cross between \"Animal House\" and \"Death Wish\" but if you are expecting something along the lines of imitations like \"Revenge of the Nerds\" or \"The Exterminator\" you will be in for one sad disappointment. The script makes zero sense. The direction is so poor the actors looked embarrassed and what can you say when the best thing about the movie is watching a car blow up?<br /><br />Poor Richard \"shaft\" Roundtree. In this movie he plays another character with the first name of \"John\" but that's about the only similarity his character here has to the aforementioned classic. I hope this film allowed him to pay the rent for another month. Other actors who look like they wished they could be anywhere else included Ernest Borgnine and Linda Day George. <br /><br />This is a complete waste of time. Even the audience did not seem that into it (except for the one spazz-boy sitting in the back who yelled \"whoa\" every five minutes and his girlfriend who giggled with the fervor of a lobotomized talking Barbie every time he opened his mouth).<br /><br />For real films about vigilantes, I would suggest the following:<br /><br />Death Wish I, II, III, Exterminator I, Vigilante Force, Ms. 45, Rolling Thunder, the No-Mercy Man (the latter two being a pair of films presented at this theater a couple of years ago -- probably the same budget as \"Young Warriors\" but both were a million times better!)\n",
              "7215                                                                                                                                                                                                                                                                                                                                                                                                                                                                                                                                                                                                                                                                                                                                                                                                                                                                                                                                                                                                                                                                                                                                                                                                                                                                                                                                                                                                                                                                                                                                                                                                                                                                                                                                                                                                                                                                                                                                                    Bad acting. Bad writing. This was a poorly written film. It's too bad because it had some potential. It's not even close to American Pie or Something about Mary as previous comments might have you believe. Rent it at dollar night from you local video store if you're kind of bored.\n",
              "5023                                                                                                                                                                                                                                                                                                                                                                                                                                                                                                                                                                                                                                                                                                                                                                                                                                                                                                                                                                                                                                                                                                                                                                                                                                                                                                                                                                                                                                                                                                                                                                    Wow! I just don't even know where to begin with what made this movie so awful. Maybe I should start by just saying that during a \"heated confrontation\" between the antagonist and protagonist, I had to leave the theater because I was laughing so hard. Yeah. The acting really was that bad. The acting was not even the worst part though. The plot was almost entirely shown in the previews. The characters are all grossly underdeveloped. The dialogue and \"dramatic moments\" are ridiculous. The bad guy is a caricature of an out of control, power drunk, sadist.<br /><br />But hey the actors are pretty, so guess that was supposed to make it all better.\n",
              "4904                                                                                                                                                                                                                                                                                                                                                                                                                                                                                                                                                                                                                                                                                                                                                                                                                                                                                                                                                                                                                                                                                                                                                                                                                                                                                                                                                                                                                                               With the little respect it deserves, I would like to state that this movie was horrible. The filmmakers had good intentions, but the overall quality of the direction and production value was obviously lacking a great deal. I would recommend this movie to anyone who likes a good hard laugh and then wasting two more hours of their life enduring a truly painful experience. I'm surprised I even found this movie on the $1 DVD rack where it was aptly placed. I thought maybe it was going to be good and that I might discover some amazing independent film - I was wrong. I wish I had never seen this movie. My 3-year-old cousin couldn't make a worse film. I'm glad I saw the film because I can finally tell people I've seen the worst movie ever made, and be sure of it.\n",
              "9972                                                                                                                                                                                                                                                                                                                                                                                                                                                                                                                                                                                                                                                                                                                                                                                                                                                                                                                                                                                                                                                                                                                                                                                                                                                                                                                                                                                                                                                                                                                                                                                                                                                                                                                                                                                                                            This film is really bad, with a script full of 'memorable' lines and incredibly bad performances. The special effects are also bad (not the worst ones I have seen, either) and the music is so bad that you have to listen to it to believe it. Just two short themes (30 seconds long or so) are repeated constantly throughout the whole film.<br /><br />All in all, one of the worst films I have ever seen.\n",
              "3061                                                                                                                                                                                                                                                                                                                                                                                                                                                                                                                                                                                                                                                                                                                                                                                                                                                                                                                                                                                                                                                                                                                                                                                                                                                                                                                                                                                                                                                                                                                                                                                             Woa, talk about awful. Do not waste your time. I wish I had seen the other use comments first. <br /><br />I have to admit, I didn't watch the whole thing. It was just too horrible. The worst, sappiest dialogue... I could go on and on. But what really made it unwatchable was the direction. The poor actors. You can't even tell if they have any talent because they not only have pathetic lines to speak but the director gave them no action. If you check the director's filmography on this site you will see why this film didn't have a chance. <br /><br />This would not even be good as a made for TV flick. <br /><br />Ouch!\n",
              "2988                                                                                                                                                                                                                                                                                                                                                                                                                                                                                                                                                                                                                                                                                                                                                                                                                                                                                                                                                                                                                                                                                                                                                                                                                                                                                                                                                                                                                                                                                                                                                                                                                                                                                                                                                                                                                                                                                                                                                                                                                                                                              Bad movie. It´s too complicated for young children and too childish for grown-ups. I just saw it because I´m a Robin Williams fan and I was very disappointed.(\n",
              "Name: review, dtype: object"
            ]
          },
          "metadata": {},
          "execution_count": 34
        }
      ]
    },
    {
      "cell_type": "code",
      "source": [
        "i = 3\n",
        "print('Query Text:', queries_for_categorization[i], end='\\n')\n",
        "print('Similar Reviews:', end='\\n\\n')\n",
        "categorized_reviews[queries_for_categorization[i]].head(10)"
      ],
      "metadata": {
        "colab": {
          "base_uri": "https://localhost:8080/"
        },
        "id": "rrMZWaFhgzpR",
        "outputId": "a050200e-1e30-4621-ba9f-19cdec5c0e81"
      },
      "execution_count": null,
      "outputs": [
        {
          "output_type": "stream",
          "name": "stdout",
          "text": [
            "Query Text: The plot was confusing but the acting performances were okay. The movie was mediocre at best.\n",
            "Similar Reviews:\n",
            "\n"
          ]
        },
        {
          "output_type": "execute_result",
          "data": {
            "text/plain": [
              "1833                                                                                                                                                                                                                                                                                                                                                                                                                                                                                                                                                                                                                                                                                                                                                                                                                                                                                                                       The plot is tight. The acting is flawless. The directing, script, scenery, casting are all well done. I watch this movie frequently, though I don't know what it is about the whole thing that grabs me. See it and drop me a line if you can figure out why I like it so much.\n",
              "3837                                                                                                                                                                                                                                                                                                                                                                                                                                                                                      I read all of the other comments which made this movie out to be an excellent movie. I saw nothing of the excellence that was stated. I thought it was long and boring. I tried twice to watch it. The first time I fell asleep and the second time I made it to within six minutes of the end and gave up. I suppose that it was mainly my fault going in with great expectation, but I don't think that this would have completely ruined the movie for me. The movie was just bland. It had nothing that was spectacular or unique to it. The plot was not half bad, the action sequences were non-existent, the dialogue forced and the movie just went on forever. I would not recommend seeing this movie.\n",
              "3183    i had gone to the movies expecting to see a great film based on all the word of mouth and terrific reviews. the minute the opening sequence started i knew i was in trouble. the music and credits were trying so hard to evoke emotion i wanted to puke. all i got from this film was clichéd characters, contrived dialog and an unemotional script. director/writer Paul haggis' has managed to get great reviews with his manipulative, self righteous writing, but it doesn't fool me. some performance were good. don Cheadle is always good. i think Terrance Howard is slightly over rated but he was decent. ludicrous was way too on the nose. he should stick to rapping. Brendan Fraser was fine. Jennifer Esposito left no impression what so ever. i find nothing interesting about her. Sandra bullock is always the same in every movie, she's just okay. Matt Dillon was very good and i enjoyed watching him work. Ryan Philippe was good as well. but as far as the script and the lousy directing- this is actually one of those movies that is so annoyingly bad i actually took the time to write about it. i would not recommend this film to anyone, what a waste of time.\n",
              "2198                                                                                                                                                                                                                                                                                                                                                                                                                                                                                                                                                                                                                                                                                                                                                                                                                                                                                   Considering the big name cast and lavish production I expected a lot more of this film. The acting for the most part is great, although the story they have to work with is mediocre at best. However the film still warrants watching because of the acting and the stars and some and up and coming young talent.\n",
              "7898                                                                                                                                                                                                                                                                                                                                                                                                           I heard what people were saying, but I ignored them. Being rushed at Blockbuster I grabbed copy of this movie and ran out. <br /><br />45 minutes into I was fighting to stay awake. There is some attempt to keep the film interesting, but it was just bad. A chase of some sort takes place, but it was long and drawn out - the perfect time to make a snack. By the time this movie was over I didn't care how ended, I just wanted it to end. Walking in and out of my room checking to see if it was over.<br /><br />The entire movie is a cliche', the characters and their relationships. The plot twists are predictable, as well as the ending. The actors made the best out of really terrible roles. All can say is: their clothes were nice, but the movie, it was just bad.\n",
              "7504                                                                                                                                                                                                                                                                                                                                                                                                                                                                                                                                                                                                                                                                                                                                                                 Pure crap, decent cinematography... I liked some of colors. Other than that, this was one of the worst movies I ever saw. Boring, lifeless, not once did I find myself interested in any of the characters. I kept waiting for a real plot to form and the movie to pick up the pace. Nothing ever happened! I think they spent too much time working on hair and wardrobe that they forgot there was a movie being made at the time.\n",
              "2134                                                                                                                                                                                                                                                                                                                                                                                                                                                                                                                                                                                                                                                                                                                                                                                                                                                                                                            The storyplot was okay by itself, but the film felt very bubbly and fake. It also had the worst ending. They were probably going for a surprise ending, but all it did was leave me the question of what the whole point of the story was. All other teen movies are better than this one.\n",
              "5023                                                                                                                                                                                                                                                                                                                                                                                                                                                                                                                             Wow! I just don't even know where to begin with what made this movie so awful. Maybe I should start by just saying that during a \"heated confrontation\" between the antagonist and protagonist, I had to leave the theater because I was laughing so hard. Yeah. The acting really was that bad. The acting was not even the worst part though. The plot was almost entirely shown in the previews. The characters are all grossly underdeveloped. The dialogue and \"dramatic moments\" are ridiculous. The bad guy is a caricature of an out of control, power drunk, sadist.<br /><br />But hey the actors are pretty, so guess that was supposed to make it all better.\n",
              "2246                                                                                                                                                                                                                                                                                                                                                                                                                                                                                                                                                                  Decent action scenes, but the movie is saddled with a slow, convoluted storyline, nearly non-existent dialogue that leads to minimal character development, and a seriously horrible storyline...<br /><br />Did I mention that the storyline made no sense? But, in its defense, the action scenes were impressive enough, even if they leave you scratching your head as to why they just happened.<br /><br />There's not much else to say about the movie. It's a slick, mindless action adventure that makes no sense whatsoever. It's like watching a worse version of the Matrix and skipping all the storyline and dialogue.\n",
              "3061                                                                                                                                                                                                                                                                                                                                                                                                                                                                                                                                                      Woa, talk about awful. Do not waste your time. I wish I had seen the other use comments first. <br /><br />I have to admit, I didn't watch the whole thing. It was just too horrible. The worst, sappiest dialogue... I could go on and on. But what really made it unwatchable was the direction. The poor actors. You can't even tell if they have any talent because they not only have pathetic lines to speak but the director gave them no action. If you check the director's filmography on this site you will see why this film didn't have a chance. <br /><br />This would not even be good as a made for TV flick. <br /><br />Ouch!\n",
              "Name: review, dtype: object"
            ]
          },
          "metadata": {},
          "execution_count": 35
        }
      ]
    },
    {
      "cell_type": "markdown",
      "source": [
        "**Important Note**\n",
        "1. It is important to note that we loaded a pre-trained model.\n",
        "2. As the model was not trained or fine-tuned on this data, the performance may not be excellent.\n",
        "3. As we are doing semantic search and not clustering, there may be reviews that fall in multiple categories."
      ],
      "metadata": {
        "id": "bTyCf-63hIIp"
      }
    },
    {
      "cell_type": "markdown",
      "metadata": {
        "id": "vWGh4HLZdz2v"
      },
      "source": [
        "## **Sentiment Analysis**"
      ]
    },
    {
      "cell_type": "markdown",
      "source": [
        "Like the previous session, we can build a random forrest classifier!"
      ],
      "metadata": {
        "id": "6ElOYmPIYJRM"
      }
    },
    {
      "cell_type": "code",
      "source": [
        "# Process the data\n",
        "\n",
        "X = embedding_matrix\n",
        "y = data[\"sentiment\"]\n",
        "X_train, X_test, y_train, y_test = train_test_split(X, y, test_size=0.25, random_state=42)"
      ],
      "metadata": {
        "id": "gsInEtcCYOEw"
      },
      "execution_count": null,
      "outputs": []
    },
    {
      "cell_type": "code",
      "source": [
        "# build a RF model\n",
        "\n",
        "# Building the model\n",
        "rf_transformer = RandomForestClassifier(n_estimators = 100, max_depth = 7, random_state = 42)\n",
        "\n",
        "# Fitting on train data\n",
        "rf_transformer.fit(X_train, y_train)"
      ],
      "metadata": {
        "colab": {
          "base_uri": "https://localhost:8080/",
          "height": 75
        },
        "id": "KgKhHfcWYyTx",
        "outputId": "3bef1fe4-0eca-46fd-91d1-3b948203b302"
      },
      "execution_count": null,
      "outputs": [
        {
          "output_type": "execute_result",
          "data": {
            "text/plain": [
              "RandomForestClassifier(max_depth=7, random_state=42)"
            ],
            "text/html": [
              "<style>#sk-container-id-3 {color: black;background-color: white;}#sk-container-id-3 pre{padding: 0;}#sk-container-id-3 div.sk-toggleable {background-color: white;}#sk-container-id-3 label.sk-toggleable__label {cursor: pointer;display: block;width: 100%;margin-bottom: 0;padding: 0.3em;box-sizing: border-box;text-align: center;}#sk-container-id-3 label.sk-toggleable__label-arrow:before {content: \"▸\";float: left;margin-right: 0.25em;color: #696969;}#sk-container-id-3 label.sk-toggleable__label-arrow:hover:before {color: black;}#sk-container-id-3 div.sk-estimator:hover label.sk-toggleable__label-arrow:before {color: black;}#sk-container-id-3 div.sk-toggleable__content {max-height: 0;max-width: 0;overflow: hidden;text-align: left;background-color: #f0f8ff;}#sk-container-id-3 div.sk-toggleable__content pre {margin: 0.2em;color: black;border-radius: 0.25em;background-color: #f0f8ff;}#sk-container-id-3 input.sk-toggleable__control:checked~div.sk-toggleable__content {max-height: 200px;max-width: 100%;overflow: auto;}#sk-container-id-3 input.sk-toggleable__control:checked~label.sk-toggleable__label-arrow:before {content: \"▾\";}#sk-container-id-3 div.sk-estimator input.sk-toggleable__control:checked~label.sk-toggleable__label {background-color: #d4ebff;}#sk-container-id-3 div.sk-label input.sk-toggleable__control:checked~label.sk-toggleable__label {background-color: #d4ebff;}#sk-container-id-3 input.sk-hidden--visually {border: 0;clip: rect(1px 1px 1px 1px);clip: rect(1px, 1px, 1px, 1px);height: 1px;margin: -1px;overflow: hidden;padding: 0;position: absolute;width: 1px;}#sk-container-id-3 div.sk-estimator {font-family: monospace;background-color: #f0f8ff;border: 1px dotted black;border-radius: 0.25em;box-sizing: border-box;margin-bottom: 0.5em;}#sk-container-id-3 div.sk-estimator:hover {background-color: #d4ebff;}#sk-container-id-3 div.sk-parallel-item::after {content: \"\";width: 100%;border-bottom: 1px solid gray;flex-grow: 1;}#sk-container-id-3 div.sk-label:hover label.sk-toggleable__label {background-color: #d4ebff;}#sk-container-id-3 div.sk-serial::before {content: \"\";position: absolute;border-left: 1px solid gray;box-sizing: border-box;top: 0;bottom: 0;left: 50%;z-index: 0;}#sk-container-id-3 div.sk-serial {display: flex;flex-direction: column;align-items: center;background-color: white;padding-right: 0.2em;padding-left: 0.2em;position: relative;}#sk-container-id-3 div.sk-item {position: relative;z-index: 1;}#sk-container-id-3 div.sk-parallel {display: flex;align-items: stretch;justify-content: center;background-color: white;position: relative;}#sk-container-id-3 div.sk-item::before, #sk-container-id-3 div.sk-parallel-item::before {content: \"\";position: absolute;border-left: 1px solid gray;box-sizing: border-box;top: 0;bottom: 0;left: 50%;z-index: -1;}#sk-container-id-3 div.sk-parallel-item {display: flex;flex-direction: column;z-index: 1;position: relative;background-color: white;}#sk-container-id-3 div.sk-parallel-item:first-child::after {align-self: flex-end;width: 50%;}#sk-container-id-3 div.sk-parallel-item:last-child::after {align-self: flex-start;width: 50%;}#sk-container-id-3 div.sk-parallel-item:only-child::after {width: 0;}#sk-container-id-3 div.sk-dashed-wrapped {border: 1px dashed gray;margin: 0 0.4em 0.5em 0.4em;box-sizing: border-box;padding-bottom: 0.4em;background-color: white;}#sk-container-id-3 div.sk-label label {font-family: monospace;font-weight: bold;display: inline-block;line-height: 1.2em;}#sk-container-id-3 div.sk-label-container {text-align: center;}#sk-container-id-3 div.sk-container {/* jupyter's `normalize.less` sets `[hidden] { display: none; }` but bootstrap.min.css set `[hidden] { display: none !important; }` so we also need the `!important` here to be able to override the default hidden behavior on the sphinx rendered scikit-learn.org. See: https://github.com/scikit-learn/scikit-learn/issues/21755 */display: inline-block !important;position: relative;}#sk-container-id-3 div.sk-text-repr-fallback {display: none;}</style><div id=\"sk-container-id-3\" class=\"sk-top-container\"><div class=\"sk-text-repr-fallback\"><pre>RandomForestClassifier(max_depth=7, random_state=42)</pre><b>In a Jupyter environment, please rerun this cell to show the HTML representation or trust the notebook. <br />On GitHub, the HTML representation is unable to render, please try loading this page with nbviewer.org.</b></div><div class=\"sk-container\" hidden><div class=\"sk-item\"><div class=\"sk-estimator sk-toggleable\"><input class=\"sk-toggleable__control sk-hidden--visually\" id=\"sk-estimator-id-3\" type=\"checkbox\" checked><label for=\"sk-estimator-id-3\" class=\"sk-toggleable__label sk-toggleable__label-arrow\">RandomForestClassifier</label><div class=\"sk-toggleable__content\"><pre>RandomForestClassifier(max_depth=7, random_state=42)</pre></div></div></div></div></div>"
            ]
          },
          "metadata": {},
          "execution_count": 77
        }
      ]
    },
    {
      "cell_type": "code",
      "source": [
        "# Predicting on train data\n",
        "y_pred_train = rf_transformer.predict(X_train)\n",
        "\n",
        "# Predicting on test data\n",
        "y_pred_test = rf_transformer.predict(X_test)"
      ],
      "metadata": {
        "id": "myM3QOBoY9Hf"
      },
      "execution_count": null,
      "outputs": []
    },
    {
      "cell_type": "code",
      "source": [
        "# creating a function to plot the confusion matrix\n",
        "def plot_confusion_matrix(actual, predicted):\n",
        "    cm = confusion_matrix(actual, predicted)\n",
        "\n",
        "    plt.figure(figsize = (5, 4))\n",
        "    label_list = [0, 1]\n",
        "    sns.heatmap(cm, annot = True,  fmt = '.0f', xticklabels = label_list, yticklabels = label_list)\n",
        "    plt.ylabel('Actual')\n",
        "    plt.xlabel('Predicted')\n",
        "    plt.show()"
      ],
      "metadata": {
        "id": "bC3jgP2kZTcN"
      },
      "execution_count": null,
      "outputs": []
    },
    {
      "cell_type": "code",
      "source": [
        "plot_confusion_matrix(y_train, y_pred_train)"
      ],
      "metadata": {
        "colab": {
          "base_uri": "https://localhost:8080/",
          "height": 388
        },
        "id": "R8Q5w8kNZL6p",
        "outputId": "9d611f58-7c1d-45aa-d6ac-e899bb00a6b6"
      },
      "execution_count": null,
      "outputs": [
        {
          "output_type": "display_data",
          "data": {
            "text/plain": [
              "<Figure size 500x400 with 2 Axes>"
            ],
            "image/png": "[encoded data removed]"
          },
          "metadata": {}
        }
      ]
    },
    {
      "cell_type": "code",
      "source": [
        "plot_confusion_matrix(y_test, y_pred_test)"
      ],
      "metadata": {
        "colab": {
          "base_uri": "https://localhost:8080/",
          "height": 388
        },
        "id": "H9wOxBUaZZ1g",
        "outputId": "97beaaab-2537-4fcb-bd6e-9ea85ffa769a"
      },
      "execution_count": null,
      "outputs": [
        {
          "output_type": "display_data",
          "data": {
            "text/plain": [
              "<Figure size 500x400 with 2 Axes>"
            ],
            "image/png": "[encoded data removed]"
          },
          "metadata": {}
        }
      ]
    },
    {
      "cell_type": "markdown",
      "source": [
        "### We can also use a pre-trained model!"
      ],
      "metadata": {
        "id": "q7UlxVTRZ790"
      }
    },
    {
      "cell_type": "code",
      "source": [
        "sentiment_hf = pipeline(\"sentiment-analysis\") # this uses the HF default sentiment analysis model\n",
        "\n",
        "# you can choose to use any other model by including a model argument like:\n",
        "# sentiment_hf = pipeline(model=\"finiteautomata/bertweet-base-sentiment-analysis\")\n",
        "# or\n",
        "# nlptown/bert-base-multilingual-uncased-sentiment\n",
        "# many more models can be found at https://huggingface.co/models?pipeline_tag=text-classification&sort=trending&search=sentiment\n",
        "# these are all text-classification models...sentiment analysis is a special case of text classification"
      ],
      "metadata": {
        "id": "gSEoKvzsiIf_"
      },
      "execution_count": null,
      "outputs": []
    },
    {
      "cell_type": "code",
      "source": [
        "\n",
        "trial_data = [\"I love this movie\", \"This movie is not very good at all!\",'There is a cat outside.']\n",
        "sentiment_hf(trial_data)"
      ],
      "metadata": {
        "colab": {
          "base_uri": "https://localhost:8080/"
        },
        "id": "BWwctuxfaApk",
        "outputId": "2898e6c6-6322-4969-c2d1-ac7c6aedc316"
      },
      "execution_count": null,
      "outputs": [
        {
          "output_type": "stream",
          "name": "stderr",
          "text": [
            "No model was supplied, defaulted to distilbert-base-uncased-finetuned-sst-2-english and revision af0f99b (https://huggingface.co/distilbert-base-uncased-finetuned-sst-2-english).\n",
            "Using a pipeline without specifying a model name and revision in production is not recommended.\n"
          ]
        },
        {
          "output_type": "execute_result",
          "data": {
            "text/plain": [
              "[{'label': 'POSITIVE', 'score': 0.9998766183853149},\n",
              " {'label': 'NEGATIVE', 'score': 0.9998003840446472},\n",
              " {'label': 'NEGATIVE', 'score': 0.6246472597122192}]"
            ]
          },
          "metadata": {},
          "execution_count": 54
        }
      ]
    },
    {
      "cell_type": "code",
      "source": [
        "hf_review_dict = sentiment_hf(data['review'].to_list(),truncation=True) # very long reviews will be truncated to 512 tokens...which isn't great!\n"
      ],
      "metadata": {
        "id": "G64-2KULa105"
      },
      "execution_count": null,
      "outputs": []
    },
    {
      "cell_type": "code",
      "source": [
        "hf_review_sent = [0]*len(data['review'])\n",
        "for movie in range(len(data['review'])):\n",
        "  if hf_review_dict[movie]['label']=='POSITIVE':\n",
        "    hf_review_sent[movie] = 1"
      ],
      "metadata": {
        "id": "HoBwx5gfk_F3"
      },
      "execution_count": null,
      "outputs": []
    },
    {
      "cell_type": "code",
      "source": [
        "plot_confusion_matrix(y, hf_review_sent)"
      ],
      "metadata": {
        "colab": {
          "base_uri": "https://localhost:8080/",
          "height": 391
        },
        "id": "Mhvk-w-bruFe",
        "outputId": "cf5cfdd8-b8d5-46a2-bf72-ebc1be0b628d"
      },
      "execution_count": null,
      "outputs": [
        {
          "output_type": "display_data",
          "data": {
            "text/plain": [
              "<Figure size 500x400 with 2 Axes>"
            ],
            "image/png": "[encoded data removed]"
          },
          "metadata": {}
        }
      ]
    },
    {
      "cell_type": "markdown",
      "metadata": {
        "id": "tGyCIlYJ3hsJ"
      },
      "source": [
        "### **We could also use an LLM to ask about sentiment!**"
      ]
    },
    {
      "cell_type": "markdown",
      "metadata": {
        "id": "58X1ZT0x3khb"
      },
      "source": [
        "#### **Defining the input and target variables**"
      ]
    },
    {
      "cell_type": "code",
      "execution_count": null,
      "metadata": {
        "id": "uUJZ5z916P-n"
      },
      "outputs": [],
      "source": [
        "X = data['review']\n",
        "y = data[\"sentiment\"]"
      ]
    },
    {
      "cell_type": "markdown",
      "metadata": {
        "id": "UJ2F3Fn85aQW"
      },
      "source": [
        "### **Defining the Model**"
      ]
    },
    {
      "cell_type": "markdown",
      "metadata": {
        "id": "tKhCh8l75eb3"
      },
      "source": [
        "We'll be using the **Google FLAN-T5** model here.\n",
        "\n",
        "💡 **FLAN-T5, developed by Google Research, is a \"Fine-tuned LAnguage Net\" (FLAN) with \"Text-To-Text Transfer Transformer\" (T-5) architecture.**\n",
        "\n",
        "📊 **FLAN-T5 excels in various NLP tasks**, including translation, classification, and question answering, and it's known for its speed and efficiency.\n",
        "\n",
        "📋 FLAN-T5 comes in different sizes: small, base, large, XL, and XXL, offering customization options.\n",
        "\n",
        "🛠️ Potential use-cases include text generation, classification, summarization, sentiment analysis, question-answering, translation, and chatbots."
      ]
    },
    {
      "cell_type": "code",
      "source": [
        "# initializing a T5 tokenizer using the pre-trained model\n",
        "tokenizer = T5Tokenizer.from_pretrained(\"google/flan-t5-large\")"
      ],
      "metadata": {
        "colab": {
          "base_uri": "https://localhost:8080/",
          "height": 202,
          "referenced_widgets": [
            "8b8e575c6c61444b9fb627bd03c004da",
            "ade193addd71487796352f234685861a",
            "232f711710a6482e833552e02a550cfc",
            "2fca982780e64b8687a3d840b722b234",
            "696180cc2ee04b3f93b2a45fa2c90d4d",
            "68643793f00040268481f7d66815046f",
            "94eacbf5f36a422a914af45972637b19",
            "88a997c3cd7541889c0b48eb85e62ddc",
            "71d3df63fd33439595f30cf9e4368064",
            "0c3fc2a6796c45fab0004023729968fb",
            "c3a43ffe93ff40a1b706b9068931fc93",
            "fbd6e3f1c88749f68f4b79b3332ca00b",
            "b8b68e2d549c492cac51befcb8962895",
            "f7cc41b2a09048c18e7114878e42972b",
            "b42705e8ee804cbe8948c171591e28d2",
            "4efaf0df7aa9476b9b9d9db4a6f09806",
            "ba9c1405d2d647218dccfa94ebab37e3",
            "1abb25ccca5f46c789e197cd13e9420e",
            "cf056da2923349bd9008c30d868eed0a",
            "5ccf3e01d37d413f9d96167d6d2c5acd",
            "65aeee098f0e4565b27a0611820f3250",
            "97b9ff566e6c4d09821116f1621e2cc5",
            "92c343d0b32a402582010823c1b0d624",
            "cffbb4e76d7643218702774ed92f3884",
            "c54d81466a66400490902dfc6e7f5166",
            "d748ed8b17c742f59afd1f9d69eae534",
            "eddfe49c5fdf4e0d8be24cfdc580878e",
            "da04ed74cb6c4a22a99c8ea09a8b2467",
            "3df3433608244188bc7923a908342894",
            "436185b471f745088710d1e218291269",
            "7f212941190b4128a14e4bca2a47ad7e",
            "ec3763bc883d4981ad0b78aac418aabd",
            "5161c5b5e7d949a58ae2d112f1c6051f",
            "444e077745724a009f4d4eaf8cf8c703",
            "6c8338bded794a5b805c51ad6d42c37b",
            "0dde6f6355a549c2a0bcf2c8eee11f34",
            "7baa91017ea449d1b962550a1b16ef9b",
            "7a6d076a13a54ef6ad22ec659ccacd6d",
            "3814644a3e044e3b88e980378c04391a",
            "1c3b377cc3d34771914194730f6209a4",
            "881fa792f393421c8a439ed69bbc753f",
            "620e1fb2da344fa9b7088e3cbc6d54e6",
            "70a8ceb953ad4438a325e7fbf4ab0214",
            "16e54ec87bb842b889ec5782144188a0"
          ]
        },
        "id": "TdKenK1HiIAN",
        "outputId": "0e81a26f-70c1-4bb3-da7a-a1469801ffb7"
      },
      "execution_count": null,
      "outputs": [
        {
          "output_type": "display_data",
          "data": {
            "text/plain": [
              "tokenizer_config.json:   0%|          | 0.00/2.54k [00:00<?, ?B/s]"
            ],
            "application/vnd.jupyter.widget-view+json": {
              "version_major": 2,
              "version_minor": 0,
              "model_id": "8b8e575c6c61444b9fb627bd03c004da"
            }
          },
          "metadata": {}
        },
        {
          "output_type": "display_data",
          "data": {
            "text/plain": [
              "spiece.model:   0%|          | 0.00/792k [00:00<?, ?B/s]"
            ],
            "application/vnd.jupyter.widget-view+json": {
              "version_major": 2,
              "version_minor": 0,
              "model_id": "fbd6e3f1c88749f68f4b79b3332ca00b"
            }
          },
          "metadata": {}
        },
        {
          "output_type": "display_data",
          "data": {
            "text/plain": [
              "special_tokens_map.json:   0%|          | 0.00/2.20k [00:00<?, ?B/s]"
            ],
            "application/vnd.jupyter.widget-view+json": {
              "version_major": 2,
              "version_minor": 0,
              "model_id": "92c343d0b32a402582010823c1b0d624"
            }
          },
          "metadata": {}
        },
        {
          "output_type": "display_data",
          "data": {
            "text/plain": [
              "tokenizer.json:   0%|          | 0.00/2.42M [00:00<?, ?B/s]"
            ],
            "application/vnd.jupyter.widget-view+json": {
              "version_major": 2,
              "version_minor": 0,
              "model_id": "444e077745724a009f4d4eaf8cf8c703"
            }
          },
          "metadata": {}
        },
        {
          "output_type": "stream",
          "name": "stderr",
          "text": [
            "You are using the default legacy behaviour of the <class 'transformers.models.t5.tokenization_t5.T5Tokenizer'>. This is expected, and simply means that the `legacy` (previous) behavior will be used so nothing changes for you. If you want to use the new behaviour, set `legacy=False`. This should only be set if you understand what it means, and thouroughly read the reason why this was added as explained in https://github.com/huggingface/transformers/pull/24565\n",
            "Special tokens have been added in the vocabulary, make sure the associated word embeddings are fine-tuned or trained.\n"
          ]
        }
      ]
    },
    {
      "cell_type": "code",
      "execution_count": null,
      "metadata": {
        "colab": {
          "base_uri": "https://localhost:8080/",
          "height": 113,
          "referenced_widgets": [
            "9568e1ab5bb44ad99890bbea61287116",
            "6b34a1c3d7d741efbe5df2824474d534",
            "bde4ff7351da4e068753bff4c9bd2ce9",
            "5bb8624ce2044098b6d049b39b1b49b1",
            "e0621b3da5f041959f3945be8e5bce2e",
            "a93a7e0ea3f64e0daab2a80a45dcd3ed",
            "6491098424824586a2d1401d6b845c79",
            "dc65fa6f50504bc595ff133b27c4609b",
            "259798118ede47c0bc6527c02ab7905f",
            "c93f8123b94f419da32bb3e4450ccc71",
            "68c6567d98784f9c86dbbd4d6cf8d90f",
            "63f9ad0da23141f88c160f70aca69bf7",
            "d3ca1a406eed4cf6a2bd2c80e11e7911",
            "6771b39acd2e4cd0aef3a7c3ae11b41f",
            "4637ace90f1a418691785daaf674cdf7",
            "a400b3ee5bb04097a9189e256ffc5bfa",
            "b86cf43384ea4b2fb21a16a4d2c11042",
            "5cf13f68de53467da53d362454215b41",
            "0931ff6b0bcf48b491862761c6bdc7f8",
            "615a235bbe2547fd8206d2a0cb5e2fae",
            "e5f485f71aa94c82aaa4879417a03120",
            "702b4cc804984e889734cbb59a33ea80",
            "e3a9273cfce34683aceb94f9400911df",
            "3face19161224a33b74a2e252ca6c830",
            "7d7177a3bcc34472b867d4700b3af92e",
            "d2ee327616f44710ac4081b869c64dae",
            "dc75ecd43a724517b3426af5da0a329e",
            "8c4fb966e5a349518eea49029c0373ba",
            "25a9c072b5924e7b8204c155cd41f5bb",
            "0a162db167f042048be7a98da3c46aa3",
            "8bf5d4307072473797555142e8188a3b",
            "ae1135384c1a4382a348d0a7678a98d0",
            "47c5afeebfb94b06a22e97c35b83943a"
          ]
        },
        "id": "uKHwsWXj5XQW",
        "outputId": "d74defac-6212-46e6-9e81-5ffb3c3eb159"
      },
      "outputs": [
        {
          "output_type": "display_data",
          "data": {
            "text/plain": [
              "config.json:   0%|          | 0.00/662 [00:00<?, ?B/s]"
            ],
            "application/vnd.jupyter.widget-view+json": {
              "version_major": 2,
              "version_minor": 0,
              "model_id": "9568e1ab5bb44ad99890bbea61287116"
            }
          },
          "metadata": {}
        },
        {
          "output_type": "display_data",
          "data": {
            "text/plain": [
              "model.safetensors:   0%|          | 0.00/3.13G [00:00<?, ?B/s]"
            ],
            "application/vnd.jupyter.widget-view+json": {
              "version_major": 2,
              "version_minor": 0,
              "model_id": "63f9ad0da23141f88c160f70aca69bf7"
            }
          },
          "metadata": {}
        },
        {
          "output_type": "display_data",
          "data": {
            "text/plain": [
              "generation_config.json:   0%|          | 0.00/147 [00:00<?, ?B/s]"
            ],
            "application/vnd.jupyter.widget-view+json": {
              "version_major": 2,
              "version_minor": 0,
              "model_id": "e3a9273cfce34683aceb94f9400911df"
            }
          },
          "metadata": {}
        }
      ],
      "source": [
        "# initializing a T5 model for conditional generation using the pre-trained model \"google/flan-t5-large\"\n",
        "model = T5ForConditionalGeneration.from_pretrained(\"google/flan-t5-large\", load_in_8bit=True, device_map=\"auto\")"
      ]
    },
    {
      "cell_type": "markdown",
      "source": [
        "- We have loaded the model in 8-bit quantized format for efficiency and lower memory usage.\n",
        "- We have set the device mapping to \"auto\" for automatic device assignment.\n",
        "    - This will automatically detect available GPUs and use it."
      ],
      "metadata": {
        "id": "DkUIWFcMiT7-"
      }
    },
    {
      "cell_type": "code",
      "execution_count": null,
      "metadata": {
        "id": "9a-PLg5e5xx_"
      },
      "outputs": [],
      "source": [
        "# defining a function to generate, process, and return a response\n",
        "def generate_response(prompt):\n",
        "    input_ids = tokenizer(prompt, return_tensors=\"pt\").input_ids.to(\"cuda\")    ### using the tokenizer to create tokens in tensor format from an input\n",
        "    outputs = model.generate(input_ids, max_length=16, do_sample=True, temperature=0.001)    ### generating the model output in tensor format\n",
        "    return tokenizer.decode(outputs[0])[6:-4]    ### using the tokenizer to decode the model output, and then return it"
      ]
    },
    {
      "cell_type": "markdown",
      "metadata": {
        "id": "7xMx_Qz86IIZ"
      },
      "source": [
        "In the `generate()` function defined above, the following arguments were used:\n",
        "\n",
        "1. `max_length`: This parameter determines the maximum length of the generated sequence. In the provided code, max_length is set to 300, which means the generated sequence should not exceed 300 tokens.\n",
        "\n",
        "2. `temperature`: The temperature parameter controls the level of randomness in the generation process. A higher temperature (e.g., closer to 1) makes the output more diverse and creative but potentially less focused, while a lower temperature (e.g., close to 0) produces more deterministic and focused but potentially repetitive outputs. In the code, temperature is set to 0.001, indicating a very low temperature and, consequently, a more deterministic sampling.\n",
        "\n",
        "3. `do_sample`: This is a boolean parameter that determines whether to use sampling during generation (do_sample=True) or use greedy decoding (do_sample=False). When set to True, as in the provided code, the model samples from the distribution of predicted tokens at each step, introducing randomness in the generation process."
      ]
    },
    {
      "cell_type": "markdown",
      "source": [
        "### **Model Predictions**"
      ],
      "metadata": {
        "id": "-s757VmLje9h"
      }
    },
    {
      "cell_type": "code",
      "execution_count": null,
      "metadata": {
        "colab": {
          "base_uri": "https://localhost:8080/"
        },
        "id": "iQkyiOY_59n0",
        "outputId": "044ff213-feac-4bf0-c566-31488432a68c"
      },
      "outputs": [
        {
          "output_type": "stream",
          "name": "stdout",
          "text": [
            "Review:\t Admittedly, there are some scenes in this movie that seem a little unrealistic. The ravishing woman first panics and then, only a few minutes later, she starts kissing the young lad while the old guy is right next to her. But as the film goes along we learn that she is a little volatile girl (or slut) and that partly explains her behavior. The cinematography of this movie is well done. We get to see the elevator from almost every angle and perspective, and some of those images and scenes really raise the tension. Götz George plays his character well, a wannabe hot-shot getting old and being overpowered by young men like the Jaennicke character. Wolfgang Kieling who I admired in Hitchcock's THE TORN CURTAIN delivers a great performance that, although he doesn't say much, he is by far the best actor in this play. One critic complained about how unrealistic the film was and that in a real case of emergency nothing would really happen. But then again, how realistic are films such as Mission impossible or Phone Booth. Given the fact that we are talking about a movie here, and that in a movie you always have to deal with some scenes that aren't very likely to occur in real life, you can still enjoy this movie. It's a lot better than many things that I see on German TV these days and I think that the vintage 80's style added something to this film.\n",
            "Actual Sentiment:\t 1\n"
          ]
        }
      ],
      "source": [
        "# checking a customer review and it's sentiment\n",
        "print('Review:\\t', X[4])\n",
        "print('Actual Sentiment:\\t', y[4])"
      ]
    },
    {
      "cell_type": "code",
      "execution_count": null,
      "metadata": {
        "colab": {
          "base_uri": "https://localhost:8080/"
        },
        "id": "W9VXwpBN7I0z",
        "outputId": "7a11c253-916f-4198-bb01-9b053cf3f510"
      },
      "outputs": [
        {
          "output_type": "stream",
          "name": "stdout",
          "text": [
            "1\n"
          ]
        }
      ],
      "source": [
        "# defining a prompt which tells the model what to do\n",
        "sys_prompt = \"\"\"\n",
        "    Categorize the sentiment of the review as positive or negative.\n",
        "    Return 1 for positive and 0 for negative.\n",
        "\"\"\"\n",
        "\n",
        "# predicting the sentiment using the model by incorporating the system prompt and the provided review text\n",
        "\n",
        "pred_sent = generate_response(\n",
        "    \"\"\"\n",
        "        {}\n",
        "        Review text: '{}'\n",
        "    \"\"\".format(sys_prompt, X[4])\n",
        ")\n",
        "\n",
        "print(pred_sent)"
      ]
    },
    {
      "cell_type": "markdown",
      "metadata": {
        "id": "RHITXEm37Nde"
      },
      "source": [
        "- The model was able to correctly identify the sentiment here."
      ]
    },
    {
      "cell_type": "markdown",
      "metadata": {
        "id": "7gkKluzf7OoR"
      },
      "source": [
        "**Note**: We'll discuss more about prompts, types of prompts, and how to effectively write them to optimize model outputs in upcoming classes."
      ]
    },
    {
      "cell_type": "code",
      "execution_count": null,
      "metadata": {
        "id": "WkAaBzYr7LRA"
      },
      "outputs": [],
      "source": [
        "# defining a function to generate a sentiment prediction\n",
        "def predict_sentiment(review_text):\n",
        "    pred = generate_response(\n",
        "        \"\"\"\n",
        "            {}\n",
        "            Review text: '{}'\n",
        "        \"\"\".format(sys_prompt, review_text)\n",
        "    )\n",
        "\n",
        "    return pred"
      ]
    },
    {
      "cell_type": "code",
      "execution_count": null,
      "metadata": {
        "id": "c1RJwTOB7SPW"
      },
      "outputs": [],
      "source": [
        "# making predictions with the model\n",
        "predicted_sentiment = [int(predict_sentiment(X[item])[0]) for item in range(len(X))]\n",
        "# must be careful with an LLM. It just gives you what it 'thinks' you want, which may not be what you actually want\n",
        "# it's not uncommon for the returned value to not match the format you ask for!\n",
        "# for example, several times predict_sentiment has returned '1 for positive' instead of just 1!\n",
        "# that's why I grab the 0th entry from the returned string!"
      ]
    },
    {
      "cell_type": "code",
      "execution_count": null,
      "metadata": {
        "id": "elTYw1_IBXjq",
        "colab": {
          "base_uri": "https://localhost:8080/",
          "height": 388
        },
        "outputId": "4ae942aa-031e-4d92-9c64-fb5e2b0bca5b"
      },
      "outputs": [
        {
          "output_type": "display_data",
          "data": {
            "text/plain": [
              "<Figure size 500x400 with 2 Axes>"
            ],
            "image/png": "[encoded data removed]"
          },
          "metadata": {}
        }
      ],
      "source": [
        "plot_confusion_matrix(y, predicted_sentiment)"
      ]
    },
    {
      "cell_type": "markdown",
      "metadata": {
        "id": "wH77U4ukBiCe"
      },
      "source": [
        "## **Conclusion**"
      ]
    },
    {
      "cell_type": "markdown",
      "source": [
        "- We used the ***all-MiniLM-L6-v2*** model to do semantic search.\n",
        "    - We first encoded the dataset using the model to generate embeddings of 384 dimensions.\n",
        "    - Then we queried the dataset to find movie reviews similar to the query text we passed.\n",
        "    - Finally, we categorized the movie reviews using queries that acted as category identifiers.\n",
        "\n",
        "- We trained a Random Forrest model to do sentiment analysis based on the output of ***all-MiniLM-L6-v2***\n",
        "\n",
        "- We used the ***sentiment analysis*** pipeline from huggingface to analyze the sentiment of all the movie reviews\n",
        "\n",
        "- We used the ***Google FLAN-T5*** model to do sentiment analysis.\n",
        "    - We first created a function that would take the input data, tokenize it, pass the tokenized data to the model for predictions, process the model output, and then return a response.\n",
        "    - We then defined a prompt to tell the model what exactly it has to do.\n",
        "    - We then made predictions with the model using the function and the prompt."
      ],
      "metadata": {
        "id": "t0DuBIcvRsuR"
      }
    },
    {
      "cell_type": "markdown",
      "source": [
        "<font size=5 color='blue'>Power Ahead!</font>\n",
        "___"
      ],
      "metadata": {
        "id": "SCju1K05iWCn"
      }
    }
  ],
  "metadata": {
    "accelerator": "GPU",
    "colab": {
      "provenance": [],
      "collapsed_sections": [
        "K2LDhwQ6yiH-",
        "3g6KybbxJkoE",
        "svwbW6qDUB_B",
        "AvgpBQQKUJEY",
        "0GsZAWm0BiCQ",
        "ckwD7uwlsZwm",
        "mhzSVF82YYri",
        "62xkzNTFYmyq",
        "MUGy2CBnZa6g",
        "nZdNFg-5Zmiz",
        "xigiXKyEBiCW",
        "KgtDk97sGMHY",
        "fYtRRwpJKTxz",
        "Lll4MLfzKfBa",
        "5Zl-DbPnccZI",
        "Ael0QkRBcmEe",
        "OXE2IZ15fpxc",
        "vWGh4HLZdz2v",
        "tGyCIlYJ3hsJ",
        "58X1ZT0x3khb",
        "eNqhaueh30Do",
        "UJ2F3Fn85aQW",
        "-s757VmLje9h",
        "a_56yxA2Cm-R",
        "wH77U4ukBiCe"
      ]
    },
    "kernelspec": {
      "display_name": "Python 3",
      "name": "python3"
    },
    "language_info": {
      "name": "python"
    },
    "widgets": {
      "application/vnd.jupyter.widget-state+json": {
        "781ace3ab1884826b592aca0fba84c79": {
          "model_module": "@jupyter-widgets/controls",
          "model_name": "HBoxModel",
          "model_module_version": "1.5.0",
          "state": {
            "_dom_classes": [],
            "_model_module": "@jupyter-widgets/controls",
            "_model_module_version": "1.5.0",
            "_model_name": "HBoxModel",
            "_view_count": null,
            "_view_module": "@jupyter-widgets/controls",
            "_view_module_version": "1.5.0",
            "_view_name": "HBoxView",
            "box_style": "",
            "children": [
              "IPY_MODEL_485359ea6f0e4d5583e0e67cd88a62ae",
              "IPY_MODEL_2c2b351f6b1c4751a5d5549008f67292",
              "IPY_MODEL_6aa1ce3010b64c909ab8d93aa8bf7845"
            ],
            "layout": "IPY_MODEL_9ccc416770b84d6581fd13383f79e53d"
          }
        },
        "485359ea6f0e4d5583e0e67cd88a62ae": {
          "model_module": "@jupyter-widgets/controls",
          "model_name": "HTMLModel",
          "model_module_version": "1.5.0",
          "state": {
            "_dom_classes": [],
            "_model_module": "@jupyter-widgets/controls",
            "_model_module_version": "1.5.0",
            "_model_name": "HTMLModel",
            "_view_count": null,
            "_view_module": "@jupyter-widgets/controls",
            "_view_module_version": "1.5.0",
            "_view_name": "HTMLView",
            "description": "",
            "description_tooltip": null,
            "layout": "IPY_MODEL_81c01f2b20f346bd8cd33dd89f697c36",
            "placeholder": "​",
            "style": "IPY_MODEL_c13d8d55e52c45688f53d37e1fe4f92c",
            "value": ".gitattributes: 100%"
          }
        },
        "2c2b351f6b1c4751a5d5549008f67292": {
          "model_module": "@jupyter-widgets/controls",
          "model_name": "FloatProgressModel",
          "model_module_version": "1.5.0",
          "state": {
            "_dom_classes": [],
            "_model_module": "@jupyter-widgets/controls",
            "_model_module_version": "1.5.0",
            "_model_name": "FloatProgressModel",
            "_view_count": null,
            "_view_module": "@jupyter-widgets/controls",
            "_view_module_version": "1.5.0",
            "_view_name": "ProgressView",
            "bar_style": "success",
            "description": "",
            "description_tooltip": null,
            "layout": "IPY_MODEL_63d471b9da05476a828ec812d412e906",
            "max": 1175,
            "min": 0,
            "orientation": "horizontal",
            "style": "IPY_MODEL_a795cbc05a7048d2a07904d3f4c2d6a0",
            "value": 1175
          }
        },
        "6aa1ce3010b64c909ab8d93aa8bf7845": {
          "model_module": "@jupyter-widgets/controls",
          "model_name": "HTMLModel",
          "model_module_version": "1.5.0",
          "state": {
            "_dom_classes": [],
            "_model_module": "@jupyter-widgets/controls",
            "_model_module_version": "1.5.0",
            "_model_name": "HTMLModel",
            "_view_count": null,
            "_view_module": "@jupyter-widgets/controls",
            "_view_module_version": "1.5.0",
            "_view_name": "HTMLView",
            "description": "",
            "description_tooltip": null,
            "layout": "IPY_MODEL_65296f4be0094a7bac8e1b99b49278ef",
            "placeholder": "​",
            "style": "IPY_MODEL_d54b4d11b2824453a9058a294e339de7",
            "value": " 1.18k/1.18k [00:00&lt;00:00, 80.3kB/s]"
          }
        },
        "9ccc416770b84d6581fd13383f79e53d": {
          "model_module": "@jupyter-widgets/base",
          "model_name": "LayoutModel",
          "model_module_version": "1.2.0",
          "state": {
            "_model_module": "@jupyter-widgets/base",
            "_model_module_version": "1.2.0",
            "_model_name": "LayoutModel",
            "_view_count": null,
            "_view_module": "@jupyter-widgets/base",
            "_view_module_version": "1.2.0",
            "_view_name": "LayoutView",
            "align_content": null,
            "align_items": null,
            "align_self": null,
            "border": null,
            "bottom": null,
            "display": null,
            "flex": null,
            "flex_flow": null,
            "grid_area": null,
            "grid_auto_columns": null,
            "grid_auto_flow": null,
            "grid_auto_rows": null,
            "grid_column": null,
            "grid_gap": null,
            "grid_row": null,
            "grid_template_areas": null,
            "grid_template_columns": null,
            "grid_template_rows": null,
            "height": null,
            "justify_content": null,
            "justify_items": null,
            "left": null,
            "margin": null,
            "max_height": null,
            "max_width": null,
            "min_height": null,
            "min_width": null,
            "object_fit": null,
            "object_position": null,
            "order": null,
            "overflow": null,
            "overflow_x": null,
            "overflow_y": null,
            "padding": null,
            "right": null,
            "top": null,
            "visibility": null,
            "width": null
          }
        },
        "81c01f2b20f346bd8cd33dd89f697c36": {
          "model_module": "@jupyter-widgets/base",
          "model_name": "LayoutModel",
          "model_module_version": "1.2.0",
          "state": {
            "_model_module": "@jupyter-widgets/base",
            "_model_module_version": "1.2.0",
            "_model_name": "LayoutModel",
            "_view_count": null,
            "_view_module": "@jupyter-widgets/base",
            "_view_module_version": "1.2.0",
            "_view_name": "LayoutView",
            "align_content": null,
            "align_items": null,
            "align_self": null,
            "border": null,
            "bottom": null,
            "display": null,
            "flex": null,
            "flex_flow": null,
            "grid_area": null,
            "grid_auto_columns": null,
            "grid_auto_flow": null,
            "grid_auto_rows": null,
            "grid_column": null,
            "grid_gap": null,
            "grid_row": null,
            "grid_template_areas": null,
            "grid_template_columns": null,
            "grid_template_rows": null,
            "height": null,
            "justify_content": null,
            "justify_items": null,
            "left": null,
            "margin": null,
            "max_height": null,
            "max_width": null,
            "min_height": null,
            "min_width": null,
            "object_fit": null,
            "object_position": null,
            "order": null,
            "overflow": null,
            "overflow_x": null,
            "overflow_y": null,
            "padding": null,
            "right": null,
            "top": null,
            "visibility": null,
            "width": null
          }
        },
        "c13d8d55e52c45688f53d37e1fe4f92c": {
          "model_module": "@jupyter-widgets/controls",
          "model_name": "DescriptionStyleModel",
          "model_module_version": "1.5.0",
          "state": {
            "_model_module": "@jupyter-widgets/controls",
            "_model_module_version": "1.5.0",
            "_model_name": "DescriptionStyleModel",
            "_view_count": null,
            "_view_module": "@jupyter-widgets/base",
            "_view_module_version": "1.2.0",
            "_view_name": "StyleView",
            "description_width": ""
          }
        },
        "63d471b9da05476a828ec812d412e906": {
          "model_module": "@jupyter-widgets/base",
          "model_name": "LayoutModel",
          "model_module_version": "1.2.0",
          "state": {
            "_model_module": "@jupyter-widgets/base",
            "_model_module_version": "1.2.0",
            "_model_name": "LayoutModel",
            "_view_count": null,
            "_view_module": "@jupyter-widgets/base",
            "_view_module_version": "1.2.0",
            "_view_name": "LayoutView",
            "align_content": null,
            "align_items": null,
            "align_self": null,
            "border": null,
            "bottom": null,
            "display": null,
            "flex": null,
            "flex_flow": null,
            "grid_area": null,
            "grid_auto_columns": null,
            "grid_auto_flow": null,
            "grid_auto_rows": null,
            "grid_column": null,
            "grid_gap": null,
            "grid_row": null,
            "grid_template_areas": null,
            "grid_template_columns": null,
            "grid_template_rows": null,
            "height": null,
            "justify_content": null,
            "justify_items": null,
            "left": null,
            "margin": null,
            "max_height": null,
            "max_width": null,
            "min_height": null,
            "min_width": null,
            "object_fit": null,
            "object_position": null,
            "order": null,
            "overflow": null,
            "overflow_x": null,
            "overflow_y": null,
            "padding": null,
            "right": null,
            "top": null,
            "visibility": null,
            "width": null
          }
        },
        "a795cbc05a7048d2a07904d3f4c2d6a0": {
          "model_module": "@jupyter-widgets/controls",
          "model_name": "ProgressStyleModel",
          "model_module_version": "1.5.0",
          "state": {
            "_model_module": "@jupyter-widgets/controls",
            "_model_module_version": "1.5.0",
            "_model_name": "ProgressStyleModel",
            "_view_count": null,
            "_view_module": "@jupyter-widgets/base",
            "_view_module_version": "1.2.0",
            "_view_name": "StyleView",
            "bar_color": null,
            "description_width": ""
          }
        },
        "65296f4be0094a7bac8e1b99b49278ef": {
          "model_module": "@jupyter-widgets/base",
          "model_name": "LayoutModel",
          "model_module_version": "1.2.0",
          "state": {
            "_model_module": "@jupyter-widgets/base",
            "_model_module_version": "1.2.0",
            "_model_name": "LayoutModel",
            "_view_count": null,
            "_view_module": "@jupyter-widgets/base",
            "_view_module_version": "1.2.0",
            "_view_name": "LayoutView",
            "align_content": null,
            "align_items": null,
            "align_self": null,
            "border": null,
            "bottom": null,
            "display": null,
            "flex": null,
            "flex_flow": null,
            "grid_area": null,
            "grid_auto_columns": null,
            "grid_auto_flow": null,
            "grid_auto_rows": null,
            "grid_column": null,
            "grid_gap": null,
            "grid_row": null,
            "grid_template_areas": null,
            "grid_template_columns": null,
            "grid_template_rows": null,
            "height": null,
            "justify_content": null,
            "justify_items": null,
            "left": null,
            "margin": null,
            "max_height": null,
            "max_width": null,
            "min_height": null,
            "min_width": null,
            "object_fit": null,
            "object_position": null,
            "order": null,
            "overflow": null,
            "overflow_x": null,
            "overflow_y": null,
            "padding": null,
            "right": null,
            "top": null,
            "visibility": null,
            "width": null
          }
        },
        "d54b4d11b2824453a9058a294e339de7": {
          "model_module": "@jupyter-widgets/controls",
          "model_name": "DescriptionStyleModel",
          "model_module_version": "1.5.0",
          "state": {
            "_model_module": "@jupyter-widgets/controls",
            "_model_module_version": "1.5.0",
            "_model_name": "DescriptionStyleModel",
            "_view_count": null,
            "_view_module": "@jupyter-widgets/base",
            "_view_module_version": "1.2.0",
            "_view_name": "StyleView",
            "description_width": ""
          }
        },
        "6bd4abba8e3649d59e23045a5e7bd814": {
          "model_module": "@jupyter-widgets/controls",
          "model_name": "HBoxModel",
          "model_module_version": "1.5.0",
          "state": {
            "_dom_classes": [],
            "_model_module": "@jupyter-widgets/controls",
            "_model_module_version": "1.5.0",
            "_model_name": "HBoxModel",
            "_view_count": null,
            "_view_module": "@jupyter-widgets/controls",
            "_view_module_version": "1.5.0",
            "_view_name": "HBoxView",
            "box_style": "",
            "children": [
              "IPY_MODEL_3df3977eb98849bca8fcfe419382c112",
              "IPY_MODEL_e992091bc89c48dbbd12abdda4807d9a",
              "IPY_MODEL_31f8e0385a1c4e22867d1f433cb1af8a"
            ],
            "layout": "IPY_MODEL_aa37521a5d694c51a3cea9051fada09e"
          }
        },
        "3df3977eb98849bca8fcfe419382c112": {
          "model_module": "@jupyter-widgets/controls",
          "model_name": "HTMLModel",
          "model_module_version": "1.5.0",
          "state": {
            "_dom_classes": [],
            "_model_module": "@jupyter-widgets/controls",
            "_model_module_version": "1.5.0",
            "_model_name": "HTMLModel",
            "_view_count": null,
            "_view_module": "@jupyter-widgets/controls",
            "_view_module_version": "1.5.0",
            "_view_name": "HTMLView",
            "description": "",
            "description_tooltip": null,
            "layout": "IPY_MODEL_14fc5c607c4342958fcc883ae805ff09",
            "placeholder": "​",
            "style": "IPY_MODEL_fab62fd578544757a9cc577dcb415981",
            "value": "1_Pooling/config.json: 100%"
          }
        },
        "e992091bc89c48dbbd12abdda4807d9a": {
          "model_module": "@jupyter-widgets/controls",
          "model_name": "FloatProgressModel",
          "model_module_version": "1.5.0",
          "state": {
            "_dom_classes": [],
            "_model_module": "@jupyter-widgets/controls",
            "_model_module_version": "1.5.0",
            "_model_name": "FloatProgressModel",
            "_view_count": null,
            "_view_module": "@jupyter-widgets/controls",
            "_view_module_version": "1.5.0",
            "_view_name": "ProgressView",
            "bar_style": "success",
            "description": "",
            "description_tooltip": null,
            "layout": "IPY_MODEL_00b6d217c1434230a8d18767092eb89a",
            "max": 190,
            "min": 0,
            "orientation": "horizontal",
            "style": "IPY_MODEL_46f67b2122ce4aba93e50e64ccbf859a",
            "value": 190
          }
        },
        "31f8e0385a1c4e22867d1f433cb1af8a": {
          "model_module": "@jupyter-widgets/controls",
          "model_name": "HTMLModel",
          "model_module_version": "1.5.0",
          "state": {
            "_dom_classes": [],
            "_model_module": "@jupyter-widgets/controls",
            "_model_module_version": "1.5.0",
            "_model_name": "HTMLModel",
            "_view_count": null,
            "_view_module": "@jupyter-widgets/controls",
            "_view_module_version": "1.5.0",
            "_view_name": "HTMLView",
            "description": "",
            "description_tooltip": null,
            "layout": "IPY_MODEL_71eae72c3b2649a09b2a5f5ce0c91c2b",
            "placeholder": "​",
            "style": "IPY_MODEL_e2405ccfdb3e4e40b9aec4a3f434827b",
            "value": " 190/190 [00:00&lt;00:00, 13.8kB/s]"
          }
        },
        "aa37521a5d694c51a3cea9051fada09e": {
          "model_module": "@jupyter-widgets/base",
          "model_name": "LayoutModel",
          "model_module_version": "1.2.0",
          "state": {
            "_model_module": "@jupyter-widgets/base",
            "_model_module_version": "1.2.0",
            "_model_name": "LayoutModel",
            "_view_count": null,
            "_view_module": "@jupyter-widgets/base",
            "_view_module_version": "1.2.0",
            "_view_name": "LayoutView",
            "align_content": null,
            "align_items": null,
            "align_self": null,
            "border": null,
            "bottom": null,
            "display": null,
            "flex": null,
            "flex_flow": null,
            "grid_area": null,
            "grid_auto_columns": null,
            "grid_auto_flow": null,
            "grid_auto_rows": null,
            "grid_column": null,
            "grid_gap": null,
            "grid_row": null,
            "grid_template_areas": null,
            "grid_template_columns": null,
            "grid_template_rows": null,
            "height": null,
            "justify_content": null,
            "justify_items": null,
            "left": null,
            "margin": null,
            "max_height": null,
            "max_width": null,
            "min_height": null,
            "min_width": null,
            "object_fit": null,
            "object_position": null,
            "order": null,
            "overflow": null,
            "overflow_x": null,
            "overflow_y": null,
            "padding": null,
            "right": null,
            "top": null,
            "visibility": null,
            "width": null
          }
        },
        "14fc5c607c4342958fcc883ae805ff09": {
          "model_module": "@jupyter-widgets/base",
          "model_name": "LayoutModel",
          "model_module_version": "1.2.0",
          "state": {
            "_model_module": "@jupyter-widgets/base",
            "_model_module_version": "1.2.0",
            "_model_name": "LayoutModel",
            "_view_count": null,
            "_view_module": "@jupyter-widgets/base",
            "_view_module_version": "1.2.0",
            "_view_name": "LayoutView",
            "align_content": null,
            "align_items": null,
            "align_self": null,
            "border": null,
            "bottom": null,
            "display": null,
            "flex": null,
            "flex_flow": null,
            "grid_area": null,
            "grid_auto_columns": null,
            "grid_auto_flow": null,
            "grid_auto_rows": null,
            "grid_column": null,
            "grid_gap": null,
            "grid_row": null,
            "grid_template_areas": null,
            "grid_template_columns": null,
            "grid_template_rows": null,
            "height": null,
            "justify_content": null,
            "justify_items": null,
            "left": null,
            "margin": null,
            "max_height": null,
            "max_width": null,
            "min_height": null,
            "min_width": null,
            "object_fit": null,
            "object_position": null,
            "order": null,
            "overflow": null,
            "overflow_x": null,
            "overflow_y": null,
            "padding": null,
            "right": null,
            "top": null,
            "visibility": null,
            "width": null
          }
        },
        "fab62fd578544757a9cc577dcb415981": {
          "model_module": "@jupyter-widgets/controls",
          "model_name": "DescriptionStyleModel",
          "model_module_version": "1.5.0",
          "state": {
            "_model_module": "@jupyter-widgets/controls",
            "_model_module_version": "1.5.0",
            "_model_name": "DescriptionStyleModel",
            "_view_count": null,
            "_view_module": "@jupyter-widgets/base",
            "_view_module_version": "1.2.0",
            "_view_name": "StyleView",
            "description_width": ""
          }
        },
        "00b6d217c1434230a8d18767092eb89a": {
          "model_module": "@jupyter-widgets/base",
          "model_name": "LayoutModel",
          "model_module_version": "1.2.0",
          "state": {
            "_model_module": "@jupyter-widgets/base",
            "_model_module_version": "1.2.0",
            "_model_name": "LayoutModel",
            "_view_count": null,
            "_view_module": "@jupyter-widgets/base",
            "_view_module_version": "1.2.0",
            "_view_name": "LayoutView",
            "align_content": null,
            "align_items": null,
            "align_self": null,
            "border": null,
            "bottom": null,
            "display": null,
            "flex": null,
            "flex_flow": null,
            "grid_area": null,
            "grid_auto_columns": null,
            "grid_auto_flow": null,
            "grid_auto_rows": null,
            "grid_column": null,
            "grid_gap": null,
            "grid_row": null,
            "grid_template_areas": null,
            "grid_template_columns": null,
            "grid_template_rows": null,
            "height": null,
            "justify_content": null,
            "justify_items": null,
            "left": null,
            "margin": null,
            "max_height": null,
            "max_width": null,
            "min_height": null,
            "min_width": null,
            "object_fit": null,
            "object_position": null,
            "order": null,
            "overflow": null,
            "overflow_x": null,
            "overflow_y": null,
            "padding": null,
            "right": null,
            "top": null,
            "visibility": null,
            "width": null
          }
        },
        "46f67b2122ce4aba93e50e64ccbf859a": {
          "model_module": "@jupyter-widgets/controls",
          "model_name": "ProgressStyleModel",
          "model_module_version": "1.5.0",
          "state": {
            "_model_module": "@jupyter-widgets/controls",
            "_model_module_version": "1.5.0",
            "_model_name": "ProgressStyleModel",
            "_view_count": null,
            "_view_module": "@jupyter-widgets/base",
            "_view_module_version": "1.2.0",
            "_view_name": "StyleView",
            "bar_color": null,
            "description_width": ""
          }
        },
        "71eae72c3b2649a09b2a5f5ce0c91c2b": {
          "model_module": "@jupyter-widgets/base",
          "model_name": "LayoutModel",
          "model_module_version": "1.2.0",
          "state": {
            "_model_module": "@jupyter-widgets/base",
            "_model_module_version": "1.2.0",
            "_model_name": "LayoutModel",
            "_view_count": null,
            "_view_module": "@jupyter-widgets/base",
            "_view_module_version": "1.2.0",
            "_view_name": "LayoutView",
            "align_content": null,
            "align_items": null,
            "align_self": null,
            "border": null,
            "bottom": null,
            "display": null,
            "flex": null,
            "flex_flow": null,
            "grid_area": null,
            "grid_auto_columns": null,
            "grid_auto_flow": null,
            "grid_auto_rows": null,
            "grid_column": null,
            "grid_gap": null,
            "grid_row": null,
            "grid_template_areas": null,
            "grid_template_columns": null,
            "grid_template_rows": null,
            "height": null,
            "justify_content": null,
            "justify_items": null,
            "left": null,
            "margin": null,
            "max_height": null,
            "max_width": null,
            "min_height": null,
            "min_width": null,
            "object_fit": null,
            "object_position": null,
            "order": null,
            "overflow": null,
            "overflow_x": null,
            "overflow_y": null,
            "padding": null,
            "right": null,
            "top": null,
            "visibility": null,
            "width": null
          }
        },
        "e2405ccfdb3e4e40b9aec4a3f434827b": {
          "model_module": "@jupyter-widgets/controls",
          "model_name": "DescriptionStyleModel",
          "model_module_version": "1.5.0",
          "state": {
            "_model_module": "@jupyter-widgets/controls",
            "_model_module_version": "1.5.0",
            "_model_name": "DescriptionStyleModel",
            "_view_count": null,
            "_view_module": "@jupyter-widgets/base",
            "_view_module_version": "1.2.0",
            "_view_name": "StyleView",
            "description_width": ""
          }
        },
        "fcea799689ac4b34b85e42421665d2a4": {
          "model_module": "@jupyter-widgets/controls",
          "model_name": "HBoxModel",
          "model_module_version": "1.5.0",
          "state": {
            "_dom_classes": [],
            "_model_module": "@jupyter-widgets/controls",
            "_model_module_version": "1.5.0",
            "_model_name": "HBoxModel",
            "_view_count": null,
            "_view_module": "@jupyter-widgets/controls",
            "_view_module_version": "1.5.0",
            "_view_name": "HBoxView",
            "box_style": "",
            "children": [
              "IPY_MODEL_93e9fac9960c4bea8b3ffd2d9a22dfc9",
              "IPY_MODEL_9feac57c83db4668ba786cec314e06fa",
              "IPY_MODEL_ee29c8558b304881b958d75e74706ce2"
            ],
            "layout": "IPY_MODEL_10f933691a9e48769ee79b47bdc22436"
          }
        },
        "93e9fac9960c4bea8b3ffd2d9a22dfc9": {
          "model_module": "@jupyter-widgets/controls",
          "model_name": "HTMLModel",
          "model_module_version": "1.5.0",
          "state": {
            "_dom_classes": [],
            "_model_module": "@jupyter-widgets/controls",
            "_model_module_version": "1.5.0",
            "_model_name": "HTMLModel",
            "_view_count": null,
            "_view_module": "@jupyter-widgets/controls",
            "_view_module_version": "1.5.0",
            "_view_name": "HTMLView",
            "description": "",
            "description_tooltip": null,
            "layout": "IPY_MODEL_cbae17a7df2d4dd3a201341cb89f94a6",
            "placeholder": "​",
            "style": "IPY_MODEL_868a5043c5554b50835e60923e7e73b9",
            "value": "README.md: 100%"
          }
        },
        "9feac57c83db4668ba786cec314e06fa": {
          "model_module": "@jupyter-widgets/controls",
          "model_name": "FloatProgressModel",
          "model_module_version": "1.5.0",
          "state": {
            "_dom_classes": [],
            "_model_module": "@jupyter-widgets/controls",
            "_model_module_version": "1.5.0",
            "_model_name": "FloatProgressModel",
            "_view_count": null,
            "_view_module": "@jupyter-widgets/controls",
            "_view_module_version": "1.5.0",
            "_view_name": "ProgressView",
            "bar_style": "success",
            "description": "",
            "description_tooltip": null,
            "layout": "IPY_MODEL_db15180ebdd94423b05a1acabca6446d",
            "max": 10610,
            "min": 0,
            "orientation": "horizontal",
            "style": "IPY_MODEL_d105d96f039e48d4b39140f561a5f3f6",
            "value": 10610
          }
        },
        "ee29c8558b304881b958d75e74706ce2": {
          "model_module": "@jupyter-widgets/controls",
          "model_name": "HTMLModel",
          "model_module_version": "1.5.0",
          "state": {
            "_dom_classes": [],
            "_model_module": "@jupyter-widgets/controls",
            "_model_module_version": "1.5.0",
            "_model_name": "HTMLModel",
            "_view_count": null,
            "_view_module": "@jupyter-widgets/controls",
            "_view_module_version": "1.5.0",
            "_view_name": "HTMLView",
            "description": "",
            "description_tooltip": null,
            "layout": "IPY_MODEL_d33231e7a3064168a5ab23078b90daf0",
            "placeholder": "​",
            "style": "IPY_MODEL_f3900f6545b648b995bb8b3c8f77ddb7",
            "value": " 10.6k/10.6k [00:00&lt;00:00, 500kB/s]"
          }
        },
        "10f933691a9e48769ee79b47bdc22436": {
          "model_module": "@jupyter-widgets/base",
          "model_name": "LayoutModel",
          "model_module_version": "1.2.0",
          "state": {
            "_model_module": "@jupyter-widgets/base",
            "_model_module_version": "1.2.0",
            "_model_name": "LayoutModel",
            "_view_count": null,
            "_view_module": "@jupyter-widgets/base",
            "_view_module_version": "1.2.0",
            "_view_name": "LayoutView",
            "align_content": null,
            "align_items": null,
            "align_self": null,
            "border": null,
            "bottom": null,
            "display": null,
            "flex": null,
            "flex_flow": null,
            "grid_area": null,
            "grid_auto_columns": null,
            "grid_auto_flow": null,
            "grid_auto_rows": null,
            "grid_column": null,
            "grid_gap": null,
            "grid_row": null,
            "grid_template_areas": null,
            "grid_template_columns": null,
            "grid_template_rows": null,
            "height": null,
            "justify_content": null,
            "justify_items": null,
            "left": null,
            "margin": null,
            "max_height": null,
            "max_width": null,
            "min_height": null,
            "min_width": null,
            "object_fit": null,
            "object_position": null,
            "order": null,
            "overflow": null,
            "overflow_x": null,
            "overflow_y": null,
            "padding": null,
            "right": null,
            "top": null,
            "visibility": null,
            "width": null
          }
        },
        "cbae17a7df2d4dd3a201341cb89f94a6": {
          "model_module": "@jupyter-widgets/base",
          "model_name": "LayoutModel",
          "model_module_version": "1.2.0",
          "state": {
            "_model_module": "@jupyter-widgets/base",
            "_model_module_version": "1.2.0",
            "_model_name": "LayoutModel",
            "_view_count": null,
            "_view_module": "@jupyter-widgets/base",
            "_view_module_version": "1.2.0",
            "_view_name": "LayoutView",
            "align_content": null,
            "align_items": null,
            "align_self": null,
            "border": null,
            "bottom": null,
            "display": null,
            "flex": null,
            "flex_flow": null,
            "grid_area": null,
            "grid_auto_columns": null,
            "grid_auto_flow": null,
            "grid_auto_rows": null,
            "grid_column": null,
            "grid_gap": null,
            "grid_row": null,
            "grid_template_areas": null,
            "grid_template_columns": null,
            "grid_template_rows": null,
            "height": null,
            "justify_content": null,
            "justify_items": null,
            "left": null,
            "margin": null,
            "max_height": null,
            "max_width": null,
            "min_height": null,
            "min_width": null,
            "object_fit": null,
            "object_position": null,
            "order": null,
            "overflow": null,
            "overflow_x": null,
            "overflow_y": null,
            "padding": null,
            "right": null,
            "top": null,
            "visibility": null,
            "width": null
          }
        },
        "868a5043c5554b50835e60923e7e73b9": {
          "model_module": "@jupyter-widgets/controls",
          "model_name": "DescriptionStyleModel",
          "model_module_version": "1.5.0",
          "state": {
            "_model_module": "@jupyter-widgets/controls",
            "_model_module_version": "1.5.0",
            "_model_name": "DescriptionStyleModel",
            "_view_count": null,
            "_view_module": "@jupyter-widgets/base",
            "_view_module_version": "1.2.0",
            "_view_name": "StyleView",
            "description_width": ""
          }
        },
        "db15180ebdd94423b05a1acabca6446d": {
          "model_module": "@jupyter-widgets/base",
          "model_name": "LayoutModel",
          "model_module_version": "1.2.0",
          "state": {
            "_model_module": "@jupyter-widgets/base",
            "_model_module_version": "1.2.0",
            "_model_name": "LayoutModel",
            "_view_count": null,
            "_view_module": "@jupyter-widgets/base",
            "_view_module_version": "1.2.0",
            "_view_name": "LayoutView",
            "align_content": null,
            "align_items": null,
            "align_self": null,
            "border": null,
            "bottom": null,
            "display": null,
            "flex": null,
            "flex_flow": null,
            "grid_area": null,
            "grid_auto_columns": null,
            "grid_auto_flow": null,
            "grid_auto_rows": null,
            "grid_column": null,
            "grid_gap": null,
            "grid_row": null,
            "grid_template_areas": null,
            "grid_template_columns": null,
            "grid_template_rows": null,
            "height": null,
            "justify_content": null,
            "justify_items": null,
            "left": null,
            "margin": null,
            "max_height": null,
            "max_width": null,
            "min_height": null,
            "min_width": null,
            "object_fit": null,
            "object_position": null,
            "order": null,
            "overflow": null,
            "overflow_x": null,
            "overflow_y": null,
            "padding": null,
            "right": null,
            "top": null,
            "visibility": null,
            "width": null
          }
        },
        "d105d96f039e48d4b39140f561a5f3f6": {
          "model_module": "@jupyter-widgets/controls",
          "model_name": "ProgressStyleModel",
          "model_module_version": "1.5.0",
          "state": {
            "_model_module": "@jupyter-widgets/controls",
            "_model_module_version": "1.5.0",
            "_model_name": "ProgressStyleModel",
            "_view_count": null,
            "_view_module": "@jupyter-widgets/base",
            "_view_module_version": "1.2.0",
            "_view_name": "StyleView",
            "bar_color": null,
            "description_width": ""
          }
        },
        "d33231e7a3064168a5ab23078b90daf0": {
          "model_module": "@jupyter-widgets/base",
          "model_name": "LayoutModel",
          "model_module_version": "1.2.0",
          "state": {
            "_model_module": "@jupyter-widgets/base",
            "_model_module_version": "1.2.0",
            "_model_name": "LayoutModel",
            "_view_count": null,
            "_view_module": "@jupyter-widgets/base",
            "_view_module_version": "1.2.0",
            "_view_name": "LayoutView",
            "align_content": null,
            "align_items": null,
            "align_self": null,
            "border": null,
            "bottom": null,
            "display": null,
            "flex": null,
            "flex_flow": null,
            "grid_area": null,
            "grid_auto_columns": null,
            "grid_auto_flow": null,
            "grid_auto_rows": null,
            "grid_column": null,
            "grid_gap": null,
            "grid_row": null,
            "grid_template_areas": null,
            "grid_template_columns": null,
            "grid_template_rows": null,
            "height": null,
            "justify_content": null,
            "justify_items": null,
            "left": null,
            "margin": null,
            "max_height": null,
            "max_width": null,
            "min_height": null,
            "min_width": null,
            "object_fit": null,
            "object_position": null,
            "order": null,
            "overflow": null,
            "overflow_x": null,
            "overflow_y": null,
            "padding": null,
            "right": null,
            "top": null,
            "visibility": null,
            "width": null
          }
        },
        "f3900f6545b648b995bb8b3c8f77ddb7": {
          "model_module": "@jupyter-widgets/controls",
          "model_name": "DescriptionStyleModel",
          "model_module_version": "1.5.0",
          "state": {
            "_model_module": "@jupyter-widgets/controls",
            "_model_module_version": "1.5.0",
            "_model_name": "DescriptionStyleModel",
            "_view_count": null,
            "_view_module": "@jupyter-widgets/base",
            "_view_module_version": "1.2.0",
            "_view_name": "StyleView",
            "description_width": ""
          }
        },
        "e28878eb6b42441e9c0bb5f6d947ea5b": {
          "model_module": "@jupyter-widgets/controls",
          "model_name": "HBoxModel",
          "model_module_version": "1.5.0",
          "state": {
            "_dom_classes": [],
            "_model_module": "@jupyter-widgets/controls",
            "_model_module_version": "1.5.0",
            "_model_name": "HBoxModel",
            "_view_count": null,
            "_view_module": "@jupyter-widgets/controls",
            "_view_module_version": "1.5.0",
            "_view_name": "HBoxView",
            "box_style": "",
            "children": [
              "IPY_MODEL_364b825af02f4c9d91b4ec0c4f999346",
              "IPY_MODEL_85f41408e3b749b88f2e42a4334fa5ff",
              "IPY_MODEL_ff1b8ecef337471da1b7c5a3fb20d1dc"
            ],
            "layout": "IPY_MODEL_c8a89553e844453d8bc46854a832af57"
          }
        },
        "364b825af02f4c9d91b4ec0c4f999346": {
          "model_module": "@jupyter-widgets/controls",
          "model_name": "HTMLModel",
          "model_module_version": "1.5.0",
          "state": {
            "_dom_classes": [],
            "_model_module": "@jupyter-widgets/controls",
            "_model_module_version": "1.5.0",
            "_model_name": "HTMLModel",
            "_view_count": null,
            "_view_module": "@jupyter-widgets/controls",
            "_view_module_version": "1.5.0",
            "_view_name": "HTMLView",
            "description": "",
            "description_tooltip": null,
            "layout": "IPY_MODEL_f03d4bec6e5f40b5af2ddccf7369c7d4",
            "placeholder": "​",
            "style": "IPY_MODEL_653d3226b88545ebb5067b8e88de3555",
            "value": "config.json: 100%"
          }
        },
        "85f41408e3b749b88f2e42a4334fa5ff": {
          "model_module": "@jupyter-widgets/controls",
          "model_name": "FloatProgressModel",
          "model_module_version": "1.5.0",
          "state": {
            "_dom_classes": [],
            "_model_module": "@jupyter-widgets/controls",
            "_model_module_version": "1.5.0",
            "_model_name": "FloatProgressModel",
            "_view_count": null,
            "_view_module": "@jupyter-widgets/controls",
            "_view_module_version": "1.5.0",
            "_view_name": "ProgressView",
            "bar_style": "success",
            "description": "",
            "description_tooltip": null,
            "layout": "IPY_MODEL_f85565aa384a4c3a84eb8f87b76e0177",
            "max": 612,
            "min": 0,
            "orientation": "horizontal",
            "style": "IPY_MODEL_69212711a15a4ff09cc36f13a0c252b4",
            "value": 612
          }
        },
        "ff1b8ecef337471da1b7c5a3fb20d1dc": {
          "model_module": "@jupyter-widgets/controls",
          "model_name": "HTMLModel",
          "model_module_version": "1.5.0",
          "state": {
            "_dom_classes": [],
            "_model_module": "@jupyter-widgets/controls",
            "_model_module_version": "1.5.0",
            "_model_name": "HTMLModel",
            "_view_count": null,
            "_view_module": "@jupyter-widgets/controls",
            "_view_module_version": "1.5.0",
            "_view_name": "HTMLView",
            "description": "",
            "description_tooltip": null,
            "layout": "IPY_MODEL_9b8cc87682224965bb1be6cad645edfe",
            "placeholder": "​",
            "style": "IPY_MODEL_1b6925ca3673467e9ef08e585af87e8c",
            "value": " 612/612 [00:00&lt;00:00, 44.7kB/s]"
          }
        },
        "c8a89553e844453d8bc46854a832af57": {
          "model_module": "@jupyter-widgets/base",
          "model_name": "LayoutModel",
          "model_module_version": "1.2.0",
          "state": {
            "_model_module": "@jupyter-widgets/base",
            "_model_module_version": "1.2.0",
            "_model_name": "LayoutModel",
            "_view_count": null,
            "_view_module": "@jupyter-widgets/base",
            "_view_module_version": "1.2.0",
            "_view_name": "LayoutView",
            "align_content": null,
            "align_items": null,
            "align_self": null,
            "border": null,
            "bottom": null,
            "display": null,
            "flex": null,
            "flex_flow": null,
            "grid_area": null,
            "grid_auto_columns": null,
            "grid_auto_flow": null,
            "grid_auto_rows": null,
            "grid_column": null,
            "grid_gap": null,
            "grid_row": null,
            "grid_template_areas": null,
            "grid_template_columns": null,
            "grid_template_rows": null,
            "height": null,
            "justify_content": null,
            "justify_items": null,
            "left": null,
            "margin": null,
            "max_height": null,
            "max_width": null,
            "min_height": null,
            "min_width": null,
            "object_fit": null,
            "object_position": null,
            "order": null,
            "overflow": null,
            "overflow_x": null,
            "overflow_y": null,
            "padding": null,
            "right": null,
            "top": null,
            "visibility": null,
            "width": null
          }
        },
        "f03d4bec6e5f40b5af2ddccf7369c7d4": {
          "model_module": "@jupyter-widgets/base",
          "model_name": "LayoutModel",
          "model_module_version": "1.2.0",
          "state": {
            "_model_module": "@jupyter-widgets/base",
            "_model_module_version": "1.2.0",
            "_model_name": "LayoutModel",
            "_view_count": null,
            "_view_module": "@jupyter-widgets/base",
            "_view_module_version": "1.2.0",
            "_view_name": "LayoutView",
            "align_content": null,
            "align_items": null,
            "align_self": null,
            "border": null,
            "bottom": null,
            "display": null,
            "flex": null,
            "flex_flow": null,
            "grid_area": null,
            "grid_auto_columns": null,
            "grid_auto_flow": null,
            "grid_auto_rows": null,
            "grid_column": null,
            "grid_gap": null,
            "grid_row": null,
            "grid_template_areas": null,
            "grid_template_columns": null,
            "grid_template_rows": null,
            "height": null,
            "justify_content": null,
            "justify_items": null,
            "left": null,
            "margin": null,
            "max_height": null,
            "max_width": null,
            "min_height": null,
            "min_width": null,
            "object_fit": null,
            "object_position": null,
            "order": null,
            "overflow": null,
            "overflow_x": null,
            "overflow_y": null,
            "padding": null,
            "right": null,
            "top": null,
            "visibility": null,
            "width": null
          }
        },
        "653d3226b88545ebb5067b8e88de3555": {
          "model_module": "@jupyter-widgets/controls",
          "model_name": "DescriptionStyleModel",
          "model_module_version": "1.5.0",
          "state": {
            "_model_module": "@jupyter-widgets/controls",
            "_model_module_version": "1.5.0",
            "_model_name": "DescriptionStyleModel",
            "_view_count": null,
            "_view_module": "@jupyter-widgets/base",
            "_view_module_version": "1.2.0",
            "_view_name": "StyleView",
            "description_width": ""
          }
        },
        "f85565aa384a4c3a84eb8f87b76e0177": {
          "model_module": "@jupyter-widgets/base",
          "model_name": "LayoutModel",
          "model_module_version": "1.2.0",
          "state": {
            "_model_module": "@jupyter-widgets/base",
            "_model_module_version": "1.2.0",
            "_model_name": "LayoutModel",
            "_view_count": null,
            "_view_module": "@jupyter-widgets/base",
            "_view_module_version": "1.2.0",
            "_view_name": "LayoutView",
            "align_content": null,
            "align_items": null,
            "align_self": null,
            "border": null,
            "bottom": null,
            "display": null,
            "flex": null,
            "flex_flow": null,
            "grid_area": null,
            "grid_auto_columns": null,
            "grid_auto_flow": null,
            "grid_auto_rows": null,
            "grid_column": null,
            "grid_gap": null,
            "grid_row": null,
            "grid_template_areas": null,
            "grid_template_columns": null,
            "grid_template_rows": null,
            "height": null,
            "justify_content": null,
            "justify_items": null,
            "left": null,
            "margin": null,
            "max_height": null,
            "max_width": null,
            "min_height": null,
            "min_width": null,
            "object_fit": null,
            "object_position": null,
            "order": null,
            "overflow": null,
            "overflow_x": null,
            "overflow_y": null,
            "padding": null,
            "right": null,
            "top": null,
            "visibility": null,
            "width": null
          }
        },
        "69212711a15a4ff09cc36f13a0c252b4": {
          "model_module": "@jupyter-widgets/controls",
          "model_name": "ProgressStyleModel",
          "model_module_version": "1.5.0",
          "state": {
            "_model_module": "@jupyter-widgets/controls",
            "_model_module_version": "1.5.0",
            "_model_name": "ProgressStyleModel",
            "_view_count": null,
            "_view_module": "@jupyter-widgets/base",
            "_view_module_version": "1.2.0",
            "_view_name": "StyleView",
            "bar_color": null,
            "description_width": ""
          }
        },
        "9b8cc87682224965bb1be6cad645edfe": {
          "model_module": "@jupyter-widgets/base",
          "model_name": "LayoutModel",
          "model_module_version": "1.2.0",
          "state": {
            "_model_module": "@jupyter-widgets/base",
            "_model_module_version": "1.2.0",
            "_model_name": "LayoutModel",
            "_view_count": null,
            "_view_module": "@jupyter-widgets/base",
            "_view_module_version": "1.2.0",
            "_view_name": "LayoutView",
            "align_content": null,
            "align_items": null,
            "align_self": null,
            "border": null,
            "bottom": null,
            "display": null,
            "flex": null,
            "flex_flow": null,
            "grid_area": null,
            "grid_auto_columns": null,
            "grid_auto_flow": null,
            "grid_auto_rows": null,
            "grid_column": null,
            "grid_gap": null,
            "grid_row": null,
            "grid_template_areas": null,
            "grid_template_columns": null,
            "grid_template_rows": null,
            "height": null,
            "justify_content": null,
            "justify_items": null,
            "left": null,
            "margin": null,
            "max_height": null,
            "max_width": null,
            "min_height": null,
            "min_width": null,
            "object_fit": null,
            "object_position": null,
            "order": null,
            "overflow": null,
            "overflow_x": null,
            "overflow_y": null,
            "padding": null,
            "right": null,
            "top": null,
            "visibility": null,
            "width": null
          }
        },
        "1b6925ca3673467e9ef08e585af87e8c": {
          "model_module": "@jupyter-widgets/controls",
          "model_name": "DescriptionStyleModel",
          "model_module_version": "1.5.0",
          "state": {
            "_model_module": "@jupyter-widgets/controls",
            "_model_module_version": "1.5.0",
            "_model_name": "DescriptionStyleModel",
            "_view_count": null,
            "_view_module": "@jupyter-widgets/base",
            "_view_module_version": "1.2.0",
            "_view_name": "StyleView",
            "description_width": ""
          }
        },
        "954004740c6147bea043a5c592754098": {
          "model_module": "@jupyter-widgets/controls",
          "model_name": "HBoxModel",
          "model_module_version": "1.5.0",
          "state": {
            "_dom_classes": [],
            "_model_module": "@jupyter-widgets/controls",
            "_model_module_version": "1.5.0",
            "_model_name": "HBoxModel",
            "_view_count": null,
            "_view_module": "@jupyter-widgets/controls",
            "_view_module_version": "1.5.0",
            "_view_name": "HBoxView",
            "box_style": "",
            "children": [
              "IPY_MODEL_a1b444dcc8444a3791a61fb405500ad7",
              "IPY_MODEL_074a245ec9494b318d8660ae24982bb2",
              "IPY_MODEL_7350e3f89c7647a18ec57b14631cd125"
            ],
            "layout": "IPY_MODEL_793bcc61c4104a6cbb3a09b3489a0dfb"
          }
        },
        "a1b444dcc8444a3791a61fb405500ad7": {
          "model_module": "@jupyter-widgets/controls",
          "model_name": "HTMLModel",
          "model_module_version": "1.5.0",
          "state": {
            "_dom_classes": [],
            "_model_module": "@jupyter-widgets/controls",
            "_model_module_version": "1.5.0",
            "_model_name": "HTMLModel",
            "_view_count": null,
            "_view_module": "@jupyter-widgets/controls",
            "_view_module_version": "1.5.0",
            "_view_name": "HTMLView",
            "description": "",
            "description_tooltip": null,
            "layout": "IPY_MODEL_bf68050ad73b43eea5433d3bc2eebb77",
            "placeholder": "​",
            "style": "IPY_MODEL_ac0f4fc342cd455cafcdb64091dad294",
            "value": "config_sentence_transformers.json: 100%"
          }
        },
        "074a245ec9494b318d8660ae24982bb2": {
          "model_module": "@jupyter-widgets/controls",
          "model_name": "FloatProgressModel",
          "model_module_version": "1.5.0",
          "state": {
            "_dom_classes": [],
            "_model_module": "@jupyter-widgets/controls",
            "_model_module_version": "1.5.0",
            "_model_name": "FloatProgressModel",
            "_view_count": null,
            "_view_module": "@jupyter-widgets/controls",
            "_view_module_version": "1.5.0",
            "_view_name": "ProgressView",
            "bar_style": "success",
            "description": "",
            "description_tooltip": null,
            "layout": "IPY_MODEL_1932139b24884d39836fa1abe23c03c0",
            "max": 116,
            "min": 0,
            "orientation": "horizontal",
            "style": "IPY_MODEL_aee8eb43cd48408fbc2b6f86333954ad",
            "value": 116
          }
        },
        "7350e3f89c7647a18ec57b14631cd125": {
          "model_module": "@jupyter-widgets/controls",
          "model_name": "HTMLModel",
          "model_module_version": "1.5.0",
          "state": {
            "_dom_classes": [],
            "_model_module": "@jupyter-widgets/controls",
            "_model_module_version": "1.5.0",
            "_model_name": "HTMLModel",
            "_view_count": null,
            "_view_module": "@jupyter-widgets/controls",
            "_view_module_version": "1.5.0",
            "_view_name": "HTMLView",
            "description": "",
            "description_tooltip": null,
            "layout": "IPY_MODEL_24d698a21e454887a6701286c17160c7",
            "placeholder": "​",
            "style": "IPY_MODEL_455e535f901147779f5b11c15387633f",
            "value": " 116/116 [00:00&lt;00:00, 8.93kB/s]"
          }
        },
        "793bcc61c4104a6cbb3a09b3489a0dfb": {
          "model_module": "@jupyter-widgets/base",
          "model_name": "LayoutModel",
          "model_module_version": "1.2.0",
          "state": {
            "_model_module": "@jupyter-widgets/base",
            "_model_module_version": "1.2.0",
            "_model_name": "LayoutModel",
            "_view_count": null,
            "_view_module": "@jupyter-widgets/base",
            "_view_module_version": "1.2.0",
            "_view_name": "LayoutView",
            "align_content": null,
            "align_items": null,
            "align_self": null,
            "border": null,
            "bottom": null,
            "display": null,
            "flex": null,
            "flex_flow": null,
            "grid_area": null,
            "grid_auto_columns": null,
            "grid_auto_flow": null,
            "grid_auto_rows": null,
            "grid_column": null,
            "grid_gap": null,
            "grid_row": null,
            "grid_template_areas": null,
            "grid_template_columns": null,
            "grid_template_rows": null,
            "height": null,
            "justify_content": null,
            "justify_items": null,
            "left": null,
            "margin": null,
            "max_height": null,
            "max_width": null,
            "min_height": null,
            "min_width": null,
            "object_fit": null,
            "object_position": null,
            "order": null,
            "overflow": null,
            "overflow_x": null,
            "overflow_y": null,
            "padding": null,
            "right": null,
            "top": null,
            "visibility": null,
            "width": null
          }
        },
        "bf68050ad73b43eea5433d3bc2eebb77": {
          "model_module": "@jupyter-widgets/base",
          "model_name": "LayoutModel",
          "model_module_version": "1.2.0",
          "state": {
            "_model_module": "@jupyter-widgets/base",
            "_model_module_version": "1.2.0",
            "_model_name": "LayoutModel",
            "_view_count": null,
            "_view_module": "@jupyter-widgets/base",
            "_view_module_version": "1.2.0",
            "_view_name": "LayoutView",
            "align_content": null,
            "align_items": null,
            "align_self": null,
            "border": null,
            "bottom": null,
            "display": null,
            "flex": null,
            "flex_flow": null,
            "grid_area": null,
            "grid_auto_columns": null,
            "grid_auto_flow": null,
            "grid_auto_rows": null,
            "grid_column": null,
            "grid_gap": null,
            "grid_row": null,
            "grid_template_areas": null,
            "grid_template_columns": null,
            "grid_template_rows": null,
            "height": null,
            "justify_content": null,
            "justify_items": null,
            "left": null,
            "margin": null,
            "max_height": null,
            "max_width": null,
            "min_height": null,
            "min_width": null,
            "object_fit": null,
            "object_position": null,
            "order": null,
            "overflow": null,
            "overflow_x": null,
            "overflow_y": null,
            "padding": null,
            "right": null,
            "top": null,
            "visibility": null,
            "width": null
          }
        },
        "ac0f4fc342cd455cafcdb64091dad294": {
          "model_module": "@jupyter-widgets/controls",
          "model_name": "DescriptionStyleModel",
          "model_module_version": "1.5.0",
          "state": {
            "_model_module": "@jupyter-widgets/controls",
            "_model_module_version": "1.5.0",
            "_model_name": "DescriptionStyleModel",
            "_view_count": null,
            "_view_module": "@jupyter-widgets/base",
            "_view_module_version": "1.2.0",
            "_view_name": "StyleView",
            "description_width": ""
          }
        },
        "1932139b24884d39836fa1abe23c03c0": {
          "model_module": "@jupyter-widgets/base",
          "model_name": "LayoutModel",
          "model_module_version": "1.2.0",
          "state": {
            "_model_module": "@jupyter-widgets/base",
            "_model_module_version": "1.2.0",
            "_model_name": "LayoutModel",
            "_view_count": null,
            "_view_module": "@jupyter-widgets/base",
            "_view_module_version": "1.2.0",
            "_view_name": "LayoutView",
            "align_content": null,
            "align_items": null,
            "align_self": null,
            "border": null,
            "bottom": null,
            "display": null,
            "flex": null,
            "flex_flow": null,
            "grid_area": null,
            "grid_auto_columns": null,
            "grid_auto_flow": null,
            "grid_auto_rows": null,
            "grid_column": null,
            "grid_gap": null,
            "grid_row": null,
            "grid_template_areas": null,
            "grid_template_columns": null,
            "grid_template_rows": null,
            "height": null,
            "justify_content": null,
            "justify_items": null,
            "left": null,
            "margin": null,
            "max_height": null,
            "max_width": null,
            "min_height": null,
            "min_width": null,
            "object_fit": null,
            "object_position": null,
            "order": null,
            "overflow": null,
            "overflow_x": null,
            "overflow_y": null,
            "padding": null,
            "right": null,
            "top": null,
            "visibility": null,
            "width": null
          }
        },
        "aee8eb43cd48408fbc2b6f86333954ad": {
          "model_module": "@jupyter-widgets/controls",
          "model_name": "ProgressStyleModel",
          "model_module_version": "1.5.0",
          "state": {
            "_model_module": "@jupyter-widgets/controls",
            "_model_module_version": "1.5.0",
            "_model_name": "ProgressStyleModel",
            "_view_count": null,
            "_view_module": "@jupyter-widgets/base",
            "_view_module_version": "1.2.0",
            "_view_name": "StyleView",
            "bar_color": null,
            "description_width": ""
          }
        },
        "24d698a21e454887a6701286c17160c7": {
          "model_module": "@jupyter-widgets/base",
          "model_name": "LayoutModel",
          "model_module_version": "1.2.0",
          "state": {
            "_model_module": "@jupyter-widgets/base",
            "_model_module_version": "1.2.0",
            "_model_name": "LayoutModel",
            "_view_count": null,
            "_view_module": "@jupyter-widgets/base",
            "_view_module_version": "1.2.0",
            "_view_name": "LayoutView",
            "align_content": null,
            "align_items": null,
            "align_self": null,
            "border": null,
            "bottom": null,
            "display": null,
            "flex": null,
            "flex_flow": null,
            "grid_area": null,
            "grid_auto_columns": null,
            "grid_auto_flow": null,
            "grid_auto_rows": null,
            "grid_column": null,
            "grid_gap": null,
            "grid_row": null,
            "grid_template_areas": null,
            "grid_template_columns": null,
            "grid_template_rows": null,
            "height": null,
            "justify_content": null,
            "justify_items": null,
            "left": null,
            "margin": null,
            "max_height": null,
            "max_width": null,
            "min_height": null,
            "min_width": null,
            "object_fit": null,
            "object_position": null,
            "order": null,
            "overflow": null,
            "overflow_x": null,
            "overflow_y": null,
            "padding": null,
            "right": null,
            "top": null,
            "visibility": null,
            "width": null
          }
        },
        "455e535f901147779f5b11c15387633f": {
          "model_module": "@jupyter-widgets/controls",
          "model_name": "DescriptionStyleModel",
          "model_module_version": "1.5.0",
          "state": {
            "_model_module": "@jupyter-widgets/controls",
            "_model_module_version": "1.5.0",
            "_model_name": "DescriptionStyleModel",
            "_view_count": null,
            "_view_module": "@jupyter-widgets/base",
            "_view_module_version": "1.2.0",
            "_view_name": "StyleView",
            "description_width": ""
          }
        },
        "e466a20e8d204bfe88e2018eddb4c784": {
          "model_module": "@jupyter-widgets/controls",
          "model_name": "HBoxModel",
          "model_module_version": "1.5.0",
          "state": {
            "_dom_classes": [],
            "_model_module": "@jupyter-widgets/controls",
            "_model_module_version": "1.5.0",
            "_model_name": "HBoxModel",
            "_view_count": null,
            "_view_module": "@jupyter-widgets/controls",
            "_view_module_version": "1.5.0",
            "_view_name": "HBoxView",
            "box_style": "",
            "children": [
              "IPY_MODEL_ec8278b229c94189b97748186935b637",
              "IPY_MODEL_de62b81dbec845a3abf69b7fe09cfa70",
              "IPY_MODEL_e78a3aedb9194c4f83f0813ffae1e5ca"
            ],
            "layout": "IPY_MODEL_5bb8138eff284918bf738313299e894f"
          }
        },
        "ec8278b229c94189b97748186935b637": {
          "model_module": "@jupyter-widgets/controls",
          "model_name": "HTMLModel",
          "model_module_version": "1.5.0",
          "state": {
            "_dom_classes": [],
            "_model_module": "@jupyter-widgets/controls",
            "_model_module_version": "1.5.0",
            "_model_name": "HTMLModel",
            "_view_count": null,
            "_view_module": "@jupyter-widgets/controls",
            "_view_module_version": "1.5.0",
            "_view_name": "HTMLView",
            "description": "",
            "description_tooltip": null,
            "layout": "IPY_MODEL_c48a9b4c129f4cc69f72fa84715f1489",
            "placeholder": "​",
            "style": "IPY_MODEL_acc80d7df5bb4902a7d6d7ace731817c",
            "value": "data_config.json: 100%"
          }
        },
        "de62b81dbec845a3abf69b7fe09cfa70": {
          "model_module": "@jupyter-widgets/controls",
          "model_name": "FloatProgressModel",
          "model_module_version": "1.5.0",
          "state": {
            "_dom_classes": [],
            "_model_module": "@jupyter-widgets/controls",
            "_model_module_version": "1.5.0",
            "_model_name": "FloatProgressModel",
            "_view_count": null,
            "_view_module": "@jupyter-widgets/controls",
            "_view_module_version": "1.5.0",
            "_view_name": "ProgressView",
            "bar_style": "success",
            "description": "",
            "description_tooltip": null,
            "layout": "IPY_MODEL_0ec5adef63b04d9d819a45b00302e19b",
            "max": 39265,
            "min": 0,
            "orientation": "horizontal",
            "style": "IPY_MODEL_72883b3c1f3c4799b1d8da5cb5bcab0c",
            "value": 39265
          }
        },
        "e78a3aedb9194c4f83f0813ffae1e5ca": {
          "model_module": "@jupyter-widgets/controls",
          "model_name": "HTMLModel",
          "model_module_version": "1.5.0",
          "state": {
            "_dom_classes": [],
            "_model_module": "@jupyter-widgets/controls",
            "_model_module_version": "1.5.0",
            "_model_name": "HTMLModel",
            "_view_count": null,
            "_view_module": "@jupyter-widgets/controls",
            "_view_module_version": "1.5.0",
            "_view_name": "HTMLView",
            "description": "",
            "description_tooltip": null,
            "layout": "IPY_MODEL_089188fae03146d59b36943d84020cc6",
            "placeholder": "​",
            "style": "IPY_MODEL_0362669398184e8db3fe29ee8e46008b",
            "value": " 39.3k/39.3k [00:00&lt;00:00, 490kB/s]"
          }
        },
        "5bb8138eff284918bf738313299e894f": {
          "model_module": "@jupyter-widgets/base",
          "model_name": "LayoutModel",
          "model_module_version": "1.2.0",
          "state": {
            "_model_module": "@jupyter-widgets/base",
            "_model_module_version": "1.2.0",
            "_model_name": "LayoutModel",
            "_view_count": null,
            "_view_module": "@jupyter-widgets/base",
            "_view_module_version": "1.2.0",
            "_view_name": "LayoutView",
            "align_content": null,
            "align_items": null,
            "align_self": null,
            "border": null,
            "bottom": null,
            "display": null,
            "flex": null,
            "flex_flow": null,
            "grid_area": null,
            "grid_auto_columns": null,
            "grid_auto_flow": null,
            "grid_auto_rows": null,
            "grid_column": null,
            "grid_gap": null,
            "grid_row": null,
            "grid_template_areas": null,
            "grid_template_columns": null,
            "grid_template_rows": null,
            "height": null,
            "justify_content": null,
            "justify_items": null,
            "left": null,
            "margin": null,
            "max_height": null,
            "max_width": null,
            "min_height": null,
            "min_width": null,
            "object_fit": null,
            "object_position": null,
            "order": null,
            "overflow": null,
            "overflow_x": null,
            "overflow_y": null,
            "padding": null,
            "right": null,
            "top": null,
            "visibility": null,
            "width": null
          }
        },
        "c48a9b4c129f4cc69f72fa84715f1489": {
          "model_module": "@jupyter-widgets/base",
          "model_name": "LayoutModel",
          "model_module_version": "1.2.0",
          "state": {
            "_model_module": "@jupyter-widgets/base",
            "_model_module_version": "1.2.0",
            "_model_name": "LayoutModel",
            "_view_count": null,
            "_view_module": "@jupyter-widgets/base",
            "_view_module_version": "1.2.0",
            "_view_name": "LayoutView",
            "align_content": null,
            "align_items": null,
            "align_self": null,
            "border": null,
            "bottom": null,
            "display": null,
            "flex": null,
            "flex_flow": null,
            "grid_area": null,
            "grid_auto_columns": null,
            "grid_auto_flow": null,
            "grid_auto_rows": null,
            "grid_column": null,
            "grid_gap": null,
            "grid_row": null,
            "grid_template_areas": null,
            "grid_template_columns": null,
            "grid_template_rows": null,
            "height": null,
            "justify_content": null,
            "justify_items": null,
            "left": null,
            "margin": null,
            "max_height": null,
            "max_width": null,
            "min_height": null,
            "min_width": null,
            "object_fit": null,
            "object_position": null,
            "order": null,
            "overflow": null,
            "overflow_x": null,
            "overflow_y": null,
            "padding": null,
            "right": null,
            "top": null,
            "visibility": null,
            "width": null
          }
        },
        "acc80d7df5bb4902a7d6d7ace731817c": {
          "model_module": "@jupyter-widgets/controls",
          "model_name": "DescriptionStyleModel",
          "model_module_version": "1.5.0",
          "state": {
            "_model_module": "@jupyter-widgets/controls",
            "_model_module_version": "1.5.0",
            "_model_name": "DescriptionStyleModel",
            "_view_count": null,
            "_view_module": "@jupyter-widgets/base",
            "_view_module_version": "1.2.0",
            "_view_name": "StyleView",
            "description_width": ""
          }
        },
        "0ec5adef63b04d9d819a45b00302e19b": {
          "model_module": "@jupyter-widgets/base",
          "model_name": "LayoutModel",
          "model_module_version": "1.2.0",
          "state": {
            "_model_module": "@jupyter-widgets/base",
            "_model_module_version": "1.2.0",
            "_model_name": "LayoutModel",
            "_view_count": null,
            "_view_module": "@jupyter-widgets/base",
            "_view_module_version": "1.2.0",
            "_view_name": "LayoutView",
            "align_content": null,
            "align_items": null,
            "align_self": null,
            "border": null,
            "bottom": null,
            "display": null,
            "flex": null,
            "flex_flow": null,
            "grid_area": null,
            "grid_auto_columns": null,
            "grid_auto_flow": null,
            "grid_auto_rows": null,
            "grid_column": null,
            "grid_gap": null,
            "grid_row": null,
            "grid_template_areas": null,
            "grid_template_columns": null,
            "grid_template_rows": null,
            "height": null,
            "justify_content": null,
            "justify_items": null,
            "left": null,
            "margin": null,
            "max_height": null,
            "max_width": null,
            "min_height": null,
            "min_width": null,
            "object_fit": null,
            "object_position": null,
            "order": null,
            "overflow": null,
            "overflow_x": null,
            "overflow_y": null,
            "padding": null,
            "right": null,
            "top": null,
            "visibility": null,
            "width": null
          }
        },
        "72883b3c1f3c4799b1d8da5cb5bcab0c": {
          "model_module": "@jupyter-widgets/controls",
          "model_name": "ProgressStyleModel",
          "model_module_version": "1.5.0",
          "state": {
            "_model_module": "@jupyter-widgets/controls",
            "_model_module_version": "1.5.0",
            "_model_name": "ProgressStyleModel",
            "_view_count": null,
            "_view_module": "@jupyter-widgets/base",
            "_view_module_version": "1.2.0",
            "_view_name": "StyleView",
            "bar_color": null,
            "description_width": ""
          }
        },
        "089188fae03146d59b36943d84020cc6": {
          "model_module": "@jupyter-widgets/base",
          "model_name": "LayoutModel",
          "model_module_version": "1.2.0",
          "state": {
            "_model_module": "@jupyter-widgets/base",
            "_model_module_version": "1.2.0",
            "_model_name": "LayoutModel",
            "_view_count": null,
            "_view_module": "@jupyter-widgets/base",
            "_view_module_version": "1.2.0",
            "_view_name": "LayoutView",
            "align_content": null,
            "align_items": null,
            "align_self": null,
            "border": null,
            "bottom": null,
            "display": null,
            "flex": null,
            "flex_flow": null,
            "grid_area": null,
            "grid_auto_columns": null,
            "grid_auto_flow": null,
            "grid_auto_rows": null,
            "grid_column": null,
            "grid_gap": null,
            "grid_row": null,
            "grid_template_areas": null,
            "grid_template_columns": null,
            "grid_template_rows": null,
            "height": null,
            "justify_content": null,
            "justify_items": null,
            "left": null,
            "margin": null,
            "max_height": null,
            "max_width": null,
            "min_height": null,
            "min_width": null,
            "object_fit": null,
            "object_position": null,
            "order": null,
            "overflow": null,
            "overflow_x": null,
            "overflow_y": null,
            "padding": null,
            "right": null,
            "top": null,
            "visibility": null,
            "width": null
          }
        },
        "0362669398184e8db3fe29ee8e46008b": {
          "model_module": "@jupyter-widgets/controls",
          "model_name": "DescriptionStyleModel",
          "model_module_version": "1.5.0",
          "state": {
            "_model_module": "@jupyter-widgets/controls",
            "_model_module_version": "1.5.0",
            "_model_name": "DescriptionStyleModel",
            "_view_count": null,
            "_view_module": "@jupyter-widgets/base",
            "_view_module_version": "1.2.0",
            "_view_name": "StyleView",
            "description_width": ""
          }
        },
        "4b1da40b412a4df4abaf9cda18818b38": {
          "model_module": "@jupyter-widgets/controls",
          "model_name": "HBoxModel",
          "model_module_version": "1.5.0",
          "state": {
            "_dom_classes": [],
            "_model_module": "@jupyter-widgets/controls",
            "_model_module_version": "1.5.0",
            "_model_name": "HBoxModel",
            "_view_count": null,
            "_view_module": "@jupyter-widgets/controls",
            "_view_module_version": "1.5.0",
            "_view_name": "HBoxView",
            "box_style": "",
            "children": [
              "IPY_MODEL_72dc68f92dd449f1b8f6ccf197e81779",
              "IPY_MODEL_14a7a3be61e64dfbaab7757eabeb5cec",
              "IPY_MODEL_4a5b8b7362b846d2a9477e10576779e7"
            ],
            "layout": "IPY_MODEL_7b44fb89474d4cbcb3238e4920455d80"
          }
        },
        "72dc68f92dd449f1b8f6ccf197e81779": {
          "model_module": "@jupyter-widgets/controls",
          "model_name": "HTMLModel",
          "model_module_version": "1.5.0",
          "state": {
            "_dom_classes": [],
            "_model_module": "@jupyter-widgets/controls",
            "_model_module_version": "1.5.0",
            "_model_name": "HTMLModel",
            "_view_count": null,
            "_view_module": "@jupyter-widgets/controls",
            "_view_module_version": "1.5.0",
            "_view_name": "HTMLView",
            "description": "",
            "description_tooltip": null,
            "layout": "IPY_MODEL_3c9d72cebcf64072a62c39da05c6069d",
            "placeholder": "​",
            "style": "IPY_MODEL_a11ae19c753e4c09a4f05854f9c6ee4f",
            "value": "pytorch_model.bin: 100%"
          }
        },
        "14a7a3be61e64dfbaab7757eabeb5cec": {
          "model_module": "@jupyter-widgets/controls",
          "model_name": "FloatProgressModel",
          "model_module_version": "1.5.0",
          "state": {
            "_dom_classes": [],
            "_model_module": "@jupyter-widgets/controls",
            "_model_module_version": "1.5.0",
            "_model_name": "FloatProgressModel",
            "_view_count": null,
            "_view_module": "@jupyter-widgets/controls",
            "_view_module_version": "1.5.0",
            "_view_name": "ProgressView",
            "bar_style": "success",
            "description": "",
            "description_tooltip": null,
            "layout": "IPY_MODEL_72b3d3a346b94067b19d5e97f3e7b59a",
            "max": 90888945,
            "min": 0,
            "orientation": "horizontal",
            "style": "IPY_MODEL_c1326b2415ed4774852a60e67d63079e",
            "value": 90888945
          }
        },
        "4a5b8b7362b846d2a9477e10576779e7": {
          "model_module": "@jupyter-widgets/controls",
          "model_name": "HTMLModel",
          "model_module_version": "1.5.0",
          "state": {
            "_dom_classes": [],
            "_model_module": "@jupyter-widgets/controls",
            "_model_module_version": "1.5.0",
            "_model_name": "HTMLModel",
            "_view_count": null,
            "_view_module": "@jupyter-widgets/controls",
            "_view_module_version": "1.5.0",
            "_view_name": "HTMLView",
            "description": "",
            "description_tooltip": null,
            "layout": "IPY_MODEL_6b0c39fc906044d2883af022ac22f0ad",
            "placeholder": "​",
            "style": "IPY_MODEL_d1731786ef354b05a206dc60535bd39c",
            "value": " 90.9M/90.9M [00:00&lt;00:00, 307MB/s]"
          }
        },
        "7b44fb89474d4cbcb3238e4920455d80": {
          "model_module": "@jupyter-widgets/base",
          "model_name": "LayoutModel",
          "model_module_version": "1.2.0",
          "state": {
            "_model_module": "@jupyter-widgets/base",
            "_model_module_version": "1.2.0",
            "_model_name": "LayoutModel",
            "_view_count": null,
            "_view_module": "@jupyter-widgets/base",
            "_view_module_version": "1.2.0",
            "_view_name": "LayoutView",
            "align_content": null,
            "align_items": null,
            "align_self": null,
            "border": null,
            "bottom": null,
            "display": null,
            "flex": null,
            "flex_flow": null,
            "grid_area": null,
            "grid_auto_columns": null,
            "grid_auto_flow": null,
            "grid_auto_rows": null,
            "grid_column": null,
            "grid_gap": null,
            "grid_row": null,
            "grid_template_areas": null,
            "grid_template_columns": null,
            "grid_template_rows": null,
            "height": null,
            "justify_content": null,
            "justify_items": null,
            "left": null,
            "margin": null,
            "max_height": null,
            "max_width": null,
            "min_height": null,
            "min_width": null,
            "object_fit": null,
            "object_position": null,
            "order": null,
            "overflow": null,
            "overflow_x": null,
            "overflow_y": null,
            "padding": null,
            "right": null,
            "top": null,
            "visibility": null,
            "width": null
          }
        },
        "3c9d72cebcf64072a62c39da05c6069d": {
          "model_module": "@jupyter-widgets/base",
          "model_name": "LayoutModel",
          "model_module_version": "1.2.0",
          "state": {
            "_model_module": "@jupyter-widgets/base",
            "_model_module_version": "1.2.0",
            "_model_name": "LayoutModel",
            "_view_count": null,
            "_view_module": "@jupyter-widgets/base",
            "_view_module_version": "1.2.0",
            "_view_name": "LayoutView",
            "align_content": null,
            "align_items": null,
            "align_self": null,
            "border": null,
            "bottom": null,
            "display": null,
            "flex": null,
            "flex_flow": null,
            "grid_area": null,
            "grid_auto_columns": null,
            "grid_auto_flow": null,
            "grid_auto_rows": null,
            "grid_column": null,
            "grid_gap": null,
            "grid_row": null,
            "grid_template_areas": null,
            "grid_template_columns": null,
            "grid_template_rows": null,
            "height": null,
            "justify_content": null,
            "justify_items": null,
            "left": null,
            "margin": null,
            "max_height": null,
            "max_width": null,
            "min_height": null,
            "min_width": null,
            "object_fit": null,
            "object_position": null,
            "order": null,
            "overflow": null,
            "overflow_x": null,
            "overflow_y": null,
            "padding": null,
            "right": null,
            "top": null,
            "visibility": null,
            "width": null
          }
        },
        "a11ae19c753e4c09a4f05854f9c6ee4f": {
          "model_module": "@jupyter-widgets/controls",
          "model_name": "DescriptionStyleModel",
          "model_module_version": "1.5.0",
          "state": {
            "_model_module": "@jupyter-widgets/controls",
            "_model_module_version": "1.5.0",
            "_model_name": "DescriptionStyleModel",
            "_view_count": null,
            "_view_module": "@jupyter-widgets/base",
            "_view_module_version": "1.2.0",
            "_view_name": "StyleView",
            "description_width": ""
          }
        },
        "72b3d3a346b94067b19d5e97f3e7b59a": {
          "model_module": "@jupyter-widgets/base",
          "model_name": "LayoutModel",
          "model_module_version": "1.2.0",
          "state": {
            "_model_module": "@jupyter-widgets/base",
            "_model_module_version": "1.2.0",
            "_model_name": "LayoutModel",
            "_view_count": null,
            "_view_module": "@jupyter-widgets/base",
            "_view_module_version": "1.2.0",
            "_view_name": "LayoutView",
            "align_content": null,
            "align_items": null,
            "align_self": null,
            "border": null,
            "bottom": null,
            "display": null,
            "flex": null,
            "flex_flow": null,
            "grid_area": null,
            "grid_auto_columns": null,
            "grid_auto_flow": null,
            "grid_auto_rows": null,
            "grid_column": null,
            "grid_gap": null,
            "grid_row": null,
            "grid_template_areas": null,
            "grid_template_columns": null,
            "grid_template_rows": null,
            "height": null,
            "justify_content": null,
            "justify_items": null,
            "left": null,
            "margin": null,
            "max_height": null,
            "max_width": null,
            "min_height": null,
            "min_width": null,
            "object_fit": null,
            "object_position": null,
            "order": null,
            "overflow": null,
            "overflow_x": null,
            "overflow_y": null,
            "padding": null,
            "right": null,
            "top": null,
            "visibility": null,
            "width": null
          }
        },
        "c1326b2415ed4774852a60e67d63079e": {
          "model_module": "@jupyter-widgets/controls",
          "model_name": "ProgressStyleModel",
          "model_module_version": "1.5.0",
          "state": {
            "_model_module": "@jupyter-widgets/controls",
            "_model_module_version": "1.5.0",
            "_model_name": "ProgressStyleModel",
            "_view_count": null,
            "_view_module": "@jupyter-widgets/base",
            "_view_module_version": "1.2.0",
            "_view_name": "StyleView",
            "bar_color": null,
            "description_width": ""
          }
        },
        "6b0c39fc906044d2883af022ac22f0ad": {
          "model_module": "@jupyter-widgets/base",
          "model_name": "LayoutModel",
          "model_module_version": "1.2.0",
          "state": {
            "_model_module": "@jupyter-widgets/base",
            "_model_module_version": "1.2.0",
            "_model_name": "LayoutModel",
            "_view_count": null,
            "_view_module": "@jupyter-widgets/base",
            "_view_module_version": "1.2.0",
            "_view_name": "LayoutView",
            "align_content": null,
            "align_items": null,
            "align_self": null,
            "border": null,
            "bottom": null,
            "display": null,
            "flex": null,
            "flex_flow": null,
            "grid_area": null,
            "grid_auto_columns": null,
            "grid_auto_flow": null,
            "grid_auto_rows": null,
            "grid_column": null,
            "grid_gap": null,
            "grid_row": null,
            "grid_template_areas": null,
            "grid_template_columns": null,
            "grid_template_rows": null,
            "height": null,
            "justify_content": null,
            "justify_items": null,
            "left": null,
            "margin": null,
            "max_height": null,
            "max_width": null,
            "min_height": null,
            "min_width": null,
            "object_fit": null,
            "object_position": null,
            "order": null,
            "overflow": null,
            "overflow_x": null,
            "overflow_y": null,
            "padding": null,
            "right": null,
            "top": null,
            "visibility": null,
            "width": null
          }
        },
        "d1731786ef354b05a206dc60535bd39c": {
          "model_module": "@jupyter-widgets/controls",
          "model_name": "DescriptionStyleModel",
          "model_module_version": "1.5.0",
          "state": {
            "_model_module": "@jupyter-widgets/controls",
            "_model_module_version": "1.5.0",
            "_model_name": "DescriptionStyleModel",
            "_view_count": null,
            "_view_module": "@jupyter-widgets/base",
            "_view_module_version": "1.2.0",
            "_view_name": "StyleView",
            "description_width": ""
          }
        },
        "69e9ef8de2f8449bbfcea37618ad3a9b": {
          "model_module": "@jupyter-widgets/controls",
          "model_name": "HBoxModel",
          "model_module_version": "1.5.0",
          "state": {
            "_dom_classes": [],
            "_model_module": "@jupyter-widgets/controls",
            "_model_module_version": "1.5.0",
            "_model_name": "HBoxModel",
            "_view_count": null,
            "_view_module": "@jupyter-widgets/controls",
            "_view_module_version": "1.5.0",
            "_view_name": "HBoxView",
            "box_style": "",
            "children": [
              "IPY_MODEL_53852eb3cdb340f59bf81288cd8f76d8",
              "IPY_MODEL_6d4397cd8fdc4fd1a9e02c7230ce6dc4",
              "IPY_MODEL_71299ce3b1ce40abb5c3432e3721133f"
            ],
            "layout": "IPY_MODEL_8f28056421564515956b5365303250ab"
          }
        },
        "53852eb3cdb340f59bf81288cd8f76d8": {
          "model_module": "@jupyter-widgets/controls",
          "model_name": "HTMLModel",
          "model_module_version": "1.5.0",
          "state": {
            "_dom_classes": [],
            "_model_module": "@jupyter-widgets/controls",
            "_model_module_version": "1.5.0",
            "_model_name": "HTMLModel",
            "_view_count": null,
            "_view_module": "@jupyter-widgets/controls",
            "_view_module_version": "1.5.0",
            "_view_name": "HTMLView",
            "description": "",
            "description_tooltip": null,
            "layout": "IPY_MODEL_4c9001b5c3d1499b9f04becdb046c31b",
            "placeholder": "​",
            "style": "IPY_MODEL_a98d7bd478b1480aa8a9083bb3cea547",
            "value": "sentence_bert_config.json: 100%"
          }
        },
        "6d4397cd8fdc4fd1a9e02c7230ce6dc4": {
          "model_module": "@jupyter-widgets/controls",
          "model_name": "FloatProgressModel",
          "model_module_version": "1.5.0",
          "state": {
            "_dom_classes": [],
            "_model_module": "@jupyter-widgets/controls",
            "_model_module_version": "1.5.0",
            "_model_name": "FloatProgressModel",
            "_view_count": null,
            "_view_module": "@jupyter-widgets/controls",
            "_view_module_version": "1.5.0",
            "_view_name": "ProgressView",
            "bar_style": "success",
            "description": "",
            "description_tooltip": null,
            "layout": "IPY_MODEL_9cfb654b6ed3477eb5f0d6112cd70a47",
            "max": 53,
            "min": 0,
            "orientation": "horizontal",
            "style": "IPY_MODEL_9ab6f15c20804cf7be1f65b56b8da6ee",
            "value": 53
          }
        },
        "71299ce3b1ce40abb5c3432e3721133f": {
          "model_module": "@jupyter-widgets/controls",
          "model_name": "HTMLModel",
          "model_module_version": "1.5.0",
          "state": {
            "_dom_classes": [],
            "_model_module": "@jupyter-widgets/controls",
            "_model_module_version": "1.5.0",
            "_model_name": "HTMLModel",
            "_view_count": null,
            "_view_module": "@jupyter-widgets/controls",
            "_view_module_version": "1.5.0",
            "_view_name": "HTMLView",
            "description": "",
            "description_tooltip": null,
            "layout": "IPY_MODEL_73c7c7ce023043d887387c0fd7931edf",
            "placeholder": "​",
            "style": "IPY_MODEL_a58a9643a7d94e6b940976fc82eba59d",
            "value": " 53.0/53.0 [00:00&lt;00:00, 3.72kB/s]"
          }
        },
        "8f28056421564515956b5365303250ab": {
          "model_module": "@jupyter-widgets/base",
          "model_name": "LayoutModel",
          "model_module_version": "1.2.0",
          "state": {
            "_model_module": "@jupyter-widgets/base",
            "_model_module_version": "1.2.0",
            "_model_name": "LayoutModel",
            "_view_count": null,
            "_view_module": "@jupyter-widgets/base",
            "_view_module_version": "1.2.0",
            "_view_name": "LayoutView",
            "align_content": null,
            "align_items": null,
            "align_self": null,
            "border": null,
            "bottom": null,
            "display": null,
            "flex": null,
            "flex_flow": null,
            "grid_area": null,
            "grid_auto_columns": null,
            "grid_auto_flow": null,
            "grid_auto_rows": null,
            "grid_column": null,
            "grid_gap": null,
            "grid_row": null,
            "grid_template_areas": null,
            "grid_template_columns": null,
            "grid_template_rows": null,
            "height": null,
            "justify_content": null,
            "justify_items": null,
            "left": null,
            "margin": null,
            "max_height": null,
            "max_width": null,
            "min_height": null,
            "min_width": null,
            "object_fit": null,
            "object_position": null,
            "order": null,
            "overflow": null,
            "overflow_x": null,
            "overflow_y": null,
            "padding": null,
            "right": null,
            "top": null,
            "visibility": null,
            "width": null
          }
        },
        "4c9001b5c3d1499b9f04becdb046c31b": {
          "model_module": "@jupyter-widgets/base",
          "model_name": "LayoutModel",
          "model_module_version": "1.2.0",
          "state": {
            "_model_module": "@jupyter-widgets/base",
            "_model_module_version": "1.2.0",
            "_model_name": "LayoutModel",
            "_view_count": null,
            "_view_module": "@jupyter-widgets/base",
            "_view_module_version": "1.2.0",
            "_view_name": "LayoutView",
            "align_content": null,
            "align_items": null,
            "align_self": null,
            "border": null,
            "bottom": null,
            "display": null,
            "flex": null,
            "flex_flow": null,
            "grid_area": null,
            "grid_auto_columns": null,
            "grid_auto_flow": null,
            "grid_auto_rows": null,
            "grid_column": null,
            "grid_gap": null,
            "grid_row": null,
            "grid_template_areas": null,
            "grid_template_columns": null,
            "grid_template_rows": null,
            "height": null,
            "justify_content": null,
            "justify_items": null,
            "left": null,
            "margin": null,
            "max_height": null,
            "max_width": null,
            "min_height": null,
            "min_width": null,
            "object_fit": null,
            "object_position": null,
            "order": null,
            "overflow": null,
            "overflow_x": null,
            "overflow_y": null,
            "padding": null,
            "right": null,
            "top": null,
            "visibility": null,
            "width": null
          }
        },
        "a98d7bd478b1480aa8a9083bb3cea547": {
          "model_module": "@jupyter-widgets/controls",
          "model_name": "DescriptionStyleModel",
          "model_module_version": "1.5.0",
          "state": {
            "_model_module": "@jupyter-widgets/controls",
            "_model_module_version": "1.5.0",
            "_model_name": "DescriptionStyleModel",
            "_view_count": null,
            "_view_module": "@jupyter-widgets/base",
            "_view_module_version": "1.2.0",
            "_view_name": "StyleView",
            "description_width": ""
          }
        },
        "9cfb654b6ed3477eb5f0d6112cd70a47": {
          "model_module": "@jupyter-widgets/base",
          "model_name": "LayoutModel",
          "model_module_version": "1.2.0",
          "state": {
            "_model_module": "@jupyter-widgets/base",
            "_model_module_version": "1.2.0",
            "_model_name": "LayoutModel",
            "_view_count": null,
            "_view_module": "@jupyter-widgets/base",
            "_view_module_version": "1.2.0",
            "_view_name": "LayoutView",
            "align_content": null,
            "align_items": null,
            "align_self": null,
            "border": null,
            "bottom": null,
            "display": null,
            "flex": null,
            "flex_flow": null,
            "grid_area": null,
            "grid_auto_columns": null,
            "grid_auto_flow": null,
            "grid_auto_rows": null,
            "grid_column": null,
            "grid_gap": null,
            "grid_row": null,
            "grid_template_areas": null,
            "grid_template_columns": null,
            "grid_template_rows": null,
            "height": null,
            "justify_content": null,
            "justify_items": null,
            "left": null,
            "margin": null,
            "max_height": null,
            "max_width": null,
            "min_height": null,
            "min_width": null,
            "object_fit": null,
            "object_position": null,
            "order": null,
            "overflow": null,
            "overflow_x": null,
            "overflow_y": null,
            "padding": null,
            "right": null,
            "top": null,
            "visibility": null,
            "width": null
          }
        },
        "9ab6f15c20804cf7be1f65b56b8da6ee": {
          "model_module": "@jupyter-widgets/controls",
          "model_name": "ProgressStyleModel",
          "model_module_version": "1.5.0",
          "state": {
            "_model_module": "@jupyter-widgets/controls",
            "_model_module_version": "1.5.0",
            "_model_name": "ProgressStyleModel",
            "_view_count": null,
            "_view_module": "@jupyter-widgets/base",
            "_view_module_version": "1.2.0",
            "_view_name": "StyleView",
            "bar_color": null,
            "description_width": ""
          }
        },
        "73c7c7ce023043d887387c0fd7931edf": {
          "model_module": "@jupyter-widgets/base",
          "model_name": "LayoutModel",
          "model_module_version": "1.2.0",
          "state": {
            "_model_module": "@jupyter-widgets/base",
            "_model_module_version": "1.2.0",
            "_model_name": "LayoutModel",
            "_view_count": null,
            "_view_module": "@jupyter-widgets/base",
            "_view_module_version": "1.2.0",
            "_view_name": "LayoutView",
            "align_content": null,
            "align_items": null,
            "align_self": null,
            "border": null,
            "bottom": null,
            "display": null,
            "flex": null,
            "flex_flow": null,
            "grid_area": null,
            "grid_auto_columns": null,
            "grid_auto_flow": null,
            "grid_auto_rows": null,
            "grid_column": null,
            "grid_gap": null,
            "grid_row": null,
            "grid_template_areas": null,
            "grid_template_columns": null,
            "grid_template_rows": null,
            "height": null,
            "justify_content": null,
            "justify_items": null,
            "left": null,
            "margin": null,
            "max_height": null,
            "max_width": null,
            "min_height": null,
            "min_width": null,
            "object_fit": null,
            "object_position": null,
            "order": null,
            "overflow": null,
            "overflow_x": null,
            "overflow_y": null,
            "padding": null,
            "right": null,
            "top": null,
            "visibility": null,
            "width": null
          }
        },
        "a58a9643a7d94e6b940976fc82eba59d": {
          "model_module": "@jupyter-widgets/controls",
          "model_name": "DescriptionStyleModel",
          "model_module_version": "1.5.0",
          "state": {
            "_model_module": "@jupyter-widgets/controls",
            "_model_module_version": "1.5.0",
            "_model_name": "DescriptionStyleModel",
            "_view_count": null,
            "_view_module": "@jupyter-widgets/base",
            "_view_module_version": "1.2.0",
            "_view_name": "StyleView",
            "description_width": ""
          }
        },
        "3320ab9565074527a2c9a00b4be72064": {
          "model_module": "@jupyter-widgets/controls",
          "model_name": "HBoxModel",
          "model_module_version": "1.5.0",
          "state": {
            "_dom_classes": [],
            "_model_module": "@jupyter-widgets/controls",
            "_model_module_version": "1.5.0",
            "_model_name": "HBoxModel",
            "_view_count": null,
            "_view_module": "@jupyter-widgets/controls",
            "_view_module_version": "1.5.0",
            "_view_name": "HBoxView",
            "box_style": "",
            "children": [
              "IPY_MODEL_91045ca428f049718383a067ed33f07e",
              "IPY_MODEL_a4ef33c90cb84a71843440c170b01b00",
              "IPY_MODEL_494399e9eaec440aaf1a535dd90ede7c"
            ],
            "layout": "IPY_MODEL_35213502d3a94c6a81ecbdfd3ffc4422"
          }
        },
        "91045ca428f049718383a067ed33f07e": {
          "model_module": "@jupyter-widgets/controls",
          "model_name": "HTMLModel",
          "model_module_version": "1.5.0",
          "state": {
            "_dom_classes": [],
            "_model_module": "@jupyter-widgets/controls",
            "_model_module_version": "1.5.0",
            "_model_name": "HTMLModel",
            "_view_count": null,
            "_view_module": "@jupyter-widgets/controls",
            "_view_module_version": "1.5.0",
            "_view_name": "HTMLView",
            "description": "",
            "description_tooltip": null,
            "layout": "IPY_MODEL_abbef4a9d7f34e7fa21ff441adc95bdb",
            "placeholder": "​",
            "style": "IPY_MODEL_b3f5367b62dc477fa57bf00dd4841304",
            "value": "special_tokens_map.json: 100%"
          }
        },
        "a4ef33c90cb84a71843440c170b01b00": {
          "model_module": "@jupyter-widgets/controls",
          "model_name": "FloatProgressModel",
          "model_module_version": "1.5.0",
          "state": {
            "_dom_classes": [],
            "_model_module": "@jupyter-widgets/controls",
            "_model_module_version": "1.5.0",
            "_model_name": "FloatProgressModel",
            "_view_count": null,
            "_view_module": "@jupyter-widgets/controls",
            "_view_module_version": "1.5.0",
            "_view_name": "ProgressView",
            "bar_style": "success",
            "description": "",
            "description_tooltip": null,
            "layout": "IPY_MODEL_a70e2e6f1d1e4b42bf6e6a4167c17281",
            "max": 112,
            "min": 0,
            "orientation": "horizontal",
            "style": "IPY_MODEL_7d5ce6571a374002991ba3e0672d79e7",
            "value": 112
          }
        },
        "494399e9eaec440aaf1a535dd90ede7c": {
          "model_module": "@jupyter-widgets/controls",
          "model_name": "HTMLModel",
          "model_module_version": "1.5.0",
          "state": {
            "_dom_classes": [],
            "_model_module": "@jupyter-widgets/controls",
            "_model_module_version": "1.5.0",
            "_model_name": "HTMLModel",
            "_view_count": null,
            "_view_module": "@jupyter-widgets/controls",
            "_view_module_version": "1.5.0",
            "_view_name": "HTMLView",
            "description": "",
            "description_tooltip": null,
            "layout": "IPY_MODEL_87da7f9ece124478a585bf1f012eb976",
            "placeholder": "​",
            "style": "IPY_MODEL_03b9f4e8dd4a433c800d8f5ba4002432",
            "value": " 112/112 [00:00&lt;00:00, 6.60kB/s]"
          }
        },
        "35213502d3a94c6a81ecbdfd3ffc4422": {
          "model_module": "@jupyter-widgets/base",
          "model_name": "LayoutModel",
          "model_module_version": "1.2.0",
          "state": {
            "_model_module": "@jupyter-widgets/base",
            "_model_module_version": "1.2.0",
            "_model_name": "LayoutModel",
            "_view_count": null,
            "_view_module": "@jupyter-widgets/base",
            "_view_module_version": "1.2.0",
            "_view_name": "LayoutView",
            "align_content": null,
            "align_items": null,
            "align_self": null,
            "border": null,
            "bottom": null,
            "display": null,
            "flex": null,
            "flex_flow": null,
            "grid_area": null,
            "grid_auto_columns": null,
            "grid_auto_flow": null,
            "grid_auto_rows": null,
            "grid_column": null,
            "grid_gap": null,
            "grid_row": null,
            "grid_template_areas": null,
            "grid_template_columns": null,
            "grid_template_rows": null,
            "height": null,
            "justify_content": null,
            "justify_items": null,
            "left": null,
            "margin": null,
            "max_height": null,
            "max_width": null,
            "min_height": null,
            "min_width": null,
            "object_fit": null,
            "object_position": null,
            "order": null,
            "overflow": null,
            "overflow_x": null,
            "overflow_y": null,
            "padding": null,
            "right": null,
            "top": null,
            "visibility": null,
            "width": null
          }
        },
        "abbef4a9d7f34e7fa21ff441adc95bdb": {
          "model_module": "@jupyter-widgets/base",
          "model_name": "LayoutModel",
          "model_module_version": "1.2.0",
          "state": {
            "_model_module": "@jupyter-widgets/base",
            "_model_module_version": "1.2.0",
            "_model_name": "LayoutModel",
            "_view_count": null,
            "_view_module": "@jupyter-widgets/base",
            "_view_module_version": "1.2.0",
            "_view_name": "LayoutView",
            "align_content": null,
            "align_items": null,
            "align_self": null,
            "border": null,
            "bottom": null,
            "display": null,
            "flex": null,
            "flex_flow": null,
            "grid_area": null,
            "grid_auto_columns": null,
            "grid_auto_flow": null,
            "grid_auto_rows": null,
            "grid_column": null,
            "grid_gap": null,
            "grid_row": null,
            "grid_template_areas": null,
            "grid_template_columns": null,
            "grid_template_rows": null,
            "height": null,
            "justify_content": null,
            "justify_items": null,
            "left": null,
            "margin": null,
            "max_height": null,
            "max_width": null,
            "min_height": null,
            "min_width": null,
            "object_fit": null,
            "object_position": null,
            "order": null,
            "overflow": null,
            "overflow_x": null,
            "overflow_y": null,
            "padding": null,
            "right": null,
            "top": null,
            "visibility": null,
            "width": null
          }
        },
        "b3f5367b62dc477fa57bf00dd4841304": {
          "model_module": "@jupyter-widgets/controls",
          "model_name": "DescriptionStyleModel",
          "model_module_version": "1.5.0",
          "state": {
            "_model_module": "@jupyter-widgets/controls",
            "_model_module_version": "1.5.0",
            "_model_name": "DescriptionStyleModel",
            "_view_count": null,
            "_view_module": "@jupyter-widgets/base",
            "_view_module_version": "1.2.0",
            "_view_name": "StyleView",
            "description_width": ""
          }
        },
        "a70e2e6f1d1e4b42bf6e6a4167c17281": {
          "model_module": "@jupyter-widgets/base",
          "model_name": "LayoutModel",
          "model_module_version": "1.2.0",
          "state": {
            "_model_module": "@jupyter-widgets/base",
            "_model_module_version": "1.2.0",
            "_model_name": "LayoutModel",
            "_view_count": null,
            "_view_module": "@jupyter-widgets/base",
            "_view_module_version": "1.2.0",
            "_view_name": "LayoutView",
            "align_content": null,
            "align_items": null,
            "align_self": null,
            "border": null,
            "bottom": null,
            "display": null,
            "flex": null,
            "flex_flow": null,
            "grid_area": null,
            "grid_auto_columns": null,
            "grid_auto_flow": null,
            "grid_auto_rows": null,
            "grid_column": null,
            "grid_gap": null,
            "grid_row": null,
            "grid_template_areas": null,
            "grid_template_columns": null,
            "grid_template_rows": null,
            "height": null,
            "justify_content": null,
            "justify_items": null,
            "left": null,
            "margin": null,
            "max_height": null,
            "max_width": null,
            "min_height": null,
            "min_width": null,
            "object_fit": null,
            "object_position": null,
            "order": null,
            "overflow": null,
            "overflow_x": null,
            "overflow_y": null,
            "padding": null,
            "right": null,
            "top": null,
            "visibility": null,
            "width": null
          }
        },
        "7d5ce6571a374002991ba3e0672d79e7": {
          "model_module": "@jupyter-widgets/controls",
          "model_name": "ProgressStyleModel",
          "model_module_version": "1.5.0",
          "state": {
            "_model_module": "@jupyter-widgets/controls",
            "_model_module_version": "1.5.0",
            "_model_name": "ProgressStyleModel",
            "_view_count": null,
            "_view_module": "@jupyter-widgets/base",
            "_view_module_version": "1.2.0",
            "_view_name": "StyleView",
            "bar_color": null,
            "description_width": ""
          }
        },
        "87da7f9ece124478a585bf1f012eb976": {
          "model_module": "@jupyter-widgets/base",
          "model_name": "LayoutModel",
          "model_module_version": "1.2.0",
          "state": {
            "_model_module": "@jupyter-widgets/base",
            "_model_module_version": "1.2.0",
            "_model_name": "LayoutModel",
            "_view_count": null,
            "_view_module": "@jupyter-widgets/base",
            "_view_module_version": "1.2.0",
            "_view_name": "LayoutView",
            "align_content": null,
            "align_items": null,
            "align_self": null,
            "border": null,
            "bottom": null,
            "display": null,
            "flex": null,
            "flex_flow": null,
            "grid_area": null,
            "grid_auto_columns": null,
            "grid_auto_flow": null,
            "grid_auto_rows": null,
            "grid_column": null,
            "grid_gap": null,
            "grid_row": null,
            "grid_template_areas": null,
            "grid_template_columns": null,
            "grid_template_rows": null,
            "height": null,
            "justify_content": null,
            "justify_items": null,
            "left": null,
            "margin": null,
            "max_height": null,
            "max_width": null,
            "min_height": null,
            "min_width": null,
            "object_fit": null,
            "object_position": null,
            "order": null,
            "overflow": null,
            "overflow_x": null,
            "overflow_y": null,
            "padding": null,
            "right": null,
            "top": null,
            "visibility": null,
            "width": null
          }
        },
        "03b9f4e8dd4a433c800d8f5ba4002432": {
          "model_module": "@jupyter-widgets/controls",
          "model_name": "DescriptionStyleModel",
          "model_module_version": "1.5.0",
          "state": {
            "_model_module": "@jupyter-widgets/controls",
            "_model_module_version": "1.5.0",
            "_model_name": "DescriptionStyleModel",
            "_view_count": null,
            "_view_module": "@jupyter-widgets/base",
            "_view_module_version": "1.2.0",
            "_view_name": "StyleView",
            "description_width": ""
          }
        },
        "f40307969844451f9d039ab80e40e512": {
          "model_module": "@jupyter-widgets/controls",
          "model_name": "HBoxModel",
          "model_module_version": "1.5.0",
          "state": {
            "_dom_classes": [],
            "_model_module": "@jupyter-widgets/controls",
            "_model_module_version": "1.5.0",
            "_model_name": "HBoxModel",
            "_view_count": null,
            "_view_module": "@jupyter-widgets/controls",
            "_view_module_version": "1.5.0",
            "_view_name": "HBoxView",
            "box_style": "",
            "children": [
              "IPY_MODEL_67e2935b4dc5425ebfdac8995590adcc",
              "IPY_MODEL_c13879ea52e04465867df457e00452f8",
              "IPY_MODEL_4c8d961a06734a0e954bab41332df47c"
            ],
            "layout": "IPY_MODEL_5812a077bb954a079e24ef4bfba194b6"
          }
        },
        "67e2935b4dc5425ebfdac8995590adcc": {
          "model_module": "@jupyter-widgets/controls",
          "model_name": "HTMLModel",
          "model_module_version": "1.5.0",
          "state": {
            "_dom_classes": [],
            "_model_module": "@jupyter-widgets/controls",
            "_model_module_version": "1.5.0",
            "_model_name": "HTMLModel",
            "_view_count": null,
            "_view_module": "@jupyter-widgets/controls",
            "_view_module_version": "1.5.0",
            "_view_name": "HTMLView",
            "description": "",
            "description_tooltip": null,
            "layout": "IPY_MODEL_7e1afe99c58a42e38edc27fe062a9f0b",
            "placeholder": "​",
            "style": "IPY_MODEL_792f0f310be94792a2cbe103508d2fa1",
            "value": "tokenizer.json: 100%"
          }
        },
        "c13879ea52e04465867df457e00452f8": {
          "model_module": "@jupyter-widgets/controls",
          "model_name": "FloatProgressModel",
          "model_module_version": "1.5.0",
          "state": {
            "_dom_classes": [],
            "_model_module": "@jupyter-widgets/controls",
            "_model_module_version": "1.5.0",
            "_model_name": "FloatProgressModel",
            "_view_count": null,
            "_view_module": "@jupyter-widgets/controls",
            "_view_module_version": "1.5.0",
            "_view_name": "ProgressView",
            "bar_style": "success",
            "description": "",
            "description_tooltip": null,
            "layout": "IPY_MODEL_4e7c2ad10a96404da0e4aa7337d8e3d7",
            "max": 466247,
            "min": 0,
            "orientation": "horizontal",
            "style": "IPY_MODEL_d44b1cef0ff2457fb3f3c71d073eeba3",
            "value": 466247
          }
        },
        "4c8d961a06734a0e954bab41332df47c": {
          "model_module": "@jupyter-widgets/controls",
          "model_name": "HTMLModel",
          "model_module_version": "1.5.0",
          "state": {
            "_dom_classes": [],
            "_model_module": "@jupyter-widgets/controls",
            "_model_module_version": "1.5.0",
            "_model_name": "HTMLModel",
            "_view_count": null,
            "_view_module": "@jupyter-widgets/controls",
            "_view_module_version": "1.5.0",
            "_view_name": "HTMLView",
            "description": "",
            "description_tooltip": null,
            "layout": "IPY_MODEL_f56f3e07251644d8bfe15db31ac250bb",
            "placeholder": "​",
            "style": "IPY_MODEL_8849c5780ad944b48c4fcd1529c1a6f4",
            "value": " 466k/466k [00:00&lt;00:00, 1.89MB/s]"
          }
        },
        "5812a077bb954a079e24ef4bfba194b6": {
          "model_module": "@jupyter-widgets/base",
          "model_name": "LayoutModel",
          "model_module_version": "1.2.0",
          "state": {
            "_model_module": "@jupyter-widgets/base",
            "_model_module_version": "1.2.0",
            "_model_name": "LayoutModel",
            "_view_count": null,
            "_view_module": "@jupyter-widgets/base",
            "_view_module_version": "1.2.0",
            "_view_name": "LayoutView",
            "align_content": null,
            "align_items": null,
            "align_self": null,
            "border": null,
            "bottom": null,
            "display": null,
            "flex": null,
            "flex_flow": null,
            "grid_area": null,
            "grid_auto_columns": null,
            "grid_auto_flow": null,
            "grid_auto_rows": null,
            "grid_column": null,
            "grid_gap": null,
            "grid_row": null,
            "grid_template_areas": null,
            "grid_template_columns": null,
            "grid_template_rows": null,
            "height": null,
            "justify_content": null,
            "justify_items": null,
            "left": null,
            "margin": null,
            "max_height": null,
            "max_width": null,
            "min_height": null,
            "min_width": null,
            "object_fit": null,
            "object_position": null,
            "order": null,
            "overflow": null,
            "overflow_x": null,
            "overflow_y": null,
            "padding": null,
            "right": null,
            "top": null,
            "visibility": null,
            "width": null
          }
        },
        "7e1afe99c58a42e38edc27fe062a9f0b": {
          "model_module": "@jupyter-widgets/base",
          "model_name": "LayoutModel",
          "model_module_version": "1.2.0",
          "state": {
            "_model_module": "@jupyter-widgets/base",
            "_model_module_version": "1.2.0",
            "_model_name": "LayoutModel",
            "_view_count": null,
            "_view_module": "@jupyter-widgets/base",
            "_view_module_version": "1.2.0",
            "_view_name": "LayoutView",
            "align_content": null,
            "align_items": null,
            "align_self": null,
            "border": null,
            "bottom": null,
            "display": null,
            "flex": null,
            "flex_flow": null,
            "grid_area": null,
            "grid_auto_columns": null,
            "grid_auto_flow": null,
            "grid_auto_rows": null,
            "grid_column": null,
            "grid_gap": null,
            "grid_row": null,
            "grid_template_areas": null,
            "grid_template_columns": null,
            "grid_template_rows": null,
            "height": null,
            "justify_content": null,
            "justify_items": null,
            "left": null,
            "margin": null,
            "max_height": null,
            "max_width": null,
            "min_height": null,
            "min_width": null,
            "object_fit": null,
            "object_position": null,
            "order": null,
            "overflow": null,
            "overflow_x": null,
            "overflow_y": null,
            "padding": null,
            "right": null,
            "top": null,
            "visibility": null,
            "width": null
          }
        },
        "792f0f310be94792a2cbe103508d2fa1": {
          "model_module": "@jupyter-widgets/controls",
          "model_name": "DescriptionStyleModel",
          "model_module_version": "1.5.0",
          "state": {
            "_model_module": "@jupyter-widgets/controls",
            "_model_module_version": "1.5.0",
            "_model_name": "DescriptionStyleModel",
            "_view_count": null,
            "_view_module": "@jupyter-widgets/base",
            "_view_module_version": "1.2.0",
            "_view_name": "StyleView",
            "description_width": ""
          }
        },
        "4e7c2ad10a96404da0e4aa7337d8e3d7": {
          "model_module": "@jupyter-widgets/base",
          "model_name": "LayoutModel",
          "model_module_version": "1.2.0",
          "state": {
            "_model_module": "@jupyter-widgets/base",
            "_model_module_version": "1.2.0",
            "_model_name": "LayoutModel",
            "_view_count": null,
            "_view_module": "@jupyter-widgets/base",
            "_view_module_version": "1.2.0",
            "_view_name": "LayoutView",
            "align_content": null,
            "align_items": null,
            "align_self": null,
            "border": null,
            "bottom": null,
            "display": null,
            "flex": null,
            "flex_flow": null,
            "grid_area": null,
            "grid_auto_columns": null,
            "grid_auto_flow": null,
            "grid_auto_rows": null,
            "grid_column": null,
            "grid_gap": null,
            "grid_row": null,
            "grid_template_areas": null,
            "grid_template_columns": null,
            "grid_template_rows": null,
            "height": null,
            "justify_content": null,
            "justify_items": null,
            "left": null,
            "margin": null,
            "max_height": null,
            "max_width": null,
            "min_height": null,
            "min_width": null,
            "object_fit": null,
            "object_position": null,
            "order": null,
            "overflow": null,
            "overflow_x": null,
            "overflow_y": null,
            "padding": null,
            "right": null,
            "top": null,
            "visibility": null,
            "width": null
          }
        },
        "d44b1cef0ff2457fb3f3c71d073eeba3": {
          "model_module": "@jupyter-widgets/controls",
          "model_name": "ProgressStyleModel",
          "model_module_version": "1.5.0",
          "state": {
            "_model_module": "@jupyter-widgets/controls",
            "_model_module_version": "1.5.0",
            "_model_name": "ProgressStyleModel",
            "_view_count": null,
            "_view_module": "@jupyter-widgets/base",
            "_view_module_version": "1.2.0",
            "_view_name": "StyleView",
            "bar_color": null,
            "description_width": ""
          }
        },
        "f56f3e07251644d8bfe15db31ac250bb": {
          "model_module": "@jupyter-widgets/base",
          "model_name": "LayoutModel",
          "model_module_version": "1.2.0",
          "state": {
            "_model_module": "@jupyter-widgets/base",
            "_model_module_version": "1.2.0",
            "_model_name": "LayoutModel",
            "_view_count": null,
            "_view_module": "@jupyter-widgets/base",
            "_view_module_version": "1.2.0",
            "_view_name": "LayoutView",
            "align_content": null,
            "align_items": null,
            "align_self": null,
            "border": null,
            "bottom": null,
            "display": null,
            "flex": null,
            "flex_flow": null,
            "grid_area": null,
            "grid_auto_columns": null,
            "grid_auto_flow": null,
            "grid_auto_rows": null,
            "grid_column": null,
            "grid_gap": null,
            "grid_row": null,
            "grid_template_areas": null,
            "grid_template_columns": null,
            "grid_template_rows": null,
            "height": null,
            "justify_content": null,
            "justify_items": null,
            "left": null,
            "margin": null,
            "max_height": null,
            "max_width": null,
            "min_height": null,
            "min_width": null,
            "object_fit": null,
            "object_position": null,
            "order": null,
            "overflow": null,
            "overflow_x": null,
            "overflow_y": null,
            "padding": null,
            "right": null,
            "top": null,
            "visibility": null,
            "width": null
          }
        },
        "8849c5780ad944b48c4fcd1529c1a6f4": {
          "model_module": "@jupyter-widgets/controls",
          "model_name": "DescriptionStyleModel",
          "model_module_version": "1.5.0",
          "state": {
            "_model_module": "@jupyter-widgets/controls",
            "_model_module_version": "1.5.0",
            "_model_name": "DescriptionStyleModel",
            "_view_count": null,
            "_view_module": "@jupyter-widgets/base",
            "_view_module_version": "1.2.0",
            "_view_name": "StyleView",
            "description_width": ""
          }
        },
        "9243648eb8bb49a586633199a4b47a67": {
          "model_module": "@jupyter-widgets/controls",
          "model_name": "HBoxModel",
          "model_module_version": "1.5.0",
          "state": {
            "_dom_classes": [],
            "_model_module": "@jupyter-widgets/controls",
            "_model_module_version": "1.5.0",
            "_model_name": "HBoxModel",
            "_view_count": null,
            "_view_module": "@jupyter-widgets/controls",
            "_view_module_version": "1.5.0",
            "_view_name": "HBoxView",
            "box_style": "",
            "children": [
              "IPY_MODEL_bdc22d1185bb46dea8005ff968d67bab",
              "IPY_MODEL_1c1495d54e63439ab5c06daf53d9c781",
              "IPY_MODEL_d993b20badb04fde9b05b03b670ea3e6"
            ],
            "layout": "IPY_MODEL_1ba3ea116f5c4eb69979780171768322"
          }
        },
        "bdc22d1185bb46dea8005ff968d67bab": {
          "model_module": "@jupyter-widgets/controls",
          "model_name": "HTMLModel",
          "model_module_version": "1.5.0",
          "state": {
            "_dom_classes": [],
            "_model_module": "@jupyter-widgets/controls",
            "_model_module_version": "1.5.0",
            "_model_name": "HTMLModel",
            "_view_count": null,
            "_view_module": "@jupyter-widgets/controls",
            "_view_module_version": "1.5.0",
            "_view_name": "HTMLView",
            "description": "",
            "description_tooltip": null,
            "layout": "IPY_MODEL_0e733188a4834d2fabb9a9324e149500",
            "placeholder": "​",
            "style": "IPY_MODEL_ec18c559495e4f0fb1421e76544a24bc",
            "value": "tokenizer_config.json: 100%"
          }
        },
        "1c1495d54e63439ab5c06daf53d9c781": {
          "model_module": "@jupyter-widgets/controls",
          "model_name": "FloatProgressModel",
          "model_module_version": "1.5.0",
          "state": {
            "_dom_classes": [],
            "_model_module": "@jupyter-widgets/controls",
            "_model_module_version": "1.5.0",
            "_model_name": "FloatProgressModel",
            "_view_count": null,
            "_view_module": "@jupyter-widgets/controls",
            "_view_module_version": "1.5.0",
            "_view_name": "ProgressView",
            "bar_style": "success",
            "description": "",
            "description_tooltip": null,
            "layout": "IPY_MODEL_dddc33386f974be38004904b9b980147",
            "max": 350,
            "min": 0,
            "orientation": "horizontal",
            "style": "IPY_MODEL_c88520f2163c40b297e2db7cfd08abaf",
            "value": 350
          }
        },
        "d993b20badb04fde9b05b03b670ea3e6": {
          "model_module": "@jupyter-widgets/controls",
          "model_name": "HTMLModel",
          "model_module_version": "1.5.0",
          "state": {
            "_dom_classes": [],
            "_model_module": "@jupyter-widgets/controls",
            "_model_module_version": "1.5.0",
            "_model_name": "HTMLModel",
            "_view_count": null,
            "_view_module": "@jupyter-widgets/controls",
            "_view_module_version": "1.5.0",
            "_view_name": "HTMLView",
            "description": "",
            "description_tooltip": null,
            "layout": "IPY_MODEL_c9a8e34f823d4a1cac752244f878efa7",
            "placeholder": "​",
            "style": "IPY_MODEL_5593d8bea9b146e0987c8b7ad1ebb2cc",
            "value": " 350/350 [00:00&lt;00:00, 25.5kB/s]"
          }
        },
        "1ba3ea116f5c4eb69979780171768322": {
          "model_module": "@jupyter-widgets/base",
          "model_name": "LayoutModel",
          "model_module_version": "1.2.0",
          "state": {
            "_model_module": "@jupyter-widgets/base",
            "_model_module_version": "1.2.0",
            "_model_name": "LayoutModel",
            "_view_count": null,
            "_view_module": "@jupyter-widgets/base",
            "_view_module_version": "1.2.0",
            "_view_name": "LayoutView",
            "align_content": null,
            "align_items": null,
            "align_self": null,
            "border": null,
            "bottom": null,
            "display": null,
            "flex": null,
            "flex_flow": null,
            "grid_area": null,
            "grid_auto_columns": null,
            "grid_auto_flow": null,
            "grid_auto_rows": null,
            "grid_column": null,
            "grid_gap": null,
            "grid_row": null,
            "grid_template_areas": null,
            "grid_template_columns": null,
            "grid_template_rows": null,
            "height": null,
            "justify_content": null,
            "justify_items": null,
            "left": null,
            "margin": null,
            "max_height": null,
            "max_width": null,
            "min_height": null,
            "min_width": null,
            "object_fit": null,
            "object_position": null,
            "order": null,
            "overflow": null,
            "overflow_x": null,
            "overflow_y": null,
            "padding": null,
            "right": null,
            "top": null,
            "visibility": null,
            "width": null
          }
        },
        "0e733188a4834d2fabb9a9324e149500": {
          "model_module": "@jupyter-widgets/base",
          "model_name": "LayoutModel",
          "model_module_version": "1.2.0",
          "state": {
            "_model_module": "@jupyter-widgets/base",
            "_model_module_version": "1.2.0",
            "_model_name": "LayoutModel",
            "_view_count": null,
            "_view_module": "@jupyter-widgets/base",
            "_view_module_version": "1.2.0",
            "_view_name": "LayoutView",
            "align_content": null,
            "align_items": null,
            "align_self": null,
            "border": null,
            "bottom": null,
            "display": null,
            "flex": null,
            "flex_flow": null,
            "grid_area": null,
            "grid_auto_columns": null,
            "grid_auto_flow": null,
            "grid_auto_rows": null,
            "grid_column": null,
            "grid_gap": null,
            "grid_row": null,
            "grid_template_areas": null,
            "grid_template_columns": null,
            "grid_template_rows": null,
            "height": null,
            "justify_content": null,
            "justify_items": null,
            "left": null,
            "margin": null,
            "max_height": null,
            "max_width": null,
            "min_height": null,
            "min_width": null,
            "object_fit": null,
            "object_position": null,
            "order": null,
            "overflow": null,
            "overflow_x": null,
            "overflow_y": null,
            "padding": null,
            "right": null,
            "top": null,
            "visibility": null,
            "width": null
          }
        },
        "ec18c559495e4f0fb1421e76544a24bc": {
          "model_module": "@jupyter-widgets/controls",
          "model_name": "DescriptionStyleModel",
          "model_module_version": "1.5.0",
          "state": {
            "_model_module": "@jupyter-widgets/controls",
            "_model_module_version": "1.5.0",
            "_model_name": "DescriptionStyleModel",
            "_view_count": null,
            "_view_module": "@jupyter-widgets/base",
            "_view_module_version": "1.2.0",
            "_view_name": "StyleView",
            "description_width": ""
          }
        },
        "dddc33386f974be38004904b9b980147": {
          "model_module": "@jupyter-widgets/base",
          "model_name": "LayoutModel",
          "model_module_version": "1.2.0",
          "state": {
            "_model_module": "@jupyter-widgets/base",
            "_model_module_version": "1.2.0",
            "_model_name": "LayoutModel",
            "_view_count": null,
            "_view_module": "@jupyter-widgets/base",
            "_view_module_version": "1.2.0",
            "_view_name": "LayoutView",
            "align_content": null,
            "align_items": null,
            "align_self": null,
            "border": null,
            "bottom": null,
            "display": null,
            "flex": null,
            "flex_flow": null,
            "grid_area": null,
            "grid_auto_columns": null,
            "grid_auto_flow": null,
            "grid_auto_rows": null,
            "grid_column": null,
            "grid_gap": null,
            "grid_row": null,
            "grid_template_areas": null,
            "grid_template_columns": null,
            "grid_template_rows": null,
            "height": null,
            "justify_content": null,
            "justify_items": null,
            "left": null,
            "margin": null,
            "max_height": null,
            "max_width": null,
            "min_height": null,
            "min_width": null,
            "object_fit": null,
            "object_position": null,
            "order": null,
            "overflow": null,
            "overflow_x": null,
            "overflow_y": null,
            "padding": null,
            "right": null,
            "top": null,
            "visibility": null,
            "width": null
          }
        },
        "c88520f2163c40b297e2db7cfd08abaf": {
          "model_module": "@jupyter-widgets/controls",
          "model_name": "ProgressStyleModel",
          "model_module_version": "1.5.0",
          "state": {
            "_model_module": "@jupyter-widgets/controls",
            "_model_module_version": "1.5.0",
            "_model_name": "ProgressStyleModel",
            "_view_count": null,
            "_view_module": "@jupyter-widgets/base",
            "_view_module_version": "1.2.0",
            "_view_name": "StyleView",
            "bar_color": null,
            "description_width": ""
          }
        },
        "c9a8e34f823d4a1cac752244f878efa7": {
          "model_module": "@jupyter-widgets/base",
          "model_name": "LayoutModel",
          "model_module_version": "1.2.0",
          "state": {
            "_model_module": "@jupyter-widgets/base",
            "_model_module_version": "1.2.0",
            "_model_name": "LayoutModel",
            "_view_count": null,
            "_view_module": "@jupyter-widgets/base",
            "_view_module_version": "1.2.0",
            "_view_name": "LayoutView",
            "align_content": null,
            "align_items": null,
            "align_self": null,
            "border": null,
            "bottom": null,
            "display": null,
            "flex": null,
            "flex_flow": null,
            "grid_area": null,
            "grid_auto_columns": null,
            "grid_auto_flow": null,
            "grid_auto_rows": null,
            "grid_column": null,
            "grid_gap": null,
            "grid_row": null,
            "grid_template_areas": null,
            "grid_template_columns": null,
            "grid_template_rows": null,
            "height": null,
            "justify_content": null,
            "justify_items": null,
            "left": null,
            "margin": null,
            "max_height": null,
            "max_width": null,
            "min_height": null,
            "min_width": null,
            "object_fit": null,
            "object_position": null,
            "order": null,
            "overflow": null,
            "overflow_x": null,
            "overflow_y": null,
            "padding": null,
            "right": null,
            "top": null,
            "visibility": null,
            "width": null
          }
        },
        "5593d8bea9b146e0987c8b7ad1ebb2cc": {
          "model_module": "@jupyter-widgets/controls",
          "model_name": "DescriptionStyleModel",
          "model_module_version": "1.5.0",
          "state": {
            "_model_module": "@jupyter-widgets/controls",
            "_model_module_version": "1.5.0",
            "_model_name": "DescriptionStyleModel",
            "_view_count": null,
            "_view_module": "@jupyter-widgets/base",
            "_view_module_version": "1.2.0",
            "_view_name": "StyleView",
            "description_width": ""
          }
        },
        "9a9709f4d3a54cebaa73dd16d47850cc": {
          "model_module": "@jupyter-widgets/controls",
          "model_name": "HBoxModel",
          "model_module_version": "1.5.0",
          "state": {
            "_dom_classes": [],
            "_model_module": "@jupyter-widgets/controls",
            "_model_module_version": "1.5.0",
            "_model_name": "HBoxModel",
            "_view_count": null,
            "_view_module": "@jupyter-widgets/controls",
            "_view_module_version": "1.5.0",
            "_view_name": "HBoxView",
            "box_style": "",
            "children": [
              "IPY_MODEL_e2b08b9b73ed423cb218abe11a1e06cc",
              "IPY_MODEL_e54b9fdc158a481f98aba27fae4bfb0f",
              "IPY_MODEL_e981fba051394756aca7cf83f7373f66"
            ],
            "layout": "IPY_MODEL_81fa7d23f8a24429af3bb70497810e42"
          }
        },
        "e2b08b9b73ed423cb218abe11a1e06cc": {
          "model_module": "@jupyter-widgets/controls",
          "model_name": "HTMLModel",
          "model_module_version": "1.5.0",
          "state": {
            "_dom_classes": [],
            "_model_module": "@jupyter-widgets/controls",
            "_model_module_version": "1.5.0",
            "_model_name": "HTMLModel",
            "_view_count": null,
            "_view_module": "@jupyter-widgets/controls",
            "_view_module_version": "1.5.0",
            "_view_name": "HTMLView",
            "description": "",
            "description_tooltip": null,
            "layout": "IPY_MODEL_488a82316e1c461b85f6c34cf23490f4",
            "placeholder": "​",
            "style": "IPY_MODEL_7595678ee3ca479f863bf44e0b955c41",
            "value": "train_script.py: 100%"
          }
        },
        "e54b9fdc158a481f98aba27fae4bfb0f": {
          "model_module": "@jupyter-widgets/controls",
          "model_name": "FloatProgressModel",
          "model_module_version": "1.5.0",
          "state": {
            "_dom_classes": [],
            "_model_module": "@jupyter-widgets/controls",
            "_model_module_version": "1.5.0",
            "_model_name": "FloatProgressModel",
            "_view_count": null,
            "_view_module": "@jupyter-widgets/controls",
            "_view_module_version": "1.5.0",
            "_view_name": "ProgressView",
            "bar_style": "success",
            "description": "",
            "description_tooltip": null,
            "layout": "IPY_MODEL_f46d238b907e411cb9b9d41cf8456086",
            "max": 13156,
            "min": 0,
            "orientation": "horizontal",
            "style": "IPY_MODEL_3132fb93d1114c04aa39901eaee845b7",
            "value": 13156
          }
        },
        "e981fba051394756aca7cf83f7373f66": {
          "model_module": "@jupyter-widgets/controls",
          "model_name": "HTMLModel",
          "model_module_version": "1.5.0",
          "state": {
            "_dom_classes": [],
            "_model_module": "@jupyter-widgets/controls",
            "_model_module_version": "1.5.0",
            "_model_name": "HTMLModel",
            "_view_count": null,
            "_view_module": "@jupyter-widgets/controls",
            "_view_module_version": "1.5.0",
            "_view_name": "HTMLView",
            "description": "",
            "description_tooltip": null,
            "layout": "IPY_MODEL_60ec99962c8642d5949a09c2e4f7bf54",
            "placeholder": "​",
            "style": "IPY_MODEL_36244ff9a55f41aa90a7e318d4cfaa0c",
            "value": " 13.2k/13.2k [00:00&lt;00:00, 598kB/s]"
          }
        },
        "81fa7d23f8a24429af3bb70497810e42": {
          "model_module": "@jupyter-widgets/base",
          "model_name": "LayoutModel",
          "model_module_version": "1.2.0",
          "state": {
            "_model_module": "@jupyter-widgets/base",
            "_model_module_version": "1.2.0",
            "_model_name": "LayoutModel",
            "_view_count": null,
            "_view_module": "@jupyter-widgets/base",
            "_view_module_version": "1.2.0",
            "_view_name": "LayoutView",
            "align_content": null,
            "align_items": null,
            "align_self": null,
            "border": null,
            "bottom": null,
            "display": null,
            "flex": null,
            "flex_flow": null,
            "grid_area": null,
            "grid_auto_columns": null,
            "grid_auto_flow": null,
            "grid_auto_rows": null,
            "grid_column": null,
            "grid_gap": null,
            "grid_row": null,
            "grid_template_areas": null,
            "grid_template_columns": null,
            "grid_template_rows": null,
            "height": null,
            "justify_content": null,
            "justify_items": null,
            "left": null,
            "margin": null,
            "max_height": null,
            "max_width": null,
            "min_height": null,
            "min_width": null,
            "object_fit": null,
            "object_position": null,
            "order": null,
            "overflow": null,
            "overflow_x": null,
            "overflow_y": null,
            "padding": null,
            "right": null,
            "top": null,
            "visibility": null,
            "width": null
          }
        },
        "488a82316e1c461b85f6c34cf23490f4": {
          "model_module": "@jupyter-widgets/base",
          "model_name": "LayoutModel",
          "model_module_version": "1.2.0",
          "state": {
            "_model_module": "@jupyter-widgets/base",
            "_model_module_version": "1.2.0",
            "_model_name": "LayoutModel",
            "_view_count": null,
            "_view_module": "@jupyter-widgets/base",
            "_view_module_version": "1.2.0",
            "_view_name": "LayoutView",
            "align_content": null,
            "align_items": null,
            "align_self": null,
            "border": null,
            "bottom": null,
            "display": null,
            "flex": null,
            "flex_flow": null,
            "grid_area": null,
            "grid_auto_columns": null,
            "grid_auto_flow": null,
            "grid_auto_rows": null,
            "grid_column": null,
            "grid_gap": null,
            "grid_row": null,
            "grid_template_areas": null,
            "grid_template_columns": null,
            "grid_template_rows": null,
            "height": null,
            "justify_content": null,
            "justify_items": null,
            "left": null,
            "margin": null,
            "max_height": null,
            "max_width": null,
            "min_height": null,
            "min_width": null,
            "object_fit": null,
            "object_position": null,
            "order": null,
            "overflow": null,
            "overflow_x": null,
            "overflow_y": null,
            "padding": null,
            "right": null,
            "top": null,
            "visibility": null,
            "width": null
          }
        },
        "7595678ee3ca479f863bf44e0b955c41": {
          "model_module": "@jupyter-widgets/controls",
          "model_name": "DescriptionStyleModel",
          "model_module_version": "1.5.0",
          "state": {
            "_model_module": "@jupyter-widgets/controls",
            "_model_module_version": "1.5.0",
            "_model_name": "DescriptionStyleModel",
            "_view_count": null,
            "_view_module": "@jupyter-widgets/base",
            "_view_module_version": "1.2.0",
            "_view_name": "StyleView",
            "description_width": ""
          }
        },
        "f46d238b907e411cb9b9d41cf8456086": {
          "model_module": "@jupyter-widgets/base",
          "model_name": "LayoutModel",
          "model_module_version": "1.2.0",
          "state": {
            "_model_module": "@jupyter-widgets/base",
            "_model_module_version": "1.2.0",
            "_model_name": "LayoutModel",
            "_view_count": null,
            "_view_module": "@jupyter-widgets/base",
            "_view_module_version": "1.2.0",
            "_view_name": "LayoutView",
            "align_content": null,
            "align_items": null,
            "align_self": null,
            "border": null,
            "bottom": null,
            "display": null,
            "flex": null,
            "flex_flow": null,
            "grid_area": null,
            "grid_auto_columns": null,
            "grid_auto_flow": null,
            "grid_auto_rows": null,
            "grid_column": null,
            "grid_gap": null,
            "grid_row": null,
            "grid_template_areas": null,
            "grid_template_columns": null,
            "grid_template_rows": null,
            "height": null,
            "justify_content": null,
            "justify_items": null,
            "left": null,
            "margin": null,
            "max_height": null,
            "max_width": null,
            "min_height": null,
            "min_width": null,
            "object_fit": null,
            "object_position": null,
            "order": null,
            "overflow": null,
            "overflow_x": null,
            "overflow_y": null,
            "padding": null,
            "right": null,
            "top": null,
            "visibility": null,
            "width": null
          }
        },
        "3132fb93d1114c04aa39901eaee845b7": {
          "model_module": "@jupyter-widgets/controls",
          "model_name": "ProgressStyleModel",
          "model_module_version": "1.5.0",
          "state": {
            "_model_module": "@jupyter-widgets/controls",
            "_model_module_version": "1.5.0",
            "_model_name": "ProgressStyleModel",
            "_view_count": null,
            "_view_module": "@jupyter-widgets/base",
            "_view_module_version": "1.2.0",
            "_view_name": "StyleView",
            "bar_color": null,
            "description_width": ""
          }
        },
        "60ec99962c8642d5949a09c2e4f7bf54": {
          "model_module": "@jupyter-widgets/base",
          "model_name": "LayoutModel",
          "model_module_version": "1.2.0",
          "state": {
            "_model_module": "@jupyter-widgets/base",
            "_model_module_version": "1.2.0",
            "_model_name": "LayoutModel",
            "_view_count": null,
            "_view_module": "@jupyter-widgets/base",
            "_view_module_version": "1.2.0",
            "_view_name": "LayoutView",
            "align_content": null,
            "align_items": null,
            "align_self": null,
            "border": null,
            "bottom": null,
            "display": null,
            "flex": null,
            "flex_flow": null,
            "grid_area": null,
            "grid_auto_columns": null,
            "grid_auto_flow": null,
            "grid_auto_rows": null,
            "grid_column": null,
            "grid_gap": null,
            "grid_row": null,
            "grid_template_areas": null,
            "grid_template_columns": null,
            "grid_template_rows": null,
            "height": null,
            "justify_content": null,
            "justify_items": null,
            "left": null,
            "margin": null,
            "max_height": null,
            "max_width": null,
            "min_height": null,
            "min_width": null,
            "object_fit": null,
            "object_position": null,
            "order": null,
            "overflow": null,
            "overflow_x": null,
            "overflow_y": null,
            "padding": null,
            "right": null,
            "top": null,
            "visibility": null,
            "width": null
          }
        },
        "36244ff9a55f41aa90a7e318d4cfaa0c": {
          "model_module": "@jupyter-widgets/controls",
          "model_name": "DescriptionStyleModel",
          "model_module_version": "1.5.0",
          "state": {
            "_model_module": "@jupyter-widgets/controls",
            "_model_module_version": "1.5.0",
            "_model_name": "DescriptionStyleModel",
            "_view_count": null,
            "_view_module": "@jupyter-widgets/base",
            "_view_module_version": "1.2.0",
            "_view_name": "StyleView",
            "description_width": ""
          }
        },
        "ae86dd3be68e4a938534021b08ab57ac": {
          "model_module": "@jupyter-widgets/controls",
          "model_name": "HBoxModel",
          "model_module_version": "1.5.0",
          "state": {
            "_dom_classes": [],
            "_model_module": "@jupyter-widgets/controls",
            "_model_module_version": "1.5.0",
            "_model_name": "HBoxModel",
            "_view_count": null,
            "_view_module": "@jupyter-widgets/controls",
            "_view_module_version": "1.5.0",
            "_view_name": "HBoxView",
            "box_style": "",
            "children": [
              "IPY_MODEL_a18d66d67c26413bb944f3ac060a1a95",
              "IPY_MODEL_ae645fe8ac9d4a4fa08e23ac35996418",
              "IPY_MODEL_d0d1b8c0b3af4611851429c6c0c94dac"
            ],
            "layout": "IPY_MODEL_3b603992862d47af92e9ab817dc07d60"
          }
        },
        "a18d66d67c26413bb944f3ac060a1a95": {
          "model_module": "@jupyter-widgets/controls",
          "model_name": "HTMLModel",
          "model_module_version": "1.5.0",
          "state": {
            "_dom_classes": [],
            "_model_module": "@jupyter-widgets/controls",
            "_model_module_version": "1.5.0",
            "_model_name": "HTMLModel",
            "_view_count": null,
            "_view_module": "@jupyter-widgets/controls",
            "_view_module_version": "1.5.0",
            "_view_name": "HTMLView",
            "description": "",
            "description_tooltip": null,
            "layout": "IPY_MODEL_9b7fe8a8bd4448dfbdcf807863e542ae",
            "placeholder": "​",
            "style": "IPY_MODEL_0d530520db2d4ab596e47574edc8e6a9",
            "value": "vocab.txt: 100%"
          }
        },
        "ae645fe8ac9d4a4fa08e23ac35996418": {
          "model_module": "@jupyter-widgets/controls",
          "model_name": "FloatProgressModel",
          "model_module_version": "1.5.0",
          "state": {
            "_dom_classes": [],
            "_model_module": "@jupyter-widgets/controls",
            "_model_module_version": "1.5.0",
            "_model_name": "FloatProgressModel",
            "_view_count": null,
            "_view_module": "@jupyter-widgets/controls",
            "_view_module_version": "1.5.0",
            "_view_name": "ProgressView",
            "bar_style": "success",
            "description": "",
            "description_tooltip": null,
            "layout": "IPY_MODEL_ad61af235fbb40bba156e695863f4b85",
            "max": 231508,
            "min": 0,
            "orientation": "horizontal",
            "style": "IPY_MODEL_06c030354aaf4a139189e3429e4c989d",
            "value": 231508
          }
        },
        "d0d1b8c0b3af4611851429c6c0c94dac": {
          "model_module": "@jupyter-widgets/controls",
          "model_name": "HTMLModel",
          "model_module_version": "1.5.0",
          "state": {
            "_dom_classes": [],
            "_model_module": "@jupyter-widgets/controls",
            "_model_module_version": "1.5.0",
            "_model_name": "HTMLModel",
            "_view_count": null,
            "_view_module": "@jupyter-widgets/controls",
            "_view_module_version": "1.5.0",
            "_view_name": "HTMLView",
            "description": "",
            "description_tooltip": null,
            "layout": "IPY_MODEL_2744a926c42e4db7aca356dc7e150b9a",
            "placeholder": "​",
            "style": "IPY_MODEL_1f2482e8e8764b65a50bdc756ea9d150",
            "value": " 232k/232k [00:00&lt;00:00, 1.41MB/s]"
          }
        },
        "3b603992862d47af92e9ab817dc07d60": {
          "model_module": "@jupyter-widgets/base",
          "model_name": "LayoutModel",
          "model_module_version": "1.2.0",
          "state": {
            "_model_module": "@jupyter-widgets/base",
            "_model_module_version": "1.2.0",
            "_model_name": "LayoutModel",
            "_view_count": null,
            "_view_module": "@jupyter-widgets/base",
            "_view_module_version": "1.2.0",
            "_view_name": "LayoutView",
            "align_content": null,
            "align_items": null,
            "align_self": null,
            "border": null,
            "bottom": null,
            "display": null,
            "flex": null,
            "flex_flow": null,
            "grid_area": null,
            "grid_auto_columns": null,
            "grid_auto_flow": null,
            "grid_auto_rows": null,
            "grid_column": null,
            "grid_gap": null,
            "grid_row": null,
            "grid_template_areas": null,
            "grid_template_columns": null,
            "grid_template_rows": null,
            "height": null,
            "justify_content": null,
            "justify_items": null,
            "left": null,
            "margin": null,
            "max_height": null,
            "max_width": null,
            "min_height": null,
            "min_width": null,
            "object_fit": null,
            "object_position": null,
            "order": null,
            "overflow": null,
            "overflow_x": null,
            "overflow_y": null,
            "padding": null,
            "right": null,
            "top": null,
            "visibility": null,
            "width": null
          }
        },
        "9b7fe8a8bd4448dfbdcf807863e542ae": {
          "model_module": "@jupyter-widgets/base",
          "model_name": "LayoutModel",
          "model_module_version": "1.2.0",
          "state": {
            "_model_module": "@jupyter-widgets/base",
            "_model_module_version": "1.2.0",
            "_model_name": "LayoutModel",
            "_view_count": null,
            "_view_module": "@jupyter-widgets/base",
            "_view_module_version": "1.2.0",
            "_view_name": "LayoutView",
            "align_content": null,
            "align_items": null,
            "align_self": null,
            "border": null,
            "bottom": null,
            "display": null,
            "flex": null,
            "flex_flow": null,
            "grid_area": null,
            "grid_auto_columns": null,
            "grid_auto_flow": null,
            "grid_auto_rows": null,
            "grid_column": null,
            "grid_gap": null,
            "grid_row": null,
            "grid_template_areas": null,
            "grid_template_columns": null,
            "grid_template_rows": null,
            "height": null,
            "justify_content": null,
            "justify_items": null,
            "left": null,
            "margin": null,
            "max_height": null,
            "max_width": null,
            "min_height": null,
            "min_width": null,
            "object_fit": null,
            "object_position": null,
            "order": null,
            "overflow": null,
            "overflow_x": null,
            "overflow_y": null,
            "padding": null,
            "right": null,
            "top": null,
            "visibility": null,
            "width": null
          }
        },
        "0d530520db2d4ab596e47574edc8e6a9": {
          "model_module": "@jupyter-widgets/controls",
          "model_name": "DescriptionStyleModel",
          "model_module_version": "1.5.0",
          "state": {
            "_model_module": "@jupyter-widgets/controls",
            "_model_module_version": "1.5.0",
            "_model_name": "DescriptionStyleModel",
            "_view_count": null,
            "_view_module": "@jupyter-widgets/base",
            "_view_module_version": "1.2.0",
            "_view_name": "StyleView",
            "description_width": ""
          }
        },
        "ad61af235fbb40bba156e695863f4b85": {
          "model_module": "@jupyter-widgets/base",
          "model_name": "LayoutModel",
          "model_module_version": "1.2.0",
          "state": {
            "_model_module": "@jupyter-widgets/base",
            "_model_module_version": "1.2.0",
            "_model_name": "LayoutModel",
            "_view_count": null,
            "_view_module": "@jupyter-widgets/base",
            "_view_module_version": "1.2.0",
            "_view_name": "LayoutView",
            "align_content": null,
            "align_items": null,
            "align_self": null,
            "border": null,
            "bottom": null,
            "display": null,
            "flex": null,
            "flex_flow": null,
            "grid_area": null,
            "grid_auto_columns": null,
            "grid_auto_flow": null,
            "grid_auto_rows": null,
            "grid_column": null,
            "grid_gap": null,
            "grid_row": null,
            "grid_template_areas": null,
            "grid_template_columns": null,
            "grid_template_rows": null,
            "height": null,
            "justify_content": null,
            "justify_items": null,
            "left": null,
            "margin": null,
            "max_height": null,
            "max_width": null,
            "min_height": null,
            "min_width": null,
            "object_fit": null,
            "object_position": null,
            "order": null,
            "overflow": null,
            "overflow_x": null,
            "overflow_y": null,
            "padding": null,
            "right": null,
            "top": null,
            "visibility": null,
            "width": null
          }
        },
        "06c030354aaf4a139189e3429e4c989d": {
          "model_module": "@jupyter-widgets/controls",
          "model_name": "ProgressStyleModel",
          "model_module_version": "1.5.0",
          "state": {
            "_model_module": "@jupyter-widgets/controls",
            "_model_module_version": "1.5.0",
            "_model_name": "ProgressStyleModel",
            "_view_count": null,
            "_view_module": "@jupyter-widgets/base",
            "_view_module_version": "1.2.0",
            "_view_name": "StyleView",
            "bar_color": null,
            "description_width": ""
          }
        },
        "2744a926c42e4db7aca356dc7e150b9a": {
          "model_module": "@jupyter-widgets/base",
          "model_name": "LayoutModel",
          "model_module_version": "1.2.0",
          "state": {
            "_model_module": "@jupyter-widgets/base",
            "_model_module_version": "1.2.0",
            "_model_name": "LayoutModel",
            "_view_count": null,
            "_view_module": "@jupyter-widgets/base",
            "_view_module_version": "1.2.0",
            "_view_name": "LayoutView",
            "align_content": null,
            "align_items": null,
            "align_self": null,
            "border": null,
            "bottom": null,
            "display": null,
            "flex": null,
            "flex_flow": null,
            "grid_area": null,
            "grid_auto_columns": null,
            "grid_auto_flow": null,
            "grid_auto_rows": null,
            "grid_column": null,
            "grid_gap": null,
            "grid_row": null,
            "grid_template_areas": null,
            "grid_template_columns": null,
            "grid_template_rows": null,
            "height": null,
            "justify_content": null,
            "justify_items": null,
            "left": null,
            "margin": null,
            "max_height": null,
            "max_width": null,
            "min_height": null,
            "min_width": null,
            "object_fit": null,
            "object_position": null,
            "order": null,
            "overflow": null,
            "overflow_x": null,
            "overflow_y": null,
            "padding": null,
            "right": null,
            "top": null,
            "visibility": null,
            "width": null
          }
        },
        "1f2482e8e8764b65a50bdc756ea9d150": {
          "model_module": "@jupyter-widgets/controls",
          "model_name": "DescriptionStyleModel",
          "model_module_version": "1.5.0",
          "state": {
            "_model_module": "@jupyter-widgets/controls",
            "_model_module_version": "1.5.0",
            "_model_name": "DescriptionStyleModel",
            "_view_count": null,
            "_view_module": "@jupyter-widgets/base",
            "_view_module_version": "1.2.0",
            "_view_name": "StyleView",
            "description_width": ""
          }
        },
        "eef4f5238b4745b3906f549d063408df": {
          "model_module": "@jupyter-widgets/controls",
          "model_name": "HBoxModel",
          "model_module_version": "1.5.0",
          "state": {
            "_dom_classes": [],
            "_model_module": "@jupyter-widgets/controls",
            "_model_module_version": "1.5.0",
            "_model_name": "HBoxModel",
            "_view_count": null,
            "_view_module": "@jupyter-widgets/controls",
            "_view_module_version": "1.5.0",
            "_view_name": "HBoxView",
            "box_style": "",
            "children": [
              "IPY_MODEL_17345f0ef7f2450ebbcef47ba8184809",
              "IPY_MODEL_d94b9162365b4d73a4dab07aa6b60b29",
              "IPY_MODEL_63f71578bdff4fc8b3b14c0797326299"
            ],
            "layout": "IPY_MODEL_81ce72c863e845f9b9ad9a9c67483ab7"
          }
        },
        "17345f0ef7f2450ebbcef47ba8184809": {
          "model_module": "@jupyter-widgets/controls",
          "model_name": "HTMLModel",
          "model_module_version": "1.5.0",
          "state": {
            "_dom_classes": [],
            "_model_module": "@jupyter-widgets/controls",
            "_model_module_version": "1.5.0",
            "_model_name": "HTMLModel",
            "_view_count": null,
            "_view_module": "@jupyter-widgets/controls",
            "_view_module_version": "1.5.0",
            "_view_name": "HTMLView",
            "description": "",
            "description_tooltip": null,
            "layout": "IPY_MODEL_cddf039aeb714ef9beb391bfed8fbc06",
            "placeholder": "​",
            "style": "IPY_MODEL_341a867fae47405cbe0097280156bcee",
            "value": "modules.json: 100%"
          }
        },
        "d94b9162365b4d73a4dab07aa6b60b29": {
          "model_module": "@jupyter-widgets/controls",
          "model_name": "FloatProgressModel",
          "model_module_version": "1.5.0",
          "state": {
            "_dom_classes": [],
            "_model_module": "@jupyter-widgets/controls",
            "_model_module_version": "1.5.0",
            "_model_name": "FloatProgressModel",
            "_view_count": null,
            "_view_module": "@jupyter-widgets/controls",
            "_view_module_version": "1.5.0",
            "_view_name": "ProgressView",
            "bar_style": "success",
            "description": "",
            "description_tooltip": null,
            "layout": "IPY_MODEL_10a702aa41e249d4825de41eb5459125",
            "max": 349,
            "min": 0,
            "orientation": "horizontal",
            "style": "IPY_MODEL_094f6ebb67da496daa27423bea3bbda5",
            "value": 349
          }
        },
        "63f71578bdff4fc8b3b14c0797326299": {
          "model_module": "@jupyter-widgets/controls",
          "model_name": "HTMLModel",
          "model_module_version": "1.5.0",
          "state": {
            "_dom_classes": [],
            "_model_module": "@jupyter-widgets/controls",
            "_model_module_version": "1.5.0",
            "_model_name": "HTMLModel",
            "_view_count": null,
            "_view_module": "@jupyter-widgets/controls",
            "_view_module_version": "1.5.0",
            "_view_name": "HTMLView",
            "description": "",
            "description_tooltip": null,
            "layout": "IPY_MODEL_719bf869a95d4589a8bc6ceb910d75e2",
            "placeholder": "​",
            "style": "IPY_MODEL_1dcbb4b031b74c2eae68889b654575d0",
            "value": " 349/349 [00:00&lt;00:00, 21.1kB/s]"
          }
        },
        "81ce72c863e845f9b9ad9a9c67483ab7": {
          "model_module": "@jupyter-widgets/base",
          "model_name": "LayoutModel",
          "model_module_version": "1.2.0",
          "state": {
            "_model_module": "@jupyter-widgets/base",
            "_model_module_version": "1.2.0",
            "_model_name": "LayoutModel",
            "_view_count": null,
            "_view_module": "@jupyter-widgets/base",
            "_view_module_version": "1.2.0",
            "_view_name": "LayoutView",
            "align_content": null,
            "align_items": null,
            "align_self": null,
            "border": null,
            "bottom": null,
            "display": null,
            "flex": null,
            "flex_flow": null,
            "grid_area": null,
            "grid_auto_columns": null,
            "grid_auto_flow": null,
            "grid_auto_rows": null,
            "grid_column": null,
            "grid_gap": null,
            "grid_row": null,
            "grid_template_areas": null,
            "grid_template_columns": null,
            "grid_template_rows": null,
            "height": null,
            "justify_content": null,
            "justify_items": null,
            "left": null,
            "margin": null,
            "max_height": null,
            "max_width": null,
            "min_height": null,
            "min_width": null,
            "object_fit": null,
            "object_position": null,
            "order": null,
            "overflow": null,
            "overflow_x": null,
            "overflow_y": null,
            "padding": null,
            "right": null,
            "top": null,
            "visibility": null,
            "width": null
          }
        },
        "cddf039aeb714ef9beb391bfed8fbc06": {
          "model_module": "@jupyter-widgets/base",
          "model_name": "LayoutModel",
          "model_module_version": "1.2.0",
          "state": {
            "_model_module": "@jupyter-widgets/base",
            "_model_module_version": "1.2.0",
            "_model_name": "LayoutModel",
            "_view_count": null,
            "_view_module": "@jupyter-widgets/base",
            "_view_module_version": "1.2.0",
            "_view_name": "LayoutView",
            "align_content": null,
            "align_items": null,
            "align_self": null,
            "border": null,
            "bottom": null,
            "display": null,
            "flex": null,
            "flex_flow": null,
            "grid_area": null,
            "grid_auto_columns": null,
            "grid_auto_flow": null,
            "grid_auto_rows": null,
            "grid_column": null,
            "grid_gap": null,
            "grid_row": null,
            "grid_template_areas": null,
            "grid_template_columns": null,
            "grid_template_rows": null,
            "height": null,
            "justify_content": null,
            "justify_items": null,
            "left": null,
            "margin": null,
            "max_height": null,
            "max_width": null,
            "min_height": null,
            "min_width": null,
            "object_fit": null,
            "object_position": null,
            "order": null,
            "overflow": null,
            "overflow_x": null,
            "overflow_y": null,
            "padding": null,
            "right": null,
            "top": null,
            "visibility": null,
            "width": null
          }
        },
        "341a867fae47405cbe0097280156bcee": {
          "model_module": "@jupyter-widgets/controls",
          "model_name": "DescriptionStyleModel",
          "model_module_version": "1.5.0",
          "state": {
            "_model_module": "@jupyter-widgets/controls",
            "_model_module_version": "1.5.0",
            "_model_name": "DescriptionStyleModel",
            "_view_count": null,
            "_view_module": "@jupyter-widgets/base",
            "_view_module_version": "1.2.0",
            "_view_name": "StyleView",
            "description_width": ""
          }
        },
        "10a702aa41e249d4825de41eb5459125": {
          "model_module": "@jupyter-widgets/base",
          "model_name": "LayoutModel",
          "model_module_version": "1.2.0",
          "state": {
            "_model_module": "@jupyter-widgets/base",
            "_model_module_version": "1.2.0",
            "_model_name": "LayoutModel",
            "_view_count": null,
            "_view_module": "@jupyter-widgets/base",
            "_view_module_version": "1.2.0",
            "_view_name": "LayoutView",
            "align_content": null,
            "align_items": null,
            "align_self": null,
            "border": null,
            "bottom": null,
            "display": null,
            "flex": null,
            "flex_flow": null,
            "grid_area": null,
            "grid_auto_columns": null,
            "grid_auto_flow": null,
            "grid_auto_rows": null,
            "grid_column": null,
            "grid_gap": null,
            "grid_row": null,
            "grid_template_areas": null,
            "grid_template_columns": null,
            "grid_template_rows": null,
            "height": null,
            "justify_content": null,
            "justify_items": null,
            "left": null,
            "margin": null,
            "max_height": null,
            "max_width": null,
            "min_height": null,
            "min_width": null,
            "object_fit": null,
            "object_position": null,
            "order": null,
            "overflow": null,
            "overflow_x": null,
            "overflow_y": null,
            "padding": null,
            "right": null,
            "top": null,
            "visibility": null,
            "width": null
          }
        },
        "094f6ebb67da496daa27423bea3bbda5": {
          "model_module": "@jupyter-widgets/controls",
          "model_name": "ProgressStyleModel",
          "model_module_version": "1.5.0",
          "state": {
            "_model_module": "@jupyter-widgets/controls",
            "_model_module_version": "1.5.0",
            "_model_name": "ProgressStyleModel",
            "_view_count": null,
            "_view_module": "@jupyter-widgets/base",
            "_view_module_version": "1.2.0",
            "_view_name": "StyleView",
            "bar_color": null,
            "description_width": ""
          }
        },
        "719bf869a95d4589a8bc6ceb910d75e2": {
          "model_module": "@jupyter-widgets/base",
          "model_name": "LayoutModel",
          "model_module_version": "1.2.0",
          "state": {
            "_model_module": "@jupyter-widgets/base",
            "_model_module_version": "1.2.0",
            "_model_name": "LayoutModel",
            "_view_count": null,
            "_view_module": "@jupyter-widgets/base",
            "_view_module_version": "1.2.0",
            "_view_name": "LayoutView",
            "align_content": null,
            "align_items": null,
            "align_self": null,
            "border": null,
            "bottom": null,
            "display": null,
            "flex": null,
            "flex_flow": null,
            "grid_area": null,
            "grid_auto_columns": null,
            "grid_auto_flow": null,
            "grid_auto_rows": null,
            "grid_column": null,
            "grid_gap": null,
            "grid_row": null,
            "grid_template_areas": null,
            "grid_template_columns": null,
            "grid_template_rows": null,
            "height": null,
            "justify_content": null,
            "justify_items": null,
            "left": null,
            "margin": null,
            "max_height": null,
            "max_width": null,
            "min_height": null,
            "min_width": null,
            "object_fit": null,
            "object_position": null,
            "order": null,
            "overflow": null,
            "overflow_x": null,
            "overflow_y": null,
            "padding": null,
            "right": null,
            "top": null,
            "visibility": null,
            "width": null
          }
        },
        "1dcbb4b031b74c2eae68889b654575d0": {
          "model_module": "@jupyter-widgets/controls",
          "model_name": "DescriptionStyleModel",
          "model_module_version": "1.5.0",
          "state": {
            "_model_module": "@jupyter-widgets/controls",
            "_model_module_version": "1.5.0",
            "_model_name": "DescriptionStyleModel",
            "_view_count": null,
            "_view_module": "@jupyter-widgets/base",
            "_view_module_version": "1.2.0",
            "_view_name": "StyleView",
            "description_width": ""
          }
        },
        "8f966cdd38c0402ab8b8d28d07e0788f": {
          "model_module": "@jupyter-widgets/controls",
          "model_name": "HBoxModel",
          "model_module_version": "1.5.0",
          "state": {
            "_dom_classes": [],
            "_model_module": "@jupyter-widgets/controls",
            "_model_module_version": "1.5.0",
            "_model_name": "HBoxModel",
            "_view_count": null,
            "_view_module": "@jupyter-widgets/controls",
            "_view_module_version": "1.5.0",
            "_view_name": "HBoxView",
            "box_style": "",
            "children": [
              "IPY_MODEL_ae6f5dafce7b47008d77f00a918f411c",
              "IPY_MODEL_9385f67a7c854eac96188647fae7ab9d",
              "IPY_MODEL_3a612f866e9c4ec8a6e22aa8d7d214cb"
            ],
            "layout": "IPY_MODEL_ec59e9b5fd05403bad77a971e9889716"
          }
        },
        "ae6f5dafce7b47008d77f00a918f411c": {
          "model_module": "@jupyter-widgets/controls",
          "model_name": "HTMLModel",
          "model_module_version": "1.5.0",
          "state": {
            "_dom_classes": [],
            "_model_module": "@jupyter-widgets/controls",
            "_model_module_version": "1.5.0",
            "_model_name": "HTMLModel",
            "_view_count": null,
            "_view_module": "@jupyter-widgets/controls",
            "_view_module_version": "1.5.0",
            "_view_name": "HTMLView",
            "description": "",
            "description_tooltip": null,
            "layout": "IPY_MODEL_30ef24552c5741c293a8d8bb8182d4ce",
            "placeholder": "​",
            "style": "IPY_MODEL_a6635acecc5b41fcba65728536b8eddb",
            "value": "Batches: 100%"
          }
        },
        "9385f67a7c854eac96188647fae7ab9d": {
          "model_module": "@jupyter-widgets/controls",
          "model_name": "FloatProgressModel",
          "model_module_version": "1.5.0",
          "state": {
            "_dom_classes": [],
            "_model_module": "@jupyter-widgets/controls",
            "_model_module_version": "1.5.0",
            "_model_name": "FloatProgressModel",
            "_view_count": null,
            "_view_module": "@jupyter-widgets/controls",
            "_view_module_version": "1.5.0",
            "_view_name": "ProgressView",
            "bar_style": "success",
            "description": "",
            "description_tooltip": null,
            "layout": "IPY_MODEL_4a7b0a6513b745fb855f52d8fc0c8a2e",
            "max": 312,
            "min": 0,
            "orientation": "horizontal",
            "style": "IPY_MODEL_f9c446803fca4a3bb55820f5cb482dce",
            "value": 312
          }
        },
        "3a612f866e9c4ec8a6e22aa8d7d214cb": {
          "model_module": "@jupyter-widgets/controls",
          "model_name": "HTMLModel",
          "model_module_version": "1.5.0",
          "state": {
            "_dom_classes": [],
            "_model_module": "@jupyter-widgets/controls",
            "_model_module_version": "1.5.0",
            "_model_name": "HTMLModel",
            "_view_count": null,
            "_view_module": "@jupyter-widgets/controls",
            "_view_module_version": "1.5.0",
            "_view_name": "HTMLView",
            "description": "",
            "description_tooltip": null,
            "layout": "IPY_MODEL_b13b8ffab5d144479011bd8dbb8b06cb",
            "placeholder": "​",
            "style": "IPY_MODEL_1df5f7a2e15c4b3f81bda3b8d5691e08",
            "value": " 312/312 [00:32&lt;00:00, 26.83it/s]"
          }
        },
        "ec59e9b5fd05403bad77a971e9889716": {
          "model_module": "@jupyter-widgets/base",
          "model_name": "LayoutModel",
          "model_module_version": "1.2.0",
          "state": {
            "_model_module": "@jupyter-widgets/base",
            "_model_module_version": "1.2.0",
            "_model_name": "LayoutModel",
            "_view_count": null,
            "_view_module": "@jupyter-widgets/base",
            "_view_module_version": "1.2.0",
            "_view_name": "LayoutView",
            "align_content": null,
            "align_items": null,
            "align_self": null,
            "border": null,
            "bottom": null,
            "display": null,
            "flex": null,
            "flex_flow": null,
            "grid_area": null,
            "grid_auto_columns": null,
            "grid_auto_flow": null,
            "grid_auto_rows": null,
            "grid_column": null,
            "grid_gap": null,
            "grid_row": null,
            "grid_template_areas": null,
            "grid_template_columns": null,
            "grid_template_rows": null,
            "height": null,
            "justify_content": null,
            "justify_items": null,
            "left": null,
            "margin": null,
            "max_height": null,
            "max_width": null,
            "min_height": null,
            "min_width": null,
            "object_fit": null,
            "object_position": null,
            "order": null,
            "overflow": null,
            "overflow_x": null,
            "overflow_y": null,
            "padding": null,
            "right": null,
            "top": null,
            "visibility": null,
            "width": null
          }
        },
        "30ef24552c5741c293a8d8bb8182d4ce": {
          "model_module": "@jupyter-widgets/base",
          "model_name": "LayoutModel",
          "model_module_version": "1.2.0",
          "state": {
            "_model_module": "@jupyter-widgets/base",
            "_model_module_version": "1.2.0",
            "_model_name": "LayoutModel",
            "_view_count": null,
            "_view_module": "@jupyter-widgets/base",
            "_view_module_version": "1.2.0",
            "_view_name": "LayoutView",
            "align_content": null,
            "align_items": null,
            "align_self": null,
            "border": null,
            "bottom": null,
            "display": null,
            "flex": null,
            "flex_flow": null,
            "grid_area": null,
            "grid_auto_columns": null,
            "grid_auto_flow": null,
            "grid_auto_rows": null,
            "grid_column": null,
            "grid_gap": null,
            "grid_row": null,
            "grid_template_areas": null,
            "grid_template_columns": null,
            "grid_template_rows": null,
            "height": null,
            "justify_content": null,
            "justify_items": null,
            "left": null,
            "margin": null,
            "max_height": null,
            "max_width": null,
            "min_height": null,
            "min_width": null,
            "object_fit": null,
            "object_position": null,
            "order": null,
            "overflow": null,
            "overflow_x": null,
            "overflow_y": null,
            "padding": null,
            "right": null,
            "top": null,
            "visibility": null,
            "width": null
          }
        },
        "a6635acecc5b41fcba65728536b8eddb": {
          "model_module": "@jupyter-widgets/controls",
          "model_name": "DescriptionStyleModel",
          "model_module_version": "1.5.0",
          "state": {
            "_model_module": "@jupyter-widgets/controls",
            "_model_module_version": "1.5.0",
            "_model_name": "DescriptionStyleModel",
            "_view_count": null,
            "_view_module": "@jupyter-widgets/base",
            "_view_module_version": "1.2.0",
            "_view_name": "StyleView",
            "description_width": ""
          }
        },
        "4a7b0a6513b745fb855f52d8fc0c8a2e": {
          "model_module": "@jupyter-widgets/base",
          "model_name": "LayoutModel",
          "model_module_version": "1.2.0",
          "state": {
            "_model_module": "@jupyter-widgets/base",
            "_model_module_version": "1.2.0",
            "_model_name": "LayoutModel",
            "_view_count": null,
            "_view_module": "@jupyter-widgets/base",
            "_view_module_version": "1.2.0",
            "_view_name": "LayoutView",
            "align_content": null,
            "align_items": null,
            "align_self": null,
            "border": null,
            "bottom": null,
            "display": null,
            "flex": null,
            "flex_flow": null,
            "grid_area": null,
            "grid_auto_columns": null,
            "grid_auto_flow": null,
            "grid_auto_rows": null,
            "grid_column": null,
            "grid_gap": null,
            "grid_row": null,
            "grid_template_areas": null,
            "grid_template_columns": null,
            "grid_template_rows": null,
            "height": null,
            "justify_content": null,
            "justify_items": null,
            "left": null,
            "margin": null,
            "max_height": null,
            "max_width": null,
            "min_height": null,
            "min_width": null,
            "object_fit": null,
            "object_position": null,
            "order": null,
            "overflow": null,
            "overflow_x": null,
            "overflow_y": null,
            "padding": null,
            "right": null,
            "top": null,
            "visibility": null,
            "width": null
          }
        },
        "f9c446803fca4a3bb55820f5cb482dce": {
          "model_module": "@jupyter-widgets/controls",
          "model_name": "ProgressStyleModel",
          "model_module_version": "1.5.0",
          "state": {
            "_model_module": "@jupyter-widgets/controls",
            "_model_module_version": "1.5.0",
            "_model_name": "ProgressStyleModel",
            "_view_count": null,
            "_view_module": "@jupyter-widgets/base",
            "_view_module_version": "1.2.0",
            "_view_name": "StyleView",
            "bar_color": null,
            "description_width": ""
          }
        },
        "b13b8ffab5d144479011bd8dbb8b06cb": {
          "model_module": "@jupyter-widgets/base",
          "model_name": "LayoutModel",
          "model_module_version": "1.2.0",
          "state": {
            "_model_module": "@jupyter-widgets/base",
            "_model_module_version": "1.2.0",
            "_model_name": "LayoutModel",
            "_view_count": null,
            "_view_module": "@jupyter-widgets/base",
            "_view_module_version": "1.2.0",
            "_view_name": "LayoutView",
            "align_content": null,
            "align_items": null,
            "align_self": null,
            "border": null,
            "bottom": null,
            "display": null,
            "flex": null,
            "flex_flow": null,
            "grid_area": null,
            "grid_auto_columns": null,
            "grid_auto_flow": null,
            "grid_auto_rows": null,
            "grid_column": null,
            "grid_gap": null,
            "grid_row": null,
            "grid_template_areas": null,
            "grid_template_columns": null,
            "grid_template_rows": null,
            "height": null,
            "justify_content": null,
            "justify_items": null,
            "left": null,
            "margin": null,
            "max_height": null,
            "max_width": null,
            "min_height": null,
            "min_width": null,
            "object_fit": null,
            "object_position": null,
            "order": null,
            "overflow": null,
            "overflow_x": null,
            "overflow_y": null,
            "padding": null,
            "right": null,
            "top": null,
            "visibility": null,
            "width": null
          }
        },
        "1df5f7a2e15c4b3f81bda3b8d5691e08": {
          "model_module": "@jupyter-widgets/controls",
          "model_name": "DescriptionStyleModel",
          "model_module_version": "1.5.0",
          "state": {
            "_model_module": "@jupyter-widgets/controls",
            "_model_module_version": "1.5.0",
            "_model_name": "DescriptionStyleModel",
            "_view_count": null,
            "_view_module": "@jupyter-widgets/base",
            "_view_module_version": "1.2.0",
            "_view_name": "StyleView",
            "description_width": ""
          }
        },
        "8b8e575c6c61444b9fb627bd03c004da": {
          "model_module": "@jupyter-widgets/controls",
          "model_name": "HBoxModel",
          "model_module_version": "1.5.0",
          "state": {
            "_dom_classes": [],
            "_model_module": "@jupyter-widgets/controls",
            "_model_module_version": "1.5.0",
            "_model_name": "HBoxModel",
            "_view_count": null,
            "_view_module": "@jupyter-widgets/controls",
            "_view_module_version": "1.5.0",
            "_view_name": "HBoxView",
            "box_style": "",
            "children": [
              "IPY_MODEL_ade193addd71487796352f234685861a",
              "IPY_MODEL_232f711710a6482e833552e02a550cfc",
              "IPY_MODEL_2fca982780e64b8687a3d840b722b234"
            ],
            "layout": "IPY_MODEL_696180cc2ee04b3f93b2a45fa2c90d4d"
          }
        },
        "ade193addd71487796352f234685861a": {
          "model_module": "@jupyter-widgets/controls",
          "model_name": "HTMLModel",
          "model_module_version": "1.5.0",
          "state": {
            "_dom_classes": [],
            "_model_module": "@jupyter-widgets/controls",
            "_model_module_version": "1.5.0",
            "_model_name": "HTMLModel",
            "_view_count": null,
            "_view_module": "@jupyter-widgets/controls",
            "_view_module_version": "1.5.0",
            "_view_name": "HTMLView",
            "description": "",
            "description_tooltip": null,
            "layout": "IPY_MODEL_68643793f00040268481f7d66815046f",
            "placeholder": "​",
            "style": "IPY_MODEL_94eacbf5f36a422a914af45972637b19",
            "value": "tokenizer_config.json: 100%"
          }
        },
        "232f711710a6482e833552e02a550cfc": {
          "model_module": "@jupyter-widgets/controls",
          "model_name": "FloatProgressModel",
          "model_module_version": "1.5.0",
          "state": {
            "_dom_classes": [],
            "_model_module": "@jupyter-widgets/controls",
            "_model_module_version": "1.5.0",
            "_model_name": "FloatProgressModel",
            "_view_count": null,
            "_view_module": "@jupyter-widgets/controls",
            "_view_module_version": "1.5.0",
            "_view_name": "ProgressView",
            "bar_style": "success",
            "description": "",
            "description_tooltip": null,
            "layout": "IPY_MODEL_88a997c3cd7541889c0b48eb85e62ddc",
            "max": 2539,
            "min": 0,
            "orientation": "horizontal",
            "style": "IPY_MODEL_71d3df63fd33439595f30cf9e4368064",
            "value": 2539
          }
        },
        "2fca982780e64b8687a3d840b722b234": {
          "model_module": "@jupyter-widgets/controls",
          "model_name": "HTMLModel",
          "model_module_version": "1.5.0",
          "state": {
            "_dom_classes": [],
            "_model_module": "@jupyter-widgets/controls",
            "_model_module_version": "1.5.0",
            "_model_name": "HTMLModel",
            "_view_count": null,
            "_view_module": "@jupyter-widgets/controls",
            "_view_module_version": "1.5.0",
            "_view_name": "HTMLView",
            "description": "",
            "description_tooltip": null,
            "layout": "IPY_MODEL_0c3fc2a6796c45fab0004023729968fb",
            "placeholder": "​",
            "style": "IPY_MODEL_c3a43ffe93ff40a1b706b9068931fc93",
            "value": " 2.54k/2.54k [00:00&lt;00:00, 84.9kB/s]"
          }
        },
        "696180cc2ee04b3f93b2a45fa2c90d4d": {
          "model_module": "@jupyter-widgets/base",
          "model_name": "LayoutModel",
          "model_module_version": "1.2.0",
          "state": {
            "_model_module": "@jupyter-widgets/base",
            "_model_module_version": "1.2.0",
            "_model_name": "LayoutModel",
            "_view_count": null,
            "_view_module": "@jupyter-widgets/base",
            "_view_module_version": "1.2.0",
            "_view_name": "LayoutView",
            "align_content": null,
            "align_items": null,
            "align_self": null,
            "border": null,
            "bottom": null,
            "display": null,
            "flex": null,
            "flex_flow": null,
            "grid_area": null,
            "grid_auto_columns": null,
            "grid_auto_flow": null,
            "grid_auto_rows": null,
            "grid_column": null,
            "grid_gap": null,
            "grid_row": null,
            "grid_template_areas": null,
            "grid_template_columns": null,
            "grid_template_rows": null,
            "height": null,
            "justify_content": null,
            "justify_items": null,
            "left": null,
            "margin": null,
            "max_height": null,
            "max_width": null,
            "min_height": null,
            "min_width": null,
            "object_fit": null,
            "object_position": null,
            "order": null,
            "overflow": null,
            "overflow_x": null,
            "overflow_y": null,
            "padding": null,
            "right": null,
            "top": null,
            "visibility": null,
            "width": null
          }
        },
        "68643793f00040268481f7d66815046f": {
          "model_module": "@jupyter-widgets/base",
          "model_name": "LayoutModel",
          "model_module_version": "1.2.0",
          "state": {
            "_model_module": "@jupyter-widgets/base",
            "_model_module_version": "1.2.0",
            "_model_name": "LayoutModel",
            "_view_count": null,
            "_view_module": "@jupyter-widgets/base",
            "_view_module_version": "1.2.0",
            "_view_name": "LayoutView",
            "align_content": null,
            "align_items": null,
            "align_self": null,
            "border": null,
            "bottom": null,
            "display": null,
            "flex": null,
            "flex_flow": null,
            "grid_area": null,
            "grid_auto_columns": null,
            "grid_auto_flow": null,
            "grid_auto_rows": null,
            "grid_column": null,
            "grid_gap": null,
            "grid_row": null,
            "grid_template_areas": null,
            "grid_template_columns": null,
            "grid_template_rows": null,
            "height": null,
            "justify_content": null,
            "justify_items": null,
            "left": null,
            "margin": null,
            "max_height": null,
            "max_width": null,
            "min_height": null,
            "min_width": null,
            "object_fit": null,
            "object_position": null,
            "order": null,
            "overflow": null,
            "overflow_x": null,
            "overflow_y": null,
            "padding": null,
            "right": null,
            "top": null,
            "visibility": null,
            "width": null
          }
        },
        "94eacbf5f36a422a914af45972637b19": {
          "model_module": "@jupyter-widgets/controls",
          "model_name": "DescriptionStyleModel",
          "model_module_version": "1.5.0",
          "state": {
            "_model_module": "@jupyter-widgets/controls",
            "_model_module_version": "1.5.0",
            "_model_name": "DescriptionStyleModel",
            "_view_count": null,
            "_view_module": "@jupyter-widgets/base",
            "_view_module_version": "1.2.0",
            "_view_name": "StyleView",
            "description_width": ""
          }
        },
        "88a997c3cd7541889c0b48eb85e62ddc": {
          "model_module": "@jupyter-widgets/base",
          "model_name": "LayoutModel",
          "model_module_version": "1.2.0",
          "state": {
            "_model_module": "@jupyter-widgets/base",
            "_model_module_version": "1.2.0",
            "_model_name": "LayoutModel",
            "_view_count": null,
            "_view_module": "@jupyter-widgets/base",
            "_view_module_version": "1.2.0",
            "_view_name": "LayoutView",
            "align_content": null,
            "align_items": null,
            "align_self": null,
            "border": null,
            "bottom": null,
            "display": null,
            "flex": null,
            "flex_flow": null,
            "grid_area": null,
            "grid_auto_columns": null,
            "grid_auto_flow": null,
            "grid_auto_rows": null,
            "grid_column": null,
            "grid_gap": null,
            "grid_row": null,
            "grid_template_areas": null,
            "grid_template_columns": null,
            "grid_template_rows": null,
            "height": null,
            "justify_content": null,
            "justify_items": null,
            "left": null,
            "margin": null,
            "max_height": null,
            "max_width": null,
            "min_height": null,
            "min_width": null,
            "object_fit": null,
            "object_position": null,
            "order": null,
            "overflow": null,
            "overflow_x": null,
            "overflow_y": null,
            "padding": null,
            "right": null,
            "top": null,
            "visibility": null,
            "width": null
          }
        },
        "71d3df63fd33439595f30cf9e4368064": {
          "model_module": "@jupyter-widgets/controls",
          "model_name": "ProgressStyleModel",
          "model_module_version": "1.5.0",
          "state": {
            "_model_module": "@jupyter-widgets/controls",
            "_model_module_version": "1.5.0",
            "_model_name": "ProgressStyleModel",
            "_view_count": null,
            "_view_module": "@jupyter-widgets/base",
            "_view_module_version": "1.2.0",
            "_view_name": "StyleView",
            "bar_color": null,
            "description_width": ""
          }
        },
        "0c3fc2a6796c45fab0004023729968fb": {
          "model_module": "@jupyter-widgets/base",
          "model_name": "LayoutModel",
          "model_module_version": "1.2.0",
          "state": {
            "_model_module": "@jupyter-widgets/base",
            "_model_module_version": "1.2.0",
            "_model_name": "LayoutModel",
            "_view_count": null,
            "_view_module": "@jupyter-widgets/base",
            "_view_module_version": "1.2.0",
            "_view_name": "LayoutView",
            "align_content": null,
            "align_items": null,
            "align_self": null,
            "border": null,
            "bottom": null,
            "display": null,
            "flex": null,
            "flex_flow": null,
            "grid_area": null,
            "grid_auto_columns": null,
            "grid_auto_flow": null,
            "grid_auto_rows": null,
            "grid_column": null,
            "grid_gap": null,
            "grid_row": null,
            "grid_template_areas": null,
            "grid_template_columns": null,
            "grid_template_rows": null,
            "height": null,
            "justify_content": null,
            "justify_items": null,
            "left": null,
            "margin": null,
            "max_height": null,
            "max_width": null,
            "min_height": null,
            "min_width": null,
            "object_fit": null,
            "object_position": null,
            "order": null,
            "overflow": null,
            "overflow_x": null,
            "overflow_y": null,
            "padding": null,
            "right": null,
            "top": null,
            "visibility": null,
            "width": null
          }
        },
        "c3a43ffe93ff40a1b706b9068931fc93": {
          "model_module": "@jupyter-widgets/controls",
          "model_name": "DescriptionStyleModel",
          "model_module_version": "1.5.0",
          "state": {
            "_model_module": "@jupyter-widgets/controls",
            "_model_module_version": "1.5.0",
            "_model_name": "DescriptionStyleModel",
            "_view_count": null,
            "_view_module": "@jupyter-widgets/base",
            "_view_module_version": "1.2.0",
            "_view_name": "StyleView",
            "description_width": ""
          }
        },
        "fbd6e3f1c88749f68f4b79b3332ca00b": {
          "model_module": "@jupyter-widgets/controls",
          "model_name": "HBoxModel",
          "model_module_version": "1.5.0",
          "state": {
            "_dom_classes": [],
            "_model_module": "@jupyter-widgets/controls",
            "_model_module_version": "1.5.0",
            "_model_name": "HBoxModel",
            "_view_count": null,
            "_view_module": "@jupyter-widgets/controls",
            "_view_module_version": "1.5.0",
            "_view_name": "HBoxView",
            "box_style": "",
            "children": [
              "IPY_MODEL_b8b68e2d549c492cac51befcb8962895",
              "IPY_MODEL_f7cc41b2a09048c18e7114878e42972b",
              "IPY_MODEL_b42705e8ee804cbe8948c171591e28d2"
            ],
            "layout": "IPY_MODEL_4efaf0df7aa9476b9b9d9db4a6f09806"
          }
        },
        "b8b68e2d549c492cac51befcb8962895": {
          "model_module": "@jupyter-widgets/controls",
          "model_name": "HTMLModel",
          "model_module_version": "1.5.0",
          "state": {
            "_dom_classes": [],
            "_model_module": "@jupyter-widgets/controls",
            "_model_module_version": "1.5.0",
            "_model_name": "HTMLModel",
            "_view_count": null,
            "_view_module": "@jupyter-widgets/controls",
            "_view_module_version": "1.5.0",
            "_view_name": "HTMLView",
            "description": "",
            "description_tooltip": null,
            "layout": "IPY_MODEL_ba9c1405d2d647218dccfa94ebab37e3",
            "placeholder": "​",
            "style": "IPY_MODEL_1abb25ccca5f46c789e197cd13e9420e",
            "value": "spiece.model: 100%"
          }
        },
        "f7cc41b2a09048c18e7114878e42972b": {
          "model_module": "@jupyter-widgets/controls",
          "model_name": "FloatProgressModel",
          "model_module_version": "1.5.0",
          "state": {
            "_dom_classes": [],
            "_model_module": "@jupyter-widgets/controls",
            "_model_module_version": "1.5.0",
            "_model_name": "FloatProgressModel",
            "_view_count": null,
            "_view_module": "@jupyter-widgets/controls",
            "_view_module_version": "1.5.0",
            "_view_name": "ProgressView",
            "bar_style": "success",
            "description": "",
            "description_tooltip": null,
            "layout": "IPY_MODEL_cf056da2923349bd9008c30d868eed0a",
            "max": 791656,
            "min": 0,
            "orientation": "horizontal",
            "style": "IPY_MODEL_5ccf3e01d37d413f9d96167d6d2c5acd",
            "value": 791656
          }
        },
        "b42705e8ee804cbe8948c171591e28d2": {
          "model_module": "@jupyter-widgets/controls",
          "model_name": "HTMLModel",
          "model_module_version": "1.5.0",
          "state": {
            "_dom_classes": [],
            "_model_module": "@jupyter-widgets/controls",
            "_model_module_version": "1.5.0",
            "_model_name": "HTMLModel",
            "_view_count": null,
            "_view_module": "@jupyter-widgets/controls",
            "_view_module_version": "1.5.0",
            "_view_name": "HTMLView",
            "description": "",
            "description_tooltip": null,
            "layout": "IPY_MODEL_65aeee098f0e4565b27a0611820f3250",
            "placeholder": "​",
            "style": "IPY_MODEL_97b9ff566e6c4d09821116f1621e2cc5",
            "value": " 792k/792k [00:00&lt;00:00, 10.5MB/s]"
          }
        },
        "4efaf0df7aa9476b9b9d9db4a6f09806": {
          "model_module": "@jupyter-widgets/base",
          "model_name": "LayoutModel",
          "model_module_version": "1.2.0",
          "state": {
            "_model_module": "@jupyter-widgets/base",
            "_model_module_version": "1.2.0",
            "_model_name": "LayoutModel",
            "_view_count": null,
            "_view_module": "@jupyter-widgets/base",
            "_view_module_version": "1.2.0",
            "_view_name": "LayoutView",
            "align_content": null,
            "align_items": null,
            "align_self": null,
            "border": null,
            "bottom": null,
            "display": null,
            "flex": null,
            "flex_flow": null,
            "grid_area": null,
            "grid_auto_columns": null,
            "grid_auto_flow": null,
            "grid_auto_rows": null,
            "grid_column": null,
            "grid_gap": null,
            "grid_row": null,
            "grid_template_areas": null,
            "grid_template_columns": null,
            "grid_template_rows": null,
            "height": null,
            "justify_content": null,
            "justify_items": null,
            "left": null,
            "margin": null,
            "max_height": null,
            "max_width": null,
            "min_height": null,
            "min_width": null,
            "object_fit": null,
            "object_position": null,
            "order": null,
            "overflow": null,
            "overflow_x": null,
            "overflow_y": null,
            "padding": null,
            "right": null,
            "top": null,
            "visibility": null,
            "width": null
          }
        },
        "ba9c1405d2d647218dccfa94ebab37e3": {
          "model_module": "@jupyter-widgets/base",
          "model_name": "LayoutModel",
          "model_module_version": "1.2.0",
          "state": {
            "_model_module": "@jupyter-widgets/base",
            "_model_module_version": "1.2.0",
            "_model_name": "LayoutModel",
            "_view_count": null,
            "_view_module": "@jupyter-widgets/base",
            "_view_module_version": "1.2.0",
            "_view_name": "LayoutView",
            "align_content": null,
            "align_items": null,
            "align_self": null,
            "border": null,
            "bottom": null,
            "display": null,
            "flex": null,
            "flex_flow": null,
            "grid_area": null,
            "grid_auto_columns": null,
            "grid_auto_flow": null,
            "grid_auto_rows": null,
            "grid_column": null,
            "grid_gap": null,
            "grid_row": null,
            "grid_template_areas": null,
            "grid_template_columns": null,
            "grid_template_rows": null,
            "height": null,
            "justify_content": null,
            "justify_items": null,
            "left": null,
            "margin": null,
            "max_height": null,
            "max_width": null,
            "min_height": null,
            "min_width": null,
            "object_fit": null,
            "object_position": null,
            "order": null,
            "overflow": null,
            "overflow_x": null,
            "overflow_y": null,
            "padding": null,
            "right": null,
            "top": null,
            "visibility": null,
            "width": null
          }
        },
        "1abb25ccca5f46c789e197cd13e9420e": {
          "model_module": "@jupyter-widgets/controls",
          "model_name": "DescriptionStyleModel",
          "model_module_version": "1.5.0",
          "state": {
            "_model_module": "@jupyter-widgets/controls",
            "_model_module_version": "1.5.0",
            "_model_name": "DescriptionStyleModel",
            "_view_count": null,
            "_view_module": "@jupyter-widgets/base",
            "_view_module_version": "1.2.0",
            "_view_name": "StyleView",
            "description_width": ""
          }
        },
        "cf056da2923349bd9008c30d868eed0a": {
          "model_module": "@jupyter-widgets/base",
          "model_name": "LayoutModel",
          "model_module_version": "1.2.0",
          "state": {
            "_model_module": "@jupyter-widgets/base",
            "_model_module_version": "1.2.0",
            "_model_name": "LayoutModel",
            "_view_count": null,
            "_view_module": "@jupyter-widgets/base",
            "_view_module_version": "1.2.0",
            "_view_name": "LayoutView",
            "align_content": null,
            "align_items": null,
            "align_self": null,
            "border": null,
            "bottom": null,
            "display": null,
            "flex": null,
            "flex_flow": null,
            "grid_area": null,
            "grid_auto_columns": null,
            "grid_auto_flow": null,
            "grid_auto_rows": null,
            "grid_column": null,
            "grid_gap": null,
            "grid_row": null,
            "grid_template_areas": null,
            "grid_template_columns": null,
            "grid_template_rows": null,
            "height": null,
            "justify_content": null,
            "justify_items": null,
            "left": null,
            "margin": null,
            "max_height": null,
            "max_width": null,
            "min_height": null,
            "min_width": null,
            "object_fit": null,
            "object_position": null,
            "order": null,
            "overflow": null,
            "overflow_x": null,
            "overflow_y": null,
            "padding": null,
            "right": null,
            "top": null,
            "visibility": null,
            "width": null
          }
        },
        "5ccf3e01d37d413f9d96167d6d2c5acd": {
          "model_module": "@jupyter-widgets/controls",
          "model_name": "ProgressStyleModel",
          "model_module_version": "1.5.0",
          "state": {
            "_model_module": "@jupyter-widgets/controls",
            "_model_module_version": "1.5.0",
            "_model_name": "ProgressStyleModel",
            "_view_count": null,
            "_view_module": "@jupyter-widgets/base",
            "_view_module_version": "1.2.0",
            "_view_name": "StyleView",
            "bar_color": null,
            "description_width": ""
          }
        },
        "65aeee098f0e4565b27a0611820f3250": {
          "model_module": "@jupyter-widgets/base",
          "model_name": "LayoutModel",
          "model_module_version": "1.2.0",
          "state": {
            "_model_module": "@jupyter-widgets/base",
            "_model_module_version": "1.2.0",
            "_model_name": "LayoutModel",
            "_view_count": null,
            "_view_module": "@jupyter-widgets/base",
            "_view_module_version": "1.2.0",
            "_view_name": "LayoutView",
            "align_content": null,
            "align_items": null,
            "align_self": null,
            "border": null,
            "bottom": null,
            "display": null,
            "flex": null,
            "flex_flow": null,
            "grid_area": null,
            "grid_auto_columns": null,
            "grid_auto_flow": null,
            "grid_auto_rows": null,
            "grid_column": null,
            "grid_gap": null,
            "grid_row": null,
            "grid_template_areas": null,
            "grid_template_columns": null,
            "grid_template_rows": null,
            "height": null,
            "justify_content": null,
            "justify_items": null,
            "left": null,
            "margin": null,
            "max_height": null,
            "max_width": null,
            "min_height": null,
            "min_width": null,
            "object_fit": null,
            "object_position": null,
            "order": null,
            "overflow": null,
            "overflow_x": null,
            "overflow_y": null,
            "padding": null,
            "right": null,
            "top": null,
            "visibility": null,
            "width": null
          }
        },
        "97b9ff566e6c4d09821116f1621e2cc5": {
          "model_module": "@jupyter-widgets/controls",
          "model_name": "DescriptionStyleModel",
          "model_module_version": "1.5.0",
          "state": {
            "_model_module": "@jupyter-widgets/controls",
            "_model_module_version": "1.5.0",
            "_model_name": "DescriptionStyleModel",
            "_view_count": null,
            "_view_module": "@jupyter-widgets/base",
            "_view_module_version": "1.2.0",
            "_view_name": "StyleView",
            "description_width": ""
          }
        },
        "92c343d0b32a402582010823c1b0d624": {
          "model_module": "@jupyter-widgets/controls",
          "model_name": "HBoxModel",
          "model_module_version": "1.5.0",
          "state": {
            "_dom_classes": [],
            "_model_module": "@jupyter-widgets/controls",
            "_model_module_version": "1.5.0",
            "_model_name": "HBoxModel",
            "_view_count": null,
            "_view_module": "@jupyter-widgets/controls",
            "_view_module_version": "1.5.0",
            "_view_name": "HBoxView",
            "box_style": "",
            "children": [
              "IPY_MODEL_cffbb4e76d7643218702774ed92f3884",
              "IPY_MODEL_c54d81466a66400490902dfc6e7f5166",
              "IPY_MODEL_d748ed8b17c742f59afd1f9d69eae534"
            ],
            "layout": "IPY_MODEL_eddfe49c5fdf4e0d8be24cfdc580878e"
          }
        },
        "cffbb4e76d7643218702774ed92f3884": {
          "model_module": "@jupyter-widgets/controls",
          "model_name": "HTMLModel",
          "model_module_version": "1.5.0",
          "state": {
            "_dom_classes": [],
            "_model_module": "@jupyter-widgets/controls",
            "_model_module_version": "1.5.0",
            "_model_name": "HTMLModel",
            "_view_count": null,
            "_view_module": "@jupyter-widgets/controls",
            "_view_module_version": "1.5.0",
            "_view_name": "HTMLView",
            "description": "",
            "description_tooltip": null,
            "layout": "IPY_MODEL_da04ed74cb6c4a22a99c8ea09a8b2467",
            "placeholder": "​",
            "style": "IPY_MODEL_3df3433608244188bc7923a908342894",
            "value": "special_tokens_map.json: 100%"
          }
        },
        "c54d81466a66400490902dfc6e7f5166": {
          "model_module": "@jupyter-widgets/controls",
          "model_name": "FloatProgressModel",
          "model_module_version": "1.5.0",
          "state": {
            "_dom_classes": [],
            "_model_module": "@jupyter-widgets/controls",
            "_model_module_version": "1.5.0",
            "_model_name": "FloatProgressModel",
            "_view_count": null,
            "_view_module": "@jupyter-widgets/controls",
            "_view_module_version": "1.5.0",
            "_view_name": "ProgressView",
            "bar_style": "success",
            "description": "",
            "description_tooltip": null,
            "layout": "IPY_MODEL_436185b471f745088710d1e218291269",
            "max": 2201,
            "min": 0,
            "orientation": "horizontal",
            "style": "IPY_MODEL_7f212941190b4128a14e4bca2a47ad7e",
            "value": 2201
          }
        },
        "d748ed8b17c742f59afd1f9d69eae534": {
          "model_module": "@jupyter-widgets/controls",
          "model_name": "HTMLModel",
          "model_module_version": "1.5.0",
          "state": {
            "_dom_classes": [],
            "_model_module": "@jupyter-widgets/controls",
            "_model_module_version": "1.5.0",
            "_model_name": "HTMLModel",
            "_view_count": null,
            "_view_module": "@jupyter-widgets/controls",
            "_view_module_version": "1.5.0",
            "_view_name": "HTMLView",
            "description": "",
            "description_tooltip": null,
            "layout": "IPY_MODEL_ec3763bc883d4981ad0b78aac418aabd",
            "placeholder": "​",
            "style": "IPY_MODEL_5161c5b5e7d949a58ae2d112f1c6051f",
            "value": " 2.20k/2.20k [00:00&lt;00:00, 62.5kB/s]"
          }
        },
        "eddfe49c5fdf4e0d8be24cfdc580878e": {
          "model_module": "@jupyter-widgets/base",
          "model_name": "LayoutModel",
          "model_module_version": "1.2.0",
          "state": {
            "_model_module": "@jupyter-widgets/base",
            "_model_module_version": "1.2.0",
            "_model_name": "LayoutModel",
            "_view_count": null,
            "_view_module": "@jupyter-widgets/base",
            "_view_module_version": "1.2.0",
            "_view_name": "LayoutView",
            "align_content": null,
            "align_items": null,
            "align_self": null,
            "border": null,
            "bottom": null,
            "display": null,
            "flex": null,
            "flex_flow": null,
            "grid_area": null,
            "grid_auto_columns": null,
            "grid_auto_flow": null,
            "grid_auto_rows": null,
            "grid_column": null,
            "grid_gap": null,
            "grid_row": null,
            "grid_template_areas": null,
            "grid_template_columns": null,
            "grid_template_rows": null,
            "height": null,
            "justify_content": null,
            "justify_items": null,
            "left": null,
            "margin": null,
            "max_height": null,
            "max_width": null,
            "min_height": null,
            "min_width": null,
            "object_fit": null,
            "object_position": null,
            "order": null,
            "overflow": null,
            "overflow_x": null,
            "overflow_y": null,
            "padding": null,
            "right": null,
            "top": null,
            "visibility": null,
            "width": null
          }
        },
        "da04ed74cb6c4a22a99c8ea09a8b2467": {
          "model_module": "@jupyter-widgets/base",
          "model_name": "LayoutModel",
          "model_module_version": "1.2.0",
          "state": {
            "_model_module": "@jupyter-widgets/base",
            "_model_module_version": "1.2.0",
            "_model_name": "LayoutModel",
            "_view_count": null,
            "_view_module": "@jupyter-widgets/base",
            "_view_module_version": "1.2.0",
            "_view_name": "LayoutView",
            "align_content": null,
            "align_items": null,
            "align_self": null,
            "border": null,
            "bottom": null,
            "display": null,
            "flex": null,
            "flex_flow": null,
            "grid_area": null,
            "grid_auto_columns": null,
            "grid_auto_flow": null,
            "grid_auto_rows": null,
            "grid_column": null,
            "grid_gap": null,
            "grid_row": null,
            "grid_template_areas": null,
            "grid_template_columns": null,
            "grid_template_rows": null,
            "height": null,
            "justify_content": null,
            "justify_items": null,
            "left": null,
            "margin": null,
            "max_height": null,
            "max_width": null,
            "min_height": null,
            "min_width": null,
            "object_fit": null,
            "object_position": null,
            "order": null,
            "overflow": null,
            "overflow_x": null,
            "overflow_y": null,
            "padding": null,
            "right": null,
            "top": null,
            "visibility": null,
            "width": null
          }
        },
        "3df3433608244188bc7923a908342894": {
          "model_module": "@jupyter-widgets/controls",
          "model_name": "DescriptionStyleModel",
          "model_module_version": "1.5.0",
          "state": {
            "_model_module": "@jupyter-widgets/controls",
            "_model_module_version": "1.5.0",
            "_model_name": "DescriptionStyleModel",
            "_view_count": null,
            "_view_module": "@jupyter-widgets/base",
            "_view_module_version": "1.2.0",
            "_view_name": "StyleView",
            "description_width": ""
          }
        },
        "436185b471f745088710d1e218291269": {
          "model_module": "@jupyter-widgets/base",
          "model_name": "LayoutModel",
          "model_module_version": "1.2.0",
          "state": {
            "_model_module": "@jupyter-widgets/base",
            "_model_module_version": "1.2.0",
            "_model_name": "LayoutModel",
            "_view_count": null,
            "_view_module": "@jupyter-widgets/base",
            "_view_module_version": "1.2.0",
            "_view_name": "LayoutView",
            "align_content": null,
            "align_items": null,
            "align_self": null,
            "border": null,
            "bottom": null,
            "display": null,
            "flex": null,
            "flex_flow": null,
            "grid_area": null,
            "grid_auto_columns": null,
            "grid_auto_flow": null,
            "grid_auto_rows": null,
            "grid_column": null,
            "grid_gap": null,
            "grid_row": null,
            "grid_template_areas": null,
            "grid_template_columns": null,
            "grid_template_rows": null,
            "height": null,
            "justify_content": null,
            "justify_items": null,
            "left": null,
            "margin": null,
            "max_height": null,
            "max_width": null,
            "min_height": null,
            "min_width": null,
            "object_fit": null,
            "object_position": null,
            "order": null,
            "overflow": null,
            "overflow_x": null,
            "overflow_y": null,
            "padding": null,
            "right": null,
            "top": null,
            "visibility": null,
            "width": null
          }
        },
        "7f212941190b4128a14e4bca2a47ad7e": {
          "model_module": "@jupyter-widgets/controls",
          "model_name": "ProgressStyleModel",
          "model_module_version": "1.5.0",
          "state": {
            "_model_module": "@jupyter-widgets/controls",
            "_model_module_version": "1.5.0",
            "_model_name": "ProgressStyleModel",
            "_view_count": null,
            "_view_module": "@jupyter-widgets/base",
            "_view_module_version": "1.2.0",
            "_view_name": "StyleView",
            "bar_color": null,
            "description_width": ""
          }
        },
        "ec3763bc883d4981ad0b78aac418aabd": {
          "model_module": "@jupyter-widgets/base",
          "model_name": "LayoutModel",
          "model_module_version": "1.2.0",
          "state": {
            "_model_module": "@jupyter-widgets/base",
            "_model_module_version": "1.2.0",
            "_model_name": "LayoutModel",
            "_view_count": null,
            "_view_module": "@jupyter-widgets/base",
            "_view_module_version": "1.2.0",
            "_view_name": "LayoutView",
            "align_content": null,
            "align_items": null,
            "align_self": null,
            "border": null,
            "bottom": null,
            "display": null,
            "flex": null,
            "flex_flow": null,
            "grid_area": null,
            "grid_auto_columns": null,
            "grid_auto_flow": null,
            "grid_auto_rows": null,
            "grid_column": null,
            "grid_gap": null,
            "grid_row": null,
            "grid_template_areas": null,
            "grid_template_columns": null,
            "grid_template_rows": null,
            "height": null,
            "justify_content": null,
            "justify_items": null,
            "left": null,
            "margin": null,
            "max_height": null,
            "max_width": null,
            "min_height": null,
            "min_width": null,
            "object_fit": null,
            "object_position": null,
            "order": null,
            "overflow": null,
            "overflow_x": null,
            "overflow_y": null,
            "padding": null,
            "right": null,
            "top": null,
            "visibility": null,
            "width": null
          }
        },
        "5161c5b5e7d949a58ae2d112f1c6051f": {
          "model_module": "@jupyter-widgets/controls",
          "model_name": "DescriptionStyleModel",
          "model_module_version": "1.5.0",
          "state": {
            "_model_module": "@jupyter-widgets/controls",
            "_model_module_version": "1.5.0",
            "_model_name": "DescriptionStyleModel",
            "_view_count": null,
            "_view_module": "@jupyter-widgets/base",
            "_view_module_version": "1.2.0",
            "_view_name": "StyleView",
            "description_width": ""
          }
        },
        "444e077745724a009f4d4eaf8cf8c703": {
          "model_module": "@jupyter-widgets/controls",
          "model_name": "HBoxModel",
          "model_module_version": "1.5.0",
          "state": {
            "_dom_classes": [],
            "_model_module": "@jupyter-widgets/controls",
            "_model_module_version": "1.5.0",
            "_model_name": "HBoxModel",
            "_view_count": null,
            "_view_module": "@jupyter-widgets/controls",
            "_view_module_version": "1.5.0",
            "_view_name": "HBoxView",
            "box_style": "",
            "children": [
              "IPY_MODEL_6c8338bded794a5b805c51ad6d42c37b",
              "IPY_MODEL_0dde6f6355a549c2a0bcf2c8eee11f34",
              "IPY_MODEL_7baa91017ea449d1b962550a1b16ef9b"
            ],
            "layout": "IPY_MODEL_7a6d076a13a54ef6ad22ec659ccacd6d"
          }
        },
        "6c8338bded794a5b805c51ad6d42c37b": {
          "model_module": "@jupyter-widgets/controls",
          "model_name": "HTMLModel",
          "model_module_version": "1.5.0",
          "state": {
            "_dom_classes": [],
            "_model_module": "@jupyter-widgets/controls",
            "_model_module_version": "1.5.0",
            "_model_name": "HTMLModel",
            "_view_count": null,
            "_view_module": "@jupyter-widgets/controls",
            "_view_module_version": "1.5.0",
            "_view_name": "HTMLView",
            "description": "",
            "description_tooltip": null,
            "layout": "IPY_MODEL_3814644a3e044e3b88e980378c04391a",
            "placeholder": "​",
            "style": "IPY_MODEL_1c3b377cc3d34771914194730f6209a4",
            "value": "tokenizer.json: 100%"
          }
        },
        "0dde6f6355a549c2a0bcf2c8eee11f34": {
          "model_module": "@jupyter-widgets/controls",
          "model_name": "FloatProgressModel",
          "model_module_version": "1.5.0",
          "state": {
            "_dom_classes": [],
            "_model_module": "@jupyter-widgets/controls",
            "_model_module_version": "1.5.0",
            "_model_name": "FloatProgressModel",
            "_view_count": null,
            "_view_module": "@jupyter-widgets/controls",
            "_view_module_version": "1.5.0",
            "_view_name": "ProgressView",
            "bar_style": "success",
            "description": "",
            "description_tooltip": null,
            "layout": "IPY_MODEL_881fa792f393421c8a439ed69bbc753f",
            "max": 2424064,
            "min": 0,
            "orientation": "horizontal",
            "style": "IPY_MODEL_620e1fb2da344fa9b7088e3cbc6d54e6",
            "value": 2424064
          }
        },
        "7baa91017ea449d1b962550a1b16ef9b": {
          "model_module": "@jupyter-widgets/controls",
          "model_name": "HTMLModel",
          "model_module_version": "1.5.0",
          "state": {
            "_dom_classes": [],
            "_model_module": "@jupyter-widgets/controls",
            "_model_module_version": "1.5.0",
            "_model_name": "HTMLModel",
            "_view_count": null,
            "_view_module": "@jupyter-widgets/controls",
            "_view_module_version": "1.5.0",
            "_view_name": "HTMLView",
            "description": "",
            "description_tooltip": null,
            "layout": "IPY_MODEL_70a8ceb953ad4438a325e7fbf4ab0214",
            "placeholder": "​",
            "style": "IPY_MODEL_16e54ec87bb842b889ec5782144188a0",
            "value": " 2.42M/2.42M [00:00&lt;00:00, 4.98MB/s]"
          }
        },
        "7a6d076a13a54ef6ad22ec659ccacd6d": {
          "model_module": "@jupyter-widgets/base",
          "model_name": "LayoutModel",
          "model_module_version": "1.2.0",
          "state": {
            "_model_module": "@jupyter-widgets/base",
            "_model_module_version": "1.2.0",
            "_model_name": "LayoutModel",
            "_view_count": null,
            "_view_module": "@jupyter-widgets/base",
            "_view_module_version": "1.2.0",
            "_view_name": "LayoutView",
            "align_content": null,
            "align_items": null,
            "align_self": null,
            "border": null,
            "bottom": null,
            "display": null,
            "flex": null,
            "flex_flow": null,
            "grid_area": null,
            "grid_auto_columns": null,
            "grid_auto_flow": null,
            "grid_auto_rows": null,
            "grid_column": null,
            "grid_gap": null,
            "grid_row": null,
            "grid_template_areas": null,
            "grid_template_columns": null,
            "grid_template_rows": null,
            "height": null,
            "justify_content": null,
            "justify_items": null,
            "left": null,
            "margin": null,
            "max_height": null,
            "max_width": null,
            "min_height": null,
            "min_width": null,
            "object_fit": null,
            "object_position": null,
            "order": null,
            "overflow": null,
            "overflow_x": null,
            "overflow_y": null,
            "padding": null,
            "right": null,
            "top": null,
            "visibility": null,
            "width": null
          }
        },
        "3814644a3e044e3b88e980378c04391a": {
          "model_module": "@jupyter-widgets/base",
          "model_name": "LayoutModel",
          "model_module_version": "1.2.0",
          "state": {
            "_model_module": "@jupyter-widgets/base",
            "_model_module_version": "1.2.0",
            "_model_name": "LayoutModel",
            "_view_count": null,
            "_view_module": "@jupyter-widgets/base",
            "_view_module_version": "1.2.0",
            "_view_name": "LayoutView",
            "align_content": null,
            "align_items": null,
            "align_self": null,
            "border": null,
            "bottom": null,
            "display": null,
            "flex": null,
            "flex_flow": null,
            "grid_area": null,
            "grid_auto_columns": null,
            "grid_auto_flow": null,
            "grid_auto_rows": null,
            "grid_column": null,
            "grid_gap": null,
            "grid_row": null,
            "grid_template_areas": null,
            "grid_template_columns": null,
            "grid_template_rows": null,
            "height": null,
            "justify_content": null,
            "justify_items": null,
            "left": null,
            "margin": null,
            "max_height": null,
            "max_width": null,
            "min_height": null,
            "min_width": null,
            "object_fit": null,
            "object_position": null,
            "order": null,
            "overflow": null,
            "overflow_x": null,
            "overflow_y": null,
            "padding": null,
            "right": null,
            "top": null,
            "visibility": null,
            "width": null
          }
        },
        "1c3b377cc3d34771914194730f6209a4": {
          "model_module": "@jupyter-widgets/controls",
          "model_name": "DescriptionStyleModel",
          "model_module_version": "1.5.0",
          "state": {
            "_model_module": "@jupyter-widgets/controls",
            "_model_module_version": "1.5.0",
            "_model_name": "DescriptionStyleModel",
            "_view_count": null,
            "_view_module": "@jupyter-widgets/base",
            "_view_module_version": "1.2.0",
            "_view_name": "StyleView",
            "description_width": ""
          }
        },
        "881fa792f393421c8a439ed69bbc753f": {
          "model_module": "@jupyter-widgets/base",
          "model_name": "LayoutModel",
          "model_module_version": "1.2.0",
          "state": {
            "_model_module": "@jupyter-widgets/base",
            "_model_module_version": "1.2.0",
            "_model_name": "LayoutModel",
            "_view_count": null,
            "_view_module": "@jupyter-widgets/base",
            "_view_module_version": "1.2.0",
            "_view_name": "LayoutView",
            "align_content": null,
            "align_items": null,
            "align_self": null,
            "border": null,
            "bottom": null,
            "display": null,
            "flex": null,
            "flex_flow": null,
            "grid_area": null,
            "grid_auto_columns": null,
            "grid_auto_flow": null,
            "grid_auto_rows": null,
            "grid_column": null,
            "grid_gap": null,
            "grid_row": null,
            "grid_template_areas": null,
            "grid_template_columns": null,
            "grid_template_rows": null,
            "height": null,
            "justify_content": null,
            "justify_items": null,
            "left": null,
            "margin": null,
            "max_height": null,
            "max_width": null,
            "min_height": null,
            "min_width": null,
            "object_fit": null,
            "object_position": null,
            "order": null,
            "overflow": null,
            "overflow_x": null,
            "overflow_y": null,
            "padding": null,
            "right": null,
            "top": null,
            "visibility": null,
            "width": null
          }
        },
        "620e1fb2da344fa9b7088e3cbc6d54e6": {
          "model_module": "@jupyter-widgets/controls",
          "model_name": "ProgressStyleModel",
          "model_module_version": "1.5.0",
          "state": {
            "_model_module": "@jupyter-widgets/controls",
            "_model_module_version": "1.5.0",
            "_model_name": "ProgressStyleModel",
            "_view_count": null,
            "_view_module": "@jupyter-widgets/base",
            "_view_module_version": "1.2.0",
            "_view_name": "StyleView",
            "bar_color": null,
            "description_width": ""
          }
        },
        "70a8ceb953ad4438a325e7fbf4ab0214": {
          "model_module": "@jupyter-widgets/base",
          "model_name": "LayoutModel",
          "model_module_version": "1.2.0",
          "state": {
            "_model_module": "@jupyter-widgets/base",
            "_model_module_version": "1.2.0",
            "_model_name": "LayoutModel",
            "_view_count": null,
            "_view_module": "@jupyter-widgets/base",
            "_view_module_version": "1.2.0",
            "_view_name": "LayoutView",
            "align_content": null,
            "align_items": null,
            "align_self": null,
            "border": null,
            "bottom": null,
            "display": null,
            "flex": null,
            "flex_flow": null,
            "grid_area": null,
            "grid_auto_columns": null,
            "grid_auto_flow": null,
            "grid_auto_rows": null,
            "grid_column": null,
            "grid_gap": null,
            "grid_row": null,
            "grid_template_areas": null,
            "grid_template_columns": null,
            "grid_template_rows": null,
            "height": null,
            "justify_content": null,
            "justify_items": null,
            "left": null,
            "margin": null,
            "max_height": null,
            "max_width": null,
            "min_height": null,
            "min_width": null,
            "object_fit": null,
            "object_position": null,
            "order": null,
            "overflow": null,
            "overflow_x": null,
            "overflow_y": null,
            "padding": null,
            "right": null,
            "top": null,
            "visibility": null,
            "width": null
          }
        },
        "16e54ec87bb842b889ec5782144188a0": {
          "model_module": "@jupyter-widgets/controls",
          "model_name": "DescriptionStyleModel",
          "model_module_version": "1.5.0",
          "state": {
            "_model_module": "@jupyter-widgets/controls",
            "_model_module_version": "1.5.0",
            "_model_name": "DescriptionStyleModel",
            "_view_count": null,
            "_view_module": "@jupyter-widgets/base",
            "_view_module_version": "1.2.0",
            "_view_name": "StyleView",
            "description_width": ""
          }
        },
        "9568e1ab5bb44ad99890bbea61287116": {
          "model_module": "@jupyter-widgets/controls",
          "model_name": "HBoxModel",
          "model_module_version": "1.5.0",
          "state": {
            "_dom_classes": [],
            "_model_module": "@jupyter-widgets/controls",
            "_model_module_version": "1.5.0",
            "_model_name": "HBoxModel",
            "_view_count": null,
            "_view_module": "@jupyter-widgets/controls",
            "_view_module_version": "1.5.0",
            "_view_name": "HBoxView",
            "box_style": "",
            "children": [
              "IPY_MODEL_6b34a1c3d7d741efbe5df2824474d534",
              "IPY_MODEL_bde4ff7351da4e068753bff4c9bd2ce9",
              "IPY_MODEL_5bb8624ce2044098b6d049b39b1b49b1"
            ],
            "layout": "IPY_MODEL_e0621b3da5f041959f3945be8e5bce2e"
          }
        },
        "6b34a1c3d7d741efbe5df2824474d534": {
          "model_module": "@jupyter-widgets/controls",
          "model_name": "HTMLModel",
          "model_module_version": "1.5.0",
          "state": {
            "_dom_classes": [],
            "_model_module": "@jupyter-widgets/controls",
            "_model_module_version": "1.5.0",
            "_model_name": "HTMLModel",
            "_view_count": null,
            "_view_module": "@jupyter-widgets/controls",
            "_view_module_version": "1.5.0",
            "_view_name": "HTMLView",
            "description": "",
            "description_tooltip": null,
            "layout": "IPY_MODEL_a93a7e0ea3f64e0daab2a80a45dcd3ed",
            "placeholder": "​",
            "style": "IPY_MODEL_6491098424824586a2d1401d6b845c79",
            "value": "config.json: 100%"
          }
        },
        "bde4ff7351da4e068753bff4c9bd2ce9": {
          "model_module": "@jupyter-widgets/controls",
          "model_name": "FloatProgressModel",
          "model_module_version": "1.5.0",
          "state": {
            "_dom_classes": [],
            "_model_module": "@jupyter-widgets/controls",
            "_model_module_version": "1.5.0",
            "_model_name": "FloatProgressModel",
            "_view_count": null,
            "_view_module": "@jupyter-widgets/controls",
            "_view_module_version": "1.5.0",
            "_view_name": "ProgressView",
            "bar_style": "success",
            "description": "",
            "description_tooltip": null,
            "layout": "IPY_MODEL_dc65fa6f50504bc595ff133b27c4609b",
            "max": 662,
            "min": 0,
            "orientation": "horizontal",
            "style": "IPY_MODEL_259798118ede47c0bc6527c02ab7905f",
            "value": 662
          }
        },
        "5bb8624ce2044098b6d049b39b1b49b1": {
          "model_module": "@jupyter-widgets/controls",
          "model_name": "HTMLModel",
          "model_module_version": "1.5.0",
          "state": {
            "_dom_classes": [],
            "_model_module": "@jupyter-widgets/controls",
            "_model_module_version": "1.5.0",
            "_model_name": "HTMLModel",
            "_view_count": null,
            "_view_module": "@jupyter-widgets/controls",
            "_view_module_version": "1.5.0",
            "_view_name": "HTMLView",
            "description": "",
            "description_tooltip": null,
            "layout": "IPY_MODEL_c93f8123b94f419da32bb3e4450ccc71",
            "placeholder": "​",
            "style": "IPY_MODEL_68c6567d98784f9c86dbbd4d6cf8d90f",
            "value": " 662/662 [00:00&lt;00:00, 40.6kB/s]"
          }
        },
        "e0621b3da5f041959f3945be8e5bce2e": {
          "model_module": "@jupyter-widgets/base",
          "model_name": "LayoutModel",
          "model_module_version": "1.2.0",
          "state": {
            "_model_module": "@jupyter-widgets/base",
            "_model_module_version": "1.2.0",
            "_model_name": "LayoutModel",
            "_view_count": null,
            "_view_module": "@jupyter-widgets/base",
            "_view_module_version": "1.2.0",
            "_view_name": "LayoutView",
            "align_content": null,
            "align_items": null,
            "align_self": null,
            "border": null,
            "bottom": null,
            "display": null,
            "flex": null,
            "flex_flow": null,
            "grid_area": null,
            "grid_auto_columns": null,
            "grid_auto_flow": null,
            "grid_auto_rows": null,
            "grid_column": null,
            "grid_gap": null,
            "grid_row": null,
            "grid_template_areas": null,
            "grid_template_columns": null,
            "grid_template_rows": null,
            "height": null,
            "justify_content": null,
            "justify_items": null,
            "left": null,
            "margin": null,
            "max_height": null,
            "max_width": null,
            "min_height": null,
            "min_width": null,
            "object_fit": null,
            "object_position": null,
            "order": null,
            "overflow": null,
            "overflow_x": null,
            "overflow_y": null,
            "padding": null,
            "right": null,
            "top": null,
            "visibility": null,
            "width": null
          }
        },
        "a93a7e0ea3f64e0daab2a80a45dcd3ed": {
          "model_module": "@jupyter-widgets/base",
          "model_name": "LayoutModel",
          "model_module_version": "1.2.0",
          "state": {
            "_model_module": "@jupyter-widgets/base",
            "_model_module_version": "1.2.0",
            "_model_name": "LayoutModel",
            "_view_count": null,
            "_view_module": "@jupyter-widgets/base",
            "_view_module_version": "1.2.0",
            "_view_name": "LayoutView",
            "align_content": null,
            "align_items": null,
            "align_self": null,
            "border": null,
            "bottom": null,
            "display": null,
            "flex": null,
            "flex_flow": null,
            "grid_area": null,
            "grid_auto_columns": null,
            "grid_auto_flow": null,
            "grid_auto_rows": null,
            "grid_column": null,
            "grid_gap": null,
            "grid_row": null,
            "grid_template_areas": null,
            "grid_template_columns": null,
            "grid_template_rows": null,
            "height": null,
            "justify_content": null,
            "justify_items": null,
            "left": null,
            "margin": null,
            "max_height": null,
            "max_width": null,
            "min_height": null,
            "min_width": null,
            "object_fit": null,
            "object_position": null,
            "order": null,
            "overflow": null,
            "overflow_x": null,
            "overflow_y": null,
            "padding": null,
            "right": null,
            "top": null,
            "visibility": null,
            "width": null
          }
        },
        "6491098424824586a2d1401d6b845c79": {
          "model_module": "@jupyter-widgets/controls",
          "model_name": "DescriptionStyleModel",
          "model_module_version": "1.5.0",
          "state": {
            "_model_module": "@jupyter-widgets/controls",
            "_model_module_version": "1.5.0",
            "_model_name": "DescriptionStyleModel",
            "_view_count": null,
            "_view_module": "@jupyter-widgets/base",
            "_view_module_version": "1.2.0",
            "_view_name": "StyleView",
            "description_width": ""
          }
        },
        "dc65fa6f50504bc595ff133b27c4609b": {
          "model_module": "@jupyter-widgets/base",
          "model_name": "LayoutModel",
          "model_module_version": "1.2.0",
          "state": {
            "_model_module": "@jupyter-widgets/base",
            "_model_module_version": "1.2.0",
            "_model_name": "LayoutModel",
            "_view_count": null,
            "_view_module": "@jupyter-widgets/base",
            "_view_module_version": "1.2.0",
            "_view_name": "LayoutView",
            "align_content": null,
            "align_items": null,
            "align_self": null,
            "border": null,
            "bottom": null,
            "display": null,
            "flex": null,
            "flex_flow": null,
            "grid_area": null,
            "grid_auto_columns": null,
            "grid_auto_flow": null,
            "grid_auto_rows": null,
            "grid_column": null,
            "grid_gap": null,
            "grid_row": null,
            "grid_template_areas": null,
            "grid_template_columns": null,
            "grid_template_rows": null,
            "height": null,
            "justify_content": null,
            "justify_items": null,
            "left": null,
            "margin": null,
            "max_height": null,
            "max_width": null,
            "min_height": null,
            "min_width": null,
            "object_fit": null,
            "object_position": null,
            "order": null,
            "overflow": null,
            "overflow_x": null,
            "overflow_y": null,
            "padding": null,
            "right": null,
            "top": null,
            "visibility": null,
            "width": null
          }
        },
        "259798118ede47c0bc6527c02ab7905f": {
          "model_module": "@jupyter-widgets/controls",
          "model_name": "ProgressStyleModel",
          "model_module_version": "1.5.0",
          "state": {
            "_model_module": "@jupyter-widgets/controls",
            "_model_module_version": "1.5.0",
            "_model_name": "ProgressStyleModel",
            "_view_count": null,
            "_view_module": "@jupyter-widgets/base",
            "_view_module_version": "1.2.0",
            "_view_name": "StyleView",
            "bar_color": null,
            "description_width": ""
          }
        },
        "c93f8123b94f419da32bb3e4450ccc71": {
          "model_module": "@jupyter-widgets/base",
          "model_name": "LayoutModel",
          "model_module_version": "1.2.0",
          "state": {
            "_model_module": "@jupyter-widgets/base",
            "_model_module_version": "1.2.0",
            "_model_name": "LayoutModel",
            "_view_count": null,
            "_view_module": "@jupyter-widgets/base",
            "_view_module_version": "1.2.0",
            "_view_name": "LayoutView",
            "align_content": null,
            "align_items": null,
            "align_self": null,
            "border": null,
            "bottom": null,
            "display": null,
            "flex": null,
            "flex_flow": null,
            "grid_area": null,
            "grid_auto_columns": null,
            "grid_auto_flow": null,
            "grid_auto_rows": null,
            "grid_column": null,
            "grid_gap": null,
            "grid_row": null,
            "grid_template_areas": null,
            "grid_template_columns": null,
            "grid_template_rows": null,
            "height": null,
            "justify_content": null,
            "justify_items": null,
            "left": null,
            "margin": null,
            "max_height": null,
            "max_width": null,
            "min_height": null,
            "min_width": null,
            "object_fit": null,
            "object_position": null,
            "order": null,
            "overflow": null,
            "overflow_x": null,
            "overflow_y": null,
            "padding": null,
            "right": null,
            "top": null,
            "visibility": null,
            "width": null
          }
        },
        "68c6567d98784f9c86dbbd4d6cf8d90f": {
          "model_module": "@jupyter-widgets/controls",
          "model_name": "DescriptionStyleModel",
          "model_module_version": "1.5.0",
          "state": {
            "_model_module": "@jupyter-widgets/controls",
            "_model_module_version": "1.5.0",
            "_model_name": "DescriptionStyleModel",
            "_view_count": null,
            "_view_module": "@jupyter-widgets/base",
            "_view_module_version": "1.2.0",
            "_view_name": "StyleView",
            "description_width": ""
          }
        },
        "63f9ad0da23141f88c160f70aca69bf7": {
          "model_module": "@jupyter-widgets/controls",
          "model_name": "HBoxModel",
          "model_module_version": "1.5.0",
          "state": {
            "_dom_classes": [],
            "_model_module": "@jupyter-widgets/controls",
            "_model_module_version": "1.5.0",
            "_model_name": "HBoxModel",
            "_view_count": null,
            "_view_module": "@jupyter-widgets/controls",
            "_view_module_version": "1.5.0",
            "_view_name": "HBoxView",
            "box_style": "",
            "children": [
              "IPY_MODEL_d3ca1a406eed4cf6a2bd2c80e11e7911",
              "IPY_MODEL_6771b39acd2e4cd0aef3a7c3ae11b41f",
              "IPY_MODEL_4637ace90f1a418691785daaf674cdf7"
            ],
            "layout": "IPY_MODEL_a400b3ee5bb04097a9189e256ffc5bfa"
          }
        },
        "d3ca1a406eed4cf6a2bd2c80e11e7911": {
          "model_module": "@jupyter-widgets/controls",
          "model_name": "HTMLModel",
          "model_module_version": "1.5.0",
          "state": {
            "_dom_classes": [],
            "_model_module": "@jupyter-widgets/controls",
            "_model_module_version": "1.5.0",
            "_model_name": "HTMLModel",
            "_view_count": null,
            "_view_module": "@jupyter-widgets/controls",
            "_view_module_version": "1.5.0",
            "_view_name": "HTMLView",
            "description": "",
            "description_tooltip": null,
            "layout": "IPY_MODEL_b86cf43384ea4b2fb21a16a4d2c11042",
            "placeholder": "​",
            "style": "IPY_MODEL_5cf13f68de53467da53d362454215b41",
            "value": "model.safetensors: 100%"
          }
        },
        "6771b39acd2e4cd0aef3a7c3ae11b41f": {
          "model_module": "@jupyter-widgets/controls",
          "model_name": "FloatProgressModel",
          "model_module_version": "1.5.0",
          "state": {
            "_dom_classes": [],
            "_model_module": "@jupyter-widgets/controls",
            "_model_module_version": "1.5.0",
            "_model_name": "FloatProgressModel",
            "_view_count": null,
            "_view_module": "@jupyter-widgets/controls",
            "_view_module_version": "1.5.0",
            "_view_name": "ProgressView",
            "bar_style": "success",
            "description": "",
            "description_tooltip": null,
            "layout": "IPY_MODEL_0931ff6b0bcf48b491862761c6bdc7f8",
            "max": 3132668804,
            "min": 0,
            "orientation": "horizontal",
            "style": "IPY_MODEL_615a235bbe2547fd8206d2a0cb5e2fae",
            "value": 3132668804
          }
        },
        "4637ace90f1a418691785daaf674cdf7": {
          "model_module": "@jupyter-widgets/controls",
          "model_name": "HTMLModel",
          "model_module_version": "1.5.0",
          "state": {
            "_dom_classes": [],
            "_model_module": "@jupyter-widgets/controls",
            "_model_module_version": "1.5.0",
            "_model_name": "HTMLModel",
            "_view_count": null,
            "_view_module": "@jupyter-widgets/controls",
            "_view_module_version": "1.5.0",
            "_view_name": "HTMLView",
            "description": "",
            "description_tooltip": null,
            "layout": "IPY_MODEL_e5f485f71aa94c82aaa4879417a03120",
            "placeholder": "​",
            "style": "IPY_MODEL_702b4cc804984e889734cbb59a33ea80",
            "value": " 3.13G/3.13G [00:28&lt;00:00, 17.6MB/s]"
          }
        },
        "a400b3ee5bb04097a9189e256ffc5bfa": {
          "model_module": "@jupyter-widgets/base",
          "model_name": "LayoutModel",
          "model_module_version": "1.2.0",
          "state": {
            "_model_module": "@jupyter-widgets/base",
            "_model_module_version": "1.2.0",
            "_model_name": "LayoutModel",
            "_view_count": null,
            "_view_module": "@jupyter-widgets/base",
            "_view_module_version": "1.2.0",
            "_view_name": "LayoutView",
            "align_content": null,
            "align_items": null,
            "align_self": null,
            "border": null,
            "bottom": null,
            "display": null,
            "flex": null,
            "flex_flow": null,
            "grid_area": null,
            "grid_auto_columns": null,
            "grid_auto_flow": null,
            "grid_auto_rows": null,
            "grid_column": null,
            "grid_gap": null,
            "grid_row": null,
            "grid_template_areas": null,
            "grid_template_columns": null,
            "grid_template_rows": null,
            "height": null,
            "justify_content": null,
            "justify_items": null,
            "left": null,
            "margin": null,
            "max_height": null,
            "max_width": null,
            "min_height": null,
            "min_width": null,
            "object_fit": null,
            "object_position": null,
            "order": null,
            "overflow": null,
            "overflow_x": null,
            "overflow_y": null,
            "padding": null,
            "right": null,
            "top": null,
            "visibility": null,
            "width": null
          }
        },
        "b86cf43384ea4b2fb21a16a4d2c11042": {
          "model_module": "@jupyter-widgets/base",
          "model_name": "LayoutModel",
          "model_module_version": "1.2.0",
          "state": {
            "_model_module": "@jupyter-widgets/base",
            "_model_module_version": "1.2.0",
            "_model_name": "LayoutModel",
            "_view_count": null,
            "_view_module": "@jupyter-widgets/base",
            "_view_module_version": "1.2.0",
            "_view_name": "LayoutView",
            "align_content": null,
            "align_items": null,
            "align_self": null,
            "border": null,
            "bottom": null,
            "display": null,
            "flex": null,
            "flex_flow": null,
            "grid_area": null,
            "grid_auto_columns": null,
            "grid_auto_flow": null,
            "grid_auto_rows": null,
            "grid_column": null,
            "grid_gap": null,
            "grid_row": null,
            "grid_template_areas": null,
            "grid_template_columns": null,
            "grid_template_rows": null,
            "height": null,
            "justify_content": null,
            "justify_items": null,
            "left": null,
            "margin": null,
            "max_height": null,
            "max_width": null,
            "min_height": null,
            "min_width": null,
            "object_fit": null,
            "object_position": null,
            "order": null,
            "overflow": null,
            "overflow_x": null,
            "overflow_y": null,
            "padding": null,
            "right": null,
            "top": null,
            "visibility": null,
            "width": null
          }
        },
        "5cf13f68de53467da53d362454215b41": {
          "model_module": "@jupyter-widgets/controls",
          "model_name": "DescriptionStyleModel",
          "model_module_version": "1.5.0",
          "state": {
            "_model_module": "@jupyter-widgets/controls",
            "_model_module_version": "1.5.0",
            "_model_name": "DescriptionStyleModel",
            "_view_count": null,
            "_view_module": "@jupyter-widgets/base",
            "_view_module_version": "1.2.0",
            "_view_name": "StyleView",
            "description_width": ""
          }
        },
        "0931ff6b0bcf48b491862761c6bdc7f8": {
          "model_module": "@jupyter-widgets/base",
          "model_name": "LayoutModel",
          "model_module_version": "1.2.0",
          "state": {
            "_model_module": "@jupyter-widgets/base",
            "_model_module_version": "1.2.0",
            "_model_name": "LayoutModel",
            "_view_count": null,
            "_view_module": "@jupyter-widgets/base",
            "_view_module_version": "1.2.0",
            "_view_name": "LayoutView",
            "align_content": null,
            "align_items": null,
            "align_self": null,
            "border": null,
            "bottom": null,
            "display": null,
            "flex": null,
            "flex_flow": null,
            "grid_area": null,
            "grid_auto_columns": null,
            "grid_auto_flow": null,
            "grid_auto_rows": null,
            "grid_column": null,
            "grid_gap": null,
            "grid_row": null,
            "grid_template_areas": null,
            "grid_template_columns": null,
            "grid_template_rows": null,
            "height": null,
            "justify_content": null,
            "justify_items": null,
            "left": null,
            "margin": null,
            "max_height": null,
            "max_width": null,
            "min_height": null,
            "min_width": null,
            "object_fit": null,
            "object_position": null,
            "order": null,
            "overflow": null,
            "overflow_x": null,
            "overflow_y": null,
            "padding": null,
            "right": null,
            "top": null,
            "visibility": null,
            "width": null
          }
        },
        "615a235bbe2547fd8206d2a0cb5e2fae": {
          "model_module": "@jupyter-widgets/controls",
          "model_name": "ProgressStyleModel",
          "model_module_version": "1.5.0",
          "state": {
            "_model_module": "@jupyter-widgets/controls",
            "_model_module_version": "1.5.0",
            "_model_name": "ProgressStyleModel",
            "_view_count": null,
            "_view_module": "@jupyter-widgets/base",
            "_view_module_version": "1.2.0",
            "_view_name": "StyleView",
            "bar_color": null,
            "description_width": ""
          }
        },
        "e5f485f71aa94c82aaa4879417a03120": {
          "model_module": "@jupyter-widgets/base",
          "model_name": "LayoutModel",
          "model_module_version": "1.2.0",
          "state": {
            "_model_module": "@jupyter-widgets/base",
            "_model_module_version": "1.2.0",
            "_model_name": "LayoutModel",
            "_view_count": null,
            "_view_module": "@jupyter-widgets/base",
            "_view_module_version": "1.2.0",
            "_view_name": "LayoutView",
            "align_content": null,
            "align_items": null,
            "align_self": null,
            "border": null,
            "bottom": null,
            "display": null,
            "flex": null,
            "flex_flow": null,
            "grid_area": null,
            "grid_auto_columns": null,
            "grid_auto_flow": null,
            "grid_auto_rows": null,
            "grid_column": null,
            "grid_gap": null,
            "grid_row": null,
            "grid_template_areas": null,
            "grid_template_columns": null,
            "grid_template_rows": null,
            "height": null,
            "justify_content": null,
            "justify_items": null,
            "left": null,
            "margin": null,
            "max_height": null,
            "max_width": null,
            "min_height": null,
            "min_width": null,
            "object_fit": null,
            "object_position": null,
            "order": null,
            "overflow": null,
            "overflow_x": null,
            "overflow_y": null,
            "padding": null,
            "right": null,
            "top": null,
            "visibility": null,
            "width": null
          }
        },
        "702b4cc804984e889734cbb59a33ea80": {
          "model_module": "@jupyter-widgets/controls",
          "model_name": "DescriptionStyleModel",
          "model_module_version": "1.5.0",
          "state": {
            "_model_module": "@jupyter-widgets/controls",
            "_model_module_version": "1.5.0",
            "_model_name": "DescriptionStyleModel",
            "_view_count": null,
            "_view_module": "@jupyter-widgets/base",
            "_view_module_version": "1.2.0",
            "_view_name": "StyleView",
            "description_width": ""
          }
        },
        "e3a9273cfce34683aceb94f9400911df": {
          "model_module": "@jupyter-widgets/controls",
          "model_name": "HBoxModel",
          "model_module_version": "1.5.0",
          "state": {
            "_dom_classes": [],
            "_model_module": "@jupyter-widgets/controls",
            "_model_module_version": "1.5.0",
            "_model_name": "HBoxModel",
            "_view_count": null,
            "_view_module": "@jupyter-widgets/controls",
            "_view_module_version": "1.5.0",
            "_view_name": "HBoxView",
            "box_style": "",
            "children": [
              "IPY_MODEL_3face19161224a33b74a2e252ca6c830",
              "IPY_MODEL_7d7177a3bcc34472b867d4700b3af92e",
              "IPY_MODEL_d2ee327616f44710ac4081b869c64dae"
            ],
            "layout": "IPY_MODEL_dc75ecd43a724517b3426af5da0a329e"
          }
        },
        "3face19161224a33b74a2e252ca6c830": {
          "model_module": "@jupyter-widgets/controls",
          "model_name": "HTMLModel",
          "model_module_version": "1.5.0",
          "state": {
            "_dom_classes": [],
            "_model_module": "@jupyter-widgets/controls",
            "_model_module_version": "1.5.0",
            "_model_name": "HTMLModel",
            "_view_count": null,
            "_view_module": "@jupyter-widgets/controls",
            "_view_module_version": "1.5.0",
            "_view_name": "HTMLView",
            "description": "",
            "description_tooltip": null,
            "layout": "IPY_MODEL_8c4fb966e5a349518eea49029c0373ba",
            "placeholder": "​",
            "style": "IPY_MODEL_25a9c072b5924e7b8204c155cd41f5bb",
            "value": "generation_config.json: 100%"
          }
        },
        "7d7177a3bcc34472b867d4700b3af92e": {
          "model_module": "@jupyter-widgets/controls",
          "model_name": "FloatProgressModel",
          "model_module_version": "1.5.0",
          "state": {
            "_dom_classes": [],
            "_model_module": "@jupyter-widgets/controls",
            "_model_module_version": "1.5.0",
            "_model_name": "FloatProgressModel",
            "_view_count": null,
            "_view_module": "@jupyter-widgets/controls",
            "_view_module_version": "1.5.0",
            "_view_name": "ProgressView",
            "bar_style": "success",
            "description": "",
            "description_tooltip": null,
            "layout": "IPY_MODEL_0a162db167f042048be7a98da3c46aa3",
            "max": 147,
            "min": 0,
            "orientation": "horizontal",
            "style": "IPY_MODEL_8bf5d4307072473797555142e8188a3b",
            "value": 147
          }
        },
        "d2ee327616f44710ac4081b869c64dae": {
          "model_module": "@jupyter-widgets/controls",
          "model_name": "HTMLModel",
          "model_module_version": "1.5.0",
          "state": {
            "_dom_classes": [],
            "_model_module": "@jupyter-widgets/controls",
            "_model_module_version": "1.5.0",
            "_model_name": "HTMLModel",
            "_view_count": null,
            "_view_module": "@jupyter-widgets/controls",
            "_view_module_version": "1.5.0",
            "_view_name": "HTMLView",
            "description": "",
            "description_tooltip": null,
            "layout": "IPY_MODEL_ae1135384c1a4382a348d0a7678a98d0",
            "placeholder": "​",
            "style": "IPY_MODEL_47c5afeebfb94b06a22e97c35b83943a",
            "value": " 147/147 [00:00&lt;00:00, 10.2kB/s]"
          }
        },
        "dc75ecd43a724517b3426af5da0a329e": {
          "model_module": "@jupyter-widgets/base",
          "model_name": "LayoutModel",
          "model_module_version": "1.2.0",
          "state": {
            "_model_module": "@jupyter-widgets/base",
            "_model_module_version": "1.2.0",
            "_model_name": "LayoutModel",
            "_view_count": null,
            "_view_module": "@jupyter-widgets/base",
            "_view_module_version": "1.2.0",
            "_view_name": "LayoutView",
            "align_content": null,
            "align_items": null,
            "align_self": null,
            "border": null,
            "bottom": null,
            "display": null,
            "flex": null,
            "flex_flow": null,
            "grid_area": null,
            "grid_auto_columns": null,
            "grid_auto_flow": null,
            "grid_auto_rows": null,
            "grid_column": null,
            "grid_gap": null,
            "grid_row": null,
            "grid_template_areas": null,
            "grid_template_columns": null,
            "grid_template_rows": null,
            "height": null,
            "justify_content": null,
            "justify_items": null,
            "left": null,
            "margin": null,
            "max_height": null,
            "max_width": null,
            "min_height": null,
            "min_width": null,
            "object_fit": null,
            "object_position": null,
            "order": null,
            "overflow": null,
            "overflow_x": null,
            "overflow_y": null,
            "padding": null,
            "right": null,
            "top": null,
            "visibility": null,
            "width": null
          }
        },
        "8c4fb966e5a349518eea49029c0373ba": {
          "model_module": "@jupyter-widgets/base",
          "model_name": "LayoutModel",
          "model_module_version": "1.2.0",
          "state": {
            "_model_module": "@jupyter-widgets/base",
            "_model_module_version": "1.2.0",
            "_model_name": "LayoutModel",
            "_view_count": null,
            "_view_module": "@jupyter-widgets/base",
            "_view_module_version": "1.2.0",
            "_view_name": "LayoutView",
            "align_content": null,
            "align_items": null,
            "align_self": null,
            "border": null,
            "bottom": null,
            "display": null,
            "flex": null,
            "flex_flow": null,
            "grid_area": null,
            "grid_auto_columns": null,
            "grid_auto_flow": null,
            "grid_auto_rows": null,
            "grid_column": null,
            "grid_gap": null,
            "grid_row": null,
            "grid_template_areas": null,
            "grid_template_columns": null,
            "grid_template_rows": null,
            "height": null,
            "justify_content": null,
            "justify_items": null,
            "left": null,
            "margin": null,
            "max_height": null,
            "max_width": null,
            "min_height": null,
            "min_width": null,
            "object_fit": null,
            "object_position": null,
            "order": null,
            "overflow": null,
            "overflow_x": null,
            "overflow_y": null,
            "padding": null,
            "right": null,
            "top": null,
            "visibility": null,
            "width": null
          }
        },
        "25a9c072b5924e7b8204c155cd41f5bb": {
          "model_module": "@jupyter-widgets/controls",
          "model_name": "DescriptionStyleModel",
          "model_module_version": "1.5.0",
          "state": {
            "_model_module": "@jupyter-widgets/controls",
            "_model_module_version": "1.5.0",
            "_model_name": "DescriptionStyleModel",
            "_view_count": null,
            "_view_module": "@jupyter-widgets/base",
            "_view_module_version": "1.2.0",
            "_view_name": "StyleView",
            "description_width": ""
          }
        },
        "0a162db167f042048be7a98da3c46aa3": {
          "model_module": "@jupyter-widgets/base",
          "model_name": "LayoutModel",
          "model_module_version": "1.2.0",
          "state": {
            "_model_module": "@jupyter-widgets/base",
            "_model_module_version": "1.2.0",
            "_model_name": "LayoutModel",
            "_view_count": null,
            "_view_module": "@jupyter-widgets/base",
            "_view_module_version": "1.2.0",
            "_view_name": "LayoutView",
            "align_content": null,
            "align_items": null,
            "align_self": null,
            "border": null,
            "bottom": null,
            "display": null,
            "flex": null,
            "flex_flow": null,
            "grid_area": null,
            "grid_auto_columns": null,
            "grid_auto_flow": null,
            "grid_auto_rows": null,
            "grid_column": null,
            "grid_gap": null,
            "grid_row": null,
            "grid_template_areas": null,
            "grid_template_columns": null,
            "grid_template_rows": null,
            "height": null,
            "justify_content": null,
            "justify_items": null,
            "left": null,
            "margin": null,
            "max_height": null,
            "max_width": null,
            "min_height": null,
            "min_width": null,
            "object_fit": null,
            "object_position": null,
            "order": null,
            "overflow": null,
            "overflow_x": null,
            "overflow_y": null,
            "padding": null,
            "right": null,
            "top": null,
            "visibility": null,
            "width": null
          }
        },
        "8bf5d4307072473797555142e8188a3b": {
          "model_module": "@jupyter-widgets/controls",
          "model_name": "ProgressStyleModel",
          "model_module_version": "1.5.0",
          "state": {
            "_model_module": "@jupyter-widgets/controls",
            "_model_module_version": "1.5.0",
            "_model_name": "ProgressStyleModel",
            "_view_count": null,
            "_view_module": "@jupyter-widgets/base",
            "_view_module_version": "1.2.0",
            "_view_name": "StyleView",
            "bar_color": null,
            "description_width": ""
          }
        },
        "ae1135384c1a4382a348d0a7678a98d0": {
          "model_module": "@jupyter-widgets/base",
          "model_name": "LayoutModel",
          "model_module_version": "1.2.0",
          "state": {
            "_model_module": "@jupyter-widgets/base",
            "_model_module_version": "1.2.0",
            "_model_name": "LayoutModel",
            "_view_count": null,
            "_view_module": "@jupyter-widgets/base",
            "_view_module_version": "1.2.0",
            "_view_name": "LayoutView",
            "align_content": null,
            "align_items": null,
            "align_self": null,
            "border": null,
            "bottom": null,
            "display": null,
            "flex": null,
            "flex_flow": null,
            "grid_area": null,
            "grid_auto_columns": null,
            "grid_auto_flow": null,
            "grid_auto_rows": null,
            "grid_column": null,
            "grid_gap": null,
            "grid_row": null,
            "grid_template_areas": null,
            "grid_template_columns": null,
            "grid_template_rows": null,
            "height": null,
            "justify_content": null,
            "justify_items": null,
            "left": null,
            "margin": null,
            "max_height": null,
            "max_width": null,
            "min_height": null,
            "min_width": null,
            "object_fit": null,
            "object_position": null,
            "order": null,
            "overflow": null,
            "overflow_x": null,
            "overflow_y": null,
            "padding": null,
            "right": null,
            "top": null,
            "visibility": null,
            "width": null
          }
        },
        "47c5afeebfb94b06a22e97c35b83943a": {
          "model_module": "@jupyter-widgets/controls",
          "model_name": "DescriptionStyleModel",
          "model_module_version": "1.5.0",
          "state": {
            "_model_module": "@jupyter-widgets/controls",
            "_model_module_version": "1.5.0",
            "_model_name": "DescriptionStyleModel",
            "_view_count": null,
            "_view_module": "@jupyter-widgets/base",
            "_view_module_version": "1.2.0",
            "_view_name": "StyleView",
            "description_width": ""
          }
        }
      }
    }
  },
  "nbformat": 4,
  "nbformat_minor": 0
}