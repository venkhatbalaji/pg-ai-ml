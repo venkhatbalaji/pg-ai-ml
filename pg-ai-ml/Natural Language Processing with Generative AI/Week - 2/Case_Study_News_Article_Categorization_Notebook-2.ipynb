{
  "cells": [
    {
      "cell_type": "markdown",
      "metadata": {
        "id": "egcQ3iww-5r-"
      },
      "source": [
        "<center><p float=\"center\">\n",
        "  <img src=\"https://upload.wikimedia.org/wikipedia/commons/e/e9/4_RGB_McCombs_School_Brand_Branded.png\" width=\"300\" height=\"100\"/>\n",
        "  <img src=\"https://mma.prnewswire.com/media/1458111/Great_Learning_Logo.jpg?p=facebook\" width=\"200\" height=\"100\"/>\n",
        "</p></center>\n",
        "\n",
        "<center><font size=10>Artificial Intelligence and Machine Learning</font></center>\n",
        "<center><font size=6>Attention Mechanism and Transformers</font></center>"
      ]
    },
    {
      "cell_type": "markdown",
      "metadata": {
        "id": "KI4_2mwl_ARc"
      },
      "source": [
        "<center><p float=\"center\">\n",
        "  <img src=\"https://images.pexels.com/photos/4185957/pexels-photo-4185957.jpeg?auto=compress&cs=tinysrgb&w=1260&h=750&dpr=1\" width=\"720\"/>\n",
        "</p></center>\n",
        "\n",
        "<center><font size=6>News Article Categorization</font></center>"
      ]
    },
    {
      "cell_type": "markdown",
      "metadata": {
        "id": "MjncuDf2qugI"
      },
      "source": [
        "## **Problem Statement**"
      ]
    },
    {
      "cell_type": "markdown",
      "metadata": {
        "id": "x9VSf2D_F5iU"
      },
      "source": [
        "### Business Context"
      ]
    },
    {
      "cell_type": "markdown",
      "metadata": {
        "id": "RLApwDNbFDEK"
      },
      "source": [
        "In the dynamic landscape of the media and news industry, the ability to swiftly categorize and curate content has become a strategic imperative. The vast volume of information demands efficient systems to organize and present content to the audience.\n",
        "\n",
        "The media industry, being the pulse of information dissemination, grapples with the continuous influx of news articles spanning diverse topics. Ensuring that the right articles reach the right audience promptly is not just a logistical necessity but a critical component in retaining and engaging audiences in an age of information overload.\n",
        "\n",
        "Common Industry Challenges:\n",
        "Amidst the ceaseless flow of news, organizations encounter challenges such as:\n",
        "- Information Overload: The sheer volume of news articles makes manual categorization impractical.\n",
        "- Timeliness: Delays in categorizing news articles can result in outdated or misplaced content."
      ]
    },
    {
      "cell_type": "markdown",
      "metadata": {
        "id": "MzSKXh2LsOvd"
      },
      "source": [
        "### Problem Definition"
      ]
    },
    {
      "cell_type": "markdown",
      "metadata": {
        "id": "PdEWl1qZFNWM"
      },
      "source": [
        "E-news Express, a news aggregation startup, faces the challenge of categorizing the news articles collected. With news articles covering sports, entertainment, politics, and more, the need for an advanced and automated system to categorize them has become increasingly evident. The manual efforts required for categorizing such a diverse range of news articles are substantial, and human errors in the categorization of news articles can lead to reputational damage for the startup. There is also the factor of delays and potential inaccuracies. To streamline and optimize this process, the organization recognizes the imperative of adopting cutting-edge technologies, particularly machine learning, to automate and enhance the categorization of content.\n",
        "\n",
        "As a data scientist on the E-news Express data team, the task is to analyze the text in news articles and build an unsupervised learning model for categorizing them. The categorization done by the model can then be validated against human-defined labels to check the overall accuracy of the AI system. The goal is to optimize the categorization process, ensuring timely and personalized delivery."
      ]
    },
    {
      "cell_type": "markdown",
      "metadata": {
        "id": "saFx1pbT_zTP"
      },
      "source": [
        "### Data Dictionary"
      ]
    },
    {
      "cell_type": "markdown",
      "metadata": {
        "id": "5rJpifbLGVDe"
      },
      "source": [
        "- **Text**: The main body of the news article"
      ]
    },
    {
      "cell_type": "markdown",
      "metadata": {
        "id": "svwbW6qDUB_B"
      },
      "source": [
        "## **Installing and importing the necessary libraries**"
      ]
    },
    {
      "cell_type": "code",
      "execution_count": null,
      "metadata": {
        "id": "EvO3P-BZT-ZV"
      },
      "outputs": [],
      "source": [
        "# Installing the libraries with the specified versions\n",
        "!pip install pandas==2.2.2 numpy==2.0.2 matplotlib==3.10.0 seaborn==0.13.2 scipy==1.15.3 scikit-learn==1.6.1 torch==2.6.0+cu124 sentence-transformers==4.1.0 -q"
      ]
    },
    {
      "cell_type": "markdown",
      "source": [
        "**Note**:\n",
        "- After running the above cell, kindly restart the runtime (for Google Colab) or notebook kernel (for Jupyter Notebook), and run all cells sequentially from the next cell.\n",
        "- On executing the above line of code, you might see a warning regarding package dependencies. This error message can be ignored as the above code ensures that all necessary libraries and their dependencies are maintained to successfully execute the code in ***this notebook***."
      ],
      "metadata": {
        "id": "2Uam48VCiswx"
      }
    },
    {
      "cell_type": "code",
      "execution_count": null,
      "metadata": {
        "id": "47oRo-kTaR02"
      },
      "outputs": [],
      "source": [
        "# to read and manipulate the data\n",
        "import pandas as pd\n",
        "import numpy as np\n",
        "pd.set_option('max_colwidth', None)    # setting column to the maximum column width as per the data\n",
        "\n",
        "# to visualise data\n",
        "import matplotlib.pyplot as plt\n",
        "import seaborn as sns\n",
        "\n",
        "# to compute distances\n",
        "from scipy.spatial.distance import cdist, pdist\n",
        "from scipy.spatial import distance\n",
        "from sklearn.metrics import silhouette_score\n",
        "\n",
        "# importing the PyTorch Deep Learning library\n",
        "import torch\n",
        "\n",
        "# to import the model\n",
        "from sentence_transformers import SentenceTransformer\n",
        "\n",
        "# to cluster the data\n",
        "from sklearn.cluster import KMeans\n",
        "\n",
        "# to compute metrics\n",
        "from sklearn.metrics import classification_report\n",
        "\n",
        "# to avoid displaying unnecessary warnings\n",
        "import warnings\n",
        "warnings.filterwarnings(\"ignore\")"
      ]
    },
    {
      "cell_type": "markdown",
      "metadata": {
        "id": "N-PA0a0AUnrR"
      },
      "source": [
        "## **Loading the dataset**"
      ]
    },
    {
      "cell_type": "code",
      "execution_count": null,
      "metadata": {
        "id": "ZVWbBVQaKwUV"
      },
      "outputs": [],
      "source": [
        "# uncomment and run the below code snippets if the dataset is present in the Google Drive\n",
        "# from google.colab import drive\n",
        "# drive.mount('/content/drive')"
      ]
    },
    {
      "cell_type": "code",
      "execution_count": null,
      "metadata": {
        "id": "y7VtUDiSUp0C"
      },
      "outputs": [],
      "source": [
        "reviews = pd.read_csv(\"news_articles.csv\")"
      ]
    },
    {
      "cell_type": "code",
      "execution_count": null,
      "metadata": {
        "id": "482415eWbJ94"
      },
      "outputs": [],
      "source": [
        "# creating a copy of the dataset\n",
        "data = reviews.copy()"
      ]
    },
    {
      "cell_type": "markdown",
      "metadata": {
        "id": "vvlzvKeqAH-i"
      },
      "source": [
        "## **Data Overview**"
      ]
    },
    {
      "cell_type": "markdown",
      "metadata": {
        "id": "cIH4md8nAL4v"
      },
      "source": [
        "### Checking the first five rows of the data"
      ]
    },
    {
      "cell_type": "code",
      "execution_count": null,
      "metadata": {
        "colab": {
          "base_uri": "https://localhost:8080/"
        },
        "id": "MKS-Z7GiCmWX",
        "outputId": "1db5c192-2ca4-45de-ab96-9ec25511b157"
      },
      "outputs": [
        {
          "output_type": "execute_result",
          "data": {
            "text/plain": [
              "                                                                                                                                                                                                                                                                                                                                                                                                                                                                                                                                                                                                                                                                                                                                                                                                                                                                                                                                                                                                                                                                                                                                                                                                                                                                                                                                                                                                                                                                                                                                                                                                                                                                                                                                                                                                                                                                                                                                                                                                                                                                                                                                                                                                                                                                                                                                                                                                                                                                                                                                                                                                                                                                                                                                                                                                                                                                                                                                                                                                                                                                                                                                                                                                                                                                                                             Text\n",
              "0                     Budget to set scene for election\\n \\n Gordon Brown will seek to put the economy at the centre of Labour's bid for a third term in power when he delivers his ninth Budget at 1230 GMT. He is expected to stress the importance of continued economic stability, with low unemployment and interest rates. The chancellor is expected to freeze petrol duty and raise the stamp duty threshold from Â£60,000. But the Conservatives and Lib Dems insist voters face higher taxes and more means-testing under Labour.\\n \\n Treasury officials have said there will not be a pre-election giveaway, but Mr Brown is thought to have about Â£2bn to spare.\\n \\n - Increase in the stamp duty threshold from Â£60,000 \\n  - A freeze on petrol duty \\n  - An extension of tax credit scheme for poorer families \\n  - Possible help for pensioners The stamp duty threshold rise is intended to help first time buyers - a likely theme of all three of the main parties' general election manifestos. Ten years ago, buyers had a much greater chance of avoiding stamp duty, with close to half a million properties, in England and Wales alone, selling for less than Â£60,000. Since then, average UK property prices have more than doubled while the starting threshold for stamp duty has not increased. Tax credits As a result, the number of properties incurring stamp duty has rocketed as has the government's tax take. The Liberal Democrats unveiled their own proposals to raise the stamp duty threshold to Â£150,000 in February.\\n \\n The Tories are also thought likely to propose increased thresholds, with shadow chancellor Oliver Letwin branding stamp duty a \"classic Labour stealth tax\". The Tories say whatever the chancellor gives away will be clawed back in higher taxes if Labour is returned to power. Shadow Treasury chief secretary George Osborne said: \"Everyone who looks at the British economy at the moment says there has been a sharp deterioration in the public finances, that there is a black hole,\" he said. \"If Labour is elected there will be a very substantial tax increase in the Budget after the election, of the order of around Â£10bn.\"\\n \\n But Mr Brown's former advisor Ed Balls, now a parliamentary hopeful, said an examination of Tory plans for the economy showed there would be a Â£35bn difference in investment by the end of the next parliament between the two main parties. He added: \"I don't accept there is any need for any changes to the plans we have set out to meet our spending commitments.\"\\n \\n For the Lib Dems David Laws said: \"The chancellor will no doubt tell us today how wonderfully the economy is doing,\" he said. \"But a lot of that is built on an increase in personal and consumer debt over the last few years - that makes the economy quite vulnerable potentially if interest rates ever do have to go up in a significant way.\" SNP leader Alex Salmond said his party would introduce a Â£2,000 grant for first time buyers, reduce corporation tax and introduce a citizens pension free from means testing. Plaid Cymru's economics spokesman Adam Price said he wanted help to get people on the housing ladder and an increase in the minimum wage to Â£5.60 an hour.\\n\n",
              "1                                                                                                                                                     Army chiefs in regiments decision\\n \\n Military chiefs are expected to meet to make a final decision on the future of Scotland's Army regiments.\\n \\n A committee of the Army Board, which is made up of the most senior defence figures, will discuss plans for restructuring regiments on Monday. The proposals include cutting Scotland's six single-battalion regiments to five and merging these into a super regiment. The plans have faced stiff opposition from campaigners and politicians alike. The committee's decision must be ratified by Defence Secretary Geoff Hoon and Prime Minister Tony Blair. It is expected that it will be made public next week. When ministers announced a reorganisation of the Army it drew a question mark over the futures of the Black Watch, the Kings Own Scottish Borderers, the Royal Scots, the Royal Highland Fusiliers and the Argyll and Sutherland Highlanders. In October, the Council of Scottish Colonels proposed the merger of the Royal Scots and the King's Own Scottish Borderers into a single battalion.\\n \\n Under their vision, it would be one of five in the new super regiment. The proposals to either merge or amalgamate the six regiments into a super regiment sparked a political outcry, with Labour backbenchers and opposition politicians opposing the plan. They felt the timing was insensitive because the Black Watch was in the frontline in Iraq, suffering casualties. The Save the Scottish Regiments campaigners were so angered they threatened to stand against Labour at the next general election.\\n \\n Speaking ahead of the expected Army Board meeting, a spokesman said: \"The government and the Army Board have spent the past four months attempting to trick serving soldiers and the public into thinking their planned changes for the Scottish regiments are for the good of the Army and for that of the serving soldier. \"They are very much not for the good and will destroy Scotland's regiments by moulding them into a single super regiment which will lead to severe recruitment problems, a loss of local connections to those regiments and a loss to Scotland of an important part of her heritage and, most importantly, her future - the regiments are the envy of armies around the world.\" An alternative blueprint had been put forward by Labour MP Eric Joyce, who proposed going ahead with the merger while preserving the other regiments. For a brief time, there was speculation the prime minister might consider the plan, but that now seems unlikely. Speaking in Scotland last week, Mr Blair said the aim was to preserve tradition but introduce a more effective structure and hinted that a super regiment was likely. He said: \"They don't want to get rid of the history or the traditions of the regiment or the local connections - far from it, all they want to do is make sure they can transfer people easily across regiments and deploy them more flexibly.\" The prime minister said he hoped campaigners' concerns would be taken into account but the need for effective change had to be paramount.\\n\n",
              "2  Howard denies split over ID cards\\n \\n Michael Howard has denied his shadow cabinet was split over its decision to back controversial Labour plans to introduce ID cards.\\n \\n The Tory leader said his front bench team had reached a \"collective view\" after holding a \"good discussion\", but admitted it was \"not an easy issue\". He had decided to support the plans as the police said they would help fight terror, crime and illegal immigration. The Lib Dems have pledged to oppose the bill when it is debated next Monday.\\n \\n Tory sources say senior party figures had argued vociferously against the ID card scheme. Among those reported to have serious reservations over the strategy were senior shadow cabinet members David Davis, Oliver Letwin and Tim Yeo. But Mr Howard denied Mr Yeo, his transport and environment spokesman, said the plans \"stink\". He also said he was confident shadow home secretary Mr Davis would \"set out the position very clearly\" when he stands up to debate the matter next week. Mr Howard said the police had said ID cards could \"help them foil a terror bomb plot in which people could lose their lives\". He added: \"When the police say that you have to take them seriously\".\\n \\n He acknowledged there were \"good libertarian arguments\" against the cards, but said the shadow Cabinet had weighed up all the \"conflicting interests\" before reaching its decision. \"I don't pretend that it is an easy decision but at the end of the day a decision has to be taken.\" He also denied he was afraid of looking \"soft\" on the issue, compared to Labour. The Conservatives announced their support for the government plans on Monday evening.\\n \\n Sources within the party told the BBC Mr Howard had always been in favour of ID cards, and tried to introduce them when he was Home Secretary. But the Tories insisted they would hold ministers to account over the precise purpose of the scheme.\\n \\n They said they would also press Labour over whether objectives could be met and whether the Home Office would be able to deliver them. And they pledged to assess the cost effectiveness of ID cards and whether people's privacy would be properly protected. \"It is important to remember that this bill will take a decade to come into full effect,\" a spokesman said. Lib Dem home affairs spokesman Mark Oaten has branded the ID scheme a waste of money and \"deeply flawed\". He said: \"This has all the signs of Michael Howard overruling colleagues' concerns over ID cards.\"\\n \\n The chairman of the Bar Council, Guy Mansfield QC warned there was a real risk that people on the \"margins of society\" would be driven into the hands of extremists. \"What is going to happen to young Asian men when there has been a bomb gone off somewhere? They are going to be stopped. If they haven't [ID cards] they are going to be detained.\" Tory ex-minister Douglas Hogg said he opposed the plans for ID cards branding them a \"regressive\" step which would intrude into the lives of ordinary citizens without any counterbalancing benefits. He predicted ultimately carrying the cards would become compulsory and that would lead to large numbers of Britain's ethnic minorities being stopped by police.\\n\n",
              "3                                                                             Observers to monitor UK election\\n \\n Ministers will invite international observers to check the forthcoming UK general election is fairly run.\\n \\n The move comes amid claims the poll could be marred by electoral fraud. A report by two MPs committees called on Thursday for urgent changes to the electoral registration system to combat vote rigging and boost turnout. But in a written response to Labour MP Gordon Prentice, the government said it would normally invite observers to any UK election.\\n \\n Junior constitutional affairs minister Christopher Leslie said: \"I fully expect us to repeat our previous practice of doing so once the date for the next general election is announced.\" The government has looked at ways of boosting voter turnout, which fell to 59% in the last general election in 2001.\\n \\n But trial all-postal ballots in four English regions last summer were hit by delays and some fraud allegations. Liberal Democrat peer Lord Greaves called last week for international observers at the general election - saying otherwise there could be months of court challenges \"on a scale not seen since the 19th Century\". Thursday's report was drawn up by two committees scrutinising the work of the Office of the Deputy Prime Minister (ODPM) and the Department for Constitutional Affairs (DCA). It said that, with the growth of postal voting, there was a strong case to tighten up fraud protection by requiring voters to register individually, rather than by household. It also said about three million people eligible to vote are not registered to do so.\\n \\n Figures for the 2001 general election suggest 29% of people aged between 18 and 24, and 19% of black voters were not on the electoral roll. Young people in shared accommodation are thought to miss out because no one acts as head of the household to fill in the form. ODPM committee chairman Andrew Bennett said individual voter registration, as opposed to registration by household, should be quickly introduced as it could \"dramatically reduce the chances of fraud\". But his counterpart on the DCA committee, Alan Beith, said it should be delayed \"until measures likely to increase registration have been put in place and proved effective.\" Shadow Constitutional Affairs Secretary Oliver Heald accused the government of \"dragging its feet\" over \"this badly needed measure\". \"It is vital that we move ahead with the Northern Ireland system of individual electoral registration to safeguard the integrity of the Britain's electoral system,\" he said.\\n \\n The report said individual registration should be treated carefully as 12% of voters disappeared from the electoral roll in Northern Ireland when it was introduced in 2002. The report said the government should consider fines for unregistered voters, but accepted many experts said it would be an expensive system that would be hard to enforce. It said incentives to register, such as Â£20 council tax rebate, were likely to be seen as \"gimmicks\" and risked undermining the integrity of the system, MPs said. Instead they called for \"imaginative campaigns\" to boost interest.\\n\n",
              "4                                                                                                                                                                                                                                                                                                                                                                                                                                                                                                                                                                               Kilroy names election seat target\\n \\n Ex-chat show host Robert Kilroy-Silk is to contest the Derbyshire seat of Erewash at the next general election.\\n \\n Labour's Elizabeth Blackman won the seat in 1997 and has a 6,932 majority. She says she will fight on her record \"as a hard-working constituency MP\". Mr Kilroy-Silk announced his plans a day after launching his new party, Veritas, the Latin for truth. The East Midlands MEP, who quit the UK Independence Party, wants his new group to \"change the face\" of UK politics. His choice of election constituency quashes speculation that he would stand against Defence Secretary Geoff Hoon in Ashfield, Nottinghamshire. UKIP won 31% of the vote in Erewash in last June's European elections - with Mr Kilroy-Silk among their candidates for the region. Until 1997, Erewash had been held by the Tories since 1970. Ms Blackman said she was proud of the government's achievements in the area. She declined to give her view of Mr Kilroy-Silk at this point.\\n \\n On Thursday, he told a London news conference that Veritas would avoid the old parties' \"lies and spin\". He said \"our country\" was being \"stolen from us\" by mass immigration and promised a \"firm but fair\" policy on immigration. Veritas says it hopes to contest most seats at the forthcoming general election but plans to announce detailed policies on crime, tax, pensions, health and defence over the next few weeks.\\n \\n UKIP leader Roger Knapman says he is glad to see the back of Mr Kilroy-Silk. Labour campaign spokesman Fraser Kemp said Veritas was joining \"an already crowded field on the right of British politics\". Mr Kilroy-Silk was joined in the new venture by one of UKIP's two London Assembly members, Damien Hockney, who is now Veritas' deputy leader.\\n \\n UKIP's chairman Petrina Holdsworth has said the group will just be a parody of the party the men have left. Mr Kilroy-Silk quit UKIP last week after months of tension as he vied unsuccessfully for the leadership of that party. He said he was ashamed to be a member of a UKIP whose leadership had \"gone AWOL\" after the great opportunity offered by its third place at last June's European elections. UKIP's leader, Roger Knapman, has said he is glad to see the back of Mr Kilroy-Silk. \"He has remarkable ability to influence people but, sadly, after the [European] election it became clear that he was more interested in the Robert Kilroy-Silk Party than the UK Independence Party so it was nice knowing him, now 'goodbye',\" he said. UKIP officials also argue Mr Kilroy-Silk has not been \"straightforward\" in attacking the party he once wanted to lead.\\n"
            ],
            "text/html": [
              "\n",
              "  <div id=\"df-874a6515-04d5-4536-81ee-57675dae4869\" class=\"colab-df-container\">\n",
              "    <div>\n",
              "<style scoped>\n",
              "    .dataframe tbody tr th:only-of-type {\n",
              "        vertical-align: middle;\n",
              "    }\n",
              "\n",
              "    .dataframe tbody tr th {\n",
              "        vertical-align: top;\n",
              "    }\n",
              "\n",
              "    .dataframe thead th {\n",
              "        text-align: right;\n",
              "    }\n",
              "</style>\n",
              "<table border=\"1\" class=\"dataframe\">\n",
              "  <thead>\n",
              "    <tr style=\"text-align: right;\">\n",
              "      <th></th>\n",
              "      <th>Text</th>\n",
              "    </tr>\n",
              "  </thead>\n",
              "  <tbody>\n",
              "    <tr>\n",
              "      <th>0</th>\n",
              "      <td>Budget to set scene for election\\n \\n Gordon Brown will seek to put the economy at the centre of Labour's bid for a third term in power when he delivers his ninth Budget at 1230 GMT. He is expected to stress the importance of continued economic stability, with low unemployment and interest rates. The chancellor is expected to freeze petrol duty and raise the stamp duty threshold from Â£60,000. But the Conservatives and Lib Dems insist voters face higher taxes and more means-testing under Labour.\\n \\n Treasury officials have said there will not be a pre-election giveaway, but Mr Brown is thought to have about Â£2bn to spare.\\n \\n - Increase in the stamp duty threshold from Â£60,000 \\n  - A freeze on petrol duty \\n  - An extension of tax credit scheme for poorer families \\n  - Possible help for pensioners The stamp duty threshold rise is intended to help first time buyers - a likely theme of all three of the main parties' general election manifestos. Ten years ago, buyers had a much greater chance of avoiding stamp duty, with close to half a million properties, in England and Wales alone, selling for less than Â£60,000. Since then, average UK property prices have more than doubled while the starting threshold for stamp duty has not increased. Tax credits As a result, the number of properties incurring stamp duty has rocketed as has the government's tax take. The Liberal Democrats unveiled their own proposals to raise the stamp duty threshold to Â£150,000 in February.\\n \\n The Tories are also thought likely to propose increased thresholds, with shadow chancellor Oliver Letwin branding stamp duty a \"classic Labour stealth tax\". The Tories say whatever the chancellor gives away will be clawed back in higher taxes if Labour is returned to power. Shadow Treasury chief secretary George Osborne said: \"Everyone who looks at the British economy at the moment says there has been a sharp deterioration in the public finances, that there is a black hole,\" he said. \"If Labour is elected there will be a very substantial tax increase in the Budget after the election, of the order of around Â£10bn.\"\\n \\n But Mr Brown's former advisor Ed Balls, now a parliamentary hopeful, said an examination of Tory plans for the economy showed there would be a Â£35bn difference in investment by the end of the next parliament between the two main parties. He added: \"I don't accept there is any need for any changes to the plans we have set out to meet our spending commitments.\"\\n \\n For the Lib Dems David Laws said: \"The chancellor will no doubt tell us today how wonderfully the economy is doing,\" he said. \"But a lot of that is built on an increase in personal and consumer debt over the last few years - that makes the economy quite vulnerable potentially if interest rates ever do have to go up in a significant way.\" SNP leader Alex Salmond said his party would introduce a Â£2,000 grant for first time buyers, reduce corporation tax and introduce a citizens pension free from means testing. Plaid Cymru's economics spokesman Adam Price said he wanted help to get people on the housing ladder and an increase in the minimum wage to Â£5.60 an hour.\\n</td>\n",
              "    </tr>\n",
              "    <tr>\n",
              "      <th>1</th>\n",
              "      <td>Army chiefs in regiments decision\\n \\n Military chiefs are expected to meet to make a final decision on the future of Scotland's Army regiments.\\n \\n A committee of the Army Board, which is made up of the most senior defence figures, will discuss plans for restructuring regiments on Monday. The proposals include cutting Scotland's six single-battalion regiments to five and merging these into a super regiment. The plans have faced stiff opposition from campaigners and politicians alike. The committee's decision must be ratified by Defence Secretary Geoff Hoon and Prime Minister Tony Blair. It is expected that it will be made public next week. When ministers announced a reorganisation of the Army it drew a question mark over the futures of the Black Watch, the Kings Own Scottish Borderers, the Royal Scots, the Royal Highland Fusiliers and the Argyll and Sutherland Highlanders. In October, the Council of Scottish Colonels proposed the merger of the Royal Scots and the King's Own Scottish Borderers into a single battalion.\\n \\n Under their vision, it would be one of five in the new super regiment. The proposals to either merge or amalgamate the six regiments into a super regiment sparked a political outcry, with Labour backbenchers and opposition politicians opposing the plan. They felt the timing was insensitive because the Black Watch was in the frontline in Iraq, suffering casualties. The Save the Scottish Regiments campaigners were so angered they threatened to stand against Labour at the next general election.\\n \\n Speaking ahead of the expected Army Board meeting, a spokesman said: \"The government and the Army Board have spent the past four months attempting to trick serving soldiers and the public into thinking their planned changes for the Scottish regiments are for the good of the Army and for that of the serving soldier. \"They are very much not for the good and will destroy Scotland's regiments by moulding them into a single super regiment which will lead to severe recruitment problems, a loss of local connections to those regiments and a loss to Scotland of an important part of her heritage and, most importantly, her future - the regiments are the envy of armies around the world.\" An alternative blueprint had been put forward by Labour MP Eric Joyce, who proposed going ahead with the merger while preserving the other regiments. For a brief time, there was speculation the prime minister might consider the plan, but that now seems unlikely. Speaking in Scotland last week, Mr Blair said the aim was to preserve tradition but introduce a more effective structure and hinted that a super regiment was likely. He said: \"They don't want to get rid of the history or the traditions of the regiment or the local connections - far from it, all they want to do is make sure they can transfer people easily across regiments and deploy them more flexibly.\" The prime minister said he hoped campaigners' concerns would be taken into account but the need for effective change had to be paramount.\\n</td>\n",
              "    </tr>\n",
              "    <tr>\n",
              "      <th>2</th>\n",
              "      <td>Howard denies split over ID cards\\n \\n Michael Howard has denied his shadow cabinet was split over its decision to back controversial Labour plans to introduce ID cards.\\n \\n The Tory leader said his front bench team had reached a \"collective view\" after holding a \"good discussion\", but admitted it was \"not an easy issue\". He had decided to support the plans as the police said they would help fight terror, crime and illegal immigration. The Lib Dems have pledged to oppose the bill when it is debated next Monday.\\n \\n Tory sources say senior party figures had argued vociferously against the ID card scheme. Among those reported to have serious reservations over the strategy were senior shadow cabinet members David Davis, Oliver Letwin and Tim Yeo. But Mr Howard denied Mr Yeo, his transport and environment spokesman, said the plans \"stink\". He also said he was confident shadow home secretary Mr Davis would \"set out the position very clearly\" when he stands up to debate the matter next week. Mr Howard said the police had said ID cards could \"help them foil a terror bomb plot in which people could lose their lives\". He added: \"When the police say that you have to take them seriously\".\\n \\n He acknowledged there were \"good libertarian arguments\" against the cards, but said the shadow Cabinet had weighed up all the \"conflicting interests\" before reaching its decision. \"I don't pretend that it is an easy decision but at the end of the day a decision has to be taken.\" He also denied he was afraid of looking \"soft\" on the issue, compared to Labour. The Conservatives announced their support for the government plans on Monday evening.\\n \\n Sources within the party told the BBC Mr Howard had always been in favour of ID cards, and tried to introduce them when he was Home Secretary. But the Tories insisted they would hold ministers to account over the precise purpose of the scheme.\\n \\n They said they would also press Labour over whether objectives could be met and whether the Home Office would be able to deliver them. And they pledged to assess the cost effectiveness of ID cards and whether people's privacy would be properly protected. \"It is important to remember that this bill will take a decade to come into full effect,\" a spokesman said. Lib Dem home affairs spokesman Mark Oaten has branded the ID scheme a waste of money and \"deeply flawed\". He said: \"This has all the signs of Michael Howard overruling colleagues' concerns over ID cards.\"\\n \\n The chairman of the Bar Council, Guy Mansfield QC warned there was a real risk that people on the \"margins of society\" would be driven into the hands of extremists. \"What is going to happen to young Asian men when there has been a bomb gone off somewhere? They are going to be stopped. If they haven't [ID cards] they are going to be detained.\" Tory ex-minister Douglas Hogg said he opposed the plans for ID cards branding them a \"regressive\" step which would intrude into the lives of ordinary citizens without any counterbalancing benefits. He predicted ultimately carrying the cards would become compulsory and that would lead to large numbers of Britain's ethnic minorities being stopped by police.\\n</td>\n",
              "    </tr>\n",
              "    <tr>\n",
              "      <th>3</th>\n",
              "      <td>Observers to monitor UK election\\n \\n Ministers will invite international observers to check the forthcoming UK general election is fairly run.\\n \\n The move comes amid claims the poll could be marred by electoral fraud. A report by two MPs committees called on Thursday for urgent changes to the electoral registration system to combat vote rigging and boost turnout. But in a written response to Labour MP Gordon Prentice, the government said it would normally invite observers to any UK election.\\n \\n Junior constitutional affairs minister Christopher Leslie said: \"I fully expect us to repeat our previous practice of doing so once the date for the next general election is announced.\" The government has looked at ways of boosting voter turnout, which fell to 59% in the last general election in 2001.\\n \\n But trial all-postal ballots in four English regions last summer were hit by delays and some fraud allegations. Liberal Democrat peer Lord Greaves called last week for international observers at the general election - saying otherwise there could be months of court challenges \"on a scale not seen since the 19th Century\". Thursday's report was drawn up by two committees scrutinising the work of the Office of the Deputy Prime Minister (ODPM) and the Department for Constitutional Affairs (DCA). It said that, with the growth of postal voting, there was a strong case to tighten up fraud protection by requiring voters to register individually, rather than by household. It also said about three million people eligible to vote are not registered to do so.\\n \\n Figures for the 2001 general election suggest 29% of people aged between 18 and 24, and 19% of black voters were not on the electoral roll. Young people in shared accommodation are thought to miss out because no one acts as head of the household to fill in the form. ODPM committee chairman Andrew Bennett said individual voter registration, as opposed to registration by household, should be quickly introduced as it could \"dramatically reduce the chances of fraud\". But his counterpart on the DCA committee, Alan Beith, said it should be delayed \"until measures likely to increase registration have been put in place and proved effective.\" Shadow Constitutional Affairs Secretary Oliver Heald accused the government of \"dragging its feet\" over \"this badly needed measure\". \"It is vital that we move ahead with the Northern Ireland system of individual electoral registration to safeguard the integrity of the Britain's electoral system,\" he said.\\n \\n The report said individual registration should be treated carefully as 12% of voters disappeared from the electoral roll in Northern Ireland when it was introduced in 2002. The report said the government should consider fines for unregistered voters, but accepted many experts said it would be an expensive system that would be hard to enforce. It said incentives to register, such as Â£20 council tax rebate, were likely to be seen as \"gimmicks\" and risked undermining the integrity of the system, MPs said. Instead they called for \"imaginative campaigns\" to boost interest.\\n</td>\n",
              "    </tr>\n",
              "    <tr>\n",
              "      <th>4</th>\n",
              "      <td>Kilroy names election seat target\\n \\n Ex-chat show host Robert Kilroy-Silk is to contest the Derbyshire seat of Erewash at the next general election.\\n \\n Labour's Elizabeth Blackman won the seat in 1997 and has a 6,932 majority. She says she will fight on her record \"as a hard-working constituency MP\". Mr Kilroy-Silk announced his plans a day after launching his new party, Veritas, the Latin for truth. The East Midlands MEP, who quit the UK Independence Party, wants his new group to \"change the face\" of UK politics. His choice of election constituency quashes speculation that he would stand against Defence Secretary Geoff Hoon in Ashfield, Nottinghamshire. UKIP won 31% of the vote in Erewash in last June's European elections - with Mr Kilroy-Silk among their candidates for the region. Until 1997, Erewash had been held by the Tories since 1970. Ms Blackman said she was proud of the government's achievements in the area. She declined to give her view of Mr Kilroy-Silk at this point.\\n \\n On Thursday, he told a London news conference that Veritas would avoid the old parties' \"lies and spin\". He said \"our country\" was being \"stolen from us\" by mass immigration and promised a \"firm but fair\" policy on immigration. Veritas says it hopes to contest most seats at the forthcoming general election but plans to announce detailed policies on crime, tax, pensions, health and defence over the next few weeks.\\n \\n UKIP leader Roger Knapman says he is glad to see the back of Mr Kilroy-Silk. Labour campaign spokesman Fraser Kemp said Veritas was joining \"an already crowded field on the right of British politics\". Mr Kilroy-Silk was joined in the new venture by one of UKIP's two London Assembly members, Damien Hockney, who is now Veritas' deputy leader.\\n \\n UKIP's chairman Petrina Holdsworth has said the group will just be a parody of the party the men have left. Mr Kilroy-Silk quit UKIP last week after months of tension as he vied unsuccessfully for the leadership of that party. He said he was ashamed to be a member of a UKIP whose leadership had \"gone AWOL\" after the great opportunity offered by its third place at last June's European elections. UKIP's leader, Roger Knapman, has said he is glad to see the back of Mr Kilroy-Silk. \"He has remarkable ability to influence people but, sadly, after the [European] election it became clear that he was more interested in the Robert Kilroy-Silk Party than the UK Independence Party so it was nice knowing him, now 'goodbye',\" he said. UKIP officials also argue Mr Kilroy-Silk has not been \"straightforward\" in attacking the party he once wanted to lead.\\n</td>\n",
              "    </tr>\n",
              "  </tbody>\n",
              "</table>\n",
              "</div>\n",
              "    <div class=\"colab-df-buttons\">\n",
              "\n",
              "  <div class=\"colab-df-container\">\n",
              "    <button class=\"colab-df-convert\" onclick=\"convertToInteractive('df-874a6515-04d5-4536-81ee-57675dae4869')\"\n",
              "            title=\"Convert this dataframe to an interactive table.\"\n",
              "            style=\"display:none;\">\n",
              "\n",
              "  <svg xmlns=\"http://www.w3.org/2000/svg\" height=\"24px\" viewBox=\"0 -960 960 960\">\n",
              "    <path d=\"M120-120v-720h720v720H120Zm60-500h600v-160H180v160Zm220 220h160v-160H400v160Zm0 220h160v-160H400v160ZM180-400h160v-160H180v160Zm440 0h160v-160H620v160ZM180-180h160v-160H180v160Zm440 0h160v-160H620v160Z\"/>\n",
              "  </svg>\n",
              "    </button>\n",
              "\n",
              "  <style>\n",
              "    .colab-df-container {\n",
              "      display:flex;\n",
              "      gap: 12px;\n",
              "    }\n",
              "\n",
              "    .colab-df-convert {\n",
              "      background-color: #E8F0FE;\n",
              "      border: none;\n",
              "      border-radius: 50%;\n",
              "      cursor: pointer;\n",
              "      display: none;\n",
              "      fill: #1967D2;\n",
              "      height: 32px;\n",
              "      padding: 0 0 0 0;\n",
              "      width: 32px;\n",
              "    }\n",
              "\n",
              "    .colab-df-convert:hover {\n",
              "      background-color: #E2EBFA;\n",
              "      box-shadow: 0px 1px 2px rgba(60, 64, 67, 0.3), 0px 1px 3px 1px rgba(60, 64, 67, 0.15);\n",
              "      fill: #174EA6;\n",
              "    }\n",
              "\n",
              "    .colab-df-buttons div {\n",
              "      margin-bottom: 4px;\n",
              "    }\n",
              "\n",
              "    [theme=dark] .colab-df-convert {\n",
              "      background-color: #3B4455;\n",
              "      fill: #D2E3FC;\n",
              "    }\n",
              "\n",
              "    [theme=dark] .colab-df-convert:hover {\n",
              "      background-color: #434B5C;\n",
              "      box-shadow: 0px 1px 3px 1px rgba(0, 0, 0, 0.15);\n",
              "      filter: drop-shadow(0px 1px 2px rgba(0, 0, 0, 0.3));\n",
              "      fill: #FFFFFF;\n",
              "    }\n",
              "  </style>\n",
              "\n",
              "    <script>\n",
              "      const buttonEl =\n",
              "        document.querySelector('#df-874a6515-04d5-4536-81ee-57675dae4869 button.colab-df-convert');\n",
              "      buttonEl.style.display =\n",
              "        google.colab.kernel.accessAllowed ? 'block' : 'none';\n",
              "\n",
              "      async function convertToInteractive(key) {\n",
              "        const element = document.querySelector('#df-874a6515-04d5-4536-81ee-57675dae4869');\n",
              "        const dataTable =\n",
              "          await google.colab.kernel.invokeFunction('convertToInteractive',\n",
              "                                                    [key], {});\n",
              "        if (!dataTable) return;\n",
              "\n",
              "        const docLinkHtml = 'Like what you see? Visit the ' +\n",
              "          '<a target=\"_blank\" href=https://colab.research.google.com/notebooks/data_table.ipynb>data table notebook</a>'\n",
              "          + ' to learn more about interactive tables.';\n",
              "        element.innerHTML = '';\n",
              "        dataTable['output_type'] = 'display_data';\n",
              "        await google.colab.output.renderOutput(dataTable, element);\n",
              "        const docLink = document.createElement('div');\n",
              "        docLink.innerHTML = docLinkHtml;\n",
              "        element.appendChild(docLink);\n",
              "      }\n",
              "    </script>\n",
              "  </div>\n",
              "\n",
              "\n",
              "    <div id=\"df-48bdbc72-a330-4ab2-a63e-6423851350da\">\n",
              "      <button class=\"colab-df-quickchart\" onclick=\"quickchart('df-48bdbc72-a330-4ab2-a63e-6423851350da')\"\n",
              "                title=\"Suggest charts\"\n",
              "                style=\"display:none;\">\n",
              "\n",
              "<svg xmlns=\"http://www.w3.org/2000/svg\" height=\"24px\"viewBox=\"0 0 24 24\"\n",
              "     width=\"24px\">\n",
              "    <g>\n",
              "        <path d=\"M19 3H5c-1.1 0-2 .9-2 2v14c0 1.1.9 2 2 2h14c1.1 0 2-.9 2-2V5c0-1.1-.9-2-2-2zM9 17H7v-7h2v7zm4 0h-2V7h2v10zm4 0h-2v-4h2v4z\"/>\n",
              "    </g>\n",
              "</svg>\n",
              "      </button>\n",
              "\n",
              "<style>\n",
              "  .colab-df-quickchart {\n",
              "      --bg-color: #E8F0FE;\n",
              "      --fill-color: #1967D2;\n",
              "      --hover-bg-color: #E2EBFA;\n",
              "      --hover-fill-color: #174EA6;\n",
              "      --disabled-fill-color: #AAA;\n",
              "      --disabled-bg-color: #DDD;\n",
              "  }\n",
              "\n",
              "  [theme=dark] .colab-df-quickchart {\n",
              "      --bg-color: #3B4455;\n",
              "      --fill-color: #D2E3FC;\n",
              "      --hover-bg-color: #434B5C;\n",
              "      --hover-fill-color: #FFFFFF;\n",
              "      --disabled-bg-color: #3B4455;\n",
              "      --disabled-fill-color: #666;\n",
              "  }\n",
              "\n",
              "  .colab-df-quickchart {\n",
              "    background-color: var(--bg-color);\n",
              "    border: none;\n",
              "    border-radius: 50%;\n",
              "    cursor: pointer;\n",
              "    display: none;\n",
              "    fill: var(--fill-color);\n",
              "    height: 32px;\n",
              "    padding: 0;\n",
              "    width: 32px;\n",
              "  }\n",
              "\n",
              "  .colab-df-quickchart:hover {\n",
              "    background-color: var(--hover-bg-color);\n",
              "    box-shadow: 0 1px 2px rgba(60, 64, 67, 0.3), 0 1px 3px 1px rgba(60, 64, 67, 0.15);\n",
              "    fill: var(--button-hover-fill-color);\n",
              "  }\n",
              "\n",
              "  .colab-df-quickchart-complete:disabled,\n",
              "  .colab-df-quickchart-complete:disabled:hover {\n",
              "    background-color: var(--disabled-bg-color);\n",
              "    fill: var(--disabled-fill-color);\n",
              "    box-shadow: none;\n",
              "  }\n",
              "\n",
              "  .colab-df-spinner {\n",
              "    border: 2px solid var(--fill-color);\n",
              "    border-color: transparent;\n",
              "    border-bottom-color: var(--fill-color);\n",
              "    animation:\n",
              "      spin 1s steps(1) infinite;\n",
              "  }\n",
              "\n",
              "  @keyframes spin {\n",
              "    0% {\n",
              "      border-color: transparent;\n",
              "      border-bottom-color: var(--fill-color);\n",
              "      border-left-color: var(--fill-color);\n",
              "    }\n",
              "    20% {\n",
              "      border-color: transparent;\n",
              "      border-left-color: var(--fill-color);\n",
              "      border-top-color: var(--fill-color);\n",
              "    }\n",
              "    30% {\n",
              "      border-color: transparent;\n",
              "      border-left-color: var(--fill-color);\n",
              "      border-top-color: var(--fill-color);\n",
              "      border-right-color: var(--fill-color);\n",
              "    }\n",
              "    40% {\n",
              "      border-color: transparent;\n",
              "      border-right-color: var(--fill-color);\n",
              "      border-top-color: var(--fill-color);\n",
              "    }\n",
              "    60% {\n",
              "      border-color: transparent;\n",
              "      border-right-color: var(--fill-color);\n",
              "    }\n",
              "    80% {\n",
              "      border-color: transparent;\n",
              "      border-right-color: var(--fill-color);\n",
              "      border-bottom-color: var(--fill-color);\n",
              "    }\n",
              "    90% {\n",
              "      border-color: transparent;\n",
              "      border-bottom-color: var(--fill-color);\n",
              "    }\n",
              "  }\n",
              "</style>\n",
              "\n",
              "      <script>\n",
              "        async function quickchart(key) {\n",
              "          const quickchartButtonEl =\n",
              "            document.querySelector('#' + key + ' button');\n",
              "          quickchartButtonEl.disabled = true;  // To prevent multiple clicks.\n",
              "          quickchartButtonEl.classList.add('colab-df-spinner');\n",
              "          try {\n",
              "            const charts = await google.colab.kernel.invokeFunction(\n",
              "                'suggestCharts', [key], {});\n",
              "          } catch (error) {\n",
              "            console.error('Error during call to suggestCharts:', error);\n",
              "          }\n",
              "          quickchartButtonEl.classList.remove('colab-df-spinner');\n",
              "          quickchartButtonEl.classList.add('colab-df-quickchart-complete');\n",
              "        }\n",
              "        (() => {\n",
              "          let quickchartButtonEl =\n",
              "            document.querySelector('#df-48bdbc72-a330-4ab2-a63e-6423851350da button');\n",
              "          quickchartButtonEl.style.display =\n",
              "            google.colab.kernel.accessAllowed ? 'block' : 'none';\n",
              "        })();\n",
              "      </script>\n",
              "    </div>\n",
              "\n",
              "    </div>\n",
              "  </div>\n"
            ],
            "application/vnd.google.colaboratory.intrinsic+json": {
              "type": "dataframe",
              "variable_name": "data",
              "summary": "{\n  \"name\": \"data\",\n  \"rows\": 2225,\n  \"fields\": [\n    {\n      \"column\": \"Text\",\n      \"properties\": {\n        \"dtype\": \"string\",\n        \"num_unique_values\": 2127,\n        \"samples\": [\n          \"Blair congratulates Bush on win\\n \\n Tony Blair has said he looks forward to continuing his strong relationship with George Bush and working with him during his second term as president.\\n \\n Mr Bush's re-election came at a crucial time for a world that was \\\"fractured, divided and uncertain\\\", Mr Blair said. It had to be brought together, he added, saying action was needed on poverty, the Middle East and the conditions on which terrorists prey. Mr Blair said states had to work with the US to fight global terrorism.\\n \\n But there was a need to recognise it would not be defeated by \\\"military might alone but also by demonstrating the strength of our common values\\\" he added. Solving the conflict in the Middle East was the world's single most \\\"pressing political challenge\\\" of the present day, Mr Blair warned. The prime minister also urged Europe and the US to \\\"build anew their alliance\\\".\\n \\n \\\"All of us in positions of leadership, not just President Bush, have a responsibility to rise to this challenge. It is urgent that we do so.\\\" Mr Blair also paid tribute to Democrat John Kerry's campaign, saying he had helped make the presidential election \\\"a true celebration of American democracy\\\". The election of the US president was significant for the world but particularly so for Britain because of its special relationship, he added. Earlier Tory leader Michael Howard sent Mr Bush his \\\"warmest congratulations\\\", saying: \\\"We look to the president to be a unifying force for those all over the world who share our determination to defend freedom.\\\" Liberal Democrat leader Charles Kennedy welcomed the fact there had been a quick conclusion to the election, unlike in 2000.\\n \\n Mr Bush's first task was to \\\"rebuild a sense of domestic purpose\\\" within the US, he said. Mr Kennedy said: \\\"Internationally, it is to be hoped that a second term will see a more sensitive approach to relations with long-standing allies, not least for the global efforts to combat terrorism.\\\" Lib Dem foreign affairs spokesman Menzies Campbell said a win by Mr Kerry would have given Mr Blair the chance of a fresh start, adding it was almost as if there was an \\\"umbilical cord\\\" between Mr Bush and the UK premier.\\n \\n \\\"Europeans must hope that his administration will be much more multilateral in character, and that he will act swiftly to rebuild the Atlantic partnership which is so vital to security. \\\"Iraq will remain an issue of potential division for some time to come.\\\" Even before the result became clear, Mr Blair was being urged to push for action on climate change at his first meeting with whichever candidate won.\\n \\n Liberal Democrat environment spokesman Norman Baker underlined the issue of global warming during a Commons debate on Anglo-American relations on Wednesday. Environment Secretary Margaret Beckett has said the US will act on global warming despite George Bush's refusal to sign up to the Kyoto protocol on carbon emissions. Public opinion would force change, she told BBC news. But Myron Ebell, an adviser on climate change to President Bush, has said there would be no change in the US stance and rejected the threat of climate change. He claimed the US was the only country with independent scientists.\\n\",\n          \"China Aviation seeks rescue deal\\n \\n Scandal-hit jet fuel supplier China Aviation Oil has offered to repay its creditors $220m (\\u00c2\\u00a3117m) of the $550m it lost on trading in oil futures.\\n \\n The firm said it hoped to pay $100m now and another $120m over eight years. With assets of $200m and liabilities totalling $648m, it needs creditors' backing for the offer to avoid going into bankruptcy. The trading scandal is the biggest to hit Singapore since the $1.2bn collapse of Barings Bank in 1995. Chen Jiulin, chief executive of China Aviation Oil (CAO), was arrested by at Changi Airport by Singapore police on 8 December. He was returning from China, where he had headed when CAO announced its trading debacle in late-November. The firm had been betting heavily on a fall in the price of oil during October, but prices rose sharply instead.\\n \\n Among the creditors whose backing CAO needs for its restructuring plan are banking giants such as Barclay's Capital and Sumitomo Mitsui, as well as South Korean firm SK Energy. Of the immediate payment, the firm - China's biggest jet fuel supplier - said it would be paying $30m out of its own resources. The rest would come from its parent company, China Aviation Oil Holding Company in Beijing. The holding company, owned by the Chinese government, holds most of CAO's Singapore-listed shares. It cut its holding from 75% to 60% on 20 October.\\n\",\n          \"Yukos heading back to US courts\\n \\n Russian oil and gas company Yukos is due in a US court on Thursday as it continues to fight for its survival.\\n \\n The firm is in the process of being broken up by Russian authorities in order to pay a $27bn (\\u00c2\\u00a314bn) tax bill. Yukos filed for bankruptcy in the US, hoping to use international business law to halt the forced sale of its key oil production unit, Yuganskneftegas. The unit was however sold for $9.4bn to state oil firm Rosneft but only after the state auction had been disrupted.\\n \\n Yukos lawyers now say the auction violated US bankruptcy law. The company and its main shareholders have vowed to go after any company that buys its assets, using all and every legal means. The company wants damages of $20bn, claiming Yuganskneftegas was sold at less than market value. Judge Letitia Clark will hear different motions, including one from Deutsche Bank to throw out the Chapter 11 bankruptcy filing. The German lender is one of six banks that were barred from providing financing to Gazprom, the Russian state-owned company that was expected to win the auction for Yuganskneftegas. Deutsche Bank, which is also an advisor to Gazprom, has called on the US court to overturn its decision to provide Yukos with bankruptcy protection.\\n \\n Lifting the injunction would remove the uncertainty that surrounds the court case and clarify Deutsche Bank's business position, analysts said.\\n \\n Analysts are not optimistic about Yukos' chances in court. Russian President Vladimir Putin and the country's legal authorities have repeatedly said that the US has no jurisdiction over Yukos and its legal wranglings. On top of that, the firm only has limited assets in the US. Yukos has won small victories, however, and is bullish about its chances in court. \\\"Do we have an ability to influence what happens? We think we do,\\\" said Mike Lake, a Yukos spokesman. \\\"The litigation risks are real,\\\" said Credit Suisse First Boston analyst Vadim Mitroshin The dispute with the Russian authorities is partly driven by President Putin's clampdown on the political ambitions of ex-Yukos boss Mikhail Khodorkovsky. Mr Khodorkovsky is in jail on charges of fraud and tax evasion.\\n\"\n        ],\n        \"semantic_type\": \"\",\n        \"description\": \"\"\n      }\n    }\n  ]\n}"
            }
          },
          "metadata": {},
          "execution_count": 20
        }
      ],
      "source": [
        "# Print first 5 rows of data\n",
        "data.head()"
      ]
    },
    {
      "cell_type": "code",
      "execution_count": null,
      "metadata": {
        "colab": {
          "base_uri": "https://localhost:8080/"
        },
        "id": "tTh2uQdWwY9-",
        "outputId": "89fa1892-adf1-447d-eaee-eaf851b48e2f"
      },
      "outputs": [
        {
          "output_type": "execute_result",
          "data": {
            "text/plain": [
              "'Observers to monitor UK election\\n \\n Ministers will invite international observers to check the forthcoming UK general election is fairly run.\\n \\n The move comes amid claims the poll could be marred by electoral fraud. A report by two MPs committees called on Thursday for urgent changes to the electoral registration system to combat vote rigging and boost turnout. But in a written response to Labour MP Gordon Prentice, the government said it would normally invite observers to any UK election.\\n \\n Junior constitutional affairs minister Christopher Leslie said: \"I fully expect us to repeat our previous practice of doing so once the date for the next general election is announced.\" The government has looked at ways of boosting voter turnout, which fell to 59% in the last general election in 2001.\\n \\n But trial all-postal ballots in four English regions last summer were hit by delays and some fraud allegations. Liberal Democrat peer Lord Greaves called last week for international observers at the general election - saying otherwise there could be months of court challenges \"on a scale not seen since the 19th Century\". Thursday\\'s report was drawn up by two committees scrutinising the work of the Office of the Deputy Prime Minister (ODPM) and the Department for Constitutional Affairs (DCA). It said that, with the growth of postal voting, there was a strong case to tighten up fraud protection by requiring voters to register individually, rather than by household. It also said about three million people eligible to vote are not registered to do so.\\n \\n Figures for the 2001 general election suggest 29% of people aged between 18 and 24, and 19% of black voters were not on the electoral roll. Young people in shared accommodation are thought to miss out because no one acts as head of the household to fill in the form. ODPM committee chairman Andrew Bennett said individual voter registration, as opposed to registration by household, should be quickly introduced as it could \"dramatically reduce the chances of fraud\". But his counterpart on the DCA committee, Alan Beith, said it should be delayed \"until measures likely to increase registration have been put in place and proved effective.\" Shadow Constitutional Affairs Secretary Oliver Heald accused the government of \"dragging its feet\" over \"this badly needed measure\". \"It is vital that we move ahead with the Northern Ireland system of individual electoral registration to safeguard the integrity of the Britain\\'s electoral system,\" he said.\\n \\n The report said individual registration should be treated carefully as 12% of voters disappeared from the electoral roll in Northern Ireland when it was introduced in 2002. The report said the government should consider fines for unregistered voters, but accepted many experts said it would be an expensive system that would be hard to enforce. It said incentives to register, such as Â£20 council tax rebate, were likely to be seen as \"gimmicks\" and risked undermining the integrity of the system, MPs said. Instead they called for \"imaginative campaigns\" to boost interest.\\n'"
            ],
            "application/vnd.google.colaboratory.intrinsic+json": {
              "type": "string"
            }
          },
          "metadata": {},
          "execution_count": 21
        }
      ],
      "source": [
        "# checking a news article\n",
        "data.loc[3, 'Text']"
      ]
    },
    {
      "cell_type": "markdown",
      "metadata": {
        "id": "xu_WH-DElvdg"
      },
      "source": [
        "### Checking the last five rows of the data"
      ]
    },
    {
      "cell_type": "code",
      "execution_count": null,
      "metadata": {
        "colab": {
          "base_uri": "https://localhost:8080/"
        },
        "id": "jJwhDJt0lvdm",
        "outputId": "112866e6-7337-4d85-f08d-8763941aaccb"
      },
      "outputs": [
        {
          "output_type": "execute_result",
          "data": {
            "text/plain": [
              "                                                                                                                                                                                                                                                                                                                                                                                                                                                                                                                                                                                                                                                                                                                                                                                                                                                                                                                                                                                                                                                                                                                                                                                                                                                                                                                                                                                                                                                                                                                                                                                                                                                                                                                                                                                                                                                                                                                                                                                                                                                                                                                                                                                                                                                                                                                                                                                                                                                                                                                                   Text\n",
              "2220                                                                                                                                                                                                                                                                                                                                                                                                                                                                                                                                                                                                                                                                                                                                                                                                                                                                                                                                                                                                                                     India opens skies to competition\\n \\n India will allow domestic commercial airlines to fly long haul international routes, a move it hopes will stoke competition and drive down prices.\\n \\n However, only state controlled carriers will be able to fly the lucrative Gulf routes, to countries such as Kuwait and Saudi Arabia, for at least three years. Jet Airways and Air Sahara are the two companies that will benefit initially. India is looking to develop its airline industry as booming economic growth drives demand for travel.\\n \\n Monica Chadha, BBC Delhi reporter, said air travel in India had increased by almost 20% from the previous year and was expected to rise even further. Infrastructure development is lagging demand, however, and will have to improve. \"Most international airports in the country are shabby and ill-equipped to handle heavy air traffic,\" Ms Chada said, adding that while the Civil Aviation minister has promised to modernise and privatise airports little progress has been made. Steps have been take to move things forward and the government recently changed legislation that limited foreign investment in domestic airlines. It raised the maximum stake holding allowed to 49% from 40%. Local press, meanwhile, have reported that the US and India will start negotiations about adding more routes in January. Jet Airways is India's premier private domestic carrier; Air Sahara is ranked third in the category.\\n\n",
              "2221                                                                                                                                         Yukos bankruptcy 'not US matter'\\n \\n Russian authorities do not have to abide by any US court decisions taken with regard to troubled oil giant Yukos, a Houston court has been told.\\n \\n Legal expert William Butler said there was no treaty between the US and Russia to recognise the other's legal rulings. That meant Moscow would not have to adhere to US rulings in the Yukos case. Yukos says a US court was entitled to declare it bankrupt before its Yugansk unit was sold, since it has a US subsidiary and local bank accounts.\\n \\n Yukos made its surprise Chapter 11 bankruptcy filing in Houston in December in an unsuccessful attempt to halt the auction of Yugansk, its main oil producing unit, by Russian authorities. Yugansk was sold to help pay off a $27.5bn (Â£14.5bn) back tax bill. It was bought for $9.4bn by a previously unknown group, which was in turn bought by state-controlled oil company Rosneft. The US court's jurisdiction has been challenged by Deutsche Bank and Gazpromneft, a former unit of Russian gas monopoly Gazprom which is due to merge with Rosneft. Deutsche Bank maintains the case has no place in a US court because Yukos has no assets in the US, apart from two bank accounts and a house in Houston owned by its chief finance officer Bruce Misamore. Deutsche Bank is involved in the case because it is itself being sued by Yukos. It had agreed to loan Gazpromneft the money to bid for Yugansk. US bankruptcy judge Letitia Clark, who issued an injunction in December to try and prevent the Yugansk sale, has said she will rule \"pretty promptly, however I do not anticipate ruling on it before next Tuesday\".\\n \\n Yukos has claimed it sought help in the US because other forums - Russian courts and the European Court of Human Rights - were either unfriendly or offered less protection. It has claimed that Russia imposed the huge tax bill and forced the sale of Yugansk as part of a campaign to destroy Yukos and its former owner Mihkail Khodorkovsky, who is facing a 10-year prison term in Russia for fraud and tax evasion. Yukos' parent company, the Gibraltar-based Menatep Group, is suing Russia in Europe for $28.3bn in financial damages. The company is also seeking $20bn in a separate US lawsuit against Rosneft and Gazprom for their role in the sale of Yugansk.\\n\n",
              "2222                                                                                                                                                                                                                                                                                                                                                                                                                                                                                                                                                               Survey confirms property slowdown\\n \\n Government figures have confirmed a widely reported slowdown of the UK's housing market in late 2004.\\n \\n House prices were 11.8% higher on the year in the last quarter of 2004, down from 16.3% in the July-to-September quarter, the Land Registry said. The average house price in England and Wales was Â£182,920, down from Â£187,971 in July-September. The volume of sales between October and December dropped by nearly a quarter from the same period in 2003. The government figures are the first official confirmation of falls in the market at the end of 2004. Land Registry figures are less up to date than those of banks and building societies, since they record completions not mortgage approvals. However, the figures are viewed as the most accurate measure of house prices as they include all property transactions, including cash sales.\\n \\n The cost of buying a home fell in seven out of 10 regions between the third and fourth quarters of 2004.\\n \\n The biggest annual gains were made in Wales, where house prices were up by 23% in the fourth quarter. House prices rose the slowest in Greater London, being up by 6%. In the capital, the volume of sales fell by 23% from 36,185 in 2003 to 28,041 for the same period in 2004. There was also a decline in the number of million-pound properties sold in the capital, with 436 properties over Â£1m sold compared to 469 for the same period in 2003. Although the figures point to a slowdown in the market, the most recent surveys from Nationwide and Halifax have indicated the market may be undergoing a revival. After registering falls at the back end of 2004, Halifax said house prices rose by 0.8% in January and Nationwide reported a rise of 0.4% in the first month of the year. Members of the Bank of England's rate-setting committee will make their latest decision on interest rates on Thursday.\\n\n",
              "2223  High fuel prices hit BA's profits\\n \\n British Airways has blamed high fuel prices for a 40% drop in profits.\\n \\n Reporting its results for the three months to 31 December 2004, the airline made a pre-tax profit of Â£75m ($141m) compared with Â£125m a year earlier. Rod Eddington, BA's chief executive, said the results were \"respectable\" in a third quarter when fuel costs rose by Â£106m or 47.3%. BA's profits were still better than market expectation of Â£59m, and it expects a rise in full-year revenues.\\n \\n To help offset the increased price of aviation fuel, BA last year introduced a fuel surcharge for passengers.\\n \\n In October, it increased this from Â£6 to Â£10 one-way for all long-haul flights, while the short-haul surcharge was raised from Â£2.50 to Â£4 a leg. Yet aviation analyst Mike Powell of Dresdner Kleinwort Wasserstein says BA's estimated annual surcharge revenues - Â£160m - will still be way short of its additional fuel costs - a predicted extra Â£250m. Turnover for the quarter was up 4.3% to Â£1.97bn, further benefiting from a rise in cargo revenue. Looking ahead to its full year results to March 2005, BA warned that yields - average revenues per passenger - were expected to decline as it continues to lower prices in the face of competition from low-cost carriers. However, it said sales would be better than previously forecast. \"For the year to March 2005, the total revenue outlook is slightly better than previous guidance with a 3% to 3.5% improvement anticipated,\" BA chairman Martin Broughton said. BA had previously forecast a 2% to 3% rise in full-year revenue.\\n \\n It also reported on Friday that passenger numbers rose 8.1% in January. Aviation analyst Nick Van den Brul of BNP Paribas described BA's latest quarterly results as \"pretty modest\". \"It is quite good on the revenue side and it shows the impact of fuel surcharges and a positive cargo development, however, operating margins down and cost impact of fuel are very strong,\" he said. Since the 11 September 2001 attacks in the United States, BA has cut 13,000 jobs as part of a major cost-cutting drive. \"Our focus remains on reducing controllable costs and debt whilst continuing to invest in our products,\" Mr Eddington said. \"For example, we have taken delivery of six Airbus A321 aircraft and next month we will start further improvements to our Club World flat beds.\" BA's shares closed up four pence at 274.5 pence.\\n\n",
              "2224                                                                                                                                                                                                                                                                                                                                                                                                                                                                                US trade gap hits record in 2004\\n \\n The gap between US exports and imports hit an all-time high of $671.7bn (Â£484bn) in 2004, latest figures show.\\n \\n The Commerce Department said the trade deficit for all of last year was 24.4% above the previous record - 2003's imbalance of $496.5bn. The deficit with China, up 30.5% at $162bn, was the largest ever recorded with a single country. However, on a monthly basis the US trade gap narrowed by 4.9% in December to Â£56.4bn. The US consumer's appetite for all things from oil to imported cars, and even wine and cheese, reached record levels last year and the figures are likely to spark fresh criticism of President Bush's economic policies.\\n \\n Democrats claim the administration has not done enough to clamp down on unfair foreign trade practices. For example, they believe China's currency policy - which US manufacturers claim has undervalued the yuan by as much as 40% - has given China's rapidly expanding economy an unfair advantage against US competitors.\\n \\n Meanwhile, the Bush administration argues that the US deficit reflects the fact the America is growing at faster rate than the rest of the world, spurring on more demand for imported goods. Some economists say this may allow an upward revision of US economic growth in the fourth quarter. But others point out that the deficit has reached such astronomical proportions that foreigners many choose not to hold as many dollar-denominated assets, which may in turn harm growth. For all of 2004, US exports rose 12.3% to $1.15 trillion, but imports rose even faster by 16.3% to a new record of $1.76 trillion. Foreign oil exports surged by 35.7% to a record $180.7bn, reflecting the rally in global oil prices and increasing domestic demand. Imports were not affected by the dollar's weakness last year. \"We expect the deficit to continue to widen in 2005 even if the dollar gets back to its downward trend,\" said economist Marie-Pierre Ripert at IXIS.\\n"
            ],
            "text/html": [
              "\n",
              "  <div id=\"df-f2181c7f-8a83-4263-bb8a-083922c4540b\" class=\"colab-df-container\">\n",
              "    <div>\n",
              "<style scoped>\n",
              "    .dataframe tbody tr th:only-of-type {\n",
              "        vertical-align: middle;\n",
              "    }\n",
              "\n",
              "    .dataframe tbody tr th {\n",
              "        vertical-align: top;\n",
              "    }\n",
              "\n",
              "    .dataframe thead th {\n",
              "        text-align: right;\n",
              "    }\n",
              "</style>\n",
              "<table border=\"1\" class=\"dataframe\">\n",
              "  <thead>\n",
              "    <tr style=\"text-align: right;\">\n",
              "      <th></th>\n",
              "      <th>Text</th>\n",
              "    </tr>\n",
              "  </thead>\n",
              "  <tbody>\n",
              "    <tr>\n",
              "      <th>2220</th>\n",
              "      <td>India opens skies to competition\\n \\n India will allow domestic commercial airlines to fly long haul international routes, a move it hopes will stoke competition and drive down prices.\\n \\n However, only state controlled carriers will be able to fly the lucrative Gulf routes, to countries such as Kuwait and Saudi Arabia, for at least three years. Jet Airways and Air Sahara are the two companies that will benefit initially. India is looking to develop its airline industry as booming economic growth drives demand for travel.\\n \\n Monica Chadha, BBC Delhi reporter, said air travel in India had increased by almost 20% from the previous year and was expected to rise even further. Infrastructure development is lagging demand, however, and will have to improve. \"Most international airports in the country are shabby and ill-equipped to handle heavy air traffic,\" Ms Chada said, adding that while the Civil Aviation minister has promised to modernise and privatise airports little progress has been made. Steps have been take to move things forward and the government recently changed legislation that limited foreign investment in domestic airlines. It raised the maximum stake holding allowed to 49% from 40%. Local press, meanwhile, have reported that the US and India will start negotiations about adding more routes in January. Jet Airways is India's premier private domestic carrier; Air Sahara is ranked third in the category.\\n</td>\n",
              "    </tr>\n",
              "    <tr>\n",
              "      <th>2221</th>\n",
              "      <td>Yukos bankruptcy 'not US matter'\\n \\n Russian authorities do not have to abide by any US court decisions taken with regard to troubled oil giant Yukos, a Houston court has been told.\\n \\n Legal expert William Butler said there was no treaty between the US and Russia to recognise the other's legal rulings. That meant Moscow would not have to adhere to US rulings in the Yukos case. Yukos says a US court was entitled to declare it bankrupt before its Yugansk unit was sold, since it has a US subsidiary and local bank accounts.\\n \\n Yukos made its surprise Chapter 11 bankruptcy filing in Houston in December in an unsuccessful attempt to halt the auction of Yugansk, its main oil producing unit, by Russian authorities. Yugansk was sold to help pay off a $27.5bn (Â£14.5bn) back tax bill. It was bought for $9.4bn by a previously unknown group, which was in turn bought by state-controlled oil company Rosneft. The US court's jurisdiction has been challenged by Deutsche Bank and Gazpromneft, a former unit of Russian gas monopoly Gazprom which is due to merge with Rosneft. Deutsche Bank maintains the case has no place in a US court because Yukos has no assets in the US, apart from two bank accounts and a house in Houston owned by its chief finance officer Bruce Misamore. Deutsche Bank is involved in the case because it is itself being sued by Yukos. It had agreed to loan Gazpromneft the money to bid for Yugansk. US bankruptcy judge Letitia Clark, who issued an injunction in December to try and prevent the Yugansk sale, has said she will rule \"pretty promptly, however I do not anticipate ruling on it before next Tuesday\".\\n \\n Yukos has claimed it sought help in the US because other forums - Russian courts and the European Court of Human Rights - were either unfriendly or offered less protection. It has claimed that Russia imposed the huge tax bill and forced the sale of Yugansk as part of a campaign to destroy Yukos and its former owner Mihkail Khodorkovsky, who is facing a 10-year prison term in Russia for fraud and tax evasion. Yukos' parent company, the Gibraltar-based Menatep Group, is suing Russia in Europe for $28.3bn in financial damages. The company is also seeking $20bn in a separate US lawsuit against Rosneft and Gazprom for their role in the sale of Yugansk.\\n</td>\n",
              "    </tr>\n",
              "    <tr>\n",
              "      <th>2222</th>\n",
              "      <td>Survey confirms property slowdown\\n \\n Government figures have confirmed a widely reported slowdown of the UK's housing market in late 2004.\\n \\n House prices were 11.8% higher on the year in the last quarter of 2004, down from 16.3% in the July-to-September quarter, the Land Registry said. The average house price in England and Wales was Â£182,920, down from Â£187,971 in July-September. The volume of sales between October and December dropped by nearly a quarter from the same period in 2003. The government figures are the first official confirmation of falls in the market at the end of 2004. Land Registry figures are less up to date than those of banks and building societies, since they record completions not mortgage approvals. However, the figures are viewed as the most accurate measure of house prices as they include all property transactions, including cash sales.\\n \\n The cost of buying a home fell in seven out of 10 regions between the third and fourth quarters of 2004.\\n \\n The biggest annual gains were made in Wales, where house prices were up by 23% in the fourth quarter. House prices rose the slowest in Greater London, being up by 6%. In the capital, the volume of sales fell by 23% from 36,185 in 2003 to 28,041 for the same period in 2004. There was also a decline in the number of million-pound properties sold in the capital, with 436 properties over Â£1m sold compared to 469 for the same period in 2003. Although the figures point to a slowdown in the market, the most recent surveys from Nationwide and Halifax have indicated the market may be undergoing a revival. After registering falls at the back end of 2004, Halifax said house prices rose by 0.8% in January and Nationwide reported a rise of 0.4% in the first month of the year. Members of the Bank of England's rate-setting committee will make their latest decision on interest rates on Thursday.\\n</td>\n",
              "    </tr>\n",
              "    <tr>\n",
              "      <th>2223</th>\n",
              "      <td>High fuel prices hit BA's profits\\n \\n British Airways has blamed high fuel prices for a 40% drop in profits.\\n \\n Reporting its results for the three months to 31 December 2004, the airline made a pre-tax profit of Â£75m ($141m) compared with Â£125m a year earlier. Rod Eddington, BA's chief executive, said the results were \"respectable\" in a third quarter when fuel costs rose by Â£106m or 47.3%. BA's profits were still better than market expectation of Â£59m, and it expects a rise in full-year revenues.\\n \\n To help offset the increased price of aviation fuel, BA last year introduced a fuel surcharge for passengers.\\n \\n In October, it increased this from Â£6 to Â£10 one-way for all long-haul flights, while the short-haul surcharge was raised from Â£2.50 to Â£4 a leg. Yet aviation analyst Mike Powell of Dresdner Kleinwort Wasserstein says BA's estimated annual surcharge revenues - Â£160m - will still be way short of its additional fuel costs - a predicted extra Â£250m. Turnover for the quarter was up 4.3% to Â£1.97bn, further benefiting from a rise in cargo revenue. Looking ahead to its full year results to March 2005, BA warned that yields - average revenues per passenger - were expected to decline as it continues to lower prices in the face of competition from low-cost carriers. However, it said sales would be better than previously forecast. \"For the year to March 2005, the total revenue outlook is slightly better than previous guidance with a 3% to 3.5% improvement anticipated,\" BA chairman Martin Broughton said. BA had previously forecast a 2% to 3% rise in full-year revenue.\\n \\n It also reported on Friday that passenger numbers rose 8.1% in January. Aviation analyst Nick Van den Brul of BNP Paribas described BA's latest quarterly results as \"pretty modest\". \"It is quite good on the revenue side and it shows the impact of fuel surcharges and a positive cargo development, however, operating margins down and cost impact of fuel are very strong,\" he said. Since the 11 September 2001 attacks in the United States, BA has cut 13,000 jobs as part of a major cost-cutting drive. \"Our focus remains on reducing controllable costs and debt whilst continuing to invest in our products,\" Mr Eddington said. \"For example, we have taken delivery of six Airbus A321 aircraft and next month we will start further improvements to our Club World flat beds.\" BA's shares closed up four pence at 274.5 pence.\\n</td>\n",
              "    </tr>\n",
              "    <tr>\n",
              "      <th>2224</th>\n",
              "      <td>US trade gap hits record in 2004\\n \\n The gap between US exports and imports hit an all-time high of $671.7bn (Â£484bn) in 2004, latest figures show.\\n \\n The Commerce Department said the trade deficit for all of last year was 24.4% above the previous record - 2003's imbalance of $496.5bn. The deficit with China, up 30.5% at $162bn, was the largest ever recorded with a single country. However, on a monthly basis the US trade gap narrowed by 4.9% in December to Â£56.4bn. The US consumer's appetite for all things from oil to imported cars, and even wine and cheese, reached record levels last year and the figures are likely to spark fresh criticism of President Bush's economic policies.\\n \\n Democrats claim the administration has not done enough to clamp down on unfair foreign trade practices. For example, they believe China's currency policy - which US manufacturers claim has undervalued the yuan by as much as 40% - has given China's rapidly expanding economy an unfair advantage against US competitors.\\n \\n Meanwhile, the Bush administration argues that the US deficit reflects the fact the America is growing at faster rate than the rest of the world, spurring on more demand for imported goods. Some economists say this may allow an upward revision of US economic growth in the fourth quarter. But others point out that the deficit has reached such astronomical proportions that foreigners many choose not to hold as many dollar-denominated assets, which may in turn harm growth. For all of 2004, US exports rose 12.3% to $1.15 trillion, but imports rose even faster by 16.3% to a new record of $1.76 trillion. Foreign oil exports surged by 35.7% to a record $180.7bn, reflecting the rally in global oil prices and increasing domestic demand. Imports were not affected by the dollar's weakness last year. \"We expect the deficit to continue to widen in 2005 even if the dollar gets back to its downward trend,\" said economist Marie-Pierre Ripert at IXIS.\\n</td>\n",
              "    </tr>\n",
              "  </tbody>\n",
              "</table>\n",
              "</div>\n",
              "    <div class=\"colab-df-buttons\">\n",
              "\n",
              "  <div class=\"colab-df-container\">\n",
              "    <button class=\"colab-df-convert\" onclick=\"convertToInteractive('df-f2181c7f-8a83-4263-bb8a-083922c4540b')\"\n",
              "            title=\"Convert this dataframe to an interactive table.\"\n",
              "            style=\"display:none;\">\n",
              "\n",
              "  <svg xmlns=\"http://www.w3.org/2000/svg\" height=\"24px\" viewBox=\"0 -960 960 960\">\n",
              "    <path d=\"M120-120v-720h720v720H120Zm60-500h600v-160H180v160Zm220 220h160v-160H400v160Zm0 220h160v-160H400v160ZM180-400h160v-160H180v160Zm440 0h160v-160H620v160ZM180-180h160v-160H180v160Zm440 0h160v-160H620v160Z\"/>\n",
              "  </svg>\n",
              "    </button>\n",
              "\n",
              "  <style>\n",
              "    .colab-df-container {\n",
              "      display:flex;\n",
              "      gap: 12px;\n",
              "    }\n",
              "\n",
              "    .colab-df-convert {\n",
              "      background-color: #E8F0FE;\n",
              "      border: none;\n",
              "      border-radius: 50%;\n",
              "      cursor: pointer;\n",
              "      display: none;\n",
              "      fill: #1967D2;\n",
              "      height: 32px;\n",
              "      padding: 0 0 0 0;\n",
              "      width: 32px;\n",
              "    }\n",
              "\n",
              "    .colab-df-convert:hover {\n",
              "      background-color: #E2EBFA;\n",
              "      box-shadow: 0px 1px 2px rgba(60, 64, 67, 0.3), 0px 1px 3px 1px rgba(60, 64, 67, 0.15);\n",
              "      fill: #174EA6;\n",
              "    }\n",
              "\n",
              "    .colab-df-buttons div {\n",
              "      margin-bottom: 4px;\n",
              "    }\n",
              "\n",
              "    [theme=dark] .colab-df-convert {\n",
              "      background-color: #3B4455;\n",
              "      fill: #D2E3FC;\n",
              "    }\n",
              "\n",
              "    [theme=dark] .colab-df-convert:hover {\n",
              "      background-color: #434B5C;\n",
              "      box-shadow: 0px 1px 3px 1px rgba(0, 0, 0, 0.15);\n",
              "      filter: drop-shadow(0px 1px 2px rgba(0, 0, 0, 0.3));\n",
              "      fill: #FFFFFF;\n",
              "    }\n",
              "  </style>\n",
              "\n",
              "    <script>\n",
              "      const buttonEl =\n",
              "        document.querySelector('#df-f2181c7f-8a83-4263-bb8a-083922c4540b button.colab-df-convert');\n",
              "      buttonEl.style.display =\n",
              "        google.colab.kernel.accessAllowed ? 'block' : 'none';\n",
              "\n",
              "      async function convertToInteractive(key) {\n",
              "        const element = document.querySelector('#df-f2181c7f-8a83-4263-bb8a-083922c4540b');\n",
              "        const dataTable =\n",
              "          await google.colab.kernel.invokeFunction('convertToInteractive',\n",
              "                                                    [key], {});\n",
              "        if (!dataTable) return;\n",
              "\n",
              "        const docLinkHtml = 'Like what you see? Visit the ' +\n",
              "          '<a target=\"_blank\" href=https://colab.research.google.com/notebooks/data_table.ipynb>data table notebook</a>'\n",
              "          + ' to learn more about interactive tables.';\n",
              "        element.innerHTML = '';\n",
              "        dataTable['output_type'] = 'display_data';\n",
              "        await google.colab.output.renderOutput(dataTable, element);\n",
              "        const docLink = document.createElement('div');\n",
              "        docLink.innerHTML = docLinkHtml;\n",
              "        element.appendChild(docLink);\n",
              "      }\n",
              "    </script>\n",
              "  </div>\n",
              "\n",
              "\n",
              "    <div id=\"df-9658c2d3-9333-4bc4-b7e0-f83cf7b4f608\">\n",
              "      <button class=\"colab-df-quickchart\" onclick=\"quickchart('df-9658c2d3-9333-4bc4-b7e0-f83cf7b4f608')\"\n",
              "                title=\"Suggest charts\"\n",
              "                style=\"display:none;\">\n",
              "\n",
              "<svg xmlns=\"http://www.w3.org/2000/svg\" height=\"24px\"viewBox=\"0 0 24 24\"\n",
              "     width=\"24px\">\n",
              "    <g>\n",
              "        <path d=\"M19 3H5c-1.1 0-2 .9-2 2v14c0 1.1.9 2 2 2h14c1.1 0 2-.9 2-2V5c0-1.1-.9-2-2-2zM9 17H7v-7h2v7zm4 0h-2V7h2v10zm4 0h-2v-4h2v4z\"/>\n",
              "    </g>\n",
              "</svg>\n",
              "      </button>\n",
              "\n",
              "<style>\n",
              "  .colab-df-quickchart {\n",
              "      --bg-color: #E8F0FE;\n",
              "      --fill-color: #1967D2;\n",
              "      --hover-bg-color: #E2EBFA;\n",
              "      --hover-fill-color: #174EA6;\n",
              "      --disabled-fill-color: #AAA;\n",
              "      --disabled-bg-color: #DDD;\n",
              "  }\n",
              "\n",
              "  [theme=dark] .colab-df-quickchart {\n",
              "      --bg-color: #3B4455;\n",
              "      --fill-color: #D2E3FC;\n",
              "      --hover-bg-color: #434B5C;\n",
              "      --hover-fill-color: #FFFFFF;\n",
              "      --disabled-bg-color: #3B4455;\n",
              "      --disabled-fill-color: #666;\n",
              "  }\n",
              "\n",
              "  .colab-df-quickchart {\n",
              "    background-color: var(--bg-color);\n",
              "    border: none;\n",
              "    border-radius: 50%;\n",
              "    cursor: pointer;\n",
              "    display: none;\n",
              "    fill: var(--fill-color);\n",
              "    height: 32px;\n",
              "    padding: 0;\n",
              "    width: 32px;\n",
              "  }\n",
              "\n",
              "  .colab-df-quickchart:hover {\n",
              "    background-color: var(--hover-bg-color);\n",
              "    box-shadow: 0 1px 2px rgba(60, 64, 67, 0.3), 0 1px 3px 1px rgba(60, 64, 67, 0.15);\n",
              "    fill: var(--button-hover-fill-color);\n",
              "  }\n",
              "\n",
              "  .colab-df-quickchart-complete:disabled,\n",
              "  .colab-df-quickchart-complete:disabled:hover {\n",
              "    background-color: var(--disabled-bg-color);\n",
              "    fill: var(--disabled-fill-color);\n",
              "    box-shadow: none;\n",
              "  }\n",
              "\n",
              "  .colab-df-spinner {\n",
              "    border: 2px solid var(--fill-color);\n",
              "    border-color: transparent;\n",
              "    border-bottom-color: var(--fill-color);\n",
              "    animation:\n",
              "      spin 1s steps(1) infinite;\n",
              "  }\n",
              "\n",
              "  @keyframes spin {\n",
              "    0% {\n",
              "      border-color: transparent;\n",
              "      border-bottom-color: var(--fill-color);\n",
              "      border-left-color: var(--fill-color);\n",
              "    }\n",
              "    20% {\n",
              "      border-color: transparent;\n",
              "      border-left-color: var(--fill-color);\n",
              "      border-top-color: var(--fill-color);\n",
              "    }\n",
              "    30% {\n",
              "      border-color: transparent;\n",
              "      border-left-color: var(--fill-color);\n",
              "      border-top-color: var(--fill-color);\n",
              "      border-right-color: var(--fill-color);\n",
              "    }\n",
              "    40% {\n",
              "      border-color: transparent;\n",
              "      border-right-color: var(--fill-color);\n",
              "      border-top-color: var(--fill-color);\n",
              "    }\n",
              "    60% {\n",
              "      border-color: transparent;\n",
              "      border-right-color: var(--fill-color);\n",
              "    }\n",
              "    80% {\n",
              "      border-color: transparent;\n",
              "      border-right-color: var(--fill-color);\n",
              "      border-bottom-color: var(--fill-color);\n",
              "    }\n",
              "    90% {\n",
              "      border-color: transparent;\n",
              "      border-bottom-color: var(--fill-color);\n",
              "    }\n",
              "  }\n",
              "</style>\n",
              "\n",
              "      <script>\n",
              "        async function quickchart(key) {\n",
              "          const quickchartButtonEl =\n",
              "            document.querySelector('#' + key + ' button');\n",
              "          quickchartButtonEl.disabled = true;  // To prevent multiple clicks.\n",
              "          quickchartButtonEl.classList.add('colab-df-spinner');\n",
              "          try {\n",
              "            const charts = await google.colab.kernel.invokeFunction(\n",
              "                'suggestCharts', [key], {});\n",
              "          } catch (error) {\n",
              "            console.error('Error during call to suggestCharts:', error);\n",
              "          }\n",
              "          quickchartButtonEl.classList.remove('colab-df-spinner');\n",
              "          quickchartButtonEl.classList.add('colab-df-quickchart-complete');\n",
              "        }\n",
              "        (() => {\n",
              "          let quickchartButtonEl =\n",
              "            document.querySelector('#df-9658c2d3-9333-4bc4-b7e0-f83cf7b4f608 button');\n",
              "          quickchartButtonEl.style.display =\n",
              "            google.colab.kernel.accessAllowed ? 'block' : 'none';\n",
              "        })();\n",
              "      </script>\n",
              "    </div>\n",
              "\n",
              "    </div>\n",
              "  </div>\n"
            ],
            "application/vnd.google.colaboratory.intrinsic+json": {
              "type": "dataframe",
              "summary": "{\n  \"name\": \"data\",\n  \"rows\": 5,\n  \"fields\": [\n    {\n      \"column\": \"Text\",\n      \"properties\": {\n        \"dtype\": \"string\",\n        \"num_unique_values\": 5,\n        \"samples\": [\n          \"Yukos bankruptcy 'not US matter'\\n \\n Russian authorities do not have to abide by any US court decisions taken with regard to troubled oil giant Yukos, a Houston court has been told.\\n \\n Legal expert William Butler said there was no treaty between the US and Russia to recognise the other's legal rulings. That meant Moscow would not have to adhere to US rulings in the Yukos case. Yukos says a US court was entitled to declare it bankrupt before its Yugansk unit was sold, since it has a US subsidiary and local bank accounts.\\n \\n Yukos made its surprise Chapter 11 bankruptcy filing in Houston in December in an unsuccessful attempt to halt the auction of Yugansk, its main oil producing unit, by Russian authorities. Yugansk was sold to help pay off a $27.5bn (\\u00c2\\u00a314.5bn) back tax bill. It was bought for $9.4bn by a previously unknown group, which was in turn bought by state-controlled oil company Rosneft. The US court's jurisdiction has been challenged by Deutsche Bank and Gazpromneft, a former unit of Russian gas monopoly Gazprom which is due to merge with Rosneft. Deutsche Bank maintains the case has no place in a US court because Yukos has no assets in the US, apart from two bank accounts and a house in Houston owned by its chief finance officer Bruce Misamore. Deutsche Bank is involved in the case because it is itself being sued by Yukos. It had agreed to loan Gazpromneft the money to bid for Yugansk. US bankruptcy judge Letitia Clark, who issued an injunction in December to try and prevent the Yugansk sale, has said she will rule \\\"pretty promptly, however I do not anticipate ruling on it before next Tuesday\\\".\\n \\n Yukos has claimed it sought help in the US because other forums - Russian courts and the European Court of Human Rights - were either unfriendly or offered less protection. It has claimed that Russia imposed the huge tax bill and forced the sale of Yugansk as part of a campaign to destroy Yukos and its former owner Mihkail Khodorkovsky, who is facing a 10-year prison term in Russia for fraud and tax evasion. Yukos' parent company, the Gibraltar-based Menatep Group, is suing Russia in Europe for $28.3bn in financial damages. The company is also seeking $20bn in a separate US lawsuit against Rosneft and Gazprom for their role in the sale of Yugansk.\\n\",\n          \"US trade gap hits record in 2004\\n \\n The gap between US exports and imports hit an all-time high of $671.7bn (\\u00c2\\u00a3484bn) in 2004, latest figures show.\\n \\n The Commerce Department said the trade deficit for all of last year was 24.4% above the previous record - 2003's imbalance of $496.5bn. The deficit with China, up 30.5% at $162bn, was the largest ever recorded with a single country. However, on a monthly basis the US trade gap narrowed by 4.9% in December to \\u00c2\\u00a356.4bn. The US consumer's appetite for all things from oil to imported cars, and even wine and cheese, reached record levels last year and the figures are likely to spark fresh criticism of President Bush's economic policies.\\n \\n Democrats claim the administration has not done enough to clamp down on unfair foreign trade practices. For example, they believe China's currency policy - which US manufacturers claim has undervalued the yuan by as much as 40% - has given China's rapidly expanding economy an unfair advantage against US competitors.\\n \\n Meanwhile, the Bush administration argues that the US deficit reflects the fact the America is growing at faster rate than the rest of the world, spurring on more demand for imported goods. Some economists say this may allow an upward revision of US economic growth in the fourth quarter. But others point out that the deficit has reached such astronomical proportions that foreigners many choose not to hold as many dollar-denominated assets, which may in turn harm growth. For all of 2004, US exports rose 12.3% to $1.15 trillion, but imports rose even faster by 16.3% to a new record of $1.76 trillion. Foreign oil exports surged by 35.7% to a record $180.7bn, reflecting the rally in global oil prices and increasing domestic demand. Imports were not affected by the dollar's weakness last year. \\\"We expect the deficit to continue to widen in 2005 even if the dollar gets back to its downward trend,\\\" said economist Marie-Pierre Ripert at IXIS.\\n\",\n          \"Survey confirms property slowdown\\n \\n Government figures have confirmed a widely reported slowdown of the UK's housing market in late 2004.\\n \\n House prices were 11.8% higher on the year in the last quarter of 2004, down from 16.3% in the July-to-September quarter, the Land Registry said. The average house price in England and Wales was \\u00c2\\u00a3182,920, down from \\u00c2\\u00a3187,971 in July-September. The volume of sales between October and December dropped by nearly a quarter from the same period in 2003. The government figures are the first official confirmation of falls in the market at the end of 2004. Land Registry figures are less up to date than those of banks and building societies, since they record completions not mortgage approvals. However, the figures are viewed as the most accurate measure of house prices as they include all property transactions, including cash sales.\\n \\n The cost of buying a home fell in seven out of 10 regions between the third and fourth quarters of 2004.\\n \\n The biggest annual gains were made in Wales, where house prices were up by 23% in the fourth quarter. House prices rose the slowest in Greater London, being up by 6%. In the capital, the volume of sales fell by 23% from 36,185 in 2003 to 28,041 for the same period in 2004. There was also a decline in the number of million-pound properties sold in the capital, with 436 properties over \\u00c2\\u00a31m sold compared to 469 for the same period in 2003. Although the figures point to a slowdown in the market, the most recent surveys from Nationwide and Halifax have indicated the market may be undergoing a revival. After registering falls at the back end of 2004, Halifax said house prices rose by 0.8% in January and Nationwide reported a rise of 0.4% in the first month of the year. Members of the Bank of England's rate-setting committee will make their latest decision on interest rates on Thursday.\\n\"\n        ],\n        \"semantic_type\": \"\",\n        \"description\": \"\"\n      }\n    }\n  ]\n}"
            }
          },
          "metadata": {},
          "execution_count": 22
        }
      ],
      "source": [
        "# Print last 5 rows of data\n",
        "data.tail()"
      ]
    },
    {
      "cell_type": "markdown",
      "metadata": {
        "id": "NuWYF7W_AQx_"
      },
      "source": [
        "### Checking the shape of the dataset"
      ]
    },
    {
      "cell_type": "code",
      "execution_count": null,
      "metadata": {
        "colab": {
          "base_uri": "https://localhost:8080/"
        },
        "id": "7DysT_j1Cky-",
        "outputId": "a41cbdab-4501-4071-a0f1-8c06a0fec180"
      },
      "outputs": [
        {
          "output_type": "execute_result",
          "data": {
            "text/plain": [
              "(2225, 1)"
            ]
          },
          "metadata": {},
          "execution_count": 23
        }
      ],
      "source": [
        "# print shape of data\n",
        "data.shape"
      ]
    },
    {
      "cell_type": "markdown",
      "metadata": {
        "id": "1m9Eku_JUDaS"
      },
      "source": [
        "* The data comprises of ~2.2k news articles"
      ]
    },
    {
      "cell_type": "markdown",
      "metadata": {
        "id": "EBuO6NvsAT1k"
      },
      "source": [
        "### Checking for missing values"
      ]
    },
    {
      "cell_type": "code",
      "execution_count": null,
      "metadata": {
        "colab": {
          "base_uri": "https://localhost:8080/"
        },
        "id": "RjFc0JaDCn1u",
        "outputId": "53f6b343-9625-4287-d667-ade68f6e5ac1"
      },
      "outputs": [
        {
          "output_type": "execute_result",
          "data": {
            "text/plain": [
              "Text    0\n",
              "dtype: int64"
            ],
            "text/html": [
              "<div>\n",
              "<style scoped>\n",
              "    .dataframe tbody tr th:only-of-type {\n",
              "        vertical-align: middle;\n",
              "    }\n",
              "\n",
              "    .dataframe tbody tr th {\n",
              "        vertical-align: top;\n",
              "    }\n",
              "\n",
              "    .dataframe thead th {\n",
              "        text-align: right;\n",
              "    }\n",
              "</style>\n",
              "<table border=\"1\" class=\"dataframe\">\n",
              "  <thead>\n",
              "    <tr style=\"text-align: right;\">\n",
              "      <th></th>\n",
              "      <th>0</th>\n",
              "    </tr>\n",
              "  </thead>\n",
              "  <tbody>\n",
              "    <tr>\n",
              "      <th>Text</th>\n",
              "      <td>0</td>\n",
              "    </tr>\n",
              "  </tbody>\n",
              "</table>\n",
              "</div><br><label><b>dtype:</b> int64</label>"
            ]
          },
          "metadata": {},
          "execution_count": 24
        }
      ],
      "source": [
        "# Check for missing values\n",
        "data.isnull().sum()"
      ]
    },
    {
      "cell_type": "markdown",
      "metadata": {
        "id": "a9JV6etiY0g9"
      },
      "source": [
        "- There are no mising values in the data"
      ]
    },
    {
      "cell_type": "markdown",
      "metadata": {
        "id": "i8MHLoYFk4cj"
      },
      "source": [
        "### Checking for duplicate values"
      ]
    },
    {
      "cell_type": "code",
      "execution_count": null,
      "metadata": {
        "colab": {
          "base_uri": "https://localhost:8080/"
        },
        "id": "0riz6vzzk4cu",
        "outputId": "89cda812-5e85-4d12-d493-36a005e979dd"
      },
      "outputs": [
        {
          "output_type": "execute_result",
          "data": {
            "text/plain": [
              "np.int64(98)"
            ]
          },
          "metadata": {},
          "execution_count": 25
        }
      ],
      "source": [
        "# Check for duplicate values\n",
        "data.duplicated().sum()"
      ]
    },
    {
      "cell_type": "markdown",
      "metadata": {
        "id": "ZIaC9FQPk4cv"
      },
      "source": [
        "- We'll drop the duplicate values in the data."
      ]
    },
    {
      "cell_type": "code",
      "execution_count": null,
      "metadata": {
        "id": "qbk7cAnTk8FA"
      },
      "outputs": [],
      "source": [
        "data = data.drop_duplicates()\n",
        "\n",
        "# resetting the dataframe index\n",
        "data.reset_index(drop=True, inplace=True)"
      ]
    },
    {
      "cell_type": "code",
      "execution_count": null,
      "metadata": {
        "colab": {
          "base_uri": "https://localhost:8080/"
        },
        "id": "1ivDvrO7lF0F",
        "outputId": "830b3973-0007-4059-e49c-1071dcf32812"
      },
      "outputs": [
        {
          "output_type": "execute_result",
          "data": {
            "text/plain": [
              "np.int64(0)"
            ]
          },
          "metadata": {},
          "execution_count": 27
        }
      ],
      "source": [
        "data.duplicated().sum()"
      ]
    },
    {
      "cell_type": "markdown",
      "metadata": {
        "id": "hZZHuFYZlHXi"
      },
      "source": [
        "- There are no duplicate values in the data now."
      ]
    },
    {
      "cell_type": "markdown",
      "metadata": {
        "id": "fYtRRwpJKTxz"
      },
      "source": [
        "## **Model Building**"
      ]
    },
    {
      "cell_type": "markdown",
      "metadata": {
        "id": "51ITQezWi9VE"
      },
      "source": [
        "### **Defining the model**"
      ]
    },
    {
      "cell_type": "markdown",
      "metadata": {
        "id": "yNDAvKn0Klwa"
      },
      "source": [
        "We'll be using the **all-MiniLM-L6-v2** model here.\n",
        "\n",
        "💡 The **all-MiniLM-L6-v2** model is an all-round (**all**) model trained on a large and diverse dataset of over 1 billion training samples and generates state-of-the-art sentence embeddings of 384 dimensions.\n",
        "\n",
        "📊  It is a language model (**LM**) that has 6 transformer encoder layers (**L6**) and is a smaller model (**Mini**) trained to mimic the performance of a larger model (BERT).\n",
        "\n",
        "🛠️ Potential use-cases include text classification, sentiment analysis, and semantic search."
      ]
    },
    {
      "cell_type": "code",
      "execution_count": null,
      "metadata": {
        "id": "3EQ7eQIpYSyz"
      },
      "outputs": [],
      "source": [
        "#Defining the model\n",
        "model = SentenceTransformer('sentence-transformers/all-MiniLM-L6-v2')"
      ]
    },
    {
      "cell_type": "markdown",
      "metadata": {
        "id": "Lll4MLfzKfBa"
      },
      "source": [
        "### **Encoding the dataset**"
      ]
    },
    {
      "cell_type": "code",
      "execution_count": null,
      "metadata": {
        "id": "wqQUCHjwcN6d"
      },
      "outputs": [],
      "source": [
        "# setting the device to GPU if available, else CPU\n",
        "device = torch.device(\"cuda\" if torch.cuda.is_available() else \"cpu\")"
      ]
    },
    {
      "cell_type": "code",
      "execution_count": null,
      "metadata": {
        "colab": {
          "base_uri": "https://localhost:8080/",
          "height": 49,
          "referenced_widgets": [
            "e1475c7eae62414389a8ece291cf8667",
            "f5b760d54f144de1bffc4995f26670aa",
            "0db8cf92bc96420592b5ce37d0722e51",
            "6df82fb2e60f403b953a48fd5220b687",
            "2e369c1e3e0a431091574db46795ad5f",
            "fcc0793a08304648a6c1c0ce8e671362",
            "31b02860fc0844ee8fc460a7662e9c02",
            "84fe637be9084448862506a791d3844a",
            "016ec740bff64eb8be16ad7419778594",
            "e2b613da3240473c8aa564909de114c7",
            "d29ecfedca344afabb04fd358ff4c531"
          ]
        },
        "id": "q1BaGKThKcX3",
        "outputId": "ff24b5b5-f9c0-4405-edda-0cf248ebe66f"
      },
      "outputs": [
        {
          "output_type": "display_data",
          "data": {
            "text/plain": [
              "Batches:   0%|          | 0/67 [00:00<?, ?it/s]"
            ],
            "application/vnd.jupyter.widget-view+json": {
              "version_major": 2,
              "version_minor": 0,
              "model_id": "e1475c7eae62414389a8ece291cf8667"
            }
          },
          "metadata": {}
        }
      ],
      "source": [
        "# encoding the dataset\n",
        "embedding_matrix = model.encode(data['Text'], show_progress_bar=True, device=device)"
      ]
    },
    {
      "cell_type": "code",
      "execution_count": null,
      "metadata": {
        "colab": {
          "base_uri": "https://localhost:8080/"
        },
        "id": "Oqi4c8sBC9pH",
        "outputId": "f2819026-12dc-4861-b8bc-2229625ec884"
      },
      "outputs": [
        {
          "output_type": "execute_result",
          "data": {
            "text/plain": [
              "(2127, 384)"
            ]
          },
          "metadata": {},
          "execution_count": 31
        }
      ],
      "source": [
        "# printing the shape of the embedding matrix\n",
        "embedding_matrix.shape"
      ]
    },
    {
      "cell_type": "markdown",
      "metadata": {
        "id": "hcGWEfJnBmQ-"
      },
      "source": [
        "- Each news article has been converted to a 384-dimensional vector"
      ]
    },
    {
      "cell_type": "code",
      "execution_count": null,
      "metadata": {
        "colab": {
          "base_uri": "https://localhost:8080/"
        },
        "id": "pi3-HSa7GghW",
        "outputId": "4564ebb2-1bce-44f3-e1e0-810e25f2d67c"
      },
      "outputs": [
        {
          "output_type": "execute_result",
          "data": {
            "text/plain": [
              "array([ 1.44794127e-02, -4.38905470e-02,  4.06048149e-02,  3.38673666e-02,\n",
              "        4.66220044e-02,  5.57742268e-03, -3.69810354e-04,  1.33454734e-02,\n",
              "       -1.03029288e-01, -1.23874564e-02, -5.02619930e-02, -6.02808315e-03,\n",
              "       -8.61232355e-02, -3.95135358e-02,  5.19401804e-02,  4.02558781e-02,\n",
              "        3.58564779e-02, -4.91258428e-02, -2.51600407e-02,  1.86599717e-02,\n",
              "        4.86738011e-02,  2.63490584e-02,  2.73289811e-02,  8.51523504e-03,\n",
              "       -1.01890496e-03, -3.53113152e-02, -3.98135595e-02, -2.16447879e-02,\n",
              "        3.11895460e-03, -4.22790786e-03,  5.14480025e-02,  2.35553235e-02,\n",
              "       -2.63924617e-03, -4.60395999e-02,  9.76819992e-02, -8.32191668e-03,\n",
              "        4.85510714e-02,  2.88543961e-04, -2.75926758e-02, -6.78624511e-02,\n",
              "       -8.47566480e-05, -1.21228874e-01, -1.27628684e-01,  2.30148854e-03,\n",
              "        1.76546294e-02,  8.28286707e-02,  1.43665522e-01,  4.40125577e-02,\n",
              "       -3.96102443e-02, -3.06835845e-02,  1.02246106e-02,  9.16654319e-02,\n",
              "       -1.57279074e-02, -6.71291575e-02,  2.88571082e-02, -6.18541315e-02,\n",
              "       -1.35475490e-03,  1.86057966e-02, -2.39253398e-02, -4.46154438e-02,\n",
              "       -1.41843289e-01, -7.73503119e-03, -5.63330650e-02, -4.44903262e-02,\n",
              "        9.01333317e-02,  2.58514732e-02, -1.71456225e-02, -6.67136759e-02,\n",
              "       -5.65200970e-02,  1.69989448e-02,  4.20010835e-03, -4.15838286e-02,\n",
              "        6.17690990e-03, -8.11368376e-02, -3.13622653e-02, -2.03645807e-02,\n",
              "        1.23171629e-02,  7.73718357e-02, -1.76192764e-02,  3.78049468e-03,\n",
              "       -2.75301430e-02, -4.31833509e-03, -3.64544764e-02,  5.03686676e-03,\n",
              "       -4.92277332e-02, -1.07446596e-01,  4.30835644e-03, -1.69723481e-02,\n",
              "        1.46524003e-02,  3.19722258e-02,  3.89326997e-02,  1.63960624e-02,\n",
              "       -1.43402675e-02,  9.34190378e-02, -5.61610647e-02,  1.24992467e-02,\n",
              "        4.55066524e-02,  1.07929958e-02, -2.44015381e-02,  2.26477906e-02,\n",
              "       -2.13003512e-02,  8.39618072e-02, -3.06761544e-02,  2.74587199e-02,\n",
              "       -3.78785022e-02, -6.52883872e-02, -6.31987751e-02,  6.55297097e-03,\n",
              "        2.41934936e-02, -8.41681361e-02,  7.18985349e-02,  2.09383778e-02,\n",
              "       -6.39741346e-02, -2.13747304e-02, -1.36301098e-02, -9.33913141e-02,\n",
              "       -1.56275593e-02, -5.04019745e-02,  9.21057910e-02,  3.97910960e-02,\n",
              "        5.70098162e-02,  9.27853733e-02, -3.68378013e-02, -1.18195871e-02,\n",
              "        3.30968038e-03,  5.00255544e-03,  1.25559345e-02,  2.76461063e-33,\n",
              "        4.74378467e-02,  3.47738229e-02, -1.16578629e-02, -3.05349976e-02,\n",
              "       -7.68215209e-02,  6.32841811e-02, -1.32142147e-02,  3.37239690e-02,\n",
              "        3.26281600e-02,  8.31545144e-02,  2.48786081e-02, -6.06665015e-02,\n",
              "        2.65352279e-02,  2.28170864e-03,  7.22359633e-03, -8.02674796e-03,\n",
              "       -2.16838717e-02, -3.63995060e-02,  5.95801175e-02,  2.27545537e-02,\n",
              "        1.02657941e-03, -1.87253393e-02,  1.62989777e-02, -2.71336571e-03,\n",
              "        1.58690102e-02,  5.57673909e-02,  2.05281302e-02, -1.28759090e-02,\n",
              "        5.55063374e-02,  4.82463948e-02,  1.73049103e-02,  5.19640520e-02,\n",
              "        3.10514756e-02, -4.87197712e-02, -1.36825010e-01,  3.17483954e-02,\n",
              "       -2.14498583e-02, -4.65667993e-02, -5.45183988e-03, -7.97342230e-03,\n",
              "       -5.16888984e-02,  8.64941068e-03,  9.25090164e-02, -3.71950306e-02,\n",
              "       -8.37489888e-02, -2.66319513e-02,  1.03992149e-01, -4.68459092e-02,\n",
              "       -4.11881283e-02,  5.88751249e-02,  4.19805571e-02, -4.55617011e-02,\n",
              "       -8.00889824e-03, -1.93702045e-03, -7.17620999e-02, -5.84272817e-02,\n",
              "        2.94785295e-02, -8.27542320e-02,  2.18528826e-02, -6.17207550e-02,\n",
              "        4.32288228e-03, -7.58260712e-02,  1.10201386e-03,  7.42050586e-03,\n",
              "        1.06031746e-02,  1.25851100e-02, -7.55299255e-03, -2.82972790e-02,\n",
              "       -5.92944436e-02,  7.78174102e-02,  2.79045384e-02,  2.91202147e-03,\n",
              "        4.02710997e-02, -3.80812623e-02,  1.44247990e-02, -1.51657907e-03,\n",
              "       -1.18714978e-03,  1.55451968e-02,  6.13293238e-02,  9.84176528e-03,\n",
              "       -5.80893736e-03, -1.25939380e-02, -7.90658221e-03, -1.21872663e-01,\n",
              "        9.47904959e-02, -2.10512080e-03,  3.39542180e-02,  4.29415107e-02,\n",
              "        1.30992923e-02, -5.43967485e-02, -3.79597172e-02, -1.24070622e-01,\n",
              "        3.70347425e-02, -7.54276887e-02,  2.60141939e-02, -4.29413486e-33,\n",
              "        3.78083326e-02,  1.99689567e-02, -3.21630165e-02,  2.72025671e-02,\n",
              "       -1.75321214e-02,  3.80310565e-02,  6.07779995e-02, -7.44562745e-02,\n",
              "       -9.03896522e-03,  5.96647598e-02, -8.54460597e-02,  1.30271791e-02,\n",
              "        5.69809638e-02,  6.41120300e-02, -5.07289134e-02, -2.66248770e-02,\n",
              "       -2.29617991e-02, -4.08750139e-02,  5.47161102e-02, -5.32457195e-02,\n",
              "        1.26839429e-02,  6.95067346e-02,  4.62128557e-02,  1.59760401e-01,\n",
              "       -1.02685355e-01, -4.66472358e-02, -6.11350723e-02, -1.25793451e-02,\n",
              "        4.64012548e-02, -7.54205510e-02, -6.68186992e-02,  2.59753615e-02,\n",
              "       -1.73686538e-02, -6.43857494e-02,  2.15817429e-02, -2.64662714e-03,\n",
              "       -4.77055423e-02, -1.32246064e-02,  3.82060669e-02,  1.28422871e-01,\n",
              "        2.27453765e-02, -4.04638387e-02,  1.80804543e-02, -6.43717125e-03,\n",
              "       -1.67382217e-03, -5.57813980e-02, -3.72207947e-02,  2.33512819e-02,\n",
              "        1.03249259e-01,  7.51179531e-02,  3.99050005e-02,  9.09714997e-02,\n",
              "       -4.87237908e-02,  5.79150505e-02, -3.37019376e-02, -6.29016710e-03,\n",
              "       -1.39224529e-02, -3.88751104e-02, -2.16567814e-02,  5.38063049e-02,\n",
              "        6.84655178e-03,  3.30317877e-02,  3.14622447e-02, -2.74461564e-02,\n",
              "        4.51340489e-02,  6.83064107e-03, -1.30021255e-02, -6.08489849e-02,\n",
              "        1.58182487e-01,  3.13935839e-02, -8.03488269e-02, -1.27568305e-01,\n",
              "        9.05217752e-02, -7.70072266e-02, -2.07397435e-02,  8.27303994e-03,\n",
              "        7.04106614e-02,  2.86395811e-02,  8.29506144e-02, -3.96129349e-03,\n",
              "        4.74309511e-02, -1.80157423e-02,  7.88444374e-03, -2.25072987e-02,\n",
              "        3.49871702e-02, -9.25627127e-02,  1.16306012e-02, -5.85618569e-03,\n",
              "       -4.94819321e-03,  5.39307073e-02, -4.74935323e-02,  4.01892588e-02,\n",
              "        6.00188673e-02,  5.38944490e-02, -1.93055458e-02, -5.76438168e-08,\n",
              "       -9.35379323e-03, -1.22183198e-02, -2.09736098e-02,  5.86976930e-02,\n",
              "        2.63292659e-02,  2.39369795e-02, -1.28449555e-02,  3.97936553e-02,\n",
              "       -1.89587381e-02,  8.85139965e-03,  1.42002329e-01, -1.04715796e-02,\n",
              "       -4.50686142e-02, -5.64215444e-02, -7.30729625e-02,  5.06192930e-02,\n",
              "       -3.99939269e-02, -4.71770875e-02, -4.27300856e-02,  1.79325044e-02,\n",
              "        5.48870303e-02,  2.77483109e-02, -4.03966457e-02,  1.41044855e-02,\n",
              "        2.22469959e-02,  6.64242823e-03,  1.61605868e-02,  3.72805521e-02,\n",
              "        6.05162308e-02,  4.71508354e-02, -3.33462544e-02,  1.12325186e-02,\n",
              "        4.98039089e-02,  3.49443518e-02,  2.19013542e-02, -5.62986620e-02,\n",
              "       -8.09240621e-03,  6.28021583e-02,  3.56795527e-02,  3.87923233e-02,\n",
              "        1.61896311e-02, -1.07595533e-01, -4.20461111e-02, -8.14996846e-03,\n",
              "       -7.47626722e-02, -4.65845950e-02, -1.59725249e-01,  4.55363467e-02,\n",
              "       -2.66478546e-02, -2.06267871e-02, -1.32480869e-03,  5.07504009e-02,\n",
              "       -1.38712116e-02,  1.51793703e-01,  1.31934239e-02, -3.80076258e-03,\n",
              "       -6.27643690e-02, -1.20329605e-02, -3.95643488e-02,  1.48012843e-02,\n",
              "        3.61956470e-03, -1.06161945e-01, -7.35033900e-02,  4.17755172e-02],\n",
              "      dtype=float32)"
            ]
          },
          "metadata": {},
          "execution_count": 32
        }
      ],
      "source": [
        "# printing the embedding vector of the first review in the dataset\n",
        "embedding_matrix[0]"
      ]
    },
    {
      "cell_type": "markdown",
      "metadata": {
        "id": "LH3_pyqajPtN"
      },
      "source": [
        "**Note**: We have not trained or fine-tuned the model. We have used the pre-trained model to encode the dataset."
      ]
    },
    {
      "cell_type": "markdown",
      "metadata": {
        "id": "-WmQe5LKivez"
      },
      "source": [
        "## **Semantic Search**"
      ]
    },
    {
      "cell_type": "markdown",
      "metadata": {
        "id": "lxiB0ewYNVS8"
      },
      "source": [
        "**Now, let's search for similar reviews in our dataset.**"
      ]
    },
    {
      "cell_type": "code",
      "execution_count": null,
      "metadata": {
        "id": "bSjjKSc-OFvj"
      },
      "outputs": [],
      "source": [
        "# defining a function to find the top k similar sentences for a given query\n",
        "def top_k_similar_sentences(embedding_matrix, query_text, k):\n",
        "    # encoding the query text\n",
        "    query_embedding = model.encode(query_text)\n",
        "\n",
        "    # calculating the cosine similarity between the query vector and all other encoded vectors of our dataset\n",
        "    score_vector = [distance.cosine(x,query_embedding) for x in embedding_matrix]\n",
        "\n",
        "    # sorting the scores in descending order and choosing the first k\n",
        "    top_k_indices = np.argsort(score_vector)[::-1][:k]\n",
        "\n",
        "    # returning the corresponding reviews\n",
        "    return data.loc[list(top_k_indices), 'Text']"
      ]
    },
    {
      "cell_type": "code",
      "execution_count": null,
      "metadata": {
        "colab": {
          "base_uri": "https://localhost:8080/"
        },
        "id": "XsrLRlSVjbuT",
        "outputId": "18037e61-776b-492d-9d2b-9dcc3b79e38a"
      },
      "outputs": [
        {
          "output_type": "stream",
          "name": "stdout",
          "text": [
            "[np.float32(0.63752365), np.float32(0.9151541), np.float32(0.88505125), np.float32(0.64890635), np.float32(0.76178825), np.float32(0.8282525), np.float32(0.8725338), np.float32(0.7866583), np.float32(0.7707509), np.float32(0.7150198), np.float32(1.1217725), np.float32(0.86341894), np.float32(0.9337802), np.float32(0.87893337), np.float32(0.87316597), np.float32(0.70851254), np.float32(0.75531906), np.float32(0.91265476), np.float32(0.9893385), np.float32(0.953206), np.float32(0.91677314), np.float32(0.86174166), np.float32(0.77376956), np.float32(0.77951753), np.float32(0.73514783), np.float32(0.91085774), np.float32(0.8906509), np.float32(1.0017802), np.float32(0.7529662), np.float32(0.82878375), np.float32(0.7559924), np.float32(0.7933781), np.float32(0.8144873), np.float32(0.6592074), np.float32(1.011567), np.float32(1.0074645), np.float32(0.6318787), np.float32(0.9096178), np.float32(0.60971844), np.float32(0.8682002), np.float32(0.7443199), np.float32(0.87898004), np.float32(0.6620816), np.float32(0.94935304), np.float32(0.98951054), np.float32(0.90295553), np.float32(0.8202209), np.float32(0.9498036), np.float32(0.89206606), np.float32(0.8592452), np.float32(0.8640287), np.float32(0.9934614), np.float32(0.8478559), np.float32(0.8745788), np.float32(1.0245023), np.float32(0.7591555), np.float32(0.8479434), np.float32(0.8604404), np.float32(0.7738355), np.float32(0.66499245), np.float32(0.7101147), np.float32(0.9511589), np.float32(0.94134974), np.float32(0.8809123), np.float32(0.8957684), np.float32(0.97776145), np.float32(0.91337645), np.float32(0.46317524), np.float32(0.8707801), np.float32(0.84120214), np.float32(0.5451425), np.float32(0.7568658), np.float32(0.7351513), np.float32(1.0128939), np.float32(0.6429754), np.float32(0.8297561), np.float32(0.92945415), np.float32(0.60485685), np.float32(0.84728473), np.float32(0.93166894), np.float32(0.8466672), np.float32(0.7219187), np.float32(0.8243389), np.float32(0.96879596), np.float32(0.55916196), np.float32(0.8066422), np.float32(0.806688), np.float32(0.7572487), np.float32(0.77510333), np.float32(0.9030988), np.float32(0.83121896), np.float32(0.73590374), np.float32(0.8033924), np.float32(0.76483566), np.float32(0.6522974), np.float32(0.7782429), np.float32(0.7150198), np.float32(0.8604028), np.float32(0.9336472), np.float32(0.89586276), np.float32(0.8580058), np.float32(0.79240245), np.float32(0.8698658), np.float32(0.974162), np.float32(0.7743214), np.float32(0.8564011), np.float32(0.8111508), np.float32(1.0481231), np.float32(0.8750841), np.float32(0.9018598), np.float32(0.7019685), np.float32(0.73334014), np.float32(0.80503595), np.float32(0.8835341), np.float32(0.94927025), np.float32(0.9688447), np.float32(0.79272777), np.float32(0.7634003), np.float32(0.7364726), np.float32(0.74069136), np.float32(0.7134015), np.float32(0.9859611), np.float32(0.8237357), np.float32(0.8246063), np.float32(0.70561755), np.float32(0.75145334), np.float32(0.55708635), np.float32(0.8974863), np.float32(0.8980119), np.float32(0.93445086), np.float32(0.73762095), np.float32(0.7933456), np.float32(0.7702358), np.float32(0.5457654), np.float32(0.8679571), np.float32(0.7394163), np.float32(0.7071131), np.float32(0.76200074), np.float32(0.87097406), np.float32(0.9778258), np.float32(0.9008196), np.float32(0.88897175), np.float32(0.59635556), np.float32(1.0426688), np.float32(0.9794088), np.float32(0.9161041), np.float32(0.73952264), np.float32(0.7967706), np.float32(0.8904719), np.float32(0.9078292), np.float32(0.53115284), np.float32(0.81358296), np.float32(0.88360596), np.float32(0.6775787), np.float32(0.79043627), np.float32(0.912889), np.float32(0.8631488), np.float32(0.90435636), np.float32(0.8916018), np.float32(0.93661696), np.float32(0.8975819), np.float32(0.750221), np.float32(0.74997824), np.float32(0.921018), np.float32(0.8989289), np.float32(0.7034894), np.float32(1.1062431), np.float32(0.8033414), np.float32(0.7958213), np.float32(0.896787), np.float32(0.84491986), np.float32(0.7949914), np.float32(0.74334276), np.float32(0.91805965), np.float32(0.83866894), np.float32(1.0562023), np.float32(0.93488145), np.float32(0.94215006), np.float32(0.768996), np.float32(0.9707731), np.float32(0.8394205), np.float32(0.7838305), np.float32(0.7922994), np.float32(0.9635028), np.float32(0.8442743), np.float32(0.6946013), np.float32(0.6568016), np.float32(1.0212407), np.float32(0.9129686), np.float32(0.98930687), np.float32(0.6965541), np.float32(0.8315686), np.float32(0.8845464), np.float32(0.9603922), np.float32(0.70100594), np.float32(0.89181936), np.float32(0.76418966), np.float32(0.6971041), np.float32(0.8960902), np.float32(0.98498917), np.float32(1.0186676), np.float32(0.87410676), np.float32(0.88073504), np.float32(0.99648786), np.float32(0.6028176), np.float32(0.9788619), np.float32(0.861813), np.float32(0.870876), np.float32(0.88558835), np.float32(0.8261469), np.float32(0.8242607), np.float32(0.60971844), np.float32(0.81342065), np.float32(0.83486146), np.float32(0.795493), np.float32(0.91938025), np.float32(0.8168964), np.float32(0.8925218), np.float32(0.72941625), np.float32(0.7475605), np.float32(0.904329), np.float32(0.89650935), np.float32(0.79047114), np.float32(0.61239564), np.float32(0.7044573), np.float32(0.90092695), np.float32(0.84524965), np.float32(0.8770309), np.float32(0.84937227), np.float32(0.6217718), np.float32(0.85480607), np.float32(0.77429926), np.float32(1.0010395), np.float32(0.89615613), np.float32(0.66853386), np.float32(0.89640623), np.float32(0.7602719), np.float32(0.92990744), np.float32(0.88049173), np.float32(0.9086364), np.float32(0.9008823), np.float32(0.7836759), np.float32(0.99859583), np.float32(0.95546764), np.float32(0.9563271), np.float32(0.73580146), np.float32(0.7896975), np.float32(0.9427495), np.float32(0.68377644), np.float32(0.7596904), np.float32(0.67667186), np.float32(0.91692024), np.float32(0.84826696), np.float32(0.90849954), np.float32(1.0290059), np.float32(0.5865499), np.float32(0.8744428), np.float32(0.91496253), np.float32(0.7591639), np.float32(0.98883706), np.float32(0.91525877), np.float32(0.84274745), np.float32(0.96257883), np.float32(0.76246715), np.float32(0.8089307), np.float32(0.98965096), np.float32(0.89038616), np.float32(1.0368098), np.float32(0.7854892), np.float32(0.75761914), np.float32(0.8687992), np.float32(0.8147877), np.float32(0.8766858), np.float32(0.8750712), np.float32(0.6954719), np.float32(0.80839986), np.float32(0.8891168), np.float32(0.9155885), np.float32(0.8218297), np.float32(0.6981088), np.float32(0.93390775), np.float32(0.91778255), np.float32(0.7794664), np.float32(0.6479825), np.float32(0.9985729), np.float32(0.71781075), np.float32(0.7311906), np.float32(0.8393439), np.float32(0.9524135), np.float32(1.0680141), np.float32(0.7911686), np.float32(0.9785159), np.float32(0.78926265), np.float32(0.78393805), np.float32(0.891113), np.float32(0.7794287), np.float32(0.796391), np.float32(0.7902082), np.float32(0.8906542), np.float32(0.848735), np.float32(0.7543205), np.float32(0.8742112), np.float32(0.96959126), np.float32(0.81463265), np.float32(0.67233944), np.float32(0.8681648), np.float32(0.7000238), np.float32(0.7990949), np.float32(0.9336506), np.float32(0.72124755), np.float32(0.80025107), np.float32(0.9408667), np.float32(0.89562535), np.float32(0.9246472), np.float32(0.8538264), np.float32(0.81957984), np.float32(0.75256646), np.float32(0.70228297), np.float32(0.8488415), np.float32(0.70420367), np.float32(0.7683284), np.float32(0.8862344), np.float32(0.9204446), np.float32(0.81247914), np.float32(0.86341953), np.float32(0.94790125), np.float32(0.66554946), np.float32(0.9434726), np.float32(0.82294905), np.float32(0.84675205), np.float32(0.8943913), np.float32(1.0183371), np.float32(0.94842124), np.float32(0.81896544), np.float32(0.870193), np.float32(0.90087724), np.float32(0.8524535), np.float32(0.9479549), np.float32(0.85549235), np.float32(0.75452554), np.float32(0.9246793), np.float32(0.82903326), np.float32(0.86256236), np.float32(0.8329966), np.float32(0.7581544), np.float32(0.9119132), np.float32(0.7332758), np.float32(1.0325886), np.float32(0.7967073), np.float32(0.71429455), np.float32(1.002523), np.float32(0.9555689), np.float32(0.8786135), np.float32(0.9363983), np.float32(0.835498), np.float32(0.7790282), np.float32(0.5448657), np.float32(0.6933665), np.float32(0.7174618), np.float32(0.8835442), np.float32(0.6684057), np.float32(0.9587312), np.float32(0.83004916), np.float32(0.895307), np.float32(1.0377187), np.float32(0.816174), np.float32(0.9568383), np.float32(0.85171187), np.float32(0.9614732), np.float32(0.8443134), np.float32(0.9020766), np.float32(0.76957834), np.float32(0.98950505), np.float32(0.84787834), np.float32(0.95896435), np.float32(1.0337598), np.float32(0.90066516), np.float32(0.9915487), np.float32(0.7019904), np.float32(0.7046416), np.float32(0.75610197), np.float32(0.8177792), np.float32(0.9095906), np.float32(0.89620274), np.float32(0.97521955), np.float32(0.9036877), np.float32(0.83654916), np.float32(0.734975), np.float32(0.9841312), np.float32(0.9230668), np.float32(0.8924675), np.float32(0.905463), np.float32(0.910168), np.float32(0.85149807), np.float32(0.68627477), np.float32(0.84271127), np.float32(0.77939993), np.float32(0.65668535), np.float32(0.88372093), np.float32(0.96932083), np.float32(0.9113591), np.float32(0.7978338), np.float32(0.8571148), np.float32(0.97788364), np.float32(0.975468), np.float32(0.9643842), np.float32(0.95262325), np.float32(1.0126238), np.float32(0.9317953), np.float32(0.98158795), np.float32(0.98234063), np.float32(0.99483126), np.float32(1.0404537), np.float32(1.0540738), np.float32(0.9782783), np.float32(0.97285116), np.float32(0.99535495), np.float32(1.0401286), np.float32(1.0340927), np.float32(0.9674045), np.float32(1.017026), np.float32(0.9525003), np.float32(0.95817035), np.float32(1.0481112), np.float32(0.93500835), np.float32(1.034404), np.float32(1.0008813), np.float32(0.9930402), np.float32(0.96805525), np.float32(0.9993403), np.float32(1.044879), np.float32(0.98278373), np.float32(1.0012066), np.float32(1.0108298), np.float32(1.0004705), np.float32(0.85081637), np.float32(0.9967817), np.float32(0.96713215), np.float32(0.99728006), np.float32(0.9945922), np.float32(1.0294943), np.float32(1.0564743), np.float32(1.0092144), np.float32(0.9930296), np.float32(0.98389864), np.float32(0.9657131), np.float32(1.0053464), np.float32(0.9784429), np.float32(0.9424833), np.float32(0.92819184), np.float32(0.9582255), np.float32(1.0095298), np.float32(0.9985539), np.float32(0.9966761), np.float32(0.99993277), np.float32(0.9627324), np.float32(0.9957443), np.float32(0.9573095), np.float32(1.0083609), np.float32(1.028247), np.float32(0.92868316), np.float32(0.963148), np.float32(0.9845969), np.float32(1.0047469), np.float32(1.0292449), np.float32(1.0349435), np.float32(1.0113719), np.float32(1.049972), np.float32(1.0232216), np.float32(1.0331635), np.float32(1.0239435), np.float32(1.039136), np.float32(1.031122), np.float32(1.0095359), np.float32(1.0311208), np.float32(0.93557245), np.float32(0.991692), np.float32(1.0010507), np.float32(1.0096153), np.float32(1.0709171), np.float32(1.0280137), np.float32(0.93562216), np.float32(0.9730399), np.float32(1.052501), np.float32(1.0032907), np.float32(1.0164021), np.float32(0.96347034), np.float32(0.94933754), np.float32(0.97182465), np.float32(1.0531104), np.float32(0.9611887), np.float32(0.95153457), np.float32(1.0466578), np.float32(0.98325264), np.float32(0.9027457), np.float32(1.0377549), np.float32(1.0060226), np.float32(1.0117514), np.float32(1.0593076), np.float32(1.0596311), np.float32(1.029642), np.float32(0.9411741), np.float32(1.0435462), np.float32(1.0126843), np.float32(1.0337254), np.float32(1.0172712), np.float32(1.0324991), np.float32(1.0260335), np.float32(0.96020657), np.float32(1.0546685), np.float32(0.96020454), np.float32(0.978334), np.float32(0.89530134), np.float32(0.94410455), np.float32(0.99606466), np.float32(1.0286331), np.float32(0.9332843), np.float32(1.0067383), np.float32(0.9408553), np.float32(1.0164903), np.float32(0.99827373), np.float32(0.8898395), np.float32(0.98183143), np.float32(1.0401512), np.float32(0.99769235), np.float32(0.95135295), np.float32(0.94062424), np.float32(0.9810284), np.float32(0.9547259), np.float32(0.990633), np.float32(1.0541508), np.float32(1.0273794), np.float32(0.9397695), np.float32(1.0160832), np.float32(1.0000978), np.float32(1.0084494), np.float32(0.9168607), np.float32(1.0343), np.float32(1.0072815), np.float32(1.0383048), np.float32(0.9968579), np.float32(0.99961954), np.float32(0.9598617), np.float32(1.0507883), np.float32(0.98832065), np.float32(0.9952111), np.float32(1.0376481), np.float32(1.0586226), np.float32(0.9899119), np.float32(0.9964083), np.float32(1.0488642), np.float32(0.96912587), np.float32(0.98294204), np.float32(0.9691905), np.float32(0.9975998), np.float32(1.0494056), np.float32(0.9681026), np.float32(1.0114647), np.float32(1.0090805), np.float32(1.0356311), np.float32(1.0388938), np.float32(0.94442856), np.float32(0.96026826), np.float32(0.9977978), np.float32(1.0104864), np.float32(1.0201778), np.float32(1.0466002), np.float32(1.0050567), np.float32(0.91031504), np.float32(0.97736335), np.float32(0.9678143), np.float32(1.0216489), np.float32(0.9444079), np.float32(1.0324026), np.float32(1.0515729), np.float32(1.0384558), np.float32(0.9989897), np.float32(1.0607537), np.float32(1.0190659), np.float32(1.002772), np.float32(0.98954284), np.float32(1.0024837), np.float32(1.0386093), np.float32(1.0300137), np.float32(1.0062745), np.float32(0.9916896), np.float32(0.97845083), np.float32(0.93215364), np.float32(0.9872108), np.float32(0.995798), np.float32(0.9873848), np.float32(1.0156995), np.float32(1.0138211), np.float32(0.98359776), np.float32(1.0476921), np.float32(0.9761367), np.float32(0.99486464), np.float32(0.94938976), np.float32(0.9949136), np.float32(1.0132762), np.float32(0.9677748), np.float32(0.9513785), np.float32(0.9152727), np.float32(0.99022925), np.float32(0.99885046), np.float32(0.9449339), np.float32(0.8930579), np.float32(1.0166163), np.float32(1.0136759), np.float32(1.0475886), np.float32(0.97841036), np.float32(0.96080506), np.float32(0.9250696), np.float32(1.0126855), np.float32(0.99615836), np.float32(1.0588647), np.float32(0.97069997), np.float32(0.8338813), np.float32(1.0367513), np.float32(0.95871925), np.float32(1.007743), np.float32(0.9428431), np.float32(1.0044236), np.float32(1.0797874), np.float32(0.99898267), np.float32(1.0103971), np.float32(1.0016617), np.float32(0.9893338), np.float32(1.1221294), np.float32(1.0417861), np.float32(0.92734414), np.float32(1.0509634), np.float32(1.0258491), np.float32(1.0285733), np.float32(1.0136614), np.float32(1.0115733), np.float32(1.0574546), np.float32(0.97072333), np.float32(0.9770974), np.float32(0.9872565), np.float32(1.0263115), np.float32(0.99250287), np.float32(1.0185248), np.float32(0.9786751), np.float32(1.0057615), np.float32(1.0367452), np.float32(0.9952082), np.float32(1.054758), np.float32(1.0057857), np.float32(0.9993815), np.float32(1.0366781), np.float32(0.97053474), np.float32(1.0085423), np.float32(0.9490945), np.float32(0.97762775), np.float32(1.0061558), np.float32(0.89617604), np.float32(1.0098122), np.float32(0.94088024), np.float32(0.95950353), np.float32(1.0403636), np.float32(1.0794771), np.float32(1.023506), np.float32(0.93360716), np.float32(0.98883593), np.float32(0.98011327), np.float32(0.9782873), np.float32(1.047853), np.float32(1.0395697), np.float32(0.9311655), np.float32(1.0240111), np.float32(0.9809761), np.float32(0.94530267), np.float32(0.98838776), np.float32(1.0417215), np.float32(1.027465), np.float32(1.018617), np.float32(0.9507211), np.float32(0.96993536), np.float32(1.0133519), np.float32(0.77824867), np.float32(0.8951206), np.float32(0.99633974), np.float32(0.98872185), np.float32(0.98201144), np.float32(1.025842), np.float32(1.0564833), np.float32(0.9375932), np.float32(0.9592602), np.float32(0.99000764), np.float32(0.90540475), np.float32(1.045059), np.float32(1.0647705), np.float32(1.0504733), np.float32(1.0416397), np.float32(1.0061798), np.float32(1.0039885), np.float32(0.95819885), np.float32(0.95369995), np.float32(0.96595013), np.float32(1.03734), np.float32(0.9880184), np.float32(1.0021614), np.float32(0.9361536), np.float32(0.9646934), np.float32(1.0295651), np.float32(0.9708285), np.float32(0.96877897), np.float32(0.9514722), np.float32(0.9756363), np.float32(1.0166913), np.float32(1.0155537), np.float32(0.94769806), np.float32(0.9239265), np.float32(0.9993121), np.float32(0.96417975), np.float32(1.0882275), np.float32(0.93506825), np.float32(1.0206699), np.float32(0.85053825), np.float32(1.0507033), np.float32(0.9654584), np.float32(0.9913076), np.float32(1.0131953), np.float32(1.002173), np.float32(1.03845), np.float32(0.9933205), np.float32(0.9911036), np.float32(1.0199376), np.float32(0.89172536), np.float32(1.043973), np.float32(0.9896786), np.float32(1.0309893), np.float32(1.0060807), np.float32(0.956483), np.float32(0.9975372), np.float32(0.982676), np.float32(0.9745111), np.float32(1.0465853), np.float32(0.9680009), np.float32(1.0046345), np.float32(0.971879), np.float32(0.9838339), np.float32(1.0142014), np.float32(0.97955215), np.float32(1.0572448), np.float32(1.0318998), np.float32(1.0265155), np.float32(1.006813), np.float32(1.0171005), np.float32(0.90021324), np.float32(1.0385938), np.float32(1.0605552), np.float32(0.955643), np.float32(0.9551184), np.float32(1.0383652), np.float32(1.0059184), np.float32(1.0111705), np.float32(0.9829803), np.float32(1.0056318), np.float32(0.9858509), np.float32(1.0419275), np.float32(1.0398724), np.float32(1.0190009), np.float32(1.0431447), np.float32(1.0507506), np.float32(0.960127), np.float32(0.9722655), np.float32(0.95933765), np.float32(0.93864954), np.float32(0.95798403), np.float32(0.9858566), np.float32(1.0265248), np.float32(1.0513417), np.float32(1.0006306), np.float32(0.98858005), np.float32(1.0483836), np.float32(0.97329694), np.float32(0.98532444), np.float32(0.9954057), np.float32(0.98229927), np.float32(0.9034847), np.float32(0.9949261), np.float32(1.094316), np.float32(0.933551), np.float32(1.0023758), np.float32(0.9988701), np.float32(1.0550404), np.float32(1.0498935), np.float32(0.98674816), np.float32(0.99403673), np.float32(0.9534356), np.float32(1.0237321), np.float32(0.882552), np.float32(1.0033109), np.float32(0.9919087), np.float32(1.0196323), np.float32(1.0108031), np.float32(0.97822946), np.float32(0.99596417), np.float32(0.960441), np.float32(1.0555773), np.float32(1.0670099), np.float32(0.97262955), np.float32(0.9871907), np.float32(1.0077215), np.float32(1.0014745), np.float32(0.938561), np.float32(0.99140495), np.float32(0.9818282), np.float32(1.0418285), np.float32(1.0304184), np.float32(1.1163592), np.float32(0.9326699), np.float32(0.9479866), np.float32(1.0016081), np.float32(1.038851), np.float32(0.9560145), np.float32(1.0530233), np.float32(1.0528915), np.float32(1.0349338), np.float32(1.0169823), np.float32(0.97484833), np.float32(1.0187448), np.float32(0.9788749), np.float32(0.9928001), np.float32(1.0020285), np.float32(0.9916524), np.float32(0.95435), np.float32(0.9785316), np.float32(1.0331789), np.float32(0.9870597), np.float32(0.9893822), np.float32(1.0068283), np.float32(1.054758), np.float32(1.058768), np.float32(1.0710789), np.float32(1.0503821), np.float32(1.0163673), np.float32(1.0645224), np.float32(0.9919935), np.float32(0.9311655), np.float32(1.0045965), np.float32(1.0064701), np.float32(1.0090632), np.float32(1.0676559), np.float32(0.8876894), np.float32(1.0581474), np.float32(0.9827482), np.float32(0.994743), np.float32(1.009685), np.float32(0.982392), np.float32(0.9008074), np.float32(0.99955255), np.float32(1.0002162), np.float32(1.0446885), np.float32(1.0006973), np.float32(1.0256588), np.float32(0.9729898), np.float32(1.0108072), np.float32(1.0063095), np.float32(0.9998199), np.float32(1.0533516), np.float32(0.9353951), np.float32(1.0283068), np.float32(1.0639948), np.float32(0.936913), np.float32(0.9659454), np.float32(1.0029246), np.float32(1.0410289), np.float32(0.9983712), np.float32(0.96449274), np.float32(1.0117204), np.float32(1.0498303), np.float32(0.99920195), np.float32(1.0047781), np.float32(1.0170413), np.float32(0.9000578), np.float32(1.0270445), np.float32(1.0089629), np.float32(1.0363977), np.float32(0.98968786), np.float32(0.95135295), np.float32(1.0473874), np.float32(1.085757), np.float32(1.020215), np.float32(1.0351008), np.float32(1.0325245), np.float32(1.0126851), np.float32(1.0118271), np.float32(0.98342776), np.float32(0.98386467), np.float32(1.0108464), np.float32(0.9635247), np.float32(1.0379679), np.float32(1.1017576), np.float32(1.0398934), np.float32(1.0626281), np.float32(0.972256), np.float32(0.9886795), np.float32(1.0543637), np.float32(1.0125533), np.float32(0.995464), np.float32(0.9933714), np.float32(0.96704876), np.float32(0.9267283), np.float32(0.9757227), np.float32(0.9289074), np.float32(0.9250593), np.float32(1.0310726), np.float32(0.94984734), np.float32(0.78436327), np.float32(0.92718136), np.float32(0.871506), np.float32(0.94817525), np.float32(0.90030396), np.float32(0.84156734), np.float32(0.9085811), np.float32(0.8906974), np.float32(0.9170041), np.float32(0.9171895), np.float32(0.92677677), np.float32(0.9703578), np.float32(0.9181475), np.float32(1.0019573), np.float32(0.98666054), np.float32(0.9972994), np.float32(0.8827333), np.float32(1.0153188), np.float32(1.0647653), np.float32(0.9253593), np.float32(1.018122), np.float32(0.88889515), np.float32(0.97511476), np.float32(0.98775524), np.float32(1.017467), np.float32(0.9404903), np.float32(0.9614989), np.float32(0.90164274), np.float32(0.91974914), np.float32(1.0843894), np.float32(0.96492475), np.float32(0.8983609), np.float32(0.95744556), np.float32(1.0962937), np.float32(0.8742559), np.float32(1.0032253), np.float32(0.9529646), np.float32(0.88546294), np.float32(0.9584858), np.float32(0.95746195), np.float32(0.99588484), np.float32(1.1006367), np.float32(1.006211), np.float32(0.99162817), np.float32(0.96674365), np.float32(0.9703261), np.float32(1.0231477), np.float32(1.0271318), np.float32(0.91430956), np.float32(1.102178), np.float32(0.93998086), np.float32(0.8554132), np.float32(1.0494641), np.float32(1.0116221), np.float32(0.91380066), np.float32(0.87309337), np.float32(1.0112082), np.float32(0.95059097), np.float32(0.94802654), np.float32(0.9290381), np.float32(0.95736396), np.float32(0.9967942), np.float32(1.0298525), np.float32(1.0982913), np.float32(0.93895483), np.float32(0.8712918), np.float32(0.9760384), np.float32(0.9871489), np.float32(0.95477635), np.float32(0.9279795), np.float32(0.9386457), np.float32(0.67191863), np.float32(0.92760813), np.float32(0.939862), np.float32(0.9367422), np.float32(0.95008403), np.float32(0.88148713), np.float32(0.98226315), np.float32(0.96743923), np.float32(1.0174382), np.float32(0.9019895), np.float32(0.99006456), np.float32(1.012857), np.float32(0.98807555), np.float32(0.96505976), np.float32(0.8938282), np.float32(0.98245984), np.float32(0.99740577), np.float32(1.0301892), np.float32(0.88356346), np.float32(1.0698863), np.float32(0.8473691), np.float32(0.9943491), np.float32(1.0420567), np.float32(0.9246152), np.float32(0.9862411), np.float32(0.8680907), np.float32(1.0066704), np.float32(1.0065935), np.float32(0.90968037), np.float32(0.98507214), np.float32(0.9380325), np.float32(1.0167273), np.float32(1.0056211), np.float32(1.0582166), np.float32(1.0102999), np.float32(0.97920984), np.float32(0.95847523), np.float32(0.860412), np.float32(0.9781622), np.float32(0.9318147), np.float32(1.0766407), np.float32(0.93188244), np.float32(1.0573498), np.float32(0.9522187), np.float32(0.88698125), np.float32(0.8949248), np.float32(0.94932586), np.float32(0.8763226), np.float32(0.97354364), np.float32(0.9754466), np.float32(0.81051075), np.float32(0.8058027), np.float32(0.8993275), np.float32(0.94452226), np.float32(0.9306627), np.float32(0.88903385), np.float32(0.8825435), np.float32(0.94200194), np.float32(0.90444636), np.float32(0.93533987), np.float32(0.83766836), np.float32(0.9036209), np.float32(1.0738384), np.float32(1.0188768), np.float32(0.9522168), np.float32(0.9911056), np.float32(0.9584061), np.float32(1.0314373), np.float32(0.9892888), np.float32(1.0142524), np.float32(0.844149), np.float32(0.968893), np.float32(0.9141338), np.float32(0.8951882), np.float32(0.99115366), np.float32(0.95204806), np.float32(1.0386736), np.float32(1.0488621), np.float32(0.98743474), np.float32(0.9008532), np.float32(0.8694246), np.float32(1.0343422), np.float32(0.8996223), np.float32(0.88188124), np.float32(1.0156962), np.float32(0.9173088), np.float32(0.93916744), np.float32(0.9949777), np.float32(1.0100898), np.float32(0.9610627), np.float32(0.94428223), np.float32(0.99010724), np.float32(0.740806), np.float32(0.9636649), np.float32(0.95116764), np.float32(0.96512485), np.float32(1.0142211), np.float32(1.0287564), np.float32(0.9995992), np.float32(0.8923443), np.float32(0.98343396), np.float32(0.996664), np.float32(0.9265271), np.float32(0.9343809), np.float32(1.0105901), np.float32(0.8482319), np.float32(1.0418952), np.float32(0.96279895), np.float32(0.8808224), np.float32(1.0288252), np.float32(0.9876356), np.float32(0.9916985), np.float32(0.94830674), np.float32(0.9351507), np.float32(0.9233279), np.float32(0.7786411), np.float32(0.95367175), np.float32(0.9770832), np.float32(0.9780488), np.float32(0.8797644), np.float32(1.013735), np.float32(1.0124141), np.float32(0.99879384), np.float32(0.9145546), np.float32(0.9565228), np.float32(0.9414487), np.float32(0.9682196), np.float32(1.0174176), np.float32(0.8801677), np.float32(0.8983623), np.float32(0.9522187), np.float32(0.98165333), np.float32(1.017464), np.float32(0.904922), np.float32(0.9682676), np.float32(1.0195919), np.float32(0.82575864), np.float32(0.95668495), np.float32(0.95638067), np.float32(0.9630646), np.float32(0.92767316), np.float32(0.99566007), np.float32(0.8926115), np.float32(0.9826598), np.float32(0.91051817), np.float32(0.89075625), np.float32(0.9226191), np.float32(1.0056224), np.float32(1.0288419), np.float32(0.88960975), np.float32(0.9286028), np.float32(1.0195925), np.float32(1.0040351), np.float32(1.0343171), np.float32(1.0075542), np.float32(1.0182034), np.float32(0.8848772), np.float32(1.0226479), np.float32(0.8801677), np.float32(1.0257438), np.float32(0.94512236), np.float32(0.887487), np.float32(0.9498011), np.float32(1.0430975), np.float32(0.91775393), np.float32(0.9014058), np.float32(0.97139394), np.float32(0.9578724), np.float32(0.9795639), np.float32(0.9684843), np.float32(0.9652353), np.float32(0.78051007), np.float32(0.8795958), np.float32(0.9871489), np.float32(0.90675163), np.float32(0.9170133), np.float32(0.9347117), np.float32(0.8943312), np.float32(0.9281008), np.float32(0.9184027), np.float32(0.89136255), np.float32(0.99832857), np.float32(0.9596536), np.float32(0.96251345), np.float32(1.0676342), np.float32(0.9070373), np.float32(0.9568201), np.float32(1.0446787), np.float32(1.0303495), np.float32(0.9902624), np.float32(0.97262245), np.float32(1.0444994), np.float32(0.9211254), np.float32(1.0241259), np.float32(0.97925), np.float32(0.9873203), np.float32(1.0882052), np.float32(0.9609322), np.float32(0.8659893), np.float32(1.028945), np.float32(0.9654902), np.float32(0.9336166), np.float32(1.0971831), np.float32(0.96117145), np.float32(1.0849231), np.float32(0.86648893), np.float32(0.96823925), np.float32(1.0043019), np.float32(0.9974772), np.float32(0.94596046), np.float32(1.0273271), np.float32(1.0074531), np.float32(0.83786273), np.float32(0.9886123), np.float32(0.891813), np.float32(0.8528048), np.float32(0.90374327), np.float32(0.94539815), np.float32(0.9865662), np.float32(1.093963), np.float32(0.9462472), np.float32(1.0706874), np.float32(0.99211276), np.float32(0.8938537), np.float32(0.9153923), np.float32(0.92231566), np.float32(1.0598911), np.float32(0.850201), np.float32(1.0584317), np.float32(1.044963), np.float32(1.0525436), np.float32(1.0146513), np.float32(1.002416), np.float32(0.968282), np.float32(1.1028779), np.float32(1.0739095), np.float32(0.8282738), np.float32(0.94145405), np.float32(0.8823899), np.float32(0.84599894), np.float32(0.92754114), np.float32(0.97572714), np.float32(0.9340215), np.float32(0.9952992), np.float32(0.9504392), np.float32(1.0779954), np.float32(0.97219384), np.float32(0.94121623), np.float32(0.9621787), np.float32(1.0029169), np.float32(0.91207695), np.float32(0.93598217), np.float32(0.9726232), np.float32(0.9451252), np.float32(0.9828223), np.float32(1.0240415), np.float32(1.0298525), np.float32(1.0189894), np.float32(0.81172174), np.float32(0.9821177), np.float32(1.0284239), np.float32(0.9569981), np.float32(0.99001163), np.float32(0.9895699), np.float32(0.84082246), np.float32(0.9285796), np.float32(0.95268494), np.float32(1.0199677), np.float32(1.0763633), np.float32(0.8763226), np.float32(0.82529294), np.float32(1.0711346), np.float32(0.9248501), np.float32(0.9925423), np.float32(1.0904669), np.float32(0.91484886), np.float32(0.88883877), np.float32(0.9368251), np.float32(0.9916448), np.float32(1.0433044), np.float32(0.9760294), np.float32(0.9725867), np.float32(0.96838605), np.float32(0.91683733), np.float32(0.9140146), np.float32(0.9329801), np.float32(0.9546965), np.float32(0.9847688), np.float32(0.98969054), np.float32(0.99527323), np.float32(1.0312548), np.float32(1.0774617), np.float32(0.91482973), np.float32(0.8726384), np.float32(0.9263505), np.float32(0.9907516), np.float32(0.87587863), np.float32(1.0397998), np.float32(0.9973438), np.float32(1.0486921), np.float32(1.0973787), np.float32(0.9622983), np.float32(1.0355872), np.float32(0.9549845), np.float32(1.1165893), np.float32(0.8501858), np.float32(0.9321519), np.float32(0.9823749), np.float32(1.0410486), np.float32(1.0624304), np.float32(0.92268246), np.float32(1.0201858), np.float32(1.0797168), np.float32(0.991031), np.float32(0.88198936), np.float32(0.9865342), np.float32(1.1232514), np.float32(0.9727018), np.float32(0.90333986), np.float32(1.0423635), np.float32(0.95473665), np.float32(0.832362), np.float32(0.98737925), np.float32(0.9804497), np.float32(0.93230766), np.float32(0.96379054), np.float32(0.9710324), np.float32(0.91710365), np.float32(1.0024422), np.float32(0.9128542), np.float32(0.9315996), np.float32(0.96798444), np.float32(0.87495697), np.float32(0.93184346), np.float32(1.0605861), np.float32(0.9760939), np.float32(0.9134668), np.float32(0.8225904), np.float32(0.8510487), np.float32(1.0338767), np.float32(0.9651673), np.float32(1.0412897), np.float32(0.7319021), np.float32(1.0734682), np.float32(1.0529667), np.float32(1.0137445), np.float32(0.9948913), np.float32(0.9208656), np.float32(0.8975393), np.float32(0.95070815), np.float32(1.064037), np.float32(0.900426), np.float32(0.95512676), np.float32(1.0022495), np.float32(1.0058051), np.float32(0.77449405), np.float32(1.0443499), np.float32(0.99155676), np.float32(0.91905963), np.float32(1.0751809), np.float32(1.0703555), np.float32(0.9918919), np.float32(0.9943776), np.float32(0.8689737), np.float32(0.98588324), np.float32(1.0478321), np.float32(0.8844641), np.float32(1.0661818), np.float32(0.9805744), np.float32(1.061465), np.float32(0.94750607), np.float32(0.99785626), np.float32(0.9300422), np.float32(1.0654068), np.float32(1.0413972), np.float32(0.8531754), np.float32(1.0452777), np.float32(0.85142154), np.float32(0.9369331), np.float32(0.9195307), np.float32(0.9787312), np.float32(1.034501), np.float32(0.9559637), np.float32(1.0524756), np.float32(1.0378228), np.float32(0.95935655), np.float32(0.96896523), np.float32(0.93293726), np.float32(0.97473586), np.float32(0.86478436), np.float32(0.818218), np.float32(0.7400429), np.float32(1.019108), np.float32(1.0137417), np.float32(0.9412055), np.float32(1.0350996), np.float32(0.8941796), np.float32(0.93082446), np.float32(1.063098), np.float32(0.6831987), np.float32(0.94727755), np.float32(0.90447867), np.float32(0.922503), np.float32(0.9015988), np.float32(0.84486055), np.float32(1.0301534), np.float32(1.006632), np.float32(0.9869875), np.float32(0.9676808), np.float32(0.9924057), np.float32(0.9054111), np.float32(0.95828676), np.float32(0.9980132), np.float32(0.99429893), np.float32(0.9165697), np.float32(0.9949659), np.float32(0.88507676), np.float32(0.96226853), np.float32(0.9621357), np.float32(0.99811035), np.float32(0.73351824), np.float32(0.96790797), np.float32(0.97199714), np.float32(1.0891973), np.float32(0.94225746), np.float32(0.86469966), np.float32(1.0955479), np.float32(0.8579483), np.float32(0.8546106), np.float32(0.7365819), np.float32(0.9328515), np.float32(1.0422363), np.float32(1.1547748), np.float32(1.04632), np.float32(1.0435768), np.float32(1.0531423), np.float32(0.9680456), np.float32(0.9124664), np.float32(0.9971888), np.float32(0.99316216), np.float32(0.9795652), np.float32(0.96583974), np.float32(0.98225456), np.float32(0.93310285), np.float32(0.82257736), np.float32(0.8702311), np.float32(0.99194473), np.float32(1.0616908), np.float32(0.94953936), np.float32(0.9677328), np.float32(0.94895697), np.float32(0.925102), np.float32(0.98699135), np.float32(0.9598572), np.float32(0.9883516), np.float32(1.0028957), np.float32(1.052132), np.float32(1.0020394), np.float32(1.0099409), np.float32(0.83630157), np.float32(1.0171714), np.float32(0.98820025), np.float32(0.93500787), np.float32(1.0563989), np.float32(1.0133115), np.float32(0.82415926), np.float32(0.9923171), np.float32(0.9923815), np.float32(0.95390975), np.float32(0.94788814), np.float32(0.9834768), np.float32(1.0770335), np.float32(0.9355553), np.float32(0.9244088), np.float32(0.91865396), np.float32(0.9593583), np.float32(1.0154294), np.float32(0.8098276), np.float32(0.90952235), np.float32(1.0722208), np.float32(0.94820136), np.float32(0.9131187), np.float32(1.0371733), np.float32(1.0304877), np.float32(1.034052), np.float32(0.97114676), np.float32(0.93744105), np.float32(0.91375977), np.float32(0.80980104), np.float32(1.0547419), np.float32(1.033772), np.float32(0.93461925), np.float32(0.9044607), np.float32(0.81569153), np.float32(0.9153174), np.float32(0.97860104), np.float32(0.91459674), np.float32(0.9463858), np.float32(1.0912749), np.float32(1.0030245), np.float32(1.0003041), np.float32(1.0985136), np.float32(0.9035638), np.float32(0.8472363), np.float32(0.86260986), np.float32(0.77476686), np.float32(0.9722695), np.float32(0.8993478), np.float32(0.8581908), np.float32(0.8256322), np.float32(1.0750928), np.float32(0.98304886), np.float32(0.76936996), np.float32(0.8051397), np.float32(0.83287114), np.float32(0.9925388), np.float32(1.0845727), np.float32(0.9827176), np.float32(0.98241013), np.float32(1.0513537), np.float32(0.9228648), np.float32(0.8160647), np.float32(1.0091065), np.float32(0.9063728), np.float32(0.9686778), np.float32(1.0098671), np.float32(0.9678924), np.float32(0.9559185), np.float32(0.7987962), np.float32(0.9167489), np.float32(0.98819053), np.float32(0.99919516), np.float32(0.9188829), np.float32(0.98921967), np.float32(0.9923815), np.float32(1.0574211), np.float32(1.0944518), np.float32(0.9531723), np.float32(0.8636553), np.float32(0.9442229), np.float32(0.9812202), np.float32(0.9353206), np.float32(0.895715), np.float32(0.9172381), np.float32(0.9222779), np.float32(0.97815627), np.float32(0.9565862), np.float32(0.8723724), np.float32(0.88815194), np.float32(1.0172879), np.float32(0.9439047), np.float32(0.76814085), np.float32(0.9066761), np.float32(1.0586388), np.float32(1.011601), np.float32(0.99475706), np.float32(0.97057605), np.float32(1.0320916), np.float32(0.9846667), np.float32(1.0198479), np.float32(0.844313), np.float32(0.9716198), np.float32(1.0080441), np.float32(0.9041988), np.float32(1.1018476), np.float32(1.0737611), np.float32(0.9189292), np.float32(0.98814976), np.float32(1.0402949), np.float32(0.9203382), np.float32(0.98701286), np.float32(1.0148327), np.float32(0.9080709), np.float32(0.9745121), np.float32(0.91213804), np.float32(0.9985048), np.float32(1.0132488), np.float32(1.0004236), np.float32(0.807091), np.float32(1.0397222), np.float32(1.0177178), np.float32(0.95951563), np.float32(0.85891926), np.float32(0.86284506), np.float32(1.0639141), np.float32(0.9641303), np.float32(0.9836607), np.float32(0.9484137), np.float32(0.9430076), np.float32(0.91004777), np.float32(0.87526065), np.float32(0.87448645), np.float32(0.95004475), np.float32(0.9181773), np.float32(1.0405401), np.float32(0.95718414), np.float32(0.97543806), np.float32(0.9095911), np.float32(0.9661497), np.float32(1.0442384), np.float32(1.0147417), np.float32(0.92183596), np.float32(0.9747061), np.float32(0.9315791), np.float32(0.95029557), np.float32(0.7354759), np.float32(0.9140902), np.float32(1.0479482), np.float32(1.0058234), np.float32(0.99711406), np.float32(0.91295356), np.float32(1.0018958), np.float32(0.9596657), np.float32(1.0642121), np.float32(0.9220824), np.float32(1.0194087), np.float32(0.92262876), np.float32(1.0999805), np.float32(1.0972054), np.float32(0.913), np.float32(1.0414742), np.float32(1.0160428), np.float32(0.9676599), np.float32(0.8680293), np.float32(1.0185094), np.float32(0.9321519), np.float32(0.91773236), np.float32(0.9210115), np.float32(1.0325934), np.float32(1.0420598), np.float32(1.0270579), np.float32(0.9869257), np.float32(1.0329641), np.float32(0.8937923), np.float32(1.0644153), np.float32(0.8930064), np.float32(1.0078827), np.float32(0.76971984), np.float32(0.9684718), np.float32(0.98533005), np.float32(0.98831373), np.float32(0.9011769), np.float32(0.86331606), np.float32(0.62480706), np.float32(0.93617487), np.float32(0.97555417), np.float32(0.8140312), np.float32(0.898012), np.float32(1.0104378), np.float32(0.8912228), np.float32(0.9949307), np.float32(0.82241344), np.float32(0.8848061), np.float32(0.9674906), np.float32(0.9492264), np.float32(0.8877063), np.float32(0.97495323), np.float32(0.9868652), np.float32(0.99760926), np.float32(0.9054253), np.float32(0.9893143), np.float32(0.9545002), np.float32(0.8369551), np.float32(0.84535563), np.float32(0.8890406), np.float32(0.8858062), np.float32(0.651665), np.float32(0.85461473), np.float32(0.9104041), np.float32(0.91177326), np.float32(0.92458725), np.float32(0.91243243), np.float32(0.96297115), np.float32(1.0240166), np.float32(0.882805), np.float32(0.86002755), np.float32(0.84478277), np.float32(0.6263052), np.float32(0.857934), np.float32(0.84119344), np.float32(0.9150224), np.float32(1.0215682), np.float32(0.7722969), np.float32(0.92802095), np.float32(0.8856042), np.float32(0.90331626), np.float32(0.9294938), np.float32(0.7856527), np.float32(0.7877792), np.float32(0.9016039), np.float32(0.9397134), np.float32(0.91127324), np.float32(0.9186897), np.float32(0.800689), np.float32(0.83585364), np.float32(0.8805897), np.float32(0.89486295), np.float32(0.88300335), np.float32(0.8983972), np.float32(0.92093486), np.float32(0.8693284), np.float32(0.7802224), np.float32(1.0081117), np.float32(0.95261806), np.float32(0.6982855), np.float32(0.8324218), np.float32(0.86085933), np.float32(0.8851427), np.float32(0.83266836), np.float32(0.9684945), np.float32(0.9129669), np.float32(0.65181273), np.float32(0.82158273), np.float32(0.88486445), np.float32(0.9203856), np.float32(0.6985564), np.float32(0.82586205), np.float32(0.89371467), np.float32(0.9411335), np.float32(0.98076314), np.float32(0.739635), np.float32(0.8781245), np.float32(0.7769475), np.float32(0.87742466), np.float32(0.9936736), np.float32(0.8844601), np.float32(0.9207097), np.float32(0.91063935), np.float32(0.8896213), np.float32(0.85134476), np.float32(0.92690814), np.float32(0.8190905), np.float32(0.94093066), np.float32(1.0017947), np.float32(0.8953143), np.float32(0.796049), np.float32(0.980107), np.float32(0.6957806), np.float32(0.78981924), np.float32(0.84169376), np.float32(0.95884544), np.float32(0.6431108), np.float32(0.9514358), np.float32(1.0376426), np.float32(0.9558785), np.float32(0.99152744), np.float32(0.95856524), np.float32(0.9177729), np.float32(0.84219205), np.float32(0.8916669), np.float32(0.90042937), np.float32(0.925442), np.float32(0.88030666), np.float32(0.9389831), np.float32(0.978857), np.float32(0.9024695), np.float32(0.8837388), np.float32(0.97724295), np.float32(0.81788516), np.float32(0.99531215), np.float32(0.830463), np.float32(0.8092803), np.float32(0.97034425), np.float32(0.9377716), np.float32(0.99918807), np.float32(1.0014766), np.float32(0.9177841), np.float32(0.7828784), np.float32(0.95311314), np.float32(0.9186404), np.float32(0.8205876), np.float32(0.8630713), np.float32(0.7668138), np.float32(0.9293194), np.float32(0.80317324), np.float32(0.8514175), np.float32(0.9558115), np.float32(0.8701824), np.float32(0.90352786), np.float32(0.79739285), np.float32(0.91470337), np.float32(0.90842074), np.float32(0.7088542), np.float32(0.87696296), np.float32(0.861933), np.float32(0.86365396), np.float32(0.8043045), np.float32(0.9028957), np.float32(0.7705385), np.float32(0.9232609), np.float32(0.82943296), np.float32(0.82358795), np.float32(0.93252385), np.float32(0.939535), np.float32(0.87363625), np.float32(0.98202187), np.float32(0.8816879), np.float32(0.6288066), np.float32(0.86811566), np.float32(0.89469165), np.float32(0.8931237), np.float32(0.9361918), np.float32(0.9389285), np.float32(0.9542227), np.float32(0.95824385), np.float32(0.99146914), np.float32(1.0062686), np.float32(0.9441889), np.float32(0.9878096), np.float32(0.93371415), np.float32(0.9215729), np.float32(0.79815733), np.float32(0.9739708), np.float32(0.83870584), np.float32(0.8451798), np.float32(0.9168447), np.float32(0.87591076), np.float32(0.964468), np.float32(0.9013977), np.float32(0.79964316), np.float32(0.8686421), np.float32(0.9133408), np.float32(0.61325157), np.float32(0.93813986), np.float32(0.9158575), np.float32(0.8819041), np.float32(0.9654067), np.float32(0.8845642), np.float32(0.9866911), np.float32(0.8794702), np.float32(0.8603703), np.float32(0.8219216), np.float32(1.0338124), np.float32(0.8795304), np.float32(0.89592683), np.float32(0.8542352), np.float32(0.92409515), np.float32(0.8636324), np.float32(0.9428622), np.float32(0.9377446), np.float32(0.9097088), np.float32(0.9454876), np.float32(1.0041713), np.float32(0.7814861), np.float32(0.8034555), np.float32(0.7479799), np.float32(0.8294358), np.float32(0.9946127), np.float32(0.9108578), np.float32(0.8967001), np.float32(0.83159715), np.float32(0.86240125), np.float32(0.74226344), np.float32(0.99210316), np.float32(0.98214704), np.float32(0.85707486), np.float32(0.9858787), np.float32(0.86638105), np.float32(0.9864275), np.float32(0.9307388), np.float32(0.8918548), np.float32(0.8822854), np.float32(0.8901101), np.float32(0.8977663), np.float32(0.8032925), np.float32(0.9351566), np.float32(0.9100874), np.float32(0.82702833), np.float32(0.9942703), np.float32(0.92286354), np.float32(0.8790859), np.float32(0.8661705), np.float32(0.9121266), np.float32(0.8612597), np.float32(0.9397795), np.float32(0.8070698), np.float32(0.9919481), np.float32(0.9466427), np.float32(0.964878), np.float32(0.79971397), np.float32(0.8866173), np.float32(0.94185275), np.float32(0.861815), np.float32(0.85807496), np.float32(0.9771075), np.float32(0.9673617), np.float32(0.8410629), np.float32(0.8660599), np.float32(0.9437811), np.float32(0.9163394), np.float32(0.8409356), np.float32(0.7675231), np.float32(1.0054226), np.float32(0.9321652), np.float32(0.9938703), np.float32(0.97366285), np.float32(0.8464721), np.float32(0.929292), np.float32(0.91841197), np.float32(0.82313657), np.float32(0.95422786), np.float32(0.9536775), np.float32(0.8537221), np.float32(0.91879743), np.float32(0.86192656), np.float32(0.7924501), np.float32(1.0022339), np.float32(0.90968317), np.float32(0.96349883), np.float32(0.8999625), np.float32(0.9451871), np.float32(0.9964573), np.float32(0.9546272), np.float32(0.92619556), np.float32(0.91293496), np.float32(0.96692914), np.float32(1.0176204), np.float32(0.9130153), np.float32(0.9340104), np.float32(0.83374643), np.float32(1.0265168), np.float32(0.8697969), np.float32(0.9038418), np.float32(0.86827725), np.float32(0.77821434), np.float32(0.89515287), np.float32(0.86905754), np.float32(0.8556407), np.float32(0.84556556), np.float32(0.93696123), np.float32(0.96905804), np.float32(0.98655975), np.float32(0.8232114), np.float32(0.92288387), np.float32(0.9039347), np.float32(0.85303056), np.float32(0.9616061), np.float32(0.9676861), np.float32(0.933802), np.float32(0.94032633), np.float32(0.87420917), np.float32(0.86644876), np.float32(0.8106885), np.float32(0.8654956), np.float32(0.854276), np.float32(0.8139411), np.float32(0.8819876), np.float32(0.99644923), np.float32(0.888209), np.float32(1.0020292), np.float32(0.66396), np.float32(0.9150582), np.float32(0.57706785), np.float32(1.0312439), np.float32(0.9208), np.float32(0.9335972), np.float32(0.9146948), np.float32(0.9185384), np.float32(0.8965049), np.float32(0.9476782), np.float32(1.0121578), np.float32(0.87153184), np.float32(0.96211326), np.float32(0.7821041), np.float32(0.9278574), np.float32(0.89459467), np.float32(0.86748636), np.float32(0.9132303), np.float32(0.9862217), np.float32(0.9721409), np.float32(0.9569858), np.float32(0.9968873), np.float32(0.90920025), np.float32(0.9054648), np.float32(0.5245115), np.float32(0.9912648), np.float32(0.9698758), np.float32(0.99068654), np.float32(0.90442723), np.float32(1.0044391), np.float32(0.89078027), np.float32(0.9766835), np.float32(0.84100896), np.float32(0.94145495), np.float32(0.7604972), np.float32(0.8920227), np.float32(0.8601247), np.float32(0.8629021), np.float32(0.8740915), np.float32(0.79296744), np.float32(0.9649721), np.float32(0.922698), np.float32(0.9028296), np.float32(0.92802614), np.float32(0.83914304), np.float32(0.8785257), np.float32(0.97711205), np.float32(0.9010508), np.float32(0.84399796), np.float32(0.8367633), np.float32(0.9143416), np.float32(0.9793734), np.float32(0.77013546), np.float32(0.91319495), np.float32(0.96575266), np.float32(0.87603617), np.float32(0.8275181), np.float32(0.86469483), np.float32(0.935729), np.float32(0.947459), np.float32(0.84560513), np.float32(1.0048944), np.float32(0.8694829), np.float32(0.77407914), np.float32(0.91993517), np.float32(1.0077353), np.float32(0.9325136), np.float32(0.9422861), np.float32(0.75842166), np.float32(0.84278584), np.float32(0.93488777), np.float32(0.85841715), np.float32(1.0364403), np.float32(0.8245712), np.float32(0.9491477), np.float32(0.88863325), np.float32(0.8680296), np.float32(0.9314343), np.float32(0.95310515), np.float32(0.832049), np.float32(0.8300567), np.float32(0.8535761), np.float32(0.97092575), np.float32(0.8968779), np.float32(0.91564465), np.float32(0.8519978), np.float32(0.8599985), np.float32(0.7976433), np.float32(0.8652501), np.float32(0.84005857), np.float32(0.9186271), np.float32(0.82991874), np.float32(0.882211), np.float32(0.8746533), np.float32(0.82360804), np.float32(0.965757), np.float32(0.91001153), np.float32(1.0424992), np.float32(0.9203809), np.float32(0.970731), np.float32(0.9033463), np.float32(0.88580877), np.float32(0.90064657), np.float32(0.9084018), np.float32(0.7752946), np.float32(0.9369743), np.float32(0.85145193), np.float32(0.8159885), np.float32(0.9600372), np.float32(0.99963653), np.float32(1.0256634), np.float32(0.90185), np.float32(0.89264244), np.float32(0.83813846), np.float32(0.9644058), np.float32(0.87377), np.float32(0.8668198), np.float32(0.8634126), np.float32(0.8474243), np.float32(0.8798311), np.float32(0.89657736), np.float32(0.935396), np.float32(0.88945556), np.float32(0.85102737), np.float32(0.7713998), np.float32(0.83198357), np.float32(0.88570744), np.float32(0.92375803), np.float32(0.9922208), np.float32(0.8140204), np.float32(0.8216852), np.float32(0.7390331), np.float32(0.9753308), np.float32(0.91509897), np.float32(0.9181631), np.float32(0.79322654), np.float32(0.9433839), np.float32(0.98889714), np.float32(0.9046667), np.float32(0.9505031), np.float32(1.011566), np.float32(0.9237938), np.float32(0.78550863), np.float32(0.8056895), np.float32(0.6865019), np.float32(0.63023305), np.float32(0.8132036), np.float32(0.8627187), np.float32(0.95085186), np.float32(0.96608794), np.float32(0.8035569), np.float32(0.8050762), np.float32(0.88973904), np.float32(0.8564125), np.float32(1.0209678), np.float32(0.76415414), np.float32(0.88784575), np.float32(0.93798935), np.float32(0.800595), np.float32(0.91957456), np.float32(0.9514978), np.float32(0.80541396), np.float32(0.9774781), np.float32(0.88556695), np.float32(0.8296074), np.float32(0.8528079), np.float32(0.9044076), np.float32(0.96639687), np.float32(0.89779526), np.float32(0.89721525), np.float32(0.82595253), np.float32(0.98654085), np.float32(0.98570776), np.float32(0.8433643), np.float32(0.8687181), np.float32(0.87142265), np.float32(0.939197), np.float32(0.9089619), np.float32(0.86916167), np.float32(0.8621377), np.float32(1.0133717), np.float32(0.7870911), np.float32(0.9532528), np.float32(0.8555287), np.float32(0.9794399), np.float32(0.94092524), np.float32(0.85279375), np.float32(0.85582215), np.float32(0.9824145), np.float32(0.92093), np.float32(0.8302737), np.float32(0.9256145), np.float32(0.8066225), np.float32(0.805285), np.float32(0.76857615)]\n",
            "UK debut for Kevin Spacey movie\n",
            " \n",
            " Hollywood stars Kevin Spacey and Kate Bosworth attended the British premiere of new film, Beyond the Sea, in London's Leicester Square on Thursday.\n",
            " \n",
            " Spacey, 45, wrote, directed and starred in the film, inspired by the life of 1950s croooner Bobby Darin. \"This is my tribute to someone I think was a remarkable talent,\" said Spacey, who, as Darin, sings all 18 songs on the film soundtrack. Bosworth, 21, plays Darin's wife - real life Hollywood actress Sandra Dee. \"I knew absolutely nothing about Bobby Darin before this film, but now I'm a huge fan,\" said Bosworth, who attended the premiere with British boyfriend Orlando Bloom.\n",
            " \n",
            " \"There is darkness and tragedy in the story, and it was a dream for me to land this part.\" Actress Sandra Dee continues to live in Los Angeles as a virtual recluse, but has given her approval to the biopic.\n",
            " \n",
            " \"She called me last week and said she loved it,\" said Spacey, who was joined at the premiere by members of the boy band Westlife. Spacey, a double Oscar-winner, has long been fascinated by the story of singer Bobby Darin. The voice behind Mack the Knife, Dream Lover and Beyond the Sea, fought childhood illness to become one the biggest stars of the 1950s, but died aged 37 from the heart condition that had troubled him all his life. \"Bobby Darin was one of the greatest entertainers the world has ever known, and yet, because he died young, he's been kind of forgotten,\" said Spacey at the premiere. \"Making this film was the most fun I've ever had in my entire life.\" The movie also stars British actors Bob Hoskins and Brenda Blethyn, as Darin's mother.\n",
            "\n",
            "\n",
            "Lasting influence of legend Charles\n",
            " \n",
            " Ray Charles, who has won a string of posthumous Grammy Awards, belonged to a pioneering generation of artists that had a huge influence on the course of rock and pop music.\n",
            " \n",
            " His sound encompassed so many styles - blues, gospel, jazz, rock 'n' roll, even country - and had a real impact on the nascent UK beat and R&B scenes.\n",
            " \n",
            " Compared in stature to Elvis Presley by some commentators, Charles' songs cast their spell on such 1960s stalwarts as Joe Cocker, Steve Winwood, Eric Burdon and Van Morrison. His influence has extended to contemporary artists such as Norah Jones, with whom he recently recorded a duet. If James Brown was the godfather of soul, then Ray Charles was indisputably one of its founding fathers. Along with Sam Cooke, he was instrumental in bringing together the gospel fervour of the deep south Baptist church with the \"devil's\" music of R&B to pave the way for a new generation of soul artists.\n",
            " \n",
            " Without Charles, it is hard to imagine the tear-stained Atlantic R&B sound of Aretha Franklin, Otis Redding or Wilson Pickett. He was also a talented jazz composer, arranger and band leader, playing at the Newport Jazz Festival and Carnegie Hall and recording with noted jazz musicians such as Milt Jackson and David \"Fathead\" Newman. Unfortunately, he also shared another trait common among many jazz artists of the era - that of heroin addiction, which led to him being arrested in 1965. His string of 1950s Atlantic R&B successes included songs that would be covered by the first-generation rock 'n' roll greats, including I've Got A Woman (Roy Orbison, Elvis Presley) and Hallelujah, I Love Her So (Eddie Cochran). After the exuberance of his 1959 signature song What'd I Say, Charles turned towards a more pop-oriented style, recording Hoagy Carmichael's sentimental string ballad Georgia On My Mind, and the upbeat Hit The Road Jack.\n",
            " \n",
            " He also won acclaim in the country arena with his interpretations of Hank Williams standards such as Your Cheating Heart and You Win Again. More than 40 years after its release, his 1962 ABC album Modern Sounds in Country and Western Music is still regarded as a classic. His version of Don Gibson's I Can't Stop Loving You topped the pop and R&B charts in the US. In 1972, he made a rare foray into protest songs with his album A Message from the People.\n",
            " \n",
            " On it, he took a stand on poverty and civil rights - echoing similar recordings of the era from progeny such as Stevie Wonder, James Brown, Curtis Mayfield and Marvin Gaye. More than 20 years later, he would embrace contemporary production with his 1993 album My World, which featured hip-hop beats - although Charles claimed at the time not to know what hip-hop was. Among the tributes that poured in from all sections of the music world when Charles died aged 73 in June 2004 was one from his friend, the producer Quincy Jones, who described him as a \"brother in every sense of the word\". \"There will never be another musician who did as much to break down the perceived walls of musical genres as much as Ray Charles did,\" he said. Former Manfred Mann singer Paul Jones, who sang on 1960s hits such as Come Tomorrow and Sha La La, said Charles was one of his heroes. \"I'm quite sure my own writing was influenced by him,\" he told BBC News Online. \"I would put money on the proposition that Ray Charles will have an influence on music forever.\"\n",
            "\n",
            "\n",
            "Lomu relishing return to action\n",
            " \n",
            " Former All Black star Jonah Lomu says he cannot wait to run out on the pitch for former England rugby union captain Martin Johnson's testimonial on 4 June.\n",
            " \n",
            " The 29-year-old had a kidney transplant in July 2004 but will play his first full match for three years, leading a southern hemisphere side at Twickenham. \"I actually started training three weeks after my operation but I was very limited until a few months ago. \"Now it's basically bring it on!\" said the giant winger. \"The match on 4 June will be my first 15-man game but I have a training schedule which is quite testing and combines with sevens and a whole lot of things,\" said Lomu. \"I have got so much energy since my operation that I train three times a day, six days a week.\n",
            " \n",
            " \"Mohammed Ali has always been my ideal. Coming back to rugby, people said 'you are dreaming' but it always starts off with a dream. \"It's up to you whether you want to make it a reality.\" Opinion has been divided on whether Lomu should attempt to return to the game after such a major operation. But when Lomu was asked whether he was taking a risk he replied: \"As much as someone going down the road being hit by a bus. \"There are a lot of people in the world with one kidney who just don't know it. \"I have talked this over, had a chat with the donor and this is to set my soul at peace and finish something I started in 1994 [when he made his All Blacks debut].\" At his lowest ebb Lomu was so ill he could barely walk, but he says he is now getting stronger every day and his long-term target is to play for New Zealand again. \"The only person who saw me at my worst was my wife,\" he added. \"I used to take two steps and fall over but now I can run and it is all coming back, and a lot more quickly than I ever thought it would. \"To play for the All Blacks would be the highest honour I could get. That is the long-term goal and you have to start somewhere.\"\n",
            "\n",
            "\n",
            "Hatfield executives go on trial\n",
            " \n",
            " Engineering firm Balfour Beatty and five railway managers are to go on trial for manslaughter over the Hatfield rail crash in 2000.\n",
            " \n",
            " Four people died when a section of rail broke and a high speed train derailed. Balfour Beatty's railway maintenance arm was in charge of the upkeep of the line at Hatfield, Hertfordshire. Balfour Beatty managers Anthony Walker and Nicholas Jeffries, and Railtrack managers Alistair Cook, Sean Fugill and Keith Lea all face individual charges. All five men, along with four others, are also accused of breaches of health and safety laws. Balfour Beatty Rail Maintenance faces a corporate manslaughter charge. It is expected the trial could last as long as a year. The accident, on 17 October 2000, happened when the London to Leeds express came off the tracks at 115 mph, when it was derailed by a cracked section of rail. The accident on the East Coast Main Line sparked major disruption. The overall responsibility for the line was Railtrack's - the company that has now become Network Rail. Those who died in the accident were Steve Arthur, 46, from Pease Pottage, West Sussex; Peter Monkhouse, 50, of Headingley, Leeds; Leslie Gray, 43, of Tuxford, Nottingham; and Robert James Alcorn, 37, of Auckland, New Zealand.\n",
            "\n",
            "\n",
            "Obituary: Dame Alicia Markova\n",
            " \n",
            " Dame Alicia Markova, who has died in Bath aged 94, was the UK's first prima ballerina of the modern age, and, in her heyday, the greatest in the western world.\n",
            " \n",
            " She was born Lilian Alicia Marks in London in 1910. Her parents were comfortably off - her father, a mining engineer, drove a Rolls Royce. When she was eight, her mother took a decision which changed her life. Fearing that she had flat feet and weak legs, she arranged for her to have ballet lessons. Very quickly it became apparent that she was something special. She was spotted by the Russian artistic impresario, Sergei Diaghilev, who wanted her to dance for his company, Ballets Russes. She became ill with diphtheria but kept in touch, and, eventually, with a governess in tow, joined Diaghilev in Monte Carlo when she was 14.\n",
            " \n",
            " From here, she toured Europe, playing in all the top venues. It was Diaghilev who changed her name without even consulting her. Her life was one of great excitement. People such as Matisse and Stravinsky became like uncles to her, the latter put in charge of her musical education. Soon after Diaghilev's death in 1929, Alicia Markova returned to England and became Britain's first international ballerina. She helped launch the Ballet Club at the Mercury Theatre (later the Ballet Rambert), the Vic Wells Ballet, and then, with Anton Dolin, the Markova-Dolin Ballet of 1935-37. She also began working with young choreographers such as Anthony Tudor and Frederick Ashton who became huge influences on the direction of ballet in the west.\n",
            " \n",
            " Her version of Giselle, all lightness and grace, is still considered to be among the finest ever. She was also outstanding in The Dying Swan. She was one of the first British ballerinas to take a major part in Les Sylphides. She, above all, helped popularise ballet both in Britain and in America.\n",
            " \n",
            " Alicia Markova spent World War II in the United States where, in a re-formed Ballets Russes, she played to huge audiences. She even appeared in Hollywood movies. In 1950, back in England, she and Anton Dolin jointly established the Festival Ballet. She retired in 1963, an \"instant decision\" she said, \"largely because of a leg injury\". Created a Dame, she made a new career for herself as a teacher. She also travelled the world directing ballet companies and putting on shows. She became director of ballet for the Metropolitan Opera Ballet in New York, and for some years was full-time Professor of Ballet and Performing Arts in the University of Cincinnati. A critic once said of Dame Alicia Markova's dancing: \"She gave the illusion of moving as if she had no weight to get off the ground.\"\n",
            "\n",
            "\n"
          ]
        }
      ],
      "source": [
        "# defining the query text\n",
        "query_text = \"Budget for elections\"\n",
        "\n",
        "# displaying the top 5 similar sentences\n",
        "top_k_reviews = top_k_similar_sentences(embedding_matrix, query_text, 5)\n",
        "\n",
        "for i in top_k_reviews:\n",
        "    print(i, end=\"\\n\\n\")"
      ]
    },
    {
      "cell_type": "code",
      "execution_count": null,
      "metadata": {
        "colab": {
          "base_uri": "https://localhost:8080/"
        },
        "id": "L4coZrXxmL9p",
        "outputId": "2305813b-5883-4562-e248-91ea41fdbab1"
      },
      "outputs": [
        {
          "output_type": "stream",
          "name": "stdout",
          "text": [
            "[np.float32(0.82220596), np.float32(0.9798845), np.float32(1.0368038), np.float32(1.0016811), np.float32(1.0339074), np.float32(0.9275836), np.float32(0.99895316), np.float32(1.0203745), np.float32(1.0271635), np.float32(0.94075596), np.float32(0.9653522), np.float32(0.99913895), np.float32(0.93450123), np.float32(0.97896385), np.float32(0.9025239), np.float32(0.9343599), np.float32(0.9223546), np.float32(0.9226831), np.float32(0.9850764), np.float32(1.05702), np.float32(1.1097367), np.float32(1.014328), np.float32(0.88553333), np.float32(1.0512028), np.float32(0.9455961), np.float32(0.81818867), np.float32(0.95809776), np.float32(0.93731856), np.float32(0.9732729), np.float32(1.0274585), np.float32(0.8618138), np.float32(1.0596933), np.float32(0.9423025), np.float32(0.91554296), np.float32(0.91829), np.float32(1.1440498), np.float32(0.86102384), np.float32(1.0215113), np.float32(1.0707439), np.float32(0.9802863), np.float32(1.0058652), np.float32(0.905324), np.float32(0.9933019), np.float32(1.0716941), np.float32(1.0409749), np.float32(0.81835014), np.float32(0.9458171), np.float32(1.0576032), np.float32(1.0866984), np.float32(1.0438262), np.float32(1.0042334), np.float32(0.96097463), np.float32(0.9539961), np.float32(1.0067291), np.float32(1.0272874), np.float32(0.81086904), np.float32(0.9845969), np.float32(1.0956794), np.float32(0.9784632), np.float32(1.049512), np.float32(1.0129813), np.float32(1.0513566), np.float32(1.0604041), np.float32(1.0199277), np.float32(1.0437701), np.float32(0.99015844), np.float32(1.0264368), np.float32(0.8703061), np.float32(0.9641631), np.float32(0.95954216), np.float32(0.93812674), np.float32(1.0486423), np.float32(0.8149921), np.float32(1.0564467), np.float32(0.9496612), np.float32(0.9435017), np.float32(0.986088), np.float32(0.9902376), np.float32(1.0781391), np.float32(1.0670419), np.float32(0.94667095), np.float32(1.061683), np.float32(0.97853506), np.float32(0.9495228), np.float32(0.9356656), np.float32(0.9400947), np.float32(0.88985217), np.float32(0.90370697), np.float32(0.9845944), np.float32(1.1111667), np.float32(1.126698), np.float32(0.9485632), np.float32(0.9970869), np.float32(0.9433221), np.float32(0.9130905), np.float32(1.0000722), np.float32(0.94075596), np.float32(1.0744385), np.float32(1.1210899), np.float32(1.0057735), np.float32(0.8442256), np.float32(1.048066), np.float32(1.1499932), np.float32(1.0762302), np.float32(1.1139876), np.float32(1.0146258), np.float32(0.8595129), np.float32(1.0869899), np.float32(1.0230595), np.float32(1.0373757), np.float32(0.96784294), np.float32(0.8929348), np.float32(0.9274875), np.float32(0.9649469), np.float32(1.0641959), np.float32(1.1059662), np.float32(1.0099057), np.float32(0.8847534), np.float32(0.94463485), np.float32(0.93022466), np.float32(0.9313797), np.float32(1.0433744), np.float32(1.0361902), np.float32(0.8206042), np.float32(0.8966922), np.float32(1.0567092), np.float32(0.97636575), np.float32(1.0071676), np.float32(1.0631545), np.float32(0.9718017), np.float32(0.7750745), np.float32(0.9065918), np.float32(0.9398289), np.float32(0.9493398), np.float32(1.0262003), np.float32(0.93390685), np.float32(0.9216518), np.float32(0.992698), np.float32(1.0543994), np.float32(1.0086164), np.float32(1.0826237), np.float32(1.0396105), np.float32(0.9713634), np.float32(0.7782155), np.float32(0.97966003), np.float32(1.0682817), np.float32(1.0976319), np.float32(1.0262022), np.float32(1.1375363), np.float32(0.8501455), np.float32(0.92921245), np.float32(1.0156277), np.float32(0.9978174), np.float32(1.0619015), np.float32(1.0521282), np.float32(0.9594082), np.float32(1.0347754), np.float32(0.9517571), np.float32(0.97668034), np.float32(1.0905011), np.float32(1.1101189), np.float32(0.85723007), np.float32(1.002071), np.float32(0.9265005), np.float32(0.90696186), np.float32(1.0402805), np.float32(1.0573198), np.float32(1.0294445), np.float32(0.82265097), np.float32(1.0263014), np.float32(0.88233614), np.float32(1.0518448), np.float32(1.0750995), np.float32(1.0393703), np.float32(1.031002), np.float32(1.0333086), np.float32(0.9960046), np.float32(0.91457856), np.float32(1.086441), np.float32(1.0105432), np.float32(1.0436932), np.float32(0.86020195), np.float32(1.046911), np.float32(1.0396959), np.float32(1.0050653), np.float32(0.9714009), np.float32(0.8731111), np.float32(1.0993648), np.float32(1.0922737), np.float32(1.0313263), np.float32(0.854539), np.float32(1.0409453), np.float32(0.9682415), np.float32(1.0559565), np.float32(0.9874193), np.float32(1.0497929), np.float32(0.9440736), np.float32(0.93561107), np.float32(0.9906139), np.float32(0.709054), np.float32(1.0074551), np.float32(1.053786), np.float32(1.036741), np.float32(0.9140672), np.float32(1.0622137), np.float32(1.1795266), np.float32(1.0094452), np.float32(1.1327527), np.float32(0.98185295), np.float32(1.0434384), np.float32(0.94892615), np.float32(1.0707439), np.float32(0.98188), np.float32(0.942812), np.float32(0.9694767), np.float32(0.97483385), np.float32(1.0296214), np.float32(1.041717), np.float32(1.0156455), np.float32(0.9524099), np.float32(0.98181564), np.float32(1.0247892), np.float32(0.8088843), np.float32(0.8713484), np.float32(1.0482048), np.float32(1.0637711), np.float32(1.1538038), np.float32(1.07231), np.float32(0.9880634), np.float32(1.0501084), np.float32(0.9465199), np.float32(0.89585596), np.float32(0.978056), np.float32(1.0897752), np.float32(0.9090357), np.float32(1.0999525), np.float32(1.0322859), np.float32(1.0484649), np.float32(1.0228593), np.float32(0.99699265), np.float32(1.0533028), np.float32(0.86385226), np.float32(0.96856767), np.float32(0.8861191), np.float32(0.9651065), np.float32(0.7818694), np.float32(1.0882292), np.float32(0.94335973), np.float32(1.0599484), np.float32(0.9839106), np.float32(0.94626904), np.float32(1.0817205), np.float32(0.98510784), np.float32(0.9555359), np.float32(1.0502174), np.float32(0.9341442), np.float32(1.0297896), np.float32(1.0548918), np.float32(0.9885042), np.float32(0.9255769), np.float32(1.035637), np.float32(0.93301356), np.float32(0.7464955), np.float32(0.88127804), np.float32(0.96757436), np.float32(0.9934006), np.float32(1.0602376), np.float32(1.0901713), np.float32(1.0898873), np.float32(1.0253396), np.float32(1.0002764), np.float32(0.8566236), np.float32(1.0911989), np.float32(1.0072683), np.float32(1.0055275), np.float32(1.0335753), np.float32(0.85706663), np.float32(1.0401882), np.float32(1.0664828), np.float32(0.8875458), np.float32(0.94025856), np.float32(0.84883314), np.float32(0.9691654), np.float32(1.0373923), np.float32(1.0435997), np.float32(0.93082607), np.float32(1.0413382), np.float32(0.83993757), np.float32(0.98454803), np.float32(1.0216435), np.float32(0.861997), np.float32(1.0254598), np.float32(0.95582217), np.float32(1.0220844), np.float32(0.9988551), np.float32(1.033413), np.float32(1.0215079), np.float32(1.042752), np.float32(0.97466505), np.float32(0.88987476), np.float32(1.122539), np.float32(1.0320268), np.float32(1.074283), np.float32(1.0136566), np.float32(0.93765277), np.float32(0.8599548), np.float32(0.8487076), np.float32(1.0023319), np.float32(0.9133693), np.float32(1.0197245), np.float32(1.0279183), np.float32(1.1022756), np.float32(0.9941297), np.float32(1.0136738), np.float32(0.85162324), np.float32(1.1572442), np.float32(1.0845284), np.float32(0.9448486), np.float32(1.011881), np.float32(0.9723368), np.float32(1.0494348), np.float32(1.0496248), np.float32(1.0723195), np.float32(0.8698759), np.float32(1.065761), np.float32(1.0838677), np.float32(1.1232563), np.float32(0.89535296), np.float32(1.079237), np.float32(0.88410354), np.float32(1.0925055), np.float32(1.0574086), np.float32(1.0449389), np.float32(0.9047517), np.float32(0.93572235), np.float32(0.9622043), np.float32(1.0904611), np.float32(1.052375), np.float32(1.0472312), np.float32(1.061695), np.float32(0.939818), np.float32(1.0729305), np.float32(0.9678831), np.float32(1.1074111), np.float32(0.8781569), np.float32(1.0483452), np.float32(0.8556848), np.float32(0.99189895), np.float32(0.8937256), np.float32(1.007585), np.float32(1.0712885), np.float32(1.0892094), np.float32(1.0736146), np.float32(1.0811477), np.float32(1.0547365), np.float32(0.78917015), np.float32(0.98835707), np.float32(1.1203878), np.float32(0.9608816), np.float32(0.84201455), np.float32(0.9168099), np.float32(0.8075665), np.float32(1.0091281), np.float32(1.0434251), np.float32(0.8480311), np.float32(0.8402854), np.float32(0.9674516), np.float32(0.93799454), np.float32(1.1157086), np.float32(0.91490686), np.float32(0.9980487), np.float32(1.1245273), np.float32(1.1277523), np.float32(1.0051403), np.float32(1.0536935), np.float32(1.01838), np.float32(1.0810363), np.float32(0.9789302), np.float32(0.92868996), np.float32(0.9709362), np.float32(1.0282944), np.float32(0.95614916), np.float32(1.0414951), np.float32(1.0527035), np.float32(0.97916424), np.float32(0.9081409), np.float32(1.0058275), np.float32(1.0108721), np.float32(1.0375464), np.float32(0.842061), np.float32(1.0705386), np.float32(1.0926994), np.float32(0.84877276), np.float32(1.0671731), np.float32(0.91068166), np.float32(1.0197948), np.float32(0.8469937), np.float32(0.88639176), np.float32(0.9369935), np.float32(1.0185711), np.float32(0.9971421), np.float32(1.0142833), np.float32(0.87023973), np.float32(0.9805427), np.float32(1.0050638), np.float32(1.0256972), np.float32(1.023068), np.float32(0.9818295), np.float32(0.8993739), np.float32(0.9987479), np.float32(0.9498636), np.float32(0.9656935), np.float32(1.0967066), np.float32(1.0106127), np.float32(0.99407566), np.float32(0.9785947), np.float32(0.8457619), np.float32(1.0277975), np.float32(0.97112846), np.float32(0.9515464), np.float32(0.94316906), np.float32(0.92717636), np.float32(1.065221), np.float32(1.0505257), np.float32(0.9303337), np.float32(1.0430709), np.float32(1.0703533), np.float32(1.0093904), np.float32(0.965946), np.float32(1.0429903), np.float32(0.99745566), np.float32(0.9622823), np.float32(1.0379695), np.float32(0.9713783), np.float32(0.9480198), np.float32(0.9293678), np.float32(1.0618211), np.float32(1.0090452), np.float32(0.9131421), np.float32(0.90927094), np.float32(0.9752051), np.float32(1.0841122), np.float32(1.0373619), np.float32(1.0084138), np.float32(0.97758645), np.float32(1.1102897), np.float32(0.97537124), np.float32(0.97711277), np.float32(1.0519538), np.float32(0.99115896), np.float32(0.99064803), np.float32(0.96809745), np.float32(0.97730094), np.float32(1.1146327), np.float32(1.0153167), np.float32(0.9604345), np.float32(0.9526429), np.float32(1.0293267), np.float32(1.0047648), np.float32(0.97275335), np.float32(1.0403442), np.float32(1.0729665), np.float32(1.0556866), np.float32(1.0861917), np.float32(0.99384654), np.float32(1.041163), np.float32(1.0719328), np.float32(1.0288156), np.float32(1.068135), np.float32(1.0141288), np.float32(1.0084059), np.float32(0.9666672), np.float32(1.0315709), np.float32(0.97526044), np.float32(0.93975675), np.float32(1.0745662), np.float32(1.0077875), np.float32(0.9083432), np.float32(0.9956916), np.float32(1.0262653), np.float32(1.0052766), np.float32(0.99243045), np.float32(0.9773845), np.float32(0.97908944), np.float32(0.98646355), np.float32(1.0233986), np.float32(0.93574286), np.float32(1.0020161), np.float32(1.0336142), np.float32(0.99160725), np.float32(0.97223544), np.float32(0.94411695), np.float32(0.9505094), np.float32(1.0920445), np.float32(0.91561663), np.float32(1.0251824), np.float32(1.0064102), np.float32(0.97962046), np.float32(0.9429685), np.float32(1.038852), np.float32(1.0809517), np.float32(1.0228574), np.float32(1.0394595), np.float32(1.031138), np.float32(0.9872924), np.float32(0.92428845), np.float32(1.0650287), np.float32(0.9256807), np.float32(0.9232795), np.float32(0.98851293), np.float32(0.9590162), np.float32(0.9938155), np.float32(0.98211384), np.float32(0.95473653), np.float32(1.02813), np.float32(0.9949707), np.float32(0.96833354), np.float32(0.94031006), np.float32(1.0295086), np.float32(0.98410857), np.float32(1.0346651), np.float32(1.0697979), np.float32(1.0298747), np.float32(0.91230154), np.float32(1.0127015), np.float32(0.9682078), np.float32(0.97823155), np.float32(0.93681586), np.float32(0.9768532), np.float32(0.96035844), np.float32(0.9462143), np.float32(1.0262564), np.float32(0.9472011), np.float32(1.0449109), np.float32(0.9837374), np.float32(0.95742416), np.float32(0.90668476), np.float32(1.0384793), np.float32(0.9686996), np.float32(1.025453), np.float32(1.0213878), np.float32(0.9078504), np.float32(1.0883231), np.float32(0.9707131), np.float32(0.94047344), np.float32(0.98031855), np.float32(1.0305545), np.float32(1.043221), np.float32(0.99198556), np.float32(1.0165912), np.float32(1.0717844), np.float32(1.0177585), np.float32(1.0000621), np.float32(0.9086455), np.float32(1.0587627), np.float32(1.020403), np.float32(0.95522916), np.float32(0.9884851), np.float32(0.9582392), np.float32(1.1021637), np.float32(0.9335908), np.float32(1.0106639), np.float32(1.0353789), np.float32(1.0246907), np.float32(1.0470227), np.float32(1.031412), np.float32(1.0182993), np.float32(0.95135546), np.float32(0.96958375), np.float32(0.9989927), np.float32(0.9372239), np.float32(0.97228307), np.float32(0.99259704), np.float32(0.9751438), np.float32(0.9425995), np.float32(0.99672705), np.float32(0.9063704), np.float32(0.9706705), np.float32(0.95192754), np.float32(0.98010135), np.float32(1.0119592), np.float32(1.0246595), np.float32(0.9012248), np.float32(0.9657054), np.float32(0.96671253), np.float32(1.0411533), np.float32(1.0161035), np.float32(0.9797094), np.float32(0.9258966), np.float32(1.0454563), np.float32(1.0404946), np.float32(0.9190012), np.float32(1.0408108), np.float32(0.9833015), np.float32(0.96899563), np.float32(1.038158), np.float32(0.93403226), np.float32(0.8372981), np.float32(1.1062146), np.float32(1.0133307), np.float32(1.0949537), np.float32(0.9678928), np.float32(0.93241554), np.float32(0.986069), np.float32(0.98349017), np.float32(1.0131742), np.float32(0.9090202), np.float32(1.0204614), np.float32(1.0047272), np.float32(1.0406516), np.float32(0.9946378), np.float32(1.0002158), np.float32(0.9416414), np.float32(0.92401206), np.float32(0.960792), np.float32(0.9625415), np.float32(1.0245849), np.float32(0.9288192), np.float32(0.99673665), np.float32(0.96107584), np.float32(0.98739445), np.float32(0.8579583), np.float32(0.9546591), np.float32(0.944446), np.float32(1.0085108), np.float32(1.1076233), np.float32(1.0181968), np.float32(0.97636145), np.float32(0.9774462), np.float32(0.96627384), np.float32(0.9950755), np.float32(0.97140056), np.float32(1.072632), np.float32(1.0142503), np.float32(1.0085856), np.float32(0.9680564), np.float32(1.0168756), np.float32(0.97463036), np.float32(1.0264682), np.float32(0.894436), np.float32(0.88248897), np.float32(0.97008204), np.float32(0.9731999), np.float32(1.1214337), np.float32(0.99213105), np.float32(1.006385), np.float32(1.0091149), np.float32(0.99941665), np.float32(1.0729009), np.float32(0.9819203), np.float32(0.96765953), np.float32(0.93961346), np.float32(0.9996569), np.float32(0.9805578), np.float32(0.9478504), np.float32(1.0455368), np.float32(1.0502216), np.float32(0.943479), np.float32(0.9444075), np.float32(0.9763095), np.float32(1.0296791), np.float32(1.0323552), np.float32(1.036124), np.float32(1.0264146), np.float32(1.0412726), np.float32(1.0314555), np.float32(1.1106002), np.float32(1.0397907), np.float32(1.0946697), np.float32(1.0231847), np.float32(0.9711681), np.float32(1.025437), np.float32(0.96106845), np.float32(0.98182476), np.float32(0.96321553), np.float32(1.0397387), np.float32(0.9488872), np.float32(0.9980037), np.float32(0.95520645), np.float32(0.99621934), np.float32(0.96126735), np.float32(0.9396261), np.float32(0.98222345), np.float32(1.0672169), np.float32(0.9932214), np.float32(0.9838768), np.float32(1.0325776), np.float32(0.9943082), np.float32(0.97014105), np.float32(0.97093004), np.float32(1.0481527), np.float32(1.0088449), np.float32(0.99500704), np.float32(0.9795664), np.float32(0.9814353), np.float32(1.0286927), np.float32(0.9840748), np.float32(1.0233842), np.float32(0.94882727), np.float32(0.97764087), np.float32(0.97213846), np.float32(0.89423287), np.float32(1.0235919), np.float32(0.9446607), np.float32(0.9568156), np.float32(1.1059011), np.float32(1.0008804), np.float32(0.9842896), np.float32(1.010483), np.float32(1.0616564), np.float32(0.9863651), np.float32(1.0225548), np.float32(0.9996623), np.float32(0.9933487), np.float32(1.0028694), np.float32(0.98860425), np.float32(1.0395694), np.float32(1.0195929), np.float32(0.9838138), np.float32(1.02583), np.float32(1.018274), np.float32(1.0383328), np.float32(1.0125699), np.float32(1.0673412), np.float32(0.9689117), np.float32(1.1191007), np.float32(1.0614659), np.float32(0.9745168), np.float32(0.96759325), np.float32(0.99520326), np.float32(1.0026263), np.float32(0.95538306), np.float32(0.9576745), np.float32(0.9282764), np.float32(0.94005644), np.float32(0.9339623), np.float32(0.99432933), np.float32(1.0168022), np.float32(1.0080339), np.float32(1.0413532), np.float32(1.060545), np.float32(0.9822094), np.float32(0.95872223), np.float32(0.96994334), np.float32(1.0304081), np.float32(0.96143997), np.float32(1.0191439), np.float32(0.99734163), np.float32(1.0148841), np.float32(1.0309315), np.float32(0.98515725), np.float32(0.987416), np.float32(1.0333848), np.float32(1.0351778), np.float32(0.9895429), np.float32(1.0135868), np.float32(0.94004655), np.float32(1.0058045), np.float32(0.98149174), np.float32(0.9623715), np.float32(1.0162235), np.float32(0.9638217), np.float32(0.9692257), np.float32(1.0265268), np.float32(1.0258774), np.float32(0.9688961), np.float32(1.0533279), np.float32(0.9927166), np.float32(0.97184515), np.float32(1.0194881), np.float32(1.0232662), np.float32(0.9994761), np.float32(0.933142), np.float32(1.0209846), np.float32(0.9967438), np.float32(1.0404302), np.float32(1.0177844), np.float32(0.9712098), np.float32(0.9411102), np.float32(0.9889872), np.float32(1.0247128), np.float32(0.9727695), np.float32(0.97292227), np.float32(0.9932437), np.float32(0.9440695), np.float32(0.9464351), np.float32(1.0750867), np.float32(1.0046805), np.float32(0.9643527), np.float32(1.0512177), np.float32(1.0170258), np.float32(0.95669085), np.float32(0.97168076), np.float32(0.844305), np.float32(0.96551645), np.float32(0.9440991), np.float32(0.8619651), np.float32(1.0045159), np.float32(0.9738094), np.float32(0.97160995), np.float32(1.0370343), np.float32(1.0332756), np.float32(1.0769633), np.float32(0.9593194), np.float32(1.0935873), np.float32(0.99685305), np.float32(0.9909137), np.float32(0.928422), np.float32(0.98527414), np.float32(1.0116655), np.float32(1.0260966), np.float32(0.96141267), np.float32(1.0296711), np.float32(0.9947274), np.float32(0.95857453), np.float32(0.9970426), np.float32(0.94710624), np.float32(1.0294609), np.float32(1.0110477), np.float32(1.062393), np.float32(0.962792), np.float32(0.98870635), np.float32(1.0566685), np.float32(1.0207843), np.float32(0.97343236), np.float32(1.0297809), np.float32(1.0036157), np.float32(0.9956215), np.float32(0.9370714), np.float32(0.9048683), np.float32(1.060683), np.float32(0.9894617), np.float32(1.0551623), np.float32(0.9341606), np.float32(0.99941665), np.float32(1.0299268), np.float32(1.0146923), np.float32(0.97586405), np.float32(0.9404368), np.float32(0.9989321), np.float32(1.0105731), np.float32(1.0231847), np.float32(1.0635511), np.float32(1.1094502), np.float32(1.0047969), np.float32(0.99033093), np.float32(1.0213445), np.float32(0.9936938), np.float32(0.9751479), np.float32(0.9812412), np.float32(0.984318), np.float32(0.9897286), np.float32(0.97298443), np.float32(0.96634585), np.float32(1.04162), np.float32(0.9908627), np.float32(0.98111403), np.float32(0.9814008), np.float32(0.9785906), np.float32(0.94998205), np.float32(1.0153035), np.float32(0.99525756), np.float32(0.980113), np.float32(0.9810328), np.float32(0.97384953), np.float32(1.0626198), np.float32(1.0265344), np.float32(1.0849495), np.float32(0.9963287), np.float32(0.99320436), np.float32(0.86008906), np.float32(1.0689248), np.float32(1.0878025), np.float32(1.0330055), np.float32(0.9960356), np.float32(0.9532772), np.float32(0.9805433), np.float32(1.0707663), np.float32(0.9807059), np.float32(1.0261575), np.float32(1.0210503), np.float32(1.0631), np.float32(0.9682078), np.float32(1.0264333), np.float32(1.0819292), np.float32(0.99993885), np.float32(1.0612099), np.float32(1.0881968), np.float32(1.0030664), np.float32(0.9359147), np.float32(1.0057954), np.float32(0.9800404), np.float32(1.0131059), np.float32(0.95992064), np.float32(1.0890801), np.float32(0.9768522), np.float32(0.970606), np.float32(0.9804003), np.float32(0.9377143), np.float32(0.9961038), np.float32(1.0115476), np.float32(0.9373945), np.float32(1.0489364), np.float32(1.0175836), np.float32(1.0509659), np.float32(1.1174376), np.float32(0.98241436), np.float32(1.0313776), np.float32(0.8397994), np.float32(1.0229717), np.float32(0.82878387), np.float32(0.86731017), np.float32(0.97035825), np.float32(0.8565804), np.float32(0.96296966), np.float32(0.81949055), np.float32(0.8395046), np.float32(0.8781472), np.float32(0.83981466), np.float32(0.9470806), np.float32(0.9355785), np.float32(1.0412722), np.float32(0.95625144), np.float32(0.8094374), np.float32(1.0409993), np.float32(0.99224466), np.float32(0.86436826), np.float32(0.8686903), np.float32(0.91053784), np.float32(0.99286294), np.float32(0.93265355), np.float32(0.9527865), np.float32(0.91025317), np.float32(1.0122513), np.float32(0.85457754), np.float32(0.9811263), np.float32(0.91731364), np.float32(1.0311925), np.float32(0.9325754), np.float32(0.93996185), np.float32(0.92282873), np.float32(0.9306408), np.float32(0.88970006), np.float32(1.031188), np.float32(0.86585456), np.float32(0.84703255), np.float32(0.9651034), np.float32(0.95382506), np.float32(0.89960843), np.float32(0.90654737), np.float32(0.985717), np.float32(0.82886124), np.float32(1.0463006), np.float32(0.9452699), np.float32(0.9775671), np.float32(1.0141995), np.float32(0.8549512), np.float32(0.879771), np.float32(1.0693073), np.float32(0.9503604), np.float32(0.913485), np.float32(0.85876065), np.float32(0.7196412), np.float32(0.9617988), np.float32(0.86039686), np.float32(1.0106808), np.float32(0.80732656), np.float32(0.9287305), np.float32(0.98485065), np.float32(0.8954097), np.float32(1.0436335), np.float32(0.8178082), np.float32(0.95327806), np.float32(0.8783808), np.float32(1.0125496), np.float32(0.90452933), np.float32(0.8879887), np.float32(0.9462402), np.float32(0.9409692), np.float32(0.8316536), np.float32(0.97410536), np.float32(0.8622682), np.float32(0.93425155), np.float32(0.9497293), np.float32(0.9840423), np.float32(0.83800566), np.float32(0.84238356), np.float32(0.9835755), np.float32(0.9110484), np.float32(0.9880167), np.float32(0.89337885), np.float32(0.9383763), np.float32(0.8892667), np.float32(0.96089816), np.float32(0.90300786), np.float32(0.9599046), np.float32(0.908641), np.float32(0.90858245), np.float32(0.88615334), np.float32(0.854761), np.float32(0.8082089), np.float32(0.9378688), np.float32(0.8947907), np.float32(0.9129666), np.float32(0.83517593), np.float32(0.9643484), np.float32(0.9869924), np.float32(0.89690965), np.float32(0.8636788), np.float32(0.87872636), np.float32(1.0097426), np.float32(0.9254957), np.float32(0.94202846), np.float32(0.914589), np.float32(0.8902659), np.float32(0.925343), np.float32(0.9149078), np.float32(0.92206424), np.float32(1.0292091), np.float32(0.86618847), np.float32(0.89557827), np.float32(1.0405545), np.float32(0.99484503), np.float32(0.89098656), np.float32(0.84781337), np.float32(0.8237411), np.float32(0.955714), np.float32(1.0082344), np.float32(0.9672991), np.float32(0.9059414), np.float32(0.980332), np.float32(0.9033618), np.float32(0.86892384), np.float32(0.94196403), np.float32(0.93439287), np.float32(0.95214385), np.float32(0.9938951), np.float32(0.87814224), np.float32(0.926939), np.float32(0.91909486), np.float32(0.91573215), np.float32(0.90822685), np.float32(0.916701), np.float32(0.91185665), np.float32(1.0194256), np.float32(0.942137), np.float32(0.7380681), np.float32(0.93089485), np.float32(0.8822524), np.float32(0.90794736), np.float32(0.9884987), np.float32(0.87069595), np.float32(0.8912666), np.float32(0.96754277), np.float32(0.9519569), np.float32(0.9727615), np.float32(0.99022555), np.float32(0.8138768), np.float32(0.9092253), np.float32(0.943444), np.float32(0.8330311), np.float32(0.92036676), np.float32(0.8749336), np.float32(0.95069164), np.float32(0.9168286), np.float32(0.85212666), np.float32(1.0258846), np.float32(0.9580591), np.float32(1.0655903), np.float32(0.96127236), np.float32(1.004688), np.float32(0.97758454), np.float32(0.98166263), np.float32(0.8228097), np.float32(0.9883116), np.float32(0.90311646), np.float32(0.9293496), np.float32(0.8629473), np.float32(0.8845931), np.float32(0.9263568), np.float32(0.93477404), np.float32(0.8861412), np.float32(0.929535), np.float32(0.8403423), np.float32(0.776861), np.float32(0.89167225), np.float32(0.9425802), np.float32(0.9251414), np.float32(0.9230098), np.float32(0.9972605), np.float32(0.8123066), np.float32(0.8865773), np.float32(0.909756), np.float32(0.90523195), np.float32(0.9346423), np.float32(0.94747114), np.float32(0.9478331), np.float32(0.8544048), np.float32(0.89211124), np.float32(0.7181937), np.float32(0.98104954), np.float32(0.84716743), np.float32(0.88532436), np.float32(0.95145696), np.float32(0.8867709), np.float32(0.97942746), np.float32(0.896181), np.float32(0.95321465), np.float32(0.89455545), np.float32(0.9701109), np.float32(0.7490933), np.float32(0.94826186), np.float32(0.8237411), np.float32(0.85891736), np.float32(0.91761905), np.float32(0.8614463), np.float32(0.8643384), np.float32(0.9703585), np.float32(0.87138486), np.float32(0.8681602), np.float32(0.9015055), np.float32(0.9116826), np.float32(0.8506442), np.float32(0.96735775), np.float32(0.8675669), np.float32(0.93239844), np.float32(0.94099534), np.float32(0.83781594), np.float32(0.97655445), np.float32(0.92334634), np.float32(0.9271357), np.float32(0.88994515), np.float32(0.9947181), np.float32(0.93792486), np.float32(0.8445349), np.float32(0.9482318), np.float32(0.9185997), np.float32(1.0134076), np.float32(0.7909031), np.float32(0.9262099), np.float32(0.7490933), np.float32(0.89530677), np.float32(1.0126554), np.float32(0.8168347), np.float32(0.76387036), np.float32(0.9563639), np.float32(0.92351365), np.float32(0.82000184), np.float32(0.9609004), np.float32(0.9139669), np.float32(0.95906323), np.float32(0.87600833), np.float32(1.0180404), np.float32(0.87224317), np.float32(0.8766823), np.float32(0.9409692), np.float32(0.9422384), np.float32(0.95021784), np.float32(0.9147694), np.float32(0.94074035), np.float32(0.6717733), np.float32(0.8561666), np.float32(0.82305336), np.float32(0.90123063), np.float32(0.944168), np.float32(0.9195806), np.float32(0.98204345), np.float32(0.93010396), np.float32(0.9242039), np.float32(0.9913923), np.float32(0.8408629), np.float32(1.0500094), np.float32(0.9566351), np.float32(0.99231315), np.float32(0.8600563), np.float32(0.944131), np.float32(1.0075717), np.float32(0.96863747), np.float32(1.0554023), np.float32(0.8967698), np.float32(0.7940887), np.float32(0.9099574), np.float32(0.9363594), np.float32(0.9727601), np.float32(1.026432), np.float32(0.9240635), np.float32(1.0091542), np.float32(0.8163212), np.float32(0.986753), np.float32(0.90529937), np.float32(0.9355711), np.float32(0.88573724), np.float32(0.9230758), np.float32(0.82523257), np.float32(0.92513716), np.float32(0.97621065), np.float32(0.91423744), np.float32(0.75545263), np.float32(0.92473954), np.float32(0.9769408), np.float32(0.88714236), np.float32(0.8787331), np.float32(0.93262804), np.float32(0.9822662), np.float32(0.8347705), np.float32(0.9392601), np.float32(0.88520443), np.float32(1.0117991), np.float32(0.9778628), np.float32(0.88845456), np.float32(0.8402949), np.float32(0.8827991), np.float32(0.9999589), np.float32(0.99390113), np.float32(0.92577696), np.float32(0.90808254), np.float32(0.8254292), np.float32(0.8745106), np.float32(0.9892496), np.float32(0.89074373), np.float32(0.9386191), np.float32(0.8388492), np.float32(1.0411761), np.float32(0.913171), np.float32(0.93409675), np.float32(0.96038663), np.float32(0.9823978), np.float32(0.98774886), np.float32(0.9036013), np.float32(0.917838), np.float32(0.9050291), np.float32(0.9241478), np.float32(0.89260525), np.float32(0.9365584), np.float32(0.8310712), np.float32(0.9824196), np.float32(0.8582288), np.float32(0.9245783), np.float32(0.8783808), np.float32(0.8624487), np.float32(0.87486494), np.float32(0.8900083), np.float32(0.9437936), np.float32(0.93280435), np.float32(0.947578), np.float32(0.8963148), np.float32(0.8093459), np.float32(0.96911037), np.float32(1.0021536), np.float32(0.9259528), np.float32(0.98421675), np.float32(0.9059414), np.float32(0.7785399), np.float32(1.007572), np.float32(0.9627899), np.float32(0.9777169), np.float32(0.96598506), np.float32(1.1031513), np.float32(0.9661222), np.float32(0.9726984), np.float32(1.0950782), np.float32(1.200995), np.float32(1.0725954), np.float32(0.93258905), np.float32(0.95632696), np.float32(0.9100186), np.float32(0.97230655), np.float32(0.8996888), np.float32(1.114521), np.float32(1.0327445), np.float32(1.0738046), np.float32(0.9009391), np.float32(1.0896921), np.float32(1.1592566), np.float32(0.9728426), np.float32(1.0560353), np.float32(1.0355821), np.float32(0.9416985), np.float32(1.0209746), np.float32(1.0440977), np.float32(0.93711925), np.float32(1.0655535), np.float32(1.0599402), np.float32(1.051228), np.float32(0.9889854), np.float32(1.0747924), np.float32(1.0915926), np.float32(0.9126071), np.float32(1.0912255), np.float32(1.0678523), np.float32(0.98860425), np.float32(1.077291), np.float32(0.90847415), np.float32(0.92943037), np.float32(1.0714304), np.float32(0.9826906), np.float32(0.8688171), np.float32(0.9156872), np.float32(1.0800064), np.float32(1.0325942), np.float32(1.1015213), np.float32(1.0407407), np.float32(1.0193322), np.float32(0.9488373), np.float32(1.0452607), np.float32(1.0828677), np.float32(1.0193187), np.float32(0.9547487), np.float32(1.0120746), np.float32(1.067255), np.float32(1.0132614), np.float32(0.861931), np.float32(0.95060515), np.float32(1.0622847), np.float32(0.9638983), np.float32(1.1019361), np.float32(1.0689172), np.float32(0.9419488), np.float32(1.0608947), np.float32(0.9802909), np.float32(1.0813836), np.float32(1.0846521), np.float32(0.9433459), np.float32(1.069359), np.float32(0.9017694), np.float32(1.1388484), np.float32(1.0620185), np.float32(0.8530815), np.float32(1.0381134), np.float32(0.9304383), np.float32(1.0095284), np.float32(0.9655425), np.float32(1.054648), np.float32(1.0083401), np.float32(1.0086017), np.float32(1.091689), np.float32(1.0897275), np.float32(0.95658696), np.float32(1.1093292), np.float32(0.94039124), np.float32(0.969434), np.float32(0.9673881), np.float32(1.043617), np.float32(1.1280345), np.float32(1.1073924), np.float32(0.94499826), np.float32(0.9375925), np.float32(1.0485182), np.float32(0.94282037), np.float32(0.97540045), np.float32(0.93308264), np.float32(1.0557736), np.float32(0.9616937), np.float32(1.011146), np.float32(1.058666), np.float32(1.0089531), np.float32(1.0981117), np.float32(0.99794185), np.float32(1.1134042), np.float32(0.9752194), np.float32(1.0899653), np.float32(1.0885968), np.float32(1.0226566), np.float32(0.9992326), np.float32(1.038237), np.float32(1.0265942), np.float32(1.1008391), np.float32(1.0346009), np.float32(1.0355349), np.float32(0.9157348), np.float32(0.9679455), np.float32(0.9931233), np.float32(0.7482494), np.float32(0.83133256), np.float32(0.97785527), np.float32(0.98639387), np.float32(0.9548521), np.float32(0.98719734), np.float32(0.813703), np.float32(0.8904021), np.float32(0.85652554), np.float32(0.9723869), np.float32(1.0271512), np.float32(0.9955353), np.float32(0.82626176), np.float32(0.980883), np.float32(0.9033311), np.float32(1.1303779), np.float32(1.1269796), np.float32(1.0668138), np.float32(1.0589203), np.float32(1.0160478), np.float32(0.97251064), np.float32(1.0392399), np.float32(1.0627459), np.float32(1.0916395), np.float32(0.95975006), np.float32(1.1154574), np.float32(1.0368863), np.float32(0.8846109), np.float32(1.0568923), np.float32(0.9542269), np.float32(0.92382896), np.float32(0.9845091), np.float32(1.0602844), np.float32(1.0805281), np.float32(1.0629141), np.float32(0.9062929), np.float32(1.0575792), np.float32(1.0097762), np.float32(0.96630365), np.float32(0.78426874), np.float32(0.9987516), np.float32(1.1063567), np.float32(1.0319883), np.float32(1.0590031), np.float32(1.0691909), np.float32(0.8822092), np.float32(1.0704145), np.float32(0.9797543), np.float32(0.88141906), np.float32(1.021286), np.float32(1.0227965), np.float32(1.0361586), np.float32(1.0157169), np.float32(1.0671654), np.float32(0.93678325), np.float32(0.96633106), np.float32(1.0963104), np.float32(1.1622623), np.float32(0.8884477), np.float32(0.92900157), np.float32(1.0717081), np.float32(0.9130706), np.float32(0.88240343), np.float32(1.0184577), np.float32(1.0569212), np.float32(1.0373132), np.float32(1.045729), np.float32(0.9209446), np.float32(0.86984223), np.float32(0.99353766), np.float32(1.044825), np.float32(1.0474999), np.float32(1.0390087), np.float32(1.08814), np.float32(1.0168407), np.float32(0.9540499), np.float32(1.0936044), np.float32(0.961526), np.float32(1.0512513), np.float32(0.8921403), np.float32(1.0811429), np.float32(1.0457028), np.float32(1.0169014), np.float32(0.95388746), np.float32(1.0822453), np.float32(1.0092663), np.float32(0.9947845), np.float32(0.9714408), np.float32(0.9975498), np.float32(1.116247), np.float32(0.7987964), np.float32(0.9997937), np.float32(0.9723272), np.float32(1.1280428), np.float32(1.1029391), np.float32(0.9973679), np.float32(0.97279465), np.float32(1.0099086), np.float32(0.79660213), np.float32(0.93651336), np.float32(1.0607007), np.float32(1.0778284), np.float32(1.0114084), np.float32(1.0809407), np.float32(0.9431067), np.float32(1.0408452), np.float32(1.0748757), np.float32(0.99802464), np.float32(0.9975516), np.float32(0.9998072), np.float32(1.0699052), np.float32(1.0462828), np.float32(0.95554274), np.float32(0.9064214), np.float32(0.7932235), np.float32(0.93641), np.float32(0.98677236), np.float32(1.1360976), np.float32(0.9843336), np.float32(0.90527034), np.float32(1.059121), np.float32(1.0325494), np.float32(0.85579956), np.float32(0.9020051), np.float32(0.93191844), np.float32(1.0552995), np.float32(1.0065106), np.float32(0.9971269), np.float32(1.017587), np.float32(1.0537176), np.float32(1.1130904), np.float32(1.0014344), np.float32(1.0915296), np.float32(0.9977341), np.float32(0.99822396), np.float32(0.9602865), np.float32(1.0480574), np.float32(0.9067724), np.float32(0.79273474), np.float32(0.9364898), np.float32(0.97322357), np.float32(1.005696), np.float32(0.9764524), np.float32(1.1481308), np.float32(0.961526), np.float32(1.1532713), np.float32(1.157732), np.float32(1.074479), np.float32(0.9132465), np.float32(1.0292101), np.float32(1.0153295), np.float32(1.0370655), np.float32(0.90010333), np.float32(0.9316528), np.float32(0.9729208), np.float32(0.929351), np.float32(0.98511904), np.float32(0.9486693), np.float32(0.9867416), np.float32(1.032649), np.float32(0.8991775), np.float32(1.0619535), np.float32(1.0087254), np.float32(1.0881249), np.float32(0.90877783), np.float32(0.85629714), np.float32(1.0195383), np.float32(1.0424646), np.float32(0.9038012), np.float32(1.0311415), np.float32(0.9384378), np.float32(1.0058374), np.float32(1.0139925), np.float32(1.0274315), np.float32(1.039905), np.float32(1.0231395), np.float32(0.95373946), np.float32(1.0846796), np.float32(1.0624019), np.float32(1.077195), np.float32(1.0994911), np.float32(1.0066044), np.float32(1.0162343), np.float32(0.91198164), np.float32(0.90284145), np.float32(0.9475114), np.float32(1.0587928), np.float32(1.0960227), np.float32(0.91780084), np.float32(1.0441443), np.float32(1.0388601), np.float32(0.99023), np.float32(0.8447964), np.float32(1.072534), np.float32(1.046208), np.float32(1.0063765), np.float32(0.90413547), np.float32(0.95691764), np.float32(0.96571505), np.float32(0.89511967), np.float32(0.90065724), np.float32(0.90834236), np.float32(0.99088305), np.float32(0.9773889), np.float32(0.99473923), np.float32(0.91124576), np.float32(0.9883293), np.float32(1.0306991), np.float32(1.0724369), np.float32(0.9602789), np.float32(1.0127585), np.float32(0.91142404), np.float32(0.9291147), np.float32(1.0147781), np.float32(1.0390558), np.float32(0.9323281), np.float32(1.0164942), np.float32(1.0835811), np.float32(1.0899587), np.float32(0.8251412), np.float32(0.8258703), np.float32(1.122553), np.float32(0.88953453), np.float32(1.0018712), np.float32(1.0232728), np.float32(1.0396138), np.float32(0.96997684), np.float32(1.01893), np.float32(1.0074939), np.float32(0.8988456), np.float32(1.000772), np.float32(1.0706733), np.float32(0.96090233), np.float32(0.99720323), np.float32(1.0719463), np.float32(1.0912255), np.float32(1.0075651), np.float32(1.0663614), np.float32(1.0903087), np.float32(1.0164511), np.float32(0.99853724), np.float32(1.1333146), np.float32(0.9774811), np.float32(0.97456837), np.float32(1.090275), np.float32(0.917398), np.float32(1.0806153), np.float32(0.9584648), np.float32(1.0455964), np.float32(1.0365361), np.float32(0.9409815), np.float32(0.91315734), np.float32(0.7566715), np.float32(0.8124736), np.float32(0.8236276), np.float32(0.82410353), np.float32(0.8358217), np.float32(0.76658773), np.float32(0.9614374), np.float32(0.7736765), np.float32(0.8280921), np.float32(0.6716758), np.float32(0.72397244), np.float32(0.8507041), np.float32(0.8266117), np.float32(0.80065393), np.float32(0.72948754), np.float32(0.8303316), np.float32(0.86792517), np.float32(0.91407615), np.float32(0.86031735), np.float32(0.9184411), np.float32(0.69253576), np.float32(0.8198157), np.float32(0.93166554), np.float32(0.80178326), np.float32(0.727654), np.float32(0.7054491), np.float32(0.7301514), np.float32(0.8203399), np.float32(0.7822171), np.float32(0.7982899), np.float32(0.7366793), np.float32(0.86763024), np.float32(0.6938383), np.float32(0.716499), np.float32(0.78605354), np.float32(0.854627), np.float32(0.7450933), np.float32(0.81839174), np.float32(0.75219107), np.float32(0.8056177), np.float32(0.7958605), np.float32(0.8843535), np.float32(0.6289342), np.float32(0.81828177), np.float32(0.9465305), np.float32(0.77086794), np.float32(0.76177627), np.float32(0.9358118), np.float32(0.73793685), np.float32(0.7817945), np.float32(0.8372046), np.float32(0.91151637), np.float32(0.87605274), np.float32(0.8103137), np.float32(0.580068), np.float32(0.7755569), np.float32(0.9125415), np.float32(0.921213), np.float32(0.71667755), np.float32(0.96793795), np.float32(0.9490935), np.float32(0.8918334), np.float32(0.8013782), np.float32(0.89424175), np.float32(0.9006115), np.float32(0.80940616), np.float32(0.8966163), np.float32(0.7402868), np.float32(1.0250248), np.float32(0.6962738), np.float32(0.8283852), np.float32(0.7079239), np.float32(0.7908242), np.float32(0.71932614), np.float32(0.8417943), np.float32(0.75383884), np.float32(0.7927915), np.float32(0.8039371), np.float32(0.9316402), np.float32(0.710385), np.float32(0.6279919), np.float32(0.6223251), np.float32(0.8703325), np.float32(0.80735636), np.float32(0.70069385), np.float32(0.8771201), np.float32(0.78512436), np.float32(0.67751646), np.float32(0.85078573), np.float32(0.8246126), np.float32(0.7725828), np.float32(0.7550898), np.float32(0.8443952), np.float32(0.84126955), np.float32(0.8103277), np.float32(0.716027), np.float32(0.83353686), np.float32(0.77767664), np.float32(0.88306504), np.float32(0.82396483), np.float32(0.89275336), np.float32(0.9698595), np.float32(0.8397458), np.float32(0.81304955), np.float32(0.84774804), np.float32(0.7528671), np.float32(0.67657495), np.float32(0.87600195), np.float32(0.7602034), np.float32(0.7548164), np.float32(0.81544864), np.float32(0.88532424), np.float32(0.7901274), np.float32(0.82693905), np.float32(0.6898111), np.float32(0.91787934), np.float32(0.6645244), np.float32(1.0036571), np.float32(0.79839224), np.float32(0.7568195), np.float32(0.8942835), np.float32(0.7676238), np.float32(0.8489241), np.float32(0.9484976), np.float32(0.8401253), np.float32(0.71466243), np.float32(0.73314387), np.float32(0.5488714), np.float32(0.9884429), np.float32(0.87423575), np.float32(0.74671936), np.float32(0.7753488), np.float32(0.7436713), np.float32(0.8390005), np.float32(0.8228165), np.float32(0.9035333), np.float32(0.8844824), np.float32(0.8857666), np.float32(0.71300304), np.float32(0.7364119), np.float32(0.81962717), np.float32(0.8610697), np.float32(0.7767133), np.float32(0.7566075), np.float32(0.9025709), np.float32(0.7941415), np.float32(0.929126), np.float32(0.7140221), np.float32(0.9018506), np.float32(0.5344439), np.float32(0.76208806), np.float32(0.81568944), np.float32(0.7888313), np.float32(0.90337116), np.float32(0.8976159), np.float32(0.61377734), np.float32(0.72243804), np.float32(0.7508275), np.float32(0.69986176), np.float32(0.76284516), np.float32(0.81922793), np.float32(0.9027324), np.float32(0.709523), np.float32(0.9371564), np.float32(0.9021666), np.float32(0.8826405), np.float32(0.9397078), np.float32(0.9824362), np.float32(0.9582105), np.float32(0.86016923), np.float32(0.8488654), np.float32(0.41968733), np.float32(0.863834), np.float32(0.71559346), np.float32(0.84897625), np.float32(0.75590277), np.float32(0.7564454), np.float32(0.83248985), np.float32(0.803357), np.float32(0.4823482), np.float32(0.83606756), np.float32(0.7374734), np.float32(0.75301844), np.float32(0.75446635), np.float32(0.5243286), np.float32(0.927014), np.float32(0.86490524), np.float32(0.63407016), np.float32(0.64658487), np.float32(0.6481941), np.float32(1.0223445), np.float32(0.9313219), np.float32(0.81133926), np.float32(0.8721454), np.float32(0.96646136), np.float32(0.78997254), np.float32(0.9342221), np.float32(0.7890549), np.float32(0.8221027), np.float32(0.68669796), np.float32(0.90831727), np.float32(0.8726841), np.float32(0.7779116), np.float32(0.8722129), np.float32(0.7145989), np.float32(0.89980435), np.float32(0.8662577), np.float32(0.51486236), np.float32(0.6622032), np.float32(0.7595126), np.float32(0.86542326), np.float32(0.8275151), np.float32(0.8910412), np.float32(0.7048156), np.float32(0.81351143), np.float32(0.7936516), np.float32(1.0062485), np.float32(0.8134728), np.float32(0.68704855), np.float32(0.7978622), np.float32(0.7904768), np.float32(0.8720816), np.float32(0.76867414), np.float32(0.8560545), np.float32(0.83500034), np.float32(0.75600225), np.float32(0.92181385), np.float32(0.8250893), np.float32(0.8892534), np.float32(0.81340533), np.float32(0.8323325), np.float32(0.8696576), np.float32(0.9051446), np.float32(0.8967545), np.float32(0.8780188), np.float32(0.8975078), np.float32(0.8796794), np.float32(0.9054438), np.float32(0.8012148), np.float32(0.92372173), np.float32(0.6992138), np.float32(0.73286784), np.float32(0.93926775), np.float32(0.80701286), np.float32(0.7684296), np.float32(0.69346106), np.float32(0.726435), np.float32(0.7515283), np.float32(0.5027087), np.float32(0.82371616), np.float32(0.9366247), np.float32(0.9040174), np.float32(0.82680804), np.float32(0.75442755), np.float32(0.7653054), np.float32(0.9204669), np.float32(0.8118812), np.float32(0.67803276), np.float32(0.76751786), np.float32(0.8415585), np.float32(0.79095024), np.float32(0.80135155), np.float32(0.80516493), np.float32(0.94586116), np.float32(0.99989164), np.float32(0.7879774), np.float32(0.9390438), np.float32(0.9394803), np.float32(0.7695455), np.float32(0.8679891), np.float32(0.81241995), np.float32(0.912907), np.float32(0.86305803), np.float32(0.88947505), np.float32(0.811151), np.float32(0.8157983), np.float32(0.82204425), np.float32(0.73607063), np.float32(0.8934), np.float32(0.8519803), np.float32(0.7848244), np.float32(0.8982757), np.float32(0.7674444), np.float32(0.7505641), np.float32(0.8555193), np.float32(0.7884911), np.float32(0.7865896), np.float32(0.870688), np.float32(0.89045405), np.float32(0.8154119), np.float32(0.92255694), np.float32(0.7466157), np.float32(0.9497663), np.float32(0.7650143), np.float32(0.7718674), np.float32(0.87152636), np.float32(0.75583047), np.float32(0.8825897), np.float32(0.8042048), np.float32(0.76231956), np.float32(0.8692557), np.float32(0.60266066), np.float32(0.74507487), np.float32(0.7558645), np.float32(0.8568462), np.float32(0.5768241), np.float32(0.56692344), np.float32(0.82422775), np.float32(0.83845615), np.float32(0.8289604), np.float32(0.76726055), np.float32(0.86245894), np.float32(0.85264283), np.float32(0.9098871), np.float32(0.7837284), np.float32(0.94187033), np.float32(0.93181133), np.float32(0.95127875), np.float32(0.9563133), np.float32(0.78826505), np.float32(0.8566904), np.float32(0.71367085), np.float32(0.922433), np.float32(0.89046425), np.float32(0.58739763), np.float32(0.83178794), np.float32(0.8948564), np.float32(0.7566406), np.float32(0.95236003), np.float32(0.86953086), np.float32(0.8130046), np.float32(0.7739256), np.float32(0.7235325), np.float32(0.86382586), np.float32(0.8032046), np.float32(0.8626198), np.float32(0.8378663), np.float32(0.9345916), np.float32(0.93091714), np.float32(0.89779687), np.float32(0.6415608), np.float32(0.6204396), np.float32(0.90443987), np.float32(0.62634647), np.float32(0.8629435), np.float32(0.9143723), np.float32(0.7863269), np.float32(0.5675369), np.float32(0.8404323), np.float32(0.74910617), np.float32(0.8217196), np.float32(0.9188121), np.float32(0.65253234), np.float32(0.8841763), np.float32(0.80091876), np.float32(0.7480755), np.float32(0.74804926), np.float32(0.66988564), np.float32(0.82438713), np.float32(0.8265933), np.float32(0.84013134), np.float32(0.9350205), np.float32(0.89483905), np.float32(0.81994116), np.float32(0.3857404), np.float32(0.76139003), np.float32(0.8361815), np.float32(0.9322147), np.float32(0.6787985), np.float32(0.72448623), np.float32(0.6385683), np.float32(0.82100976), np.float32(0.806011), np.float32(0.9585151), np.float32(0.86426973), np.float32(0.81199735), np.float32(0.86085474), np.float32(0.8395673), np.float32(0.63623846), np.float32(0.80651414), np.float32(0.85368824), np.float32(0.7655609), np.float32(0.88043094), np.float32(0.6982856), np.float32(0.79280853), np.float32(0.84073114), np.float32(0.83533746), np.float32(0.7874449), np.float32(0.8975479), np.float32(0.7915175), np.float32(0.9617353), np.float32(0.78458226), np.float32(0.9097698), np.float32(0.9098051), np.float32(0.8174262), np.float32(0.6814288), np.float32(0.7137394), np.float32(0.658122), np.float32(0.92810607), np.float32(0.8853339), np.float32(0.9538862), np.float32(0.84356016), np.float32(0.65897596), np.float32(0.908403), np.float32(0.8608495), np.float32(0.6204492), np.float32(0.8483695), np.float32(0.9400749), np.float32(0.7202693), np.float32(0.78109866), np.float32(0.83224297), np.float32(0.6690207), np.float32(0.7560096), np.float32(0.85890096), np.float32(0.6419125), np.float32(0.928048), np.float32(0.9457917), np.float32(0.81225437), np.float32(1.0116042), np.float32(0.82045305), np.float32(0.6842761), np.float32(0.78733975), np.float32(0.924212), np.float32(0.9865869), np.float32(0.7449039), np.float32(0.7896163), np.float32(0.7177429), np.float32(0.7922605), np.float32(0.914037), np.float32(0.8916925), np.float32(0.79683864), np.float32(0.69385874), np.float32(0.5545143), np.float32(0.78495526), np.float32(0.92073905), np.float32(0.93212795), np.float32(0.8822424), np.float32(0.85971373), np.float32(0.84305), np.float32(0.68808275), np.float32(1.0142361), np.float32(0.7064599), np.float32(0.8429741), np.float32(0.80221766), np.float32(0.7761837), np.float32(0.8395456), np.float32(0.6886798), np.float32(0.92853683), np.float32(0.93145037), np.float32(0.8950389), np.float32(0.72190475), np.float32(0.83373785), np.float32(0.7923089), np.float32(0.7956495), np.float32(0.8353107), np.float32(0.7574408), np.float32(0.71534365), np.float32(0.9042156), np.float32(0.80787265), np.float32(0.83170015), np.float32(0.7576833), np.float32(0.563136), np.float32(0.8880644), np.float32(0.773256), np.float32(0.80917704), np.float32(0.85992163), np.float32(0.84359896), np.float32(0.7894613), np.float32(0.85970646), np.float32(0.71498746), np.float32(0.77033633), np.float32(0.80499107), np.float32(0.7278329), np.float32(0.6966505), np.float32(0.83776075), np.float32(0.8105899), np.float32(0.8040331), np.float32(0.81427395), np.float32(0.6125429), np.float32(0.7507011), np.float32(0.829712), np.float32(0.6718259), np.float32(0.65459955), np.float32(0.69554585), np.float32(0.819769), np.float32(0.74167067), np.float32(0.59758174), np.float32(0.8638036), np.float32(0.84556925), np.float32(0.770118), np.float32(0.72473675), np.float32(0.6970777), np.float32(0.7576379), np.float32(1.0313292), np.float32(0.8035724), np.float32(0.5331369), np.float32(0.86798376), np.float32(0.7149741), np.float32(0.73769236), np.float32(0.8661969), np.float32(0.9230085), np.float32(0.82974553), np.float32(0.4806044)]\n",
            "Ten-year tragedy of missing Manic\n",
            " \n",
            " Richey Edwards, guitarist and lyricist for The Manic Street Preachers, vanished 10 years ago, on 1 February 1995. His disappearance remains one of the most tragic mysteries in rock music.\n",
            " \n",
            " For his devoted fans, Richey Edwards was an inspired and inspiring poet, a man who articulated their desperation and despair, who shouted the things most kept hidden. The Manic Street Preachers may only have become stadium-conquering rock giants since his disappearance - but Edwards was the figurehead for their first, dangerous and dazzling incarnation. Edwards did not feature in the original line-up of the band, though. Singer/guitarist James Dean Bradfield, bassist Nicky Wire and drummer Sean Moore were originally accompanied by a rhythm guitarist called Flicker. But Edwards replaced Flicker in time for the band's self-financed debut, Suicide Alley, after designing the record's artwork.\n",
            " \n",
            " After becoming a full-time member, Edwards became a critical part of the band, writing lyrics and playing guitar - though in many concerts, he was not actually plugged in. But the fiercely intelligent Edwards - who name-checked writers such as Sylvia Plath, George Orwell and Philip Larkin - battled depression, alcohol problems, eating disorders, and self-harm. By the time the band released their third album, The Holy Bible, in October 1994, Edwards had been admitted to hospital with depression. But in his last interview a few months later, seemed to be making plans for the future.\n",
            " \n",
            " Edwards walks out of the Embassy Hotel in London in the early morning, ahead of the band's US tour to promote The Holy Bible. In the following days, police issue a missing person alert and his parents, Graham and Sherry, plead for their son to let them know he is safe and well.\n",
            " \n",
            " Police discover Edwards' car in a car park near the Severn Bridge near Bristol - a notorious suicide spot. The discovery leads many to believe he has killed himself. The rest of the band stop touring and recording.\n",
            " \n",
            " The band play their first concerts since Edwards' disappearance as a trio, performing support slots for The Stone Roses on their UK stadium tour.\n",
            " \n",
            " The Manic Street Preachers release their first music since Edwards' disappearance. A Design For Life reaches number two in the UK singles chart. The album Everything Must Go follows.\n",
            " \n",
            " The Manics win best band and best album for Everything Must Go at the Brit Awards.\n",
            " \n",
            " A fan says she saw Edwards in the hippy resort of Goa, India. Interpol are alerted but do not track him down.\n",
            " \n",
            " Graham and Sherry Edwards fly to the Spanish island of Fuerteventura six weeks after reports a man fitting their son's description has been seen in a bar called Underground. The report comes to nothing.\n",
            " \n",
            " Edwards' sister Rachel makes an emotional TV appeal five years after the disappearance. \"I'd just like to say to him if he is able to listen that we do love him very much and we'd like him to come back - me, mum and dad,\" she said.\n",
            " \n",
            " The band play a concert in the Cuban capital, Havana - the first contemporary western rock band to play there.\n",
            " \n",
            " On the seventh anniversary of his disappearance, police offer Edwards' parents the opportunity to sign a death certificate. They refuse. The Big Issue magazine, which supports homelessness charities, prints the last known picture of Edwards in a fresh plea for information.\n",
            " \n",
            " A pair of trainers containing human bones washed up on the banks of the River Severn have no link to Edwards, police say.\n",
            " \n",
            " The last song written by Edwards - a song called Judge Y'Self, which was to have been used for the Judge Dredd film soundtrack - is released on the B-side compilation Lipstick Traces. A skeleton found by the River Severn is not Edwards, tests reveal.\n",
            " \n",
            " The Manics' seventh studio album, Lifeblood, features a song dedicated to Edwards called Cardiff Afterlife.\n",
            " \n",
            " The remaining Manic Street Preachers members continue to pay a quarter of the band's royalties into an account held in his name.\n",
            "\n",
            "\n",
            "Peace demo appeal rejected\n",
            " \n",
            " Peace protestors have lost a landmark appeal over police actions in stopping an anti-war demonstration days after the start of the Iraq war.\n",
            " \n",
            " They had appealed against a High Court decision that it was not unlawful for police to forcibly turn protestors away near RAF Fairford, Glos, in 2003. The police had also sought to overturn a breach of human rights ruling arising from the same case. Sitting on Wednesday, three Appeal Court judges dismissed both appeals. They were challenging decisions by two judges in the High Court in February this year. It followed action by police, when three coachloads of people were searched and detained on the way to RAF Fairford and forced to return to London under police escort. The demonstrators appealed against a finding by Lord Justice May and Mr Justice Harrison that it was not unlawful for the police to turn the passengers away.\n",
            " \n",
            " The police were urging Lord Chief Justice and Lord Justices Clarke and Rix to overturn the ruling that they had breached the protestors' human rights by detaining them in the coaches. Craig Mackey, assistant chief constable of Gloucestershire Police, said: \"We have always considered that our responses were proportionate and all our decisions on the day were based on intelligence.\" He said no one on the coaches accepted responsibility for items found on the coaches including body armour, a smoke bomb and five shields. \"Given these circumstances, and the fact that RAF Fairford, and other military installations in the UK, had been the scene of increasingly destructive disorder in the weeks preceding this incident, the police commander on the ground made the decision to turn back the coaches. \"From day one we have vigorously defended this decision, which was made out of a genuine concern that if the coaches were allowed to proceed it would have resulted in disorder and criminal damage at RAF Fairford.\" Fairford Coach Action, representing more than 80 people who appealed against the police actions, say they are prepared to take their case to the European Court of Human Rights. Their action is supported by Amnesty International and Liberty.\n",
            "\n",
            "\n",
            "Sir Paul rocks Super Bowl crowds\n",
            " \n",
            " Sir Paul McCartney wowed fans with a live mini-concert at American football's Super Bowl - and avoided any Janet Jackson-style controversies.\n",
            " \n",
            " The 62-year-old sang Hey Jude and other Beatles songs in a 12-minute set at half-time during the game in Florida. Last year, Jackson exposed a breast during a dance routine, causing outrage among millions of TV viewers and landing the CBS TV network a fine. Sir Paul, however, did nothing more racy than remove his jacket as he sang. Organisers were widely considered to be playing it safe this year by booking 62-year-old Sir Paul for his second Super Bowl show.\n",
            " \n",
            " Three years ago, he was invited to perform at the first Super Bowl after the September 11 attacks and performed his specially-written song Freedom. This time, he started off the show, at the Alltel Stadium in Jacksonville, Florida, with the Beatles numbers Drive My Car and Get Back. He then performed a mellow version of Live And Let Die, the James Bond theme he recorded with the band Wings. Finally, he closed the show with a rousing version of Hey Jude. The former Beatle resisted any temptation to refer to Janet Jackson's headline-grabbing performance last year, instead keeping banter between songs to a minimum in order to squeeze as much music as he could into his slot. The singer removed his black jacket halfway through the show - but any fans hoping for a second \"Nipple-gate\" were to be disappointed as he kept his red sweatshirt on underneath.\n",
            " \n",
            " Earlier, the Black Eyed Peas and Alicia Keys had provided the night's other high-profile entertainment by performing in a pre-game show. Black Eyed Peas singer Fergie was dressed in a tight orange top and purple hotpants, but nothing in her performance was likely to upset TV watchdogs. After the controversy last year - which saw CBS fined a record $550,000 (Â£292,000) by federal regulators - Super Bowl organisers had turned to producer Don Mischer to oversee this year's half-time show. His previous production credits included Olympic opening and closing ceremonies. The Super Bowl is watched by an audience of 144.4 million in the US, with many of the people watching are said to tune in specifically to see the entertainment put on around the event. Michael Jackson, Aerosmith, Diana Ross, Gloria Estefan and Phil Collins are among the stars who have previously graced the Super Bowl stage.\n",
            "\n",
            "\n",
            "Court halts Mark Morrison album\n",
            " \n",
            " Premiership footballer and record company boss Kevin Campbell has gained a court injunction stopping R&B singer Mark Morrison from releasing an album.\n",
            " \n",
            " The Everton striker signed Morrison to his fledging 2 Wikid Records label and claims he spent thousands of pounds producing his album Innocent Man. Now he is attempting to prevent Morrison releasing the album on Monday through another label. But Morrison vowed to ignore the order, saying \"no judge is gonna stop me\".\n",
            " \n",
            " Morrison, who is now as well known for his brushes with the law than his music career, rose to fame with the 1996 single Return of the Mack.\n",
            " \n",
            " But the Leicester singer has struggled to repeat its success following two spells in jail. One was for hiring a stand-in to complete his community service for possession of a stun gun and three-months following a nightclub fracas. He signed to Mr Campbell's label a year ago and has released one single, with the label saying the album was due for release on 24 January. But Mr Campbell said he learned that Morrison planned to release the album through Jet Star, which is advertising it on its website. Mr Campbell said: \"I'm glad we were granted the injunction but I'm completely gutted that we have had to go that far. \"Mark Morrison was given everything he asked for by 2 Wikid but it seems that he couldn't help but return to his old ways.\n",
            " \n",
            " \"I've worked hard to realise my ambition in football but had hoped that my future career would be in the music business. \"I have always dreamt of starting a record label but now Mark Morrison has spoilt that dream for me. There is no loyalty in this business - just greed.\"\n",
            " \n",
            " But Morrison is determined the album will be released on Monday. He said: \"The injunction is ludicrous. \"I signed a new deal with a new record company because I was not getting the support I needed from 2 Wikid. \"I was with that label for a year and in that time released just one record, which was not properly promoted. He added: \"The whole world is waiting for this album and it will come out on December 27. No injunction or judge will stop it. The Mack will return.\" The case is set to be heard in the High Court on 20 December.\n",
            "\n",
            "\n",
            "Label withdraws McFadden's video\n",
            " \n",
            " The new video of former Westlife singer Brian McFadden has been pulled after a Dublin school complained about being associated with his song Irish Son.\n",
            " \n",
            " St Fintian's High School says it is clearly identified in the video, while McFadden never went there. McFadden makes claims that he was beaten at his own school in the song's lyrics, saying it had \"cell blocks\". The performer's record label Sony BMG has withdrawn the video and issued replacements to television stations. The label believed the school name was fictitious until they received the complaint. They have said the reference to the school was unintentional and coincidental.\n",
            " \n",
            " The head of Christian Brothers' school St Fintian's, Richard Fogarty, said the video implied that the 24-year-old pop star had attended his school and was abused there. \"The school has always treated its pupils with respect,\" Mr Fogarty said in a statement. McFadden makes specific references to the Christian Brothers in his song, but did not attend St Fintian's. Corporal punishment was outlawed in Irish schools in 1982 when McFadden was two years old.\n",
            " \n",
            " McFadden, whose debut solo album is released next week, has said that every song is autobiographical and \"a true story\". Alcoholism and domestic violence are among the other topics dealt with in his songs, half of which have been written with Robbie Williams' former collaborator, Guy Chambers. McFadden, who quit chart-topping group Westlife in March, went to number one in September with his first solo single Real To Me. He enjoyed 12 chart-toppers with the boy band before parting company with them.\n",
            "\n",
            "\n"
          ]
        }
      ],
      "source": [
        "# defining the query text\n",
        "query_text = \"High imports and exports\"\n",
        "\n",
        "# displaying the top 5 similar sentences\n",
        "top_k_reviews = top_k_similar_sentences(embedding_matrix, query_text, 5)\n",
        "\n",
        "for i in top_k_reviews:\n",
        "    print(i, end=\"\\n\\n\")"
      ]
    },
    {
      "cell_type": "markdown",
      "metadata": {
        "id": "7Dda9VmGGDXR"
      },
      "source": [
        "## **Categorization**"
      ]
    },
    {
      "cell_type": "markdown",
      "metadata": {
        "id": "iMXq_FK2mp2U"
      },
      "source": [
        "**We'll use K-Means Clustering to categorize the data.**"
      ]
    },
    {
      "cell_type": "code",
      "execution_count": null,
      "metadata": {
        "colab": {
          "base_uri": "https://localhost:8080/"
        },
        "id": "HWusI5e1B4dn",
        "outputId": "e0e8e842-38ea-4612-ddc9-31436a9a304a"
      },
      "outputs": [
        {
          "output_type": "stream",
          "name": "stdout",
          "text": [
            "Number of Clusters: 2 \tAverage Distortion: 1795.3092041015625\n",
            "Number of Clusters: 3 \tAverage Distortion: 1737.2987060546875\n",
            "Number of Clusters: 4 \tAverage Distortion: 1666.6715087890625\n",
            "Number of Clusters: 5 \tAverage Distortion: 1621.4847412109375\n",
            "Number of Clusters: 6 \tAverage Distortion: 1591.5028076171875\n",
            "Number of Clusters: 7 \tAverage Distortion: 1577.1051025390625\n",
            "Number of Clusters: 8 \tAverage Distortion: 1571.6837158203125\n",
            "Number of Clusters: 9 \tAverage Distortion: 1559.942138671875\n",
            "Number of Clusters: 10 \tAverage Distortion: 1534.398681640625\n"
          ]
        }
      ],
      "source": [
        "meanDistortions = []\n",
        "clusters = range(2, 11)\n",
        "\n",
        "for k in clusters:\n",
        "    clusterer = KMeans(n_clusters=k, random_state=1)\n",
        "    clusterer.fit(embedding_matrix)\n",
        "\n",
        "    prediction = clusterer.predict(embedding_matrix)\n",
        "\n",
        "    distortion = clusterer.inertia_\n",
        "    meanDistortions.append(distortion)\n",
        "\n",
        "    print(\"Number of Clusters:\", k, \"\\tAverage Distortion:\", distortion)"
      ]
    },
    {
      "cell_type": "code",
      "execution_count": null,
      "metadata": {
        "colab": {
          "base_uri": "https://localhost:8080/",
          "height": 480
        },
        "id": "--y7gXzWCPt-",
        "outputId": "58d01c76-bc78-4c9d-d950-e758e5c4d82f"
      },
      "outputs": [
        {
          "output_type": "display_data",
          "data": {
            "text/plain": [
              "<Figure size 640x480 with 1 Axes>"
            ],
            "image/png": "[encoded data removed]"
          },
          "metadata": {}
        }
      ],
      "source": [
        "plt.plot(clusters, meanDistortions, \"bx-\")\n",
        "plt.xlabel(\"k\")\n",
        "plt.ylabel(\"Average Distortion\")\n",
        "plt.title(\"Selecting k with the Elbow Method\", fontsize=20)\n",
        "plt.show()"
      ]
    },
    {
      "cell_type": "markdown",
      "metadata": {
        "id": "h6yvWk6fDIY2"
      },
      "source": [
        "- The appropriate value of k from the Elbow curve seems to 5."
      ]
    },
    {
      "cell_type": "markdown",
      "metadata": {
        "id": "ysM1Pl1cCWYI"
      },
      "source": [
        "**Let's check the silhouette scores.**"
      ]
    },
    {
      "cell_type": "code",
      "execution_count": null,
      "metadata": {
        "colab": {
          "base_uri": "https://localhost:8080/"
        },
        "id": "J-895NpSCXXE",
        "outputId": "97ae9b82-f67a-4dae-e243-7831ad118360"
      },
      "outputs": [
        {
          "output_type": "stream",
          "name": "stdout",
          "text": [
            "For n_clusters = 2, the silhouette score is 0.046811506152153015)\n",
            "For n_clusters = 3, the silhouette score is 0.04964283108711243)\n",
            "For n_clusters = 4, the silhouette score is 0.06065066531300545)\n",
            "For n_clusters = 5, the silhouette score is 0.06735046207904816)\n",
            "For n_clusters = 6, the silhouette score is 0.06096600741147995)\n",
            "For n_clusters = 7, the silhouette score is 0.05802200734615326)\n",
            "For n_clusters = 8, the silhouette score is 0.05344569310545921)\n",
            "For n_clusters = 9, the silhouette score is 0.05067500099539757)\n"
          ]
        }
      ],
      "source": [
        "sil_score = []\n",
        "cluster_list = range(2, 10)\n",
        "\n",
        "for n_clusters in cluster_list:\n",
        "    clusterer = KMeans(n_clusters=n_clusters, random_state=1)\n",
        "\n",
        "    preds = clusterer.fit_predict((embedding_matrix))\n",
        "\n",
        "    score = silhouette_score(embedding_matrix, preds)\n",
        "    sil_score.append(score)\n",
        "\n",
        "    print(\"For n_clusters = {}, the silhouette score is {})\".format(n_clusters, score))"
      ]
    },
    {
      "cell_type": "code",
      "execution_count": null,
      "metadata": {
        "colab": {
          "base_uri": "https://localhost:8080/",
          "height": 430
        },
        "id": "XIzCjafZCfOd",
        "outputId": "37784a4f-6670-4358-f7f0-3ef21343c2d8"
      },
      "outputs": [
        {
          "output_type": "display_data",
          "data": {
            "text/plain": [
              "<Figure size 640x480 with 1 Axes>"
            ],
            "image/png": "[encoded data removed]"
          },
          "metadata": {}
        }
      ],
      "source": [
        "plt.plot(cluster_list, sil_score, \"bx-\")\n",
        "plt.show()"
      ]
    },
    {
      "cell_type": "markdown",
      "metadata": {
        "id": "P5gFa2nHDHKx"
      },
      "source": [
        "- The silhouette coefficient for 5 clusters is the highest.\n",
        "- So, we will proceed with 5 clusters."
      ]
    },
    {
      "cell_type": "code",
      "execution_count": null,
      "metadata": {
        "id": "BOJI7_6FmFNb"
      },
      "outputs": [],
      "source": [
        "# defining the number of clusters/categories\n",
        "n_categories = 5\n",
        "\n",
        "# fitting the model\n",
        "kmeans = KMeans(n_clusters=n_categories, random_state=1).fit(embedding_matrix)"
      ]
    },
    {
      "cell_type": "code",
      "execution_count": null,
      "metadata": {
        "colab": {
          "base_uri": "https://localhost:8080/"
        },
        "id": "n6N-d-pImTPP",
        "outputId": "2056027f-d687-4646-8005-0711b1e5b618"
      },
      "outputs": [
        {
          "output_type": "execute_result",
          "data": {
            "text/plain": [
              "array([[-0.01785407,  0.00624583, -0.00339485, ..., -0.06009004,\n",
              "        -0.03252158,  0.01114389],\n",
              "       [ 0.00549149, -0.02162499,  0.01707269, ..., -0.03975475,\n",
              "        -0.01703279,  0.01147507],\n",
              "       [-0.01044312, -0.0430865 , -0.01626261, ..., -0.06730247,\n",
              "        -0.0080532 ,  0.00465481],\n",
              "       [-0.01394476, -0.03756041,  0.00739343, ..., -0.10312265,\n",
              "        -0.01400104,  0.03134287],\n",
              "       [-0.02824864, -0.03118991,  0.00693417, ..., -0.05258856,\n",
              "         0.00538871,  0.03337956]], dtype=float32)"
            ]
          },
          "metadata": {},
          "execution_count": 49
        }
      ],
      "source": [
        "# checking the cluster centers\n",
        "centers = kmeans.cluster_centers_\n",
        "centers"
      ]
    },
    {
      "cell_type": "code",
      "execution_count": null,
      "metadata": {
        "colab": {
          "base_uri": "https://localhost:8080/",
          "height": 1000
        },
        "id": "-kntIukTnqSE",
        "outputId": "4280783a-d41e-4a0e-e82a-2905f4b9c7f8"
      },
      "outputs": [
        {
          "output_type": "execute_result",
          "data": {
            "text/plain": [
              "                                                                                                                                                                                                                                                                                                                                                                                                                                                                                                                                                                                                                                                                                                                                                                                                                                                                                                                                                                                                                                                                                                                                                                                                                                                                                                                                                                                                                                                                                                                                                                                                                                                                                                                                                                                                                                                                                                                                                                                                                                                                                                                                                                                                                                                                                                                                                                                                                                                                                                                                                                                                                                                                                                                                                                                                                                                                                                                                                                                                                                                                                                                                                                                                                                                                                                             Text  \\\n",
              "0                     Budget to set scene for election\\n \\n Gordon Brown will seek to put the economy at the centre of Labour's bid for a third term in power when he delivers his ninth Budget at 1230 GMT. He is expected to stress the importance of continued economic stability, with low unemployment and interest rates. The chancellor is expected to freeze petrol duty and raise the stamp duty threshold from Â£60,000. But the Conservatives and Lib Dems insist voters face higher taxes and more means-testing under Labour.\\n \\n Treasury officials have said there will not be a pre-election giveaway, but Mr Brown is thought to have about Â£2bn to spare.\\n \\n - Increase in the stamp duty threshold from Â£60,000 \\n  - A freeze on petrol duty \\n  - An extension of tax credit scheme for poorer families \\n  - Possible help for pensioners The stamp duty threshold rise is intended to help first time buyers - a likely theme of all three of the main parties' general election manifestos. Ten years ago, buyers had a much greater chance of avoiding stamp duty, with close to half a million properties, in England and Wales alone, selling for less than Â£60,000. Since then, average UK property prices have more than doubled while the starting threshold for stamp duty has not increased. Tax credits As a result, the number of properties incurring stamp duty has rocketed as has the government's tax take. The Liberal Democrats unveiled their own proposals to raise the stamp duty threshold to Â£150,000 in February.\\n \\n The Tories are also thought likely to propose increased thresholds, with shadow chancellor Oliver Letwin branding stamp duty a \"classic Labour stealth tax\". The Tories say whatever the chancellor gives away will be clawed back in higher taxes if Labour is returned to power. Shadow Treasury chief secretary George Osborne said: \"Everyone who looks at the British economy at the moment says there has been a sharp deterioration in the public finances, that there is a black hole,\" he said. \"If Labour is elected there will be a very substantial tax increase in the Budget after the election, of the order of around Â£10bn.\"\\n \\n But Mr Brown's former advisor Ed Balls, now a parliamentary hopeful, said an examination of Tory plans for the economy showed there would be a Â£35bn difference in investment by the end of the next parliament between the two main parties. He added: \"I don't accept there is any need for any changes to the plans we have set out to meet our spending commitments.\"\\n \\n For the Lib Dems David Laws said: \"The chancellor will no doubt tell us today how wonderfully the economy is doing,\" he said. \"But a lot of that is built on an increase in personal and consumer debt over the last few years - that makes the economy quite vulnerable potentially if interest rates ever do have to go up in a significant way.\" SNP leader Alex Salmond said his party would introduce a Â£2,000 grant for first time buyers, reduce corporation tax and introduce a citizens pension free from means testing. Plaid Cymru's economics spokesman Adam Price said he wanted help to get people on the housing ladder and an increase in the minimum wage to Â£5.60 an hour.\\n   \n",
              "1                                                                                                                                                     Army chiefs in regiments decision\\n \\n Military chiefs are expected to meet to make a final decision on the future of Scotland's Army regiments.\\n \\n A committee of the Army Board, which is made up of the most senior defence figures, will discuss plans for restructuring regiments on Monday. The proposals include cutting Scotland's six single-battalion regiments to five and merging these into a super regiment. The plans have faced stiff opposition from campaigners and politicians alike. The committee's decision must be ratified by Defence Secretary Geoff Hoon and Prime Minister Tony Blair. It is expected that it will be made public next week. When ministers announced a reorganisation of the Army it drew a question mark over the futures of the Black Watch, the Kings Own Scottish Borderers, the Royal Scots, the Royal Highland Fusiliers and the Argyll and Sutherland Highlanders. In October, the Council of Scottish Colonels proposed the merger of the Royal Scots and the King's Own Scottish Borderers into a single battalion.\\n \\n Under their vision, it would be one of five in the new super regiment. The proposals to either merge or amalgamate the six regiments into a super regiment sparked a political outcry, with Labour backbenchers and opposition politicians opposing the plan. They felt the timing was insensitive because the Black Watch was in the frontline in Iraq, suffering casualties. The Save the Scottish Regiments campaigners were so angered they threatened to stand against Labour at the next general election.\\n \\n Speaking ahead of the expected Army Board meeting, a spokesman said: \"The government and the Army Board have spent the past four months attempting to trick serving soldiers and the public into thinking their planned changes for the Scottish regiments are for the good of the Army and for that of the serving soldier. \"They are very much not for the good and will destroy Scotland's regiments by moulding them into a single super regiment which will lead to severe recruitment problems, a loss of local connections to those regiments and a loss to Scotland of an important part of her heritage and, most importantly, her future - the regiments are the envy of armies around the world.\" An alternative blueprint had been put forward by Labour MP Eric Joyce, who proposed going ahead with the merger while preserving the other regiments. For a brief time, there was speculation the prime minister might consider the plan, but that now seems unlikely. Speaking in Scotland last week, Mr Blair said the aim was to preserve tradition but introduce a more effective structure and hinted that a super regiment was likely. He said: \"They don't want to get rid of the history or the traditions of the regiment or the local connections - far from it, all they want to do is make sure they can transfer people easily across regiments and deploy them more flexibly.\" The prime minister said he hoped campaigners' concerns would be taken into account but the need for effective change had to be paramount.\\n   \n",
              "2  Howard denies split over ID cards\\n \\n Michael Howard has denied his shadow cabinet was split over its decision to back controversial Labour plans to introduce ID cards.\\n \\n The Tory leader said his front bench team had reached a \"collective view\" after holding a \"good discussion\", but admitted it was \"not an easy issue\". He had decided to support the plans as the police said they would help fight terror, crime and illegal immigration. The Lib Dems have pledged to oppose the bill when it is debated next Monday.\\n \\n Tory sources say senior party figures had argued vociferously against the ID card scheme. Among those reported to have serious reservations over the strategy were senior shadow cabinet members David Davis, Oliver Letwin and Tim Yeo. But Mr Howard denied Mr Yeo, his transport and environment spokesman, said the plans \"stink\". He also said he was confident shadow home secretary Mr Davis would \"set out the position very clearly\" when he stands up to debate the matter next week. Mr Howard said the police had said ID cards could \"help them foil a terror bomb plot in which people could lose their lives\". He added: \"When the police say that you have to take them seriously\".\\n \\n He acknowledged there were \"good libertarian arguments\" against the cards, but said the shadow Cabinet had weighed up all the \"conflicting interests\" before reaching its decision. \"I don't pretend that it is an easy decision but at the end of the day a decision has to be taken.\" He also denied he was afraid of looking \"soft\" on the issue, compared to Labour. The Conservatives announced their support for the government plans on Monday evening.\\n \\n Sources within the party told the BBC Mr Howard had always been in favour of ID cards, and tried to introduce them when he was Home Secretary. But the Tories insisted they would hold ministers to account over the precise purpose of the scheme.\\n \\n They said they would also press Labour over whether objectives could be met and whether the Home Office would be able to deliver them. And they pledged to assess the cost effectiveness of ID cards and whether people's privacy would be properly protected. \"It is important to remember that this bill will take a decade to come into full effect,\" a spokesman said. Lib Dem home affairs spokesman Mark Oaten has branded the ID scheme a waste of money and \"deeply flawed\". He said: \"This has all the signs of Michael Howard overruling colleagues' concerns over ID cards.\"\\n \\n The chairman of the Bar Council, Guy Mansfield QC warned there was a real risk that people on the \"margins of society\" would be driven into the hands of extremists. \"What is going to happen to young Asian men when there has been a bomb gone off somewhere? They are going to be stopped. If they haven't [ID cards] they are going to be detained.\" Tory ex-minister Douglas Hogg said he opposed the plans for ID cards branding them a \"regressive\" step which would intrude into the lives of ordinary citizens without any counterbalancing benefits. He predicted ultimately carrying the cards would become compulsory and that would lead to large numbers of Britain's ethnic minorities being stopped by police.\\n   \n",
              "3                                                                             Observers to monitor UK election\\n \\n Ministers will invite international observers to check the forthcoming UK general election is fairly run.\\n \\n The move comes amid claims the poll could be marred by electoral fraud. A report by two MPs committees called on Thursday for urgent changes to the electoral registration system to combat vote rigging and boost turnout. But in a written response to Labour MP Gordon Prentice, the government said it would normally invite observers to any UK election.\\n \\n Junior constitutional affairs minister Christopher Leslie said: \"I fully expect us to repeat our previous practice of doing so once the date for the next general election is announced.\" The government has looked at ways of boosting voter turnout, which fell to 59% in the last general election in 2001.\\n \\n But trial all-postal ballots in four English regions last summer were hit by delays and some fraud allegations. Liberal Democrat peer Lord Greaves called last week for international observers at the general election - saying otherwise there could be months of court challenges \"on a scale not seen since the 19th Century\". Thursday's report was drawn up by two committees scrutinising the work of the Office of the Deputy Prime Minister (ODPM) and the Department for Constitutional Affairs (DCA). It said that, with the growth of postal voting, there was a strong case to tighten up fraud protection by requiring voters to register individually, rather than by household. It also said about three million people eligible to vote are not registered to do so.\\n \\n Figures for the 2001 general election suggest 29% of people aged between 18 and 24, and 19% of black voters were not on the electoral roll. Young people in shared accommodation are thought to miss out because no one acts as head of the household to fill in the form. ODPM committee chairman Andrew Bennett said individual voter registration, as opposed to registration by household, should be quickly introduced as it could \"dramatically reduce the chances of fraud\". But his counterpart on the DCA committee, Alan Beith, said it should be delayed \"until measures likely to increase registration have been put in place and proved effective.\" Shadow Constitutional Affairs Secretary Oliver Heald accused the government of \"dragging its feet\" over \"this badly needed measure\". \"It is vital that we move ahead with the Northern Ireland system of individual electoral registration to safeguard the integrity of the Britain's electoral system,\" he said.\\n \\n The report said individual registration should be treated carefully as 12% of voters disappeared from the electoral roll in Northern Ireland when it was introduced in 2002. The report said the government should consider fines for unregistered voters, but accepted many experts said it would be an expensive system that would be hard to enforce. It said incentives to register, such as Â£20 council tax rebate, were likely to be seen as \"gimmicks\" and risked undermining the integrity of the system, MPs said. Instead they called for \"imaginative campaigns\" to boost interest.\\n   \n",
              "4                                                                                                                                                                                                                                                                                                                                                                                                                                                                                                                                                                               Kilroy names election seat target\\n \\n Ex-chat show host Robert Kilroy-Silk is to contest the Derbyshire seat of Erewash at the next general election.\\n \\n Labour's Elizabeth Blackman won the seat in 1997 and has a 6,932 majority. She says she will fight on her record \"as a hard-working constituency MP\". Mr Kilroy-Silk announced his plans a day after launching his new party, Veritas, the Latin for truth. The East Midlands MEP, who quit the UK Independence Party, wants his new group to \"change the face\" of UK politics. His choice of election constituency quashes speculation that he would stand against Defence Secretary Geoff Hoon in Ashfield, Nottinghamshire. UKIP won 31% of the vote in Erewash in last June's European elections - with Mr Kilroy-Silk among their candidates for the region. Until 1997, Erewash had been held by the Tories since 1970. Ms Blackman said she was proud of the government's achievements in the area. She declined to give her view of Mr Kilroy-Silk at this point.\\n \\n On Thursday, he told a London news conference that Veritas would avoid the old parties' \"lies and spin\". He said \"our country\" was being \"stolen from us\" by mass immigration and promised a \"firm but fair\" policy on immigration. Veritas says it hopes to contest most seats at the forthcoming general election but plans to announce detailed policies on crime, tax, pensions, health and defence over the next few weeks.\\n \\n UKIP leader Roger Knapman says he is glad to see the back of Mr Kilroy-Silk. Labour campaign spokesman Fraser Kemp said Veritas was joining \"an already crowded field on the right of British politics\". Mr Kilroy-Silk was joined in the new venture by one of UKIP's two London Assembly members, Damien Hockney, who is now Veritas' deputy leader.\\n \\n UKIP's chairman Petrina Holdsworth has said the group will just be a parody of the party the men have left. Mr Kilroy-Silk quit UKIP last week after months of tension as he vied unsuccessfully for the leadership of that party. He said he was ashamed to be a member of a UKIP whose leadership had \"gone AWOL\" after the great opportunity offered by its third place at last June's European elections. UKIP's leader, Roger Knapman, has said he is glad to see the back of Mr Kilroy-Silk. \"He has remarkable ability to influence people but, sadly, after the [European] election it became clear that he was more interested in the Robert Kilroy-Silk Party than the UK Independence Party so it was nice knowing him, now 'goodbye',\" he said. UKIP officials also argue Mr Kilroy-Silk has not been \"straightforward\" in attacking the party he once wanted to lead.\\n   \n",
              "\n",
              "   Category  \n",
              "0         1  \n",
              "1         1  \n",
              "2         1  \n",
              "3         1  \n",
              "4         1  "
            ],
            "text/html": [
              "\n",
              "  <div id=\"df-a7a64e2f-3eac-48b0-be55-7e914bd73518\" class=\"colab-df-container\">\n",
              "    <div>\n",
              "<style scoped>\n",
              "    .dataframe tbody tr th:only-of-type {\n",
              "        vertical-align: middle;\n",
              "    }\n",
              "\n",
              "    .dataframe tbody tr th {\n",
              "        vertical-align: top;\n",
              "    }\n",
              "\n",
              "    .dataframe thead th {\n",
              "        text-align: right;\n",
              "    }\n",
              "</style>\n",
              "<table border=\"1\" class=\"dataframe\">\n",
              "  <thead>\n",
              "    <tr style=\"text-align: right;\">\n",
              "      <th></th>\n",
              "      <th>Text</th>\n",
              "      <th>Category</th>\n",
              "    </tr>\n",
              "  </thead>\n",
              "  <tbody>\n",
              "    <tr>\n",
              "      <th>0</th>\n",
              "      <td>Budget to set scene for election\\n \\n Gordon Brown will seek to put the economy at the centre of Labour's bid for a third term in power when he delivers his ninth Budget at 1230 GMT. He is expected to stress the importance of continued economic stability, with low unemployment and interest rates. The chancellor is expected to freeze petrol duty and raise the stamp duty threshold from Â£60,000. But the Conservatives and Lib Dems insist voters face higher taxes and more means-testing under Labour.\\n \\n Treasury officials have said there will not be a pre-election giveaway, but Mr Brown is thought to have about Â£2bn to spare.\\n \\n - Increase in the stamp duty threshold from Â£60,000 \\n  - A freeze on petrol duty \\n  - An extension of tax credit scheme for poorer families \\n  - Possible help for pensioners The stamp duty threshold rise is intended to help first time buyers - a likely theme of all three of the main parties' general election manifestos. Ten years ago, buyers had a much greater chance of avoiding stamp duty, with close to half a million properties, in England and Wales alone, selling for less than Â£60,000. Since then, average UK property prices have more than doubled while the starting threshold for stamp duty has not increased. Tax credits As a result, the number of properties incurring stamp duty has rocketed as has the government's tax take. The Liberal Democrats unveiled their own proposals to raise the stamp duty threshold to Â£150,000 in February.\\n \\n The Tories are also thought likely to propose increased thresholds, with shadow chancellor Oliver Letwin branding stamp duty a \"classic Labour stealth tax\". The Tories say whatever the chancellor gives away will be clawed back in higher taxes if Labour is returned to power. Shadow Treasury chief secretary George Osborne said: \"Everyone who looks at the British economy at the moment says there has been a sharp deterioration in the public finances, that there is a black hole,\" he said. \"If Labour is elected there will be a very substantial tax increase in the Budget after the election, of the order of around Â£10bn.\"\\n \\n But Mr Brown's former advisor Ed Balls, now a parliamentary hopeful, said an examination of Tory plans for the economy showed there would be a Â£35bn difference in investment by the end of the next parliament between the two main parties. He added: \"I don't accept there is any need for any changes to the plans we have set out to meet our spending commitments.\"\\n \\n For the Lib Dems David Laws said: \"The chancellor will no doubt tell us today how wonderfully the economy is doing,\" he said. \"But a lot of that is built on an increase in personal and consumer debt over the last few years - that makes the economy quite vulnerable potentially if interest rates ever do have to go up in a significant way.\" SNP leader Alex Salmond said his party would introduce a Â£2,000 grant for first time buyers, reduce corporation tax and introduce a citizens pension free from means testing. Plaid Cymru's economics spokesman Adam Price said he wanted help to get people on the housing ladder and an increase in the minimum wage to Â£5.60 an hour.\\n</td>\n",
              "      <td>1</td>\n",
              "    </tr>\n",
              "    <tr>\n",
              "      <th>1</th>\n",
              "      <td>Army chiefs in regiments decision\\n \\n Military chiefs are expected to meet to make a final decision on the future of Scotland's Army regiments.\\n \\n A committee of the Army Board, which is made up of the most senior defence figures, will discuss plans for restructuring regiments on Monday. The proposals include cutting Scotland's six single-battalion regiments to five and merging these into a super regiment. The plans have faced stiff opposition from campaigners and politicians alike. The committee's decision must be ratified by Defence Secretary Geoff Hoon and Prime Minister Tony Blair. It is expected that it will be made public next week. When ministers announced a reorganisation of the Army it drew a question mark over the futures of the Black Watch, the Kings Own Scottish Borderers, the Royal Scots, the Royal Highland Fusiliers and the Argyll and Sutherland Highlanders. In October, the Council of Scottish Colonels proposed the merger of the Royal Scots and the King's Own Scottish Borderers into a single battalion.\\n \\n Under their vision, it would be one of five in the new super regiment. The proposals to either merge or amalgamate the six regiments into a super regiment sparked a political outcry, with Labour backbenchers and opposition politicians opposing the plan. They felt the timing was insensitive because the Black Watch was in the frontline in Iraq, suffering casualties. The Save the Scottish Regiments campaigners were so angered they threatened to stand against Labour at the next general election.\\n \\n Speaking ahead of the expected Army Board meeting, a spokesman said: \"The government and the Army Board have spent the past four months attempting to trick serving soldiers and the public into thinking their planned changes for the Scottish regiments are for the good of the Army and for that of the serving soldier. \"They are very much not for the good and will destroy Scotland's regiments by moulding them into a single super regiment which will lead to severe recruitment problems, a loss of local connections to those regiments and a loss to Scotland of an important part of her heritage and, most importantly, her future - the regiments are the envy of armies around the world.\" An alternative blueprint had been put forward by Labour MP Eric Joyce, who proposed going ahead with the merger while preserving the other regiments. For a brief time, there was speculation the prime minister might consider the plan, but that now seems unlikely. Speaking in Scotland last week, Mr Blair said the aim was to preserve tradition but introduce a more effective structure and hinted that a super regiment was likely. He said: \"They don't want to get rid of the history or the traditions of the regiment or the local connections - far from it, all they want to do is make sure they can transfer people easily across regiments and deploy them more flexibly.\" The prime minister said he hoped campaigners' concerns would be taken into account but the need for effective change had to be paramount.\\n</td>\n",
              "      <td>1</td>\n",
              "    </tr>\n",
              "    <tr>\n",
              "      <th>2</th>\n",
              "      <td>Howard denies split over ID cards\\n \\n Michael Howard has denied his shadow cabinet was split over its decision to back controversial Labour plans to introduce ID cards.\\n \\n The Tory leader said his front bench team had reached a \"collective view\" after holding a \"good discussion\", but admitted it was \"not an easy issue\". He had decided to support the plans as the police said they would help fight terror, crime and illegal immigration. The Lib Dems have pledged to oppose the bill when it is debated next Monday.\\n \\n Tory sources say senior party figures had argued vociferously against the ID card scheme. Among those reported to have serious reservations over the strategy were senior shadow cabinet members David Davis, Oliver Letwin and Tim Yeo. But Mr Howard denied Mr Yeo, his transport and environment spokesman, said the plans \"stink\". He also said he was confident shadow home secretary Mr Davis would \"set out the position very clearly\" when he stands up to debate the matter next week. Mr Howard said the police had said ID cards could \"help them foil a terror bomb plot in which people could lose their lives\". He added: \"When the police say that you have to take them seriously\".\\n \\n He acknowledged there were \"good libertarian arguments\" against the cards, but said the shadow Cabinet had weighed up all the \"conflicting interests\" before reaching its decision. \"I don't pretend that it is an easy decision but at the end of the day a decision has to be taken.\" He also denied he was afraid of looking \"soft\" on the issue, compared to Labour. The Conservatives announced their support for the government plans on Monday evening.\\n \\n Sources within the party told the BBC Mr Howard had always been in favour of ID cards, and tried to introduce them when he was Home Secretary. But the Tories insisted they would hold ministers to account over the precise purpose of the scheme.\\n \\n They said they would also press Labour over whether objectives could be met and whether the Home Office would be able to deliver them. And they pledged to assess the cost effectiveness of ID cards and whether people's privacy would be properly protected. \"It is important to remember that this bill will take a decade to come into full effect,\" a spokesman said. Lib Dem home affairs spokesman Mark Oaten has branded the ID scheme a waste of money and \"deeply flawed\". He said: \"This has all the signs of Michael Howard overruling colleagues' concerns over ID cards.\"\\n \\n The chairman of the Bar Council, Guy Mansfield QC warned there was a real risk that people on the \"margins of society\" would be driven into the hands of extremists. \"What is going to happen to young Asian men when there has been a bomb gone off somewhere? They are going to be stopped. If they haven't [ID cards] they are going to be detained.\" Tory ex-minister Douglas Hogg said he opposed the plans for ID cards branding them a \"regressive\" step which would intrude into the lives of ordinary citizens without any counterbalancing benefits. He predicted ultimately carrying the cards would become compulsory and that would lead to large numbers of Britain's ethnic minorities being stopped by police.\\n</td>\n",
              "      <td>1</td>\n",
              "    </tr>\n",
              "    <tr>\n",
              "      <th>3</th>\n",
              "      <td>Observers to monitor UK election\\n \\n Ministers will invite international observers to check the forthcoming UK general election is fairly run.\\n \\n The move comes amid claims the poll could be marred by electoral fraud. A report by two MPs committees called on Thursday for urgent changes to the electoral registration system to combat vote rigging and boost turnout. But in a written response to Labour MP Gordon Prentice, the government said it would normally invite observers to any UK election.\\n \\n Junior constitutional affairs minister Christopher Leslie said: \"I fully expect us to repeat our previous practice of doing so once the date for the next general election is announced.\" The government has looked at ways of boosting voter turnout, which fell to 59% in the last general election in 2001.\\n \\n But trial all-postal ballots in four English regions last summer were hit by delays and some fraud allegations. Liberal Democrat peer Lord Greaves called last week for international observers at the general election - saying otherwise there could be months of court challenges \"on a scale not seen since the 19th Century\". Thursday's report was drawn up by two committees scrutinising the work of the Office of the Deputy Prime Minister (ODPM) and the Department for Constitutional Affairs (DCA). It said that, with the growth of postal voting, there was a strong case to tighten up fraud protection by requiring voters to register individually, rather than by household. It also said about three million people eligible to vote are not registered to do so.\\n \\n Figures for the 2001 general election suggest 29% of people aged between 18 and 24, and 19% of black voters were not on the electoral roll. Young people in shared accommodation are thought to miss out because no one acts as head of the household to fill in the form. ODPM committee chairman Andrew Bennett said individual voter registration, as opposed to registration by household, should be quickly introduced as it could \"dramatically reduce the chances of fraud\". But his counterpart on the DCA committee, Alan Beith, said it should be delayed \"until measures likely to increase registration have been put in place and proved effective.\" Shadow Constitutional Affairs Secretary Oliver Heald accused the government of \"dragging its feet\" over \"this badly needed measure\". \"It is vital that we move ahead with the Northern Ireland system of individual electoral registration to safeguard the integrity of the Britain's electoral system,\" he said.\\n \\n The report said individual registration should be treated carefully as 12% of voters disappeared from the electoral roll in Northern Ireland when it was introduced in 2002. The report said the government should consider fines for unregistered voters, but accepted many experts said it would be an expensive system that would be hard to enforce. It said incentives to register, such as Â£20 council tax rebate, were likely to be seen as \"gimmicks\" and risked undermining the integrity of the system, MPs said. Instead they called for \"imaginative campaigns\" to boost interest.\\n</td>\n",
              "      <td>1</td>\n",
              "    </tr>\n",
              "    <tr>\n",
              "      <th>4</th>\n",
              "      <td>Kilroy names election seat target\\n \\n Ex-chat show host Robert Kilroy-Silk is to contest the Derbyshire seat of Erewash at the next general election.\\n \\n Labour's Elizabeth Blackman won the seat in 1997 and has a 6,932 majority. She says she will fight on her record \"as a hard-working constituency MP\". Mr Kilroy-Silk announced his plans a day after launching his new party, Veritas, the Latin for truth. The East Midlands MEP, who quit the UK Independence Party, wants his new group to \"change the face\" of UK politics. His choice of election constituency quashes speculation that he would stand against Defence Secretary Geoff Hoon in Ashfield, Nottinghamshire. UKIP won 31% of the vote in Erewash in last June's European elections - with Mr Kilroy-Silk among their candidates for the region. Until 1997, Erewash had been held by the Tories since 1970. Ms Blackman said she was proud of the government's achievements in the area. She declined to give her view of Mr Kilroy-Silk at this point.\\n \\n On Thursday, he told a London news conference that Veritas would avoid the old parties' \"lies and spin\". He said \"our country\" was being \"stolen from us\" by mass immigration and promised a \"firm but fair\" policy on immigration. Veritas says it hopes to contest most seats at the forthcoming general election but plans to announce detailed policies on crime, tax, pensions, health and defence over the next few weeks.\\n \\n UKIP leader Roger Knapman says he is glad to see the back of Mr Kilroy-Silk. Labour campaign spokesman Fraser Kemp said Veritas was joining \"an already crowded field on the right of British politics\". Mr Kilroy-Silk was joined in the new venture by one of UKIP's two London Assembly members, Damien Hockney, who is now Veritas' deputy leader.\\n \\n UKIP's chairman Petrina Holdsworth has said the group will just be a parody of the party the men have left. Mr Kilroy-Silk quit UKIP last week after months of tension as he vied unsuccessfully for the leadership of that party. He said he was ashamed to be a member of a UKIP whose leadership had \"gone AWOL\" after the great opportunity offered by its third place at last June's European elections. UKIP's leader, Roger Knapman, has said he is glad to see the back of Mr Kilroy-Silk. \"He has remarkable ability to influence people but, sadly, after the [European] election it became clear that he was more interested in the Robert Kilroy-Silk Party than the UK Independence Party so it was nice knowing him, now 'goodbye',\" he said. UKIP officials also argue Mr Kilroy-Silk has not been \"straightforward\" in attacking the party he once wanted to lead.\\n</td>\n",
              "      <td>1</td>\n",
              "    </tr>\n",
              "  </tbody>\n",
              "</table>\n",
              "</div>\n",
              "    <div class=\"colab-df-buttons\">\n",
              "\n",
              "  <div class=\"colab-df-container\">\n",
              "    <button class=\"colab-df-convert\" onclick=\"convertToInteractive('df-a7a64e2f-3eac-48b0-be55-7e914bd73518')\"\n",
              "            title=\"Convert this dataframe to an interactive table.\"\n",
              "            style=\"display:none;\">\n",
              "\n",
              "  <svg xmlns=\"http://www.w3.org/2000/svg\" height=\"24px\" viewBox=\"0 -960 960 960\">\n",
              "    <path d=\"M120-120v-720h720v720H120Zm60-500h600v-160H180v160Zm220 220h160v-160H400v160Zm0 220h160v-160H400v160ZM180-400h160v-160H180v160Zm440 0h160v-160H620v160ZM180-180h160v-160H180v160Zm440 0h160v-160H620v160Z\"/>\n",
              "  </svg>\n",
              "    </button>\n",
              "\n",
              "  <style>\n",
              "    .colab-df-container {\n",
              "      display:flex;\n",
              "      gap: 12px;\n",
              "    }\n",
              "\n",
              "    .colab-df-convert {\n",
              "      background-color: #E8F0FE;\n",
              "      border: none;\n",
              "      border-radius: 50%;\n",
              "      cursor: pointer;\n",
              "      display: none;\n",
              "      fill: #1967D2;\n",
              "      height: 32px;\n",
              "      padding: 0 0 0 0;\n",
              "      width: 32px;\n",
              "    }\n",
              "\n",
              "    .colab-df-convert:hover {\n",
              "      background-color: #E2EBFA;\n",
              "      box-shadow: 0px 1px 2px rgba(60, 64, 67, 0.3), 0px 1px 3px 1px rgba(60, 64, 67, 0.15);\n",
              "      fill: #174EA6;\n",
              "    }\n",
              "\n",
              "    .colab-df-buttons div {\n",
              "      margin-bottom: 4px;\n",
              "    }\n",
              "\n",
              "    [theme=dark] .colab-df-convert {\n",
              "      background-color: #3B4455;\n",
              "      fill: #D2E3FC;\n",
              "    }\n",
              "\n",
              "    [theme=dark] .colab-df-convert:hover {\n",
              "      background-color: #434B5C;\n",
              "      box-shadow: 0px 1px 3px 1px rgba(0, 0, 0, 0.15);\n",
              "      filter: drop-shadow(0px 1px 2px rgba(0, 0, 0, 0.3));\n",
              "      fill: #FFFFFF;\n",
              "    }\n",
              "  </style>\n",
              "\n",
              "    <script>\n",
              "      const buttonEl =\n",
              "        document.querySelector('#df-a7a64e2f-3eac-48b0-be55-7e914bd73518 button.colab-df-convert');\n",
              "      buttonEl.style.display =\n",
              "        google.colab.kernel.accessAllowed ? 'block' : 'none';\n",
              "\n",
              "      async function convertToInteractive(key) {\n",
              "        const element = document.querySelector('#df-a7a64e2f-3eac-48b0-be55-7e914bd73518');\n",
              "        const dataTable =\n",
              "          await google.colab.kernel.invokeFunction('convertToInteractive',\n",
              "                                                    [key], {});\n",
              "        if (!dataTable) return;\n",
              "\n",
              "        const docLinkHtml = 'Like what you see? Visit the ' +\n",
              "          '<a target=\"_blank\" href=https://colab.research.google.com/notebooks/data_table.ipynb>data table notebook</a>'\n",
              "          + ' to learn more about interactive tables.';\n",
              "        element.innerHTML = '';\n",
              "        dataTable['output_type'] = 'display_data';\n",
              "        await google.colab.output.renderOutput(dataTable, element);\n",
              "        const docLink = document.createElement('div');\n",
              "        docLink.innerHTML = docLinkHtml;\n",
              "        element.appendChild(docLink);\n",
              "      }\n",
              "    </script>\n",
              "  </div>\n",
              "\n",
              "\n",
              "    <div id=\"df-6cf029db-6620-4716-90d2-68de05082523\">\n",
              "      <button class=\"colab-df-quickchart\" onclick=\"quickchart('df-6cf029db-6620-4716-90d2-68de05082523')\"\n",
              "                title=\"Suggest charts\"\n",
              "                style=\"display:none;\">\n",
              "\n",
              "<svg xmlns=\"http://www.w3.org/2000/svg\" height=\"24px\"viewBox=\"0 0 24 24\"\n",
              "     width=\"24px\">\n",
              "    <g>\n",
              "        <path d=\"M19 3H5c-1.1 0-2 .9-2 2v14c0 1.1.9 2 2 2h14c1.1 0 2-.9 2-2V5c0-1.1-.9-2-2-2zM9 17H7v-7h2v7zm4 0h-2V7h2v10zm4 0h-2v-4h2v4z\"/>\n",
              "    </g>\n",
              "</svg>\n",
              "      </button>\n",
              "\n",
              "<style>\n",
              "  .colab-df-quickchart {\n",
              "      --bg-color: #E8F0FE;\n",
              "      --fill-color: #1967D2;\n",
              "      --hover-bg-color: #E2EBFA;\n",
              "      --hover-fill-color: #174EA6;\n",
              "      --disabled-fill-color: #AAA;\n",
              "      --disabled-bg-color: #DDD;\n",
              "  }\n",
              "\n",
              "  [theme=dark] .colab-df-quickchart {\n",
              "      --bg-color: #3B4455;\n",
              "      --fill-color: #D2E3FC;\n",
              "      --hover-bg-color: #434B5C;\n",
              "      --hover-fill-color: #FFFFFF;\n",
              "      --disabled-bg-color: #3B4455;\n",
              "      --disabled-fill-color: #666;\n",
              "  }\n",
              "\n",
              "  .colab-df-quickchart {\n",
              "    background-color: var(--bg-color);\n",
              "    border: none;\n",
              "    border-radius: 50%;\n",
              "    cursor: pointer;\n",
              "    display: none;\n",
              "    fill: var(--fill-color);\n",
              "    height: 32px;\n",
              "    padding: 0;\n",
              "    width: 32px;\n",
              "  }\n",
              "\n",
              "  .colab-df-quickchart:hover {\n",
              "    background-color: var(--hover-bg-color);\n",
              "    box-shadow: 0 1px 2px rgba(60, 64, 67, 0.3), 0 1px 3px 1px rgba(60, 64, 67, 0.15);\n",
              "    fill: var(--button-hover-fill-color);\n",
              "  }\n",
              "\n",
              "  .colab-df-quickchart-complete:disabled,\n",
              "  .colab-df-quickchart-complete:disabled:hover {\n",
              "    background-color: var(--disabled-bg-color);\n",
              "    fill: var(--disabled-fill-color);\n",
              "    box-shadow: none;\n",
              "  }\n",
              "\n",
              "  .colab-df-spinner {\n",
              "    border: 2px solid var(--fill-color);\n",
              "    border-color: transparent;\n",
              "    border-bottom-color: var(--fill-color);\n",
              "    animation:\n",
              "      spin 1s steps(1) infinite;\n",
              "  }\n",
              "\n",
              "  @keyframes spin {\n",
              "    0% {\n",
              "      border-color: transparent;\n",
              "      border-bottom-color: var(--fill-color);\n",
              "      border-left-color: var(--fill-color);\n",
              "    }\n",
              "    20% {\n",
              "      border-color: transparent;\n",
              "      border-left-color: var(--fill-color);\n",
              "      border-top-color: var(--fill-color);\n",
              "    }\n",
              "    30% {\n",
              "      border-color: transparent;\n",
              "      border-left-color: var(--fill-color);\n",
              "      border-top-color: var(--fill-color);\n",
              "      border-right-color: var(--fill-color);\n",
              "    }\n",
              "    40% {\n",
              "      border-color: transparent;\n",
              "      border-right-color: var(--fill-color);\n",
              "      border-top-color: var(--fill-color);\n",
              "    }\n",
              "    60% {\n",
              "      border-color: transparent;\n",
              "      border-right-color: var(--fill-color);\n",
              "    }\n",
              "    80% {\n",
              "      border-color: transparent;\n",
              "      border-right-color: var(--fill-color);\n",
              "      border-bottom-color: var(--fill-color);\n",
              "    }\n",
              "    90% {\n",
              "      border-color: transparent;\n",
              "      border-bottom-color: var(--fill-color);\n",
              "    }\n",
              "  }\n",
              "</style>\n",
              "\n",
              "      <script>\n",
              "        async function quickchart(key) {\n",
              "          const quickchartButtonEl =\n",
              "            document.querySelector('#' + key + ' button');\n",
              "          quickchartButtonEl.disabled = true;  // To prevent multiple clicks.\n",
              "          quickchartButtonEl.classList.add('colab-df-spinner');\n",
              "          try {\n",
              "            const charts = await google.colab.kernel.invokeFunction(\n",
              "                'suggestCharts', [key], {});\n",
              "          } catch (error) {\n",
              "            console.error('Error during call to suggestCharts:', error);\n",
              "          }\n",
              "          quickchartButtonEl.classList.remove('colab-df-spinner');\n",
              "          quickchartButtonEl.classList.add('colab-df-quickchart-complete');\n",
              "        }\n",
              "        (() => {\n",
              "          let quickchartButtonEl =\n",
              "            document.querySelector('#df-6cf029db-6620-4716-90d2-68de05082523 button');\n",
              "          quickchartButtonEl.style.display =\n",
              "            google.colab.kernel.accessAllowed ? 'block' : 'none';\n",
              "        })();\n",
              "      </script>\n",
              "    </div>\n",
              "\n",
              "    </div>\n",
              "  </div>\n"
            ],
            "application/vnd.google.colaboratory.intrinsic+json": {
              "type": "dataframe",
              "variable_name": "clustered_data",
              "summary": "{\n  \"name\": \"clustered_data\",\n  \"rows\": 2127,\n  \"fields\": [\n    {\n      \"column\": \"Text\",\n      \"properties\": {\n        \"dtype\": \"string\",\n        \"num_unique_values\": 2127,\n        \"samples\": [\n          \"Blair congratulates Bush on win\\n \\n Tony Blair has said he looks forward to continuing his strong relationship with George Bush and working with him during his second term as president.\\n \\n Mr Bush's re-election came at a crucial time for a world that was \\\"fractured, divided and uncertain\\\", Mr Blair said. It had to be brought together, he added, saying action was needed on poverty, the Middle East and the conditions on which terrorists prey. Mr Blair said states had to work with the US to fight global terrorism.\\n \\n But there was a need to recognise it would not be defeated by \\\"military might alone but also by demonstrating the strength of our common values\\\" he added. Solving the conflict in the Middle East was the world's single most \\\"pressing political challenge\\\" of the present day, Mr Blair warned. The prime minister also urged Europe and the US to \\\"build anew their alliance\\\".\\n \\n \\\"All of us in positions of leadership, not just President Bush, have a responsibility to rise to this challenge. It is urgent that we do so.\\\" Mr Blair also paid tribute to Democrat John Kerry's campaign, saying he had helped make the presidential election \\\"a true celebration of American democracy\\\". The election of the US president was significant for the world but particularly so for Britain because of its special relationship, he added. Earlier Tory leader Michael Howard sent Mr Bush his \\\"warmest congratulations\\\", saying: \\\"We look to the president to be a unifying force for those all over the world who share our determination to defend freedom.\\\" Liberal Democrat leader Charles Kennedy welcomed the fact there had been a quick conclusion to the election, unlike in 2000.\\n \\n Mr Bush's first task was to \\\"rebuild a sense of domestic purpose\\\" within the US, he said. Mr Kennedy said: \\\"Internationally, it is to be hoped that a second term will see a more sensitive approach to relations with long-standing allies, not least for the global efforts to combat terrorism.\\\" Lib Dem foreign affairs spokesman Menzies Campbell said a win by Mr Kerry would have given Mr Blair the chance of a fresh start, adding it was almost as if there was an \\\"umbilical cord\\\" between Mr Bush and the UK premier.\\n \\n \\\"Europeans must hope that his administration will be much more multilateral in character, and that he will act swiftly to rebuild the Atlantic partnership which is so vital to security. \\\"Iraq will remain an issue of potential division for some time to come.\\\" Even before the result became clear, Mr Blair was being urged to push for action on climate change at his first meeting with whichever candidate won.\\n \\n Liberal Democrat environment spokesman Norman Baker underlined the issue of global warming during a Commons debate on Anglo-American relations on Wednesday. Environment Secretary Margaret Beckett has said the US will act on global warming despite George Bush's refusal to sign up to the Kyoto protocol on carbon emissions. Public opinion would force change, she told BBC news. But Myron Ebell, an adviser on climate change to President Bush, has said there would be no change in the US stance and rejected the threat of climate change. He claimed the US was the only country with independent scientists.\\n\",\n          \"China Aviation seeks rescue deal\\n \\n Scandal-hit jet fuel supplier China Aviation Oil has offered to repay its creditors $220m (\\u00c2\\u00a3117m) of the $550m it lost on trading in oil futures.\\n \\n The firm said it hoped to pay $100m now and another $120m over eight years. With assets of $200m and liabilities totalling $648m, it needs creditors' backing for the offer to avoid going into bankruptcy. The trading scandal is the biggest to hit Singapore since the $1.2bn collapse of Barings Bank in 1995. Chen Jiulin, chief executive of China Aviation Oil (CAO), was arrested by at Changi Airport by Singapore police on 8 December. He was returning from China, where he had headed when CAO announced its trading debacle in late-November. The firm had been betting heavily on a fall in the price of oil during October, but prices rose sharply instead.\\n \\n Among the creditors whose backing CAO needs for its restructuring plan are banking giants such as Barclay's Capital and Sumitomo Mitsui, as well as South Korean firm SK Energy. Of the immediate payment, the firm - China's biggest jet fuel supplier - said it would be paying $30m out of its own resources. The rest would come from its parent company, China Aviation Oil Holding Company in Beijing. The holding company, owned by the Chinese government, holds most of CAO's Singapore-listed shares. It cut its holding from 75% to 60% on 20 October.\\n\",\n          \"Yukos heading back to US courts\\n \\n Russian oil and gas company Yukos is due in a US court on Thursday as it continues to fight for its survival.\\n \\n The firm is in the process of being broken up by Russian authorities in order to pay a $27bn (\\u00c2\\u00a314bn) tax bill. Yukos filed for bankruptcy in the US, hoping to use international business law to halt the forced sale of its key oil production unit, Yuganskneftegas. The unit was however sold for $9.4bn to state oil firm Rosneft but only after the state auction had been disrupted.\\n \\n Yukos lawyers now say the auction violated US bankruptcy law. The company and its main shareholders have vowed to go after any company that buys its assets, using all and every legal means. The company wants damages of $20bn, claiming Yuganskneftegas was sold at less than market value. Judge Letitia Clark will hear different motions, including one from Deutsche Bank to throw out the Chapter 11 bankruptcy filing. The German lender is one of six banks that were barred from providing financing to Gazprom, the Russian state-owned company that was expected to win the auction for Yuganskneftegas. Deutsche Bank, which is also an advisor to Gazprom, has called on the US court to overturn its decision to provide Yukos with bankruptcy protection.\\n \\n Lifting the injunction would remove the uncertainty that surrounds the court case and clarify Deutsche Bank's business position, analysts said.\\n \\n Analysts are not optimistic about Yukos' chances in court. Russian President Vladimir Putin and the country's legal authorities have repeatedly said that the US has no jurisdiction over Yukos and its legal wranglings. On top of that, the firm only has limited assets in the US. Yukos has won small victories, however, and is bullish about its chances in court. \\\"Do we have an ability to influence what happens? We think we do,\\\" said Mike Lake, a Yukos spokesman. \\\"The litigation risks are real,\\\" said Credit Suisse First Boston analyst Vadim Mitroshin The dispute with the Russian authorities is partly driven by President Putin's clampdown on the political ambitions of ex-Yukos boss Mikhail Khodorkovsky. Mr Khodorkovsky is in jail on charges of fraud and tax evasion.\\n\"\n        ],\n        \"semantic_type\": \"\",\n        \"description\": \"\"\n      }\n    },\n    {\n      \"column\": \"Category\",\n      \"properties\": {\n        \"dtype\": \"int32\",\n        \"num_unique_values\": 5,\n        \"samples\": [\n          2,\n          0,\n          4\n        ],\n        \"semantic_type\": \"\",\n        \"description\": \"\"\n      }\n    }\n  ]\n}"
            }
          },
          "metadata": {},
          "execution_count": 50
        }
      ],
      "source": [
        "# creating a copy of the data\n",
        "clustered_data = data.copy()\n",
        "\n",
        "# assigning the cluster/category labels\n",
        "clustered_data['Category'] = kmeans.labels_\n",
        "\n",
        "clustered_data.head()"
      ]
    },
    {
      "cell_type": "markdown",
      "metadata": {
        "id": "xK3ThY3OoF6S"
      },
      "source": [
        "Let's check a few random news articles from each of the categories."
      ]
    },
    {
      "cell_type": "code",
      "execution_count": null,
      "metadata": {
        "colab": {
          "base_uri": "https://localhost:8080/"
        },
        "id": "DB9IZ39vD5Ol",
        "outputId": "c2500833-421c-414d-e5ab-5695f22e633a"
      },
      "outputs": [
        {
          "output_type": "stream",
          "name": "stdout",
          "text": [
            "0\n",
            "[\"O'Sullivan keeps his powder dry\\n \\n When you are gunning for glory and ultimate success keeping the gunpowder dry is essential.\\n \\n Ireland coach Eddie O'Sullivan appears to have done that quite successfully in the run-up to this season's Six Nations Championship. He decreed after the 2003 World Cup that players should have a decent conditioning period during the year. That became a reality at the end of last summer with a 10-week period at the start of the this season. It may have annoyed his Scottish, and in particularly Welsh, cousins who huffed and puffed at the disrespect apparently shown to the Celtic League. We will say nothing of Mike Ruddock ''poaching'' eight of the Dragons side that faced Leinster on Sunday. But, like O'Sullivan, he was well within his rights, particularly when you are talking about the national side and pride that goes along with it. The IRFU has thrown their weight behind O'Sullivan, who must be glad that in the main, there is centrally-controlled contracts. Bar Keith Gleeson who is just returning from a broken leg, everyone of O'Sullivan's squad is fit, fresh and standing at the oche ready to launch this season's campaign.\\n \\n But I doubt whether O'Sullivan is going to gloat about the handling of his players. He is not that sort of person. However, he may look at the overworked and injury-hit England, Wales and France squads whose players have been overworked, and then pat himself on the back for his foresight. But there is still the question of turning up and transferring that freshness into positive results when the referee signals the start of the game. Already Ireland are being earmarked as hot favourites in many quarters to go the whole hog this season. A first Grand Slam since Karl Mullen's led the team to a clean sweep in 1948. With England and France visiting Lansdowne Road for the last time before the old darling is pulled down, everything looks perfectly placed. But in the days of yore that frightened the life out of any Irishman.\\n \\n Under the burden of great expectations, Ireland have crumpled. Take the Triple Crown-winning side of 1985 under Mick Doyle. They were expected to up the ante further for a Grand Slam, only the second in Ireland's history. What happened in 1986? Whitewashed. You see, Ireland, in any sport, love to be downsized. Then they can go out and prove a point to the contrary. It is the nature of the beast. But O'Sullivan's side are very capable of proving a salient point this season. After their first Triple Crown for 19 years, they can live up to their success and take a further step up the ladder. O'Sullivan has kept faith and displayed loyalty to his players, and they have repaid him in spades ... and there is more to come. He has some old dogs in his squad, but he will come to this season's championship with a different box of tricks, and a new verve to succeed. Ireland can indeed succeed, but just whisper it.\\n\"\n",
            " 'Roddick in talks over new coach\\n \\n Andy Roddick is reportedly close to confirming US Davis Cup assistant Dean Goldfine as his new coach.\\n \\n Roddick ended his 18-month partnership with Brad Gilbert on Monday, and Goldfine admits talks have taken place. \"We had a really good conversation and we\\'re on the same page in terms of what I expect from a player in commitment and what he wants,\" said Goldfine. \"The reading I got from him is that I would have a lot of the qualities he\\'s looking for in a coach.\" Speaking to told South Florida\\'s Sun-Sentinel newspaper, Goldfine added: \"That being said, from his standpoint, which is smart, he wants to cover all his bases. \"I think Andy wants a long-term relationship and wants to make sure it\\'s the right fit... the best fit.\" Goldfine, 39, has worked with Todd Martin and Roddick\\'s close friend Mardy Fish, and was an assistant coach with the US Olympic team. Martin is the other name to have been linked to the vacant post alongside Roddick.\\n'\n",
            " 'Bryan twins keep US hopes alive\\n \\n The United States kept the Davis Cup final alive with victory in Saturday\\'s doubles rubber, leaving Spain 2-1 ahead going into the final day.\\n \\n Masters Cup champions Mike and Bob Bryan thrashed Juan Carlos Ferrero and Tommy Robredo 6-0 6-3 6-2 in front of a partisan crowd in Seville. Victory would have given Spain the title but they were outclassed. In Sunday\\'s reverse singles, Carlos Moya takes on Andy Roddick before Rafael Nadal faces Mardy Fish. \"It feels good, but it\\'s not going to be as good if we don\\'t win two tomorrow,\" said Mike Bryan. \"It feels good to give those guys another shot, and Spain has to go to sleep on that.\" Bob Bryan added: \"I\\'m really confident in Andy winning that first match, and then anything can happen.\" Spain coach Jordi Arrese chose to rest 18-year-old Nadal in the doubles after his epic singles win over Roddick on Friday. He was replaced by former world number one Ferrero, but the Spanish pair were out of their depth against one of the world\\'s best doubles teams.\\n \\n The 26-year-old Bryan twins have won all four of their Davis Cup matches this year. And they quickly silenced the huge crowd at the Olympic Stadium, racing through the opening set to love. The Spaniards then twice surrendered breaks of serve at the start of the second before the Bryans broke to go 5-3 ahead and served out. When Robredo dropped serve in the opening game of the third set the match was all but over, and the unflappable Bryan brothers powered on to an impressive win. Ferrero, who was upset to be dropped for Friday\\'s singles, hinted at further dissatisfaction after the defeat. \"It was a difficult game against the best doubles players,\" he said. \"They have everything calculated and we had very little to do. \"I was a bit surprised that I was named to play the doubles match because I hardly play doubles.\" Arrese said: \"Juan Carlos hasn\\'t played at all badly. He played the right way but the Bryans are great doubles players.\"\\n'\n",
            " 'England coach faces rap after row\\n \\n England coach Andy Robinson is facing disciplinary action after criticising referee Jonathan Kaplan in his side\\'s Six Nations defeat to Ireland.\\n \\n The Rugby Football Union (RFU) will investigate Robinson after deciding not to lodge a complaint against Kaplan. Robinson may even have to apologise for his comments in order to avoid sanction from the International Rugby Board. Robinson had said he was \"livid\" about Kaplan\\'s decisions on Saturday to disallow two England \"tries.\" The England coach went on to claim that \"only one side was refereed\".\\n \\n After reviewing tapes of the match, the RFU decided not to formally complain to the IRB over the standard of Kaplan\\'s refereeing. Instead the RFU said in a statement they would, \"set out any concerns the England team management may have in a confidential manner\".\\n \\n An IRB spokesman said on the matter: \"We take all breaches of the code very seriously. \"Should the RFU resolve the issue to our satisfaction, as happened last month when the Scotland coach Matt Williams apologised for remarks made, it would be the end of the matter.\"\\n \\n Kaplan has vigorously defended his performance in England\\'s 19-13 defeat at Landsdowne Road and admitted he was \"very disappointed\" with Robinson\\'s remarks. And the South African has been appointed to take charge of Scotland\\'s match against Wales on 13 March.\\n \\n The RFU recently fined Northampton coach Budge Pountney Â£2,000 and imposed a six-week ban for his criticism of referee Steve Lander after a Premiership match.\\n'\n",
            " 'England \\'to launch ref protest\\'\\n \\n England will protest to the International Rugby Board (IRB) about the referee\\'s performance in the defeat by Ireland, reports the Daily Mail.\\n \\n England coach Andy Robinson has called on ex-international referees Colin High and Steve Lander to analyse several of Jonathan Kaplan\\'s decisions. \"I want to go through the tape with Colin and Steve,\" Robinson told the Daily Mail. \"I want to speak to the IRB about it. I think only one side was refereed.\" High, the Rugby Football Union\\'s referees\\' manager, claimed Kaplan made three major errors which changed the outcome of Sunday\\'s match. England were beaten 19-13 by the Irish in Dublin, their third straight defeat in the 2005 Six Nations. \"The International Rugby Board will be disappointed,\" High told the Daily Mail. \"Jonathan Kaplan is in the top 20 in the world but that wasn\\'t an international performance. \"It would not have been acceptable in the Zurich Premiership. \"If one of my referees had done that, I would have had my backside kicked for making the appointment. \"If any English referee refereed like that in a European match, there would be an inquest. No question about that. \"If someone had performed like that, he would have been pulled from the next game.\"\\n']\n",
            "\n",
            "\n",
            "1\n",
            "['Malik rejects all-black MP lists\\n \\n A call for ethnic minority shortlists to boost the number of black and Asian MPs has been rejected by one of Labour\\'s most senior Asians.\\n \\n Shahid Malik, who is on Labour\\'s ruling NEC, accepted people\\'s frustration but said there should be targets not lists to boost representation of minorities. Just 13 of Britain\\'s 659 MPs are from ethnic minority groups, he added. Commission for racial equality chief Trevor Phillips argued on Sunday the time had come for such shortlists. That came after it emerged that one of Britain\\'s most ethnically diverse constituency, West Ham, was to get a women-only shortlist for the next election following an NEC ruling.\\n \\n Mr Phillips said changes to the race relations legislation might allow political parties to reserve seats for under-represented groups. For example in West Ham, this might allow only women and minorities to seek to be candidates. \"If we get to the other side of the general election and find that minorities are not represented, we have to say that after 20 or 30 years of talking about this, we cannot go on the same way,\" he said. He added: \"It would be terribly disappointing if in the least white constituency [West Ham] in the whole of Europe we didn\\'t have a minority candidate.\" Appearing on BBC Radio 4\\'s Today programme, Mr Malik, who is himself running for the seat of Dewsbury, acknowledged that so far women-only shortlists had failed to deliver a boost in the number of ethnic minority candidates.\\n \\n But he argued: \"I do think that there currently things that parties can do and which they aren\\'t doing... for example setting targets to ensure that existing democratic structures are more reflective.\" Labour MP Diane Abbot, who backs Mr Phillips\\' proposal of shortlists, said she had been elected along with three other ethnic minority MPs - Keith Vaz, Paul Boateng and Bernie Grant - in 1987 but it took another 10 years before another black woman was able to win a seat. That was a rate of progress Ms Abbott described as \"painful\". \"I am a little older than Shahid and served on the National Executive Committee in the 1990s - I was the first black person on the NEC ... crossing our fingers and hoping we are going to get more black and Asian MP hasn\\'t worked,\" she said. \"The shortlist strategy works for women and I believe that it can be made to work for black and Asian people.\" On Tuesday Labour chairman Ian McCartney said his party was \"ambitious\" to improve black and Asian representation. \"We haven\\'t ruled out all-black shortlists and welcome a debate in the party about this,\" he said.\\n'\n",
            " 'UK \\'needs true immigration data\\'\\n \\n A former Home Office minister has called for an independent body to be set up to monitor UK immigration.\\n \\n Barbara Roche said an organisation should monitor and publish figures and be independent of government. She said this would counter \"so-called independent\" groups like Migration Watch, which she described as an anti-immigration body posing as independent. Migration Watch says it is not against all immigration and the government already publishes accurate figures. Sir Andrew Green, chairman of the organisation, says there is no need for an independent body because Office of National Statistics data are accurate. He says he opposes large-scale immigration \"both on the grounds of overcrowding and culture\".\\n \\n He said: \"For example, over the next 20 years one household in three will be due to immigration. \"We are already more overcrowded than India and we are four times more overcrowded than France.\" Ms Roche, Labour MP for Hornsey and Wood Green, believes legal migration is something we should welcome. She said her proposals mean \"we wouldn\\'t have so-called independent experts, like Migration Watch, who come into this debate from an anti-immigration point of view.\" She went on: \"What I would like to see is there being a body which actually looked at the figures, published them, and was independent of government. \"I think that would go a long way to allaying some of the fears that are sometimes whipped up during this debate.\"\\n'\n",
            " 'Call to save manufacturing jobs\\n \\n The Trades Union Congress (TUC) is calling on the government to stem job losses in manufacturing firms by reviewing the help it gives companies.\\n \\n The TUC said in its submission before the Budget that action is needed because of 105,000 jobs lost from the sector over the last year. It calls for better pensions, child care provision and decent wages. The 36-page submission also urges the government to examine support other European countries provide to industry. TUC General Secretary Brendan Barber called for \"a commitment to policies that will make a real difference to the lives of working people.\"\\n \\n \"Greater investment in childcare strategies and the people delivering that childcare will increases the options available to working parents,\" he said. \"A commitment to our public services and manufacturing sector ensures that we can continue to compete on a global level and deliver the frontline services that this country needs.\" He also called for \"practical measures\" to help pensioners, especially women who he said \"are most likely to retire in poverty\". The submission also calls for decent wages and training for people working in the manufacturing sector.\\n'\n",
            " 'MP\\'s shock at long lost daughter\\n \\n Labour MP Stephen Pound has told of his shock and his joy on learning he fathered a daughter when he was \"out of control\" during the \"wild\" 1960s.\\n \\n Lucy, 36, tracked down Mr Pound after her birth mother told her he was known as \"Precious\" at school. Despite being told he was a \"nutter who died at sea\" she found a reference to Mr Pound on Friends Reunited. Lucy\\'s mother kept her pregnancy secret and had her adopted at four weeks. Mr Pound found out about it last year. That happened when Lucy wrote to his Parliamentary office saying she believed he was her father.\\n \\n Mr Pound, who is now married with two other teenage children, said: \"I was a nutter and I was a sailor but I wasn\\'t dead.\" He said his first reaction was to wonder if he was victim of a \"set-up\" but he then realised all the dates fitted. \"It was a pretty horrible thing with a pretty happy ending. I felt guilt in the marrow of my bones,\" said the Ealing North MP. \"I don\\'t blame Lucy\\'s mother. I was pretty much out of control. I was 18 when she was conceived. It was a different time - it was pretty wild.\"\\n \\n Mr Pound says he rang Lucy as soon as he got her letter, they met up and have been in contact ever since. Describing that first meeting at London\\'s King Cross station, he said: \"The earth went from under my feet ... We were walking across the Euston Road and I took her arm to take her across and there was an immediate connection. \"We were finishing each other sentences.\" Lucy, who was adopted by a family from Essex, wants to remain anonymous for the sake of her adoptive father and her children. Mr Pound said his wife Maggie had been fully supportive and their two children Emily, 16, and Pelham, 14 were pleased to have an older sister.\\n'\n",
            " \"What the election should really be about?\\n \\n A general election is the best chance most pressure groups get to make a real impact on government policy. Here is how six leading lobbies plan to make sure their cause is being debated ahead of an expected Spring poll.\\n \\n We've called for the state pension to be increased from Â£79.60 to the pensioner credit guarantee level of Â£105.45. That's what we're calling for. Many pensioners are disadvantaged by the current system. If we've got one in five pensioners below the poverty line, we've got to make it more generous or have these people living in poverty.\\n \\n We've drawn up a pensioners' manifesto. This will be sent to each of the candidates in the 659 constituencies. They will be asked which of the top five issues, including the pension issue, they would support. Once we've got their responses we will publish the results within the constituencies and nationally as well. It's our way of putting the politicians on notice. We are trying to get across the fact that there are 11m voters over 60 in the country, they are more likely to vote than other sections of society and thirdly they are true swing voters. Before 1997 most pensioners voted Conservative. In 1997 and 2001 they voted Labour. But there is no guarantee they will vote for a Labour government this time around. They cannot take that vote for granted.\\n \\n Pensions generally will certainly be a big election issue even though the government has postponed the publication of Adair Turner's full report into the issue. He said the UK had one of the least generous pensions systems in the developed world.\\n \\n That the government takes seriously the impact of aviation on the environment.\\n \\n We haven't worked out specific plans but I imagine we will lobby political parties and incumbent MPs. Various local groups will do that in their particular areas and we will provide a national briefing. We don't have any large demonstrations planned but they can't be ruled out.\\n \\n It is hard to say whether we will be successful. We have got the issue in the public consciousness to an extent, but it is difficult to say whether an election will raise its importance in the public mind or whether it will be pushed out by big issues like Iraq.\\n \\n Repealing the Hunting Bill.\\n \\n We are challenging the use of the Parliament Act 1949 in a High Court action. We are hoping to hear in the New Year. Whichever way the court rules the other side will appeal so we expect it to fall plumb in electioneering time. When the ban comes into force on 18 February we will be going to the European Court because no compensation is being paid. So there's a lot of legal territory to go. We are trying to engage with the ministers by demonstrating and talking. Whatever intelligence we get we will try to turn up and speak to whoever it is. (Rural affairs minister) Alun Michael has avoided us and cancelled engagements so that makes it difficult. It is not intimidatory - on the whole it is groups of angry housewives. Of course there is an element of shouting because people are angry but there is no violence because that does not achieve anything.\\n \\n It will fall plumb in the run up to the most important general election Tony Blair will ever face. It's exactly what the prime minister did not want. He wanted the issue off the table until after the election.\\n \\n People using live animals as targets for sport both here and abroad. The reason for including abroad is because of trophy hunting. It is another sort of form of shooting for sport. The principle is the same whether it's a tiger or a pheasant.\\n \\n We will widely publicise what's happening in relation to trophy hunting. We will publicise the darker aspects of the target animal industry the UK. We will seek to get pledges from individual MPs and would-be MPs saying that they are against the use of animals as targets for sports. We would like the support of political parties but I think a general election is very much to do with pledges MPs make to their electors. With hunting we had many MPs who were happy to say they were against it.\\n \\n I think what we will get is a very real climbing up the agenda. Whether or not we will get a ban I am not sure. But it will mobilise public opinion. Everything we do will reduce animal suffering and in time that will lead to a ban.\\n \\n The issue that we think is the most important for this election is choice. The language of consumerism is very commonplace in government and across the political spectrum. Choice as an ideology is beginning to be the privatisation of this decade. It's become an issue in itself but what's really missing from the debate is the consumer's choice in that. Choice is not choice at all if all you have to choose from is two failing schools. We have seen so many pensions mis-selling scandals and in the pensions industry there's a maximum of choice but a minimum quality in that. We want choice on the consumer's terms - that means clear and accessible information to operate that choice.\\n \\n Firstly, we have our website. It features our campaigns and changes every day. Secondly through our 700,000 members who communicate with us. Thirdly through the media and also what we will be doing is holding a pre-election conference. We will invite the opinion formers, MPs, journalists and others. The idea is that we open up communications between members of the public and the politicians.\\n \\n I think we will be successful. It's very much the language being used by the main political parties. Politicians on all sides are very sensitive to this issue they want to be seen to be responding to this issue.\\n \\n Fuel duty is a large part of operational costs for road haulage workers. We have been hearing about this proposed increase of 1.92p per litre that Gordon Brown has been postponing and postponing. Tuppence does not sound like a great deal but every year if you operate one vehicle that's an increase of about Â£750. If you're running 10 vehicles it's obviously 10 times that.\\n \\n If fuel duty does rise we will be absolutely horrified. There will be a huge effect throughout the industry and I would not be surprised if you see widespread demonstrations. What it will mean is there will be a number of firms going out of business.\\n \\n We will continue to do what we have always done we keep the issue in the trade press. Regrettably it's one of those stories that it is getting harder to get into the national press. Whatever we do, the public don't like lorries - they see us as a complaining minority. But they don't realise that when you see a car on the road it is probably going to work, when you see a lorry it's already at work.\\n\"]\n",
            "\n",
            "\n",
            "2\n",
            "['Label withdraws McFadden\\'s video\\n \\n The new video of former Westlife singer Brian McFadden has been pulled after a Dublin school complained about being associated with his song Irish Son.\\n \\n St Fintian\\'s High School says it is clearly identified in the video, while McFadden never went there. McFadden makes claims that he was beaten at his own school in the song\\'s lyrics, saying it had \"cell blocks\". The performer\\'s record label Sony BMG has withdrawn the video and issued replacements to television stations. The label believed the school name was fictitious until they received the complaint. They have said the reference to the school was unintentional and coincidental.\\n \\n The head of Christian Brothers\\' school St Fintian\\'s, Richard Fogarty, said the video implied that the 24-year-old pop star had attended his school and was abused there. \"The school has always treated its pupils with respect,\" Mr Fogarty said in a statement. McFadden makes specific references to the Christian Brothers in his song, but did not attend St Fintian\\'s. Corporal punishment was outlawed in Irish schools in 1982 when McFadden was two years old.\\n \\n McFadden, whose debut solo album is released next week, has said that every song is autobiographical and \"a true story\". Alcoholism and domestic violence are among the other topics dealt with in his songs, half of which have been written with Robbie Williams\\' former collaborator, Guy Chambers. McFadden, who quit chart-topping group Westlife in March, went to number one in September with his first solo single Real To Me. He enjoyed 12 chart-toppers with the boy band before parting company with them.\\n'\n",
            " 'Bangkok film festival battles on\\n \\n Organisers of the third Bangkok International Film Festival have been determined to carry on with this year\\'s event despite the ravages of the Asian tsunami disaster.\\n \\n The festivities have been scaled down, red carpets have been mothballed and profits from ticket sales are being donated to the tsunami relief fund. Apart from this, however, the festival has continued as originally planned. \"When the disaster happened, we naturally asked ourselves if we should cancel,\" said the festival\\'s executive director, Craig Prater. \"The decision was made that we would continue, but that the focus would change.\\n \\n \"Our premieres became fundraisers, the opening night was visibly toned down and 10% of every ticket sold goes to the disaster fund,\" he continued. \"But we feel like we\\'ve turned a page. We\\'ve acknowledged our position, and now it\\'s business as usual.\"\\n \\n Mr Prater\\'s sentiments were echoed by Christine Rush, director of the festival\\'s sister event, the Bangkok Film Market. \"We have been careful to be respectful of the Thai nation\\'s recovery from this terrible disaster,\" she said.\\n \\n \"However, the nation\\'s recovery very much depends upon it continuing its economic life. \"We are encouraging attendees to keep the victims in mind and aggressively support the aid organisations helping out,\" she added. Given the conspicuously low audience figures, that support may be more symbolic than significant. However, poor ticket sales have less to do with any fallout from the disaster and more to do with administrative and promotional difficulties.\\n \\n The eclectic programme contains a wide range of titles, including such Oscar hopefuls as Ray Charles biopic Ray and Mike Leigh\\'s abortion drama Vera Drake. That said, the absence of Thai subtitles on most film prints might have proved offputting to local cinemagoers.\\n \\n On a more positive note, the celebrity guests attending the event have generated huge media interest in this busy capital city. Problems securing air transport, the clash with last Sunday\\'s Golden Globes ceremony in Los Angeles and other factors have forced some big names to cancel.\\n \\n But the festival has still attracted such Hollywood directors as Oliver Stone and Joel Schumacher, alongside such screen stars as Michael Douglas, Jeremy Irons and Jean-Claude Van Damme. Irons, whose film Being Julia is in competition for the festival\\'s Golden Kinnaree awards, said he had wondered whether he should attend after December\\'s catastrophe. \"I questioned whether I should come when such a tragedy had happened,\" the British actor said. \"I thought it might be in rather bad taste. But then I spoke to the organisers and I was encouraged to let life go on. \"Now I\\'ve come here I\\'m very glad. What impresses me about Thai culture is they get over these things far quicker than we do in the West,\" he continued. \"Basically I was invited here by Thailand. If they still want you to come, you should.\"\\n \\n Now in its third year, Bangkok is a relatively recent addition to the hectic film festival calendar. And while it has yet to attain the stature of more established events held in Hong Kong, Tokyo and Pusan in South Korea, Mr Prater predicts it will soon become their equal. \"It\\'s grown awfully fast in three years - maybe too fast,\" he concedes. \"We\\'ve had some bumps in the road, but that\\'s only because the festival is still a baby. \"I have no doubt in my mind that in five years, this will be the top Asian film festival in the world.\" The Golden Kinnarees will be awarded on Friday. The festival itself runs until 24 January.\\n'\n",
            " 'Fox \\'too reliant on reality TV\\'\\n \\n The head of US TV network Fox has admitted the broadcaster had relied too heavily on reality TV shows such as the poor-rating Who\\'s Your Daddy.\\n \\n Chief executive Gail Berman said \"in the case of this fall we drifted to too much on the unscripted side\". The series Who\\'s Your Daddy, where a young woman tries to pick her natural father for a cash prize caused outrage from adoption groups and rated badly. Last season, Fox\\'s prime-time audience fell by 600,000 to 5.9 million. Ms Berman said: \"I think the audience expects loud things from Fox. Sometimes they work, and sometimes they don\\'t.\"\\n \\n Who\\'s Your Daddy, the first episode of which was shown on 3 January, pulled in a disappointing audience of 6.3 million, according to the Nielsen ratings system. Five other episodes of the show had also been filmed will be dropped from Fox\\'s schedules, Ms Berman said. She was predicting a drop in ratings even for some of the network\\'s established reality shows, such as American Idol, which is due to start its fourth series this week. Fox had unveiled a new strategy last year promising to launch new shows every season, including the traditionally quiet summer season. Though that had met with a poor reception, Ms Berman said \"there\\'s no question that the audience, in our mind, is ready, willing and able to accept new programming in the summer\". Fox has changed this plan, launching new shows in May instead of June. One of the new shows will be the animated series American Dad, made by Seth MacFarlane, the creator of Family Guy. That series, after becoming a hit on DVD, is also set to return with new episodes.\\n'\n",
            " 'India to deport Bollywood actress\\n \\n India has ordered the deportation of Iranian-born model and actress Negar Khan to Norway after saying she was working illegally on her visa.\\n \\n Khan has had raunchy roles in music videos and Bollywood films over the past two years. The distressed actress told media she was being driven straight to the airport after a routine appointment at the Bombay immigration office. Immigration officials said she had been warned about her visa last year.\\n \\n Khan told an Indian news channel on her mobile phone: \"They are not even letting me go home to get my bags. I have no clothes or money on me. \"They did not give me any notice. I don\\'t know why they are taking me away like this. There is nothing wrong with my visa. It says I work here... They are not allowing me to even call a lawyer.\" Bipin Bihari, deputy police chief in Bombay, said Khan was being sent back to Norway, from which she holds a passport, on the first available flight. \"She was on a visitor\\'s visa but she has engaged in several commercial ventures,\" he said. \"We issued notices last year, in view of which she had gone back to Norway, but she has returned again this year to work.\" One of Khan\\'s biggest successes was the steamy Hindi song Chadti Jawani (Rising Youth). Khan was involved in controversy when topless photos alleged to be of her appeared in a Norwegian magazine.\\n'\n",
            " 'Film star Fox behind theatre bid\\n \\n Leading actor Edward Fox is one of the men behind plans to reopen a Swansea theatre thought to be Wales\\' oldest.\\n \\n The star of film and TV hits Day of the Jackal and Edward and Mrs Simpson has joined forces with Swansea-born actor-director Terry Palmer. They will set up a charity to raise money to buy the Palace Theatre, and hope to reopen it to audiences in summer 2006. It is estimated that Â£500,000 is needed to buy the Grade II listed building. The Palace Theatre, which will be known as The Pavilion Repertory Theatre, was sold to an undisclosed bidder at auction 13 months ago for Â£340,000. Before that it had been used as a nightclub for 10 years.\\n \\n Oscar-winner Sir Anthony Hopkins, who was born in nearby Port Talbot, made his professional debut there, and Charlie Chaplin and Lily Langtry have also trodden its boards. Fox told the South Wales Evening Post that after visiting the theatre he was surprised by its beauty. \"A lot of money needs to be spent on it, but all the bones are there - it just needs a beautiful skin,\" he said.\\n \\n \"To call it a jewel is not an over-estimation. There are not many theatres left like this. \"The hope for the immediate future is that we can attract enough people to come forward to allow it to prosper,\" he told the newspaper.\\n \\n Fox first found fame in the 1960s. One of his most memorable roles was as an assassin in the Day of the Jackal in 1973, and he won a TV Bafta as the Prince of Wales in 1980 for Edward and Mrs Simpson. He was brought on board to save the theatre by Mr Palmer, a long-standing friend of 40 years. \"Two years ago I decided to return to Swansea and do something for the city,\" said Mr Palmer. He said he was excited by the idea of running the Palace as a charity where young actors could develop, and with an annual Shakespeare festival in the summer. \"If in five years\\' time the theatre can function in all areas without me, I shall be well satisfied having helped to create a vital living theatre for the city,\" he added. Keith Poulton, a business adviser from Swansea, has already committed an undisclosed amount of money to the project. \"We need at least Â£75,000 to secure a deposit on the building and we\\'ve only got two months to do that,\" said Mr Poulton. \"A few benefactors have expressed their interest and Mr Fox is going to give it an awful lot of time,\" he added. Last year, roads around the theatre were cordoned off when masonry from its roof fell onto a car, but engineers said they were happy that it was safe.\\n']\n",
            "\n",
            "\n",
            "3\n",
            "['Wall Street cool to eBay\\'s profit\\n \\n Shares in online auction house eBay fell 9.8% in after-hours trade on Wednesday, after its quarterly profits failed to meet market expectations.\\n \\n Despite seeing net profits rise by 44% to $205.4m (Â£110m) during October to December, from $142m a year earlier, Wall Street had expected more. EBay stock fell to $92.9 in after-hours trade, from a $103.05 end on Nasdaq. EBay\\'s net revenue for the quarter rose to $935.8m from $648.4m, boosted by growth at its PayPal payment service.\\n \\n Excluding special items, eBay\\'s profit was 33 cents a share, but analysts had expected 34 cents.\\n \\n \"I think Wall Street has gotten a bit ahead of eBay this quarter and for the 2005 year.\" said Janco Partners analyst Martin Pyykkonen. For 2004 as a whole, eBay earned $778.2m on sales of $3.27bn. EBay president and chief executive Meg Whitman called 2004 an \"outstanding success\" that generated \"tremendous momentum\" for 2005. \"I\\'m more confident than ever that the decisions and investments we\\'re making today will ensure a bright future for the company and our community of users around the world,\" she said. EBay now forecasts 2005 revenue of $4.2bn to $4.35bn and earnings excluding items of $1.48 to $1.52 per share. Analysts had previously estimated that eBay would achieve 2005 revenues of $4.37bn and earnings of $1.62 per share, excluding items.\\n'\n",
            " 'Russian oil merger excludes Yukos\\n \\n The merger of Russian gas giant Gazprom and oil firm Rosneft is to go ahead, but will not include Yugansk, which was controversially bought last year.\\n \\n The merger, backed by Russian authorities, will allow foreigners to trade in Gazprom shares. Gazprom chief Alexei Miller confirmed Rosneft-owned Yugansk was not part of the deal and will instead be spun off. Under the agreement, the state will get a controlling share of Gazprom in exchange for Rosneft. The state wanted to control Gazprom before allowing foreigners to trade. Speaking on NTV television, which is controlled by Gazprom, Mr Miller added that Yugansk, which was swallowed up by Rosneft late last year, will operate as a separate, state-owned oil firm headed by current Rosneft chief Sergei Bogdanchikov. According to reports from Russian News Agency Interfax, the deal should go through in the next two to three months.\\n \\n \"Obtaining majority control over Gazprom is the beginning of the liberalisation of the market in Gazprom shares,\" Mr Miller added. By opening up trading in Gazprom to foreigners, the firm will become a top emerging market play for traders. Currently, foreigners can only trade in Gazprom via a small issue of London-listed proxy shares. \"This is positive news for the international investment community,\" Global Asset Management investment chief David Smith said. \"The majority of investors are going to be happy,\" he added.\\n \\n However, analysts were disappointed that Yugansk would not be included in the deal. \"Yugansk is a heavy cashflow generator and would have been a much better asset for Gazprom,\" Renaissance Capital energy analyst Adam Landes told Reuters news agency. But he said the latest development was simply an interim step to allow foreigners to trade in Gazprom. \"Ultimately and industrially, Gazprom needs Yugansk,\" he added. Analysts said the deal would give Gazprom control of 8% of Russia\\'s total oil production, an improvement on its current 2.5%, but still far less than the 20% share it would have gained had it also taken over Yugansk. However, the merged group will still remain outside Russia\\'s top five oil producers - led by Lukoil with 11% of the market , followed by TNK-BP which is half owned by BP, and Surgutneftegaz. Instead, the merged Gazprom-Rosneft group will rank alongside Sibneft with 7% of the market. Yugansk was sold to a little-known shell company in a disputed auction in December, following what many thought was a politically-motivated attack on Yukos. The shell company was then snapped up by Rosneft. Yukos unsuccessfully sought to halt the auction by applying for bankruptcy through the US courts. The unit was auctioned by Russian authorities to help pay off a $27.5bn back-tax bill.\\n'\n",
            " 'Fannie Mae \\'should restate books\\'\\n \\n US mortgage company Fannie Mae should restate its earnings, a move that is likely to put a billion-dollar dent in its accounts, watchdogs have said.\\n \\n The Securities & Exchange Commission accused Fannie Mae of using techniques that \"did not comply in material respects\" with accounting standards. Fannie Mae last month warned that some records were incorrect. The other main US mortgage firm Freddie Mac restated earnings by $5bn (Â£2.6bn) last year after a probe of its books. The SEC\\'s comments are likely to increase pressure on Congress to strengthen supervision of Fannie Mae and Freddie Mac.\\n \\n The two firms are key parts of the US financial system and effectively underwrite the mortgage market, financing nearly half of all American house purchases and dealing actively in bonds and other financial instruments. The investigation of Freddie Mac in June 2003 sparked concerns about the wider health of the industry and raised questionsmarks over the role of the Office of Federal Housing Enterprise Oversight (OFHEO), the industry\\'s main regulator. Having been pricked into action, the OFHEO turned its attention to Fannie May and in September this year said that the firm had tweaked its books to spread earnings more smoothly across quarters and play down the amount of risk it had taken on. The SEC found similar problems. The watchdog\\'s chief accountant Donald Nicolaisen said that \"Fannie Mae\\'s methodology of assessing, measuring and documenting hedge ineffectiveness was inadequate and was not supported\" by generally accepted accounting principles.\\n'\n",
            " 'India\\'s Deccan seals $1.8bn deal\\n \\n Air Deccan has ordered 30 Airbus A320 planes in a $1.8bn (Â£931m) deal as India\\'s first low-cost airline expands in the fast-growing domestic market.\\n \\n Air Deccan was set up last year and wants to lure travellers away from the railway network and pricier rivals. The potential of the Indian market has attracted attention at home and abroad. Beer magnate Vijay Mallya recently set up Kingfisher Airlines, while UK entrepreneur Richard Branson has said he is keen to start a local operation.\\n \\n The country has a population of more than a billion people and many observers feel that it is underserved by airlines. Recently however, the booming economy has boosted personal spending power and helped swell the middle classes and the corporate sector. India\\'s government has given its backing to cheaper and more accessible air travel. \"The days of flying being a symbol of only maharajas or the rich are over,\" the minister for civil aviation Praful Patel said earlier. Infrastructure is being built to handle the expected increase in demand and on Tuesday, Agence France Presse reported that a group led by Germany\\'s Siemens won the contract to build a private airport near Bangalore. India\\'s airports authority and the state government will own 13% each of the finished transport hub. For its part, Air Deccan, set up by army officer and silk farmer Gorur Gopinath, plans to increase its fleet to 60 aircraft within five years. To help finance the expansion the company may sell a 25% stake to an investor for about $50m. When it was set up the firm offered tickets that were 50% cheaper than other Indian airlines. It said it was basing its business model on European firms such as Ireland\\'s Ryanair.\\n'\n",
            " 'Worldcom ex-boss launches defence\\n \\n Lawyers defending former WorldCom chief Bernie Ebbers against a battery of fraud charges have called a company whistleblower as their first witness.\\n \\n Cynthia Cooper, WorldCom\\'s ex-head of internal accounting, alerted directors to irregular accounting practices at the US telecoms giant in 2002. Her warnings led to the collapse of the firm following the discovery of an $11bn (Â£5.7bn) accounting fraud. Mr Ebbers has pleaded not guilty to charges of fraud and conspiracy.\\n \\n Prosecution lawyers have argued that Mr Ebbers orchestrated a series of accounting tricks at WorldCom, ordering employees to hide expenses and inflate revenues to meet Wall Street earnings estimates. But Ms Cooper, who now runs her own consulting business, told a jury in New York on Wednesday that external auditors Arthur Andersen had approved WorldCom\\'s accounting in early 2001 and 2002. She said Andersen had given a \"green light\" to the procedures and practices used by WorldCom. Mr Ebber\\'s lawyers have said he was unaware of the fraud, arguing that auditors did not alert him to any problems.\\n \\n Ms Cooper also said that during shareholder meetings Mr Ebbers often passed over technical questions to the company\\'s finance chief, giving only \"brief\" answers himself. The prosecution\\'s star witness, former WorldCom financial chief Scott Sullivan, has said that Mr Ebbers ordered accounting adjustments at the firm, telling him to \"hit our books\". However, Ms Cooper said Mr Sullivan had not mentioned \"anything uncomfortable\" about WorldCom\\'s accounting during a 2001 audit committee meeting. Mr Ebbers could face a jail sentence of 85 years if convicted of all the charges he is facing. WorldCom emerged from bankruptcy protection in 2004, and is now known as MCI. Last week, MCI agreed to a buyout by Verizon Communications in a deal valued at $6.75bn.\\n']\n",
            "\n",
            "\n",
            "4\n",
            "['Movie body hits peer-to-peer nets\\n \\n The movie industry has struck out at file-sharing networks with another round of lawsuits in the US.\\n \\n The Motion Picture Association of America (MPAA) also said it had succeeded in getting a network called LokiTorrent closed down. It is the latest network which uses the peer-to-peer system called BitTorrent to be hit by the MPAA. The MPAA began its legal campaign against operators of similar networks across four continents in December. A Dallas court agreed that Hollywood lawyers would be allowed access to LokiTorrent\\'s server records which could let them single out those who were sharing files illegally. In October 2004, the site had provided links to more than 30,000 files. The action came after the operators of LokiTorrent agreed a settlement with the MPAA. A stark message has appeared on the site from the MPAA warning \"You can click, but you can\\'t hide\". In BitTorrent systems, server sites do not host the files being shared. They host links, called \"trackers\" that direct people to others that have it instead.\\n \\n As well as filing an unspecified number of file suits across the US, the MPAA said it had given operators that host eDonkey servers \"take down\" notices. Hollywood studios are aggressively clamping down on file-sharers who it says infringe copyright laws by copying films and TV programmes then share the files online. But it is now targeting the operators of BitTorrent networks themselves. It has filed 100 lawsuits against operators of BitTorrent server sites since December. The strategy of hitting those who run the servers which link to copyrighted material is intended to stunt file-sharers\\' ability to swap content using BitTorrent systems. The film industry says the black market for illegally copied videos and DVDs already costs them billions every year and it is worried that illegal file-sharing is adding to their losses. In December, the legal action claimed its most high-profile victim. The popular Suprnova.org website was forced to close, and others like Phoenix Torrent followed soon after.\\n'\n",
            " 'Be careful how you code\\n \\n A new European directive could put software writers at risk of legal action, warns former programmer and technology analyst Bill Thompson.\\n \\n If it gets its way, the Dutch government will conclude its presidency of the European Union by pushing through a controversial measure that has been rejected by the European Parliament, lacks majority support from national governments and will leave millions of European citizens in legal limbo and facing the possibility of court cases against them. If the new law was about border controls, defence or even the new constitution, then our TV screens would be full of experts agonising over the impact on our daily lives. Sadly for those who will be directly affected, the controversy concerns the patenting of computer programs, a topic that may excite the bloggers, campaigning groups and technical press but does not obsess Middle Britain. After all, how much fuss can you generate about the Directive on the Patentability of Computer-Implemented Inventions, and the way it amends Article 52 of the 1973 European Patent Convention? Yet if the new directive is nodded through at the next meeting of one of the EU\\'s ministerial councils, as seems likely, it will allow programs to be patented in Europe just as they are in the US. Many observers of the computing scene, including myself, think the results will be disastrous for small companies, innovative programmers and the free and open source software movement. It will let large companies patent all sorts of ideas and give legal force to those who want to limit their competitors\\' use of really obvious ideas.\\n \\n In the US you cannot build a system that stores customer credit card details so that they can pay without having to re-enter them unless Amazon lets you, because they hold the patent on \"one-click\" online purchase. It is a small invention, but Amazon made it to the patent office first and now owns it.\\n \\n We are relatively free from this sort of thing over here, but perhaps not for long. The new proposals go back to 2002, although argument about patentability of software and computer-implemented inventions has been going on since at least the mid-1980s. They have come to a head now after a year in which proposals were made, endorsed by the Council of Ministers, radically modified by the European Parliament and then re-presented in their original form. Some national governments seem to be aware of the problems. Poland has rejected the proposal and Germany\\'s main political parties have opposed it, but there is not enough opposition to guarantee their rejection. Early in December the British government held a consultation meeting with those who had commented on the proposals. Science Minister Lord Sainsbury went along to listen and outline the UK position, but according to those present, it was embarrassing to see how little the minister and his officials actually understood the issues concerned.\\n \\n The draft Directive is being put through the council as what is called an \"A\" item and can only be approved or rejected. No discussion or amendment is allowed. So why should we be worried? First, there is the abuse of the democratic process involved in disregarding the views of the parliament and abandoning all of their carefully argued amendments. This goes to the heart of the European project, and even those who do not care about software or patents should be worried. If coders are treated like this today, who is to say that it will not be you tomorrow?\\n \\n More directly, once software patents are granted then any programmer will have to worry that the code they are writing is infringing someone else\\'s patent. This is not about stealing software, as code is already protected by copyright. Patents are not copyright, but something much stronger. A patent gives the owner the right to stop anyone else using their invention, even if the other person invented it separately. I have never, to my shame, managed to read Lord Byron\\'s Childe Harold\\'s Pilgrimage. If it was pointed out that one of my articles contained a substantial chunk of the poem then I could defend myself in court by claiming that I had simply made it up and it was coincidence. The same does not hold for a patent. If I sit down this afternoon and write a brilliant graphics compression routine and it happens to be the same as the LZW algorithm used in GIF files, then I am in trouble under patent law, at least in the US. Coincidence is no defence. The proposed directive is supported by many of the major software companies, but this is hardly surprising since most of them are US-based and they have already had to cope with a legal environment that allows patents. They have legal departments and, more crucially, patents of their own which they can trade or cross-license with other patent holders.\\n \\n Even this system breaks down, of course, as Microsoft found out last year when they initially lost a case brought by Eolas which claimed that Internet Explorer (and other browsers) infringed an Eolas patent. That one was eventually thrown out, but only after months of uncertainty and millions of dollars. But small companies, and the free and open software movement do not have any patents to trade. Much of the really useful software we use every day, programs like the Apache web server, the GNU/Linux operating system and the fearsomely popular Firefox browser, is developed outside company structures by people who do not have legal departments to check for patent infringements. The damage to software will not happen overnight, of course. If the directive goes through it has to be written into national laws and then there will be a steady stream of legal actions against small companies and open source products. Eventually someone will decide to attack Linux directly, probably with some secret funding from one or two large players. The new directive will limit innovation by forcing programmers to spend time checking for patent infringements or simply avoiding working in potentially competitive areas. And it will damage Europe\\'s computer industry. We can only hope that the Council of Ministers has the integrity and strength to reject this bad law.\\n \\n Bill Thompson is a regular commentator on the BBC World Service programme Go Digital.\\n'\n",
            " 'What\\'s next for next-gen consoles?\\n \\n The next generation of video games consoles are in development but what will the new machines mean for games firms and consumers? We may not know when they will be released, what they will be called or even what they will be able to do but one thing is certain - they are coming. Sony, Microsoft and Nintendo are all expected to release new machines in the next 18 months. The details of PlayStation 3, Xbox 2 (codename Xenon) and Nintendo\\'s so-called Revolution are still to be finalised but developers are having to work on titles for the new machines regardless.\\n \\n \"We know maybe what the PS3 will do, but we can only guess,\" said Rory Armes, studio general manager for video game giant Electronic Arts in Europe. \"It\\'s a horrendous effort in the first year,\" he admitted. Microsoft had delivered development kits to EA, said Mr Armes, but he said the company was still waiting on Sony and Nintendo to send kits. Although the details may not be nailed down, Mr Armes said EA was beginning to get a sense of the capabilities of the new machines. \"The rumours are that PlayStation 3 will have a little more under the hood [than Xbox 2],\" he said.\\n \\n \"Microsoft is obviously a software company first and foremost, while Sony has more experience in hardware. I think Sony will be able to push more into a box at cost.\"\\n \\n What is certain is that the new machines will provide great leaps in processing and graphical power. It is also likely that they will contain convergence technologies to make the machines more of an entertainment hub. At the Consumer Electronics Show in Las Vegas Microsoft boss Bill Gates said Xbox 2 would be part of his vision of the digital lifestyle. While short on detail, he painted a picture of a machine that would complement a PC and offer \"great video gaming but video gaming for a broader set of people, more communications, more media, more connectivity\". Sony is thought to have a similar vision for PS3 while Nintendo remain focused on a machine purely for games.\\n \\n Until it is clear precisely what the new machines can do, developers are working on a first round of titles to harness the new horsepower. Gary Dunn, development director at Codemasters, said the company had a central technology group which was at the forefront of preparing for the next generation of consoles. \"We are working on new libraries of effects. A lot of the major techniques are already out there and in use in PC gaming, such as pixel shaders and normal mapping.\"\\n \\n Mr Dunn said he expected the introduction of real-world physics to be a major part of the new consoles. \"We want to increase that level of immersion and realism in gaming to people can lose themselves in a game.\" In the first year at least, developers said gamers should not expect games which harness the full potential of the machines. Graphical spit and polish and better physics in line with the capabilities of current high-end graphics cards for PCs should be expected. Simon Gardner, president of Climax\\'s Action Studio, said: \"It\\'s definitely an exciting time. We want to give more freedom to the player. We want to give players an emotional connection to the characters they play. \"The environments will be much more believable and dramatic, growing and changing as you play. \"There will be a breadth of effects, more involving worlds to play in.\\n \\n \"It\\'s a bit like being an artist and being given a bigger canvas and a smaller brush. We\\'re being given more tools. \"For the average consumer, we can get things of a more filmic quality.\" Gerhard Florin, head of EA in Europe, said gamers should expect titles that blur the line between films and video games. Many will be sceptical - gamers were given similar predictions during the last transition of console hardware - but this time it would seem to be more likely. \"PS3 will provide graphics indistinguishable from movies,\" said Mr Florin. He said the distribution method for games would also change radically in the next round of consoles. \"A gamer could buy a starter disc for 10 euros. When he goes home he goes online and he could buy AI and levels as you go.\\n \\n \"It\\'s much smarter if you can get levels as you go.\" Mr Armes warned that developers still had to learn how to tell stories effectively in the medium. \"In some ways we are trying to forget about the hardware, go in the opposite direction. We have been very bad at letting technology design our creativity. \"What we have to do as a company is start ignoring the technology and learning our craft in telling stories.\" Mr Gardner agreed: \"We can thrown more polygons around and have better AI but if it doesn\\'t make for a better game then that\\'s not very useful.\" Developers will certainly have the tools with the new machines, but how they employ them is still to be decided.\\n'\n",
            " \"Electronics firms eye plasma deal\\n \\n Consumer electronics giants Hitachi and Matshushita Electric are joining forces to share and develop technology for flat screen televisions.\\n \\n The tie-up comes as the world's top producers are having to contend with falling prices and intense competition. The two Japanese companies will collaborate in research & development, production, marketing and licensing. They said the agreement would enable the two companies to expand the plasma display TV market globally.\\n \\n Plasma display panels are used for large, thin TVs which are replacing old-style televisions. The display market for high-definition televisions is split between models using plasma display panels and others - manufactured by the likes of Sony and Samsung - using liquid-crystal displays (LCDs). The deal will enable Hitachi and Matsushita, which makes Panasonic brand products, to develop new technology and improve their competitiveness. Hitachi recently announced a deal to buy plasma display technology from rival Fujitsu in an effort to strengthen its presence in the market.\\n \\n Separately, Fujitsu announced on Monday that it is quitting the LCD panel market by transferring its operations in the area to Japanese manufacturer Sharp. Sharp will inherit staff, manufacturing facilities and intellectual property from Fujitsu. The plasma panel market has seen rapid consolidation in recent months as the price of consumer electronic goods and components has fallen. Samsung Electronics and Sony are among other companies working together to reduce costs and speed up new product development.\\n\"\n",
            " 'Peer-to-peer nets \\'here to stay\\'\\n \\n Peer-to-peer (P2P) networks are here to stay, and are on the verge of being exploited by commercial media firms, says a panel of industry experts.\\n \\n Once several high-profile legal cases against file-sharers are resolved this year, firms will be very keen to try and make money from P2P technology. The expert panel probed the future of P2P at the Consumer Electronics Show in Las Vegas earlier in January. The first convictions for P2P piracy were handed out in the US in January. William Trowbridge and Michael Chicoine pleaded guilty to charges that they infringed copyright by illegally sharing music, movies and software. Since the first successful file-sharing network Napster was forced to close down, the entertainment industry has been nervous and critical of P2P technology, blaming it for falling sales and piracy. But that is going to change very soon, according to the panel.\\n \\n The music and film industries have started some big legal cases against owners of legitimate P2P networks - which are not illegal in themselves - and of individuals accused of distributing pirated content over networks. But they have slowly realised that P2P is a good way to distribute content, said Travis Kalanick, founder and chairman of P2P network Red Swoosh, and soon they are all going to want a slice of it. They are just waiting to come up with \"business models\" that work for them, which includes digital rights management and copy-protection standards.\\n \\n But, until the legal actions are resolved, experimentation with P2P cannot not happen, said Michael Weiss, president of StreamCast Networks. Remembering the furore around VCRs when they first came out, Mr Weiss said: \"Old media always tries to stop new media. \"When they can\\'t stop it, they try to control it. Then they figure out how to make money and they always make a lot of money.\" Once the courts decided that the VCR in itself was not an illegal technology, the film studios turned it into an extremely lucrative business. In August 2004, the San Francisco-based US Court of Appeals ruled in favour of Grokster and StreamCast, two file-sharing networks. The court said they were essentially in the same position that Sony was in the 1980s VCR battle, and said that the networks themselves could not be deemed as illegal.\\n \\n P2P networks usually do not rely on dedicated servers for the transfer of files. Instead it uses direct connections between computers - or clients. There are now many different types of P2P systems than work in different ways. P2P nets can be used to share any kind of file, like photos, free software, licensed music and any other digital content. The BBC has already decided to embrace the technology. It aims to offer most of its own programmes for download this year and it will use P2P technology to distribute them. The files would be locked seven days after a programme aired making rights management easier to control. But the technology is still demonised and misunderstood by many. The global entertainment industry says more than 2.6 billion copyrighted music files are downloaded every month, and about half a million films are downloaded a day. Legal music download services, like Apple iTunes, Napster, have rushed into the music marketplace to try and lure file-sharers away from free content. Sales of legally-downloaded songs grew tenfold in 2004, with 200 million tracks bought online in the US and Europe in 12 months, the IFPI reported this week. But such download services are very different from P2P networks, not least because of the financial aspect.\\n \\n There are several money-spinning models that could turn P2P into a golden egg for commercial entertainment companies. Paid-for-pass-along, in which firms receive money each time a file is shared, along with various DRM solutions and advertiser-based options are all being considered. \"We see there are going to be different models for commoditising P2P,\" said Marc Morgenstern, vice president of anti-piracy firm Overpeer.\\n \\n \"Consumers are hungry for it and we will discover new models together,\" agreed Mr Morgenstern. But many net users will continue to ignore the entertainment industry\\'s potential controlling grip on content and P2P technology by continuing to use it for their own creations. Unsigned bands, for example, use P2P networks to distribute their music effectively, which also draws the attention of record companies looking for new artists to sign. \"Increasingly, what you are seeing on P2P is consumer-created content,\" said Derek Broes, from Microsoft. \"They will probably play an increasing role in helping P2P spread,\" he said. Looking into P2P\\'s future, file sharing is just the beginning for P2P networks, as far as Mr Broes is concerned. \"Once some of these issues are resolved, you are going to see aggressive movement to protect content, but also in ways that are unimaginable now,\" he said. \"File-sharing is the tip of the iceberg.\"\\n']\n",
            "\n",
            "\n"
          ]
        }
      ],
      "source": [
        "# for each cluster, printing the 5 random news articles\n",
        "for i in range(5):\n",
        "    print(i)\n",
        "    print(clustered_data.loc[clustered_data.Category == i, 'Text'].sample(5, random_state=1).values)\n",
        "    print(\"\\n\")"
      ]
    },
    {
      "cell_type": "markdown",
      "metadata": {
        "id": "FH9piRxZXJqA"
      },
      "source": [
        "Based on the above news articles, we can see that they can be categorized as follows:\n",
        "\n",
        "- 0: Technology\n",
        "- 1: Sports\n",
        "- 2: Politics\n",
        "- 3: Entertainment\n",
        "- 4: Business"
      ]
    },
    {
      "cell_type": "code",
      "execution_count": null,
      "metadata": {
        "colab": {
          "base_uri": "https://localhost:8080/",
          "height": 1000
        },
        "id": "_bEUw-9dsAn1",
        "outputId": "9e4d2821-2e58-4a0c-dcb6-601fd4630456"
      },
      "outputs": [
        {
          "output_type": "execute_result",
          "data": {
            "text/plain": [
              "                                                                                                                                                                                                                                                                                                                                                                                                                                                                                                                                                                                                                                                                                                                                                                                                                                                                                                                                                                                                                                                                                                                                                                                                                                                                                                                                                                                                                                                                                                                                                                                                                                                                                                                                                                                                                                                                                                                                                                                                                                                                                                                                                                                                                                                                                                                                                                                                                                                                                                                                                                                                                                                                                                                                                                                                                                                                                                                                                                                                                                                                                                                                                                                                                                                                                                             Text  \\\n",
              "0                     Budget to set scene for election\\n \\n Gordon Brown will seek to put the economy at the centre of Labour's bid for a third term in power when he delivers his ninth Budget at 1230 GMT. He is expected to stress the importance of continued economic stability, with low unemployment and interest rates. The chancellor is expected to freeze petrol duty and raise the stamp duty threshold from Â£60,000. But the Conservatives and Lib Dems insist voters face higher taxes and more means-testing under Labour.\\n \\n Treasury officials have said there will not be a pre-election giveaway, but Mr Brown is thought to have about Â£2bn to spare.\\n \\n - Increase in the stamp duty threshold from Â£60,000 \\n  - A freeze on petrol duty \\n  - An extension of tax credit scheme for poorer families \\n  - Possible help for pensioners The stamp duty threshold rise is intended to help first time buyers - a likely theme of all three of the main parties' general election manifestos. Ten years ago, buyers had a much greater chance of avoiding stamp duty, with close to half a million properties, in England and Wales alone, selling for less than Â£60,000. Since then, average UK property prices have more than doubled while the starting threshold for stamp duty has not increased. Tax credits As a result, the number of properties incurring stamp duty has rocketed as has the government's tax take. The Liberal Democrats unveiled their own proposals to raise the stamp duty threshold to Â£150,000 in February.\\n \\n The Tories are also thought likely to propose increased thresholds, with shadow chancellor Oliver Letwin branding stamp duty a \"classic Labour stealth tax\". The Tories say whatever the chancellor gives away will be clawed back in higher taxes if Labour is returned to power. Shadow Treasury chief secretary George Osborne said: \"Everyone who looks at the British economy at the moment says there has been a sharp deterioration in the public finances, that there is a black hole,\" he said. \"If Labour is elected there will be a very substantial tax increase in the Budget after the election, of the order of around Â£10bn.\"\\n \\n But Mr Brown's former advisor Ed Balls, now a parliamentary hopeful, said an examination of Tory plans for the economy showed there would be a Â£35bn difference in investment by the end of the next parliament between the two main parties. He added: \"I don't accept there is any need for any changes to the plans we have set out to meet our spending commitments.\"\\n \\n For the Lib Dems David Laws said: \"The chancellor will no doubt tell us today how wonderfully the economy is doing,\" he said. \"But a lot of that is built on an increase in personal and consumer debt over the last few years - that makes the economy quite vulnerable potentially if interest rates ever do have to go up in a significant way.\" SNP leader Alex Salmond said his party would introduce a Â£2,000 grant for first time buyers, reduce corporation tax and introduce a citizens pension free from means testing. Plaid Cymru's economics spokesman Adam Price said he wanted help to get people on the housing ladder and an increase in the minimum wage to Â£5.60 an hour.\\n   \n",
              "1                                                                                                                                                     Army chiefs in regiments decision\\n \\n Military chiefs are expected to meet to make a final decision on the future of Scotland's Army regiments.\\n \\n A committee of the Army Board, which is made up of the most senior defence figures, will discuss plans for restructuring regiments on Monday. The proposals include cutting Scotland's six single-battalion regiments to five and merging these into a super regiment. The plans have faced stiff opposition from campaigners and politicians alike. The committee's decision must be ratified by Defence Secretary Geoff Hoon and Prime Minister Tony Blair. It is expected that it will be made public next week. When ministers announced a reorganisation of the Army it drew a question mark over the futures of the Black Watch, the Kings Own Scottish Borderers, the Royal Scots, the Royal Highland Fusiliers and the Argyll and Sutherland Highlanders. In October, the Council of Scottish Colonels proposed the merger of the Royal Scots and the King's Own Scottish Borderers into a single battalion.\\n \\n Under their vision, it would be one of five in the new super regiment. The proposals to either merge or amalgamate the six regiments into a super regiment sparked a political outcry, with Labour backbenchers and opposition politicians opposing the plan. They felt the timing was insensitive because the Black Watch was in the frontline in Iraq, suffering casualties. The Save the Scottish Regiments campaigners were so angered they threatened to stand against Labour at the next general election.\\n \\n Speaking ahead of the expected Army Board meeting, a spokesman said: \"The government and the Army Board have spent the past four months attempting to trick serving soldiers and the public into thinking their planned changes for the Scottish regiments are for the good of the Army and for that of the serving soldier. \"They are very much not for the good and will destroy Scotland's regiments by moulding them into a single super regiment which will lead to severe recruitment problems, a loss of local connections to those regiments and a loss to Scotland of an important part of her heritage and, most importantly, her future - the regiments are the envy of armies around the world.\" An alternative blueprint had been put forward by Labour MP Eric Joyce, who proposed going ahead with the merger while preserving the other regiments. For a brief time, there was speculation the prime minister might consider the plan, but that now seems unlikely. Speaking in Scotland last week, Mr Blair said the aim was to preserve tradition but introduce a more effective structure and hinted that a super regiment was likely. He said: \"They don't want to get rid of the history or the traditions of the regiment or the local connections - far from it, all they want to do is make sure they can transfer people easily across regiments and deploy them more flexibly.\" The prime minister said he hoped campaigners' concerns would be taken into account but the need for effective change had to be paramount.\\n   \n",
              "2  Howard denies split over ID cards\\n \\n Michael Howard has denied his shadow cabinet was split over its decision to back controversial Labour plans to introduce ID cards.\\n \\n The Tory leader said his front bench team had reached a \"collective view\" after holding a \"good discussion\", but admitted it was \"not an easy issue\". He had decided to support the plans as the police said they would help fight terror, crime and illegal immigration. The Lib Dems have pledged to oppose the bill when it is debated next Monday.\\n \\n Tory sources say senior party figures had argued vociferously against the ID card scheme. Among those reported to have serious reservations over the strategy were senior shadow cabinet members David Davis, Oliver Letwin and Tim Yeo. But Mr Howard denied Mr Yeo, his transport and environment spokesman, said the plans \"stink\". He also said he was confident shadow home secretary Mr Davis would \"set out the position very clearly\" when he stands up to debate the matter next week. Mr Howard said the police had said ID cards could \"help them foil a terror bomb plot in which people could lose their lives\". He added: \"When the police say that you have to take them seriously\".\\n \\n He acknowledged there were \"good libertarian arguments\" against the cards, but said the shadow Cabinet had weighed up all the \"conflicting interests\" before reaching its decision. \"I don't pretend that it is an easy decision but at the end of the day a decision has to be taken.\" He also denied he was afraid of looking \"soft\" on the issue, compared to Labour. The Conservatives announced their support for the government plans on Monday evening.\\n \\n Sources within the party told the BBC Mr Howard had always been in favour of ID cards, and tried to introduce them when he was Home Secretary. But the Tories insisted they would hold ministers to account over the precise purpose of the scheme.\\n \\n They said they would also press Labour over whether objectives could be met and whether the Home Office would be able to deliver them. And they pledged to assess the cost effectiveness of ID cards and whether people's privacy would be properly protected. \"It is important to remember that this bill will take a decade to come into full effect,\" a spokesman said. Lib Dem home affairs spokesman Mark Oaten has branded the ID scheme a waste of money and \"deeply flawed\". He said: \"This has all the signs of Michael Howard overruling colleagues' concerns over ID cards.\"\\n \\n The chairman of the Bar Council, Guy Mansfield QC warned there was a real risk that people on the \"margins of society\" would be driven into the hands of extremists. \"What is going to happen to young Asian men when there has been a bomb gone off somewhere? They are going to be stopped. If they haven't [ID cards] they are going to be detained.\" Tory ex-minister Douglas Hogg said he opposed the plans for ID cards branding them a \"regressive\" step which would intrude into the lives of ordinary citizens without any counterbalancing benefits. He predicted ultimately carrying the cards would become compulsory and that would lead to large numbers of Britain's ethnic minorities being stopped by police.\\n   \n",
              "3                                                                             Observers to monitor UK election\\n \\n Ministers will invite international observers to check the forthcoming UK general election is fairly run.\\n \\n The move comes amid claims the poll could be marred by electoral fraud. A report by two MPs committees called on Thursday for urgent changes to the electoral registration system to combat vote rigging and boost turnout. But in a written response to Labour MP Gordon Prentice, the government said it would normally invite observers to any UK election.\\n \\n Junior constitutional affairs minister Christopher Leslie said: \"I fully expect us to repeat our previous practice of doing so once the date for the next general election is announced.\" The government has looked at ways of boosting voter turnout, which fell to 59% in the last general election in 2001.\\n \\n But trial all-postal ballots in four English regions last summer were hit by delays and some fraud allegations. Liberal Democrat peer Lord Greaves called last week for international observers at the general election - saying otherwise there could be months of court challenges \"on a scale not seen since the 19th Century\". Thursday's report was drawn up by two committees scrutinising the work of the Office of the Deputy Prime Minister (ODPM) and the Department for Constitutional Affairs (DCA). It said that, with the growth of postal voting, there was a strong case to tighten up fraud protection by requiring voters to register individually, rather than by household. It also said about three million people eligible to vote are not registered to do so.\\n \\n Figures for the 2001 general election suggest 29% of people aged between 18 and 24, and 19% of black voters were not on the electoral roll. Young people in shared accommodation are thought to miss out because no one acts as head of the household to fill in the form. ODPM committee chairman Andrew Bennett said individual voter registration, as opposed to registration by household, should be quickly introduced as it could \"dramatically reduce the chances of fraud\". But his counterpart on the DCA committee, Alan Beith, said it should be delayed \"until measures likely to increase registration have been put in place and proved effective.\" Shadow Constitutional Affairs Secretary Oliver Heald accused the government of \"dragging its feet\" over \"this badly needed measure\". \"It is vital that we move ahead with the Northern Ireland system of individual electoral registration to safeguard the integrity of the Britain's electoral system,\" he said.\\n \\n The report said individual registration should be treated carefully as 12% of voters disappeared from the electoral roll in Northern Ireland when it was introduced in 2002. The report said the government should consider fines for unregistered voters, but accepted many experts said it would be an expensive system that would be hard to enforce. It said incentives to register, such as Â£20 council tax rebate, were likely to be seen as \"gimmicks\" and risked undermining the integrity of the system, MPs said. Instead they called for \"imaginative campaigns\" to boost interest.\\n   \n",
              "4                                                                                                                                                                                                                                                                                                                                                                                                                                                                                                                                                                               Kilroy names election seat target\\n \\n Ex-chat show host Robert Kilroy-Silk is to contest the Derbyshire seat of Erewash at the next general election.\\n \\n Labour's Elizabeth Blackman won the seat in 1997 and has a 6,932 majority. She says she will fight on her record \"as a hard-working constituency MP\". Mr Kilroy-Silk announced his plans a day after launching his new party, Veritas, the Latin for truth. The East Midlands MEP, who quit the UK Independence Party, wants his new group to \"change the face\" of UK politics. His choice of election constituency quashes speculation that he would stand against Defence Secretary Geoff Hoon in Ashfield, Nottinghamshire. UKIP won 31% of the vote in Erewash in last June's European elections - with Mr Kilroy-Silk among their candidates for the region. Until 1997, Erewash had been held by the Tories since 1970. Ms Blackman said she was proud of the government's achievements in the area. She declined to give her view of Mr Kilroy-Silk at this point.\\n \\n On Thursday, he told a London news conference that Veritas would avoid the old parties' \"lies and spin\". He said \"our country\" was being \"stolen from us\" by mass immigration and promised a \"firm but fair\" policy on immigration. Veritas says it hopes to contest most seats at the forthcoming general election but plans to announce detailed policies on crime, tax, pensions, health and defence over the next few weeks.\\n \\n UKIP leader Roger Knapman says he is glad to see the back of Mr Kilroy-Silk. Labour campaign spokesman Fraser Kemp said Veritas was joining \"an already crowded field on the right of British politics\". Mr Kilroy-Silk was joined in the new venture by one of UKIP's two London Assembly members, Damien Hockney, who is now Veritas' deputy leader.\\n \\n UKIP's chairman Petrina Holdsworth has said the group will just be a parody of the party the men have left. Mr Kilroy-Silk quit UKIP last week after months of tension as he vied unsuccessfully for the leadership of that party. He said he was ashamed to be a member of a UKIP whose leadership had \"gone AWOL\" after the great opportunity offered by its third place at last June's European elections. UKIP's leader, Roger Knapman, has said he is glad to see the back of Mr Kilroy-Silk. \"He has remarkable ability to influence people but, sadly, after the [European] election it became clear that he was more interested in the Robert Kilroy-Silk Party than the UK Independence Party so it was nice knowing him, now 'goodbye',\" he said. UKIP officials also argue Mr Kilroy-Silk has not been \"straightforward\" in attacking the party he once wanted to lead.\\n   \n",
              "\n",
              "  Category  \n",
              "0   Sports  \n",
              "1   Sports  \n",
              "2   Sports  \n",
              "3   Sports  \n",
              "4   Sports  "
            ],
            "text/html": [
              "\n",
              "  <div id=\"df-b009af71-e602-49f4-84b1-2eb987b2e625\" class=\"colab-df-container\">\n",
              "    <div>\n",
              "<style scoped>\n",
              "    .dataframe tbody tr th:only-of-type {\n",
              "        vertical-align: middle;\n",
              "    }\n",
              "\n",
              "    .dataframe tbody tr th {\n",
              "        vertical-align: top;\n",
              "    }\n",
              "\n",
              "    .dataframe thead th {\n",
              "        text-align: right;\n",
              "    }\n",
              "</style>\n",
              "<table border=\"1\" class=\"dataframe\">\n",
              "  <thead>\n",
              "    <tr style=\"text-align: right;\">\n",
              "      <th></th>\n",
              "      <th>Text</th>\n",
              "      <th>Category</th>\n",
              "    </tr>\n",
              "  </thead>\n",
              "  <tbody>\n",
              "    <tr>\n",
              "      <th>0</th>\n",
              "      <td>Budget to set scene for election\\n \\n Gordon Brown will seek to put the economy at the centre of Labour's bid for a third term in power when he delivers his ninth Budget at 1230 GMT. He is expected to stress the importance of continued economic stability, with low unemployment and interest rates. The chancellor is expected to freeze petrol duty and raise the stamp duty threshold from Â£60,000. But the Conservatives and Lib Dems insist voters face higher taxes and more means-testing under Labour.\\n \\n Treasury officials have said there will not be a pre-election giveaway, but Mr Brown is thought to have about Â£2bn to spare.\\n \\n - Increase in the stamp duty threshold from Â£60,000 \\n  - A freeze on petrol duty \\n  - An extension of tax credit scheme for poorer families \\n  - Possible help for pensioners The stamp duty threshold rise is intended to help first time buyers - a likely theme of all three of the main parties' general election manifestos. Ten years ago, buyers had a much greater chance of avoiding stamp duty, with close to half a million properties, in England and Wales alone, selling for less than Â£60,000. Since then, average UK property prices have more than doubled while the starting threshold for stamp duty has not increased. Tax credits As a result, the number of properties incurring stamp duty has rocketed as has the government's tax take. The Liberal Democrats unveiled their own proposals to raise the stamp duty threshold to Â£150,000 in February.\\n \\n The Tories are also thought likely to propose increased thresholds, with shadow chancellor Oliver Letwin branding stamp duty a \"classic Labour stealth tax\". The Tories say whatever the chancellor gives away will be clawed back in higher taxes if Labour is returned to power. Shadow Treasury chief secretary George Osborne said: \"Everyone who looks at the British economy at the moment says there has been a sharp deterioration in the public finances, that there is a black hole,\" he said. \"If Labour is elected there will be a very substantial tax increase in the Budget after the election, of the order of around Â£10bn.\"\\n \\n But Mr Brown's former advisor Ed Balls, now a parliamentary hopeful, said an examination of Tory plans for the economy showed there would be a Â£35bn difference in investment by the end of the next parliament between the two main parties. He added: \"I don't accept there is any need for any changes to the plans we have set out to meet our spending commitments.\"\\n \\n For the Lib Dems David Laws said: \"The chancellor will no doubt tell us today how wonderfully the economy is doing,\" he said. \"But a lot of that is built on an increase in personal and consumer debt over the last few years - that makes the economy quite vulnerable potentially if interest rates ever do have to go up in a significant way.\" SNP leader Alex Salmond said his party would introduce a Â£2,000 grant for first time buyers, reduce corporation tax and introduce a citizens pension free from means testing. Plaid Cymru's economics spokesman Adam Price said he wanted help to get people on the housing ladder and an increase in the minimum wage to Â£5.60 an hour.\\n</td>\n",
              "      <td>Sports</td>\n",
              "    </tr>\n",
              "    <tr>\n",
              "      <th>1</th>\n",
              "      <td>Army chiefs in regiments decision\\n \\n Military chiefs are expected to meet to make a final decision on the future of Scotland's Army regiments.\\n \\n A committee of the Army Board, which is made up of the most senior defence figures, will discuss plans for restructuring regiments on Monday. The proposals include cutting Scotland's six single-battalion regiments to five and merging these into a super regiment. The plans have faced stiff opposition from campaigners and politicians alike. The committee's decision must be ratified by Defence Secretary Geoff Hoon and Prime Minister Tony Blair. It is expected that it will be made public next week. When ministers announced a reorganisation of the Army it drew a question mark over the futures of the Black Watch, the Kings Own Scottish Borderers, the Royal Scots, the Royal Highland Fusiliers and the Argyll and Sutherland Highlanders. In October, the Council of Scottish Colonels proposed the merger of the Royal Scots and the King's Own Scottish Borderers into a single battalion.\\n \\n Under their vision, it would be one of five in the new super regiment. The proposals to either merge or amalgamate the six regiments into a super regiment sparked a political outcry, with Labour backbenchers and opposition politicians opposing the plan. They felt the timing was insensitive because the Black Watch was in the frontline in Iraq, suffering casualties. The Save the Scottish Regiments campaigners were so angered they threatened to stand against Labour at the next general election.\\n \\n Speaking ahead of the expected Army Board meeting, a spokesman said: \"The government and the Army Board have spent the past four months attempting to trick serving soldiers and the public into thinking their planned changes for the Scottish regiments are for the good of the Army and for that of the serving soldier. \"They are very much not for the good and will destroy Scotland's regiments by moulding them into a single super regiment which will lead to severe recruitment problems, a loss of local connections to those regiments and a loss to Scotland of an important part of her heritage and, most importantly, her future - the regiments are the envy of armies around the world.\" An alternative blueprint had been put forward by Labour MP Eric Joyce, who proposed going ahead with the merger while preserving the other regiments. For a brief time, there was speculation the prime minister might consider the plan, but that now seems unlikely. Speaking in Scotland last week, Mr Blair said the aim was to preserve tradition but introduce a more effective structure and hinted that a super regiment was likely. He said: \"They don't want to get rid of the history or the traditions of the regiment or the local connections - far from it, all they want to do is make sure they can transfer people easily across regiments and deploy them more flexibly.\" The prime minister said he hoped campaigners' concerns would be taken into account but the need for effective change had to be paramount.\\n</td>\n",
              "      <td>Sports</td>\n",
              "    </tr>\n",
              "    <tr>\n",
              "      <th>2</th>\n",
              "      <td>Howard denies split over ID cards\\n \\n Michael Howard has denied his shadow cabinet was split over its decision to back controversial Labour plans to introduce ID cards.\\n \\n The Tory leader said his front bench team had reached a \"collective view\" after holding a \"good discussion\", but admitted it was \"not an easy issue\". He had decided to support the plans as the police said they would help fight terror, crime and illegal immigration. The Lib Dems have pledged to oppose the bill when it is debated next Monday.\\n \\n Tory sources say senior party figures had argued vociferously against the ID card scheme. Among those reported to have serious reservations over the strategy were senior shadow cabinet members David Davis, Oliver Letwin and Tim Yeo. But Mr Howard denied Mr Yeo, his transport and environment spokesman, said the plans \"stink\". He also said he was confident shadow home secretary Mr Davis would \"set out the position very clearly\" when he stands up to debate the matter next week. Mr Howard said the police had said ID cards could \"help them foil a terror bomb plot in which people could lose their lives\". He added: \"When the police say that you have to take them seriously\".\\n \\n He acknowledged there were \"good libertarian arguments\" against the cards, but said the shadow Cabinet had weighed up all the \"conflicting interests\" before reaching its decision. \"I don't pretend that it is an easy decision but at the end of the day a decision has to be taken.\" He also denied he was afraid of looking \"soft\" on the issue, compared to Labour. The Conservatives announced their support for the government plans on Monday evening.\\n \\n Sources within the party told the BBC Mr Howard had always been in favour of ID cards, and tried to introduce them when he was Home Secretary. But the Tories insisted they would hold ministers to account over the precise purpose of the scheme.\\n \\n They said they would also press Labour over whether objectives could be met and whether the Home Office would be able to deliver them. And they pledged to assess the cost effectiveness of ID cards and whether people's privacy would be properly protected. \"It is important to remember that this bill will take a decade to come into full effect,\" a spokesman said. Lib Dem home affairs spokesman Mark Oaten has branded the ID scheme a waste of money and \"deeply flawed\". He said: \"This has all the signs of Michael Howard overruling colleagues' concerns over ID cards.\"\\n \\n The chairman of the Bar Council, Guy Mansfield QC warned there was a real risk that people on the \"margins of society\" would be driven into the hands of extremists. \"What is going to happen to young Asian men when there has been a bomb gone off somewhere? They are going to be stopped. If they haven't [ID cards] they are going to be detained.\" Tory ex-minister Douglas Hogg said he opposed the plans for ID cards branding them a \"regressive\" step which would intrude into the lives of ordinary citizens without any counterbalancing benefits. He predicted ultimately carrying the cards would become compulsory and that would lead to large numbers of Britain's ethnic minorities being stopped by police.\\n</td>\n",
              "      <td>Sports</td>\n",
              "    </tr>\n",
              "    <tr>\n",
              "      <th>3</th>\n",
              "      <td>Observers to monitor UK election\\n \\n Ministers will invite international observers to check the forthcoming UK general election is fairly run.\\n \\n The move comes amid claims the poll could be marred by electoral fraud. A report by two MPs committees called on Thursday for urgent changes to the electoral registration system to combat vote rigging and boost turnout. But in a written response to Labour MP Gordon Prentice, the government said it would normally invite observers to any UK election.\\n \\n Junior constitutional affairs minister Christopher Leslie said: \"I fully expect us to repeat our previous practice of doing so once the date for the next general election is announced.\" The government has looked at ways of boosting voter turnout, which fell to 59% in the last general election in 2001.\\n \\n But trial all-postal ballots in four English regions last summer were hit by delays and some fraud allegations. Liberal Democrat peer Lord Greaves called last week for international observers at the general election - saying otherwise there could be months of court challenges \"on a scale not seen since the 19th Century\". Thursday's report was drawn up by two committees scrutinising the work of the Office of the Deputy Prime Minister (ODPM) and the Department for Constitutional Affairs (DCA). It said that, with the growth of postal voting, there was a strong case to tighten up fraud protection by requiring voters to register individually, rather than by household. It also said about three million people eligible to vote are not registered to do so.\\n \\n Figures for the 2001 general election suggest 29% of people aged between 18 and 24, and 19% of black voters were not on the electoral roll. Young people in shared accommodation are thought to miss out because no one acts as head of the household to fill in the form. ODPM committee chairman Andrew Bennett said individual voter registration, as opposed to registration by household, should be quickly introduced as it could \"dramatically reduce the chances of fraud\". But his counterpart on the DCA committee, Alan Beith, said it should be delayed \"until measures likely to increase registration have been put in place and proved effective.\" Shadow Constitutional Affairs Secretary Oliver Heald accused the government of \"dragging its feet\" over \"this badly needed measure\". \"It is vital that we move ahead with the Northern Ireland system of individual electoral registration to safeguard the integrity of the Britain's electoral system,\" he said.\\n \\n The report said individual registration should be treated carefully as 12% of voters disappeared from the electoral roll in Northern Ireland when it was introduced in 2002. The report said the government should consider fines for unregistered voters, but accepted many experts said it would be an expensive system that would be hard to enforce. It said incentives to register, such as Â£20 council tax rebate, were likely to be seen as \"gimmicks\" and risked undermining the integrity of the system, MPs said. Instead they called for \"imaginative campaigns\" to boost interest.\\n</td>\n",
              "      <td>Sports</td>\n",
              "    </tr>\n",
              "    <tr>\n",
              "      <th>4</th>\n",
              "      <td>Kilroy names election seat target\\n \\n Ex-chat show host Robert Kilroy-Silk is to contest the Derbyshire seat of Erewash at the next general election.\\n \\n Labour's Elizabeth Blackman won the seat in 1997 and has a 6,932 majority. She says she will fight on her record \"as a hard-working constituency MP\". Mr Kilroy-Silk announced his plans a day after launching his new party, Veritas, the Latin for truth. The East Midlands MEP, who quit the UK Independence Party, wants his new group to \"change the face\" of UK politics. His choice of election constituency quashes speculation that he would stand against Defence Secretary Geoff Hoon in Ashfield, Nottinghamshire. UKIP won 31% of the vote in Erewash in last June's European elections - with Mr Kilroy-Silk among their candidates for the region. Until 1997, Erewash had been held by the Tories since 1970. Ms Blackman said she was proud of the government's achievements in the area. She declined to give her view of Mr Kilroy-Silk at this point.\\n \\n On Thursday, he told a London news conference that Veritas would avoid the old parties' \"lies and spin\". He said \"our country\" was being \"stolen from us\" by mass immigration and promised a \"firm but fair\" policy on immigration. Veritas says it hopes to contest most seats at the forthcoming general election but plans to announce detailed policies on crime, tax, pensions, health and defence over the next few weeks.\\n \\n UKIP leader Roger Knapman says he is glad to see the back of Mr Kilroy-Silk. Labour campaign spokesman Fraser Kemp said Veritas was joining \"an already crowded field on the right of British politics\". Mr Kilroy-Silk was joined in the new venture by one of UKIP's two London Assembly members, Damien Hockney, who is now Veritas' deputy leader.\\n \\n UKIP's chairman Petrina Holdsworth has said the group will just be a parody of the party the men have left. Mr Kilroy-Silk quit UKIP last week after months of tension as he vied unsuccessfully for the leadership of that party. He said he was ashamed to be a member of a UKIP whose leadership had \"gone AWOL\" after the great opportunity offered by its third place at last June's European elections. UKIP's leader, Roger Knapman, has said he is glad to see the back of Mr Kilroy-Silk. \"He has remarkable ability to influence people but, sadly, after the [European] election it became clear that he was more interested in the Robert Kilroy-Silk Party than the UK Independence Party so it was nice knowing him, now 'goodbye',\" he said. UKIP officials also argue Mr Kilroy-Silk has not been \"straightforward\" in attacking the party he once wanted to lead.\\n</td>\n",
              "      <td>Sports</td>\n",
              "    </tr>\n",
              "  </tbody>\n",
              "</table>\n",
              "</div>\n",
              "    <div class=\"colab-df-buttons\">\n",
              "\n",
              "  <div class=\"colab-df-container\">\n",
              "    <button class=\"colab-df-convert\" onclick=\"convertToInteractive('df-b009af71-e602-49f4-84b1-2eb987b2e625')\"\n",
              "            title=\"Convert this dataframe to an interactive table.\"\n",
              "            style=\"display:none;\">\n",
              "\n",
              "  <svg xmlns=\"http://www.w3.org/2000/svg\" height=\"24px\" viewBox=\"0 -960 960 960\">\n",
              "    <path d=\"M120-120v-720h720v720H120Zm60-500h600v-160H180v160Zm220 220h160v-160H400v160Zm0 220h160v-160H400v160ZM180-400h160v-160H180v160Zm440 0h160v-160H620v160ZM180-180h160v-160H180v160Zm440 0h160v-160H620v160Z\"/>\n",
              "  </svg>\n",
              "    </button>\n",
              "\n",
              "  <style>\n",
              "    .colab-df-container {\n",
              "      display:flex;\n",
              "      gap: 12px;\n",
              "    }\n",
              "\n",
              "    .colab-df-convert {\n",
              "      background-color: #E8F0FE;\n",
              "      border: none;\n",
              "      border-radius: 50%;\n",
              "      cursor: pointer;\n",
              "      display: none;\n",
              "      fill: #1967D2;\n",
              "      height: 32px;\n",
              "      padding: 0 0 0 0;\n",
              "      width: 32px;\n",
              "    }\n",
              "\n",
              "    .colab-df-convert:hover {\n",
              "      background-color: #E2EBFA;\n",
              "      box-shadow: 0px 1px 2px rgba(60, 64, 67, 0.3), 0px 1px 3px 1px rgba(60, 64, 67, 0.15);\n",
              "      fill: #174EA6;\n",
              "    }\n",
              "\n",
              "    .colab-df-buttons div {\n",
              "      margin-bottom: 4px;\n",
              "    }\n",
              "\n",
              "    [theme=dark] .colab-df-convert {\n",
              "      background-color: #3B4455;\n",
              "      fill: #D2E3FC;\n",
              "    }\n",
              "\n",
              "    [theme=dark] .colab-df-convert:hover {\n",
              "      background-color: #434B5C;\n",
              "      box-shadow: 0px 1px 3px 1px rgba(0, 0, 0, 0.15);\n",
              "      filter: drop-shadow(0px 1px 2px rgba(0, 0, 0, 0.3));\n",
              "      fill: #FFFFFF;\n",
              "    }\n",
              "  </style>\n",
              "\n",
              "    <script>\n",
              "      const buttonEl =\n",
              "        document.querySelector('#df-b009af71-e602-49f4-84b1-2eb987b2e625 button.colab-df-convert');\n",
              "      buttonEl.style.display =\n",
              "        google.colab.kernel.accessAllowed ? 'block' : 'none';\n",
              "\n",
              "      async function convertToInteractive(key) {\n",
              "        const element = document.querySelector('#df-b009af71-e602-49f4-84b1-2eb987b2e625');\n",
              "        const dataTable =\n",
              "          await google.colab.kernel.invokeFunction('convertToInteractive',\n",
              "                                                    [key], {});\n",
              "        if (!dataTable) return;\n",
              "\n",
              "        const docLinkHtml = 'Like what you see? Visit the ' +\n",
              "          '<a target=\"_blank\" href=https://colab.research.google.com/notebooks/data_table.ipynb>data table notebook</a>'\n",
              "          + ' to learn more about interactive tables.';\n",
              "        element.innerHTML = '';\n",
              "        dataTable['output_type'] = 'display_data';\n",
              "        await google.colab.output.renderOutput(dataTable, element);\n",
              "        const docLink = document.createElement('div');\n",
              "        docLink.innerHTML = docLinkHtml;\n",
              "        element.appendChild(docLink);\n",
              "      }\n",
              "    </script>\n",
              "  </div>\n",
              "\n",
              "\n",
              "    <div id=\"df-788bc435-9c48-4b18-b79f-2cce1651587b\">\n",
              "      <button class=\"colab-df-quickchart\" onclick=\"quickchart('df-788bc435-9c48-4b18-b79f-2cce1651587b')\"\n",
              "                title=\"Suggest charts\"\n",
              "                style=\"display:none;\">\n",
              "\n",
              "<svg xmlns=\"http://www.w3.org/2000/svg\" height=\"24px\"viewBox=\"0 0 24 24\"\n",
              "     width=\"24px\">\n",
              "    <g>\n",
              "        <path d=\"M19 3H5c-1.1 0-2 .9-2 2v14c0 1.1.9 2 2 2h14c1.1 0 2-.9 2-2V5c0-1.1-.9-2-2-2zM9 17H7v-7h2v7zm4 0h-2V7h2v10zm4 0h-2v-4h2v4z\"/>\n",
              "    </g>\n",
              "</svg>\n",
              "      </button>\n",
              "\n",
              "<style>\n",
              "  .colab-df-quickchart {\n",
              "      --bg-color: #E8F0FE;\n",
              "      --fill-color: #1967D2;\n",
              "      --hover-bg-color: #E2EBFA;\n",
              "      --hover-fill-color: #174EA6;\n",
              "      --disabled-fill-color: #AAA;\n",
              "      --disabled-bg-color: #DDD;\n",
              "  }\n",
              "\n",
              "  [theme=dark] .colab-df-quickchart {\n",
              "      --bg-color: #3B4455;\n",
              "      --fill-color: #D2E3FC;\n",
              "      --hover-bg-color: #434B5C;\n",
              "      --hover-fill-color: #FFFFFF;\n",
              "      --disabled-bg-color: #3B4455;\n",
              "      --disabled-fill-color: #666;\n",
              "  }\n",
              "\n",
              "  .colab-df-quickchart {\n",
              "    background-color: var(--bg-color);\n",
              "    border: none;\n",
              "    border-radius: 50%;\n",
              "    cursor: pointer;\n",
              "    display: none;\n",
              "    fill: var(--fill-color);\n",
              "    height: 32px;\n",
              "    padding: 0;\n",
              "    width: 32px;\n",
              "  }\n",
              "\n",
              "  .colab-df-quickchart:hover {\n",
              "    background-color: var(--hover-bg-color);\n",
              "    box-shadow: 0 1px 2px rgba(60, 64, 67, 0.3), 0 1px 3px 1px rgba(60, 64, 67, 0.15);\n",
              "    fill: var(--button-hover-fill-color);\n",
              "  }\n",
              "\n",
              "  .colab-df-quickchart-complete:disabled,\n",
              "  .colab-df-quickchart-complete:disabled:hover {\n",
              "    background-color: var(--disabled-bg-color);\n",
              "    fill: var(--disabled-fill-color);\n",
              "    box-shadow: none;\n",
              "  }\n",
              "\n",
              "  .colab-df-spinner {\n",
              "    border: 2px solid var(--fill-color);\n",
              "    border-color: transparent;\n",
              "    border-bottom-color: var(--fill-color);\n",
              "    animation:\n",
              "      spin 1s steps(1) infinite;\n",
              "  }\n",
              "\n",
              "  @keyframes spin {\n",
              "    0% {\n",
              "      border-color: transparent;\n",
              "      border-bottom-color: var(--fill-color);\n",
              "      border-left-color: var(--fill-color);\n",
              "    }\n",
              "    20% {\n",
              "      border-color: transparent;\n",
              "      border-left-color: var(--fill-color);\n",
              "      border-top-color: var(--fill-color);\n",
              "    }\n",
              "    30% {\n",
              "      border-color: transparent;\n",
              "      border-left-color: var(--fill-color);\n",
              "      border-top-color: var(--fill-color);\n",
              "      border-right-color: var(--fill-color);\n",
              "    }\n",
              "    40% {\n",
              "      border-color: transparent;\n",
              "      border-right-color: var(--fill-color);\n",
              "      border-top-color: var(--fill-color);\n",
              "    }\n",
              "    60% {\n",
              "      border-color: transparent;\n",
              "      border-right-color: var(--fill-color);\n",
              "    }\n",
              "    80% {\n",
              "      border-color: transparent;\n",
              "      border-right-color: var(--fill-color);\n",
              "      border-bottom-color: var(--fill-color);\n",
              "    }\n",
              "    90% {\n",
              "      border-color: transparent;\n",
              "      border-bottom-color: var(--fill-color);\n",
              "    }\n",
              "  }\n",
              "</style>\n",
              "\n",
              "      <script>\n",
              "        async function quickchart(key) {\n",
              "          const quickchartButtonEl =\n",
              "            document.querySelector('#' + key + ' button');\n",
              "          quickchartButtonEl.disabled = true;  // To prevent multiple clicks.\n",
              "          quickchartButtonEl.classList.add('colab-df-spinner');\n",
              "          try {\n",
              "            const charts = await google.colab.kernel.invokeFunction(\n",
              "                'suggestCharts', [key], {});\n",
              "          } catch (error) {\n",
              "            console.error('Error during call to suggestCharts:', error);\n",
              "          }\n",
              "          quickchartButtonEl.classList.remove('colab-df-spinner');\n",
              "          quickchartButtonEl.classList.add('colab-df-quickchart-complete');\n",
              "        }\n",
              "        (() => {\n",
              "          let quickchartButtonEl =\n",
              "            document.querySelector('#df-788bc435-9c48-4b18-b79f-2cce1651587b button');\n",
              "          quickchartButtonEl.style.display =\n",
              "            google.colab.kernel.accessAllowed ? 'block' : 'none';\n",
              "        })();\n",
              "      </script>\n",
              "    </div>\n",
              "\n",
              "    </div>\n",
              "  </div>\n"
            ],
            "application/vnd.google.colaboratory.intrinsic+json": {
              "type": "dataframe",
              "variable_name": "clustered_data",
              "summary": "{\n  \"name\": \"clustered_data\",\n  \"rows\": 2127,\n  \"fields\": [\n    {\n      \"column\": \"Text\",\n      \"properties\": {\n        \"dtype\": \"string\",\n        \"num_unique_values\": 2127,\n        \"samples\": [\n          \"Blair congratulates Bush on win\\n \\n Tony Blair has said he looks forward to continuing his strong relationship with George Bush and working with him during his second term as president.\\n \\n Mr Bush's re-election came at a crucial time for a world that was \\\"fractured, divided and uncertain\\\", Mr Blair said. It had to be brought together, he added, saying action was needed on poverty, the Middle East and the conditions on which terrorists prey. Mr Blair said states had to work with the US to fight global terrorism.\\n \\n But there was a need to recognise it would not be defeated by \\\"military might alone but also by demonstrating the strength of our common values\\\" he added. Solving the conflict in the Middle East was the world's single most \\\"pressing political challenge\\\" of the present day, Mr Blair warned. The prime minister also urged Europe and the US to \\\"build anew their alliance\\\".\\n \\n \\\"All of us in positions of leadership, not just President Bush, have a responsibility to rise to this challenge. It is urgent that we do so.\\\" Mr Blair also paid tribute to Democrat John Kerry's campaign, saying he had helped make the presidential election \\\"a true celebration of American democracy\\\". The election of the US president was significant for the world but particularly so for Britain because of its special relationship, he added. Earlier Tory leader Michael Howard sent Mr Bush his \\\"warmest congratulations\\\", saying: \\\"We look to the president to be a unifying force for those all over the world who share our determination to defend freedom.\\\" Liberal Democrat leader Charles Kennedy welcomed the fact there had been a quick conclusion to the election, unlike in 2000.\\n \\n Mr Bush's first task was to \\\"rebuild a sense of domestic purpose\\\" within the US, he said. Mr Kennedy said: \\\"Internationally, it is to be hoped that a second term will see a more sensitive approach to relations with long-standing allies, not least for the global efforts to combat terrorism.\\\" Lib Dem foreign affairs spokesman Menzies Campbell said a win by Mr Kerry would have given Mr Blair the chance of a fresh start, adding it was almost as if there was an \\\"umbilical cord\\\" between Mr Bush and the UK premier.\\n \\n \\\"Europeans must hope that his administration will be much more multilateral in character, and that he will act swiftly to rebuild the Atlantic partnership which is so vital to security. \\\"Iraq will remain an issue of potential division for some time to come.\\\" Even before the result became clear, Mr Blair was being urged to push for action on climate change at his first meeting with whichever candidate won.\\n \\n Liberal Democrat environment spokesman Norman Baker underlined the issue of global warming during a Commons debate on Anglo-American relations on Wednesday. Environment Secretary Margaret Beckett has said the US will act on global warming despite George Bush's refusal to sign up to the Kyoto protocol on carbon emissions. Public opinion would force change, she told BBC news. But Myron Ebell, an adviser on climate change to President Bush, has said there would be no change in the US stance and rejected the threat of climate change. He claimed the US was the only country with independent scientists.\\n\",\n          \"China Aviation seeks rescue deal\\n \\n Scandal-hit jet fuel supplier China Aviation Oil has offered to repay its creditors $220m (\\u00c2\\u00a3117m) of the $550m it lost on trading in oil futures.\\n \\n The firm said it hoped to pay $100m now and another $120m over eight years. With assets of $200m and liabilities totalling $648m, it needs creditors' backing for the offer to avoid going into bankruptcy. The trading scandal is the biggest to hit Singapore since the $1.2bn collapse of Barings Bank in 1995. Chen Jiulin, chief executive of China Aviation Oil (CAO), was arrested by at Changi Airport by Singapore police on 8 December. He was returning from China, where he had headed when CAO announced its trading debacle in late-November. The firm had been betting heavily on a fall in the price of oil during October, but prices rose sharply instead.\\n \\n Among the creditors whose backing CAO needs for its restructuring plan are banking giants such as Barclay's Capital and Sumitomo Mitsui, as well as South Korean firm SK Energy. Of the immediate payment, the firm - China's biggest jet fuel supplier - said it would be paying $30m out of its own resources. The rest would come from its parent company, China Aviation Oil Holding Company in Beijing. The holding company, owned by the Chinese government, holds most of CAO's Singapore-listed shares. It cut its holding from 75% to 60% on 20 October.\\n\",\n          \"Yukos heading back to US courts\\n \\n Russian oil and gas company Yukos is due in a US court on Thursday as it continues to fight for its survival.\\n \\n The firm is in the process of being broken up by Russian authorities in order to pay a $27bn (\\u00c2\\u00a314bn) tax bill. Yukos filed for bankruptcy in the US, hoping to use international business law to halt the forced sale of its key oil production unit, Yuganskneftegas. The unit was however sold for $9.4bn to state oil firm Rosneft but only after the state auction had been disrupted.\\n \\n Yukos lawyers now say the auction violated US bankruptcy law. The company and its main shareholders have vowed to go after any company that buys its assets, using all and every legal means. The company wants damages of $20bn, claiming Yuganskneftegas was sold at less than market value. Judge Letitia Clark will hear different motions, including one from Deutsche Bank to throw out the Chapter 11 bankruptcy filing. The German lender is one of six banks that were barred from providing financing to Gazprom, the Russian state-owned company that was expected to win the auction for Yuganskneftegas. Deutsche Bank, which is also an advisor to Gazprom, has called on the US court to overturn its decision to provide Yukos with bankruptcy protection.\\n \\n Lifting the injunction would remove the uncertainty that surrounds the court case and clarify Deutsche Bank's business position, analysts said.\\n \\n Analysts are not optimistic about Yukos' chances in court. Russian President Vladimir Putin and the country's legal authorities have repeatedly said that the US has no jurisdiction over Yukos and its legal wranglings. On top of that, the firm only has limited assets in the US. Yukos has won small victories, however, and is bullish about its chances in court. \\\"Do we have an ability to influence what happens? We think we do,\\\" said Mike Lake, a Yukos spokesman. \\\"The litigation risks are real,\\\" said Credit Suisse First Boston analyst Vadim Mitroshin The dispute with the Russian authorities is partly driven by President Putin's clampdown on the political ambitions of ex-Yukos boss Mikhail Khodorkovsky. Mr Khodorkovsky is in jail on charges of fraud and tax evasion.\\n\"\n        ],\n        \"semantic_type\": \"\",\n        \"description\": \"\"\n      }\n    },\n    {\n      \"column\": \"Category\",\n      \"properties\": {\n        \"dtype\": \"category\",\n        \"num_unique_values\": 5,\n        \"samples\": [\n          \"Politics\",\n          \"Technology\",\n          \"Business\"\n        ],\n        \"semantic_type\": \"\",\n        \"description\": \"\"\n      }\n    }\n  ]\n}"
            }
          },
          "metadata": {},
          "execution_count": 52
        }
      ],
      "source": [
        "# dictionary of cluster label to category\n",
        "category_dict = {\n",
        "     0: 'Technology',\n",
        "     1: 'Sports',\n",
        "     2: 'Politics',\n",
        "     3: 'Entertainment',\n",
        "     4: 'Business'\n",
        "}\n",
        "\n",
        "# mapping cluster labels to categories\n",
        "clustered_data['Category'] = clustered_data['Category'].map(category_dict)\n",
        "\n",
        "clustered_data.head()"
      ]
    },
    {
      "cell_type": "markdown",
      "metadata": {
        "id": "3hm4-zm4j8vb"
      },
      "source": [
        "## **Comparing with Actual Categories**"
      ]
    },
    {
      "cell_type": "code",
      "execution_count": null,
      "metadata": {
        "id": "8FdsQ9OOGSZe"
      },
      "outputs": [],
      "source": [
        "# loading the actual labels\n",
        "labels = pd.read_csv(\"news_article_labels.csv\")"
      ]
    },
    {
      "cell_type": "code",
      "execution_count": null,
      "metadata": {
        "colab": {
          "base_uri": "https://localhost:8080/"
        },
        "id": "GMRasDc_y9G9",
        "outputId": "b0d0307c-82f7-491f-848d-647c3332ce26"
      },
      "outputs": [
        {
          "output_type": "execute_result",
          "data": {
            "text/plain": [
              "(2127, 1)"
            ]
          },
          "metadata": {},
          "execution_count": 54
        }
      ],
      "source": [
        "labels.shape"
      ]
    },
    {
      "cell_type": "code",
      "execution_count": null,
      "metadata": {
        "colab": {
          "base_uri": "https://localhost:8080/"
        },
        "id": "71GVALsl0CLO",
        "outputId": "7e45177f-811d-4bda-c0d3-1af5e113db7d"
      },
      "outputs": [
        {
          "output_type": "execute_result",
          "data": {
            "text/plain": [
              "array(['Politics', 'Sports', 'Technology', 'Entertainment', 'Business'],\n",
              "      dtype=object)"
            ]
          },
          "metadata": {},
          "execution_count": 55
        }
      ],
      "source": [
        "# checking the unique labels\n",
        "labels['Label'].unique()"
      ]
    },
    {
      "cell_type": "code",
      "execution_count": null,
      "metadata": {
        "id": "PKS4zyom5kaq"
      },
      "outputs": [],
      "source": [
        "# adding the actual categories to our dataframe\n",
        "clustered_data['Actual Category'] = labels['Label'].values"
      ]
    },
    {
      "cell_type": "code",
      "execution_count": null,
      "metadata": {
        "colab": {
          "base_uri": "https://localhost:8080/"
        },
        "id": "FmJOUJHy5qYr",
        "outputId": "9bc9b756-0f66-4084-d961-a36869e901b3"
      },
      "outputs": [
        {
          "output_type": "stream",
          "name": "stdout",
          "text": [
            "               precision    recall  f1-score   support\n",
            "\n",
            "     Business       0.05      0.04      0.04       503\n",
            "Entertainment       0.01      0.01      0.01       369\n",
            "     Politics       0.00      0.00      0.00       403\n",
            "       Sports       0.00      0.00      0.00       505\n",
            "   Technology       0.01      0.01      0.01       347\n",
            "\n",
            "     accuracy                           0.01      2127\n",
            "    macro avg       0.01      0.01      0.01      2127\n",
            " weighted avg       0.02      0.01      0.01      2127\n",
            "\n"
          ]
        }
      ],
      "source": [
        "print(classification_report(clustered_data['Actual Category'], clustered_data['Category']))"
      ]
    },
    {
      "cell_type": "markdown",
      "metadata": {
        "id": "_E7KBIF35JzS"
      },
      "source": [
        "We were able to categorize the news articles with 96% accuracy\n",
        "\n",
        "- Note that we were able to do so WITHOUT knowing the actual labels for the news articles."
      ]
    },
    {
      "cell_type": "markdown",
      "metadata": {
        "id": "xP5x5M5a6kg1"
      },
      "source": [
        "## **Analyzing Incorrect Predictions**"
      ]
    },
    {
      "cell_type": "markdown",
      "metadata": {
        "id": "YwGLhbn65Y6r"
      },
      "source": [
        "Let's check a few cases where our model incorrectly categorized the news articles."
      ]
    },
    {
      "cell_type": "code",
      "execution_count": null,
      "metadata": {
        "colab": {
          "base_uri": "https://localhost:8080/"
        },
        "id": "D6hxwjCX5gYL",
        "outputId": "8bf4f9e9-f2d6-4120-de62-f8f1ff9d7a46"
      },
      "outputs": [
        {
          "output_type": "execute_result",
          "data": {
            "text/plain": [
              "(2100, 3)"
            ]
          },
          "metadata": {},
          "execution_count": 58
        }
      ],
      "source": [
        "# creating a dataframe of incorrect categorizations\n",
        "incorrect_category_data = clustered_data[clustered_data['Actual Category'] != clustered_data['Category']].copy()\n",
        "incorrect_category_data.shape"
      ]
    },
    {
      "cell_type": "code",
      "execution_count": null,
      "metadata": {
        "colab": {
          "base_uri": "https://localhost:8080/",
          "height": 1000
        },
        "id": "wXDidNvI6KWY",
        "outputId": "b08909b7-7137-4109-a4a2-c782b365547b"
      },
      "outputs": [
        {
          "output_type": "execute_result",
          "data": {
            "text/plain": [
              "                                                                                                                                                                                                                                                                                                                                                                                                                                                                                                                                                                                                                                                                                                                                                                                                                                                                                                                                                                                                                                                                                                                                                                                                                                                                                                                                                                                                                                                                                                                                                                                                                                                                                                                                                                                                                                                                                                                                                                                                                                                                                                                                                                                                                                                                                                                                                                                                                                                                                                                                                                                                                                                                                                                                                                                                                                                                                                                                                                                                                                                                                                                                                                                                                                                                                                             Text  \\\n",
              "0                     Budget to set scene for election\\n \\n Gordon Brown will seek to put the economy at the centre of Labour's bid for a third term in power when he delivers his ninth Budget at 1230 GMT. He is expected to stress the importance of continued economic stability, with low unemployment and interest rates. The chancellor is expected to freeze petrol duty and raise the stamp duty threshold from Â£60,000. But the Conservatives and Lib Dems insist voters face higher taxes and more means-testing under Labour.\\n \\n Treasury officials have said there will not be a pre-election giveaway, but Mr Brown is thought to have about Â£2bn to spare.\\n \\n - Increase in the stamp duty threshold from Â£60,000 \\n  - A freeze on petrol duty \\n  - An extension of tax credit scheme for poorer families \\n  - Possible help for pensioners The stamp duty threshold rise is intended to help first time buyers - a likely theme of all three of the main parties' general election manifestos. Ten years ago, buyers had a much greater chance of avoiding stamp duty, with close to half a million properties, in England and Wales alone, selling for less than Â£60,000. Since then, average UK property prices have more than doubled while the starting threshold for stamp duty has not increased. Tax credits As a result, the number of properties incurring stamp duty has rocketed as has the government's tax take. The Liberal Democrats unveiled their own proposals to raise the stamp duty threshold to Â£150,000 in February.\\n \\n The Tories are also thought likely to propose increased thresholds, with shadow chancellor Oliver Letwin branding stamp duty a \"classic Labour stealth tax\". The Tories say whatever the chancellor gives away will be clawed back in higher taxes if Labour is returned to power. Shadow Treasury chief secretary George Osborne said: \"Everyone who looks at the British economy at the moment says there has been a sharp deterioration in the public finances, that there is a black hole,\" he said. \"If Labour is elected there will be a very substantial tax increase in the Budget after the election, of the order of around Â£10bn.\"\\n \\n But Mr Brown's former advisor Ed Balls, now a parliamentary hopeful, said an examination of Tory plans for the economy showed there would be a Â£35bn difference in investment by the end of the next parliament between the two main parties. He added: \"I don't accept there is any need for any changes to the plans we have set out to meet our spending commitments.\"\\n \\n For the Lib Dems David Laws said: \"The chancellor will no doubt tell us today how wonderfully the economy is doing,\" he said. \"But a lot of that is built on an increase in personal and consumer debt over the last few years - that makes the economy quite vulnerable potentially if interest rates ever do have to go up in a significant way.\" SNP leader Alex Salmond said his party would introduce a Â£2,000 grant for first time buyers, reduce corporation tax and introduce a citizens pension free from means testing. Plaid Cymru's economics spokesman Adam Price said he wanted help to get people on the housing ladder and an increase in the minimum wage to Â£5.60 an hour.\\n   \n",
              "1                                                                                                                                                     Army chiefs in regiments decision\\n \\n Military chiefs are expected to meet to make a final decision on the future of Scotland's Army regiments.\\n \\n A committee of the Army Board, which is made up of the most senior defence figures, will discuss plans for restructuring regiments on Monday. The proposals include cutting Scotland's six single-battalion regiments to five and merging these into a super regiment. The plans have faced stiff opposition from campaigners and politicians alike. The committee's decision must be ratified by Defence Secretary Geoff Hoon and Prime Minister Tony Blair. It is expected that it will be made public next week. When ministers announced a reorganisation of the Army it drew a question mark over the futures of the Black Watch, the Kings Own Scottish Borderers, the Royal Scots, the Royal Highland Fusiliers and the Argyll and Sutherland Highlanders. In October, the Council of Scottish Colonels proposed the merger of the Royal Scots and the King's Own Scottish Borderers into a single battalion.\\n \\n Under their vision, it would be one of five in the new super regiment. The proposals to either merge or amalgamate the six regiments into a super regiment sparked a political outcry, with Labour backbenchers and opposition politicians opposing the plan. They felt the timing was insensitive because the Black Watch was in the frontline in Iraq, suffering casualties. The Save the Scottish Regiments campaigners were so angered they threatened to stand against Labour at the next general election.\\n \\n Speaking ahead of the expected Army Board meeting, a spokesman said: \"The government and the Army Board have spent the past four months attempting to trick serving soldiers and the public into thinking their planned changes for the Scottish regiments are for the good of the Army and for that of the serving soldier. \"They are very much not for the good and will destroy Scotland's regiments by moulding them into a single super regiment which will lead to severe recruitment problems, a loss of local connections to those regiments and a loss to Scotland of an important part of her heritage and, most importantly, her future - the regiments are the envy of armies around the world.\" An alternative blueprint had been put forward by Labour MP Eric Joyce, who proposed going ahead with the merger while preserving the other regiments. For a brief time, there was speculation the prime minister might consider the plan, but that now seems unlikely. Speaking in Scotland last week, Mr Blair said the aim was to preserve tradition but introduce a more effective structure and hinted that a super regiment was likely. He said: \"They don't want to get rid of the history or the traditions of the regiment or the local connections - far from it, all they want to do is make sure they can transfer people easily across regiments and deploy them more flexibly.\" The prime minister said he hoped campaigners' concerns would be taken into account but the need for effective change had to be paramount.\\n   \n",
              "2  Howard denies split over ID cards\\n \\n Michael Howard has denied his shadow cabinet was split over its decision to back controversial Labour plans to introduce ID cards.\\n \\n The Tory leader said his front bench team had reached a \"collective view\" after holding a \"good discussion\", but admitted it was \"not an easy issue\". He had decided to support the plans as the police said they would help fight terror, crime and illegal immigration. The Lib Dems have pledged to oppose the bill when it is debated next Monday.\\n \\n Tory sources say senior party figures had argued vociferously against the ID card scheme. Among those reported to have serious reservations over the strategy were senior shadow cabinet members David Davis, Oliver Letwin and Tim Yeo. But Mr Howard denied Mr Yeo, his transport and environment spokesman, said the plans \"stink\". He also said he was confident shadow home secretary Mr Davis would \"set out the position very clearly\" when he stands up to debate the matter next week. Mr Howard said the police had said ID cards could \"help them foil a terror bomb plot in which people could lose their lives\". He added: \"When the police say that you have to take them seriously\".\\n \\n He acknowledged there were \"good libertarian arguments\" against the cards, but said the shadow Cabinet had weighed up all the \"conflicting interests\" before reaching its decision. \"I don't pretend that it is an easy decision but at the end of the day a decision has to be taken.\" He also denied he was afraid of looking \"soft\" on the issue, compared to Labour. The Conservatives announced their support for the government plans on Monday evening.\\n \\n Sources within the party told the BBC Mr Howard had always been in favour of ID cards, and tried to introduce them when he was Home Secretary. But the Tories insisted they would hold ministers to account over the precise purpose of the scheme.\\n \\n They said they would also press Labour over whether objectives could be met and whether the Home Office would be able to deliver them. And they pledged to assess the cost effectiveness of ID cards and whether people's privacy would be properly protected. \"It is important to remember that this bill will take a decade to come into full effect,\" a spokesman said. Lib Dem home affairs spokesman Mark Oaten has branded the ID scheme a waste of money and \"deeply flawed\". He said: \"This has all the signs of Michael Howard overruling colleagues' concerns over ID cards.\"\\n \\n The chairman of the Bar Council, Guy Mansfield QC warned there was a real risk that people on the \"margins of society\" would be driven into the hands of extremists. \"What is going to happen to young Asian men when there has been a bomb gone off somewhere? They are going to be stopped. If they haven't [ID cards] they are going to be detained.\" Tory ex-minister Douglas Hogg said he opposed the plans for ID cards branding them a \"regressive\" step which would intrude into the lives of ordinary citizens without any counterbalancing benefits. He predicted ultimately carrying the cards would become compulsory and that would lead to large numbers of Britain's ethnic minorities being stopped by police.\\n   \n",
              "3                                                                             Observers to monitor UK election\\n \\n Ministers will invite international observers to check the forthcoming UK general election is fairly run.\\n \\n The move comes amid claims the poll could be marred by electoral fraud. A report by two MPs committees called on Thursday for urgent changes to the electoral registration system to combat vote rigging and boost turnout. But in a written response to Labour MP Gordon Prentice, the government said it would normally invite observers to any UK election.\\n \\n Junior constitutional affairs minister Christopher Leslie said: \"I fully expect us to repeat our previous practice of doing so once the date for the next general election is announced.\" The government has looked at ways of boosting voter turnout, which fell to 59% in the last general election in 2001.\\n \\n But trial all-postal ballots in four English regions last summer were hit by delays and some fraud allegations. Liberal Democrat peer Lord Greaves called last week for international observers at the general election - saying otherwise there could be months of court challenges \"on a scale not seen since the 19th Century\". Thursday's report was drawn up by two committees scrutinising the work of the Office of the Deputy Prime Minister (ODPM) and the Department for Constitutional Affairs (DCA). It said that, with the growth of postal voting, there was a strong case to tighten up fraud protection by requiring voters to register individually, rather than by household. It also said about three million people eligible to vote are not registered to do so.\\n \\n Figures for the 2001 general election suggest 29% of people aged between 18 and 24, and 19% of black voters were not on the electoral roll. Young people in shared accommodation are thought to miss out because no one acts as head of the household to fill in the form. ODPM committee chairman Andrew Bennett said individual voter registration, as opposed to registration by household, should be quickly introduced as it could \"dramatically reduce the chances of fraud\". But his counterpart on the DCA committee, Alan Beith, said it should be delayed \"until measures likely to increase registration have been put in place and proved effective.\" Shadow Constitutional Affairs Secretary Oliver Heald accused the government of \"dragging its feet\" over \"this badly needed measure\". \"It is vital that we move ahead with the Northern Ireland system of individual electoral registration to safeguard the integrity of the Britain's electoral system,\" he said.\\n \\n The report said individual registration should be treated carefully as 12% of voters disappeared from the electoral roll in Northern Ireland when it was introduced in 2002. The report said the government should consider fines for unregistered voters, but accepted many experts said it would be an expensive system that would be hard to enforce. It said incentives to register, such as Â£20 council tax rebate, were likely to be seen as \"gimmicks\" and risked undermining the integrity of the system, MPs said. Instead they called for \"imaginative campaigns\" to boost interest.\\n   \n",
              "4                                                                                                                                                                                                                                                                                                                                                                                                                                                                                                                                                                               Kilroy names election seat target\\n \\n Ex-chat show host Robert Kilroy-Silk is to contest the Derbyshire seat of Erewash at the next general election.\\n \\n Labour's Elizabeth Blackman won the seat in 1997 and has a 6,932 majority. She says she will fight on her record \"as a hard-working constituency MP\". Mr Kilroy-Silk announced his plans a day after launching his new party, Veritas, the Latin for truth. The East Midlands MEP, who quit the UK Independence Party, wants his new group to \"change the face\" of UK politics. His choice of election constituency quashes speculation that he would stand against Defence Secretary Geoff Hoon in Ashfield, Nottinghamshire. UKIP won 31% of the vote in Erewash in last June's European elections - with Mr Kilroy-Silk among their candidates for the region. Until 1997, Erewash had been held by the Tories since 1970. Ms Blackman said she was proud of the government's achievements in the area. She declined to give her view of Mr Kilroy-Silk at this point.\\n \\n On Thursday, he told a London news conference that Veritas would avoid the old parties' \"lies and spin\". He said \"our country\" was being \"stolen from us\" by mass immigration and promised a \"firm but fair\" policy on immigration. Veritas says it hopes to contest most seats at the forthcoming general election but plans to announce detailed policies on crime, tax, pensions, health and defence over the next few weeks.\\n \\n UKIP leader Roger Knapman says he is glad to see the back of Mr Kilroy-Silk. Labour campaign spokesman Fraser Kemp said Veritas was joining \"an already crowded field on the right of British politics\". Mr Kilroy-Silk was joined in the new venture by one of UKIP's two London Assembly members, Damien Hockney, who is now Veritas' deputy leader.\\n \\n UKIP's chairman Petrina Holdsworth has said the group will just be a parody of the party the men have left. Mr Kilroy-Silk quit UKIP last week after months of tension as he vied unsuccessfully for the leadership of that party. He said he was ashamed to be a member of a UKIP whose leadership had \"gone AWOL\" after the great opportunity offered by its third place at last June's European elections. UKIP's leader, Roger Knapman, has said he is glad to see the back of Mr Kilroy-Silk. \"He has remarkable ability to influence people but, sadly, after the [European] election it became clear that he was more interested in the Robert Kilroy-Silk Party than the UK Independence Party so it was nice knowing him, now 'goodbye',\" he said. UKIP officials also argue Mr Kilroy-Silk has not been \"straightforward\" in attacking the party he once wanted to lead.\\n   \n",
              "\n",
              "  Category Actual Category  \n",
              "0   Sports        Politics  \n",
              "1   Sports        Politics  \n",
              "2   Sports        Politics  \n",
              "3   Sports        Politics  \n",
              "4   Sports        Politics  "
            ],
            "text/html": [
              "\n",
              "  <div id=\"df-d3ae505e-b7ef-4439-9d70-324048a5af96\" class=\"colab-df-container\">\n",
              "    <div>\n",
              "<style scoped>\n",
              "    .dataframe tbody tr th:only-of-type {\n",
              "        vertical-align: middle;\n",
              "    }\n",
              "\n",
              "    .dataframe tbody tr th {\n",
              "        vertical-align: top;\n",
              "    }\n",
              "\n",
              "    .dataframe thead th {\n",
              "        text-align: right;\n",
              "    }\n",
              "</style>\n",
              "<table border=\"1\" class=\"dataframe\">\n",
              "  <thead>\n",
              "    <tr style=\"text-align: right;\">\n",
              "      <th></th>\n",
              "      <th>Text</th>\n",
              "      <th>Category</th>\n",
              "      <th>Actual Category</th>\n",
              "    </tr>\n",
              "  </thead>\n",
              "  <tbody>\n",
              "    <tr>\n",
              "      <th>0</th>\n",
              "      <td>Budget to set scene for election\\n \\n Gordon Brown will seek to put the economy at the centre of Labour's bid for a third term in power when he delivers his ninth Budget at 1230 GMT. He is expected to stress the importance of continued economic stability, with low unemployment and interest rates. The chancellor is expected to freeze petrol duty and raise the stamp duty threshold from Â£60,000. But the Conservatives and Lib Dems insist voters face higher taxes and more means-testing under Labour.\\n \\n Treasury officials have said there will not be a pre-election giveaway, but Mr Brown is thought to have about Â£2bn to spare.\\n \\n - Increase in the stamp duty threshold from Â£60,000 \\n  - A freeze on petrol duty \\n  - An extension of tax credit scheme for poorer families \\n  - Possible help for pensioners The stamp duty threshold rise is intended to help first time buyers - a likely theme of all three of the main parties' general election manifestos. Ten years ago, buyers had a much greater chance of avoiding stamp duty, with close to half a million properties, in England and Wales alone, selling for less than Â£60,000. Since then, average UK property prices have more than doubled while the starting threshold for stamp duty has not increased. Tax credits As a result, the number of properties incurring stamp duty has rocketed as has the government's tax take. The Liberal Democrats unveiled their own proposals to raise the stamp duty threshold to Â£150,000 in February.\\n \\n The Tories are also thought likely to propose increased thresholds, with shadow chancellor Oliver Letwin branding stamp duty a \"classic Labour stealth tax\". The Tories say whatever the chancellor gives away will be clawed back in higher taxes if Labour is returned to power. Shadow Treasury chief secretary George Osborne said: \"Everyone who looks at the British economy at the moment says there has been a sharp deterioration in the public finances, that there is a black hole,\" he said. \"If Labour is elected there will be a very substantial tax increase in the Budget after the election, of the order of around Â£10bn.\"\\n \\n But Mr Brown's former advisor Ed Balls, now a parliamentary hopeful, said an examination of Tory plans for the economy showed there would be a Â£35bn difference in investment by the end of the next parliament between the two main parties. He added: \"I don't accept there is any need for any changes to the plans we have set out to meet our spending commitments.\"\\n \\n For the Lib Dems David Laws said: \"The chancellor will no doubt tell us today how wonderfully the economy is doing,\" he said. \"But a lot of that is built on an increase in personal and consumer debt over the last few years - that makes the economy quite vulnerable potentially if interest rates ever do have to go up in a significant way.\" SNP leader Alex Salmond said his party would introduce a Â£2,000 grant for first time buyers, reduce corporation tax and introduce a citizens pension free from means testing. Plaid Cymru's economics spokesman Adam Price said he wanted help to get people on the housing ladder and an increase in the minimum wage to Â£5.60 an hour.\\n</td>\n",
              "      <td>Sports</td>\n",
              "      <td>Politics</td>\n",
              "    </tr>\n",
              "    <tr>\n",
              "      <th>1</th>\n",
              "      <td>Army chiefs in regiments decision\\n \\n Military chiefs are expected to meet to make a final decision on the future of Scotland's Army regiments.\\n \\n A committee of the Army Board, which is made up of the most senior defence figures, will discuss plans for restructuring regiments on Monday. The proposals include cutting Scotland's six single-battalion regiments to five and merging these into a super regiment. The plans have faced stiff opposition from campaigners and politicians alike. The committee's decision must be ratified by Defence Secretary Geoff Hoon and Prime Minister Tony Blair. It is expected that it will be made public next week. When ministers announced a reorganisation of the Army it drew a question mark over the futures of the Black Watch, the Kings Own Scottish Borderers, the Royal Scots, the Royal Highland Fusiliers and the Argyll and Sutherland Highlanders. In October, the Council of Scottish Colonels proposed the merger of the Royal Scots and the King's Own Scottish Borderers into a single battalion.\\n \\n Under their vision, it would be one of five in the new super regiment. The proposals to either merge or amalgamate the six regiments into a super regiment sparked a political outcry, with Labour backbenchers and opposition politicians opposing the plan. They felt the timing was insensitive because the Black Watch was in the frontline in Iraq, suffering casualties. The Save the Scottish Regiments campaigners were so angered they threatened to stand against Labour at the next general election.\\n \\n Speaking ahead of the expected Army Board meeting, a spokesman said: \"The government and the Army Board have spent the past four months attempting to trick serving soldiers and the public into thinking their planned changes for the Scottish regiments are for the good of the Army and for that of the serving soldier. \"They are very much not for the good and will destroy Scotland's regiments by moulding them into a single super regiment which will lead to severe recruitment problems, a loss of local connections to those regiments and a loss to Scotland of an important part of her heritage and, most importantly, her future - the regiments are the envy of armies around the world.\" An alternative blueprint had been put forward by Labour MP Eric Joyce, who proposed going ahead with the merger while preserving the other regiments. For a brief time, there was speculation the prime minister might consider the plan, but that now seems unlikely. Speaking in Scotland last week, Mr Blair said the aim was to preserve tradition but introduce a more effective structure and hinted that a super regiment was likely. He said: \"They don't want to get rid of the history or the traditions of the regiment or the local connections - far from it, all they want to do is make sure they can transfer people easily across regiments and deploy them more flexibly.\" The prime minister said he hoped campaigners' concerns would be taken into account but the need for effective change had to be paramount.\\n</td>\n",
              "      <td>Sports</td>\n",
              "      <td>Politics</td>\n",
              "    </tr>\n",
              "    <tr>\n",
              "      <th>2</th>\n",
              "      <td>Howard denies split over ID cards\\n \\n Michael Howard has denied his shadow cabinet was split over its decision to back controversial Labour plans to introduce ID cards.\\n \\n The Tory leader said his front bench team had reached a \"collective view\" after holding a \"good discussion\", but admitted it was \"not an easy issue\". He had decided to support the plans as the police said they would help fight terror, crime and illegal immigration. The Lib Dems have pledged to oppose the bill when it is debated next Monday.\\n \\n Tory sources say senior party figures had argued vociferously against the ID card scheme. Among those reported to have serious reservations over the strategy were senior shadow cabinet members David Davis, Oliver Letwin and Tim Yeo. But Mr Howard denied Mr Yeo, his transport and environment spokesman, said the plans \"stink\". He also said he was confident shadow home secretary Mr Davis would \"set out the position very clearly\" when he stands up to debate the matter next week. Mr Howard said the police had said ID cards could \"help them foil a terror bomb plot in which people could lose their lives\". He added: \"When the police say that you have to take them seriously\".\\n \\n He acknowledged there were \"good libertarian arguments\" against the cards, but said the shadow Cabinet had weighed up all the \"conflicting interests\" before reaching its decision. \"I don't pretend that it is an easy decision but at the end of the day a decision has to be taken.\" He also denied he was afraid of looking \"soft\" on the issue, compared to Labour. The Conservatives announced their support for the government plans on Monday evening.\\n \\n Sources within the party told the BBC Mr Howard had always been in favour of ID cards, and tried to introduce them when he was Home Secretary. But the Tories insisted they would hold ministers to account over the precise purpose of the scheme.\\n \\n They said they would also press Labour over whether objectives could be met and whether the Home Office would be able to deliver them. And they pledged to assess the cost effectiveness of ID cards and whether people's privacy would be properly protected. \"It is important to remember that this bill will take a decade to come into full effect,\" a spokesman said. Lib Dem home affairs spokesman Mark Oaten has branded the ID scheme a waste of money and \"deeply flawed\". He said: \"This has all the signs of Michael Howard overruling colleagues' concerns over ID cards.\"\\n \\n The chairman of the Bar Council, Guy Mansfield QC warned there was a real risk that people on the \"margins of society\" would be driven into the hands of extremists. \"What is going to happen to young Asian men when there has been a bomb gone off somewhere? They are going to be stopped. If they haven't [ID cards] they are going to be detained.\" Tory ex-minister Douglas Hogg said he opposed the plans for ID cards branding them a \"regressive\" step which would intrude into the lives of ordinary citizens without any counterbalancing benefits. He predicted ultimately carrying the cards would become compulsory and that would lead to large numbers of Britain's ethnic minorities being stopped by police.\\n</td>\n",
              "      <td>Sports</td>\n",
              "      <td>Politics</td>\n",
              "    </tr>\n",
              "    <tr>\n",
              "      <th>3</th>\n",
              "      <td>Observers to monitor UK election\\n \\n Ministers will invite international observers to check the forthcoming UK general election is fairly run.\\n \\n The move comes amid claims the poll could be marred by electoral fraud. A report by two MPs committees called on Thursday for urgent changes to the electoral registration system to combat vote rigging and boost turnout. But in a written response to Labour MP Gordon Prentice, the government said it would normally invite observers to any UK election.\\n \\n Junior constitutional affairs minister Christopher Leslie said: \"I fully expect us to repeat our previous practice of doing so once the date for the next general election is announced.\" The government has looked at ways of boosting voter turnout, which fell to 59% in the last general election in 2001.\\n \\n But trial all-postal ballots in four English regions last summer were hit by delays and some fraud allegations. Liberal Democrat peer Lord Greaves called last week for international observers at the general election - saying otherwise there could be months of court challenges \"on a scale not seen since the 19th Century\". Thursday's report was drawn up by two committees scrutinising the work of the Office of the Deputy Prime Minister (ODPM) and the Department for Constitutional Affairs (DCA). It said that, with the growth of postal voting, there was a strong case to tighten up fraud protection by requiring voters to register individually, rather than by household. It also said about three million people eligible to vote are not registered to do so.\\n \\n Figures for the 2001 general election suggest 29% of people aged between 18 and 24, and 19% of black voters were not on the electoral roll. Young people in shared accommodation are thought to miss out because no one acts as head of the household to fill in the form. ODPM committee chairman Andrew Bennett said individual voter registration, as opposed to registration by household, should be quickly introduced as it could \"dramatically reduce the chances of fraud\". But his counterpart on the DCA committee, Alan Beith, said it should be delayed \"until measures likely to increase registration have been put in place and proved effective.\" Shadow Constitutional Affairs Secretary Oliver Heald accused the government of \"dragging its feet\" over \"this badly needed measure\". \"It is vital that we move ahead with the Northern Ireland system of individual electoral registration to safeguard the integrity of the Britain's electoral system,\" he said.\\n \\n The report said individual registration should be treated carefully as 12% of voters disappeared from the electoral roll in Northern Ireland when it was introduced in 2002. The report said the government should consider fines for unregistered voters, but accepted many experts said it would be an expensive system that would be hard to enforce. It said incentives to register, such as Â£20 council tax rebate, were likely to be seen as \"gimmicks\" and risked undermining the integrity of the system, MPs said. Instead they called for \"imaginative campaigns\" to boost interest.\\n</td>\n",
              "      <td>Sports</td>\n",
              "      <td>Politics</td>\n",
              "    </tr>\n",
              "    <tr>\n",
              "      <th>4</th>\n",
              "      <td>Kilroy names election seat target\\n \\n Ex-chat show host Robert Kilroy-Silk is to contest the Derbyshire seat of Erewash at the next general election.\\n \\n Labour's Elizabeth Blackman won the seat in 1997 and has a 6,932 majority. She says she will fight on her record \"as a hard-working constituency MP\". Mr Kilroy-Silk announced his plans a day after launching his new party, Veritas, the Latin for truth. The East Midlands MEP, who quit the UK Independence Party, wants his new group to \"change the face\" of UK politics. His choice of election constituency quashes speculation that he would stand against Defence Secretary Geoff Hoon in Ashfield, Nottinghamshire. UKIP won 31% of the vote in Erewash in last June's European elections - with Mr Kilroy-Silk among their candidates for the region. Until 1997, Erewash had been held by the Tories since 1970. Ms Blackman said she was proud of the government's achievements in the area. She declined to give her view of Mr Kilroy-Silk at this point.\\n \\n On Thursday, he told a London news conference that Veritas would avoid the old parties' \"lies and spin\". He said \"our country\" was being \"stolen from us\" by mass immigration and promised a \"firm but fair\" policy on immigration. Veritas says it hopes to contest most seats at the forthcoming general election but plans to announce detailed policies on crime, tax, pensions, health and defence over the next few weeks.\\n \\n UKIP leader Roger Knapman says he is glad to see the back of Mr Kilroy-Silk. Labour campaign spokesman Fraser Kemp said Veritas was joining \"an already crowded field on the right of British politics\". Mr Kilroy-Silk was joined in the new venture by one of UKIP's two London Assembly members, Damien Hockney, who is now Veritas' deputy leader.\\n \\n UKIP's chairman Petrina Holdsworth has said the group will just be a parody of the party the men have left. Mr Kilroy-Silk quit UKIP last week after months of tension as he vied unsuccessfully for the leadership of that party. He said he was ashamed to be a member of a UKIP whose leadership had \"gone AWOL\" after the great opportunity offered by its third place at last June's European elections. UKIP's leader, Roger Knapman, has said he is glad to see the back of Mr Kilroy-Silk. \"He has remarkable ability to influence people but, sadly, after the [European] election it became clear that he was more interested in the Robert Kilroy-Silk Party than the UK Independence Party so it was nice knowing him, now 'goodbye',\" he said. UKIP officials also argue Mr Kilroy-Silk has not been \"straightforward\" in attacking the party he once wanted to lead.\\n</td>\n",
              "      <td>Sports</td>\n",
              "      <td>Politics</td>\n",
              "    </tr>\n",
              "  </tbody>\n",
              "</table>\n",
              "</div>\n",
              "    <div class=\"colab-df-buttons\">\n",
              "\n",
              "  <div class=\"colab-df-container\">\n",
              "    <button class=\"colab-df-convert\" onclick=\"convertToInteractive('df-d3ae505e-b7ef-4439-9d70-324048a5af96')\"\n",
              "            title=\"Convert this dataframe to an interactive table.\"\n",
              "            style=\"display:none;\">\n",
              "\n",
              "  <svg xmlns=\"http://www.w3.org/2000/svg\" height=\"24px\" viewBox=\"0 -960 960 960\">\n",
              "    <path d=\"M120-120v-720h720v720H120Zm60-500h600v-160H180v160Zm220 220h160v-160H400v160Zm0 220h160v-160H400v160ZM180-400h160v-160H180v160Zm440 0h160v-160H620v160ZM180-180h160v-160H180v160Zm440 0h160v-160H620v160Z\"/>\n",
              "  </svg>\n",
              "    </button>\n",
              "\n",
              "  <style>\n",
              "    .colab-df-container {\n",
              "      display:flex;\n",
              "      gap: 12px;\n",
              "    }\n",
              "\n",
              "    .colab-df-convert {\n",
              "      background-color: #E8F0FE;\n",
              "      border: none;\n",
              "      border-radius: 50%;\n",
              "      cursor: pointer;\n",
              "      display: none;\n",
              "      fill: #1967D2;\n",
              "      height: 32px;\n",
              "      padding: 0 0 0 0;\n",
              "      width: 32px;\n",
              "    }\n",
              "\n",
              "    .colab-df-convert:hover {\n",
              "      background-color: #E2EBFA;\n",
              "      box-shadow: 0px 1px 2px rgba(60, 64, 67, 0.3), 0px 1px 3px 1px rgba(60, 64, 67, 0.15);\n",
              "      fill: #174EA6;\n",
              "    }\n",
              "\n",
              "    .colab-df-buttons div {\n",
              "      margin-bottom: 4px;\n",
              "    }\n",
              "\n",
              "    [theme=dark] .colab-df-convert {\n",
              "      background-color: #3B4455;\n",
              "      fill: #D2E3FC;\n",
              "    }\n",
              "\n",
              "    [theme=dark] .colab-df-convert:hover {\n",
              "      background-color: #434B5C;\n",
              "      box-shadow: 0px 1px 3px 1px rgba(0, 0, 0, 0.15);\n",
              "      filter: drop-shadow(0px 1px 2px rgba(0, 0, 0, 0.3));\n",
              "      fill: #FFFFFF;\n",
              "    }\n",
              "  </style>\n",
              "\n",
              "    <script>\n",
              "      const buttonEl =\n",
              "        document.querySelector('#df-d3ae505e-b7ef-4439-9d70-324048a5af96 button.colab-df-convert');\n",
              "      buttonEl.style.display =\n",
              "        google.colab.kernel.accessAllowed ? 'block' : 'none';\n",
              "\n",
              "      async function convertToInteractive(key) {\n",
              "        const element = document.querySelector('#df-d3ae505e-b7ef-4439-9d70-324048a5af96');\n",
              "        const dataTable =\n",
              "          await google.colab.kernel.invokeFunction('convertToInteractive',\n",
              "                                                    [key], {});\n",
              "        if (!dataTable) return;\n",
              "\n",
              "        const docLinkHtml = 'Like what you see? Visit the ' +\n",
              "          '<a target=\"_blank\" href=https://colab.research.google.com/notebooks/data_table.ipynb>data table notebook</a>'\n",
              "          + ' to learn more about interactive tables.';\n",
              "        element.innerHTML = '';\n",
              "        dataTable['output_type'] = 'display_data';\n",
              "        await google.colab.output.renderOutput(dataTable, element);\n",
              "        const docLink = document.createElement('div');\n",
              "        docLink.innerHTML = docLinkHtml;\n",
              "        element.appendChild(docLink);\n",
              "      }\n",
              "    </script>\n",
              "  </div>\n",
              "\n",
              "\n",
              "    <div id=\"df-3f07495f-f7cd-43cc-89a7-112219860293\">\n",
              "      <button class=\"colab-df-quickchart\" onclick=\"quickchart('df-3f07495f-f7cd-43cc-89a7-112219860293')\"\n",
              "                title=\"Suggest charts\"\n",
              "                style=\"display:none;\">\n",
              "\n",
              "<svg xmlns=\"http://www.w3.org/2000/svg\" height=\"24px\"viewBox=\"0 0 24 24\"\n",
              "     width=\"24px\">\n",
              "    <g>\n",
              "        <path d=\"M19 3H5c-1.1 0-2 .9-2 2v14c0 1.1.9 2 2 2h14c1.1 0 2-.9 2-2V5c0-1.1-.9-2-2-2zM9 17H7v-7h2v7zm4 0h-2V7h2v10zm4 0h-2v-4h2v4z\"/>\n",
              "    </g>\n",
              "</svg>\n",
              "      </button>\n",
              "\n",
              "<style>\n",
              "  .colab-df-quickchart {\n",
              "      --bg-color: #E8F0FE;\n",
              "      --fill-color: #1967D2;\n",
              "      --hover-bg-color: #E2EBFA;\n",
              "      --hover-fill-color: #174EA6;\n",
              "      --disabled-fill-color: #AAA;\n",
              "      --disabled-bg-color: #DDD;\n",
              "  }\n",
              "\n",
              "  [theme=dark] .colab-df-quickchart {\n",
              "      --bg-color: #3B4455;\n",
              "      --fill-color: #D2E3FC;\n",
              "      --hover-bg-color: #434B5C;\n",
              "      --hover-fill-color: #FFFFFF;\n",
              "      --disabled-bg-color: #3B4455;\n",
              "      --disabled-fill-color: #666;\n",
              "  }\n",
              "\n",
              "  .colab-df-quickchart {\n",
              "    background-color: var(--bg-color);\n",
              "    border: none;\n",
              "    border-radius: 50%;\n",
              "    cursor: pointer;\n",
              "    display: none;\n",
              "    fill: var(--fill-color);\n",
              "    height: 32px;\n",
              "    padding: 0;\n",
              "    width: 32px;\n",
              "  }\n",
              "\n",
              "  .colab-df-quickchart:hover {\n",
              "    background-color: var(--hover-bg-color);\n",
              "    box-shadow: 0 1px 2px rgba(60, 64, 67, 0.3), 0 1px 3px 1px rgba(60, 64, 67, 0.15);\n",
              "    fill: var(--button-hover-fill-color);\n",
              "  }\n",
              "\n",
              "  .colab-df-quickchart-complete:disabled,\n",
              "  .colab-df-quickchart-complete:disabled:hover {\n",
              "    background-color: var(--disabled-bg-color);\n",
              "    fill: var(--disabled-fill-color);\n",
              "    box-shadow: none;\n",
              "  }\n",
              "\n",
              "  .colab-df-spinner {\n",
              "    border: 2px solid var(--fill-color);\n",
              "    border-color: transparent;\n",
              "    border-bottom-color: var(--fill-color);\n",
              "    animation:\n",
              "      spin 1s steps(1) infinite;\n",
              "  }\n",
              "\n",
              "  @keyframes spin {\n",
              "    0% {\n",
              "      border-color: transparent;\n",
              "      border-bottom-color: var(--fill-color);\n",
              "      border-left-color: var(--fill-color);\n",
              "    }\n",
              "    20% {\n",
              "      border-color: transparent;\n",
              "      border-left-color: var(--fill-color);\n",
              "      border-top-color: var(--fill-color);\n",
              "    }\n",
              "    30% {\n",
              "      border-color: transparent;\n",
              "      border-left-color: var(--fill-color);\n",
              "      border-top-color: var(--fill-color);\n",
              "      border-right-color: var(--fill-color);\n",
              "    }\n",
              "    40% {\n",
              "      border-color: transparent;\n",
              "      border-right-color: var(--fill-color);\n",
              "      border-top-color: var(--fill-color);\n",
              "    }\n",
              "    60% {\n",
              "      border-color: transparent;\n",
              "      border-right-color: var(--fill-color);\n",
              "    }\n",
              "    80% {\n",
              "      border-color: transparent;\n",
              "      border-right-color: var(--fill-color);\n",
              "      border-bottom-color: var(--fill-color);\n",
              "    }\n",
              "    90% {\n",
              "      border-color: transparent;\n",
              "      border-bottom-color: var(--fill-color);\n",
              "    }\n",
              "  }\n",
              "</style>\n",
              "\n",
              "      <script>\n",
              "        async function quickchart(key) {\n",
              "          const quickchartButtonEl =\n",
              "            document.querySelector('#' + key + ' button');\n",
              "          quickchartButtonEl.disabled = true;  // To prevent multiple clicks.\n",
              "          quickchartButtonEl.classList.add('colab-df-spinner');\n",
              "          try {\n",
              "            const charts = await google.colab.kernel.invokeFunction(\n",
              "                'suggestCharts', [key], {});\n",
              "          } catch (error) {\n",
              "            console.error('Error during call to suggestCharts:', error);\n",
              "          }\n",
              "          quickchartButtonEl.classList.remove('colab-df-spinner');\n",
              "          quickchartButtonEl.classList.add('colab-df-quickchart-complete');\n",
              "        }\n",
              "        (() => {\n",
              "          let quickchartButtonEl =\n",
              "            document.querySelector('#df-3f07495f-f7cd-43cc-89a7-112219860293 button');\n",
              "          quickchartButtonEl.style.display =\n",
              "            google.colab.kernel.accessAllowed ? 'block' : 'none';\n",
              "        })();\n",
              "      </script>\n",
              "    </div>\n",
              "\n",
              "    </div>\n",
              "  </div>\n"
            ],
            "application/vnd.google.colaboratory.intrinsic+json": {
              "type": "dataframe",
              "variable_name": "incorrect_category_data",
              "summary": "{\n  \"name\": \"incorrect_category_data\",\n  \"rows\": 2100,\n  \"fields\": [\n    {\n      \"column\": \"Text\",\n      \"properties\": {\n        \"dtype\": \"string\",\n        \"num_unique_values\": 2100,\n        \"samples\": [\n          \"Man auctions ad space on forehead\\n \\n A 20-year-old US man is selling advertising space on his forehead to the highest bidder on website eBay.\\n \\n Andrew Fisher, from Omaha, Nebraska, said he would have a non-permanent logo or brand name tattooed on his head for 30 days. \\\"The way I see it I'm selling something I already own; after 30 days I get it back,\\\" he told the BBC Today programme. Mr Fisher has received 39 bids so far, with the largest bid currently at more than $322 (\\u00c2\\u00a3171). \\\"The winner will be able to send me a tattoo or have me go to a tattoo parlour and get a temporary ink tattoo on my forehead and this will be something they choose, a company name or domain name, perhaps their logo,\\\" he told the Radio 4 programme.\\n \\n On the online auction, Mr Fisher describes himself as an \\\"average American Joe, give or take\\\". His sales pitch adds: \\\"Take advantage of this radical advertising campaign and become a part of history.\\\" Mr Fisher said that while he would accept any brand name or logo, \\\"I wouldn't go around with a swastika or anything racial\\\". He added: \\\"I wouldn't go around with 666, the mark of the beast. \\\"Other than that I wouldn't promote anything socially unacceptable such as adult websites or stores.\\\" He said he would use the money to pay college - he is planning to study graphic design. The entrepreneur said his mother was initially surprised by his decision but following all the media attention she felt he was \\\"thinking outside the box\\\".\\n\",\n          \"Broadband soars in 2004\\n \\n If broadband were a jumbo jet, then 2003 would have seen it taxiing down the runway, firing up its engines and preparing for take-off. But this year has seen it soar.\\n \\n In the spring it literally took to the skies as Lufthansa and British Airways trialled it on flights. This perhaps said more about how indispensable people were beginning to perceive the technology, rather than how useful sky-high broadband would actually be. It was flying high and by the autumn, five million Britons had signed up for high-speed net access at home.\\n \\n Such enthusiasm is unlikely to dampen any time soon and experts predict that by the end of next year the numbers will have risen to more than eight million, or more than 30% of homes. The two key factors in whetting people's appetite were falling prices and a huge marketing push. When operators such as BT and Telewest offered standard 512K broadband for less than \\u00c2\\u00a320 at the beginning of the year, it was as if an invisible barrier had been breached - broadband had truly gone mass market. A feeding frenzy followed as firms vied for eyeballs in a price war reminiscent of that following the mass market take-up of dial-up. Broadband for less than \\u00c2\\u00a310 was even touted by some firms, although such a low price raised eyebrows among more established companies questioning how they are able to sustain such business models.\\n \\n For those who became broadbanders in 2004 there was no turning back and the days of waiting for the modem to kick in began to seem as outdated an idea as a jungle without celebrities. The rest of the world was also falling in love with the benefits of fast internet access, to the tune of 100 million connections worldwide by April, prompting research firm Point Topic to declare it one of the fastest growing technologies ever. By September, the number of broadband connections in the UK finally overtook dial-up and in December BT announced that it was making a new broadband connection every 10 seconds.\\n \\n Broadband was being mentioned on the 10 O'clock News and in the tabloids; the Sun even carried a cartoon joke about it. But two of the most significant pieces of news for broadband were items that did not make the headlines. In May, BT quietly announced that it was shaving 70% off the cost of allowing other operators access to its telephone exchanges, so-called local loop unbundling. The vital local loop is the crucial link between telephone exchanges and homes. At the moment BT has a stranglehold on more than 80% of these lines making it the key voice in deciding what ADSL products get into homes. With cheaper local loop unbundling, rivals to BT can offer faster services that will leave the broadband of today looking positively tortoise-like. It will mean the UK will finally catch up with countries such as France and the Netherlands, where homes are routinely enjoying speeds of up to 15Mb (megabits per second). And the major price fall means that, rather than just talk about it, companies are actually starting to get their own equipment into BT's exchanges. It may not seem that exciting but it is a remarkable transition given that just a few years ago the arguments over local loop unbundling bore more than a passing resemblance to the Northern Ireland peace talks - fraught, bitter and with no end in sight.\\n \\n Another big piece of news for broadband users in 2004 was the extension of BT's reach, meaning more than 95% of the population could get broadband, regardless of how far away from the exchange they lived.\\n \\n There was a slight caveat for those wanting to upgrade to 1Mbps broadband, they still have to live within six kilometres of a broadband-enabled exchange. For thousands frustrated by their inability to get the technology, the news meant they could finally join in. Broadband is not just about fast access over the telephone and cable operators NTL and Telewest also had a bumper year. The biggest news for them was increased speeds, introducing 2Mb and 3Mb services for users and offering a free upgrade to those on 512K. The cable operators are limited in their reach and it is perhaps testament to how big a deal local loop unbundling could become that even they are considering extending their range via this route. Broadband can seem confusing for consumers, with the huge amount of operators offering so many different products, some with capped bandwidth and different length contracts and set-up fees. It is unlikely to get any less easy to understand in 2005 but remains a plane worth catching. As it gets faster and offers extras such as cheap telephone calls online, the only real thing to remember for the coming year is to enjoy the ride.\\n\",\n          \"Blair to face trust issue head on\\n \\n Tony Blair says he will be facing the issue of trust and his own integrity head on during the election campaign.\\n \\n During a question and answer session with first-time voters on Five News, Mr Blair said he had no option but to \\\"confront it\\\" by talking to people. He also dismissed claims government plans to get 50% of young people into university would devalue degrees. He was not \\\"forcing\\\" anyone to go to university, but places should be there for those who wanted them, he said. In answer to a question from 22-year-old Liverpool student David Dunne about concerns over the prime minister's personal integrity, Mr Blair said talking was the only answer. \\\"You've just got to confront it and say to people let's have a discussion on the things that worry you, the things that make you say 'I can't trust you' or 'I am against you on this.'\\\" The \\\"worst thing in politics\\\" was that the electorate only got \\\"little snatches of policy\\\" from things like Prime Minister's Questions and the news headlines. This was why he wanted to \\\"get out of the 30 seconds on the news,\\\" he added.\\n \\n By talking through policies at least people understood the reason for them, even if they did not agree with them, he said. Mr Blair also faced questions about British policy on Iran and its alleged nuclear weapons programme. He insisted there was no plan for an invasion of the country saying: \\\"Sometimes people say because of what has happened in Iraq this is the next place.\\\" Instead there was a real chance of a \\\"peaceful resolution\\\" to the problem, he said.\\n\"\n        ],\n        \"semantic_type\": \"\",\n        \"description\": \"\"\n      }\n    },\n    {\n      \"column\": \"Category\",\n      \"properties\": {\n        \"dtype\": \"category\",\n        \"num_unique_values\": 5,\n        \"samples\": [\n          \"Business\",\n          \"Politics\",\n          \"Entertainment\"\n        ],\n        \"semantic_type\": \"\",\n        \"description\": \"\"\n      }\n    },\n    {\n      \"column\": \"Actual Category\",\n      \"properties\": {\n        \"dtype\": \"category\",\n        \"num_unique_values\": 5,\n        \"samples\": [\n          \"Sports\",\n          \"Business\",\n          \"Technology\"\n        ],\n        \"semantic_type\": \"\",\n        \"description\": \"\"\n      }\n    }\n  ]\n}"
            }
          },
          "metadata": {},
          "execution_count": 59
        }
      ],
      "source": [
        "incorrect_category_data.head()"
      ]
    },
    {
      "cell_type": "code",
      "execution_count": null,
      "metadata": {
        "colab": {
          "base_uri": "https://localhost:8080/"
        },
        "id": "ik58-0BV9LTQ",
        "outputId": "6d7bc4b3-0fc2-4b1e-c3e6-e6ca9058139d"
      },
      "outputs": [
        {
          "output_type": "stream",
          "name": "stdout",
          "text": [
            "Distance from Actual Category\n",
            "0.9545187666578031\n",
            "Distance from Predicted Category\n",
            "1.0357046825543457\n"
          ]
        }
      ],
      "source": [
        "idx = 24\n",
        "\n",
        "print('Distance from Actual Category')\n",
        "print(cdist(embedding_matrix[idx].reshape(1,-1), kmeans.cluster_centers_[[2]], \"euclidean\")[0,0])\n",
        "\n",
        "print('Distance from Predicted Category')\n",
        "print(cdist(embedding_matrix[idx].reshape(1,-1), kmeans.cluster_centers_[[3]], \"euclidean\")[0,0])"
      ]
    },
    {
      "cell_type": "markdown",
      "metadata": {
        "id": "5U6ZfbaB9Xev"
      },
      "source": [
        "We see that the distance of the particular news article from the cluster centers of the actual and predicted categories is almost similar."
      ]
    },
    {
      "cell_type": "code",
      "execution_count": null,
      "metadata": {
        "colab": {
          "base_uri": "https://localhost:8080/"
        },
        "id": "h0pO4Fui8GvX",
        "outputId": "855a530e-f6a8-419c-be38-d0cd0d11e23e"
      },
      "outputs": [
        {
          "output_type": "stream",
          "name": "stdout",
          "text": [
            "Distance from Actual Category\n",
            "1.0191156042664964\n",
            "Distance from Predicted Category\n",
            "1.0080196943470787\n"
          ]
        }
      ],
      "source": [
        "idx = 45\n",
        "\n",
        "print('Distance from Actual Category')\n",
        "print(cdist(embedding_matrix[idx].reshape(1,-1), kmeans.cluster_centers_[[2]], \"euclidean\")[0,0])\n",
        "\n",
        "print('Distance from Predicted Category')\n",
        "print(cdist(embedding_matrix[idx].reshape(1,-1), kmeans.cluster_centers_[[4]], \"euclidean\")[0,0])"
      ]
    },
    {
      "cell_type": "markdown",
      "metadata": {
        "id": "efuxIYIf9xK1"
      },
      "source": [
        "We see that the distance of the particular news article from the cluster centers of the actual and predicted categories is almost similar."
      ]
    },
    {
      "cell_type": "markdown",
      "metadata": {
        "id": "Oqf6MjBN9zZw"
      },
      "source": [
        "Based on this, we can say that a better approach of categorizing these news articles would be to assign more than one category to these news article."
      ]
    },
    {
      "cell_type": "markdown",
      "metadata": {
        "id": "wH77U4ukBiCe"
      },
      "source": [
        "## **Conclusion**"
      ]
    },
    {
      "cell_type": "markdown",
      "metadata": {
        "id": "t0DuBIcvRsuR"
      },
      "source": [
        "We did the following in the case study:\n",
        "\n",
        "1. Encoded the dataset using the ***all-MiniLM-L6-v2*** transformer model to generate embeddings of 384 dimensions\n",
        "\n",
        "2. Queried the dataset to find news articles similar to the query text we passed\n",
        "\n",
        "3. Categorized the news articles using K-Means Clustering on the transformer encodings\n",
        "\n",
        "4. Compared the predicted categories of the news articles to the actual categories\n",
        "\n",
        "5. Analyzed the incorrect predictions to understand where the model went wrong"
      ]
    },
    {
      "cell_type": "markdown",
      "metadata": {
        "id": "v1PZyy_HABht"
      },
      "source": [
        "- Our model can correctly categorize 96% of the news articles.\n",
        "\n",
        "- As mentioned, one can try tagging news articles with more than one category for better categorization.\n",
        "\n",
        "    - One can find the cluster centers to which the news article is the closest and assign one or more categories accordingly\n",
        "\n",
        "- Another approach that can be tried out would be fine-tuning the model to this particular data with category labels (one or more than one) to try and improve the overall performance.\n",
        "\n",
        "- In addition, the startup can use other transformer models to generate summaries of the news articles, which can provide a gist of the news content."
      ]
    },
    {
      "cell_type": "markdown",
      "metadata": {
        "id": "SCju1K05iWCn"
      },
      "source": [
        "<font size=5 color='blue'>Power Ahead!</font>\n",
        "___"
      ]
    }
  ],
  "metadata": {
    "colab": {
      "collapsed_sections": [
        "MjncuDf2qugI",
        "x9VSf2D_F5iU",
        "MzSKXh2LsOvd",
        "saFx1pbT_zTP",
        "vvlzvKeqAH-i",
        "cIH4md8nAL4v",
        "xu_WH-DElvdg",
        "NuWYF7W_AQx_",
        "EBuO6NvsAT1k",
        "i8MHLoYFk4cj"
      ],
      "provenance": []
    },
    "kernelspec": {
      "display_name": "Python 3",
      "name": "python3"
    },
    "language_info": {
      "codemirror_mode": {
        "name": "ipython",
        "version": 3
      },
      "file_extension": ".py",
      "mimetype": "text/x-python",
      "name": "python",
      "nbconvert_exporter": "python",
      "pygments_lexer": "ipython3",
      "version": "3.11.5"
    },
    "widgets": {
      "application/vnd.jupyter.widget-state+json": {
        "e1475c7eae62414389a8ece291cf8667": {
          "model_module": "@jupyter-widgets/controls",
          "model_name": "HBoxModel",
          "model_module_version": "1.5.0",
          "state": {
            "_dom_classes": [],
            "_model_module": "@jupyter-widgets/controls",
            "_model_module_version": "1.5.0",
            "_model_name": "HBoxModel",
            "_view_count": null,
            "_view_module": "@jupyter-widgets/controls",
            "_view_module_version": "1.5.0",
            "_view_name": "HBoxView",
            "box_style": "",
            "children": [
              "IPY_MODEL_f5b760d54f144de1bffc4995f26670aa",
              "IPY_MODEL_0db8cf92bc96420592b5ce37d0722e51",
              "IPY_MODEL_6df82fb2e60f403b953a48fd5220b687"
            ],
            "layout": "IPY_MODEL_2e369c1e3e0a431091574db46795ad5f"
          }
        },
        "f5b760d54f144de1bffc4995f26670aa": {
          "model_module": "@jupyter-widgets/controls",
          "model_name": "HTMLModel",
          "model_module_version": "1.5.0",
          "state": {
            "_dom_classes": [],
            "_model_module": "@jupyter-widgets/controls",
            "_model_module_version": "1.5.0",
            "_model_name": "HTMLModel",
            "_view_count": null,
            "_view_module": "@jupyter-widgets/controls",
            "_view_module_version": "1.5.0",
            "_view_name": "HTMLView",
            "description": "",
            "description_tooltip": null,
            "layout": "IPY_MODEL_fcc0793a08304648a6c1c0ce8e671362",
            "placeholder": "​",
            "style": "IPY_MODEL_31b02860fc0844ee8fc460a7662e9c02",
            "value": "Batches: 100%"
          }
        },
        "0db8cf92bc96420592b5ce37d0722e51": {
          "model_module": "@jupyter-widgets/controls",
          "model_name": "FloatProgressModel",
          "model_module_version": "1.5.0",
          "state": {
            "_dom_classes": [],
            "_model_module": "@jupyter-widgets/controls",
            "_model_module_version": "1.5.0",
            "_model_name": "FloatProgressModel",
            "_view_count": null,
            "_view_module": "@jupyter-widgets/controls",
            "_view_module_version": "1.5.0",
            "_view_name": "ProgressView",
            "bar_style": "success",
            "description": "",
            "description_tooltip": null,
            "layout": "IPY_MODEL_84fe637be9084448862506a791d3844a",
            "max": 67,
            "min": 0,
            "orientation": "horizontal",
            "style": "IPY_MODEL_016ec740bff64eb8be16ad7419778594",
            "value": 67
          }
        },
        "6df82fb2e60f403b953a48fd5220b687": {
          "model_module": "@jupyter-widgets/controls",
          "model_name": "HTMLModel",
          "model_module_version": "1.5.0",
          "state": {
            "_dom_classes": [],
            "_model_module": "@jupyter-widgets/controls",
            "_model_module_version": "1.5.0",
            "_model_name": "HTMLModel",
            "_view_count": null,
            "_view_module": "@jupyter-widgets/controls",
            "_view_module_version": "1.5.0",
            "_view_name": "HTMLView",
            "description": "",
            "description_tooltip": null,
            "layout": "IPY_MODEL_e2b613da3240473c8aa564909de114c7",
            "placeholder": "​",
            "style": "IPY_MODEL_d29ecfedca344afabb04fd358ff4c531",
            "value": " 67/67 [04:58&lt;00:00,  3.30s/it]"
          }
        },
        "2e369c1e3e0a431091574db46795ad5f": {
          "model_module": "@jupyter-widgets/base",
          "model_name": "LayoutModel",
          "model_module_version": "1.2.0",
          "state": {
            "_model_module": "@jupyter-widgets/base",
            "_model_module_version": "1.2.0",
            "_model_name": "LayoutModel",
            "_view_count": null,
            "_view_module": "@jupyter-widgets/base",
            "_view_module_version": "1.2.0",
            "_view_name": "LayoutView",
            "align_content": null,
            "align_items": null,
            "align_self": null,
            "border": null,
            "bottom": null,
            "display": null,
            "flex": null,
            "flex_flow": null,
            "grid_area": null,
            "grid_auto_columns": null,
            "grid_auto_flow": null,
            "grid_auto_rows": null,
            "grid_column": null,
            "grid_gap": null,
            "grid_row": null,
            "grid_template_areas": null,
            "grid_template_columns": null,
            "grid_template_rows": null,
            "height": null,
            "justify_content": null,
            "justify_items": null,
            "left": null,
            "margin": null,
            "max_height": null,
            "max_width": null,
            "min_height": null,
            "min_width": null,
            "object_fit": null,
            "object_position": null,
            "order": null,
            "overflow": null,
            "overflow_x": null,
            "overflow_y": null,
            "padding": null,
            "right": null,
            "top": null,
            "visibility": null,
            "width": null
          }
        },
        "fcc0793a08304648a6c1c0ce8e671362": {
          "model_module": "@jupyter-widgets/base",
          "model_name": "LayoutModel",
          "model_module_version": "1.2.0",
          "state": {
            "_model_module": "@jupyter-widgets/base",
            "_model_module_version": "1.2.0",
            "_model_name": "LayoutModel",
            "_view_count": null,
            "_view_module": "@jupyter-widgets/base",
            "_view_module_version": "1.2.0",
            "_view_name": "LayoutView",
            "align_content": null,
            "align_items": null,
            "align_self": null,
            "border": null,
            "bottom": null,
            "display": null,
            "flex": null,
            "flex_flow": null,
            "grid_area": null,
            "grid_auto_columns": null,
            "grid_auto_flow": null,
            "grid_auto_rows": null,
            "grid_column": null,
            "grid_gap": null,
            "grid_row": null,
            "grid_template_areas": null,
            "grid_template_columns": null,
            "grid_template_rows": null,
            "height": null,
            "justify_content": null,
            "justify_items": null,
            "left": null,
            "margin": null,
            "max_height": null,
            "max_width": null,
            "min_height": null,
            "min_width": null,
            "object_fit": null,
            "object_position": null,
            "order": null,
            "overflow": null,
            "overflow_x": null,
            "overflow_y": null,
            "padding": null,
            "right": null,
            "top": null,
            "visibility": null,
            "width": null
          }
        },
        "31b02860fc0844ee8fc460a7662e9c02": {
          "model_module": "@jupyter-widgets/controls",
          "model_name": "DescriptionStyleModel",
          "model_module_version": "1.5.0",
          "state": {
            "_model_module": "@jupyter-widgets/controls",
            "_model_module_version": "1.5.0",
            "_model_name": "DescriptionStyleModel",
            "_view_count": null,
            "_view_module": "@jupyter-widgets/base",
            "_view_module_version": "1.2.0",
            "_view_name": "StyleView",
            "description_width": ""
          }
        },
        "84fe637be9084448862506a791d3844a": {
          "model_module": "@jupyter-widgets/base",
          "model_name": "LayoutModel",
          "model_module_version": "1.2.0",
          "state": {
            "_model_module": "@jupyter-widgets/base",
            "_model_module_version": "1.2.0",
            "_model_name": "LayoutModel",
            "_view_count": null,
            "_view_module": "@jupyter-widgets/base",
            "_view_module_version": "1.2.0",
            "_view_name": "LayoutView",
            "align_content": null,
            "align_items": null,
            "align_self": null,
            "border": null,
            "bottom": null,
            "display": null,
            "flex": null,
            "flex_flow": null,
            "grid_area": null,
            "grid_auto_columns": null,
            "grid_auto_flow": null,
            "grid_auto_rows": null,
            "grid_column": null,
            "grid_gap": null,
            "grid_row": null,
            "grid_template_areas": null,
            "grid_template_columns": null,
            "grid_template_rows": null,
            "height": null,
            "justify_content": null,
            "justify_items": null,
            "left": null,
            "margin": null,
            "max_height": null,
            "max_width": null,
            "min_height": null,
            "min_width": null,
            "object_fit": null,
            "object_position": null,
            "order": null,
            "overflow": null,
            "overflow_x": null,
            "overflow_y": null,
            "padding": null,
            "right": null,
            "top": null,
            "visibility": null,
            "width": null
          }
        },
        "016ec740bff64eb8be16ad7419778594": {
          "model_module": "@jupyter-widgets/controls",
          "model_name": "ProgressStyleModel",
          "model_module_version": "1.5.0",
          "state": {
            "_model_module": "@jupyter-widgets/controls",
            "_model_module_version": "1.5.0",
            "_model_name": "ProgressStyleModel",
            "_view_count": null,
            "_view_module": "@jupyter-widgets/base",
            "_view_module_version": "1.2.0",
            "_view_name": "StyleView",
            "bar_color": null,
            "description_width": ""
          }
        },
        "e2b613da3240473c8aa564909de114c7": {
          "model_module": "@jupyter-widgets/base",
          "model_name": "LayoutModel",
          "model_module_version": "1.2.0",
          "state": {
            "_model_module": "@jupyter-widgets/base",
            "_model_module_version": "1.2.0",
            "_model_name": "LayoutModel",
            "_view_count": null,
            "_view_module": "@jupyter-widgets/base",
            "_view_module_version": "1.2.0",
            "_view_name": "LayoutView",
            "align_content": null,
            "align_items": null,
            "align_self": null,
            "border": null,
            "bottom": null,
            "display": null,
            "flex": null,
            "flex_flow": null,
            "grid_area": null,
            "grid_auto_columns": null,
            "grid_auto_flow": null,
            "grid_auto_rows": null,
            "grid_column": null,
            "grid_gap": null,
            "grid_row": null,
            "grid_template_areas": null,
            "grid_template_columns": null,
            "grid_template_rows": null,
            "height": null,
            "justify_content": null,
            "justify_items": null,
            "left": null,
            "margin": null,
            "max_height": null,
            "max_width": null,
            "min_height": null,
            "min_width": null,
            "object_fit": null,
            "object_position": null,
            "order": null,
            "overflow": null,
            "overflow_x": null,
            "overflow_y": null,
            "padding": null,
            "right": null,
            "top": null,
            "visibility": null,
            "width": null
          }
        },
        "d29ecfedca344afabb04fd358ff4c531": {
          "model_module": "@jupyter-widgets/controls",
          "model_name": "DescriptionStyleModel",
          "model_module_version": "1.5.0",
          "state": {
            "_model_module": "@jupyter-widgets/controls",
            "_model_module_version": "1.5.0",
            "_model_name": "DescriptionStyleModel",
            "_view_count": null,
            "_view_module": "@jupyter-widgets/base",
            "_view_module_version": "1.2.0",
            "_view_name": "StyleView",
            "description_width": ""
          }
        }
      }
    }
  },
  "nbformat": 4,
  "nbformat_minor": 0
}