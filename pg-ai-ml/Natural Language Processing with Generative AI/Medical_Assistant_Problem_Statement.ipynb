{
 "cells": [
  {
   "cell_type": "markdown",
   "id": "21dc3138-eb90-4c2f-9469-683452353fd8",
   "metadata": {},
   "source": [
    "## Problem Statement"
   ]
  },
  {
   "cell_type": "markdown",
   "id": "75ba4de4-6866-47f6-8da5-c4360b640fd9",
   "metadata": {},
   "source": [
    "### Business Context"
   ]
  },
  {
   "cell_type": "markdown",
   "id": "e5e9b4c5-91d6-40af-acd6-0ccc33837949",
   "metadata": {},
   "source": [
    "The healthcare industry is rapidly evolving, with professionals facing increasing challenges in managing vast volumes of medical data while delivering accurate and timely diagnoses. The need for quick access to comprehensive, reliable, and up-to-date medical knowledge is critical for improving patient outcomes and ensuring informed decision-making in a fast-paced environment.\n",
    "\n",
    "Healthcare professionals often encounter information overload, struggling to sift through extensive research and data to create accurate diagnoses and treatment plans. This challenge is amplified by the need for efficiency, particularly in emergencies, where time-sensitive decisions are vital. Furthermore, access to trusted, current medical information from renowned manuals and research papers is essential for maintaining high standards of care.\n",
    "\n",
    "To address these challenges, healthcare centers can focus on integrating systems that streamline access to medical knowledge, provide tools to support quick decision-making, and enhance efficiency. Leveraging centralized knowledge platforms and ensuring healthcare providers have continuous access to reliable resources can significantly improve patient care and operational effectiveness."
   ]
  },
  {
   "cell_type": "markdown",
   "id": "8b4dd517-6690-48e1-88d5-0a3a2a2d0ea3",
   "metadata": {},
   "source": [
    "**Common Questions to Answer**\n",
    "\n",
    "**1. Diagnostic Assistance**: \"What are the common symptoms and treatments for pulmonary embolism?\"\n",
    "\n",
    "**2. Drug Information**: \"Can you provide the trade names of medications used for treating hypertension?\"\n",
    "\n",
    "**3. Treatment Plans**: \"What are the first-line options and alternatives for managing rheumatoid arthritis?\"\n",
    "\n",
    "**4. Specialty Knowledge**: \"What are the diagnostic steps for suspected endocrine disorders?\"\n",
    "\n",
    "**5. Critical Care Protocols**: \"What is the protocol for managing sepsis in a critical care unit?\""
   ]
  },
  {
   "cell_type": "markdown",
   "id": "d7a43ce3-26d1-4bd0-b4e2-2651e520354b",
   "metadata": {},
   "source": [
    "### Objective"
   ]
  },
  {
   "cell_type": "markdown",
   "id": "097b908b-c8a7-429f-b775-c4839fb236e8",
   "metadata": {},
   "source": [
    "As an AI specialist, your task is to develop a RAG-based AI solution using renowned medical manuals to address healthcare challenges. The objective is to **understand** issues like information overload, **apply** AI techniques to streamline decision-making, **analyze** its impact on diagnostics and patient outcomes, **evaluate** its potential to standardize care practices, and **create** a functional prototype demonstrating its feasibility and effectiveness."
   ]
  },
  {
   "cell_type": "markdown",
   "id": "a93749c6-2e9f-4560-9049-fcd04e14f255",
   "metadata": {},
   "source": [
    "### Data Description"
   ]
  },
  {
   "cell_type": "markdown",
   "id": "981915eb-c74d-453e-894e-1a0888ca7a7e",
   "metadata": {},
   "source": [
    "The **Merck Manuals** are medical references published by the American pharmaceutical company Merck & Co., that cover a wide range of medical topics, including disorders, tests, diagnoses, and drugs. The manuals have been published since 1899, when Merck & Co. was still a subsidiary of the German company Merck.\n",
    "\n",
    "The manual is provided as a PDF with over 4,000 pages divided into 23 sections."
   ]
  },
  {
   "cell_type": "markdown",
   "id": "19639ecc-1180-49fd-aba2-fcb56e41d5f6",
   "metadata": {},
   "source": [
    "## Installing and Importing Necessary Libraries and Dependencies"
   ]
  },
  {
   "cell_type": "code",
   "execution_count": 115,
   "id": "d0db8bfa-c761-4f0b-877c-96da51b01a34",
   "metadata": {},
   "outputs": [],
   "source": [
    "# Suppress warnings and excessive logs\n",
    "import warnings\n",
    "warnings.filterwarnings(\"ignore\")\n",
    "warnings.filterwarnings(\"ignore\", category=DeprecationWarning)\n",
    "\n",
    "# Optionally suppress llama-cpp-python logs if they're printed with logging or stdout\n",
    "import os\n",
    "os.environ[\"LLAMA_CPP_LOG_LEVEL\"] = \"ERROR\"  # Try: ERROR, WARN, INFO, DEBUG"
   ]
  },
  {
   "cell_type": "code",
   "execution_count": 117,
   "id": "4372d5cc-b803-4359-a838-3d56b1b577a2",
   "metadata": {},
   "outputs": [
    {
     "name": "stdout",
     "output_type": "stream",
     "text": [
      "Found existing installation: numpy 1.26.4\n",
      "Uninstalling numpy-1.26.4:\n",
      "  Successfully uninstalled numpy-1.26.4\n",
      "Defaulting to user installation because normal site-packages is not writeable\n",
      "Collecting numpy==1.26.4\n",
      "  Downloading numpy-1.26.4-cp312-cp312-win_amd64.whl.metadata (61 kB)\n",
      "Downloading numpy-1.26.4-cp312-cp312-win_amd64.whl (15.5 MB)\n",
      "   ---------------------------------------- 0.0/15.5 MB ? eta -:--:--\n",
      "   -- ------------------------------------- 1.0/15.5 MB 5.0 MB/s eta 0:00:03\n",
      "   ---- ----------------------------------- 1.8/15.5 MB 4.2 MB/s eta 0:00:04\n",
      "   ------ --------------------------------- 2.4/15.5 MB 4.1 MB/s eta 0:00:04\n",
      "   ------- -------------------------------- 2.9/15.5 MB 3.4 MB/s eta 0:00:04\n",
      "   -------- ------------------------------- 3.4/15.5 MB 3.2 MB/s eta 0:00:04\n",
      "   ---------- ----------------------------- 4.2/15.5 MB 3.2 MB/s eta 0:00:04\n",
      "   ------------ --------------------------- 4.7/15.5 MB 3.1 MB/s eta 0:00:04\n",
      "   ------------- -------------------------- 5.2/15.5 MB 3.0 MB/s eta 0:00:04\n",
      "   -------------- ------------------------- 5.8/15.5 MB 3.1 MB/s eta 0:00:04\n",
      "   ----------------- ---------------------- 6.8/15.5 MB 3.2 MB/s eta 0:00:03\n",
      "   ------------------- -------------------- 7.6/15.5 MB 3.3 MB/s eta 0:00:03\n",
      "   ---------------------- ----------------- 8.7/15.5 MB 3.4 MB/s eta 0:00:02\n",
      "   ------------------------- -------------- 10.0/15.5 MB 3.7 MB/s eta 0:00:02\n",
      "   ----------------------------- ---------- 11.5/15.5 MB 3.9 MB/s eta 0:00:02\n",
      "   --------------------------------- ------ 12.8/15.5 MB 4.0 MB/s eta 0:00:01\n",
      "   ----------------------------------- ---- 13.9/15.5 MB 4.1 MB/s eta 0:00:01\n",
      "   ---------------------------------------  15.2/15.5 MB 4.2 MB/s eta 0:00:01\n",
      "   ---------------------------------------- 15.5/15.5 MB 4.3 MB/s eta 0:00:00\n",
      "Installing collected packages: numpy\n",
      "Successfully installed numpy-1.26.4\n"
     ]
    }
   ],
   "source": [
    "# Downgrade numpy first to avoid binary incompatibility\n",
    "!pip uninstall -y numpy\n",
    "!pip install numpy==1.26.4 --force-reinstall --no-cache-dir\n",
    "\n",
    "# Install compatible langchain versions without langchain-community\n",
    "!pip install -q \\\n",
    "  langchain==0.1.14 \\\n",
    "  llama-cpp-python==0.3.12 \\\n",
    "  chromadb==0.4.24 \\\n",
    "  sentence-transformers==2.6.1 \\\n",
    "  pymupdf==1.25.2 \\\n",
    "  huggingface-hub==0.23.2 \\\n",
    "  tiktoken==0.7.0 \\\n",
    "  pandas==2.2.2"
   ]
  },
  {
   "cell_type": "code",
   "execution_count": 12,
   "id": "abe768ef-a1e2-478b-9743-197204767a06",
   "metadata": {},
   "outputs": [],
   "source": [
    "# Importing Libraries\n",
    "import os\n",
    "import json\n",
    "import tiktoken\n",
    "import pandas as pd\n",
    "\n",
    "# LangChain utilities\n",
    "from langchain.text_splitter import RecursiveCharacterTextSplitter\n",
    "from langchain_community.document_loaders import PyMuPDFLoader\n",
    "from langchain_community.embeddings.sentence_transformer import SentenceTransformerEmbeddings\n",
    "from langchain_community.vectorstores import Chroma\n",
    "\n",
    "# LLM from huggingface + llama-cpp\n",
    "from huggingface_hub import hf_hub_download\n",
    "from llama_cpp import Llama\n"
   ]
  },
  {
   "cell_type": "markdown",
   "id": "22ea6458-5015-41a8-b00c-83db49f34abd",
   "metadata": {},
   "source": [
    "### Download LLaMA Model"
   ]
  },
  {
   "cell_type": "code",
   "execution_count": 121,
   "id": "acfdbd2f-b17f-4fa8-8836-9a1939a21a15",
   "metadata": {},
   "outputs": [],
   "source": [
    "# Download a quantized GGUF model (QuantFactory/Meta-Llama)\n",
    "model_path = hf_hub_download(\n",
    "    repo_id=\"QuantFactory/Meta-Llama-3-8B-Instruct-GGUF\",\n",
    "    filename=\"Meta-Llama-3-8B-Instruct.Q4_0.gguf\"\n",
    ")"
   ]
  },
  {
   "cell_type": "markdown",
   "id": "b2024173-e366-4037-9384-5fbc1a7a9763",
   "metadata": {},
   "source": [
    "### Load the LLM (LLaMA)"
   ]
  },
  {
   "cell_type": "code",
   "execution_count": 111,
   "id": "53126728-ed13-4dd6-bf3d-7e28cb229407",
   "metadata": {},
   "outputs": [],
   "source": [
    "# Load the LLaMA model from the local .gguf file (previously downloaded)\n",
    "import os\n",
    "import sys\n",
    "import contextlib\n",
    "\n",
    "os.environ[\"LLAMA_SET_ROWS\"] = \"1\"\n",
    "\n",
    "with contextlib.redirect_stdout(None):\n",
    "    from llama_cpp import Llama\n",
    "    llm = Llama(\n",
    "        model_path=model_path,\n",
    "        n_ctx=8192,\n",
    "        n_batch=512,\n",
    "        verbose=False\n",
    "    )"
   ]
  },
  {
   "cell_type": "markdown",
   "id": "c119f7d3-ee81-4637-a879-c6103c84ed54",
   "metadata": {},
   "source": [
    "### Load and Process the Medical Manual PDF"
   ]
  },
  {
   "cell_type": "code",
   "execution_count": 18,
   "id": "50a8f1fa-f1b2-4ea9-8906-a796e5eca666",
   "metadata": {},
   "outputs": [
    {
     "name": "stdout",
     "output_type": "stream",
     "text": [
      "Loaded 4114 documents\n"
     ]
    }
   ],
   "source": [
    "loader = PyMuPDFLoader(\"medical_diagnosis_manual.pdf\")\n",
    "documents = loader.load()\n",
    "\n",
    "print(f\"Loaded {len(documents)} documents\")"
   ]
  },
  {
   "cell_type": "markdown",
   "id": "a0a95631-4eb1-469b-aaa0-0e85416286bc",
   "metadata": {},
   "source": [
    "### Split the Text into Chunks"
   ]
  },
  {
   "cell_type": "code",
   "execution_count": 20,
   "id": "208c288a-3c2e-4a30-8ad0-5daecf1822d4",
   "metadata": {},
   "outputs": [
    {
     "name": "stdout",
     "output_type": "stream",
     "text": [
      "Split into 34525 chunks\n"
     ]
    }
   ],
   "source": [
    "# Split text into smaller chunks for embedding\n",
    "text_splitter = RecursiveCharacterTextSplitter(chunk_size=500, chunk_overlap=100)\n",
    "docs = text_splitter.split_documents(documents)\n",
    "\n",
    "print(f\"Split into {len(docs)} chunks\")"
   ]
  },
  {
   "cell_type": "markdown",
   "id": "b72113db-66db-46c7-9867-bf9b67c458f5",
   "metadata": {},
   "source": [
    "### Generate Embeddings and Store in VectorDB"
   ]
  },
  {
   "cell_type": "code",
   "execution_count": 119,
   "id": "d6995cd1-bbc6-4c1e-a7dc-8e5f64dfd870",
   "metadata": {},
   "outputs": [
    {
     "name": "stdout",
     "output_type": "stream",
     "text": [
      "Embedding and Vector DB creation done\n"
     ]
    }
   ],
   "source": [
    "# Generate sentence embeddings using SentenceTransformers\n",
    "embedding_model = SentenceTransformerEmbeddings(model_name=\"all-MiniLM-L6-v2\")\n",
    "\n",
    "# Store embeddings into Chroma vector store\n",
    "db = Chroma.from_documents(docs, embedding_model, persist_directory=\"./chroma_db\")\n",
    "db.persist()\n",
    "\n",
    "print(\"Embedding and Vector DB creation done\")"
   ]
  },
  {
   "cell_type": "markdown",
   "id": "41d46ea1-6430-48da-9113-bedc82b179a8",
   "metadata": {},
   "source": [
    "### Retreiver Fuction"
   ]
  },
  {
   "cell_type": "code",
   "execution_count": 113,
   "id": "d6ce4834-4f3b-4c6b-aca1-d7eaf604f1bd",
   "metadata": {},
   "outputs": [
    {
     "name": "stdout",
     "output_type": "stream",
     "text": [
      "\n",
      "--- Document 1 ---\n",
      "Signs of pulmonary barotrauma (see p. 3283) or type II decompression sickness (see p. 3287) may also\n",
      "be present.\n",
      "Other symptoms may result from arterial gas embolism in any of the following:\n",
      "• Coronary arteries (eg, arrhythmias, MI, cardiac arrest)\n",
      "• Skin (eg, cyanotic marbling of the skin, focal pallor of the tongue)\n",
      "• Kidneys (eg, hematuria, proteinuria, renal failure)\n",
      "Diagnosis\n",
      "• Clinical evaluation\n",
      "• Sometimes confirmation by imaging\n",
      "\n",
      "--- Document 2 ---\n",
      "Signs of pulmonary barotrauma (see p. 3283) or type II decompression sickness (see p. 3287) may also\n",
      "be present.\n",
      "Other symptoms may result from arterial gas embolism in any of the following:\n",
      "• Coronary arteries (eg, arrhythmias, MI, cardiac arrest)\n",
      "• Skin (eg, cyanotic marbling of the skin, focal pallor of the tongue)\n",
      "• Kidneys (eg, hematuria, proteinuria, renal failure)\n",
      "Diagnosis\n",
      "• Clinical evaluation\n",
      "• Sometimes confirmation by imaging\n",
      "\n",
      "--- Document 3 ---\n",
      "Signs of pulmonary barotrauma (see p. 3283) or type II decompression sickness (see p. 3287) may also\n",
      "be present.\n",
      "Other symptoms may result from arterial gas embolism in any of the following:\n",
      "• Coronary arteries (eg, arrhythmias, MI, cardiac arrest)\n",
      "• Skin (eg, cyanotic marbling of the skin, focal pallor of the tongue)\n",
      "• Kidneys (eg, hematuria, proteinuria, renal failure)\n",
      "Diagnosis\n",
      "• Clinical evaluation\n",
      "• Sometimes confirmation by imaging\n",
      "\n",
      "--- Document 4 ---\n",
      "Signs of pulmonary barotrauma (see p. 3283) or type II decompression sickness (see p. 3287) may also\n",
      "be present.\n",
      "Other symptoms may result from arterial gas embolism in any of the following:\n",
      "• Coronary arteries (eg, arrhythmias, MI, cardiac arrest)\n",
      "• Skin (eg, cyanotic marbling of the skin, focal pallor of the tongue)\n",
      "• Kidneys (eg, hematuria, proteinuria, renal failure)\n",
      "Diagnosis\n",
      "• Clinical evaluation\n",
      "• Sometimes confirmation by imaging\n",
      "\n",
      "--- Document 5 ---\n",
      "Signs of pulmonary barotrauma (see p. 3283) or type II decompression sickness (see p. 3287) may also\n",
      "be present.\n",
      "Other symptoms may result from arterial gas embolism in any of the following:\n",
      "• Coronary arteries (eg, arrhythmias, MI, cardiac arrest)\n",
      "• Skin (eg, cyanotic marbling of the skin, focal pallor of the tongue)\n",
      "• Kidneys (eg, hematuria, proteinuria, renal failure)\n",
      "Diagnosis\n",
      "• Clinical evaluation\n",
      "• Sometimes confirmation by imaging\n"
     ]
    }
   ],
   "source": [
    "# Load retriever from the existing VectorDB\n",
    "retriever = db.as_retriever(\n",
    "    search_type=\"similarity\",   # or \"mmr\" for Max Marginal Relevance\n",
    "    search_kwargs={\n",
    "        \"k\": 5  # Number of top documents to retrieve\n",
    "    }\n",
    ")\n",
    "\n",
    "# Test retrieval\n",
    "sample_query = \"What are the common symptoms of pulmonary embolism?\"\n",
    "retrieved_docs = retriever.invoke(sample_query)\n",
    "\n",
    "# Preview retrieved context chunks\n",
    "for i, doc in enumerate(retrieved_docs, 1):\n",
    "    print(f\"\\n--- Document {i} ---\\n{doc.page_content[:500]}\")"
   ]
  },
  {
   "cell_type": "markdown",
   "id": "18b8b99b-bb0b-49fe-ae9d-47a5e610c80f",
   "metadata": {},
   "source": [
    "### LLM Response Function"
   ]
  },
  {
   "cell_type": "code",
   "execution_count": 26,
   "id": "eda73879-2b92-4e6c-9e20-d051f3a31997",
   "metadata": {},
   "outputs": [],
   "source": [
    "# Function to generate LLM response without RAG (only prompt-based)\n",
    "def response(prompt, temperature=0.7, max_tokens=768, top_p=0.95):\n",
    "    output = llm.create_chat_completion(\n",
    "        messages=[{\"role\": \"user\", \"content\": prompt}],\n",
    "        temperature=temperature,\n",
    "        max_tokens=max_tokens,\n",
    "        top_p=top_p\n",
    "    )\n",
    "    return output['choices'][0]['message']['content'].strip()"
   ]
  },
  {
   "cell_type": "code",
   "execution_count": 27,
   "id": "76216c54-4c00-41c3-b01d-493ac5db332a",
   "metadata": {},
   "outputs": [],
   "source": [
    "def generate_rag_response(user_input,k=3,max_tokens=768,temperature=0,top_p=0.95,top_k=50):\n",
    "    global qna_system_message,qna_user_message_template\n",
    "    # Retrieve relevant document chunks\n",
    "    relevant_document_chunks = retriever.get_relevant_documents(query=user_input,k=k)\n",
    "    context_list = [d.page_content for d in relevant_document_chunks]\n",
    "\n",
    "    # Combine document chunks into a single context\n",
    "    context_for_query = \". \".join(context_list)\n",
    "\n",
    "    user_message = qna_user_message_template.replace('{context}', context_for_query)\n",
    "    user_message = user_message.replace('{question}', user_input)\n",
    "\n",
    "    prompt = qna_system_message + '\\n' + user_message\n",
    "\n",
    "    # Generate the response\n",
    "    try:\n",
    "        response = llm(\n",
    "                  prompt=prompt,\n",
    "                  max_tokens=max_tokens,\n",
    "                  temperature=temperature,\n",
    "                  top_p=top_p,\n",
    "                  top_k=top_k\n",
    "                  )\n",
    "\n",
    "        # Extract and print the model's response\n",
    "        response = response['choices'][0]['text'].strip()\n",
    "    except Exception as e:\n",
    "        response = f'Sorry, I encountered the following error: \\n {e}'\n",
    "\n",
    "    return response"
   ]
  },
  {
   "cell_type": "code",
   "execution_count": 28,
   "id": "18114c63-7c2c-4ac3-b51e-5f5010da32e8",
   "metadata": {},
   "outputs": [],
   "source": [
    "# System message gives role or tone for the assistant\n",
    "qna_system_message = \"You are a helpful medical assistant. Use the provided context to answer the user's medical question as accurately and concisely as possible.\"\n",
    "\n",
    "# User message template for RAG context and question\n",
    "qna_user_message_template = \"\"\"\n",
    "Context: {context}\n",
    "\n",
    "Question: {question}\n",
    "\n",
    "Answer:\n",
    "\"\"\""
   ]
  },
  {
   "cell_type": "markdown",
   "id": "8c939386-8e78-4f75-9f13-51be4c5d7ebb",
   "metadata": {},
   "source": [
    "## Question Answering using LLM"
   ]
  },
  {
   "cell_type": "markdown",
   "id": "4e0d6be2-2105-4f29-881a-b095ef4032e6",
   "metadata": {},
   "source": [
    "### Query 1: What is the protocol for managing sepsis in a critical care unit?"
   ]
  },
  {
   "cell_type": "code",
   "execution_count": 31,
   "id": "045f9f30-adcc-432d-a263-969134d1fed7",
   "metadata": {},
   "outputs": [
    {
     "name": "stdout",
     "output_type": "stream",
     "text": [
      "\n",
      "Query : What is the protocol for managing sepsis in a critical care unit?\n",
      "Answer: Sepsis is a life-threatening condition that requires prompt recognition and management to prevent morbidity and mortality. In a critical care unit, the protocol for managing sepsis typically involves a multi-disciplinary approach, involving intensivists, nurses, and other healthcare professionals. Here is a general outline of the protocol:\n",
      "\n",
      "**Recognition and Triggering**\n",
      "\n",
      "1. Sepsis definition: Sepsis is a clinical syndrome characterized by a systemic inflammatory response to an infection, which may lead to organ dysfunction and/or death.\n",
      "2. Sepsis recognition: Healthcare professionals should look for signs of sepsis, including:\n",
      "\t* Fever (≥38°C or 100.4°F) or hypothermia (≤35°C or 95.0°F)\n",
      "\t* Tachycardia (≥90 beats per minute) or bradycardia (≤40 beats per minute)\n",
      "\t* Tachypnea (≥20 breaths per minute) or bradypnea (≤10 breaths per minute)\n",
      "\t* Lactic acidosis or hyperlacticemia\n",
      "\t* Hyperglycemia (≥150 mg/dL)\n",
      "\t* Decreased peripheral perfusion or mottling\n",
      "3. Sepsis trigger: If a patient meets at least two of the above criteria, they are considered to be at risk for sepsis, and further evaluation and management are initiated.\n",
      "\n",
      "**Initial Management**\n",
      "\n",
      "1. Rapid fluid resuscitation: Administer 30 mL/kg of crystalloid fluid (e.g., normal saline or lactated Ringer's solution) over 30 minutes to 1 hour to maintain a mean arterial pressure (MAP) of 65 mmHg or higher.\n",
      "2. Antibiotics: Start broad-spectrum antibiotics (e.g., vancomycin, piperacillin-tazobactam, and cefepime) as soon as possible, ideally within 1 hour of recognition.\n",
      "3. Vasopressor support: If the patient remains hypotensive (MAP ≤ 65 mmHg) after fluid resuscitation, consider vasopressor support (e.g., norepinephrine or epinephrine).\n",
      "4. Oxygen therapy: Administer supplemental oxygen as needed to maintain a peripheral oxygen saturation (SpO2) of ≥92%.\n",
      "5. Mechanical ventilation: Consider mechanical ventilation if the patient requires respiratory support or has significant respiratory compromise.\n",
      "\n",
      "**Ongoing Management**\n",
      "\n",
      "1. Continuous monitoring: Continuously monitor the patient's vital signs, laboratory values (e.g., lactate, creatinine, and international normalized ratio [INR]), and clinical status.\n",
      "2. Source control: Identify and address the underlying source of infection (e.g., drainage of an abscess, removal of an infected device).\n",
      "3. Antibiotic optimization: Reassess the patient's microbiological data and adjust antibiotic therapy as necessary to ensure effective coverage.\n",
      "4. Renal and cardiovascular monitoring: Monitor the patient's renal function and cardiovascular status, as sepsis can lead to acute kidney injury and cardiovascular instability.\n",
      "5. Nutrition and glycemic control: Ensure adequate nutrition and glycemic control to prevent malnutrition and hyperglycemia-related complications.\n",
      "\n",
      "**Additional Considerations**\n",
      "\n",
      "1. Sepsis protocols: Develop and implement sepsis protocols that outline the management approach, including the triggers, initial management, and ongoing management.\n",
      "2. Early warning systems: Implement early warning systems (EWS) to detect sepsis earlier and trigger prompt recognition and management.\n",
      "3. Sepsis bundles: Incorporate evidence-based sepsis bundles into the management protocol to ensure consistent and effective care.\n",
      "4. Quality improvement initiatives: Establish quality improvement initiatives to monitor and improve sepsis care, including tracking sepsis-related outcomes and identifying areas for improvement.\n",
      "\n",
      "**References\n"
     ]
    }
   ],
   "source": [
    "query1 = \"What is the protocol for managing sepsis in a critical care unit?\"\n",
    "print(f\"\\nQuery : {query1}\")\n",
    "print(\"Answer:\", response(query1))"
   ]
  },
  {
   "cell_type": "markdown",
   "id": "eab610b3-9d08-456a-88f6-7b16ad2adc5e",
   "metadata": {},
   "source": [
    "### Query 2: What are the common symptoms for appendicitis, and can it be cured via medicine? If not, what surgical procedure should be followed to treat it?"
   ]
  },
  {
   "cell_type": "code",
   "execution_count": 33,
   "id": "d1027889-3acb-4661-8a79-5d686848b67b",
   "metadata": {},
   "outputs": [
    {
     "name": "stdout",
     "output_type": "stream",
     "text": [
      "\n",
      "Query : What are the common symptoms for appendicitis, and can it be cured via medicine? If not, what surgical procedure should be followed to treat it?\n",
      "Answer: **Common Symptoms of Appendicitis:**\n",
      "\n",
      "1. Severe abdominal pain: The pain typically starts near the belly button and may migrate to the lower right side of the abdomen.\n",
      "2. Nausea and vomiting: Many people with appendicitis experience nausea and vomiting, especially in the later stages.\n",
      "3. Loss of appetite: Patients with appendicitis often lose their appetite due to the severity of the pain and discomfort.\n",
      "4. Fever: A temperature above 100.4°F (38°C) is common in appendicitis cases.\n",
      "5. Abdominal tenderness: The affected area may be tender to the touch.\n",
      "6. Rumbling or bloating sounds: The appendix can cause gurgling or bloating sounds in the abdomen.\n",
      "7. Changes in bowel movements: Constipation or diarrhea may occur as the body tries to respond to the infection.\n",
      "\n",
      "**Can Appendicitis Be Cured via Medicine?**\n",
      "\n",
      "No, appendicitis is not typically cured with medicine alone. The appendix is a small, narrow tube attached to the large intestine, and if it becomes inflamed or infected, it can rupture, leading to serious complications.\n",
      "\n",
      "**Surgical Procedure for Treating Appendicitis:**\n",
      "\n",
      "The most effective way to treat appendicitis is through surgery, which is usually an emergency procedure. The goal of surgery is to remove the inflamed or infected appendix to prevent complications and reduce the risk of rupture.\n",
      "\n",
      "The most common surgical procedures for appendicitis are:\n",
      "\n",
      "1. **Open Appendectomy:** A traditional surgical procedure where a 2- to 3-inch incision is made in the lower right side of the abdomen to access the appendix.\n",
      "2. **Laparoscopic Appendectomy:** A minimally invasive procedure where several small incisions are made in the abdomen, and a laparoscope (a thin, lighted tube with a camera) is used to visualize the appendix. The appendix is then removed through one of the incisions.\n",
      "3. **Laser-Assisted Appendectomy:** A minimally invasive procedure that uses a laser to remove the appendix through a small incision.\n",
      "4. **Robot-Assisted Appendectomy:** A minimally invasive procedure that uses a robotic system to aid in the removal of the appendix.\n",
      "\n",
      "In some cases, antibiotics may be used to treat appendicitis if the appendix has not ruptured and the patient is not in severe pain. However, this is not a substitute for surgery, as the appendix can still rupture and cause serious complications.\n",
      "\n",
      "It's essential to seek immediate medical attention if you experience symptoms of appendicitis to prevent complications and ensure proper treatment.\n"
     ]
    }
   ],
   "source": [
    "query2 = \"What are the common symptoms for appendicitis, and can it be cured via medicine? If not, what surgical procedure should be followed to treat it?\"\n",
    "print(f\"\\nQuery : {query2}\")\n",
    "print(\"Answer:\", response(query2))"
   ]
  },
  {
   "cell_type": "markdown",
   "id": "b21f4f91-fb16-4b7c-96d8-877804abcd9a",
   "metadata": {},
   "source": [
    "### Query 3: What are the effective treatments or solutions for addressing sudden patchy hair loss, commonly seen as localized bald spots on the scalp, and what could be the possible causes behind it?"
   ]
  },
  {
   "cell_type": "code",
   "execution_count": 35,
   "id": "a9b3756f-6b4d-45b8-adce-3f28b8f76408",
   "metadata": {},
   "outputs": [
    {
     "name": "stdout",
     "output_type": "stream",
     "text": [
      "\n",
      "Query : What are the effective treatments or solutions for addressing sudden patchy hair loss, commonly seen as localized bald spots on the scalp, and what could be the possible causes behind it?\n",
      "Answer: Sudden patchy hair loss, also known as alopecia areata, is an autoimmune disorder that can cause localized bald spots on the scalp. The good news is that there are effective treatments and solutions to address this condition. Here are some possible causes and treatments:\n",
      "\n",
      "**Causes:**\n",
      "\n",
      "1. **Autoimmune response**: Alopecia areata occurs when the immune system mistakenly attacks the hair follicles, leading to hair loss.\n",
      "2. **Genetics**: Family history plays a role in developing the condition.\n",
      "3. **Hormonal changes**: Hormonal fluctuations, such as those experienced during pregnancy or menopause, can trigger alopecia areata.\n",
      "4. **Stress**: Physical or emotional stress can contribute to the development of the condition.\n",
      "5. **Nutritional deficiencies**: Deficiencies in vitamins, minerals, or proteins can contribute to hair loss.\n",
      "6. **Infections**: Certain infections, such as ringworm or fungal infections, can cause hair loss.\n",
      "7. **Medical conditions**: Certain medical conditions, such as thyroid disorders, lupus, or rheumatoid arthritis, can increase the risk of developing alopecia areata.\n",
      "\n",
      "**Treatments and solutions:**\n",
      "\n",
      "1. **Corticosteroid injections**: Injecting corticosteroids into the affected area can help reduce inflammation and promote hair growth.\n",
      "2. **Topical corticosteroids**: Applying topical corticosteroids to the scalp can help reduce inflammation and promote hair growth.\n",
      "3. **Minoxidil**: Applying minoxidil, a medication that promotes hair growth, to the affected area can help stimulate hair growth.\n",
      "4. **Finasteride**: Taking finasteride, a medication that promotes hair growth, orally or topically can help stimulate hair growth.\n",
      "5. **Light therapy**: Exposure to narrowband UV-B light can help stimulate hair growth.\n",
      "6. **Platelet-rich plasma (PRP) therapy**: Injecting platelet-rich plasma (PRP) into the affected area can help stimulate hair growth.\n",
      "7. **Wig or hairpiece**: Wearing a wig or hairpiece can help conceal hair loss and provide emotional support.\n",
      "8. **Dietary changes**: Ensuring adequate nutrition, including vitamins, minerals, and proteins, can help promote hair growth.\n",
      "9. **Stress management**: Practicing stress-reducing techniques, such as meditation or yoga, can help reduce stress and promote hair growth.\n",
      "10. **Consultation with a dermatologist**: Consulting with a dermatologist can help diagnose and treat the underlying cause of alopecia areata.\n",
      "\n",
      "**Natural remedies:**\n",
      "\n",
      "1. **Aloe vera**: Applying aloe vera gel to the affected area can help stimulate hair growth.\n",
      "2. **Coconut oil**: Massaging coconut oil into the scalp can help promote hair growth.\n",
      "3. **Olive oil**: Applying olive oil to the affected area can help stimulate hair growth.\n",
      "4. **Rosemary essential oil**: Applying rosemary essential oil to the affected area can help stimulate hair growth.\n",
      "5. **Biotin supplements**: Taking biotin supplements can help promote hair growth.\n",
      "\n",
      "Remember to consult with a dermatologist or healthcare professional for proper diagnosis and treatment of alopecia areata. They can help you determine the best course of treatment and provide guidance on managing the condition.\n"
     ]
    }
   ],
   "source": [
    "query3 = \"What are the effective treatments or solutions for addressing sudden patchy hair loss, commonly seen as localized bald spots on the scalp, and what could be the possible causes behind it?\"\n",
    "print(f\"\\nQuery : {query3}\")\n",
    "print(\"Answer:\", response(query3))"
   ]
  },
  {
   "cell_type": "markdown",
   "id": "d41845ea-b5c5-4d3e-a1b1-78ad9e827bdc",
   "metadata": {},
   "source": [
    "### Query 4:  What treatments are recommended for a person who has sustained a physical injury to brain tissue, resulting in temporary or permanent impairment of brain function?"
   ]
  },
  {
   "cell_type": "code",
   "execution_count": 37,
   "id": "c361d2bc-c518-40d3-be30-53a388a22884",
   "metadata": {},
   "outputs": [
    {
     "name": "stdout",
     "output_type": "stream",
     "text": [
      "\n",
      "Query : What treatments are recommended for a person who has sustained a physical injury to brain tissue, resulting in temporary or permanent impairment of brain function?\n",
      "Answer: A brain injury, also known as a traumatic brain injury (TBI), can have a significant impact on a person's quality of life, cognitive, emotional, and physical functioning. The treatment approach for a person with a brain injury depends on the severity and location of the injury, as well as the individual's overall health and functioning. Here are some common treatments recommended for a person with a brain injury:\n",
      "\n",
      "**Emergency Care**\n",
      "\n",
      "1. Stabilization: Ensure the person's airway, breathing, and circulation are stable.\n",
      "2. Imaging: Obtain a CT or MRI scan to assess the extent of the injury.\n",
      "3. Surgery: If necessary, perform emergency surgery to relieve pressure or repair damaged tissue.\n",
      "\n",
      "**Acute Care**\n",
      "\n",
      "1. Monitoring: Continuously monitor the person's vital signs, neurological function, and level of consciousness.\n",
      "2. Pain management: Manage pain and discomfort with medication.\n",
      "3. Rehabilitation: Start early rehabilitation efforts, including physical, occupational, and speech therapy.\n",
      "4. Seizure management: Manage seizures with medication, if necessary.\n",
      "\n",
      "**Rehabilitation**\n",
      "\n",
      "1. Physical therapy: Help the person regain motor function, balance, and coordination.\n",
      "2. Occupational therapy: Assist with daily living skills, such as dressing, grooming, and feeding.\n",
      "3. Speech therapy: Improve communication skills, including speaking, reading, and writing.\n",
      "4. Cognitive therapy: Help the person relearn cognitive skills, such as memory, attention, and problem-solving.\n",
      "5. Behavioral therapy: Manage behavioral changes, such as impulsivity, aggression, or emotional regulation difficulties.\n",
      "6. Vocational therapy: Assist with returning to work or school.\n",
      "7. Psychological support: Provide emotional support and counseling for the person and their family.\n",
      "\n",
      "**Medications**\n",
      "\n",
      "1. Pain management: Use medications to manage chronic pain.\n",
      "2. Seizure management: Use anticonvulsant medications to control seizures.\n",
      "3. Mood stabilizers: Use medications to manage mood changes, such as depression or anxiety.\n",
      "4. Cognitive enhancers: Use medications to improve cognitive function, such as donepezil (Aricept).\n",
      "\n",
      "**Alternative Therapies**\n",
      "\n",
      "1. Hyperbaric oxygen therapy: Use high-pressure oxygen to promote tissue healing and reduce inflammation.\n",
      "2. Physical therapy modalities: Use techniques like heat, cold, electrical stimulation, and ultrasound to promote healing.\n",
      "3. Biofeedback: Teach the person to control bodily functions, such as heart rate and blood pressure.\n",
      "4. Cognitive training: Use computer-based programs to improve cognitive function.\n",
      "\n",
      "**Lifestyle Modifications**\n",
      "\n",
      "1. Sleep hygiene: Encourage good sleep habits to promote healing and recovery.\n",
      "2. Nutrition: Provide a balanced diet rich in antioxidants, omega-3 fatty acids, and other nutrients that support brain health.\n",
      "3. Exercise: Encourage gentle exercise, such as yoga or walking, to promote physical and cognitive well-being.\n",
      "4. Stress management: Teach stress-reduction techniques, such as meditation or deep breathing.\n",
      "\n",
      "**Post-Acute Care**\n",
      "\n",
      "1. Home care: Provide home care services, such as physical therapy and occupational therapy, to support continued recovery.\n",
      "2. Day programs: Offer day programs that provide structured activities, socialization, and therapy.\n",
      "3. Support groups: Encourage participation in support groups for individuals with brain injuries and their families.\n",
      "4. Follow-up care: Schedule regular follow-up appointments with healthcare providers to monitor progress and address any concerns.\n",
      "\n",
      "It's essential to work with a healthcare team to develop a personalized treatment plan that addresses the individual's unique needs and goals.\n"
     ]
    }
   ],
   "source": [
    "query4 = \"What treatments are recommended for a person who has sustained a physical injury to brain tissue, resulting in temporary or permanent impairment of brain function?\"\n",
    "print(f\"\\nQuery : {query4}\")\n",
    "print(\"Answer:\", response(query4))"
   ]
  },
  {
   "cell_type": "markdown",
   "id": "1d7e042a-4764-4f1f-89bf-45a288490373",
   "metadata": {},
   "source": [
    "### Query 5: What are the necessary precautions and treatment steps for a person who has fractured their leg during a hiking trip, and what should be considered for their care and recovery?"
   ]
  },
  {
   "cell_type": "code",
   "execution_count": 39,
   "id": "622b55bf-0d0f-414d-a8cb-94f4bd9c8323",
   "metadata": {},
   "outputs": [
    {
     "name": "stdout",
     "output_type": "stream",
     "text": [
      "\n",
      "Query : What are the necessary precautions and treatment steps for a person who has fractured their leg during a hiking trip, and what should be considered for their care and recovery?\n",
      "Answer: A hiking trip gone awry! Fracturing a leg can be a serious injury, especially in a remote area. Here's a comprehensive guide on necessary precautions, treatment steps, and considerations for care and recovery:\n",
      "\n",
      "**Necessary Precautions:**\n",
      "\n",
      "1. **Assess the severity**: Stop and assess the injury to determine the severity of the fracture. If it's a clean break with minimal bleeding, you may be able to stabilize it temporarily. However, if there's significant bleeding or the leg is deformed, it's best to prioritize getting help ASAP.\n",
      "2. **Stabilize the leg**: Use a splint or a makeshift splint (e.g., a piece of wood or a stick) to immobilize the leg. Apply gentle pressure to reduce bleeding and prevent further damage.\n",
      "3. **Call for help**: If you're in a remote area, call for emergency assistance using a satellite phone, two-way radio, or a personal locator beacon (PLB) if you have one.\n",
      "4. **Provide basic care**: Keep the injured leg elevated to reduce swelling, and apply a cold compress or ice pack to help alleviate pain and inflammation. Monitor vital signs, such as pulse, breathing rate, and blood pressure.\n",
      "\n",
      "**Treatment Steps:**\n",
      "\n",
      "1. **Splinting and immobilization**: Continue to immobilize the leg using a splint or a makeshift one. This will help reduce pain, prevent further damage, and promote proper healing.\n",
      "2. **Pain management**: Use pain medication, such as acetaminophen or ibuprofen, to manage discomfort. However, be cautious not to overmedicate, as this can mask important warning signs of complications.\n",
      "3. **Wound care**: If there's an open wound, clean it gently with saline solution or sterile water, and apply antibiotic ointment to reduce the risk of infection. Cover the wound with a sterile dressing to protect it from further irritation.\n",
      "4. **Monitoring**: Keep a close eye on the injured person's vital signs, including pulse, breathing rate, and blood pressure. Monitor for signs of complications, such as increased swelling, numbness, or tingling.\n",
      "5. **Transportation**: If possible, transport the injured person to a medical facility or a designated emergency response center. If not, prioritize getting them to a hospital or medical center as soon as possible.\n",
      "\n",
      "**Considerations for Care and Recovery:**\n",
      "\n",
      "1. **Medical evaluation**: Once the injured person reaches a medical facility, they will undergo a thorough evaluation to determine the extent of the fracture and the best course of treatment.\n",
      "2. **Immobilization**: The injured leg will likely be immobilized using a cast, splint, or other device to promote proper healing and reduce the risk of further injury.\n",
      "3. **Pain management**: Medical professionals will work to manage pain and discomfort using a combination of medication, physical therapy, and other interventions.\n",
      "4. **Rehabilitation**: After the initial healing process, the injured person will need to undergo a rehabilitation program to strengthen the surrounding muscles and improve range of motion.\n",
      "5. **Follow-up care**: Regular follow-up appointments with a healthcare provider will be essential to monitor the healing process, adjust treatment as needed, and prevent complications.\n",
      "6. **Prevention**: In the future, consider taking precautions to reduce the risk of leg fractures, such as wearing proper hiking gear, using trekking poles, and being mindful of terrain and weather conditions.\n",
      "\n",
      "Remember, it's always better to err on the side of caution when it comes to a leg fracture. Prioritize getting help ASAP, and take steps to ensure proper care and recovery.\n"
     ]
    }
   ],
   "source": [
    "query5 = \"What are the necessary precautions and treatment steps for a person who has fractured their leg during a hiking trip, and what should be considered for their care and recovery?\"\n",
    "print(f\"\\nQuery : {query5}\")\n",
    "print(\"Answer:\", response(query5))"
   ]
  },
  {
   "cell_type": "code",
   "execution_count": 40,
   "id": "0273f532-bd6c-4d59-8fda-916e2a1e56a3",
   "metadata": {},
   "outputs": [
    {
     "name": "stdout",
     "output_type": "stream",
     "text": [
      "LLM Responses without RAG\n",
      "\n",
      "Question: Who are you?\n",
      "Answer: I'm just an AI, a computer program designed to simulate conversation and answer questions to the best of my ability. I'm a type of language model, trained on a massive dataset of text from the internet, books, and other sources. My purpose is to assist and provide helpful information to users like you, while also learning and improving over time.\n",
      "\n",
      "I don't have personal experiences, emotions, or opinions like humans do. I exist solely to process and respond to input, using patterns and relationships in the data I've been trained on to generate responses. I'm constantly learning and adapting, so please bear with me if I make mistakes or don't quite understand what you're asking.\n",
      "\n",
      "What would you like to talk about or ask me? I'm here to help!\n",
      "------------------------------------------------------------\n",
      "Question: What are the symptoms of rheumatoid arthritis?\n",
      "Answer: Rheumatoid arthritis (RA) is a chronic autoimmune disorder that causes inflammation and pain in the joints, as well as other parts of the body. The symptoms of RA can vary from person to person, but common signs and symptoms include:\n",
      "\n",
      "1. **Joint pain and stiffness**: Pain and stiffness in the joints, especially in the hands, wrists, and knees, is a hallmark symptom of RA. The affected joints may feel warm, swollen, and tender to the touch.\n",
      "2. **Morning stiffness**: Waking up with stiffness and pain in the joints is a common symptom of RA. This stiffness typically lasts for at least 30 minutes after waking up.\n",
      "3. **Swollen and red joints**: Joints may appear swollen, red, and warm to the touch, especially in the fingers, wrists, and knees.\n",
      "4. **Crepitus**: A grating or crunching sensation in the joints, known as crepitus, is a common symptom of RA.\n",
      "5. **Loss of joint function**: As the disease progresses, joints may become stiff, swollen, and painful, making it difficult to perform daily activities, such as dressing, grooming, or even walking.\n",
      "6. **Fatigue**: People with RA often experience fatigue, which can be severe and persistent.\n",
      "7. **Weight loss**: Unintended weight loss is a common symptom of RA, particularly in the early stages of the disease.\n",
      "8. **Fever**: A low-grade fever, often accompanied by fatigue, is a common symptom of RA.\n",
      "9. **Loss of appetite**: Some people with RA may experience a loss of appetite, leading to weight loss and malnutrition.\n",
      "10. **Eye problems**: RA can cause dry eyes, blurred vision, and inflammation of the membranes surrounding the eyes (episcleritis).\n",
      "11. **Skin problems**: RA can cause skin rashes, nodules, and ulcers, particularly on the hands and feet.\n",
      "12. **Mouth sores**: Some people with RA may experience mouth sores, ulcers, or inflammation of the gums (periodontitis).\n",
      "13. **Carpal tunnel syndrome**: Compression of the nerves in the wrist and hand can cause numbness, tingling, and pain in the hands and fingers.\n",
      "14. **Inflammation of the lining of the lungs**: RA can cause inflammation of the lining of the lungs (pleurisy), which can cause chest pain and difficulty breathing.\n",
      "15. **Increased risk of infections**: People with RA are at increased risk of developing infections, such as pneumonia, due to the suppression of the immune system.\n",
      "\n",
      "It's important to note that some people with RA may not experience all of these symptoms, and the severity of symptoms can vary widely from person to person. If you suspect you or someone you know has RA, it's essential to consult with a healthcare provider for proper diagnosis and treatment.\n",
      "------------------------------------------------------------\n",
      "Question: Which medications are used to treat hypertension?\n",
      "Answer: There are many medications used to treat hypertension (high blood pressure). The choice of medication depends on the individual's blood pressure reading, medical history, age, and other factors. Here are some common medications used to treat hypertension:\n",
      "\n",
      "**1. Diuretics**:\n",
      "\t* Hydrochlorothiazide (HCTZ)\n",
      "\t* Furosemide (Lasix)\n",
      "\t* Spironolactone (Aldactone)\n",
      "\t* Chlorthalidone (Hygroton)\n",
      "\n",
      "Diuretics help remove excess fluid and sodium from the body, which can help lower blood pressure.\n",
      "\n",
      "**2. Beta Blockers**:\n",
      "\t* Atenolol (Tenormin)\n",
      "\t* Metoprolol (Lopressor)\n",
      "\t* Propranolol (Inderal)\n",
      "\t* Carvedilol (Coreg)\n",
      "\n",
      "Beta blockers slow the heart rate and reduce the force of the heart's contractions, which can help lower blood pressure.\n",
      "\n",
      "**3. Calcium Channel Blockers**:\n",
      "\t* Amlodipine (Norvasc)\n",
      "\t* Verapamil (Calan)\n",
      "\t* Diltiazem (Cardizem)\n",
      "\t* Nifedipine (Procardia)\n",
      "\n",
      "Calcium channel blockers relax blood vessels, which can help lower blood pressure.\n",
      "\n",
      "**4. ACE Inhibitors**:\n",
      "\t* Enalapril (Vasotec)\n",
      "\t* Lisinopril (Zestril)\n",
      "\t* Benazepril (Lotrel)\n",
      "\t* Quinapril (Accupril)\n",
      "\n",
      "ACE (Angiotensin-Converting Enzyme) inhibitors help relax blood vessels and lower blood pressure.\n",
      "\n",
      "**5. ARBs (Angiotensin Receptor Blockers)**:\n",
      "\t* Losartan (Cozaar)\n",
      "\t* Valsartan (Diovan)\n",
      "\t* Candesartan (Atacand)\n",
      "\t* Olmesartan (Benicar)\n",
      "\n",
      "ARBs work similarly to ACE inhibitors, but they don't break down the enzyme ACE.\n",
      "\n",
      "**6. Alpha Blockers**:\n",
      "\t* Prazosin (Minipress)\n",
      "\t* Doxazosin (Cardura)\n",
      "\t* Terazosin (Hytrin)\n",
      "\n",
      "Alpha blockers relax blood vessels and can help lower blood pressure.\n",
      "\n",
      "**7. Direct Renin Inhibitors**:\n",
      "\t* Aliskiren (Tekturna)\n",
      "\n",
      "Direct renin inhibitors work by blocking an enzyme called renin, which helps regulate blood pressure.\n",
      "\n",
      "**8. Vasodilators**:\n",
      "\t* Hydralazine (Apresoline)\n",
      "\t* Minoxidil (Rogaine)\n",
      "\n",
      "Vasodilators help relax blood vessels and can help lower blood pressure.\n",
      "\n",
      "**9. Combination Medications**:\n",
      "\t* Amlodipine/valsartan (Exforge)\n",
      "\t* Losartan/hydrochlorothiazide (Hyzaar)\n",
      "\t* Metoprolol/hydrochlorothiazide (Lopressor HCT)\n",
      "\t* Atenolol/chlorthalidone (Tenormin HCT)\n",
      "\n",
      "Combination medications combine two or more medications to help control blood pressure.\n",
      "\n",
      "Remember, it's essential to consult with a healthcare professional before starting any new medication, as they will help determine the best course of treatment for your individual situation.\n",
      "------------------------------------------------------------\n",
      "Question: What causes iron deficiency anemia?\n",
      "Answer: Iron deficiency anemia is a common nutritional disorder that occurs when the body does not have enough iron to meet its needs. Here are some common causes of iron deficiency anemia:\n",
      "\n",
      "1. **Inadequate iron intake**: Not consuming enough iron-rich foods, such as red meat, poultry, fish, beans, lentils, and fortified cereals, can lead to iron deficiency.\n",
      "2. **Poor iron absorption**: Certain factors, such as celiac disease, Crohn's disease, or taking medications like antacids or proton pump inhibitors, can impair iron absorption from food.\n",
      "3. **Increased iron requirements**: Certain conditions, such as pregnancy, infancy, and childhood, require more iron to support growth and development.\n",
      "4. **Blood loss**: Menstrual blood loss, pregnancy complications, or gastrointestinal bleeding can lead to iron deficiency.\n",
      "5. **Inadequate dietary iron**: Consuming a diet that is high in calcium, zinc, or phytates (found in beans, lentils, and whole grains) can inhibit iron absorption.\n",
      "6. **Gastrointestinal disorders**: Conditions like celiac disease, Crohn's disease, and ulcerative colitis can lead to malabsorption of iron.\n",
      "7. **Inadequate iron storage**: Women with heavy menstrual periods or those who are pregnant or breastfeeding may have lower iron stores, making them more susceptible to iron deficiency.\n",
      "8. **Vegetarian or vegan diet**: A diet that lacks animal-derived foods, such as red meat, can make it difficult to get enough iron from plant-based sources.\n",
      "9. **Chronic disease**: Certain chronic conditions, such as kidney disease, liver disease, or cancer, can increase iron requirements or lead to malabsorption.\n",
      "10. **Medications**: Some medications, such as antacids, histamine-2 (H2) blockers, and proton pump inhibitors, can reduce iron absorption.\n",
      "\n",
      "It's essential to note that iron deficiency anemia can occur in individuals of any age, sex, or ethnicity. If you suspect you or someone you know may be experiencing iron deficiency anemia, consult a healthcare provider for proper diagnosis and treatment.\n",
      "------------------------------------------------------------\n"
     ]
    }
   ],
   "source": [
    "# Sample questions for direct LLM answering\n",
    "sample_questions = [\n",
    "    \"Who are you?\",\n",
    "    \"What are the symptoms of rheumatoid arthritis?\",\n",
    "    \"Which medications are used to treat hypertension?\",\n",
    "    \"What causes iron deficiency anemia?\",\n",
    "]\n",
    "\n",
    "print(\"LLM Responses without RAG\\n\")\n",
    "for q in sample_questions:\n",
    "    op = response(prompt=q)\n",
    "    print(f\"Question: {q}\\nAnswer: {op}\\n{'-'*60}\")"
   ]
  },
  {
   "cell_type": "markdown",
   "id": "1655d7e0-04f9-40f5-92b7-cb2b4631eab4",
   "metadata": {},
   "source": [
    "## Question Answering using LLM with Prompt Engineering"
   ]
  },
  {
   "cell_type": "markdown",
   "id": "3571f25a-ce21-43c2-8b3b-4101b5c3ebf4",
   "metadata": {},
   "source": [
    "### Query 1: What is the protocol for managing sepsis in a critical care unit?"
   ]
  },
  {
   "cell_type": "code",
   "execution_count": 43,
   "id": "bb29c32b-327f-4e33-a323-f015158270e4",
   "metadata": {},
   "outputs": [
    {
     "name": "stdout",
     "output_type": "stream",
     "text": [
      "\n",
      "Query : What is the protocol for managing sepsis in a critical care unit?\n",
      "Answer: Sepsis is a life-threatening condition that requires prompt recognition and management. In a critical care unit, the protocol for managing sepsis typically involves the following steps:\n",
      "\n",
      "1. Recognition: Sepsis should be recognized early by monitoring vital signs, laboratory results, and clinical signs.\n",
      "2. Initial Assessment: A thorough initial assessment should be performed to identify the source of sepsis, including a thorough physical examination, laboratory tests, and imaging studies as needed.\n",
      "3. Fluid Resuscitation: Fluid resuscitation should be initiated promptly to restore adequate blood volume and perfusion.\n",
      "4. Antibiotic Therapy: Broad-spectrum antibiotics should be administered promptly to cover likely pathogens.\n",
      "5. Source Control: The source of sepsis should be identified and controlled, such as by draining an abscess or removing a foreign body.\n",
      "6. Monitoring: Vital signs, laboratory results, and clinical signs should be closely monitored to track the patient's response to treatment.\n",
      "7. Supportive Care: Supportive care, such as mechanical ventilation, vasopressor support, and renal replacement therapy, should be provided as needed to manage organ dysfunction.\n",
      "8. Consultation: Consultation with infectious disease specialists, intensivists, and other specialists should be sought as needed to optimize management.\n",
      "\n",
      "It is essential to note that the protocol for managing sepsis may vary depending on the specific patient population, clinical scenario, and institutional policies. Members should know how to do CPR. [Table 210-5. Mortality Risk at 30 Days in Stemi] Contributing disorders (eg, anemia, heart failure) are aggressively treated. The care unit should be a quiet, calm, restful area. Single rooms are preferred; privacy consistent with monitoring should be ensured. Usually, visitors and telephone calls are restricted to family members during the first few days. A wall clock, a calendar, and an outside window help orient the patient and. members should know how to do CPR. [Table 210-5. Mortality Risk at 30 Days in Stemi] Contributing disorders (eg, anemia, heart failure) are aggressively treated. The care unit should be a quiet, calm, restful area. Single rooms are preferred; privacy consistent with monitoring should be ensured. Usually, visitors and telephone calls are restricted to family members during the first few days. A wall clock, a calendar, and an outside window help orient the patient and. members should know how to do CPR. [Table 210-5. Mortality Risk at 30 Days in Stemi] Contributing disorders (eg, anemia, heart failure) are aggressively treated. The care unit should be a quiet, calm, restful area. Single rooms are preferred; privacy consistent with monitoring should be ensured. Usually, visitors and telephone calls are restricted to family members during the first few days. A wall clock, a calendar, and an outside window help orient the patient and. members should know how to do CPR. [Table 210-5. Mortality Risk at 30 Days in Stemi] Contributing disorders (eg, anemia, heart failure) are aggressively treated. The care unit should be a quiet, calm, restful area. Single rooms are preferred; privacy consistent with monitoring should be ensured. Usually, visitors and telephone calls are restricted to family members during the first few days. A wall clock, a calendar, and an outside window help orient the patient and. members should know how to do CPR. [Table 210-5. Mortality Risk at 30 Days in Stemi] Contributing disorders (eg, anemia, heart failure) are aggressively treated. The care unit should be a quiet, calm, restful area. Single rooms are preferred; privacy consistent with monitoring should be ensured. Usually,\n"
     ]
    }
   ],
   "source": [
    "peQuerry1 = \"What is the protocol for managing sepsis in a critical care unit?\"\n",
    "print(f\"\\nQuery : {peQuerry1}\")\n",
    "print(\"Answer:\", generate_rag_response(peQuerry1))"
   ]
  },
  {
   "cell_type": "markdown",
   "id": "216abd9f-db26-4a41-8209-a6879eac4ab9",
   "metadata": {},
   "source": [
    "### Query 2: What are the common symptoms for appendicitis, and can it be cured via medicine? If not, what surgical procedure should be followed to treat it?"
   ]
  },
  {
   "cell_type": "code",
   "execution_count": 45,
   "id": "e0fef48c-504e-444d-8b99-8e9097e96616",
   "metadata": {},
   "outputs": [
    {
     "name": "stdout",
     "output_type": "stream",
     "text": [
      "\n",
      "Query : What are the common symptoms for appendicitis, and can it be cured via medicine? If not, what surgical procedure should be followed to treat it?\n",
      "Answer: The common symptoms of appendicitis include epigastric or periumbilical pain, followed by brief nausea, vomiting, and anorexia. After a few hours, the pain typically shifts to the right lower quadrant and increases with cough and motion. Classic signs include right lower quadrant direct and rebound tenderness located at McBurney's point.\n",
      "\n",
      "Appendicitis is typically not curable via medicine alone. If left untreated, the appendix can rupture, leading to serious complications, such as peritonitis or abscesses. Therefore, surgical intervention is usually necessary to treat appendicitis.\n",
      "\n",
      "The most common surgical procedure for appendicitis is an open or laparoscopic appendectomy. During an appendectomy, the surgeon will remove the inflamed or ruptured appendix to prevent further complications. The procedure is usually performed under general anesthesia and may involve a hospital stay of 1-3 days, depending on the individual's overall health and the severity of the appendicitis. In some cases, antibiotics may be used to treat mild cases of appendicitis, but this is not a substitute for surgical removal of the appendix. Consult with a healthcare professional for personalized guidance.\n"
     ]
    }
   ],
   "source": [
    "peQuerry2 = \"What are the common symptoms for appendicitis, and can it be cured via medicine? If not, what surgical procedure should be followed to treat it?\"\n",
    "print(f\"\\nQuery : {peQuerry2}\")\n",
    "print(\"Answer:\", generate_rag_response(peQuerry2))"
   ]
  },
  {
   "cell_type": "markdown",
   "id": "b93f5164-210b-4322-9032-e724f82db067",
   "metadata": {},
   "source": [
    "### Query 3: What are the effective treatments or solutions for addressing sudden patchy hair loss, commonly seen as localized bald spots on the scalp, and what could be the possible causes behind it?"
   ]
  },
  {
   "cell_type": "code",
   "execution_count": 47,
   "id": "7cb6ee0c-9f07-4c87-b923-5380c6a96eda",
   "metadata": {},
   "outputs": [
    {
     "name": "stdout",
     "output_type": "stream",
     "text": [
      "\n",
      "Query : What are the effective treatments or solutions for addressing sudden patchy hair loss, commonly seen as localized bald spots on the scalp, and what could be the possible causes behind it?\n",
      "Answer: Sudden patchy hair loss, also known as alopecia areata, can be treated with various options. These include topical, intralesional, or systemic corticosteroids, topical minoxidil, topical anthralin, topical immunotherapy (diphencyprone or squaric acid dibutylester), or psoralen plus ultraviolet A (PUVA). It's essential to identify the underlying cause of hair loss, as it may be related to an underlying disorder that needs to be treated. In some cases, the hair loss may be due to alopecia areata, which is an autoimmune condition that causes the immune system to attack the hair follicles. Treatment options for alopecia areata aim to promote hair regrowth and reduce inflammation. It's crucial to consult a healthcare professional for proper diagnosis and treatment. Possible causes of sudden patchy hair loss include alopecia areata, thyroid disorders, autoimmune disorders, and other underlying medical conditions. A thorough medical evaluation can help determine the underlying cause and guide appropriate treatment.\n"
     ]
    }
   ],
   "source": [
    "peQuerry3 = \"What are the effective treatments or solutions for addressing sudden patchy hair loss, commonly seen as localized bald spots on the scalp, and what could be the possible causes behind it?\"\n",
    "print(f\"\\nQuery : {peQuerry3}\")\n",
    "print(\"Answer:\", generate_rag_response(peQuerry3))"
   ]
  },
  {
   "cell_type": "markdown",
   "id": "cdb83a46-f626-4373-a082-42beb37368f6",
   "metadata": {},
   "source": [
    "### Query 4:  What treatments are recommended for a person who has sustained a physical injury to brain tissue, resulting in temporary or permanent impairment of brain function?"
   ]
  },
  {
   "cell_type": "code",
   "execution_count": 49,
   "id": "bcc8892f-ab76-499b-a0b6-cbd7241f3bcb",
   "metadata": {},
   "outputs": [
    {
     "name": "stdout",
     "output_type": "stream",
     "text": [
      "\n",
      "Query : What treatments are recommended for a person who has sustained a physical injury to brain tissue, resulting in temporary or permanent impairment of brain function?\n",
      "Answer: The treatment for a person who has sustained a physical injury to brain tissue, resulting in temporary or permanent impairment of brain function, is not mentioned in the provided context. However, the context suggests that the patient's core temperature was 13.7°C, and the pupils were unreactive, which may indicate hypothermia. In this case, the recommended treatment would be to rewarm the patient, and if the cause of the injury is unclear, alcohol level, drug screening, and thyroid function tests may be performed. Sepsis and occult head or skeletal trauma must also be considered. The prognosis for the patient is difficult to predict and cannot be based on the initial presentation. The patient's outcome will depend on the underlying cause of the injury and the effectiveness of the treatment.\n"
     ]
    }
   ],
   "source": [
    "peQuerry4 = \"What treatments are recommended for a person who has sustained a physical injury to brain tissue, resulting in temporary or permanent impairment of brain function?\"\n",
    "print(f\"\\nQuery : {peQuerry4}\")\n",
    "print(\"Answer:\", generate_rag_response(peQuerry4))"
   ]
  },
  {
   "cell_type": "markdown",
   "id": "762aba25-c532-4a75-9e84-18e4e98220e1",
   "metadata": {},
   "source": [
    "### Query 5: What are the necessary precautions and treatment steps for a person who has fractured their leg during a hiking trip, and what should be considered for their care and recovery?"
   ]
  },
  {
   "cell_type": "code",
   "execution_count": 51,
   "id": "a46056b1-f2c2-4a5c-af9e-896bc37a267f",
   "metadata": {},
   "outputs": [
    {
     "name": "stdout",
     "output_type": "stream",
     "text": [
      "\n",
      "Query : What are the necessary precautions and treatment steps for a person who has fractured their leg during a hiking trip, and what should be considered for their care and recovery?\n",
      "Answer: For a person who has fractured their leg during a hiking trip, the necessary precautions and treatment steps are as follows:\n",
      "\n",
      "1. **Immobilization**: The injured leg should be immobilized using a splint or cast to prevent further injury and promote healing.\n",
      "2. **Rest**: The person should avoid putting weight on the injured leg and stay off their feet for several days (e.g., by using crutches) to allow the fracture to heal.\n",
      "3. **Wound care**: The wound should be kept clean and dry, and dressings that are nonadherent and impermeable to bacteria should be applied. Antibiotic ointment should be applied daily until the wound closure device is removed.\n",
      "4. **Early physician examination**: The person should have an early physician examination to assess the severity of the fracture and determine the best course of treatment.\n",
      "5. **Pain management**: The person should receive pain management to ensure their comfort and promote healing.\n",
      "6. **Follow-up care**: The person should receive follow-up care to monitor the healing process and adjust treatment as needed.\n",
      "\n",
      "Considerations for care and recovery:\n",
      "\n",
      "* **Crutches**: The person should use crutches to avoid putting weight on the injured leg and promote healing.\n",
      "* **Elevation**: The injured leg should be elevated above the level of the heart to reduce swelling and promote healing.\n",
      "* **Monitoring**: The person's vital signs, including blood pressure, pulse, and temperature, should be monitored regularly to ensure that the fracture is healing properly.\n",
      "* **Rehabilitation**: The person should receive physical therapy to promote strength and mobility in the injured leg once the fracture has healed.\n",
      "* **Follow-up appointments**: The person should have follow-up appointments with their healthcare provider to monitor the healing process and adjust treatment as needed.\n",
      "\n",
      "It is essential to seek medical attention as soon as possible after the injury to ensure proper treatment and promote optimal healing.\n"
     ]
    }
   ],
   "source": [
    "peQuerry5 = \"What are the necessary precautions and treatment steps for a person who has fractured their leg during a hiking trip, and what should be considered for their care and recovery?\"\n",
    "print(f\"\\nQuery : {peQuerry5}\")\n",
    "print(\"Answer:\", generate_rag_response(peQuerry5))"
   ]
  },
  {
   "cell_type": "code",
   "execution_count": 52,
   "id": "d122d17d-05a3-4abd-a5f0-73ae3fe655fa",
   "metadata": {},
   "outputs": [
    {
     "name": "stdout",
     "output_type": "stream",
     "text": [
      "LLM Responses with RAG\n",
      "\n",
      "Question: Who are you?\n",
      "Answer: I am a helpful medical assistant. I am here to assist you with your medical questions and provide you with accurate and concise information. Please feel free to ask me any questions you may have, and I will do my best to help you.\n",
      "------------------------------------------------------------\n",
      "Question: What are the symptoms of rheumatoid arthritis?\n",
      "Answer: Reactive arthritis can range from transient monarticular arthritis to a severe, multisystem disorder. Constitutional symptoms may include fever, fatigue, and weight loss. Arthritis may be mild or severe. Joint involvement is generally asymmetric and oligoarticular or polyarticular, occurring predominantly in the large joints of the lower extremities and in the toes. Back pain may occur, usually with severe disease. white controls, thus supporting a genetic predisposition. white controls, thus supporting a genetic predisposition. white controls, thus supporting a genetic predisposition. white controls, thus supporting a genetic predisposition. white controls, thus supporting a genetic predisposition. white controls, thus supporting a genetic predisposition. white controls, thus supporting a genetic predisposition. white controls, thus supporting a genetic predisposition. white controls, thus supporting a genetic predisposition. white controls, thus supporting a genetic predisposition. white controls, thus supporting a genetic predisposition. white controls, thus supporting a genetic predisposition. white controls, thus supporting a genetic predisposition. white controls, thus supporting a genetic predisposition. white controls, thus supporting a genetic predisposition. white controls, thus supporting a genetic predisposition. white controls, thus supporting a genetic predisposition. white controls, thus supporting a genetic predisposition. white controls, thus supporting a genetic predisposition. white controls, thus supporting a genetic predisposition. white controls, thus supporting a genetic predisposition. white controls, thus supporting a genetic predisposition. white controls, thus supporting a genetic predisposition. white controls, thus supporting a genetic predisposition. white controls, thus supporting a genetic predisposition. white controls, thus supporting a genetic predisposition. white controls, thus supporting a genetic predisposition. white controls, thus supporting a genetic predisposition. white controls, thus supporting a genetic predisposition. white controls, thus supporting a genetic predisposition. white controls, thus supporting a genetic predisposition. white controls, thus supporting a genetic predisposition. white controls, thus supporting a genetic predisposition. white controls, thus supporting a genetic predisposition. white controls, thus supporting a genetic predisposition. white controls, thus supporting a genetic predisposition. white controls, thus supporting a genetic predisposition. white controls, thus supporting a genetic predisposition. white controls, thus supporting a genetic predisposition. white controls, thus supporting a genetic predisposition. white controls, thus supporting a genetic predisposition. white controls, thus supporting a genetic predisposition. white controls, thus supporting a genetic predisposition. white controls, thus supporting a genetic predisposition. white controls, thus supporting a genetic predisposition. white controls, thus supporting a genetic predisposition. white controls, thus supporting a genetic predisposition. white controls, thus supporting a genetic predisposition. white controls, thus supporting a genetic predisposition. white controls, thus supporting a genetic predisposition. white controls, thus supporting a genetic predisposition. white controls, thus supporting a genetic predisposition. white controls, thus supporting a genetic predisposition. white controls, thus supporting a genetic predisposition. white controls, thus supporting a genetic predisposition. white controls, thus supporting a genetic predisposition. white controls, thus supporting a genetic predisposition. white controls, thus supporting a genetic predisposition. white controls, thus supporting a genetic predisposition. white controls, thus supporting a genetic predisposition. white controls, thus supporting a genetic predisposition. white controls, thus supporting a genetic predisposition. white controls, thus supporting a genetic predisposition. white controls, thus supporting a genetic predisposition. white controls, thus supporting a genetic predisposition. white controls, thus supporting a genetic predisposition. white controls, thus supporting a genetic predisposition. white controls, thus supporting a genetic predisposition. white controls, thus supporting a genetic predis\n",
      "------------------------------------------------------------\n",
      "Question: Which medications are used to treat hypertension?\n",
      "Answer: According to the provided context, medications such as clonidine (in the form of a transdermal patch) and postsynaptic α1-blockers (such as prazosin, terazosin, and doxazosin) are used to treat hypertension. However, it is noted that postsynaptic α1-blockers are no longer widely used for primary treatment of hypertension due to a lack of reduction in mortality. Additionally, doxazosin used alone or with antihypertensives other than diuretics increases the risk of heart failure. Clonidine, on the other hand, may be useful for nonadherent patients, such as those with dementia.\n",
      "------------------------------------------------------------\n",
      "Question: What causes iron deficiency anemia?\n",
      "Answer: Iron deficiency anemia is usually caused by blood loss. The symptoms are usually nonspecific, and the RBCs tend to be microcytic and hypochromic. Iron stores are low, as shown by low serum ferritin and low serum iron levels with high serum total iron binding capacity. If the diagnosis is made, occult blood loss is suspected. Treatment involves iron replacement and treatment of the cause of blood loss.\n",
      "------------------------------------------------------------\n"
     ]
    }
   ],
   "source": [
    "# Sample questions for direct LLM with RAG answering\n",
    "sample_questions = [\n",
    "    \"Who are you?\",\n",
    "    \"What are the symptoms of rheumatoid arthritis?\",\n",
    "    \"Which medications are used to treat hypertension?\",\n",
    "    \"What causes iron deficiency anemia?\",\n",
    "]\n",
    "\n",
    "print(\"LLM Responses with RAG\\n\")\n",
    "for q in sample_questions:\n",
    "    op = generate_rag_response(q)\n",
    "    print(f\"Question: {q}\\nAnswer: {op}\\n{'-'*60}\")"
   ]
  },
  {
   "cell_type": "markdown",
   "id": "49a58287-bc06-4a8d-85f8-4b66c98dfbe7",
   "metadata": {},
   "source": [
    "### Fine-tuning"
   ]
  },
  {
   "cell_type": "code",
   "execution_count": 54,
   "id": "b1fd79a1-bab6-4d7b-a4eb-aa425b6099ed",
   "metadata": {},
   "outputs": [],
   "source": [
    "# Run multiple combinations of RAG parameters and compare results\n",
    "def run_rag_experiments(user_input, param_grid):\n",
    "    results = []\n",
    "\n",
    "    for params in param_grid:\n",
    "        k = params.get(\"k\", 3)\n",
    "        max_tokens = params.get(\"max_tokens\", 128)\n",
    "        temperature = params.get(\"temperature\", 0.0)\n",
    "        top_p = params.get(\"top_p\", 0.95)\n",
    "        top_k = params.get(\"top_k\", 50)\n",
    "\n",
    "        output = generate_rag_response(\n",
    "            user_input=user_input,\n",
    "            k=k,\n",
    "            max_tokens=max_tokens,\n",
    "            temperature=temperature,\n",
    "            top_p=top_p,\n",
    "            top_k=top_k\n",
    "        )\n",
    "        results.append({\n",
    "            \"Params\": params,\n",
    "            \"Answer\": output,\n",
    "        })\n",
    "    return results"
   ]
  },
  {
   "cell_type": "code",
   "execution_count": 55,
   "id": "d2e565d5-1e76-4027-a1f8-4c7fe043471d",
   "metadata": {},
   "outputs": [
    {
     "data": {
      "text/html": [
       "<div>\n",
       "<style scoped>\n",
       "    .dataframe tbody tr th:only-of-type {\n",
       "        vertical-align: middle;\n",
       "    }\n",
       "\n",
       "    .dataframe tbody tr th {\n",
       "        vertical-align: top;\n",
       "    }\n",
       "\n",
       "    .dataframe thead th {\n",
       "        text-align: right;\n",
       "    }\n",
       "</style>\n",
       "<table border=\"1\" class=\"dataframe\">\n",
       "  <thead>\n",
       "    <tr style=\"text-align: right;\">\n",
       "      <th></th>\n",
       "      <th>Params</th>\n",
       "      <th>Answer</th>\n",
       "    </tr>\n",
       "  </thead>\n",
       "  <tbody>\n",
       "    <tr>\n",
       "      <th>0</th>\n",
       "      <td>{'k': 2, 'max_tokens': 100, 'temperature': 0.0, 'top_p': 0.9, 'top_k': 40}</td>\n",
       "      <td>Hello! I'm a helpful medical assistant. I'm here to assist you with any medical questions or concerns you may have. Please feel free to ask me anything, and I'll do my best to provide you with accurate and concise information. What's on your mind?</td>\n",
       "    </tr>\n",
       "    <tr>\n",
       "      <th>1</th>\n",
       "      <td>{'k': 3, 'max_tokens': 128, 'temperature': 0.3, 'top_p': 0.95, 'top_k': 50}</td>\n",
       "      <td>I am a helpful medical assistant. I am here to assist you with your medical questions and provide you with accurate and concise information. Please feel free to ask me any questions you may have, and I will do my best to help you.</td>\n",
       "    </tr>\n",
       "    <tr>\n",
       "      <th>2</th>\n",
       "      <td>{'k': 4, 'max_tokens': 150, 'temperature': 0.7, 'top_p': 0.85, 'top_k': 60}</td>\n",
       "      <td>Hello! I'm a helpful medical assistant. I'm here to provide you with accurate and concise information to help answer your medical questions. I've reviewed the provided context, and I'm ready to assist you with your inquiry. Please feel free to ask your question, and I'll do my best to provide a helpful response.</td>\n",
       "    </tr>\n",
       "    <tr>\n",
       "      <th>3</th>\n",
       "      <td>{'k': 5, 'max_tokens': 120, 'temperature': 0.9, 'top_p': 0.8, 'top_k': 45}</td>\n",
       "      <td>Hi! I'm a helpful medical assistant. I'm here to assist you with any medical questions you may have. Please feel free to ask me anything, and I'll do my best to provide you with accurate and concise information. What's on your mind?</td>\n",
       "    </tr>\n",
       "    <tr>\n",
       "      <th>4</th>\n",
       "      <td>{'k': 3, 'max_tokens': 128, 'temperature': 0.2, 'top_p': 0.92, 'top_k': 30}</td>\n",
       "      <td>Hello! I'm a helpful medical assistant. I'm here to assist you with any medical questions or concerns you may have. Please feel free to ask me anything, and I'll do my best to provide you with accurate and concise information. What's on your mind?</td>\n",
       "    </tr>\n",
       "  </tbody>\n",
       "</table>\n",
       "</div>"
      ],
      "text/plain": [
       "                                                                        Params  \\\n",
       "0   {'k': 2, 'max_tokens': 100, 'temperature': 0.0, 'top_p': 0.9, 'top_k': 40}   \n",
       "1  {'k': 3, 'max_tokens': 128, 'temperature': 0.3, 'top_p': 0.95, 'top_k': 50}   \n",
       "2  {'k': 4, 'max_tokens': 150, 'temperature': 0.7, 'top_p': 0.85, 'top_k': 60}   \n",
       "3   {'k': 5, 'max_tokens': 120, 'temperature': 0.9, 'top_p': 0.8, 'top_k': 45}   \n",
       "4  {'k': 3, 'max_tokens': 128, 'temperature': 0.2, 'top_p': 0.92, 'top_k': 30}   \n",
       "\n",
       "                                                                                                                                                                                                                                                                                                                      Answer  \n",
       "0                                                                    Hello! I'm a helpful medical assistant. I'm here to assist you with any medical questions or concerns you may have. Please feel free to ask me anything, and I'll do my best to provide you with accurate and concise information. What's on your mind?  \n",
       "1                                                                                     I am a helpful medical assistant. I am here to assist you with your medical questions and provide you with accurate and concise information. Please feel free to ask me any questions you may have, and I will do my best to help you.  \n",
       "2  Hello! I'm a helpful medical assistant. I'm here to provide you with accurate and concise information to help answer your medical questions. I've reviewed the provided context, and I'm ready to assist you with your inquiry. Please feel free to ask your question, and I'll do my best to provide a helpful response.  \n",
       "3                                                                                   Hi! I'm a helpful medical assistant. I'm here to assist you with any medical questions you may have. Please feel free to ask me anything, and I'll do my best to provide you with accurate and concise information. What's on your mind?  \n",
       "4                                                                    Hello! I'm a helpful medical assistant. I'm here to assist you with any medical questions or concerns you may have. Please feel free to ask me anything, and I'll do my best to provide you with accurate and concise information. What's on your mind?  "
      ]
     },
     "metadata": {},
     "output_type": "display_data"
    }
   ],
   "source": [
    "# RAG Fine-Tuning: Evaluate multiple parameter combinations for better responses\n",
    "\n",
    "# Step 1: Define different parameter combinations for tuning the RAG response\n",
    "parameter_grid = [\n",
    "    {\"k\": 2, \"max_tokens\": 100, \"temperature\": 0.0, \"top_p\": 0.9,  \"top_k\": 40},\n",
    "    {\"k\": 3, \"max_tokens\": 128, \"temperature\": 0.3, \"top_p\": 0.95, \"top_k\": 50},\n",
    "    {\"k\": 4, \"max_tokens\": 150, \"temperature\": 0.7, \"top_p\": 0.85, \"top_k\": 60},\n",
    "    {\"k\": 5, \"max_tokens\": 120, \"temperature\": 0.9, \"top_p\": 0.8,  \"top_k\": 45},\n",
    "    {\"k\": 3, \"max_tokens\": 128, \"temperature\": 0.2, \"top_p\": 0.92, \"top_k\": 30},\n",
    "]\n",
    "\n",
    "# Step 2: Choose a sample query to test across all parameter sets\n",
    "query_input = \"who are you?\"\n",
    "\n",
    "# Step 3: Run the RAG experiments using the parameter combinations\n",
    "fine_tuning_results = run_rag_experiments(query_input, parameter_grid)\n",
    "\n",
    "# Step 4: Display results as a full DataFrame\n",
    "import pandas as pd\n",
    "\n",
    "# Allow full content display in each cell\n",
    "pd.set_option('display.max_colwidth', None)\n",
    "\n",
    "# Convert to DataFrame\n",
    "df_results = pd.DataFrame(fine_tuning_results)\n",
    "\n",
    "# Show the results\n",
    "display(df_results)"
   ]
  },
  {
   "cell_type": "markdown",
   "id": "a38cfabb-4162-4a21-be3e-b77a24b8aae9",
   "metadata": {},
   "source": [
    "## Output Evaluation"
   ]
  },
  {
   "cell_type": "code",
   "execution_count": 94,
   "id": "57d68e41-569c-435d-991d-7a4fb65d4bf1",
   "metadata": {},
   "outputs": [],
   "source": [
    "groundedness_rater_system_message =\"You are a medical domain expert. Rate how grounded the answer is based on the provided context.\""
   ]
  },
  {
   "cell_type": "code",
   "execution_count": 96,
   "id": "ebcd422d-bdc8-4617-ab5e-1018c1ab06c9",
   "metadata": {},
   "outputs": [],
   "source": [
    "relevance_rater_system_message = \"You are a strict medical relevance evaluator.You are given a medical context, a user question, and the answer generated by an AI assistant.Rate how relevant the answer is to the question based only on the given context.\""
   ]
  },
  {
   "cell_type": "code",
   "execution_count": 98,
   "id": "fae5f06b-04c4-4fae-bba4-c24fdbb68437",
   "metadata": {},
   "outputs": [],
   "source": [
    "user_message_template = \"\"\"\n",
    "Context: {context}\n",
    "Question: {question}\n",
    "Answer: {answer}\n",
    "\"\"\""
   ]
  },
  {
   "cell_type": "code",
   "execution_count": 104,
   "id": "37635d2f-1449-49e5-8690-b2c40285aa29",
   "metadata": {},
   "outputs": [],
   "source": [
    "def generate_ground_relevance_response(\n",
    "    user_input,k=3,max_tokens=512,temperature=0,top_p=0.95,top_k=50\n",
    "):\n",
    "    # Step 1: Retrieve relevant documents\n",
    "    relevant_document_chunks = retriever.get_relevant_documents(query=user_input, k=k)\n",
    "    context_list = [d.page_content for d in relevant_document_chunks]\n",
    "    # Combine document chunks into a single context\n",
    "    context_for_query = \". \".join(context_list[:2])\n",
    "    user_message = qna_user_message_template.replace(\"{context}\", context_for_query)\n",
    "    user_message = user_message.replace(\"{question}\", user_input)\n",
    "    prompt = qna_system_message + \"\\n\" + user_message\n",
    "    \n",
    "    # Step 2: Generate answer using context-aware response\n",
    "    response = llm(\n",
    "        prompt=prompt,\n",
    "        max_tokens=max_tokens,\n",
    "        temperature=temperature,\n",
    "        top_p=top_p,\n",
    "        top_k=top_k,\n",
    "        stop=[\"\\nQuestion:\", \"\\nQ:\", \"\\n#\"] \n",
    "    )\n",
    "\n",
    "    # Extract and print the model's response\n",
    "    answer = response[\"choices\"][0][\"text\"].strip()\n",
    "    \n",
    "    user_message_temp = (\n",
    "        user_message_template.replace(\"{context}\", context_for_query)\n",
    "        .replace(\"{question}\", user_input)\n",
    "        .replace(\"{answer}\", answer)\n",
    "    )\n",
    "\n",
    "    # Step 3: Groundedness rating (1-5)\n",
    "    groundedness_prompt = groundedness_rater_system_message + \"\\n\" + user_message_temp\n",
    "    grounded_resp = llm(\n",
    "        prompt=groundedness_prompt,\n",
    "        max_tokens=max_tokens,\n",
    "        temperature=temperature,\n",
    "        top_p=top_p,\n",
    "        top_k=top_k,\n",
    "    )\n",
    "    groundedness = grounded_resp[\"choices\"][0][\"text\"].strip()\n",
    "    # Step 4: Relevance rating\n",
    "    relevance_prompt = relevance_rater_system_message + \"\\n\" + user_message_temp\n",
    "\n",
    "    relevance_resp = llm(\n",
    "        prompt=relevance_prompt,\n",
    "        max_tokens=max_tokens,\n",
    "        temperature=temperature,\n",
    "        top_p=top_p,\n",
    "        top_k=top_k,\n",
    "    )\n",
    "    relevance = relevance_resp[\"choices\"][0][\"text\"].strip()\n",
    "    return {\"answer\": answer, \"groundedness\": groundedness, \"relevance\": relevance}\n"
   ]
  },
  {
   "cell_type": "code",
   "execution_count": 106,
   "id": "a0f1c361-4248-4de9-9f1d-94f814be1fa1",
   "metadata": {},
   "outputs": [
    {
     "data": {
      "text/html": [
       "<div>\n",
       "<style scoped>\n",
       "    .dataframe tbody tr th:only-of-type {\n",
       "        vertical-align: middle;\n",
       "    }\n",
       "\n",
       "    .dataframe tbody tr th {\n",
       "        vertical-align: top;\n",
       "    }\n",
       "\n",
       "    .dataframe thead th {\n",
       "        text-align: right;\n",
       "    }\n",
       "</style>\n",
       "<table border=\"1\" class=\"dataframe\">\n",
       "  <thead>\n",
       "    <tr style=\"text-align: right;\">\n",
       "      <th></th>\n",
       "      <th>Query</th>\n",
       "      <th>Answer</th>\n",
       "      <th>Groundedness</th>\n",
       "      <th>Relevance</th>\n",
       "    </tr>\n",
       "  </thead>\n",
       "  <tbody>\n",
       "    <tr>\n",
       "      <th>0</th>\n",
       "      <td>What are the symptoms and treatment for pneumonia?</td>\n",
       "      <td>Pneumonia is a complication that may develop after a primary illness, characterized by a worsening cough, bloody sputum, dyspnea, and rales. Symptoms may include:\\n\\n* Worsening cough\\n* Bloody sputum\\n* Dyspnea (shortness of breath)\\n* Rales (abnormal breathing sounds)\\n\\nTreatment for pneumonia typically involves antibiotics, such as:\\n\\n* Macrolides (e.g., azithromycin)\\n* Fluoroquinolones (e.g., ciprofloxacin)\\n* Doxycycline\\n* Amoxicillin\\n\\nIn addition to antibiotics, treatment may also include:\\n\\n* Rest and hydration\\n* Oxygen therapy if necessary\\n* Chest physical therapy to help loosen and clear mucus\\n* Pain management with medications like acetaminophen or ibuprofen\\n\\nIt's important to note that pneumonia can be a serious condition, and prompt medical attention is necessary to prevent complications and ensure proper treatment. If you're experiencing symptoms of pneumonia, seek medical care immediately.</td>\n",
       "      <td>Rating: 9/10\\n\\nThe answer is grounded in the provided context, as it accurately describes the symptoms and treatment for pneumonia. The only potential issue is that the answer does not explicitly state that the primary illness is likely to be influenza, which is implied by the context. However, this is a minor point, and the answer is generally well-grounded in the context.</td>\n",
       "      <td>Rating: 9/10\\n\\nThe answer is highly relevant to the question, as it directly addresses the symptoms and treatment of pneumonia, which is a complication mentioned in the context. The answer provides a clear and concise overview of the symptoms and treatment options, and it also emphasizes the importance of seeking medical attention promptly. The only reason it's not a perfect 10 is that the answer doesn't explicitly mention the primary illness that pneumonia may develop after, which is mentioned in the context. However, the answer does provide a clear explanation of the symptoms and treatment options, which makes it highly relevant to the question.</td>\n",
       "    </tr>\n",
       "    <tr>\n",
       "      <th>1</th>\n",
       "      <td>What are the treatment options and alternatives for managing rheumatoid arthritis?</td>\n",
       "      <td>Treatment options for managing rheumatoid arthritis (RA) include:\\n\\n1. Disease-modifying antirheumatic drugs (DMARDs): These medications, such as methotrexate, hydroxychloroquine, and sulfasalazine, help reduce inflammation and slow the progression of the disease.\\n2. Biologic agents: These medications, such as etanercept, adalimumab, and infliximab, target specific proteins involved in inflammation and can help reduce symptoms.\\n3. TNF-α antagonists: These medications, such as etanercept and adalimumab, block the action of tumor necrosis factor-alpha, a protein involved in inflammation.\\n4. IL-1 receptor antagonists: These medications, such as anakinra, block the action of interleukin-1, a protein involved in inflammation.\\n5. NSAIDs: Nonsteroidal anti-inflammatory drugs, such as ibuprofen and naproxen, can help reduce pain and inflammation, but they do not prevent erosions or disease progression.\\n\\nTreatment alternatives for managing RA include:\\n\\n1. Physical therapy: Exercise and physical therapy can help maintain joint mobility and reduce symptoms.\\n2. Occupational therapy: Occupational therapy can help individuals with RA maintain independence and adapt to changes in their ability to perform daily activities.\\n3. Alternative therapies: Alternative therapies, such as acupuncture, massage, and yoga, may help reduce symptoms and improve overall well-being.\\n4. Lifestyle modifications: Lifestyle modifications, such as maintaining a healthy weight, quitting smoking, and getting regular exercise, can help reduce symptoms and improve overall health.\\n\\nIt's important to work with a healthcare provider to develop a personalized treatment plan that takes into account the individual's specific needs and goals. With proper treatment and management, many people with RA are able to manage their symptoms and maintain a good quality of life.</td>\n",
       "      <td>Rating: 9/10\\n\\nThe answer is well-grounded in the context, providing a clear overview of the treatment options and alternatives for managing rheumatoid arthritis. The information is accurate and up-to-date, and the answer provides a comprehensive overview of the different treatment options and alternatives. The only area for improvement is that the answer could provide more specific information about the different treatment options and their potential side effects. Overall, the answer is well-grounded and provides a clear and accurate overview of the treatment options and alternatives for managing RA.</td>\n",
       "      <td>Rating: 9/10\\n\\nThe answer is highly relevant to the question, providing a comprehensive overview of treatment options and alternatives for managing rheumatoid arthritis. The answer is well-organized, easy to follow, and provides a clear explanation of the different treatment options and their mechanisms of action. The only reason it's not a perfect 10 is that it doesn't specifically address the context of joint inflammation being temporary unless disease activity can be controlled, but it does provide a general overview of the treatment options and their goals, which aligns with the context. Overall, the answer is highly relevant and provides a thorough and accurate response to the question.</td>\n",
       "    </tr>\n",
       "    <tr>\n",
       "      <th>2</th>\n",
       "      <td>What is the role of insulin in managing type 1 diabetes?</td>\n",
       "      <td>Insulin is the traditional drug of choice for managing type 1 diabetes during pregnancy. It provides more predictable glucose control and cannot cross the placenta, making it a safe choice for fetal development. Human insulin is preferred if possible to minimize antibody formation. The goals are to maintain no wide blood glucose fluctuations and glycosylated Hb (Hb A1c) levels at &lt; 8%. [Table 263-2. Management of Type 2 Diabetes Mellitus* During Pregnancy] Insulin is the traditional drug of choice because it cannot cross the placenta and provides more predictable glucose control; it is used for types 1 and 2 diabetes and for some women with gestational diabetes. Human insulin is used if possible because it minimizes antibody formation. Insulin antibodies. The goals are no wide blood glucose fluctuations and glycosylated Hb (Hb A1c) levels kept at &lt; 8%. [Table 263-2. Management of Type 2 Diabetes Mellitus* During Pregnancy] Insulin is the traditional drug of choice because it cannot cross the placenta and provides more predictable glucose control; it is used for types 1 and 2 diabetes and for some women with gestational diabetes. Human insulin is used if possible because it minimizes antibody formation. Insulin antibodies. The goals are no wide blood glucose fluctuations and glycosylated Hb (Hb A1c) levels kept at &lt; 8%. [Table 263-2. Management of Type 2 Diabetes Mellitus* During Pregnancy] Insulin is the traditional drug of choice because it cannot cross the placenta and provides more predictable glucose control; it is used for types 1 and 2 diabetes and for some women with gestational diabetes. Human insulin is used if possible because it minimizes antibody formation. Insulin antibodies. The goals are no wide blood glucose fluctuations and glycosylated Hb (Hb A1c) levels kept at &lt; 8%. [Table 263-2. Management of Type 2 Diabetes Mellitus* During Pregnancy] Insulin is the traditional drug of choice because it cannot cross the placenta and provides more predictable glucose control; it is used for types 1 and 2 diabetes and for some women with gestational diabetes. Human insulin is used if possible because it minimizes antibody formation. Insulin antibodies. The goals are no wide blood glucose fluctuations and glycosylated Hb (Hb A1c) levels kept at &lt; 8%. [Table 263</td>\n",
       "      <td>Rating: 9/10\\n\\nThe answer is well-grounded in the provided context, as it accurately reflects the information presented in the table. The answer is clear and concise, and it provides a good summary of the role of insulin in managing type 1 diabetes during pregnancy. The only minor issue is that the answer is slightly repetitive, as it repeats the same information multiple times. However, this does not detract from the overall quality of the answer, which is well-grounded and accurate.</td>\n",
       "      <td>Rating: 9/10\\n\\nThe answer is highly relevant to the question. The context provided is about managing type 2 diabetes during pregnancy, and the answer specifically discusses the role of insulin in managing type 1 diabetes during pregnancy. The answer also mentions the goals of maintaining no wide blood glucose fluctuations and glycosylated Hb (Hb A1c) levels at &lt; 8%, which is consistent with the context. The only reason I wouldn't give it a perfect score is that the answer is a bit repetitive and includes some unnecessary information. However, overall, the answer is very relevant to the question and provides useful information about the role of insulin in managing type 1 diabetes during pregnancy.</td>\n",
       "    </tr>\n",
       "    <tr>\n",
       "      <th>3</th>\n",
       "      <td>How does hypertension affect cardiovascular health?</td>\n",
       "      <td>Hypertension can damage the cardiovascular system, increasing the risk of coronary artery disease (CAD), myocardial infarction (MI), and stroke, particularly hemorrhagic. This occurs through the development of generalized arteriolosclerosis and acceleration of atherogenesis. Prolonged or severe hypertension can lead to cardiovascular complications, emphasizing the importance of timely and effective management to prevent these outcomes.</td>\n",
       "      <td>Rating: 5/5 (Grounded)\\n\\nThe answer is grounded because it accurately reflects the provided context and explains the effects of hypertension on cardiovascular health. The answer specifically mentions the development of generalized arteriolosclerosis and acceleration of atherogenesis, which are the mechanisms by which hypertension damages the cardiovascular system. The answer also highlights the importance of timely and effective management to prevent cardiovascular complications, which is consistent with the provided context. Overall, the answer is well-supported by the context and provides a clear and accurate explanation of how hypertension affects cardiovascular health.</td>\n",
       "      <td>Relevance: 9/10\\n\\nNote: The relevance is based on the given context and the question. The answer is highly relevant to the question, as it directly addresses the impact of hypertension on cardiovascular health, which is the main topic of the context. The answer also provides specific details about the mechanisms involved, which are relevant to the context. The only reason it's not a perfect 10 is that the answer doesn't explicitly mention the brain and kidneys, which are also affected by hypertension, as mentioned in the context. However, the answer does cover the main points and provides a clear explanation of the effects of hypertension on cardiovascular health.</td>\n",
       "    </tr>\n",
       "    <tr>\n",
       "      <th>4</th>\n",
       "      <td>What are the recommended treatments for seasonal allergies?</td>\n",
       "      <td>The recommended treatments for seasonal allergies include:\\n\\n1. Oral antihistamines plus oral decongestants\\n2. Nasal corticosteroids with or without oral antihistamines\\n3. Sometimes immunotherapy for seasonal rhinitis\\n4. Desensitization for severe, refractory rhinitis\\n\\nNote: Environmental control measures, such as eliminating dust mites and cockroaches, are also recommended for perennial rhinitis. However, this information is not specifically mentioned for seasonal rhinitis.</td>\n",
       "      <td>Rating: 8/10\\n\\nThe answer is grounded in the provided context, as it accurately reflects the information presented. The only potential issue is the lack of specific mention of environmental control measures for seasonal rhinitis, although it is mentioned as a recommendation for perennial rhinitis. Overall, the answer is well-supported by the context and provides a clear summary of the recommended treatments for seasonal allergies.</td>\n",
       "      <td>Relevance rating: 9/10\\n\\nThe answer is highly relevant to the question, as it directly addresses the recommended treatments for seasonal allergies. The only minor deviation is the mention of environmental control measures, which are not specifically mentioned for seasonal rhinitis. However, this information is still relevant to the broader topic of allergic rhinitis. Overall, the answer is well-supported by the provided context and accurately addresses the user's question.</td>\n",
       "    </tr>\n",
       "  </tbody>\n",
       "</table>\n",
       "</div>"
      ],
      "text/plain": [
       "                                                                                Query  \\\n",
       "0                                  What are the symptoms and treatment for pneumonia?   \n",
       "1  What are the treatment options and alternatives for managing rheumatoid arthritis?   \n",
       "2                            What is the role of insulin in managing type 1 diabetes?   \n",
       "3                                 How does hypertension affect cardiovascular health?   \n",
       "4                         What are the recommended treatments for seasonal allergies?   \n",
       "\n",
       "                                                                                                                                                                                                                                                                                                                                                                                                                                                                                                                                                                                                                                                                                                                                                                                                                                                                                                                                                                                                                                                                                                                                                                                                                                                                                                                                                                                                                                                                                                                                                                                                                                                                                                                                                                                                                                                                                                                                                                                                                                                                                                                                                                                                                                                                                                                                                                                            Answer  \\\n",
       "0                                                                                                                                                                                                                                                                                                                                                                                                                                                                                                                                                                                                                                                                                                                                                                                                                                                                                                                                                                                                                                                                                                                                                                                                                                                                                                                                                                                                                                 Pneumonia is a complication that may develop after a primary illness, characterized by a worsening cough, bloody sputum, dyspnea, and rales. Symptoms may include:\\n\\n* Worsening cough\\n* Bloody sputum\\n* Dyspnea (shortness of breath)\\n* Rales (abnormal breathing sounds)\\n\\nTreatment for pneumonia typically involves antibiotics, such as:\\n\\n* Macrolides (e.g., azithromycin)\\n* Fluoroquinolones (e.g., ciprofloxacin)\\n* Doxycycline\\n* Amoxicillin\\n\\nIn addition to antibiotics, treatment may also include:\\n\\n* Rest and hydration\\n* Oxygen therapy if necessary\\n* Chest physical therapy to help loosen and clear mucus\\n* Pain management with medications like acetaminophen or ibuprofen\\n\\nIt's important to note that pneumonia can be a serious condition, and prompt medical attention is necessary to prevent complications and ensure proper treatment. If you're experiencing symptoms of pneumonia, seek medical care immediately.   \n",
       "1                                                                                                                                                                                                                                                                                                                                                                                                                                                       Treatment options for managing rheumatoid arthritis (RA) include:\\n\\n1. Disease-modifying antirheumatic drugs (DMARDs): These medications, such as methotrexate, hydroxychloroquine, and sulfasalazine, help reduce inflammation and slow the progression of the disease.\\n2. Biologic agents: These medications, such as etanercept, adalimumab, and infliximab, target specific proteins involved in inflammation and can help reduce symptoms.\\n3. TNF-α antagonists: These medications, such as etanercept and adalimumab, block the action of tumor necrosis factor-alpha, a protein involved in inflammation.\\n4. IL-1 receptor antagonists: These medications, such as anakinra, block the action of interleukin-1, a protein involved in inflammation.\\n5. NSAIDs: Nonsteroidal anti-inflammatory drugs, such as ibuprofen and naproxen, can help reduce pain and inflammation, but they do not prevent erosions or disease progression.\\n\\nTreatment alternatives for managing RA include:\\n\\n1. Physical therapy: Exercise and physical therapy can help maintain joint mobility and reduce symptoms.\\n2. Occupational therapy: Occupational therapy can help individuals with RA maintain independence and adapt to changes in their ability to perform daily activities.\\n3. Alternative therapies: Alternative therapies, such as acupuncture, massage, and yoga, may help reduce symptoms and improve overall well-being.\\n4. Lifestyle modifications: Lifestyle modifications, such as maintaining a healthy weight, quitting smoking, and getting regular exercise, can help reduce symptoms and improve overall health.\\n\\nIt's important to work with a healthcare provider to develop a personalized treatment plan that takes into account the individual's specific needs and goals. With proper treatment and management, many people with RA are able to manage their symptoms and maintain a good quality of life.   \n",
       "2  Insulin is the traditional drug of choice for managing type 1 diabetes during pregnancy. It provides more predictable glucose control and cannot cross the placenta, making it a safe choice for fetal development. Human insulin is preferred if possible to minimize antibody formation. The goals are to maintain no wide blood glucose fluctuations and glycosylated Hb (Hb A1c) levels at < 8%. [Table 263-2. Management of Type 2 Diabetes Mellitus* During Pregnancy] Insulin is the traditional drug of choice because it cannot cross the placenta and provides more predictable glucose control; it is used for types 1 and 2 diabetes and for some women with gestational diabetes. Human insulin is used if possible because it minimizes antibody formation. Insulin antibodies. The goals are no wide blood glucose fluctuations and glycosylated Hb (Hb A1c) levels kept at < 8%. [Table 263-2. Management of Type 2 Diabetes Mellitus* During Pregnancy] Insulin is the traditional drug of choice because it cannot cross the placenta and provides more predictable glucose control; it is used for types 1 and 2 diabetes and for some women with gestational diabetes. Human insulin is used if possible because it minimizes antibody formation. Insulin antibodies. The goals are no wide blood glucose fluctuations and glycosylated Hb (Hb A1c) levels kept at < 8%. [Table 263-2. Management of Type 2 Diabetes Mellitus* During Pregnancy] Insulin is the traditional drug of choice because it cannot cross the placenta and provides more predictable glucose control; it is used for types 1 and 2 diabetes and for some women with gestational diabetes. Human insulin is used if possible because it minimizes antibody formation. Insulin antibodies. The goals are no wide blood glucose fluctuations and glycosylated Hb (Hb A1c) levels kept at < 8%. [Table 263-2. Management of Type 2 Diabetes Mellitus* During Pregnancy] Insulin is the traditional drug of choice because it cannot cross the placenta and provides more predictable glucose control; it is used for types 1 and 2 diabetes and for some women with gestational diabetes. Human insulin is used if possible because it minimizes antibody formation. Insulin antibodies. The goals are no wide blood glucose fluctuations and glycosylated Hb (Hb A1c) levels kept at < 8%. [Table 263   \n",
       "3                                                                                                                                                                                                                                                                                                                                                                                                                                                                                                                                                                                                                                                                                                                                                                                                                                                                                                                                                                                                                                                                                                                                                                                                                                                                                                                                                                                                                                                                                                                                                                                                                                                                                                                                                                                                                                                                                                                                          Hypertension can damage the cardiovascular system, increasing the risk of coronary artery disease (CAD), myocardial infarction (MI), and stroke, particularly hemorrhagic. This occurs through the development of generalized arteriolosclerosis and acceleration of atherogenesis. Prolonged or severe hypertension can lead to cardiovascular complications, emphasizing the importance of timely and effective management to prevent these outcomes.   \n",
       "4                                                                                                                                                                                                                                                                                                                                                                                                                                                                                                                                                                                                                                                                                                                                                                                                                                                                                                                                                                                                                                                                                                                                                                                                                                                                                                                                                                                                                                                                                                                                                                                                                                                                                                                                                                                                                                                                                            The recommended treatments for seasonal allergies include:\\n\\n1. Oral antihistamines plus oral decongestants\\n2. Nasal corticosteroids with or without oral antihistamines\\n3. Sometimes immunotherapy for seasonal rhinitis\\n4. Desensitization for severe, refractory rhinitis\\n\\nNote: Environmental control measures, such as eliminating dust mites and cockroaches, are also recommended for perennial rhinitis. However, this information is not specifically mentioned for seasonal rhinitis.   \n",
       "\n",
       "                                                                                                                                                                                                                                                                                                                                                                                                                                                                                                                                                                                                                                                                                                 Groundedness  \\\n",
       "0                                                                                                                                                                                                                                                                                                                   Rating: 9/10\\n\\nThe answer is grounded in the provided context, as it accurately describes the symptoms and treatment for pneumonia. The only potential issue is that the answer does not explicitly state that the primary illness is likely to be influenza, which is implied by the context. However, this is a minor point, and the answer is generally well-grounded in the context.   \n",
       "1                                                                           Rating: 9/10\\n\\nThe answer is well-grounded in the context, providing a clear overview of the treatment options and alternatives for managing rheumatoid arthritis. The information is accurate and up-to-date, and the answer provides a comprehensive overview of the different treatment options and alternatives. The only area for improvement is that the answer could provide more specific information about the different treatment options and their potential side effects. Overall, the answer is well-grounded and provides a clear and accurate overview of the treatment options and alternatives for managing RA.   \n",
       "2                                                                                                                                                                                                  Rating: 9/10\\n\\nThe answer is well-grounded in the provided context, as it accurately reflects the information presented in the table. The answer is clear and concise, and it provides a good summary of the role of insulin in managing type 1 diabetes during pregnancy. The only minor issue is that the answer is slightly repetitive, as it repeats the same information multiple times. However, this does not detract from the overall quality of the answer, which is well-grounded and accurate.   \n",
       "3  Rating: 5/5 (Grounded)\\n\\nThe answer is grounded because it accurately reflects the provided context and explains the effects of hypertension on cardiovascular health. The answer specifically mentions the development of generalized arteriolosclerosis and acceleration of atherogenesis, which are the mechanisms by which hypertension damages the cardiovascular system. The answer also highlights the importance of timely and effective management to prevent cardiovascular complications, which is consistent with the provided context. Overall, the answer is well-supported by the context and provides a clear and accurate explanation of how hypertension affects cardiovascular health.   \n",
       "4                                                                                                                                                                                                                                                         Rating: 8/10\\n\\nThe answer is grounded in the provided context, as it accurately reflects the information presented. The only potential issue is the lack of specific mention of environmental control measures for seasonal rhinitis, although it is mentioned as a recommendation for perennial rhinitis. Overall, the answer is well-supported by the context and provides a clear summary of the recommended treatments for seasonal allergies.   \n",
       "\n",
       "                                                                                                                                                                                                                                                                                                                                                                                                                                                                                                                                                                                                                                                                                                                            Relevance  \n",
       "0                                                    Rating: 9/10\\n\\nThe answer is highly relevant to the question, as it directly addresses the symptoms and treatment of pneumonia, which is a complication mentioned in the context. The answer provides a clear and concise overview of the symptoms and treatment options, and it also emphasizes the importance of seeking medical attention promptly. The only reason it's not a perfect 10 is that the answer doesn't explicitly mention the primary illness that pneumonia may develop after, which is mentioned in the context. However, the answer does provide a clear explanation of the symptoms and treatment options, which makes it highly relevant to the question.  \n",
       "1       Rating: 9/10\\n\\nThe answer is highly relevant to the question, providing a comprehensive overview of treatment options and alternatives for managing rheumatoid arthritis. The answer is well-organized, easy to follow, and provides a clear explanation of the different treatment options and their mechanisms of action. The only reason it's not a perfect 10 is that it doesn't specifically address the context of joint inflammation being temporary unless disease activity can be controlled, but it does provide a general overview of the treatment options and their goals, which aligns with the context. Overall, the answer is highly relevant and provides a thorough and accurate response to the question.  \n",
       "2  Rating: 9/10\\n\\nThe answer is highly relevant to the question. The context provided is about managing type 2 diabetes during pregnancy, and the answer specifically discusses the role of insulin in managing type 1 diabetes during pregnancy. The answer also mentions the goals of maintaining no wide blood glucose fluctuations and glycosylated Hb (Hb A1c) levels at < 8%, which is consistent with the context. The only reason I wouldn't give it a perfect score is that the answer is a bit repetitive and includes some unnecessary information. However, overall, the answer is very relevant to the question and provides useful information about the role of insulin in managing type 1 diabetes during pregnancy.  \n",
       "3                                   Relevance: 9/10\\n\\nNote: The relevance is based on the given context and the question. The answer is highly relevant to the question, as it directly addresses the impact of hypertension on cardiovascular health, which is the main topic of the context. The answer also provides specific details about the mechanisms involved, which are relevant to the context. The only reason it's not a perfect 10 is that the answer doesn't explicitly mention the brain and kidneys, which are also affected by hypertension, as mentioned in the context. However, the answer does cover the main points and provides a clear explanation of the effects of hypertension on cardiovascular health.  \n",
       "4                                                                                                                                                                                                                                      Relevance rating: 9/10\\n\\nThe answer is highly relevant to the question, as it directly addresses the recommended treatments for seasonal allergies. The only minor deviation is the mention of environmental control measures, which are not specifically mentioned for seasonal rhinitis. However, this information is still relevant to the broader topic of allergic rhinitis. Overall, the answer is well-supported by the provided context and accurately addresses the user's question.  "
      ]
     },
     "metadata": {},
     "output_type": "display_data"
    }
   ],
   "source": [
    "import pandas as pd\n",
    "\n",
    "# Sample list of medical assistant queries\n",
    "query_list = [\n",
    "    \"What are the symptoms and treatment for pneumonia?\",\n",
    "    \"What are the treatment options and alternatives for managing rheumatoid arthritis?\",\n",
    "    \"What is the role of insulin in managing type 1 diabetes?\",\n",
    "    \"How does hypertension affect cardiovascular health?\",\n",
    "    \"What are the recommended treatments for seasonal allergies?\"\n",
    "]\n",
    "\n",
    "# List to store evaluation results\n",
    "results = []\n",
    "\n",
    "# Run evaluation for each query\n",
    "for query in query_list:\n",
    "    op = generate_ground_relevance_response(query)\n",
    "    results.append({\n",
    "        \"Query\": query,\n",
    "        \"Answer\": op[\"answer\"].strip(),\n",
    "        \"Groundedness\": op[\"groundedness\"].strip(),\n",
    "        \"Relevance\": op[\"relevance\"].strip()\n",
    "    })\n",
    "\n",
    "# Convert to DataFrame\n",
    "df_eval = pd.DataFrame(results)\n",
    "\n",
    "# Display as a clean table\n",
    "from IPython.display import display\n",
    "display(df_eval)"
   ]
  },
  {
   "cell_type": "markdown",
   "id": "15d723e4-942e-4d1e-9d52-ab7cc20f2b68",
   "metadata": {},
   "source": [
    "### Actionable Insights and Recommendations\n",
    "\n",
    "#### Insights:\n",
    "- The RAG system shows strong performance in grounding and relevance when provided with specific, high-quality context.\n",
    "- Fine-tuned prompts that explicitly instruct the model to **rate using numbers only** improve rating consistency.\n",
    "- Symptoms and treatment generation is accurate when the context contains detailed medical descriptors.\n",
    "- Ratings were inconsistent when the context was either too repetitive or not aligned tightly with the question.\n",
    "- Common errors include hallucinated or generalized answers when context is weak or misaligned.\n",
    "\n",
    "---\n",
    "\n",
    "#### Recommendations:\n",
    "\n",
    "1. **Preprocess Context**:\n",
    "   - Deduplicate context sentences.\n",
    "   - Ensure alignment between the retrieved chunk and the actual question asked.\n",
    "\n",
    "2. **Increase `max_tokens` for Long-form Answers**:\n",
    "   - Allow longer generations for clinical descriptions to avoid truncation.\n",
    "\n",
    "3. **Rating Prompt Improvements**:\n",
    "   - Use stricter system prompts with numbered scales (e.g., “Respond with a single number from 1 to 5 only.”).\n",
    "\n",
    "4. **Use Smaller Context Windows for Narrow Questions**:\n",
    "   - Avoid overloading context for short and direct queries (like “what is the treatment for X?”).\n",
    "\n",
    "5. **Add Schema for Ratings**:\n",
    "   - Include a structured output format:\n",
    "     ```json\n",
    "     {\n",
    "       \"answer\": \"...\",\n",
    "       \"groundedness\": \"4\",\n",
    "       \"relevance\": \"5\"\n",
    "     }\n",
    "     ```\n",
    "\n",
    "6. **Automate Evaluation Loops**:\n",
    "   - Build a loop to evaluate multiple Q&A pairs and aggregate rating statistics for dashboarding.\n"
   ]
  }
 ],
 "metadata": {
  "kernelspec": {
   "display_name": "Python 3 (ipykernel)",
   "language": "python",
   "name": "python3"
  },
  "language_info": {
   "codemirror_mode": {
    "name": "ipython",
    "version": 3
   },
   "file_extension": ".py",
   "mimetype": "text/x-python",
   "name": "python",
   "nbconvert_exporter": "python",
   "pygments_lexer": "ipython3",
   "version": "3.12.7"
  }
 },
 "nbformat": 4,
 "nbformat_minor": 5
}
