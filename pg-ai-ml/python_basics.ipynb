{
 "cells": [
  {
   "cell_type": "markdown",
   "id": "b6891c2a-589f-4b81-9fb5-0cd8fa74bcc2",
   "metadata": {},
   "source": [
    "# Python Basics"
   ]
  },
  {
   "cell_type": "markdown",
   "id": "4d19686c-b2d3-4d16-8497-edb4183afee5",
   "metadata": {},
   "source": [
    "## fibnocci servies"
   ]
  },
  {
   "cell_type": "code",
   "execution_count": 16,
   "id": "9df0d023-353a-4d34-856e-72a641278830",
   "metadata": {},
   "outputs": [
    {
     "name": "stdout",
     "output_type": "stream",
     "text": [
      "0\n",
      "1\n",
      "1\n",
      "2\n",
      "3\n"
     ]
    }
   ],
   "source": [
    "a, b = 0, 1\n",
    "print(a)\n",
    "for i in range(4):\n",
    "    print(b)\n",
    "    a, b = b, a + b"
   ]
  },
  {
   "cell_type": "markdown",
   "id": "b5fade3c-e7d8-4639-9850-ebfb6d716ae5",
   "metadata": {},
   "source": [
    "## calculations"
   ]
  },
  {
   "cell_type": "code",
   "execution_count": 12,
   "id": "c734f7e7-26db-4ce8-b5e2-6b2aba6f8e64",
   "metadata": {},
   "outputs": [
    {
     "name": "stdin",
     "output_type": "stream",
     "text": [
      " 12\n",
      " 12\n"
     ]
    },
    {
     "name": "stdout",
     "output_type": "stream",
     "text": [
      "24\n",
      "0\n",
      "144\n",
      "1.0\n"
     ]
    }
   ],
   "source": [
    "number1 = int(input())\n",
    "number2 = int(input())\n",
    "\n",
    "def addition(a, b):\n",
    "    return a+b\n",
    "\n",
    "def subtraction(a, b):\n",
    "    return a-b\n",
    "\n",
    "def multiplication(a, b):\n",
    "    return a*b\n",
    "\n",
    "def division(a, b):\n",
    "    return a/b\n",
    "\n",
    "print(addition(number1, number2))\n",
    "print(subtraction(number1, number2))\n",
    "print(multiplication(number1, number2))\n",
    "print(division(number1, number2))"
   ]
  },
  {
   "cell_type": "markdown",
   "id": "df84c79c-15eb-4033-aaf6-ff8dcc711b46",
   "metadata": {},
   "source": [
    "## hypotenues"
   ]
  },
  {
   "cell_type": "code",
   "execution_count": 14,
   "id": "effcd128-af11-4dcb-baf8-5d83bdc5c99e",
   "metadata": {},
   "outputs": [
    {
     "name": "stdin",
     "output_type": "stream",
     "text": [
      " 3\n",
      " 3\n"
     ]
    },
    {
     "name": "stdout",
     "output_type": "stream",
     "text": [
      "18.0\n"
     ]
    }
   ],
   "source": [
    "number1 = float(input())\n",
    "number2 = float(input())\n",
    "\n",
    "def hypotenues(a, b):\n",
    "    return (a**2 + b**2)\n",
    "\n",
    "print(hypotenues(number1, number2))"
   ]
  },
  {
   "cell_type": "markdown",
   "id": "126183fa-8833-4b21-a7be-daccf3e69e11",
   "metadata": {},
   "source": [
    "## area of circle"
   ]
  },
  {
   "cell_type": "code",
   "execution_count": 15,
   "id": "7268c2b2-35d1-4e8c-a9fe-172af26d220c",
   "metadata": {},
   "outputs": [
    {
     "name": "stdin",
     "output_type": "stream",
     "text": [
      " 12\n"
     ]
    },
    {
     "name": "stdout",
     "output_type": "stream",
     "text": [
      "452.16\n"
     ]
    }
   ],
   "source": [
    "radius = float(input())\n",
    "def areaOfCircle(r):\n",
    "    return 3.14 * (r**2)\n",
    "\n",
    "print(areaOfCircle(radius))"
   ]
  },
  {
   "cell_type": "code",
   "execution_count": 1,
   "id": "23e906c3-83b3-4863-bfc4-aff325f1d551",
   "metadata": {},
   "outputs": [
    {
     "name": "stdout",
     "output_type": "stream",
     "text": [
      "I am 25 years old\n"
     ]
    }
   ],
   "source": [
    "print(\"I am\",25,\"years old\")"
   ]
  },
  {
   "cell_type": "code",
   "execution_count": 2,
   "id": "b2dc44d1-a814-4cb5-9d05-744c6b600609",
   "metadata": {},
   "outputs": [
    {
     "name": "stdout",
     "output_type": "stream",
     "text": [
      "I am 25 years old\n"
     ]
    }
   ],
   "source": [
    "print(\"I am \" + \"25 years old\")"
   ]
  },
  {
   "cell_type": "code",
   "execution_count": 5,
   "id": "fef51846-16d8-48e4-a707-34dc20fb2ece",
   "metadata": {},
   "outputs": [
    {
     "name": "stdout",
     "output_type": "stream",
     "text": [
      "Range\n"
     ]
    }
   ],
   "source": [
    "X= [10,\"Range\", \"Great\", -54, 11, 12]\n",
    "print(X[1])"
   ]
  },
  {
   "cell_type": "code",
   "execution_count": 6,
   "id": "28fa004f-e84b-4f46-ae60-ec1550b02d33",
   "metadata": {},
   "outputs": [
    {
     "name": "stdout",
     "output_type": "stream",
     "text": [
      "2\n"
     ]
    }
   ],
   "source": [
    "X= [10,\"Range\", \"Great\", -54, 11, 12]\n",
    "print(len(X[2:4]))"
   ]
  },
  {
   "cell_type": "code",
   "execution_count": 7,
   "id": "18fe863b-2a1b-42bd-9634-84dc42815b22",
   "metadata": {},
   "outputs": [
    {
     "name": "stdout",
     "output_type": "stream",
     "text": [
      "[11]\n"
     ]
    }
   ],
   "source": [
    "X= [10,\"Range\", \"Great\", -54, 11, 12]\n",
    "print(X[-2:-1])"
   ]
  },
  {
   "cell_type": "code",
   "execution_count": 8,
   "id": "7fcb24ee-bd2b-4685-9d1a-1a78574bffd1",
   "metadata": {},
   "outputs": [
    {
     "name": "stdout",
     "output_type": "stream",
     "text": [
      "['Great', -54, 11]\n"
     ]
    }
   ],
   "source": [
    "X= [10,\"Range\", \"Great\", -54, 11, 12]\n",
    "print(X[2:-1])"
   ]
  },
  {
   "cell_type": "code",
   "execution_count": 10,
   "id": "18344988-044f-498c-a4b8-f84f56be811d",
   "metadata": {},
   "outputs": [
    {
     "name": "stdout",
     "output_type": "stream",
     "text": [
      "{1: 'USA', 3: 'Japan'}\n"
     ]
    }
   ],
   "source": [
    "dictionary={1:\"USA\", 2:\"India\", 3:\"China\"}\n",
    "dictionary.update({3:\"Japan\"})\n",
    "dictionary.pop(2)\n",
    "print(dictionary)"
   ]
  },
  {
   "cell_type": "code",
   "execution_count": 13,
   "id": "98611c0e-e6e9-4ec0-979c-bfac0c0cfab2",
   "metadata": {},
   "outputs": [
    {
     "name": "stdout",
     "output_type": "stream",
     "text": [
      "The addition of 4 and 3 is not correct\n",
      "Hello\n"
     ]
    }
   ],
   "source": [
    "if 4 + 3 == 9:\n",
    " print(\"The addition of 4 and 3 is correct\")\n",
    "else:\n",
    " print(\"The addition of 4 and 3 is not correct\")\n",
    "print(\"Hello\")"
   ]
  },
  {
   "cell_type": "code",
   "execution_count": 15,
   "id": "f0caa57e-5fb5-41da-a059-fdf0b891cc05",
   "metadata": {},
   "outputs": [
    {
     "name": "stdout",
     "output_type": "stream",
     "text": [
      "Hello\n"
     ]
    }
   ],
   "source": [
    "a = b = True\n",
    "if (a == b):\n",
    "  print(\"Hello\")\n",
    "else:\n",
    "  print(\"Well done\")"
   ]
  },
  {
   "cell_type": "code",
   "execution_count": 19,
   "id": "d13b18a8-3f41-4a77-b1bf-1fac51feb781",
   "metadata": {},
   "outputs": [
    {
     "name": "stdout",
     "output_type": "stream",
     "text": [
      "range(0, 5)\n"
     ]
    }
   ],
   "source": [
    "print(range(5))"
   ]
  },
  {
   "cell_type": "code",
   "execution_count": 20,
   "id": "0ec71986-56fe-43c1-91c9-52d46c2b112a",
   "metadata": {},
   "outputs": [
    {
     "name": "stdout",
     "output_type": "stream",
     "text": [
      "10\n"
     ]
    }
   ],
   "source": [
    "sum = 0\n",
    "for number in range(1,5):\n",
    "    sum = sum + number\n",
    "print(sum)"
   ]
  },
  {
   "cell_type": "code",
   "execution_count": 21,
   "id": "0a90a8d1-8b77-4f79-a90e-0e903e07c09a",
   "metadata": {},
   "outputs": [
    {
     "name": "stdout",
     "output_type": "stream",
     "text": [
      "1\n",
      "2\n",
      "3\n",
      "4\n",
      "5\n"
     ]
    }
   ],
   "source": [
    "x = [1, 2, 3, 4, 5]\n",
    "while x:\n",
    "  print(x.pop(0))"
   ]
  },
  {
   "cell_type": "code",
   "execution_count": 22,
   "id": "d7e4df12-7391-4b16-9040-9b4e8c49e745",
   "metadata": {},
   "outputs": [
    {
     "name": "stdout",
     "output_type": "stream",
     "text": [
      "[1, 2, 3, 4, 5]\n"
     ]
    }
   ],
   "source": [
    "list_1 = [1, 2, 3, 4, 5]\n",
    "list_comp = [ i for i in list_1 ]\n",
    "print(list_comp)"
   ]
  },
  {
   "cell_type": "code",
   "execution_count": 26,
   "id": "785d0586-20ae-40ef-b657-beffcea85586",
   "metadata": {},
   "outputs": [
    {
     "name": "stdout",
     "output_type": "stream",
     "text": [
      "['Week0', 'Week1', 'Week2', 'Week3', 'Week4']\n"
     ]
    }
   ],
   "source": [
    "week_list = [ \"Week\" + str(i) for i in range(5)] \n",
    "print(week_list)"
   ]
  },
  {
   "cell_type": "code",
   "execution_count": 28,
   "id": "6b67dc43-51ca-4c85-8466-e6fc6665053a",
   "metadata": {
    "scrolled": true
   },
   "outputs": [
    {
     "name": "stdin",
     "output_type": "stream",
     "text": [
      " 5\n"
     ]
    },
    {
     "name": "stdout",
     "output_type": "stream",
     "text": [
      "5 x 1 = 5\n",
      "5 x 2 = 10\n",
      "5 x 3 = 15\n",
      "5 x 4 = 20\n",
      "5 x 5 = 25\n",
      "5 x 6 = 30\n",
      "5 x 7 = 35\n",
      "5 x 8 = 40\n",
      "5 x 9 = 45\n"
     ]
    }
   ],
   "source": [
    "n = int(input())\n",
    "for i in range(1, 10):\n",
    "    print(f\"{n} x {i} = {n*i}\")"
   ]
  },
  {
   "cell_type": "code",
   "execution_count": 29,
   "id": "209fc89b-4a2e-4364-8cfa-fbdbd42577d9",
   "metadata": {},
   "outputs": [
    {
     "name": "stdin",
     "output_type": "stream",
     "text": [
      " 2\n"
     ]
    },
    {
     "name": "stdout",
     "output_type": "stream",
     "text": [
      "0\n",
      "2\n"
     ]
    }
   ],
   "source": [
    "n = int(input())\n",
    "i = 0\n",
    "while i <= n:\n",
    "    if i % 2 == 0:\n",
    "        print(i)\n",
    "    i += 1"
   ]
  },
  {
   "cell_type": "code",
   "execution_count": 1,
   "id": "7e7cfbd7-698a-4e3e-896c-b3ee40b127db",
   "metadata": {},
   "outputs": [],
   "source": [
    "def say(message, times):\n",
    "    print(message*times)"
   ]
  },
  {
   "cell_type": "code",
   "execution_count": 2,
   "id": "46609215-c18e-4286-895a-afd62ccfb696",
   "metadata": {},
   "outputs": [
    {
     "name": "stdout",
     "output_type": "stream",
     "text": [
      "How are youHow are you\n"
     ]
    }
   ],
   "source": [
    "say(\"How are you\", 2)"
   ]
  },
  {
   "cell_type": "code",
   "execution_count": 3,
   "id": "8d76fdc6-44d3-4462-8db4-ed31307a3971",
   "metadata": {},
   "outputs": [
    {
     "data": {
      "text/plain": [
       "15.0"
      ]
     },
     "execution_count": 3,
     "metadata": {},
     "output_type": "execute_result"
    }
   ],
   "source": [
    "(lambda x: (x+2)*5/2)(4)"
   ]
  },
  {
   "cell_type": "code",
   "execution_count": 7,
   "id": "8a5743dd-75be-42a6-b61c-dfde4420d73d",
   "metadata": {},
   "outputs": [],
   "source": [
    "mul = lambda a,b: a*b"
   ]
  },
  {
   "cell_type": "code",
   "execution_count": 8,
   "id": "6ed5b4be-d96f-42bb-9507-fa8ae0a90b90",
   "metadata": {},
   "outputs": [
    {
     "data": {
      "text/plain": [
       "30"
      ]
     },
     "execution_count": 8,
     "metadata": {},
     "output_type": "execute_result"
    }
   ],
   "source": [
    "mul(5,6)"
   ]
  },
  {
   "cell_type": "code",
   "execution_count": 10,
   "id": "0040679c-85be-44c9-b0f9-44f7f10f4928",
   "metadata": {},
   "outputs": [
    {
     "name": "stdout",
     "output_type": "stream",
     "text": [
      "<class 'float'>\n"
     ]
    }
   ],
   "source": [
    "a = 10\n",
    "b = 2.3\n",
    "c = a*b\n",
    "print(type(c))"
   ]
  },
  {
   "cell_type": "code",
   "execution_count": 21,
   "id": "fee4b084-c727-46ed-a6bd-64eceef005ab",
   "metadata": {},
   "outputs": [
    {
     "name": "stdout",
     "output_type": "stream",
     "text": [
      "1\n",
      "2\n",
      "6\n",
      "24\n",
      "120\n"
     ]
    }
   ],
   "source": [
    "a = 1\n",
    "for i in range(1,6): \n",
    "    a = a*i\n",
    "    print(a)"
   ]
  },
  {
   "cell_type": "code",
   "execution_count": 22,
   "id": "224505df-d14b-4919-99aa-bbe5aafc68ba",
   "metadata": {},
   "outputs": [
    {
     "data": {
      "text/plain": [
       "['2', '2', '2', '2', '2', '2']"
      ]
     },
     "execution_count": 22,
     "metadata": {},
     "output_type": "execute_result"
    }
   ],
   "source": [
    "list_mul = ['2','2','2']\n",
    "list_mul*2"
   ]
  },
  {
   "cell_type": "code",
   "execution_count": 23,
   "id": "eeabd072-c766-409e-99b3-9d76caf0eec5",
   "metadata": {},
   "outputs": [
    {
     "data": {
      "text/plain": [
       "True"
      ]
     },
     "execution_count": 23,
     "metadata": {},
     "output_type": "execute_result"
    }
   ],
   "source": [
    "5 == (3 + 2)"
   ]
  },
  {
   "cell_type": "code",
   "execution_count": 24,
   "id": "34b64407-68f1-4cc6-9e46-434b0895445d",
   "metadata": {},
   "outputs": [
    {
     "name": "stdout",
     "output_type": "stream",
     "text": [
      "36\n"
     ]
    }
   ],
   "source": [
    "a = 3\n",
    "print(a + (33))"
   ]
  },
  {
   "cell_type": "code",
   "execution_count": 37,
   "id": "0e6e9d49-4778-4b4e-8f0e-c4049ea3733b",
   "metadata": {},
   "outputs": [
    {
     "name": "stdout",
     "output_type": "stream",
     "text": [
      "1225.0\n"
     ]
    }
   ],
   "source": [
    "v = 10\n",
    "w = 25\n",
    "x = 70\n",
    "y = 2\n",
    "z = (v + w) * (x / y)\n",
    "print(z)"
   ]
  },
  {
   "cell_type": "code",
   "execution_count": 27,
   "id": "a1d30439-a6df-4218-ae14-e6522eda1b6c",
   "metadata": {},
   "outputs": [
    {
     "name": "stdout",
     "output_type": "stream",
     "text": [
      "[2, 2, 2, 2]\n"
     ]
    }
   ],
   "source": [
    "repeated_list = [2] * 4\n",
    "print(repeated_list)"
   ]
  },
  {
   "cell_type": "code",
   "execution_count": 29,
   "id": "91ddbe43-5bde-40ee-8853-6569b99df835",
   "metadata": {},
   "outputs": [
    {
     "name": "stdout",
     "output_type": "stream",
     "text": [
      "1\n",
      "144\n",
      "576\n",
      "1296\n",
      "121\n",
      "400\n",
      "2500\n"
     ]
    }
   ],
   "source": [
    "number = [1, 12, 24, 36, 11, 20,50]\n",
    "for i in number:\n",
    " sq = i * i\n",
    " print(sq)"
   ]
  },
  {
   "cell_type": "code",
   "execution_count": 32,
   "id": "f65256c0-d84c-4ca4-86aa-98dba585161e",
   "metadata": {},
   "outputs": [
    {
     "name": "stdout",
     "output_type": "stream",
     "text": [
      "['white', 'red', 'blue', 'green', 'blue', 'black'] 6\n"
     ]
    }
   ],
   "source": [
    "color = ['white','red', 'blue', 'green','blue','yellow', 'black']\n",
    "color.pop(5)\n",
    "print(color, len(color))"
   ]
  },
  {
   "cell_type": "code",
   "execution_count": 36,
   "id": "ff0b7bc6-65c9-4290-94a6-138889495e01",
   "metadata": {},
   "outputs": [
    {
     "ename": "AttributeError",
     "evalue": "'dict' object has no attribute 'year'",
     "output_type": "error",
     "traceback": [
      "\u001b[1;31m---------------------------------------------------------------------------\u001b[0m",
      "\u001b[1;31mAttributeError\u001b[0m                            Traceback (most recent call last)",
      "Cell \u001b[1;32mIn[36], line 2\u001b[0m\n\u001b[0;32m      1\u001b[0m car \u001b[38;5;241m=\u001b[39m { \u001b[38;5;124m\"\u001b[39m\u001b[38;5;124mbrand\u001b[39m\u001b[38;5;124m\"\u001b[39m : \u001b[38;5;124m\"\u001b[39m\u001b[38;5;124mAudi\u001b[39m\u001b[38;5;124m\"\u001b[39m,\u001b[38;5;124m\"\u001b[39m\u001b[38;5;124mmodel\u001b[39m\u001b[38;5;124m\"\u001b[39m : \u001b[38;5;124m\"\u001b[39m\u001b[38;5;124mQ2\u001b[39m\u001b[38;5;124m\"\u001b[39m, \u001b[38;5;124m\"\u001b[39m\u001b[38;5;124myear\u001b[39m\u001b[38;5;124m\"\u001b[39m : \u001b[38;5;241m1980\u001b[39m}\n\u001b[1;32m----> 2\u001b[0m car\u001b[38;5;241m.\u001b[39myear \u001b[38;5;241m=\u001b[39m \u001b[38;5;241m2019\u001b[39m\n\u001b[0;32m      3\u001b[0m \u001b[38;5;28mprint\u001b[39m(car)\n",
      "\u001b[1;31mAttributeError\u001b[0m: 'dict' object has no attribute 'year'"
     ]
    }
   ],
   "source": [
    "car = { \"brand\" : \"Audi\",\"model\" : \"Q2\", \"year\" : 1980}\n",
    "car[\"year\"] = 2019\n",
    "print(car)"
   ]
  },
  {
   "cell_type": "code",
   "execution_count": 38,
   "id": "e7c95ed5-c11a-4e1b-aa45-9d799efebe88",
   "metadata": {},
   "outputs": [
    {
     "name": "stdout",
     "output_type": "stream",
     "text": [
      "Good Bye\n"
     ]
    }
   ],
   "source": [
    " print(\"Good Bye\")"
   ]
  },
  {
   "cell_type": "code",
   "execution_count": 39,
   "id": "863cf35f-5f6e-48f4-9a62-fcafbd64de76",
   "metadata": {},
   "outputs": [
    {
     "name": "stdout",
     "output_type": "stream",
     "text": [
      "Average= 78.0\n",
      "Grade C\n"
     ]
    }
   ],
   "source": [
    "m1 = 72\n",
    "m2 = 85\n",
    "m3 = 96\n",
    "m4 = 42\n",
    "m5 = 95\n",
    "avg = (m1 + m2 + m3 + m4 + m5) / 5\n",
    "print(\"Average=\", avg)\n",
    "if avg > 90:\n",
    " print(\"Grade A\")\n",
    "elif avg > 80:\n",
    " print(\"Grade B\")\n",
    "elif avg > 70:\n",
    " print(\"Grade C\")\n",
    "elif avg > 60:\n",
    " print(\"Grade D\")\n",
    "elif avg > 50:\n",
    " print(\"Grade E\")\n",
    "else:\n",
    " print(\"Fail\")"
   ]
  },
  {
   "cell_type": "code",
   "execution_count": 40,
   "id": "19a14ee2-ba49-4627-8487-84f1cab663d0",
   "metadata": {},
   "outputs": [
    {
     "name": "stdout",
     "output_type": "stream",
     "text": [
      "It is present\n"
     ]
    }
   ],
   "source": [
    "a = \"I am a Data Scientist\"\n",
    "if \"Data\" in a:\n",
    " print(\"It is present\")\n",
    "else:\n",
    " print(False)"
   ]
  },
  {
   "cell_type": "code",
   "execution_count": 46,
   "id": "87e248cd-6f7b-4617-bf73-5207e24fa518",
   "metadata": {},
   "outputs": [
    {
     "name": "stdout",
     "output_type": "stream",
     "text": [
      "Number is negative\n"
     ]
    }
   ],
   "source": [
    "a = -99\n",
    "if a > 0:\n",
    " print(\"Number is Positive\")\n",
    "else:\n",
    " print(\"Number is negative\")"
   ]
  },
  {
   "cell_type": "code",
   "execution_count": 47,
   "id": "b366abea-c4f1-49d8-8745-2f87c92c7c01",
   "metadata": {},
   "outputs": [
    {
     "name": "stdout",
     "output_type": "stream",
     "text": [
      "-10\n",
      "-9\n",
      "-8\n",
      "-7\n",
      "-6\n",
      "-5\n",
      "-4\n",
      "-3\n",
      "-2\n",
      "-1\n"
     ]
    }
   ],
   "source": [
    "for i in range(-10, 0, 1):\n",
    " print(i)"
   ]
  },
  {
   "cell_type": "code",
   "execution_count": 48,
   "id": "47bd866e-0938-46d2-9d32-8869d60e0c7f",
   "metadata": {},
   "outputs": [
    {
     "name": "stdout",
     "output_type": "stream",
     "text": [
      "8 ^ 1 = 8\n",
      "8 ^ 2 = 64\n",
      "8 ^ 3 = 512\n",
      "8 ^ 4 = 4096\n",
      "8 ^ 5 = 32768\n",
      "8 ^ 6 = 262144\n",
      "8 ^ 7 = 2097152\n",
      "8 ^ 8 = 16777216\n",
      "8 ^ 9 = 134217728\n",
      "8 ^ 10 = 1073741824\n"
     ]
    }
   ],
   "source": [
    "n = 8\n",
    "for i in range(1, 11):\n",
    " print(\"{} ^ {} =\".format(n, i), n**i)"
   ]
  },
  {
   "cell_type": "code",
   "execution_count": 50,
   "id": "9563ae48-4f93-42be-a3a3-7e73e970134f",
   "metadata": {},
   "outputs": [
    {
     "name": "stdout",
     "output_type": "stream",
     "text": [
      "1\n",
      "2\n",
      "Fizz\n",
      "4\n",
      "Buzz\n",
      "Fizz\n",
      "7\n",
      "8\n",
      "Fizz\n",
      "Buzz\n",
      "11\n",
      "Fizz\n",
      "13\n",
      "14\n",
      "FizzBuzz\n",
      "16\n",
      "17\n",
      "Fizz\n",
      "19\n",
      "Buzz\n",
      "Fizz\n",
      "22\n",
      "23\n",
      "Fizz\n",
      "Buzz\n",
      "26\n",
      "Fizz\n",
      "28\n",
      "29\n",
      "FizzBuzz\n",
      "31\n",
      "32\n",
      "Fizz\n",
      "34\n",
      "Buzz\n",
      "Fizz\n",
      "37\n",
      "38\n",
      "Fizz\n",
      "Buzz\n",
      "41\n",
      "Fizz\n",
      "43\n",
      "44\n",
      "FizzBuzz\n",
      "46\n",
      "47\n",
      "Fizz\n",
      "49\n",
      "Buzz\n",
      "Fizz\n",
      "52\n",
      "53\n",
      "Fizz\n",
      "Buzz\n",
      "56\n",
      "Fizz\n",
      "58\n",
      "59\n",
      "FizzBuzz\n",
      "61\n",
      "62\n",
      "Fizz\n",
      "64\n",
      "Buzz\n",
      "Fizz\n",
      "67\n",
      "68\n",
      "Fizz\n",
      "Buzz\n",
      "71\n",
      "Fizz\n",
      "73\n",
      "74\n",
      "FizzBuzz\n",
      "76\n",
      "77\n",
      "Fizz\n",
      "79\n",
      "Buzz\n",
      "Fizz\n",
      "82\n",
      "83\n",
      "Fizz\n",
      "Buzz\n",
      "86\n",
      "Fizz\n",
      "88\n",
      "89\n",
      "FizzBuzz\n",
      "91\n",
      "92\n",
      "Fizz\n",
      "94\n",
      "Buzz\n",
      "Fizz\n",
      "97\n",
      "98\n",
      "Fizz\n"
     ]
    }
   ],
   "source": [
    "for i in range(1, 100):\n",
    " if(i % 3 == 0 and i % 5 == 0):\n",
    "     print(\"FizzBuzz\")\n",
    " elif (i % 3 == 0):\n",
    "     print(\"Fizz\")\n",
    " elif(i % 5 == 0):\n",
    "     print(\"Buzz\")\n",
    " else: \n",
    "     print(i)"
   ]
  },
  {
   "cell_type": "code",
   "execution_count": 51,
   "id": "04551563-ac0c-4687-ac18-5f632e08644f",
   "metadata": {},
   "outputs": [
    {
     "name": "stdout",
     "output_type": "stream",
     "text": [
      "5\n"
     ]
    }
   ],
   "source": [
    "st = \"Data Science\"\n",
    "count = 0\n",
    "for i in st:\n",
    " if i == \"a\" or i == \"e\" or i == \"i\" or i == \"o\" or i == \"u\": \n",
    "     count = count + 1\n",
    "print(count)"
   ]
  },
  {
   "cell_type": "code",
   "execution_count": 52,
   "id": "0cd91de1-34ec-4227-938f-c7c58f6f4aa0",
   "metadata": {},
   "outputs": [
    {
     "name": "stdout",
     "output_type": "stream",
     "text": [
      "Data Science\n",
      "Data Science\n",
      "Data Science\n",
      "Data Science\n",
      "Data Science\n"
     ]
    }
   ],
   "source": [
    "a = \"Data Science\"\n",
    "for i in range(0, 5):\n",
    " print(a)"
   ]
  },
  {
   "cell_type": "code",
   "execution_count": 53,
   "id": "2e2a7a19-dc61-4fa6-a265-3fbf511cc72e",
   "metadata": {},
   "outputs": [
    {
     "name": "stdout",
     "output_type": "stream",
     "text": [
      "14\n",
      "4\n",
      "45\n",
      "1\n"
     ]
    }
   ],
   "source": [
    "def mths(a, b):\n",
    " print(a + b)\n",
    " print(a - b)\n",
    " print(a * b)\n",
    " print(a // b)\n",
    " \n",
    "mths(9, 5)"
   ]
  },
  {
   "cell_type": "code",
   "execution_count": 55,
   "id": "0b2899ba-171e-4b5d-80b8-c22043d29dbd",
   "metadata": {},
   "outputs": [],
   "source": [
    "def sq():\n",
    " for i in range(1, 11):\n",
    "     print(i ** 2)"
   ]
  },
  {
   "cell_type": "code",
   "execution_count": 56,
   "id": "259cf38f-ea7a-40ea-b624-008979b20f7f",
   "metadata": {},
   "outputs": [
    {
     "name": "stdout",
     "output_type": "stream",
     "text": [
      "1\n",
      "4\n",
      "9\n",
      "16\n",
      "25\n",
      "36\n",
      "49\n",
      "64\n",
      "81\n",
      "100\n"
     ]
    }
   ],
   "source": [
    "sq()"
   ]
  },
  {
   "cell_type": "code",
   "execution_count": 57,
   "id": "2a768be1-af96-4574-a77f-1c6f25f0bd8b",
   "metadata": {},
   "outputs": [
    {
     "data": {
      "text/plain": [
       "9"
      ]
     },
     "execution_count": 57,
     "metadata": {},
     "output_type": "execute_result"
    }
   ],
   "source": [
    "function = lambda x: x * x + 5\n",
    "function(2)"
   ]
  },
  {
   "cell_type": "code",
   "execution_count": 58,
   "id": "7fb11198-5285-4970-909a-1a4044879966",
   "metadata": {},
   "outputs": [
    {
     "data": {
      "text/plain": [
       "49"
      ]
     },
     "execution_count": 58,
     "metadata": {},
     "output_type": "execute_result"
    }
   ],
   "source": [
    "def power(a, b):\n",
    " return a ** b\n",
    "power(7,2)"
   ]
  },
  {
   "cell_type": "code",
   "execution_count": 59,
   "id": "ab3b39e7-8825-438e-ae1e-a3fd7dab92c0",
   "metadata": {},
   "outputs": [
    {
     "data": {
      "text/plain": [
       "25.0"
      ]
     },
     "execution_count": 59,
     "metadata": {},
     "output_type": "execute_result"
    }
   ],
   "source": [
    "def area(base, height):\n",
    " return 0.5 * base * height\n",
    "area(5, 10)"
   ]
  },
  {
   "cell_type": "code",
   "execution_count": 60,
   "id": "b1f221ba-4374-4e53-bcf5-59eb9d3dcf23",
   "metadata": {},
   "outputs": [
    {
     "name": "stdout",
     "output_type": "stream",
     "text": [
      "I am from Sweden\n"
     ]
    }
   ],
   "source": [
    "def greet(country):\n",
    " print(\"I am from\", country)\n",
    "greet(\"Sweden\")"
   ]
  },
  {
   "cell_type": "code",
   "execution_count": 61,
   "id": "80dcddc9-6604-43df-a8fd-eb0cf9e59dea",
   "metadata": {},
   "outputs": [
    {
     "name": "stdout",
     "output_type": "stream",
     "text": [
      "Temperature in Fahrenheit = 68.0\n"
     ]
    }
   ],
   "source": [
    "def convert(celsius):\n",
    " fah = 1.8 * celsius + 32\n",
    " print(\"Temperature in Fahrenheit =\", fah)\n",
    "convert(20)"
   ]
  }
 ],
 "metadata": {
  "kernelspec": {
   "display_name": "Python 3 (ipykernel)",
   "language": "python",
   "name": "python3"
  },
  "language_info": {
   "codemirror_mode": {
    "name": "ipython",
    "version": 3
   },
   "file_extension": ".py",
   "mimetype": "text/x-python",
   "name": "python",
   "nbconvert_exporter": "python",
   "pygments_lexer": "ipython3",
   "version": "3.12.7"
  }
 },
 "nbformat": 4,
 "nbformat_minor": 5
}
