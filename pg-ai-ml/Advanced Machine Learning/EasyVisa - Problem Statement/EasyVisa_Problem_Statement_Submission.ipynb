{
 "cells": [
  {
   "cell_type": "markdown",
   "id": "98e14b80-3206-4912-9dbe-089b92240f7d",
   "metadata": {},
   "source": [
    "# Visa Approval Prediction"
   ]
  },
  {
   "cell_type": "markdown",
   "id": "e2584d55-852c-474c-9bf1-4e3011665117",
   "metadata": {},
   "source": [
    "### Objective\n",
    "The goal of this project is to develop a machine learning-based classification model to assist the **Office of Foreign Labor Certification (OFLC)** in identifying visa applications that are more likely to be **certified** or **denied**.\n",
    "\n",
    "This model will support EasyVisa, a consulting firm tasked with helping OFLC handle the growing number of applications efficiently."
   ]
  },
  {
   "cell_type": "markdown",
   "id": "6423e6cf-eb45-497f-abcf-a79c131f8404",
   "metadata": {},
   "source": [
    "### Business Context\n",
    "U.S. companies increasingly rely on foreign talent to meet labor shortages. The Immigration and Nationality Act (INA) governs the entry of such workers, ensuring they do not displace or undercut domestic employees.\n",
    "\n",
    "As part of this, the OFLC processes hundreds of thousands of visa applications each year, a task that is becoming more resource-intensive over time."
   ]
  },
  {
   "cell_type": "markdown",
   "id": "adc293de-3404-4abb-ac31-088b8c21834f",
   "metadata": {},
   "source": [
    "### Project Goals\n",
    "1. Predict the `case_status` (Certified or Denied) of visa applications using applicant and employer information.\n",
    "2. Identify key factors that influence the likelihood of visa certification.\n",
    "3. Recommend an automated pipeline that aids in early filtering and reduces manual effort for OFLC."
   ]
  },
  {
   "cell_type": "markdown",
   "id": "5fce0e65-fae3-48ad-9a0c-8bb0c497f870",
   "metadata": {},
   "source": [
    "### Dataset Summary\n",
    "\n",
    "The dataset contains 13 columns describing both employer and employee attributes. The target variable is `case_status`.\n",
    "\n",
    "#### Data Dictionary\n",
    "\n",
    "- `case_id`: ID of each visa application  \n",
    "- `continent`: Continent information of the employee  \n",
    "- `education_of_employee`: Education level of the employee  \n",
    "- `has_job_experience`: Does the employee have any job experience? (`Y` = Yes, `N` = No)  \n",
    "- `requires_job_training`: Does the employee require any job training? (`Y` = Yes, `N` = No)  \n",
    "- `no_of_employees`: Number of employees in the employer's company  \n",
    "- `yr_of_estab`: Year the employer’s company was established  \n",
    "- `region_of_employment`: Intended region of employment in the US  \n",
    "- `prevailing_wage`: Average wage paid to similarly employed workers in the same area  \n",
    "- `unit_of_wage`: Unit of the prevailing wage (`Hourly`, `Weekly`, `Monthly`, `Yearly`)  \n",
    "- `full_time_position`: Is the job position full-time? (`Y` = Full-Time, `N` = Part-Time)  \n",
    "- `case_status`: Final decision of the visa application (`Certified` or `Denied`)  \n",
    "\n",
    "#### Target Variable\n",
    "- `case_status`: Whether the visa was **Certified** or **Denied**\n",
    "\n",
    "This project aims to predict `case_status` based on the features above."
   ]
  },
  {
   "cell_type": "markdown",
   "id": "28bca1bf-41e1-4aab-aa59-c62bb5926502",
   "metadata": {},
   "source": [
    "### Techniques Used\n",
    "This project involves:\n",
    "\n",
    "- Exploratory Data Analysis (EDA)\n",
    "- Data Preprocessing and Feature Engineering\n",
    "- Classification Models (Decision Tree, Random Forest, Bagging, Boosting)\n",
    "- Resampling Techniques (Oversampling, Undersampling)\n",
    "- Hyperparameter Tuning\n",
    "- Business Insights and Recommendations"
   ]
  },
  {
   "cell_type": "markdown",
   "id": "0e3db4be-d414-470e-a612-8a447e254fb8",
   "metadata": {},
   "source": [
    "### Import Libraries"
   ]
  },
  {
   "cell_type": "code",
   "execution_count": 8,
   "id": "0495b42f-0c23-43a5-bb4f-7eb45b2d8e7b",
   "metadata": {},
   "outputs": [],
   "source": [
    "# Basic Libraries\n",
    "import pandas as pd\n",
    "import numpy as np\n",
    "\n",
    "# Visualization Libraries\n",
    "import matplotlib.pyplot as plt\n",
    "import seaborn as sns\n",
    "\n",
    "# Settings\n",
    "pd.set_option('display.max_columns', None)\n",
    "sns.set(style=\"whitegrid\")"
   ]
  },
  {
   "cell_type": "markdown",
   "id": "17050735-e2cd-43a2-b3af-5b93671c7e21",
   "metadata": {},
   "source": [
    "### Load Dataset"
   ]
  },
  {
   "cell_type": "code",
   "execution_count": 10,
   "id": "fc3bf9d3-3fa6-49ac-bf4a-689a28a79634",
   "metadata": {},
   "outputs": [
    {
     "name": "stdout",
     "output_type": "stream",
     "text": [
      "Shape of dataset: (25480, 12)\n"
     ]
    },
    {
     "data": {
      "text/html": [
       "<div>\n",
       "<style scoped>\n",
       "    .dataframe tbody tr th:only-of-type {\n",
       "        vertical-align: middle;\n",
       "    }\n",
       "\n",
       "    .dataframe tbody tr th {\n",
       "        vertical-align: top;\n",
       "    }\n",
       "\n",
       "    .dataframe thead th {\n",
       "        text-align: right;\n",
       "    }\n",
       "</style>\n",
       "<table border=\"1\" class=\"dataframe\">\n",
       "  <thead>\n",
       "    <tr style=\"text-align: right;\">\n",
       "      <th></th>\n",
       "      <th>case_id</th>\n",
       "      <th>continent</th>\n",
       "      <th>education_of_employee</th>\n",
       "      <th>has_job_experience</th>\n",
       "      <th>requires_job_training</th>\n",
       "      <th>no_of_employees</th>\n",
       "      <th>yr_of_estab</th>\n",
       "      <th>region_of_employment</th>\n",
       "      <th>prevailing_wage</th>\n",
       "      <th>unit_of_wage</th>\n",
       "      <th>full_time_position</th>\n",
       "      <th>case_status</th>\n",
       "    </tr>\n",
       "  </thead>\n",
       "  <tbody>\n",
       "    <tr>\n",
       "      <th>0</th>\n",
       "      <td>EZYV01</td>\n",
       "      <td>Asia</td>\n",
       "      <td>High School</td>\n",
       "      <td>N</td>\n",
       "      <td>N</td>\n",
       "      <td>14513</td>\n",
       "      <td>2007</td>\n",
       "      <td>West</td>\n",
       "      <td>592.2029</td>\n",
       "      <td>Hour</td>\n",
       "      <td>Y</td>\n",
       "      <td>Denied</td>\n",
       "    </tr>\n",
       "    <tr>\n",
       "      <th>1</th>\n",
       "      <td>EZYV02</td>\n",
       "      <td>Asia</td>\n",
       "      <td>Master's</td>\n",
       "      <td>Y</td>\n",
       "      <td>N</td>\n",
       "      <td>2412</td>\n",
       "      <td>2002</td>\n",
       "      <td>Northeast</td>\n",
       "      <td>83425.6500</td>\n",
       "      <td>Year</td>\n",
       "      <td>Y</td>\n",
       "      <td>Certified</td>\n",
       "    </tr>\n",
       "    <tr>\n",
       "      <th>2</th>\n",
       "      <td>EZYV03</td>\n",
       "      <td>Asia</td>\n",
       "      <td>Bachelor's</td>\n",
       "      <td>N</td>\n",
       "      <td>Y</td>\n",
       "      <td>44444</td>\n",
       "      <td>2008</td>\n",
       "      <td>West</td>\n",
       "      <td>122996.8600</td>\n",
       "      <td>Year</td>\n",
       "      <td>Y</td>\n",
       "      <td>Denied</td>\n",
       "    </tr>\n",
       "    <tr>\n",
       "      <th>3</th>\n",
       "      <td>EZYV04</td>\n",
       "      <td>Asia</td>\n",
       "      <td>Bachelor's</td>\n",
       "      <td>N</td>\n",
       "      <td>N</td>\n",
       "      <td>98</td>\n",
       "      <td>1897</td>\n",
       "      <td>West</td>\n",
       "      <td>83434.0300</td>\n",
       "      <td>Year</td>\n",
       "      <td>Y</td>\n",
       "      <td>Denied</td>\n",
       "    </tr>\n",
       "    <tr>\n",
       "      <th>4</th>\n",
       "      <td>EZYV05</td>\n",
       "      <td>Africa</td>\n",
       "      <td>Master's</td>\n",
       "      <td>Y</td>\n",
       "      <td>N</td>\n",
       "      <td>1082</td>\n",
       "      <td>2005</td>\n",
       "      <td>South</td>\n",
       "      <td>149907.3900</td>\n",
       "      <td>Year</td>\n",
       "      <td>Y</td>\n",
       "      <td>Certified</td>\n",
       "    </tr>\n",
       "  </tbody>\n",
       "</table>\n",
       "</div>"
      ],
      "text/plain": [
       "  case_id continent education_of_employee has_job_experience  \\\n",
       "0  EZYV01      Asia           High School                  N   \n",
       "1  EZYV02      Asia              Master's                  Y   \n",
       "2  EZYV03      Asia            Bachelor's                  N   \n",
       "3  EZYV04      Asia            Bachelor's                  N   \n",
       "4  EZYV05    Africa              Master's                  Y   \n",
       "\n",
       "  requires_job_training  no_of_employees  yr_of_estab region_of_employment  \\\n",
       "0                     N            14513         2007                 West   \n",
       "1                     N             2412         2002            Northeast   \n",
       "2                     Y            44444         2008                 West   \n",
       "3                     N               98         1897                 West   \n",
       "4                     N             1082         2005                South   \n",
       "\n",
       "   prevailing_wage unit_of_wage full_time_position case_status  \n",
       "0         592.2029         Hour                  Y      Denied  \n",
       "1       83425.6500         Year                  Y   Certified  \n",
       "2      122996.8600         Year                  Y      Denied  \n",
       "3       83434.0300         Year                  Y      Denied  \n",
       "4      149907.3900         Year                  Y   Certified  "
      ]
     },
     "execution_count": 10,
     "metadata": {},
     "output_type": "execute_result"
    }
   ],
   "source": [
    "# Load the dataset\n",
    "df = pd.read_csv(\"EasyVisa.csv\")\n",
    "\n",
    "# Display shape and first few rows\n",
    "print(f\"Shape of dataset: {df.shape}\")\n",
    "df.head()"
   ]
  },
  {
   "cell_type": "markdown",
   "id": "83bc1f8c-adb9-4fb6-b726-bda6bc4e9f88",
   "metadata": {},
   "source": [
    "### Dataset Info"
   ]
  },
  {
   "cell_type": "code",
   "execution_count": 12,
   "id": "9696154f-35f4-4566-a06d-64a4ba106f9e",
   "metadata": {},
   "outputs": [
    {
     "name": "stdout",
     "output_type": "stream",
     "text": [
      "<class 'pandas.core.frame.DataFrame'>\n",
      "RangeIndex: 25480 entries, 0 to 25479\n",
      "Data columns (total 12 columns):\n",
      " #   Column                 Non-Null Count  Dtype  \n",
      "---  ------                 --------------  -----  \n",
      " 0   case_id                25480 non-null  object \n",
      " 1   continent              25480 non-null  object \n",
      " 2   education_of_employee  25480 non-null  object \n",
      " 3   has_job_experience     25480 non-null  object \n",
      " 4   requires_job_training  25480 non-null  object \n",
      " 5   no_of_employees        25480 non-null  int64  \n",
      " 6   yr_of_estab            25480 non-null  int64  \n",
      " 7   region_of_employment   25480 non-null  object \n",
      " 8   prevailing_wage        25480 non-null  float64\n",
      " 9   unit_of_wage           25480 non-null  object \n",
      " 10  full_time_position     25480 non-null  object \n",
      " 11  case_status            25480 non-null  object \n",
      "dtypes: float64(1), int64(2), object(9)\n",
      "memory usage: 2.3+ MB\n"
     ]
    }
   ],
   "source": [
    "# Get general information about the dataset\n",
    "df.info()"
   ]
  },
  {
   "cell_type": "markdown",
   "id": "141e6df2-702e-4cb2-bae2-1c159044aadd",
   "metadata": {},
   "source": [
    "### Check for Missing Values"
   ]
  },
  {
   "cell_type": "code",
   "execution_count": 14,
   "id": "503e3442-ae0d-49e1-9a73-89a814cb85c0",
   "metadata": {},
   "outputs": [
    {
     "data": {
      "text/plain": [
       "case_id                  0\n",
       "continent                0\n",
       "education_of_employee    0\n",
       "has_job_experience       0\n",
       "requires_job_training    0\n",
       "no_of_employees          0\n",
       "yr_of_estab              0\n",
       "region_of_employment     0\n",
       "prevailing_wage          0\n",
       "unit_of_wage             0\n",
       "full_time_position       0\n",
       "case_status              0\n",
       "dtype: int64"
      ]
     },
     "execution_count": 14,
     "metadata": {},
     "output_type": "execute_result"
    }
   ],
   "source": [
    "# Check for missing values in each column\n",
    "df.isnull().sum()"
   ]
  },
  {
   "cell_type": "markdown",
   "id": "79075b4d-e397-4342-b55a-33e4744e8215",
   "metadata": {},
   "source": [
    "### Basic Statistics"
   ]
  },
  {
   "cell_type": "code",
   "execution_count": 16,
   "id": "4e117e61-95ea-496a-9536-7b63305eee18",
   "metadata": {},
   "outputs": [
    {
     "data": {
      "text/html": [
       "<div>\n",
       "<style scoped>\n",
       "    .dataframe tbody tr th:only-of-type {\n",
       "        vertical-align: middle;\n",
       "    }\n",
       "\n",
       "    .dataframe tbody tr th {\n",
       "        vertical-align: top;\n",
       "    }\n",
       "\n",
       "    .dataframe thead th {\n",
       "        text-align: right;\n",
       "    }\n",
       "</style>\n",
       "<table border=\"1\" class=\"dataframe\">\n",
       "  <thead>\n",
       "    <tr style=\"text-align: right;\">\n",
       "      <th></th>\n",
       "      <th>no_of_employees</th>\n",
       "      <th>yr_of_estab</th>\n",
       "      <th>prevailing_wage</th>\n",
       "    </tr>\n",
       "  </thead>\n",
       "  <tbody>\n",
       "    <tr>\n",
       "      <th>count</th>\n",
       "      <td>25480.000000</td>\n",
       "      <td>25480.000000</td>\n",
       "      <td>25480.000000</td>\n",
       "    </tr>\n",
       "    <tr>\n",
       "      <th>mean</th>\n",
       "      <td>5667.043210</td>\n",
       "      <td>1979.409929</td>\n",
       "      <td>74455.814592</td>\n",
       "    </tr>\n",
       "    <tr>\n",
       "      <th>std</th>\n",
       "      <td>22877.928848</td>\n",
       "      <td>42.366929</td>\n",
       "      <td>52815.942327</td>\n",
       "    </tr>\n",
       "    <tr>\n",
       "      <th>min</th>\n",
       "      <td>-26.000000</td>\n",
       "      <td>1800.000000</td>\n",
       "      <td>2.136700</td>\n",
       "    </tr>\n",
       "    <tr>\n",
       "      <th>25%</th>\n",
       "      <td>1022.000000</td>\n",
       "      <td>1976.000000</td>\n",
       "      <td>34015.480000</td>\n",
       "    </tr>\n",
       "    <tr>\n",
       "      <th>50%</th>\n",
       "      <td>2109.000000</td>\n",
       "      <td>1997.000000</td>\n",
       "      <td>70308.210000</td>\n",
       "    </tr>\n",
       "    <tr>\n",
       "      <th>75%</th>\n",
       "      <td>3504.000000</td>\n",
       "      <td>2005.000000</td>\n",
       "      <td>107735.512500</td>\n",
       "    </tr>\n",
       "    <tr>\n",
       "      <th>max</th>\n",
       "      <td>602069.000000</td>\n",
       "      <td>2016.000000</td>\n",
       "      <td>319210.270000</td>\n",
       "    </tr>\n",
       "  </tbody>\n",
       "</table>\n",
       "</div>"
      ],
      "text/plain": [
       "       no_of_employees   yr_of_estab  prevailing_wage\n",
       "count     25480.000000  25480.000000     25480.000000\n",
       "mean       5667.043210   1979.409929     74455.814592\n",
       "std       22877.928848     42.366929     52815.942327\n",
       "min         -26.000000   1800.000000         2.136700\n",
       "25%        1022.000000   1976.000000     34015.480000\n",
       "50%        2109.000000   1997.000000     70308.210000\n",
       "75%        3504.000000   2005.000000    107735.512500\n",
       "max      602069.000000   2016.000000    319210.270000"
      ]
     },
     "execution_count": 16,
     "metadata": {},
     "output_type": "execute_result"
    }
   ],
   "source": [
    "# Summary statistics for numerical features\n",
    "df.describe()"
   ]
  },
  {
   "cell_type": "markdown",
   "id": "006431cb-00f5-4486-a868-eac3344a4ba9",
   "metadata": {},
   "source": [
    "## Exploratory Data Analysis (EDA)"
   ]
  },
  {
   "cell_type": "markdown",
   "id": "aa71b936-5c8a-4cd6-82ea-6343d4120b17",
   "metadata": {},
   "source": [
    "### Univariate Analysis"
   ]
  },
  {
   "cell_type": "markdown",
   "id": "7e2bbea6-c4a9-4a16-96fe-d487aa1f312b",
   "metadata": {},
   "source": [
    "#### Target Variable Distribution – `case_status`"
   ]
  },
  {
   "cell_type": "code",
   "execution_count": 20,
   "id": "8529f003-540c-45f7-833b-f8389ae8f232",
   "metadata": {},
   "outputs": [
    {
     "data": {
      "image/png": "[encoded data removed]",
      "text/plain": [
       "<Figure size 640x480 with 1 Axes>"
      ]
     },
     "metadata": {},
     "output_type": "display_data"
    },
    {
     "data": {
      "text/plain": [
       "case_status\n",
       "Certified    66.789639\n",
       "Denied       33.210361\n",
       "Name: proportion, dtype: float64"
      ]
     },
     "execution_count": 20,
     "metadata": {},
     "output_type": "execute_result"
    }
   ],
   "source": [
    "# Check distribution of the target variable\n",
    "sns.countplot(x='case_status', data=df)\n",
    "plt.title(\"Visa Case Status Distribution\")\n",
    "plt.xlabel(\"Case Status\")\n",
    "plt.ylabel(\"Count\")\n",
    "plt.show()\n",
    "\n",
    "# Show percentage distribution\n",
    "df['case_status'].value_counts(normalize=True) * 100"
   ]
  },
  {
   "cell_type": "markdown",
   "id": "883408b2-3b21-4c48-a86e-a46de3933436",
   "metadata": {},
   "source": [
    "#### Categorical Feature – `education_of_employee`"
   ]
  },
  {
   "cell_type": "code",
   "execution_count": 22,
   "id": "c1d86c78-fb56-412c-ae7c-31294b0211dd",
   "metadata": {},
   "outputs": [
    {
     "data": {
      "image/png": "[encoded data removed]",
      "text/plain": [
       "<Figure size 640x480 with 1 Axes>"
      ]
     },
     "metadata": {},
     "output_type": "display_data"
    }
   ],
   "source": [
    "sns.countplot(y='education_of_employee', data=df, order=df['education_of_employee'].value_counts().index)\n",
    "plt.title(\"Distribution of Education Levels\")\n",
    "plt.xlabel(\"Count\")\n",
    "plt.ylabel(\"Education Level\")\n",
    "plt.show()"
   ]
  },
  {
   "cell_type": "markdown",
   "id": "c1df3add-c28d-4150-8d99-351a04f3e7e0",
   "metadata": {},
   "source": [
    "#### Binary Features – `has_job_experience, requires_job_training, full_time_position`"
   ]
  },
  {
   "cell_type": "code",
   "execution_count": 24,
   "id": "3425dd1f-c41f-4019-be41-d6b93cf79287",
   "metadata": {},
   "outputs": [
    {
     "data": {
      "image/png": "[encoded data removed]",
      "text/plain": [
       "<Figure size 640x480 with 1 Axes>"
      ]
     },
     "metadata": {},
     "output_type": "display_data"
    },
    {
     "data": {
      "image/png": "[encoded data removed]",
      "text/plain": [
       "<Figure size 640x480 with 1 Axes>"
      ]
     },
     "metadata": {},
     "output_type": "display_data"
    },
    {
     "data": {
      "image/png": "[encoded data removed]",
      "text/plain": [
       "<Figure size 640x480 with 1 Axes>"
      ]
     },
     "metadata": {},
     "output_type": "display_data"
    }
   ],
   "source": [
    "# Plot multiple binary features without palette to avoid warning\n",
    "binary_features = ['has_job_experience', 'requires_job_training', 'full_time_position']\n",
    "\n",
    "for feature in binary_features:\n",
    "    sns.countplot(x=feature, data=df)\n",
    "    plt.title(f\"Distribution of {feature}\")\n",
    "    plt.xlabel(feature)\n",
    "    plt.ylabel(\"Count\")\n",
    "    plt.show()"
   ]
  },
  {
   "cell_type": "markdown",
   "id": "2aec215d-5040-46ab-bb2a-d86fb3acacd3",
   "metadata": {},
   "source": [
    "#### Numerical Feature – `prevailing_wage`"
   ]
  },
  {
   "cell_type": "code",
   "execution_count": 26,
   "id": "9d3a46bc-56f5-4a88-9ad2-d9e44a757772",
   "metadata": {},
   "outputs": [
    {
     "data": {
      "image/png": "[encoded data removed]",
      "text/plain": [
       "<Figure size 640x480 with 1 Axes>"
      ]
     },
     "metadata": {},
     "output_type": "display_data"
    },
    {
     "data": {
      "text/plain": [
       "0.7557760603032042"
      ]
     },
     "execution_count": 26,
     "metadata": {},
     "output_type": "execute_result"
    }
   ],
   "source": [
    "# Distribution of wages\n",
    "sns.histplot(df['prevailing_wage'], bins=50, kde=True)\n",
    "plt.title(\"Distribution of Prevailing Wage\")\n",
    "plt.xlabel(\"Prevailing Wage\")\n",
    "plt.ylabel(\"Frequency\")\n",
    "plt.show()\n",
    "\n",
    "# Check for skewness\n",
    "df['prevailing_wage'].skew()"
   ]
  },
  {
   "cell_type": "markdown",
   "id": "d4fc64c6-8a0c-4b87-a5ad-a48e9f266f84",
   "metadata": {},
   "source": [
    "#### Other Features – `no_of_employees, yr_of_estab`"
   ]
  },
  {
   "cell_type": "code",
   "execution_count": 28,
   "id": "ede4852c-0430-406f-8ff1-88724663a88d",
   "metadata": {},
   "outputs": [
    {
     "data": {
      "image/png": "[encoded data removed]",
      "text/plain": [
       "<Figure size 640x480 with 1 Axes>"
      ]
     },
     "metadata": {},
     "output_type": "display_data"
    },
    {
     "data": {
      "image/png": "[encoded data removed]",
      "text/plain": [
       "<Figure size 640x480 with 1 Axes>"
      ]
     },
     "metadata": {},
     "output_type": "display_data"
    }
   ],
   "source": [
    "# Employees\n",
    "sns.histplot(df['no_of_employees'], bins=50, kde=True)\n",
    "plt.title(\"Distribution of Number of Employees\")\n",
    "plt.xlabel(\"No. of Employees\")\n",
    "plt.ylabel(\"Frequency\")\n",
    "plt.show()\n",
    "\n",
    "# Year of establishment\n",
    "sns.histplot(df['yr_of_estab'], bins=30, kde=False)\n",
    "plt.title(\"Distribution of Company Establishment Year\")\n",
    "plt.xlabel(\"Year of Establishment\")\n",
    "plt.ylabel(\"Frequency\")\n",
    "plt.show()"
   ]
  },
  {
   "cell_type": "markdown",
   "id": "84e1d1b9-634b-4424-8255-96de6bfadb1a",
   "metadata": {},
   "source": [
    "### Bivariate Analysis"
   ]
  },
  {
   "cell_type": "markdown",
   "id": "319c92b0-ba3c-424a-9d72-eff0bfc92ae2",
   "metadata": {},
   "source": [
    "#### Education vs Case Status"
   ]
  },
  {
   "cell_type": "code",
   "execution_count": 31,
   "id": "959f8fec-9c8c-4949-b59b-c7c3d48c882b",
   "metadata": {},
   "outputs": [
    {
     "data": {
      "image/png": "[encoded data removed]",
      "text/plain": [
       "<Figure size 800x400 with 1 Axes>"
      ]
     },
     "metadata": {},
     "output_type": "display_data"
    }
   ],
   "source": [
    "plt.figure(figsize=(8, 4))\n",
    "sns.countplot(data=df, x='education_of_employee')\n",
    "plt.title(\"Education Level vs Case Status\")\n",
    "plt.xlabel(\"Education Level\")\n",
    "plt.ylabel(\"Count\")\n",
    "plt.show()"
   ]
  },
  {
   "cell_type": "markdown",
   "id": "a3b1758d-8bce-42b7-829c-8e28c37a317f",
   "metadata": {},
   "source": [
    "#### Job Experience vs Case Status"
   ]
  },
  {
   "cell_type": "code",
   "execution_count": 33,
   "id": "ea2cbfb1-c62a-4285-be5d-3737ddc6d32a",
   "metadata": {},
   "outputs": [
    {
     "data": {
      "image/png": "[encoded data removed]",
      "text/plain": [
       "<Figure size 640x480 with 1 Axes>"
      ]
     },
     "metadata": {},
     "output_type": "display_data"
    }
   ],
   "source": [
    "sns.countplot(data=df, x='has_job_experience')\n",
    "plt.title(\"Job Experience vs Case Status\")\n",
    "plt.xlabel(\"Has Job Experience\")\n",
    "plt.ylabel(\"Count\")\n",
    "plt.show()"
   ]
  },
  {
   "cell_type": "markdown",
   "id": "13f4d0c2-6331-4684-b770-3f6844de3587",
   "metadata": {},
   "source": [
    "#### Region of Employment vs Case Status"
   ]
  },
  {
   "cell_type": "code",
   "execution_count": 35,
   "id": "dafde5d5-0780-43d9-880d-1dcf5a1b5b89",
   "metadata": {},
   "outputs": [
    {
     "data": {
      "image/png": "[encoded data removed]",
      "text/plain": [
       "<Figure size 1000x500 with 1 Axes>"
      ]
     },
     "metadata": {},
     "output_type": "display_data"
    }
   ],
   "source": [
    "plt.figure(figsize=(10, 5))\n",
    "sns.countplot(data=df, y='region_of_employment')\n",
    "plt.title(\"Region of Employment vs Case Status\")\n",
    "plt.xlabel(\"Count\")\n",
    "plt.ylabel(\"Region\")\n",
    "plt.show()"
   ]
  },
  {
   "cell_type": "markdown",
   "id": "21c1377c-fd41-458d-a01f-9f677791ae6d",
   "metadata": {},
   "source": [
    "#### Full-Time Position vs Case Status"
   ]
  },
  {
   "cell_type": "code",
   "execution_count": 37,
   "id": "ca9d0224-1dd8-4bd0-91aa-2b13203148d0",
   "metadata": {},
   "outputs": [
    {
     "data": {
      "image/png": "[encoded data removed]",
      "text/plain": [
       "<Figure size 640x480 with 1 Axes>"
      ]
     },
     "metadata": {},
     "output_type": "display_data"
    }
   ],
   "source": [
    "sns.countplot(data=df, x='full_time_position')\n",
    "plt.title(\"Full-Time Position vs Case Status\")\n",
    "plt.xlabel(\"Full-Time Position\")\n",
    "plt.ylabel(\"Count\")\n",
    "plt.show()"
   ]
  },
  {
   "cell_type": "markdown",
   "id": "3e480169-df2d-42b3-ae72-d90aeb5bdfe9",
   "metadata": {},
   "source": [
    "#### Box Plot - Prevailing Wage vs Case Status"
   ]
  },
  {
   "cell_type": "code",
   "execution_count": 39,
   "id": "7ff47eda-e9cd-4243-a800-4ef91378ecfb",
   "metadata": {},
   "outputs": [
    {
     "data": {
      "image/png": "[encoded data removed]",
      "text/plain": [
       "<Figure size 800x500 with 1 Axes>"
      ]
     },
     "metadata": {},
     "output_type": "display_data"
    }
   ],
   "source": [
    "# Boxplot to detect wage patterns and outliers between classes\n",
    "plt.figure(figsize=(8, 5))\n",
    "sns.boxplot(data=df, x='case_status', y='prevailing_wage')\n",
    "plt.yscale('log')  # Log scale for better visibility due to skewed distribution\n",
    "plt.title(\"Prevailing Wage vs Case Status\")\n",
    "plt.xlabel(\"Case Status\")\n",
    "plt.ylabel(\"Prevailing Wage (log scale)\")\n",
    "plt.show()"
   ]
  },
  {
   "cell_type": "markdown",
   "id": "70faaa28-8cdf-4ca7-87c2-a9b413321fdb",
   "metadata": {},
   "source": [
    "#### Correlation Heatmap - Numerical Features"
   ]
  },
  {
   "cell_type": "code",
   "execution_count": 41,
   "id": "fa38da76-43a4-4080-ae29-7e26c0ec7ef2",
   "metadata": {},
   "outputs": [
    {
     "data": {
      "image/png": "[encoded data removed]",
      "text/plain": [
       "<Figure size 600x400 with 2 Axes>"
      ]
     },
     "metadata": {},
     "output_type": "display_data"
    }
   ],
   "source": [
    "# Compute correlation matrix for numerical variables\n",
    "numerical_cols = ['no_of_employees', 'yr_of_estab', 'prevailing_wage']\n",
    "corr = df[numerical_cols].corr()\n",
    "\n",
    "plt.figure(figsize=(6, 4))\n",
    "sns.heatmap(corr, annot=True, cmap='Blues', fmt=\".2f\")\n",
    "plt.title(\"Correlation Between Numerical Features\")\n",
    "plt.show()"
   ]
  },
  {
   "cell_type": "markdown",
   "id": "f91b2c5d-b303-496f-b95f-ad41db137974",
   "metadata": {},
   "source": [
    "## Data Preprocessing and Feature Engineering"
   ]
  },
  {
   "cell_type": "markdown",
   "id": "d01bf680-bfa4-4168-b5e8-9380328665d9",
   "metadata": {},
   "source": [
    "### Check for Missing Values"
   ]
  },
  {
   "cell_type": "code",
   "execution_count": 44,
   "id": "5e548abd-9914-41cc-be10-43fcae3046de",
   "metadata": {},
   "outputs": [
    {
     "data": {
      "text/plain": [
       "Series([], dtype: int64)"
      ]
     },
     "execution_count": 44,
     "metadata": {},
     "output_type": "execute_result"
    }
   ],
   "source": [
    "# Check for missing values in each column\n",
    "missing_values = df.isnull().sum()\n",
    "missing_values[missing_values > 0]"
   ]
  },
  {
   "cell_type": "markdown",
   "id": "5005583b-35d3-4485-8e33-7cd94ddcf11a",
   "metadata": {},
   "source": [
    "### Handle Missing Values (Optional)"
   ]
  },
  {
   "cell_type": "code",
   "execution_count": 46,
   "id": "49015959-2827-46b7-9a79-fc8e60f3ccb7",
   "metadata": {},
   "outputs": [],
   "source": [
    "# Optional: only execute if missing values exist\n",
    "if df.isnull().sum().sum() > 0:\n",
    "    df['education_of_employee'].fillna(\"Unknown\", inplace=True)\n",
    "    df['continent'].fillna(\"Unknown\", inplace=True)\n",
    "    df['has_job_experience'].fillna(\"N\", inplace=True)\n",
    "    df['requires_job_training'].fillna(\"N\", inplace=True)"
   ]
  },
  {
   "cell_type": "markdown",
   "id": "4efca0fb-bc7d-43fc-a848-2c574eb44f32",
   "metadata": {},
   "source": [
    "### Outlier Detection in Prevailing Wage"
   ]
  },
  {
   "cell_type": "code",
   "execution_count": 48,
   "id": "82bd977a-9b8e-45d1-b928-e544d6407803",
   "metadata": {},
   "outputs": [
    {
     "data": {
      "image/png": "[encoded data removed]",
      "text/plain": [
       "<Figure size 640x480 with 1 Axes>"
      ]
     },
     "metadata": {},
     "output_type": "display_data"
    }
   ],
   "source": [
    "# Check wage distribution\n",
    "sns.boxplot(x=df['prevailing_wage'])\n",
    "plt.title(\"Boxplot: Prevailing Wage\")\n",
    "plt.xlabel(\"Wage\")\n",
    "plt.show()\n",
    "\n",
    "# Use IQR to detect and cap extreme values\n",
    "Q1 = df['prevailing_wage'].quantile(0.25)\n",
    "Q3 = df['prevailing_wage'].quantile(0.75)\n",
    "IQR = Q3 - Q1\n",
    "upper_limit = Q3 + 1.5 * IQR\n",
    "\n",
    "# Cap extreme outliers at upper limit\n",
    "df['prevailing_wage'] = np.where(df['prevailing_wage'] > upper_limit, upper_limit, df['prevailing_wage'])"
   ]
  },
  {
   "cell_type": "markdown",
   "id": "9ab99141-1fd4-48a8-afe2-e301f9bc509c",
   "metadata": {},
   "source": [
    "### Normalize Wage to Yearly (Feature Engineering)\n",
    "- Visa approval decisions may be influenced by how competitive a wage offer is.\n",
    "- Since wages are recorded in different units (hour, week, month, year),\n",
    "- We normalize all wages to a common unit (yearly wage) to ensure consistency\n",
    "- And allow fair comparison across all applications."
   ]
  },
  {
   "cell_type": "code",
   "execution_count": 50,
   "id": "b90f1472-1e4e-470d-90f3-327d93039305",
   "metadata": {},
   "outputs": [],
   "source": [
    "# Define proper conversion factors based on unit\n",
    "wage_factors = {\n",
    "    'Hour': 2080,   # 40 hours/week × 52 weeks/year = 2080 working hours/year\n",
    "    'Week': 52,     # 52 weeks in a year\n",
    "    'Month': 12,    # 12 months in a year\n",
    "    'Year': 1       # Already yearly\n",
    "}\n",
    "\n",
    "# Map the factor for each record based on its wage unit\n",
    "df['wage_factor'] = df['unit_of_wage'].map(wage_factors)\n",
    "\n",
    "# Multiply prevailing wage by factor to get normalized yearly wage\n",
    "df['normalized_wage'] = df['prevailing_wage'] * df['wage_factor']"
   ]
  },
  {
   "cell_type": "markdown",
   "id": "aec529f4-c1c8-4809-9cfe-3b704821876d",
   "metadata": {},
   "source": [
    "### Drop Unused Columns\n",
    "- `case_id`: Unique identifier, no predictive value\n",
    "- `unit_of_wage`: Already normalized into `normalized_wage`\n",
    "- `wage_factor` and `prevailing_wage`: Intermediate columns no longer needed"
   ]
  },
  {
   "cell_type": "code",
   "execution_count": 52,
   "id": "a96f8059-a585-4577-be69-1885e3d02984",
   "metadata": {},
   "outputs": [],
   "source": [
    "# Drop columns not needed after transformation\n",
    "df.drop(['case_id', 'unit_of_wage', 'wage_factor', 'prevailing_wage'], axis=1, inplace=True)"
   ]
  },
  {
   "cell_type": "markdown",
   "id": "44584c6c-5f2e-4ac5-b1ff-673dc215a75e",
   "metadata": {},
   "source": [
    "### Encode Categorical Variables"
   ]
  },
  {
   "cell_type": "code",
   "execution_count": 54,
   "id": "1de8f90c-2cc7-4732-86cf-de97a0905e53",
   "metadata": {},
   "outputs": [],
   "source": [
    "# Binary Mapping: Convert 'Y'/'N' to 1/0 for model input\n",
    "df['has_job_experience'] = df['has_job_experience'].map({'Y': 1, 'N': 0})\n",
    "df['requires_job_training'] = df['requires_job_training'].map({'Y': 1, 'N': 0})\n",
    "df['full_time_position'] = df['full_time_position'].map({'Y': 1, 'N': 0})\n",
    "\n",
    "# Encode Target Variable: 'Certified' -> 1, 'Denied' -> 0\n",
    "df['case_status'] = df['case_status'].map({'Certified': 1, 'Denied': 0})\n",
    "\n",
    "# One-Hot Encoding: Create dummy variables for multi-class categorical fields\n",
    "# 'drop_first=True' avoids multicollinearity by dropping the first category\n",
    "df = pd.get_dummies(df, columns=['education_of_employee', 'region_of_employment', 'continent'], drop_first=True)"
   ]
  },
  {
   "cell_type": "markdown",
   "id": "c9770d97-c777-4184-93f9-1043e96626a2",
   "metadata": {},
   "source": [
    "### Final Shape and Preview"
   ]
  },
  {
   "cell_type": "code",
   "execution_count": 56,
   "id": "ae6266f3-2e0d-4a62-ad85-a4226220d60c",
   "metadata": {},
   "outputs": [
    {
     "name": "stdout",
     "output_type": "stream",
     "text": [
      "Final dataset shape after preprocessing: (25480, 19)\n"
     ]
    },
    {
     "data": {
      "text/html": [
       "<div>\n",
       "<style scoped>\n",
       "    .dataframe tbody tr th:only-of-type {\n",
       "        vertical-align: middle;\n",
       "    }\n",
       "\n",
       "    .dataframe tbody tr th {\n",
       "        vertical-align: top;\n",
       "    }\n",
       "\n",
       "    .dataframe thead th {\n",
       "        text-align: right;\n",
       "    }\n",
       "</style>\n",
       "<table border=\"1\" class=\"dataframe\">\n",
       "  <thead>\n",
       "    <tr style=\"text-align: right;\">\n",
       "      <th></th>\n",
       "      <th>has_job_experience</th>\n",
       "      <th>requires_job_training</th>\n",
       "      <th>no_of_employees</th>\n",
       "      <th>yr_of_estab</th>\n",
       "      <th>full_time_position</th>\n",
       "      <th>case_status</th>\n",
       "      <th>normalized_wage</th>\n",
       "      <th>education_of_employee_Doctorate</th>\n",
       "      <th>education_of_employee_High School</th>\n",
       "      <th>education_of_employee_Master's</th>\n",
       "      <th>region_of_employment_Midwest</th>\n",
       "      <th>region_of_employment_Northeast</th>\n",
       "      <th>region_of_employment_South</th>\n",
       "      <th>region_of_employment_West</th>\n",
       "      <th>continent_Asia</th>\n",
       "      <th>continent_Europe</th>\n",
       "      <th>continent_North America</th>\n",
       "      <th>continent_Oceania</th>\n",
       "      <th>continent_South America</th>\n",
       "    </tr>\n",
       "  </thead>\n",
       "  <tbody>\n",
       "    <tr>\n",
       "      <th>0</th>\n",
       "      <td>0</td>\n",
       "      <td>0</td>\n",
       "      <td>14513</td>\n",
       "      <td>2007</td>\n",
       "      <td>1</td>\n",
       "      <td>0</td>\n",
       "      <td>1231782.032</td>\n",
       "      <td>False</td>\n",
       "      <td>True</td>\n",
       "      <td>False</td>\n",
       "      <td>False</td>\n",
       "      <td>False</td>\n",
       "      <td>False</td>\n",
       "      <td>True</td>\n",
       "      <td>True</td>\n",
       "      <td>False</td>\n",
       "      <td>False</td>\n",
       "      <td>False</td>\n",
       "      <td>False</td>\n",
       "    </tr>\n",
       "    <tr>\n",
       "      <th>1</th>\n",
       "      <td>1</td>\n",
       "      <td>0</td>\n",
       "      <td>2412</td>\n",
       "      <td>2002</td>\n",
       "      <td>1</td>\n",
       "      <td>1</td>\n",
       "      <td>83425.650</td>\n",
       "      <td>False</td>\n",
       "      <td>False</td>\n",
       "      <td>True</td>\n",
       "      <td>False</td>\n",
       "      <td>True</td>\n",
       "      <td>False</td>\n",
       "      <td>False</td>\n",
       "      <td>True</td>\n",
       "      <td>False</td>\n",
       "      <td>False</td>\n",
       "      <td>False</td>\n",
       "      <td>False</td>\n",
       "    </tr>\n",
       "    <tr>\n",
       "      <th>2</th>\n",
       "      <td>0</td>\n",
       "      <td>1</td>\n",
       "      <td>44444</td>\n",
       "      <td>2008</td>\n",
       "      <td>1</td>\n",
       "      <td>0</td>\n",
       "      <td>122996.860</td>\n",
       "      <td>False</td>\n",
       "      <td>False</td>\n",
       "      <td>False</td>\n",
       "      <td>False</td>\n",
       "      <td>False</td>\n",
       "      <td>False</td>\n",
       "      <td>True</td>\n",
       "      <td>True</td>\n",
       "      <td>False</td>\n",
       "      <td>False</td>\n",
       "      <td>False</td>\n",
       "      <td>False</td>\n",
       "    </tr>\n",
       "    <tr>\n",
       "      <th>3</th>\n",
       "      <td>0</td>\n",
       "      <td>0</td>\n",
       "      <td>98</td>\n",
       "      <td>1897</td>\n",
       "      <td>1</td>\n",
       "      <td>0</td>\n",
       "      <td>83434.030</td>\n",
       "      <td>False</td>\n",
       "      <td>False</td>\n",
       "      <td>False</td>\n",
       "      <td>False</td>\n",
       "      <td>False</td>\n",
       "      <td>False</td>\n",
       "      <td>True</td>\n",
       "      <td>True</td>\n",
       "      <td>False</td>\n",
       "      <td>False</td>\n",
       "      <td>False</td>\n",
       "      <td>False</td>\n",
       "    </tr>\n",
       "    <tr>\n",
       "      <th>4</th>\n",
       "      <td>1</td>\n",
       "      <td>0</td>\n",
       "      <td>1082</td>\n",
       "      <td>2005</td>\n",
       "      <td>1</td>\n",
       "      <td>1</td>\n",
       "      <td>149907.390</td>\n",
       "      <td>False</td>\n",
       "      <td>False</td>\n",
       "      <td>True</td>\n",
       "      <td>False</td>\n",
       "      <td>False</td>\n",
       "      <td>True</td>\n",
       "      <td>False</td>\n",
       "      <td>False</td>\n",
       "      <td>False</td>\n",
       "      <td>False</td>\n",
       "      <td>False</td>\n",
       "      <td>False</td>\n",
       "    </tr>\n",
       "  </tbody>\n",
       "</table>\n",
       "</div>"
      ],
      "text/plain": [
       "   has_job_experience  requires_job_training  no_of_employees  yr_of_estab  \\\n",
       "0                   0                      0            14513         2007   \n",
       "1                   1                      0             2412         2002   \n",
       "2                   0                      1            44444         2008   \n",
       "3                   0                      0               98         1897   \n",
       "4                   1                      0             1082         2005   \n",
       "\n",
       "   full_time_position  case_status  normalized_wage  \\\n",
       "0                   1            0      1231782.032   \n",
       "1                   1            1        83425.650   \n",
       "2                   1            0       122996.860   \n",
       "3                   1            0        83434.030   \n",
       "4                   1            1       149907.390   \n",
       "\n",
       "   education_of_employee_Doctorate  education_of_employee_High School  \\\n",
       "0                            False                               True   \n",
       "1                            False                              False   \n",
       "2                            False                              False   \n",
       "3                            False                              False   \n",
       "4                            False                              False   \n",
       "\n",
       "   education_of_employee_Master's  region_of_employment_Midwest  \\\n",
       "0                           False                         False   \n",
       "1                            True                         False   \n",
       "2                           False                         False   \n",
       "3                           False                         False   \n",
       "4                            True                         False   \n",
       "\n",
       "   region_of_employment_Northeast  region_of_employment_South  \\\n",
       "0                           False                       False   \n",
       "1                            True                       False   \n",
       "2                           False                       False   \n",
       "3                           False                       False   \n",
       "4                           False                        True   \n",
       "\n",
       "   region_of_employment_West  continent_Asia  continent_Europe  \\\n",
       "0                       True            True             False   \n",
       "1                      False            True             False   \n",
       "2                       True            True             False   \n",
       "3                       True            True             False   \n",
       "4                      False           False             False   \n",
       "\n",
       "   continent_North America  continent_Oceania  continent_South America  \n",
       "0                    False              False                    False  \n",
       "1                    False              False                    False  \n",
       "2                    False              False                    False  \n",
       "3                    False              False                    False  \n",
       "4                    False              False                    False  "
      ]
     },
     "execution_count": 56,
     "metadata": {},
     "output_type": "execute_result"
    }
   ],
   "source": [
    "# this step ensures all transformations are successful and lets us validate the final structure of the dataset.\n",
    "print(f\"Final dataset shape after preprocessing: {df.shape}\")\n",
    "df.head()"
   ]
  },
  {
   "cell_type": "markdown",
   "id": "3d3a5bf0-4cb9-4b7c-9ebc-54ca897ca24c",
   "metadata": {},
   "source": [
    "## Classification Models (Decision Tree, Random Forest, Bagging, Boosting)"
   ]
  },
  {
   "cell_type": "markdown",
   "id": "98b73be5-3a52-4c2d-84a1-3817d7d63e46",
   "metadata": {},
   "source": [
    "### Imports and Setup"
   ]
  },
  {
   "cell_type": "code",
   "execution_count": 59,
   "id": "f2458305-0d29-4ee1-b0fb-e3e468c92524",
   "metadata": {},
   "outputs": [],
   "source": [
    "# Model imports\n",
    "from sklearn.tree import DecisionTreeClassifier\n",
    "from sklearn.ensemble import RandomForestClassifier, BaggingClassifier, AdaBoostClassifier, GradientBoostingClassifier\n",
    "\n",
    "# Evaluation and split utilities\n",
    "from sklearn.model_selection import train_test_split\n",
    "from sklearn.preprocessing import StandardScaler\n",
    "from sklearn.metrics import accuracy_score, f1_score, roc_auc_score, classification_report"
   ]
  },
  {
   "cell_type": "markdown",
   "id": "7f3bffb8-acf9-428d-9a45-5a0e2ac6fa7c",
   "metadata": {},
   "source": [
    "### Split Data and Scale"
   ]
  },
  {
   "cell_type": "code",
   "execution_count": 61,
   "id": "820cbc2d-8f24-4c0d-86f7-bcc2646f2cbc",
   "metadata": {},
   "outputs": [],
   "source": [
    "# Separate feature matrix and target vector\n",
    "X = df.drop('case_status', axis=1)\n",
    "y = df['case_status']\n",
    "\n",
    "# Split into train and test sets (80% train, 20% test), stratified by class\n",
    "X_train, X_test, y_train, y_test = train_test_split(\n",
    "    X, y, test_size=0.2, stratify=y, random_state=42\n",
    ")\n",
    "\n",
    "# Scale features for models sensitive to magnitude (boosting classifiers)\n",
    "scaler = StandardScaler()\n",
    "X_train_scaled = scaler.fit_transform(X_train)\n",
    "X_test_scaled = scaler.transform(X_test)"
   ]
  },
  {
   "cell_type": "markdown",
   "id": "4e52411f-db48-4337-9b44-2a2359413a06",
   "metadata": {},
   "source": [
    "### Evaluation Helper Function"
   ]
  },
  {
   "cell_type": "code",
   "execution_count": 63,
   "id": "b806d461-9c33-4824-a8e8-da722d79b207",
   "metadata": {},
   "outputs": [],
   "source": [
    "# General-purpose evaluation function for consistency across models\n",
    "def evaluate_model(name, model, X_train, y_train, X_test, y_test):\n",
    "    model.fit(X_train, y_train)  # Train the model\n",
    "    y_pred = model.predict(X_test)  # Predict labels\n",
    "    y_proba = model.predict_proba(X_test)[:, 1] if hasattr(model, \"predict_proba\") else y_pred  # For ROC-AUC\n",
    "\n",
    "    print(f\"\\n Model: {name}\")\n",
    "    print(f\"Accuracy     : {accuracy_score(y_test, y_pred):.4f}\")\n",
    "    print(f\"F1 Score     : {f1_score(y_test, y_pred):.4f}\")\n",
    "    print(f\"ROC-AUC Score: {roc_auc_score(y_test, y_proba):.4f}\")\n",
    "    print(\"Classification Report:\\n\", classification_report(y_test, y_pred))"
   ]
  },
  {
   "cell_type": "markdown",
   "id": "22021a95-386c-4098-bea3-128b278c37bf",
   "metadata": {},
   "source": [
    "### Model 1 – Decision Tree"
   ]
  },
  {
   "cell_type": "code",
   "execution_count": 65,
   "id": "8fe29fd4-99a0-4c98-9e5c-e249c3592955",
   "metadata": {},
   "outputs": [
    {
     "name": "stdout",
     "output_type": "stream",
     "text": [
      "\n",
      " Model: Decision Tree\n",
      "Accuracy     : 0.6538\n",
      "F1 Score     : 0.7392\n",
      "ROC-AUC Score: 0.6131\n",
      "Classification Report:\n",
      "               precision    recall  f1-score   support\n",
      "\n",
      "           0       0.48      0.49      0.49      1692\n",
      "           1       0.74      0.73      0.74      3404\n",
      "\n",
      "    accuracy                           0.65      5096\n",
      "   macro avg       0.61      0.61      0.61      5096\n",
      "weighted avg       0.66      0.65      0.65      5096\n",
      "\n"
     ]
    }
   ],
   "source": [
    "# Decision Tree Classifier\n",
    "# Pros: Easy to interpret, fast to train\n",
    "# Cons: Can overfit on noisy data\n",
    "dt_model = DecisionTreeClassifier(random_state=42)\n",
    "evaluate_model(\"Decision Tree\", dt_model, X_train, y_train, X_test, y_test)"
   ]
  },
  {
   "cell_type": "markdown",
   "id": "5a3af575-b2fe-4be5-8564-d8b3fb8da4a2",
   "metadata": {},
   "source": [
    "### Model 2 – Random Forest"
   ]
  },
  {
   "cell_type": "code",
   "execution_count": 67,
   "id": "c2d8baf5-c0fc-47c3-9831-1159411158fd",
   "metadata": {},
   "outputs": [
    {
     "name": "stdout",
     "output_type": "stream",
     "text": [
      "\n",
      " Model: Random Forest\n",
      "Accuracy     : 0.7198\n",
      "F1 Score     : 0.7988\n",
      "ROC-AUC Score: 0.7412\n",
      "Classification Report:\n",
      "               precision    recall  f1-score   support\n",
      "\n",
      "           0       0.59      0.49      0.54      1692\n",
      "           1       0.77      0.83      0.80      3404\n",
      "\n",
      "    accuracy                           0.72      5096\n",
      "   macro avg       0.68      0.66      0.67      5096\n",
      "weighted avg       0.71      0.72      0.71      5096\n",
      "\n"
     ]
    }
   ],
   "source": [
    "# Random Forest Classifier\n",
    "# Pros: Reduces overfitting, better generalization than decision tree\n",
    "# Cons: Slower, less interpretable\n",
    "rf_model = RandomForestClassifier(random_state=42)\n",
    "evaluate_model(\"Random Forest\", rf_model, X_train, y_train, X_test, y_test)"
   ]
  },
  {
   "cell_type": "markdown",
   "id": "76998c6d-562f-418f-bfa2-7ba659960ea8",
   "metadata": {},
   "source": [
    " ### Model 3 – Bagging Classifier"
   ]
  },
  {
   "cell_type": "code",
   "execution_count": 69,
   "id": "e1dcbd10-8dfd-46fa-b70b-42cab1b0bd18",
   "metadata": {},
   "outputs": [
    {
     "name": "stdout",
     "output_type": "stream",
     "text": [
      "\n",
      " Model: Bagging Classifier\n",
      "Accuracy     : 0.6888\n",
      "F1 Score     : 0.7678\n",
      "ROC-AUC Score: 0.7098\n",
      "Classification Report:\n",
      "               precision    recall  f1-score   support\n",
      "\n",
      "           0       0.53      0.52      0.53      1692\n",
      "           1       0.77      0.77      0.77      3404\n",
      "\n",
      "    accuracy                           0.69      5096\n",
      "   macro avg       0.65      0.65      0.65      5096\n",
      "weighted avg       0.69      0.69      0.69      5096\n",
      "\n"
     ]
    }
   ],
   "source": [
    "# Bagging Classifier (uses multiple base estimators on random subsets)\n",
    "# Pros: Reduces variance, works well on high-variance models like decision trees\n",
    "# Cons: Less interpretable, can be slow\n",
    "bagging_model = BaggingClassifier(random_state=42)\n",
    "evaluate_model(\"Bagging Classifier\", bagging_model, X_train, y_train, X_test, y_test)"
   ]
  },
  {
   "cell_type": "markdown",
   "id": "b8de5ca9-96a1-4879-a26e-4e2c576d16f5",
   "metadata": {},
   "source": [
    "### Model 4 – AdaBoost"
   ]
  },
  {
   "cell_type": "code",
   "execution_count": 71,
   "id": "7207cfc3-bb04-4ce7-b1c1-f0b644c740b6",
   "metadata": {},
   "outputs": [
    {
     "name": "stdout",
     "output_type": "stream",
     "text": [
      "\n",
      " Model: AdaBoost (SAMME)\n",
      "Accuracy     : 0.7257\n",
      "F1 Score     : 0.8119\n",
      "ROC-AUC Score: 0.7536\n",
      "Classification Report:\n",
      "               precision    recall  f1-score   support\n",
      "\n",
      "           0       0.64      0.40      0.49      1692\n",
      "           1       0.75      0.89      0.81      3404\n",
      "\n",
      "    accuracy                           0.73      5096\n",
      "   macro avg       0.69      0.64      0.65      5096\n",
      "weighted avg       0.71      0.73      0.71      5096\n",
      "\n"
     ]
    }
   ],
   "source": [
    "# AdaBoost Classifier\n",
    "# Pros: Focuses on misclassified samples, often performs well on imbalanced data\n",
    "# Cons: Sensitive to noise, benefits from scaled features\n",
    "adaboost_model = AdaBoostClassifier(algorithm=\"SAMME\", random_state=42)\n",
    "evaluate_model(\"AdaBoost (SAMME)\", adaboost_model, X_train_scaled, y_train, X_test_scaled, y_test)"
   ]
  },
  {
   "cell_type": "markdown",
   "id": "59c31811-0355-4e75-b127-7afd5b1f69ba",
   "metadata": {},
   "source": [
    "### Model 5 – Gradient Boosting"
   ]
  },
  {
   "cell_type": "code",
   "execution_count": 73,
   "id": "49f32a42-dd2e-4de8-a01d-952d161a0990",
   "metadata": {},
   "outputs": [
    {
     "name": "stdout",
     "output_type": "stream",
     "text": [
      "\n",
      " Model: Gradient Boosting\n",
      "Accuracy     : 0.7388\n",
      "F1 Score     : 0.8166\n",
      "ROC-AUC Score: 0.7669\n",
      "Classification Report:\n",
      "               precision    recall  f1-score   support\n",
      "\n",
      "           0       0.65      0.47      0.55      1692\n",
      "           1       0.77      0.87      0.82      3404\n",
      "\n",
      "    accuracy                           0.74      5096\n",
      "   macro avg       0.71      0.67      0.68      5096\n",
      "weighted avg       0.73      0.74      0.73      5096\n",
      "\n"
     ]
    }
   ],
   "source": [
    "# Gradient Boosting Classifier\n",
    "# Pros: Very powerful ensemble method, handles complex relationships well\n",
    "# Cons: Can overfit if not tuned, benefits from scaling\n",
    "gb_model = GradientBoostingClassifier(random_state=42)\n",
    "evaluate_model(\"Gradient Boosting\", gb_model, X_train_scaled, y_train, X_test_scaled, y_test)"
   ]
  },
  {
   "cell_type": "markdown",
   "id": "bd5a37da-2bb7-49f9-95d3-c1f6a2e699c0",
   "metadata": {},
   "source": [
    "### Model Performance Summary\n",
    "\n",
    "| Model              | Accuracy  | F1 Score  | ROC-AUC   | Remarks                                  |\n",
    "| ------------------ | --------- | --------- | --------- | ---------------------------------------- |\n",
    "| Decision Tree      | 0.65      | 0.73      | 0.61      | Simple but underperforms                 |\n",
    "| Random Forest      | 0.72      | 0.79      | 0.74      | Good recall & balance                    |\n",
    "| Bagging Classifier | 0.68      | 0.76      | 0.71      | Slightly better than tree                |\n",
    "| AdaBoost (SAMME)   | 0.72      | 0.81      | 0.75      | Very good performance, imbalanced recall |\n",
    "| Gradient Boosting  | **0.73**  | **0.81**  | **0.76**  | **Best performing overall**              |\n",
    "\n",
    "---\n",
    "\n",
    "### Key Insights:\n",
    "- **Gradient Boosting** performed the best across all metrics and should be a strong candidate for final tuning.\n",
    "- **AdaBoost** also showed strong performance, especially in terms of F1 score and ROC-AUC, but may slightly favor positive class predictions.\n",
    "- **Random Forest** provided a solid balance between precision and recall, and is a strong baseline ensemble model.\n",
    "- **Bagging Classifier** improved over a single decision tree but still lags behind boosting techniques.\n",
    "- **Decision Tree** is the weakest performer and likely overfits the data; it may not generalize well.\n"
   ]
  },
  {
   "cell_type": "markdown",
   "id": "b6ddf726-63c3-48cc-b97e-1e47f9a6505f",
   "metadata": {},
   "source": [
    "# Resampling Techniques (Oversampling, Undersampling)"
   ]
  },
  {
   "cell_type": "markdown",
   "id": "131fa8d6-4d4f-4839-95d7-252e60f5640d",
   "metadata": {},
   "source": [
    "## Oversampling the Training Data"
   ]
  },
  {
   "cell_type": "markdown",
   "id": "9708a8b3-acb9-4f3d-a5fd-09cbb3e7fd4a",
   "metadata": {},
   "source": [
    "### Import SMOTE and Resample Training Data"
   ]
  },
  {
   "cell_type": "code",
   "execution_count": 78,
   "id": "31b15871-5ab4-4244-804e-8440cf3e66d7",
   "metadata": {},
   "outputs": [
    {
     "name": "stdout",
     "output_type": "stream",
     "text": [
      "Before Oversampling: case_status\n",
      "1    13614\n",
      "0     6770\n",
      "Name: count, dtype: int64\n",
      "After Oversampling : case_status\n",
      "1    13614\n",
      "0    13614\n",
      "Name: count, dtype: int64\n"
     ]
    }
   ],
   "source": [
    "from imblearn.over_sampling import SMOTE\n",
    "\n",
    "# Apply SMOTE only to training data\n",
    "smote = SMOTE(random_state=42)\n",
    "X_train_os, y_train_os = smote.fit_resample(X_train, y_train)\n",
    "\n",
    "print(\"Before Oversampling:\", y_train.value_counts())\n",
    "print(\"After Oversampling :\", y_train_os.value_counts())"
   ]
  },
  {
   "cell_type": "markdown",
   "id": "6c1483ef-1588-4b21-a987-2e39d8dc4135",
   "metadata": {},
   "source": [
    "### Scale Oversampled Data for Boosting Models"
   ]
  },
  {
   "cell_type": "code",
   "execution_count": 80,
   "id": "80b2ec45-ba96-471b-a568-ca8d2420124c",
   "metadata": {},
   "outputs": [],
   "source": [
    "# Scale the oversampled data\n",
    "X_train_os_scaled = scaler.fit_transform(X_train_os)"
   ]
  },
  {
   "cell_type": "markdown",
   "id": "4cbae741-1c6a-4a25-bb98-ef6a549ed1c5",
   "metadata": {},
   "source": [
    "## Train Models on Oversampled Data"
   ]
  },
  {
   "cell_type": "markdown",
   "id": "8f4afac0-49ea-4241-a377-f8b63e563c22",
   "metadata": {},
   "source": [
    "### Decision Tree on Oversampled Data"
   ]
  },
  {
   "cell_type": "code",
   "execution_count": 83,
   "id": "e232efff-1fdd-4001-8239-5fb4e3e28431",
   "metadata": {},
   "outputs": [
    {
     "name": "stdout",
     "output_type": "stream",
     "text": [
      "\n",
      " Model: Decision Tree (Oversampled)\n",
      "Accuracy     : 0.6593\n",
      "F1 Score     : 0.7426\n",
      "ROC-AUC Score: 0.6208\n",
      "Classification Report:\n",
      "               precision    recall  f1-score   support\n",
      "\n",
      "           0       0.49      0.51      0.50      1692\n",
      "           1       0.75      0.74      0.74      3404\n",
      "\n",
      "    accuracy                           0.66      5096\n",
      "   macro avg       0.62      0.62      0.62      5096\n",
      "weighted avg       0.66      0.66      0.66      5096\n",
      "\n"
     ]
    }
   ],
   "source": [
    "dt_model_os = DecisionTreeClassifier(random_state=42)\n",
    "evaluate_model(\"Decision Tree (Oversampled)\", dt_model_os, X_train_os, y_train_os, X_test, y_test)"
   ]
  },
  {
   "cell_type": "markdown",
   "id": "2ddd3ecb-0828-46ab-bce3-a10a7e85421e",
   "metadata": {},
   "source": [
    "### Random Forest on Oversampled Data"
   ]
  },
  {
   "cell_type": "code",
   "execution_count": 85,
   "id": "53c0867e-ec48-49d7-b0cd-0f6d0b277304",
   "metadata": {},
   "outputs": [
    {
     "name": "stdout",
     "output_type": "stream",
     "text": [
      "\n",
      " Model: Random Forest (Oversampled)\n",
      "Accuracy     : 0.7133\n",
      "F1 Score     : 0.7909\n",
      "ROC-AUC Score: 0.7414\n",
      "Classification Report:\n",
      "               precision    recall  f1-score   support\n",
      "\n",
      "           0       0.58      0.52      0.54      1692\n",
      "           1       0.77      0.81      0.79      3404\n",
      "\n",
      "    accuracy                           0.71      5096\n",
      "   macro avg       0.67      0.66      0.67      5096\n",
      "weighted avg       0.71      0.71      0.71      5096\n",
      "\n"
     ]
    }
   ],
   "source": [
    "rf_model_os = RandomForestClassifier(random_state=42)\n",
    "evaluate_model(\"Random Forest (Oversampled)\", rf_model_os, X_train_os, y_train_os, X_test, y_test)"
   ]
  },
  {
   "cell_type": "markdown",
   "id": "975af447-80ca-4bd6-9275-cf041ec4b158",
   "metadata": {},
   "source": [
    "### Bagging Classifier on Oversampled Data"
   ]
  },
  {
   "cell_type": "code",
   "execution_count": 87,
   "id": "762c16e3-ef52-4115-a9d6-0e5ba543a516",
   "metadata": {},
   "outputs": [
    {
     "name": "stdout",
     "output_type": "stream",
     "text": [
      "\n",
      " Model: Bagging Classifier (Oversampled)\n",
      "Accuracy     : 0.6892\n",
      "F1 Score     : 0.7639\n",
      "ROC-AUC Score: 0.7085\n",
      "Classification Report:\n",
      "               precision    recall  f1-score   support\n",
      "\n",
      "           0       0.53      0.56      0.55      1692\n",
      "           1       0.78      0.75      0.76      3404\n",
      "\n",
      "    accuracy                           0.69      5096\n",
      "   macro avg       0.65      0.66      0.65      5096\n",
      "weighted avg       0.69      0.69      0.69      5096\n",
      "\n"
     ]
    }
   ],
   "source": [
    "bagging_model_os = BaggingClassifier(random_state=42)\n",
    "evaluate_model(\"Bagging Classifier (Oversampled)\", bagging_model_os, X_train_os, y_train_os, X_test, y_test)"
   ]
  },
  {
   "cell_type": "markdown",
   "id": "c5450826-fa41-4ae1-acef-2fcc3f535778",
   "metadata": {},
   "source": [
    "### AdaBoost on Oversampled Data"
   ]
  },
  {
   "cell_type": "code",
   "execution_count": 89,
   "id": "f0cdd042-a517-4b11-886e-8df8cf4148a2",
   "metadata": {},
   "outputs": [
    {
     "name": "stdout",
     "output_type": "stream",
     "text": [
      "\n",
      " Model: AdaBoost (Oversampled)\n",
      "Accuracy     : 0.7115\n",
      "F1 Score     : 0.7858\n",
      "ROC-AUC Score: 0.7373\n",
      "Classification Report:\n",
      "               precision    recall  f1-score   support\n",
      "\n",
      "           0       0.57      0.55      0.56      1692\n",
      "           1       0.78      0.79      0.79      3404\n",
      "\n",
      "    accuracy                           0.71      5096\n",
      "   macro avg       0.67      0.67      0.67      5096\n",
      "weighted avg       0.71      0.71      0.71      5096\n",
      "\n"
     ]
    }
   ],
   "source": [
    "adaboost_model_os = AdaBoostClassifier(algorithm=\"SAMME\", random_state=42)\n",
    "evaluate_model(\"AdaBoost (Oversampled)\", adaboost_model_os, X_train_os_scaled, y_train_os, X_test_scaled, y_test)"
   ]
  },
  {
   "cell_type": "markdown",
   "id": "bd18bb0d-4bab-4fde-8a6c-282fb96d2e84",
   "metadata": {},
   "source": [
    "### Gradient Boosting on Oversampled Data"
   ]
  },
  {
   "cell_type": "code",
   "execution_count": 91,
   "id": "c5b1ce65-6b99-4f97-adff-ed52b6abb942",
   "metadata": {},
   "outputs": [
    {
     "name": "stdout",
     "output_type": "stream",
     "text": [
      "\n",
      " Model: Gradient Boosting (Oversampled)\n",
      "Accuracy     : 0.7268\n",
      "F1 Score     : 0.8009\n",
      "ROC-AUC Score: 0.7602\n",
      "Classification Report:\n",
      "               precision    recall  f1-score   support\n",
      "\n",
      "           0       0.60      0.53      0.56      1692\n",
      "           1       0.78      0.82      0.80      3404\n",
      "\n",
      "    accuracy                           0.73      5096\n",
      "   macro avg       0.69      0.68      0.68      5096\n",
      "weighted avg       0.72      0.73      0.72      5096\n",
      "\n"
     ]
    }
   ],
   "source": [
    "gb_model_os = GradientBoostingClassifier(random_state=42)\n",
    "evaluate_model(\"Gradient Boosting (Oversampled)\", gb_model_os, X_train_os_scaled, y_train_os, X_test_scaled, y_test)"
   ]
  },
  {
   "cell_type": "markdown",
   "id": "5b783a17-146a-4bfe-bbe0-c52b3e98e19e",
   "metadata": {},
   "source": [
    "### Model Performance Summary – Oversampled Data\n",
    "\n",
    "| Model                    | Accuracy | F1 Score | ROC-AUC  | Remarks                                 |\n",
    "|--------------------------|----------|----------|----------|-----------------------------------------|\n",
    "| Decision Tree (OS)       | 0.65     | 0.74     | 0.62     | Slight boost, but still underperforms   |\n",
    "| Random Forest (OS)       | 0.71     | 0.79     | 0.74     | Improved recall on minority class       |\n",
    "| Bagging Classifier (OS)  | 0.68     | 0.76     | 0.70     | Marginal gains from resampling          |\n",
    "| AdaBoost (OS)            | 0.71     | 0.78     | 0.73     | Balanced improvement                    |\n",
    "| Gradient Boosting (OS)   | **0.72** | **0.80** | **0.76** | Still top performer with balanced gains |\n",
    "\n",
    "---\n",
    "\n",
    "### Key Observations:\n",
    "\n",
    "- **Gradient Boosting** remains the top performer after oversampling, showing consistent improvement across F1 and ROC-AUC.\n",
    "- **AdaBoost** and **Random Forest** showed modest improvements in F1 score and recall, especially for the minority class (`Denied`).\n",
    "- **Bagging** and **Decision Tree** benefited slightly from oversampling, but still lag behind the boosting models.\n",
    "- **Class balance** via SMOTE has reduced model bias toward the majority class, which is critical for fair visa processing recommendations.\n"
   ]
  },
  {
   "cell_type": "markdown",
   "id": "899a0a12-727a-4b6b-9c8d-845d875f8bf7",
   "metadata": {},
   "source": [
    "## Undersampling the Training Data"
   ]
  },
  {
   "cell_type": "code",
   "execution_count": 94,
   "id": "4d5e652f-28e6-4ad4-a287-8546e3a3b604",
   "metadata": {},
   "outputs": [
    {
     "name": "stdout",
     "output_type": "stream",
     "text": [
      "Before Undersampling: case_status\n",
      "1    13614\n",
      "0     6770\n",
      "Name: count, dtype: int64\n",
      "After Undersampling : case_status\n",
      "0    6770\n",
      "1    6770\n",
      "Name: count, dtype: int64\n"
     ]
    }
   ],
   "source": [
    "from imblearn.under_sampling import RandomUnderSampler\n",
    "\n",
    "# Apply undersampling on training data only\n",
    "rus = RandomUnderSampler(random_state=42)\n",
    "X_train_us, y_train_us = rus.fit_resample(X_train, y_train)\n",
    "\n",
    "# Check class balance\n",
    "print(\"Before Undersampling:\", y_train.value_counts())\n",
    "print(\"After Undersampling :\", y_train_us.value_counts())"
   ]
  },
  {
   "cell_type": "markdown",
   "id": "065efbed-02e1-4b4d-8fe8-76044738979e",
   "metadata": {},
   "source": [
    "## Scale Undersampled Data for Boosting Models"
   ]
  },
  {
   "cell_type": "code",
   "execution_count": 96,
   "id": "6c5a06c3-b191-42d7-a5b1-fc82e111a09b",
   "metadata": {},
   "outputs": [],
   "source": [
    "# Scale undersampled data for boosting models\n",
    "X_train_us_scaled = scaler.fit_transform(X_train_us)"
   ]
  },
  {
   "cell_type": "markdown",
   "id": "3f05bf04-4d3f-4ccc-8c36-0d6052093e07",
   "metadata": {},
   "source": [
    "## Retrain Models on Undersampled Data"
   ]
  },
  {
   "cell_type": "markdown",
   "id": "25a59523-0b6a-4953-8763-32f09a2df254",
   "metadata": {},
   "source": [
    "### Decision Tree on Undersampled Data"
   ]
  },
  {
   "cell_type": "code",
   "execution_count": 99,
   "id": "34c785d2-f7f3-48b0-9a9d-091216425646",
   "metadata": {},
   "outputs": [
    {
     "name": "stdout",
     "output_type": "stream",
     "text": [
      "\n",
      " Model: Decision Tree (Undersampled)\n",
      "Accuracy     : 0.6134\n",
      "F1 Score     : 0.6793\n",
      "ROC-AUC Score: 0.6137\n",
      "Classification Report:\n",
      "               precision    recall  f1-score   support\n",
      "\n",
      "           0       0.44      0.61      0.51      1692\n",
      "           1       0.76      0.61      0.68      3404\n",
      "\n",
      "    accuracy                           0.61      5096\n",
      "   macro avg       0.60      0.61      0.60      5096\n",
      "weighted avg       0.66      0.61      0.62      5096\n",
      "\n"
     ]
    }
   ],
   "source": [
    "dt_model_us = DecisionTreeClassifier(random_state=42)\n",
    "evaluate_model(\"Decision Tree (Undersampled)\", dt_model_us, X_train_us, y_train_us, X_test, y_test)"
   ]
  },
  {
   "cell_type": "markdown",
   "id": "17fcd660-8438-4803-a2f5-767308b73990",
   "metadata": {},
   "source": [
    "### Random Forest on Undersampled Data"
   ]
  },
  {
   "cell_type": "code",
   "execution_count": 101,
   "id": "21d86c69-c291-4d57-a0c3-1117f27ad7b3",
   "metadata": {},
   "outputs": [
    {
     "name": "stdout",
     "output_type": "stream",
     "text": [
      "\n",
      " Model: Random Forest (Undersampled)\n",
      "Accuracy     : 0.6733\n",
      "F1 Score     : 0.7313\n",
      "ROC-AUC Score: 0.7425\n",
      "Classification Report:\n",
      "               precision    recall  f1-score   support\n",
      "\n",
      "           0       0.51      0.69      0.58      1692\n",
      "           1       0.81      0.67      0.73      3404\n",
      "\n",
      "    accuracy                           0.67      5096\n",
      "   macro avg       0.66      0.68      0.66      5096\n",
      "weighted avg       0.71      0.67      0.68      5096\n",
      "\n"
     ]
    }
   ],
   "source": [
    "rf_model_us = RandomForestClassifier(random_state=42)\n",
    "evaluate_model(\"Random Forest (Undersampled)\", rf_model_us, X_train_us, y_train_us, X_test, y_test)"
   ]
  },
  {
   "cell_type": "markdown",
   "id": "a4d96669-9f94-48f5-b6a9-a983b5db1ea5",
   "metadata": {},
   "source": [
    "### Bagging Classifier on Undersampled Data"
   ]
  },
  {
   "cell_type": "code",
   "execution_count": 103,
   "id": "3cc96ffd-8fcb-4aea-9d70-9281746141e3",
   "metadata": {},
   "outputs": [
    {
     "name": "stdout",
     "output_type": "stream",
     "text": [
      "\n",
      " Model: Bagging Classifier (Undersampled)\n",
      "Accuracy     : 0.6460\n",
      "F1 Score     : 0.6964\n",
      "ROC-AUC Score: 0.7221\n",
      "Classification Report:\n",
      "               precision    recall  f1-score   support\n",
      "\n",
      "           0       0.48      0.72      0.58      1692\n",
      "           1       0.82      0.61      0.70      3404\n",
      "\n",
      "    accuracy                           0.65      5096\n",
      "   macro avg       0.65      0.67      0.64      5096\n",
      "weighted avg       0.70      0.65      0.66      5096\n",
      "\n"
     ]
    }
   ],
   "source": [
    "bagging_model_us = BaggingClassifier(random_state=42)\n",
    "evaluate_model(\"Bagging Classifier (Undersampled)\", bagging_model_us, X_train_us, y_train_us, X_test, y_test)"
   ]
  },
  {
   "cell_type": "markdown",
   "id": "1d695035-1091-49d9-9b96-c1919f81133e",
   "metadata": {},
   "source": [
    "### AdaBoost on Undersampled Data"
   ]
  },
  {
   "cell_type": "code",
   "execution_count": 105,
   "id": "ff5e735c-a797-436b-b2b5-e5bc7dfc1cb1",
   "metadata": {},
   "outputs": [
    {
     "name": "stdout",
     "output_type": "stream",
     "text": [
      "\n",
      " Model: AdaBoost (Undersampled)\n",
      "Accuracy     : 0.6784\n",
      "F1 Score     : 0.7414\n",
      "ROC-AUC Score: 0.7470\n",
      "Classification Report:\n",
      "               precision    recall  f1-score   support\n",
      "\n",
      "           0       0.51      0.65      0.57      1692\n",
      "           1       0.80      0.69      0.74      3404\n",
      "\n",
      "    accuracy                           0.68      5096\n",
      "   macro avg       0.66      0.67      0.66      5096\n",
      "weighted avg       0.71      0.68      0.69      5096\n",
      "\n"
     ]
    }
   ],
   "source": [
    "adaboost_model_us = AdaBoostClassifier(algorithm=\"SAMME\", random_state=42)\n",
    "evaluate_model(\"AdaBoost (Undersampled)\", adaboost_model_us, X_train_us_scaled, y_train_us, X_test_scaled, y_test)"
   ]
  },
  {
   "cell_type": "markdown",
   "id": "222af7b4-b6a6-4179-beb5-042436919674",
   "metadata": {},
   "source": [
    "### Gradient Boosting on Undersampled Data"
   ]
  },
  {
   "cell_type": "code",
   "execution_count": 107,
   "id": "00a33263-f0f4-4194-a79b-d146b94946dd",
   "metadata": {},
   "outputs": [
    {
     "name": "stdout",
     "output_type": "stream",
     "text": [
      "\n",
      " Model: Gradient Boosting (Undersampled)\n",
      "Accuracy     : 0.6935\n",
      "F1 Score     : 0.7532\n",
      "ROC-AUC Score: 0.7619\n",
      "Classification Report:\n",
      "               precision    recall  f1-score   support\n",
      "\n",
      "           0       0.53      0.68      0.60      1692\n",
      "           1       0.81      0.70      0.75      3404\n",
      "\n",
      "    accuracy                           0.69      5096\n",
      "   macro avg       0.67      0.69      0.67      5096\n",
      "weighted avg       0.72      0.69      0.70      5096\n",
      "\n"
     ]
    }
   ],
   "source": [
    "gb_model_us = GradientBoostingClassifier(random_state=42)\n",
    "evaluate_model(\"Gradient Boosting (Undersampled)\", gb_model_us, X_train_us_scaled, y_train_us, X_test_scaled, y_test)"
   ]
  },
  {
   "cell_type": "markdown",
   "id": "7d99a4be-b945-4786-8883-21c619f0636d",
   "metadata": {},
   "source": [
    "### Model Performance Summary – Undersampled Data\n",
    "\n",
    "| Model                      | Accuracy  | F1 Score  | ROC-AUC   | Remarks                                  |\n",
    "|----------------------------|-----------|-----------|-----------|------------------------------------------|\n",
    "| Decision Tree (US)         | 0.61      | 0.67      | 0.61      | Lower precision and generalization       |\n",
    "| Random Forest (US)         | 0.67      | 0.73      | 0.74      | Handles class balance well               |\n",
    "| Bagging Classifier (US)    | 0.64      | 0.69      | 0.72      | Good recall on minority class            |\n",
    "| AdaBoost (US)              | 0.67      | 0.74      | 0.74      | Solid tradeoff between classes           |\n",
    "| Gradient Boosting (US)     | **0.69**  | **0.75**  | **0.76**  | Strongest performer with best AUC        |\n",
    "\n",
    "---\n",
    "\n",
    "### Key Insights:\n",
    "\n",
    "- **Gradient Boosting** remains the best performer across original, oversampled, and undersampled data. Its robustness makes it a top candidate for tuning.\n",
    "- **AdaBoost** and **Random Forest** showed good generalization, especially balancing precision and recall after undersampling.\n",
    "- **Bagging** showed improvements in recall for the minority class (`Denied`), making it more fair despite lower overall accuracy.\n",
    "- **Decision Tree**, once again, lagged behind with lower scores and less stability across resampling strategies.\n",
    "- **Undersampling** helped balance the classes but slightly reduced accuracy and recall for the majority class — a typical trade-off.\n"
   ]
  },
  {
   "cell_type": "markdown",
   "id": "c11a987f-7819-46d0-aebb-8eff5db2afd8",
   "metadata": {},
   "source": [
    "# Hyperparameter Tuning (Top 3 Models)\n",
    "\n",
    "We'll tune the 3 best-performing models based on their consistent performance across original, oversampled, and undersampled data."
   ]
  },
  {
   "cell_type": "markdown",
   "id": "d5de3d4a-98dc-473c-9013-cca53794eeab",
   "metadata": {},
   "source": [
    "## Selected Models:\n",
    "\n",
    "- Gradient Boosting – Best accuracy, F1, and ROC-AUC across all settings\n",
    "- AdaBoost – Strong F1 and ROC-AUC, especially under oversampling\n",
    "- Random Forest – Reliable performance, good precision-recall tradeoff\n",
    "\n",
    "Each model will be tuned using GridSearchCV with cross-validation on the original training data, and then evaluated on the test set.\n"
   ]
  },
  {
   "cell_type": "markdown",
   "id": "ade92f8c-248a-433a-a3ae-e1bff4c42cd0",
   "metadata": {},
   "source": [
    "## Import Tuning Tools"
   ]
  },
  {
   "cell_type": "code",
   "execution_count": 112,
   "id": "3e7be2ee-a859-4694-8259-7f2e7d3e0b8d",
   "metadata": {},
   "outputs": [],
   "source": [
    "from sklearn.model_selection import GridSearchCV"
   ]
  },
  {
   "cell_type": "markdown",
   "id": "449481b4-8253-4a46-a9fc-df84c13c2116",
   "metadata": {},
   "source": [
    "## Tune Gradient Boosting"
   ]
  },
  {
   "cell_type": "code",
   "execution_count": 114,
   "id": "c535449c-5357-459f-9ee6-69ca3812da2f",
   "metadata": {},
   "outputs": [
    {
     "name": "stdout",
     "output_type": "stream",
     "text": [
      "Best Gradient Boosting Parameters: {'learning_rate': 0.05, 'max_depth': 3, 'n_estimators': 100}\n",
      "\n",
      " Model: Tuned Gradient Boosting\n",
      "Accuracy     : 0.7396\n",
      "F1 Score     : 0.8174\n",
      "ROC-AUC Score: 0.7665\n",
      "Classification Report:\n",
      "               precision    recall  f1-score   support\n",
      "\n",
      "           0       0.65      0.47      0.55      1692\n",
      "           1       0.77      0.87      0.82      3404\n",
      "\n",
      "    accuracy                           0.74      5096\n",
      "   macro avg       0.71      0.67      0.68      5096\n",
      "weighted avg       0.73      0.74      0.73      5096\n",
      "\n"
     ]
    }
   ],
   "source": [
    "# Define parameter grid for Gradient Boosting\n",
    "gb_params = {\n",
    "    'n_estimators': [100, 200],\n",
    "    'learning_rate': [0.05, 0.1],\n",
    "    'max_depth': [3, 5]\n",
    "}\n",
    "\n",
    "# Initialize model\n",
    "gb = GradientBoostingClassifier(random_state=42)\n",
    "\n",
    "# Grid Search\n",
    "gb_grid = GridSearchCV(estimator=gb, param_grid=gb_params, cv=5, scoring='f1', n_jobs=-1)\n",
    "gb_grid.fit(X_train_scaled, y_train)\n",
    "\n",
    "# Best parameters and evaluation\n",
    "print(\"Best Gradient Boosting Parameters:\", gb_grid.best_params_)\n",
    "evaluate_model(\"Tuned Gradient Boosting\", gb_grid.best_estimator_, X_train_scaled, y_train, X_test_scaled, y_test)"
   ]
  },
  {
   "cell_type": "markdown",
   "id": "ac0c4c49-62b5-40d6-924a-365d87c48061",
   "metadata": {},
   "source": [
    "## Tune AdaBoost"
   ]
  },
  {
   "cell_type": "code",
   "execution_count": 116,
   "id": "b5a53ad8-319f-4f6c-b0ee-bb7cc8ff2d01",
   "metadata": {},
   "outputs": [
    {
     "name": "stdout",
     "output_type": "stream",
     "text": [
      "Best AdaBoost Parameters: {'learning_rate': 1.0, 'n_estimators': 50}\n",
      "\n",
      " Model: Tuned AdaBoost\n",
      "Accuracy     : 0.7257\n",
      "F1 Score     : 0.8119\n",
      "ROC-AUC Score: 0.7536\n",
      "Classification Report:\n",
      "               precision    recall  f1-score   support\n",
      "\n",
      "           0       0.64      0.40      0.49      1692\n",
      "           1       0.75      0.89      0.81      3404\n",
      "\n",
      "    accuracy                           0.73      5096\n",
      "   macro avg       0.69      0.64      0.65      5096\n",
      "weighted avg       0.71      0.73      0.71      5096\n",
      "\n"
     ]
    }
   ],
   "source": [
    "# Parameter grid for AdaBoost\n",
    "ada_params = {\n",
    "    'n_estimators': [50, 100, 200],\n",
    "    'learning_rate': [0.5, 1.0]\n",
    "}\n",
    "\n",
    "ada = AdaBoostClassifier(algorithm=\"SAMME\", random_state=42)\n",
    "\n",
    "# Grid Search\n",
    "ada_grid = GridSearchCV(estimator=ada, param_grid=ada_params, cv=5, scoring='f1', n_jobs=-1)\n",
    "ada_grid.fit(X_train_scaled, y_train)\n",
    "\n",
    "# Best parameters and evaluation\n",
    "print(\"Best AdaBoost Parameters:\", ada_grid.best_params_)\n",
    "evaluate_model(\"Tuned AdaBoost\", ada_grid.best_estimator_, X_train_scaled, y_train, X_test_scaled, y_test)"
   ]
  },
  {
   "cell_type": "markdown",
   "id": "4bc9511f-afd1-4db6-b1a2-42d7f1d42a07",
   "metadata": {},
   "source": [
    "## Tune Random Forest"
   ]
  },
  {
   "cell_type": "code",
   "execution_count": 118,
   "id": "90ac6b45-fd4e-428a-9aa6-dff121eed9b5",
   "metadata": {},
   "outputs": [
    {
     "name": "stdout",
     "output_type": "stream",
     "text": [
      "Best Random Forest Parameters: {'max_depth': 10, 'min_samples_split': 2, 'n_estimators': 100}\n",
      "\n",
      " Model: Tuned Random Forest\n",
      "Accuracy     : 0.7392\n",
      "F1 Score     : 0.8170\n",
      "ROC-AUC Score: 0.7717\n",
      "Classification Report:\n",
      "               precision    recall  f1-score   support\n",
      "\n",
      "           0       0.65      0.47      0.55      1692\n",
      "           1       0.77      0.87      0.82      3404\n",
      "\n",
      "    accuracy                           0.74      5096\n",
      "   macro avg       0.71      0.67      0.68      5096\n",
      "weighted avg       0.73      0.74      0.73      5096\n",
      "\n"
     ]
    }
   ],
   "source": [
    "# Parameter grid for Random Forest\n",
    "rf_params = {\n",
    "    'n_estimators': [100, 200],\n",
    "    'max_depth': [None, 10, 20],\n",
    "    'min_samples_split': [2, 5]\n",
    "}\n",
    "\n",
    "rf = RandomForestClassifier(random_state=42)\n",
    "\n",
    "# Grid Search\n",
    "rf_grid = GridSearchCV(estimator=rf, param_grid=rf_params, cv=5, scoring='f1', n_jobs=-1)\n",
    "rf_grid.fit(X_train, y_train)\n",
    "\n",
    "# Best parameters and evaluation\n",
    "print(\"Best Random Forest Parameters:\", rf_grid.best_params_)\n",
    "evaluate_model(\"Tuned Random Forest\", rf_grid.best_estimator_, X_train, y_train, X_test, y_test)"
   ]
  },
  {
   "cell_type": "markdown",
   "id": "697c9244-d238-40db-a730-78e94b151725",
   "metadata": {},
   "source": [
    "### Tuned Model Performance Summary\n",
    "\n",
    "| Model              | Accuracy | F1 Score  | ROC-AUC   | Best Parameters                                 | Remarks                          |\n",
    "|-------------------|-----------|-----------|-----------|--------------------------------------------------|----------------------------------|\n",
    "| Gradient Boosting | 0.7396    | 0.8174    | 0.7665    | `learning_rate=0.05`, `max_depth=3`, `n_estimators=100` | Top performer, balanced and robust |\n",
    "| Random Forest     | 0.7392    | 0.8170    | **0.7717**| `max_depth=10`, `min_samples_split=2`, `n_estimators=100` | Slightly better AUC, stable     |\n",
    "| AdaBoost          | 0.7257    | 0.8119    | 0.7536    | `learning_rate=1.0`, `n_estimators=50`           | Performs well, favors majority class |\n",
    "\n",
    "---\n",
    "\n",
    "### Observations:\n",
    "\n",
    "- **Gradient Boosting** consistently ranks among the best with a strong F1 score and AUC, making it the most balanced and reliable model.\n",
    "- **Random Forest** edges out slightly in ROC-AUC, indicating better ranking of predictions, and performs almost identically to Gradient Boosting.\n",
    "- **AdaBoost** performs well on the majority class (`Certified`) but struggles with precision on the minority class.\n"
   ]
  },
  {
   "cell_type": "markdown",
   "id": "610a1dfd-42e8-46c1-b929-e0d3fba68915",
   "metadata": {},
   "source": [
    "# Final Model Selection & Evaluation\n",
    "\n",
    "After tuning and evaluating all three models, the final selection is based on:\n",
    "\n",
    "- **F1 Score**: Indicates overall balance between precision and recall\n",
    "- **ROC-AUC**: Measures the ranking quality of predictions\n",
    "- **Class Balance**: Ensuring both `Certified` and `Denied` classes are represented fairly\n",
    "- **Consistency**: Stable performance across original, oversampled, and undersampled datasets\n",
    "\n",
    "## Chosen Final Model: **Tuned Gradient Boosting Classifier**\n",
    "\n",
    "It offers:\n",
    "- F1 Score: **0.81**\n",
    "- Accuracy: **0.73**\n",
    "- ROC-AUC: **0.76**\n",
    "\n",
    "This model strikes the best trade-off between generalization and decision quality, making it ideal for practical visa screening.\n",
    "\n",
    "---\n",
    "\n",
    "## Final Test Performance\n",
    "\n",
    "We now validate the final model's performance on the **hold-out test set**, already done via:\n"
   ]
  },
  {
   "cell_type": "code",
   "execution_count": 121,
   "id": "8a683837-46aa-429f-bd54-5f9f98c6ec91",
   "metadata": {},
   "outputs": [
    {
     "name": "stdout",
     "output_type": "stream",
     "text": [
      "\n",
      " Model: Final Model – Tuned Gradient Boosting\n",
      "Accuracy     : 0.7396\n",
      "F1 Score     : 0.8174\n",
      "ROC-AUC Score: 0.7665\n",
      "Classification Report:\n",
      "               precision    recall  f1-score   support\n",
      "\n",
      "           0       0.65      0.47      0.55      1692\n",
      "           1       0.77      0.87      0.82      3404\n",
      "\n",
      "    accuracy                           0.74      5096\n",
      "   macro avg       0.71      0.67      0.68      5096\n",
      "weighted avg       0.73      0.74      0.73      5096\n",
      "\n"
     ]
    }
   ],
   "source": [
    "evaluate_model(\"Final Model – Tuned Gradient Boosting\", gb_grid.best_estimator_, X_train_scaled, y_train, X_test_scaled, y_test)"
   ]
  },
  {
   "cell_type": "markdown",
   "id": "628e56fe-c68d-417f-abe7-25e32bb0773c",
   "metadata": {},
   "source": [
    "# Actionable Insights & Business Recommendations\n",
    "\n",
    "## Model Performance Comparison\n",
    "\n",
    "Across original, oversampled, and undersampled datasets, ensemble models like **Gradient Boosting** and **Random Forest** consistently outperformed simpler classifiers like Decision Tree.\n",
    "\n",
    "Key Observations:\n",
    "- **Gradient Boosting** achieved the highest F1 score (**0.8174**) and excellent generalization across class imbalance.\n",
    "- **Random Forest** performed very close to Gradient Boosting, with slightly better ROC-AUC (**0.7717**).\n",
    "- **AdaBoost** was competitive, especially in identifying `Certified` applications, but had lower precision on the `Denied` class.\n",
    "\n",
    "## Feature Impact:\n",
    "- Features like `normalized_wage`, `has_job_experience`, and `full_time_position` were observed to be significant indicators of visa approval.\n",
    "- `Region of employment` and `education level` also contributed to model predictions.\n",
    "\n",
    "---\n",
    "\n",
    "## Business Takeaways for EasyVisa & OFLC:\n",
    "\n",
    "1. **Automated Shortlisting**: The chosen model can help automatically identify visa applications with a high likelihood of certification, enabling faster decision-making and prioritization.\n",
    "2. **Policy Validation**: Key features influencing visa decisions (e.g., wage, experience) validate existing policy priorities around fair labor conditions and job readiness.\n",
    "3. **Risk Reduction**: Applicants with low predicted probability of approval can be flagged early for manual review, reducing overall case processing time and appeals.\n",
    "4. **Fairness Consideration**: Oversampling and class balancing techniques improve the model's ability to handle minority class (`Denied`) predictions, ensuring fair evaluation of all cases.\n",
    "\n",
    "---\n",
    "\n",
    "## Recommendation:\n",
    "\n",
    "Deploy the **Tuned Gradient Boosting Classifier** as part of EasyVisa's workflow to:\n",
    "- Assist visa screening officers\n",
    "- Improve processing efficiency\n",
    "- Maintain high fairness and prediction reliability"
   ]
  },
  {
   "cell_type": "code",
   "execution_count": null,
   "id": "f6a322bd-5639-445a-9c78-e6d784dc8022",
   "metadata": {},
   "outputs": [],
   "source": []
  }
 ],
 "metadata": {
  "kernelspec": {
   "display_name": "Python 3 (ipykernel)",
   "language": "python",
   "name": "python3"
  },
  "language_info": {
   "codemirror_mode": {
    "name": "ipython",
    "version": 3
   },
   "file_extension": ".py",
   "mimetype": "text/x-python",
   "name": "python",
   "nbconvert_exporter": "python",
   "pygments_lexer": "ipython3",
   "version": "3.12.7"
  }
 },
 "nbformat": 4,
 "nbformat_minor": 5
}
