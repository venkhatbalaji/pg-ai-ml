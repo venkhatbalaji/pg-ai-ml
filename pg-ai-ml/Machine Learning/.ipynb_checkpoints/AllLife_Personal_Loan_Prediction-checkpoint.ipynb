{
 "cells": [
  {
   "cell_type": "markdown",
   "id": "790302d3",
   "metadata": {},
   "source": [
    "# 🏦 AllLife Bank: Personal Loan Prediction\n",
    "\n",
    "## 🎯 Objective\n",
    "Predict whether a liability customer will buy a personal loan and identify the key customer attributes influencing this decision.\n",
    "\n"
   ]
  },
  {
   "cell_type": "markdown",
   "id": "44ba139a",
   "metadata": {},
   "source": [
    "## 📘 Problem Context\n",
    "\n",
    "AllLife Bank is looking to expand its loan customer base. A previous campaign converted over 9% of depositors to loan customers. You, as a data scientist, must identify potential buyers and guide marketing efforts for higher ROI campaigns.\n",
    "\n",
    "### 🧠 Problem Statement\n",
    "\n",
    "To identify potential personal loan buyers among existing depositors using classification models.\n",
    "\n",
    "### 🔍 Data Dictionary\n",
    "- **ID**: Customer ID\n",
    "- **Age**: Customer age in years\n",
    "- **Experience**: Years of professional experience\n",
    "- **Income**: Annual income (in $1000s)\n",
    "- **ZIP Code**: Customer's ZIP code\n",
    "- **Family**: Family size\n",
    "- **CCAvg**: Average monthly credit card spending (in $1000s)\n",
    "- **Education**: 1 = Undergrad, 2 = Graduate, 3 = Advanced/Professional\n",
    "- **Mortgage**: Value of house mortgage (if any)\n",
    "- **Personal_Loan**: Target variable (1 if accepted loan, else 0)\n",
    "- **Securities_Account**: 1 if customer has one, else 0\n",
    "- **CD_Account**: 1 if has certificate of deposit, else 0\n",
    "- **Online**: 1 if uses online banking, else 0\n",
    "- **CreditCard**: 1 if has external bank credit card, else 0\n"
   ]
  },
  {
   "cell_type": "code",
   "execution_count": null,
   "id": "ad387002",
   "metadata": {},
   "outputs": [],
   "source": [
    "import pandas as pd\n",
    "\n",
    "df = pd.read_csv(\"/mnt/data/Loan_Modelling.csv\")\n",
    "df.head()"
   ]
  },
  {
   "cell_type": "code",
   "execution_count": null,
   "id": "320f3701",
   "metadata": {},
   "outputs": [],
   "source": [
    "# Dataset overview\n",
    "{\n",
    "    \"shape\": df.shape,\n",
    "    \"columns\": df.columns.tolist(),\n",
    "    \"dtypes\": df.dtypes,\n",
    "    \"missing_values\": df.isnull().sum(),\n",
    "    \"duplicate_rows\": df.duplicated().sum(),\n",
    "    \"target_distribution\": df[\"Personal_Loan\"].value_counts(normalize=True)\n",
    "}"
   ]
  },
  {
   "cell_type": "code",
   "execution_count": null,
   "id": "677dd895",
   "metadata": {},
   "outputs": [],
   "source": [
    "import matplotlib.pyplot as plt\n",
    "import seaborn as sns\n",
    "\n",
    "def plot_univariate_distributions(data):\n",
    "    numerical = data.select_dtypes(include=[\"int64\", \"float64\"]).columns.drop([\"ID\", \"ZIPCode\", \"Personal_Loan\"])\n",
    "    categorical = [\"Education\", \"Family\", \"Securities_Account\", \"CD_Account\", \"Online\", \"CreditCard\"]\n",
    "\n",
    "    for col in numerical:\n",
    "        plt.figure(figsize=(6, 4))\n",
    "        sns.histplot(data[col], kde=True, bins=30)\n",
    "        plt.title(f\"Distribution of {col}\")\n",
    "        plt.show()\n",
    "\n",
    "    for col in categorical:\n",
    "        plt.figure(figsize=(6, 4))\n",
    "        sns.countplot(x=col, data=data)\n",
    "        plt.title(f\"Count plot of {col}\")\n",
    "        plt.show()\n",
    "\n",
    "plot_univariate_distributions(df)"
   ]
  },
  {
   "cell_type": "markdown",
   "id": "e80f67aa",
   "metadata": {},
   "source": [
    "## 🔎 Key Observations\n",
    "\n",
    "- No missing values or duplicates.\n",
    "- Data is moderately skewed in `CCAvg` and `Mortgage`.\n",
    "- Education, family size, and online usage appear categorical and useful.\n",
    "- The positive loan acceptance rate is ~9.6%, showing class imbalance.\n"
   ]
  }
 ],
 "metadata": {},
 "nbformat": 4,
 "nbformat_minor": 5
}
