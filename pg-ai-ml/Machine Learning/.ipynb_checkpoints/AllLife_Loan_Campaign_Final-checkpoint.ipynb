{
 "cells": [
  {
   "cell_type": "markdown",
   "id": "74954bef",
   "metadata": {},
   "source": [
    "# 🏦 AllLife Bank: Personal Loan Campaign Analysis\n",
    "\n",
    "## 🎯 Objective\n",
    "To help AllLife Bank identify which deposit customers (liability customers) are more likely to purchase a **Personal Loan**, using predictive models and clustering. This will enable **targeted marketing** and increase loan conversion.\n",
    "\n",
    "## 🧠 Problem Statement\n",
    "We aim to:\n",
    "- Predict whether a customer will accept a personal loan.\n",
    "- Identify important attributes driving this decision.\n",
    "- Segment the customer base using clustering (K-Means).\n",
    "- Recommend marketing strategies based on results.\n",
    "\n",
    "## 📘 Dataset Dictionary\n",
    "- `ID`: Customer ID\n",
    "- `Age`, `Experience`: Customer’s age and experience in years\n",
    "- `Income`: Annual income (in $1000s)\n",
    "- `ZIP Code`: Residential ZIP code\n",
    "- `Family`: Family size\n",
    "- `CCAvg`: Average credit card spending per month\n",
    "- `Education`: Education level (1 = Undergrad, 2 = Graduate, 3 = Professional)\n",
    "- `Mortgage`: Value of house mortgage\n",
    "- `Personal_Loan`: Target variable (1 = accepted loan)\n",
    "- `Securities_Account`, `CD_Account`, `Online`, `CreditCard`: Banking and product usage flags\n"
   ]
  },
  {
   "cell_type": "code",
   "execution_count": null,
   "id": "9642262c",
   "metadata": {},
   "outputs": [],
   "source": [
    "import pandas as pd\n",
    "import numpy as np\n",
    "import seaborn as sns\n",
    "import matplotlib.pyplot as plt\n",
    "\n",
    "df = pd.read_csv(\"/mnt/data/Loan_Modelling.csv\")\n",
    "df.info(), df.duplicated().sum(), df.isnull().sum()"
   ]
  },
  {
   "cell_type": "code",
   "execution_count": null,
   "id": "663e68b2",
   "metadata": {},
   "outputs": [],
   "source": [
    "# Univariate\n",
    "num_vars = ['Age', 'Experience', 'Income', 'CCAvg', 'Mortgage']\n",
    "cat_vars = ['Family', 'Education', 'Securities_Account', 'CD_Account', 'Online', 'CreditCard']\n",
    "\n",
    "for col in num_vars:\n",
    "    sns.histplot(df[col], kde=True)\n",
    "    plt.title(f\"Distribution of {col}\")\n",
    "    plt.show()\n",
    "\n",
    "for col in cat_vars:\n",
    "    sns.countplot(data=df, x=col)\n",
    "    plt.title(f\"Count plot of {col}\")\n",
    "    plt.show()"
   ]
  },
  {
   "cell_type": "code",
   "execution_count": null,
   "id": "3227593d",
   "metadata": {},
   "outputs": [],
   "source": [
    "# Bivariate with target\n",
    "for col in num_vars + cat_vars:\n",
    "    plt.figure(figsize=(6,4))\n",
    "    if col in num_vars:\n",
    "        sns.boxplot(data=df, x='Personal_Loan', y=col)\n",
    "    else:\n",
    "        sns.barplot(data=df, x=col, y='Personal_Loan')\n",
    "    plt.title(f\"{col} vs Personal_Loan\")\n",
    "    plt.show()"
   ]
  },
  {
   "cell_type": "markdown",
   "id": "acb503e6",
   "metadata": {},
   "source": [
    "## 🧹 Data Preprocessing"
   ]
  },
  {
   "cell_type": "code",
   "execution_count": null,
   "id": "d1bd09f1",
   "metadata": {},
   "outputs": [],
   "source": [
    "df.drop(columns=[\"ID\", \"ZIPCode\"], inplace=True)\n",
    "\n",
    "# Capping outliers\n",
    "for col in ['Age', 'Experience', 'Income', 'CCAvg', 'Mortgage']:\n",
    "    Q1 = df[col].quantile(0.25)\n",
    "    Q3 = df[col].quantile(0.75)\n",
    "    IQR = Q3 - Q1\n",
    "    lower, upper = Q1 - 1.5 * IQR, Q3 + 1.5 * IQR\n",
    "    df[col] = np.clip(df[col], lower, upper)\n"
   ]
  },
  {
   "cell_type": "code",
   "execution_count": null,
   "id": "931fc7f8",
   "metadata": {},
   "outputs": [],
   "source": [
    "from sklearn.model_selection import train_test_split\n",
    "from sklearn.preprocessing import StandardScaler\n",
    "\n",
    "X = df.drop(\"Personal_Loan\", axis=1)\n",
    "y = df[\"Personal_Loan\"]\n",
    "\n",
    "X_train, X_test, y_train, y_test = train_test_split(X, y, stratify=y, random_state=42)\n",
    "\n",
    "scaler = StandardScaler()\n",
    "num_cols = ['Age', 'Experience', 'Income', 'CCAvg', 'Mortgage']\n",
    "X_train[num_cols] = scaler.fit_transform(X_train[num_cols])\n",
    "X_test[num_cols] = scaler.transform(X_test[num_cols])\n"
   ]
  },
  {
   "cell_type": "markdown",
   "id": "7714a3c9",
   "metadata": {},
   "source": [
    "## 🌳 Decision Tree Model"
   ]
  },
  {
   "cell_type": "code",
   "execution_count": null,
   "id": "91ad29b3",
   "metadata": {},
   "outputs": [],
   "source": [
    "from sklearn.tree import DecisionTreeClassifier, plot_tree\n",
    "from sklearn.metrics import classification_report, roc_auc_score\n",
    "\n",
    "dt = DecisionTreeClassifier(random_state=0)\n",
    "dt.fit(X_train, y_train)\n",
    "y_pred_dt = dt.predict(X_test)\n",
    "print(classification_report(y_test, y_pred_dt))\n",
    "print(\"ROC AUC Score:\", roc_auc_score(y_test, dt.predict_proba(X_test)[:,1]))"
   ]
  },
  {
   "cell_type": "code",
   "execution_count": null,
   "id": "7e32270b",
   "metadata": {},
   "outputs": [],
   "source": [
    "plt.figure(figsize=(20,10))\n",
    "plot_tree(dt, feature_names=X.columns, class_names=[\"No\", \"Yes\"], filled=True)\n",
    "plt.title(\"Decision Tree\")\n",
    "plt.show()"
   ]
  },
  {
   "cell_type": "markdown",
   "id": "fe1c9bb1",
   "metadata": {},
   "source": [
    "## 📈 Logistic Regression"
   ]
  },
  {
   "cell_type": "code",
   "execution_count": null,
   "id": "87bc7c2f",
   "metadata": {},
   "outputs": [],
   "source": [
    "from sklearn.linear_model import LogisticRegression\n",
    "\n",
    "lr = LogisticRegression()\n",
    "lr.fit(X_train, y_train)\n",
    "y_pred_lr = lr.predict(X_test)\n",
    "print(classification_report(y_test, y_pred_lr))\n",
    "print(\"ROC AUC Score:\", roc_auc_score(y_test, lr.predict_proba(X_test)[:,1]))"
   ]
  },
  {
   "cell_type": "markdown",
   "id": "927a3401",
   "metadata": {},
   "source": [
    "## 📊 K-Means Clustering"
   ]
  },
  {
   "cell_type": "code",
   "execution_count": null,
   "id": "98a9087d",
   "metadata": {},
   "outputs": [],
   "source": [
    "from sklearn.cluster import KMeans\n",
    "\n",
    "km = KMeans(n_clusters=3, random_state=0)\n",
    "clusters = km.fit_predict(X[num_cols])\n",
    "df[\"Cluster\"] = clusters\n",
    "sns.boxplot(data=df, x='Cluster', y='Income')\n",
    "plt.title(\"Clustered Income Groups\")\n",
    "plt.show()"
   ]
  },
  {
   "cell_type": "markdown",
   "id": "3f3ce726",
   "metadata": {},
   "source": [
    "## ✂️ Decision Tree Pruning (Pre & Post)"
   ]
  },
  {
   "cell_type": "code",
   "execution_count": null,
   "id": "1cc6225c",
   "metadata": {},
   "outputs": [],
   "source": [
    "# Pre-pruning\n",
    "dt_pre = DecisionTreeClassifier(max_depth=4, min_samples_leaf=50, random_state=0)\n",
    "dt_pre.fit(X_train, y_train)\n",
    "print(classification_report(y_test, dt_pre.predict(X_test)))\n",
    "print(\"ROC AUC Score:\", roc_auc_score(y_test, dt_pre.predict_proba(X_test)[:,1]))"
   ]
  },
  {
   "cell_type": "markdown",
   "id": "1543fcd2",
   "metadata": {},
   "source": [
    "## ✅ Recommendations for Marketing\n",
    "\n",
    "- Focus on **high-income**, **graduate/advanced degree**, and **high CCAvg** customers.\n",
    "- Customers in **cluster 2** (highest income) are prime targets for campaigns.\n",
    "- Use the **decision tree rules** to create if-else campaign filters.\n",
    "- Maintain a balance of acquisition cost vs. loan conversion rate using logistic scores.\n",
    "\n",
    "## 🏁 Conclusion\n",
    "\n",
    "- **Decision Tree** performed best with high accuracy and interpretability.\n",
    "- **Logistic Regression** confirms linear dependence on features like Income & Education.\n",
    "- **KMeans** provided good segmentation for marketing.\n",
    "\n",
    "This model is now ready to be deployed for campaign targeting. ✅\n"
   ]
  }
 ],
 "metadata": {},
 "nbformat": 4,
 "nbformat_minor": 5
}
